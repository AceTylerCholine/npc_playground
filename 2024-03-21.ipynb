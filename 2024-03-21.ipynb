{
 "cells": [
  {
   "cell_type": "code",
   "execution_count": 1,
   "id": "80c8a722-8aa9-4aad-830c-dc34bc3dcb7e",
   "metadata": {},
   "outputs": [
    {
     "name": "stdout",
     "output_type": "stream",
     "text": [
      "All set to analyze\n"
     ]
    },
    {
     "ename": "MemoryError",
     "evalue": "Unable to allocate 502. MiB for an array with shape (21, 3134853) and data type float64",
     "output_type": "error",
     "traceback": [
      "\u001b[1;31m---------------------------------------------------------------------------\u001b[0m",
      "\u001b[1;31mMemoryError\u001b[0m                               Traceback (most recent call last)",
      "Cell \u001b[1;32mIn[1], line 10\u001b[0m\n\u001b[0;32m      6\u001b[0m \u001b[38;5;28;01mimport\u001b[39;00m \u001b[38;5;21;01mmultirecording_spikeanalysis\u001b[39;00m \u001b[38;5;28;01mas\u001b[39;00m \u001b[38;5;21;01mspike\u001b[39;00m\n\u001b[0;32m      8\u001b[0m ephys_data \u001b[38;5;241m=\u001b[39m pickle\u001b[38;5;241m.\u001b[39mload(\u001b[38;5;28mopen\u001b[39m(\u001b[38;5;124m'\u001b[39m\u001b[38;5;124mephys_data.pkl\u001b[39m\u001b[38;5;124m'\u001b[39m, \u001b[38;5;124m'\u001b[39m\u001b[38;5;124mrb\u001b[39m\u001b[38;5;124m'\u001b[39m))\n\u001b[1;32m---> 10\u001b[0m spike_analysis \u001b[38;5;241m=\u001b[39m spike\u001b[38;5;241m.\u001b[39mSpikeAnalysis_MultiRecording(ephys_data)\n",
      "File \u001b[1;32m~\\Documents\\GitHub\\npc_playground\\multirecording_spikeanalysis.py:639\u001b[0m, in \u001b[0;36mSpikeAnalysis_MultiRecording.__init__\u001b[1;34m(self, ephyscollection, smoothing_window, timebin, ignore_freq)\u001b[0m\n\u001b[0;32m    637\u001b[0m \u001b[38;5;28mself\u001b[39m\u001b[38;5;241m.\u001b[39mignore_freq \u001b[38;5;241m=\u001b[39m ignore_freq\n\u001b[0;32m    638\u001b[0m \u001b[38;5;28mself\u001b[39m\u001b[38;5;241m.\u001b[39mPCA_matrix \u001b[38;5;241m=\u001b[39m \u001b[38;5;28;01mNone\u001b[39;00m\n\u001b[1;32m--> 639\u001b[0m \u001b[38;5;28mself\u001b[39m\u001b[38;5;241m.\u001b[39m__all_set__()\n",
      "File \u001b[1;32m~\\Documents\\GitHub\\npc_playground\\multirecording_spikeanalysis.py:696\u001b[0m, in \u001b[0;36mSpikeAnalysis_MultiRecording.__all_set__\u001b[1;34m(self)\u001b[0m\n\u001b[0;32m    694\u001b[0m \u001b[38;5;28mself\u001b[39m\u001b[38;5;241m.\u001b[39m__get_whole_spiketrain__()\n\u001b[0;32m    695\u001b[0m \u001b[38;5;28mself\u001b[39m\u001b[38;5;241m.\u001b[39m__get_unit_spiketrains__()\n\u001b[1;32m--> 696\u001b[0m \u001b[38;5;28mself\u001b[39m\u001b[38;5;241m.\u001b[39m__get_unit_firing_rates__()\n",
      "File \u001b[1;32m~\\Documents\\GitHub\\npc_playground\\multirecording_spikeanalysis.py:781\u001b[0m, in \u001b[0;36mSpikeAnalysis_MultiRecording.__get_unit_firing_rates__\u001b[1;34m(self)\u001b[0m\n\u001b[0;32m    775\u001b[0m     unit_firing_rates[unit] \u001b[38;5;241m=\u001b[39m get_firing_rate(\n\u001b[0;32m    776\u001b[0m         recording\u001b[38;5;241m.\u001b[39munit_spiketrains[unit],\n\u001b[0;32m    777\u001b[0m         \u001b[38;5;28mself\u001b[39m\u001b[38;5;241m.\u001b[39msmoothing_window,\n\u001b[0;32m    778\u001b[0m         \u001b[38;5;28mself\u001b[39m\u001b[38;5;241m.\u001b[39mtimebin,\n\u001b[0;32m    779\u001b[0m     )\n\u001b[0;32m    780\u001b[0m recording\u001b[38;5;241m.\u001b[39munit_firing_rates \u001b[38;5;241m=\u001b[39m unit_firing_rates\n\u001b[1;32m--> 781\u001b[0m recording\u001b[38;5;241m.\u001b[39munit_firing_rate_array \u001b[38;5;241m=\u001b[39m np\u001b[38;5;241m.\u001b[39marray(\n\u001b[0;32m    782\u001b[0m     [unit_firing_rates[key] \u001b[38;5;28;01mfor\u001b[39;00m key \u001b[38;5;129;01min\u001b[39;00m unit_firing_rates]\n\u001b[0;32m    783\u001b[0m )\n",
      "\u001b[1;31mMemoryError\u001b[0m: Unable to allocate 502. MiB for an array with shape (21, 3134853) and data type float64"
     ]
    }
   ],
   "source": [
    "import pandas as pd\n",
    "import numpy as np\n",
    "import ast\n",
    "import pickle\n",
    "from pathlib import Path\n",
    "import multirecording_spikeanalysis as spike\n",
    "\n",
    "ephys_data = pickle.load(open('ephys_data.pkl', 'rb'))\n",
    "\n",
    "spike_analysis = spike.SpikeAnalysis_MultiRecording(ephys_data)"
   ]
  },
  {
   "cell_type": "code",
   "execution_count": 2,
   "id": "6c158c7b-56a1-4334-adee-dc032182e2cd",
   "metadata": {},
   "outputs": [
    {
     "name": "stdout",
     "output_type": "stream",
     "text": [
      "<class 'numpy.ndarray'>\n",
      "<class 'numpy.ndarray'>\n",
      "20230617_115521_standard_comp_to_omission_D1_subj_1-1_t1b3L_box1_merged.rec\n",
      "<class 'numpy.ndarray'>\n",
      "<class 'numpy.ndarray'>\n",
      "20230617_115521_standard_comp_to_omission_D1_subj_1-2_t2b2L_box2_merged.rec\n",
      "<class 'numpy.ndarray'>\n",
      "<class 'numpy.ndarray'>\n",
      "20230618_100636_standard_comp_to_omission_D2_subj_1-1_t1b2L_box2_merged.rec\n",
      "<class 'numpy.ndarray'>\n",
      "<class 'numpy.ndarray'>\n",
      "20230618_100636_standard_comp_to_omission_D2_subj_1-4_t4b3L_box1_merged.rec\n",
      "<class 'numpy.ndarray'>\n",
      "<class 'numpy.ndarray'>\n",
      "20230619_115321_standard_comp_to_omission_D3_subj_1-4_t3b3L_box2_merged.rec\n",
      "<class 'numpy.ndarray'>\n",
      "<class 'numpy.ndarray'>\n",
      "20230620_114347_standard_comp_to_omission_D4_subj_1-1_t1b2L_box_2_merged.rec\n",
      "<class 'numpy.ndarray'>\n",
      "<class 'numpy.ndarray'>\n",
      "20230620_114347_standard_comp_to_omission_D4_subj_1-2_t3b3L_box_1_merged.rec\n",
      "<class 'numpy.ndarray'>\n",
      "<class 'numpy.ndarray'>\n",
      "20230621_111240_standard_comp_to_omission_D5_subj_1-4_t3b3L_box1_merged.rec\n",
      "Please assign event dictionaries to each recording\n",
      "as recording.event_dict\n",
      "event_dict = {event name(str): np.array[[start(ms), stop(ms)]...]\n",
      "Please assign subjects to each recording as recording.subject\n"
     ]
    }
   ],
   "source": [
    "cols = ['condition ', 'session_dir', 'all_subjects', 'tone_start_timestamp', 'tone_stop_timestamp']\n",
    "\n",
    "# Load the data\n",
    "df = pd.read_excel('rce_pilot_2_per_video_trial_labels.xlsx', usecols=cols, engine='openpyxl')\n",
    "\n",
    "df2 = df.dropna() # Drop the rows missing data\n",
    "df3 = df2.copy()\n",
    "df3['all_subjects'] = df3['all_subjects'].apply(lambda x: ast.literal_eval(x) if isinstance(x, str) else x) # Make the 'all_subjects' column readable as a list\n",
    "df4 = df3[df3['all_subjects'].apply(lambda x: len(x) < 3)] # Ignore novel sessions for now\n",
    "\n",
    "# Initialize an empty list to collect data for the new DataFrame\n",
    "new_df_data = []\n",
    "\n",
    "for _, row in df4.iterrows():\n",
    "    session_dir = row['session_dir']\n",
    "    subjects = row['all_subjects']\n",
    "    condition = row['condition ']\n",
    "\n",
    "    # Split session_dir on '_subj_' and take the first part only\n",
    "    # This ensures everything after '_subj_' is ignored\n",
    "    base_session_dir = session_dir.split('_subj_')[0]\n",
    "\n",
    "    for subject in subjects:\n",
    "        subject_formatted = subject.replace('.', '-')\n",
    "        # Append formatted subject to the base session_dir correctly\n",
    "        subj_recording = f\"{base_session_dir}_subj_{subject_formatted}\"\n",
    "        new_df_data.append({\n",
    "            'session_dir': session_dir,\n",
    "            'subject': subject,\n",
    "            'subj_recording': subj_recording,\n",
    "            'condition': condition if condition in ['rewarded', 'omission', 'both_rewarded', 'tie'] else ('win' if str(condition) == str(subject) else 'lose'),\n",
    "            'tone_start_timestamp': row['tone_start_timestamp'],\n",
    "            'tone_stop_timestamp': row['tone_stop_timestamp']\n",
    "        })\n",
    "\n",
    "# Convert list to DataFrame\n",
    "new_df = pd.DataFrame(new_df_data)\n",
    "new_df = new_df.drop_duplicates()\n",
    "\n",
    "# Prepare timestamp_dicts from new_df\n",
    "timestamp_dicts = {}\n",
    "for _, row in new_df.iterrows():\n",
    "    key = row['subj_recording']\n",
    "    condition = row['condition']\n",
    "    timestamp_start = int(row['tone_start_timestamp']) // 20\n",
    "    timestamp_end = int(row['tone_stop_timestamp']) // 20\n",
    "    tuple_val = (timestamp_start, timestamp_end)\n",
    "\n",
    "    if key not in timestamp_dicts:\n",
    "        timestamp_dicts[key] = {cond: [] for cond in ['rewarded', 'win', 'lose', 'omission', 'both_rewarded', 'tie']}\n",
    "    timestamp_dicts[key][condition].append(tuple_val)\n",
    "\n",
    "# Convert lists in timestamp_dicts to numpy arrays\n",
    "for subj_recording in timestamp_dicts:\n",
    "    for condition in timestamp_dicts[subj_recording]:\n",
    "        timestamp_dicts[subj_recording][condition] = np.array(timestamp_dicts[subj_recording][condition], dtype=np.int64)\n",
    "\n",
    "# Construct the path in a platform-independent way (HiPerGator or Windows)\n",
    "omission_ephys_path = Path('.') / 'export' / 'updated_phys' / 'non-novel' / 'omission'\n",
    "\n",
    "omission_ephys_data = spike.EphysRecordingCollection(str(omission_ephys_path))"
   ]
  },
  {
   "cell_type": "code",
   "execution_count": 3,
   "id": "9076a982-9c08-4486-92b1-8f6432e7e584",
   "metadata": {},
   "outputs": [],
   "source": [
    "for recording in omission_ephys_data.collection.keys():\n",
    "    # Check if the recording key (without everything after subject #) is in timestamp_dicts\n",
    "    start_pos = recording.find('subj_')\n",
    "    # Add the length of 'subj_' and 3 additional characters to include after 'subj_'\n",
    "    end_pos = start_pos + len('subj_') + 3\n",
    "    # Slice the recording key to get everything up to and including the subject identifier plus three characters\n",
    "    recording_key_without_suffix = recording[:end_pos]\n",
    "    if recording_key_without_suffix in timestamp_dicts:\n",
    "        # Assign the corresponding timestamp_dicts dictionary to event_dict\n",
    "        omission_ephys_data.collection[recording].event_dict = timestamp_dicts[recording_key_without_suffix]\n",
    "        \n",
    "        # Extract the subject from the recording key\n",
    "        start = recording.find('subj_') + 5  # Start index after 'subj_'\n",
    "        subject = recording[start:]\n",
    "        \n",
    "        # Assign the extracted subject\n",
    "        omission_ephys_data.collection[recording].subject = subject"
   ]
  },
  {
   "cell_type": "code",
   "execution_count": 4,
   "id": "ec30ac57-d39d-41dd-b7d8-31054759de97",
   "metadata": {},
   "outputs": [],
   "source": [
    "pickle.dump(omission_ephys_data, open(\"omission_ephys_data.pkl\", \"wb\"))"
   ]
  },
  {
   "cell_type": "code",
   "execution_count": 5,
   "id": "fdf0a10f-d182-4eb1-bc8a-24f7dba0718b",
   "metadata": {},
   "outputs": [
    {
     "name": "stdout",
     "output_type": "stream",
     "text": [
      "<class 'numpy.ndarray'>\n",
      "<class 'numpy.ndarray'>\n",
      "Unit 92 is unsorted & has 2494 spikes\n",
      "Unit 92 will be deleted\n",
      "20230622_110832_standard_comp_to_both_rewarded_D1_subj_1-1_t1b3L_box1_merged.rec\n",
      "<class 'numpy.ndarray'>\n",
      "<class 'numpy.ndarray'>\n",
      "Unit 103 is unsorted & has 512 spikes\n",
      "Unit 103 will be deleted\n",
      "20230622_110832_standard_comp_to_both_rewarded_D1_subj_1-2_t3b3L_box1_merged.rec\n",
      "<class 'numpy.ndarray'>\n",
      "<class 'numpy.ndarray'>\n",
      "20230624_105855_standard_comp_to_both_rewarded_D3_subj_1-2_t1b2L_box1_merged.rec\n",
      "<class 'numpy.ndarray'>\n",
      "<class 'numpy.ndarray'>\n",
      "20230624_105855_standard_comp_to_both_rewarded_D3_subj_1-4_t3b3L_box1_merged.rec\n",
      "<class 'numpy.ndarray'>\n",
      "<class 'numpy.ndarray'>\n",
      "20230625_112913_standard_comp_to_both_rewarded_D4_subj_1-1_t1b2L_box1_merged.rec\n",
      "<class 'numpy.ndarray'>\n",
      "<class 'numpy.ndarray'>\n",
      "Unit 96 is unsorted & has 5811 spikes\n",
      "Unit 96 will be deleted\n",
      "Unit 95 is unsorted & has 6458 spikes\n",
      "Unit 95 will be deleted\n",
      "20230625_112913_standard_comp_to_both_rewarded_D4_subj_1-4_t3b3L_box1_merged.rec\n",
      "Please assign event dictionaries to each recording\n",
      "as recording.event_dict\n",
      "event_dict = {event name(str): np.array[[start(ms), stop(ms)]...]\n",
      "Please assign subjects to each recording as recording.subject\n"
     ]
    }
   ],
   "source": [
    "both_rewarded_ephys_path = Path('.') / 'export' / 'updated_phys' / 'non-novel' / 'both_rewarded'\n",
    "\n",
    "both_rewarded_ephys_data = spike.EphysRecordingCollection(str(both_rewarded_ephys_path))"
   ]
  },
  {
   "cell_type": "code",
   "execution_count": 6,
   "id": "3174b523-6aba-4bfe-b6b3-c0b0efe2be0a",
   "metadata": {},
   "outputs": [],
   "source": [
    "for recording in both_rewarded_ephys_data.collection.keys():\n",
    "    # Check if the recording key (without everything after subject #) is in timestamp_dicts\n",
    "    start_pos = recording.find('subj_')\n",
    "    # Add the length of 'subj_' and 3 additional characters to include after 'subj_'\n",
    "    end_pos = start_pos + len('subj_') + 3\n",
    "    # Slice the recording key to get everything up to and including the subject identifier plus three characters\n",
    "    recording_key_without_suffix = recording[:end_pos]\n",
    "    if recording_key_without_suffix in timestamp_dicts:\n",
    "        # Assign the corresponding timestamp_dicts dictionary to event_dict\n",
    "        both_rewarded_ephys_data.collection[recording].event_dict = timestamp_dicts[recording_key_without_suffix]\n",
    "        \n",
    "        # Extract the subject from the recording key\n",
    "        start = recording.find('subj_') + 5  # Start index after 'subj_'\n",
    "        subject = recording[start:]\n",
    "        \n",
    "        # Assign the extracted subject\n",
    "        both_rewarded_ephys_data.collection[recording].subject = subject"
   ]
  },
  {
   "cell_type": "code",
   "execution_count": 7,
   "id": "a64f7cf7-77a2-4a5f-9700-0f41a663249c",
   "metadata": {},
   "outputs": [],
   "source": [
    "pickle.dump(both_rewarded_ephys_data, open(\"both_rewarded_ephys_data.pkl\", \"wb\"))"
   ]
  },
  {
   "cell_type": "code",
   "execution_count": 8,
   "id": "c1c71d28-5b36-468c-8e5d-e21e0103b9cc",
   "metadata": {},
   "outputs": [
    {
     "name": "stdout",
     "output_type": "stream",
     "text": [
      "All set to analyze\n"
     ]
    },
    {
     "ename": "MemoryError",
     "evalue": "Unable to allocate 30.4 MiB for an array with shape (3984844,) and data type int64",
     "output_type": "error",
     "traceback": [
      "\u001b[1;31m---------------------------------------------------------------------------\u001b[0m",
      "\u001b[1;31mMemoryError\u001b[0m                               Traceback (most recent call last)",
      "Cell \u001b[1;32mIn[8], line 1\u001b[0m\n\u001b[1;32m----> 1\u001b[0m omission_spike_analysis \u001b[38;5;241m=\u001b[39m spike\u001b[38;5;241m.\u001b[39mSpikeAnalysis_MultiRecording(omission_ephys_data)\n",
      "File \u001b[1;32m~\\Documents\\GitHub\\npc_playground\\multirecording_spikeanalysis.py:639\u001b[0m, in \u001b[0;36mSpikeAnalysis_MultiRecording.__init__\u001b[1;34m(self, ephyscollection, smoothing_window, timebin, ignore_freq)\u001b[0m\n\u001b[0;32m    637\u001b[0m \u001b[38;5;28mself\u001b[39m\u001b[38;5;241m.\u001b[39mignore_freq \u001b[38;5;241m=\u001b[39m ignore_freq\n\u001b[0;32m    638\u001b[0m \u001b[38;5;28mself\u001b[39m\u001b[38;5;241m.\u001b[39mPCA_matrix \u001b[38;5;241m=\u001b[39m \u001b[38;5;28;01mNone\u001b[39;00m\n\u001b[1;32m--> 639\u001b[0m \u001b[38;5;28mself\u001b[39m\u001b[38;5;241m.\u001b[39m__all_set__()\n",
      "File \u001b[1;32m~\\Documents\\GitHub\\npc_playground\\multirecording_spikeanalysis.py:695\u001b[0m, in \u001b[0;36mSpikeAnalysis_MultiRecording.__all_set__\u001b[1;34m(self)\u001b[0m\n\u001b[0;32m    693\u001b[0m \u001b[38;5;28mprint\u001b[39m(\u001b[38;5;124m\"\u001b[39m\u001b[38;5;124mAll set to analyze\u001b[39m\u001b[38;5;124m\"\u001b[39m)\n\u001b[0;32m    694\u001b[0m \u001b[38;5;28mself\u001b[39m\u001b[38;5;241m.\u001b[39m__get_whole_spiketrain__()\n\u001b[1;32m--> 695\u001b[0m \u001b[38;5;28mself\u001b[39m\u001b[38;5;241m.\u001b[39m__get_unit_spiketrains__()\n\u001b[0;32m    696\u001b[0m \u001b[38;5;28mself\u001b[39m\u001b[38;5;241m.\u001b[39m__get_unit_firing_rates__()\n",
      "File \u001b[1;32m~\\Documents\\GitHub\\npc_playground\\multirecording_spikeanalysis.py:747\u001b[0m, in \u001b[0;36mSpikeAnalysis_MultiRecording.__get_unit_spiketrains__\u001b[1;34m(self)\u001b[0m\n\u001b[0;32m    745\u001b[0m     freq_dict[unit] \u001b[38;5;241m=\u001b[39m unit_freq\n\u001b[0;32m    746\u001b[0m     \u001b[38;5;28;01mif\u001b[39;00m unit_freq \u001b[38;5;241m>\u001b[39m \u001b[38;5;28mself\u001b[39m\u001b[38;5;241m.\u001b[39mignore_freq:\n\u001b[1;32m--> 747\u001b[0m         unit_spiketrains[unit] \u001b[38;5;241m=\u001b[39m get_spiketrain(\n\u001b[0;32m    748\u001b[0m             recording\u001b[38;5;241m.\u001b[39munit_timestamps[unit],\n\u001b[0;32m    749\u001b[0m             last_timestamp,\n\u001b[0;32m    750\u001b[0m             \u001b[38;5;28mself\u001b[39m\u001b[38;5;241m.\u001b[39mtimebin,\n\u001b[0;32m    751\u001b[0m             sampling_rate,\n\u001b[0;32m    752\u001b[0m         )\n\u001b[0;32m    753\u001b[0m recording\u001b[38;5;241m.\u001b[39munit_spiketrains \u001b[38;5;241m=\u001b[39m unit_spiketrains\n\u001b[0;32m    754\u001b[0m recording\u001b[38;5;241m.\u001b[39mfreq_dict \u001b[38;5;241m=\u001b[39m freq_dict\n",
      "File \u001b[1;32m~\\Documents\\GitHub\\npc_playground\\multirecording_spikeanalysis.py:45\u001b[0m, in \u001b[0;36mget_spiketrain\u001b[1;34m(timestamp_array, last_timestamp, timebin, sampling_rate)\u001b[0m\n\u001b[0;32m     30\u001b[0m \u001b[38;5;250m\u001b[39m\u001b[38;5;124;03m\"\"\"\u001b[39;00m\n\u001b[0;32m     31\u001b[0m \u001b[38;5;124;03mcreates a spiketrain of ms time bins\u001b[39;00m\n\u001b[0;32m     32\u001b[0m \u001b[38;5;124;03meach array element is the number of spikes recorded per ms\u001b[39;00m\n\u001b[1;32m   (...)\u001b[0m\n\u001b[0;32m     42\u001b[0m \u001b[38;5;124;03m    of spikes per timebin\u001b[39;00m\n\u001b[0;32m     43\u001b[0m \u001b[38;5;124;03m\"\"\"\u001b[39;00m\n\u001b[0;32m     44\u001b[0m hz_to_timebin \u001b[38;5;241m=\u001b[39m \u001b[38;5;28mint\u001b[39m(sampling_rate \u001b[38;5;241m*\u001b[39m \u001b[38;5;241m0.001\u001b[39m \u001b[38;5;241m*\u001b[39m timebin)\n\u001b[1;32m---> 45\u001b[0m spiketrain \u001b[38;5;241m=\u001b[39m np\u001b[38;5;241m.\u001b[39mhistogram(\n\u001b[0;32m     46\u001b[0m     timestamp_array, bins\u001b[38;5;241m=\u001b[39mnp\u001b[38;5;241m.\u001b[39marange(\u001b[38;5;241m0\u001b[39m, last_timestamp, hz_to_timebin)\n\u001b[0;32m     47\u001b[0m )[\u001b[38;5;241m0\u001b[39m]\n\u001b[0;32m     48\u001b[0m \u001b[38;5;28;01mreturn\u001b[39;00m spiketrain\n",
      "File \u001b[1;32m~\\anaconda3\\Lib\\site-packages\\numpy\\lib\\histograms.py:868\u001b[0m, in \u001b[0;36mhistogram\u001b[1;34m(a, bins, range, density, weights)\u001b[0m\n\u001b[0;32m    866\u001b[0m     \u001b[38;5;28;01mfor\u001b[39;00m i \u001b[38;5;129;01min\u001b[39;00m _range(\u001b[38;5;241m0\u001b[39m, \u001b[38;5;28mlen\u001b[39m(a), BLOCK):\n\u001b[0;32m    867\u001b[0m         sa \u001b[38;5;241m=\u001b[39m np\u001b[38;5;241m.\u001b[39msort(a[i:i\u001b[38;5;241m+\u001b[39mBLOCK])\n\u001b[1;32m--> 868\u001b[0m         cum_n \u001b[38;5;241m+\u001b[39m\u001b[38;5;241m=\u001b[39m _search_sorted_inclusive(sa, bin_edges)\n\u001b[0;32m    869\u001b[0m \u001b[38;5;28;01melse\u001b[39;00m:\n\u001b[0;32m    870\u001b[0m     zero \u001b[38;5;241m=\u001b[39m np\u001b[38;5;241m.\u001b[39mzeros(\u001b[38;5;241m1\u001b[39m, dtype\u001b[38;5;241m=\u001b[39mntype)\n",
      "File \u001b[1;32m~\\anaconda3\\Lib\\site-packages\\numpy\\lib\\histograms.py:460\u001b[0m, in \u001b[0;36m_search_sorted_inclusive\u001b[1;34m(a, v)\u001b[0m\n\u001b[0;32m    454\u001b[0m \u001b[38;5;28;01mdef\u001b[39;00m \u001b[38;5;21m_search_sorted_inclusive\u001b[39m(a, v):\n\u001b[0;32m    455\u001b[0m \u001b[38;5;250m    \u001b[39m\u001b[38;5;124;03m\"\"\"\u001b[39;00m\n\u001b[0;32m    456\u001b[0m \u001b[38;5;124;03m    Like `searchsorted`, but where the last item in `v` is placed on the right.\u001b[39;00m\n\u001b[0;32m    457\u001b[0m \n\u001b[0;32m    458\u001b[0m \u001b[38;5;124;03m    In the context of a histogram, this makes the last bin edge inclusive\u001b[39;00m\n\u001b[0;32m    459\u001b[0m \u001b[38;5;124;03m    \"\"\"\u001b[39;00m\n\u001b[1;32m--> 460\u001b[0m     \u001b[38;5;28;01mreturn\u001b[39;00m np\u001b[38;5;241m.\u001b[39mconcatenate((\n\u001b[0;32m    461\u001b[0m         a\u001b[38;5;241m.\u001b[39msearchsorted(v[:\u001b[38;5;241m-\u001b[39m\u001b[38;5;241m1\u001b[39m], \u001b[38;5;124m'\u001b[39m\u001b[38;5;124mleft\u001b[39m\u001b[38;5;124m'\u001b[39m),\n\u001b[0;32m    462\u001b[0m         a\u001b[38;5;241m.\u001b[39msearchsorted(v[\u001b[38;5;241m-\u001b[39m\u001b[38;5;241m1\u001b[39m:], \u001b[38;5;124m'\u001b[39m\u001b[38;5;124mright\u001b[39m\u001b[38;5;124m'\u001b[39m)\n\u001b[0;32m    463\u001b[0m     ))\n",
      "\u001b[1;31mMemoryError\u001b[0m: Unable to allocate 30.4 MiB for an array with shape (3984844,) and data type int64"
     ]
    }
   ],
   "source": [
    "omission_spike_analysis = spike.SpikeAnalysis_MultiRecording(omission_ephys_data)"
   ]
  },
  {
   "cell_type": "code",
   "execution_count": null,
   "id": "a7b0d8bd-03b0-4863-b026-1015b18922b6",
   "metadata": {},
   "outputs": [],
   "source": []
  }
 ],
 "metadata": {
  "kernelspec": {
   "display_name": "Python 3 (ipykernel)",
   "language": "python",
   "name": "python3"
  },
  "language_info": {
   "codemirror_mode": {
    "name": "ipython",
    "version": 3
   },
   "file_extension": ".py",
   "mimetype": "text/x-python",
   "name": "python",
   "nbconvert_exporter": "python",
   "pygments_lexer": "ipython3",
   "version": "3.11.7"
  }
 },
 "nbformat": 4,
 "nbformat_minor": 5
}
