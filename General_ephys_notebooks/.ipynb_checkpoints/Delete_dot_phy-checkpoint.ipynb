{
 "cells": [
  {
   "cell_type": "markdown",
   "id": "19e476f5-5dd1-4eb6-9244-da33a7f318f5",
   "metadata": {},
   "source": [
    "# The `.phy` folder in `phy` folders can be deleted as this folder is simply used to increase the speed of opening phy and is recreated on every open"
   ]
  },
  {
   "cell_type": "code",
   "execution_count": 2,
   "id": "9d92aadb-be4d-4dfb-ba57-250edb3de568",
   "metadata": {
    "execution": {
     "iopub.execute_input": "2024-07-03T20:22:47.017310Z",
     "iopub.status.busy": "2024-07-03T20:22:47.016311Z",
     "iopub.status.idle": "2024-07-03T20:29:49.487362Z",
     "shell.execute_reply": "2024-07-03T20:29:49.485350Z",
     "shell.execute_reply.started": "2024-07-03T20:22:47.017310Z"
    }
   },
   "outputs": [
    {
     "name": "stdout",
     "output_type": "stream",
     "text": [
      "Deleted D:\\pc_lab\\RCE\\finished_proc\\phy_curation\\20240320_142408_alone_comp_subj_3-3_t5b5_merged.rec\\phy\\.phy\n",
      "Deleted D:\\pc_lab\\RCE\\finished_proc\\phy_curation\\20240322_120625_alone_comp_subj_3-4_t5b5_merged.rec\\phy\\.phy\n",
      "Deleted D:\\pc_lab\\RCE\\finished_proc\\phy_curation\\20240320_142408_alone_comp_subj_3-1_t6b6_merged.rec\\phy\\.phy\n",
      "Deleted D:\\pc_lab\\RCE\\finished_proc\\phy_curation\\20240322_120625_alone_comp_subj_3-3_t6b6_merged.rec\\phy\\.phy\n",
      "Deleted D:\\pc_lab\\RCE\\finished_proc\\phy_curation\\20240323_144517_alone_comp_subj_3-4_t6b6_merged.rec\\phy\\.phy\n",
      "Deleted D:\\pc_lab\\RCE\\finished_proc\\phy_curation\\20240323_165815_alone_comp_subj_4-2_t5b5_merged.rec\\phy\\.phy\n",
      "Deleted D:\\pc_lab\\RCE\\finished_proc\\phy_curation\\20240320_171038_alone_comp_subj_4-3_t5b5_merged.rec\\phy\\.phy\n",
      "Deleted D:\\pc_lab\\RCE\\finished_proc\\phy_curation\\20240322_160946_alone_comp_subj_4-3_t6b6_merged.rec\\phy\\.phy\n",
      "Deleted D:\\pc_lab\\RCE\\finished_proc\\phy_curation\\20240318_170933_long_comp_subj_4-3_t6b6_merged.rec\\phy\\.phy\n",
      "Deleted D:\\pc_lab\\RCE\\finished_proc\\phy_curation\\20240319_134914_long_comp_subj_3-1_t5b5_merged.rec\\phy\\.phy\n",
      "Deleted D:\\pc_lab\\RCE\\finished_proc\\phy_curation\\20240407_152222_comp_novel_subj_4-2_t5b5_merged.rec\\phy\\.phy\n",
      "Deleted D:\\pc_lab\\RCE\\finished_proc\\phy_curation\\20240323_122227_alone_comp_subj_5-2_t6b6_merged.rec\\phy\\.phy\n",
      "Deleted D:\\pc_lab\\RCE\\finished_proc\\phy_curation\\20240406_150017_comp_novel_subj_4-3_t5b5_merged.rec\\phy\\.phy\n",
      "Deleted D:\\pc_lab\\RCE\\finished_proc\\phy_curation\\20240406_150017_comp_novel_subj_4-4_t6b6_merged.rec\\phy\\.phy\n",
      "Deleted D:\\pc_lab\\RCE\\finished_proc\\phy_curation\\20240408_155308_comp_novel_subj_5-2_t4b4_merged.rec\\phy\\.phy\n",
      "Deleted D:\\pc_lab\\RCE\\finished_proc\\phy_curation\\20240408_155308_comp_novel_subj_5-3_t3b3_merged.rec\\phy\\.phy\n",
      "Deleted D:\\pc_lab\\RCE\\finished_proc\\phy_curation\\20240407_152222_comp_novel_subj_4-3_t6b6_merged.rec\\phy\\.phy\n",
      "Deleted D:\\pc_lab\\RCE\\finished_proc\\phy_curation\\20240318_143819_long_comp_subj_3-4_t5b5_merged.rec\\phy\\.phy\n",
      "Deleted D:\\pc_lab\\RCE\\finished_proc\\phy_curation\\20240408_155308_comp_novel_subj_3-4_t6b6_merged.rec\\phy\\.phy\n",
      "Deleted D:\\pc_lab\\RCE\\finished_proc\\phy_curation\\20240320_171038_alone_comp_subj_4-2_t6b6_merged.rec\\phy\\.phy\n",
      "Deleted D:\\pc_lab\\RCE\\finished_proc\\phy_curation\\20240409_142051_comp_novel_subj_4-3_t5b5_merged.rec\\phy\\.phy\n",
      "Deleted D:\\pc_lab\\RCE\\finished_proc\\phy_curation\\20240409_142051_comp_novel_subj_4-4_t6b6_merged.rec\\phy\\.phy\n",
      "Deleted D:\\pc_lab\\RCE\\finished_proc\\phy_curation\\20240410_152009_comp_novel_subj_5-3_t3b3_merged.rec\\phy\\.phy\n",
      "Deleted D:\\pc_lab\\RCE\\finished_proc\\phy_curation\\20240411_155157_comp_novel_subj_3-1_t3b3_merged.rec\\phy\\.phy\n"
     ]
    }
   ],
   "source": [
    "import os\n",
    "import shutil\n",
    "\n",
    "def delete_dot_phy_folders(src_root):\n",
    "    for root, dirs, files in os.walk(src_root):\n",
    "        # Check if the current directory is 'phy'\n",
    "        if os.path.basename(root) == 'phy':\n",
    "            # Check if any sub-directory is named '.phy'\n",
    "            if '.phy' in dirs:\n",
    "                # Construct the path to the '.phy' directory\n",
    "                dot_phy_dir = os.path.join(root, '.phy')\n",
    "                # Delete the '.phy' directory and its contents\n",
    "                shutil.rmtree(dot_phy_dir)\n",
    "                print(f\"Deleted {dot_phy_dir}\")\n",
    "\n",
    "# Define the source directory\n",
    "src_root = r'D:\\pc_lab\\RCE\\finished_proc\\phy_curation'\n",
    "\n",
    "# Call the function to start the deletion process\n",
    "delete_dot_phy_folders(src_root)"
   ]
  },
  {
   "cell_type": "code",
   "execution_count": null,
   "id": "e2b961cc-a288-4522-9ab2-48b18943b194",
   "metadata": {},
   "outputs": [],
   "source": []
  }
 ],
 "metadata": {
  "kernelspec": {
   "display_name": "Python 3 (ipykernel)",
   "language": "python",
   "name": "python3"
  },
  "language_info": {
   "codemirror_mode": {
    "name": "ipython",
    "version": 3
   },
   "file_extension": ".py",
   "mimetype": "text/x-python",
   "name": "python",
   "nbconvert_exporter": "python",
   "pygments_lexer": "ipython3",
   "version": "3.10.14"
  }
 },
 "nbformat": 4,
 "nbformat_minor": 5
}
