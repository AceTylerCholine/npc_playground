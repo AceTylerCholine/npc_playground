{
 "cells": [
  {
   "cell_type": "code",
   "execution_count": 1,
   "id": "cfd5f5fe-5448-45a8-b0e9-a2dd973b9dad",
   "metadata": {
    "execution": {
     "iopub.execute_input": "2024-07-03T21:12:43.167281Z",
     "iopub.status.busy": "2024-07-03T21:12:43.167281Z",
     "iopub.status.idle": "2024-07-03T21:24:20.294271Z",
     "shell.execute_reply": "2024-07-03T21:24:20.262037Z",
     "shell.execute_reply.started": "2024-07-03T21:12:43.167281Z"
    }
   },
   "outputs": [
    {
     "name": "stdout",
     "output_type": "stream",
     "text": [
      "Copied D:\\test\\20240407_152222_comp_novel_subj_4-2_t5b5_merged.rec\\phy to C:\\Users\\short\\Documents\\waveform_id\\test2\\20240407_152222_comp_novel_subj_4-2_t5b5_merged.rec\\phy\n",
      "Copied D:\\test\\20240317_151922_long_comp_subj_3-1_t6b6_merged.rec\\phy to C:\\Users\\short\\Documents\\waveform_id\\test2\\20240317_151922_long_comp_subj_3-1_t6b6_merged.rec\\phy\n",
      "Copied D:\\test\\20240317_151922_long_comp_subj_3-3_t5b5_merged.rec\\phy to C:\\Users\\short\\Documents\\waveform_id\\test2\\20240317_151922_long_comp_subj_3-3_t5b5_merged.rec\\phy\n",
      "Copied D:\\test\\20240317_172017_long_comp_subj_4-2_t6b6_merged.rec\\phy to C:\\Users\\short\\Documents\\waveform_id\\test2\\20240317_172017_long_comp_subj_4-2_t6b6_merged.rec\\phy\n",
      "Copied D:\\test\\20240320_142408_alone_comp_subj_3-1_t6b6_merged.rec\\phy to C:\\Users\\short\\Documents\\waveform_id\\test2\\20240320_142408_alone_comp_subj_3-1_t6b6_merged.rec\\phy\n",
      "Copied D:\\test\\20240320_142408_alone_comp_subj_3-3_t5b5_merged.rec\\phy to C:\\Users\\short\\Documents\\waveform_id\\test2\\20240320_142408_alone_comp_subj_3-3_t5b5_merged.rec\\phy\n",
      "Copied D:\\test\\20240320_171038_alone_comp_subj_4-2_t6b6_merged.rec\\phy to C:\\Users\\short\\Documents\\waveform_id\\test2\\20240320_171038_alone_comp_subj_4-2_t6b6_merged.rec\\phy\n",
      "Copied D:\\test\\20240406_150017_comp_novel_subj_4-3_t5b5_merged.rec\\phy to C:\\Users\\short\\Documents\\waveform_id\\test2\\20240406_150017_comp_novel_subj_4-3_t5b5_merged.rec\\phy\n",
      "Copied D:\\test\\20240406_150017_comp_novel_subj_4-4_t6b6_merged.rec\\phy to C:\\Users\\short\\Documents\\waveform_id\\test2\\20240406_150017_comp_novel_subj_4-4_t6b6_merged.rec\\phy\n"
     ]
    }
   ],
   "source": [
    "import os\n",
    "import shutil\n",
    "\n",
    "def copy_required_files(src_root, dest_root, required_files):\n",
    "    for root, dirs, files in os.walk(src_root):\n",
    "        if os.path.basename(root) == 'phy':\n",
    "            # Check if all required files are present in the current 'phy' directory\n",
    "            if all(file in files for file in required_files):\n",
    "                # Get the directory name just above 'phy'\n",
    "                dir_name = os.path.basename(os.path.dirname(root))\n",
    "                \n",
    "                # Destination directory with 'phy' folder included\n",
    "                dest_dir = os.path.join(dest_root, dir_name, 'phy')\n",
    "                \n",
    "                # Create the destination directory if it doesn't exist\n",
    "                os.makedirs(dest_dir, exist_ok=True)\n",
    "\n",
    "                # Copy the required files to the destination directory\n",
    "                for file in required_files:\n",
    "                    src_file = os.path.join(root, file)\n",
    "                    dest_file = os.path.join(dest_dir, file)\n",
    "                    shutil.copy2(src_file, dest_file)\n",
    "                print(f\"Copied {root} to {dest_dir}\")\n",
    "\n",
    "# Define source and destination directories\n",
    "src_root = r'D:\\test'\n",
    "dest_root = r'C:\\Users\\short\\Documents\\waveform_id\\test2'\n",
    "\n",
    "# Define the required files to be copied\n",
    "required_files = ['params.py', 'recording.dat', 'cluster_info.tsv']\n",
    "\n",
    "# Call the function to start the copying process\n",
    "copy_required_files(src_root, dest_root, required_files)"
   ]
  },
  {
   "cell_type": "code",
   "execution_count": null,
   "id": "6d02f4a9-e525-4d33-a3b1-c23f5d5ecd9a",
   "metadata": {},
   "outputs": [],
   "source": []
  }
 ],
 "metadata": {
  "kernelspec": {
   "display_name": "Python 3 (ipykernel)",
   "language": "python",
   "name": "python3"
  },
  "language_info": {
   "codemirror_mode": {
    "name": "ipython",
    "version": 3
   },
   "file_extension": ".py",
   "mimetype": "text/x-python",
   "name": "python",
   "nbconvert_exporter": "python",
   "pygments_lexer": "ipython3",
   "version": "3.10.14"
  }
 },
 "nbformat": 4,
 "nbformat_minor": 5
}
