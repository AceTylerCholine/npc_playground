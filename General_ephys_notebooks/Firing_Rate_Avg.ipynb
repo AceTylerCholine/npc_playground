{
 "cells": [
  {
   "cell_type": "code",
   "execution_count": 1,
   "id": "5b8b4611-aef5-47ed-a1b3-0fe1855f5094",
   "metadata": {
    "execution": {
     "iopub.execute_input": "2024-05-16T15:23:03.177484Z",
     "iopub.status.busy": "2024-05-16T15:23:03.177484Z",
     "iopub.status.idle": "2024-05-16T15:23:33.356494Z",
     "shell.execute_reply": "2024-05-16T15:23:33.356494Z",
     "shell.execute_reply.started": "2024-05-16T15:23:03.177484Z"
    }
   },
   "outputs": [
    {
     "name": "stdout",
     "output_type": "stream",
     "text": [
      "<class 'numpy.ndarray'>\n",
      "<class 'numpy.ndarray'>\n",
      "Unit 92 is unsorted & has 2494 spikes\n",
      "Unit 92 will be deleted\n",
      "20230622_110832_standard_comp_to_both_rewarded_D1_subj_1-1_t1b3L_box1_merged.rec\n",
      "<class 'numpy.ndarray'>\n",
      "<class 'numpy.ndarray'>\n",
      "Unit 103 is unsorted & has 512 spikes\n",
      "Unit 103 will be deleted\n",
      "20230622_110832_standard_comp_to_both_rewarded_D1_subj_1-2_t3b3L_box1_merged.rec\n",
      "<class 'numpy.ndarray'>\n",
      "<class 'numpy.ndarray'>\n",
      "20230624_105855_standard_comp_to_both_rewarded_D3_subj_1-2_t1b2L_box1_merged.rec\n",
      "<class 'numpy.ndarray'>\n",
      "<class 'numpy.ndarray'>\n",
      "20230624_105855_standard_comp_to_both_rewarded_D3_subj_1-4_t3b3L_box1_merged.rec\n",
      "<class 'numpy.ndarray'>\n",
      "<class 'numpy.ndarray'>\n",
      "20230625_112913_standard_comp_to_both_rewarded_D4_subj_1-1_t1b2L_box1_merged.rec\n",
      "<class 'numpy.ndarray'>\n",
      "<class 'numpy.ndarray'>\n",
      "Unit 96 is unsorted & has 5811 spikes\n",
      "Unit 96 will be deleted\n",
      "Unit 95 is unsorted & has 6458 spikes\n",
      "Unit 95 will be deleted\n",
      "20230625_112913_standard_comp_to_both_rewarded_D4_subj_1-4_t3b3L_box1_merged.rec\n",
      "Please assign event dictionaries to each recording\n",
      "as recording.event_dict\n",
      "event_dict = {event name(str): np.array[[start(ms), stop(ms)]...]\n",
      "Please assign subjects to each recording as recording.subject\n"
     ]
    }
   ],
   "source": [
    "import pandas as pd\n",
    "import numpy as np\n",
    "import ast\n",
    "import pickle\n",
    "from pathlib import Path\n",
    "import matplotlib.pyplot as plt\n",
    "import spikeanal as spike\n",
    "from matplotlib_venn import venn2\n",
    "from matplotlib_venn import venn3\n",
    "\n",
    "cols = ['condition ', 'session_dir', 'all_subjects', 'tone_start_timestamp', 'tone_stop_timestamp']\n",
    "\n",
    "# Load the data\n",
    "df = pd.read_excel('rce_pilot_2_per_video_trial_labels.xlsx', usecols=cols, engine='openpyxl')\n",
    "\n",
    "df2 = df.dropna() # Drop the rows missing data\n",
    "df3 = df2.copy()\n",
    "df3['all_subjects'] = df3['all_subjects'].apply(lambda x: ast.literal_eval(x) if isinstance(x, str) else x) # Make the 'all_subjects' column readable as a list\n",
    "df4 = df3[df3['all_subjects'].apply(lambda x: len(x) < 3)] # Ignore novel sessions for now\n",
    "\n",
    "# Initialize an empty list to collect data for the new DataFrame\n",
    "new_df_data = []\n",
    "\n",
    "for _, row in df4.iterrows():\n",
    "    session_dir = row['session_dir']\n",
    "    subjects = row['all_subjects']\n",
    "    condition = row['condition ']\n",
    "\n",
    "    # Split session_dir on '_subj_' and take the first part only\n",
    "    # This ensures everything after '_subj_' is ignored\n",
    "    base_session_dir = session_dir.split('_subj_')[0]\n",
    "\n",
    "    for subject in subjects:\n",
    "        subject_formatted = subject.replace('.', '-')\n",
    "        # Append formatted subject to the base session_dir correctly\n",
    "        subj_recording = f\"{base_session_dir}_subj_{subject_formatted}\"\n",
    "        new_df_data.append({\n",
    "            'session_dir': session_dir,\n",
    "            'subject': subject,\n",
    "            'subj_recording': subj_recording,\n",
    "            'condition': condition if condition in ['rewarded', 'omission', 'both_rewarded', 'tie'] else ('win' if str(condition) == str(subject) else 'lose'),\n",
    "            'tone_start_timestamp': row['tone_start_timestamp'],\n",
    "            'tone_stop_timestamp': row['tone_stop_timestamp']\n",
    "        })\n",
    "\n",
    "# Convert list to DataFrame\n",
    "new_df = pd.DataFrame(new_df_data)\n",
    "new_df = new_df.drop_duplicates()\n",
    "\n",
    "# Prepare timestamp_dicts from new_df\n",
    "timestamp_dicts = {}\n",
    "for _, row in new_df.iterrows():\n",
    "    key = row['subj_recording']\n",
    "    condition = row['condition']\n",
    "    timestamp_start = int(row['tone_start_timestamp']) // 20\n",
    "    timestamp_end = int(row['tone_stop_timestamp']) // 20\n",
    "    tuple_val = (timestamp_start, timestamp_end)\n",
    "\n",
    "    if key not in timestamp_dicts:\n",
    "        timestamp_dicts[key] = {cond: [] for cond in ['rewarded', 'win', 'lose', 'omission', 'both_rewarded', 'tie']}\n",
    "    timestamp_dicts[key][condition].append(tuple_val)\n",
    "\n",
    "# Convert lists in timestamp_dicts to numpy arrays\n",
    "for subj_recording in timestamp_dicts:\n",
    "    for condition in timestamp_dicts[subj_recording]:\n",
    "        timestamp_dicts[subj_recording][condition] = np.array(timestamp_dicts[subj_recording][condition], dtype=np.int64)\n",
    "        \n",
    "\n",
    "# Construct the path in a platform-independent way (HiPerGator or Windows)\n",
    "ephys_path = Path('.') / 'export' / 'updated_phys' / 'non-novel' / 'both_rewarded'\n",
    "\n",
    "ephys_data = spike.EphysRecordingCollection(str(ephys_path))"
   ]
  },
  {
   "cell_type": "code",
   "execution_count": 2,
   "id": "03719e6b-e955-4d31-810d-5ff31349ac98",
   "metadata": {
    "execution": {
     "iopub.execute_input": "2024-05-16T15:23:33.820370Z",
     "iopub.status.busy": "2024-05-16T15:23:33.820370Z",
     "iopub.status.idle": "2024-05-16T15:23:48.997783Z",
     "shell.execute_reply": "2024-05-16T15:23:48.948672Z",
     "shell.execute_reply.started": "2024-05-16T15:23:33.820370Z"
    }
   },
   "outputs": [
    {
     "name": "stdout",
     "output_type": "stream",
     "text": [
      "All set to analyze\n"
     ]
    }
   ],
   "source": [
    "for recording in ephys_data.collection.keys():\n",
    "    # Check if the recording key (without everything after subject #) is in timestamp_dicts\n",
    "    start_pos = recording.find('subj_')\n",
    "    # Add the length of 'subj_' and 3 additional characters to include after 'subj_'\n",
    "    end_pos = start_pos + len('subj_') + 3\n",
    "    # Slice the recording key to get everything up to and including the subject identifier plus three characters\n",
    "    recording_key_without_suffix = recording[:end_pos]\n",
    "    if recording_key_without_suffix in timestamp_dicts:\n",
    "        # Assign the corresponding timestamp_dicts dictionary to event_dict\n",
    "        ephys_data.collection[recording].event_dict = timestamp_dicts[recording_key_without_suffix]\n",
    "        \n",
    "        # Extract the subject from the recording key\n",
    "        start = recording.find('subj_') + 5  # Start index after 'subj_'\n",
    "        subject = recording[start:start+3]\n",
    "        \n",
    "        # Assign the extracted subject\n",
    "        ephys_data.collection[recording].subject = subject\n",
    "        \n",
    "spike_analysis = spike.SpikeAnalysis_MultiRecording(ephys_data, timebin = 5, smoothing_window=250, ignore_freq = 0.5)"
   ]
  },
  {
   "cell_type": "code",
   "execution_count": 3,
   "id": "935410a6-ea3d-4fb0-87f7-ebfa04793263",
   "metadata": {
    "execution": {
     "iopub.execute_input": "2024-05-16T15:24:36.251367Z",
     "iopub.status.busy": "2024-05-16T15:24:36.251367Z",
     "iopub.status.idle": "2024-05-16T15:24:48.452898Z",
     "shell.execute_reply": "2024-05-16T15:24:48.452898Z",
     "shell.execute_reply.started": "2024-05-16T15:24:36.251367Z"
    }
   },
   "outputs": [],
   "source": [
    "# Create df of spike freq 10s before and 10s during every event\n",
    "event_spikes = spike_analysis.generate_event_dataframe()\n",
    "\n",
    "# Identify 'Pre-event' and 'Event' columns\n",
    "pre_event_cols = [col for col in event_spikes.columns if col.startswith('Pre-event')]\n",
    "event_cols = [col for col in event_spikes.columns if col.startswith('Event') and col not in ['Event name', 'Event number']]"
   ]
  },
  {
   "cell_type": "code",
   "execution_count": 4,
   "id": "a32d5710-43bb-4ab5-b631-ecb4723a02a1",
   "metadata": {
    "execution": {
     "iopub.execute_input": "2024-05-16T15:24:55.092381Z",
     "iopub.status.busy": "2024-05-16T15:24:55.092381Z",
     "iopub.status.idle": "2024-05-16T15:24:55.313800Z",
     "shell.execute_reply": "2024-05-16T15:24:55.313800Z",
     "shell.execute_reply.started": "2024-05-16T15:24:55.092381Z"
    }
   },
   "outputs": [
    {
     "data": {
      "text/html": [
       "<div>\n",
       "<style scoped>\n",
       "    .dataframe tbody tr th:only-of-type {\n",
       "        vertical-align: middle;\n",
       "    }\n",
       "\n",
       "    .dataframe tbody tr th {\n",
       "        vertical-align: top;\n",
       "    }\n",
       "\n",
       "    .dataframe thead th {\n",
       "        text-align: right;\n",
       "    }\n",
       "</style>\n",
       "<table border=\"1\" class=\"dataframe\">\n",
       "  <thead>\n",
       "    <tr style=\"text-align: right;\">\n",
       "      <th></th>\n",
       "      <th>Recording</th>\n",
       "      <th>Event name</th>\n",
       "      <th>Event number</th>\n",
       "      <th>Unit number</th>\n",
       "      <th>Pre-event timebin 1</th>\n",
       "      <th>Pre-event timebin 2</th>\n",
       "      <th>Pre-event timebin 3</th>\n",
       "      <th>Pre-event timebin 4</th>\n",
       "      <th>Pre-event timebin 5</th>\n",
       "      <th>Pre-event timebin 6</th>\n",
       "      <th>...</th>\n",
       "      <th>Event timebin 1991</th>\n",
       "      <th>Event timebin 1992</th>\n",
       "      <th>Event timebin 1993</th>\n",
       "      <th>Event timebin 1994</th>\n",
       "      <th>Event timebin 1995</th>\n",
       "      <th>Event timebin 1996</th>\n",
       "      <th>Event timebin 1997</th>\n",
       "      <th>Event timebin 1998</th>\n",
       "      <th>Event timebin 1999</th>\n",
       "      <th>Event timebin 2000</th>\n",
       "    </tr>\n",
       "  </thead>\n",
       "  <tbody>\n",
       "    <tr>\n",
       "      <th>0</th>\n",
       "      <td>20230622_110832_standard_comp_to_both_rewarded...</td>\n",
       "      <td>lose</td>\n",
       "      <td>1</td>\n",
       "      <td>9</td>\n",
       "      <td>8.0</td>\n",
       "      <td>8.0</td>\n",
       "      <td>8.0</td>\n",
       "      <td>8.0</td>\n",
       "      <td>8.0</td>\n",
       "      <td>4.0</td>\n",
       "      <td>...</td>\n",
       "      <td>16.0</td>\n",
       "      <td>20.0</td>\n",
       "      <td>20.0</td>\n",
       "      <td>20.0</td>\n",
       "      <td>16.0</td>\n",
       "      <td>16.0</td>\n",
       "      <td>20.0</td>\n",
       "      <td>20.0</td>\n",
       "      <td>20.0</td>\n",
       "      <td>20.0</td>\n",
       "    </tr>\n",
       "    <tr>\n",
       "      <th>1</th>\n",
       "      <td>20230622_110832_standard_comp_to_both_rewarded...</td>\n",
       "      <td>lose</td>\n",
       "      <td>2</td>\n",
       "      <td>9</td>\n",
       "      <td>8.0</td>\n",
       "      <td>8.0</td>\n",
       "      <td>8.0</td>\n",
       "      <td>8.0</td>\n",
       "      <td>8.0</td>\n",
       "      <td>8.0</td>\n",
       "      <td>...</td>\n",
       "      <td>12.0</td>\n",
       "      <td>12.0</td>\n",
       "      <td>12.0</td>\n",
       "      <td>12.0</td>\n",
       "      <td>12.0</td>\n",
       "      <td>16.0</td>\n",
       "      <td>16.0</td>\n",
       "      <td>16.0</td>\n",
       "      <td>16.0</td>\n",
       "      <td>16.0</td>\n",
       "    </tr>\n",
       "    <tr>\n",
       "      <th>2</th>\n",
       "      <td>20230622_110832_standard_comp_to_both_rewarded...</td>\n",
       "      <td>lose</td>\n",
       "      <td>3</td>\n",
       "      <td>9</td>\n",
       "      <td>8.0</td>\n",
       "      <td>8.0</td>\n",
       "      <td>8.0</td>\n",
       "      <td>8.0</td>\n",
       "      <td>8.0</td>\n",
       "      <td>8.0</td>\n",
       "      <td>...</td>\n",
       "      <td>12.0</td>\n",
       "      <td>12.0</td>\n",
       "      <td>12.0</td>\n",
       "      <td>12.0</td>\n",
       "      <td>12.0</td>\n",
       "      <td>12.0</td>\n",
       "      <td>12.0</td>\n",
       "      <td>12.0</td>\n",
       "      <td>12.0</td>\n",
       "      <td>12.0</td>\n",
       "    </tr>\n",
       "    <tr>\n",
       "      <th>3</th>\n",
       "      <td>20230622_110832_standard_comp_to_both_rewarded...</td>\n",
       "      <td>lose</td>\n",
       "      <td>4</td>\n",
       "      <td>9</td>\n",
       "      <td>12.0</td>\n",
       "      <td>12.0</td>\n",
       "      <td>12.0</td>\n",
       "      <td>12.0</td>\n",
       "      <td>12.0</td>\n",
       "      <td>8.0</td>\n",
       "      <td>...</td>\n",
       "      <td>4.0</td>\n",
       "      <td>8.0</td>\n",
       "      <td>8.0</td>\n",
       "      <td>8.0</td>\n",
       "      <td>8.0</td>\n",
       "      <td>8.0</td>\n",
       "      <td>8.0</td>\n",
       "      <td>8.0</td>\n",
       "      <td>12.0</td>\n",
       "      <td>12.0</td>\n",
       "    </tr>\n",
       "    <tr>\n",
       "      <th>4</th>\n",
       "      <td>20230622_110832_standard_comp_to_both_rewarded...</td>\n",
       "      <td>lose</td>\n",
       "      <td>5</td>\n",
       "      <td>9</td>\n",
       "      <td>8.0</td>\n",
       "      <td>8.0</td>\n",
       "      <td>8.0</td>\n",
       "      <td>8.0</td>\n",
       "      <td>8.0</td>\n",
       "      <td>8.0</td>\n",
       "      <td>...</td>\n",
       "      <td>16.0</td>\n",
       "      <td>16.0</td>\n",
       "      <td>16.0</td>\n",
       "      <td>16.0</td>\n",
       "      <td>16.0</td>\n",
       "      <td>16.0</td>\n",
       "      <td>16.0</td>\n",
       "      <td>12.0</td>\n",
       "      <td>12.0</td>\n",
       "      <td>12.0</td>\n",
       "    </tr>\n",
       "    <tr>\n",
       "      <th>...</th>\n",
       "      <td>...</td>\n",
       "      <td>...</td>\n",
       "      <td>...</td>\n",
       "      <td>...</td>\n",
       "      <td>...</td>\n",
       "      <td>...</td>\n",
       "      <td>...</td>\n",
       "      <td>...</td>\n",
       "      <td>...</td>\n",
       "      <td>...</td>\n",
       "      <td>...</td>\n",
       "      <td>...</td>\n",
       "      <td>...</td>\n",
       "      <td>...</td>\n",
       "      <td>...</td>\n",
       "      <td>...</td>\n",
       "      <td>...</td>\n",
       "      <td>...</td>\n",
       "      <td>...</td>\n",
       "      <td>...</td>\n",
       "      <td>...</td>\n",
       "    </tr>\n",
       "    <tr>\n",
       "      <th>4796</th>\n",
       "      <td>20230625_112913_standard_comp_to_both_rewarded...</td>\n",
       "      <td>both_rewarded</td>\n",
       "      <td>16</td>\n",
       "      <td>11</td>\n",
       "      <td>0.0</td>\n",
       "      <td>0.0</td>\n",
       "      <td>0.0</td>\n",
       "      <td>0.0</td>\n",
       "      <td>0.0</td>\n",
       "      <td>0.0</td>\n",
       "      <td>...</td>\n",
       "      <td>0.0</td>\n",
       "      <td>0.0</td>\n",
       "      <td>0.0</td>\n",
       "      <td>0.0</td>\n",
       "      <td>0.0</td>\n",
       "      <td>0.0</td>\n",
       "      <td>0.0</td>\n",
       "      <td>0.0</td>\n",
       "      <td>0.0</td>\n",
       "      <td>0.0</td>\n",
       "    </tr>\n",
       "    <tr>\n",
       "      <th>4797</th>\n",
       "      <td>20230625_112913_standard_comp_to_both_rewarded...</td>\n",
       "      <td>both_rewarded</td>\n",
       "      <td>17</td>\n",
       "      <td>11</td>\n",
       "      <td>0.0</td>\n",
       "      <td>0.0</td>\n",
       "      <td>0.0</td>\n",
       "      <td>0.0</td>\n",
       "      <td>0.0</td>\n",
       "      <td>0.0</td>\n",
       "      <td>...</td>\n",
       "      <td>0.0</td>\n",
       "      <td>0.0</td>\n",
       "      <td>0.0</td>\n",
       "      <td>0.0</td>\n",
       "      <td>0.0</td>\n",
       "      <td>0.0</td>\n",
       "      <td>0.0</td>\n",
       "      <td>0.0</td>\n",
       "      <td>0.0</td>\n",
       "      <td>0.0</td>\n",
       "    </tr>\n",
       "    <tr>\n",
       "      <th>4798</th>\n",
       "      <td>20230625_112913_standard_comp_to_both_rewarded...</td>\n",
       "      <td>both_rewarded</td>\n",
       "      <td>18</td>\n",
       "      <td>11</td>\n",
       "      <td>0.0</td>\n",
       "      <td>0.0</td>\n",
       "      <td>0.0</td>\n",
       "      <td>0.0</td>\n",
       "      <td>0.0</td>\n",
       "      <td>0.0</td>\n",
       "      <td>...</td>\n",
       "      <td>0.0</td>\n",
       "      <td>0.0</td>\n",
       "      <td>0.0</td>\n",
       "      <td>0.0</td>\n",
       "      <td>0.0</td>\n",
       "      <td>0.0</td>\n",
       "      <td>0.0</td>\n",
       "      <td>0.0</td>\n",
       "      <td>0.0</td>\n",
       "      <td>0.0</td>\n",
       "    </tr>\n",
       "    <tr>\n",
       "      <th>4799</th>\n",
       "      <td>20230625_112913_standard_comp_to_both_rewarded...</td>\n",
       "      <td>both_rewarded</td>\n",
       "      <td>19</td>\n",
       "      <td>11</td>\n",
       "      <td>0.0</td>\n",
       "      <td>0.0</td>\n",
       "      <td>0.0</td>\n",
       "      <td>0.0</td>\n",
       "      <td>0.0</td>\n",
       "      <td>0.0</td>\n",
       "      <td>...</td>\n",
       "      <td>0.0</td>\n",
       "      <td>0.0</td>\n",
       "      <td>0.0</td>\n",
       "      <td>0.0</td>\n",
       "      <td>0.0</td>\n",
       "      <td>0.0</td>\n",
       "      <td>0.0</td>\n",
       "      <td>0.0</td>\n",
       "      <td>0.0</td>\n",
       "      <td>0.0</td>\n",
       "    </tr>\n",
       "    <tr>\n",
       "      <th>4800</th>\n",
       "      <td>20230625_112913_standard_comp_to_both_rewarded...</td>\n",
       "      <td>both_rewarded</td>\n",
       "      <td>20</td>\n",
       "      <td>11</td>\n",
       "      <td>0.0</td>\n",
       "      <td>0.0</td>\n",
       "      <td>0.0</td>\n",
       "      <td>0.0</td>\n",
       "      <td>0.0</td>\n",
       "      <td>0.0</td>\n",
       "      <td>...</td>\n",
       "      <td>0.0</td>\n",
       "      <td>0.0</td>\n",
       "      <td>0.0</td>\n",
       "      <td>0.0</td>\n",
       "      <td>0.0</td>\n",
       "      <td>0.0</td>\n",
       "      <td>0.0</td>\n",
       "      <td>0.0</td>\n",
       "      <td>0.0</td>\n",
       "      <td>0.0</td>\n",
       "    </tr>\n",
       "  </tbody>\n",
       "</table>\n",
       "<p>4801 rows × 4004 columns</p>\n",
       "</div>"
      ],
      "text/plain": [
       "                                              Recording     Event name  \\\n",
       "0     20230622_110832_standard_comp_to_both_rewarded...           lose   \n",
       "1     20230622_110832_standard_comp_to_both_rewarded...           lose   \n",
       "2     20230622_110832_standard_comp_to_both_rewarded...           lose   \n",
       "3     20230622_110832_standard_comp_to_both_rewarded...           lose   \n",
       "4     20230622_110832_standard_comp_to_both_rewarded...           lose   \n",
       "...                                                 ...            ...   \n",
       "4796  20230625_112913_standard_comp_to_both_rewarded...  both_rewarded   \n",
       "4797  20230625_112913_standard_comp_to_both_rewarded...  both_rewarded   \n",
       "4798  20230625_112913_standard_comp_to_both_rewarded...  both_rewarded   \n",
       "4799  20230625_112913_standard_comp_to_both_rewarded...  both_rewarded   \n",
       "4800  20230625_112913_standard_comp_to_both_rewarded...  both_rewarded   \n",
       "\n",
       "      Event number  Unit number  Pre-event timebin 1  Pre-event timebin 2  \\\n",
       "0                1            9                  8.0                  8.0   \n",
       "1                2            9                  8.0                  8.0   \n",
       "2                3            9                  8.0                  8.0   \n",
       "3                4            9                 12.0                 12.0   \n",
       "4                5            9                  8.0                  8.0   \n",
       "...            ...          ...                  ...                  ...   \n",
       "4796            16           11                  0.0                  0.0   \n",
       "4797            17           11                  0.0                  0.0   \n",
       "4798            18           11                  0.0                  0.0   \n",
       "4799            19           11                  0.0                  0.0   \n",
       "4800            20           11                  0.0                  0.0   \n",
       "\n",
       "      Pre-event timebin 3  Pre-event timebin 4  Pre-event timebin 5  \\\n",
       "0                     8.0                  8.0                  8.0   \n",
       "1                     8.0                  8.0                  8.0   \n",
       "2                     8.0                  8.0                  8.0   \n",
       "3                    12.0                 12.0                 12.0   \n",
       "4                     8.0                  8.0                  8.0   \n",
       "...                   ...                  ...                  ...   \n",
       "4796                  0.0                  0.0                  0.0   \n",
       "4797                  0.0                  0.0                  0.0   \n",
       "4798                  0.0                  0.0                  0.0   \n",
       "4799                  0.0                  0.0                  0.0   \n",
       "4800                  0.0                  0.0                  0.0   \n",
       "\n",
       "      Pre-event timebin 6  ...  Event timebin 1991  Event timebin 1992  \\\n",
       "0                     4.0  ...                16.0                20.0   \n",
       "1                     8.0  ...                12.0                12.0   \n",
       "2                     8.0  ...                12.0                12.0   \n",
       "3                     8.0  ...                 4.0                 8.0   \n",
       "4                     8.0  ...                16.0                16.0   \n",
       "...                   ...  ...                 ...                 ...   \n",
       "4796                  0.0  ...                 0.0                 0.0   \n",
       "4797                  0.0  ...                 0.0                 0.0   \n",
       "4798                  0.0  ...                 0.0                 0.0   \n",
       "4799                  0.0  ...                 0.0                 0.0   \n",
       "4800                  0.0  ...                 0.0                 0.0   \n",
       "\n",
       "      Event timebin 1993  Event timebin 1994  Event timebin 1995  \\\n",
       "0                   20.0                20.0                16.0   \n",
       "1                   12.0                12.0                12.0   \n",
       "2                   12.0                12.0                12.0   \n",
       "3                    8.0                 8.0                 8.0   \n",
       "4                   16.0                16.0                16.0   \n",
       "...                  ...                 ...                 ...   \n",
       "4796                 0.0                 0.0                 0.0   \n",
       "4797                 0.0                 0.0                 0.0   \n",
       "4798                 0.0                 0.0                 0.0   \n",
       "4799                 0.0                 0.0                 0.0   \n",
       "4800                 0.0                 0.0                 0.0   \n",
       "\n",
       "      Event timebin 1996  Event timebin 1997  Event timebin 1998  \\\n",
       "0                   16.0                20.0                20.0   \n",
       "1                   16.0                16.0                16.0   \n",
       "2                   12.0                12.0                12.0   \n",
       "3                    8.0                 8.0                 8.0   \n",
       "4                   16.0                16.0                12.0   \n",
       "...                  ...                 ...                 ...   \n",
       "4796                 0.0                 0.0                 0.0   \n",
       "4797                 0.0                 0.0                 0.0   \n",
       "4798                 0.0                 0.0                 0.0   \n",
       "4799                 0.0                 0.0                 0.0   \n",
       "4800                 0.0                 0.0                 0.0   \n",
       "\n",
       "      Event timebin 1999  Event timebin 2000  \n",
       "0                   20.0                20.0  \n",
       "1                   16.0                16.0  \n",
       "2                   12.0                12.0  \n",
       "3                   12.0                12.0  \n",
       "4                   12.0                12.0  \n",
       "...                  ...                 ...  \n",
       "4796                 0.0                 0.0  \n",
       "4797                 0.0                 0.0  \n",
       "4798                 0.0                 0.0  \n",
       "4799                 0.0                 0.0  \n",
       "4800                 0.0                 0.0  \n",
       "\n",
       "[4801 rows x 4004 columns]"
      ]
     },
     "execution_count": 4,
     "metadata": {},
     "output_type": "execute_result"
    }
   ],
   "source": [
    "event_spikes"
   ]
  },
  {
   "cell_type": "code",
   "execution_count": 6,
   "id": "0c149e1a-ef6f-46f4-88d8-bffe3fc50f42",
   "metadata": {
    "execution": {
     "iopub.execute_input": "2024-05-16T15:32:52.220697Z",
     "iopub.status.busy": "2024-05-16T15:32:52.220697Z",
     "iopub.status.idle": "2024-05-16T15:32:53.064318Z",
     "shell.execute_reply": "2024-05-16T15:32:53.064318Z",
     "shell.execute_reply.started": "2024-05-16T15:32:52.220697Z"
    }
   },
   "outputs": [
    {
     "data": {
      "image/png": "[encoded data removed]",
      "text/plain": [
       "<Figure size 1000x600 with 1 Axes>"
      ]
     },
     "metadata": {},
     "output_type": "display_data"
    }
   ],
   "source": [
    "combined_values = event_spikes[pre_event_cols].values.flatten()\n",
    "\n",
    "# Plot a histogram of the combined values\n",
    "plt.figure(figsize=(10, 6))\n",
    "plt.hist(combined_values, bins=100, alpha=0.75)\n",
    "plt.xlabel('Values')\n",
    "plt.ylabel('Frequency')\n",
    "plt.title('Histogram of Combined Pre-Event Columns')\n",
    "plt.show()"
   ]
  },
  {
   "cell_type": "code",
   "execution_count": 7,
   "id": "c1d066ac-6e79-47bb-a3cf-4fe49ecf4e6d",
   "metadata": {
    "execution": {
     "iopub.execute_input": "2024-05-16T15:33:29.941221Z",
     "iopub.status.busy": "2024-05-16T15:33:29.941221Z",
     "iopub.status.idle": "2024-05-16T15:33:30.649638Z",
     "shell.execute_reply": "2024-05-16T15:33:30.649638Z",
     "shell.execute_reply.started": "2024-05-16T15:33:29.941221Z"
    }
   },
   "outputs": [
    {
     "data": {
      "image/png": "[encoded data removed]",
      "text/plain": [
       "<Figure size 1000x600 with 1 Axes>"
      ]
     },
     "metadata": {},
     "output_type": "display_data"
    }
   ],
   "source": [
    "combined_values = event_spikes[pre_event_cols].values.flatten()\n",
    "\n",
    "# Plot a histogram of the combined values\n",
    "plt.figure(figsize=(10, 6))\n",
    "plt.hist(combined_values, bins=50, alpha=0.75)\n",
    "plt.xlabel('Values')\n",
    "plt.ylabel('Frequency')\n",
    "plt.title('Histogram of Combined Pre-Event Columns')\n",
    "plt.show()"
   ]
  },
  {
   "cell_type": "code",
   "execution_count": 10,
   "id": "c1ae9540-44a4-47e7-8cdf-93e0721a3da0",
   "metadata": {
    "execution": {
     "iopub.execute_input": "2024-05-16T15:34:45.162340Z",
     "iopub.status.busy": "2024-05-16T15:34:45.162340Z",
     "iopub.status.idle": "2024-05-16T15:34:45.845645Z",
     "shell.execute_reply": "2024-05-16T15:34:45.845162Z",
     "shell.execute_reply.started": "2024-05-16T15:34:45.162340Z"
    }
   },
   "outputs": [
    {
     "data": {
      "image/png": "[encoded data removed]",
      "text/plain": [
       "<Figure size 1000x600 with 1 Axes>"
      ]
     },
     "metadata": {},
     "output_type": "display_data"
    }
   ],
   "source": [
    "combined_values = event_spikes[pre_event_cols].values.flatten()\n",
    "\n",
    "# Plot a histogram of the combined values\n",
    "plt.figure(figsize=(10, 6))\n",
    "plt.hist(combined_values, bins=25, alpha=0.75)\n",
    "plt.xlabel('Values')\n",
    "plt.ylabel('Frequency')\n",
    "plt.title('Histogram of Combined Pre-Event Columns')\n",
    "plt.show()"
   ]
  },
  {
   "cell_type": "code",
   "execution_count": 13,
   "id": "ae1b5723-a9e4-45fe-bde7-49c5ff63ddbc",
   "metadata": {
    "execution": {
     "iopub.execute_input": "2024-05-16T15:36:57.638638Z",
     "iopub.status.busy": "2024-05-16T15:36:57.638638Z",
     "iopub.status.idle": "2024-05-16T15:36:57.665520Z",
     "shell.execute_reply": "2024-05-16T15:36:57.665520Z",
     "shell.execute_reply.started": "2024-05-16T15:36:57.638638Z"
    }
   },
   "outputs": [
    {
     "data": {
      "text/plain": [
       "Pre-event timebin 1\n",
       "0.0      2911\n",
       "4.0       905\n",
       "8.0       465\n",
       "12.0      190\n",
       "16.0      129\n",
       "20.0       62\n",
       "24.0       34\n",
       "28.0       25\n",
       "32.0       22\n",
       "36.0       14\n",
       "40.0       13\n",
       "48.0        6\n",
       "52.0        6\n",
       "44.0        5\n",
       "56.0        4\n",
       "60.0        3\n",
       "80.0        1\n",
       "136.0       1\n",
       "84.0        1\n",
       "64.0        1\n",
       "76.0        1\n",
       "96.0        1\n",
       "92.0        1\n",
       "Name: count, dtype: int64"
      ]
     },
     "execution_count": 13,
     "metadata": {},
     "output_type": "execute_result"
    }
   ],
   "source": [
    "event_spikes['Pre-event timebin 1'].value_counts()"
   ]
  },
  {
   "cell_type": "code",
   "execution_count": 18,
   "id": "7813a5b8-5c33-4b51-afa0-de9443e4432b",
   "metadata": {
    "execution": {
     "iopub.execute_input": "2024-05-16T15:39:08.498657Z",
     "iopub.status.busy": "2024-05-16T15:39:08.498657Z",
     "iopub.status.idle": "2024-05-16T15:39:09.281686Z",
     "shell.execute_reply": "2024-05-16T15:39:09.281151Z",
     "shell.execute_reply.started": "2024-05-16T15:39:08.498657Z"
    }
   },
   "outputs": [
    {
     "data": {
      "image/png": "[encoded data removed]",
      "text/plain": [
       "<Figure size 1000x600 with 1 Axes>"
      ]
     },
     "metadata": {},
     "output_type": "display_data"
    }
   ],
   "source": [
    "combined_values = event_spikes[pre_event_cols].values.flatten()\n",
    "\n",
    "# Plot a histogram of the combined values\n",
    "plt.figure(figsize=(10, 6))\n",
    "plt.hist(combined_values, bins=100, alpha=0.75)\n",
    "plt.xlabel('Values')\n",
    "plt.ylabel('Frequency')\n",
    "plt.title('Histogram of Combined Pre-Event Columns')\n",
    "\n",
    "# Set the x-axis limit\n",
    "plt.xlim(0, 50)\n",
    "\n",
    "plt.show()"
   ]
  },
  {
   "cell_type": "code",
   "execution_count": 19,
   "id": "27d814e0-88da-4f51-8150-87588db938e9",
   "metadata": {
    "execution": {
     "iopub.execute_input": "2024-05-16T15:40:07.022019Z",
     "iopub.status.busy": "2024-05-16T15:40:07.022019Z",
     "iopub.status.idle": "2024-05-16T15:40:07.673167Z",
     "shell.execute_reply": "2024-05-16T15:40:07.673167Z",
     "shell.execute_reply.started": "2024-05-16T15:40:07.022019Z"
    }
   },
   "outputs": [
    {
     "data": {
      "image/png": "[encoded data removed]",
      "text/plain": [
       "<Figure size 1000x600 with 1 Axes>"
      ]
     },
     "metadata": {},
     "output_type": "display_data"
    }
   ],
   "source": [
    "combined_values = event_spikes[pre_event_cols].values.flatten()\n",
    "\n",
    "# Plot a histogram of the combined values\n",
    "plt.figure(figsize=(10, 6))\n",
    "plt.hist(combined_values, alpha=0.75)\n",
    "plt.xlabel('Values')\n",
    "plt.ylabel('Frequency')\n",
    "plt.title('Histogram of Combined Pre-Event Columns')\n",
    "\n",
    "# Set the x-axis limit\n",
    "plt.xlim(0, 50)\n",
    "\n",
    "plt.show()"
   ]
  },
  {
   "cell_type": "code",
   "execution_count": 20,
   "id": "fa8c5ee3-aa33-4ecf-8247-66568bea15ac",
   "metadata": {
    "execution": {
     "iopub.execute_input": "2024-05-16T15:41:31.742186Z",
     "iopub.status.busy": "2024-05-16T15:41:31.742186Z",
     "iopub.status.idle": "2024-05-16T15:44:18.659869Z",
     "shell.execute_reply": "2024-05-16T15:44:18.658009Z",
     "shell.execute_reply.started": "2024-05-16T15:41:31.742186Z"
    }
   },
   "outputs": [
    {
     "name": "stderr",
     "output_type": "stream",
     "text": [
      "C:\\Users\\short\\anaconda3\\Lib\\site-packages\\seaborn\\_oldcore.py:1119: FutureWarning: use_inf_as_na option is deprecated and will be removed in a future version. Convert inf values to NaN before operating instead.\n",
      "  with pd.option_context('mode.use_inf_as_na', True):\n"
     ]
    },
    {
     "data": {
      "image/png": "[encoded data removed]",
      "text/plain": [
       "<Figure size 1000x600 with 1 Axes>"
      ]
     },
     "metadata": {},
     "output_type": "display_data"
    }
   ],
   "source": [
    "import seaborn as sns\n",
    "\n",
    "# Assuming event_spikes is your DataFrame and it's already loaded\n",
    "# Define the pre_event_cols\n",
    "pre_event_cols = [col for col in event_spikes.columns if col.startswith('Pre-event')]\n",
    "\n",
    "# Combine all values from pre_event_cols into a single series\n",
    "combined_values = event_spikes[pre_event_cols].values.flatten()\n",
    "\n",
    "# Plot KDE for the combined values\n",
    "plt.figure(figsize=(10, 6))\n",
    "sns.kdeplot(combined_values, bw_adjust=0.5)  # bw_adjust can be tuned for more or less smoothing\n",
    "plt.xlabel('Values')\n",
    "plt.ylabel('Density')\n",
    "plt.title('KDE Plot of Combined Pre-Event Columns')\n",
    "\n",
    "# Set the x-axis limit\n",
    "plt.xlim(0, 50)\n",
    "\n",
    "plt.show()"
   ]
  },
  {
   "cell_type": "code",
   "execution_count": 24,
   "id": "f4c2561f-a89f-4ec4-934d-f3a90f1f299a",
   "metadata": {
    "execution": {
     "iopub.execute_input": "2024-05-16T15:45:32.759854Z",
     "iopub.status.busy": "2024-05-16T15:45:32.759854Z",
     "iopub.status.idle": "2024-05-16T15:45:34.218648Z",
     "shell.execute_reply": "2024-05-16T15:45:34.218648Z",
     "shell.execute_reply.started": "2024-05-16T15:45:32.759854Z"
    }
   },
   "outputs": [
    {
     "name": "stdout",
     "output_type": "stream",
     "text": [
      "All set to analyze\n"
     ]
    }
   ],
   "source": [
    "spike_analysis = spike.SpikeAnalysis_MultiRecording(ephys_data, timebin=100, smoothing_window=300, ignore_freq=0.5)"
   ]
  },
  {
   "cell_type": "code",
   "execution_count": 25,
   "id": "1adf64db-33a2-40ca-818e-8fd32e9be7ce",
   "metadata": {
    "execution": {
     "iopub.execute_input": "2024-05-16T15:45:55.629619Z",
     "iopub.status.busy": "2024-05-16T15:45:55.629619Z",
     "iopub.status.idle": "2024-05-16T15:45:56.113810Z",
     "shell.execute_reply": "2024-05-16T15:45:56.111547Z",
     "shell.execute_reply.started": "2024-05-16T15:45:55.629619Z"
    }
   },
   "outputs": [],
   "source": [
    "# Create df of spike freq 10s before and 10s during every event\n",
    "event_spikes = spike_analysis.generate_event_dataframe()\n",
    "\n",
    "# Identify 'Pre-event' and 'Event' columns\n",
    "pre_event_cols = [col for col in event_spikes.columns if col.startswith('Pre-event')]\n",
    "event_cols = [col for col in event_spikes.columns if col.startswith('Event') and col not in ['Event name', 'Event number']]"
   ]
  },
  {
   "cell_type": "code",
   "execution_count": 26,
   "id": "d9480d30-2242-49d1-9f0e-d07e7fe7eb37",
   "metadata": {
    "execution": {
     "iopub.execute_input": "2024-05-16T15:45:59.412201Z",
     "iopub.status.busy": "2024-05-16T15:45:59.412201Z",
     "iopub.status.idle": "2024-05-16T15:45:59.528679Z",
     "shell.execute_reply": "2024-05-16T15:45:59.527276Z",
     "shell.execute_reply.started": "2024-05-16T15:45:59.412201Z"
    }
   },
   "outputs": [
    {
     "data": {
      "text/html": [
       "<div>\n",
       "<style scoped>\n",
       "    .dataframe tbody tr th:only-of-type {\n",
       "        vertical-align: middle;\n",
       "    }\n",
       "\n",
       "    .dataframe tbody tr th {\n",
       "        vertical-align: top;\n",
       "    }\n",
       "\n",
       "    .dataframe thead th {\n",
       "        text-align: right;\n",
       "    }\n",
       "</style>\n",
       "<table border=\"1\" class=\"dataframe\">\n",
       "  <thead>\n",
       "    <tr style=\"text-align: right;\">\n",
       "      <th></th>\n",
       "      <th>Recording</th>\n",
       "      <th>Event name</th>\n",
       "      <th>Event number</th>\n",
       "      <th>Unit number</th>\n",
       "      <th>Pre-event timebin 1</th>\n",
       "      <th>Pre-event timebin 2</th>\n",
       "      <th>Pre-event timebin 3</th>\n",
       "      <th>Pre-event timebin 4</th>\n",
       "      <th>Pre-event timebin 5</th>\n",
       "      <th>Pre-event timebin 6</th>\n",
       "      <th>...</th>\n",
       "      <th>Event timebin 91</th>\n",
       "      <th>Event timebin 92</th>\n",
       "      <th>Event timebin 93</th>\n",
       "      <th>Event timebin 94</th>\n",
       "      <th>Event timebin 95</th>\n",
       "      <th>Event timebin 96</th>\n",
       "      <th>Event timebin 97</th>\n",
       "      <th>Event timebin 98</th>\n",
       "      <th>Event timebin 99</th>\n",
       "      <th>Event timebin 100</th>\n",
       "    </tr>\n",
       "  </thead>\n",
       "  <tbody>\n",
       "    <tr>\n",
       "      <th>0</th>\n",
       "      <td>20230622_110832_standard_comp_to_both_rewarded...</td>\n",
       "      <td>lose</td>\n",
       "      <td>1</td>\n",
       "      <td>9</td>\n",
       "      <td>10.000000</td>\n",
       "      <td>10.000000</td>\n",
       "      <td>10.000000</td>\n",
       "      <td>3.333333</td>\n",
       "      <td>6.666667</td>\n",
       "      <td>10.000000</td>\n",
       "      <td>...</td>\n",
       "      <td>16.666667</td>\n",
       "      <td>10.000000</td>\n",
       "      <td>6.666667</td>\n",
       "      <td>3.333333</td>\n",
       "      <td>6.666667</td>\n",
       "      <td>13.333333</td>\n",
       "      <td>10.000000</td>\n",
       "      <td>10.000000</td>\n",
       "      <td>10.000000</td>\n",
       "      <td>20.000000</td>\n",
       "    </tr>\n",
       "    <tr>\n",
       "      <th>1</th>\n",
       "      <td>20230622_110832_standard_comp_to_both_rewarded...</td>\n",
       "      <td>lose</td>\n",
       "      <td>2</td>\n",
       "      <td>9</td>\n",
       "      <td>6.666667</td>\n",
       "      <td>6.666667</td>\n",
       "      <td>16.666667</td>\n",
       "      <td>16.666667</td>\n",
       "      <td>23.333333</td>\n",
       "      <td>23.333333</td>\n",
       "      <td>...</td>\n",
       "      <td>6.666667</td>\n",
       "      <td>16.666667</td>\n",
       "      <td>20.000000</td>\n",
       "      <td>16.666667</td>\n",
       "      <td>10.000000</td>\n",
       "      <td>6.666667</td>\n",
       "      <td>6.666667</td>\n",
       "      <td>6.666667</td>\n",
       "      <td>10.000000</td>\n",
       "      <td>13.333333</td>\n",
       "    </tr>\n",
       "    <tr>\n",
       "      <th>2</th>\n",
       "      <td>20230622_110832_standard_comp_to_both_rewarded...</td>\n",
       "      <td>lose</td>\n",
       "      <td>3</td>\n",
       "      <td>9</td>\n",
       "      <td>10.000000</td>\n",
       "      <td>10.000000</td>\n",
       "      <td>20.000000</td>\n",
       "      <td>23.333333</td>\n",
       "      <td>23.333333</td>\n",
       "      <td>13.333333</td>\n",
       "      <td>...</td>\n",
       "      <td>20.000000</td>\n",
       "      <td>20.000000</td>\n",
       "      <td>6.666667</td>\n",
       "      <td>3.333333</td>\n",
       "      <td>10.000000</td>\n",
       "      <td>16.666667</td>\n",
       "      <td>23.333333</td>\n",
       "      <td>13.333333</td>\n",
       "      <td>10.000000</td>\n",
       "      <td>10.000000</td>\n",
       "    </tr>\n",
       "    <tr>\n",
       "      <th>3</th>\n",
       "      <td>20230622_110832_standard_comp_to_both_rewarded...</td>\n",
       "      <td>lose</td>\n",
       "      <td>4</td>\n",
       "      <td>9</td>\n",
       "      <td>10.000000</td>\n",
       "      <td>3.333333</td>\n",
       "      <td>6.666667</td>\n",
       "      <td>6.666667</td>\n",
       "      <td>16.666667</td>\n",
       "      <td>26.666667</td>\n",
       "      <td>...</td>\n",
       "      <td>6.666667</td>\n",
       "      <td>10.000000</td>\n",
       "      <td>10.000000</td>\n",
       "      <td>10.000000</td>\n",
       "      <td>13.333333</td>\n",
       "      <td>16.666667</td>\n",
       "      <td>16.666667</td>\n",
       "      <td>10.000000</td>\n",
       "      <td>3.333333</td>\n",
       "      <td>10.000000</td>\n",
       "    </tr>\n",
       "    <tr>\n",
       "      <th>4</th>\n",
       "      <td>20230622_110832_standard_comp_to_both_rewarded...</td>\n",
       "      <td>lose</td>\n",
       "      <td>5</td>\n",
       "      <td>9</td>\n",
       "      <td>13.333333</td>\n",
       "      <td>20.000000</td>\n",
       "      <td>23.333333</td>\n",
       "      <td>23.333333</td>\n",
       "      <td>36.666667</td>\n",
       "      <td>33.333333</td>\n",
       "      <td>...</td>\n",
       "      <td>10.000000</td>\n",
       "      <td>13.333333</td>\n",
       "      <td>16.666667</td>\n",
       "      <td>13.333333</td>\n",
       "      <td>13.333333</td>\n",
       "      <td>23.333333</td>\n",
       "      <td>23.333333</td>\n",
       "      <td>26.666667</td>\n",
       "      <td>13.333333</td>\n",
       "      <td>13.333333</td>\n",
       "    </tr>\n",
       "    <tr>\n",
       "      <th>...</th>\n",
       "      <td>...</td>\n",
       "      <td>...</td>\n",
       "      <td>...</td>\n",
       "      <td>...</td>\n",
       "      <td>...</td>\n",
       "      <td>...</td>\n",
       "      <td>...</td>\n",
       "      <td>...</td>\n",
       "      <td>...</td>\n",
       "      <td>...</td>\n",
       "      <td>...</td>\n",
       "      <td>...</td>\n",
       "      <td>...</td>\n",
       "      <td>...</td>\n",
       "      <td>...</td>\n",
       "      <td>...</td>\n",
       "      <td>...</td>\n",
       "      <td>...</td>\n",
       "      <td>...</td>\n",
       "      <td>...</td>\n",
       "      <td>...</td>\n",
       "    </tr>\n",
       "    <tr>\n",
       "      <th>4796</th>\n",
       "      <td>20230625_112913_standard_comp_to_both_rewarded...</td>\n",
       "      <td>both_rewarded</td>\n",
       "      <td>16</td>\n",
       "      <td>11</td>\n",
       "      <td>0.000000</td>\n",
       "      <td>0.000000</td>\n",
       "      <td>0.000000</td>\n",
       "      <td>0.000000</td>\n",
       "      <td>0.000000</td>\n",
       "      <td>0.000000</td>\n",
       "      <td>...</td>\n",
       "      <td>0.000000</td>\n",
       "      <td>0.000000</td>\n",
       "      <td>0.000000</td>\n",
       "      <td>0.000000</td>\n",
       "      <td>0.000000</td>\n",
       "      <td>0.000000</td>\n",
       "      <td>0.000000</td>\n",
       "      <td>0.000000</td>\n",
       "      <td>0.000000</td>\n",
       "      <td>0.000000</td>\n",
       "    </tr>\n",
       "    <tr>\n",
       "      <th>4797</th>\n",
       "      <td>20230625_112913_standard_comp_to_both_rewarded...</td>\n",
       "      <td>both_rewarded</td>\n",
       "      <td>17</td>\n",
       "      <td>11</td>\n",
       "      <td>0.000000</td>\n",
       "      <td>0.000000</td>\n",
       "      <td>0.000000</td>\n",
       "      <td>0.000000</td>\n",
       "      <td>0.000000</td>\n",
       "      <td>0.000000</td>\n",
       "      <td>...</td>\n",
       "      <td>0.000000</td>\n",
       "      <td>0.000000</td>\n",
       "      <td>0.000000</td>\n",
       "      <td>0.000000</td>\n",
       "      <td>0.000000</td>\n",
       "      <td>0.000000</td>\n",
       "      <td>0.000000</td>\n",
       "      <td>0.000000</td>\n",
       "      <td>0.000000</td>\n",
       "      <td>0.000000</td>\n",
       "    </tr>\n",
       "    <tr>\n",
       "      <th>4798</th>\n",
       "      <td>20230625_112913_standard_comp_to_both_rewarded...</td>\n",
       "      <td>both_rewarded</td>\n",
       "      <td>18</td>\n",
       "      <td>11</td>\n",
       "      <td>0.000000</td>\n",
       "      <td>0.000000</td>\n",
       "      <td>0.000000</td>\n",
       "      <td>0.000000</td>\n",
       "      <td>0.000000</td>\n",
       "      <td>0.000000</td>\n",
       "      <td>...</td>\n",
       "      <td>0.000000</td>\n",
       "      <td>0.000000</td>\n",
       "      <td>0.000000</td>\n",
       "      <td>0.000000</td>\n",
       "      <td>0.000000</td>\n",
       "      <td>0.000000</td>\n",
       "      <td>0.000000</td>\n",
       "      <td>0.000000</td>\n",
       "      <td>0.000000</td>\n",
       "      <td>0.000000</td>\n",
       "    </tr>\n",
       "    <tr>\n",
       "      <th>4799</th>\n",
       "      <td>20230625_112913_standard_comp_to_both_rewarded...</td>\n",
       "      <td>both_rewarded</td>\n",
       "      <td>19</td>\n",
       "      <td>11</td>\n",
       "      <td>0.000000</td>\n",
       "      <td>0.000000</td>\n",
       "      <td>0.000000</td>\n",
       "      <td>0.000000</td>\n",
       "      <td>0.000000</td>\n",
       "      <td>0.000000</td>\n",
       "      <td>...</td>\n",
       "      <td>0.000000</td>\n",
       "      <td>0.000000</td>\n",
       "      <td>0.000000</td>\n",
       "      <td>0.000000</td>\n",
       "      <td>0.000000</td>\n",
       "      <td>3.333333</td>\n",
       "      <td>3.333333</td>\n",
       "      <td>3.333333</td>\n",
       "      <td>0.000000</td>\n",
       "      <td>0.000000</td>\n",
       "    </tr>\n",
       "    <tr>\n",
       "      <th>4800</th>\n",
       "      <td>20230625_112913_standard_comp_to_both_rewarded...</td>\n",
       "      <td>both_rewarded</td>\n",
       "      <td>20</td>\n",
       "      <td>11</td>\n",
       "      <td>0.000000</td>\n",
       "      <td>0.000000</td>\n",
       "      <td>0.000000</td>\n",
       "      <td>0.000000</td>\n",
       "      <td>0.000000</td>\n",
       "      <td>0.000000</td>\n",
       "      <td>...</td>\n",
       "      <td>6.666667</td>\n",
       "      <td>3.333333</td>\n",
       "      <td>3.333333</td>\n",
       "      <td>0.000000</td>\n",
       "      <td>0.000000</td>\n",
       "      <td>0.000000</td>\n",
       "      <td>0.000000</td>\n",
       "      <td>0.000000</td>\n",
       "      <td>0.000000</td>\n",
       "      <td>0.000000</td>\n",
       "    </tr>\n",
       "  </tbody>\n",
       "</table>\n",
       "<p>4801 rows × 204 columns</p>\n",
       "</div>"
      ],
      "text/plain": [
       "                                              Recording     Event name  \\\n",
       "0     20230622_110832_standard_comp_to_both_rewarded...           lose   \n",
       "1     20230622_110832_standard_comp_to_both_rewarded...           lose   \n",
       "2     20230622_110832_standard_comp_to_both_rewarded...           lose   \n",
       "3     20230622_110832_standard_comp_to_both_rewarded...           lose   \n",
       "4     20230622_110832_standard_comp_to_both_rewarded...           lose   \n",
       "...                                                 ...            ...   \n",
       "4796  20230625_112913_standard_comp_to_both_rewarded...  both_rewarded   \n",
       "4797  20230625_112913_standard_comp_to_both_rewarded...  both_rewarded   \n",
       "4798  20230625_112913_standard_comp_to_both_rewarded...  both_rewarded   \n",
       "4799  20230625_112913_standard_comp_to_both_rewarded...  both_rewarded   \n",
       "4800  20230625_112913_standard_comp_to_both_rewarded...  both_rewarded   \n",
       "\n",
       "      Event number  Unit number  Pre-event timebin 1  Pre-event timebin 2  \\\n",
       "0                1            9            10.000000            10.000000   \n",
       "1                2            9             6.666667             6.666667   \n",
       "2                3            9            10.000000            10.000000   \n",
       "3                4            9            10.000000             3.333333   \n",
       "4                5            9            13.333333            20.000000   \n",
       "...            ...          ...                  ...                  ...   \n",
       "4796            16           11             0.000000             0.000000   \n",
       "4797            17           11             0.000000             0.000000   \n",
       "4798            18           11             0.000000             0.000000   \n",
       "4799            19           11             0.000000             0.000000   \n",
       "4800            20           11             0.000000             0.000000   \n",
       "\n",
       "      Pre-event timebin 3  Pre-event timebin 4  Pre-event timebin 5  \\\n",
       "0               10.000000             3.333333             6.666667   \n",
       "1               16.666667            16.666667            23.333333   \n",
       "2               20.000000            23.333333            23.333333   \n",
       "3                6.666667             6.666667            16.666667   \n",
       "4               23.333333            23.333333            36.666667   \n",
       "...                   ...                  ...                  ...   \n",
       "4796             0.000000             0.000000             0.000000   \n",
       "4797             0.000000             0.000000             0.000000   \n",
       "4798             0.000000             0.000000             0.000000   \n",
       "4799             0.000000             0.000000             0.000000   \n",
       "4800             0.000000             0.000000             0.000000   \n",
       "\n",
       "      Pre-event timebin 6  ...  Event timebin 91  Event timebin 92  \\\n",
       "0               10.000000  ...         16.666667         10.000000   \n",
       "1               23.333333  ...          6.666667         16.666667   \n",
       "2               13.333333  ...         20.000000         20.000000   \n",
       "3               26.666667  ...          6.666667         10.000000   \n",
       "4               33.333333  ...         10.000000         13.333333   \n",
       "...                   ...  ...               ...               ...   \n",
       "4796             0.000000  ...          0.000000          0.000000   \n",
       "4797             0.000000  ...          0.000000          0.000000   \n",
       "4798             0.000000  ...          0.000000          0.000000   \n",
       "4799             0.000000  ...          0.000000          0.000000   \n",
       "4800             0.000000  ...          6.666667          3.333333   \n",
       "\n",
       "      Event timebin 93  Event timebin 94  Event timebin 95  Event timebin 96  \\\n",
       "0             6.666667          3.333333          6.666667         13.333333   \n",
       "1            20.000000         16.666667         10.000000          6.666667   \n",
       "2             6.666667          3.333333         10.000000         16.666667   \n",
       "3            10.000000         10.000000         13.333333         16.666667   \n",
       "4            16.666667         13.333333         13.333333         23.333333   \n",
       "...                ...               ...               ...               ...   \n",
       "4796          0.000000          0.000000          0.000000          0.000000   \n",
       "4797          0.000000          0.000000          0.000000          0.000000   \n",
       "4798          0.000000          0.000000          0.000000          0.000000   \n",
       "4799          0.000000          0.000000          0.000000          3.333333   \n",
       "4800          3.333333          0.000000          0.000000          0.000000   \n",
       "\n",
       "      Event timebin 97  Event timebin 98  Event timebin 99  Event timebin 100  \n",
       "0            10.000000         10.000000         10.000000          20.000000  \n",
       "1             6.666667          6.666667         10.000000          13.333333  \n",
       "2            23.333333         13.333333         10.000000          10.000000  \n",
       "3            16.666667         10.000000          3.333333          10.000000  \n",
       "4            23.333333         26.666667         13.333333          13.333333  \n",
       "...                ...               ...               ...                ...  \n",
       "4796          0.000000          0.000000          0.000000           0.000000  \n",
       "4797          0.000000          0.000000          0.000000           0.000000  \n",
       "4798          0.000000          0.000000          0.000000           0.000000  \n",
       "4799          3.333333          3.333333          0.000000           0.000000  \n",
       "4800          0.000000          0.000000          0.000000           0.000000  \n",
       "\n",
       "[4801 rows x 204 columns]"
      ]
     },
     "execution_count": 26,
     "metadata": {},
     "output_type": "execute_result"
    }
   ],
   "source": [
    "event_spikes"
   ]
  },
  {
   "cell_type": "code",
   "execution_count": 28,
   "id": "fad00f19-cacf-4518-9eac-cafe4befb819",
   "metadata": {
    "execution": {
     "iopub.execute_input": "2024-05-16T15:49:18.344388Z",
     "iopub.status.busy": "2024-05-16T15:49:18.328041Z",
     "iopub.status.idle": "2024-05-16T15:49:18.369685Z",
     "shell.execute_reply": "2024-05-16T15:49:18.369685Z",
     "shell.execute_reply.started": "2024-05-16T15:49:18.343724Z"
    }
   },
   "outputs": [
    {
     "data": {
      "text/plain": [
       "{9: array([1, 1, 0, ..., 0, 0, 0], dtype=int64),\n",
       " 24: array([0, 1, 0, ..., 0, 0, 0], dtype=int64),\n",
       " 76: array([0, 0, 0, ..., 0, 0, 0], dtype=int64),\n",
       " 10: array([0, 0, 0, ..., 0, 0, 0], dtype=int64),\n",
       " 94: array([0, 0, 0, ..., 0, 0, 0], dtype=int64),\n",
       " 87: array([0, 0, 0, ..., 0, 0, 0], dtype=int64),\n",
       " 1: array([0, 0, 0, ..., 0, 0, 0], dtype=int64),\n",
       " 15: array([0, 0, 0, ..., 0, 0, 0], dtype=int64),\n",
       " 97: array([0, 0, 0, ..., 0, 0, 0], dtype=int64),\n",
       " 39: array([0, 0, 0, ..., 0, 1, 0], dtype=int64),\n",
       " 2: array([0, 0, 0, ..., 0, 0, 0], dtype=int64),\n",
       " 11: array([0, 0, 0, ..., 0, 0, 0], dtype=int64),\n",
       " 77: array([0, 0, 0, ..., 0, 0, 0], dtype=int64)}"
      ]
     },
     "execution_count": 28,
     "metadata": {},
     "output_type": "execute_result"
    }
   ],
   "source": [
    "recordings = spike_analysis.ephyscollection.collection\n",
    "\n",
    "recording_name1 = '20230622_110832_standard_comp_to_both_rewarded_D1_subj_1-1_t1b3L_box1_merged.rec'\n",
    "recording1 = recordings.get(recording_name1)\n",
    "\n",
    "recording_name2 = '20230622_110832_standard_comp_to_both_rewarded_D1_subj_1-2_t3b3L_box1_merged.rec'\n",
    "recording2 = recordings.get(recording_name2)\n",
    "\n",
    "recording1.unit_spiketrains"
   ]
  },
  {
   "cell_type": "code",
   "execution_count": 29,
   "id": "a762ac11-1c81-456e-97df-9675f5aef42d",
   "metadata": {
    "execution": {
     "iopub.execute_input": "2024-05-16T16:08:40.995518Z",
     "iopub.status.busy": "2024-05-16T16:08:40.995518Z",
     "iopub.status.idle": "2024-05-16T16:08:45.080143Z",
     "shell.execute_reply": "2024-05-16T16:08:45.077929Z",
     "shell.execute_reply.started": "2024-05-16T16:08:40.995518Z"
    }
   },
   "outputs": [],
   "source": [
    "df2 = pd.DataFrame.from_dict(recording1.unit_spiketrains, orient='index')"
   ]
  },
  {
   "cell_type": "code",
   "execution_count": 30,
   "id": "708c48e7-2fce-46ee-8760-b3e13637cfe9",
   "metadata": {
    "execution": {
     "iopub.execute_input": "2024-05-16T16:12:43.213318Z",
     "iopub.status.busy": "2024-05-16T16:12:43.196840Z",
     "iopub.status.idle": "2024-05-16T16:12:43.386676Z",
     "shell.execute_reply": "2024-05-16T16:12:43.386676Z",
     "shell.execute_reply.started": "2024-05-16T16:12:43.213318Z"
    }
   },
   "outputs": [
    {
     "data": {
      "text/html": [
       "<div>\n",
       "<style scoped>\n",
       "    .dataframe tbody tr th:only-of-type {\n",
       "        vertical-align: middle;\n",
       "    }\n",
       "\n",
       "    .dataframe tbody tr th {\n",
       "        vertical-align: top;\n",
       "    }\n",
       "\n",
       "    .dataframe thead th {\n",
       "        text-align: right;\n",
       "    }\n",
       "</style>\n",
       "<table border=\"1\" class=\"dataframe\">\n",
       "  <thead>\n",
       "    <tr style=\"text-align: right;\">\n",
       "      <th></th>\n",
       "      <th>0</th>\n",
       "      <th>1</th>\n",
       "      <th>2</th>\n",
       "      <th>3</th>\n",
       "      <th>4</th>\n",
       "      <th>5</th>\n",
       "      <th>6</th>\n",
       "      <th>7</th>\n",
       "      <th>8</th>\n",
       "      <th>9</th>\n",
       "      <th>...</th>\n",
       "      <th>33663</th>\n",
       "      <th>33664</th>\n",
       "      <th>33665</th>\n",
       "      <th>33666</th>\n",
       "      <th>33667</th>\n",
       "      <th>33668</th>\n",
       "      <th>33669</th>\n",
       "      <th>33670</th>\n",
       "      <th>33671</th>\n",
       "      <th>33672</th>\n",
       "    </tr>\n",
       "  </thead>\n",
       "  <tbody>\n",
       "    <tr>\n",
       "      <th>9</th>\n",
       "      <td>1</td>\n",
       "      <td>1</td>\n",
       "      <td>0</td>\n",
       "      <td>0</td>\n",
       "      <td>0</td>\n",
       "      <td>0</td>\n",
       "      <td>2</td>\n",
       "      <td>0</td>\n",
       "      <td>1</td>\n",
       "      <td>0</td>\n",
       "      <td>...</td>\n",
       "      <td>0</td>\n",
       "      <td>0</td>\n",
       "      <td>0</td>\n",
       "      <td>0</td>\n",
       "      <td>0</td>\n",
       "      <td>0</td>\n",
       "      <td>0</td>\n",
       "      <td>0</td>\n",
       "      <td>0</td>\n",
       "      <td>0</td>\n",
       "    </tr>\n",
       "    <tr>\n",
       "      <th>24</th>\n",
       "      <td>0</td>\n",
       "      <td>1</td>\n",
       "      <td>0</td>\n",
       "      <td>0</td>\n",
       "      <td>0</td>\n",
       "      <td>0</td>\n",
       "      <td>0</td>\n",
       "      <td>0</td>\n",
       "      <td>0</td>\n",
       "      <td>0</td>\n",
       "      <td>...</td>\n",
       "      <td>0</td>\n",
       "      <td>0</td>\n",
       "      <td>0</td>\n",
       "      <td>0</td>\n",
       "      <td>0</td>\n",
       "      <td>0</td>\n",
       "      <td>0</td>\n",
       "      <td>0</td>\n",
       "      <td>0</td>\n",
       "      <td>0</td>\n",
       "    </tr>\n",
       "    <tr>\n",
       "      <th>76</th>\n",
       "      <td>0</td>\n",
       "      <td>0</td>\n",
       "      <td>0</td>\n",
       "      <td>1</td>\n",
       "      <td>0</td>\n",
       "      <td>0</td>\n",
       "      <td>0</td>\n",
       "      <td>0</td>\n",
       "      <td>0</td>\n",
       "      <td>1</td>\n",
       "      <td>...</td>\n",
       "      <td>0</td>\n",
       "      <td>0</td>\n",
       "      <td>0</td>\n",
       "      <td>0</td>\n",
       "      <td>0</td>\n",
       "      <td>0</td>\n",
       "      <td>0</td>\n",
       "      <td>0</td>\n",
       "      <td>0</td>\n",
       "      <td>0</td>\n",
       "    </tr>\n",
       "    <tr>\n",
       "      <th>10</th>\n",
       "      <td>0</td>\n",
       "      <td>0</td>\n",
       "      <td>0</td>\n",
       "      <td>0</td>\n",
       "      <td>0</td>\n",
       "      <td>0</td>\n",
       "      <td>0</td>\n",
       "      <td>1</td>\n",
       "      <td>0</td>\n",
       "      <td>0</td>\n",
       "      <td>...</td>\n",
       "      <td>0</td>\n",
       "      <td>0</td>\n",
       "      <td>0</td>\n",
       "      <td>0</td>\n",
       "      <td>0</td>\n",
       "      <td>0</td>\n",
       "      <td>0</td>\n",
       "      <td>0</td>\n",
       "      <td>0</td>\n",
       "      <td>0</td>\n",
       "    </tr>\n",
       "    <tr>\n",
       "      <th>94</th>\n",
       "      <td>0</td>\n",
       "      <td>0</td>\n",
       "      <td>0</td>\n",
       "      <td>0</td>\n",
       "      <td>0</td>\n",
       "      <td>0</td>\n",
       "      <td>0</td>\n",
       "      <td>0</td>\n",
       "      <td>1</td>\n",
       "      <td>0</td>\n",
       "      <td>...</td>\n",
       "      <td>0</td>\n",
       "      <td>0</td>\n",
       "      <td>0</td>\n",
       "      <td>0</td>\n",
       "      <td>0</td>\n",
       "      <td>0</td>\n",
       "      <td>0</td>\n",
       "      <td>0</td>\n",
       "      <td>0</td>\n",
       "      <td>0</td>\n",
       "    </tr>\n",
       "    <tr>\n",
       "      <th>87</th>\n",
       "      <td>0</td>\n",
       "      <td>0</td>\n",
       "      <td>0</td>\n",
       "      <td>0</td>\n",
       "      <td>0</td>\n",
       "      <td>0</td>\n",
       "      <td>0</td>\n",
       "      <td>0</td>\n",
       "      <td>0</td>\n",
       "      <td>1</td>\n",
       "      <td>...</td>\n",
       "      <td>0</td>\n",
       "      <td>0</td>\n",
       "      <td>0</td>\n",
       "      <td>0</td>\n",
       "      <td>0</td>\n",
       "      <td>0</td>\n",
       "      <td>0</td>\n",
       "      <td>0</td>\n",
       "      <td>0</td>\n",
       "      <td>0</td>\n",
       "    </tr>\n",
       "    <tr>\n",
       "      <th>1</th>\n",
       "      <td>0</td>\n",
       "      <td>0</td>\n",
       "      <td>0</td>\n",
       "      <td>0</td>\n",
       "      <td>0</td>\n",
       "      <td>0</td>\n",
       "      <td>0</td>\n",
       "      <td>0</td>\n",
       "      <td>0</td>\n",
       "      <td>0</td>\n",
       "      <td>...</td>\n",
       "      <td>0</td>\n",
       "      <td>0</td>\n",
       "      <td>0</td>\n",
       "      <td>0</td>\n",
       "      <td>0</td>\n",
       "      <td>0</td>\n",
       "      <td>0</td>\n",
       "      <td>0</td>\n",
       "      <td>0</td>\n",
       "      <td>0</td>\n",
       "    </tr>\n",
       "    <tr>\n",
       "      <th>15</th>\n",
       "      <td>0</td>\n",
       "      <td>0</td>\n",
       "      <td>0</td>\n",
       "      <td>0</td>\n",
       "      <td>0</td>\n",
       "      <td>0</td>\n",
       "      <td>0</td>\n",
       "      <td>0</td>\n",
       "      <td>0</td>\n",
       "      <td>0</td>\n",
       "      <td>...</td>\n",
       "      <td>0</td>\n",
       "      <td>0</td>\n",
       "      <td>0</td>\n",
       "      <td>0</td>\n",
       "      <td>0</td>\n",
       "      <td>0</td>\n",
       "      <td>0</td>\n",
       "      <td>0</td>\n",
       "      <td>0</td>\n",
       "      <td>0</td>\n",
       "    </tr>\n",
       "    <tr>\n",
       "      <th>97</th>\n",
       "      <td>0</td>\n",
       "      <td>0</td>\n",
       "      <td>0</td>\n",
       "      <td>0</td>\n",
       "      <td>0</td>\n",
       "      <td>0</td>\n",
       "      <td>0</td>\n",
       "      <td>0</td>\n",
       "      <td>0</td>\n",
       "      <td>0</td>\n",
       "      <td>...</td>\n",
       "      <td>0</td>\n",
       "      <td>0</td>\n",
       "      <td>0</td>\n",
       "      <td>0</td>\n",
       "      <td>0</td>\n",
       "      <td>0</td>\n",
       "      <td>0</td>\n",
       "      <td>0</td>\n",
       "      <td>0</td>\n",
       "      <td>0</td>\n",
       "    </tr>\n",
       "    <tr>\n",
       "      <th>39</th>\n",
       "      <td>0</td>\n",
       "      <td>0</td>\n",
       "      <td>0</td>\n",
       "      <td>0</td>\n",
       "      <td>0</td>\n",
       "      <td>0</td>\n",
       "      <td>0</td>\n",
       "      <td>0</td>\n",
       "      <td>0</td>\n",
       "      <td>0</td>\n",
       "      <td>...</td>\n",
       "      <td>0</td>\n",
       "      <td>0</td>\n",
       "      <td>0</td>\n",
       "      <td>0</td>\n",
       "      <td>0</td>\n",
       "      <td>0</td>\n",
       "      <td>0</td>\n",
       "      <td>0</td>\n",
       "      <td>1</td>\n",
       "      <td>0</td>\n",
       "    </tr>\n",
       "    <tr>\n",
       "      <th>2</th>\n",
       "      <td>0</td>\n",
       "      <td>0</td>\n",
       "      <td>0</td>\n",
       "      <td>0</td>\n",
       "      <td>0</td>\n",
       "      <td>0</td>\n",
       "      <td>0</td>\n",
       "      <td>0</td>\n",
       "      <td>0</td>\n",
       "      <td>0</td>\n",
       "      <td>...</td>\n",
       "      <td>0</td>\n",
       "      <td>0</td>\n",
       "      <td>0</td>\n",
       "      <td>0</td>\n",
       "      <td>0</td>\n",
       "      <td>0</td>\n",
       "      <td>0</td>\n",
       "      <td>0</td>\n",
       "      <td>0</td>\n",
       "      <td>0</td>\n",
       "    </tr>\n",
       "    <tr>\n",
       "      <th>11</th>\n",
       "      <td>0</td>\n",
       "      <td>0</td>\n",
       "      <td>0</td>\n",
       "      <td>0</td>\n",
       "      <td>0</td>\n",
       "      <td>0</td>\n",
       "      <td>0</td>\n",
       "      <td>0</td>\n",
       "      <td>0</td>\n",
       "      <td>0</td>\n",
       "      <td>...</td>\n",
       "      <td>0</td>\n",
       "      <td>0</td>\n",
       "      <td>0</td>\n",
       "      <td>0</td>\n",
       "      <td>0</td>\n",
       "      <td>0</td>\n",
       "      <td>0</td>\n",
       "      <td>0</td>\n",
       "      <td>0</td>\n",
       "      <td>0</td>\n",
       "    </tr>\n",
       "    <tr>\n",
       "      <th>77</th>\n",
       "      <td>0</td>\n",
       "      <td>0</td>\n",
       "      <td>0</td>\n",
       "      <td>0</td>\n",
       "      <td>0</td>\n",
       "      <td>0</td>\n",
       "      <td>0</td>\n",
       "      <td>0</td>\n",
       "      <td>0</td>\n",
       "      <td>0</td>\n",
       "      <td>...</td>\n",
       "      <td>0</td>\n",
       "      <td>0</td>\n",
       "      <td>0</td>\n",
       "      <td>0</td>\n",
       "      <td>0</td>\n",
       "      <td>0</td>\n",
       "      <td>0</td>\n",
       "      <td>0</td>\n",
       "      <td>0</td>\n",
       "      <td>0</td>\n",
       "    </tr>\n",
       "  </tbody>\n",
       "</table>\n",
       "<p>13 rows × 33673 columns</p>\n",
       "</div>"
      ],
      "text/plain": [
       "    0      1      2      3      4      5      6      7      8      9      ...  \\\n",
       "9       1      1      0      0      0      0      2      0      1      0  ...   \n",
       "24      0      1      0      0      0      0      0      0      0      0  ...   \n",
       "76      0      0      0      1      0      0      0      0      0      1  ...   \n",
       "10      0      0      0      0      0      0      0      1      0      0  ...   \n",
       "94      0      0      0      0      0      0      0      0      1      0  ...   \n",
       "87      0      0      0      0      0      0      0      0      0      1  ...   \n",
       "1       0      0      0      0      0      0      0      0      0      0  ...   \n",
       "15      0      0      0      0      0      0      0      0      0      0  ...   \n",
       "97      0      0      0      0      0      0      0      0      0      0  ...   \n",
       "39      0      0      0      0      0      0      0      0      0      0  ...   \n",
       "2       0      0      0      0      0      0      0      0      0      0  ...   \n",
       "11      0      0      0      0      0      0      0      0      0      0  ...   \n",
       "77      0      0      0      0      0      0      0      0      0      0  ...   \n",
       "\n",
       "    33663  33664  33665  33666  33667  33668  33669  33670  33671  33672  \n",
       "9       0      0      0      0      0      0      0      0      0      0  \n",
       "24      0      0      0      0      0      0      0      0      0      0  \n",
       "76      0      0      0      0      0      0      0      0      0      0  \n",
       "10      0      0      0      0      0      0      0      0      0      0  \n",
       "94      0      0      0      0      0      0      0      0      0      0  \n",
       "87      0      0      0      0      0      0      0      0      0      0  \n",
       "1       0      0      0      0      0      0      0      0      0      0  \n",
       "15      0      0      0      0      0      0      0      0      0      0  \n",
       "97      0      0      0      0      0      0      0      0      0      0  \n",
       "39      0      0      0      0      0      0      0      0      1      0  \n",
       "2       0      0      0      0      0      0      0      0      0      0  \n",
       "11      0      0      0      0      0      0      0      0      0      0  \n",
       "77      0      0      0      0      0      0      0      0      0      0  \n",
       "\n",
       "[13 rows x 33673 columns]"
      ]
     },
     "execution_count": 30,
     "metadata": {},
     "output_type": "execute_result"
    }
   ],
   "source": [
    "df2"
   ]
  },
  {
   "cell_type": "code",
   "execution_count": 32,
   "id": "43393ae7-658b-43d0-b309-1e5a2e8d8eea",
   "metadata": {
    "execution": {
     "iopub.execute_input": "2024-05-16T16:16:37.064094Z",
     "iopub.status.busy": "2024-05-16T16:16:37.064094Z",
     "iopub.status.idle": "2024-05-16T16:16:37.114029Z",
     "shell.execute_reply": "2024-05-16T16:16:37.112394Z",
     "shell.execute_reply.started": "2024-05-16T16:16:37.064094Z"
    }
   },
   "outputs": [
    {
     "data": {
      "text/plain": [
       "9\n",
       "0    11\n",
       "1     2\n",
       "Name: count, dtype: int64"
      ]
     },
     "execution_count": 32,
     "metadata": {},
     "output_type": "execute_result"
    }
   ],
   "source": [
    "df2[9].value_counts()"
   ]
  },
  {
   "cell_type": "code",
   "execution_count": 34,
   "id": "aafb99f7-b80d-4015-94fe-a9ba3a78f8fa",
   "metadata": {
    "execution": {
     "iopub.execute_input": "2024-05-16T16:18:18.054646Z",
     "iopub.status.busy": "2024-05-16T16:18:18.054646Z",
     "iopub.status.idle": "2024-05-16T16:18:18.083383Z",
     "shell.execute_reply": "2024-05-16T16:18:18.083383Z",
     "shell.execute_reply.started": "2024-05-16T16:18:18.054646Z"
    }
   },
   "outputs": [],
   "source": [
    "df3= df2.transpose()"
   ]
  },
  {
   "cell_type": "code",
   "execution_count": 35,
   "id": "2411ec90-52ea-4435-a160-a51d3a3d577d",
   "metadata": {
    "execution": {
     "iopub.execute_input": "2024-05-16T16:18:20.438351Z",
     "iopub.status.busy": "2024-05-16T16:18:20.438351Z",
     "iopub.status.idle": "2024-05-16T16:18:20.473145Z",
     "shell.execute_reply": "2024-05-16T16:18:20.473145Z",
     "shell.execute_reply.started": "2024-05-16T16:18:20.438351Z"
    }
   },
   "outputs": [
    {
     "data": {
      "text/html": [
       "<div>\n",
       "<style scoped>\n",
       "    .dataframe tbody tr th:only-of-type {\n",
       "        vertical-align: middle;\n",
       "    }\n",
       "\n",
       "    .dataframe tbody tr th {\n",
       "        vertical-align: top;\n",
       "    }\n",
       "\n",
       "    .dataframe thead th {\n",
       "        text-align: right;\n",
       "    }\n",
       "</style>\n",
       "<table border=\"1\" class=\"dataframe\">\n",
       "  <thead>\n",
       "    <tr style=\"text-align: right;\">\n",
       "      <th></th>\n",
       "      <th>9</th>\n",
       "      <th>24</th>\n",
       "      <th>76</th>\n",
       "      <th>10</th>\n",
       "      <th>94</th>\n",
       "      <th>87</th>\n",
       "      <th>1</th>\n",
       "      <th>15</th>\n",
       "      <th>97</th>\n",
       "      <th>39</th>\n",
       "      <th>2</th>\n",
       "      <th>11</th>\n",
       "      <th>77</th>\n",
       "    </tr>\n",
       "  </thead>\n",
       "  <tbody>\n",
       "    <tr>\n",
       "      <th>0</th>\n",
       "      <td>1</td>\n",
       "      <td>0</td>\n",
       "      <td>0</td>\n",
       "      <td>0</td>\n",
       "      <td>0</td>\n",
       "      <td>0</td>\n",
       "      <td>0</td>\n",
       "      <td>0</td>\n",
       "      <td>0</td>\n",
       "      <td>0</td>\n",
       "      <td>0</td>\n",
       "      <td>0</td>\n",
       "      <td>0</td>\n",
       "    </tr>\n",
       "    <tr>\n",
       "      <th>1</th>\n",
       "      <td>1</td>\n",
       "      <td>1</td>\n",
       "      <td>0</td>\n",
       "      <td>0</td>\n",
       "      <td>0</td>\n",
       "      <td>0</td>\n",
       "      <td>0</td>\n",
       "      <td>0</td>\n",
       "      <td>0</td>\n",
       "      <td>0</td>\n",
       "      <td>0</td>\n",
       "      <td>0</td>\n",
       "      <td>0</td>\n",
       "    </tr>\n",
       "    <tr>\n",
       "      <th>2</th>\n",
       "      <td>0</td>\n",
       "      <td>0</td>\n",
       "      <td>0</td>\n",
       "      <td>0</td>\n",
       "      <td>0</td>\n",
       "      <td>0</td>\n",
       "      <td>0</td>\n",
       "      <td>0</td>\n",
       "      <td>0</td>\n",
       "      <td>0</td>\n",
       "      <td>0</td>\n",
       "      <td>0</td>\n",
       "      <td>0</td>\n",
       "    </tr>\n",
       "    <tr>\n",
       "      <th>3</th>\n",
       "      <td>0</td>\n",
       "      <td>0</td>\n",
       "      <td>1</td>\n",
       "      <td>0</td>\n",
       "      <td>0</td>\n",
       "      <td>0</td>\n",
       "      <td>0</td>\n",
       "      <td>0</td>\n",
       "      <td>0</td>\n",
       "      <td>0</td>\n",
       "      <td>0</td>\n",
       "      <td>0</td>\n",
       "      <td>0</td>\n",
       "    </tr>\n",
       "    <tr>\n",
       "      <th>4</th>\n",
       "      <td>0</td>\n",
       "      <td>0</td>\n",
       "      <td>0</td>\n",
       "      <td>0</td>\n",
       "      <td>0</td>\n",
       "      <td>0</td>\n",
       "      <td>0</td>\n",
       "      <td>0</td>\n",
       "      <td>0</td>\n",
       "      <td>0</td>\n",
       "      <td>0</td>\n",
       "      <td>0</td>\n",
       "      <td>0</td>\n",
       "    </tr>\n",
       "    <tr>\n",
       "      <th>...</th>\n",
       "      <td>...</td>\n",
       "      <td>...</td>\n",
       "      <td>...</td>\n",
       "      <td>...</td>\n",
       "      <td>...</td>\n",
       "      <td>...</td>\n",
       "      <td>...</td>\n",
       "      <td>...</td>\n",
       "      <td>...</td>\n",
       "      <td>...</td>\n",
       "      <td>...</td>\n",
       "      <td>...</td>\n",
       "      <td>...</td>\n",
       "    </tr>\n",
       "    <tr>\n",
       "      <th>33668</th>\n",
       "      <td>0</td>\n",
       "      <td>0</td>\n",
       "      <td>0</td>\n",
       "      <td>0</td>\n",
       "      <td>0</td>\n",
       "      <td>0</td>\n",
       "      <td>0</td>\n",
       "      <td>0</td>\n",
       "      <td>0</td>\n",
       "      <td>0</td>\n",
       "      <td>0</td>\n",
       "      <td>0</td>\n",
       "      <td>0</td>\n",
       "    </tr>\n",
       "    <tr>\n",
       "      <th>33669</th>\n",
       "      <td>0</td>\n",
       "      <td>0</td>\n",
       "      <td>0</td>\n",
       "      <td>0</td>\n",
       "      <td>0</td>\n",
       "      <td>0</td>\n",
       "      <td>0</td>\n",
       "      <td>0</td>\n",
       "      <td>0</td>\n",
       "      <td>0</td>\n",
       "      <td>0</td>\n",
       "      <td>0</td>\n",
       "      <td>0</td>\n",
       "    </tr>\n",
       "    <tr>\n",
       "      <th>33670</th>\n",
       "      <td>0</td>\n",
       "      <td>0</td>\n",
       "      <td>0</td>\n",
       "      <td>0</td>\n",
       "      <td>0</td>\n",
       "      <td>0</td>\n",
       "      <td>0</td>\n",
       "      <td>0</td>\n",
       "      <td>0</td>\n",
       "      <td>0</td>\n",
       "      <td>0</td>\n",
       "      <td>0</td>\n",
       "      <td>0</td>\n",
       "    </tr>\n",
       "    <tr>\n",
       "      <th>33671</th>\n",
       "      <td>0</td>\n",
       "      <td>0</td>\n",
       "      <td>0</td>\n",
       "      <td>0</td>\n",
       "      <td>0</td>\n",
       "      <td>0</td>\n",
       "      <td>0</td>\n",
       "      <td>0</td>\n",
       "      <td>0</td>\n",
       "      <td>1</td>\n",
       "      <td>0</td>\n",
       "      <td>0</td>\n",
       "      <td>0</td>\n",
       "    </tr>\n",
       "    <tr>\n",
       "      <th>33672</th>\n",
       "      <td>0</td>\n",
       "      <td>0</td>\n",
       "      <td>0</td>\n",
       "      <td>0</td>\n",
       "      <td>0</td>\n",
       "      <td>0</td>\n",
       "      <td>0</td>\n",
       "      <td>0</td>\n",
       "      <td>0</td>\n",
       "      <td>0</td>\n",
       "      <td>0</td>\n",
       "      <td>0</td>\n",
       "      <td>0</td>\n",
       "    </tr>\n",
       "  </tbody>\n",
       "</table>\n",
       "<p>33673 rows × 13 columns</p>\n",
       "</div>"
      ],
      "text/plain": [
       "       9   24  76  10  94  87  1   15  97  39  2   11  77\n",
       "0       1   0   0   0   0   0   0   0   0   0   0   0   0\n",
       "1       1   1   0   0   0   0   0   0   0   0   0   0   0\n",
       "2       0   0   0   0   0   0   0   0   0   0   0   0   0\n",
       "3       0   0   1   0   0   0   0   0   0   0   0   0   0\n",
       "4       0   0   0   0   0   0   0   0   0   0   0   0   0\n",
       "...    ..  ..  ..  ..  ..  ..  ..  ..  ..  ..  ..  ..  ..\n",
       "33668   0   0   0   0   0   0   0   0   0   0   0   0   0\n",
       "33669   0   0   0   0   0   0   0   0   0   0   0   0   0\n",
       "33670   0   0   0   0   0   0   0   0   0   0   0   0   0\n",
       "33671   0   0   0   0   0   0   0   0   0   1   0   0   0\n",
       "33672   0   0   0   0   0   0   0   0   0   0   0   0   0\n",
       "\n",
       "[33673 rows x 13 columns]"
      ]
     },
     "execution_count": 35,
     "metadata": {},
     "output_type": "execute_result"
    }
   ],
   "source": [
    "df3"
   ]
  },
  {
   "cell_type": "code",
   "execution_count": 36,
   "id": "d06a173b-6758-41fa-9228-cee810eea32c",
   "metadata": {
    "execution": {
     "iopub.execute_input": "2024-05-16T16:18:36.856782Z",
     "iopub.status.busy": "2024-05-16T16:18:36.856782Z",
     "iopub.status.idle": "2024-05-16T16:18:36.888378Z",
     "shell.execute_reply": "2024-05-16T16:18:36.886866Z",
     "shell.execute_reply.started": "2024-05-16T16:18:36.856782Z"
    }
   },
   "outputs": [
    {
     "data": {
      "text/plain": [
       "9\n",
       "1     10406\n",
       "0      9426\n",
       "2      7155\n",
       "3      3786\n",
       "4      1738\n",
       "5       716\n",
       "6       302\n",
       "7        89\n",
       "8        46\n",
       "9         5\n",
       "10        3\n",
       "11        1\n",
       "Name: count, dtype: int64"
      ]
     },
     "execution_count": 36,
     "metadata": {},
     "output_type": "execute_result"
    }
   ],
   "source": [
    "df3[9].value_counts()"
   ]
  },
  {
   "cell_type": "code",
   "execution_count": 37,
   "id": "319ba1b6-ddc6-47a7-9be9-8395243081bc",
   "metadata": {
    "execution": {
     "iopub.execute_input": "2024-05-16T16:18:57.726597Z",
     "iopub.status.busy": "2024-05-16T16:18:57.726597Z",
     "iopub.status.idle": "2024-05-16T16:18:57.740928Z",
     "shell.execute_reply": "2024-05-16T16:18:57.740756Z",
     "shell.execute_reply.started": "2024-05-16T16:18:57.726597Z"
    }
   },
   "outputs": [
    {
     "data": {
      "text/plain": [
       "24\n",
       "0    32115\n",
       "1     1448\n",
       "2       79\n",
       "4       15\n",
       "3       10\n",
       "5        2\n",
       "6        2\n",
       "7        1\n",
       "8        1\n",
       "Name: count, dtype: int64"
      ]
     },
     "execution_count": 37,
     "metadata": {},
     "output_type": "execute_result"
    }
   ],
   "source": [
    "df3[24].value_counts()"
   ]
  },
  {
   "cell_type": "code",
   "execution_count": 43,
   "id": "4776169b-6688-43fc-821f-4f2bfa6a8af7",
   "metadata": {
    "execution": {
     "iopub.execute_input": "2024-05-16T16:22:10.505167Z",
     "iopub.status.busy": "2024-05-16T16:22:10.505167Z",
     "iopub.status.idle": "2024-05-16T16:22:10.878071Z",
     "shell.execute_reply": "2024-05-16T16:22:10.878071Z",
     "shell.execute_reply.started": "2024-05-16T16:22:10.505167Z"
    }
   },
   "outputs": [
    {
     "data": {
      "image/png": "[encoded data removed]",
      "text/plain": [
       "<Figure size 1000x600 with 1 Axes>"
      ]
     },
     "metadata": {},
     "output_type": "display_data"
    }
   ],
   "source": [
    "combined_spiketrains_100_s = df3.values.flatten()\n",
    "\n",
    "# Plot a histogram of the combined values\n",
    "plt.figure(figsize=(10, 6))\n",
    "plt.hist(combined_spiketrains_100_s, alpha=0.75)\n",
    "plt.xlabel('Values')\n",
    "plt.ylabel('Frequency')\n",
    "plt.title('Histogram of spiketrain bins')\n",
    "# Set the x-axis limit\n",
    "#plt.xlim(0, 50)\n",
    "plt.show()"
   ]
  },
  {
   "cell_type": "code",
   "execution_count": 45,
   "id": "7bdb346b-6d35-4474-806f-1f829da08b87",
   "metadata": {
    "execution": {
     "iopub.execute_input": "2024-05-16T16:22:39.324024Z",
     "iopub.status.busy": "2024-05-16T16:22:39.324024Z",
     "iopub.status.idle": "2024-05-16T16:22:39.341603Z",
     "shell.execute_reply": "2024-05-16T16:22:39.340225Z",
     "shell.execute_reply.started": "2024-05-16T16:22:39.324024Z"
    }
   },
   "outputs": [
    {
     "data": {
      "text/plain": [
       "array([1, 0, 0, ..., 0, 0, 0], dtype=int64)"
      ]
     },
     "execution_count": 45,
     "metadata": {},
     "output_type": "execute_result"
    }
   ],
   "source": [
    "combined_spiketrains_100_s"
   ]
  },
  {
   "cell_type": "code",
   "execution_count": 46,
   "id": "bc0a62aa-fb03-4de5-a3ed-10f0e4964d17",
   "metadata": {
    "execution": {
     "iopub.execute_input": "2024-05-16T16:22:48.841437Z",
     "iopub.status.busy": "2024-05-16T16:22:48.841437Z",
     "iopub.status.idle": "2024-05-16T16:22:48.858063Z",
     "shell.execute_reply": "2024-05-16T16:22:48.856586Z",
     "shell.execute_reply.started": "2024-05-16T16:22:48.841437Z"
    }
   },
   "outputs": [
    {
     "data": {
      "text/plain": [
       "437749"
      ]
     },
     "execution_count": 46,
     "metadata": {},
     "output_type": "execute_result"
    }
   ],
   "source": [
    "len(combined_spiketrains_100_s)"
   ]
  },
  {
   "cell_type": "code",
   "execution_count": 48,
   "id": "ab41b91c-b179-41b6-8316-3b23613e65a3",
   "metadata": {
    "execution": {
     "iopub.execute_input": "2024-05-16T16:24:14.030924Z",
     "iopub.status.busy": "2024-05-16T16:24:14.030924Z",
     "iopub.status.idle": "2024-05-16T16:24:14.050689Z",
     "shell.execute_reply": "2024-05-16T16:24:14.050689Z",
     "shell.execute_reply.started": "2024-05-16T16:24:14.030924Z"
    }
   },
   "outputs": [
    {
     "name": "stdout",
     "output_type": "stream",
     "text": [
      "[[     0 372360]\n",
      " [     1  44063]\n",
      " [     2  12748]\n",
      " [     3   5136]\n",
      " [     4   2140]\n",
      " [     5    806]\n",
      " [     6    331]\n",
      " [     7    104]\n",
      " [     8     50]\n",
      " [     9      7]\n",
      " [    10      3]\n",
      " [    11      1]]\n"
     ]
    }
   ],
   "source": [
    "unique, counts = np.unique(combined_spiketrains_100_s, return_counts=True)\n",
    "\n",
    "print(np.asarray((unique, counts)).T)"
   ]
  },
  {
   "cell_type": "code",
   "execution_count": 49,
   "id": "33e8e2cc-8644-4fe5-a389-b708878ba0dd",
   "metadata": {
    "execution": {
     "iopub.execute_input": "2024-05-16T16:24:46.050353Z",
     "iopub.status.busy": "2024-05-16T16:24:46.050353Z",
     "iopub.status.idle": "2024-05-16T16:24:46.400041Z",
     "shell.execute_reply": "2024-05-16T16:24:46.399475Z",
     "shell.execute_reply.started": "2024-05-16T16:24:46.050353Z"
    }
   },
   "outputs": [
    {
     "data": {
      "image/png": "[encoded data removed]",
      "text/plain": [
       "<Figure size 1000x600 with 1 Axes>"
      ]
     },
     "metadata": {},
     "output_type": "display_data"
    }
   ],
   "source": [
    "combined_spiketrains_100_s = df3.values.flatten()\n",
    "\n",
    "# Plot a histogram of the combined values\n",
    "plt.figure(figsize=(10, 6))\n",
    "plt.hist(combined_spiketrains_100_s, bins=12, alpha=0.75)\n",
    "plt.xlabel('Values')\n",
    "plt.ylabel('Frequency')\n",
    "plt.title('Histogram of spiketrain bins')\n",
    "# Set the x-axis limit\n",
    "#plt.xlim(0, 50)\n",
    "plt.show()"
   ]
  },
  {
   "cell_type": "code",
   "execution_count": 56,
   "id": "b8fe2a29-7666-451e-ae78-cbf6408c8204",
   "metadata": {
    "execution": {
     "iopub.execute_input": "2024-05-16T16:29:23.087258Z",
     "iopub.status.busy": "2024-05-16T16:29:23.087258Z",
     "iopub.status.idle": "2024-05-16T16:29:42.037558Z",
     "shell.execute_reply": "2024-05-16T16:29:42.029049Z",
     "shell.execute_reply.started": "2024-05-16T16:29:23.087258Z"
    }
   },
   "outputs": [
    {
     "name": "stdout",
     "output_type": "stream",
     "text": [
      "All set to analyze\n"
     ]
    }
   ],
   "source": [
    "spike_analysis = spike.SpikeAnalysis_MultiRecording(ephys_data, timebin=5, smoothing_window=300, ignore_freq=0.5)"
   ]
  },
  {
   "cell_type": "code",
   "execution_count": 57,
   "id": "06c46106-ec08-418d-8b5c-327894427ae8",
   "metadata": {
    "execution": {
     "iopub.execute_input": "2024-05-16T16:29:52.222541Z",
     "iopub.status.busy": "2024-05-16T16:29:52.222541Z",
     "iopub.status.idle": "2024-05-16T16:29:52.389004Z",
     "shell.execute_reply": "2024-05-16T16:29:52.367558Z",
     "shell.execute_reply.started": "2024-05-16T16:29:52.222541Z"
    }
   },
   "outputs": [],
   "source": [
    "recordings = spike_analysis.ephyscollection.collection\n",
    "\n",
    "recording_name1 = '20230622_110832_standard_comp_to_both_rewarded_D1_subj_1-1_t1b3L_box1_merged.rec'\n",
    "recording1 = recordings.get(recording_name1)\n",
    "\n",
    "recording_name2 = '20230622_110832_standard_comp_to_both_rewarded_D1_subj_1-2_t3b3L_box1_merged.rec'\n",
    "recording2 = recordings.get(recording_name2)"
   ]
  },
  {
   "cell_type": "code",
   "execution_count": 58,
   "id": "89aae763-08de-459a-9efa-246f439d1af4",
   "metadata": {
    "execution": {
     "iopub.execute_input": "2024-05-16T16:30:10.807307Z",
     "iopub.status.busy": "2024-05-16T16:30:10.807307Z",
     "iopub.status.idle": "2024-05-16T16:31:40.493984Z",
     "shell.execute_reply": "2024-05-16T16:31:40.493984Z",
     "shell.execute_reply.started": "2024-05-16T16:30:10.807307Z"
    }
   },
   "outputs": [
    {
     "data": {
      "text/html": [
       "<div>\n",
       "<style scoped>\n",
       "    .dataframe tbody tr th:only-of-type {\n",
       "        vertical-align: middle;\n",
       "    }\n",
       "\n",
       "    .dataframe tbody tr th {\n",
       "        vertical-align: top;\n",
       "    }\n",
       "\n",
       "    .dataframe thead th {\n",
       "        text-align: right;\n",
       "    }\n",
       "</style>\n",
       "<table border=\"1\" class=\"dataframe\">\n",
       "  <thead>\n",
       "    <tr style=\"text-align: right;\">\n",
       "      <th></th>\n",
       "      <th>9</th>\n",
       "      <th>24</th>\n",
       "      <th>76</th>\n",
       "      <th>10</th>\n",
       "      <th>94</th>\n",
       "      <th>87</th>\n",
       "      <th>1</th>\n",
       "      <th>15</th>\n",
       "      <th>97</th>\n",
       "      <th>39</th>\n",
       "      <th>2</th>\n",
       "      <th>11</th>\n",
       "      <th>77</th>\n",
       "    </tr>\n",
       "  </thead>\n",
       "  <tbody>\n",
       "    <tr>\n",
       "      <th>0</th>\n",
       "      <td>0</td>\n",
       "      <td>0</td>\n",
       "      <td>0</td>\n",
       "      <td>0</td>\n",
       "      <td>0</td>\n",
       "      <td>0</td>\n",
       "      <td>0</td>\n",
       "      <td>0</td>\n",
       "      <td>0</td>\n",
       "      <td>0</td>\n",
       "      <td>0</td>\n",
       "      <td>0</td>\n",
       "      <td>0</td>\n",
       "    </tr>\n",
       "    <tr>\n",
       "      <th>1</th>\n",
       "      <td>0</td>\n",
       "      <td>0</td>\n",
       "      <td>0</td>\n",
       "      <td>0</td>\n",
       "      <td>0</td>\n",
       "      <td>0</td>\n",
       "      <td>0</td>\n",
       "      <td>0</td>\n",
       "      <td>0</td>\n",
       "      <td>0</td>\n",
       "      <td>0</td>\n",
       "      <td>0</td>\n",
       "      <td>0</td>\n",
       "    </tr>\n",
       "    <tr>\n",
       "      <th>2</th>\n",
       "      <td>1</td>\n",
       "      <td>0</td>\n",
       "      <td>0</td>\n",
       "      <td>0</td>\n",
       "      <td>0</td>\n",
       "      <td>0</td>\n",
       "      <td>0</td>\n",
       "      <td>0</td>\n",
       "      <td>0</td>\n",
       "      <td>0</td>\n",
       "      <td>0</td>\n",
       "      <td>0</td>\n",
       "      <td>0</td>\n",
       "    </tr>\n",
       "    <tr>\n",
       "      <th>3</th>\n",
       "      <td>0</td>\n",
       "      <td>0</td>\n",
       "      <td>0</td>\n",
       "      <td>0</td>\n",
       "      <td>0</td>\n",
       "      <td>0</td>\n",
       "      <td>0</td>\n",
       "      <td>0</td>\n",
       "      <td>0</td>\n",
       "      <td>0</td>\n",
       "      <td>0</td>\n",
       "      <td>0</td>\n",
       "      <td>0</td>\n",
       "    </tr>\n",
       "    <tr>\n",
       "      <th>4</th>\n",
       "      <td>0</td>\n",
       "      <td>0</td>\n",
       "      <td>0</td>\n",
       "      <td>0</td>\n",
       "      <td>0</td>\n",
       "      <td>0</td>\n",
       "      <td>0</td>\n",
       "      <td>0</td>\n",
       "      <td>0</td>\n",
       "      <td>0</td>\n",
       "      <td>0</td>\n",
       "      <td>0</td>\n",
       "      <td>0</td>\n",
       "    </tr>\n",
       "    <tr>\n",
       "      <th>...</th>\n",
       "      <td>...</td>\n",
       "      <td>...</td>\n",
       "      <td>...</td>\n",
       "      <td>...</td>\n",
       "      <td>...</td>\n",
       "      <td>...</td>\n",
       "      <td>...</td>\n",
       "      <td>...</td>\n",
       "      <td>...</td>\n",
       "      <td>...</td>\n",
       "      <td>...</td>\n",
       "      <td>...</td>\n",
       "      <td>...</td>\n",
       "    </tr>\n",
       "    <tr>\n",
       "      <th>673471</th>\n",
       "      <td>0</td>\n",
       "      <td>0</td>\n",
       "      <td>0</td>\n",
       "      <td>0</td>\n",
       "      <td>0</td>\n",
       "      <td>0</td>\n",
       "      <td>0</td>\n",
       "      <td>0</td>\n",
       "      <td>0</td>\n",
       "      <td>0</td>\n",
       "      <td>0</td>\n",
       "      <td>0</td>\n",
       "      <td>0</td>\n",
       "    </tr>\n",
       "    <tr>\n",
       "      <th>673472</th>\n",
       "      <td>0</td>\n",
       "      <td>0</td>\n",
       "      <td>0</td>\n",
       "      <td>0</td>\n",
       "      <td>0</td>\n",
       "      <td>0</td>\n",
       "      <td>0</td>\n",
       "      <td>0</td>\n",
       "      <td>0</td>\n",
       "      <td>0</td>\n",
       "      <td>0</td>\n",
       "      <td>0</td>\n",
       "      <td>0</td>\n",
       "    </tr>\n",
       "    <tr>\n",
       "      <th>673473</th>\n",
       "      <td>0</td>\n",
       "      <td>0</td>\n",
       "      <td>0</td>\n",
       "      <td>0</td>\n",
       "      <td>0</td>\n",
       "      <td>0</td>\n",
       "      <td>0</td>\n",
       "      <td>0</td>\n",
       "      <td>0</td>\n",
       "      <td>0</td>\n",
       "      <td>0</td>\n",
       "      <td>0</td>\n",
       "      <td>0</td>\n",
       "    </tr>\n",
       "    <tr>\n",
       "      <th>673474</th>\n",
       "      <td>0</td>\n",
       "      <td>0</td>\n",
       "      <td>0</td>\n",
       "      <td>0</td>\n",
       "      <td>0</td>\n",
       "      <td>0</td>\n",
       "      <td>0</td>\n",
       "      <td>0</td>\n",
       "      <td>0</td>\n",
       "      <td>0</td>\n",
       "      <td>0</td>\n",
       "      <td>0</td>\n",
       "      <td>0</td>\n",
       "    </tr>\n",
       "    <tr>\n",
       "      <th>673475</th>\n",
       "      <td>0</td>\n",
       "      <td>0</td>\n",
       "      <td>0</td>\n",
       "      <td>0</td>\n",
       "      <td>0</td>\n",
       "      <td>0</td>\n",
       "      <td>0</td>\n",
       "      <td>0</td>\n",
       "      <td>0</td>\n",
       "      <td>0</td>\n",
       "      <td>0</td>\n",
       "      <td>0</td>\n",
       "      <td>0</td>\n",
       "    </tr>\n",
       "  </tbody>\n",
       "</table>\n",
       "<p>673476 rows × 13 columns</p>\n",
       "</div>"
      ],
      "text/plain": [
       "        9   24  76  10  94  87  1   15  97  39  2   11  77\n",
       "0        0   0   0   0   0   0   0   0   0   0   0   0   0\n",
       "1        0   0   0   0   0   0   0   0   0   0   0   0   0\n",
       "2        1   0   0   0   0   0   0   0   0   0   0   0   0\n",
       "3        0   0   0   0   0   0   0   0   0   0   0   0   0\n",
       "4        0   0   0   0   0   0   0   0   0   0   0   0   0\n",
       "...     ..  ..  ..  ..  ..  ..  ..  ..  ..  ..  ..  ..  ..\n",
       "673471   0   0   0   0   0   0   0   0   0   0   0   0   0\n",
       "673472   0   0   0   0   0   0   0   0   0   0   0   0   0\n",
       "673473   0   0   0   0   0   0   0   0   0   0   0   0   0\n",
       "673474   0   0   0   0   0   0   0   0   0   0   0   0   0\n",
       "673475   0   0   0   0   0   0   0   0   0   0   0   0   0\n",
       "\n",
       "[673476 rows x 13 columns]"
      ]
     },
     "execution_count": 58,
     "metadata": {},
     "output_type": "execute_result"
    }
   ],
   "source": [
    "df2 = pd.DataFrame.from_dict(recording1.unit_spiketrains, orient='index')\n",
    "df3= df2.transpose()\n",
    "df3"
   ]
  },
  {
   "cell_type": "code",
   "execution_count": 59,
   "id": "419d46e9-7844-46ad-b401-f846235a8f8b",
   "metadata": {
    "execution": {
     "iopub.execute_input": "2024-05-16T16:32:20.016627Z",
     "iopub.status.busy": "2024-05-16T16:32:20.016627Z",
     "iopub.status.idle": "2024-05-16T16:32:20.067187Z",
     "shell.execute_reply": "2024-05-16T16:32:20.064580Z",
     "shell.execute_reply.started": "2024-05-16T16:32:20.016627Z"
    }
   },
   "outputs": [],
   "source": [
    "combined_spiketrains_5 = df3.values.flatten()"
   ]
  },
  {
   "cell_type": "code",
   "execution_count": 60,
   "id": "260f0d6e-7472-4564-bc7e-0ee860596538",
   "metadata": {
    "execution": {
     "iopub.execute_input": "2024-05-16T16:32:20.067187Z",
     "iopub.status.busy": "2024-05-16T16:32:20.067187Z",
     "iopub.status.idle": "2024-05-16T16:32:20.083565Z",
     "shell.execute_reply": "2024-05-16T16:32:20.081543Z",
     "shell.execute_reply.started": "2024-05-16T16:32:20.067187Z"
    }
   },
   "outputs": [
    {
     "data": {
      "text/plain": [
       "array([0, 0, 0, ..., 0, 0, 0], dtype=int64)"
      ]
     },
     "execution_count": 60,
     "metadata": {},
     "output_type": "execute_result"
    }
   ],
   "source": [
    "combined_spiketrains_5"
   ]
  },
  {
   "cell_type": "code",
   "execution_count": 61,
   "id": "a8b688ce-5c51-4586-ba71-d91949af45e9",
   "metadata": {
    "execution": {
     "iopub.execute_input": "2024-05-16T16:32:20.083565Z",
     "iopub.status.busy": "2024-05-16T16:32:20.083565Z",
     "iopub.status.idle": "2024-05-16T16:32:20.383219Z",
     "shell.execute_reply": "2024-05-16T16:32:20.380735Z",
     "shell.execute_reply.started": "2024-05-16T16:32:20.083565Z"
    }
   },
   "outputs": [
    {
     "name": "stdout",
     "output_type": "stream",
     "text": [
      "[[      0 8654596]\n",
      " [      1  100409]\n",
      " [      2     183]]\n"
     ]
    }
   ],
   "source": [
    "unique, counts = np.unique(combined_spiketrains_5, return_counts=True)\n",
    "\n",
    "print(np.asarray((unique, counts)).T)"
   ]
  },
  {
   "cell_type": "code",
   "execution_count": 64,
   "id": "1b0c9fa7-f621-429f-ad18-c3d7930868b8",
   "metadata": {
    "execution": {
     "iopub.execute_input": "2024-05-16T16:38:26.562043Z",
     "iopub.status.busy": "2024-05-16T16:38:26.562043Z",
     "iopub.status.idle": "2024-05-16T16:38:27.110451Z",
     "shell.execute_reply": "2024-05-16T16:38:27.109841Z",
     "shell.execute_reply.started": "2024-05-16T16:38:26.562043Z"
    }
   },
   "outputs": [
    {
     "data": {
      "image/png": "[encoded data removed]",
      "text/plain": [
       "<Figure size 1000x600 with 1 Axes>"
      ]
     },
     "metadata": {},
     "output_type": "display_data"
    }
   ],
   "source": [
    "combined_values = event_spikes[event_cols].values.flatten()\n",
    "\n",
    "# Plot a histogram of the combined values\n",
    "plt.figure(figsize=(10, 6))\n",
    "plt.hist(combined_values, bins=100, alpha=0.75)\n",
    "plt.xlabel('Values')\n",
    "plt.ylabel('Frequency')\n",
    "plt.title('Histogram of Event Firing Rate Bins')\n",
    "\n",
    "# Set the x-axis limit\n",
    "plt.xlim(0, 50)\n",
    "\n",
    "plt.show()"
   ]
  },
  {
   "cell_type": "code",
   "execution_count": 66,
   "id": "b86043df-46e4-4286-aff3-9618d726f587",
   "metadata": {
    "execution": {
     "iopub.execute_input": "2024-05-16T16:38:53.412230Z",
     "iopub.status.busy": "2024-05-16T16:38:53.412230Z",
     "iopub.status.idle": "2024-05-16T16:38:54.155408Z",
     "shell.execute_reply": "2024-05-16T16:38:54.155408Z",
     "shell.execute_reply.started": "2024-05-16T16:38:53.412230Z"
    }
   },
   "outputs": [
    {
     "data": {
      "image/png": "[encoded data removed]",
      "text/plain": [
       "<Figure size 1000x600 with 1 Axes>"
      ]
     },
     "metadata": {},
     "output_type": "display_data"
    }
   ],
   "source": [
    "plt.figure(figsize=(10, 6))\n",
    "plt.hist(combined_values, bins=300, alpha=0.75)\n",
    "plt.xlabel('Values')\n",
    "plt.ylabel('Frequency')\n",
    "plt.title('Histogram of Event Firing Rate Bins')\n",
    "\n",
    "# Set the x-axis limit\n",
    "plt.xlim(0, 50)\n",
    "\n",
    "plt.show()"
   ]
  },
  {
   "cell_type": "code",
   "execution_count": 67,
   "id": "ae16e1b1-0d95-4b75-b9f5-6a15bdd275ee",
   "metadata": {
    "execution": {
     "iopub.execute_input": "2024-05-16T16:39:39.849002Z",
     "iopub.status.busy": "2024-05-16T16:39:39.849002Z",
     "iopub.status.idle": "2024-05-16T16:39:39.899113Z",
     "shell.execute_reply": "2024-05-16T16:39:39.897992Z",
     "shell.execute_reply.started": "2024-05-16T16:39:39.849002Z"
    }
   },
   "outputs": [],
   "source": [
    "combined_values2 = combined_values<15"
   ]
  },
  {
   "cell_type": "code",
   "execution_count": 68,
   "id": "79ad544c-de9b-4123-8f56-6ab53461c37b",
   "metadata": {
    "execution": {
     "iopub.execute_input": "2024-05-16T16:39:52.016589Z",
     "iopub.status.busy": "2024-05-16T16:39:52.016589Z",
     "iopub.status.idle": "2024-05-16T16:39:52.033359Z",
     "shell.execute_reply": "2024-05-16T16:39:52.032885Z",
     "shell.execute_reply.started": "2024-05-16T16:39:52.016589Z"
    }
   },
   "outputs": [
    {
     "data": {
      "text/plain": [
       "480100"
      ]
     },
     "execution_count": 68,
     "metadata": {},
     "output_type": "execute_result"
    }
   ],
   "source": [
    "len(combined_values)"
   ]
  },
  {
   "cell_type": "code",
   "execution_count": 69,
   "id": "78639c3c-1192-4d29-9030-8646afa0ea9c",
   "metadata": {
    "execution": {
     "iopub.execute_input": "2024-05-16T16:40:00.285521Z",
     "iopub.status.busy": "2024-05-16T16:40:00.284009Z",
     "iopub.status.idle": "2024-05-16T16:40:00.292751Z",
     "shell.execute_reply": "2024-05-16T16:40:00.292751Z",
     "shell.execute_reply.started": "2024-05-16T16:40:00.285521Z"
    }
   },
   "outputs": [
    {
     "data": {
      "text/plain": [
       "480100"
      ]
     },
     "execution_count": 69,
     "metadata": {},
     "output_type": "execute_result"
    }
   ],
   "source": [
    "len(combined_values2)"
   ]
  },
  {
   "cell_type": "code",
   "execution_count": 71,
   "id": "ecbca622-3ca0-4d2f-8715-02f8eda2849e",
   "metadata": {
    "execution": {
     "iopub.execute_input": "2024-05-16T16:40:27.086269Z",
     "iopub.status.busy": "2024-05-16T16:40:27.086269Z",
     "iopub.status.idle": "2024-05-16T16:40:27.105775Z",
     "shell.execute_reply": "2024-05-16T16:40:27.105775Z",
     "shell.execute_reply.started": "2024-05-16T16:40:27.086269Z"
    }
   },
   "outputs": [
    {
     "data": {
      "text/plain": [
       "numpy.ndarray"
      ]
     },
     "execution_count": 71,
     "metadata": {},
     "output_type": "execute_result"
    }
   ],
   "source": [
    "type(combined_values)"
   ]
  },
  {
   "cell_type": "code",
   "execution_count": 72,
   "id": "682bd924-f35c-4f35-928e-5e984b8592d3",
   "metadata": {
    "execution": {
     "iopub.execute_input": "2024-05-16T16:42:10.227183Z",
     "iopub.status.busy": "2024-05-16T16:42:10.227183Z",
     "iopub.status.idle": "2024-05-16T16:42:10.269774Z",
     "shell.execute_reply": "2024-05-16T16:42:10.269774Z",
     "shell.execute_reply.started": "2024-05-16T16:42:10.227183Z"
    }
   },
   "outputs": [
    {
     "name": "stdout",
     "output_type": "stream",
     "text": [
      "[[0.00000000e+00 2.78312000e+05]\n",
      " [3.33333333e+00 9.53970000e+04]\n",
      " [6.66666667e+00 4.58190000e+04]\n",
      " [1.00000000e+01 2.34680000e+04]\n",
      " [1.33333333e+01 1.24590000e+04]\n",
      " [1.66666667e+01 7.03300000e+03]\n",
      " [2.00000000e+01 1.32400000e+03]\n",
      " [2.00000000e+01 3.24600000e+03]\n",
      " [2.33333333e+01 1.36100000e+03]\n",
      " [2.33333333e+01 1.95800000e+03]\n",
      " [2.66666667e+01 1.23000000e+02]\n",
      " [2.66666667e+01 2.38800000e+03]\n",
      " [3.00000000e+01 1.33000000e+02]\n",
      " [3.00000000e+01 9.29000000e+02]\n",
      " [3.00000000e+01 8.17000000e+02]\n",
      " [3.33333333e+01 1.40600000e+03]\n",
      " [3.33333333e+01 5.70000000e+01]\n",
      " [3.66666667e+01 1.29000000e+02]\n",
      " [3.66666667e+01 9.30000000e+02]\n",
      " [4.00000000e+01 1.38000000e+02]\n",
      " [4.00000000e+01 6.00000000e+02]\n",
      " [4.33333333e+01 5.52000000e+02]\n",
      " [4.33333333e+01 2.00000000e+01]\n",
      " [4.66666667e+01 1.56000000e+02]\n",
      " [4.66666667e+01 2.54000000e+02]\n",
      " [5.00000000e+01 9.50000000e+01]\n",
      " [5.00000000e+01 1.96000000e+02]\n",
      " [5.33333333e+01 2.00000000e+00]\n",
      " [5.33333333e+01 2.05000000e+02]\n",
      " [5.33333333e+01 2.00000000e+00]\n",
      " [5.66666667e+01 5.90000000e+01]\n",
      " [5.66666667e+01 8.00000000e+01]\n",
      " [6.00000000e+01 5.00000000e+00]\n",
      " [6.00000000e+01 4.50000000e+01]\n",
      " [6.00000000e+01 5.00000000e+01]\n",
      " [6.33333333e+01 6.00000000e+00]\n",
      " [6.33333333e+01 8.30000000e+01]\n",
      " [6.66666667e+01 7.10000000e+01]\n",
      " [6.66666667e+01 1.00000000e+00]\n",
      " [7.00000000e+01 7.00000000e+00]\n",
      " [7.00000000e+01 2.70000000e+01]\n",
      " [7.33333333e+01 6.00000000e+00]\n",
      " [7.33333333e+01 1.80000000e+01]\n",
      " [7.66666667e+01 2.70000000e+01]\n",
      " [7.66666667e+01 1.00000000e+00]\n",
      " [8.00000000e+01 2.00000000e+00]\n",
      " [8.00000000e+01 1.70000000e+01]\n",
      " [8.33333333e+01 1.50000000e+01]\n",
      " [8.66666667e+01 1.60000000e+01]\n",
      " [9.00000000e+01 1.00000000e+00]\n",
      " [9.00000000e+01 9.00000000e+00]\n",
      " [9.33333333e+01 4.00000000e+00]\n",
      " [9.33333333e+01 2.00000000e+00]\n",
      " [9.66666667e+01 1.40000000e+01]\n",
      " [1.00000000e+02 3.00000000e+00]\n",
      " [1.00000000e+02 6.00000000e+00]\n",
      " [1.03333333e+02 1.00000000e+00]\n",
      " [1.06666667e+02 6.00000000e+00]\n",
      " [1.10000000e+02 1.00000000e+00]\n",
      " [1.10000000e+02 1.00000000e+00]\n",
      " [1.13333333e+02 1.00000000e+00]\n",
      " [1.16666667e+02 1.00000000e+00]\n",
      " [1.20000000e+02 2.00000000e+00]\n",
      " [1.23333333e+02 1.00000000e+00]\n",
      " [1.23333333e+02 1.00000000e+00]\n",
      " [1.30000000e+02 1.00000000e+00]]\n"
     ]
    }
   ],
   "source": [
    "unique, counts = np.unique(combined_values, return_counts=True)\n",
    "\n",
    "print(np.asarray((unique, counts)).T)"
   ]
  },
  {
   "cell_type": "code",
   "execution_count": 73,
   "id": "57bd6349-49f4-4d1e-896b-b77c069caa09",
   "metadata": {
    "execution": {
     "iopub.execute_input": "2024-05-16T16:43:20.298576Z",
     "iopub.status.busy": "2024-05-16T16:43:20.298576Z",
     "iopub.status.idle": "2024-05-16T16:43:20.750950Z",
     "shell.execute_reply": "2024-05-16T16:43:20.750950Z",
     "shell.execute_reply.started": "2024-05-16T16:43:20.298576Z"
    }
   },
   "outputs": [
    {
     "data": {
      "image/png": "[encoded data removed]",
      "text/plain": [
       "<Figure size 1000x600 with 1 Axes>"
      ]
     },
     "metadata": {},
     "output_type": "display_data"
    }
   ],
   "source": [
    "combined_values = event_spikes[event_cols].values.flatten()\n",
    "\n",
    "# Plot a histogram of the combined values\n",
    "plt.figure(figsize=(10, 6))\n",
    "plt.hist(combined_values, alpha=0.75)\n",
    "plt.xlabel('Values')\n",
    "plt.ylabel('Frequency')\n",
    "plt.title('Histogram of Event Firing Rate Bins')\n",
    "\n",
    "# Set the x-axis limit\n",
    "plt.xlim(0, 20)\n",
    "\n",
    "plt.show()"
   ]
  },
  {
   "cell_type": "code",
   "execution_count": 74,
   "id": "4f94b61b-c044-4dd6-87e2-cf4b2943b589",
   "metadata": {
    "execution": {
     "iopub.execute_input": "2024-05-16T16:45:45.909983Z",
     "iopub.status.busy": "2024-05-16T16:45:45.909983Z",
     "iopub.status.idle": "2024-05-16T16:45:49.720619Z",
     "shell.execute_reply": "2024-05-16T16:45:49.720619Z",
     "shell.execute_reply.started": "2024-05-16T16:45:45.909983Z"
    }
   },
   "outputs": [
    {
     "name": "stdout",
     "output_type": "stream",
     "text": [
      "All set to analyze\n"
     ]
    },
    {
     "data": {
      "text/plain": [
       "Pre-event timebin 1\n",
       "0.000000      2747\n",
       "3.333333       906\n",
       "6.666667       492\n",
       "10.000000      241\n",
       "13.333333      139\n",
       "16.666667       81\n",
       "20.000000       42\n",
       "26.666667       24\n",
       "23.333333       21\n",
       "36.666667       18\n",
       "23.333333       15\n",
       "20.000000       13\n",
       "33.333333       11\n",
       "30.000000        9\n",
       "30.000000        8\n",
       "40.000000        6\n",
       "46.666667        5\n",
       "50.000000        4\n",
       "76.666667        4\n",
       "46.666667        2\n",
       "60.000000        2\n",
       "53.333333        2\n",
       "60.000000        2\n",
       "26.666667        1\n",
       "146.666667       1\n",
       "66.666667        1\n",
       "63.333333        1\n",
       "43.333333        1\n",
       "56.666667        1\n",
       "50.000000        1\n",
       "Name: count, dtype: int64"
      ]
     },
     "execution_count": 74,
     "metadata": {},
     "output_type": "execute_result"
    }
   ],
   "source": [
    "spike_analysis = spike.SpikeAnalysis_MultiRecording(ephys_data, timebin=100, smoothing_window=300, ignore_freq=0.5)\n",
    "\n",
    "event_spikes = spike_analysis.generate_event_dataframe()\n",
    "\n",
    "event_spikes['Pre-event timebin 1'].value_counts()"
   ]
  },
  {
   "cell_type": "code",
   "execution_count": 75,
   "id": "c30ac233-bf50-46f6-953a-81e162d7d476",
   "metadata": {
    "execution": {
     "iopub.execute_input": "2024-05-16T16:45:59.076157Z",
     "iopub.status.busy": "2024-05-16T16:45:59.069132Z",
     "iopub.status.idle": "2024-05-16T16:46:34.018561Z",
     "shell.execute_reply": "2024-05-16T16:46:34.018561Z",
     "shell.execute_reply.started": "2024-05-16T16:45:59.076157Z"
    }
   },
   "outputs": [
    {
     "name": "stdout",
     "output_type": "stream",
     "text": [
      "All set to analyze\n"
     ]
    },
    {
     "data": {
      "text/plain": [
       "Pre-event timebin 1\n",
       "0.000000      2747\n",
       "3.333333       906\n",
       "6.666667       491\n",
       "10.000000      242\n",
       "13.333333      132\n",
       "16.666667       87\n",
       "20.000000       55\n",
       "23.333333       28\n",
       "26.666667       26\n",
       "30.000000       14\n",
       "36.666667       12\n",
       "43.333333        8\n",
       "40.000000        8\n",
       "33.333333        8\n",
       "50.000000        7\n",
       "46.666667        7\n",
       "80.000000        3\n",
       "23.333333        3\n",
       "36.666667        2\n",
       "33.333333        2\n",
       "56.666667        2\n",
       "30.000000        2\n",
       "43.333333        1\n",
       "53.333333        1\n",
       "126.666667       1\n",
       "70.000000        1\n",
       "66.666667        1\n",
       "73.333333        1\n",
       "60.000000        1\n",
       "56.666667        1\n",
       "53.333333        1\n",
       "Name: count, dtype: int64"
      ]
     },
     "execution_count": 75,
     "metadata": {},
     "output_type": "execute_result"
    }
   ],
   "source": [
    "spike_analysis = spike.SpikeAnalysis_MultiRecording(ephys_data, timebin=5, smoothing_window=300, ignore_freq=0.5)\n",
    "\n",
    "event_spikes = spike_analysis.generate_event_dataframe()\n",
    "\n",
    "event_spikes['Pre-event timebin 1'].value_counts()"
   ]
  },
  {
   "cell_type": "code",
   "execution_count": 76,
   "id": "34f7e567-a8c1-4c8d-8436-4fdd9b57cc99",
   "metadata": {
    "execution": {
     "iopub.execute_input": "2024-05-16T16:48:20.637995Z",
     "iopub.status.busy": "2024-05-16T16:48:20.637995Z",
     "iopub.status.idle": "2024-05-16T16:48:21.108884Z",
     "shell.execute_reply": "2024-05-16T16:48:21.108884Z",
     "shell.execute_reply.started": "2024-05-16T16:48:20.637995Z"
    }
   },
   "outputs": [
    {
     "data": {
      "text/plain": [
       "{9: array([0, 0, 1, ..., 0, 0, 0], dtype=int64),\n",
       " 24: array([0, 0, 0, ..., 0, 0, 0], dtype=int64),\n",
       " 76: array([0, 0, 0, ..., 0, 0, 0], dtype=int64),\n",
       " 10: array([0, 0, 0, ..., 0, 0, 0], dtype=int64),\n",
       " 94: array([0, 0, 0, ..., 0, 0, 0], dtype=int64),\n",
       " 87: array([0, 0, 0, ..., 0, 0, 0], dtype=int64),\n",
       " 1: array([0, 0, 0, ..., 0, 0, 0], dtype=int64),\n",
       " 15: array([0, 0, 0, ..., 0, 0, 0], dtype=int64),\n",
       " 97: array([0, 0, 0, ..., 0, 0, 0], dtype=int64),\n",
       " 39: array([0, 0, 0, ..., 0, 0, 0], dtype=int64),\n",
       " 2: array([0, 0, 0, ..., 0, 0, 0], dtype=int64),\n",
       " 11: array([0, 0, 0, ..., 0, 0, 0], dtype=int64),\n",
       " 77: array([0, 0, 0, ..., 0, 0, 0], dtype=int64)}"
      ]
     },
     "execution_count": 76,
     "metadata": {},
     "output_type": "execute_result"
    }
   ],
   "source": [
    "def get_firing_rate(spiketrain, smoothing_window, timebin):\n",
    "    \"\"\"\n",
    "    calculates firing rate (spikes/second)\n",
    "\n",
    "    Args (3 total, 1 required):\n",
    "        spiketrain: numpy array, in timebin (ms) bins\n",
    "        smoothing_window: int, default=250, smoothing average window (ms)\n",
    "        timebin: int, default = 1, timebin (ms) of spiketrain\n",
    "\n",
    "    Return (1):\n",
    "        firing_rate: numpy array of firing rates in timebin sized windows\n",
    "\n",
    "    \"\"\"\n",
    "    smoothing_bins = int(smoothing_window / timebin)\n",
    "    weights = np.ones(smoothing_bins) / smoothing_bins * 1000 / timebin\n",
    "    firing_rate = np.convolve(spiketrain, weights, mode=\"same\")\n",
    "\n",
    "    return firing_rate\n",
    "\n",
    "recordings = spike_analysis.ephyscollection.collection\n",
    "\n",
    "recording_name1 = '20230622_110832_standard_comp_to_both_rewarded_D1_subj_1-1_t1b3L_box1_merged.rec'\n",
    "recording1 = recordings.get(recording_name1)\n",
    "\n",
    "recording1.unit_spiketrains"
   ]
  },
  {
   "cell_type": "code",
   "execution_count": 78,
   "id": "21d008a0-2590-430d-9922-feccf930cf92",
   "metadata": {
    "execution": {
     "iopub.execute_input": "2024-05-16T16:49:49.377653Z",
     "iopub.status.busy": "2024-05-16T16:49:49.377653Z",
     "iopub.status.idle": "2024-05-16T16:49:49.449740Z",
     "shell.execute_reply": "2024-05-16T16:49:49.449740Z",
     "shell.execute_reply.started": "2024-05-16T16:49:49.377653Z"
    }
   },
   "outputs": [],
   "source": [
    "firingrate9 = get_firing_rate(recording1.unit_spiketrains[9], 300, 5)"
   ]
  },
  {
   "cell_type": "code",
   "execution_count": 79,
   "id": "a20ee41e-d553-4712-833b-227c4f0dcf0a",
   "metadata": {
    "execution": {
     "iopub.execute_input": "2024-05-16T16:49:57.449991Z",
     "iopub.status.busy": "2024-05-16T16:49:57.449991Z",
     "iopub.status.idle": "2024-05-16T16:49:57.470215Z",
     "shell.execute_reply": "2024-05-16T16:49:57.470215Z",
     "shell.execute_reply.started": "2024-05-16T16:49:57.449991Z"
    }
   },
   "outputs": [
    {
     "data": {
      "text/plain": [
       "array([3.33333333, 3.33333333, 3.33333333, ..., 0.        , 0.        ,\n",
       "       0.        ])"
      ]
     },
     "execution_count": 79,
     "metadata": {},
     "output_type": "execute_result"
    }
   ],
   "source": [
    "firingrate9"
   ]
  },
  {
   "cell_type": "code",
   "execution_count": 80,
   "id": "870ee96e-9244-4bec-9661-4c98f8c40a19",
   "metadata": {
    "execution": {
     "iopub.execute_input": "2024-05-16T16:50:20.296913Z",
     "iopub.status.busy": "2024-05-16T16:50:20.296913Z",
     "iopub.status.idle": "2024-05-16T16:50:20.334322Z",
     "shell.execute_reply": "2024-05-16T16:50:20.334322Z",
     "shell.execute_reply.started": "2024-05-16T16:50:20.296913Z"
    }
   },
   "outputs": [
    {
     "data": {
      "text/plain": [
       "673476"
      ]
     },
     "execution_count": 80,
     "metadata": {},
     "output_type": "execute_result"
    }
   ],
   "source": [
    "len(recording1.unit_spiketrains[9])"
   ]
  },
  {
   "cell_type": "code",
   "execution_count": 81,
   "id": "cccdcf18-ef24-49b1-a69f-1911a89e960a",
   "metadata": {
    "execution": {
     "iopub.execute_input": "2024-05-16T16:50:28.666180Z",
     "iopub.status.busy": "2024-05-16T16:50:28.666180Z",
     "iopub.status.idle": "2024-05-16T16:50:28.680176Z",
     "shell.execute_reply": "2024-05-16T16:50:28.677602Z",
     "shell.execute_reply.started": "2024-05-16T16:50:28.666180Z"
    }
   },
   "outputs": [
    {
     "data": {
      "text/plain": [
       "673476"
      ]
     },
     "execution_count": 81,
     "metadata": {},
     "output_type": "execute_result"
    }
   ],
   "source": [
    "len(firingrate9)"
   ]
  },
  {
   "cell_type": "code",
   "execution_count": 82,
   "id": "a2a7b9e7-d641-4805-b35f-ea2294938815",
   "metadata": {
    "execution": {
     "iopub.execute_input": "2024-05-16T16:50:55.932429Z",
     "iopub.status.busy": "2024-05-16T16:50:55.932429Z",
     "iopub.status.idle": "2024-05-16T16:50:58.603706Z",
     "shell.execute_reply": "2024-05-16T16:50:58.603706Z",
     "shell.execute_reply.started": "2024-05-16T16:50:55.932429Z"
    }
   },
   "outputs": [
    {
     "name": "stdout",
     "output_type": "stream",
     "text": [
      "All set to analyze\n"
     ]
    },
    {
     "data": {
      "text/plain": [
       "Pre-event timebin 1\n",
       "0.000000      2747\n",
       "3.333333       906\n",
       "6.666667       492\n",
       "10.000000      241\n",
       "13.333333      139\n",
       "16.666667       81\n",
       "20.000000       42\n",
       "26.666667       24\n",
       "23.333333       21\n",
       "36.666667       18\n",
       "23.333333       15\n",
       "20.000000       13\n",
       "33.333333       11\n",
       "30.000000        9\n",
       "30.000000        8\n",
       "40.000000        6\n",
       "46.666667        5\n",
       "50.000000        4\n",
       "76.666667        4\n",
       "46.666667        2\n",
       "60.000000        2\n",
       "53.333333        2\n",
       "60.000000        2\n",
       "26.666667        1\n",
       "146.666667       1\n",
       "66.666667        1\n",
       "63.333333        1\n",
       "43.333333        1\n",
       "56.666667        1\n",
       "50.000000        1\n",
       "Name: count, dtype: int64"
      ]
     },
     "execution_count": 82,
     "metadata": {},
     "output_type": "execute_result"
    }
   ],
   "source": [
    "spike_analysis = spike.SpikeAnalysis_MultiRecording(ephys_data, timebin=100, smoothing_window=300, ignore_freq=0.5)\n",
    "\n",
    "event_spikes = spike_analysis.generate_event_dataframe()\n",
    "\n",
    "event_spikes['Pre-event timebin 1'].value_counts()"
   ]
  },
  {
   "cell_type": "code",
   "execution_count": 83,
   "id": "32b1a063-969e-4bc7-a432-348d3e292a79",
   "metadata": {
    "execution": {
     "iopub.execute_input": "2024-05-16T16:51:44.303817Z",
     "iopub.status.busy": "2024-05-16T16:51:44.303817Z",
     "iopub.status.idle": "2024-05-16T16:51:44.326633Z",
     "shell.execute_reply": "2024-05-16T16:51:44.326633Z",
     "shell.execute_reply.started": "2024-05-16T16:51:44.303817Z"
    }
   },
   "outputs": [],
   "source": [
    "recordings = spike_analysis.ephyscollection.collection\n",
    "\n",
    "recording_name1 = '20230622_110832_standard_comp_to_both_rewarded_D1_subj_1-1_t1b3L_box1_merged.rec'\n",
    "recording1 = recordings.get(recording_name1)\n",
    "\n",
    "firing_rate9 = get_firing_rate(recording1.unit_spiketrains[9], 300, 100)"
   ]
  },
  {
   "cell_type": "code",
   "execution_count": 84,
   "id": "5662c44c-cbd4-4fff-8f2a-bad3c45cbfdf",
   "metadata": {
    "execution": {
     "iopub.execute_input": "2024-05-16T16:51:53.937256Z",
     "iopub.status.busy": "2024-05-16T16:51:53.937256Z",
     "iopub.status.idle": "2024-05-16T16:51:53.953604Z",
     "shell.execute_reply": "2024-05-16T16:51:53.953604Z",
     "shell.execute_reply.started": "2024-05-16T16:51:53.937256Z"
    }
   },
   "outputs": [
    {
     "data": {
      "text/plain": [
       "33673"
      ]
     },
     "execution_count": 84,
     "metadata": {},
     "output_type": "execute_result"
    }
   ],
   "source": [
    "len(recording1.unit_spiketrains[9])"
   ]
  },
  {
   "cell_type": "code",
   "execution_count": 85,
   "id": "687836bc-c828-48b6-8faf-7233a397ce1a",
   "metadata": {
    "execution": {
     "iopub.execute_input": "2024-05-16T16:52:02.120417Z",
     "iopub.status.busy": "2024-05-16T16:52:02.120417Z",
     "iopub.status.idle": "2024-05-16T16:52:02.135908Z",
     "shell.execute_reply": "2024-05-16T16:52:02.134370Z",
     "shell.execute_reply.started": "2024-05-16T16:52:02.120417Z"
    }
   },
   "outputs": [
    {
     "data": {
      "text/plain": [
       "33673"
      ]
     },
     "execution_count": 85,
     "metadata": {},
     "output_type": "execute_result"
    }
   ],
   "source": [
    "len(firing_rate9)"
   ]
  },
  {
   "cell_type": "code",
   "execution_count": 86,
   "id": "be2fb424-de94-43b2-a3ef-1976c610cf76",
   "metadata": {
    "execution": {
     "iopub.execute_input": "2024-05-16T16:52:10.358638Z",
     "iopub.status.busy": "2024-05-16T16:52:10.358638Z",
     "iopub.status.idle": "2024-05-16T16:52:10.373505Z",
     "shell.execute_reply": "2024-05-16T16:52:10.373505Z",
     "shell.execute_reply.started": "2024-05-16T16:52:10.358638Z"
    }
   },
   "outputs": [
    {
     "data": {
      "text/plain": [
       "array([6.66666667, 6.66666667, 3.33333333, ..., 0.        , 0.        ,\n",
       "       0.        ])"
      ]
     },
     "execution_count": 86,
     "metadata": {},
     "output_type": "execute_result"
    }
   ],
   "source": [
    "firing_rate9"
   ]
  },
  {
   "cell_type": "code",
   "execution_count": 87,
   "id": "4a5cedcc-99d0-437b-a85b-90dfe0c070d0",
   "metadata": {
    "execution": {
     "iopub.execute_input": "2024-05-16T16:52:33.389355Z",
     "iopub.status.busy": "2024-05-16T16:52:33.389355Z",
     "iopub.status.idle": "2024-05-16T16:52:33.399656Z",
     "shell.execute_reply": "2024-05-16T16:52:33.399656Z",
     "shell.execute_reply.started": "2024-05-16T16:52:33.389355Z"
    }
   },
   "outputs": [
    {
     "data": {
      "text/plain": [
       "array([1, 1, 0, 0, 0, 0, 2, 0, 1, 0, 0, 0], dtype=int64)"
      ]
     },
     "execution_count": 87,
     "metadata": {},
     "output_type": "execute_result"
    }
   ],
   "source": [
    "recording1.unit_spiketrains[9][:12]"
   ]
  },
  {
   "cell_type": "code",
   "execution_count": 88,
   "id": "30e2f864-ba83-4526-a1e7-6d31c5f2896f",
   "metadata": {
    "execution": {
     "iopub.execute_input": "2024-05-16T16:52:51.573961Z",
     "iopub.status.busy": "2024-05-16T16:52:51.573961Z",
     "iopub.status.idle": "2024-05-16T16:52:51.591324Z",
     "shell.execute_reply": "2024-05-16T16:52:51.591324Z",
     "shell.execute_reply.started": "2024-05-16T16:52:51.573961Z"
    }
   },
   "outputs": [
    {
     "data": {
      "text/plain": [
       "array([ 6.66666667,  6.66666667,  3.33333333,  0.        ,  0.        ,\n",
       "        6.66666667,  6.66666667, 10.        ,  3.33333333,  3.33333333,\n",
       "        0.        ,  0.        ])"
      ]
     },
     "execution_count": 88,
     "metadata": {},
     "output_type": "execute_result"
    }
   ],
   "source": [
    "firing_rate9[:12]"
   ]
  },
  {
   "cell_type": "markdown",
   "id": "24d16948-9e80-461d-ae49-8f9cc6d3de1b",
   "metadata": {},
   "source": [
    "non_smoothed_fr = np.array([10, 10, 0, 0, 0, 0, 20, 0, 10, 0, 0, 0])\\\n",
    "smoothed_fr = np.array([?, 6.67, 3.33, 0, ...])"
   ]
  },
  {
   "cell_type": "code",
   "execution_count": 89,
   "id": "67436bcd-67c1-46d3-bd7f-b962a41f697e",
   "metadata": {
    "execution": {
     "iopub.execute_input": "2024-05-16T16:58:57.934447Z",
     "iopub.status.busy": "2024-05-16T16:58:57.934447Z",
     "iopub.status.idle": "2024-05-16T16:59:28.142956Z",
     "shell.execute_reply": "2024-05-16T16:59:28.142956Z",
     "shell.execute_reply.started": "2024-05-16T16:58:57.934447Z"
    }
   },
   "outputs": [
    {
     "name": "stdout",
     "output_type": "stream",
     "text": [
      "All set to analyze\n"
     ]
    },
    {
     "data": {
      "text/plain": [
       "Pre-event timebin 1\n",
       "0.0      3611\n",
       "10.0      823\n",
       "20.0      227\n",
       "30.0       75\n",
       "40.0       30\n",
       "50.0       15\n",
       "60.0        8\n",
       "70.0        7\n",
       "120.0       2\n",
       "80.0        2\n",
       "90.0        1\n",
       "Name: count, dtype: int64"
      ]
     },
     "execution_count": 89,
     "metadata": {},
     "output_type": "execute_result"
    }
   ],
   "source": [
    "spike_analysis = spike.SpikeAnalysis_MultiRecording(ephys_data, timebin=5, smoothing_window=100, ignore_freq=0.5)\n",
    "\n",
    "event_spikes = spike_analysis.generate_event_dataframe()\n",
    "\n",
    "event_spikes['Pre-event timebin 1'].value_counts()"
   ]
  },
  {
   "cell_type": "code",
   "execution_count": 90,
   "id": "3ea85e21-fcac-4e81-b554-e6951f62cbc7",
   "metadata": {
    "execution": {
     "iopub.execute_input": "2024-05-16T17:01:10.944175Z",
     "iopub.status.busy": "2024-05-16T17:01:10.944175Z",
     "iopub.status.idle": "2024-05-16T17:01:41.920696Z",
     "shell.execute_reply": "2024-05-16T17:01:41.920696Z",
     "shell.execute_reply.started": "2024-05-16T17:01:10.944175Z"
    }
   },
   "outputs": [
    {
     "name": "stdout",
     "output_type": "stream",
     "text": [
      "All set to analyze\n"
     ]
    },
    {
     "data": {
      "text/plain": [
       "Pre-event timebin 1\n",
       "0.0      4071\n",
       "20.0      594\n",
       "40.0       96\n",
       "60.0       31\n",
       "80.0        5\n",
       "100.0       3\n",
       "120.0       1\n",
       "Name: count, dtype: int64"
      ]
     },
     "execution_count": 90,
     "metadata": {},
     "output_type": "execute_result"
    }
   ],
   "source": [
    "spike_analysis = spike.SpikeAnalysis_MultiRecording(ephys_data, timebin=5, smoothing_window=50, ignore_freq=0.5)\n",
    "\n",
    "event_spikes = spike_analysis.generate_event_dataframe()\n",
    "\n",
    "event_spikes['Pre-event timebin 1'].value_counts()"
   ]
  },
  {
   "cell_type": "code",
   "execution_count": 108,
   "id": "d56363fd-ac69-4563-a971-15b3cb3d24ea",
   "metadata": {
    "execution": {
     "iopub.execute_input": "2024-05-16T17:51:26.682988Z",
     "iopub.status.busy": "2024-05-16T17:51:26.682988Z",
     "iopub.status.idle": "2024-05-16T17:51:58.985172Z",
     "shell.execute_reply": "2024-05-16T17:51:58.980849Z",
     "shell.execute_reply.started": "2024-05-16T17:51:26.682988Z"
    }
   },
   "outputs": [
    {
     "name": "stdout",
     "output_type": "stream",
     "text": [
      "All set to analyze\n"
     ]
    },
    {
     "data": {
      "text/plain": [
       "Pre-event timebin 1\n",
       "0.0      2911\n",
       "4.0       905\n",
       "8.0       465\n",
       "12.0      190\n",
       "16.0      129\n",
       "20.0       62\n",
       "24.0       34\n",
       "28.0       25\n",
       "32.0       22\n",
       "36.0       14\n",
       "40.0       13\n",
       "48.0        6\n",
       "52.0        6\n",
       "44.0        5\n",
       "56.0        4\n",
       "60.0        3\n",
       "80.0        1\n",
       "136.0       1\n",
       "84.0        1\n",
       "64.0        1\n",
       "76.0        1\n",
       "96.0        1\n",
       "92.0        1\n",
       "Name: count, dtype: int64"
      ]
     },
     "execution_count": 108,
     "metadata": {},
     "output_type": "execute_result"
    }
   ],
   "source": [
    "spike_analysis = spike.SpikeAnalysis_MultiRecording(ephys_data, timebin=5, smoothing_window=250, ignore_freq=0.5)\n",
    "\n",
    "event_spikes = spike_analysis.generate_event_dataframe()\n",
    "\n",
    "event_spikes['Pre-event timebin 1'].value_counts()"
   ]
  },
  {
   "cell_type": "code",
   "execution_count": 109,
   "id": "f09ae890-40eb-46d6-84a5-f58efe90fbc8",
   "metadata": {
    "execution": {
     "iopub.execute_input": "2024-05-16T17:52:13.611629Z",
     "iopub.status.busy": "2024-05-16T17:52:13.610629Z",
     "iopub.status.idle": "2024-05-16T17:52:13.752008Z",
     "shell.execute_reply": "2024-05-16T17:52:13.749991Z",
     "shell.execute_reply.started": "2024-05-16T17:52:13.611629Z"
    }
   },
   "outputs": [
    {
     "data": {
      "text/html": [
       "<div>\n",
       "<style scoped>\n",
       "    .dataframe tbody tr th:only-of-type {\n",
       "        vertical-align: middle;\n",
       "    }\n",
       "\n",
       "    .dataframe tbody tr th {\n",
       "        vertical-align: top;\n",
       "    }\n",
       "\n",
       "    .dataframe thead th {\n",
       "        text-align: right;\n",
       "    }\n",
       "</style>\n",
       "<table border=\"1\" class=\"dataframe\">\n",
       "  <thead>\n",
       "    <tr style=\"text-align: right;\">\n",
       "      <th></th>\n",
       "      <th>Recording</th>\n",
       "      <th>Event name</th>\n",
       "      <th>Event number</th>\n",
       "      <th>Unit number</th>\n",
       "      <th>Pre-event timebin 1</th>\n",
       "      <th>Pre-event timebin 2</th>\n",
       "      <th>Pre-event timebin 3</th>\n",
       "      <th>Pre-event timebin 4</th>\n",
       "      <th>Pre-event timebin 5</th>\n",
       "      <th>Pre-event timebin 6</th>\n",
       "      <th>...</th>\n",
       "      <th>Event timebin 1991</th>\n",
       "      <th>Event timebin 1992</th>\n",
       "      <th>Event timebin 1993</th>\n",
       "      <th>Event timebin 1994</th>\n",
       "      <th>Event timebin 1995</th>\n",
       "      <th>Event timebin 1996</th>\n",
       "      <th>Event timebin 1997</th>\n",
       "      <th>Event timebin 1998</th>\n",
       "      <th>Event timebin 1999</th>\n",
       "      <th>Event timebin 2000</th>\n",
       "    </tr>\n",
       "  </thead>\n",
       "  <tbody>\n",
       "    <tr>\n",
       "      <th>0</th>\n",
       "      <td>20230622_110832_standard_comp_to_both_rewarded...</td>\n",
       "      <td>lose</td>\n",
       "      <td>1</td>\n",
       "      <td>9</td>\n",
       "      <td>8.0</td>\n",
       "      <td>8.0</td>\n",
       "      <td>8.0</td>\n",
       "      <td>8.0</td>\n",
       "      <td>8.0</td>\n",
       "      <td>4.0</td>\n",
       "      <td>...</td>\n",
       "      <td>16.0</td>\n",
       "      <td>20.0</td>\n",
       "      <td>20.0</td>\n",
       "      <td>20.0</td>\n",
       "      <td>16.0</td>\n",
       "      <td>16.0</td>\n",
       "      <td>20.0</td>\n",
       "      <td>20.0</td>\n",
       "      <td>20.0</td>\n",
       "      <td>20.0</td>\n",
       "    </tr>\n",
       "    <tr>\n",
       "      <th>1</th>\n",
       "      <td>20230622_110832_standard_comp_to_both_rewarded...</td>\n",
       "      <td>lose</td>\n",
       "      <td>2</td>\n",
       "      <td>9</td>\n",
       "      <td>8.0</td>\n",
       "      <td>8.0</td>\n",
       "      <td>8.0</td>\n",
       "      <td>8.0</td>\n",
       "      <td>8.0</td>\n",
       "      <td>8.0</td>\n",
       "      <td>...</td>\n",
       "      <td>12.0</td>\n",
       "      <td>12.0</td>\n",
       "      <td>12.0</td>\n",
       "      <td>12.0</td>\n",
       "      <td>12.0</td>\n",
       "      <td>16.0</td>\n",
       "      <td>16.0</td>\n",
       "      <td>16.0</td>\n",
       "      <td>16.0</td>\n",
       "      <td>16.0</td>\n",
       "    </tr>\n",
       "    <tr>\n",
       "      <th>2</th>\n",
       "      <td>20230622_110832_standard_comp_to_both_rewarded...</td>\n",
       "      <td>lose</td>\n",
       "      <td>3</td>\n",
       "      <td>9</td>\n",
       "      <td>8.0</td>\n",
       "      <td>8.0</td>\n",
       "      <td>8.0</td>\n",
       "      <td>8.0</td>\n",
       "      <td>8.0</td>\n",
       "      <td>8.0</td>\n",
       "      <td>...</td>\n",
       "      <td>12.0</td>\n",
       "      <td>12.0</td>\n",
       "      <td>12.0</td>\n",
       "      <td>12.0</td>\n",
       "      <td>12.0</td>\n",
       "      <td>12.0</td>\n",
       "      <td>12.0</td>\n",
       "      <td>12.0</td>\n",
       "      <td>12.0</td>\n",
       "      <td>12.0</td>\n",
       "    </tr>\n",
       "    <tr>\n",
       "      <th>3</th>\n",
       "      <td>20230622_110832_standard_comp_to_both_rewarded...</td>\n",
       "      <td>lose</td>\n",
       "      <td>4</td>\n",
       "      <td>9</td>\n",
       "      <td>12.0</td>\n",
       "      <td>12.0</td>\n",
       "      <td>12.0</td>\n",
       "      <td>12.0</td>\n",
       "      <td>12.0</td>\n",
       "      <td>8.0</td>\n",
       "      <td>...</td>\n",
       "      <td>4.0</td>\n",
       "      <td>8.0</td>\n",
       "      <td>8.0</td>\n",
       "      <td>8.0</td>\n",
       "      <td>8.0</td>\n",
       "      <td>8.0</td>\n",
       "      <td>8.0</td>\n",
       "      <td>8.0</td>\n",
       "      <td>12.0</td>\n",
       "      <td>12.0</td>\n",
       "    </tr>\n",
       "    <tr>\n",
       "      <th>4</th>\n",
       "      <td>20230622_110832_standard_comp_to_both_rewarded...</td>\n",
       "      <td>lose</td>\n",
       "      <td>5</td>\n",
       "      <td>9</td>\n",
       "      <td>8.0</td>\n",
       "      <td>8.0</td>\n",
       "      <td>8.0</td>\n",
       "      <td>8.0</td>\n",
       "      <td>8.0</td>\n",
       "      <td>8.0</td>\n",
       "      <td>...</td>\n",
       "      <td>16.0</td>\n",
       "      <td>16.0</td>\n",
       "      <td>16.0</td>\n",
       "      <td>16.0</td>\n",
       "      <td>16.0</td>\n",
       "      <td>16.0</td>\n",
       "      <td>16.0</td>\n",
       "      <td>12.0</td>\n",
       "      <td>12.0</td>\n",
       "      <td>12.0</td>\n",
       "    </tr>\n",
       "    <tr>\n",
       "      <th>...</th>\n",
       "      <td>...</td>\n",
       "      <td>...</td>\n",
       "      <td>...</td>\n",
       "      <td>...</td>\n",
       "      <td>...</td>\n",
       "      <td>...</td>\n",
       "      <td>...</td>\n",
       "      <td>...</td>\n",
       "      <td>...</td>\n",
       "      <td>...</td>\n",
       "      <td>...</td>\n",
       "      <td>...</td>\n",
       "      <td>...</td>\n",
       "      <td>...</td>\n",
       "      <td>...</td>\n",
       "      <td>...</td>\n",
       "      <td>...</td>\n",
       "      <td>...</td>\n",
       "      <td>...</td>\n",
       "      <td>...</td>\n",
       "      <td>...</td>\n",
       "    </tr>\n",
       "    <tr>\n",
       "      <th>4796</th>\n",
       "      <td>20230625_112913_standard_comp_to_both_rewarded...</td>\n",
       "      <td>both_rewarded</td>\n",
       "      <td>16</td>\n",
       "      <td>11</td>\n",
       "      <td>0.0</td>\n",
       "      <td>0.0</td>\n",
       "      <td>0.0</td>\n",
       "      <td>0.0</td>\n",
       "      <td>0.0</td>\n",
       "      <td>0.0</td>\n",
       "      <td>...</td>\n",
       "      <td>0.0</td>\n",
       "      <td>0.0</td>\n",
       "      <td>0.0</td>\n",
       "      <td>0.0</td>\n",
       "      <td>0.0</td>\n",
       "      <td>0.0</td>\n",
       "      <td>0.0</td>\n",
       "      <td>0.0</td>\n",
       "      <td>0.0</td>\n",
       "      <td>0.0</td>\n",
       "    </tr>\n",
       "    <tr>\n",
       "      <th>4797</th>\n",
       "      <td>20230625_112913_standard_comp_to_both_rewarded...</td>\n",
       "      <td>both_rewarded</td>\n",
       "      <td>17</td>\n",
       "      <td>11</td>\n",
       "      <td>0.0</td>\n",
       "      <td>0.0</td>\n",
       "      <td>0.0</td>\n",
       "      <td>0.0</td>\n",
       "      <td>0.0</td>\n",
       "      <td>0.0</td>\n",
       "      <td>...</td>\n",
       "      <td>0.0</td>\n",
       "      <td>0.0</td>\n",
       "      <td>0.0</td>\n",
       "      <td>0.0</td>\n",
       "      <td>0.0</td>\n",
       "      <td>0.0</td>\n",
       "      <td>0.0</td>\n",
       "      <td>0.0</td>\n",
       "      <td>0.0</td>\n",
       "      <td>0.0</td>\n",
       "    </tr>\n",
       "    <tr>\n",
       "      <th>4798</th>\n",
       "      <td>20230625_112913_standard_comp_to_both_rewarded...</td>\n",
       "      <td>both_rewarded</td>\n",
       "      <td>18</td>\n",
       "      <td>11</td>\n",
       "      <td>0.0</td>\n",
       "      <td>0.0</td>\n",
       "      <td>0.0</td>\n",
       "      <td>0.0</td>\n",
       "      <td>0.0</td>\n",
       "      <td>0.0</td>\n",
       "      <td>...</td>\n",
       "      <td>0.0</td>\n",
       "      <td>0.0</td>\n",
       "      <td>0.0</td>\n",
       "      <td>0.0</td>\n",
       "      <td>0.0</td>\n",
       "      <td>0.0</td>\n",
       "      <td>0.0</td>\n",
       "      <td>0.0</td>\n",
       "      <td>0.0</td>\n",
       "      <td>0.0</td>\n",
       "    </tr>\n",
       "    <tr>\n",
       "      <th>4799</th>\n",
       "      <td>20230625_112913_standard_comp_to_both_rewarded...</td>\n",
       "      <td>both_rewarded</td>\n",
       "      <td>19</td>\n",
       "      <td>11</td>\n",
       "      <td>0.0</td>\n",
       "      <td>0.0</td>\n",
       "      <td>0.0</td>\n",
       "      <td>0.0</td>\n",
       "      <td>0.0</td>\n",
       "      <td>0.0</td>\n",
       "      <td>...</td>\n",
       "      <td>0.0</td>\n",
       "      <td>0.0</td>\n",
       "      <td>0.0</td>\n",
       "      <td>0.0</td>\n",
       "      <td>0.0</td>\n",
       "      <td>0.0</td>\n",
       "      <td>0.0</td>\n",
       "      <td>0.0</td>\n",
       "      <td>0.0</td>\n",
       "      <td>0.0</td>\n",
       "    </tr>\n",
       "    <tr>\n",
       "      <th>4800</th>\n",
       "      <td>20230625_112913_standard_comp_to_both_rewarded...</td>\n",
       "      <td>both_rewarded</td>\n",
       "      <td>20</td>\n",
       "      <td>11</td>\n",
       "      <td>0.0</td>\n",
       "      <td>0.0</td>\n",
       "      <td>0.0</td>\n",
       "      <td>0.0</td>\n",
       "      <td>0.0</td>\n",
       "      <td>0.0</td>\n",
       "      <td>...</td>\n",
       "      <td>0.0</td>\n",
       "      <td>0.0</td>\n",
       "      <td>0.0</td>\n",
       "      <td>0.0</td>\n",
       "      <td>0.0</td>\n",
       "      <td>0.0</td>\n",
       "      <td>0.0</td>\n",
       "      <td>0.0</td>\n",
       "      <td>0.0</td>\n",
       "      <td>0.0</td>\n",
       "    </tr>\n",
       "  </tbody>\n",
       "</table>\n",
       "<p>4801 rows × 4004 columns</p>\n",
       "</div>"
      ],
      "text/plain": [
       "                                              Recording     Event name  \\\n",
       "0     20230622_110832_standard_comp_to_both_rewarded...           lose   \n",
       "1     20230622_110832_standard_comp_to_both_rewarded...           lose   \n",
       "2     20230622_110832_standard_comp_to_both_rewarded...           lose   \n",
       "3     20230622_110832_standard_comp_to_both_rewarded...           lose   \n",
       "4     20230622_110832_standard_comp_to_both_rewarded...           lose   \n",
       "...                                                 ...            ...   \n",
       "4796  20230625_112913_standard_comp_to_both_rewarded...  both_rewarded   \n",
       "4797  20230625_112913_standard_comp_to_both_rewarded...  both_rewarded   \n",
       "4798  20230625_112913_standard_comp_to_both_rewarded...  both_rewarded   \n",
       "4799  20230625_112913_standard_comp_to_both_rewarded...  both_rewarded   \n",
       "4800  20230625_112913_standard_comp_to_both_rewarded...  both_rewarded   \n",
       "\n",
       "      Event number  Unit number  Pre-event timebin 1  Pre-event timebin 2  \\\n",
       "0                1            9                  8.0                  8.0   \n",
       "1                2            9                  8.0                  8.0   \n",
       "2                3            9                  8.0                  8.0   \n",
       "3                4            9                 12.0                 12.0   \n",
       "4                5            9                  8.0                  8.0   \n",
       "...            ...          ...                  ...                  ...   \n",
       "4796            16           11                  0.0                  0.0   \n",
       "4797            17           11                  0.0                  0.0   \n",
       "4798            18           11                  0.0                  0.0   \n",
       "4799            19           11                  0.0                  0.0   \n",
       "4800            20           11                  0.0                  0.0   \n",
       "\n",
       "      Pre-event timebin 3  Pre-event timebin 4  Pre-event timebin 5  \\\n",
       "0                     8.0                  8.0                  8.0   \n",
       "1                     8.0                  8.0                  8.0   \n",
       "2                     8.0                  8.0                  8.0   \n",
       "3                    12.0                 12.0                 12.0   \n",
       "4                     8.0                  8.0                  8.0   \n",
       "...                   ...                  ...                  ...   \n",
       "4796                  0.0                  0.0                  0.0   \n",
       "4797                  0.0                  0.0                  0.0   \n",
       "4798                  0.0                  0.0                  0.0   \n",
       "4799                  0.0                  0.0                  0.0   \n",
       "4800                  0.0                  0.0                  0.0   \n",
       "\n",
       "      Pre-event timebin 6  ...  Event timebin 1991  Event timebin 1992  \\\n",
       "0                     4.0  ...                16.0                20.0   \n",
       "1                     8.0  ...                12.0                12.0   \n",
       "2                     8.0  ...                12.0                12.0   \n",
       "3                     8.0  ...                 4.0                 8.0   \n",
       "4                     8.0  ...                16.0                16.0   \n",
       "...                   ...  ...                 ...                 ...   \n",
       "4796                  0.0  ...                 0.0                 0.0   \n",
       "4797                  0.0  ...                 0.0                 0.0   \n",
       "4798                  0.0  ...                 0.0                 0.0   \n",
       "4799                  0.0  ...                 0.0                 0.0   \n",
       "4800                  0.0  ...                 0.0                 0.0   \n",
       "\n",
       "      Event timebin 1993  Event timebin 1994  Event timebin 1995  \\\n",
       "0                   20.0                20.0                16.0   \n",
       "1                   12.0                12.0                12.0   \n",
       "2                   12.0                12.0                12.0   \n",
       "3                    8.0                 8.0                 8.0   \n",
       "4                   16.0                16.0                16.0   \n",
       "...                  ...                 ...                 ...   \n",
       "4796                 0.0                 0.0                 0.0   \n",
       "4797                 0.0                 0.0                 0.0   \n",
       "4798                 0.0                 0.0                 0.0   \n",
       "4799                 0.0                 0.0                 0.0   \n",
       "4800                 0.0                 0.0                 0.0   \n",
       "\n",
       "      Event timebin 1996  Event timebin 1997  Event timebin 1998  \\\n",
       "0                   16.0                20.0                20.0   \n",
       "1                   16.0                16.0                16.0   \n",
       "2                   12.0                12.0                12.0   \n",
       "3                    8.0                 8.0                 8.0   \n",
       "4                   16.0                16.0                12.0   \n",
       "...                  ...                 ...                 ...   \n",
       "4796                 0.0                 0.0                 0.0   \n",
       "4797                 0.0                 0.0                 0.0   \n",
       "4798                 0.0                 0.0                 0.0   \n",
       "4799                 0.0                 0.0                 0.0   \n",
       "4800                 0.0                 0.0                 0.0   \n",
       "\n",
       "      Event timebin 1999  Event timebin 2000  \n",
       "0                   20.0                20.0  \n",
       "1                   16.0                16.0  \n",
       "2                   12.0                12.0  \n",
       "3                   12.0                12.0  \n",
       "4                   12.0                12.0  \n",
       "...                  ...                 ...  \n",
       "4796                 0.0                 0.0  \n",
       "4797                 0.0                 0.0  \n",
       "4798                 0.0                 0.0  \n",
       "4799                 0.0                 0.0  \n",
       "4800                 0.0                 0.0  \n",
       "\n",
       "[4801 rows x 4004 columns]"
      ]
     },
     "execution_count": 109,
     "metadata": {},
     "output_type": "execute_result"
    }
   ],
   "source": [
    "event_spikes"
   ]
  },
  {
   "cell_type": "code",
   "execution_count": 110,
   "id": "48d1b905-2455-4652-9e2b-d5a5b6a2ac54",
   "metadata": {
    "execution": {
     "iopub.execute_input": "2024-05-16T17:52:13.756009Z",
     "iopub.status.busy": "2024-05-16T17:52:13.755006Z",
     "iopub.status.idle": "2024-05-16T17:52:17.260739Z",
     "shell.execute_reply": "2024-05-16T17:52:17.260739Z",
     "shell.execute_reply.started": "2024-05-16T17:52:13.756009Z"
    }
   },
   "outputs": [
    {
     "name": "stdout",
     "output_type": "stream",
     "text": [
      "All set to analyze\n"
     ]
    },
    {
     "data": {
      "text/html": [
       "<div>\n",
       "<style scoped>\n",
       "    .dataframe tbody tr th:only-of-type {\n",
       "        vertical-align: middle;\n",
       "    }\n",
       "\n",
       "    .dataframe tbody tr th {\n",
       "        vertical-align: top;\n",
       "    }\n",
       "\n",
       "    .dataframe thead th {\n",
       "        text-align: right;\n",
       "    }\n",
       "</style>\n",
       "<table border=\"1\" class=\"dataframe\">\n",
       "  <thead>\n",
       "    <tr style=\"text-align: right;\">\n",
       "      <th></th>\n",
       "      <th>Recording</th>\n",
       "      <th>Event name</th>\n",
       "      <th>Event number</th>\n",
       "      <th>Unit number</th>\n",
       "      <th>Pre-event timebin 1</th>\n",
       "      <th>Pre-event timebin 2</th>\n",
       "      <th>Pre-event timebin 3</th>\n",
       "      <th>Pre-event timebin 4</th>\n",
       "      <th>Pre-event timebin 5</th>\n",
       "      <th>Pre-event timebin 6</th>\n",
       "      <th>...</th>\n",
       "      <th>Event timebin 91</th>\n",
       "      <th>Event timebin 92</th>\n",
       "      <th>Event timebin 93</th>\n",
       "      <th>Event timebin 94</th>\n",
       "      <th>Event timebin 95</th>\n",
       "      <th>Event timebin 96</th>\n",
       "      <th>Event timebin 97</th>\n",
       "      <th>Event timebin 98</th>\n",
       "      <th>Event timebin 99</th>\n",
       "      <th>Event timebin 100</th>\n",
       "    </tr>\n",
       "  </thead>\n",
       "  <tbody>\n",
       "    <tr>\n",
       "      <th>0</th>\n",
       "      <td>20230622_110832_standard_comp_to_both_rewarded...</td>\n",
       "      <td>lose</td>\n",
       "      <td>1</td>\n",
       "      <td>9</td>\n",
       "      <td>10.000000</td>\n",
       "      <td>10.000000</td>\n",
       "      <td>10.000000</td>\n",
       "      <td>3.333333</td>\n",
       "      <td>6.666667</td>\n",
       "      <td>10.000000</td>\n",
       "      <td>...</td>\n",
       "      <td>16.666667</td>\n",
       "      <td>10.000000</td>\n",
       "      <td>6.666667</td>\n",
       "      <td>3.333333</td>\n",
       "      <td>6.666667</td>\n",
       "      <td>13.333333</td>\n",
       "      <td>10.000000</td>\n",
       "      <td>10.000000</td>\n",
       "      <td>10.000000</td>\n",
       "      <td>20.000000</td>\n",
       "    </tr>\n",
       "    <tr>\n",
       "      <th>1</th>\n",
       "      <td>20230622_110832_standard_comp_to_both_rewarded...</td>\n",
       "      <td>lose</td>\n",
       "      <td>2</td>\n",
       "      <td>9</td>\n",
       "      <td>6.666667</td>\n",
       "      <td>6.666667</td>\n",
       "      <td>16.666667</td>\n",
       "      <td>16.666667</td>\n",
       "      <td>23.333333</td>\n",
       "      <td>23.333333</td>\n",
       "      <td>...</td>\n",
       "      <td>6.666667</td>\n",
       "      <td>16.666667</td>\n",
       "      <td>20.000000</td>\n",
       "      <td>16.666667</td>\n",
       "      <td>10.000000</td>\n",
       "      <td>6.666667</td>\n",
       "      <td>6.666667</td>\n",
       "      <td>6.666667</td>\n",
       "      <td>10.000000</td>\n",
       "      <td>13.333333</td>\n",
       "    </tr>\n",
       "    <tr>\n",
       "      <th>2</th>\n",
       "      <td>20230622_110832_standard_comp_to_both_rewarded...</td>\n",
       "      <td>lose</td>\n",
       "      <td>3</td>\n",
       "      <td>9</td>\n",
       "      <td>10.000000</td>\n",
       "      <td>10.000000</td>\n",
       "      <td>20.000000</td>\n",
       "      <td>23.333333</td>\n",
       "      <td>23.333333</td>\n",
       "      <td>13.333333</td>\n",
       "      <td>...</td>\n",
       "      <td>20.000000</td>\n",
       "      <td>20.000000</td>\n",
       "      <td>6.666667</td>\n",
       "      <td>3.333333</td>\n",
       "      <td>10.000000</td>\n",
       "      <td>16.666667</td>\n",
       "      <td>23.333333</td>\n",
       "      <td>13.333333</td>\n",
       "      <td>10.000000</td>\n",
       "      <td>10.000000</td>\n",
       "    </tr>\n",
       "    <tr>\n",
       "      <th>3</th>\n",
       "      <td>20230622_110832_standard_comp_to_both_rewarded...</td>\n",
       "      <td>lose</td>\n",
       "      <td>4</td>\n",
       "      <td>9</td>\n",
       "      <td>10.000000</td>\n",
       "      <td>3.333333</td>\n",
       "      <td>6.666667</td>\n",
       "      <td>6.666667</td>\n",
       "      <td>16.666667</td>\n",
       "      <td>26.666667</td>\n",
       "      <td>...</td>\n",
       "      <td>6.666667</td>\n",
       "      <td>10.000000</td>\n",
       "      <td>10.000000</td>\n",
       "      <td>10.000000</td>\n",
       "      <td>13.333333</td>\n",
       "      <td>16.666667</td>\n",
       "      <td>16.666667</td>\n",
       "      <td>10.000000</td>\n",
       "      <td>3.333333</td>\n",
       "      <td>10.000000</td>\n",
       "    </tr>\n",
       "    <tr>\n",
       "      <th>4</th>\n",
       "      <td>20230622_110832_standard_comp_to_both_rewarded...</td>\n",
       "      <td>lose</td>\n",
       "      <td>5</td>\n",
       "      <td>9</td>\n",
       "      <td>13.333333</td>\n",
       "      <td>20.000000</td>\n",
       "      <td>23.333333</td>\n",
       "      <td>23.333333</td>\n",
       "      <td>36.666667</td>\n",
       "      <td>33.333333</td>\n",
       "      <td>...</td>\n",
       "      <td>10.000000</td>\n",
       "      <td>13.333333</td>\n",
       "      <td>16.666667</td>\n",
       "      <td>13.333333</td>\n",
       "      <td>13.333333</td>\n",
       "      <td>23.333333</td>\n",
       "      <td>23.333333</td>\n",
       "      <td>26.666667</td>\n",
       "      <td>13.333333</td>\n",
       "      <td>13.333333</td>\n",
       "    </tr>\n",
       "    <tr>\n",
       "      <th>...</th>\n",
       "      <td>...</td>\n",
       "      <td>...</td>\n",
       "      <td>...</td>\n",
       "      <td>...</td>\n",
       "      <td>...</td>\n",
       "      <td>...</td>\n",
       "      <td>...</td>\n",
       "      <td>...</td>\n",
       "      <td>...</td>\n",
       "      <td>...</td>\n",
       "      <td>...</td>\n",
       "      <td>...</td>\n",
       "      <td>...</td>\n",
       "      <td>...</td>\n",
       "      <td>...</td>\n",
       "      <td>...</td>\n",
       "      <td>...</td>\n",
       "      <td>...</td>\n",
       "      <td>...</td>\n",
       "      <td>...</td>\n",
       "      <td>...</td>\n",
       "    </tr>\n",
       "    <tr>\n",
       "      <th>4796</th>\n",
       "      <td>20230625_112913_standard_comp_to_both_rewarded...</td>\n",
       "      <td>both_rewarded</td>\n",
       "      <td>16</td>\n",
       "      <td>11</td>\n",
       "      <td>0.000000</td>\n",
       "      <td>0.000000</td>\n",
       "      <td>0.000000</td>\n",
       "      <td>0.000000</td>\n",
       "      <td>0.000000</td>\n",
       "      <td>0.000000</td>\n",
       "      <td>...</td>\n",
       "      <td>0.000000</td>\n",
       "      <td>0.000000</td>\n",
       "      <td>0.000000</td>\n",
       "      <td>0.000000</td>\n",
       "      <td>0.000000</td>\n",
       "      <td>0.000000</td>\n",
       "      <td>0.000000</td>\n",
       "      <td>0.000000</td>\n",
       "      <td>0.000000</td>\n",
       "      <td>0.000000</td>\n",
       "    </tr>\n",
       "    <tr>\n",
       "      <th>4797</th>\n",
       "      <td>20230625_112913_standard_comp_to_both_rewarded...</td>\n",
       "      <td>both_rewarded</td>\n",
       "      <td>17</td>\n",
       "      <td>11</td>\n",
       "      <td>0.000000</td>\n",
       "      <td>0.000000</td>\n",
       "      <td>0.000000</td>\n",
       "      <td>0.000000</td>\n",
       "      <td>0.000000</td>\n",
       "      <td>0.000000</td>\n",
       "      <td>...</td>\n",
       "      <td>0.000000</td>\n",
       "      <td>0.000000</td>\n",
       "      <td>0.000000</td>\n",
       "      <td>0.000000</td>\n",
       "      <td>0.000000</td>\n",
       "      <td>0.000000</td>\n",
       "      <td>0.000000</td>\n",
       "      <td>0.000000</td>\n",
       "      <td>0.000000</td>\n",
       "      <td>0.000000</td>\n",
       "    </tr>\n",
       "    <tr>\n",
       "      <th>4798</th>\n",
       "      <td>20230625_112913_standard_comp_to_both_rewarded...</td>\n",
       "      <td>both_rewarded</td>\n",
       "      <td>18</td>\n",
       "      <td>11</td>\n",
       "      <td>0.000000</td>\n",
       "      <td>0.000000</td>\n",
       "      <td>0.000000</td>\n",
       "      <td>0.000000</td>\n",
       "      <td>0.000000</td>\n",
       "      <td>0.000000</td>\n",
       "      <td>...</td>\n",
       "      <td>0.000000</td>\n",
       "      <td>0.000000</td>\n",
       "      <td>0.000000</td>\n",
       "      <td>0.000000</td>\n",
       "      <td>0.000000</td>\n",
       "      <td>0.000000</td>\n",
       "      <td>0.000000</td>\n",
       "      <td>0.000000</td>\n",
       "      <td>0.000000</td>\n",
       "      <td>0.000000</td>\n",
       "    </tr>\n",
       "    <tr>\n",
       "      <th>4799</th>\n",
       "      <td>20230625_112913_standard_comp_to_both_rewarded...</td>\n",
       "      <td>both_rewarded</td>\n",
       "      <td>19</td>\n",
       "      <td>11</td>\n",
       "      <td>0.000000</td>\n",
       "      <td>0.000000</td>\n",
       "      <td>0.000000</td>\n",
       "      <td>0.000000</td>\n",
       "      <td>0.000000</td>\n",
       "      <td>0.000000</td>\n",
       "      <td>...</td>\n",
       "      <td>0.000000</td>\n",
       "      <td>0.000000</td>\n",
       "      <td>0.000000</td>\n",
       "      <td>0.000000</td>\n",
       "      <td>0.000000</td>\n",
       "      <td>3.333333</td>\n",
       "      <td>3.333333</td>\n",
       "      <td>3.333333</td>\n",
       "      <td>0.000000</td>\n",
       "      <td>0.000000</td>\n",
       "    </tr>\n",
       "    <tr>\n",
       "      <th>4800</th>\n",
       "      <td>20230625_112913_standard_comp_to_both_rewarded...</td>\n",
       "      <td>both_rewarded</td>\n",
       "      <td>20</td>\n",
       "      <td>11</td>\n",
       "      <td>0.000000</td>\n",
       "      <td>0.000000</td>\n",
       "      <td>0.000000</td>\n",
       "      <td>0.000000</td>\n",
       "      <td>0.000000</td>\n",
       "      <td>0.000000</td>\n",
       "      <td>...</td>\n",
       "      <td>6.666667</td>\n",
       "      <td>3.333333</td>\n",
       "      <td>3.333333</td>\n",
       "      <td>0.000000</td>\n",
       "      <td>0.000000</td>\n",
       "      <td>0.000000</td>\n",
       "      <td>0.000000</td>\n",
       "      <td>0.000000</td>\n",
       "      <td>0.000000</td>\n",
       "      <td>0.000000</td>\n",
       "    </tr>\n",
       "  </tbody>\n",
       "</table>\n",
       "<p>4801 rows × 204 columns</p>\n",
       "</div>"
      ],
      "text/plain": [
       "                                              Recording     Event name  \\\n",
       "0     20230622_110832_standard_comp_to_both_rewarded...           lose   \n",
       "1     20230622_110832_standard_comp_to_both_rewarded...           lose   \n",
       "2     20230622_110832_standard_comp_to_both_rewarded...           lose   \n",
       "3     20230622_110832_standard_comp_to_both_rewarded...           lose   \n",
       "4     20230622_110832_standard_comp_to_both_rewarded...           lose   \n",
       "...                                                 ...            ...   \n",
       "4796  20230625_112913_standard_comp_to_both_rewarded...  both_rewarded   \n",
       "4797  20230625_112913_standard_comp_to_both_rewarded...  both_rewarded   \n",
       "4798  20230625_112913_standard_comp_to_both_rewarded...  both_rewarded   \n",
       "4799  20230625_112913_standard_comp_to_both_rewarded...  both_rewarded   \n",
       "4800  20230625_112913_standard_comp_to_both_rewarded...  both_rewarded   \n",
       "\n",
       "      Event number  Unit number  Pre-event timebin 1  Pre-event timebin 2  \\\n",
       "0                1            9            10.000000            10.000000   \n",
       "1                2            9             6.666667             6.666667   \n",
       "2                3            9            10.000000            10.000000   \n",
       "3                4            9            10.000000             3.333333   \n",
       "4                5            9            13.333333            20.000000   \n",
       "...            ...          ...                  ...                  ...   \n",
       "4796            16           11             0.000000             0.000000   \n",
       "4797            17           11             0.000000             0.000000   \n",
       "4798            18           11             0.000000             0.000000   \n",
       "4799            19           11             0.000000             0.000000   \n",
       "4800            20           11             0.000000             0.000000   \n",
       "\n",
       "      Pre-event timebin 3  Pre-event timebin 4  Pre-event timebin 5  \\\n",
       "0               10.000000             3.333333             6.666667   \n",
       "1               16.666667            16.666667            23.333333   \n",
       "2               20.000000            23.333333            23.333333   \n",
       "3                6.666667             6.666667            16.666667   \n",
       "4               23.333333            23.333333            36.666667   \n",
       "...                   ...                  ...                  ...   \n",
       "4796             0.000000             0.000000             0.000000   \n",
       "4797             0.000000             0.000000             0.000000   \n",
       "4798             0.000000             0.000000             0.000000   \n",
       "4799             0.000000             0.000000             0.000000   \n",
       "4800             0.000000             0.000000             0.000000   \n",
       "\n",
       "      Pre-event timebin 6  ...  Event timebin 91  Event timebin 92  \\\n",
       "0               10.000000  ...         16.666667         10.000000   \n",
       "1               23.333333  ...          6.666667         16.666667   \n",
       "2               13.333333  ...         20.000000         20.000000   \n",
       "3               26.666667  ...          6.666667         10.000000   \n",
       "4               33.333333  ...         10.000000         13.333333   \n",
       "...                   ...  ...               ...               ...   \n",
       "4796             0.000000  ...          0.000000          0.000000   \n",
       "4797             0.000000  ...          0.000000          0.000000   \n",
       "4798             0.000000  ...          0.000000          0.000000   \n",
       "4799             0.000000  ...          0.000000          0.000000   \n",
       "4800             0.000000  ...          6.666667          3.333333   \n",
       "\n",
       "      Event timebin 93  Event timebin 94  Event timebin 95  Event timebin 96  \\\n",
       "0             6.666667          3.333333          6.666667         13.333333   \n",
       "1            20.000000         16.666667         10.000000          6.666667   \n",
       "2             6.666667          3.333333         10.000000         16.666667   \n",
       "3            10.000000         10.000000         13.333333         16.666667   \n",
       "4            16.666667         13.333333         13.333333         23.333333   \n",
       "...                ...               ...               ...               ...   \n",
       "4796          0.000000          0.000000          0.000000          0.000000   \n",
       "4797          0.000000          0.000000          0.000000          0.000000   \n",
       "4798          0.000000          0.000000          0.000000          0.000000   \n",
       "4799          0.000000          0.000000          0.000000          3.333333   \n",
       "4800          3.333333          0.000000          0.000000          0.000000   \n",
       "\n",
       "      Event timebin 97  Event timebin 98  Event timebin 99  Event timebin 100  \n",
       "0            10.000000         10.000000         10.000000          20.000000  \n",
       "1             6.666667          6.666667         10.000000          13.333333  \n",
       "2            23.333333         13.333333         10.000000          10.000000  \n",
       "3            16.666667         10.000000          3.333333          10.000000  \n",
       "4            23.333333         26.666667         13.333333          13.333333  \n",
       "...                ...               ...               ...                ...  \n",
       "4796          0.000000          0.000000          0.000000           0.000000  \n",
       "4797          0.000000          0.000000          0.000000           0.000000  \n",
       "4798          0.000000          0.000000          0.000000           0.000000  \n",
       "4799          3.333333          3.333333          0.000000           0.000000  \n",
       "4800          0.000000          0.000000          0.000000           0.000000  \n",
       "\n",
       "[4801 rows x 204 columns]"
      ]
     },
     "execution_count": 110,
     "metadata": {},
     "output_type": "execute_result"
    }
   ],
   "source": [
    "spike_analysis = spike.SpikeAnalysis_MultiRecording(ephys_data, timebin=100, smoothing_window=300, ignore_freq=0.5)\n",
    "\n",
    "event_spikes = spike_analysis.generate_event_dataframe()\n",
    "\n",
    "event_spikes"
   ]
  },
  {
   "cell_type": "code",
   "execution_count": 111,
   "id": "c21a509e-ce5a-43eb-9905-818d8f1ba280",
   "metadata": {
    "execution": {
     "iopub.execute_input": "2024-05-16T17:52:17.269864Z",
     "iopub.status.busy": "2024-05-16T17:52:17.269864Z",
     "iopub.status.idle": "2024-05-16T17:52:17.297705Z",
     "shell.execute_reply": "2024-05-16T17:52:17.297705Z",
     "shell.execute_reply.started": "2024-05-16T17:52:17.269864Z"
    }
   },
   "outputs": [
    {
     "data": {
      "text/plain": [
       "Pre-event timebin 1\n",
       "0.000000      2747\n",
       "3.333333       906\n",
       "6.666667       492\n",
       "10.000000      241\n",
       "13.333333      139\n",
       "16.666667       81\n",
       "20.000000       42\n",
       "26.666667       24\n",
       "23.333333       21\n",
       "36.666667       18\n",
       "23.333333       15\n",
       "20.000000       13\n",
       "33.333333       11\n",
       "30.000000        9\n",
       "30.000000        8\n",
       "40.000000        6\n",
       "46.666667        5\n",
       "50.000000        4\n",
       "76.666667        4\n",
       "46.666667        2\n",
       "60.000000        2\n",
       "53.333333        2\n",
       "60.000000        2\n",
       "26.666667        1\n",
       "146.666667       1\n",
       "66.666667        1\n",
       "63.333333        1\n",
       "43.333333        1\n",
       "56.666667        1\n",
       "50.000000        1\n",
       "Name: count, dtype: int64"
      ]
     },
     "execution_count": 111,
     "metadata": {},
     "output_type": "execute_result"
    }
   ],
   "source": [
    "event_spikes['Pre-event timebin 1'].value_counts()"
   ]
  },
  {
   "cell_type": "code",
   "execution_count": 112,
   "id": "e3d7354a-ac3f-490c-883d-ec2c4d369946",
   "metadata": {
    "execution": {
     "iopub.execute_input": "2024-05-16T17:52:17.302249Z",
     "iopub.status.busy": "2024-05-16T17:52:17.302249Z",
     "iopub.status.idle": "2024-05-16T17:52:17.360335Z",
     "shell.execute_reply": "2024-05-16T17:52:17.360335Z",
     "shell.execute_reply.started": "2024-05-16T17:52:17.302249Z"
    }
   },
   "outputs": [],
   "source": [
    "event_spikes['Pre-Event Avg Firing Rate'] = event_spikes[pre_event_cols].mean(axis=1)\n",
    "event_spikes['Event Avg Firing Rate'] = event_spikes[event_cols].mean(axis=1)\n",
    "\n",
    "# Create the new DataFrame with the desired columns\n",
    "avg_fr = event_spikes[['Recording', 'Event name', 'Unit number', 'Pre-Event Avg Firing Rate', 'Event Avg Firing Rate']]"
   ]
  },
  {
   "cell_type": "code",
   "execution_count": 113,
   "id": "fa28c21a-cde8-4da8-bca3-17ccc2371cea",
   "metadata": {
    "execution": {
     "iopub.execute_input": "2024-05-16T17:52:17.360335Z",
     "iopub.status.busy": "2024-05-16T17:52:17.360335Z",
     "iopub.status.idle": "2024-05-16T17:52:17.393060Z",
     "shell.execute_reply": "2024-05-16T17:52:17.393060Z",
     "shell.execute_reply.started": "2024-05-16T17:52:17.360335Z"
    }
   },
   "outputs": [
    {
     "data": {
      "text/html": [
       "<div>\n",
       "<style scoped>\n",
       "    .dataframe tbody tr th:only-of-type {\n",
       "        vertical-align: middle;\n",
       "    }\n",
       "\n",
       "    .dataframe tbody tr th {\n",
       "        vertical-align: top;\n",
       "    }\n",
       "\n",
       "    .dataframe thead th {\n",
       "        text-align: right;\n",
       "    }\n",
       "</style>\n",
       "<table border=\"1\" class=\"dataframe\">\n",
       "  <thead>\n",
       "    <tr style=\"text-align: right;\">\n",
       "      <th></th>\n",
       "      <th>Recording</th>\n",
       "      <th>Event name</th>\n",
       "      <th>Unit number</th>\n",
       "      <th>Pre-Event Avg Firing Rate</th>\n",
       "      <th>Event Avg Firing Rate</th>\n",
       "    </tr>\n",
       "  </thead>\n",
       "  <tbody>\n",
       "    <tr>\n",
       "      <th>0</th>\n",
       "      <td>20230622_110832_standard_comp_to_both_rewarded...</td>\n",
       "      <td>lose</td>\n",
       "      <td>9</td>\n",
       "      <td>12.4</td>\n",
       "      <td>9.900000</td>\n",
       "    </tr>\n",
       "    <tr>\n",
       "      <th>1</th>\n",
       "      <td>20230622_110832_standard_comp_to_both_rewarded...</td>\n",
       "      <td>lose</td>\n",
       "      <td>9</td>\n",
       "      <td>14.5</td>\n",
       "      <td>16.000000</td>\n",
       "    </tr>\n",
       "    <tr>\n",
       "      <th>2</th>\n",
       "      <td>20230622_110832_standard_comp_to_both_rewarded...</td>\n",
       "      <td>lose</td>\n",
       "      <td>9</td>\n",
       "      <td>11.4</td>\n",
       "      <td>10.800000</td>\n",
       "    </tr>\n",
       "    <tr>\n",
       "      <th>3</th>\n",
       "      <td>20230622_110832_standard_comp_to_both_rewarded...</td>\n",
       "      <td>lose</td>\n",
       "      <td>9</td>\n",
       "      <td>11.6</td>\n",
       "      <td>8.266667</td>\n",
       "    </tr>\n",
       "    <tr>\n",
       "      <th>4</th>\n",
       "      <td>20230622_110832_standard_comp_to_both_rewarded...</td>\n",
       "      <td>lose</td>\n",
       "      <td>9</td>\n",
       "      <td>15.1</td>\n",
       "      <td>15.200000</td>\n",
       "    </tr>\n",
       "    <tr>\n",
       "      <th>...</th>\n",
       "      <td>...</td>\n",
       "      <td>...</td>\n",
       "      <td>...</td>\n",
       "      <td>...</td>\n",
       "      <td>...</td>\n",
       "    </tr>\n",
       "    <tr>\n",
       "      <th>4796</th>\n",
       "      <td>20230625_112913_standard_comp_to_both_rewarded...</td>\n",
       "      <td>both_rewarded</td>\n",
       "      <td>11</td>\n",
       "      <td>1.7</td>\n",
       "      <td>0.600000</td>\n",
       "    </tr>\n",
       "    <tr>\n",
       "      <th>4797</th>\n",
       "      <td>20230625_112913_standard_comp_to_both_rewarded...</td>\n",
       "      <td>both_rewarded</td>\n",
       "      <td>11</td>\n",
       "      <td>0.0</td>\n",
       "      <td>0.200000</td>\n",
       "    </tr>\n",
       "    <tr>\n",
       "      <th>4798</th>\n",
       "      <td>20230625_112913_standard_comp_to_both_rewarded...</td>\n",
       "      <td>both_rewarded</td>\n",
       "      <td>11</td>\n",
       "      <td>0.2</td>\n",
       "      <td>0.100000</td>\n",
       "    </tr>\n",
       "    <tr>\n",
       "      <th>4799</th>\n",
       "      <td>20230625_112913_standard_comp_to_both_rewarded...</td>\n",
       "      <td>both_rewarded</td>\n",
       "      <td>11</td>\n",
       "      <td>0.1</td>\n",
       "      <td>0.300000</td>\n",
       "    </tr>\n",
       "    <tr>\n",
       "      <th>4800</th>\n",
       "      <td>20230625_112913_standard_comp_to_both_rewarded...</td>\n",
       "      <td>both_rewarded</td>\n",
       "      <td>11</td>\n",
       "      <td>0.2</td>\n",
       "      <td>2.200000</td>\n",
       "    </tr>\n",
       "  </tbody>\n",
       "</table>\n",
       "<p>4801 rows × 5 columns</p>\n",
       "</div>"
      ],
      "text/plain": [
       "                                              Recording     Event name  \\\n",
       "0     20230622_110832_standard_comp_to_both_rewarded...           lose   \n",
       "1     20230622_110832_standard_comp_to_both_rewarded...           lose   \n",
       "2     20230622_110832_standard_comp_to_both_rewarded...           lose   \n",
       "3     20230622_110832_standard_comp_to_both_rewarded...           lose   \n",
       "4     20230622_110832_standard_comp_to_both_rewarded...           lose   \n",
       "...                                                 ...            ...   \n",
       "4796  20230625_112913_standard_comp_to_both_rewarded...  both_rewarded   \n",
       "4797  20230625_112913_standard_comp_to_both_rewarded...  both_rewarded   \n",
       "4798  20230625_112913_standard_comp_to_both_rewarded...  both_rewarded   \n",
       "4799  20230625_112913_standard_comp_to_both_rewarded...  both_rewarded   \n",
       "4800  20230625_112913_standard_comp_to_both_rewarded...  both_rewarded   \n",
       "\n",
       "      Unit number  Pre-Event Avg Firing Rate  Event Avg Firing Rate  \n",
       "0               9                       12.4               9.900000  \n",
       "1               9                       14.5              16.000000  \n",
       "2               9                       11.4              10.800000  \n",
       "3               9                       11.6               8.266667  \n",
       "4               9                       15.1              15.200000  \n",
       "...           ...                        ...                    ...  \n",
       "4796           11                        1.7               0.600000  \n",
       "4797           11                        0.0               0.200000  \n",
       "4798           11                        0.2               0.100000  \n",
       "4799           11                        0.1               0.300000  \n",
       "4800           11                        0.2               2.200000  \n",
       "\n",
       "[4801 rows x 5 columns]"
      ]
     },
     "execution_count": 113,
     "metadata": {},
     "output_type": "execute_result"
    }
   ],
   "source": [
    "avg_fr"
   ]
  },
  {
   "cell_type": "code",
   "execution_count": 114,
   "id": "4eb9d223-8401-44b1-8c77-7472643429a5",
   "metadata": {
    "execution": {
     "iopub.execute_input": "2024-05-16T17:52:17.393060Z",
     "iopub.status.busy": "2024-05-16T17:52:17.393060Z",
     "iopub.status.idle": "2024-05-16T17:52:17.455803Z",
     "shell.execute_reply": "2024-05-16T17:52:17.455803Z",
     "shell.execute_reply.started": "2024-05-16T17:52:17.393060Z"
    }
   },
   "outputs": [],
   "source": [
    "grouped_df = event_spikes.groupby(['Recording', 'Event name', 'Unit number'])[['Pre-Event Avg Firing Rate', 'Event Avg Firing Rate']].mean().reset_index()"
   ]
  },
  {
   "cell_type": "code",
   "execution_count": 115,
   "id": "3b39a66b-1f37-4b5e-b0d6-bdf6a90eda65",
   "metadata": {
    "execution": {
     "iopub.execute_input": "2024-05-16T17:52:17.455803Z",
     "iopub.status.busy": "2024-05-16T17:52:17.455803Z",
     "iopub.status.idle": "2024-05-16T17:52:17.490470Z",
     "shell.execute_reply": "2024-05-16T17:52:17.490470Z",
     "shell.execute_reply.started": "2024-05-16T17:52:17.455803Z"
    }
   },
   "outputs": [
    {
     "data": {
      "text/html": [
       "<div>\n",
       "<style scoped>\n",
       "    .dataframe tbody tr th:only-of-type {\n",
       "        vertical-align: middle;\n",
       "    }\n",
       "\n",
       "    .dataframe tbody tr th {\n",
       "        vertical-align: top;\n",
       "    }\n",
       "\n",
       "    .dataframe thead th {\n",
       "        text-align: right;\n",
       "    }\n",
       "</style>\n",
       "<table border=\"1\" class=\"dataframe\">\n",
       "  <thead>\n",
       "    <tr style=\"text-align: right;\">\n",
       "      <th></th>\n",
       "      <th>Recording</th>\n",
       "      <th>Event name</th>\n",
       "      <th>Unit number</th>\n",
       "      <th>Pre-Event Avg Firing Rate</th>\n",
       "      <th>Event Avg Firing Rate</th>\n",
       "    </tr>\n",
       "  </thead>\n",
       "  <tbody>\n",
       "    <tr>\n",
       "      <th>0</th>\n",
       "      <td>20230622_110832_standard_comp_to_both_rewarded...</td>\n",
       "      <td>both_rewarded</td>\n",
       "      <td>1</td>\n",
       "      <td>0.625490</td>\n",
       "      <td>0.717647</td>\n",
       "    </tr>\n",
       "    <tr>\n",
       "      <th>1</th>\n",
       "      <td>20230622_110832_standard_comp_to_both_rewarded...</td>\n",
       "      <td>both_rewarded</td>\n",
       "      <td>2</td>\n",
       "      <td>3.996078</td>\n",
       "      <td>3.801961</td>\n",
       "    </tr>\n",
       "    <tr>\n",
       "      <th>2</th>\n",
       "      <td>20230622_110832_standard_comp_to_both_rewarded...</td>\n",
       "      <td>both_rewarded</td>\n",
       "      <td>9</td>\n",
       "      <td>15.637255</td>\n",
       "      <td>15.839216</td>\n",
       "    </tr>\n",
       "    <tr>\n",
       "      <th>3</th>\n",
       "      <td>20230622_110832_standard_comp_to_both_rewarded...</td>\n",
       "      <td>both_rewarded</td>\n",
       "      <td>10</td>\n",
       "      <td>2.688235</td>\n",
       "      <td>1.868627</td>\n",
       "    </tr>\n",
       "    <tr>\n",
       "      <th>4</th>\n",
       "      <td>20230622_110832_standard_comp_to_both_rewarded...</td>\n",
       "      <td>both_rewarded</td>\n",
       "      <td>11</td>\n",
       "      <td>3.660784</td>\n",
       "      <td>2.792157</td>\n",
       "    </tr>\n",
       "    <tr>\n",
       "      <th>...</th>\n",
       "      <td>...</td>\n",
       "      <td>...</td>\n",
       "      <td>...</td>\n",
       "      <td>...</td>\n",
       "      <td>...</td>\n",
       "    </tr>\n",
       "    <tr>\n",
       "      <th>268</th>\n",
       "      <td>20230625_112913_standard_comp_to_both_rewarded...</td>\n",
       "      <td>win</td>\n",
       "      <td>60</td>\n",
       "      <td>0.150000</td>\n",
       "      <td>2.033333</td>\n",
       "    </tr>\n",
       "    <tr>\n",
       "      <th>269</th>\n",
       "      <td>20230625_112913_standard_comp_to_both_rewarded...</td>\n",
       "      <td>win</td>\n",
       "      <td>77</td>\n",
       "      <td>0.991667</td>\n",
       "      <td>1.250000</td>\n",
       "    </tr>\n",
       "    <tr>\n",
       "      <th>270</th>\n",
       "      <td>20230625_112913_standard_comp_to_both_rewarded...</td>\n",
       "      <td>win</td>\n",
       "      <td>85</td>\n",
       "      <td>0.466667</td>\n",
       "      <td>1.033333</td>\n",
       "    </tr>\n",
       "    <tr>\n",
       "      <th>271</th>\n",
       "      <td>20230625_112913_standard_comp_to_both_rewarded...</td>\n",
       "      <td>win</td>\n",
       "      <td>99</td>\n",
       "      <td>0.916667</td>\n",
       "      <td>0.950000</td>\n",
       "    </tr>\n",
       "    <tr>\n",
       "      <th>272</th>\n",
       "      <td>20230625_112913_standard_comp_to_both_rewarded...</td>\n",
       "      <td>win</td>\n",
       "      <td>105</td>\n",
       "      <td>1.941667</td>\n",
       "      <td>1.775000</td>\n",
       "    </tr>\n",
       "  </tbody>\n",
       "</table>\n",
       "<p>273 rows × 5 columns</p>\n",
       "</div>"
      ],
      "text/plain": [
       "                                             Recording     Event name  \\\n",
       "0    20230622_110832_standard_comp_to_both_rewarded...  both_rewarded   \n",
       "1    20230622_110832_standard_comp_to_both_rewarded...  both_rewarded   \n",
       "2    20230622_110832_standard_comp_to_both_rewarded...  both_rewarded   \n",
       "3    20230622_110832_standard_comp_to_both_rewarded...  both_rewarded   \n",
       "4    20230622_110832_standard_comp_to_both_rewarded...  both_rewarded   \n",
       "..                                                 ...            ...   \n",
       "268  20230625_112913_standard_comp_to_both_rewarded...            win   \n",
       "269  20230625_112913_standard_comp_to_both_rewarded...            win   \n",
       "270  20230625_112913_standard_comp_to_both_rewarded...            win   \n",
       "271  20230625_112913_standard_comp_to_both_rewarded...            win   \n",
       "272  20230625_112913_standard_comp_to_both_rewarded...            win   \n",
       "\n",
       "     Unit number  Pre-Event Avg Firing Rate  Event Avg Firing Rate  \n",
       "0              1                   0.625490               0.717647  \n",
       "1              2                   3.996078               3.801961  \n",
       "2              9                  15.637255              15.839216  \n",
       "3             10                   2.688235               1.868627  \n",
       "4             11                   3.660784               2.792157  \n",
       "..           ...                        ...                    ...  \n",
       "268           60                   0.150000               2.033333  \n",
       "269           77                   0.991667               1.250000  \n",
       "270           85                   0.466667               1.033333  \n",
       "271           99                   0.916667               0.950000  \n",
       "272          105                   1.941667               1.775000  \n",
       "\n",
       "[273 rows x 5 columns]"
      ]
     },
     "execution_count": 115,
     "metadata": {},
     "output_type": "execute_result"
    }
   ],
   "source": [
    "grouped_df"
   ]
  },
  {
   "cell_type": "code",
   "execution_count": 116,
   "id": "5f11a129-2a89-4d9e-bc54-035848ae99ad",
   "metadata": {
    "execution": {
     "iopub.execute_input": "2024-05-16T17:52:17.490470Z",
     "iopub.status.busy": "2024-05-16T17:52:17.490470Z",
     "iopub.status.idle": "2024-05-16T17:52:18.036679Z",
     "shell.execute_reply": "2024-05-16T17:52:18.036679Z",
     "shell.execute_reply.started": "2024-05-16T17:52:17.490470Z"
    }
   },
   "outputs": [
    {
     "data": {
      "image/png": "[encoded data removed]",
      "text/plain": [
       "<Figure size 1000x600 with 1 Axes>"
      ]
     },
     "metadata": {},
     "output_type": "display_data"
    }
   ],
   "source": [
    "plt.figure(figsize=(10, 6))\n",
    "plt.hist(grouped_df['Pre-Event Avg Firing Rate'], bins=30, alpha=0.75)\n",
    "plt.xlabel('Pre-Event Avg Firing Rate')\n",
    "plt.ylabel('Frequency')\n",
    "plt.title('Histogram of Pre-Event Avg Firing Rate')\n",
    "plt.show()"
   ]
  },
  {
   "cell_type": "code",
   "execution_count": 117,
   "id": "9a7d3984-239f-4372-b4a4-ab4a643d9757",
   "metadata": {
    "execution": {
     "iopub.execute_input": "2024-05-16T17:52:18.036679Z",
     "iopub.status.busy": "2024-05-16T17:52:18.036679Z",
     "iopub.status.idle": "2024-05-16T17:52:18.583110Z",
     "shell.execute_reply": "2024-05-16T17:52:18.583110Z",
     "shell.execute_reply.started": "2024-05-16T17:52:18.036679Z"
    }
   },
   "outputs": [
    {
     "data": {
      "image/png": "[encoded data removed]",
      "text/plain": [
       "<Figure size 1000x600 with 1 Axes>"
      ]
     },
     "metadata": {},
     "output_type": "display_data"
    }
   ],
   "source": [
    "plt.figure(figsize=(10, 6))\n",
    "plt.hist(grouped_df['Pre-Event Avg Firing Rate'], bins=100, alpha=0.75)\n",
    "plt.xlabel('Pre-Event Avg Firing Rate')\n",
    "plt.ylabel('Frequency')\n",
    "plt.title('Histogram of Pre-Event Avg Firing Rate')\n",
    "plt.show()"
   ]
  },
  {
   "cell_type": "code",
   "execution_count": 118,
   "id": "d40a9344-7070-4fb4-8f8f-e45cf9c06a63",
   "metadata": {
    "execution": {
     "iopub.execute_input": "2024-05-16T17:52:18.586762Z",
     "iopub.status.busy": "2024-05-16T17:52:18.586762Z",
     "iopub.status.idle": "2024-05-16T17:52:18.970094Z",
     "shell.execute_reply": "2024-05-16T17:52:18.967980Z",
     "shell.execute_reply.started": "2024-05-16T17:52:18.586762Z"
    }
   },
   "outputs": [
    {
     "data": {
      "image/png": "[encoded data removed]",
      "text/plain": [
       "<Figure size 1000x600 with 1 Axes>"
      ]
     },
     "metadata": {},
     "output_type": "display_data"
    }
   ],
   "source": [
    "plt.figure(figsize=(10, 6))\n",
    "plt.hist(grouped_df['Pre-Event Avg Firing Rate'], alpha=0.75)\n",
    "plt.xlabel('Pre-Event Avg Firing Rate')\n",
    "plt.ylabel('Frequency')\n",
    "plt.title('Histogram of Pre-Event Avg Firing Rate')\n",
    "plt.show()"
   ]
  },
  {
   "cell_type": "code",
   "execution_count": 119,
   "id": "5201ec11-6866-4e5c-88c5-c462edfb1a40",
   "metadata": {
    "execution": {
     "iopub.execute_input": "2024-05-16T17:52:18.970094Z",
     "iopub.status.busy": "2024-05-16T17:52:18.970094Z",
     "iopub.status.idle": "2024-05-16T17:52:19.520101Z",
     "shell.execute_reply": "2024-05-16T17:52:19.518458Z",
     "shell.execute_reply.started": "2024-05-16T17:52:18.970094Z"
    }
   },
   "outputs": [
    {
     "data": {
      "image/png": "[encoded data removed]",
      "text/plain": [
       "<Figure size 1000x600 with 1 Axes>"
      ]
     },
     "metadata": {},
     "output_type": "display_data"
    }
   ],
   "source": [
    "plt.figure(figsize=(10, 6))\n",
    "plt.hist(grouped_df['Event Avg Firing Rate'], bins=100, alpha=0.75)\n",
    "plt.xlabel('Pre-Event Avg Firing Rate')\n",
    "plt.ylabel('Frequency')\n",
    "plt.title('Histogram of Event Avg Firing Rate')\n",
    "plt.show()"
   ]
  },
  {
   "cell_type": "code",
   "execution_count": 121,
   "id": "e3d2737b-eed4-4191-a7bb-441af2ac95ae",
   "metadata": {
    "execution": {
     "iopub.execute_input": "2024-05-16T18:03:53.038064Z",
     "iopub.status.busy": "2024-05-16T18:03:53.038064Z",
     "iopub.status.idle": "2024-05-16T18:03:53.121436Z",
     "shell.execute_reply": "2024-05-16T18:03:53.121047Z",
     "shell.execute_reply.started": "2024-05-16T18:03:53.038064Z"
    }
   },
   "outputs": [
    {
     "name": "stdout",
     "output_type": "stream",
     "text": [
      "Statistic: 0.6229205131530762\n",
      "P-value: 4.4061025167300815e-24\n",
      "The data is not normally distributed (reject H0)\n"
     ]
    }
   ],
   "source": [
    "import scipy.stats as stats\n",
    "\n",
    "stat, p_value = stats.shapiro(grouped_df['Pre-Event Avg Firing Rate'])\n",
    "\n",
    "print(f'Statistic: {stat}')\n",
    "print(f'P-value: {p_value}')\n",
    "\n",
    "if p_value > 0.05:\n",
    "    print(\"The data is normally distributed (fail to reject H0)\")\n",
    "else:\n",
    "    print(\"The data is not normally distributed (reject H0)\")"
   ]
  },
  {
   "cell_type": "code",
   "execution_count": 122,
   "id": "8e2ae8d2-9332-49da-b864-21a11f22b532",
   "metadata": {
    "execution": {
     "iopub.execute_input": "2024-05-16T18:04:08.256232Z",
     "iopub.status.busy": "2024-05-16T18:04:08.256232Z",
     "iopub.status.idle": "2024-05-16T18:04:08.278870Z",
     "shell.execute_reply": "2024-05-16T18:04:08.278870Z",
     "shell.execute_reply.started": "2024-05-16T18:04:08.256232Z"
    }
   },
   "outputs": [
    {
     "name": "stdout",
     "output_type": "stream",
     "text": [
      "Statistic: 0.5957766771316528\n",
      "P-value: 8.361422696515647e-25\n",
      "The data is not normally distributed (reject H0)\n"
     ]
    }
   ],
   "source": [
    "stat, p_value = stats.shapiro(grouped_df['Event Avg Firing Rate'])\n",
    "\n",
    "print(f'Statistic: {stat}')\n",
    "print(f'P-value: {p_value}')\n",
    "\n",
    "if p_value > 0.05:\n",
    "    print(\"The data is normally distributed (fail to reject H0)\")\n",
    "else:\n",
    "    print(\"The data is not normally distributed (reject H0)\")"
   ]
  },
  {
   "cell_type": "code",
   "execution_count": null,
   "id": "dfe99f33-981f-4b26-84ee-47719db6d813",
   "metadata": {},
   "outputs": [],
   "source": []
  }
 ],
 "metadata": {
  "kernelspec": {
   "display_name": "Python 3 (ipykernel)",
   "language": "python",
   "name": "python3"
  },
  "language_info": {
   "codemirror_mode": {
    "name": "ipython",
    "version": 3
   },
   "file_extension": ".py",
   "mimetype": "text/x-python",
   "name": "python",
   "nbconvert_exporter": "python",
   "pygments_lexer": "ipython3",
   "version": "3.11.7"
  }
 },
 "nbformat": 4,
 "nbformat_minor": 5
}
