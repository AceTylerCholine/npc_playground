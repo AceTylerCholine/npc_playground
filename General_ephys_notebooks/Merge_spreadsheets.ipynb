{
 "cells": [
  {
   "cell_type": "markdown",
   "id": "d369f8e7-8859-4650-bd51-cc86490c4af4",
   "metadata": {},
   "source": [
    "# Merge Behavior Spreadsheets\n",
    "### To combine the ePhys data from Cohort 2 & Cohort 3, it'll be easiest to import 1 spreadsheet and make the event dictionaries, etc, from that"
   ]
  },
  {
   "cell_type": "code",
   "execution_count": 1,
   "id": "3293a190-8eff-43de-813b-bd80a5ad03ad",
   "metadata": {
    "execution": {
     "iopub.execute_input": "2024-07-22T22:52:20.471577Z",
     "iopub.status.busy": "2024-07-22T22:52:20.470575Z",
     "iopub.status.idle": "2024-07-22T22:52:25.078313Z",
     "shell.execute_reply": "2024-07-22T22:52:25.078313Z",
     "shell.execute_reply.started": "2024-07-22T22:52:20.471577Z"
    }
   },
   "outputs": [
    {
     "name": "stdout",
     "output_type": "stream",
     "text": [
      "Files have been successfully combined and saved as combined_excel_file.xlsx\n"
     ]
    }
   ],
   "source": [
    "import pandas as pd\n",
    "\n",
    "def append_excel_files(file1, file2, output_file):\n",
    "    # Load the Excel files\n",
    "    df1 = pd.read_excel(file1)\n",
    "    df2 = pd.read_excel(file2)\n",
    "    \n",
    "    # Ensure column names are stripped of leading/trailing whitespaces and lowercased for uniformity\n",
    "    df1.columns = df1.columns.str.strip().str.lower()\n",
    "    df2.columns = df2.columns.str.strip().str.lower()\n",
    "    \n",
    "    # Rename 'reward_start' in df2 to 'reward_start_frame'\n",
    "    if 'reward_start' in df2.columns:\n",
    "        df2.rename(columns={'reward_start': 'reward_start_frame'}, inplace=True)\n",
    "    \n",
    "    # Append df2 to df1\n",
    "    combined_df = pd.concat([df1, df2], axis=0, ignore_index=True, sort=False)\n",
    "    \n",
    "    # Save the combined DataFrame to a new Excel file\n",
    "    combined_df.to_excel(output_file, index=False)\n",
    "\n",
    "# Define file paths and output file\n",
    "file1 = 'rce_pilot_2_per_video_trial_labels.xlsx'\n",
    "file2 = 'rce_pilot_3_alone_comp_per_video_trial_labels.xlsx'\n",
    "output_file = 'combined_excel_file.xlsx'\n",
    "\n",
    "# Call the function\n",
    "append_excel_files(file1, file2, output_file)\n",
    "\n",
    "print(\"Files have been successfully combined and saved as\", output_file)"
   ]
  },
  {
   "cell_type": "code",
   "execution_count": null,
   "id": "f231c526-58d0-4db9-999b-c52d56558341",
   "metadata": {},
   "outputs": [],
   "source": []
  }
 ],
 "metadata": {
  "kernelspec": {
   "display_name": "Python 3 (ipykernel)",
   "language": "python",
   "name": "python3"
  },
  "language_info": {
   "codemirror_mode": {
    "name": "ipython",
    "version": 3
   },
   "file_extension": ".py",
   "mimetype": "text/x-python",
   "name": "python",
   "nbconvert_exporter": "python",
   "pygments_lexer": "ipython3",
   "version": "3.10.14"
  }
 },
 "nbformat": 4,
 "nbformat_minor": 5
}
