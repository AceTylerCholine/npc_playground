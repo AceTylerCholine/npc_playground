{
 "cells": [
  {
   "cell_type": "markdown",
   "id": "1d1b795c-495e-49bb-8714-01a18850ac9b",
   "metadata": {},
   "source": [
    "# EPhys Data Analysis Tutorial\n",
    "\n",
    "This tutorial demonstrates a step-by-step approach to processing electrophysiology (EPhys) data for analysis using Meghan's multirecording_spikeanalysis script, the RCE Pilot 2 behavior spreadsheet, and directories of phy folders (with spike_times.npy, spike_clusters.npy, & cluster_group.tsv) for each ephys recording.\n",
    "\n",
    "## Setup\n",
    "\n",
    "Import all the libraries you'll be using, including Meghan's multirecording_spikeanalysis.py:"
   ]
  },
  {
   "cell_type": "code",
   "execution_count": 1,
   "id": "81770ad7-1919-4116-b994-5cdc0d77da9f",
   "metadata": {
    "execution": {
     "iopub.execute_input": "2024-05-15T22:25:25.156854Z",
     "iopub.status.busy": "2024-05-15T22:25:25.156854Z",
     "iopub.status.idle": "2024-05-15T22:25:30.888510Z",
     "shell.execute_reply": "2024-05-15T22:25:30.888510Z",
     "shell.execute_reply.started": "2024-05-15T22:25:25.156854Z"
    },
    "tags": []
   },
   "outputs": [],
   "source": [
    "import pandas as pd\n",
    "import numpy as np\n",
    "import ast\n",
    "import pickle\n",
    "from pathlib import Path\n",
    "import multirecording_spikeanalysis as spike\n",
    "from statistics import mean, StatisticsError"
   ]
  },
  {
   "cell_type": "markdown",
   "id": "1695e1cb-5bf4-4fe2-979b-f1f2cb4fb677",
   "metadata": {},
   "source": [
    "## Data Loading\n",
    "First, we load the relevant EPhys data from the RCE Pilot 2 spreadsheet:"
   ]
  },
  {
   "cell_type": "code",
   "execution_count": 2,
   "id": "4875ae34-edf9-45e8-a7e0-49a1661231b2",
   "metadata": {
    "execution": {
     "iopub.execute_input": "2024-05-15T22:25:30.888510Z",
     "iopub.status.busy": "2024-05-15T22:25:30.888510Z",
     "iopub.status.idle": "2024-05-15T22:25:32.305795Z",
     "shell.execute_reply": "2024-05-15T22:25:32.305795Z",
     "shell.execute_reply.started": "2024-05-15T22:25:30.888510Z"
    },
    "tags": []
   },
   "outputs": [],
   "source": [
    "cols = ['condition ', 'session_dir', 'all_subjects', 'tone_start_timestamp', 'tone_stop_timestamp']\n",
    "\n",
    "# Load the data\n",
    "df = pd.read_excel('rce_pilot_2_per_video_trial_labels.xlsx', usecols=cols, engine='openpyxl')"
   ]
  },
  {
   "cell_type": "markdown",
   "id": "b0aac8f4-0a3d-4b6c-8d6b-737ad89a1c5b",
   "metadata": {},
   "source": [
    "## Preprocessing\n",
    "\n",
    "Next, we rearrange the spreadsheet in order for it to prepare it for ephys recordings:"
   ]
  },
  {
   "cell_type": "code",
   "execution_count": 3,
   "id": "3cc1b799-5a71-43ea-8f9e-f38cce47dd99",
   "metadata": {
    "execution": {
     "iopub.execute_input": "2024-05-15T22:25:32.313826Z",
     "iopub.status.busy": "2024-05-15T22:25:32.305795Z",
     "iopub.status.idle": "2024-05-15T22:25:32.363692Z",
     "shell.execute_reply": "2024-05-15T22:25:32.363692Z",
     "shell.execute_reply.started": "2024-05-15T22:25:32.313826Z"
    },
    "tags": []
   },
   "outputs": [],
   "source": [
    "df2 = df.dropna() # Drop the rows missing data\n",
    "df3 = df2.copy()\n",
    "df3['all_subjects'] = df3['all_subjects'].apply(lambda x: ast.literal_eval(x) if isinstance(x, str) else x) # Make the 'all_subjects' column readable as a list\n",
    "df4 = df3[df3['all_subjects'].apply(lambda x: len(x) < 3)] # Ignore novel sessions for now"
   ]
  },
  {
   "cell_type": "markdown",
   "id": "539f0136-d2f4-42bc-bd55-a01367e569de",
   "metadata": {},
   "source": [
    "## Data Structuring\n",
    "We'll structure the data into a new DataFrame that aligns with our analysis goals:"
   ]
  },
  {
   "cell_type": "code",
   "execution_count": 4,
   "id": "112f9507-69df-4874-8db4-2dda8571c338",
   "metadata": {
    "execution": {
     "iopub.execute_input": "2024-05-15T22:25:32.363692Z",
     "iopub.status.busy": "2024-05-15T22:25:32.363692Z",
     "iopub.status.idle": "2024-05-15T22:25:32.486599Z",
     "shell.execute_reply": "2024-05-15T22:25:32.486599Z",
     "shell.execute_reply.started": "2024-05-15T22:25:32.363692Z"
    },
    "tags": []
   },
   "outputs": [],
   "source": [
    "# Initialize an empty list to collect data for the new DataFrame\n",
    "new_df_data = []\n",
    "\n",
    "for _, row in df4.iterrows():\n",
    "    session_dir = row['session_dir']\n",
    "    subjects = row['all_subjects']\n",
    "    condition = row['condition ']\n",
    "\n",
    "    # Split session_dir on '_subj_' and take the first part only\n",
    "    # This ensures everything after '_subj_' is ignored\n",
    "    base_session_dir = session_dir.split('_subj_')[0]\n",
    "\n",
    "    for subject in subjects:\n",
    "        subject_formatted = subject.replace('.', '-')\n",
    "        # Append formatted subject to the base session_dir correctly\n",
    "        subj_recording = f\"{base_session_dir}_subj_{subject_formatted}\"\n",
    "        new_df_data.append({\n",
    "            'session_dir': session_dir,\n",
    "            'subject': subject,\n",
    "            'subj_recording': subj_recording,\n",
    "            'condition': condition if condition in ['rewarded', 'omission', 'both_rewarded', 'tie'] else ('win' if str(condition) == str(subject) else 'lose'),\n",
    "            'tone_start_timestamp': row['tone_start_timestamp'],\n",
    "            'tone_stop_timestamp': row['tone_stop_timestamp']\n",
    "        })\n",
    "\n",
    "# Convert list to DataFrame\n",
    "new_df = pd.DataFrame(new_df_data)\n",
    "new_df = new_df.drop_duplicates()"
   ]
  },
  {
   "cell_type": "markdown",
   "id": "0efe64e4-6bad-4d03-b01a-1471e5710258",
   "metadata": {},
   "source": [
    "## Timestamp Dictionary Preparation\n",
    "Prepare dictionaries of event timestamps to match with the ephys recordings:"
   ]
  },
  {
   "cell_type": "code",
   "execution_count": 5,
   "id": "c5284a66-5274-4f20-a0f2-82e64e122a33",
   "metadata": {
    "execution": {
     "iopub.execute_input": "2024-05-15T22:25:32.486599Z",
     "iopub.status.busy": "2024-05-15T22:25:32.486599Z",
     "iopub.status.idle": "2024-05-15T22:25:32.628153Z",
     "shell.execute_reply": "2024-05-15T22:25:32.626628Z",
     "shell.execute_reply.started": "2024-05-15T22:25:32.486599Z"
    },
    "tags": []
   },
   "outputs": [],
   "source": [
    "# Prepare timestamp_dicts from new_df\n",
    "timestamp_dicts = {}\n",
    "for _, row in new_df.iterrows():\n",
    "    key = row['subj_recording']\n",
    "    condition = row['condition']\n",
    "    timestamp_start = int(row['tone_start_timestamp']) // 20\n",
    "    timestamp_end = int(row['tone_stop_timestamp']) // 20\n",
    "    tuple_val = (timestamp_start, timestamp_end)\n",
    "\n",
    "    if key not in timestamp_dicts:\n",
    "        timestamp_dicts[key] = {cond: [] for cond in ['rewarded', 'win', 'lose', 'omission', 'both_rewarded', 'tie']}\n",
    "    timestamp_dicts[key][condition].append(tuple_val)\n",
    "\n",
    "# Convert lists in timestamp_dicts to numpy arrays\n",
    "for subj_recording in timestamp_dicts:\n",
    "    for condition in timestamp_dicts[subj_recording]:\n",
    "        timestamp_dicts[subj_recording][condition] = np.array(timestamp_dicts[subj_recording][condition], dtype=np.int64)"
   ]
  },
  {
   "cell_type": "markdown",
   "id": "c537d178-124d-4cd2-921d-d6de5d3f254c",
   "metadata": {},
   "source": [
    "## EPhys Recording Collection\n",
    "Load EPhys recordings:"
   ]
  },
  {
   "cell_type": "code",
   "execution_count": 6,
   "id": "3b94ceca-39f0-4933-a018-a5858d86bf27",
   "metadata": {
    "execution": {
     "iopub.execute_input": "2024-05-15T22:25:32.628153Z",
     "iopub.status.busy": "2024-05-15T22:25:32.628153Z",
     "iopub.status.idle": "2024-05-15T22:26:25.651712Z",
     "shell.execute_reply": "2024-05-15T22:26:25.651712Z",
     "shell.execute_reply.started": "2024-05-15T22:25:32.628153Z"
    },
    "tags": []
   },
   "outputs": [
    {
     "name": "stdout",
     "output_type": "stream",
     "text": [
      "<class 'numpy.ndarray'>\n",
      "<class 'numpy.ndarray'>\n",
      "20230612_101430_standard_comp_to_training_D1_subj_1-3_t3b3L_box2_merged.rec\n",
      "<class 'numpy.ndarray'>\n",
      "<class 'numpy.ndarray'>\n",
      "20230617_115521_standard_comp_to_omission_D1_subj_1-1_t1b3L_box1_merged.rec\n",
      "<class 'numpy.ndarray'>\n",
      "<class 'numpy.ndarray'>\n",
      "20230617_115521_standard_comp_to_omission_D1_subj_1-2_t2b2L_box2_merged.rec\n",
      "<class 'numpy.ndarray'>\n",
      "<class 'numpy.ndarray'>\n",
      "20230618_100636_standard_comp_to_omission_D2_subj_1-1_t1b2L_box2_merged.rec\n",
      "<class 'numpy.ndarray'>\n",
      "<class 'numpy.ndarray'>\n",
      "20230618_100636_standard_comp_to_omission_D2_subj_1-4_t4b3L_box1_merged.rec\n",
      "<class 'numpy.ndarray'>\n",
      "<class 'numpy.ndarray'>\n",
      "20230619_115321_standard_comp_to_omission_D3_subj_1-4_t3b3L_box2_merged.rec\n",
      "<class 'numpy.ndarray'>\n",
      "<class 'numpy.ndarray'>\n",
      "20230620_114347_standard_comp_to_omission_D4_subj_1-1_t1b2L_box_2_merged.rec\n",
      "<class 'numpy.ndarray'>\n",
      "<class 'numpy.ndarray'>\n",
      "20230620_114347_standard_comp_to_omission_D4_subj_1-2_t3b3L_box_1_merged.rec\n",
      "<class 'numpy.ndarray'>\n",
      "<class 'numpy.ndarray'>\n",
      "20230621_111240_standard_comp_to_omission_D5_subj_1-4_t3b3L_box1_merged.rec\n",
      "<class 'numpy.ndarray'>\n",
      "<class 'numpy.ndarray'>\n",
      "Unit 92 is unsorted & has 2494 spikes\n",
      "Unit 92 will be deleted\n",
      "20230622_110832_standard_comp_to_both_rewarded_D1_subj_1-1_t1b3L_box1_merged.rec\n",
      "<class 'numpy.ndarray'>\n",
      "<class 'numpy.ndarray'>\n",
      "Unit 103 is unsorted & has 512 spikes\n",
      "Unit 103 will be deleted\n",
      "20230622_110832_standard_comp_to_both_rewarded_D1_subj_1-2_t3b3L_box1_merged.rec\n",
      "<class 'numpy.ndarray'>\n",
      "<class 'numpy.ndarray'>\n",
      "20230624_105855_standard_comp_to_both_rewarded_D3_subj_1-2_t1b2L_box1_merged.rec\n",
      "<class 'numpy.ndarray'>\n",
      "<class 'numpy.ndarray'>\n",
      "20230624_105855_standard_comp_to_both_rewarded_D3_subj_1-4_t3b3L_box1_merged.rec\n",
      "<class 'numpy.ndarray'>\n",
      "<class 'numpy.ndarray'>\n",
      "20230625_112913_standard_comp_to_both_rewarded_D4_subj_1-1_t1b2L_box1_merged.rec\n",
      "<class 'numpy.ndarray'>\n",
      "<class 'numpy.ndarray'>\n",
      "Unit 96 is unsorted & has 5811 spikes\n",
      "Unit 96 will be deleted\n",
      "Unit 95 is unsorted & has 6458 spikes\n",
      "Unit 95 will be deleted\n",
      "20230625_112913_standard_comp_to_both_rewarded_D4_subj_1-4_t3b3L_box1_merged.rec\n",
      "Please assign event dictionaries to each recording\n",
      "as recording.event_dict\n",
      "event_dict = {event name(str): np.array[[start(ms), stop(ms)]...]\n",
      "Please assign subjects to each recording as recording.subject\n"
     ]
    }
   ],
   "source": [
    "# Construct the path in a platform-independent way (HiPerGator or Windows)\n",
    "ephys_path = Path('.') / 'export' / 'updated_phys' / 'non-novel' / 'all_non_novel'\n",
    "\n",
    "ephys_data = spike.EphysRecordingCollection(str(ephys_path))"
   ]
  },
  {
   "cell_type": "markdown",
   "id": "bdab04be-9f97-41d5-86b8-7f33318c00bf",
   "metadata": {},
   "source": [
    "## Assign Dictionaries to Collection\n",
    "Create dictionaries for each recording, and assign it and the subject number to the recording:"
   ]
  },
  {
   "cell_type": "code",
   "execution_count": 7,
   "id": "8ac0dc2f-c4d9-4601-8dec-cd65d6be3ac5",
   "metadata": {
    "execution": {
     "iopub.execute_input": "2024-05-15T22:26:25.656232Z",
     "iopub.status.busy": "2024-05-15T22:26:25.651712Z",
     "iopub.status.idle": "2024-05-15T22:26:25.664563Z",
     "shell.execute_reply": "2024-05-15T22:26:25.664563Z",
     "shell.execute_reply.started": "2024-05-15T22:26:25.656232Z"
    },
    "tags": []
   },
   "outputs": [],
   "source": [
    "for recording in ephys_data.collection.keys():\n",
    "    # Check if the recording key (without everything after subject #) is in timestamp_dicts\n",
    "    start_pos = recording.find('subj_')\n",
    "    # Add the length of 'subj_' and 3 additional characters to include after 'subj_'\n",
    "    end_pos = start_pos + len('subj_') + 3\n",
    "    # Slice the recording key to get everything up to and including the subject identifier plus three characters\n",
    "    recording_key_without_suffix = recording[:end_pos]\n",
    "    if recording_key_without_suffix in timestamp_dicts:\n",
    "        # Assign the corresponding timestamp_dicts dictionary to event_dict\n",
    "        ephys_data.collection[recording].event_dict = timestamp_dicts[recording_key_without_suffix]\n",
    "        \n",
    "        # Extract the subject from the recording key\n",
    "        start = recording.find('subj_') + 5  # Start index after 'subj_'\n",
    "        subject = recording[start:start+3]\n",
    "        \n",
    "        # Assign the extracted subject\n",
    "        ephys_data.collection[recording].subject = subject"
   ]
  },
  {
   "cell_type": "markdown",
   "id": "91fcd94a-f15b-4adf-bc19-5e6350d395df",
   "metadata": {},
   "source": [
    "## Analysis Initialization\n",
    "Finally, initialize the spike analysis with the organized EPhys data (it would be nice to pickle this, but even with 4 CPUs & 64 GB RAM, it still crashed trying to pickle):"
   ]
  },
  {
   "cell_type": "code",
   "execution_count": 8,
   "id": "424fd1a7-c983-40dd-ba22-5c5d65dc994b",
   "metadata": {
    "execution": {
     "iopub.execute_input": "2024-05-15T22:26:25.664563Z",
     "iopub.status.busy": "2024-05-15T22:26:25.664563Z",
     "iopub.status.idle": "2024-05-15T22:27:10.542037Z",
     "shell.execute_reply": "2024-05-15T22:27:10.534012Z",
     "shell.execute_reply.started": "2024-05-15T22:26:25.664563Z"
    },
    "tags": []
   },
   "outputs": [
    {
     "name": "stdout",
     "output_type": "stream",
     "text": [
      "All set to analyze\n"
     ]
    }
   ],
   "source": [
    "spike_analysis = spike.SpikeAnalysis_MultiRecording(ephys_data, timebin = 5, smoothing_window=250, ignore_freq = 0.5)"
   ]
  },
  {
   "cell_type": "markdown",
   "id": "2e9f7631-56af-49ab-b929-0ad94b273605",
   "metadata": {},
   "source": [
    "### The steps before this are done on almost every notebook, and it would be nice to pickle `ephys_data` or `spike_analysis` (spike_analysis is basically just ephys_data with even more data initialized), but it is too big to pickle"
   ]
  },
  {
   "cell_type": "markdown",
   "id": "2c385d46-ecc2-4425-96c5-6bab72f8a980",
   "metadata": {},
   "source": [
    "### Now I'll show you what the class, class objects, class methods, and original data look like"
   ]
  },
  {
   "cell_type": "code",
   "execution_count": 9,
   "id": "fee74e82-2774-426d-bec4-77f347b5a5a0",
   "metadata": {
    "editable": true,
    "execution": {
     "iopub.execute_input": "2024-05-15T22:27:10.557684Z",
     "iopub.status.busy": "2024-05-15T22:27:10.557684Z",
     "iopub.status.idle": "2024-05-15T22:27:10.598112Z",
     "shell.execute_reply": "2024-05-15T22:27:10.598112Z",
     "shell.execute_reply.started": "2024-05-15T22:27:10.557684Z"
    },
    "slideshow": {
     "slide_type": ""
    },
    "tags": []
   },
   "outputs": [],
   "source": [
    "# This will create a variable that will make selecting a single recording easier. It's simply pointing to the part of the class where the recording names are stored\n",
    "recordings = spike_analysis.ephyscollection.collection"
   ]
  },
  {
   "cell_type": "code",
   "execution_count": 10,
   "id": "90fe68a1-a03a-4cd7-a031-7f8068ea9173",
   "metadata": {
    "editable": true,
    "execution": {
     "iopub.execute_input": "2024-05-15T22:27:10.604630Z",
     "iopub.status.busy": "2024-05-15T22:27:10.604630Z",
     "iopub.status.idle": "2024-05-15T22:27:10.629131Z",
     "shell.execute_reply": "2024-05-15T22:27:10.629131Z",
     "shell.execute_reply.started": "2024-05-15T22:27:10.604630Z"
    },
    "slideshow": {
     "slide_type": ""
    },
    "tags": []
   },
   "outputs": [
    {
     "name": "stdout",
     "output_type": "stream",
     "text": [
      "Recording 20230618_100636_standard_comp_to_omission_D2_subj_1-4_t4b3L_box1_merged.rec successfully retrieved.\n"
     ]
    }
   ],
   "source": [
    "# Creating a variable of 1 recording\n",
    "recording_name = '20230618_100636_standard_comp_to_omission_D2_subj_1-4_t4b3L_box1_merged.rec'\n",
    "recording1 = recordings.get(recording_name)\n",
    "\n",
    "if recording1 is None:\n",
    "    print(f\"Recording named {recording_name} not found.\")\n",
    "else:\n",
    "    print(f\"Recording {recording_name} successfully retrieved.\")"
   ]
  },
  {
   "cell_type": "code",
   "execution_count": 11,
   "id": "986f374f-38c3-4cdb-8884-05ce39238e0c",
   "metadata": {
    "editable": true,
    "execution": {
     "iopub.execute_input": "2024-05-15T22:27:10.636162Z",
     "iopub.status.busy": "2024-05-15T22:27:10.636162Z",
     "iopub.status.idle": "2024-05-15T22:27:10.654539Z",
     "shell.execute_reply": "2024-05-15T22:27:10.654539Z",
     "shell.execute_reply.started": "2024-05-15T22:27:10.636162Z"
    },
    "slideshow": {
     "slide_type": ""
    },
    "tags": []
   },
   "outputs": [
    {
     "name": "stdout",
     "output_type": "stream",
     "text": [
      "['__class__', '__delattr__', '__dict__', '__dir__', '__doc__', '__eq__', '__format__', '__ge__', '__getattribute__', '__getstate__', '__gt__', '__hash__', '__init__', '__init_subclass__', '__le__', '__lt__', '__module__', '__ne__', '__new__', '__reduce__', '__reduce_ex__', '__repr__', '__setattr__', '__sizeof__', '__str__', '__subclasshook__', '__weakref__', 'event_dict', 'freq_dict', 'get_spike_specs', 'get_unit_labels', 'get_unit_timestamps', 'labels_dict', 'path', 'sampling_rate', 'spiketrain', 'subject', 'timestamps_var', 'unit_array', 'unit_firing_rate_array', 'unit_firing_rates', 'unit_spiketrains', 'unit_timestamps', 'wilcox_dfs', 'zscored_events']\n"
     ]
    }
   ],
   "source": [
    "if recording1:\n",
    "    print(dir(recording1))  # Lists all methods and attributes of the recording"
   ]
  },
  {
   "cell_type": "code",
   "execution_count": 12,
   "id": "7e96b8c1-3b45-4945-b0eb-c4b73f1bb434",
   "metadata": {
    "execution": {
     "iopub.execute_input": "2024-05-15T22:27:10.654539Z",
     "iopub.status.busy": "2024-05-15T22:27:10.654539Z",
     "iopub.status.idle": "2024-05-15T22:27:12.587872Z",
     "shell.execute_reply": "2024-05-15T22:27:12.587872Z",
     "shell.execute_reply.started": "2024-05-15T22:27:10.654539Z"
    },
    "tags": []
   },
   "outputs": [
    {
     "data": {
      "text/plain": [
       "array([[  54962,   64962],\n",
       "       [ 379962,  389962],\n",
       "       [ 484962,  494962],\n",
       "       [ 579962,  589962],\n",
       "       [ 654962,  664962],\n",
       "       [1554961, 1564961]], dtype=int64)"
      ]
     },
     "execution_count": 12,
     "metadata": {},
     "output_type": "execute_result"
    }
   ],
   "source": [
    "# I've already created and assigned 'event dictionaries' to each recording. \n",
    "# This is what the 'win' event_dict actually looks like. It's timestamps for the beginning and end of each time a win occurred.\n",
    "recording1.event_dict['win']"
   ]
  },
  {
   "cell_type": "code",
   "execution_count": 13,
   "id": "43d4fb1b-054c-4fd9-811f-8e182cf09a9b",
   "metadata": {
    "execution": {
     "iopub.execute_input": "2024-05-15T22:27:12.587872Z",
     "iopub.status.busy": "2024-05-15T22:27:12.587872Z",
     "iopub.status.idle": "2024-05-15T22:27:12.604613Z",
     "shell.execute_reply": "2024-05-15T22:27:12.604613Z",
     "shell.execute_reply.started": "2024-05-15T22:27:12.587872Z"
    },
    "tags": []
   },
   "outputs": [],
   "source": [
    "preevent = recording1.event_dict['win'] - 10000"
   ]
  },
  {
   "cell_type": "code",
   "execution_count": 14,
   "id": "d688f164-51c8-4671-b4f4-94c125881a6c",
   "metadata": {
    "execution": {
     "iopub.execute_input": "2024-05-15T22:27:12.604613Z",
     "iopub.status.busy": "2024-05-15T22:27:12.604613Z",
     "iopub.status.idle": "2024-05-15T22:27:12.623543Z",
     "shell.execute_reply": "2024-05-15T22:27:12.623543Z",
     "shell.execute_reply.started": "2024-05-15T22:27:12.604613Z"
    },
    "tags": []
   },
   "outputs": [
    {
     "data": {
      "text/plain": [
       "array([[  44962,   54962],\n",
       "       [ 369962,  379962],\n",
       "       [ 474962,  484962],\n",
       "       [ 569962,  579962],\n",
       "       [ 644962,  654962],\n",
       "       [1544961, 1554961]], dtype=int64)"
      ]
     },
     "execution_count": 14,
     "metadata": {},
     "output_type": "execute_result"
    }
   ],
   "source": [
    "# Here I manually created a pre-event dictionary, this is essentially what class methods do when asking for a pre-event window\n",
    "preevent"
   ]
  },
  {
   "cell_type": "markdown",
   "id": "2fe9b879-1100-4bb6-b06d-6adbe692bc3a",
   "metadata": {},
   "source": [
    "### The class automatically stores smoothed firing rate bins for each unit for each recording\n",
    "### I created the class with:\n",
    "spike_analysis = spike.SpikeAnalysis_MultiRecording(ephys_data, timebin = 5, smoothing_window=250, ignore_freq = 0.5)\n",
    "### So each timebin is 5ms, and firing rate for each timebin is the average firing rate per second of the surrounding 250ms.\n",
    "### Example, imagine the array below is the spiketrain, or the actual count of spikes per window, and we'll use 100ms timebins:\n",
    "[1, 5, 2, 1, 4, 5, 6, 8, 7, 4]\n",
    "### If we did a 500ms smoothing window, you'd look at each bin and average it with the 2 to the left and 2 to the right.\n",
    "### Ignore the first 2 and last 2 bins for now:\n",
    "timebin 3: 1+5+2+1+4 = 13 spikes during a 500 ms window, so to convert to firing rate/second -> 13*2 = 26\\\n",
    "timebin 4: 5+2+1+4+5 = 17 * 2 = 34\\\n",
    "timebin 5: 2+1+4+5+6 = 18 * 2 = 36\\\n",
    "timebin 6: 1+4+5+6+8 = 24 * 2 = 48\\\n",
    "timebin 7: 4+5+6+8+7 = 30 * 2 = 60\\\n",
    "timebin 8: 5+6+8+7+4 = 30 * 2 = 60\n",
    "### The function within the class that creates the firing rate, makes sure to have the output be the same length as the input, so it handles the beginning and the end by just weighting in a non-uniform way and just uses the windows it can. So the example output firing rate would be:\n",
    "[16, 18, 26, 34, 36, 48, 60, 60, 50, 38]"
   ]
  },
  {
   "cell_type": "code",
   "execution_count": 15,
   "id": "650dadff-dfc5-4bb2-8dd0-33f7fe8cdea1",
   "metadata": {
    "execution": {
     "iopub.execute_input": "2024-05-15T22:27:12.629056Z",
     "iopub.status.busy": "2024-05-15T22:27:12.623543Z",
     "iopub.status.idle": "2024-05-15T22:27:12.673115Z",
     "shell.execute_reply": "2024-05-15T22:27:12.673115Z",
     "shell.execute_reply.started": "2024-05-15T22:27:12.629056Z"
    }
   },
   "outputs": [
    {
     "data": {
      "text/plain": [
       "{65: array([8., 8., 8., ..., 0., 0., 0.]),\n",
       " 123: array([8., 8., 8., ..., 0., 0., 0.]),\n",
       " 103: array([8., 8., 8., ..., 4., 4., 4.]),\n",
       " 83: array([4., 4., 4., ..., 8., 8., 8.]),\n",
       " 118: array([0., 0., 0., ..., 0., 0., 0.]),\n",
       " 93: array([0., 0., 0., ..., 4., 4., 4.]),\n",
       " 99: array([0., 0., 0., ..., 4., 4., 4.]),\n",
       " 105: array([0., 0., 0., ..., 0., 0., 0.]),\n",
       " 87: array([0., 0., 0., ..., 4., 4., 4.]),\n",
       " 19: array([0., 0., 0., ..., 0., 0., 0.]),\n",
       " 9: array([0., 0., 0., ..., 0., 0., 0.])}"
      ]
     },
     "execution_count": 15,
     "metadata": {},
     "output_type": "execute_result"
    }
   ],
   "source": [
    "recording1.unit_firing_rates"
   ]
  },
  {
   "cell_type": "markdown",
   "id": "9941617f-afc8-40fb-951e-396d23b2518b",
   "metadata": {},
   "source": [
    "### Unit Firing Rates\n",
    "\n",
    "The `unit_firing_rates` dictionary contains arrays of firing rates for each unit, smoothed and computed over the specified time bins. Each unit's associated array represents the firing rate over the entire recording session. The units are normalized over a `5 ms` time bin with a `250 ms` smoothing window to handle fluctuations in firing rate."
   ]
  },
  {
   "cell_type": "code",
   "execution_count": 16,
   "id": "3569f9b8-925e-4db2-b876-ead35a98023e",
   "metadata": {
    "execution": {
     "iopub.execute_input": "2024-05-15T22:27:12.676628Z",
     "iopub.status.busy": "2024-05-15T22:27:12.676628Z",
     "iopub.status.idle": "2024-05-15T22:27:12.695082Z",
     "shell.execute_reply": "2024-05-15T22:27:12.695082Z",
     "shell.execute_reply.started": "2024-05-15T22:27:12.676628Z"
    }
   },
   "outputs": [
    {
     "data": {
      "text/plain": [
       "670988"
      ]
     },
     "execution_count": 16,
     "metadata": {},
     "output_type": "execute_result"
    }
   ],
   "source": [
    "len(recording1.unit_firing_rates[65])"
   ]
  },
  {
   "cell_type": "code",
   "execution_count": 17,
   "id": "3b4ef248-d6f7-44d7-82e9-9edb7989efec",
   "metadata": {
    "execution": {
     "iopub.execute_input": "2024-05-15T22:27:12.695082Z",
     "iopub.status.busy": "2024-05-15T22:27:12.695082Z",
     "iopub.status.idle": "2024-05-15T22:27:12.712162Z",
     "shell.execute_reply": "2024-05-15T22:27:12.712162Z",
     "shell.execute_reply.started": "2024-05-15T22:27:12.695082Z"
    }
   },
   "outputs": [
    {
     "data": {
      "text/plain": [
       "670988"
      ]
     },
     "execution_count": 17,
     "metadata": {},
     "output_type": "execute_result"
    }
   ],
   "source": [
    "len(recording1.unit_firing_rates[123])"
   ]
  },
  {
   "cell_type": "markdown",
   "id": "a7e2857e-fb01-40c4-ab57-2cf650692857",
   "metadata": {},
   "source": [
    "### Analysis of Firing Rate Duration\n",
    "\n",
    "The length of each unit's firing rate array tells you the total number of time bins for that unit, but they should be the same for every unit. For example, the length `670,988` for unit `65` indicates the total number of `5 ms` bins, which matches unit `123` as well.\\\n",
    "\\\n",
    "If we wanted to, we could calculate the length of the whole recording with this information. `5 ms * 670,988 bins = 3,354,940 ms -> 3,354 s -> 56 min`"
   ]
  },
  {
   "cell_type": "code",
   "execution_count": 18,
   "id": "23f22802-67d2-4c2f-a443-a8694f260901",
   "metadata": {
    "execution": {
     "iopub.execute_input": "2024-05-15T22:27:12.712162Z",
     "iopub.status.busy": "2024-05-15T22:27:12.712162Z",
     "iopub.status.idle": "2024-05-15T22:27:16.655545Z",
     "shell.execute_reply": "2024-05-15T22:27:16.655545Z",
     "shell.execute_reply.started": "2024-05-15T22:27:12.712162Z"
    },
    "tags": []
   },
   "outputs": [
    {
     "name": "stdout",
     "output_type": "stream",
     "text": [
      "All set to analyze\n"
     ]
    }
   ],
   "source": [
    "spike_analysis = spike.SpikeAnalysis_MultiRecording(ephys_data, timebin = 100, smoothing_window=250, ignore_freq = 0.5)"
   ]
  },
  {
   "cell_type": "markdown",
   "id": "155559a7-5262-4a6d-9282-5aad3aa65ec7",
   "metadata": {},
   "source": [
    "### Re-initializing Spike Analysis\n",
    "\n",
    "Here, we re-initialize the `SpikeAnalysis_MultiRecording` with a different size `timebin`. Now we'll see how this affects results."
   ]
  },
  {
   "cell_type": "code",
   "execution_count": 19,
   "id": "70f1875a-0644-4619-8588-a8ae8153e7eb",
   "metadata": {
    "execution": {
     "iopub.execute_input": "2024-05-15T22:27:16.655545Z",
     "iopub.status.busy": "2024-05-15T22:27:16.655545Z",
     "iopub.status.idle": "2024-05-15T22:27:16.670831Z",
     "shell.execute_reply": "2024-05-15T22:27:16.670831Z",
     "shell.execute_reply.started": "2024-05-15T22:27:16.655545Z"
    },
    "tags": []
   },
   "outputs": [],
   "source": [
    "recordings = spike_analysis.ephyscollection.collection\n",
    "\n",
    "recording_name = '20230618_100636_standard_comp_to_omission_D2_subj_1-4_t4b3L_box1_merged.rec'\n",
    "recording1 = recordings.get(recording_name)"
   ]
  },
  {
   "cell_type": "code",
   "execution_count": 20,
   "id": "8b3ab910-632d-47ba-b0df-8b492d1b9a8b",
   "metadata": {
    "execution": {
     "iopub.execute_input": "2024-05-15T22:27:16.678853Z",
     "iopub.status.busy": "2024-05-15T22:27:16.670831Z",
     "iopub.status.idle": "2024-05-15T22:27:16.694253Z",
     "shell.execute_reply": "2024-05-15T22:27:16.694253Z",
     "shell.execute_reply.started": "2024-05-15T22:27:16.678853Z"
    },
    "tags": []
   },
   "outputs": [
    {
     "data": {
      "text/plain": [
       "{65: array([2, 2, 0, ..., 0, 0, 0], dtype=int64),\n",
       " 123: array([2, 0, 0, ..., 0, 0, 0], dtype=int64),\n",
       " 103: array([2, 2, 1, ..., 1, 0, 1], dtype=int64),\n",
       " 83: array([0, 1, 1, ..., 1, 3, 1], dtype=int64),\n",
       " 118: array([0, 1, 0, ..., 0, 0, 0], dtype=int64),\n",
       " 93: array([0, 0, 0, ..., 1, 0, 1], dtype=int64),\n",
       " 99: array([0, 0, 0, ..., 1, 1, 1], dtype=int64),\n",
       " 105: array([0, 0, 0, ..., 0, 0, 0], dtype=int64),\n",
       " 87: array([0, 0, 0, ..., 0, 1, 0], dtype=int64),\n",
       " 19: array([0, 0, 0, ..., 0, 0, 0], dtype=int64),\n",
       " 9: array([0, 0, 0, ..., 0, 0, 0], dtype=int64)}"
      ]
     },
     "execution_count": 20,
     "metadata": {},
     "output_type": "execute_result"
    }
   ],
   "source": [
    "recording1.unit_spiketrains"
   ]
  },
  {
   "cell_type": "code",
   "execution_count": 21,
   "id": "b780069e-74cc-4908-9709-b4be62b1abef",
   "metadata": {
    "execution": {
     "iopub.execute_input": "2024-05-15T22:27:16.694253Z",
     "iopub.status.busy": "2024-05-15T22:27:16.694253Z",
     "iopub.status.idle": "2024-05-15T22:27:16.710545Z",
     "shell.execute_reply": "2024-05-15T22:27:16.710545Z",
     "shell.execute_reply.started": "2024-05-15T22:27:16.694253Z"
    },
    "tags": []
   },
   "outputs": [
    {
     "data": {
      "text/plain": [
       "33549"
      ]
     },
     "execution_count": 21,
     "metadata": {},
     "output_type": "execute_result"
    }
   ],
   "source": [
    "len(recording1.unit_spiketrains[65])"
   ]
  },
  {
   "cell_type": "code",
   "execution_count": 22,
   "id": "a1026e98-caf9-44f4-b5db-c63040f80edf",
   "metadata": {
    "execution": {
     "iopub.execute_input": "2024-05-15T22:27:16.710545Z",
     "iopub.status.busy": "2024-05-15T22:27:16.710545Z",
     "iopub.status.idle": "2024-05-15T22:27:16.735461Z",
     "shell.execute_reply": "2024-05-15T22:27:16.735461Z",
     "shell.execute_reply.started": "2024-05-15T22:27:16.710545Z"
    },
    "tags": []
   },
   "outputs": [
    {
     "data": {
      "text/plain": [
       "{65: array([10., 20., 10., ...,  0.,  0.,  0.]),\n",
       " 123: array([10., 10.,  0., ...,  0.,  0.,  0.]),\n",
       " 103: array([10., 20., 15., ..., 10.,  5.,  5.]),\n",
       " 83: array([ 0.,  5., 10., ..., 15., 20., 20.]),\n",
       " 118: array([0., 5., 5., ..., 0., 0., 0.]),\n",
       " 93: array([0., 0., 0., ..., 5., 5., 5.]),\n",
       " 99: array([ 0.,  0.,  0., ...,  5., 10., 10.]),\n",
       " 105: array([0., 0., 0., ..., 0., 0., 0.]),\n",
       " 87: array([0., 0., 0., ..., 0., 5., 5.]),\n",
       " 19: array([0., 0., 0., ..., 0., 0., 0.]),\n",
       " 9: array([0., 0., 0., ..., 0., 0., 0.])}"
      ]
     },
     "execution_count": 22,
     "metadata": {},
     "output_type": "execute_result"
    }
   ],
   "source": [
    "recording1.unit_firing_rates"
   ]
  },
  {
   "cell_type": "code",
   "execution_count": 23,
   "id": "7c674554-8b73-4b5b-baff-68f5e2039862",
   "metadata": {
    "execution": {
     "iopub.execute_input": "2024-05-15T22:27:16.735461Z",
     "iopub.status.busy": "2024-05-15T22:27:16.735461Z",
     "iopub.status.idle": "2024-05-15T22:27:16.755521Z",
     "shell.execute_reply": "2024-05-15T22:27:16.755521Z",
     "shell.execute_reply.started": "2024-05-15T22:27:16.735461Z"
    },
    "tags": []
   },
   "outputs": [
    {
     "data": {
      "text/plain": [
       "33549"
      ]
     },
     "execution_count": 23,
     "metadata": {},
     "output_type": "execute_result"
    }
   ],
   "source": [
    "len(recording1.unit_firing_rates[65])"
   ]
  },
  {
   "cell_type": "markdown",
   "id": "2d4c7bc6-9a01-4ead-b319-09be0ffb5293",
   "metadata": {},
   "source": [
    "### Spike Train Data\n",
    "\n",
    "The `spiketrain` array represents the total number of spikes recorded in each time bin across all units, while `unit_spiketrains` provides a breakdown of spikes per unit for the same bins. Analyzing these arrays helps in understanding the temporal patterns of activity and the synchrony between different units during the experiment.\n",
    "\n",
    "### Adjusted Unit Firing Rates\n",
    "\n",
    "After adjusting `timebin` we saw that the length of timebins reduced dramatically going from `5 ms` timebins to `100 ms` time bins, but we should be able to re-calculate the length of the whole recording to be the same as in the previous calculation: `100 ms * 33,549 = 3,354,900 ms -> 3,354 s -> 56 min`\\\n",
    "\\\n",
    "Also, note the difference between `unit_firing_rates` and `unit_spiketrains`. `unit_spiketrains` is the raw count of spikes per timebin, `unit_firing_rates` is smoothed with surrounding bins and is in the format of `spikes/second` as opposed to `spikes/timebin`."
   ]
  },
  {
   "cell_type": "code",
   "execution_count": 24,
   "id": "6e8b541e-58fe-42af-90a3-d9ac4d148df7",
   "metadata": {
    "execution": {
     "iopub.execute_input": "2024-05-15T22:27:16.757535Z",
     "iopub.status.busy": "2024-05-15T22:27:16.757535Z",
     "iopub.status.idle": "2024-05-15T22:27:16.773851Z",
     "shell.execute_reply": "2024-05-15T22:27:16.773851Z",
     "shell.execute_reply.started": "2024-05-15T22:27:16.757535Z"
    },
    "tags": []
   },
   "outputs": [
    {
     "data": {
      "text/plain": [
       "0.2686816298548392"
      ]
     },
     "execution_count": 24,
     "metadata": {},
     "output_type": "execute_result"
    }
   ],
   "source": [
    "np.mean(recording1.unit_spiketrains[65])"
   ]
  },
  {
   "cell_type": "code",
   "execution_count": 25,
   "id": "3fa021dc-9a2f-43d8-9a07-3f8f5773edbd",
   "metadata": {
    "execution": {
     "iopub.execute_input": "2024-05-15T22:27:16.773851Z",
     "iopub.status.busy": "2024-05-15T22:27:16.773851Z",
     "iopub.status.idle": "2024-05-15T22:27:16.793452Z",
     "shell.execute_reply": "2024-05-15T22:27:16.793452Z",
     "shell.execute_reply.started": "2024-05-15T22:27:16.773851Z"
    },
    "tags": []
   },
   "outputs": [
    {
     "data": {
      "text/plain": [
       "2.686816298548392"
      ]
     },
     "execution_count": 25,
     "metadata": {},
     "output_type": "execute_result"
    }
   ],
   "source": [
    "np.mean(recording1.unit_firing_rates[65])"
   ]
  },
  {
   "cell_type": "markdown",
   "id": "6d3b28dc-ebd6-410f-9cde-4a4076666cae",
   "metadata": {},
   "source": [
    "### Mean Spike Rate and Firing Rate Calculation\n",
    "\n",
    "Note that the mean `unit_firing_rates` for each unit is `unit_spiketrains` x 10 since each timebin is 100ms, thus 10 timebins/second. "
   ]
  },
  {
   "cell_type": "code",
   "execution_count": 26,
   "id": "27330a2c-0384-4aea-8ba1-31125dd8e666",
   "metadata": {
    "execution": {
     "iopub.execute_input": "2024-05-15T22:27:16.793452Z",
     "iopub.status.busy": "2024-05-15T22:27:16.793452Z",
     "iopub.status.idle": "2024-05-15T22:27:16.824252Z",
     "shell.execute_reply": "2024-05-15T22:27:16.824252Z",
     "shell.execute_reply.started": "2024-05-15T22:27:16.793452Z"
    },
    "tags": []
   },
   "outputs": [],
   "source": [
    "def get_firing_rate(spiketrain, smoothing_window, timebin):\n",
    "    \"\"\"\n",
    "    calculates firing rate (spikes/second)\n",
    "\n",
    "    Args (3 total, 1 required):\n",
    "        spiketrain: numpy array, in timebin (ms) bins\n",
    "        smoothing_window: int, default=250, smoothing average window (ms)\n",
    "            min smoothing_window = 1\n",
    "        timebin: int, default = 1, timebin (ms) of spiketrain\n",
    "\n",
    "    Return (1):\n",
    "        firing_rate: numpy array of firing rates in timebin sized windows\n",
    "\n",
    "    \"\"\"\n",
    "    smoothing_bins = int(smoothing_window / timebin)\n",
    "    weights = np.ones(smoothing_bins) / smoothing_bins * 1000 / timebin\n",
    "    firing_rate = np.convolve(spiketrain, weights, mode=\"same\")\n",
    "\n",
    "    return firing_rate\n",
    "\n",
    "fr_65_man = get_firing_rate(recording1.unit_spiketrains[65], 250, 100)"
   ]
  },
  {
   "cell_type": "markdown",
   "id": "6d862306-a71a-4c1a-83e1-4f57d8d9d71b",
   "metadata": {},
   "source": [
    "### Custom Firing Rate Calculation Function\n",
    "\n",
    "This function `get_firing_rate`, is pulled directly from `multirecording_spikeanalysis.py`."
   ]
  },
  {
   "cell_type": "code",
   "execution_count": 27,
   "id": "287b387c-27ce-482f-a11d-c37a3352e9e1",
   "metadata": {
    "execution": {
     "iopub.execute_input": "2024-05-15T22:27:16.824252Z",
     "iopub.status.busy": "2024-05-15T22:27:16.824252Z",
     "iopub.status.idle": "2024-05-15T22:27:16.839429Z",
     "shell.execute_reply": "2024-05-15T22:27:16.839429Z",
     "shell.execute_reply.started": "2024-05-15T22:27:16.824252Z"
    },
    "tags": []
   },
   "outputs": [
    {
     "data": {
      "text/plain": [
       "array([10., 20., 10., ...,  0.,  0.,  0.])"
      ]
     },
     "execution_count": 27,
     "metadata": {},
     "output_type": "execute_result"
    }
   ],
   "source": [
    "fr_65_man"
   ]
  },
  {
   "cell_type": "code",
   "execution_count": 28,
   "id": "9467aa0e-723f-4ca5-8c37-42872d359aa2",
   "metadata": {
    "execution": {
     "iopub.execute_input": "2024-05-15T22:27:16.839429Z",
     "iopub.status.busy": "2024-05-15T22:27:16.839429Z",
     "iopub.status.idle": "2024-05-15T22:27:16.855293Z",
     "shell.execute_reply": "2024-05-15T22:27:16.854267Z",
     "shell.execute_reply.started": "2024-05-15T22:27:16.839429Z"
    },
    "tags": []
   },
   "outputs": [
    {
     "data": {
      "text/plain": [
       "33549"
      ]
     },
     "execution_count": 28,
     "metadata": {},
     "output_type": "execute_result"
    }
   ],
   "source": [
    "len(fr_65_man)"
   ]
  },
  {
   "cell_type": "markdown",
   "id": "8f5a840f-50b8-454e-b452-2266517e23b6",
   "metadata": {},
   "source": [
    "### Length of Manually Computed Firing Rate Array\n",
    "\n",
    "The length of the manually computed firing rate array for unit 65 indicates the total number of timebins analyzed after adjusting the analysis parameters. This value should be consistent with the length of `unit_spiketrains` to ensure that all spikes have been accounted for in the firing rate calculation."
   ]
  },
  {
   "cell_type": "code",
   "execution_count": 29,
   "id": "124411e1-d9ea-43fb-b758-c9c18e240f24",
   "metadata": {
    "execution": {
     "iopub.execute_input": "2024-05-15T22:27:16.855293Z",
     "iopub.status.busy": "2024-05-15T22:27:16.855293Z",
     "iopub.status.idle": "2024-05-15T22:27:16.871284Z",
     "shell.execute_reply": "2024-05-15T22:27:16.871284Z",
     "shell.execute_reply.started": "2024-05-15T22:27:16.855293Z"
    },
    "tags": []
   },
   "outputs": [
    {
     "data": {
      "text/plain": [
       "2.686816298548392"
      ]
     },
     "execution_count": 29,
     "metadata": {},
     "output_type": "execute_result"
    }
   ],
   "source": [
    "np.mean(fr_65_man)"
   ]
  },
  {
   "cell_type": "code",
   "execution_count": 39,
   "id": "58259649-62d0-4fba-8964-ead1e2bcf1ca",
   "metadata": {
    "execution": {
     "iopub.execute_input": "2024-05-15T22:27:35.123354Z",
     "iopub.status.busy": "2024-05-15T22:27:35.123354Z",
     "iopub.status.idle": "2024-05-15T22:27:35.142153Z",
     "shell.execute_reply": "2024-05-15T22:27:35.142153Z",
     "shell.execute_reply.started": "2024-05-15T22:27:35.123354Z"
    },
    "tags": []
   },
   "outputs": [],
   "source": [
    "smoothing_window = 300\n",
    "timebin=100\n",
    "\n",
    "smoothing_bins = int(smoothing_window / timebin)\n",
    "weights = np.ones(smoothing_bins) / smoothing_bins * 1000 / timebin"
   ]
  },
  {
   "cell_type": "code",
   "execution_count": 40,
   "id": "bdf142af-620d-4470-afba-3f7b4a19b938",
   "metadata": {
    "execution": {
     "iopub.execute_input": "2024-05-15T22:27:36.253662Z",
     "iopub.status.busy": "2024-05-15T22:27:36.253662Z",
     "iopub.status.idle": "2024-05-15T22:27:36.269359Z",
     "shell.execute_reply": "2024-05-15T22:27:36.267344Z",
     "shell.execute_reply.started": "2024-05-15T22:27:36.253662Z"
    },
    "tags": []
   },
   "outputs": [
    {
     "data": {
      "text/plain": [
       "array([3.33333333, 3.33333333, 3.33333333])"
      ]
     },
     "execution_count": 40,
     "metadata": {},
     "output_type": "execute_result"
    }
   ],
   "source": [
    "weights"
   ]
  },
  {
   "cell_type": "markdown",
   "id": "e13528bf-ec87-459d-ad03-988a6edae075",
   "metadata": {},
   "source": [
    "### Weight Array for Smoothing Calculation\n",
    "\n",
    "The `weights` array represents the normalization factors used in the convolution operation to smooth the spiketrain data. This array helps you understand how the averaging window influences the resultant firing rate, ensuring that each spike's contribution is appropriately scaled over the smoothing window."
   ]
  },
  {
   "cell_type": "code",
   "execution_count": 41,
   "id": "5068ff95-813f-4fa2-a066-ce532bb82ed4",
   "metadata": {
    "execution": {
     "iopub.execute_input": "2024-05-15T22:28:33.408677Z",
     "iopub.status.busy": "2024-05-15T22:28:33.408677Z",
     "iopub.status.idle": "2024-05-15T22:28:33.428539Z",
     "shell.execute_reply": "2024-05-15T22:28:33.428539Z",
     "shell.execute_reply.started": "2024-05-15T22:28:33.408677Z"
    }
   },
   "outputs": [
    {
     "data": {
      "text/plain": [
       "{'rewarded': array([[1854961, 1864961],\n",
       "        [1914961, 1924961],\n",
       "        [1969961, 1979961],\n",
       "        [2034961, 2044961],\n",
       "        [2089961, 2099961],\n",
       "        [2139961, 2149961],\n",
       "        [2189961, 2199961],\n",
       "        [2414961, 2424961],\n",
       "        [2534961, 2544961],\n",
       "        [2644961, 2654961],\n",
       "        [2729961, 2739961],\n",
       "        [2849961, 2859961],\n",
       "        [2974961, 2984961],\n",
       "        [3034961, 3044961],\n",
       "        [3109961, 3119961]], dtype=int64),\n",
       " 'win': array([[  54962,   64962],\n",
       "        [ 379962,  389962],\n",
       "        [ 484962,  494962],\n",
       "        [ 579962,  589962],\n",
       "        [ 654962,  664962],\n",
       "        [1554961, 1564961]], dtype=int64),\n",
       " 'lose': array([[ 174962,  184962],\n",
       "        [ 289962,  299962],\n",
       "        [ 434962,  444962],\n",
       "        [ 759962,  769962],\n",
       "        [ 809962,  819962],\n",
       "        [ 889962,  899962],\n",
       "        [ 954962,  964962],\n",
       "        [1019962, 1029962],\n",
       "        [1069962, 1079962],\n",
       "        [1139962, 1149962],\n",
       "        [1234962, 1244962],\n",
       "        [1314962, 1324962],\n",
       "        [1384962, 1394961],\n",
       "        [1494962, 1504961]], dtype=int64),\n",
       " 'omission': array([[2294961, 2304961],\n",
       "        [2909961, 2919961],\n",
       "        [3209961, 3219961]], dtype=int64),\n",
       " 'both_rewarded': array([], dtype=int64),\n",
       " 'tie': array([], dtype=int64)}"
      ]
     },
     "execution_count": 41,
     "metadata": {},
     "output_type": "execute_result"
    }
   ],
   "source": [
    "recording1.event_dict"
   ]
  },
  {
   "cell_type": "markdown",
   "id": "2077cdb9-bfd5-40ae-8f4b-78aa84c0a4bf",
   "metadata": {},
   "source": [
    "### Event Dictionary Overview\n",
    "\n",
    "The `event_dict` stores arrays of start and stop timestamps for different behavioral events identified during the recording. These include `rewarded`, `win`, `lose`, and empty arrays that aren't applicable for this recording."
   ]
  },
  {
   "cell_type": "code",
   "execution_count": 42,
   "id": "259aaae1-86ae-4bf6-ba78-5732a43edcc7",
   "metadata": {
    "execution": {
     "iopub.execute_input": "2024-05-15T22:28:35.466419Z",
     "iopub.status.busy": "2024-05-15T22:28:35.466419Z",
     "iopub.status.idle": "2024-05-15T22:28:35.490108Z",
     "shell.execute_reply": "2024-05-15T22:28:35.490108Z",
     "shell.execute_reply.started": "2024-05-15T22:28:35.466419Z"
    }
   },
   "outputs": [],
   "source": [
    "import math\n",
    "\n",
    "events = recording1.event_dict['win']\n",
    "\n",
    "event_snippets = []\n",
    "pre_window = math.ceil(10 * 1000)\n",
    "post_window = math.ceil(0 * 1000)\n",
    "equalize = 10 * 1000\n",
    "e_length = equalize + post_window + pre_window"
   ]
  },
  {
   "cell_type": "markdown",
   "id": "743e7dcf-ee27-467f-a5ca-eb776ccf88c8",
   "metadata": {},
   "source": [
    "### Extracting Event-Related Neural Activity Snippets\n",
    "\n",
    "The `event_snippets` code block, representative of a function or class method from the `multirecording_spikeanalysis` script, is designed to extract the window of timebins specific to what you're interested in, ex: an event.\n",
    "\n",
    "Here's how it works:\n",
    "- **Event Identification**: First, it retrieves the `win` event timestamps from `event_dict`.\n",
    "- **Window Setup**: It sets up windows around these events. In this example, the pre-event window is 10 seconds, and there is no post-event window. This setup can be adjusted depending on the analysis needs.\n",
    "- **Snippet Extraction**: For each unit, the method iterates through the event timestamps, using the pre-defined windows to slice the corresponding segments from the firing rate array. \n",
    "- **Length Check**: It also ensures that each snippet has the correct length, matching the expected duration (sum of pre-event, event, and post-event durations), thereby standardizing the snippet lengths for consistent analysis."
   ]
  },
  {
   "cell_type": "code",
   "execution_count": 44,
   "id": "05a7ac9c-5d90-4739-b129-ba04ea112b8d",
   "metadata": {
    "execution": {
     "iopub.execute_input": "2024-05-15T22:28:43.393799Z",
     "iopub.status.busy": "2024-05-15T22:28:43.393799Z",
     "iopub.status.idle": "2024-05-15T22:28:43.412941Z",
     "shell.execute_reply": "2024-05-15T22:28:43.412941Z",
     "shell.execute_reply.started": "2024-05-15T22:28:43.393799Z"
    }
   },
   "outputs": [],
   "source": [
    "events = recording1.event_dict['win']\n",
    "\n",
    "event_snippets = []\n",
    "pre_window = math.ceil(10 * 1000)  # 10 seconds pre-event window\n",
    "post_window = math.ceil(0 * 1000)  # 0 seconds post-event window, adjust if needed\n",
    "equalize = 10 * 1000  # 10 seconds equalize duration\n",
    "e_length = equalize + post_window + pre_window  # Total length of the snippet\n",
    "timebin = 1000  # Assuming timebin is 1000 ms; adjust as per your setup\n",
    "\n",
    "for unit_key in recording1.unit_firing_rates.keys():\n",
    "    unit_rates = recording1.unit_firing_rates[unit_key]  # Retrieve the firing rates array\n",
    "    for i in range(events.shape[0]):\n",
    "        pre_event = math.ceil((events[i][0] - pre_window) / timebin)\n",
    "        post_event = math.ceil((events[i][0] + post_window + equalize) / timebin)\n",
    "        if unit_rates.ndim == 1:  # Check if it's a 1D array\n",
    "            event_snippet = unit_rates[pre_event:post_event]\n",
    "            if len(event_snippet) == e_length / timebin:\n",
    "                event_snippets.append(event_snippet)\n",
    "        else:  # Handling multidimensional arrays\n",
    "            event_snippet = unit_rates[:, pre_event:post_event]\n",
    "            if event_snippet.shape[1] == e_length / timebin:\n",
    "                event_snippets.append(event_snippet)\n"
   ]
  },
  {
   "cell_type": "code",
   "execution_count": 51,
   "id": "79894a82-ebfb-4fcb-a8ba-a7a2cf17072b",
   "metadata": {
    "execution": {
     "iopub.execute_input": "2024-05-15T22:30:41.560472Z",
     "iopub.status.busy": "2024-05-15T22:30:41.560472Z",
     "iopub.status.idle": "2024-05-15T22:30:41.583622Z",
     "shell.execute_reply": "2024-05-15T22:30:41.583093Z",
     "shell.execute_reply.started": "2024-05-15T22:30:41.560472Z"
    }
   },
   "outputs": [
    {
     "data": {
      "text/plain": [
       "array([10., 10., 10., 10., 10.,  5.,  0.,  0.,  0.,  0.,  0.,  0.,  5.,\n",
       "       10.,  5.,  0., 15., 20., 10., 15.])"
      ]
     },
     "execution_count": 51,
     "metadata": {},
     "output_type": "execute_result"
    }
   ],
   "source": [
    "event_snippets[0]"
   ]
  },
  {
   "cell_type": "code",
   "execution_count": 46,
   "id": "c391cc72-8dd7-4677-919a-9eef767fdf4c",
   "metadata": {
    "execution": {
     "iopub.execute_input": "2024-05-15T22:28:55.523755Z",
     "iopub.status.busy": "2024-05-15T22:28:55.523755Z",
     "iopub.status.idle": "2024-05-15T22:28:55.540073Z",
     "shell.execute_reply": "2024-05-15T22:28:55.540073Z",
     "shell.execute_reply.started": "2024-05-15T22:28:55.523755Z"
    }
   },
   "outputs": [
    {
     "data": {
      "text/plain": [
       "66"
      ]
     },
     "execution_count": 46,
     "metadata": {},
     "output_type": "execute_result"
    }
   ],
   "source": [
    "len(event_snippets)"
   ]
  },
  {
   "cell_type": "code",
   "execution_count": 47,
   "id": "27eeb5f9-de45-465e-80ea-5358b6f0b8fd",
   "metadata": {
    "execution": {
     "iopub.execute_input": "2024-05-15T22:28:58.874146Z",
     "iopub.status.busy": "2024-05-15T22:28:58.874146Z",
     "iopub.status.idle": "2024-05-15T22:28:58.889517Z",
     "shell.execute_reply": "2024-05-15T22:28:58.889517Z",
     "shell.execute_reply.started": "2024-05-15T22:28:58.874146Z"
    }
   },
   "outputs": [
    {
     "data": {
      "text/plain": [
       "20"
      ]
     },
     "execution_count": 47,
     "metadata": {},
     "output_type": "execute_result"
    }
   ],
   "source": [
    "len(event_snippets[0])"
   ]
  },
  {
   "cell_type": "markdown",
   "id": "95cfb84b-d546-44aa-a5ac-2f0d9c9b2b58",
   "metadata": {},
   "source": [
    "### Statistical Analysis of Event-Related Neural Activity\n",
    "\n",
    "Here, we perform a Wilcoxon signed-rank test to compare the firing rates during specific events against a baseline. The dataframe `df` summarizes the test statistics and p-values for each unit, indicating whether changes in neural activity are statistically significant. This method helps identify units with significant alterations in activity that correlate with behavioral events."
   ]
  },
  {
   "cell_type": "code",
   "execution_count": 49,
   "id": "abbe05e8-b1f5-49da-a28b-406eb782395f",
   "metadata": {
    "execution": {
     "iopub.execute_input": "2024-05-15T22:30:11.020598Z",
     "iopub.status.busy": "2024-05-15T22:30:11.020598Z",
     "iopub.status.idle": "2024-05-15T22:30:11.081874Z",
     "shell.execute_reply": "2024-05-15T22:30:11.081874Z",
     "shell.execute_reply.started": "2024-05-15T22:30:11.020598Z"
    }
   },
   "outputs": [],
   "source": [
    "df = spike_analysis.__wilcox_baseline_v_event_stats__(recording_name, recording1, event='win', equalize=10, baseline_window=10, offset=0, exclude_offset=False, save=False)"
   ]
  },
  {
   "cell_type": "code",
   "execution_count": 50,
   "id": "eeceaf46-1103-469a-b5e6-98e4e290af45",
   "metadata": {
    "editable": true,
    "execution": {
     "iopub.execute_input": "2024-05-15T22:30:13.672194Z",
     "iopub.status.busy": "2024-05-15T22:30:13.672194Z",
     "iopub.status.idle": "2024-05-15T22:30:13.707831Z",
     "shell.execute_reply": "2024-05-15T22:30:13.707831Z",
     "shell.execute_reply.started": "2024-05-15T22:30:13.672194Z"
    },
    "slideshow": {
     "slide_type": ""
    },
    "tags": []
   },
   "outputs": [
    {
     "data": {
      "text/html": [
       "<div>\n",
       "<style scoped>\n",
       "    .dataframe tbody tr th:only-of-type {\n",
       "        vertical-align: middle;\n",
       "    }\n",
       "\n",
       "    .dataframe tbody tr th {\n",
       "        vertical-align: top;\n",
       "    }\n",
       "\n",
       "    .dataframe thead th {\n",
       "        text-align: right;\n",
       "    }\n",
       "</style>\n",
       "<table border=\"1\" class=\"dataframe\">\n",
       "  <thead>\n",
       "    <tr style=\"text-align: right;\">\n",
       "      <th></th>\n",
       "      <th>Wilcoxon Stat</th>\n",
       "      <th>p value</th>\n",
       "      <th>event1 vs event2</th>\n",
       "    </tr>\n",
       "  </thead>\n",
       "  <tbody>\n",
       "    <tr>\n",
       "      <th>65</th>\n",
       "      <td>6.0</td>\n",
       "      <td>0.43750</td>\n",
       "      <td>not significant</td>\n",
       "    </tr>\n",
       "    <tr>\n",
       "      <th>123</th>\n",
       "      <td>6.0</td>\n",
       "      <td>0.43750</td>\n",
       "      <td>not significant</td>\n",
       "    </tr>\n",
       "    <tr>\n",
       "      <th>103</th>\n",
       "      <td>3.0</td>\n",
       "      <td>0.15625</td>\n",
       "      <td>not significant</td>\n",
       "    </tr>\n",
       "    <tr>\n",
       "      <th>83</th>\n",
       "      <td>0.0</td>\n",
       "      <td>0.03125</td>\n",
       "      <td>decreases</td>\n",
       "    </tr>\n",
       "    <tr>\n",
       "      <th>118</th>\n",
       "      <td>0.0</td>\n",
       "      <td>0.03125</td>\n",
       "      <td>decreases</td>\n",
       "    </tr>\n",
       "    <tr>\n",
       "      <th>93</th>\n",
       "      <td>0.0</td>\n",
       "      <td>0.03125</td>\n",
       "      <td>decreases</td>\n",
       "    </tr>\n",
       "    <tr>\n",
       "      <th>99</th>\n",
       "      <td>5.0</td>\n",
       "      <td>0.31250</td>\n",
       "      <td>not significant</td>\n",
       "    </tr>\n",
       "    <tr>\n",
       "      <th>105</th>\n",
       "      <td>5.0</td>\n",
       "      <td>0.62500</td>\n",
       "      <td>not significant</td>\n",
       "    </tr>\n",
       "    <tr>\n",
       "      <th>87</th>\n",
       "      <td>5.0</td>\n",
       "      <td>0.31250</td>\n",
       "      <td>not significant</td>\n",
       "    </tr>\n",
       "    <tr>\n",
       "      <th>19</th>\n",
       "      <td>0.0</td>\n",
       "      <td>0.06250</td>\n",
       "      <td>not significant</td>\n",
       "    </tr>\n",
       "    <tr>\n",
       "      <th>9</th>\n",
       "      <td>1.0</td>\n",
       "      <td>0.06250</td>\n",
       "      <td>not significant</td>\n",
       "    </tr>\n",
       "  </tbody>\n",
       "</table>\n",
       "</div>"
      ],
      "text/plain": [
       "     Wilcoxon Stat  p value event1 vs event2\n",
       "65             6.0  0.43750  not significant\n",
       "123            6.0  0.43750  not significant\n",
       "103            3.0  0.15625  not significant\n",
       "83             0.0  0.03125        decreases\n",
       "118            0.0  0.03125        decreases\n",
       "93             0.0  0.03125        decreases\n",
       "99             5.0  0.31250  not significant\n",
       "105            5.0  0.62500  not significant\n",
       "87             5.0  0.31250  not significant\n",
       "19             0.0  0.06250  not significant\n",
       "9              1.0  0.06250  not significant"
      ]
     },
     "execution_count": 50,
     "metadata": {},
     "output_type": "execute_result"
    }
   ],
   "source": [
    "df"
   ]
  },
  {
   "cell_type": "markdown",
   "id": "7b5061f8-496d-42b8-ab42-daaa2773d5c8",
   "metadata": {},
   "source": [
    "### Wilcoxon Limitations\n",
    "Wilcoxon can technically be performed on samples of n < 6, but they're incapable of having a signficant p-value. This subject had 6 'win' events during this recording, but let's look at what would happen if it only had 5."
   ]
  },
  {
   "cell_type": "code",
   "execution_count": 55,
   "id": "8aa1d183-a5bd-4ae4-a6e5-1738a474d6e3",
   "metadata": {
    "execution": {
     "iopub.execute_input": "2024-05-15T22:50:30.870148Z",
     "iopub.status.busy": "2024-05-15T22:50:30.870148Z",
     "iopub.status.idle": "2024-05-15T22:50:30.885332Z",
     "shell.execute_reply": "2024-05-15T22:50:30.885332Z",
     "shell.execute_reply.started": "2024-05-15T22:50:30.870148Z"
    }
   },
   "outputs": [
    {
     "data": {
      "text/plain": [
       "array([[  54962,   64962],\n",
       "       [ 379962,  389962],\n",
       "       [ 484962,  494962],\n",
       "       [ 579962,  589962],\n",
       "       [ 654962,  664962],\n",
       "       [1554961, 1564961]], dtype=int64)"
      ]
     },
     "execution_count": 55,
     "metadata": {},
     "output_type": "execute_result"
    }
   ],
   "source": [
    "recording1.event_dict['win']"
   ]
  },
  {
   "cell_type": "code",
   "execution_count": 56,
   "id": "2e92f159-d22e-4779-8738-db70a10aa836",
   "metadata": {
    "execution": {
     "iopub.execute_input": "2024-05-15T22:50:45.182787Z",
     "iopub.status.busy": "2024-05-15T22:50:45.182787Z",
     "iopub.status.idle": "2024-05-15T22:50:45.191403Z",
     "shell.execute_reply": "2024-05-15T22:50:45.191403Z",
     "shell.execute_reply.started": "2024-05-15T22:50:45.182787Z"
    }
   },
   "outputs": [],
   "source": [
    "recording1.event_dict['win'] = recording1.event_dict['win'][:-1]"
   ]
  },
  {
   "cell_type": "code",
   "execution_count": 57,
   "id": "8d90e801-1303-42c8-a4f4-15163aca2054",
   "metadata": {
    "execution": {
     "iopub.execute_input": "2024-05-15T22:50:52.192037Z",
     "iopub.status.busy": "2024-05-15T22:50:52.192037Z",
     "iopub.status.idle": "2024-05-15T22:50:52.211603Z",
     "shell.execute_reply": "2024-05-15T22:50:52.211603Z",
     "shell.execute_reply.started": "2024-05-15T22:50:52.192037Z"
    }
   },
   "outputs": [
    {
     "data": {
      "text/plain": [
       "array([[ 54962,  64962],\n",
       "       [379962, 389962],\n",
       "       [484962, 494962],\n",
       "       [579962, 589962],\n",
       "       [654962, 664962]], dtype=int64)"
      ]
     },
     "execution_count": 57,
     "metadata": {},
     "output_type": "execute_result"
    }
   ],
   "source": [
    "recording1.event_dict['win']"
   ]
  },
  {
   "cell_type": "code",
   "execution_count": 58,
   "id": "2fa82dad-8536-4f6b-811b-05021cffb057",
   "metadata": {
    "execution": {
     "iopub.execute_input": "2024-05-15T22:51:04.739358Z",
     "iopub.status.busy": "2024-05-15T22:51:04.739358Z",
     "iopub.status.idle": "2024-05-15T22:51:04.752944Z",
     "shell.execute_reply": "2024-05-15T22:51:04.752944Z",
     "shell.execute_reply.started": "2024-05-15T22:51:04.739358Z"
    }
   },
   "outputs": [
    {
     "name": "stdout",
     "output_type": "stream",
     "text": [
      "Wilcoxon can't be done on 20230618_100636_standard_comp_to_omission_D2_subj_1-4_t4b3L_box1_merged.rec win, because <6 samples\n"
     ]
    }
   ],
   "source": [
    "df = spike_analysis.__wilcox_baseline_v_event_stats__(recording_name, recording1, event='win', equalize=10, baseline_window=10, offset=0, exclude_offset=False, save=False)"
   ]
  },
  {
   "cell_type": "markdown",
   "id": "70ac04b6-1eaf-44f9-b988-f8fe507d55dc",
   "metadata": {},
   "source": [
    "### Wilcoxon Small Sample Examples"
   ]
  },
  {
   "cell_type": "code",
   "execution_count": 61,
   "id": "d814c70c-a9fd-4d3d-adac-ba247678dab2",
   "metadata": {
    "execution": {
     "iopub.execute_input": "2024-05-15T22:53:40.846112Z",
     "iopub.status.busy": "2024-05-15T22:53:40.846112Z",
     "iopub.status.idle": "2024-05-15T22:53:40.868055Z",
     "shell.execute_reply": "2024-05-15T22:53:40.868055Z",
     "shell.execute_reply.started": "2024-05-15T22:53:40.846112Z"
    }
   },
   "outputs": [
    {
     "data": {
      "text/plain": [
       "0.03125"
      ]
     },
     "execution_count": 61,
     "metadata": {},
     "output_type": "execute_result"
    }
   ],
   "source": [
    "from scipy.stats import wilcoxon\n",
    "\n",
    "arraya = [1,2,3,4,5,6]\n",
    "arrayb = [7,8,9,9,9,9]\n",
    "test_stat, test_p_value = wilcoxon(arraya, arrayb)\n",
    "test_p_value"
   ]
  },
  {
   "cell_type": "code",
   "execution_count": 62,
   "id": "67086c69-a238-41d1-a9e8-ea80ccab4331",
   "metadata": {
    "execution": {
     "iopub.execute_input": "2024-05-15T22:53:56.878576Z",
     "iopub.status.busy": "2024-05-15T22:53:56.878576Z",
     "iopub.status.idle": "2024-05-15T22:53:56.900785Z",
     "shell.execute_reply": "2024-05-15T22:53:56.900785Z",
     "shell.execute_reply.started": "2024-05-15T22:53:56.878576Z"
    }
   },
   "outputs": [
    {
     "data": {
      "text/plain": [
       "0.0625"
      ]
     },
     "execution_count": 62,
     "metadata": {},
     "output_type": "execute_result"
    }
   ],
   "source": [
    "arraya = [1,2,3,4,5]\n",
    "arrayb = [7,8,9,9,9]\n",
    "test_stat, test_p_value = wilcoxon(arraya, arrayb)\n",
    "test_p_value"
   ]
  },
  {
   "cell_type": "code",
   "execution_count": 63,
   "id": "c5ca17b9-a78e-46ad-8a03-7dd0c8d6d49d",
   "metadata": {
    "execution": {
     "iopub.execute_input": "2024-05-15T22:54:34.445946Z",
     "iopub.status.busy": "2024-05-15T22:54:34.445946Z",
     "iopub.status.idle": "2024-05-15T22:54:34.464864Z",
     "shell.execute_reply": "2024-05-15T22:54:34.464864Z",
     "shell.execute_reply.started": "2024-05-15T22:54:34.445946Z"
    }
   },
   "outputs": [
    {
     "data": {
      "text/plain": [
       "0.0625"
      ]
     },
     "execution_count": 63,
     "metadata": {},
     "output_type": "execute_result"
    }
   ],
   "source": [
    "arraya = [1,1,1,1,1]\n",
    "arrayb = [9,9,9,9,9]\n",
    "test_stat, test_p_value = wilcoxon(arraya, arrayb)\n",
    "test_p_value"
   ]
  },
  {
   "cell_type": "code",
   "execution_count": 64,
   "id": "0256ddc5-dc40-466b-8237-45b5e81f4701",
   "metadata": {
    "execution": {
     "iopub.execute_input": "2024-05-15T22:54:57.085462Z",
     "iopub.status.busy": "2024-05-15T22:54:57.085462Z",
     "iopub.status.idle": "2024-05-15T22:54:57.110034Z",
     "shell.execute_reply": "2024-05-15T22:54:57.110034Z",
     "shell.execute_reply.started": "2024-05-15T22:54:57.085462Z"
    }
   },
   "outputs": [
    {
     "data": {
      "text/plain": [
       "0.3125"
      ]
     },
     "execution_count": 64,
     "metadata": {},
     "output_type": "execute_result"
    }
   ],
   "source": [
    "arraya = [1,1,9,1,1]\n",
    "arrayb = [9,9,1,9,9]\n",
    "test_stat, test_p_value = wilcoxon(arraya, arrayb)\n",
    "test_p_value"
   ]
  },
  {
   "cell_type": "markdown",
   "id": "c7243231-0424-4574-aa2e-b707703e9245",
   "metadata": {},
   "source": [
    "As you can see, it doesn't matter what the actual difference is between 2 arrays is, for 5 samples, the smallest possible p-value is 0.0625"
   ]
  },
  {
   "cell_type": "code",
   "execution_count": null,
   "id": "fa713a15-21c3-43bd-9d0f-42dfa27e71e5",
   "metadata": {},
   "outputs": [],
   "source": []
  }
 ],
 "metadata": {
  "kernelspec": {
   "display_name": "Python 3 (ipykernel)",
   "language": "python",
   "name": "python3"
  },
  "language_info": {
   "codemirror_mode": {
    "name": "ipython",
    "version": 3
   },
   "file_extension": ".py",
   "mimetype": "text/x-python",
   "name": "python",
   "nbconvert_exporter": "python",
   "pygments_lexer": "ipython3",
   "version": "3.10.14"
  }
 },
 "nbformat": 4,
 "nbformat_minor": 5
}
