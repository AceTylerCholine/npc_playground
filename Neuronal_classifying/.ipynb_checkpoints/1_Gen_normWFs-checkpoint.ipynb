{
 "cells": [
  {
   "cell_type": "markdown",
   "id": "d6d285e5-4b82-4284-8b73-4eae3f5fed7e",
   "metadata": {},
   "source": [
    "# Generate Mean Normalized Waveform Numpy\n",
    "### Generates a .npy that stores the mean waveform for each cluster in each recordings as well as its firing rate, cluster_id, and recording"
   ]
  },
  {
   "cell_type": "markdown",
   "id": "0d8f7a01-9c9e-4566-bf47-51701859bbbc",
   "metadata": {},
   "source": [
    "# Inputs & Data\n",
    "`BASE_DIR` is the single parent directory for all recordings, the Cyborg external hard drive in this example\n",
    "\n",
    "`SAVE_PATH` is the name and location of the ouput .npy file"
   ]
  },
  {
   "cell_type": "markdown",
   "id": "dfa8e144-5884-461b-a838-47db9d669d33",
   "metadata": {},
   "source": [
    "# Processing\n",
    "This script looks at the `cluster_info.tsv` file in each phy folder to determine the \"good\" units, and then iterates through each folder using the phylib package to get all the waveforms for each good unit on only the best channel, and then averages the waveform of each spike into 1 average waveform and then normalizes it (so that the max is either 1 or -1) and stores that within the .npy that gets created. \n",
    "\n",
    "This scripts take a while to run (~1hr on my laptop for all of RCE Cohort 2+3)"
   ]
  },
  {
   "cell_type": "code",
   "execution_count": 1,
   "id": "e50573da-bce7-48bc-be63-83091538d2aa",
   "metadata": {
    "execution": {
     "iopub.execute_input": "2024-07-15T17:56:51.199284Z",
     "iopub.status.busy": "2024-07-15T17:56:51.198283Z",
     "iopub.status.idle": "2024-07-15T19:06:50.530916Z",
     "shell.execute_reply": "2024-07-15T19:06:50.499245Z",
     "shell.execute_reply.started": "2024-07-15T17:56:51.199284Z"
    }
   },
   "outputs": [],
   "source": [
    "import os\n",
    "import pandas as pd\n",
    "import numpy as np\n",
    "import concurrent.futures\n",
    "from phylib.io.model import load_model\n",
    "from sklearn.preprocessing import normalize\n",
    "from matplotlib import pyplot as plt\n",
    "\n",
    "# Constants\n",
    "BASE_DIR = r'D:\\pc_lab\\RCE\\finished_proc\\phy_curation'\n",
    "SAVE_PATH = r'C:\\Users\\short\\Documents\\GitHub\\waveform_id\\meanWave_clust_240715_1.npy'  # Path to save the waveform data\n",
    "\n",
    "def process_folder(folder):\n",
    "    cluster_info_path = os.path.join(folder, 'phy', 'cluster_info.tsv')\n",
    "    params_path = os.path.join(folder, 'phy', 'params.py')\n",
    "    recording_name = os.path.basename(folder)\n",
    "    \n",
    "    # Read the TSV file\n",
    "    try:\n",
    "        cluster_info = pd.read_csv(cluster_info_path, sep='\\t')\n",
    "    except Exception as e:\n",
    "        print(f\"Error reading {cluster_info_path}: {e}\")\n",
    "        return []\n",
    "\n",
    "    try:\n",
    "        good_clusters = cluster_info[\n",
    "            (cluster_info['group'] == 'good') & \n",
    "            (cluster_info['fr'] > 0.5)\n",
    "        ][['cluster_id', 'fr']]\n",
    "        \n",
    "        # Load the TemplateModel\n",
    "        model = load_model(params_path)\n",
    "        \n",
    "        # Initialize a list to store the mean waveforms, cluster IDs, firing rates, and recording names\n",
    "        mean_waveforms = []\n",
    "        cluster_ids = []\n",
    "        firing_rates = []\n",
    "        recording_names = []\n",
    "        \n",
    "        for _, row in good_clusters.iterrows():\n",
    "            cluster_id = row['cluster_id']\n",
    "            firing_rate = row['fr']\n",
    "            \n",
    "            # Get cluster spike waveforms\n",
    "            waveforms = model.get_cluster_spike_waveforms(cluster_id)[:, :, 0]\n",
    "            # Calculate the mean waveform and normalize it\n",
    "            mean_waveform = waveforms.mean(axis=0)\n",
    "            norm_mean_waveform = normalize(mean_waveform.reshape(1, -1), norm='max').squeeze()\n",
    "            mean_waveforms.append(norm_mean_waveform)\n",
    "            cluster_ids.append(cluster_id)\n",
    "            firing_rates.append(firing_rate)\n",
    "            recording_names.append(recording_name)\n",
    "        \n",
    "        return list(zip(mean_waveforms, cluster_ids, firing_rates, recording_names))\n",
    "    \n",
    "    except Exception as e:\n",
    "        print(f\"Error processing data in {folder}: {e}\")\n",
    "        return []\n",
    "\n",
    "def main():\n",
    "    # Retrieve all recording folders\n",
    "    folders = [os.path.join(BASE_DIR, f) for f in os.listdir(BASE_DIR) if os.path.isdir(os.path.join(BASE_DIR, f))]\n",
    "    \n",
    "    # Process each folder\n",
    "    results = []\n",
    "    with concurrent.futures.ThreadPoolExecutor(max_workers=4) as executor:\n",
    "        for result in executor.map(process_folder, folders):\n",
    "            if result:\n",
    "                results.extend(result)\n",
    "\n",
    "    # Combine all waveforms, cluster IDs, firing rates, and recording names into a single list\n",
    "    if not results:\n",
    "        print(\"No waveforms found.\")\n",
    "        return\n",
    "\n",
    "    normWFs_array = np.array([r[0] for r in results])\n",
    "    cluster_ids = np.array([r[1] for r in results])\n",
    "    firing_rates = np.array([r[2] for r in results])\n",
    "    recording_names = np.array([r[3] for r in results])\n",
    "\n",
    "    # Save the results to a file\n",
    "    np.save(SAVE_PATH, {'waveforms': normWFs_array, 'cluster_ids': cluster_ids, 'firing_rates': firing_rates, 'recording_names': recording_names})\n",
    "\n",
    "if __name__ == \"__main__\":\n",
    "    main()"
   ]
  },
  {
   "cell_type": "markdown",
   "id": "93ab910f-c55b-48e2-8e52-72fe0a9abccb",
   "metadata": {
    "execution": {
     "iopub.execute_input": "2024-07-15T19:08:47.693345Z",
     "iopub.status.busy": "2024-07-15T19:08:47.681345Z",
     "iopub.status.idle": "2024-07-15T19:08:48.099251Z",
     "shell.execute_reply": "2024-07-15T19:08:48.097251Z",
     "shell.execute_reply.started": "2024-07-15T19:08:47.691345Z"
    }
   },
   "source": [
    "## To load the data afterwards (in order to perform UMAP):\n",
    "\n",
    "`SAVED_PATH = r\"C:\\Users\\short\\Documents\\GitHub\\waveform_id\\meanWave_clust_240715_1.npy\"  # Path to save the waveform data`\n",
    "\n",
    "`data = np.load(SAVED_PATH, allow_pickle=True).item()`"
   ]
  },
  {
   "cell_type": "markdown",
   "id": "8e06ce7f-9bb3-4b4f-ab42-8fa71edd8ea2",
   "metadata": {},
   "source": [
    "This step got the actual normalized mean waveforms, but before you perform UMAP, you'll need to flip positive waveforms to negative. This is because we believe the direction of the waveform is more representative of electrode proximity to cell body, and not representative of cell type. The instructions for this will be done in the next Notebook: `2_THE_WaveMAP_Notebook.ipynb`"
   ]
  },
  {
   "cell_type": "code",
   "execution_count": null,
   "id": "fe03c03b-4d57-49c4-85f4-b708352e48ce",
   "metadata": {},
   "outputs": [],
   "source": []
  }
 ],
 "metadata": {
  "kernelspec": {
   "display_name": "WaveMAP",
   "language": "python",
   "name": "wavemap"
  },
  "language_info": {
   "codemirror_mode": {
    "name": "ipython",
    "version": 3
   },
   "file_extension": ".py",
   "mimetype": "text/x-python",
   "name": "python",
   "nbconvert_exporter": "python",
   "pygments_lexer": "ipython3",
   "version": "3.8.18"
  }
 },
 "nbformat": 4,
 "nbformat_minor": 5
}
