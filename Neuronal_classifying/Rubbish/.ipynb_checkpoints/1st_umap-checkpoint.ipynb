{
 "cells": [
  {
   "cell_type": "code",
   "execution_count": null,
   "id": "30984fbf-34de-4a9f-a389-e15ecd72181f",
   "metadata": {
    "execution": {
     "iopub.execute_input": "2024-07-09T21:15:42.098359Z",
     "iopub.status.busy": "2024-07-09T21:15:42.097359Z"
    }
   },
   "outputs": [
    {
     "name": "stderr",
     "output_type": "stream",
     "text": [
      "C:\\Users\\short\\miniforge3\\envs\\WaveMAP\\lib\\site-packages\\tqdm\\auto.py:22: TqdmWarning: IProgress not found. Please update jupyter and ipywidgets. See https://ipywidgets.readthedocs.io/en/stable/user_install.html\n",
      "  from .autonotebook import tqdm as notebook_tqdm\n"
     ]
    },
    {
     "name": "stdout",
     "output_type": "stream",
     "text": [
      "Error processing data in D:\\pc_lab\\RCE\\finished_proc\\phy_curation\\20240408_155308_comp_novel_subj_5-2_t4b4_merged.rec: Unable to allocate 8.39 MiB for an array with shape (1719, 40, 32) and data type float32\n",
      "Error processing data in D:\\pc_lab\\RCE\\finished_proc\\phy_curation\\20240408_155308_comp_novel_subj_5-3_t3b3_merged.rec: Unable to allocate 247. MiB for an array with shape (50614, 40, 32) and data type float32\n",
      "Error processing data in D:\\pc_lab\\RCE\\finished_proc\\phy_curation\\20240407_152222_comp_novel_subj_4-3_t6b6_merged.rec: Unable to allocate 539. MiB for an array with shape (110467, 40, 32) and data type float32\n",
      "Error processing data in D:\\pc_lab\\RCE\\finished_proc\\phy_curation\\20240318_143819_long_comp_subj_3-4_t5b5_merged.rec: Unable to allocate 124. MiB for an array with shape (25308, 40, 32) and data type float32\n",
      "Error processing data in D:\\pc_lab\\RCE\\finished_proc\\phy_curation\\20240408_155308_comp_novel_subj_3-4_t6b6_merged.rec: Unable to allocate 429. MiB for an array with shape (87824, 40, 32) and data type float32\n",
      "Error processing data in D:\\pc_lab\\RCE\\finished_proc\\phy_curation\\20240320_171038_alone_comp_subj_4-2_t6b6_merged.rec: Unable to allocate 28.0 MiB for an array with shape (5730, 40, 32) and data type float32\n",
      "Error processing data in D:\\pc_lab\\RCE\\finished_proc\\phy_curation\\20240409_142051_comp_novel_subj_4-3_t5b5_merged.rec: Unable to allocate 73.9 MiB for an array with shape (15141, 40, 32) and data type float32\n",
      "Error processing data in D:\\pc_lab\\RCE\\finished_proc\\phy_curation\\20240407_152222_comp_novel_subj_4-2_t5b5_merged.rec: Unable to allocate 76.8 MiB for an array with shape (15724, 40, 32) and data type float32\n",
      "Error processing data in D:\\pc_lab\\RCE\\finished_proc\\phy_curation\\20240319_134914_long_comp_subj_3-4_t6b6_merged.rec: Unable to allocate 120. MiB for an array with shape (24507, 40, 32) and data type float32\n"
     ]
    }
   ],
   "source": [
    "import os\n",
    "import pandas as pd\n",
    "import numpy as np\n",
    "import concurrent.futures\n",
    "from phylib.io.model import load_model\n",
    "from umap import UMAP\n",
    "from sklearn.preprocessing import normalize\n",
    "from matplotlib import pyplot as plt\n",
    "\n",
    "# Constants\n",
    "BASE_DIR = r'D:\\pc_lab\\RCE\\finished_proc\\phy_curation'\n",
    "RAND_STATE = 42\n",
    "\n",
    "def process_folder(folder):\n",
    "    cluster_info_path = os.path.join(folder, 'phy', 'cluster_info.tsv')\n",
    "    params_path = os.path.join(folder, 'phy', 'params.py')\n",
    "    \n",
    "    # Read the TSV file\n",
    "    try:\n",
    "        cluster_info = pd.read_csv(cluster_info_path, sep='\\t')\n",
    "    except Exception as e:\n",
    "        print(f\"Error reading {cluster_info_path}: {e}\")\n",
    "        return None\n",
    "    \n",
    "    try:\n",
    "        good_clusters = np.intersect1d(\n",
    "            cluster_info['cluster_id'][cluster_info['group'] == 'good'],\n",
    "            cluster_info['cluster_id'][cluster_info['fr'] > 0.5]\n",
    "        )\n",
    "        \n",
    "        # Load the TemplateModel\n",
    "        model = load_model(params_path)\n",
    "        \n",
    "        waveforms = [model.get_cluster_spike_waveforms(cluster_id)[:, :, 0] for cluster_id in good_clusters]\n",
    "        return waveforms\n",
    "    except Exception as e:\n",
    "        print(f\"Error processing data in {folder}: {e}\")\n",
    "        return None\n",
    "\n",
    "def main():\n",
    "    # Retrieve all recording folders\n",
    "    folders = [os.path.join(BASE_DIR, f) for f in os.listdir(BASE_DIR) if os.path.isdir(os.path.join(BASE_DIR, f))]\n",
    "    \n",
    "    # Process each folder\n",
    "    results = []\n",
    "    with concurrent.futures.ThreadPoolExecutor(max_workers=4) as executor:\n",
    "        for result in executor.map(process_folder, folders):\n",
    "            if result:\n",
    "                results.extend(result)\n",
    "\n",
    "    # Combine all waveforms into a single array\n",
    "    all_waveforms = [wf for wf in results if wf is not None]\n",
    "    \n",
    "    if not all_waveforms:\n",
    "        print(\"No waveforms found.\")\n",
    "        return\n",
    "\n",
    "    # Normalize waveforms\n",
    "    normWFs_array = np.array([normalize(wf.mean(axis=0).reshape(1, -1), norm='max').squeeze() for wf in all_waveforms])\n",
    "    \n",
    "    # Perform UMAP\n",
    "    reducer = UMAP(random_state=RAND_STATE, n_neighbors=15)\n",
    "    embedding = reducer.fit_transform(normWFs_array)\n",
    "\n",
    "    # Plotting\n",
    "    plt.scatter(embedding[:, 0], embedding[:, 1], alpha=0.5)\n",
    "    plt.title('UMAP Projection of Waveforms')\n",
    "    plt.xlabel('UMAP1')\n",
    "    plt.ylabel('UMAP2')\n",
    "    plt.show()\n",
    "\n",
    "if __name__ == \"__main__\":\n",
    "    main()"
   ]
  },
  {
   "cell_type": "code",
   "execution_count": null,
   "id": "30d5883e-7e12-4173-a535-4277ebcc135b",
   "metadata": {},
   "outputs": [],
   "source": []
  }
 ],
 "metadata": {
  "kernelspec": {
   "display_name": "WaveMAP",
   "language": "python",
   "name": "wavemap"
  },
  "language_info": {
   "codemirror_mode": {
    "name": "ipython",
    "version": 3
   },
   "file_extension": ".py",
   "mimetype": "text/x-python",
   "name": "python",
   "nbconvert_exporter": "python",
   "pygments_lexer": "ipython3",
   "version": "3.8.19"
  }
 },
 "nbformat": 4,
 "nbformat_minor": 5
}
