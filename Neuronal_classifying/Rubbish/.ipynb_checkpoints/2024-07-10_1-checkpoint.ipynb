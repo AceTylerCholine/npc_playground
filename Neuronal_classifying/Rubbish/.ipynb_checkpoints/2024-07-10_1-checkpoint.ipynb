{
 "cells": [
  {
   "cell_type": "code",
   "execution_count": 1,
   "id": "f2757ed6-e416-42d5-a5ea-d4938a31f57b",
   "metadata": {
    "execution": {
     "iopub.execute_input": "2024-07-08T18:29:43.916673Z",
     "iopub.status.busy": "2024-07-08T18:29:43.915675Z",
     "iopub.status.idle": "2024-07-08T18:29:48.978066Z",
     "shell.execute_reply": "2024-07-08T18:29:48.978066Z",
     "shell.execute_reply.started": "2024-07-08T18:29:43.916673Z"
    }
   },
   "outputs": [],
   "source": [
    "import pandas as pd\n",
    "import numpy as np\n",
    "import concurrent.futures\n",
    "import sys\n",
    "import matplotlib.pyplot as plt\n",
    "from phylib.io.model import load_model\n",
    "from phylib.utils.color import selected_cluster_color"
   ]
  },
  {
   "cell_type": "code",
   "execution_count": 2,
   "id": "1172bc08-6531-4343-b5d5-d5c81155251b",
   "metadata": {
    "execution": {
     "iopub.execute_input": "2024-07-08T18:29:48.978066Z",
     "iopub.status.busy": "2024-07-08T18:29:48.978066Z",
     "iopub.status.idle": "2024-07-08T18:29:49.041004Z",
     "shell.execute_reply": "2024-07-08T18:29:49.041004Z",
     "shell.execute_reply.started": "2024-07-08T18:29:48.978066Z"
    }
   },
   "outputs": [],
   "source": [
    "# Read the TSV file\n",
    "cluster_info = pd.read_csv(r'.\\test1\\20240320_142408_alone_comp_subj_3-1_t6b6_merged.rec\\phy\\cluster_info.tsv', sep='\\t')\n",
    "\n",
    "good_clusters = np.intersect1d(\n",
    "    cluster_info['cluster_id'][cluster_info['group'] == 'good'],\n",
    "    cluster_info['cluster_id'][cluster_info['fr'] > 0.5]\n",
    ")"
   ]
  },
  {
   "cell_type": "code",
   "execution_count": 3,
   "id": "1a809afc-fe43-4c71-bfb9-f6085a5200ba",
   "metadata": {
    "execution": {
     "iopub.execute_input": "2024-07-08T18:29:49.041004Z",
     "iopub.status.busy": "2024-07-08T18:29:49.041004Z",
     "iopub.status.idle": "2024-07-08T18:29:49.386098Z",
     "shell.execute_reply": "2024-07-08T18:29:49.386098Z",
     "shell.execute_reply.started": "2024-07-08T18:29:49.041004Z"
    }
   },
   "outputs": [],
   "source": [
    "# Directly specify the path to params.py\n",
    "params_path = r'.\\test1\\20240320_142408_alone_comp_subj_3-1_t6b6_merged.rec\\phy\\params.py'\n",
    "\n",
    "# Load the TemplateModel\n",
    "model = load_model(params_path)"
   ]
  },
  {
   "cell_type": "code",
   "execution_count": 4,
   "id": "b20d7fe0-4f78-4fed-90fb-7498702869bf",
   "metadata": {
    "execution": {
     "iopub.execute_input": "2024-07-08T18:29:49.386098Z",
     "iopub.status.busy": "2024-07-08T18:29:49.386098Z",
     "iopub.status.idle": "2024-07-08T18:32:20.808784Z",
     "shell.execute_reply": "2024-07-08T18:32:20.769776Z",
     "shell.execute_reply.started": "2024-07-08T18:29:49.386098Z"
    }
   },
   "outputs": [],
   "source": [
    "cluster_waveforms = {}\n",
    "\n",
    "for cluster_id in good_clusters:\n",
    "    # Get the waveforms for the cluster\n",
    "    waveforms = model.get_cluster_spike_waveforms(cluster_id)\n",
    "    \n",
    "    # Get the channel IDs and find the best channel (assuming it's the first one returned by get_cluster_channels)\n",
    "    channel_ids = model.get_cluster_channels(cluster_id)\n",
    "    \n",
    "    # Get the waveform for just the best channel. Since the data is already in 40 time points, no subsampling is needed\n",
    "    best_channel_waveforms = waveforms[:, :, 0]  # Since channel_ids[0] is the best channel\n",
    "    # Store the waveforms in the dictionary. \n",
    "    cluster_waveforms[cluster_id] = best_channel_waveforms "
   ]
  },
  {
   "cell_type": "code",
   "execution_count": 5,
   "id": "bef9d9e8-68ef-4662-944b-7ec96762cab5",
   "metadata": {
    "execution": {
     "iopub.execute_input": "2024-07-08T18:32:20.860881Z",
     "iopub.status.busy": "2024-07-08T18:32:20.855876Z",
     "iopub.status.idle": "2024-07-08T18:32:21.198603Z",
     "shell.execute_reply": "2024-07-08T18:32:21.192579Z",
     "shell.execute_reply.started": "2024-07-08T18:32:20.860881Z"
    }
   },
   "outputs": [
    {
     "data": {
      "text/plain": [
       "{9: array([[ 0.40537423,  0.9204547 ,  1.3042495 , ...,  2.269646  ,\n",
       "          0.89965886,  0.1729701 ],\n",
       "        [ 1.4716856 , -0.18663864, -1.8644416 , ...,  1.7085094 ,\n",
       "          1.6655885 ,  1.0949929 ],\n",
       "        [ 1.2226917 ,  0.27370277,  0.15729961, ..., -0.11720731,\n",
       "          0.83251476,  1.9278888 ],\n",
       "        ...,\n",
       "        [-0.6192026 , -1.5477538 , -0.3860595 , ...,  2.0028834 ,\n",
       "          3.7053027 ,  0.17694335],\n",
       "        [-1.674623  , -0.97858775, -0.06450201, ...,  1.6264546 ,\n",
       "          0.7814573 ,  0.6139724 ],\n",
       "        [-0.1571035 , -0.70310694, -0.836848  , ...,  2.4313078 ,\n",
       "          1.1730937 ,  1.1040318 ]], dtype=float32),\n",
       " 13: array([[0.74050546, 1.1471487 , 1.1523566 , ..., 2.8801389 , 2.9853294 ,\n",
       "         3.0963612 ],\n",
       "        [0.33376965, 0.1129124 , 0.25598168, ..., 1.8844459 , 2.5375013 ,\n",
       "         3.7338994 ],\n",
       "        [3.7924511 , 3.189696  , 2.8261626 , ..., 5.365091  , 5.273031  ,\n",
       "         4.5386353 ],\n",
       "        ...,\n",
       "        [1.6787068 , 2.0034997 , 2.0164783 , ..., 2.540442  , 2.361846  ,\n",
       "         2.5961041 ],\n",
       "        [2.719232  , 3.0306926 , 2.3892043 , ..., 3.8319478 , 3.7461836 ,\n",
       "         3.3095787 ],\n",
       "        [1.6769528 , 2.0283432 , 2.747551  , ..., 2.2611334 , 2.9865813 ,\n",
       "         3.6893952 ]], dtype=float32),\n",
       " 18: array([[ 1.3493047 ,  0.619357  ,  0.16172056, ..., -1.1463724 ,\n",
       "          0.17650308,  1.0710458 ],\n",
       "        [-1.0457903 , -2.1319501 , -1.8750024 , ...,  2.1727092 ,\n",
       "          0.99982935, -0.33021143],\n",
       "        [ 0.32599217,  0.16503921,  0.27732855, ..., -0.32217443,\n",
       "          0.17236593, -0.05150402],\n",
       "        ...,\n",
       "        [-0.8854631 ,  0.32515067,  0.34736264, ...,  0.65139574,\n",
       "          0.61848736, -0.7566372 ],\n",
       "        [ 1.4612421 ,  1.3895288 ,  0.8098548 , ..., -0.02361186,\n",
       "         -0.3044081 ,  0.2052774 ],\n",
       "        [ 0.39748198,  0.8318121 ,  1.0252188 , ..., -0.1988105 ,\n",
       "         -0.12839423, -0.97113127]], dtype=float32),\n",
       " 20: array([[1.3671987 , 2.082383  , 2.279984  , ..., 2.01403   , 2.8565178 ,\n",
       "         2.8321984 ],\n",
       "        [2.1851344 , 0.8611344 , 0.48307177, ..., 3.4429138 , 3.8160903 ,\n",
       "         3.5087311 ],\n",
       "        [0.7703249 , 1.3822025 , 1.4295958 , ..., 2.7536454 , 2.4123378 ,\n",
       "         2.142502  ],\n",
       "        ...,\n",
       "        [2.0823917 , 1.5850147 , 1.1422516 , ..., 3.053158  , 3.027018  ,\n",
       "         2.632094  ],\n",
       "        [1.1033891 , 1.3484769 , 0.5643724 , ..., 1.630746  , 0.35185224,\n",
       "         0.3892937 ],\n",
       "        [0.9196808 , 1.0014821 , 1.6788155 , ..., 3.6782575 , 3.4006321 ,\n",
       "         3.0454261 ]], dtype=float32),\n",
       " 115: array([[-1.4444315 , -1.8545597 , -0.09212058, ..., -1.3405765 ,\n",
       "         -0.06248673,  0.40132537],\n",
       "        [ 1.0003941 , -0.36613247, -1.5997725 , ...,  0.83614635,\n",
       "         -0.4864529 , -0.65551907],\n",
       "        [ 1.4110906 ,  1.1981518 ,  0.294652  , ...,  1.8336692 ,\n",
       "          1.5985953 ,  0.31652   ],\n",
       "        ...,\n",
       "        [ 0.39812076, -0.14235383, -0.03398512, ...,  1.1683561 ,\n",
       "          1.7905493 ,  1.64884   ],\n",
       "        [ 0.6166638 ,  0.4911649 ,  0.03128317, ..., -0.5051777 ,\n",
       "         -0.07413642,  0.20972052],\n",
       "        [-2.9822803 , -2.7491775 , -1.5092561 , ...,  0.31147656,\n",
       "          0.85704243,  1.6544567 ]], dtype=float32),\n",
       " 117: array([[ 3.0652988e-03,  7.6683294e-03,  2.0962958e-01, ...,\n",
       "          3.4154861e+00,  2.4242194e+00,  2.3850234e+00],\n",
       "        [ 8.5359031e-01,  7.1648288e-01,  1.0315886e+00, ...,\n",
       "          1.2333052e+00,  1.5011677e+00,  7.0454276e-01],\n",
       "        [-7.1695483e-01, -4.2525470e-01, -8.0104136e-01, ...,\n",
       "          1.6927334e+00,  2.1589284e+00,  2.2851896e+00],\n",
       "        ...,\n",
       "        [-1.9302584e+00, -7.6183051e-01,  1.4385498e+00, ...,\n",
       "          2.2544894e+00,  1.2180524e+00,  7.4693960e-01],\n",
       "        [ 3.5493067e-01,  5.8153677e-01,  6.3269429e-02, ...,\n",
       "          2.1838758e+00,  2.3007801e+00,  1.8068649e+00],\n",
       "        [ 1.4697404e+00,  9.6029615e-01,  2.2761877e+00, ...,\n",
       "          1.1059222e+00, -2.0028825e-01, -1.4888754e+00]], dtype=float32),\n",
       " 123: array([[ 1.0744777 ,  0.7188    ,  0.64389545, ...,  2.5328283 ,\n",
       "          3.8838315 ,  3.5077317 ],\n",
       "        [ 1.1351234 ,  1.3261033 ,  0.86495453, ...,  2.5826457 ,\n",
       "          0.31013638, -1.2630208 ],\n",
       "        [ 1.1446444 ,  0.91434515, -0.25099754, ...,  2.8546808 ,\n",
       "          2.0314016 ,  1.3037884 ],\n",
       "        ...,\n",
       "        [-0.28052908,  0.5328332 ,  1.3396878 , ...,  3.1357238 ,\n",
       "          3.9290297 ,  2.8191457 ],\n",
       "        [-0.748173  ,  0.00748   ,  1.3200591 , ...,  0.5118059 ,\n",
       "          0.3104491 ,  1.413636  ],\n",
       "        [ 0.9893955 ,  0.7199041 ,  0.1816968 , ...,  2.0997176 ,\n",
       "          1.7835532 ,  0.7913588 ]], dtype=float32),\n",
       " 150: array([[-0.02409553,  0.6165436 , -0.15685084, ...,  1.3945104 ,\n",
       "          1.4983191 ,  0.4345853 ],\n",
       "        [ 1.0869029 ,  0.2129372 , -0.3564966 , ...,  1.4394896 ,\n",
       "          1.5674856 ,  0.8589264 ],\n",
       "        [ 1.728833  ,  1.2641896 ,  0.5277945 , ...,  0.49169838,\n",
       "          0.740534  ,  0.7883151 ],\n",
       "        ...,\n",
       "        [ 0.938286  ,  0.49765232,  0.82971376, ..., -0.39872736,\n",
       "          1.0802045 ,  1.7850709 ],\n",
       "        [-0.50625694,  0.92818046,  1.5258281 , ...,  0.72846854,\n",
       "          0.834615  ,  0.9635159 ],\n",
       "        [ 2.125998  ,  1.7642605 ,  1.0133661 , ...,  1.7451942 ,\n",
       "          2.5066729 ,  1.793781  ]], dtype=float32),\n",
       " 154: array([[-0.21620075, -1.0463643 , -1.0222704 , ...,  0.7587049 ,\n",
       "          1.358793  ,  0.92648894],\n",
       "        [-1.694932  , -0.6632204 ,  0.57062674, ...,  1.8329808 ,\n",
       "          1.5224836 ,  1.4949642 ],\n",
       "        [ 0.19663939,  0.4132909 ,  0.5936487 , ...,  0.21853998,\n",
       "          0.30196667,  0.73331684],\n",
       "        ...,\n",
       "        [ 0.51378196,  0.05862967, -0.31413653, ...,  0.6675739 ,\n",
       "          0.91107064,  1.9022685 ],\n",
       "        [ 1.6243165 ,  1.0635947 ,  0.22128713, ...,  1.9547985 ,\n",
       "          1.0765884 ,  0.6828854 ],\n",
       "        [-1.0986818 ,  0.36730167,  0.8164876 , ...,  0.89536124,\n",
       "          0.05552766,  0.19552782]], dtype=float32),\n",
       " 190: array([[-0.3583337 , -1.0804446 , -0.22278394, ...,  3.1371636 ,\n",
       "          3.3423917 ,  2.3632755 ],\n",
       "        [ 1.2022593 ,  1.7476974 ,  1.4472492 , ...,  2.7672553 ,\n",
       "          0.4109821 , -0.5041535 ],\n",
       "        [ 2.1082544 ,  2.5640907 ,  2.5658457 , ...,  4.6903186 ,\n",
       "          2.2674372 ,  1.9845983 ],\n",
       "        ...,\n",
       "        [-1.0335972 , -0.75413287,  0.30246025, ...,  2.0324275 ,\n",
       "          1.1653258 ,  0.5028006 ],\n",
       "        [ 0.42619714,  0.4164606 ,  0.72125775, ...,  3.2502782 ,\n",
       "          1.9266436 ,  0.9587769 ],\n",
       "        [ 0.19314732,  1.0925943 ,  1.9621822 , ...,  2.273356  ,\n",
       "          1.926786  ,  1.2775131 ]], dtype=float32)}"
      ]
     },
     "execution_count": 5,
     "metadata": {},
     "output_type": "execute_result"
    }
   ],
   "source": [
    "cluster_waveforms"
   ]
  },
  {
   "cell_type": "code",
   "execution_count": 6,
   "id": "8d6c4a45-cc02-4161-9cc2-fe1c233540d2",
   "metadata": {
    "execution": {
     "iopub.execute_input": "2024-07-08T18:32:21.211146Z",
     "iopub.status.busy": "2024-07-08T18:32:21.210145Z",
     "iopub.status.idle": "2024-07-08T18:34:13.587538Z",
     "shell.execute_reply": "2024-07-08T18:34:13.521992Z",
     "shell.execute_reply.started": "2024-07-08T18:32:21.211146Z"
    }
   },
   "outputs": [],
   "source": [
    "def process_cluster(cluster_id):\n",
    "    waveforms = model.get_cluster_spike_waveforms(cluster_id)\n",
    "    channel_ids = model.get_cluster_channels(cluster_id)\n",
    "    best_channel_waveforms = waveforms[:, :, 0]  # Assuming channel_ids[0] is already the best channel\n",
    "    return (cluster_id, best_channel_waveforms)\n",
    "\n",
    "# Dictionary to store the results\n",
    "cluster_waveforms = {}\n",
    "\n",
    "# Use ThreadPoolExecutor to handle clusters in parallel\n",
    "with concurrent.futures.ThreadPoolExecutor() as executor:\n",
    "    future_to_cluster = {executor.submit(process_cluster, cluster_id): cluster_id for cluster_id in good_clusters}\n",
    "    for future in concurrent.futures.as_completed(future_to_cluster):\n",
    "        cluster_id, best_channel_waveforms = future.result()\n",
    "        cluster_waveforms[cluster_id] = best_channel_waveforms"
   ]
  },
  {
   "cell_type": "code",
   "execution_count": 7,
   "id": "afb923d9-99c1-4ff8-8ef4-2c6e39423b25",
   "metadata": {
    "execution": {
     "iopub.execute_input": "2024-07-08T18:34:13.675099Z",
     "iopub.status.busy": "2024-07-08T18:34:13.670099Z",
     "iopub.status.idle": "2024-07-08T18:34:13.974368Z",
     "shell.execute_reply": "2024-07-08T18:34:13.969366Z",
     "shell.execute_reply.started": "2024-07-08T18:34:13.675099Z"
    }
   },
   "outputs": [
    {
     "data": {
      "text/plain": [
       "{117: array([[ 3.0652988e-03,  7.6683294e-03,  2.0962958e-01, ...,\n",
       "          3.4154861e+00,  2.4242194e+00,  2.3850234e+00],\n",
       "        [ 8.5359031e-01,  7.1648288e-01,  1.0315886e+00, ...,\n",
       "          1.2333052e+00,  1.5011677e+00,  7.0454276e-01],\n",
       "        [-7.1695483e-01, -4.2525470e-01, -8.0104136e-01, ...,\n",
       "          1.6927334e+00,  2.1589284e+00,  2.2851896e+00],\n",
       "        ...,\n",
       "        [-1.9302584e+00, -7.6183051e-01,  1.4385498e+00, ...,\n",
       "          2.2544894e+00,  1.2180524e+00,  7.4693960e-01],\n",
       "        [ 3.5493067e-01,  5.8153677e-01,  6.3269429e-02, ...,\n",
       "          2.1838758e+00,  2.3007801e+00,  1.8068649e+00],\n",
       "        [ 1.4697404e+00,  9.6029615e-01,  2.2761877e+00, ...,\n",
       "          1.1059222e+00, -2.0028825e-01, -1.4888754e+00]], dtype=float32),\n",
       " 190: array([[-0.3583337 , -1.0804446 , -0.22278394, ...,  3.1371636 ,\n",
       "          3.3423917 ,  2.3632755 ],\n",
       "        [ 1.2022593 ,  1.7476974 ,  1.4472492 , ...,  2.7672553 ,\n",
       "          0.4109821 , -0.5041535 ],\n",
       "        [ 2.1082544 ,  2.5640907 ,  2.5658457 , ...,  4.6903186 ,\n",
       "          2.2674372 ,  1.9845983 ],\n",
       "        ...,\n",
       "        [-1.0335972 , -0.75413287,  0.30246025, ...,  2.0324275 ,\n",
       "          1.1653258 ,  0.5028006 ],\n",
       "        [ 0.42619714,  0.4164606 ,  0.72125775, ...,  3.2502782 ,\n",
       "          1.9266436 ,  0.9587769 ],\n",
       "        [ 0.19314732,  1.0925943 ,  1.9621822 , ...,  2.273356  ,\n",
       "          1.926786  ,  1.2775131 ]], dtype=float32),\n",
       " 150: array([[-0.02409553,  0.6165436 , -0.15685084, ...,  1.3945104 ,\n",
       "          1.4983191 ,  0.4345853 ],\n",
       "        [ 1.0869029 ,  0.2129372 , -0.3564966 , ...,  1.4394896 ,\n",
       "          1.5674856 ,  0.8589264 ],\n",
       "        [ 1.728833  ,  1.2641896 ,  0.5277945 , ...,  0.49169838,\n",
       "          0.740534  ,  0.7883151 ],\n",
       "        ...,\n",
       "        [ 0.938286  ,  0.49765232,  0.82971376, ..., -0.39872736,\n",
       "          1.0802045 ,  1.7850709 ],\n",
       "        [-0.50625694,  0.92818046,  1.5258281 , ...,  0.72846854,\n",
       "          0.834615  ,  0.9635159 ],\n",
       "        [ 2.125998  ,  1.7642605 ,  1.0133661 , ...,  1.7451942 ,\n",
       "          2.5066729 ,  1.793781  ]], dtype=float32),\n",
       " 115: array([[-1.4444315 , -1.8545597 , -0.09212058, ..., -1.3405765 ,\n",
       "         -0.06248673,  0.40132537],\n",
       "        [ 1.0003941 , -0.36613247, -1.5997725 , ...,  0.83614635,\n",
       "         -0.4864529 , -0.65551907],\n",
       "        [ 1.4110906 ,  1.1981518 ,  0.294652  , ...,  1.8336692 ,\n",
       "          1.5985953 ,  0.31652   ],\n",
       "        ...,\n",
       "        [ 0.39812076, -0.14235383, -0.03398512, ...,  1.1683561 ,\n",
       "          1.7905493 ,  1.64884   ],\n",
       "        [ 0.6166638 ,  0.4911649 ,  0.03128317, ..., -0.5051777 ,\n",
       "         -0.07413642,  0.20972052],\n",
       "        [-2.9822803 , -2.7491775 , -1.5092561 , ...,  0.31147656,\n",
       "          0.85704243,  1.6544567 ]], dtype=float32),\n",
       " 13: array([[0.74050546, 1.1471487 , 1.1523566 , ..., 2.8801389 , 2.9853294 ,\n",
       "         3.0963612 ],\n",
       "        [0.33376965, 0.1129124 , 0.25598168, ..., 1.8844459 , 2.5375013 ,\n",
       "         3.7338994 ],\n",
       "        [3.7924511 , 3.189696  , 2.8261626 , ..., 5.365091  , 5.273031  ,\n",
       "         4.5386353 ],\n",
       "        ...,\n",
       "        [1.6787068 , 2.0034997 , 2.0164783 , ..., 2.540442  , 2.361846  ,\n",
       "         2.5961041 ],\n",
       "        [2.719232  , 3.0306926 , 2.3892043 , ..., 3.8319478 , 3.7461836 ,\n",
       "         3.3095787 ],\n",
       "        [1.6769528 , 2.0283432 , 2.747551  , ..., 2.2611334 , 2.9865813 ,\n",
       "         3.6893952 ]], dtype=float32),\n",
       " 154: array([[-0.21620075, -1.0463643 , -1.0222704 , ...,  0.7587049 ,\n",
       "          1.358793  ,  0.92648894],\n",
       "        [-1.694932  , -0.6632204 ,  0.57062674, ...,  1.8329808 ,\n",
       "          1.5224836 ,  1.4949642 ],\n",
       "        [ 0.19663939,  0.4132909 ,  0.5936487 , ...,  0.21853998,\n",
       "          0.30196667,  0.73331684],\n",
       "        ...,\n",
       "        [ 0.51378196,  0.05862967, -0.31413653, ...,  0.6675739 ,\n",
       "          0.91107064,  1.9022685 ],\n",
       "        [ 1.6243165 ,  1.0635947 ,  0.22128713, ...,  1.9547985 ,\n",
       "          1.0765884 ,  0.6828854 ],\n",
       "        [-1.0986818 ,  0.36730167,  0.8164876 , ...,  0.89536124,\n",
       "          0.05552766,  0.19552782]], dtype=float32),\n",
       " 123: array([[ 1.0744777 ,  0.7188    ,  0.64389545, ...,  2.5328283 ,\n",
       "          3.8838315 ,  3.5077317 ],\n",
       "        [ 1.1351234 ,  1.3261033 ,  0.86495453, ...,  2.5826457 ,\n",
       "          0.31013638, -1.2630208 ],\n",
       "        [ 1.1446444 ,  0.91434515, -0.25099754, ...,  2.8546808 ,\n",
       "          2.0314016 ,  1.3037884 ],\n",
       "        ...,\n",
       "        [-0.28052908,  0.5328332 ,  1.3396878 , ...,  3.1357238 ,\n",
       "          3.9290297 ,  2.8191457 ],\n",
       "        [-0.748173  ,  0.00748   ,  1.3200591 , ...,  0.5118059 ,\n",
       "          0.3104491 ,  1.413636  ],\n",
       "        [ 0.9893955 ,  0.7199041 ,  0.1816968 , ...,  2.0997176 ,\n",
       "          1.7835532 ,  0.7913588 ]], dtype=float32),\n",
       " 9: array([[ 0.40537423,  0.9204547 ,  1.3042495 , ...,  2.269646  ,\n",
       "          0.89965886,  0.1729701 ],\n",
       "        [ 1.4716856 , -0.18663864, -1.8644416 , ...,  1.7085094 ,\n",
       "          1.6655885 ,  1.0949929 ],\n",
       "        [ 1.2226917 ,  0.27370277,  0.15729961, ..., -0.11720731,\n",
       "          0.83251476,  1.9278888 ],\n",
       "        ...,\n",
       "        [-0.6192026 , -1.5477538 , -0.3860595 , ...,  2.0028834 ,\n",
       "          3.7053027 ,  0.17694335],\n",
       "        [-1.674623  , -0.97858775, -0.06450201, ...,  1.6264546 ,\n",
       "          0.7814573 ,  0.6139724 ],\n",
       "        [-0.1571035 , -0.70310694, -0.836848  , ...,  2.4313078 ,\n",
       "          1.1730937 ,  1.1040318 ]], dtype=float32),\n",
       " 20: array([[1.3671987 , 2.082383  , 2.279984  , ..., 2.01403   , 2.8565178 ,\n",
       "         2.8321984 ],\n",
       "        [2.1851344 , 0.8611344 , 0.48307177, ..., 3.4429138 , 3.8160903 ,\n",
       "         3.5087311 ],\n",
       "        [0.7703249 , 1.3822025 , 1.4295958 , ..., 2.7536454 , 2.4123378 ,\n",
       "         2.142502  ],\n",
       "        ...,\n",
       "        [2.0823917 , 1.5850147 , 1.1422516 , ..., 3.053158  , 3.027018  ,\n",
       "         2.632094  ],\n",
       "        [1.1033891 , 1.3484769 , 0.5643724 , ..., 1.630746  , 0.35185224,\n",
       "         0.3892937 ],\n",
       "        [0.9196808 , 1.0014821 , 1.6788155 , ..., 3.6782575 , 3.4006321 ,\n",
       "         3.0454261 ]], dtype=float32),\n",
       " 18: array([[ 1.3493047 ,  0.619357  ,  0.16172056, ..., -1.1463724 ,\n",
       "          0.17650308,  1.0710458 ],\n",
       "        [-1.0457903 , -2.1319501 , -1.8750024 , ...,  2.1727092 ,\n",
       "          0.99982935, -0.33021143],\n",
       "        [ 0.32599217,  0.16503921,  0.27732855, ..., -0.32217443,\n",
       "          0.17236593, -0.05150402],\n",
       "        ...,\n",
       "        [-0.8854631 ,  0.32515067,  0.34736264, ...,  0.65139574,\n",
       "          0.61848736, -0.7566372 ],\n",
       "        [ 1.4612421 ,  1.3895288 ,  0.8098548 , ..., -0.02361186,\n",
       "         -0.3044081 ,  0.2052774 ],\n",
       "        [ 0.39748198,  0.8318121 ,  1.0252188 , ..., -0.1988105 ,\n",
       "         -0.12839423, -0.97113127]], dtype=float32)}"
      ]
     },
     "execution_count": 7,
     "metadata": {},
     "output_type": "execute_result"
    }
   ],
   "source": [
    "cluster_waveforms"
   ]
  },
  {
   "cell_type": "code",
   "execution_count": 8,
   "id": "3fc7060d-eed2-44d2-890f-f5e01c5c8b9a",
   "metadata": {
    "execution": {
     "iopub.execute_input": "2024-07-08T18:34:13.990364Z",
     "iopub.status.busy": "2024-07-08T18:34:13.987362Z",
     "iopub.status.idle": "2024-07-08T18:34:18.717013Z",
     "shell.execute_reply": "2024-07-08T18:34:18.712014Z",
     "shell.execute_reply.started": "2024-07-08T18:34:13.990364Z"
    }
   },
   "outputs": [
    {
     "name": "stdout",
     "output_type": "stream",
     "text": [
      "Number of excluded units due to low SNR: 1\n"
     ]
    }
   ],
   "source": [
    "def calculate_snr(waveforms):\n",
    "    # Calculate the mean waveform across all spikes in a single cluster, ignoring NaNs\n",
    "    W_bar = np.nanmean(waveforms, axis=0)\n",
    "    # Calculate the signal amplitude (max - min of the mean waveform), ignoring NaNs\n",
    "    sig_amp = np.nanmax(W_bar) - np.nanmin(W_bar)\n",
    "    # Subtract the mean waveform from each spike to get the noise\n",
    "    noise = waveforms - np.tile(W_bar, (waveforms.shape[0], 1))\n",
    "    # Calculate the signal-to-noise ratio, ignoring NaNs\n",
    "    snr = sig_amp / (2 * np.nanstd(noise.flatten()))\n",
    "    return snr\n",
    "\n",
    "# Initialize a dictionary to hold the SNR values for each cluster\n",
    "snr_dict = {}\n",
    "\n",
    "# Iterate through each unit/spike_cluster in the cluster_waveforms dictionary\n",
    "for unit, spikes in cluster_waveforms.items():\n",
    "    if spikes.ndim == 2:\n",
    "        # Calculate SNR for each cluster's waveforms\n",
    "        snr = calculate_snr(spikes)\n",
    "        # Store the SNR value in the dictionary with its corresponding unit\n",
    "        snr_dict[unit] = snr\n",
    "    else:\n",
    "        print(f\"Skipping unit {unit} due to unexpected shape: {spikes.shape}\")\n",
    "\n",
    "# Filter and retain only waveforms with SNR >= 3\n",
    "high_snr_waveforms = {unit: spikes for unit, spikes in cluster_waveforms.items() if snr_dict[unit] >= 3}\n",
    "\n",
    "# Determine the number of units excluded due to low SNR\n",
    "excluded_units = len(snr_dict) - len(high_snr_waveforms)\n",
    "\n",
    "# Print the result\n",
    "print(f\"Number of excluded units due to low SNR: {excluded_units}\")"
   ]
  },
  {
   "cell_type": "code",
   "execution_count": 12,
   "id": "61881246-f6ab-400e-8bc2-d65428a94c10",
   "metadata": {
    "execution": {
     "iopub.execute_input": "2024-07-08T19:47:08.205404Z",
     "iopub.status.busy": "2024-07-08T19:47:08.201410Z",
     "iopub.status.idle": "2024-07-08T19:48:24.766214Z",
     "shell.execute_reply": "2024-07-08T19:48:24.737541Z",
     "shell.execute_reply.started": "2024-07-08T19:47:08.205404Z"
    }
   },
   "outputs": [],
   "source": [
    "def process_cluster(cluster_id):\n",
    "    waveforms = model.get_cluster_spike_waveforms(cluster_id)[:, :, 0]\n",
    "    return (cluster_id, waveforms)\n",
    "\n",
    "# Dictionary to store the results\n",
    "cluster_waveforms = {}\n",
    "\n",
    "# Use ThreadPoolExecutor to handle clusters in parallel\n",
    "with concurrent.futures.ThreadPoolExecutor() as executor:\n",
    "    future_to_cluster = {executor.submit(process_cluster, cluster_id): cluster_id for cluster_id in good_clusters}\n",
    "    for future in concurrent.futures.as_completed(future_to_cluster):\n",
    "        cluster_id, best_channel_waveforms = future.result()\n",
    "        cluster_waveforms[cluster_id] = best_channel_waveforms"
   ]
  },
  {
   "cell_type": "code",
   "execution_count": 13,
   "id": "cd27ee1b-d005-46aa-bd9f-e85f9b7c6c7e",
   "metadata": {
    "execution": {
     "iopub.execute_input": "2024-07-08T19:54:31.839789Z",
     "iopub.status.busy": "2024-07-08T19:54:31.839789Z",
     "iopub.status.idle": "2024-07-08T19:54:31.965197Z",
     "shell.execute_reply": "2024-07-08T19:54:31.965197Z",
     "shell.execute_reply.started": "2024-07-08T19:54:31.839789Z"
    }
   },
   "outputs": [
    {
     "data": {
      "text/plain": [
       "dict_keys([117, 190, 150, 13, 115, 9, 154, 123, 18, 20])"
      ]
     },
     "execution_count": 13,
     "metadata": {},
     "output_type": "execute_result"
    }
   ],
   "source": [
    "cluster_waveforms.keys()"
   ]
  },
  {
   "cell_type": "code",
   "execution_count": null,
   "id": "3e5ec8cd-d7fd-4348-b67c-cb812214428c",
   "metadata": {},
   "outputs": [],
   "source": []
  }
 ],
 "metadata": {
  "kernelspec": {
   "display_name": "WaveMAP",
   "language": "python",
   "name": "wavemap"
  },
  "language_info": {
   "codemirror_mode": {
    "name": "ipython",
    "version": 3
   },
   "file_extension": ".py",
   "mimetype": "text/x-python",
   "name": "python",
   "nbconvert_exporter": "python",
   "pygments_lexer": "ipython3",
   "version": "3.8.19"
  }
 },
 "nbformat": 4,
 "nbformat_minor": 5
}
