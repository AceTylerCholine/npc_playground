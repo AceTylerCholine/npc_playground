{
 "cells": [
  {
   "cell_type": "code",
   "execution_count": 8,
   "id": "e4442b73-74be-41a2-bc04-aa6628662ac7",
   "metadata": {
    "execution": {
     "iopub.execute_input": "2024-05-21T17:35:51.962103Z",
     "iopub.status.busy": "2024-05-21T17:35:51.961102Z",
     "iopub.status.idle": "2024-05-21T17:35:52.203733Z",
     "shell.execute_reply": "2024-05-21T17:35:52.201715Z",
     "shell.execute_reply.started": "2024-05-21T17:35:51.962103Z"
    }
   },
   "outputs": [],
   "source": [
    "import pandas as pd\n",
    "\n",
    "cols = ['Date', 'Recording Day', 'Subject', 'Agent']\n",
    "\n",
    "# Load the data\n",
    "df = pd.read_excel(r'C:\\Users\\short\\Downloads\\rce_cohort3_per_file_rce_competition_recording_log.xlsx', usecols=cols, engine='openpyxl')"
   ]
  },
  {
   "cell_type": "code",
   "execution_count": 9,
   "id": "2c844ef9-bdb7-47f4-b690-d19adf6c4428",
   "metadata": {
    "execution": {
     "iopub.execute_input": "2024-05-21T17:35:55.129822Z",
     "iopub.status.busy": "2024-05-21T17:35:55.128817Z",
     "iopub.status.idle": "2024-05-21T17:35:55.152381Z",
     "shell.execute_reply": "2024-05-21T17:35:55.150361Z",
     "shell.execute_reply.started": "2024-05-21T17:35:55.129822Z"
    }
   },
   "outputs": [
    {
     "data": {
      "text/html": [
       "<div>\n",
       "<style scoped>\n",
       "    .dataframe tbody tr th:only-of-type {\n",
       "        vertical-align: middle;\n",
       "    }\n",
       "\n",
       "    .dataframe tbody tr th {\n",
       "        vertical-align: top;\n",
       "    }\n",
       "\n",
       "    .dataframe thead th {\n",
       "        text-align: right;\n",
       "    }\n",
       "</style>\n",
       "<table border=\"1\" class=\"dataframe\">\n",
       "  <thead>\n",
       "    <tr style=\"text-align: right;\">\n",
       "      <th></th>\n",
       "      <th>Date</th>\n",
       "      <th>Recording Day</th>\n",
       "      <th>Subject</th>\n",
       "      <th>Agent</th>\n",
       "    </tr>\n",
       "  </thead>\n",
       "  <tbody>\n",
       "    <tr>\n",
       "      <th>0</th>\n",
       "      <td>Legend: Red Day is skipped, green is days that...</td>\n",
       "      <td>NaN</td>\n",
       "      <td>NaN</td>\n",
       "      <td>NaN</td>\n",
       "    </tr>\n",
       "    <tr>\n",
       "      <th>1</th>\n",
       "      <td>2024-02-27 00:00:00</td>\n",
       "      <td>comp then omission/alone</td>\n",
       "      <td>4.2</td>\n",
       "      <td>4.3</td>\n",
       "    </tr>\n",
       "    <tr>\n",
       "      <th>2</th>\n",
       "      <td>2024-02-27 00:00:00</td>\n",
       "      <td>comp then omission/alone</td>\n",
       "      <td>4.3</td>\n",
       "      <td>4.2</td>\n",
       "    </tr>\n",
       "    <tr>\n",
       "      <th>3</th>\n",
       "      <td>2024-02-28 00:00:00</td>\n",
       "      <td>comp then omission/alone</td>\n",
       "      <td>3.1</td>\n",
       "      <td>3.3</td>\n",
       "    </tr>\n",
       "    <tr>\n",
       "      <th>4</th>\n",
       "      <td>2024-02-28 00:00:00</td>\n",
       "      <td>comp then omission/alone</td>\n",
       "      <td>3.3</td>\n",
       "      <td>3.1</td>\n",
       "    </tr>\n",
       "    <tr>\n",
       "      <th>...</th>\n",
       "      <td>...</td>\n",
       "      <td>...</td>\n",
       "      <td>...</td>\n",
       "      <td>...</td>\n",
       "    </tr>\n",
       "    <tr>\n",
       "      <th>188</th>\n",
       "      <td>2024-04-14 00:00:00</td>\n",
       "      <td>Discriminatory</td>\n",
       "      <td>4.3</td>\n",
       "      <td>4.4</td>\n",
       "    </tr>\n",
       "    <tr>\n",
       "      <th>189</th>\n",
       "      <td>2024-04-14 00:00:00</td>\n",
       "      <td>Discriminatory</td>\n",
       "      <td>4.4</td>\n",
       "      <td>4.3</td>\n",
       "    </tr>\n",
       "    <tr>\n",
       "      <th>190</th>\n",
       "      <td>NaN</td>\n",
       "      <td>NaN</td>\n",
       "      <td>NaN</td>\n",
       "      <td>NaN</td>\n",
       "    </tr>\n",
       "    <tr>\n",
       "      <th>191</th>\n",
       "      <td>2024-04-17 00:00:00</td>\n",
       "      <td>Discriminatory</td>\n",
       "      <td>3.3</td>\n",
       "      <td>3.4</td>\n",
       "    </tr>\n",
       "    <tr>\n",
       "      <th>192</th>\n",
       "      <td>2024-04-17 00:00:00</td>\n",
       "      <td>Discriminatory</td>\n",
       "      <td>3.4</td>\n",
       "      <td>3.3</td>\n",
       "    </tr>\n",
       "  </tbody>\n",
       "</table>\n",
       "<p>193 rows × 4 columns</p>\n",
       "</div>"
      ],
      "text/plain": [
       "                                                  Date  \\\n",
       "0    Legend: Red Day is skipped, green is days that...   \n",
       "1                                  2024-02-27 00:00:00   \n",
       "2                                  2024-02-27 00:00:00   \n",
       "3                                  2024-02-28 00:00:00   \n",
       "4                                  2024-02-28 00:00:00   \n",
       "..                                                 ...   \n",
       "188                                2024-04-14 00:00:00   \n",
       "189                                2024-04-14 00:00:00   \n",
       "190                                                NaN   \n",
       "191                                2024-04-17 00:00:00   \n",
       "192                                2024-04-17 00:00:00   \n",
       "\n",
       "                Recording Day  Subject  Agent  \n",
       "0                         NaN      NaN    NaN  \n",
       "1    comp then omission/alone      4.2    4.3  \n",
       "2    comp then omission/alone      4.3    4.2  \n",
       "3    comp then omission/alone      3.1    3.3  \n",
       "4    comp then omission/alone      3.3    3.1  \n",
       "..                        ...      ...    ...  \n",
       "188            Discriminatory      4.3    4.4  \n",
       "189            Discriminatory      4.4    4.3  \n",
       "190                       NaN      NaN    NaN  \n",
       "191            Discriminatory      3.3    3.4  \n",
       "192            Discriminatory      3.4    3.3  \n",
       "\n",
       "[193 rows x 4 columns]"
      ]
     },
     "execution_count": 9,
     "metadata": {},
     "output_type": "execute_result"
    }
   ],
   "source": [
    "df"
   ]
  },
  {
   "cell_type": "code",
   "execution_count": 19,
   "id": "435e0110-7680-4325-b60e-ca9a58cacb5e",
   "metadata": {
    "execution": {
     "iopub.execute_input": "2024-05-21T17:43:48.817035Z",
     "iopub.status.busy": "2024-05-21T17:43:48.817035Z",
     "iopub.status.idle": "2024-05-21T17:43:48.833165Z",
     "shell.execute_reply": "2024-05-21T17:43:48.833165Z",
     "shell.execute_reply.started": "2024-05-21T17:43:48.817035Z"
    }
   },
   "outputs": [],
   "source": [
    "df2 = df.dropna().copy()"
   ]
  },
  {
   "cell_type": "code",
   "execution_count": 20,
   "id": "83b1af0a-f484-4e42-a793-31dd63b6cbbe",
   "metadata": {
    "execution": {
     "iopub.execute_input": "2024-05-21T17:43:49.899746Z",
     "iopub.status.busy": "2024-05-21T17:43:49.899746Z",
     "iopub.status.idle": "2024-05-21T17:43:49.931522Z",
     "shell.execute_reply": "2024-05-21T17:43:49.931522Z",
     "shell.execute_reply.started": "2024-05-21T17:43:49.899746Z"
    }
   },
   "outputs": [
    {
     "data": {
      "text/html": [
       "<div>\n",
       "<style scoped>\n",
       "    .dataframe tbody tr th:only-of-type {\n",
       "        vertical-align: middle;\n",
       "    }\n",
       "\n",
       "    .dataframe tbody tr th {\n",
       "        vertical-align: top;\n",
       "    }\n",
       "\n",
       "    .dataframe thead th {\n",
       "        text-align: right;\n",
       "    }\n",
       "</style>\n",
       "<table border=\"1\" class=\"dataframe\">\n",
       "  <thead>\n",
       "    <tr style=\"text-align: right;\">\n",
       "      <th></th>\n",
       "      <th>Date</th>\n",
       "      <th>Recording Day</th>\n",
       "      <th>Subject</th>\n",
       "      <th>Agent</th>\n",
       "    </tr>\n",
       "  </thead>\n",
       "  <tbody>\n",
       "    <tr>\n",
       "      <th>1</th>\n",
       "      <td>2024-02-27 00:00:00</td>\n",
       "      <td>comp then omission/alone</td>\n",
       "      <td>4.2</td>\n",
       "      <td>4.3</td>\n",
       "    </tr>\n",
       "    <tr>\n",
       "      <th>2</th>\n",
       "      <td>2024-02-27 00:00:00</td>\n",
       "      <td>comp then omission/alone</td>\n",
       "      <td>4.3</td>\n",
       "      <td>4.2</td>\n",
       "    </tr>\n",
       "    <tr>\n",
       "      <th>3</th>\n",
       "      <td>2024-02-28 00:00:00</td>\n",
       "      <td>comp then omission/alone</td>\n",
       "      <td>3.1</td>\n",
       "      <td>3.3</td>\n",
       "    </tr>\n",
       "    <tr>\n",
       "      <th>4</th>\n",
       "      <td>2024-02-28 00:00:00</td>\n",
       "      <td>comp then omission/alone</td>\n",
       "      <td>3.3</td>\n",
       "      <td>3.1</td>\n",
       "    </tr>\n",
       "    <tr>\n",
       "      <th>5</th>\n",
       "      <td>2024-02-28 00:00:00</td>\n",
       "      <td>comp then omission/alone</td>\n",
       "      <td>4.3</td>\n",
       "      <td>4.4</td>\n",
       "    </tr>\n",
       "    <tr>\n",
       "      <th>...</th>\n",
       "      <td>...</td>\n",
       "      <td>...</td>\n",
       "      <td>...</td>\n",
       "      <td>...</td>\n",
       "    </tr>\n",
       "    <tr>\n",
       "      <th>186</th>\n",
       "      <td>2024-04-15 00:00:00</td>\n",
       "      <td>Discriminatory</td>\n",
       "      <td>3.4</td>\n",
       "      <td>3.1</td>\n",
       "    </tr>\n",
       "    <tr>\n",
       "      <th>188</th>\n",
       "      <td>2024-04-14 00:00:00</td>\n",
       "      <td>Discriminatory</td>\n",
       "      <td>4.3</td>\n",
       "      <td>4.4</td>\n",
       "    </tr>\n",
       "    <tr>\n",
       "      <th>189</th>\n",
       "      <td>2024-04-14 00:00:00</td>\n",
       "      <td>Discriminatory</td>\n",
       "      <td>4.4</td>\n",
       "      <td>4.3</td>\n",
       "    </tr>\n",
       "    <tr>\n",
       "      <th>191</th>\n",
       "      <td>2024-04-17 00:00:00</td>\n",
       "      <td>Discriminatory</td>\n",
       "      <td>3.3</td>\n",
       "      <td>3.4</td>\n",
       "    </tr>\n",
       "    <tr>\n",
       "      <th>192</th>\n",
       "      <td>2024-04-17 00:00:00</td>\n",
       "      <td>Discriminatory</td>\n",
       "      <td>3.4</td>\n",
       "      <td>3.3</td>\n",
       "    </tr>\n",
       "  </tbody>\n",
       "</table>\n",
       "<p>136 rows × 4 columns</p>\n",
       "</div>"
      ],
      "text/plain": [
       "                    Date             Recording Day  Subject  Agent\n",
       "1    2024-02-27 00:00:00  comp then omission/alone      4.2    4.3\n",
       "2    2024-02-27 00:00:00  comp then omission/alone      4.3    4.2\n",
       "3    2024-02-28 00:00:00  comp then omission/alone      3.1    3.3\n",
       "4    2024-02-28 00:00:00  comp then omission/alone      3.3    3.1\n",
       "5    2024-02-28 00:00:00  comp then omission/alone      4.3    4.4\n",
       "..                   ...                       ...      ...    ...\n",
       "186  2024-04-15 00:00:00            Discriminatory      3.4    3.1\n",
       "188  2024-04-14 00:00:00            Discriminatory      4.3    4.4\n",
       "189  2024-04-14 00:00:00            Discriminatory      4.4    4.3\n",
       "191  2024-04-17 00:00:00            Discriminatory      3.3    3.4\n",
       "192  2024-04-17 00:00:00            Discriminatory      3.4    3.3\n",
       "\n",
       "[136 rows x 4 columns]"
      ]
     },
     "execution_count": 20,
     "metadata": {},
     "output_type": "execute_result"
    }
   ],
   "source": [
    "df2"
   ]
  },
  {
   "cell_type": "code",
   "execution_count": 21,
   "id": "95e71314-ce40-4e82-8ac5-f4a77b2c2b97",
   "metadata": {
    "execution": {
     "iopub.execute_input": "2024-05-21T17:43:53.243773Z",
     "iopub.status.busy": "2024-05-21T17:43:53.243773Z",
     "iopub.status.idle": "2024-05-21T17:43:53.264939Z",
     "shell.execute_reply": "2024-05-21T17:43:53.264939Z",
     "shell.execute_reply.started": "2024-05-21T17:43:53.243773Z"
    }
   },
   "outputs": [],
   "source": [
    "# Convert 'Subject' and 'Agent' to floats\n",
    "df2['Subject'] = pd.to_numeric(df2['Subject'], errors='coerce')\n",
    "df2['Agent'] = pd.to_numeric(df2['Agent'], errors='coerce')\n",
    "\n",
    "# Create 'Pair' column with values in numerical order\n",
    "df2['Pair'] = df2.apply(lambda row: f\"{min(row['Subject'], row['Agent'])}-{max(row['Subject'], row['Agent'])}\", axis=1)"
   ]
  },
  {
   "cell_type": "code",
   "execution_count": 22,
   "id": "581eb9d0-38d8-43bc-9e90-02a63fde064c",
   "metadata": {
    "execution": {
     "iopub.execute_input": "2024-05-21T17:44:01.796836Z",
     "iopub.status.busy": "2024-05-21T17:44:01.796836Z",
     "iopub.status.idle": "2024-05-21T17:44:01.829985Z",
     "shell.execute_reply": "2024-05-21T17:44:01.829985Z",
     "shell.execute_reply.started": "2024-05-21T17:44:01.796836Z"
    }
   },
   "outputs": [
    {
     "data": {
      "text/html": [
       "<div>\n",
       "<style scoped>\n",
       "    .dataframe tbody tr th:only-of-type {\n",
       "        vertical-align: middle;\n",
       "    }\n",
       "\n",
       "    .dataframe tbody tr th {\n",
       "        vertical-align: top;\n",
       "    }\n",
       "\n",
       "    .dataframe thead th {\n",
       "        text-align: right;\n",
       "    }\n",
       "</style>\n",
       "<table border=\"1\" class=\"dataframe\">\n",
       "  <thead>\n",
       "    <tr style=\"text-align: right;\">\n",
       "      <th></th>\n",
       "      <th>Date</th>\n",
       "      <th>Recording Day</th>\n",
       "      <th>Subject</th>\n",
       "      <th>Agent</th>\n",
       "      <th>Pair</th>\n",
       "    </tr>\n",
       "  </thead>\n",
       "  <tbody>\n",
       "    <tr>\n",
       "      <th>1</th>\n",
       "      <td>2024-02-27 00:00:00</td>\n",
       "      <td>comp then omission/alone</td>\n",
       "      <td>4.2</td>\n",
       "      <td>4.3</td>\n",
       "      <td>4.2-4.3</td>\n",
       "    </tr>\n",
       "    <tr>\n",
       "      <th>2</th>\n",
       "      <td>2024-02-27 00:00:00</td>\n",
       "      <td>comp then omission/alone</td>\n",
       "      <td>4.3</td>\n",
       "      <td>4.2</td>\n",
       "      <td>4.2-4.3</td>\n",
       "    </tr>\n",
       "    <tr>\n",
       "      <th>3</th>\n",
       "      <td>2024-02-28 00:00:00</td>\n",
       "      <td>comp then omission/alone</td>\n",
       "      <td>3.1</td>\n",
       "      <td>3.3</td>\n",
       "      <td>3.1-3.3</td>\n",
       "    </tr>\n",
       "    <tr>\n",
       "      <th>4</th>\n",
       "      <td>2024-02-28 00:00:00</td>\n",
       "      <td>comp then omission/alone</td>\n",
       "      <td>3.3</td>\n",
       "      <td>3.1</td>\n",
       "      <td>3.1-3.3</td>\n",
       "    </tr>\n",
       "    <tr>\n",
       "      <th>5</th>\n",
       "      <td>2024-02-28 00:00:00</td>\n",
       "      <td>comp then omission/alone</td>\n",
       "      <td>4.3</td>\n",
       "      <td>4.4</td>\n",
       "      <td>4.3-4.4</td>\n",
       "    </tr>\n",
       "    <tr>\n",
       "      <th>...</th>\n",
       "      <td>...</td>\n",
       "      <td>...</td>\n",
       "      <td>...</td>\n",
       "      <td>...</td>\n",
       "      <td>...</td>\n",
       "    </tr>\n",
       "    <tr>\n",
       "      <th>186</th>\n",
       "      <td>2024-04-15 00:00:00</td>\n",
       "      <td>Discriminatory</td>\n",
       "      <td>3.4</td>\n",
       "      <td>3.1</td>\n",
       "      <td>3.1-3.4</td>\n",
       "    </tr>\n",
       "    <tr>\n",
       "      <th>188</th>\n",
       "      <td>2024-04-14 00:00:00</td>\n",
       "      <td>Discriminatory</td>\n",
       "      <td>4.3</td>\n",
       "      <td>4.4</td>\n",
       "      <td>4.3-4.4</td>\n",
       "    </tr>\n",
       "    <tr>\n",
       "      <th>189</th>\n",
       "      <td>2024-04-14 00:00:00</td>\n",
       "      <td>Discriminatory</td>\n",
       "      <td>4.4</td>\n",
       "      <td>4.3</td>\n",
       "      <td>4.3-4.4</td>\n",
       "    </tr>\n",
       "    <tr>\n",
       "      <th>191</th>\n",
       "      <td>2024-04-17 00:00:00</td>\n",
       "      <td>Discriminatory</td>\n",
       "      <td>3.3</td>\n",
       "      <td>3.4</td>\n",
       "      <td>3.3-3.4</td>\n",
       "    </tr>\n",
       "    <tr>\n",
       "      <th>192</th>\n",
       "      <td>2024-04-17 00:00:00</td>\n",
       "      <td>Discriminatory</td>\n",
       "      <td>3.4</td>\n",
       "      <td>3.3</td>\n",
       "      <td>3.3-3.4</td>\n",
       "    </tr>\n",
       "  </tbody>\n",
       "</table>\n",
       "<p>136 rows × 5 columns</p>\n",
       "</div>"
      ],
      "text/plain": [
       "                    Date             Recording Day  Subject  Agent     Pair\n",
       "1    2024-02-27 00:00:00  comp then omission/alone      4.2    4.3  4.2-4.3\n",
       "2    2024-02-27 00:00:00  comp then omission/alone      4.3    4.2  4.2-4.3\n",
       "3    2024-02-28 00:00:00  comp then omission/alone      3.1    3.3  3.1-3.3\n",
       "4    2024-02-28 00:00:00  comp then omission/alone      3.3    3.1  3.1-3.3\n",
       "5    2024-02-28 00:00:00  comp then omission/alone      4.3    4.4  4.3-4.4\n",
       "..                   ...                       ...      ...    ...      ...\n",
       "186  2024-04-15 00:00:00            Discriminatory      3.4    3.1  3.1-3.4\n",
       "188  2024-04-14 00:00:00            Discriminatory      4.3    4.4  4.3-4.4\n",
       "189  2024-04-14 00:00:00            Discriminatory      4.4    4.3  4.3-4.4\n",
       "191  2024-04-17 00:00:00            Discriminatory      3.3    3.4  3.3-3.4\n",
       "192  2024-04-17 00:00:00            Discriminatory      3.4    3.3  3.3-3.4\n",
       "\n",
       "[136 rows x 5 columns]"
      ]
     },
     "execution_count": 22,
     "metadata": {},
     "output_type": "execute_result"
    }
   ],
   "source": [
    "df2"
   ]
  },
  {
   "cell_type": "code",
   "execution_count": 23,
   "id": "a6f6c4ff-1837-4247-af02-593c2f091e6c",
   "metadata": {
    "execution": {
     "iopub.execute_input": "2024-05-21T17:45:08.088699Z",
     "iopub.status.busy": "2024-05-21T17:45:08.088699Z",
     "iopub.status.idle": "2024-05-21T17:45:08.129269Z",
     "shell.execute_reply": "2024-05-21T17:45:08.129269Z",
     "shell.execute_reply.started": "2024-05-21T17:45:08.088699Z"
    }
   },
   "outputs": [
    {
     "data": {
      "text/plain": [
       "Pair\n",
       "5.2-5.3    24\n",
       "4.2-4.4    20\n",
       "4.3-4.4    18\n",
       "3.1-3.4    18\n",
       "4.2-4.3    16\n",
       "3.1-3.3    16\n",
       "3.3-3.4    14\n",
       "5.3-5.4     6\n",
       "5.2-5.4     4\n",
       "Name: count, dtype: int64"
      ]
     },
     "execution_count": 23,
     "metadata": {},
     "output_type": "execute_result"
    }
   ],
   "source": [
    "df2['Pair'].value_counts()"
   ]
  },
  {
   "cell_type": "code",
   "execution_count": 24,
   "id": "91653bc0-8813-4cd6-91bf-cfa5c353be48",
   "metadata": {
    "execution": {
     "iopub.execute_input": "2024-05-21T17:47:39.208329Z",
     "iopub.status.busy": "2024-05-21T17:47:39.208329Z",
     "iopub.status.idle": "2024-05-21T17:47:39.232611Z",
     "shell.execute_reply": "2024-05-21T17:47:39.232611Z",
     "shell.execute_reply.started": "2024-05-21T17:47:39.208329Z"
    }
   },
   "outputs": [
    {
     "data": {
      "text/plain": [
       "Recording Day\n",
       "Novel                       40\n",
       "comp then omission/alone    32\n",
       "Long comp                   18\n",
       "Both Rewarded               18\n",
       "Alone then comp             14\n",
       "Discriminatory              14\n",
       "Name: count, dtype: int64"
      ]
     },
     "execution_count": 24,
     "metadata": {},
     "output_type": "execute_result"
    }
   ],
   "source": [
    "df2['Recording Day'].value_counts()"
   ]
  },
  {
   "cell_type": "code",
   "execution_count": 27,
   "id": "c17b2763-fffb-4b49-ae74-d49f1512c882",
   "metadata": {
    "execution": {
     "iopub.execute_input": "2024-05-21T17:50:38.352041Z",
     "iopub.status.busy": "2024-05-21T17:50:38.352041Z",
     "iopub.status.idle": "2024-05-21T17:50:38.391249Z",
     "shell.execute_reply": "2024-05-21T17:50:38.391249Z",
     "shell.execute_reply.started": "2024-05-21T17:50:38.352041Z"
    }
   },
   "outputs": [],
   "source": [
    "df_novel = df2[df2['Recording Day']=='Novel']\n",
    "df_omis = df2[df2['Recording Day']=='comp then omission/alone']\n",
    "df_long_comp = df2[df2['Recording Day']=='Long comp']\n",
    "df_both_reward = df2[df2['Recording Day']=='Both Rewarded']\n",
    "df_alone_comp = df2[df2['Recording Day']=='Alone then comp']\n",
    "df_discrim = df2[df2['Recording Day']=='Discriminatory']"
   ]
  },
  {
   "cell_type": "code",
   "execution_count": 28,
   "id": "761ec9df-64ea-4485-8a38-ebcd3d42a404",
   "metadata": {
    "execution": {
     "iopub.execute_input": "2024-05-21T18:06:21.017664Z",
     "iopub.status.busy": "2024-05-21T18:06:21.017664Z",
     "iopub.status.idle": "2024-05-21T18:06:21.136446Z",
     "shell.execute_reply": "2024-05-21T18:06:21.135416Z",
     "shell.execute_reply.started": "2024-05-21T18:06:21.017664Z"
    }
   },
   "outputs": [
    {
     "name": "stdout",
     "output_type": "stream",
     "text": [
      "Recording Day                    \n",
      "Alone then comp           3.1-3.3     2\n",
      "                          4.2-4.3     2\n",
      "                          3.3-3.4     2\n",
      "                          4.3-4.4     2\n",
      "                          5.2-5.3     2\n",
      "                          3.1-3.4     2\n",
      "                          4.2-4.4     2\n",
      "Both Rewarded             5.2-5.3     4\n",
      "                          4.3-4.4     4\n",
      "                          3.1-3.3     2\n",
      "                          4.2-4.4     2\n",
      "                          3.1-3.4     2\n",
      "                          4.2-4.3     2\n",
      "                          3.3-3.4     2\n",
      "Discriminatory            3.1-3.3     2\n",
      "                          4.2-4.3     2\n",
      "                          4.2-4.4     2\n",
      "                          5.2-5.3     2\n",
      "                          3.1-3.4     2\n",
      "                          4.3-4.4     2\n",
      "                          3.3-3.4     2\n",
      "Long comp                 3.1-3.3     2\n",
      "                          4.2-4.3     2\n",
      "                          3.3-3.4     2\n",
      "                          4.3-4.4     2\n",
      "                          3.1-3.4     2\n",
      "                          4.2-4.4     2\n",
      "                          5.3-5.4     2\n",
      "                          5.2-5.3     2\n",
      "                          5.2-5.4     2\n",
      "Novel                     5.2-5.3    10\n",
      "                          4.2-4.4     6\n",
      "                          3.1-3.4     6\n",
      "                          4.2-4.3     6\n",
      "                          3.1-3.3     4\n",
      "                          3.3-3.4     4\n",
      "                          4.3-4.4     4\n",
      "comp then omission/alone  4.2-4.4     6\n",
      "                          3.1-3.3     4\n",
      "                          4.3-4.4     4\n",
      "                          3.1-3.4     4\n",
      "                          5.3-5.4     4\n",
      "                          5.2-5.3     4\n",
      "                          4.2-4.3     2\n",
      "                          3.3-3.4     2\n",
      "                          5.2-5.4     2\n",
      "Name: Pair, dtype: int64\n"
     ]
    }
   ],
   "source": [
    "# Group by 'Recording Day' and calculate 'Pair' value counts for each group\n",
    "pair_counts_by_recording_day = df2.groupby('Recording Day')['Pair'].apply(lambda x: x.value_counts())\n",
    "\n",
    "# Display the result\n",
    "print(pair_counts_by_recording_day)"
   ]
  },
  {
   "cell_type": "code",
   "execution_count": 30,
   "id": "032e7433-bc9c-4034-ba52-c0db1f870ad4",
   "metadata": {
    "execution": {
     "iopub.execute_input": "2024-05-21T18:21:13.722403Z",
     "iopub.status.busy": "2024-05-21T18:21:13.722403Z",
     "iopub.status.idle": "2024-05-21T18:21:13.747030Z",
     "shell.execute_reply": "2024-05-21T18:21:13.747030Z",
     "shell.execute_reply.started": "2024-05-21T18:21:13.722403Z"
    }
   },
   "outputs": [
    {
     "data": {
      "text/plain": [
       "pandas.core.series.Series"
      ]
     },
     "execution_count": 30,
     "metadata": {},
     "output_type": "execute_result"
    }
   ],
   "source": [
    "type(pair_counts_by_recording_day)"
   ]
  },
  {
   "cell_type": "code",
   "execution_count": 32,
   "id": "0da074d8-b93b-4513-8847-f713bd21bf2a",
   "metadata": {
    "execution": {
     "iopub.execute_input": "2024-05-21T18:25:24.337055Z",
     "iopub.status.busy": "2024-05-21T18:25:24.337055Z",
     "iopub.status.idle": "2024-05-21T18:25:24.362690Z",
     "shell.execute_reply": "2024-05-21T18:25:24.362690Z",
     "shell.execute_reply.started": "2024-05-21T18:25:24.337055Z"
    }
   },
   "outputs": [],
   "source": [
    "pair_counts_by_recording_day.to_csv('RCE3_Pairs.csv')"
   ]
  },
  {
   "cell_type": "code",
   "execution_count": null,
   "id": "28770920-9311-4c6c-8777-d363234f9906",
   "metadata": {},
   "outputs": [],
   "source": []
  }
 ],
 "metadata": {
  "kernelspec": {
   "display_name": "Python 3 (ipykernel)",
   "language": "python",
   "name": "python3"
  },
  "language_info": {
   "codemirror_mode": {
    "name": "ipython",
    "version": 3
   },
   "file_extension": ".py",
   "mimetype": "text/x-python",
   "name": "python",
   "nbconvert_exporter": "python",
   "pygments_lexer": "ipython3",
   "version": "3.11.7"
  }
 },
 "nbformat": 4,
 "nbformat_minor": 5
}
