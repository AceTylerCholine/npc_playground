{
 "cells": [
  {
   "cell_type": "code",
   "execution_count": 1,
   "id": "cb6945c1-0c2d-4243-b555-1633b97f598c",
   "metadata": {
    "execution": {
     "iopub.execute_input": "2024-05-14T17:28:43.190286Z",
     "iopub.status.busy": "2024-05-14T17:28:43.190286Z",
     "iopub.status.idle": "2024-05-14T17:28:43.450048Z",
     "shell.execute_reply": "2024-05-14T17:28:43.450048Z",
     "shell.execute_reply.started": "2024-05-14T17:28:43.190286Z"
    }
   },
   "outputs": [],
   "source": [
    "import numpy as np\n",
    "\n",
    "def get_firing_rate(spiketrain, smoothing_window, timebin):\n",
    "    \"\"\"\n",
    "    calculates firing rate (spikes/second)\n",
    "\n",
    "    Args (3 total, 1 required):\n",
    "        spiketrain: numpy array, in timebin (ms) bins\n",
    "        smoothing_window: int, default=250, smoothing average window (ms)\n",
    "            min smoothing_window = 1\n",
    "        timebin: int, default = 1, timebin (ms) of spiketrain\n",
    "\n",
    "    Return (1):\n",
    "        firing_rate: numpy array of firing rates in timebin sized windows\n",
    "\n",
    "    \"\"\"\n",
    "    weights = np.ones(smoothing_window) / smoothing_window * 1000 / timebin\n",
    "    firing_rate = np.convolve(spiketrain, weights, mode=\"same\")\n",
    "\n",
    "    return firing_rate\n",
    "\n",
    "array1 = np.array([1, 5, 2, 1, 4, 5, 6, 8, 7, 4])\n",
    "\n",
    "fr1 = get_firing_rate(array1, 5, 100)"
   ]
  },
  {
   "cell_type": "code",
   "execution_count": 2,
   "id": "02c95aa8-7da0-4fbe-8d7e-6cba801706b2",
   "metadata": {
    "execution": {
     "iopub.execute_input": "2024-05-14T17:28:43.450048Z",
     "iopub.status.busy": "2024-05-14T17:28:43.450048Z",
     "iopub.status.idle": "2024-05-14T17:28:43.466215Z",
     "shell.execute_reply": "2024-05-14T17:28:43.466215Z",
     "shell.execute_reply.started": "2024-05-14T17:28:43.450048Z"
    }
   },
   "outputs": [
    {
     "data": {
      "text/plain": [
       "array([16., 18., 26., 34., 36., 48., 60., 60., 50., 38.])"
      ]
     },
     "execution_count": 2,
     "metadata": {},
     "output_type": "execute_result"
    }
   ],
   "source": [
    "fr1"
   ]
  },
  {
   "cell_type": "markdown",
   "id": "74422b41-62ab-4385-b299-b87941d35a24",
   "metadata": {
    "execution": {
     "iopub.execute_input": "2024-05-14T17:14:08.339779Z",
     "iopub.status.busy": "2024-05-14T17:14:08.339779Z",
     "iopub.status.idle": "2024-05-14T17:14:08.354301Z",
     "shell.execute_reply": "2024-05-14T17:14:08.354301Z",
     "shell.execute_reply.started": "2024-05-14T17:14:08.339779Z"
    }
   },
   "source": [
    "[?, ?, 26, 34, 36, 48, 60, 60, ?, ?]"
   ]
  },
  {
   "cell_type": "code",
   "execution_count": 3,
   "id": "acaca97f-a61a-4275-a984-76d44a21a9f9",
   "metadata": {
    "execution": {
     "iopub.execute_input": "2024-05-14T17:28:43.466215Z",
     "iopub.status.busy": "2024-05-14T17:28:43.466215Z",
     "iopub.status.idle": "2024-05-14T17:28:43.479455Z",
     "shell.execute_reply": "2024-05-14T17:28:43.479455Z",
     "shell.execute_reply.started": "2024-05-14T17:28:43.466215Z"
    }
   },
   "outputs": [
    {
     "data": {
      "text/plain": [
       "50"
      ]
     },
     "execution_count": 3,
     "metadata": {},
     "output_type": "execute_result"
    }
   ],
   "source": [
    "smoothing_window_ms = 250\n",
    "timebin = 5\n",
    "int(smoothing_window_ms / timebin)"
   ]
  },
  {
   "cell_type": "code",
   "execution_count": 4,
   "id": "e88393f8-ea36-4700-8931-2c4b59aad666",
   "metadata": {
    "execution": {
     "iopub.execute_input": "2024-05-14T17:28:43.479455Z",
     "iopub.status.busy": "2024-05-14T17:28:43.479455Z",
     "iopub.status.idle": "2024-05-14T17:28:43.492125Z",
     "shell.execute_reply": "2024-05-14T17:28:43.492125Z",
     "shell.execute_reply.started": "2024-05-14T17:28:43.479455Z"
    }
   },
   "outputs": [
    {
     "data": {
      "text/plain": [
       "50.0"
      ]
     },
     "execution_count": 4,
     "metadata": {},
     "output_type": "execute_result"
    }
   ],
   "source": [
    "250/5"
   ]
  },
  {
   "cell_type": "code",
   "execution_count": 5,
   "id": "6d790b62-8d62-4dbd-bf3e-99286c8023bf",
   "metadata": {
    "execution": {
     "iopub.execute_input": "2024-05-14T17:28:43.492125Z",
     "iopub.status.busy": "2024-05-14T17:28:43.492125Z",
     "iopub.status.idle": "2024-05-14T17:28:44.607299Z",
     "shell.execute_reply": "2024-05-14T17:28:44.607299Z",
     "shell.execute_reply.started": "2024-05-14T17:28:43.492125Z"
    }
   },
   "outputs": [],
   "source": [
    "from scipy.stats import wilcoxon\n",
    "\n",
    "arraya = [1,2,3,4]\n",
    "arrayb = [5,6,7,8]\n",
    "test_stat, test_p_value = wilcoxon(arraya, arrayb)"
   ]
  },
  {
   "cell_type": "code",
   "execution_count": 6,
   "id": "db72d947-4ce3-4332-8bbc-38204e635992",
   "metadata": {
    "execution": {
     "iopub.execute_input": "2024-05-14T17:28:44.609812Z",
     "iopub.status.busy": "2024-05-14T17:28:44.609812Z",
     "iopub.status.idle": "2024-05-14T17:28:44.618447Z",
     "shell.execute_reply": "2024-05-14T17:28:44.618447Z",
     "shell.execute_reply.started": "2024-05-14T17:28:44.609812Z"
    }
   },
   "outputs": [
    {
     "data": {
      "text/plain": [
       "0.125"
      ]
     },
     "execution_count": 6,
     "metadata": {},
     "output_type": "execute_result"
    }
   ],
   "source": [
    "test_p_value"
   ]
  },
  {
   "cell_type": "code",
   "execution_count": 7,
   "id": "14638ca6-36df-477f-92ff-41682ef63ad9",
   "metadata": {
    "execution": {
     "iopub.execute_input": "2024-05-14T17:28:44.618447Z",
     "iopub.status.busy": "2024-05-14T17:28:44.618447Z",
     "iopub.status.idle": "2024-05-14T17:29:12.026417Z",
     "shell.execute_reply": "2024-05-14T17:29:12.026417Z",
     "shell.execute_reply.started": "2024-05-14T17:28:44.618447Z"
    }
   },
   "outputs": [
    {
     "name": "stdout",
     "output_type": "stream",
     "text": [
      "<class 'numpy.ndarray'>\n",
      "<class 'numpy.ndarray'>\n",
      "Unit 92 is unsorted & has 2494 spikes\n",
      "Unit 92 will be deleted\n",
      "20230622_110832_standard_comp_to_both_rewarded_D1_subj_1-1_t1b3L_box1_merged.rec\n",
      "<class 'numpy.ndarray'>\n",
      "<class 'numpy.ndarray'>\n",
      "Unit 103 is unsorted & has 512 spikes\n",
      "Unit 103 will be deleted\n",
      "20230622_110832_standard_comp_to_both_rewarded_D1_subj_1-2_t3b3L_box1_merged.rec\n",
      "<class 'numpy.ndarray'>\n",
      "<class 'numpy.ndarray'>\n",
      "20230624_105855_standard_comp_to_both_rewarded_D3_subj_1-2_t1b2L_box1_merged.rec\n",
      "<class 'numpy.ndarray'>\n",
      "<class 'numpy.ndarray'>\n",
      "20230624_105855_standard_comp_to_both_rewarded_D3_subj_1-4_t3b3L_box1_merged.rec\n",
      "<class 'numpy.ndarray'>\n",
      "<class 'numpy.ndarray'>\n",
      "20230625_112913_standard_comp_to_both_rewarded_D4_subj_1-1_t1b2L_box1_merged.rec\n",
      "<class 'numpy.ndarray'>\n",
      "<class 'numpy.ndarray'>\n",
      "Unit 96 is unsorted & has 5811 spikes\n",
      "Unit 96 will be deleted\n",
      "Unit 95 is unsorted & has 6458 spikes\n",
      "Unit 95 will be deleted\n",
      "20230625_112913_standard_comp_to_both_rewarded_D4_subj_1-4_t3b3L_box1_merged.rec\n",
      "Please assign event dictionaries to each recording\n",
      "as recording.event_dict\n",
      "event_dict = {event name(str): np.array[[start(ms), stop(ms)]...]\n",
      "Please assign subjects to each recording as recording.subject\n"
     ]
    }
   ],
   "source": [
    "import pandas as pd\n",
    "import numpy as np\n",
    "import ast\n",
    "import pickle\n",
    "from pathlib import Path\n",
    "import matplotlib.pyplot as plt\n",
    "import spikeanal as spike\n",
    "from matplotlib_venn import venn2\n",
    "from matplotlib_venn import venn3\n",
    "\n",
    "cols = ['condition ', 'session_dir', 'all_subjects', 'tone_start_timestamp', 'tone_stop_timestamp']\n",
    "\n",
    "# Load the data\n",
    "df = pd.read_excel('rce_pilot_2_per_video_trial_labels.xlsx', usecols=cols, engine='openpyxl')\n",
    "\n",
    "df2 = df.dropna() # Drop the rows missing data\n",
    "df3 = df2.copy()\n",
    "df3['all_subjects'] = df3['all_subjects'].apply(lambda x: ast.literal_eval(x) if isinstance(x, str) else x) # Make the 'all_subjects' column readable as a list\n",
    "df4 = df3[df3['all_subjects'].apply(lambda x: len(x) < 3)] # Ignore novel sessions for now\n",
    "\n",
    "# Initialize an empty list to collect data for the new DataFrame\n",
    "new_df_data = []\n",
    "\n",
    "for _, row in df4.iterrows():\n",
    "    session_dir = row['session_dir']\n",
    "    subjects = row['all_subjects']\n",
    "    condition = row['condition ']\n",
    "\n",
    "    # Split session_dir on '_subj_' and take the first part only\n",
    "    # This ensures everything after '_subj_' is ignored\n",
    "    base_session_dir = session_dir.split('_subj_')[0]\n",
    "\n",
    "    for subject in subjects:\n",
    "        subject_formatted = subject.replace('.', '-')\n",
    "        # Append formatted subject to the base session_dir correctly\n",
    "        subj_recording = f\"{base_session_dir}_subj_{subject_formatted}\"\n",
    "        new_df_data.append({\n",
    "            'session_dir': session_dir,\n",
    "            'subject': subject,\n",
    "            'subj_recording': subj_recording,\n",
    "            'condition': condition if condition in ['rewarded', 'omission', 'both_rewarded', 'tie'] else ('win' if str(condition) == str(subject) else 'lose'),\n",
    "            'tone_start_timestamp': row['tone_start_timestamp'],\n",
    "            'tone_stop_timestamp': row['tone_stop_timestamp']\n",
    "        })\n",
    "\n",
    "# Convert list to DataFrame\n",
    "new_df = pd.DataFrame(new_df_data)\n",
    "new_df = new_df.drop_duplicates()\n",
    "\n",
    "# Prepare timestamp_dicts from new_df\n",
    "timestamp_dicts = {}\n",
    "for _, row in new_df.iterrows():\n",
    "    key = row['subj_recording']\n",
    "    condition = row['condition']\n",
    "    timestamp_start = int(row['tone_start_timestamp']) // 20\n",
    "    timestamp_end = int(row['tone_stop_timestamp']) // 20\n",
    "    tuple_val = (timestamp_start, timestamp_end)\n",
    "\n",
    "    if key not in timestamp_dicts:\n",
    "        timestamp_dicts[key] = {cond: [] for cond in ['rewarded', 'win', 'lose', 'omission', 'both_rewarded', 'tie']}\n",
    "    timestamp_dicts[key][condition].append(tuple_val)\n",
    "\n",
    "# Convert lists in timestamp_dicts to numpy arrays\n",
    "for subj_recording in timestamp_dicts:\n",
    "    for condition in timestamp_dicts[subj_recording]:\n",
    "        timestamp_dicts[subj_recording][condition] = np.array(timestamp_dicts[subj_recording][condition], dtype=np.int64)\n",
    "        \n",
    "\n",
    "# Construct the path in a platform-independent way (HiPerGator or Windows)\n",
    "ephys_path = Path('.') / 'export' / 'updated_phys' / 'non-novel' / 'both_rewarded'\n",
    "\n",
    "ephys_data = spike.EphysRecordingCollection(str(ephys_path))"
   ]
  },
  {
   "cell_type": "code",
   "execution_count": 8,
   "id": "070ef39c-2d3d-4f6f-946f-281d563f20f7",
   "metadata": {
    "execution": {
     "iopub.execute_input": "2024-05-14T17:29:12.029430Z",
     "iopub.status.busy": "2024-05-14T17:29:12.029430Z",
     "iopub.status.idle": "2024-05-14T17:29:28.287663Z",
     "shell.execute_reply": "2024-05-14T17:29:28.282644Z",
     "shell.execute_reply.started": "2024-05-14T17:29:12.029430Z"
    }
   },
   "outputs": [
    {
     "name": "stdout",
     "output_type": "stream",
     "text": [
      "All set to analyze\n"
     ]
    }
   ],
   "source": [
    "for recording in ephys_data.collection.keys():\n",
    "    # Check if the recording key (without everything after subject #) is in timestamp_dicts\n",
    "    start_pos = recording.find('subj_')\n",
    "    # Add the length of 'subj_' and 3 additional characters to include after 'subj_'\n",
    "    end_pos = start_pos + len('subj_') + 3\n",
    "    # Slice the recording key to get everything up to and including the subject identifier plus three characters\n",
    "    recording_key_without_suffix = recording[:end_pos]\n",
    "    if recording_key_without_suffix in timestamp_dicts:\n",
    "        # Assign the corresponding timestamp_dicts dictionary to event_dict\n",
    "        ephys_data.collection[recording].event_dict = timestamp_dicts[recording_key_without_suffix]\n",
    "        \n",
    "        # Extract the subject from the recording key\n",
    "        start = recording.find('subj_') + 5  # Start index after 'subj_'\n",
    "        subject = recording[start:start+3]\n",
    "        \n",
    "        # Assign the extracted subject\n",
    "        ephys_data.collection[recording].subject = subject\n",
    "        \n",
    "spike_analysis = spike.SpikeAnalysis_MultiRecording(ephys_data, timebin = 5, smoothing_window=250, ignore_freq = 0.5)"
   ]
  },
  {
   "cell_type": "code",
   "execution_count": 9,
   "id": "cae66048-ddcb-4856-a922-a69990a0eb07",
   "metadata": {
    "execution": {
     "iopub.execute_input": "2024-05-14T17:29:28.303310Z",
     "iopub.status.busy": "2024-05-14T17:29:28.303310Z",
     "iopub.status.idle": "2024-05-14T17:29:51.257343Z",
     "shell.execute_reply": "2024-05-14T17:29:51.257343Z",
     "shell.execute_reply.started": "2024-05-14T17:29:28.303310Z"
    }
   },
   "outputs": [
    {
     "name": "stderr",
     "output_type": "stream",
     "text": [
      "C:\\Users\\short\\anaconda3\\Lib\\site-packages\\scipy\\stats\\_morestats.py:4102: UserWarning: Sample size too small for normal approximation.\n",
      "  warnings.warn(\"Sample size too small for normal approximation.\")\n",
      "C:\\Users\\short\\anaconda3\\Lib\\site-packages\\scipy\\stats\\_morestats.py:4102: UserWarning: Sample size too small for normal approximation.\n",
      "  warnings.warn(\"Sample size too small for normal approximation.\")\n",
      "C:\\Users\\short\\anaconda3\\Lib\\site-packages\\scipy\\stats\\_morestats.py:4102: UserWarning: Sample size too small for normal approximation.\n",
      "  warnings.warn(\"Sample size too small for normal approximation.\")\n",
      "C:\\Users\\short\\anaconda3\\Lib\\site-packages\\scipy\\stats\\_morestats.py:4102: UserWarning: Sample size too small for normal approximation.\n",
      "  warnings.warn(\"Sample size too small for normal approximation.\")\n",
      "C:\\Users\\short\\anaconda3\\Lib\\site-packages\\scipy\\stats\\_morestats.py:4102: UserWarning: Sample size too small for normal approximation.\n",
      "  warnings.warn(\"Sample size too small for normal approximation.\")\n",
      "C:\\Users\\short\\anaconda3\\Lib\\site-packages\\scipy\\stats\\_morestats.py:4102: UserWarning: Sample size too small for normal approximation.\n",
      "  warnings.warn(\"Sample size too small for normal approximation.\")\n"
     ]
    }
   ],
   "source": [
    "first5_win_df = spike_analysis.wilcox_baseline_v_event_collection(event='win', equalize=5, baseline_window=10, offset=0,  plot=False)\n",
    "first5_lose_df = spike_analysis.wilcox_baseline_v_event_collection(event='lose', equalize=5, baseline_window=10, offset=0,  plot=False)\n",
    "first5_both_rewarded_df = spike_analysis.wilcox_baseline_v_event_collection(event='both_rewarded', equalize=5, baseline_window=10, offset=0,  plot=False)\n",
    "\n",
    "last5_win_df = spike_analysis.wilcox_baseline_v_event_collection(event='win', equalize=5, baseline_window=10, offset=-5,  plot=False)\n",
    "last5_lose_df = spike_analysis.wilcox_baseline_v_event_collection(event='lose', equalize=5, baseline_window=10, offset=-5,  plot=False)\n",
    "last5_both_rewarded_df = spike_analysis.wilcox_baseline_v_event_collection(event='both_rewarded', equalize=5, baseline_window=10, offset=-5,  plot=False)"
   ]
  },
  {
   "cell_type": "code",
   "execution_count": 10,
   "id": "ac84bb7d-b53a-405c-840a-8632934c6df1",
   "metadata": {
    "execution": {
     "iopub.execute_input": "2024-05-14T17:29:51.257343Z",
     "iopub.status.busy": "2024-05-14T17:29:51.257343Z",
     "iopub.status.idle": "2024-05-14T17:29:51.407669Z",
     "shell.execute_reply": "2024-05-14T17:29:51.407669Z",
     "shell.execute_reply.started": "2024-05-14T17:29:51.257343Z"
    }
   },
   "outputs": [],
   "source": [
    "def aggregate_event_data(df_list, time_segment):\n",
    "    # Step 1: Concatenate the DataFrames\n",
    "    combined_df = pd.concat(df_list)\n",
    "\n",
    "    # Function to extract just the event name\n",
    "    def extract_event_name(event):\n",
    "        # Remove any leading time duration from the event string\n",
    "        parts = event.split(' vs ')\n",
    "        event_name = parts[0].split(' ')[-1]  # Splits by space and takes the last part, removing any time prefix\n",
    "        return event_name\n",
    "\n",
    "    # Initialize an empty dictionary to hold aggregated data\n",
    "    aggregated_data = {}\n",
    "\n",
    "    # Iterate over the rows of the combined DataFrame\n",
    "    for index, row in combined_df.iterrows():\n",
    "        # Extract event name\n",
    "        event_name = extract_event_name(row['Event'])\n",
    "        # Construct a unique key for each combination of recording, subject, and unit id\n",
    "        key = (row['Recording'], row['Subject'], row['original unit id'])\n",
    "        \n",
    "        # Initialize the entry if not exists\n",
    "        if key not in aggregated_data:\n",
    "            aggregated_data[key] = {'sig_increase_events': set(), 'sig_decrease_events': set(), 'insig_events': set()}\n",
    "        \n",
    "        # Append the event name to the appropriate category based on 'event1 vs event2'\n",
    "        if row['event1 vs event2'] == 'increases':\n",
    "            aggregated_data[key]['sig_increase_events'].add(event_name)\n",
    "        elif row['event1 vs event2'] == 'decreases':\n",
    "            aggregated_data[key]['sig_decrease_events'].add(event_name)\n",
    "        else:\n",
    "            aggregated_data[key]['insig_events'].add(event_name)\n",
    "\n",
    "    # Convert the aggregated data into a DataFrame\n",
    "    rows = []\n",
    "    for (recording, subject, unit_id), categories in aggregated_data.items():\n",
    "        row = {\n",
    "            'Recording': recording,\n",
    "            'Subject': subject,\n",
    "            'original unit id': unit_id,\n",
    "            'sig_increase_events': ', '.join(categories['sig_increase_events']),\n",
    "            'sig_decrease_events': ', '.join(categories['sig_decrease_events']),\n",
    "            'insig_events': ', '.join(categories['insig_events']),\n",
    "        }\n",
    "        rows.append(row)\n",
    "\n",
    "    aggregated_df = pd.DataFrame(rows)\n",
    "    aggregated_df['sig_events'] = aggregated_df.apply(\n",
    "        lambda row: ', '.join(filter(None, [row['sig_increase_events'], row['sig_decrease_events']])), axis=1)\n",
    "\n",
    "    # Function to normalize event strings\n",
    "    def normalize_event_string(event_string):\n",
    "        event_list = event_string.split(', ')\n",
    "        event_list_sorted = sorted(event_list)  # Sort the list to ensure consistent order\n",
    "        return ', '.join(event_list_sorted)  # Join the sorted list back into a string\n",
    "\n",
    "    # Apply the normalization function to the 'sig_events' column before counting\n",
    "    aggregated_df['sig_events'] = aggregated_df['sig_events'].apply(normalize_event_string)\n",
    "\n",
    "    # Count the unique combinations of significant events\n",
    "    sig_events_counts = aggregated_df['sig_events'].value_counts()\n",
    "\n",
    "    # Rename the empty strings to 'non-specific'\n",
    "    sig_events_counts = sig_events_counts.rename(index={'': 'Non-Responsive'})\n",
    "\n",
    "    return aggregated_df, sig_events_counts\n",
    "\n",
    "# Usage\n",
    "first5_dfs = [first5_win_df, first5_lose_df, first5_both_rewarded_df]\n",
    "last5_dfs = [last5_win_df, last5_lose_df, last5_both_rewarded_df]\n",
    "\n",
    "first5_aggregated_df, first5_sig_events_counts = aggregate_event_data(first5_dfs, 'first 5 seconds')\n",
    "last5_aggregated_df, last5_sig_events_counts = aggregate_event_data(last5_dfs, 'last 5 seconds')"
   ]
  },
  {
   "cell_type": "code",
   "execution_count": 11,
   "id": "7f0e52f9-245d-4a3a-a39e-812ff591a4e4",
   "metadata": {
    "execution": {
     "iopub.execute_input": "2024-05-14T17:29:51.413179Z",
     "iopub.status.busy": "2024-05-14T17:29:51.407669Z",
     "iopub.status.idle": "2024-05-14T17:29:51.517798Z",
     "shell.execute_reply": "2024-05-14T17:29:51.517798Z",
     "shell.execute_reply.started": "2024-05-14T17:29:51.413179Z"
    }
   },
   "outputs": [
    {
     "data": {
      "text/html": [
       "<div>\n",
       "<style scoped>\n",
       "    .dataframe tbody tr th:only-of-type {\n",
       "        vertical-align: middle;\n",
       "    }\n",
       "\n",
       "    .dataframe tbody tr th {\n",
       "        vertical-align: top;\n",
       "    }\n",
       "\n",
       "    .dataframe thead th {\n",
       "        text-align: right;\n",
       "    }\n",
       "</style>\n",
       "<table border=\"1\" class=\"dataframe\">\n",
       "  <thead>\n",
       "    <tr style=\"text-align: right;\">\n",
       "      <th></th>\n",
       "      <th>Recording</th>\n",
       "      <th>Subject</th>\n",
       "      <th>original unit id</th>\n",
       "      <th>first5_sig_increase_events</th>\n",
       "      <th>first5_sig_decrease_events</th>\n",
       "      <th>first5_insig_events</th>\n",
       "      <th>first5_sig_events</th>\n",
       "      <th>last5_sig_increase_events</th>\n",
       "      <th>last5_sig_decrease_events</th>\n",
       "      <th>last5_insig_events</th>\n",
       "      <th>last5_sig_events</th>\n",
       "    </tr>\n",
       "  </thead>\n",
       "  <tbody>\n",
       "    <tr>\n",
       "      <th>0</th>\n",
       "      <td>20230622_110832_standard_comp_to_both_rewarded...</td>\n",
       "      <td>1-1</td>\n",
       "      <td>9</td>\n",
       "      <td></td>\n",
       "      <td></td>\n",
       "      <td>lose, both_rewarded, win</td>\n",
       "      <td></td>\n",
       "      <td></td>\n",
       "      <td></td>\n",
       "      <td>lose, both_rewarded, win</td>\n",
       "      <td></td>\n",
       "    </tr>\n",
       "    <tr>\n",
       "      <th>1</th>\n",
       "      <td>20230622_110832_standard_comp_to_both_rewarded...</td>\n",
       "      <td>1-1</td>\n",
       "      <td>24</td>\n",
       "      <td></td>\n",
       "      <td></td>\n",
       "      <td>lose, both_rewarded, win</td>\n",
       "      <td></td>\n",
       "      <td></td>\n",
       "      <td></td>\n",
       "      <td>lose, both_rewarded, win</td>\n",
       "      <td></td>\n",
       "    </tr>\n",
       "    <tr>\n",
       "      <th>2</th>\n",
       "      <td>20230622_110832_standard_comp_to_both_rewarded...</td>\n",
       "      <td>1-1</td>\n",
       "      <td>76</td>\n",
       "      <td></td>\n",
       "      <td></td>\n",
       "      <td>lose, both_rewarded, win</td>\n",
       "      <td></td>\n",
       "      <td></td>\n",
       "      <td></td>\n",
       "      <td>lose, both_rewarded, win</td>\n",
       "      <td></td>\n",
       "    </tr>\n",
       "    <tr>\n",
       "      <th>3</th>\n",
       "      <td>20230622_110832_standard_comp_to_both_rewarded...</td>\n",
       "      <td>1-1</td>\n",
       "      <td>10</td>\n",
       "      <td></td>\n",
       "      <td></td>\n",
       "      <td>lose, both_rewarded, win</td>\n",
       "      <td></td>\n",
       "      <td></td>\n",
       "      <td></td>\n",
       "      <td>lose, both_rewarded, win</td>\n",
       "      <td></td>\n",
       "    </tr>\n",
       "    <tr>\n",
       "      <th>4</th>\n",
       "      <td>20230622_110832_standard_comp_to_both_rewarded...</td>\n",
       "      <td>1-1</td>\n",
       "      <td>94</td>\n",
       "      <td></td>\n",
       "      <td></td>\n",
       "      <td>lose, both_rewarded, win</td>\n",
       "      <td></td>\n",
       "      <td></td>\n",
       "      <td></td>\n",
       "      <td>lose, both_rewarded, win</td>\n",
       "      <td></td>\n",
       "    </tr>\n",
       "    <tr>\n",
       "      <th>...</th>\n",
       "      <td>...</td>\n",
       "      <td>...</td>\n",
       "      <td>...</td>\n",
       "      <td>...</td>\n",
       "      <td>...</td>\n",
       "      <td>...</td>\n",
       "      <td>...</td>\n",
       "      <td>...</td>\n",
       "      <td>...</td>\n",
       "      <td>...</td>\n",
       "      <td>...</td>\n",
       "    </tr>\n",
       "    <tr>\n",
       "      <th>116</th>\n",
       "      <td>20230625_112913_standard_comp_to_both_rewarded...</td>\n",
       "      <td>1-4</td>\n",
       "      <td>39</td>\n",
       "      <td></td>\n",
       "      <td></td>\n",
       "      <td>lose, both_rewarded, win</td>\n",
       "      <td></td>\n",
       "      <td></td>\n",
       "      <td></td>\n",
       "      <td>lose, both_rewarded, win</td>\n",
       "      <td></td>\n",
       "    </tr>\n",
       "    <tr>\n",
       "      <th>117</th>\n",
       "      <td>20230625_112913_standard_comp_to_both_rewarded...</td>\n",
       "      <td>1-4</td>\n",
       "      <td>17</td>\n",
       "      <td></td>\n",
       "      <td></td>\n",
       "      <td>lose, both_rewarded, win</td>\n",
       "      <td></td>\n",
       "      <td>lose</td>\n",
       "      <td></td>\n",
       "      <td>both_rewarded, win</td>\n",
       "      <td>lose</td>\n",
       "    </tr>\n",
       "    <tr>\n",
       "      <th>118</th>\n",
       "      <td>20230625_112913_standard_comp_to_both_rewarded...</td>\n",
       "      <td>1-4</td>\n",
       "      <td>15</td>\n",
       "      <td></td>\n",
       "      <td></td>\n",
       "      <td>lose, both_rewarded, win</td>\n",
       "      <td></td>\n",
       "      <td></td>\n",
       "      <td></td>\n",
       "      <td>lose, both_rewarded, win</td>\n",
       "      <td></td>\n",
       "    </tr>\n",
       "    <tr>\n",
       "      <th>119</th>\n",
       "      <td>20230625_112913_standard_comp_to_both_rewarded...</td>\n",
       "      <td>1-4</td>\n",
       "      <td>27</td>\n",
       "      <td></td>\n",
       "      <td></td>\n",
       "      <td>lose, both_rewarded, win</td>\n",
       "      <td></td>\n",
       "      <td></td>\n",
       "      <td></td>\n",
       "      <td>lose, both_rewarded, win</td>\n",
       "      <td></td>\n",
       "    </tr>\n",
       "    <tr>\n",
       "      <th>120</th>\n",
       "      <td>20230625_112913_standard_comp_to_both_rewarded...</td>\n",
       "      <td>1-4</td>\n",
       "      <td>11</td>\n",
       "      <td>lose</td>\n",
       "      <td></td>\n",
       "      <td>both_rewarded, win</td>\n",
       "      <td>lose</td>\n",
       "      <td></td>\n",
       "      <td></td>\n",
       "      <td>lose, both_rewarded, win</td>\n",
       "      <td></td>\n",
       "    </tr>\n",
       "  </tbody>\n",
       "</table>\n",
       "<p>121 rows × 11 columns</p>\n",
       "</div>"
      ],
      "text/plain": [
       "                                             Recording Subject  \\\n",
       "0    20230622_110832_standard_comp_to_both_rewarded...     1-1   \n",
       "1    20230622_110832_standard_comp_to_both_rewarded...     1-1   \n",
       "2    20230622_110832_standard_comp_to_both_rewarded...     1-1   \n",
       "3    20230622_110832_standard_comp_to_both_rewarded...     1-1   \n",
       "4    20230622_110832_standard_comp_to_both_rewarded...     1-1   \n",
       "..                                                 ...     ...   \n",
       "116  20230625_112913_standard_comp_to_both_rewarded...     1-4   \n",
       "117  20230625_112913_standard_comp_to_both_rewarded...     1-4   \n",
       "118  20230625_112913_standard_comp_to_both_rewarded...     1-4   \n",
       "119  20230625_112913_standard_comp_to_both_rewarded...     1-4   \n",
       "120  20230625_112913_standard_comp_to_both_rewarded...     1-4   \n",
       "\n",
       "     original unit id first5_sig_increase_events first5_sig_decrease_events  \\\n",
       "0                   9                                                         \n",
       "1                  24                                                         \n",
       "2                  76                                                         \n",
       "3                  10                                                         \n",
       "4                  94                                                         \n",
       "..                ...                        ...                        ...   \n",
       "116                39                                                         \n",
       "117                17                                                         \n",
       "118                15                                                         \n",
       "119                27                                                         \n",
       "120                11                       lose                              \n",
       "\n",
       "          first5_insig_events first5_sig_events last5_sig_increase_events  \\\n",
       "0    lose, both_rewarded, win                                               \n",
       "1    lose, both_rewarded, win                                               \n",
       "2    lose, both_rewarded, win                                               \n",
       "3    lose, both_rewarded, win                                               \n",
       "4    lose, both_rewarded, win                                               \n",
       "..                        ...               ...                       ...   \n",
       "116  lose, both_rewarded, win                                               \n",
       "117  lose, both_rewarded, win                                        lose   \n",
       "118  lose, both_rewarded, win                                               \n",
       "119  lose, both_rewarded, win                                               \n",
       "120        both_rewarded, win              lose                             \n",
       "\n",
       "    last5_sig_decrease_events        last5_insig_events last5_sig_events  \n",
       "0                              lose, both_rewarded, win                   \n",
       "1                              lose, both_rewarded, win                   \n",
       "2                              lose, both_rewarded, win                   \n",
       "3                              lose, both_rewarded, win                   \n",
       "4                              lose, both_rewarded, win                   \n",
       "..                        ...                       ...              ...  \n",
       "116                            lose, both_rewarded, win                   \n",
       "117                                  both_rewarded, win             lose  \n",
       "118                            lose, both_rewarded, win                   \n",
       "119                            lose, both_rewarded, win                   \n",
       "120                            lose, both_rewarded, win                   \n",
       "\n",
       "[121 rows x 11 columns]"
      ]
     },
     "execution_count": 11,
     "metadata": {},
     "output_type": "execute_result"
    }
   ],
   "source": [
    "# Add prefixes to distinguish between first 5 and last 5 seconds\n",
    "first5_aggregated_df = first5_aggregated_df.add_prefix('first5_')\n",
    "last5_aggregated_df = last5_aggregated_df.add_prefix('last5_')\n",
    "\n",
    "# Rename the keys for merging to be the same\n",
    "first5_aggregated_df.rename(columns={\n",
    "    'first5_Recording': 'Recording',\n",
    "    'first5_Subject': 'Subject',\n",
    "    'first5_original unit id': 'original unit id'\n",
    "}, inplace=True)\n",
    "\n",
    "last5_aggregated_df.rename(columns={\n",
    "    'last5_Recording': 'Recording',\n",
    "    'last5_Subject': 'Subject',\n",
    "    'last5_original unit id': 'original unit id'\n",
    "}, inplace=True)\n",
    "\n",
    "# Merge the dataframes on Recording, Subject, and original unit id\n",
    "merged_df = pd.merge(\n",
    "    first5_aggregated_df,\n",
    "    last5_aggregated_df,\n",
    "    on=['Recording', 'Subject', 'original unit id'],\n",
    "    how='outer'  # You can choose 'inner' if you only want units present in both or 'outer' to keep all units\n",
    ")\n",
    "\n",
    "# Show the result to confirm it merged as expected\n",
    "merged_df"
   ]
  },
  {
   "cell_type": "code",
   "execution_count": 12,
   "id": "b89c8ee2-0cd8-49dd-89e3-1c7dd32f3e47",
   "metadata": {
    "execution": {
     "iopub.execute_input": "2024-05-14T17:29:51.517798Z",
     "iopub.status.busy": "2024-05-14T17:29:51.517798Z",
     "iopub.status.idle": "2024-05-14T17:29:51.546714Z",
     "shell.execute_reply": "2024-05-14T17:29:51.546714Z",
     "shell.execute_reply.started": "2024-05-14T17:29:51.517798Z"
    }
   },
   "outputs": [],
   "source": [
    "# Function to convert event strings to sets\n",
    "def convert_to_set(event_string):\n",
    "    return set(event_string.split(', ')) if event_string else set()\n",
    "\n",
    "merged_df1 = merged_df.copy()\n",
    "\n",
    "# Apply conversion to DataFrame\n",
    "merged_df1['first5_set'] = merged_df['first5_sig_events'].apply(convert_to_set)\n",
    "merged_df1['last5_set'] = merged_df['last5_sig_events'].apply(convert_to_set)\n",
    "\n",
    "# Define the logic for determining the result\n",
    "def determine_result(row):\n",
    "    first_set = row['first5_set']\n",
    "    last_set = row['last5_set']\n",
    "    if not first_set and not last_set:\n",
    "        return 'non-responsive'\n",
    "    if first_set == last_set:\n",
    "        if len(first_set) > 1:\n",
    "            return 'multi-event_same'\n",
    "        return ', '.join(first_set)\n",
    "    if first_set.isdisjoint(last_set):\n",
    "        return 'multi-event_different' if first_set and last_set else ('first5_' + ', '.join(first_set) if first_set else 'last5_' + ', '.join(last_set))\n",
    "    return 'single-event_different'\n",
    "\n",
    "# Apply the determination function to each row\n",
    "merged_df1['Result'] = merged_df1.apply(determine_result, axis=1)"
   ]
  },
  {
   "cell_type": "code",
   "execution_count": 13,
   "id": "71677671-317c-4baa-a30b-fa8cca516662",
   "metadata": {
    "execution": {
     "iopub.execute_input": "2024-05-14T17:29:51.546714Z",
     "iopub.status.busy": "2024-05-14T17:29:51.546714Z",
     "iopub.status.idle": "2024-05-14T17:29:51.578624Z",
     "shell.execute_reply": "2024-05-14T17:29:51.576594Z",
     "shell.execute_reply.started": "2024-05-14T17:29:51.546714Z"
    }
   },
   "outputs": [
    {
     "data": {
      "text/html": [
       "<div>\n",
       "<style scoped>\n",
       "    .dataframe tbody tr th:only-of-type {\n",
       "        vertical-align: middle;\n",
       "    }\n",
       "\n",
       "    .dataframe tbody tr th {\n",
       "        vertical-align: top;\n",
       "    }\n",
       "\n",
       "    .dataframe thead th {\n",
       "        text-align: right;\n",
       "    }\n",
       "</style>\n",
       "<table border=\"1\" class=\"dataframe\">\n",
       "  <thead>\n",
       "    <tr style=\"text-align: right;\">\n",
       "      <th></th>\n",
       "      <th>first5_sig_events</th>\n",
       "      <th>last5_sig_events</th>\n",
       "    </tr>\n",
       "  </thead>\n",
       "  <tbody>\n",
       "    <tr>\n",
       "      <th>0</th>\n",
       "      <td></td>\n",
       "      <td></td>\n",
       "    </tr>\n",
       "    <tr>\n",
       "      <th>1</th>\n",
       "      <td></td>\n",
       "      <td>lose</td>\n",
       "    </tr>\n",
       "    <tr>\n",
       "      <th>2</th>\n",
       "      <td></td>\n",
       "      <td>both_rewarded</td>\n",
       "    </tr>\n",
       "    <tr>\n",
       "      <th>3</th>\n",
       "      <td></td>\n",
       "      <td>win</td>\n",
       "    </tr>\n",
       "    <tr>\n",
       "      <th>4</th>\n",
       "      <td></td>\n",
       "      <td>both_rewarded; lose</td>\n",
       "    </tr>\n",
       "    <tr>\n",
       "      <th>...</th>\n",
       "      <td>...</td>\n",
       "      <td>...</td>\n",
       "    </tr>\n",
       "    <tr>\n",
       "      <th>59</th>\n",
       "      <td>both_rewarded; lose; win</td>\n",
       "      <td>win</td>\n",
       "    </tr>\n",
       "    <tr>\n",
       "      <th>60</th>\n",
       "      <td>both_rewarded; lose; win</td>\n",
       "      <td>both_rewarded; lose</td>\n",
       "    </tr>\n",
       "    <tr>\n",
       "      <th>61</th>\n",
       "      <td>both_rewarded; lose; win</td>\n",
       "      <td>lose; win</td>\n",
       "    </tr>\n",
       "    <tr>\n",
       "      <th>62</th>\n",
       "      <td>both_rewarded; lose; win</td>\n",
       "      <td>both_rewarded; win</td>\n",
       "    </tr>\n",
       "    <tr>\n",
       "      <th>63</th>\n",
       "      <td>both_rewarded; lose; win</td>\n",
       "      <td>both_rewarded; lose; win</td>\n",
       "    </tr>\n",
       "  </tbody>\n",
       "</table>\n",
       "<p>64 rows × 2 columns</p>\n",
       "</div>"
      ],
      "text/plain": [
       "           first5_sig_events          last5_sig_events\n",
       "0                                                     \n",
       "1                                                 lose\n",
       "2                                        both_rewarded\n",
       "3                                                  win\n",
       "4                                  both_rewarded; lose\n",
       "..                       ...                       ...\n",
       "59  both_rewarded; lose; win                       win\n",
       "60  both_rewarded; lose; win       both_rewarded; lose\n",
       "61  both_rewarded; lose; win                 lose; win\n",
       "62  both_rewarded; lose; win        both_rewarded; win\n",
       "63  both_rewarded; lose; win  both_rewarded; lose; win\n",
       "\n",
       "[64 rows x 2 columns]"
      ]
     },
     "execution_count": 13,
     "metadata": {},
     "output_type": "execute_result"
    }
   ],
   "source": [
    "from itertools import combinations, chain\n",
    "\n",
    "def generate_combinations(events):\n",
    "    # Generate all combinations of the events list\n",
    "    comb = (combinations(events, r) for r in range(len(events) + 1))\n",
    "    # Flatten the list of combinations and convert each to a sorted tuple\n",
    "    flat_comb = ['; '.join(sorted(c)) for sublist in comb for c in sublist if c]\n",
    "    return [''] + flat_comb  # Include the empty set\n",
    "\n",
    "# Define the possible events\n",
    "events = ['lose', 'both_rewarded', 'win']\n",
    "\n",
    "# Generate combinations for first5 and last5\n",
    "first5_combinations = generate_combinations(events)\n",
    "last5_combinations = generate_combinations(events)\n",
    "\n",
    "# Create a DataFrame from all pairs of combinations\n",
    "data = [(f5, l5) for f5 in first5_combinations for l5 in last5_combinations]\n",
    "combinations_df = pd.DataFrame(data, columns=['first5_sig_events', 'last5_sig_events'])\n",
    "\n",
    "combinations_df"
   ]
  },
  {
   "cell_type": "code",
   "execution_count": 14,
   "id": "ef732142-5b2b-45b6-9e74-1e7c4c6491c5",
   "metadata": {
    "execution": {
     "iopub.execute_input": "2024-05-14T17:29:51.578624Z",
     "iopub.status.busy": "2024-05-14T17:29:51.578624Z",
     "iopub.status.idle": "2024-05-14T17:29:51.611479Z",
     "shell.execute_reply": "2024-05-14T17:29:51.611479Z",
     "shell.execute_reply.started": "2024-05-14T17:29:51.578624Z"
    }
   },
   "outputs": [
    {
     "data": {
      "text/plain": [
       "Result\n",
       "single-event_different             42\n",
       "non-responsive                      1\n",
       "both_rewarded                       1\n",
       "first5_both_rewarded; lose; win     1\n",
       "both_rewarded; win                  1\n",
       "first5_both_rewarded; win           1\n",
       "lose; win                           1\n",
       "first5_lose; win                    1\n",
       "both_rewarded; lose                 1\n",
       "first5_both_rewarded; lose          1\n",
       "win                                 1\n",
       "first5_win                          1\n",
       "first5_both_rewarded                1\n",
       "last5_lose                          1\n",
       "lose                                1\n",
       "first5_lose                         1\n",
       "last5_both_rewarded; lose; win      1\n",
       "last5_both_rewarded; win            1\n",
       "last5_lose; win                     1\n",
       "last5_both_rewarded; lose           1\n",
       "last5_win                           1\n",
       "last5_both_rewarded                 1\n",
       "both_rewarded; lose; win            1\n",
       "Name: count, dtype: int64"
      ]
     },
     "execution_count": 14,
     "metadata": {},
     "output_type": "execute_result"
    }
   ],
   "source": [
    "def determine_result(row):\n",
    "    first_set = row['first5_set']\n",
    "    last_set = row['last5_set']\n",
    "\n",
    "    # Cases where both sets are empty\n",
    "    if not first_set and not last_set:\n",
    "        return 'non-responsive'\n",
    "    \n",
    "    # Cases where only one set is non-empty\n",
    "    if not first_set:\n",
    "        if len(last_set) == 1:\n",
    "            return 'last5_' + ', '.join(last_set)\n",
    "        return 'last5_multi_event'\n",
    "    if not last_set:\n",
    "        if len(first_set) == 1:\n",
    "            return 'first5_' + ', '.join(first_set)\n",
    "        return 'first5_multi_event'\n",
    "\n",
    "    # Cases where both sets are non-empty\n",
    "    if len(first_set) == 1 and len(last_set) == 1:\n",
    "        if first_set == last_set:\n",
    "            return ', '.join(first_set)  # Single matching event in both\n",
    "        return 'single-event_different'\n",
    "\n",
    "    if len(first_set) > 1 and len(last_set) > 1:\n",
    "        if first_set == last_set:\n",
    "            return 'multi_event_same'\n",
    "        return 'multi_event_different'\n",
    "\n",
    "    # All other cases where one set has more than one event and the other has one or more\n",
    "    return 'multi_event_different'\n",
    "\n",
    "combinations_df6 = combinations_df.copy()\n",
    "\n",
    "combinations_df6['first5_set'] = combinations_df6['first5_sig_events'].apply(convert_to_set)\n",
    "combinations_df6['last5_set'] = combinations_df6['last5_sig_events'].apply(convert_to_set)\n",
    "\n",
    "# Apply the function to the DataFrame\n",
    "combinations_df6['Result'] = combinations_df6.apply(determine_result, axis=1)\n",
    "\n",
    "# Check the counts of each result category\n",
    "combinations_df6['Result'].value_counts()"
   ]
  },
  {
   "cell_type": "code",
   "execution_count": 15,
   "id": "27d703a5-ae54-48b0-874e-9743408f8394",
   "metadata": {
    "execution": {
     "iopub.execute_input": "2024-05-14T17:29:51.617495Z",
     "iopub.status.busy": "2024-05-14T17:29:51.611479Z",
     "iopub.status.idle": "2024-05-14T17:29:51.642599Z",
     "shell.execute_reply": "2024-05-14T17:29:51.642599Z",
     "shell.execute_reply.started": "2024-05-14T17:29:51.617495Z"
    }
   },
   "outputs": [
    {
     "data": {
      "text/plain": [
       "Result\n",
       "non-responsive           82\n",
       "first5_both_rewarded     11\n",
       "last5_lose                6\n",
       "first5_multi_event        5\n",
       "first5_win                5\n",
       "both_rewarded             4\n",
       "last5_both_rewarded       3\n",
       "last5_win                 2\n",
       "multi_event_different     1\n",
       "win                       1\n",
       "first5_lose               1\n",
       "Name: count, dtype: int64"
      ]
     },
     "execution_count": 15,
     "metadata": {},
     "output_type": "execute_result"
    }
   ],
   "source": [
    "# Function to convert event strings to sets\n",
    "def convert_to_set(event_string):\n",
    "    return set(event_string.split(', ')) if event_string else set()\n",
    "\n",
    "merged_df2 = merged_df.copy()\n",
    "\n",
    "# Apply conversion to DataFrame\n",
    "merged_df2['first5_set'] = merged_df2['first5_sig_events'].apply(convert_to_set)\n",
    "merged_df2['last5_set'] = merged_df2['last5_sig_events'].apply(convert_to_set)\n",
    "\n",
    "# Apply the determination function to each row\n",
    "merged_df2['Result'] = merged_df2.apply(determine_result, axis=1)\n",
    "both_rewarded_first5_last5_counts = merged_df2['Result'].value_counts()\n",
    "\n",
    "both_rewarded_first5_last5_counts"
   ]
  },
  {
   "cell_type": "code",
   "execution_count": 16,
   "id": "4a8462c7-d0c9-4e22-8b37-1c847a969e63",
   "metadata": {
    "execution": {
     "iopub.execute_input": "2024-05-14T17:29:51.642599Z",
     "iopub.status.busy": "2024-05-14T17:29:51.642599Z",
     "iopub.status.idle": "2024-05-14T17:29:51.673287Z",
     "shell.execute_reply": "2024-05-14T17:29:51.673287Z",
     "shell.execute_reply.started": "2024-05-14T17:29:51.642599Z"
    }
   },
   "outputs": [
    {
     "data": {
      "text/plain": [
       "Result\n",
       "Multi Different     36\n",
       "Single Different     6\n",
       "Dispense Multi       4\n",
       "Alert Multi          4\n",
       "Multi Same           4\n",
       "Dispense Single      3\n",
       "Alert Single         3\n",
       "Single Same          3\n",
       "Non-Responsive       1\n",
       "Name: count, dtype: int64"
      ]
     },
     "execution_count": 16,
     "metadata": {},
     "output_type": "execute_result"
    }
   ],
   "source": [
    "def determine_result(row):\n",
    "    first_set = row['first5_set']\n",
    "    last_set = row['last5_set']\n",
    "\n",
    "    # Cases where both sets are empty\n",
    "    if not first_set and not last_set:\n",
    "        return 'Non-Responsive'\n",
    "    \n",
    "    # Cases where only one set is non-empty\n",
    "    if not first_set:\n",
    "        if len(last_set) == 1:\n",
    "            return 'Dispense Single'\n",
    "        return 'Dispense Multi'\n",
    "    if not last_set:\n",
    "        if len(first_set) == 1:\n",
    "            return 'Alert Single'\n",
    "        return 'Alert Multi'\n",
    "\n",
    "    # Cases where both sets are non-empty\n",
    "    if len(first_set) == 1 and len(last_set) == 1:\n",
    "        if first_set == last_set:\n",
    "            return 'Single Same'\n",
    "        return 'Single Different'\n",
    "\n",
    "    if len(first_set) > 1 and len(last_set) > 1:\n",
    "        if first_set == last_set:\n",
    "            return 'Multi Same'\n",
    "        return 'Multi Different'\n",
    "\n",
    "    # All other cases where one set has more than one event and the other has one or more\n",
    "    return 'Multi Different'\n",
    "\n",
    "def convert_to_set(event_string):\n",
    "    return set(event_string.split('; ')) if event_string else set()\n",
    "\n",
    "combinations_df6 = combinations_df.copy()\n",
    "\n",
    "combinations_df6['first5_set'] = combinations_df6['first5_sig_events'].apply(convert_to_set)\n",
    "combinations_df6['last5_set'] = combinations_df6['last5_sig_events'].apply(convert_to_set)\n",
    "\n",
    "# Apply the function to the DataFrame\n",
    "combinations_df6['Result'] = combinations_df6.apply(determine_result, axis=1)\n",
    "\n",
    "# Check the counts of each result category\n",
    "combinations_df6['Result'].value_counts()"
   ]
  },
  {
   "cell_type": "code",
   "execution_count": 17,
   "id": "731d1f1a-e68f-4f9a-978f-e67cd0dea499",
   "metadata": {
    "execution": {
     "iopub.execute_input": "2024-05-14T17:29:51.678819Z",
     "iopub.status.busy": "2024-05-14T17:29:51.673287Z",
     "iopub.status.idle": "2024-05-14T17:29:51.712334Z",
     "shell.execute_reply": "2024-05-14T17:29:51.711319Z",
     "shell.execute_reply.started": "2024-05-14T17:29:51.678819Z"
    }
   },
   "outputs": [
    {
     "data": {
      "text/plain": [
       "Result\n",
       "Non-Responsive     82\n",
       "Alert Single       17\n",
       "Dispense Single    11\n",
       "Alert Multi         5\n",
       "Single Same         5\n",
       "Multi Different     1\n",
       "Name: count, dtype: int64"
      ]
     },
     "execution_count": 17,
     "metadata": {},
     "output_type": "execute_result"
    }
   ],
   "source": [
    "def determine_result(row):\n",
    "    first_set = row['first5_set']\n",
    "    last_set = row['last5_set']\n",
    "\n",
    "    # Cases where both sets are empty\n",
    "    if not first_set and not last_set:\n",
    "        return 'Non-Responsive'\n",
    "    \n",
    "    # Cases where only one set is non-empty\n",
    "    if not first_set:\n",
    "        if len(last_set) == 1:\n",
    "            return 'Dispense Single'\n",
    "        return 'Dispense Multi'\n",
    "    if not last_set:\n",
    "        if len(first_set) == 1:\n",
    "            return 'Alert Single'\n",
    "        return 'Alert Multi'\n",
    "\n",
    "    # Cases where both sets are non-empty\n",
    "    if len(first_set) == 1 and len(last_set) == 1:\n",
    "        if first_set == last_set:\n",
    "            return 'Single Same'\n",
    "        return 'Single Different'\n",
    "\n",
    "    if len(first_set) > 1 and len(last_set) > 1:\n",
    "        if first_set == last_set:\n",
    "            return 'Multi Same'\n",
    "        return 'Multi Different'\n",
    "\n",
    "    # All other cases where one set has more than one event and the other has one or more\n",
    "    return 'Multi Different'\n",
    "\n",
    "def convert_to_set(event_string):\n",
    "    return set(event_string.split(', ')) if event_string else set()\n",
    "\n",
    "merged_df1 = merged_df.copy()\n",
    "\n",
    "merged_df1['first5_set'] = merged_df1['first5_sig_events'].apply(convert_to_set)\n",
    "merged_df1['last5_set'] = merged_df1['last5_sig_events'].apply(convert_to_set)\n",
    "\n",
    "# Apply the function to the DataFrame\n",
    "merged_df1['Result'] = merged_df1.apply(determine_result, axis=1)\n",
    "\n",
    "# Check the counts of each result category\n",
    "merged_df1['Result'].value_counts()"
   ]
  },
  {
   "cell_type": "code",
   "execution_count": 18,
   "id": "3d42a711-3430-4174-a9be-0e9392a37bcc",
   "metadata": {
    "execution": {
     "iopub.execute_input": "2024-05-14T17:29:51.712334Z",
     "iopub.status.busy": "2024-05-14T17:29:51.712334Z",
     "iopub.status.idle": "2024-05-14T17:29:52.743399Z",
     "shell.execute_reply": "2024-05-14T17:29:52.743399Z",
     "shell.execute_reply.started": "2024-05-14T17:29:51.712334Z"
    }
   },
   "outputs": [
    {
     "data": {
      "image/png": "[encoded data removed]",
      "text/plain": [
       "<Figure size 1000x700 with 1 Axes>"
      ]
     },
     "metadata": {},
     "output_type": "display_data"
    }
   ],
   "source": [
    "result_counts = merged_df1['Result'].value_counts()\n",
    "\n",
    "# Create the pie plot\n",
    "plt.figure(figsize=(10, 7))\n",
    "plt.pie(result_counts, labels=result_counts.index, autopct='%1.1f%%', startangle=140)\n",
    "plt.title('Neuronal Response Distribution')\n",
    "\n",
    "# Display the plot\n",
    "plt.show()\n",
    "# Optionally save the plot\n",
    "# plt.savefig('Neuronal_Response_Distribution.png', bbox_inches='tight')"
   ]
  },
  {
   "cell_type": "code",
   "execution_count": 19,
   "id": "0366881a-6a4b-414f-8bfd-4536f14d7938",
   "metadata": {
    "execution": {
     "iopub.execute_input": "2024-05-14T17:29:52.743399Z",
     "iopub.status.busy": "2024-05-14T17:29:52.743399Z",
     "iopub.status.idle": "2024-05-14T17:29:52.784010Z",
     "shell.execute_reply": "2024-05-14T17:29:52.784010Z",
     "shell.execute_reply.started": "2024-05-14T17:29:52.743399Z"
    }
   },
   "outputs": [
    {
     "data": {
      "text/plain": [
       "Result\n",
       "Non-Responsive                  82\n",
       "Alert Only                      22\n",
       "Dispense Only                   11\n",
       "Alert & Dispense - Same          5\n",
       "Alert & Dispesne - Different     1\n",
       "Name: count, dtype: int64"
      ]
     },
     "execution_count": 19,
     "metadata": {},
     "output_type": "execute_result"
    }
   ],
   "source": [
    "def determine_result(row):\n",
    "    first_set = row['first5_set']\n",
    "    last_set = row['last5_set']\n",
    "\n",
    "    # Cases where both sets are empty\n",
    "    if not first_set and not last_set:\n",
    "        return 'Non-Responsive'\n",
    "    \n",
    "    # Cases where only one set is non-empty\n",
    "    if not first_set:\n",
    "        return 'Dispense Only'\n",
    "    if not last_set:\n",
    "        return 'Alert Only'\n",
    "\n",
    "    if first_set == last_set:\n",
    "        return 'Alert & Dispense - Same'\n",
    "        \n",
    "    # All other cases where one set has more than one event and the other has one or more\n",
    "    return 'Alert & Dispesne - Different'\n",
    "\n",
    "def convert_to_set(event_string):\n",
    "    return set(event_string.split(', ')) if event_string else set()\n",
    "\n",
    "merged_df1 = merged_df.copy()\n",
    "\n",
    "merged_df1['first5_set'] = merged_df1['first5_sig_events'].apply(convert_to_set)\n",
    "merged_df1['last5_set'] = merged_df1['last5_sig_events'].apply(convert_to_set)\n",
    "\n",
    "# Apply the function to the DataFrame\n",
    "merged_df1['Result'] = merged_df1.apply(determine_result, axis=1)\n",
    "\n",
    "# Check the counts of each result category\n",
    "merged_df1['Result'].value_counts()"
   ]
  },
  {
   "cell_type": "code",
   "execution_count": 20,
   "id": "a655340d-2b33-4345-85da-4317f1c57a27",
   "metadata": {
    "execution": {
     "iopub.execute_input": "2024-05-14T17:29:52.784010Z",
     "iopub.status.busy": "2024-05-14T17:29:52.784010Z",
     "iopub.status.idle": "2024-05-14T17:29:53.121080Z",
     "shell.execute_reply": "2024-05-14T17:29:53.121080Z",
     "shell.execute_reply.started": "2024-05-14T17:29:52.784010Z"
    }
   },
   "outputs": [
    {
     "data": {
      "image/png": "[encoded data removed]",
      "text/plain": [
       "<Figure size 1000x700 with 1 Axes>"
      ]
     },
     "metadata": {},
     "output_type": "display_data"
    }
   ],
   "source": [
    "results1 = merged_df1['Result'].value_counts()\n",
    "\n",
    "# Create the pie plot\n",
    "plt.figure(figsize=(10, 7))\n",
    "plt.pie(results1.values, labels=results1.index, autopct='%1.1f%%', startangle=140)\n",
    "plt.title('Both Rewarded Trials - Alert (1st 5s) Compared to Dispense (2nd 5s)')\n",
    "\n",
    "# Display the plot\n",
    "# plt.show()\n",
    "plt.savefig('both_reward_alert_dispense_5ms.png', bbox_inches='tight')"
   ]
  },
  {
   "cell_type": "code",
   "execution_count": 21,
   "id": "e243e916-8dd6-451e-87f8-4ed4448ab32b",
   "metadata": {
    "execution": {
     "iopub.execute_input": "2024-05-14T17:29:53.121080Z",
     "iopub.status.busy": "2024-05-14T17:29:53.121080Z",
     "iopub.status.idle": "2024-05-14T17:30:21.285775Z",
     "shell.execute_reply": "2024-05-14T17:30:21.285775Z",
     "shell.execute_reply.started": "2024-05-14T17:29:53.121080Z"
    }
   },
   "outputs": [
    {
     "name": "stdout",
     "output_type": "stream",
     "text": [
      "<class 'numpy.ndarray'>\n",
      "<class 'numpy.ndarray'>\n",
      "20230617_115521_standard_comp_to_omission_D1_subj_1-1_t1b3L_box1_merged.rec\n",
      "<class 'numpy.ndarray'>\n",
      "<class 'numpy.ndarray'>\n",
      "20230617_115521_standard_comp_to_omission_D1_subj_1-2_t2b2L_box2_merged.rec\n",
      "<class 'numpy.ndarray'>\n",
      "<class 'numpy.ndarray'>\n",
      "20230618_100636_standard_comp_to_omission_D2_subj_1-1_t1b2L_box2_merged.rec\n",
      "<class 'numpy.ndarray'>\n",
      "<class 'numpy.ndarray'>\n",
      "20230618_100636_standard_comp_to_omission_D2_subj_1-4_t4b3L_box1_merged.rec\n",
      "<class 'numpy.ndarray'>\n",
      "<class 'numpy.ndarray'>\n",
      "20230619_115321_standard_comp_to_omission_D3_subj_1-4_t3b3L_box2_merged.rec\n",
      "<class 'numpy.ndarray'>\n",
      "<class 'numpy.ndarray'>\n",
      "20230620_114347_standard_comp_to_omission_D4_subj_1-1_t1b2L_box_2_merged.rec\n",
      "<class 'numpy.ndarray'>\n",
      "<class 'numpy.ndarray'>\n",
      "20230620_114347_standard_comp_to_omission_D4_subj_1-2_t3b3L_box_1_merged.rec\n",
      "<class 'numpy.ndarray'>\n",
      "<class 'numpy.ndarray'>\n",
      "20230621_111240_standard_comp_to_omission_D5_subj_1-4_t3b3L_box1_merged.rec\n",
      "Please assign event dictionaries to each recording\n",
      "as recording.event_dict\n",
      "event_dict = {event name(str): np.array[[start(ms), stop(ms)]...]\n",
      "Please assign subjects to each recording as recording.subject\n"
     ]
    }
   ],
   "source": [
    "import pandas as pd\n",
    "import numpy as np\n",
    "import ast\n",
    "import pickle\n",
    "from pathlib import Path\n",
    "import matplotlib.pyplot as plt\n",
    "import multirecording_spikeanalysis_edit as spike\n",
    "from matplotlib_venn import venn2\n",
    "from matplotlib_venn import venn3\n",
    "\n",
    "cols = ['condition ', 'session_dir', 'all_subjects', 'tone_start_timestamp', 'tone_stop_timestamp']\n",
    "\n",
    "# Load the data\n",
    "df = pd.read_excel('rce_pilot_2_per_video_trial_labels.xlsx', usecols=cols, engine='openpyxl')\n",
    "\n",
    "df2 = df.dropna() # Drop the rows missing data\n",
    "df3 = df2.copy()\n",
    "df3['all_subjects'] = df3['all_subjects'].apply(lambda x: ast.literal_eval(x) if isinstance(x, str) else x) # Make the 'all_subjects' column readable as a list\n",
    "df4 = df3[df3['all_subjects'].apply(lambda x: len(x) < 3)] # Ignore novel sessions for now\n",
    "\n",
    "# Initialize an empty list to collect data for the new DataFrame\n",
    "new_df_data = []\n",
    "\n",
    "for _, row in df4.iterrows():\n",
    "    session_dir = row['session_dir']\n",
    "    subjects = row['all_subjects']\n",
    "    condition = row['condition ']\n",
    "\n",
    "    # Split session_dir on '_subj_' and take the first part only\n",
    "    # This ensures everything after '_subj_' is ignored\n",
    "    base_session_dir = session_dir.split('_subj_')[0]\n",
    "\n",
    "    for subject in subjects:\n",
    "        subject_formatted = subject.replace('.', '-')\n",
    "        # Append formatted subject to the base session_dir correctly\n",
    "        subj_recording = f\"{base_session_dir}_subj_{subject_formatted}\"\n",
    "        new_df_data.append({\n",
    "            'session_dir': session_dir,\n",
    "            'subject': subject,\n",
    "            'subj_recording': subj_recording,\n",
    "            'condition': condition if condition in ['rewarded', 'omission', 'both_rewarded', 'tie'] else ('win' if str(condition) == str(subject) else 'lose'),\n",
    "            'tone_start_timestamp': row['tone_start_timestamp'],\n",
    "            'tone_stop_timestamp': row['tone_stop_timestamp']\n",
    "        })\n",
    "\n",
    "# Convert list to DataFrame\n",
    "new_df = pd.DataFrame(new_df_data)\n",
    "new_df = new_df.drop_duplicates()\n",
    "\n",
    "# Prepare timestamp_dicts from new_df\n",
    "timestamp_dicts = {}\n",
    "for _, row in new_df.iterrows():\n",
    "    key = row['subj_recording']\n",
    "    condition = row['condition']\n",
    "    timestamp_start = int(row['tone_start_timestamp']) // 20\n",
    "    timestamp_end = int(row['tone_stop_timestamp']) // 20\n",
    "    tuple_val = (timestamp_start, timestamp_end)\n",
    "\n",
    "    if key not in timestamp_dicts:\n",
    "        timestamp_dicts[key] = {cond: [] for cond in ['rewarded', 'win', 'lose', 'omission', 'both_rewarded', 'tie']}\n",
    "    timestamp_dicts[key][condition].append(tuple_val)\n",
    "\n",
    "# Convert lists in timestamp_dicts to numpy arrays\n",
    "for subj_recording in timestamp_dicts:\n",
    "    for condition in timestamp_dicts[subj_recording]:\n",
    "        timestamp_dicts[subj_recording][condition] = np.array(timestamp_dicts[subj_recording][condition], dtype=np.int64)\n",
    "        \n",
    "\n",
    "# Construct the path in a platform-independent way (HiPerGator or Windows)\n",
    "ephys_path = Path('.') / 'export' / 'updated_phys' / 'non-novel' / 'omission'\n",
    "\n",
    "omis_ephys_data = spike.EphysRecordingCollection(str(ephys_path))"
   ]
  },
  {
   "cell_type": "code",
   "execution_count": 22,
   "id": "9046589d-c553-487b-b0b3-b3118f6202fe",
   "metadata": {
    "execution": {
     "iopub.execute_input": "2024-05-14T17:30:21.285775Z",
     "iopub.status.busy": "2024-05-14T17:30:21.285775Z",
     "iopub.status.idle": "2024-05-14T17:30:40.833586Z",
     "shell.execute_reply": "2024-05-14T17:30:40.833586Z",
     "shell.execute_reply.started": "2024-05-14T17:30:21.285775Z"
    }
   },
   "outputs": [
    {
     "name": "stdout",
     "output_type": "stream",
     "text": [
      "All set to analyze\n"
     ]
    }
   ],
   "source": [
    "for recording in omis_ephys_data.collection.keys():\n",
    "    # Check if the recording key (without everything after subject #) is in timestamp_dicts\n",
    "    start_pos = recording.find('subj_')\n",
    "    # Add the length of 'subj_' and 3 additional characters to include after 'subj_'\n",
    "    end_pos = start_pos + len('subj_') + 3\n",
    "    # Slice the recording key to get everything up to and including the subject identifier plus three characters\n",
    "    recording_key_without_suffix = recording[:end_pos]\n",
    "    if recording_key_without_suffix in timestamp_dicts:\n",
    "        # Assign the corresponding timestamp_dicts dictionary to event_dict\n",
    "        omis_ephys_data.collection[recording].event_dict = timestamp_dicts[recording_key_without_suffix]\n",
    "        \n",
    "        # Extract the subject from the recording key\n",
    "        start = recording.find('subj_') + 5  # Start index after 'subj_'\n",
    "        subject = recording[start:start+3]\n",
    "        \n",
    "        # Assign the extracted subject\n",
    "        omis_ephys_data.collection[recording].subject = subject\n",
    "        \n",
    "omis_spike_analysis = spike.SpikeAnalysis_MultiRecording(omis_ephys_data, timebin = 5, smoothing_window=250, ignore_freq = 0.5)"
   ]
  },
  {
   "cell_type": "code",
   "execution_count": 23,
   "id": "3f54917d-19a6-4227-b91c-f310cf89acf3",
   "metadata": {
    "execution": {
     "iopub.execute_input": "2024-05-14T17:30:40.843597Z",
     "iopub.status.busy": "2024-05-14T17:30:40.843597Z",
     "iopub.status.idle": "2024-05-14T17:30:55.124961Z",
     "shell.execute_reply": "2024-05-14T17:30:55.124961Z",
     "shell.execute_reply.started": "2024-05-14T17:30:40.843597Z"
    }
   },
   "outputs": [
    {
     "name": "stderr",
     "output_type": "stream",
     "text": [
      "C:\\Users\\short\\anaconda3\\Lib\\site-packages\\scipy\\stats\\_morestats.py:4102: UserWarning: Sample size too small for normal approximation.\n",
      "  warnings.warn(\"Sample size too small for normal approximation.\")\n",
      "C:\\Users\\short\\anaconda3\\Lib\\site-packages\\scipy\\stats\\_morestats.py:4102: UserWarning: Sample size too small for normal approximation.\n",
      "  warnings.warn(\"Sample size too small for normal approximation.\")\n",
      "C:\\Users\\short\\anaconda3\\Lib\\site-packages\\scipy\\stats\\_morestats.py:4102: UserWarning: Sample size too small for normal approximation.\n",
      "  warnings.warn(\"Sample size too small for normal approximation.\")\n",
      "C:\\Users\\short\\anaconda3\\Lib\\site-packages\\scipy\\stats\\_morestats.py:4102: UserWarning: Sample size too small for normal approximation.\n",
      "  warnings.warn(\"Sample size too small for normal approximation.\")\n",
      "C:\\Users\\short\\anaconda3\\Lib\\site-packages\\scipy\\stats\\_morestats.py:4102: UserWarning: Sample size too small for normal approximation.\n",
      "  warnings.warn(\"Sample size too small for normal approximation.\")\n",
      "C:\\Users\\short\\anaconda3\\Lib\\site-packages\\scipy\\stats\\_morestats.py:4102: UserWarning: Sample size too small for normal approximation.\n",
      "  warnings.warn(\"Sample size too small for normal approximation.\")\n",
      "C:\\Users\\short\\anaconda3\\Lib\\site-packages\\scipy\\stats\\_morestats.py:4102: UserWarning: Sample size too small for normal approximation.\n",
      "  warnings.warn(\"Sample size too small for normal approximation.\")\n",
      "C:\\Users\\short\\anaconda3\\Lib\\site-packages\\scipy\\stats\\_morestats.py:4102: UserWarning: Sample size too small for normal approximation.\n",
      "  warnings.warn(\"Sample size too small for normal approximation.\")\n",
      "C:\\Users\\short\\anaconda3\\Lib\\site-packages\\scipy\\stats\\_morestats.py:4102: UserWarning: Sample size too small for normal approximation.\n",
      "  warnings.warn(\"Sample size too small for normal approximation.\")\n",
      "C:\\Users\\short\\anaconda3\\Lib\\site-packages\\scipy\\stats\\_morestats.py:4102: UserWarning: Sample size too small for normal approximation.\n",
      "  warnings.warn(\"Sample size too small for normal approximation.\")\n",
      "C:\\Users\\short\\anaconda3\\Lib\\site-packages\\scipy\\stats\\_morestats.py:4102: UserWarning: Sample size too small for normal approximation.\n",
      "  warnings.warn(\"Sample size too small for normal approximation.\")\n",
      "C:\\Users\\short\\anaconda3\\Lib\\site-packages\\scipy\\stats\\_morestats.py:4102: UserWarning: Sample size too small for normal approximation.\n",
      "  warnings.warn(\"Sample size too small for normal approximation.\")\n",
      "C:\\Users\\short\\anaconda3\\Lib\\site-packages\\scipy\\stats\\_morestats.py:4102: UserWarning: Sample size too small for normal approximation.\n",
      "  warnings.warn(\"Sample size too small for normal approximation.\")\n",
      "C:\\Users\\short\\anaconda3\\Lib\\site-packages\\scipy\\stats\\_morestats.py:4102: UserWarning: Sample size too small for normal approximation.\n",
      "  warnings.warn(\"Sample size too small for normal approximation.\")\n",
      "C:\\Users\\short\\anaconda3\\Lib\\site-packages\\scipy\\stats\\_morestats.py:4102: UserWarning: Sample size too small for normal approximation.\n",
      "  warnings.warn(\"Sample size too small for normal approximation.\")\n",
      "C:\\Users\\short\\anaconda3\\Lib\\site-packages\\scipy\\stats\\_morestats.py:4102: UserWarning: Sample size too small for normal approximation.\n",
      "  warnings.warn(\"Sample size too small for normal approximation.\")\n"
     ]
    }
   ],
   "source": [
    "omis_first5_win_df = omis_spike_analysis.wilcox_baseline_v_event_collection(event='win', equalize=5, baseline_window=10, offset=0,  plot=False)\n",
    "omis_first5_lose_df = omis_spike_analysis.wilcox_baseline_v_event_collection(event='lose', equalize=5, baseline_window=10, offset=0,  plot=False)\n",
    "\n",
    "omis_last5_win_df = omis_spike_analysis.wilcox_baseline_v_event_collection(event='win', equalize=5, baseline_window=10, offset=-5,  plot=False)\n",
    "omis_last5_lose_df = omis_spike_analysis.wilcox_baseline_v_event_collection(event='lose', equalize=5, baseline_window=10, offset=-5,  plot=False)"
   ]
  },
  {
   "cell_type": "code",
   "execution_count": 24,
   "id": "b72bc71e-377a-4655-a065-b8116f0eb0e6",
   "metadata": {
    "execution": {
     "iopub.execute_input": "2024-05-14T17:30:55.130980Z",
     "iopub.status.busy": "2024-05-14T17:30:55.130980Z",
     "iopub.status.idle": "2024-05-14T17:30:55.621075Z",
     "shell.execute_reply": "2024-05-14T17:30:55.621075Z",
     "shell.execute_reply.started": "2024-05-14T17:30:55.130980Z"
    }
   },
   "outputs": [],
   "source": [
    "def aggregate_event_data(df_list, time_segment):\n",
    "    # Step 1: Concatenate the DataFrames\n",
    "    combined_df = pd.concat(df_list)\n",
    "\n",
    "    # Function to extract just the event name\n",
    "    def extract_event_name(event):\n",
    "        # Remove any leading time duration from the event string\n",
    "        parts = event.split(' vs ')\n",
    "        event_name = parts[0].split(' ')[-1]  # Splits by space and takes the last part, removing any time prefix\n",
    "        return event_name\n",
    "\n",
    "    # Initialize an empty dictionary to hold aggregated data\n",
    "    aggregated_data = {}\n",
    "\n",
    "    # Iterate over the rows of the combined DataFrame\n",
    "    for index, row in combined_df.iterrows():\n",
    "        # Extract event name\n",
    "        event_name = extract_event_name(row['Event'])\n",
    "        # Construct a unique key for each combination of recording, subject, and unit id\n",
    "        key = (row['Recording'], row['Subject'], row['original unit id'])\n",
    "        \n",
    "        # Initialize the entry if not exists\n",
    "        if key not in aggregated_data:\n",
    "            aggregated_data[key] = {'sig_increase_events': set(), 'sig_decrease_events': set(), 'insig_events': set()}\n",
    "        \n",
    "        # Append the event name to the appropriate category based on 'event1 vs event2'\n",
    "        if row['event1 vs event2'] == 'increases':\n",
    "            aggregated_data[key]['sig_increase_events'].add(event_name)\n",
    "        elif row['event1 vs event2'] == 'decreases':\n",
    "            aggregated_data[key]['sig_decrease_events'].add(event_name)\n",
    "        else:\n",
    "            aggregated_data[key]['insig_events'].add(event_name)\n",
    "\n",
    "    # Convert the aggregated data into a DataFrame\n",
    "    rows = []\n",
    "    for (recording, subject, unit_id), categories in aggregated_data.items():\n",
    "        row = {\n",
    "            'Recording': recording,\n",
    "            'Subject': subject,\n",
    "            'original unit id': unit_id,\n",
    "            'sig_increase_events': ', '.join(categories['sig_increase_events']),\n",
    "            'sig_decrease_events': ', '.join(categories['sig_decrease_events']),\n",
    "            'insig_events': ', '.join(categories['insig_events']),\n",
    "        }\n",
    "        rows.append(row)\n",
    "\n",
    "    aggregated_df = pd.DataFrame(rows)\n",
    "    aggregated_df['sig_events'] = aggregated_df.apply(\n",
    "        lambda row: ', '.join(filter(None, [row['sig_increase_events'], row['sig_decrease_events']])), axis=1)\n",
    "\n",
    "    # Function to normalize event strings\n",
    "    def normalize_event_string(event_string):\n",
    "        event_list = event_string.split(', ')\n",
    "        event_list_sorted = sorted(event_list)  # Sort the list to ensure consistent order\n",
    "        return ', '.join(event_list_sorted)  # Join the sorted list back into a string\n",
    "\n",
    "    # Apply the normalization function to the 'sig_events' column before counting\n",
    "    aggregated_df['sig_events'] = aggregated_df['sig_events'].apply(normalize_event_string)\n",
    "\n",
    "    # Count the unique combinations of significant events\n",
    "    sig_events_counts = aggregated_df['sig_events'].value_counts()\n",
    "\n",
    "    # Rename the empty strings to 'non-specific'\n",
    "    sig_events_counts = sig_events_counts.rename(index={'': 'Non-Responsive'})\n",
    "\n",
    "    return aggregated_df, sig_events_counts\n",
    "\n",
    "# Usage\n",
    "omis_first5_dfs = [omis_first5_win_df, omis_first5_lose_df]\n",
    "omis_last5_dfs = [omis_last5_win_df, omis_last5_lose_df]\n",
    "\n",
    "omis_first5_aggregated_df, omis_first5_sig_events_counts = aggregate_event_data(omis_first5_dfs, 'first 5 seconds')\n",
    "omis_last5_aggregated_df, omis_last5_sig_events_counts = aggregate_event_data(omis_last5_dfs, 'last 5 seconds')"
   ]
  },
  {
   "cell_type": "code",
   "execution_count": 25,
   "id": "d7d3431e-161d-4521-b008-73d2afef890d",
   "metadata": {
    "execution": {
     "iopub.execute_input": "2024-05-14T17:30:55.624100Z",
     "iopub.status.busy": "2024-05-14T17:30:55.624100Z",
     "iopub.status.idle": "2024-05-14T17:30:55.689094Z",
     "shell.execute_reply": "2024-05-14T17:30:55.689094Z",
     "shell.execute_reply.started": "2024-05-14T17:30:55.624100Z"
    }
   },
   "outputs": [],
   "source": [
    "# Add prefixes to distinguish between first 5 and last 5 seconds\n",
    "omis_first5_aggregated_df = omis_first5_aggregated_df.add_prefix('first5_')\n",
    "omis_last5_aggregated_df = omis_last5_aggregated_df.add_prefix('last5_')\n",
    "\n",
    "# Rename the keys for merging to be the same\n",
    "omis_first5_aggregated_df.rename(columns={\n",
    "    'first5_Recording': 'Recording',\n",
    "    'first5_Subject': 'Subject',\n",
    "    'first5_original unit id': 'original unit id'\n",
    "}, inplace=True)\n",
    "\n",
    "omis_last5_aggregated_df.rename(columns={\n",
    "    'last5_Recording': 'Recording',\n",
    "    'last5_Subject': 'Subject',\n",
    "    'last5_original unit id': 'original unit id'\n",
    "}, inplace=True)\n",
    "\n",
    "# Merge the dataframes on Recording, Subject, and original unit id\n",
    "omis_merged_df = pd.merge(\n",
    "    omis_first5_aggregated_df,\n",
    "    omis_last5_aggregated_df,\n",
    "    on=['Recording', 'Subject', 'original unit id'],\n",
    "    how='outer'  # You can choose 'inner' if you only want units present in both or 'outer' to keep all units\n",
    ")"
   ]
  },
  {
   "cell_type": "code",
   "execution_count": 26,
   "id": "828ea33d-11bb-4f22-894c-374c6635f12c",
   "metadata": {
    "execution": {
     "iopub.execute_input": "2024-05-14T17:30:55.689094Z",
     "iopub.status.busy": "2024-05-14T17:30:55.689094Z",
     "iopub.status.idle": "2024-05-14T17:30:55.758648Z",
     "shell.execute_reply": "2024-05-14T17:30:55.758648Z",
     "shell.execute_reply.started": "2024-05-14T17:30:55.689094Z"
    }
   },
   "outputs": [
    {
     "data": {
      "text/plain": [
       "Result\n",
       "Non-Responsive                  122\n",
       "Alert Only                       10\n",
       "Dispense Only                     9\n",
       "Alert & Dispense - Same           2\n",
       "Alert & Dispense - Different      1\n",
       "Name: count, dtype: int64"
      ]
     },
     "execution_count": 26,
     "metadata": {},
     "output_type": "execute_result"
    }
   ],
   "source": [
    "def determine_result(row):\n",
    "    first_set = row['first5_set']\n",
    "    last_set = row['last5_set']\n",
    "\n",
    "    # Cases where both sets are empty\n",
    "    if not first_set and not last_set:\n",
    "        return 'Non-Responsive'\n",
    "    \n",
    "    # Cases where only one set is non-empty\n",
    "    if not first_set:\n",
    "        return 'Dispense Only'\n",
    "    if not last_set:\n",
    "        return 'Alert Only'\n",
    "\n",
    "    if first_set == last_set:\n",
    "        return 'Alert & Dispense - Same'\n",
    "        \n",
    "    # All other cases where one set has more than one event and the other has one or more\n",
    "    return 'Alert & Dispense - Different'\n",
    "\n",
    "def convert_to_set(event_string):\n",
    "    return set(event_string.split(', ')) if event_string else set()\n",
    "\n",
    "omis_merged_df1 = omis_merged_df.copy()\n",
    "\n",
    "omis_merged_df1['first5_set'] = omis_merged_df1['first5_sig_events'].apply(convert_to_set)\n",
    "omis_merged_df1['last5_set'] = omis_merged_df1['last5_sig_events'].apply(convert_to_set)\n",
    "\n",
    "# Apply the function to the DataFrame\n",
    "omis_merged_df1['Result'] = omis_merged_df1.apply(determine_result, axis=1)\n",
    "\n",
    "# Check the counts of each result category\n",
    "omis_merged_df1['Result'].value_counts()"
   ]
  },
  {
   "cell_type": "code",
   "execution_count": 27,
   "id": "367b32a7-8cef-4eac-a00f-2e85e5aa6445",
   "metadata": {
    "execution": {
     "iopub.execute_input": "2024-05-14T17:30:55.758648Z",
     "iopub.status.busy": "2024-05-14T17:30:55.758648Z",
     "iopub.status.idle": "2024-05-14T17:30:56.283016Z",
     "shell.execute_reply": "2024-05-14T17:30:56.283016Z",
     "shell.execute_reply.started": "2024-05-14T17:30:55.758648Z"
    }
   },
   "outputs": [
    {
     "data": {
      "image/png": "[encoded data removed]",
      "text/plain": [
       "<Figure size 1000x700 with 1 Axes>"
      ]
     },
     "metadata": {},
     "output_type": "display_data"
    }
   ],
   "source": [
    "# This assumes merged_df1 is already defined and has a 'Result' column properly set up\n",
    "omis_result_counts = omis_merged_df1['Result'].value_counts()\n",
    "\n",
    "# Create the pie plot\n",
    "plt.figure(figsize=(10, 7))\n",
    "plt.pie(omis_result_counts, labels=omis_result_counts.index, autopct='%1.1f%%', startangle=140)\n",
    "plt.title('Omission Trials - Alert (1st 5s) Compared to Dispense (2nd 5s)')\n",
    "\n",
    "# Display the plot\n",
    "plt.show()\n",
    "# Optionally save the plot\n",
    "# plt.savefig('Neuronal_Response_Distribution.png', bbox_inches='tight')"
   ]
  },
  {
   "cell_type": "code",
   "execution_count": 29,
   "id": "910628c8-3427-46e9-9bb4-98d5ed6a531b",
   "metadata": {
    "execution": {
     "iopub.execute_input": "2024-05-14T17:30:56.608236Z",
     "iopub.status.busy": "2024-05-14T17:30:56.608236Z",
     "iopub.status.idle": "2024-05-14T17:30:58.157774Z",
     "shell.execute_reply": "2024-05-14T17:30:58.157774Z",
     "shell.execute_reply.started": "2024-05-14T17:30:56.608236Z"
    }
   },
   "outputs": [
    {
     "name": "stdout",
     "output_type": "stream",
     "text": [
      "All set to analyze\n"
     ]
    }
   ],
   "source": [
    "spike_analysis = spike.SpikeAnalysis_MultiRecording(omis_ephys_data, timebin = 100, smoothing_window=250, ignore_freq = 0.5)"
   ]
  },
  {
   "cell_type": "code",
   "execution_count": 30,
   "id": "30700869-9763-4e82-91a4-fc1a58075522",
   "metadata": {
    "execution": {
     "iopub.execute_input": "2024-05-14T17:30:58.160286Z",
     "iopub.status.busy": "2024-05-14T17:30:58.160286Z",
     "iopub.status.idle": "2024-05-14T17:30:59.883922Z",
     "shell.execute_reply": "2024-05-14T17:30:59.883922Z",
     "shell.execute_reply.started": "2024-05-14T17:30:58.160286Z"
    }
   },
   "outputs": [
    {
     "name": "stderr",
     "output_type": "stream",
     "text": [
      "C:\\Users\\short\\anaconda3\\Lib\\site-packages\\scipy\\stats\\_morestats.py:4102: UserWarning: Sample size too small for normal approximation.\n",
      "  warnings.warn(\"Sample size too small for normal approximation.\")\n",
      "C:\\Users\\short\\anaconda3\\Lib\\site-packages\\scipy\\stats\\_morestats.py:4102: UserWarning: Sample size too small for normal approximation.\n",
      "  warnings.warn(\"Sample size too small for normal approximation.\")\n",
      "C:\\Users\\short\\anaconda3\\Lib\\site-packages\\scipy\\stats\\_morestats.py:4102: UserWarning: Sample size too small for normal approximation.\n",
      "  warnings.warn(\"Sample size too small for normal approximation.\")\n",
      "C:\\Users\\short\\anaconda3\\Lib\\site-packages\\scipy\\stats\\_morestats.py:4102: UserWarning: Sample size too small for normal approximation.\n",
      "  warnings.warn(\"Sample size too small for normal approximation.\")\n",
      "C:\\Users\\short\\anaconda3\\Lib\\site-packages\\scipy\\stats\\_morestats.py:4102: UserWarning: Sample size too small for normal approximation.\n",
      "  warnings.warn(\"Sample size too small for normal approximation.\")\n",
      "C:\\Users\\short\\anaconda3\\Lib\\site-packages\\scipy\\stats\\_morestats.py:4102: UserWarning: Sample size too small for normal approximation.\n",
      "  warnings.warn(\"Sample size too small for normal approximation.\")\n",
      "C:\\Users\\short\\anaconda3\\Lib\\site-packages\\scipy\\stats\\_morestats.py:4102: UserWarning: Sample size too small for normal approximation.\n",
      "  warnings.warn(\"Sample size too small for normal approximation.\")\n",
      "C:\\Users\\short\\anaconda3\\Lib\\site-packages\\scipy\\stats\\_morestats.py:4102: UserWarning: Sample size too small for normal approximation.\n",
      "  warnings.warn(\"Sample size too small for normal approximation.\")\n",
      "C:\\Users\\short\\anaconda3\\Lib\\site-packages\\scipy\\stats\\_morestats.py:4102: UserWarning: Sample size too small for normal approximation.\n",
      "  warnings.warn(\"Sample size too small for normal approximation.\")\n",
      "C:\\Users\\short\\anaconda3\\Lib\\site-packages\\scipy\\stats\\_morestats.py:4102: UserWarning: Sample size too small for normal approximation.\n",
      "  warnings.warn(\"Sample size too small for normal approximation.\")\n",
      "C:\\Users\\short\\anaconda3\\Lib\\site-packages\\scipy\\stats\\_morestats.py:4102: UserWarning: Sample size too small for normal approximation.\n",
      "  warnings.warn(\"Sample size too small for normal approximation.\")\n",
      "C:\\Users\\short\\anaconda3\\Lib\\site-packages\\scipy\\stats\\_morestats.py:4102: UserWarning: Sample size too small for normal approximation.\n",
      "  warnings.warn(\"Sample size too small for normal approximation.\")\n",
      "C:\\Users\\short\\anaconda3\\Lib\\site-packages\\scipy\\stats\\_morestats.py:4102: UserWarning: Sample size too small for normal approximation.\n",
      "  warnings.warn(\"Sample size too small for normal approximation.\")\n",
      "C:\\Users\\short\\anaconda3\\Lib\\site-packages\\scipy\\stats\\_morestats.py:4102: UserWarning: Sample size too small for normal approximation.\n",
      "  warnings.warn(\"Sample size too small for normal approximation.\")\n",
      "C:\\Users\\short\\anaconda3\\Lib\\site-packages\\scipy\\stats\\_morestats.py:4102: UserWarning: Sample size too small for normal approximation.\n",
      "  warnings.warn(\"Sample size too small for normal approximation.\")\n",
      "C:\\Users\\short\\anaconda3\\Lib\\site-packages\\scipy\\stats\\_morestats.py:4102: UserWarning: Sample size too small for normal approximation.\n",
      "  warnings.warn(\"Sample size too small for normal approximation.\")\n"
     ]
    }
   ],
   "source": [
    "first5_win_df = spike_analysis.wilcox_baseline_v_event_collection(event='win', equalize=5, baseline_window=10, offset=0,  plot=False)\n",
    "first5_lose_df = spike_analysis.wilcox_baseline_v_event_collection(event='lose', equalize=5, baseline_window=10, offset=0,  plot=False)\n",
    "first5_both_rewarded_df = spike_analysis.wilcox_baseline_v_event_collection(event='both_rewarded', equalize=5, baseline_window=10, offset=0,  plot=False)\n",
    "\n",
    "last5_win_df = spike_analysis.wilcox_baseline_v_event_collection(event='win', equalize=5, baseline_window=10, offset=-5,  plot=False)\n",
    "last5_lose_df = spike_analysis.wilcox_baseline_v_event_collection(event='lose', equalize=5, baseline_window=10, offset=-5,  plot=False)\n",
    "last5_both_rewarded_df = spike_analysis.wilcox_baseline_v_event_collection(event='both_rewarded', equalize=5, baseline_window=10, offset=-5,  plot=False)"
   ]
  },
  {
   "cell_type": "code",
   "execution_count": 31,
   "id": "e1da3fd7-b4d2-4201-adc2-33ed4ccc933d",
   "metadata": {
    "execution": {
     "iopub.execute_input": "2024-05-14T17:30:59.886938Z",
     "iopub.status.busy": "2024-05-14T17:30:59.886938Z",
     "iopub.status.idle": "2024-05-14T17:31:00.057557Z",
     "shell.execute_reply": "2024-05-14T17:31:00.057557Z",
     "shell.execute_reply.started": "2024-05-14T17:30:59.886938Z"
    }
   },
   "outputs": [],
   "source": [
    "first5_dfs = [first5_win_df, first5_lose_df, first5_both_rewarded_df]\n",
    "last5_dfs = [last5_win_df, last5_lose_df, last5_both_rewarded_df]\n",
    "\n",
    "first5_aggregated_df, first5_sig_events_counts = aggregate_event_data(first5_dfs, 'first 5 seconds')\n",
    "last5_aggregated_df, last5_sig_events_counts = aggregate_event_data(last5_dfs, 'last 5 seconds')"
   ]
  },
  {
   "cell_type": "code",
   "execution_count": 32,
   "id": "6686544b-8b73-4cae-876a-b0c4397ffde7",
   "metadata": {
    "execution": {
     "iopub.execute_input": "2024-05-14T17:31:00.094844Z",
     "iopub.status.busy": "2024-05-14T17:31:00.094844Z",
     "iopub.status.idle": "2024-05-14T17:31:00.121022Z",
     "shell.execute_reply": "2024-05-14T17:31:00.121022Z",
     "shell.execute_reply.started": "2024-05-14T17:31:00.094844Z"
    }
   },
   "outputs": [],
   "source": [
    "first5_aggregated_df = first5_aggregated_df.add_prefix('first5_')\n",
    "last5_aggregated_df = last5_aggregated_df.add_prefix('last5_')\n",
    "\n",
    "# Rename the keys for merging to be the same\n",
    "first5_aggregated_df.rename(columns={\n",
    "    'first5_Recording': 'Recording',\n",
    "    'first5_Subject': 'Subject',\n",
    "    'first5_original unit id': 'original unit id'\n",
    "}, inplace=True)\n",
    "\n",
    "last5_aggregated_df.rename(columns={\n",
    "    'last5_Recording': 'Recording',\n",
    "    'last5_Subject': 'Subject',\n",
    "    'last5_original unit id': 'original unit id'\n",
    "}, inplace=True)\n",
    "\n",
    "# Merge the dataframes on Recording, Subject, and original unit id\n",
    "merged_df = pd.merge(\n",
    "    first5_aggregated_df,\n",
    "    last5_aggregated_df,\n",
    "    on=['Recording', 'Subject', 'original unit id'],\n",
    "    how='outer')"
   ]
  },
  {
   "cell_type": "code",
   "execution_count": 33,
   "id": "33ccec2d-58a0-4ba2-933f-08ea174a3597",
   "metadata": {
    "execution": {
     "iopub.execute_input": "2024-05-14T17:31:00.121022Z",
     "iopub.status.busy": "2024-05-14T17:31:00.121022Z",
     "iopub.status.idle": "2024-05-14T17:31:00.149792Z",
     "shell.execute_reply": "2024-05-14T17:31:00.149792Z",
     "shell.execute_reply.started": "2024-05-14T17:31:00.121022Z"
    }
   },
   "outputs": [
    {
     "data": {
      "text/plain": [
       "Result\n",
       "Non-Responsive                  121\n",
       "Alert Only                       11\n",
       "Dispense Only                     7\n",
       "Alert & Dispense - Same           4\n",
       "Alert & Dispense - Different      1\n",
       "Name: count, dtype: int64"
      ]
     },
     "execution_count": 33,
     "metadata": {},
     "output_type": "execute_result"
    }
   ],
   "source": [
    "merged_df1 = merged_df.copy()\n",
    "\n",
    "merged_df1['first5_set'] = merged_df1['first5_sig_events'].apply(convert_to_set)\n",
    "merged_df1['last5_set'] = merged_df1['last5_sig_events'].apply(convert_to_set)\n",
    "\n",
    "# Apply the function to the DataFrame\n",
    "merged_df1['Result'] = merged_df1.apply(determine_result, axis=1)\n",
    "\n",
    "# Check the counts of each result category\n",
    "merged_df1['Result'].value_counts()"
   ]
  },
  {
   "cell_type": "code",
   "execution_count": 34,
   "id": "79e978e9-06ab-4d51-bcd8-054ce4a53ba7",
   "metadata": {
    "execution": {
     "iopub.execute_input": "2024-05-14T17:31:00.149792Z",
     "iopub.status.busy": "2024-05-14T17:31:00.149792Z",
     "iopub.status.idle": "2024-05-14T17:31:00.510186Z",
     "shell.execute_reply": "2024-05-14T17:31:00.510186Z",
     "shell.execute_reply.started": "2024-05-14T17:31:00.149792Z"
    }
   },
   "outputs": [
    {
     "data": {
      "image/png": "[encoded data removed]",
      "text/plain": [
       "<Figure size 1000x700 with 1 Axes>"
      ]
     },
     "metadata": {},
     "output_type": "display_data"
    }
   ],
   "source": [
    "results1 = merged_df1['Result'].value_counts()\n",
    "\n",
    "# Create the pie plot\n",
    "plt.figure(figsize=(10, 7))\n",
    "plt.pie(results1.values, labels=results1.index, autopct='%1.1f%%', startangle=140)\n",
    "plt.title('Both Rewarded Trials - Alert (1st 5s) Compared to Dispense (2nd 5s)')\n",
    "\n",
    "# Display the plot\n",
    "# plt.show()\n",
    "plt.savefig('both_reward_alert_dispense_100ms.png', bbox_inches='tight')"
   ]
  },
  {
   "cell_type": "code",
   "execution_count": 35,
   "id": "bbebcc26-106d-49c7-bcde-402e8183f96c",
   "metadata": {
    "execution": {
     "iopub.execute_input": "2024-05-14T17:55:21.002262Z",
     "iopub.status.busy": "2024-05-14T17:55:21.002262Z",
     "iopub.status.idle": "2024-05-14T17:56:32.921050Z",
     "shell.execute_reply": "2024-05-14T17:56:32.921050Z",
     "shell.execute_reply.started": "2024-05-14T17:55:21.002262Z"
    }
   },
   "outputs": [
    {
     "name": "stdout",
     "output_type": "stream",
     "text": [
      "<class 'numpy.ndarray'>\n",
      "<class 'numpy.ndarray'>\n",
      "20230612_101430_standard_comp_to_training_D1_subj_1-3_t3b3L_box2_merged.rec\n",
      "<class 'numpy.ndarray'>\n",
      "<class 'numpy.ndarray'>\n",
      "20230617_115521_standard_comp_to_omission_D1_subj_1-1_t1b3L_box1_merged.rec\n",
      "<class 'numpy.ndarray'>\n",
      "<class 'numpy.ndarray'>\n",
      "20230617_115521_standard_comp_to_omission_D1_subj_1-2_t2b2L_box2_merged.rec\n",
      "<class 'numpy.ndarray'>\n",
      "<class 'numpy.ndarray'>\n",
      "20230618_100636_standard_comp_to_omission_D2_subj_1-1_t1b2L_box2_merged.rec\n",
      "<class 'numpy.ndarray'>\n",
      "<class 'numpy.ndarray'>\n",
      "20230618_100636_standard_comp_to_omission_D2_subj_1-4_t4b3L_box1_merged.rec\n",
      "<class 'numpy.ndarray'>\n",
      "<class 'numpy.ndarray'>\n",
      "20230619_115321_standard_comp_to_omission_D3_subj_1-4_t3b3L_box2_merged.rec\n",
      "<class 'numpy.ndarray'>\n",
      "<class 'numpy.ndarray'>\n",
      "20230620_114347_standard_comp_to_omission_D4_subj_1-1_t1b2L_box_2_merged.rec\n",
      "<class 'numpy.ndarray'>\n",
      "<class 'numpy.ndarray'>\n",
      "20230620_114347_standard_comp_to_omission_D4_subj_1-2_t3b3L_box_1_merged.rec\n",
      "<class 'numpy.ndarray'>\n",
      "<class 'numpy.ndarray'>\n",
      "20230621_111240_standard_comp_to_omission_D5_subj_1-4_t3b3L_box1_merged.rec\n",
      "<class 'numpy.ndarray'>\n",
      "<class 'numpy.ndarray'>\n",
      "Unit 92 is unsorted & has 2494 spikes\n",
      "Unit 92 will be deleted\n",
      "20230622_110832_standard_comp_to_both_rewarded_D1_subj_1-1_t1b3L_box1_merged.rec\n",
      "<class 'numpy.ndarray'>\n",
      "<class 'numpy.ndarray'>\n",
      "Unit 103 is unsorted & has 512 spikes\n",
      "Unit 103 will be deleted\n",
      "20230622_110832_standard_comp_to_both_rewarded_D1_subj_1-2_t3b3L_box1_merged.rec\n",
      "<class 'numpy.ndarray'>\n",
      "<class 'numpy.ndarray'>\n",
      "20230624_105855_standard_comp_to_both_rewarded_D3_subj_1-2_t1b2L_box1_merged.rec\n",
      "<class 'numpy.ndarray'>\n",
      "<class 'numpy.ndarray'>\n",
      "20230624_105855_standard_comp_to_both_rewarded_D3_subj_1-4_t3b3L_box1_merged.rec\n",
      "<class 'numpy.ndarray'>\n",
      "<class 'numpy.ndarray'>\n",
      "20230625_112913_standard_comp_to_both_rewarded_D4_subj_1-1_t1b2L_box1_merged.rec\n",
      "<class 'numpy.ndarray'>\n",
      "<class 'numpy.ndarray'>\n",
      "Unit 96 is unsorted & has 5811 spikes\n",
      "Unit 96 will be deleted\n",
      "Unit 95 is unsorted & has 6458 spikes\n",
      "Unit 95 will be deleted\n",
      "20230625_112913_standard_comp_to_both_rewarded_D4_subj_1-4_t3b3L_box1_merged.rec\n",
      "Please assign event dictionaries to each recording\n",
      "as recording.event_dict\n",
      "event_dict = {event name(str): np.array[[start(ms), stop(ms)]...]\n",
      "Please assign subjects to each recording as recording.subject\n"
     ]
    }
   ],
   "source": [
    "# Construct the path in a platform-independent way (HiPerGator or Windows)\n",
    "ephys_path = Path('.') / 'export' / 'updated_phys' / 'non-novel' / 'all_non_novel'\n",
    "\n",
    "ephys_data = spike.EphysRecordingCollection(str(ephys_path))"
   ]
  },
  {
   "cell_type": "code",
   "execution_count": 36,
   "id": "36052ff6-fa01-4312-b780-8e15bb5e8f8f",
   "metadata": {
    "execution": {
     "iopub.execute_input": "2024-05-14T17:59:06.371442Z",
     "iopub.status.busy": "2024-05-14T17:59:06.371442Z",
     "iopub.status.idle": "2024-05-14T18:00:12.343131Z",
     "shell.execute_reply": "2024-05-14T18:00:12.329094Z",
     "shell.execute_reply.started": "2024-05-14T17:59:06.371442Z"
    }
   },
   "outputs": [
    {
     "name": "stdout",
     "output_type": "stream",
     "text": [
      "All set to analyze\n"
     ]
    }
   ],
   "source": [
    "for recording in ephys_data.collection.keys():\n",
    "    # Check if the recording key (without everything after subject #) is in timestamp_dicts\n",
    "    start_pos = recording.find('subj_')\n",
    "    # Add the length of 'subj_' and 3 additional characters to include after 'subj_'\n",
    "    end_pos = start_pos + len('subj_') + 3\n",
    "    # Slice the recording key to get everything up to and including the subject identifier plus three characters\n",
    "    recording_key_without_suffix = recording[:end_pos]\n",
    "    if recording_key_without_suffix in timestamp_dicts:\n",
    "        # Assign the corresponding timestamp_dicts dictionary to event_dict\n",
    "        ephys_data.collection[recording].event_dict = timestamp_dicts[recording_key_without_suffix]\n",
    "        \n",
    "        # Extract the subject from the recording key\n",
    "        start = recording.find('subj_') + 5  # Start index after 'subj_'\n",
    "        subject = recording[start:start+3]\n",
    "        \n",
    "        # Assign the extracted subject\n",
    "        ephys_data.collection[recording].subject = subject\n",
    "        \n",
    "spike_analysis5 = spike.SpikeAnalysis_MultiRecording(ephys_data, timebin = 5, smoothing_window=250, ignore_freq = 0.5)"
   ]
  },
  {
   "cell_type": "code",
   "execution_count": 37,
   "id": "71f5bdd3-af0b-43ee-8736-7e4333864bd7",
   "metadata": {
    "execution": {
     "iopub.execute_input": "2024-05-14T18:00:16.375687Z",
     "iopub.status.busy": "2024-05-14T18:00:16.375687Z",
     "iopub.status.idle": "2024-05-14T18:00:21.811485Z",
     "shell.execute_reply": "2024-05-14T18:00:21.811485Z",
     "shell.execute_reply.started": "2024-05-14T18:00:16.375687Z"
    }
   },
   "outputs": [
    {
     "name": "stdout",
     "output_type": "stream",
     "text": [
      "All set to analyze\n"
     ]
    }
   ],
   "source": [
    "spike_analysis100 = spike.SpikeAnalysis_MultiRecording(ephys_data, timebin = 100, smoothing_window=250, ignore_freq = 0.5)"
   ]
  },
  {
   "cell_type": "code",
   "execution_count": 38,
   "id": "67ec5b75-2da5-4b63-b548-2412dbb952a6",
   "metadata": {
    "execution": {
     "iopub.execute_input": "2024-05-14T18:01:40.143008Z",
     "iopub.status.busy": "2024-05-14T18:01:40.143008Z",
     "iopub.status.idle": "2024-05-14T18:01:47.286227Z",
     "shell.execute_reply": "2024-05-14T18:01:47.286227Z",
     "shell.execute_reply.started": "2024-05-14T18:01:40.143008Z"
    }
   },
   "outputs": [
    {
     "name": "stderr",
     "output_type": "stream",
     "text": [
      "C:\\Users\\short\\anaconda3\\Lib\\site-packages\\scipy\\stats\\_morestats.py:4102: UserWarning: Sample size too small for normal approximation.\n",
      "  warnings.warn(\"Sample size too small for normal approximation.\")\n",
      "C:\\Users\\short\\anaconda3\\Lib\\site-packages\\scipy\\stats\\_morestats.py:4102: UserWarning: Sample size too small for normal approximation.\n",
      "  warnings.warn(\"Sample size too small for normal approximation.\")\n",
      "C:\\Users\\short\\anaconda3\\Lib\\site-packages\\scipy\\stats\\_morestats.py:4102: UserWarning: Sample size too small for normal approximation.\n",
      "  warnings.warn(\"Sample size too small for normal approximation.\")\n",
      "C:\\Users\\short\\anaconda3\\Lib\\site-packages\\scipy\\stats\\_morestats.py:4102: UserWarning: Sample size too small for normal approximation.\n",
      "  warnings.warn(\"Sample size too small for normal approximation.\")\n",
      "C:\\Users\\short\\anaconda3\\Lib\\site-packages\\scipy\\stats\\_morestats.py:4102: UserWarning: Sample size too small for normal approximation.\n",
      "  warnings.warn(\"Sample size too small for normal approximation.\")\n",
      "C:\\Users\\short\\anaconda3\\Lib\\site-packages\\scipy\\stats\\_morestats.py:4102: UserWarning: Sample size too small for normal approximation.\n",
      "  warnings.warn(\"Sample size too small for normal approximation.\")\n",
      "C:\\Users\\short\\anaconda3\\Lib\\site-packages\\scipy\\stats\\_morestats.py:4102: UserWarning: Sample size too small for normal approximation.\n",
      "  warnings.warn(\"Sample size too small for normal approximation.\")\n",
      "C:\\Users\\short\\anaconda3\\Lib\\site-packages\\scipy\\stats\\_morestats.py:4102: UserWarning: Sample size too small for normal approximation.\n",
      "  warnings.warn(\"Sample size too small for normal approximation.\")\n",
      "C:\\Users\\short\\anaconda3\\Lib\\site-packages\\scipy\\stats\\_morestats.py:4102: UserWarning: Sample size too small for normal approximation.\n",
      "  warnings.warn(\"Sample size too small for normal approximation.\")\n",
      "C:\\Users\\short\\anaconda3\\Lib\\site-packages\\scipy\\stats\\_morestats.py:4102: UserWarning: Sample size too small for normal approximation.\n",
      "  warnings.warn(\"Sample size too small for normal approximation.\")\n",
      "C:\\Users\\short\\anaconda3\\Lib\\site-packages\\scipy\\stats\\_morestats.py:4102: UserWarning: Sample size too small for normal approximation.\n",
      "  warnings.warn(\"Sample size too small for normal approximation.\")\n",
      "C:\\Users\\short\\anaconda3\\Lib\\site-packages\\scipy\\stats\\_morestats.py:4102: UserWarning: Sample size too small for normal approximation.\n",
      "  warnings.warn(\"Sample size too small for normal approximation.\")\n",
      "C:\\Users\\short\\anaconda3\\Lib\\site-packages\\scipy\\stats\\_morestats.py:4102: UserWarning: Sample size too small for normal approximation.\n",
      "  warnings.warn(\"Sample size too small for normal approximation.\")\n",
      "C:\\Users\\short\\anaconda3\\Lib\\site-packages\\scipy\\stats\\_morestats.py:4102: UserWarning: Sample size too small for normal approximation.\n",
      "  warnings.warn(\"Sample size too small for normal approximation.\")\n",
      "C:\\Users\\short\\anaconda3\\Lib\\site-packages\\scipy\\stats\\_morestats.py:4102: UserWarning: Sample size too small for normal approximation.\n",
      "  warnings.warn(\"Sample size too small for normal approximation.\")\n",
      "C:\\Users\\short\\anaconda3\\Lib\\site-packages\\scipy\\stats\\_morestats.py:4102: UserWarning: Sample size too small for normal approximation.\n",
      "  warnings.warn(\"Sample size too small for normal approximation.\")\n",
      "C:\\Users\\short\\anaconda3\\Lib\\site-packages\\scipy\\stats\\_morestats.py:4102: UserWarning: Sample size too small for normal approximation.\n",
      "  warnings.warn(\"Sample size too small for normal approximation.\")\n",
      "C:\\Users\\short\\anaconda3\\Lib\\site-packages\\scipy\\stats\\_morestats.py:4102: UserWarning: Sample size too small for normal approximation.\n",
      "  warnings.warn(\"Sample size too small for normal approximation.\")\n",
      "C:\\Users\\short\\anaconda3\\Lib\\site-packages\\scipy\\stats\\_morestats.py:4102: UserWarning: Sample size too small for normal approximation.\n",
      "  warnings.warn(\"Sample size too small for normal approximation.\")\n",
      "C:\\Users\\short\\anaconda3\\Lib\\site-packages\\scipy\\stats\\_morestats.py:4102: UserWarning: Sample size too small for normal approximation.\n",
      "  warnings.warn(\"Sample size too small for normal approximation.\")\n",
      "C:\\Users\\short\\anaconda3\\Lib\\site-packages\\scipy\\stats\\_morestats.py:4102: UserWarning: Sample size too small for normal approximation.\n",
      "  warnings.warn(\"Sample size too small for normal approximation.\")\n",
      "C:\\Users\\short\\anaconda3\\Lib\\site-packages\\scipy\\stats\\_morestats.py:4102: UserWarning: Sample size too small for normal approximation.\n",
      "  warnings.warn(\"Sample size too small for normal approximation.\")\n",
      "C:\\Users\\short\\anaconda3\\Lib\\site-packages\\scipy\\stats\\_morestats.py:4102: UserWarning: Sample size too small for normal approximation.\n",
      "  warnings.warn(\"Sample size too small for normal approximation.\")\n",
      "C:\\Users\\short\\anaconda3\\Lib\\site-packages\\scipy\\stats\\_morestats.py:4102: UserWarning: Sample size too small for normal approximation.\n",
      "  warnings.warn(\"Sample size too small for normal approximation.\")\n",
      "C:\\Users\\short\\anaconda3\\Lib\\site-packages\\scipy\\stats\\_morestats.py:4102: UserWarning: Sample size too small for normal approximation.\n",
      "  warnings.warn(\"Sample size too small for normal approximation.\")\n",
      "C:\\Users\\short\\anaconda3\\Lib\\site-packages\\scipy\\stats\\_morestats.py:4102: UserWarning: Sample size too small for normal approximation.\n",
      "  warnings.warn(\"Sample size too small for normal approximation.\")\n",
      "C:\\Users\\short\\anaconda3\\Lib\\site-packages\\scipy\\stats\\_morestats.py:4102: UserWarning: Sample size too small for normal approximation.\n",
      "  warnings.warn(\"Sample size too small for normal approximation.\")\n",
      "C:\\Users\\short\\anaconda3\\Lib\\site-packages\\scipy\\stats\\_morestats.py:4102: UserWarning: Sample size too small for normal approximation.\n",
      "  warnings.warn(\"Sample size too small for normal approximation.\")\n",
      "C:\\Users\\short\\anaconda3\\Lib\\site-packages\\scipy\\stats\\_morestats.py:4102: UserWarning: Sample size too small for normal approximation.\n",
      "  warnings.warn(\"Sample size too small for normal approximation.\")\n",
      "C:\\Users\\short\\anaconda3\\Lib\\site-packages\\scipy\\stats\\_morestats.py:4102: UserWarning: Sample size too small for normal approximation.\n",
      "  warnings.warn(\"Sample size too small for normal approximation.\")\n",
      "C:\\Users\\short\\anaconda3\\Lib\\site-packages\\scipy\\stats\\_morestats.py:4102: UserWarning: Sample size too small for normal approximation.\n",
      "  warnings.warn(\"Sample size too small for normal approximation.\")\n",
      "C:\\Users\\short\\anaconda3\\Lib\\site-packages\\scipy\\stats\\_morestats.py:4102: UserWarning: Sample size too small for normal approximation.\n",
      "  warnings.warn(\"Sample size too small for normal approximation.\")\n",
      "C:\\Users\\short\\anaconda3\\Lib\\site-packages\\scipy\\stats\\_morestats.py:4102: UserWarning: Sample size too small for normal approximation.\n",
      "  warnings.warn(\"Sample size too small for normal approximation.\")\n",
      "C:\\Users\\short\\anaconda3\\Lib\\site-packages\\scipy\\stats\\_morestats.py:4102: UserWarning: Sample size too small for normal approximation.\n",
      "  warnings.warn(\"Sample size too small for normal approximation.\")\n",
      "C:\\Users\\short\\anaconda3\\Lib\\site-packages\\scipy\\stats\\_morestats.py:4102: UserWarning: Sample size too small for normal approximation.\n",
      "  warnings.warn(\"Sample size too small for normal approximation.\")\n",
      "C:\\Users\\short\\anaconda3\\Lib\\site-packages\\scipy\\stats\\_morestats.py:4102: UserWarning: Sample size too small for normal approximation.\n",
      "  warnings.warn(\"Sample size too small for normal approximation.\")\n",
      "C:\\Users\\short\\anaconda3\\Lib\\site-packages\\scipy\\stats\\_morestats.py:4102: UserWarning: Sample size too small for normal approximation.\n",
      "  warnings.warn(\"Sample size too small for normal approximation.\")\n",
      "C:\\Users\\short\\anaconda3\\Lib\\site-packages\\scipy\\stats\\_morestats.py:4102: UserWarning: Sample size too small for normal approximation.\n",
      "  warnings.warn(\"Sample size too small for normal approximation.\")\n",
      "C:\\Users\\short\\anaconda3\\Lib\\site-packages\\scipy\\stats\\_morestats.py:4102: UserWarning: Sample size too small for normal approximation.\n",
      "  warnings.warn(\"Sample size too small for normal approximation.\")\n",
      "C:\\Users\\short\\anaconda3\\Lib\\site-packages\\scipy\\stats\\_morestats.py:4102: UserWarning: Sample size too small for normal approximation.\n",
      "  warnings.warn(\"Sample size too small for normal approximation.\")\n",
      "C:\\Users\\short\\anaconda3\\Lib\\site-packages\\scipy\\stats\\_morestats.py:4102: UserWarning: Sample size too small for normal approximation.\n",
      "  warnings.warn(\"Sample size too small for normal approximation.\")\n",
      "C:\\Users\\short\\anaconda3\\Lib\\site-packages\\scipy\\stats\\_morestats.py:4102: UserWarning: Sample size too small for normal approximation.\n",
      "  warnings.warn(\"Sample size too small for normal approximation.\")\n",
      "C:\\Users\\short\\anaconda3\\Lib\\site-packages\\scipy\\stats\\_morestats.py:4102: UserWarning: Sample size too small for normal approximation.\n",
      "  warnings.warn(\"Sample size too small for normal approximation.\")\n",
      "C:\\Users\\short\\anaconda3\\Lib\\site-packages\\scipy\\stats\\_morestats.py:4102: UserWarning: Sample size too small for normal approximation.\n",
      "  warnings.warn(\"Sample size too small for normal approximation.\")\n",
      "C:\\Users\\short\\anaconda3\\Lib\\site-packages\\scipy\\stats\\_morestats.py:4102: UserWarning: Sample size too small for normal approximation.\n",
      "  warnings.warn(\"Sample size too small for normal approximation.\")\n",
      "C:\\Users\\short\\anaconda3\\Lib\\site-packages\\scipy\\stats\\_morestats.py:4102: UserWarning: Sample size too small for normal approximation.\n",
      "  warnings.warn(\"Sample size too small for normal approximation.\")\n",
      "C:\\Users\\short\\anaconda3\\Lib\\site-packages\\scipy\\stats\\_morestats.py:4102: UserWarning: Sample size too small for normal approximation.\n",
      "  warnings.warn(\"Sample size too small for normal approximation.\")\n",
      "C:\\Users\\short\\anaconda3\\Lib\\site-packages\\scipy\\stats\\_morestats.py:4102: UserWarning: Sample size too small for normal approximation.\n",
      "  warnings.warn(\"Sample size too small for normal approximation.\")\n",
      "C:\\Users\\short\\anaconda3\\Lib\\site-packages\\scipy\\stats\\_morestats.py:4102: UserWarning: Sample size too small for normal approximation.\n",
      "  warnings.warn(\"Sample size too small for normal approximation.\")\n",
      "C:\\Users\\short\\anaconda3\\Lib\\site-packages\\scipy\\stats\\_morestats.py:4102: UserWarning: Sample size too small for normal approximation.\n",
      "  warnings.warn(\"Sample size too small for normal approximation.\")\n",
      "C:\\Users\\short\\anaconda3\\Lib\\site-packages\\scipy\\stats\\_morestats.py:4102: UserWarning: Sample size too small for normal approximation.\n",
      "  warnings.warn(\"Sample size too small for normal approximation.\")\n",
      "C:\\Users\\short\\anaconda3\\Lib\\site-packages\\scipy\\stats\\_morestats.py:4102: UserWarning: Sample size too small for normal approximation.\n",
      "  warnings.warn(\"Sample size too small for normal approximation.\")\n",
      "C:\\Users\\short\\anaconda3\\Lib\\site-packages\\scipy\\stats\\_morestats.py:4102: UserWarning: Sample size too small for normal approximation.\n",
      "  warnings.warn(\"Sample size too small for normal approximation.\")\n",
      "C:\\Users\\short\\anaconda3\\Lib\\site-packages\\scipy\\stats\\_morestats.py:4102: UserWarning: Sample size too small for normal approximation.\n",
      "  warnings.warn(\"Sample size too small for normal approximation.\")\n",
      "C:\\Users\\short\\anaconda3\\Lib\\site-packages\\scipy\\stats\\_morestats.py:4102: UserWarning: Sample size too small for normal approximation.\n",
      "  warnings.warn(\"Sample size too small for normal approximation.\")\n",
      "C:\\Users\\short\\anaconda3\\Lib\\site-packages\\scipy\\stats\\_morestats.py:4102: UserWarning: Sample size too small for normal approximation.\n",
      "  warnings.warn(\"Sample size too small for normal approximation.\")\n",
      "C:\\Users\\short\\anaconda3\\Lib\\site-packages\\scipy\\stats\\_morestats.py:4102: UserWarning: Sample size too small for normal approximation.\n",
      "  warnings.warn(\"Sample size too small for normal approximation.\")\n",
      "C:\\Users\\short\\anaconda3\\Lib\\site-packages\\scipy\\stats\\_morestats.py:4102: UserWarning: Sample size too small for normal approximation.\n",
      "  warnings.warn(\"Sample size too small for normal approximation.\")\n"
     ]
    }
   ],
   "source": [
    "first5_win_df5 = spike_analysis5.wilcox_baseline_v_event_collection(event='win', equalize=5, baseline_window=10, offset=0,  plot=False)\n",
    "first5_lose_df5 = spike_analysis5.wilcox_baseline_v_event_collection(event='lose', equalize=5, baseline_window=10, offset=0,  plot=False)\n",
    "\n",
    "last5_win_df5 = spike_analysis5.wilcox_baseline_v_event_collection(event='win', equalize=5, baseline_window=10, offset=-5,  plot=False)\n",
    "last5_lose_df5 = spike_analysis5.wilcox_baseline_v_event_collection(event='lose', equalize=5, baseline_window=10, offset=-5,  plot=False)\n",
    "\n",
    "first5_win_df100 = spike_analysis100.wilcox_baseline_v_event_collection(event='win', equalize=5, baseline_window=10, offset=0,  plot=False)\n",
    "first5_lose_df100 = spike_analysis100.wilcox_baseline_v_event_collection(event='lose', equalize=5, baseline_window=10, offset=0,  plot=False)\n",
    "\n",
    "last5_win_df100 = spike_analysis100.wilcox_baseline_v_event_collection(event='win', equalize=5, baseline_window=10, offset=-5,  plot=False)\n",
    "last5_lose_df100 = spike_analysis100.wilcox_baseline_v_event_collection(event='lose', equalize=5, baseline_window=10, offset=-5,  plot=False)"
   ]
  },
  {
   "cell_type": "code",
   "execution_count": 39,
   "id": "aab90a3e-9f4f-4491-bc4d-6b9ae4c92a3a",
   "metadata": {
    "execution": {
     "iopub.execute_input": "2024-05-14T18:05:27.018526Z",
     "iopub.status.busy": "2024-05-14T18:05:27.018526Z",
     "iopub.status.idle": "2024-05-14T18:05:27.063183Z",
     "shell.execute_reply": "2024-05-14T18:05:27.063183Z",
     "shell.execute_reply.started": "2024-05-14T18:05:27.018526Z"
    }
   },
   "outputs": [
    {
     "data": {
      "text/html": [
       "<div>\n",
       "<style scoped>\n",
       "    .dataframe tbody tr th:only-of-type {\n",
       "        vertical-align: middle;\n",
       "    }\n",
       "\n",
       "    .dataframe tbody tr th {\n",
       "        vertical-align: top;\n",
       "    }\n",
       "\n",
       "    .dataframe thead th {\n",
       "        text-align: right;\n",
       "    }\n",
       "</style>\n",
       "<table border=\"1\" class=\"dataframe\">\n",
       "  <thead>\n",
       "    <tr style=\"text-align: right;\">\n",
       "      <th></th>\n",
       "      <th>original unit id</th>\n",
       "      <th>Wilcoxon Stat</th>\n",
       "      <th>p value</th>\n",
       "      <th>event1 vs event2</th>\n",
       "      <th>Recording</th>\n",
       "      <th>Subject</th>\n",
       "      <th>Event</th>\n",
       "    </tr>\n",
       "  </thead>\n",
       "  <tbody>\n",
       "    <tr>\n",
       "      <th>0</th>\n",
       "      <td>85</td>\n",
       "      <td>NaN</td>\n",
       "      <td>NaN</td>\n",
       "      <td>not significant</td>\n",
       "      <td>20230612_101430_standard_comp_to_training_D1_s...</td>\n",
       "      <td>1-3</td>\n",
       "      <td>5s win vs 10s baseline</td>\n",
       "    </tr>\n",
       "    <tr>\n",
       "      <th>1</th>\n",
       "      <td>55</td>\n",
       "      <td>NaN</td>\n",
       "      <td>NaN</td>\n",
       "      <td>not significant</td>\n",
       "      <td>20230612_101430_standard_comp_to_training_D1_s...</td>\n",
       "      <td>1-3</td>\n",
       "      <td>5s win vs 10s baseline</td>\n",
       "    </tr>\n",
       "    <tr>\n",
       "      <th>2</th>\n",
       "      <td>17</td>\n",
       "      <td>NaN</td>\n",
       "      <td>NaN</td>\n",
       "      <td>not significant</td>\n",
       "      <td>20230612_101430_standard_comp_to_training_D1_s...</td>\n",
       "      <td>1-3</td>\n",
       "      <td>5s win vs 10s baseline</td>\n",
       "    </tr>\n",
       "    <tr>\n",
       "      <th>3</th>\n",
       "      <td>24</td>\n",
       "      <td>NaN</td>\n",
       "      <td>NaN</td>\n",
       "      <td>not significant</td>\n",
       "      <td>20230612_101430_standard_comp_to_training_D1_s...</td>\n",
       "      <td>1-3</td>\n",
       "      <td>5s win vs 10s baseline</td>\n",
       "    </tr>\n",
       "    <tr>\n",
       "      <th>4</th>\n",
       "      <td>68</td>\n",
       "      <td>NaN</td>\n",
       "      <td>NaN</td>\n",
       "      <td>not significant</td>\n",
       "      <td>20230612_101430_standard_comp_to_training_D1_s...</td>\n",
       "      <td>1-3</td>\n",
       "      <td>5s win vs 10s baseline</td>\n",
       "    </tr>\n",
       "    <tr>\n",
       "      <th>...</th>\n",
       "      <td>...</td>\n",
       "      <td>...</td>\n",
       "      <td>...</td>\n",
       "      <td>...</td>\n",
       "      <td>...</td>\n",
       "      <td>...</td>\n",
       "      <td>...</td>\n",
       "    </tr>\n",
       "    <tr>\n",
       "      <th>279</th>\n",
       "      <td>39</td>\n",
       "      <td>0.0</td>\n",
       "      <td>0.317311</td>\n",
       "      <td>not significant</td>\n",
       "      <td>20230625_112913_standard_comp_to_both_rewarded...</td>\n",
       "      <td>1-4</td>\n",
       "      <td>5s win vs 10s baseline</td>\n",
       "    </tr>\n",
       "    <tr>\n",
       "      <th>280</th>\n",
       "      <td>17</td>\n",
       "      <td>0.0</td>\n",
       "      <td>0.317311</td>\n",
       "      <td>not significant</td>\n",
       "      <td>20230625_112913_standard_comp_to_both_rewarded...</td>\n",
       "      <td>1-4</td>\n",
       "      <td>5s win vs 10s baseline</td>\n",
       "    </tr>\n",
       "    <tr>\n",
       "      <th>281</th>\n",
       "      <td>15</td>\n",
       "      <td>0.0</td>\n",
       "      <td>0.317311</td>\n",
       "      <td>not significant</td>\n",
       "      <td>20230625_112913_standard_comp_to_both_rewarded...</td>\n",
       "      <td>1-4</td>\n",
       "      <td>5s win vs 10s baseline</td>\n",
       "    </tr>\n",
       "    <tr>\n",
       "      <th>282</th>\n",
       "      <td>27</td>\n",
       "      <td>0.0</td>\n",
       "      <td>0.317311</td>\n",
       "      <td>not significant</td>\n",
       "      <td>20230625_112913_standard_comp_to_both_rewarded...</td>\n",
       "      <td>1-4</td>\n",
       "      <td>5s win vs 10s baseline</td>\n",
       "    </tr>\n",
       "    <tr>\n",
       "      <th>283</th>\n",
       "      <td>11</td>\n",
       "      <td>0.0</td>\n",
       "      <td>0.317311</td>\n",
       "      <td>not significant</td>\n",
       "      <td>20230625_112913_standard_comp_to_both_rewarded...</td>\n",
       "      <td>1-4</td>\n",
       "      <td>5s win vs 10s baseline</td>\n",
       "    </tr>\n",
       "  </tbody>\n",
       "</table>\n",
       "<p>284 rows × 7 columns</p>\n",
       "</div>"
      ],
      "text/plain": [
       "     original unit id  Wilcoxon Stat   p value event1 vs event2  \\\n",
       "0                  85            NaN       NaN  not significant   \n",
       "1                  55            NaN       NaN  not significant   \n",
       "2                  17            NaN       NaN  not significant   \n",
       "3                  24            NaN       NaN  not significant   \n",
       "4                  68            NaN       NaN  not significant   \n",
       "..                ...            ...       ...              ...   \n",
       "279                39            0.0  0.317311  not significant   \n",
       "280                17            0.0  0.317311  not significant   \n",
       "281                15            0.0  0.317311  not significant   \n",
       "282                27            0.0  0.317311  not significant   \n",
       "283                11            0.0  0.317311  not significant   \n",
       "\n",
       "                                             Recording Subject  \\\n",
       "0    20230612_101430_standard_comp_to_training_D1_s...     1-3   \n",
       "1    20230612_101430_standard_comp_to_training_D1_s...     1-3   \n",
       "2    20230612_101430_standard_comp_to_training_D1_s...     1-3   \n",
       "3    20230612_101430_standard_comp_to_training_D1_s...     1-3   \n",
       "4    20230612_101430_standard_comp_to_training_D1_s...     1-3   \n",
       "..                                                 ...     ...   \n",
       "279  20230625_112913_standard_comp_to_both_rewarded...     1-4   \n",
       "280  20230625_112913_standard_comp_to_both_rewarded...     1-4   \n",
       "281  20230625_112913_standard_comp_to_both_rewarded...     1-4   \n",
       "282  20230625_112913_standard_comp_to_both_rewarded...     1-4   \n",
       "283  20230625_112913_standard_comp_to_both_rewarded...     1-4   \n",
       "\n",
       "                      Event  \n",
       "0    5s win vs 10s baseline  \n",
       "1    5s win vs 10s baseline  \n",
       "2    5s win vs 10s baseline  \n",
       "3    5s win vs 10s baseline  \n",
       "4    5s win vs 10s baseline  \n",
       "..                      ...  \n",
       "279  5s win vs 10s baseline  \n",
       "280  5s win vs 10s baseline  \n",
       "281  5s win vs 10s baseline  \n",
       "282  5s win vs 10s baseline  \n",
       "283  5s win vs 10s baseline  \n",
       "\n",
       "[284 rows x 7 columns]"
      ]
     },
     "execution_count": 39,
     "metadata": {},
     "output_type": "execute_result"
    }
   ],
   "source": [
    "first5_win_df5"
   ]
  },
  {
   "cell_type": "code",
   "execution_count": 43,
   "id": "43f4c4e1-51c0-4b01-ab2d-13bc236be808",
   "metadata": {
    "execution": {
     "iopub.execute_input": "2024-05-14T18:46:19.236345Z",
     "iopub.status.busy": "2024-05-14T18:46:19.236345Z",
     "iopub.status.idle": "2024-05-14T18:46:19.263205Z",
     "shell.execute_reply": "2024-05-14T18:46:19.263205Z",
     "shell.execute_reply.started": "2024-05-14T18:46:19.236345Z"
    }
   },
   "outputs": [
    {
     "data": {
      "text/plain": [
       "event1 vs event2\n",
       "not significant    284\n",
       "Name: count, dtype: int64"
      ]
     },
     "execution_count": 43,
     "metadata": {},
     "output_type": "execute_result"
    }
   ],
   "source": [
    "first5_win_df5['event1 vs event2'].value_counts()"
   ]
  },
  {
   "cell_type": "code",
   "execution_count": 44,
   "id": "b001d496-db70-42a4-b14a-836927629049",
   "metadata": {
    "execution": {
     "iopub.execute_input": "2024-05-14T18:46:19.817656Z",
     "iopub.status.busy": "2024-05-14T18:46:19.817656Z",
     "iopub.status.idle": "2024-05-14T18:46:19.836318Z",
     "shell.execute_reply": "2024-05-14T18:46:19.836318Z",
     "shell.execute_reply.started": "2024-05-14T18:46:19.817656Z"
    }
   },
   "outputs": [
    {
     "data": {
      "text/plain": [
       "event1 vs event2\n",
       "not significant    284\n",
       "Name: count, dtype: int64"
      ]
     },
     "execution_count": 44,
     "metadata": {},
     "output_type": "execute_result"
    }
   ],
   "source": [
    "first5_lose_df5['event1 vs event2'].value_counts()"
   ]
  },
  {
   "cell_type": "code",
   "execution_count": 45,
   "id": "5bef2589-fdf5-4755-b377-adcdd01b6bd4",
   "metadata": {
    "execution": {
     "iopub.execute_input": "2024-05-14T18:46:20.398731Z",
     "iopub.status.busy": "2024-05-14T18:46:20.398731Z",
     "iopub.status.idle": "2024-05-14T18:46:20.421426Z",
     "shell.execute_reply": "2024-05-14T18:46:20.421426Z",
     "shell.execute_reply.started": "2024-05-14T18:46:20.398731Z"
    }
   },
   "outputs": [
    {
     "data": {
      "text/plain": [
       "event1 vs event2\n",
       "not significant    284\n",
       "Name: count, dtype: int64"
      ]
     },
     "execution_count": 45,
     "metadata": {},
     "output_type": "execute_result"
    }
   ],
   "source": [
    "last5_win_df5['event1 vs event2'].value_counts()\n"
   ]
  },
  {
   "cell_type": "code",
   "execution_count": 46,
   "id": "ddd6fa29-1488-4ad2-8ac1-2f8a4a593ead",
   "metadata": {
    "execution": {
     "iopub.execute_input": "2024-05-14T18:46:21.042511Z",
     "iopub.status.busy": "2024-05-14T18:46:21.042511Z",
     "iopub.status.idle": "2024-05-14T18:46:21.060534Z",
     "shell.execute_reply": "2024-05-14T18:46:21.060534Z",
     "shell.execute_reply.started": "2024-05-14T18:46:21.042511Z"
    }
   },
   "outputs": [
    {
     "data": {
      "text/plain": [
       "event1 vs event2\n",
       "not significant    284\n",
       "Name: count, dtype: int64"
      ]
     },
     "execution_count": 46,
     "metadata": {},
     "output_type": "execute_result"
    }
   ],
   "source": [
    "last5_lose_df5['event1 vs event2'].value_counts()"
   ]
  },
  {
   "cell_type": "code",
   "execution_count": 47,
   "id": "22c1166d-6ae6-44ff-bf43-d33f85cd27c6",
   "metadata": {
    "execution": {
     "iopub.execute_input": "2024-05-14T18:46:21.764330Z",
     "iopub.status.busy": "2024-05-14T18:46:21.764330Z",
     "iopub.status.idle": "2024-05-14T18:46:21.788071Z",
     "shell.execute_reply": "2024-05-14T18:46:21.788071Z",
     "shell.execute_reply.started": "2024-05-14T18:46:21.764330Z"
    }
   },
   "outputs": [
    {
     "data": {
      "text/plain": [
       "event1 vs event2\n",
       "not significant    267\n",
       "increases           16\n",
       "decreases            1\n",
       "Name: count, dtype: int64"
      ]
     },
     "execution_count": 47,
     "metadata": {},
     "output_type": "execute_result"
    }
   ],
   "source": [
    "first5_win_df100['event1 vs event2'].value_counts()"
   ]
  },
  {
   "cell_type": "code",
   "execution_count": 48,
   "id": "7aaf4553-f47b-4ed2-beb4-9119a18716a7",
   "metadata": {
    "execution": {
     "iopub.execute_input": "2024-05-14T18:46:22.409172Z",
     "iopub.status.busy": "2024-05-14T18:46:22.409172Z",
     "iopub.status.idle": "2024-05-14T18:46:22.429661Z",
     "shell.execute_reply": "2024-05-14T18:46:22.429661Z",
     "shell.execute_reply.started": "2024-05-14T18:46:22.409172Z"
    }
   },
   "outputs": [
    {
     "data": {
      "text/plain": [
       "event1 vs event2\n",
       "not significant    272\n",
       "increases           10\n",
       "decreases            2\n",
       "Name: count, dtype: int64"
      ]
     },
     "execution_count": 48,
     "metadata": {},
     "output_type": "execute_result"
    }
   ],
   "source": [
    "first5_lose_df100['event1 vs event2'].value_counts()"
   ]
  },
  {
   "cell_type": "code",
   "execution_count": 49,
   "id": "5701c3bc-510d-463b-a89d-528120d00bfd",
   "metadata": {
    "execution": {
     "iopub.execute_input": "2024-05-14T18:46:23.460217Z",
     "iopub.status.busy": "2024-05-14T18:46:23.460217Z",
     "iopub.status.idle": "2024-05-14T18:46:23.476779Z",
     "shell.execute_reply": "2024-05-14T18:46:23.476779Z",
     "shell.execute_reply.started": "2024-05-14T18:46:23.460217Z"
    }
   },
   "outputs": [
    {
     "data": {
      "text/plain": [
       "event1 vs event2\n",
       "not significant    272\n",
       "increases           11\n",
       "decreases            1\n",
       "Name: count, dtype: int64"
      ]
     },
     "execution_count": 49,
     "metadata": {},
     "output_type": "execute_result"
    }
   ],
   "source": [
    "last5_win_df100['event1 vs event2'].value_counts()"
   ]
  },
  {
   "cell_type": "code",
   "execution_count": 50,
   "id": "cb56ad0a-9ace-4894-8db8-ce9fa2384823",
   "metadata": {
    "execution": {
     "iopub.execute_input": "2024-05-14T18:46:24.308462Z",
     "iopub.status.busy": "2024-05-14T18:46:24.308462Z",
     "iopub.status.idle": "2024-05-14T18:46:24.325448Z",
     "shell.execute_reply": "2024-05-14T18:46:24.325448Z",
     "shell.execute_reply.started": "2024-05-14T18:46:24.308462Z"
    }
   },
   "outputs": [
    {
     "data": {
      "text/plain": [
       "event1 vs event2\n",
       "not significant    272\n",
       "increases           11\n",
       "decreases            1\n",
       "Name: count, dtype: int64"
      ]
     },
     "execution_count": 50,
     "metadata": {},
     "output_type": "execute_result"
    }
   ],
   "source": [
    "last5_lose_df100['event1 vs event2'].value_counts()"
   ]
  },
  {
   "cell_type": "code",
   "execution_count": 52,
   "id": "4634e4a8-c5c8-4327-9e66-56eb27337093",
   "metadata": {
    "execution": {
     "iopub.execute_input": "2024-05-14T18:48:21.506292Z",
     "iopub.status.busy": "2024-05-14T18:48:21.506292Z",
     "iopub.status.idle": "2024-05-14T18:48:21.533645Z",
     "shell.execute_reply": "2024-05-14T18:48:21.533645Z",
     "shell.execute_reply.started": "2024-05-14T18:48:21.506292Z"
    }
   },
   "outputs": [
    {
     "data": {
      "text/plain": [
       "p value\n",
       "0.317311    181\n",
       "Name: count, dtype: int64"
      ]
     },
     "execution_count": 52,
     "metadata": {},
     "output_type": "execute_result"
    }
   ],
   "source": [
    "first5_win_df5['p value'].value_counts()"
   ]
  },
  {
   "cell_type": "code",
   "execution_count": 53,
   "id": "281d878b-bee2-464d-97fd-ae878cf7f998",
   "metadata": {
    "execution": {
     "iopub.execute_input": "2024-05-14T18:49:50.154257Z",
     "iopub.status.busy": "2024-05-14T18:49:50.154257Z",
     "iopub.status.idle": "2024-05-14T18:50:05.094497Z",
     "shell.execute_reply": "2024-05-14T18:50:05.089482Z",
     "shell.execute_reply.started": "2024-05-14T18:49:50.154257Z"
    }
   },
   "outputs": [
    {
     "name": "stderr",
     "output_type": "stream",
     "text": [
      "C:\\Users\\short\\anaconda3\\Lib\\site-packages\\scipy\\stats\\_morestats.py:4102: UserWarning: Sample size too small for normal approximation.\n",
      "  warnings.warn(\"Sample size too small for normal approximation.\")\n",
      "C:\\Users\\short\\anaconda3\\Lib\\site-packages\\scipy\\stats\\_morestats.py:4102: UserWarning: Sample size too small for normal approximation.\n",
      "  warnings.warn(\"Sample size too small for normal approximation.\")\n",
      "C:\\Users\\short\\anaconda3\\Lib\\site-packages\\scipy\\stats\\_morestats.py:4102: UserWarning: Sample size too small for normal approximation.\n",
      "  warnings.warn(\"Sample size too small for normal approximation.\")\n",
      "C:\\Users\\short\\anaconda3\\Lib\\site-packages\\scipy\\stats\\_morestats.py:4102: UserWarning: Sample size too small for normal approximation.\n",
      "  warnings.warn(\"Sample size too small for normal approximation.\")\n",
      "C:\\Users\\short\\anaconda3\\Lib\\site-packages\\scipy\\stats\\_morestats.py:4102: UserWarning: Sample size too small for normal approximation.\n",
      "  warnings.warn(\"Sample size too small for normal approximation.\")\n",
      "C:\\Users\\short\\anaconda3\\Lib\\site-packages\\scipy\\stats\\_morestats.py:4102: UserWarning: Sample size too small for normal approximation.\n",
      "  warnings.warn(\"Sample size too small for normal approximation.\")\n",
      "C:\\Users\\short\\anaconda3\\Lib\\site-packages\\scipy\\stats\\_morestats.py:4102: UserWarning: Sample size too small for normal approximation.\n",
      "  warnings.warn(\"Sample size too small for normal approximation.\")\n",
      "C:\\Users\\short\\anaconda3\\Lib\\site-packages\\scipy\\stats\\_morestats.py:4102: UserWarning: Sample size too small for normal approximation.\n",
      "  warnings.warn(\"Sample size too small for normal approximation.\")\n",
      "C:\\Users\\short\\anaconda3\\Lib\\site-packages\\scipy\\stats\\_morestats.py:4102: UserWarning: Sample size too small for normal approximation.\n",
      "  warnings.warn(\"Sample size too small for normal approximation.\")\n",
      "C:\\Users\\short\\anaconda3\\Lib\\site-packages\\scipy\\stats\\_morestats.py:4102: UserWarning: Sample size too small for normal approximation.\n",
      "  warnings.warn(\"Sample size too small for normal approximation.\")\n",
      "C:\\Users\\short\\anaconda3\\Lib\\site-packages\\scipy\\stats\\_morestats.py:4102: UserWarning: Sample size too small for normal approximation.\n",
      "  warnings.warn(\"Sample size too small for normal approximation.\")\n",
      "C:\\Users\\short\\anaconda3\\Lib\\site-packages\\scipy\\stats\\_morestats.py:4102: UserWarning: Sample size too small for normal approximation.\n",
      "  warnings.warn(\"Sample size too small for normal approximation.\")\n",
      "C:\\Users\\short\\anaconda3\\Lib\\site-packages\\scipy\\stats\\_morestats.py:4102: UserWarning: Sample size too small for normal approximation.\n",
      "  warnings.warn(\"Sample size too small for normal approximation.\")\n",
      "C:\\Users\\short\\anaconda3\\Lib\\site-packages\\scipy\\stats\\_morestats.py:4102: UserWarning: Sample size too small for normal approximation.\n",
      "  warnings.warn(\"Sample size too small for normal approximation.\")\n",
      "C:\\Users\\short\\anaconda3\\Lib\\site-packages\\scipy\\stats\\_morestats.py:4102: UserWarning: Sample size too small for normal approximation.\n",
      "  warnings.warn(\"Sample size too small for normal approximation.\")\n",
      "C:\\Users\\short\\anaconda3\\Lib\\site-packages\\scipy\\stats\\_morestats.py:4102: UserWarning: Sample size too small for normal approximation.\n",
      "  warnings.warn(\"Sample size too small for normal approximation.\")\n",
      "C:\\Users\\short\\anaconda3\\Lib\\site-packages\\scipy\\stats\\_morestats.py:4102: UserWarning: Sample size too small for normal approximation.\n",
      "  warnings.warn(\"Sample size too small for normal approximation.\")\n"
     ]
    },
    {
     "name": "stdout",
     "output_type": "stream",
     "text": [
      "Unit 85 has 4506 spikes\n",
      "Unit 55 has 29799 spikes\n",
      "Unit 17 has 4188 spikes\n",
      "Unit 24 has 12400 spikes\n",
      "Unit 68 has 4291 spikes\n",
      "Unit 65 has 10496 spikes\n",
      "Unit 98 has 3896 spikes\n",
      "Unit 94 has 7186 spikes\n",
      "Unit 2 has 8832 spikes\n",
      "Unit 33 has 11600 spikes\n",
      "Unit 13 has 19422 spikes\n",
      "Unit 59 has 4829 spikes\n",
      "Unit 81 has 10146 spikes\n",
      "Unit 19 has 14167 spikes\n",
      "Unit 88 has 3594 spikes\n",
      "Unit 26 has 6668 spikes\n",
      "Unit 5 has 5048 spikes\n",
      "Unit 36 has 23308 spikes\n",
      "Unit 57 has 3420 spikes\n"
     ]
    },
    {
     "ename": "ValueError",
     "evalue": "Length mismatch: Expected axis has 0 elements, new values have 2 elements",
     "output_type": "error",
     "traceback": [
      "\u001b[1;31m---------------------------------------------------------------------------\u001b[0m",
      "\u001b[1;31mValueError\u001b[0m                                Traceback (most recent call last)",
      "Cell \u001b[1;32mIn[53], line 4\u001b[0m\n\u001b[0;32m      1\u001b[0m first5_win_df5 \u001b[38;5;241m=\u001b[39m spike_analysis5\u001b[38;5;241m.\u001b[39mwilcox_baseline_v_event_collection(event\u001b[38;5;241m=\u001b[39m\u001b[38;5;124m'\u001b[39m\u001b[38;5;124mwin\u001b[39m\u001b[38;5;124m'\u001b[39m, equalize\u001b[38;5;241m=\u001b[39m\u001b[38;5;241m5\u001b[39m, baseline_window\u001b[38;5;241m=\u001b[39m\u001b[38;5;241m5\u001b[39m, offset\u001b[38;5;241m=\u001b[39m\u001b[38;5;241m0\u001b[39m,  plot\u001b[38;5;241m=\u001b[39m\u001b[38;5;28;01mFalse\u001b[39;00m)\n\u001b[0;32m      2\u001b[0m first5_lose_df5 \u001b[38;5;241m=\u001b[39m spike_analysis5\u001b[38;5;241m.\u001b[39mwilcox_baseline_v_event_collection(event\u001b[38;5;241m=\u001b[39m\u001b[38;5;124m'\u001b[39m\u001b[38;5;124mlose\u001b[39m\u001b[38;5;124m'\u001b[39m, equalize\u001b[38;5;241m=\u001b[39m\u001b[38;5;241m5\u001b[39m, baseline_window\u001b[38;5;241m=\u001b[39m\u001b[38;5;241m5\u001b[39m, offset\u001b[38;5;241m=\u001b[39m\u001b[38;5;241m0\u001b[39m,  plot\u001b[38;5;241m=\u001b[39m\u001b[38;5;28;01mFalse\u001b[39;00m)\n\u001b[1;32m----> 4\u001b[0m last5_win_df5 \u001b[38;5;241m=\u001b[39m spike_analysis5\u001b[38;5;241m.\u001b[39mwilcox_baseline_v_event_collection(event\u001b[38;5;241m=\u001b[39m\u001b[38;5;124m'\u001b[39m\u001b[38;5;124mwin\u001b[39m\u001b[38;5;124m'\u001b[39m, equalize\u001b[38;5;241m=\u001b[39m\u001b[38;5;241m5\u001b[39m, baseline_window\u001b[38;5;241m=\u001b[39m\u001b[38;5;241m5\u001b[39m, offset\u001b[38;5;241m=\u001b[39m\u001b[38;5;241m-\u001b[39m\u001b[38;5;241m5\u001b[39m,  plot\u001b[38;5;241m=\u001b[39m\u001b[38;5;28;01mFalse\u001b[39;00m)\n\u001b[0;32m      5\u001b[0m last5_lose_df5 \u001b[38;5;241m=\u001b[39m spike_analysis5\u001b[38;5;241m.\u001b[39mwilcox_baseline_v_event_collection(event\u001b[38;5;241m=\u001b[39m\u001b[38;5;124m'\u001b[39m\u001b[38;5;124mlose\u001b[39m\u001b[38;5;124m'\u001b[39m, equalize\u001b[38;5;241m=\u001b[39m\u001b[38;5;241m5\u001b[39m, baseline_window\u001b[38;5;241m=\u001b[39m\u001b[38;5;241m5\u001b[39m, offset\u001b[38;5;241m=\u001b[39m\u001b[38;5;241m-\u001b[39m\u001b[38;5;241m5\u001b[39m,  plot\u001b[38;5;241m=\u001b[39m\u001b[38;5;28;01mFalse\u001b[39;00m)\n\u001b[0;32m      7\u001b[0m first5_win_df100 \u001b[38;5;241m=\u001b[39m spike_analysis100\u001b[38;5;241m.\u001b[39mwilcox_baseline_v_event_collection(event\u001b[38;5;241m=\u001b[39m\u001b[38;5;124m'\u001b[39m\u001b[38;5;124mwin\u001b[39m\u001b[38;5;124m'\u001b[39m, equalize\u001b[38;5;241m=\u001b[39m\u001b[38;5;241m5\u001b[39m, baseline_window\u001b[38;5;241m=\u001b[39m\u001b[38;5;241m5\u001b[39m, offset\u001b[38;5;241m=\u001b[39m\u001b[38;5;241m0\u001b[39m,  plot\u001b[38;5;241m=\u001b[39m\u001b[38;5;28;01mFalse\u001b[39;00m)\n",
      "File \u001b[1;32m~\\Documents\\GitHub\\npc_playground\\multirecording_spikeanalysis_edit.py:1015\u001b[0m, in \u001b[0;36mSpikeAnalysis_MultiRecording.wilcox_baseline_v_event_collection\u001b[1;34m(self, event, equalize, baseline_window, offset, exclude_offset, plot, save)\u001b[0m\n\u001b[0;32m   1010\u001b[0m is_first \u001b[38;5;241m=\u001b[39m \u001b[38;5;28;01mTrue\u001b[39;00m\n\u001b[0;32m   1011\u001b[0m \u001b[38;5;28;01mfor\u001b[39;00m (\n\u001b[0;32m   1012\u001b[0m     recording_name,\n\u001b[0;32m   1013\u001b[0m     recording,\n\u001b[0;32m   1014\u001b[0m ) \u001b[38;5;129;01min\u001b[39;00m \u001b[38;5;28mself\u001b[39m\u001b[38;5;241m.\u001b[39mephyscollection\u001b[38;5;241m.\u001b[39mcollection\u001b[38;5;241m.\u001b[39mitems():\n\u001b[1;32m-> 1015\u001b[0m     recording_df \u001b[38;5;241m=\u001b[39m \u001b[38;5;28mself\u001b[39m\u001b[38;5;241m.\u001b[39m__wilcox_baseline_v_event_stats__(\n\u001b[0;32m   1016\u001b[0m         recording_name, recording, event, equalize, baseline_window, offset, \n\u001b[0;32m   1017\u001b[0m         exclude_offset, save\n\u001b[0;32m   1018\u001b[0m     )\n\u001b[0;32m   1019\u001b[0m     recording_df \u001b[38;5;241m=\u001b[39m recording_df\u001b[38;5;241m.\u001b[39mreset_index()\u001b[38;5;241m.\u001b[39mrename(\n\u001b[0;32m   1020\u001b[0m         columns\u001b[38;5;241m=\u001b[39m{\u001b[38;5;124m\"\u001b[39m\u001b[38;5;124mindex\u001b[39m\u001b[38;5;124m\"\u001b[39m: \u001b[38;5;124m\"\u001b[39m\u001b[38;5;124moriginal unit id\u001b[39m\u001b[38;5;124m\"\u001b[39m}\n\u001b[0;32m   1021\u001b[0m     )\n\u001b[0;32m   1022\u001b[0m     recording_df[\u001b[38;5;124m\"\u001b[39m\u001b[38;5;124mRecording\u001b[39m\u001b[38;5;124m\"\u001b[39m] \u001b[38;5;241m=\u001b[39m recording_name\n",
      "File \u001b[1;32m~\\Documents\\GitHub\\npc_playground\\multirecording_spikeanalysis_edit.py:963\u001b[0m, in \u001b[0;36mSpikeAnalysis_MultiRecording.__wilcox_baseline_v_event_stats__\u001b[1;34m(self, recording_name, recording, event, equalize, baseline_window, offset, exclude_offset, save)\u001b[0m\n\u001b[0;32m    961\u001b[0m         wilcoxon_stats[unit] \u001b[38;5;241m=\u001b[39m [np\u001b[38;5;241m.\u001b[39mnan, np\u001b[38;5;241m.\u001b[39mnan]\n\u001b[0;32m    962\u001b[0m wilcoxon_df \u001b[38;5;241m=\u001b[39m pd\u001b[38;5;241m.\u001b[39mDataFrame\u001b[38;5;241m.\u001b[39mfrom_dict(wilcoxon_stats, orient\u001b[38;5;241m=\u001b[39m\u001b[38;5;124m'\u001b[39m\u001b[38;5;124mindex\u001b[39m\u001b[38;5;124m'\u001b[39m)\n\u001b[1;32m--> 963\u001b[0m wilcoxon_df\u001b[38;5;241m.\u001b[39mcolumns \u001b[38;5;241m=\u001b[39m [\u001b[38;5;124m'\u001b[39m\u001b[38;5;124mWilcoxon Stat\u001b[39m\u001b[38;5;124m'\u001b[39m, \u001b[38;5;124m'\u001b[39m\u001b[38;5;124mp value\u001b[39m\u001b[38;5;124m'\u001b[39m]\n\u001b[0;32m    964\u001b[0m wilcoxon_df[\u001b[38;5;124m'\u001b[39m\u001b[38;5;124mevent1 vs event2\u001b[39m\u001b[38;5;124m'\u001b[39m] \u001b[38;5;241m=\u001b[39m wilcoxon_df\u001b[38;5;241m.\u001b[39mapply(\u001b[38;5;28;01mlambda\u001b[39;00m row: w_assessment(row[\u001b[38;5;124m'\u001b[39m\u001b[38;5;124mp value\u001b[39m\u001b[38;5;124m'\u001b[39m], row[\u001b[38;5;124m'\u001b[39m\u001b[38;5;124mWilcoxon Stat\u001b[39m\u001b[38;5;124m'\u001b[39m]), axis\u001b[38;5;241m=\u001b[39m\u001b[38;5;241m1\u001b[39m)\n\u001b[0;32m    965\u001b[0m wilcox_key \u001b[38;5;241m=\u001b[39m \u001b[38;5;124mf\u001b[39m\u001b[38;5;124m'\u001b[39m\u001b[38;5;132;01m{\u001b[39;00mequalize\u001b[38;5;132;01m}\u001b[39;00m\u001b[38;5;124ms \u001b[39m\u001b[38;5;132;01m{\u001b[39;00mevent\u001b[38;5;132;01m}\u001b[39;00m\u001b[38;5;124m vs \u001b[39m\u001b[38;5;132;01m{\u001b[39;00mbaseline_window\u001b[38;5;132;01m}\u001b[39;00m\u001b[38;5;124ms baseline\u001b[39m\u001b[38;5;124m'\u001b[39m\n",
      "File \u001b[1;32m~\\anaconda3\\Lib\\site-packages\\pandas\\core\\generic.py:6218\u001b[0m, in \u001b[0;36mNDFrame.__setattr__\u001b[1;34m(self, name, value)\u001b[0m\n\u001b[0;32m   6216\u001b[0m \u001b[38;5;28;01mtry\u001b[39;00m:\n\u001b[0;32m   6217\u001b[0m     \u001b[38;5;28mobject\u001b[39m\u001b[38;5;241m.\u001b[39m\u001b[38;5;21m__getattribute__\u001b[39m(\u001b[38;5;28mself\u001b[39m, name)\n\u001b[1;32m-> 6218\u001b[0m     \u001b[38;5;28;01mreturn\u001b[39;00m \u001b[38;5;28mobject\u001b[39m\u001b[38;5;241m.\u001b[39m\u001b[38;5;21m__setattr__\u001b[39m(\u001b[38;5;28mself\u001b[39m, name, value)\n\u001b[0;32m   6219\u001b[0m \u001b[38;5;28;01mexcept\u001b[39;00m \u001b[38;5;167;01mAttributeError\u001b[39;00m:\n\u001b[0;32m   6220\u001b[0m     \u001b[38;5;28;01mpass\u001b[39;00m\n",
      "File \u001b[1;32mproperties.pyx:69\u001b[0m, in \u001b[0;36mpandas._libs.properties.AxisProperty.__set__\u001b[1;34m()\u001b[0m\n",
      "File \u001b[1;32m~\\anaconda3\\Lib\\site-packages\\pandas\\core\\generic.py:767\u001b[0m, in \u001b[0;36mNDFrame._set_axis\u001b[1;34m(self, axis, labels)\u001b[0m\n\u001b[0;32m    762\u001b[0m \u001b[38;5;250m\u001b[39m\u001b[38;5;124;03m\"\"\"\u001b[39;00m\n\u001b[0;32m    763\u001b[0m \u001b[38;5;124;03mThis is called from the cython code when we set the `index` attribute\u001b[39;00m\n\u001b[0;32m    764\u001b[0m \u001b[38;5;124;03mdirectly, e.g. `series.index = [1, 2, 3]`.\u001b[39;00m\n\u001b[0;32m    765\u001b[0m \u001b[38;5;124;03m\"\"\"\u001b[39;00m\n\u001b[0;32m    766\u001b[0m labels \u001b[38;5;241m=\u001b[39m ensure_index(labels)\n\u001b[1;32m--> 767\u001b[0m \u001b[38;5;28mself\u001b[39m\u001b[38;5;241m.\u001b[39m_mgr\u001b[38;5;241m.\u001b[39mset_axis(axis, labels)\n\u001b[0;32m    768\u001b[0m \u001b[38;5;28mself\u001b[39m\u001b[38;5;241m.\u001b[39m_clear_item_cache()\n",
      "File \u001b[1;32m~\\anaconda3\\Lib\\site-packages\\pandas\\core\\internals\\managers.py:227\u001b[0m, in \u001b[0;36mBaseBlockManager.set_axis\u001b[1;34m(self, axis, new_labels)\u001b[0m\n\u001b[0;32m    225\u001b[0m \u001b[38;5;28;01mdef\u001b[39;00m \u001b[38;5;21mset_axis\u001b[39m(\u001b[38;5;28mself\u001b[39m, axis: AxisInt, new_labels: Index) \u001b[38;5;241m-\u001b[39m\u001b[38;5;241m>\u001b[39m \u001b[38;5;28;01mNone\u001b[39;00m:\n\u001b[0;32m    226\u001b[0m     \u001b[38;5;66;03m# Caller is responsible for ensuring we have an Index object.\u001b[39;00m\n\u001b[1;32m--> 227\u001b[0m     \u001b[38;5;28mself\u001b[39m\u001b[38;5;241m.\u001b[39m_validate_set_axis(axis, new_labels)\n\u001b[0;32m    228\u001b[0m     \u001b[38;5;28mself\u001b[39m\u001b[38;5;241m.\u001b[39maxes[axis] \u001b[38;5;241m=\u001b[39m new_labels\n",
      "File \u001b[1;32m~\\anaconda3\\Lib\\site-packages\\pandas\\core\\internals\\base.py:85\u001b[0m, in \u001b[0;36mDataManager._validate_set_axis\u001b[1;34m(self, axis, new_labels)\u001b[0m\n\u001b[0;32m     82\u001b[0m     \u001b[38;5;28;01mpass\u001b[39;00m\n\u001b[0;32m     84\u001b[0m \u001b[38;5;28;01melif\u001b[39;00m new_len \u001b[38;5;241m!=\u001b[39m old_len:\n\u001b[1;32m---> 85\u001b[0m     \u001b[38;5;28;01mraise\u001b[39;00m \u001b[38;5;167;01mValueError\u001b[39;00m(\n\u001b[0;32m     86\u001b[0m         \u001b[38;5;124mf\u001b[39m\u001b[38;5;124m\"\u001b[39m\u001b[38;5;124mLength mismatch: Expected axis has \u001b[39m\u001b[38;5;132;01m{\u001b[39;00mold_len\u001b[38;5;132;01m}\u001b[39;00m\u001b[38;5;124m elements, new \u001b[39m\u001b[38;5;124m\"\u001b[39m\n\u001b[0;32m     87\u001b[0m         \u001b[38;5;124mf\u001b[39m\u001b[38;5;124m\"\u001b[39m\u001b[38;5;124mvalues have \u001b[39m\u001b[38;5;132;01m{\u001b[39;00mnew_len\u001b[38;5;132;01m}\u001b[39;00m\u001b[38;5;124m elements\u001b[39m\u001b[38;5;124m\"\u001b[39m\n\u001b[0;32m     88\u001b[0m     )\n",
      "\u001b[1;31mValueError\u001b[0m: Length mismatch: Expected axis has 0 elements, new values have 2 elements"
     ]
    }
   ],
   "source": [
    "first5_win_df5 = spike_analysis5.wilcox_baseline_v_event_collection(event='win', equalize=5, baseline_window=5, offset=0,  plot=False)\n",
    "first5_lose_df5 = spike_analysis5.wilcox_baseline_v_event_collection(event='lose', equalize=5, baseline_window=5, offset=0,  plot=False)\n",
    "\n",
    "last5_win_df5 = spike_analysis5.wilcox_baseline_v_event_collection(event='win', equalize=5, baseline_window=5, offset=-5,  plot=False)\n",
    "last5_lose_df5 = spike_analysis5.wilcox_baseline_v_event_collection(event='lose', equalize=5, baseline_window=5, offset=-5,  plot=False)\n",
    "\n",
    "first5_win_df100 = spike_analysis100.wilcox_baseline_v_event_collection(event='win', equalize=5, baseline_window=5, offset=0,  plot=False)\n",
    "first5_lose_df100 = spike_analysis100.wilcox_baseline_v_event_collection(event='lose', equalize=5, baseline_window=5, offset=0,  plot=False)\n",
    "\n",
    "last5_win_df100 = spike_analysis100.wilcox_baseline_v_event_collection(event='win', equalize=5, baseline_window=5, offset=-5,  plot=False)\n",
    "last5_lose_df100 = spike_analysis100.wilcox_baseline_v_event_collection(event='lose', equalize=5, baseline_window=5, offset=-5,  plot=False)"
   ]
  },
  {
   "cell_type": "code",
   "execution_count": 54,
   "id": "88423250-036a-47fd-ac69-0e2db1b65a5e",
   "metadata": {
    "execution": {
     "iopub.execute_input": "2024-05-14T18:51:04.619942Z",
     "iopub.status.busy": "2024-05-14T18:51:04.619942Z",
     "iopub.status.idle": "2024-05-14T18:51:06.660326Z",
     "shell.execute_reply": "2024-05-14T18:51:06.659294Z",
     "shell.execute_reply.started": "2024-05-14T18:51:04.619942Z"
    }
   },
   "outputs": [
    {
     "name": "stderr",
     "output_type": "stream",
     "text": [
      "C:\\Users\\short\\anaconda3\\Lib\\site-packages\\scipy\\stats\\_morestats.py:4102: UserWarning: Sample size too small for normal approximation.\n",
      "  warnings.warn(\"Sample size too small for normal approximation.\")\n",
      "C:\\Users\\short\\anaconda3\\Lib\\site-packages\\scipy\\stats\\_morestats.py:4102: UserWarning: Sample size too small for normal approximation.\n",
      "  warnings.warn(\"Sample size too small for normal approximation.\")\n",
      "C:\\Users\\short\\anaconda3\\Lib\\site-packages\\scipy\\stats\\_morestats.py:4102: UserWarning: Sample size too small for normal approximation.\n",
      "  warnings.warn(\"Sample size too small for normal approximation.\")\n",
      "C:\\Users\\short\\anaconda3\\Lib\\site-packages\\scipy\\stats\\_morestats.py:4102: UserWarning: Sample size too small for normal approximation.\n",
      "  warnings.warn(\"Sample size too small for normal approximation.\")\n",
      "C:\\Users\\short\\anaconda3\\Lib\\site-packages\\scipy\\stats\\_morestats.py:4102: UserWarning: Sample size too small for normal approximation.\n",
      "  warnings.warn(\"Sample size too small for normal approximation.\")\n",
      "C:\\Users\\short\\anaconda3\\Lib\\site-packages\\scipy\\stats\\_morestats.py:4102: UserWarning: Sample size too small for normal approximation.\n",
      "  warnings.warn(\"Sample size too small for normal approximation.\")\n",
      "C:\\Users\\short\\anaconda3\\Lib\\site-packages\\scipy\\stats\\_morestats.py:4102: UserWarning: Sample size too small for normal approximation.\n",
      "  warnings.warn(\"Sample size too small for normal approximation.\")\n",
      "C:\\Users\\short\\anaconda3\\Lib\\site-packages\\scipy\\stats\\_morestats.py:4102: UserWarning: Sample size too small for normal approximation.\n",
      "  warnings.warn(\"Sample size too small for normal approximation.\")\n",
      "C:\\Users\\short\\anaconda3\\Lib\\site-packages\\scipy\\stats\\_morestats.py:4102: UserWarning: Sample size too small for normal approximation.\n",
      "  warnings.warn(\"Sample size too small for normal approximation.\")\n",
      "C:\\Users\\short\\anaconda3\\Lib\\site-packages\\scipy\\stats\\_morestats.py:4102: UserWarning: Sample size too small for normal approximation.\n",
      "  warnings.warn(\"Sample size too small for normal approximation.\")\n",
      "C:\\Users\\short\\anaconda3\\Lib\\site-packages\\scipy\\stats\\_morestats.py:4102: UserWarning: Sample size too small for normal approximation.\n",
      "  warnings.warn(\"Sample size too small for normal approximation.\")\n",
      "C:\\Users\\short\\anaconda3\\Lib\\site-packages\\scipy\\stats\\_morestats.py:4102: UserWarning: Sample size too small for normal approximation.\n",
      "  warnings.warn(\"Sample size too small for normal approximation.\")\n",
      "C:\\Users\\short\\anaconda3\\Lib\\site-packages\\scipy\\stats\\_morestats.py:4102: UserWarning: Sample size too small for normal approximation.\n",
      "  warnings.warn(\"Sample size too small for normal approximation.\")\n",
      "C:\\Users\\short\\anaconda3\\Lib\\site-packages\\scipy\\stats\\_morestats.py:4102: UserWarning: Sample size too small for normal approximation.\n",
      "  warnings.warn(\"Sample size too small for normal approximation.\")\n",
      "C:\\Users\\short\\anaconda3\\Lib\\site-packages\\scipy\\stats\\_morestats.py:4102: UserWarning: Sample size too small for normal approximation.\n",
      "  warnings.warn(\"Sample size too small for normal approximation.\")\n"
     ]
    }
   ],
   "source": [
    "win_df5 = spike_analysis5.wilcox_baseline_v_event_collection(event='win', equalize=10, baseline_window=10, offset=0,  plot=False)\n",
    "lose_df5 = spike_analysis5.wilcox_baseline_v_event_collection(event='lose', equalize=10, baseline_window=10, offset=0,  plot=False)"
   ]
  },
  {
   "cell_type": "code",
   "execution_count": 55,
   "id": "62e41b50-486e-45dc-af11-4ae803061de8",
   "metadata": {
    "execution": {
     "iopub.execute_input": "2024-05-14T18:51:11.973309Z",
     "iopub.status.busy": "2024-05-14T18:51:11.973309Z",
     "iopub.status.idle": "2024-05-14T18:51:12.006843Z",
     "shell.execute_reply": "2024-05-14T18:51:12.006843Z",
     "shell.execute_reply.started": "2024-05-14T18:51:11.973309Z"
    }
   },
   "outputs": [
    {
     "data": {
      "text/html": [
       "<div>\n",
       "<style scoped>\n",
       "    .dataframe tbody tr th:only-of-type {\n",
       "        vertical-align: middle;\n",
       "    }\n",
       "\n",
       "    .dataframe tbody tr th {\n",
       "        vertical-align: top;\n",
       "    }\n",
       "\n",
       "    .dataframe thead th {\n",
       "        text-align: right;\n",
       "    }\n",
       "</style>\n",
       "<table border=\"1\" class=\"dataframe\">\n",
       "  <thead>\n",
       "    <tr style=\"text-align: right;\">\n",
       "      <th></th>\n",
       "      <th>original unit id</th>\n",
       "      <th>Wilcoxon Stat</th>\n",
       "      <th>p value</th>\n",
       "      <th>event1 vs event2</th>\n",
       "      <th>Recording</th>\n",
       "      <th>Subject</th>\n",
       "      <th>Event</th>\n",
       "    </tr>\n",
       "  </thead>\n",
       "  <tbody>\n",
       "    <tr>\n",
       "      <th>0</th>\n",
       "      <td>85</td>\n",
       "      <td>NaN</td>\n",
       "      <td>NaN</td>\n",
       "      <td>not significant</td>\n",
       "      <td>20230612_101430_standard_comp_to_training_D1_s...</td>\n",
       "      <td>1-3</td>\n",
       "      <td>10s win vs 10s baseline</td>\n",
       "    </tr>\n",
       "    <tr>\n",
       "      <th>1</th>\n",
       "      <td>55</td>\n",
       "      <td>NaN</td>\n",
       "      <td>NaN</td>\n",
       "      <td>not significant</td>\n",
       "      <td>20230612_101430_standard_comp_to_training_D1_s...</td>\n",
       "      <td>1-3</td>\n",
       "      <td>10s win vs 10s baseline</td>\n",
       "    </tr>\n",
       "    <tr>\n",
       "      <th>2</th>\n",
       "      <td>17</td>\n",
       "      <td>NaN</td>\n",
       "      <td>NaN</td>\n",
       "      <td>not significant</td>\n",
       "      <td>20230612_101430_standard_comp_to_training_D1_s...</td>\n",
       "      <td>1-3</td>\n",
       "      <td>10s win vs 10s baseline</td>\n",
       "    </tr>\n",
       "    <tr>\n",
       "      <th>3</th>\n",
       "      <td>24</td>\n",
       "      <td>NaN</td>\n",
       "      <td>NaN</td>\n",
       "      <td>not significant</td>\n",
       "      <td>20230612_101430_standard_comp_to_training_D1_s...</td>\n",
       "      <td>1-3</td>\n",
       "      <td>10s win vs 10s baseline</td>\n",
       "    </tr>\n",
       "    <tr>\n",
       "      <th>4</th>\n",
       "      <td>68</td>\n",
       "      <td>NaN</td>\n",
       "      <td>NaN</td>\n",
       "      <td>not significant</td>\n",
       "      <td>20230612_101430_standard_comp_to_training_D1_s...</td>\n",
       "      <td>1-3</td>\n",
       "      <td>10s win vs 10s baseline</td>\n",
       "    </tr>\n",
       "    <tr>\n",
       "      <th>...</th>\n",
       "      <td>...</td>\n",
       "      <td>...</td>\n",
       "      <td>...</td>\n",
       "      <td>...</td>\n",
       "      <td>...</td>\n",
       "      <td>...</td>\n",
       "      <td>...</td>\n",
       "    </tr>\n",
       "    <tr>\n",
       "      <th>279</th>\n",
       "      <td>39</td>\n",
       "      <td>0.0</td>\n",
       "      <td>0.317311</td>\n",
       "      <td>not significant</td>\n",
       "      <td>20230625_112913_standard_comp_to_both_rewarded...</td>\n",
       "      <td>1-4</td>\n",
       "      <td>10s win vs 10s baseline</td>\n",
       "    </tr>\n",
       "    <tr>\n",
       "      <th>280</th>\n",
       "      <td>17</td>\n",
       "      <td>0.0</td>\n",
       "      <td>0.317311</td>\n",
       "      <td>not significant</td>\n",
       "      <td>20230625_112913_standard_comp_to_both_rewarded...</td>\n",
       "      <td>1-4</td>\n",
       "      <td>10s win vs 10s baseline</td>\n",
       "    </tr>\n",
       "    <tr>\n",
       "      <th>281</th>\n",
       "      <td>15</td>\n",
       "      <td>0.0</td>\n",
       "      <td>0.317311</td>\n",
       "      <td>not significant</td>\n",
       "      <td>20230625_112913_standard_comp_to_both_rewarded...</td>\n",
       "      <td>1-4</td>\n",
       "      <td>10s win vs 10s baseline</td>\n",
       "    </tr>\n",
       "    <tr>\n",
       "      <th>282</th>\n",
       "      <td>27</td>\n",
       "      <td>0.0</td>\n",
       "      <td>0.317311</td>\n",
       "      <td>not significant</td>\n",
       "      <td>20230625_112913_standard_comp_to_both_rewarded...</td>\n",
       "      <td>1-4</td>\n",
       "      <td>10s win vs 10s baseline</td>\n",
       "    </tr>\n",
       "    <tr>\n",
       "      <th>283</th>\n",
       "      <td>11</td>\n",
       "      <td>0.0</td>\n",
       "      <td>0.317311</td>\n",
       "      <td>not significant</td>\n",
       "      <td>20230625_112913_standard_comp_to_both_rewarded...</td>\n",
       "      <td>1-4</td>\n",
       "      <td>10s win vs 10s baseline</td>\n",
       "    </tr>\n",
       "  </tbody>\n",
       "</table>\n",
       "<p>284 rows × 7 columns</p>\n",
       "</div>"
      ],
      "text/plain": [
       "     original unit id  Wilcoxon Stat   p value event1 vs event2  \\\n",
       "0                  85            NaN       NaN  not significant   \n",
       "1                  55            NaN       NaN  not significant   \n",
       "2                  17            NaN       NaN  not significant   \n",
       "3                  24            NaN       NaN  not significant   \n",
       "4                  68            NaN       NaN  not significant   \n",
       "..                ...            ...       ...              ...   \n",
       "279                39            0.0  0.317311  not significant   \n",
       "280                17            0.0  0.317311  not significant   \n",
       "281                15            0.0  0.317311  not significant   \n",
       "282                27            0.0  0.317311  not significant   \n",
       "283                11            0.0  0.317311  not significant   \n",
       "\n",
       "                                             Recording Subject  \\\n",
       "0    20230612_101430_standard_comp_to_training_D1_s...     1-3   \n",
       "1    20230612_101430_standard_comp_to_training_D1_s...     1-3   \n",
       "2    20230612_101430_standard_comp_to_training_D1_s...     1-3   \n",
       "3    20230612_101430_standard_comp_to_training_D1_s...     1-3   \n",
       "4    20230612_101430_standard_comp_to_training_D1_s...     1-3   \n",
       "..                                                 ...     ...   \n",
       "279  20230625_112913_standard_comp_to_both_rewarded...     1-4   \n",
       "280  20230625_112913_standard_comp_to_both_rewarded...     1-4   \n",
       "281  20230625_112913_standard_comp_to_both_rewarded...     1-4   \n",
       "282  20230625_112913_standard_comp_to_both_rewarded...     1-4   \n",
       "283  20230625_112913_standard_comp_to_both_rewarded...     1-4   \n",
       "\n",
       "                       Event  \n",
       "0    10s win vs 10s baseline  \n",
       "1    10s win vs 10s baseline  \n",
       "2    10s win vs 10s baseline  \n",
       "3    10s win vs 10s baseline  \n",
       "4    10s win vs 10s baseline  \n",
       "..                       ...  \n",
       "279  10s win vs 10s baseline  \n",
       "280  10s win vs 10s baseline  \n",
       "281  10s win vs 10s baseline  \n",
       "282  10s win vs 10s baseline  \n",
       "283  10s win vs 10s baseline  \n",
       "\n",
       "[284 rows x 7 columns]"
      ]
     },
     "execution_count": 55,
     "metadata": {},
     "output_type": "execute_result"
    }
   ],
   "source": [
    "win_df5"
   ]
  },
  {
   "cell_type": "code",
   "execution_count": 56,
   "id": "06b7a30f-54dd-4159-8e56-df1a0a0f0403",
   "metadata": {
    "execution": {
     "iopub.execute_input": "2024-05-14T18:51:28.933149Z",
     "iopub.status.busy": "2024-05-14T18:51:28.933149Z",
     "iopub.status.idle": "2024-05-14T18:51:28.959159Z",
     "shell.execute_reply": "2024-05-14T18:51:28.959159Z",
     "shell.execute_reply.started": "2024-05-14T18:51:28.933149Z"
    }
   },
   "outputs": [
    {
     "data": {
      "text/plain": [
       "p value\n",
       "0.317311    165\n",
       "Name: count, dtype: int64"
      ]
     },
     "execution_count": 56,
     "metadata": {},
     "output_type": "execute_result"
    }
   ],
   "source": [
    "win_df5['p value'].value_counts()"
   ]
  },
  {
   "cell_type": "code",
   "execution_count": 64,
   "id": "5a0d4452-9689-407c-8616-06c6c91b33ff",
   "metadata": {
    "execution": {
     "iopub.execute_input": "2024-05-14T18:58:23.485824Z",
     "iopub.status.busy": "2024-05-14T18:58:23.470194Z",
     "iopub.status.idle": "2024-05-14T18:58:23.491793Z",
     "shell.execute_reply": "2024-05-14T18:58:23.491793Z",
     "shell.execute_reply.started": "2024-05-14T18:58:23.485824Z"
    }
   },
   "outputs": [],
   "source": [
    "import spikeanal as spike"
   ]
  },
  {
   "cell_type": "code",
   "execution_count": 65,
   "id": "666f37de-2b1a-4812-8777-c9c4fca86b38",
   "metadata": {
    "execution": {
     "iopub.execute_input": "2024-05-14T18:58:24.239792Z",
     "iopub.status.busy": "2024-05-14T18:58:24.239792Z",
     "iopub.status.idle": "2024-05-14T19:00:14.183898Z",
     "shell.execute_reply": "2024-05-14T19:00:14.171358Z",
     "shell.execute_reply.started": "2024-05-14T18:58:24.239792Z"
    }
   },
   "outputs": [
    {
     "name": "stdout",
     "output_type": "stream",
     "text": [
      "<class 'numpy.ndarray'>\n",
      "<class 'numpy.ndarray'>\n",
      "20230612_101430_standard_comp_to_training_D1_subj_1-3_t3b3L_box2_merged.rec\n",
      "<class 'numpy.ndarray'>\n",
      "<class 'numpy.ndarray'>\n",
      "20230617_115521_standard_comp_to_omission_D1_subj_1-1_t1b3L_box1_merged.rec\n",
      "<class 'numpy.ndarray'>\n",
      "<class 'numpy.ndarray'>\n",
      "20230617_115521_standard_comp_to_omission_D1_subj_1-2_t2b2L_box2_merged.rec\n",
      "<class 'numpy.ndarray'>\n",
      "<class 'numpy.ndarray'>\n",
      "20230618_100636_standard_comp_to_omission_D2_subj_1-1_t1b2L_box2_merged.rec\n",
      "<class 'numpy.ndarray'>\n",
      "<class 'numpy.ndarray'>\n",
      "20230618_100636_standard_comp_to_omission_D2_subj_1-4_t4b3L_box1_merged.rec\n",
      "<class 'numpy.ndarray'>\n",
      "<class 'numpy.ndarray'>\n",
      "20230619_115321_standard_comp_to_omission_D3_subj_1-4_t3b3L_box2_merged.rec\n",
      "<class 'numpy.ndarray'>\n",
      "<class 'numpy.ndarray'>\n",
      "20230620_114347_standard_comp_to_omission_D4_subj_1-1_t1b2L_box_2_merged.rec\n",
      "<class 'numpy.ndarray'>\n",
      "<class 'numpy.ndarray'>\n",
      "20230620_114347_standard_comp_to_omission_D4_subj_1-2_t3b3L_box_1_merged.rec\n",
      "<class 'numpy.ndarray'>\n",
      "<class 'numpy.ndarray'>\n",
      "20230621_111240_standard_comp_to_omission_D5_subj_1-4_t3b3L_box1_merged.rec\n",
      "<class 'numpy.ndarray'>\n",
      "<class 'numpy.ndarray'>\n",
      "Unit 92 is unsorted & has 2494 spikes\n",
      "Unit 92 will be deleted\n",
      "20230622_110832_standard_comp_to_both_rewarded_D1_subj_1-1_t1b3L_box1_merged.rec\n",
      "<class 'numpy.ndarray'>\n",
      "<class 'numpy.ndarray'>\n",
      "Unit 103 is unsorted & has 512 spikes\n",
      "Unit 103 will be deleted\n",
      "20230622_110832_standard_comp_to_both_rewarded_D1_subj_1-2_t3b3L_box1_merged.rec\n",
      "<class 'numpy.ndarray'>\n",
      "<class 'numpy.ndarray'>\n",
      "20230624_105855_standard_comp_to_both_rewarded_D3_subj_1-2_t1b2L_box1_merged.rec\n",
      "<class 'numpy.ndarray'>\n",
      "<class 'numpy.ndarray'>\n",
      "20230624_105855_standard_comp_to_both_rewarded_D3_subj_1-4_t3b3L_box1_merged.rec\n",
      "<class 'numpy.ndarray'>\n",
      "<class 'numpy.ndarray'>\n",
      "20230625_112913_standard_comp_to_both_rewarded_D4_subj_1-1_t1b2L_box1_merged.rec\n",
      "<class 'numpy.ndarray'>\n",
      "<class 'numpy.ndarray'>\n",
      "Unit 96 is unsorted & has 5811 spikes\n",
      "Unit 96 will be deleted\n",
      "Unit 95 is unsorted & has 6458 spikes\n",
      "Unit 95 will be deleted\n",
      "20230625_112913_standard_comp_to_both_rewarded_D4_subj_1-4_t3b3L_box1_merged.rec\n",
      "Please assign event dictionaries to each recording\n",
      "as recording.event_dict\n",
      "event_dict = {event name(str): np.array[[start(ms), stop(ms)]...]\n",
      "Please assign subjects to each recording as recording.subject\n",
      "All set to analyze\n"
     ]
    }
   ],
   "source": [
    "# Construct the path in a platform-independent way (HiPerGator or Windows)\n",
    "ephys_path = Path('.') / 'export' / 'updated_phys' / 'non-novel' / 'all_non_novel'\n",
    "\n",
    "ephys_data = spike.EphysRecordingCollection(str(ephys_path))\n",
    "\n",
    "for recording in ephys_data.collection.keys():\n",
    "    # Check if the recording key (without everything after subject #) is in timestamp_dicts\n",
    "    start_pos = recording.find('subj_')\n",
    "    # Add the length of 'subj_' and 3 additional characters to include after 'subj_'\n",
    "    end_pos = start_pos + len('subj_') + 3\n",
    "    # Slice the recording key to get everything up to and including the subject identifier plus three characters\n",
    "    recording_key_without_suffix = recording[:end_pos]\n",
    "    if recording_key_without_suffix in timestamp_dicts:\n",
    "        # Assign the corresponding timestamp_dicts dictionary to event_dict\n",
    "        ephys_data.collection[recording].event_dict = timestamp_dicts[recording_key_without_suffix]\n",
    "        \n",
    "        # Extract the subject from the recording key\n",
    "        start = recording.find('subj_') + 5  # Start index after 'subj_'\n",
    "        subject = recording[start:start+3]\n",
    "        \n",
    "        # Assign the extracted subject\n",
    "        ephys_data.collection[recording].subject = subject\n",
    "        \n",
    "spike_analysis5 = spike.SpikeAnalysis_MultiRecording(ephys_data, timebin = 5, smoothing_window=250, ignore_freq = 0.5)"
   ]
  },
  {
   "cell_type": "code",
   "execution_count": 66,
   "id": "576f502c-18ad-4277-9f8f-0b9874af9617",
   "metadata": {
    "execution": {
     "iopub.execute_input": "2024-05-14T19:00:14.662901Z",
     "iopub.status.busy": "2024-05-14T19:00:14.662901Z",
     "iopub.status.idle": "2024-05-14T19:00:21.166270Z",
     "shell.execute_reply": "2024-05-14T19:00:21.166270Z",
     "shell.execute_reply.started": "2024-05-14T19:00:14.662901Z"
    }
   },
   "outputs": [
    {
     "name": "stdout",
     "output_type": "stream",
     "text": [
      "All set to analyze\n"
     ]
    }
   ],
   "source": [
    "spike_analysis100 = spike.SpikeAnalysis_MultiRecording(ephys_data, timebin = 100, smoothing_window=250, ignore_freq = 0.5)"
   ]
  },
  {
   "cell_type": "code",
   "execution_count": 67,
   "id": "b69854ff-d7fd-4f24-8e0e-1b640ab715be",
   "metadata": {
    "execution": {
     "iopub.execute_input": "2024-05-14T19:00:21.166270Z",
     "iopub.status.busy": "2024-05-14T19:00:21.166270Z",
     "iopub.status.idle": "2024-05-14T19:00:24.089199Z",
     "shell.execute_reply": "2024-05-14T19:00:24.089199Z",
     "shell.execute_reply.started": "2024-05-14T19:00:21.166270Z"
    }
   },
   "outputs": [
    {
     "name": "stderr",
     "output_type": "stream",
     "text": [
      "C:\\Users\\short\\anaconda3\\Lib\\site-packages\\scipy\\stats\\_morestats.py:4102: UserWarning: Sample size too small for normal approximation.\n",
      "  warnings.warn(\"Sample size too small for normal approximation.\")\n",
      "C:\\Users\\short\\anaconda3\\Lib\\site-packages\\scipy\\stats\\_morestats.py:4102: UserWarning: Sample size too small for normal approximation.\n",
      "  warnings.warn(\"Sample size too small for normal approximation.\")\n",
      "C:\\Users\\short\\anaconda3\\Lib\\site-packages\\scipy\\stats\\_morestats.py:4102: UserWarning: Sample size too small for normal approximation.\n",
      "  warnings.warn(\"Sample size too small for normal approximation.\")\n",
      "C:\\Users\\short\\anaconda3\\Lib\\site-packages\\scipy\\stats\\_morestats.py:4102: UserWarning: Sample size too small for normal approximation.\n",
      "  warnings.warn(\"Sample size too small for normal approximation.\")\n",
      "C:\\Users\\short\\anaconda3\\Lib\\site-packages\\scipy\\stats\\_morestats.py:4102: UserWarning: Sample size too small for normal approximation.\n",
      "  warnings.warn(\"Sample size too small for normal approximation.\")\n"
     ]
    },
    {
     "ename": "ValueError",
     "evalue": "zero_method 'wilcox' and 'pratt' do not work if x - y is zero for all elements.",
     "output_type": "error",
     "traceback": [
      "\u001b[1;31m---------------------------------------------------------------------------\u001b[0m",
      "\u001b[1;31mValueError\u001b[0m                                Traceback (most recent call last)",
      "Cell \u001b[1;32mIn[67], line 1\u001b[0m\n\u001b[1;32m----> 1\u001b[0m win_df5 \u001b[38;5;241m=\u001b[39m spike_analysis5\u001b[38;5;241m.\u001b[39mwilcox_baseline_v_event_collection(event\u001b[38;5;241m=\u001b[39m\u001b[38;5;124m'\u001b[39m\u001b[38;5;124mwin\u001b[39m\u001b[38;5;124m'\u001b[39m, equalize\u001b[38;5;241m=\u001b[39m\u001b[38;5;241m10\u001b[39m, baseline_window\u001b[38;5;241m=\u001b[39m\u001b[38;5;241m10\u001b[39m, offset\u001b[38;5;241m=\u001b[39m\u001b[38;5;241m0\u001b[39m,  plot\u001b[38;5;241m=\u001b[39m\u001b[38;5;28;01mFalse\u001b[39;00m)\n\u001b[0;32m      2\u001b[0m lose_df5 \u001b[38;5;241m=\u001b[39m spike_analysis5\u001b[38;5;241m.\u001b[39mwilcox_baseline_v_event_collection(event\u001b[38;5;241m=\u001b[39m\u001b[38;5;124m'\u001b[39m\u001b[38;5;124mlose\u001b[39m\u001b[38;5;124m'\u001b[39m, equalize\u001b[38;5;241m=\u001b[39m\u001b[38;5;241m10\u001b[39m, baseline_window\u001b[38;5;241m=\u001b[39m\u001b[38;5;241m10\u001b[39m, offset\u001b[38;5;241m=\u001b[39m\u001b[38;5;241m0\u001b[39m,  plot\u001b[38;5;241m=\u001b[39m\u001b[38;5;28;01mFalse\u001b[39;00m)\n",
      "File \u001b[1;32m~\\Documents\\GitHub\\npc_playground\\spikeanal.py:864\u001b[0m, in \u001b[0;36mSpikeAnalysis_MultiRecording.wilcox_baseline_v_event_collection\u001b[1;34m(self, event, equalize, baseline_window, offset, exclude_offset, plot, save)\u001b[0m\n\u001b[0;32m    862\u001b[0m is_first \u001b[38;5;241m=\u001b[39m \u001b[38;5;28;01mTrue\u001b[39;00m\n\u001b[0;32m    863\u001b[0m \u001b[38;5;28;01mfor\u001b[39;00m (recording_name, recording) \u001b[38;5;129;01min\u001b[39;00m \u001b[38;5;28mself\u001b[39m\u001b[38;5;241m.\u001b[39mephyscollection\u001b[38;5;241m.\u001b[39mcollection\u001b[38;5;241m.\u001b[39mitems():\n\u001b[1;32m--> 864\u001b[0m     recording_df \u001b[38;5;241m=\u001b[39m \u001b[38;5;28mself\u001b[39m\u001b[38;5;241m.\u001b[39m__wilcox_baseline_v_event_stats__(recording, event, equalize, baseline_window, offset, exclude_offset, save)\n\u001b[0;32m    865\u001b[0m     recording_df \u001b[38;5;241m=\u001b[39m recording_df\u001b[38;5;241m.\u001b[39mreset_index()\u001b[38;5;241m.\u001b[39mrename(columns\u001b[38;5;241m=\u001b[39m{\u001b[38;5;124m\"\u001b[39m\u001b[38;5;124mindex\u001b[39m\u001b[38;5;124m\"\u001b[39m: \u001b[38;5;124m\"\u001b[39m\u001b[38;5;124moriginal unit id\u001b[39m\u001b[38;5;124m\"\u001b[39m})\n\u001b[0;32m    866\u001b[0m     recording_df[\u001b[38;5;124m\"\u001b[39m\u001b[38;5;124mRecording\u001b[39m\u001b[38;5;124m\"\u001b[39m] \u001b[38;5;241m=\u001b[39m recording_name\n",
      "File \u001b[1;32m~\\Documents\\GitHub\\npc_playground\\spikeanal.py:816\u001b[0m, in \u001b[0;36mSpikeAnalysis_MultiRecording.__wilcox_baseline_v_event_stats__\u001b[1;34m(self, recording, event, equalize, baseline_window, offset, exclude_offset, save)\u001b[0m\n\u001b[0;32m    814\u001b[0m wilcoxon_stats \u001b[38;5;241m=\u001b[39m {}\n\u001b[0;32m    815\u001b[0m \u001b[38;5;28;01mfor\u001b[39;00m unit \u001b[38;5;129;01min\u001b[39;00m unit_averages\u001b[38;5;241m.\u001b[39mkeys(): \n\u001b[1;32m--> 816\u001b[0m     wilcoxon_stats[unit] \u001b[38;5;241m=\u001b[39m wilcoxon(unit_averages[unit][\u001b[38;5;241m0\u001b[39m], unit_averages[unit][\u001b[38;5;241m1\u001b[39m], method \u001b[38;5;241m=\u001b[39m \u001b[38;5;124m'\u001b[39m\u001b[38;5;124mapprox\u001b[39m\u001b[38;5;124m'\u001b[39m)\n\u001b[0;32m    817\u001b[0m wilcoxon_df \u001b[38;5;241m=\u001b[39m pd\u001b[38;5;241m.\u001b[39mDataFrame\u001b[38;5;241m.\u001b[39mfrom_dict(wilcoxon_stats, orient\u001b[38;5;241m=\u001b[39m\u001b[38;5;124m'\u001b[39m\u001b[38;5;124mindex\u001b[39m\u001b[38;5;124m'\u001b[39m)\n\u001b[0;32m    818\u001b[0m wilcoxon_df\u001b[38;5;241m.\u001b[39mcolumns \u001b[38;5;241m=\u001b[39m [\u001b[38;5;124m'\u001b[39m\u001b[38;5;124mWilcoxon Stat\u001b[39m\u001b[38;5;124m'\u001b[39m, \u001b[38;5;124m'\u001b[39m\u001b[38;5;124mp value\u001b[39m\u001b[38;5;124m'\u001b[39m]\n",
      "File \u001b[1;32m~\\anaconda3\\Lib\\site-packages\\scipy\\_lib\\_util.py:713\u001b[0m, in \u001b[0;36m_rename_parameter.<locals>.decorator.<locals>.wrapper\u001b[1;34m(*args, **kwargs)\u001b[0m\n\u001b[0;32m    711\u001b[0m         \u001b[38;5;28;01mraise\u001b[39;00m \u001b[38;5;167;01mTypeError\u001b[39;00m(message)\n\u001b[0;32m    712\u001b[0m     kwargs[new_name] \u001b[38;5;241m=\u001b[39m kwargs\u001b[38;5;241m.\u001b[39mpop(old_name)\n\u001b[1;32m--> 713\u001b[0m \u001b[38;5;28;01mreturn\u001b[39;00m fun(\u001b[38;5;241m*\u001b[39margs, \u001b[38;5;241m*\u001b[39m\u001b[38;5;241m*\u001b[39mkwargs)\n",
      "File \u001b[1;32m~\\anaconda3\\Lib\\site-packages\\scipy\\stats\\_axis_nan_policy.py:523\u001b[0m, in \u001b[0;36m_axis_nan_policy_factory.<locals>.axis_nan_policy_decorator.<locals>.axis_nan_policy_wrapper\u001b[1;34m(***failed resolving arguments***)\u001b[0m\n\u001b[0;32m    521\u001b[0m \u001b[38;5;28;01mif\u001b[39;00m sentinel:\n\u001b[0;32m    522\u001b[0m     samples \u001b[38;5;241m=\u001b[39m _remove_sentinel(samples, paired, sentinel)\n\u001b[1;32m--> 523\u001b[0m res \u001b[38;5;241m=\u001b[39m hypotest_fun_out(\u001b[38;5;241m*\u001b[39msamples, \u001b[38;5;241m*\u001b[39m\u001b[38;5;241m*\u001b[39mkwds)\n\u001b[0;32m    524\u001b[0m res \u001b[38;5;241m=\u001b[39m result_to_tuple(res)\n\u001b[0;32m    525\u001b[0m res \u001b[38;5;241m=\u001b[39m _add_reduced_axes(res, reduced_axes, keepdims)\n",
      "File \u001b[1;32m~\\anaconda3\\Lib\\site-packages\\scipy\\stats\\_morestats.py:4094\u001b[0m, in \u001b[0;36mwilcoxon\u001b[1;34m(x, y, zero_method, correction, alternative, method)\u001b[0m\n\u001b[0;32m   4092\u001b[0m \u001b[38;5;28;01mif\u001b[39;00m zero_method \u001b[38;5;129;01min\u001b[39;00m [\u001b[38;5;124m\"\u001b[39m\u001b[38;5;124mwilcox\u001b[39m\u001b[38;5;124m\"\u001b[39m, \u001b[38;5;124m\"\u001b[39m\u001b[38;5;124mpratt\u001b[39m\u001b[38;5;124m\"\u001b[39m]:\n\u001b[0;32m   4093\u001b[0m     \u001b[38;5;28;01mif\u001b[39;00m n_zero \u001b[38;5;241m==\u001b[39m \u001b[38;5;28mlen\u001b[39m(d):\n\u001b[1;32m-> 4094\u001b[0m         \u001b[38;5;28;01mraise\u001b[39;00m \u001b[38;5;167;01mValueError\u001b[39;00m(\u001b[38;5;124m\"\u001b[39m\u001b[38;5;124mzero_method \u001b[39m\u001b[38;5;124m'\u001b[39m\u001b[38;5;124mwilcox\u001b[39m\u001b[38;5;124m'\u001b[39m\u001b[38;5;124m and \u001b[39m\u001b[38;5;124m'\u001b[39m\u001b[38;5;124mpratt\u001b[39m\u001b[38;5;124m'\u001b[39m\u001b[38;5;124m do not \u001b[39m\u001b[38;5;124m\"\u001b[39m\n\u001b[0;32m   4095\u001b[0m                          \u001b[38;5;124m\"\u001b[39m\u001b[38;5;124mwork if x - y is zero for all elements.\u001b[39m\u001b[38;5;124m\"\u001b[39m)\n\u001b[0;32m   4096\u001b[0m \u001b[38;5;28;01mif\u001b[39;00m zero_method \u001b[38;5;241m==\u001b[39m \u001b[38;5;124m\"\u001b[39m\u001b[38;5;124mwilcox\u001b[39m\u001b[38;5;124m\"\u001b[39m:\n\u001b[0;32m   4097\u001b[0m     \u001b[38;5;66;03m# Keep all non-zero differences\u001b[39;00m\n\u001b[0;32m   4098\u001b[0m     d \u001b[38;5;241m=\u001b[39m compress(np\u001b[38;5;241m.\u001b[39mnot_equal(d, \u001b[38;5;241m0\u001b[39m), d)\n",
      "\u001b[1;31mValueError\u001b[0m: zero_method 'wilcox' and 'pratt' do not work if x - y is zero for all elements."
     ]
    }
   ],
   "source": [
    "win_df5 = spike_analysis5.wilcox_baseline_v_event_collection(event='win', equalize=10, baseline_window=10, offset=0,  plot=False)\n",
    "lose_df5 = spike_analysis5.wilcox_baseline_v_event_collection(event='lose', equalize=10, baseline_window=10, offset=0,  plot=False)"
   ]
  },
  {
   "cell_type": "code",
   "execution_count": 61,
   "id": "4ca0f5f2-c74c-42a4-80b5-d99ad969004b",
   "metadata": {
    "execution": {
     "iopub.execute_input": "2024-05-14T18:56:10.592013Z",
     "iopub.status.busy": "2024-05-14T18:56:10.592013Z",
     "iopub.status.idle": "2024-05-14T18:56:11.511958Z",
     "shell.execute_reply": "2024-05-14T18:56:11.511958Z",
     "shell.execute_reply.started": "2024-05-14T18:56:10.592013Z"
    }
   },
   "outputs": [
    {
     "name": "stderr",
     "output_type": "stream",
     "text": [
      "C:\\Users\\short\\anaconda3\\Lib\\site-packages\\scipy\\stats\\_morestats.py:4102: UserWarning: Sample size too small for normal approximation.\n",
      "  warnings.warn(\"Sample size too small for normal approximation.\")\n",
      "C:\\Users\\short\\anaconda3\\Lib\\site-packages\\scipy\\stats\\_morestats.py:4102: UserWarning: Sample size too small for normal approximation.\n",
      "  warnings.warn(\"Sample size too small for normal approximation.\")\n",
      "C:\\Users\\short\\anaconda3\\Lib\\site-packages\\scipy\\stats\\_morestats.py:4102: UserWarning: Sample size too small for normal approximation.\n",
      "  warnings.warn(\"Sample size too small for normal approximation.\")\n",
      "C:\\Users\\short\\anaconda3\\Lib\\site-packages\\scipy\\stats\\_morestats.py:4102: UserWarning: Sample size too small for normal approximation.\n",
      "  warnings.warn(\"Sample size too small for normal approximation.\")\n",
      "C:\\Users\\short\\anaconda3\\Lib\\site-packages\\scipy\\stats\\_morestats.py:4102: UserWarning: Sample size too small for normal approximation.\n",
      "  warnings.warn(\"Sample size too small for normal approximation.\")\n",
      "C:\\Users\\short\\anaconda3\\Lib\\site-packages\\scipy\\stats\\_morestats.py:4102: UserWarning: Sample size too small for normal approximation.\n",
      "  warnings.warn(\"Sample size too small for normal approximation.\")\n"
     ]
    }
   ],
   "source": [
    "lose_df5 = spike_analysis5.wilcox_baseline_v_event_collection(event='lose', equalize=10, baseline_window=10, offset=0,  plot=False)"
   ]
  },
  {
   "cell_type": "code",
   "execution_count": 62,
   "id": "529d9ec5-a9e4-461d-8676-cacc687e0b61",
   "metadata": {
    "execution": {
     "iopub.execute_input": "2024-05-14T18:56:21.730646Z",
     "iopub.status.busy": "2024-05-14T18:56:21.730646Z",
     "iopub.status.idle": "2024-05-14T18:56:21.761589Z",
     "shell.execute_reply": "2024-05-14T18:56:21.761589Z",
     "shell.execute_reply.started": "2024-05-14T18:56:21.730646Z"
    }
   },
   "outputs": [
    {
     "data": {
      "text/html": [
       "<div>\n",
       "<style scoped>\n",
       "    .dataframe tbody tr th:only-of-type {\n",
       "        vertical-align: middle;\n",
       "    }\n",
       "\n",
       "    .dataframe tbody tr th {\n",
       "        vertical-align: top;\n",
       "    }\n",
       "\n",
       "    .dataframe thead th {\n",
       "        text-align: right;\n",
       "    }\n",
       "</style>\n",
       "<table border=\"1\" class=\"dataframe\">\n",
       "  <thead>\n",
       "    <tr style=\"text-align: right;\">\n",
       "      <th></th>\n",
       "      <th>original unit id</th>\n",
       "      <th>Wilcoxon Stat</th>\n",
       "      <th>p value</th>\n",
       "      <th>event1 vs event2</th>\n",
       "      <th>Recording</th>\n",
       "      <th>Subject</th>\n",
       "      <th>Event</th>\n",
       "    </tr>\n",
       "  </thead>\n",
       "  <tbody>\n",
       "    <tr>\n",
       "      <th>0</th>\n",
       "      <td>85</td>\n",
       "      <td>0.0</td>\n",
       "      <td>0.317311</td>\n",
       "      <td>not significant</td>\n",
       "      <td>20230612_101430_standard_comp_to_training_D1_s...</td>\n",
       "      <td>1-3</td>\n",
       "      <td>10s lose vs 10s baseline</td>\n",
       "    </tr>\n",
       "    <tr>\n",
       "      <th>1</th>\n",
       "      <td>55</td>\n",
       "      <td>0.0</td>\n",
       "      <td>0.317311</td>\n",
       "      <td>not significant</td>\n",
       "      <td>20230612_101430_standard_comp_to_training_D1_s...</td>\n",
       "      <td>1-3</td>\n",
       "      <td>10s lose vs 10s baseline</td>\n",
       "    </tr>\n",
       "    <tr>\n",
       "      <th>2</th>\n",
       "      <td>17</td>\n",
       "      <td>0.0</td>\n",
       "      <td>0.317311</td>\n",
       "      <td>not significant</td>\n",
       "      <td>20230612_101430_standard_comp_to_training_D1_s...</td>\n",
       "      <td>1-3</td>\n",
       "      <td>10s lose vs 10s baseline</td>\n",
       "    </tr>\n",
       "    <tr>\n",
       "      <th>3</th>\n",
       "      <td>24</td>\n",
       "      <td>0.0</td>\n",
       "      <td>0.317311</td>\n",
       "      <td>not significant</td>\n",
       "      <td>20230612_101430_standard_comp_to_training_D1_s...</td>\n",
       "      <td>1-3</td>\n",
       "      <td>10s lose vs 10s baseline</td>\n",
       "    </tr>\n",
       "    <tr>\n",
       "      <th>4</th>\n",
       "      <td>68</td>\n",
       "      <td>0.0</td>\n",
       "      <td>0.317311</td>\n",
       "      <td>not significant</td>\n",
       "      <td>20230612_101430_standard_comp_to_training_D1_s...</td>\n",
       "      <td>1-3</td>\n",
       "      <td>10s lose vs 10s baseline</td>\n",
       "    </tr>\n",
       "    <tr>\n",
       "      <th>...</th>\n",
       "      <td>...</td>\n",
       "      <td>...</td>\n",
       "      <td>...</td>\n",
       "      <td>...</td>\n",
       "      <td>...</td>\n",
       "      <td>...</td>\n",
       "      <td>...</td>\n",
       "    </tr>\n",
       "    <tr>\n",
       "      <th>279</th>\n",
       "      <td>39</td>\n",
       "      <td>NaN</td>\n",
       "      <td>NaN</td>\n",
       "      <td>not significant</td>\n",
       "      <td>20230625_112913_standard_comp_to_both_rewarded...</td>\n",
       "      <td>1-4</td>\n",
       "      <td>10s lose vs 10s baseline</td>\n",
       "    </tr>\n",
       "    <tr>\n",
       "      <th>280</th>\n",
       "      <td>17</td>\n",
       "      <td>NaN</td>\n",
       "      <td>NaN</td>\n",
       "      <td>not significant</td>\n",
       "      <td>20230625_112913_standard_comp_to_both_rewarded...</td>\n",
       "      <td>1-4</td>\n",
       "      <td>10s lose vs 10s baseline</td>\n",
       "    </tr>\n",
       "    <tr>\n",
       "      <th>281</th>\n",
       "      <td>15</td>\n",
       "      <td>NaN</td>\n",
       "      <td>NaN</td>\n",
       "      <td>not significant</td>\n",
       "      <td>20230625_112913_standard_comp_to_both_rewarded...</td>\n",
       "      <td>1-4</td>\n",
       "      <td>10s lose vs 10s baseline</td>\n",
       "    </tr>\n",
       "    <tr>\n",
       "      <th>282</th>\n",
       "      <td>27</td>\n",
       "      <td>NaN</td>\n",
       "      <td>NaN</td>\n",
       "      <td>not significant</td>\n",
       "      <td>20230625_112913_standard_comp_to_both_rewarded...</td>\n",
       "      <td>1-4</td>\n",
       "      <td>10s lose vs 10s baseline</td>\n",
       "    </tr>\n",
       "    <tr>\n",
       "      <th>283</th>\n",
       "      <td>11</td>\n",
       "      <td>NaN</td>\n",
       "      <td>NaN</td>\n",
       "      <td>not significant</td>\n",
       "      <td>20230625_112913_standard_comp_to_both_rewarded...</td>\n",
       "      <td>1-4</td>\n",
       "      <td>10s lose vs 10s baseline</td>\n",
       "    </tr>\n",
       "  </tbody>\n",
       "</table>\n",
       "<p>284 rows × 7 columns</p>\n",
       "</div>"
      ],
      "text/plain": [
       "     original unit id  Wilcoxon Stat   p value event1 vs event2  \\\n",
       "0                  85            0.0  0.317311  not significant   \n",
       "1                  55            0.0  0.317311  not significant   \n",
       "2                  17            0.0  0.317311  not significant   \n",
       "3                  24            0.0  0.317311  not significant   \n",
       "4                  68            0.0  0.317311  not significant   \n",
       "..                ...            ...       ...              ...   \n",
       "279                39            NaN       NaN  not significant   \n",
       "280                17            NaN       NaN  not significant   \n",
       "281                15            NaN       NaN  not significant   \n",
       "282                27            NaN       NaN  not significant   \n",
       "283                11            NaN       NaN  not significant   \n",
       "\n",
       "                                             Recording Subject  \\\n",
       "0    20230612_101430_standard_comp_to_training_D1_s...     1-3   \n",
       "1    20230612_101430_standard_comp_to_training_D1_s...     1-3   \n",
       "2    20230612_101430_standard_comp_to_training_D1_s...     1-3   \n",
       "3    20230612_101430_standard_comp_to_training_D1_s...     1-3   \n",
       "4    20230612_101430_standard_comp_to_training_D1_s...     1-3   \n",
       "..                                                 ...     ...   \n",
       "279  20230625_112913_standard_comp_to_both_rewarded...     1-4   \n",
       "280  20230625_112913_standard_comp_to_both_rewarded...     1-4   \n",
       "281  20230625_112913_standard_comp_to_both_rewarded...     1-4   \n",
       "282  20230625_112913_standard_comp_to_both_rewarded...     1-4   \n",
       "283  20230625_112913_standard_comp_to_both_rewarded...     1-4   \n",
       "\n",
       "                        Event  \n",
       "0    10s lose vs 10s baseline  \n",
       "1    10s lose vs 10s baseline  \n",
       "2    10s lose vs 10s baseline  \n",
       "3    10s lose vs 10s baseline  \n",
       "4    10s lose vs 10s baseline  \n",
       "..                        ...  \n",
       "279  10s lose vs 10s baseline  \n",
       "280  10s lose vs 10s baseline  \n",
       "281  10s lose vs 10s baseline  \n",
       "282  10s lose vs 10s baseline  \n",
       "283  10s lose vs 10s baseline  \n",
       "\n",
       "[284 rows x 7 columns]"
      ]
     },
     "execution_count": 62,
     "metadata": {},
     "output_type": "execute_result"
    }
   ],
   "source": [
    "lose_df5"
   ]
  },
  {
   "cell_type": "code",
   "execution_count": 63,
   "id": "4fd212c9-4707-4844-b071-74852937c229",
   "metadata": {
    "execution": {
     "iopub.execute_input": "2024-05-14T18:56:46.006821Z",
     "iopub.status.busy": "2024-05-14T18:56:46.006821Z",
     "iopub.status.idle": "2024-05-14T18:56:46.026563Z",
     "shell.execute_reply": "2024-05-14T18:56:46.026563Z",
     "shell.execute_reply.started": "2024-05-14T18:56:46.006821Z"
    }
   },
   "outputs": [
    {
     "data": {
      "text/plain": [
       "p value\n",
       "0.317311    126\n",
       "Name: count, dtype: int64"
      ]
     },
     "execution_count": 63,
     "metadata": {},
     "output_type": "execute_result"
    }
   ],
   "source": [
    "lose_df5['p value'].value_counts()"
   ]
  },
  {
   "cell_type": "code",
   "execution_count": null,
   "id": "a968f6a5-e813-455b-a0d4-8c12d86697ae",
   "metadata": {},
   "outputs": [],
   "source": []
  }
 ],
 "metadata": {
  "kernelspec": {
   "display_name": "Python 3 (ipykernel)",
   "language": "python",
   "name": "python3"
  },
  "language_info": {
   "codemirror_mode": {
    "name": "ipython",
    "version": 3
   },
   "file_extension": ".py",
   "mimetype": "text/x-python",
   "name": "python",
   "nbconvert_exporter": "python",
   "pygments_lexer": "ipython3",
   "version": "3.11.7"
  }
 },
 "nbformat": 4,
 "nbformat_minor": 5
}
