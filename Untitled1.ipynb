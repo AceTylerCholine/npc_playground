{
 "cells": [
  {
   "cell_type": "code",
   "execution_count": 1,
   "id": "d770996c-f559-41b3-9e41-c32e49d02151",
   "metadata": {
    "execution": {
     "iopub.execute_input": "2024-07-11T19:03:21.283054Z",
     "iopub.status.busy": "2024-07-11T19:03:21.282054Z",
     "iopub.status.idle": "2024-07-11T19:03:41.483295Z",
     "shell.execute_reply": "2024-07-11T19:03:41.482303Z",
     "shell.execute_reply.started": "2024-07-11T19:03:21.283054Z"
    }
   },
   "outputs": [
    {
     "name": "stdout",
     "output_type": "stream",
     "text": [
      "<class 'numpy.ndarray'>\n",
      "20230612_101430_standard_comp_to_training_D1_subj_1-3_t3b3L_box2_merged.rec\n",
      "<class 'numpy.ndarray'>\n",
      "20230617_115521_standard_comp_to_omission_D1_subj_1-1_t1b3L_box1_merged.rec\n",
      "<class 'numpy.ndarray'>\n",
      "Unit 92 is unsorted & has 2494 spikes\n",
      "Unit 92 will be deleted\n",
      "20230622_110832_standard_comp_to_both_rewarded_D1_subj_1-1_t1b3L_box1_merged.rec\n",
      "<class 'numpy.ndarray'>\n",
      "Unit 103 is unsorted & has 512 spikes\n",
      "Unit 103 will be deleted\n",
      "20230622_110832_standard_comp_to_both_rewarded_D1_subj_1-2_t3b3L_box1_merged.rec\n",
      "Please assign event dictionaries to each recording\n",
      "as recording.event_dict\n",
      "event_dict = {event name(str): np.array[[start(ms), stop(ms)]...]\n",
      "Please assign subjects to each recording as recording.subject\n"
     ]
    }
   ],
   "source": [
    "import pandas as pd\n",
    "import numpy as np\n",
    "import matplotlib.pyplot as plt\n",
    "import seaborn as sns\n",
    "import ast\n",
    "import pickle\n",
    "import math\n",
    "import gc\n",
    "from pathlib import Path\n",
    "from statistics import mean, StatisticsError\n",
    "import multirecording_spikeanalysis_edit as spike\n",
    "\n",
    "# It takes several steps to create the timestamp_dicts, refer to Ephys_Analysis_Notebook to create\n",
    "timestamp_dicts = pickle.load(open('timestamp_dicts.pkl', 'rb'))\n",
    "\n",
    "# Construct the path in a platform-independent way (HiPerGator or Windows)\n",
    "ephys_path = Path('.') / 'recordings' / 'updated_phys' / 'test'\n",
    "\n",
    "ephys_data = spike.EphysRecordingCollection(str(ephys_path))"
   ]
  },
  {
   "cell_type": "code",
   "execution_count": 2,
   "id": "47184ce0-26e9-4668-b849-412847c5e53f",
   "metadata": {
    "execution": {
     "iopub.execute_input": "2024-07-11T19:03:41.487300Z",
     "iopub.status.busy": "2024-07-11T19:03:41.486301Z",
     "iopub.status.idle": "2024-07-11T19:03:42.208628Z",
     "shell.execute_reply": "2024-07-11T19:03:42.207610Z",
     "shell.execute_reply.started": "2024-07-11T19:03:41.486301Z"
    }
   },
   "outputs": [
    {
     "name": "stdout",
     "output_type": "stream",
     "text": [
      "All set to analyze\n"
     ]
    }
   ],
   "source": [
    "for recording in ephys_data.collection.keys():\n",
    "    # Check if the recording key (without everything after subject #) is in timestamp_dicts\n",
    "    start_pos = recording.find('subj_')\n",
    "    # Add the length of 'subj_' and 3 additional characters to include after 'subj_'\n",
    "    end_pos = start_pos + len('subj_') + 3\n",
    "    # Slice the recording key to get everything up to and including the subject identifier plus three characters\n",
    "    recording_key_without_suffix = recording[:end_pos]\n",
    "    if recording_key_without_suffix in timestamp_dicts:\n",
    "        # Assign the corresponding timestamp_dicts dictionary to event_dict\n",
    "        ephys_data.collection[recording].event_dict = timestamp_dicts[recording_key_without_suffix]\n",
    "        \n",
    "        # Extract the subject from the recording key\n",
    "        start = recording.find('subj_') + 5  # Start index after 'subj_'\n",
    "        subject = recording[start:start+3]\n",
    "        \n",
    "        # Assign the extracted subject\n",
    "        ephys_data.collection[recording].subject = subject\n",
    "        \n",
    "spike_analysis = spike.SpikeAnalysis_MultiRecording(ephys_data, timebin = 100, ignore_freq = 0.5)"
   ]
  },
  {
   "cell_type": "code",
   "execution_count": 3,
   "id": "66cfbb0b-e767-4745-952a-88be24967154",
   "metadata": {
    "execution": {
     "iopub.execute_input": "2024-07-11T19:03:42.211914Z",
     "iopub.status.busy": "2024-07-11T19:03:42.211914Z",
     "iopub.status.idle": "2024-07-11T19:03:42.431513Z",
     "shell.execute_reply": "2024-07-11T19:03:42.431513Z",
     "shell.execute_reply.started": "2024-07-11T19:03:42.211914Z"
    }
   },
   "outputs": [
    {
     "name": "stdout",
     "output_type": "stream",
     "text": [
      "Rounded array for rewarded in 20230612_101430_standard_comp_to_training_D1_subj_1-3_t3b3L_box2_merged.rec: [[18492 18592]\n",
      " [19092 19192]\n",
      " [19642 19742]\n",
      " [20292 20392]\n",
      " [20842 20942]\n",
      " [21342 21442]\n",
      " [21842 21942]\n",
      " [22892 22992]\n",
      " [24092 24192]\n",
      " [25292 25392]\n",
      " [26392 26492]\n",
      " [27242 27342]\n",
      " [28442 28542]\n",
      " [29042 29142]\n",
      " [29692 29792]\n",
      " [30292 30392]\n",
      " [31042 31142]\n",
      " [32042 32142]\n",
      " [32992 33092]\n",
      " [33492 33592]]\n",
      "Rounded array for win in 20230612_101430_standard_comp_to_training_D1_subj_1-3_t3b3L_box2_merged.rec: [[ 1692  1792]\n",
      " [ 4792  4892]\n",
      " [ 6492  6592]\n",
      " [ 7542  7642]\n",
      " [ 8042  8142]\n",
      " [ 8842  8942]\n",
      " [ 9492  9592]\n",
      " [10142 10242]\n",
      " [11342 11442]\n",
      " [13092 13192]\n",
      " [13792 13892]\n",
      " [14892 14992]\n",
      " [15492 15592]]\n",
      "Rounded array for lose in 20230612_101430_standard_comp_to_training_D1_subj_1-3_t3b3L_box2_merged.rec: [[  492   592]\n",
      " [ 2842  2942]\n",
      " [ 3742  3842]\n",
      " [ 4292  4392]\n",
      " [ 5742  5842]\n",
      " [10642 10742]\n",
      " [12292 12392]]\n",
      "Rounded array for omission in 20230612_101430_standard_comp_to_training_D1_subj_1-3_t3b3L_box2_merged.rec: []\n",
      "Rounded array for both_rewarded in 20230612_101430_standard_comp_to_training_D1_subj_1-3_t3b3L_box2_merged.rec: []\n",
      "Rounded array for tie in 20230612_101430_standard_comp_to_training_D1_subj_1-3_t3b3L_box2_merged.rec: []\n",
      "Rounded array for rewarded in 20230617_115521_standard_comp_to_omission_D1_subj_1-1_t1b3L_box1_merged.rec: []\n",
      "Rounded array for win in 20230617_115521_standard_comp_to_omission_D1_subj_1-1_t1b3L_box1_merged.rec: [[ 1716  1816]\n",
      " [ 2866  2966]\n",
      " [ 4316  4416]\n",
      " [ 4816  4916]\n",
      " [ 5766  5866]\n",
      " [ 6516  6616]\n",
      " [ 7566  7666]\n",
      " [ 8066  8166]\n",
      " [ 8866  8966]\n",
      " [ 9516  9616]\n",
      " [10166 10266]\n",
      " [10666 10766]\n",
      " [11366 11466]\n",
      " [12316 12416]\n",
      " [16291 16391]\n",
      " [17091 17191]\n",
      " [17791 17891]\n",
      " [18891 18991]\n",
      " [19491 19591]]\n",
      "Rounded array for lose in 20230617_115521_standard_comp_to_omission_D1_subj_1-1_t1b3L_box1_merged.rec: [[ 516  616]\n",
      " [3766 3866]]\n",
      "Rounded array for omission in 20230617_115521_standard_comp_to_omission_D1_subj_1-1_t1b3L_box1_merged.rec: []\n",
      "Rounded array for both_rewarded in 20230617_115521_standard_comp_to_omission_D1_subj_1-1_t1b3L_box1_merged.rec: []\n",
      "Rounded array for tie in 20230617_115521_standard_comp_to_omission_D1_subj_1-1_t1b3L_box1_merged.rec: []\n",
      "Rounded array for rewarded in 20230622_110832_standard_comp_to_both_rewarded_D1_subj_1-1_t1b3L_box1_merged.rec: []\n",
      "Rounded array for win in 20230622_110832_standard_comp_to_both_rewarded_D1_subj_1-1_t1b3L_box1_merged.rec: []\n",
      "Rounded array for lose in 20230622_110832_standard_comp_to_both_rewarded_D1_subj_1-1_t1b3L_box1_merged.rec: [[  566   666]\n",
      " [ 1766  1866]\n",
      " [ 2916  3016]\n",
      " [ 3816  3916]\n",
      " [ 4366  4466]\n",
      " [ 4866  4966]\n",
      " [ 5816  5916]\n",
      " [ 6566  6666]\n",
      " [ 7616  7716]\n",
      " [ 8116  8216]\n",
      " [ 8916  9016]\n",
      " [ 9566  9666]\n",
      " [10216 10316]\n",
      " [10716 10816]\n",
      " [11416 11516]\n",
      " [12366 12466]\n",
      " [13166 13266]\n",
      " [13866 13966]\n",
      " [14966 15066]\n",
      " [15566 15666]]\n",
      "Rounded array for omission in 20230622_110832_standard_comp_to_both_rewarded_D1_subj_1-1_t1b3L_box1_merged.rec: []\n",
      "Rounded array for both_rewarded in 20230622_110832_standard_comp_to_both_rewarded_D1_subj_1-1_t1b3L_box1_merged.rec: [[20366 20466]\n",
      " [20966 21066]\n",
      " [21516 21616]\n",
      " [22166 22266]\n",
      " [22716 22816]\n",
      " [23216 23316]\n",
      " [23716 23816]\n",
      " [24766 24866]\n",
      " [25966 26066]\n",
      " [27166 27266]\n",
      " [28266 28366]\n",
      " [29116 29216]\n",
      " [30316 30416]\n",
      " [30916 31016]\n",
      " [31566 31666]\n",
      " [32166 32266]\n",
      " [32916 33017]\n",
      " [33917 34017]\n",
      " [34867 34967]\n",
      " [35367 35467]]\n",
      "Empty spiketrain slice for recording 20230622_110832_standard_comp_to_both_rewarded_D1_subj_1-1_t1b3L_box1_merged.rec unit 9, event both_rewarded, slice 17\n",
      "Empty spiketrain slice for recording 20230622_110832_standard_comp_to_both_rewarded_D1_subj_1-1_t1b3L_box1_merged.rec unit 9, event both_rewarded, slice 18\n",
      "Empty spiketrain slice for recording 20230622_110832_standard_comp_to_both_rewarded_D1_subj_1-1_t1b3L_box1_merged.rec unit 9, event both_rewarded, slice 19\n",
      "Empty spiketrain slice for recording 20230622_110832_standard_comp_to_both_rewarded_D1_subj_1-1_t1b3L_box1_merged.rec unit 24, event both_rewarded, slice 17\n",
      "Empty spiketrain slice for recording 20230622_110832_standard_comp_to_both_rewarded_D1_subj_1-1_t1b3L_box1_merged.rec unit 24, event both_rewarded, slice 18\n",
      "Empty spiketrain slice for recording 20230622_110832_standard_comp_to_both_rewarded_D1_subj_1-1_t1b3L_box1_merged.rec unit 24, event both_rewarded, slice 19\n",
      "Empty spiketrain slice for recording 20230622_110832_standard_comp_to_both_rewarded_D1_subj_1-1_t1b3L_box1_merged.rec unit 76, event both_rewarded, slice 17\n",
      "Empty spiketrain slice for recording 20230622_110832_standard_comp_to_both_rewarded_D1_subj_1-1_t1b3L_box1_merged.rec unit 76, event both_rewarded, slice 18\n",
      "Empty spiketrain slice for recording 20230622_110832_standard_comp_to_both_rewarded_D1_subj_1-1_t1b3L_box1_merged.rec unit 76, event both_rewarded, slice 19\n",
      "Empty spiketrain slice for recording 20230622_110832_standard_comp_to_both_rewarded_D1_subj_1-1_t1b3L_box1_merged.rec unit 10, event both_rewarded, slice 17\n",
      "Empty spiketrain slice for recording 20230622_110832_standard_comp_to_both_rewarded_D1_subj_1-1_t1b3L_box1_merged.rec unit 10, event both_rewarded, slice 18\n",
      "Empty spiketrain slice for recording 20230622_110832_standard_comp_to_both_rewarded_D1_subj_1-1_t1b3L_box1_merged.rec unit 10, event both_rewarded, slice 19\n",
      "Empty spiketrain slice for recording 20230622_110832_standard_comp_to_both_rewarded_D1_subj_1-1_t1b3L_box1_merged.rec unit 94, event both_rewarded, slice 17\n",
      "Empty spiketrain slice for recording 20230622_110832_standard_comp_to_both_rewarded_D1_subj_1-1_t1b3L_box1_merged.rec unit 94, event both_rewarded, slice 18\n",
      "Empty spiketrain slice for recording 20230622_110832_standard_comp_to_both_rewarded_D1_subj_1-1_t1b3L_box1_merged.rec unit 94, event both_rewarded, slice 19\n",
      "Empty spiketrain slice for recording 20230622_110832_standard_comp_to_both_rewarded_D1_subj_1-1_t1b3L_box1_merged.rec unit 87, event both_rewarded, slice 17\n",
      "Empty spiketrain slice for recording 20230622_110832_standard_comp_to_both_rewarded_D1_subj_1-1_t1b3L_box1_merged.rec unit 87, event both_rewarded, slice 18\n",
      "Empty spiketrain slice for recording 20230622_110832_standard_comp_to_both_rewarded_D1_subj_1-1_t1b3L_box1_merged.rec unit 87, event both_rewarded, slice 19\n",
      "Empty spiketrain slice for recording 20230622_110832_standard_comp_to_both_rewarded_D1_subj_1-1_t1b3L_box1_merged.rec unit 1, event both_rewarded, slice 17\n",
      "Empty spiketrain slice for recording 20230622_110832_standard_comp_to_both_rewarded_D1_subj_1-1_t1b3L_box1_merged.rec unit 1, event both_rewarded, slice 18\n",
      "Empty spiketrain slice for recording 20230622_110832_standard_comp_to_both_rewarded_D1_subj_1-1_t1b3L_box1_merged.rec unit 1, event both_rewarded, slice 19\n",
      "Empty spiketrain slice for recording 20230622_110832_standard_comp_to_both_rewarded_D1_subj_1-1_t1b3L_box1_merged.rec unit 15, event both_rewarded, slice 17\n",
      "Empty spiketrain slice for recording 20230622_110832_standard_comp_to_both_rewarded_D1_subj_1-1_t1b3L_box1_merged.rec unit 15, event both_rewarded, slice 18\n",
      "Empty spiketrain slice for recording 20230622_110832_standard_comp_to_both_rewarded_D1_subj_1-1_t1b3L_box1_merged.rec unit 15, event both_rewarded, slice 19\n",
      "Empty spiketrain slice for recording 20230622_110832_standard_comp_to_both_rewarded_D1_subj_1-1_t1b3L_box1_merged.rec unit 97, event both_rewarded, slice 17\n",
      "Empty spiketrain slice for recording 20230622_110832_standard_comp_to_both_rewarded_D1_subj_1-1_t1b3L_box1_merged.rec unit 97, event both_rewarded, slice 18\n",
      "Empty spiketrain slice for recording 20230622_110832_standard_comp_to_both_rewarded_D1_subj_1-1_t1b3L_box1_merged.rec unit 97, event both_rewarded, slice 19\n",
      "Empty spiketrain slice for recording 20230622_110832_standard_comp_to_both_rewarded_D1_subj_1-1_t1b3L_box1_merged.rec unit 39, event both_rewarded, slice 17\n",
      "Empty spiketrain slice for recording 20230622_110832_standard_comp_to_both_rewarded_D1_subj_1-1_t1b3L_box1_merged.rec unit 39, event both_rewarded, slice 18\n",
      "Empty spiketrain slice for recording 20230622_110832_standard_comp_to_both_rewarded_D1_subj_1-1_t1b3L_box1_merged.rec unit 39, event both_rewarded, slice 19\n",
      "Empty spiketrain slice for recording 20230622_110832_standard_comp_to_both_rewarded_D1_subj_1-1_t1b3L_box1_merged.rec unit 2, event both_rewarded, slice 17\n",
      "Empty spiketrain slice for recording 20230622_110832_standard_comp_to_both_rewarded_D1_subj_1-1_t1b3L_box1_merged.rec unit 2, event both_rewarded, slice 18\n",
      "Empty spiketrain slice for recording 20230622_110832_standard_comp_to_both_rewarded_D1_subj_1-1_t1b3L_box1_merged.rec unit 2, event both_rewarded, slice 19\n",
      "Empty spiketrain slice for recording 20230622_110832_standard_comp_to_both_rewarded_D1_subj_1-1_t1b3L_box1_merged.rec unit 11, event both_rewarded, slice 17\n",
      "Empty spiketrain slice for recording 20230622_110832_standard_comp_to_both_rewarded_D1_subj_1-1_t1b3L_box1_merged.rec unit 11, event both_rewarded, slice 18\n",
      "Empty spiketrain slice for recording 20230622_110832_standard_comp_to_both_rewarded_D1_subj_1-1_t1b3L_box1_merged.rec unit 11, event both_rewarded, slice 19\n",
      "Empty spiketrain slice for recording 20230622_110832_standard_comp_to_both_rewarded_D1_subj_1-1_t1b3L_box1_merged.rec unit 77, event both_rewarded, slice 17\n",
      "Empty spiketrain slice for recording 20230622_110832_standard_comp_to_both_rewarded_D1_subj_1-1_t1b3L_box1_merged.rec unit 77, event both_rewarded, slice 18\n",
      "Empty spiketrain slice for recording 20230622_110832_standard_comp_to_both_rewarded_D1_subj_1-1_t1b3L_box1_merged.rec unit 77, event both_rewarded, slice 19\n",
      "Rounded array for tie in 20230622_110832_standard_comp_to_both_rewarded_D1_subj_1-1_t1b3L_box1_merged.rec: []\n",
      "Rounded array for rewarded in 20230622_110832_standard_comp_to_both_rewarded_D1_subj_1-2_t3b3L_box1_merged.rec: []\n",
      "Rounded array for win in 20230622_110832_standard_comp_to_both_rewarded_D1_subj_1-2_t3b3L_box1_merged.rec: [[  566   666]\n",
      " [ 1766  1866]\n",
      " [ 2916  3016]\n",
      " [ 3816  3916]\n",
      " [ 4366  4466]\n",
      " [ 4866  4966]\n",
      " [ 5816  5916]\n",
      " [ 6566  6666]\n",
      " [ 7616  7716]\n",
      " [ 8116  8216]\n",
      " [ 8916  9016]\n",
      " [ 9566  9666]\n",
      " [10216 10316]\n",
      " [10716 10816]\n",
      " [11416 11516]\n",
      " [12366 12466]\n",
      " [13166 13266]\n",
      " [13866 13966]\n",
      " [14966 15066]\n",
      " [15566 15666]]\n",
      "Rounded array for lose in 20230622_110832_standard_comp_to_both_rewarded_D1_subj_1-2_t3b3L_box1_merged.rec: []\n",
      "Rounded array for omission in 20230622_110832_standard_comp_to_both_rewarded_D1_subj_1-2_t3b3L_box1_merged.rec: []\n",
      "Rounded array for both_rewarded in 20230622_110832_standard_comp_to_both_rewarded_D1_subj_1-2_t3b3L_box1_merged.rec: [[20366 20466]\n",
      " [20966 21066]\n",
      " [21516 21616]\n",
      " [22166 22266]\n",
      " [22716 22816]\n",
      " [23216 23316]\n",
      " [23716 23816]\n",
      " [24766 24866]\n",
      " [25966 26066]\n",
      " [27166 27266]\n",
      " [28266 28366]\n",
      " [29116 29216]\n",
      " [30316 30416]\n",
      " [30916 31016]\n",
      " [31566 31666]\n",
      " [32166 32266]\n",
      " [32916 33017]\n",
      " [33917 34017]\n",
      " [34867 34967]\n",
      " [35367 35467]]\n",
      "Rounded array for tie in 20230622_110832_standard_comp_to_both_rewarded_D1_subj_1-2_t3b3L_box1_merged.rec: []\n"
     ]
    }
   ],
   "source": [
    "event_df = spike_analysis.create_spiketrain_df()"
   ]
  },
  {
   "cell_type": "code",
   "execution_count": 4,
   "id": "a7e29b52-298d-46f8-8f62-4a44ff0b88b7",
   "metadata": {
    "execution": {
     "iopub.execute_input": "2024-07-11T19:03:42.431513Z",
     "iopub.status.busy": "2024-07-11T19:03:42.431513Z",
     "iopub.status.idle": "2024-07-11T19:03:42.525694Z",
     "shell.execute_reply": "2024-07-11T19:03:42.525694Z",
     "shell.execute_reply.started": "2024-07-11T19:03:42.431513Z"
    }
   },
   "outputs": [
    {
     "data": {
      "text/html": [
       "<div>\n",
       "<style scoped>\n",
       "    .dataframe tbody tr th:only-of-type {\n",
       "        vertical-align: middle;\n",
       "    }\n",
       "\n",
       "    .dataframe tbody tr th {\n",
       "        vertical-align: top;\n",
       "    }\n",
       "\n",
       "    .dataframe thead th {\n",
       "        text-align: right;\n",
       "    }\n",
       "</style>\n",
       "<table border=\"1\" class=\"dataframe\">\n",
       "  <thead>\n",
       "    <tr style=\"text-align: right;\">\n",
       "      <th></th>\n",
       "      <th>Recording</th>\n",
       "      <th>Event name</th>\n",
       "      <th>Event number</th>\n",
       "      <th>Unit number</th>\n",
       "      <th>bin_1</th>\n",
       "      <th>bin_2</th>\n",
       "      <th>bin_3</th>\n",
       "      <th>bin_4</th>\n",
       "      <th>bin_5</th>\n",
       "      <th>bin_6</th>\n",
       "      <th>...</th>\n",
       "      <th>bin_92</th>\n",
       "      <th>bin_93</th>\n",
       "      <th>bin_94</th>\n",
       "      <th>bin_95</th>\n",
       "      <th>bin_96</th>\n",
       "      <th>bin_97</th>\n",
       "      <th>bin_98</th>\n",
       "      <th>bin_99</th>\n",
       "      <th>bin_100</th>\n",
       "      <th>bin_101</th>\n",
       "    </tr>\n",
       "  </thead>\n",
       "  <tbody>\n",
       "    <tr>\n",
       "      <th>0</th>\n",
       "      <td>20230612_101430_standard_comp_to_training_D1_s...</td>\n",
       "      <td>rewarded</td>\n",
       "      <td>1</td>\n",
       "      <td>85</td>\n",
       "      <td>0.0</td>\n",
       "      <td>0.0</td>\n",
       "      <td>0.0</td>\n",
       "      <td>0.0</td>\n",
       "      <td>0.0</td>\n",
       "      <td>0.0</td>\n",
       "      <td>...</td>\n",
       "      <td>0.0</td>\n",
       "      <td>0.0</td>\n",
       "      <td>0.0</td>\n",
       "      <td>0.0</td>\n",
       "      <td>0.0</td>\n",
       "      <td>0.0</td>\n",
       "      <td>0.0</td>\n",
       "      <td>0.0</td>\n",
       "      <td>0.0</td>\n",
       "      <td>NaN</td>\n",
       "    </tr>\n",
       "    <tr>\n",
       "      <th>1</th>\n",
       "      <td>20230612_101430_standard_comp_to_training_D1_s...</td>\n",
       "      <td>rewarded</td>\n",
       "      <td>2</td>\n",
       "      <td>85</td>\n",
       "      <td>0.0</td>\n",
       "      <td>0.0</td>\n",
       "      <td>0.0</td>\n",
       "      <td>0.0</td>\n",
       "      <td>0.0</td>\n",
       "      <td>0.0</td>\n",
       "      <td>...</td>\n",
       "      <td>0.0</td>\n",
       "      <td>0.0</td>\n",
       "      <td>0.0</td>\n",
       "      <td>0.0</td>\n",
       "      <td>0.0</td>\n",
       "      <td>0.0</td>\n",
       "      <td>0.0</td>\n",
       "      <td>0.0</td>\n",
       "      <td>0.0</td>\n",
       "      <td>NaN</td>\n",
       "    </tr>\n",
       "    <tr>\n",
       "      <th>2</th>\n",
       "      <td>20230612_101430_standard_comp_to_training_D1_s...</td>\n",
       "      <td>rewarded</td>\n",
       "      <td>3</td>\n",
       "      <td>85</td>\n",
       "      <td>0.0</td>\n",
       "      <td>0.0</td>\n",
       "      <td>0.0</td>\n",
       "      <td>0.0</td>\n",
       "      <td>0.0</td>\n",
       "      <td>0.0</td>\n",
       "      <td>...</td>\n",
       "      <td>0.0</td>\n",
       "      <td>0.0</td>\n",
       "      <td>0.0</td>\n",
       "      <td>0.0</td>\n",
       "      <td>0.0</td>\n",
       "      <td>0.0</td>\n",
       "      <td>0.0</td>\n",
       "      <td>0.0</td>\n",
       "      <td>0.0</td>\n",
       "      <td>NaN</td>\n",
       "    </tr>\n",
       "    <tr>\n",
       "      <th>3</th>\n",
       "      <td>20230612_101430_standard_comp_to_training_D1_s...</td>\n",
       "      <td>rewarded</td>\n",
       "      <td>4</td>\n",
       "      <td>85</td>\n",
       "      <td>0.0</td>\n",
       "      <td>0.0</td>\n",
       "      <td>0.0</td>\n",
       "      <td>0.0</td>\n",
       "      <td>0.0</td>\n",
       "      <td>0.0</td>\n",
       "      <td>...</td>\n",
       "      <td>1.0</td>\n",
       "      <td>0.0</td>\n",
       "      <td>0.0</td>\n",
       "      <td>0.0</td>\n",
       "      <td>0.0</td>\n",
       "      <td>0.0</td>\n",
       "      <td>0.0</td>\n",
       "      <td>0.0</td>\n",
       "      <td>0.0</td>\n",
       "      <td>NaN</td>\n",
       "    </tr>\n",
       "    <tr>\n",
       "      <th>4</th>\n",
       "      <td>20230612_101430_standard_comp_to_training_D1_s...</td>\n",
       "      <td>rewarded</td>\n",
       "      <td>5</td>\n",
       "      <td>85</td>\n",
       "      <td>0.0</td>\n",
       "      <td>0.0</td>\n",
       "      <td>0.0</td>\n",
       "      <td>0.0</td>\n",
       "      <td>0.0</td>\n",
       "      <td>0.0</td>\n",
       "      <td>...</td>\n",
       "      <td>0.0</td>\n",
       "      <td>0.0</td>\n",
       "      <td>0.0</td>\n",
       "      <td>0.0</td>\n",
       "      <td>0.0</td>\n",
       "      <td>0.0</td>\n",
       "      <td>0.0</td>\n",
       "      <td>0.0</td>\n",
       "      <td>0.0</td>\n",
       "      <td>NaN</td>\n",
       "    </tr>\n",
       "    <tr>\n",
       "      <th>...</th>\n",
       "      <td>...</td>\n",
       "      <td>...</td>\n",
       "      <td>...</td>\n",
       "      <td>...</td>\n",
       "      <td>...</td>\n",
       "      <td>...</td>\n",
       "      <td>...</td>\n",
       "      <td>...</td>\n",
       "      <td>...</td>\n",
       "      <td>...</td>\n",
       "      <td>...</td>\n",
       "      <td>...</td>\n",
       "      <td>...</td>\n",
       "      <td>...</td>\n",
       "      <td>...</td>\n",
       "      <td>...</td>\n",
       "      <td>...</td>\n",
       "      <td>...</td>\n",
       "      <td>...</td>\n",
       "      <td>...</td>\n",
       "      <td>...</td>\n",
       "    </tr>\n",
       "    <tr>\n",
       "      <th>2712</th>\n",
       "      <td>20230622_110832_standard_comp_to_both_rewarded...</td>\n",
       "      <td>both_rewarded</td>\n",
       "      <td>16</td>\n",
       "      <td>15</td>\n",
       "      <td>0.0</td>\n",
       "      <td>0.0</td>\n",
       "      <td>0.0</td>\n",
       "      <td>0.0</td>\n",
       "      <td>0.0</td>\n",
       "      <td>0.0</td>\n",
       "      <td>...</td>\n",
       "      <td>0.0</td>\n",
       "      <td>0.0</td>\n",
       "      <td>0.0</td>\n",
       "      <td>0.0</td>\n",
       "      <td>0.0</td>\n",
       "      <td>0.0</td>\n",
       "      <td>0.0</td>\n",
       "      <td>0.0</td>\n",
       "      <td>0.0</td>\n",
       "      <td>NaN</td>\n",
       "    </tr>\n",
       "    <tr>\n",
       "      <th>2713</th>\n",
       "      <td>20230622_110832_standard_comp_to_both_rewarded...</td>\n",
       "      <td>both_rewarded</td>\n",
       "      <td>17</td>\n",
       "      <td>15</td>\n",
       "      <td>0.0</td>\n",
       "      <td>0.0</td>\n",
       "      <td>0.0</td>\n",
       "      <td>0.0</td>\n",
       "      <td>0.0</td>\n",
       "      <td>0.0</td>\n",
       "      <td>...</td>\n",
       "      <td>0.0</td>\n",
       "      <td>0.0</td>\n",
       "      <td>0.0</td>\n",
       "      <td>0.0</td>\n",
       "      <td>0.0</td>\n",
       "      <td>0.0</td>\n",
       "      <td>0.0</td>\n",
       "      <td>0.0</td>\n",
       "      <td>0.0</td>\n",
       "      <td>0.0</td>\n",
       "    </tr>\n",
       "    <tr>\n",
       "      <th>2714</th>\n",
       "      <td>20230622_110832_standard_comp_to_both_rewarded...</td>\n",
       "      <td>both_rewarded</td>\n",
       "      <td>18</td>\n",
       "      <td>15</td>\n",
       "      <td>1.0</td>\n",
       "      <td>0.0</td>\n",
       "      <td>0.0</td>\n",
       "      <td>0.0</td>\n",
       "      <td>0.0</td>\n",
       "      <td>0.0</td>\n",
       "      <td>...</td>\n",
       "      <td>0.0</td>\n",
       "      <td>0.0</td>\n",
       "      <td>0.0</td>\n",
       "      <td>0.0</td>\n",
       "      <td>0.0</td>\n",
       "      <td>0.0</td>\n",
       "      <td>0.0</td>\n",
       "      <td>0.0</td>\n",
       "      <td>0.0</td>\n",
       "      <td>NaN</td>\n",
       "    </tr>\n",
       "    <tr>\n",
       "      <th>2715</th>\n",
       "      <td>20230622_110832_standard_comp_to_both_rewarded...</td>\n",
       "      <td>both_rewarded</td>\n",
       "      <td>19</td>\n",
       "      <td>15</td>\n",
       "      <td>0.0</td>\n",
       "      <td>0.0</td>\n",
       "      <td>0.0</td>\n",
       "      <td>0.0</td>\n",
       "      <td>0.0</td>\n",
       "      <td>0.0</td>\n",
       "      <td>...</td>\n",
       "      <td>0.0</td>\n",
       "      <td>0.0</td>\n",
       "      <td>0.0</td>\n",
       "      <td>0.0</td>\n",
       "      <td>0.0</td>\n",
       "      <td>0.0</td>\n",
       "      <td>0.0</td>\n",
       "      <td>0.0</td>\n",
       "      <td>0.0</td>\n",
       "      <td>NaN</td>\n",
       "    </tr>\n",
       "    <tr>\n",
       "      <th>2716</th>\n",
       "      <td>20230622_110832_standard_comp_to_both_rewarded...</td>\n",
       "      <td>both_rewarded</td>\n",
       "      <td>20</td>\n",
       "      <td>15</td>\n",
       "      <td>0.0</td>\n",
       "      <td>0.0</td>\n",
       "      <td>0.0</td>\n",
       "      <td>0.0</td>\n",
       "      <td>0.0</td>\n",
       "      <td>1.0</td>\n",
       "      <td>...</td>\n",
       "      <td>0.0</td>\n",
       "      <td>0.0</td>\n",
       "      <td>0.0</td>\n",
       "      <td>0.0</td>\n",
       "      <td>0.0</td>\n",
       "      <td>0.0</td>\n",
       "      <td>0.0</td>\n",
       "      <td>0.0</td>\n",
       "      <td>0.0</td>\n",
       "      <td>NaN</td>\n",
       "    </tr>\n",
       "  </tbody>\n",
       "</table>\n",
       "<p>2717 rows × 105 columns</p>\n",
       "</div>"
      ],
      "text/plain": [
       "                                              Recording     Event name  \\\n",
       "0     20230612_101430_standard_comp_to_training_D1_s...       rewarded   \n",
       "1     20230612_101430_standard_comp_to_training_D1_s...       rewarded   \n",
       "2     20230612_101430_standard_comp_to_training_D1_s...       rewarded   \n",
       "3     20230612_101430_standard_comp_to_training_D1_s...       rewarded   \n",
       "4     20230612_101430_standard_comp_to_training_D1_s...       rewarded   \n",
       "...                                                 ...            ...   \n",
       "2712  20230622_110832_standard_comp_to_both_rewarded...  both_rewarded   \n",
       "2713  20230622_110832_standard_comp_to_both_rewarded...  both_rewarded   \n",
       "2714  20230622_110832_standard_comp_to_both_rewarded...  both_rewarded   \n",
       "2715  20230622_110832_standard_comp_to_both_rewarded...  both_rewarded   \n",
       "2716  20230622_110832_standard_comp_to_both_rewarded...  both_rewarded   \n",
       "\n",
       "      Event number  Unit number  bin_1  bin_2  bin_3  bin_4  bin_5  bin_6  \\\n",
       "0                1           85    0.0    0.0    0.0    0.0    0.0    0.0   \n",
       "1                2           85    0.0    0.0    0.0    0.0    0.0    0.0   \n",
       "2                3           85    0.0    0.0    0.0    0.0    0.0    0.0   \n",
       "3                4           85    0.0    0.0    0.0    0.0    0.0    0.0   \n",
       "4                5           85    0.0    0.0    0.0    0.0    0.0    0.0   \n",
       "...            ...          ...    ...    ...    ...    ...    ...    ...   \n",
       "2712            16           15    0.0    0.0    0.0    0.0    0.0    0.0   \n",
       "2713            17           15    0.0    0.0    0.0    0.0    0.0    0.0   \n",
       "2714            18           15    1.0    0.0    0.0    0.0    0.0    0.0   \n",
       "2715            19           15    0.0    0.0    0.0    0.0    0.0    0.0   \n",
       "2716            20           15    0.0    0.0    0.0    0.0    0.0    1.0   \n",
       "\n",
       "      ...  bin_92  bin_93  bin_94  bin_95  bin_96  bin_97  bin_98  bin_99  \\\n",
       "0     ...     0.0     0.0     0.0     0.0     0.0     0.0     0.0     0.0   \n",
       "1     ...     0.0     0.0     0.0     0.0     0.0     0.0     0.0     0.0   \n",
       "2     ...     0.0     0.0     0.0     0.0     0.0     0.0     0.0     0.0   \n",
       "3     ...     1.0     0.0     0.0     0.0     0.0     0.0     0.0     0.0   \n",
       "4     ...     0.0     0.0     0.0     0.0     0.0     0.0     0.0     0.0   \n",
       "...   ...     ...     ...     ...     ...     ...     ...     ...     ...   \n",
       "2712  ...     0.0     0.0     0.0     0.0     0.0     0.0     0.0     0.0   \n",
       "2713  ...     0.0     0.0     0.0     0.0     0.0     0.0     0.0     0.0   \n",
       "2714  ...     0.0     0.0     0.0     0.0     0.0     0.0     0.0     0.0   \n",
       "2715  ...     0.0     0.0     0.0     0.0     0.0     0.0     0.0     0.0   \n",
       "2716  ...     0.0     0.0     0.0     0.0     0.0     0.0     0.0     0.0   \n",
       "\n",
       "      bin_100  bin_101  \n",
       "0         0.0      NaN  \n",
       "1         0.0      NaN  \n",
       "2         0.0      NaN  \n",
       "3         0.0      NaN  \n",
       "4         0.0      NaN  \n",
       "...       ...      ...  \n",
       "2712      0.0      NaN  \n",
       "2713      0.0      0.0  \n",
       "2714      0.0      NaN  \n",
       "2715      0.0      NaN  \n",
       "2716      0.0      NaN  \n",
       "\n",
       "[2717 rows x 105 columns]"
      ]
     },
     "execution_count": 4,
     "metadata": {},
     "output_type": "execute_result"
    }
   ],
   "source": [
    "event_df"
   ]
  },
  {
   "cell_type": "code",
   "execution_count": 5,
   "id": "24a3b80a-9953-46b1-b630-a281c5a0ac78",
   "metadata": {
    "execution": {
     "iopub.execute_input": "2024-07-11T19:03:42.525694Z",
     "iopub.status.busy": "2024-07-11T19:03:42.525694Z",
     "iopub.status.idle": "2024-07-11T19:03:42.557368Z",
     "shell.execute_reply": "2024-07-11T19:03:42.557368Z",
     "shell.execute_reply.started": "2024-07-11T19:03:42.525694Z"
    }
   },
   "outputs": [
    {
     "data": {
      "text/plain": [
       "Event number\n",
       "1     171\n",
       "2     171\n",
       "3     154\n",
       "4     154\n",
       "5     154\n",
       "6     154\n",
       "7     154\n",
       "8     135\n",
       "9     135\n",
       "10    135\n",
       "11    135\n",
       "12    135\n",
       "13    135\n",
       "14    116\n",
       "15    116\n",
       "16    116\n",
       "17    116\n",
       "18    116\n",
       "19    116\n",
       "20     99\n",
       "Name: count, dtype: int64"
      ]
     },
     "execution_count": 5,
     "metadata": {},
     "output_type": "execute_result"
    }
   ],
   "source": [
    "event_df['Event number'].value_counts()"
   ]
  },
  {
   "cell_type": "code",
   "execution_count": 6,
   "id": "869215ae-6641-4b1b-9557-f72a0a252236",
   "metadata": {
    "execution": {
     "iopub.execute_input": "2024-07-11T19:03:42.557368Z",
     "iopub.status.busy": "2024-07-11T19:03:42.557368Z",
     "iopub.status.idle": "2024-07-11T19:03:42.588618Z",
     "shell.execute_reply": "2024-07-11T19:03:42.588618Z",
     "shell.execute_reply.started": "2024-07-11T19:03:42.557368Z"
    }
   },
   "outputs": [
    {
     "data": {
      "text/plain": [
       "{'rewarded': array([], dtype=int64),\n",
       " 'win': array([], dtype=int64),\n",
       " 'lose': array([[  56560,   66560],\n",
       "        [ 176561,  186561],\n",
       "        [ 291562,  301563],\n",
       "        [ 381564,  391564],\n",
       "        [ 436564,  446564],\n",
       "        [ 486565,  496565],\n",
       "        [ 581566,  591566],\n",
       "        [ 656567,  666567],\n",
       "        [ 761568,  771568],\n",
       "        [ 811569,  821569],\n",
       "        [ 891570,  901570],\n",
       "        [ 956571,  966571],\n",
       "        [1021572, 1031572],\n",
       "        [1071572, 1081572],\n",
       "        [1141573, 1151573],\n",
       "        [1236574, 1246574],\n",
       "        [1316575, 1326575],\n",
       "        [1386576, 1396576],\n",
       "        [1496578, 1506578],\n",
       "        [1556578, 1566578]]),\n",
       " 'omission': array([], dtype=int64),\n",
       " 'both_rewarded': array([[2036584, 2046584],\n",
       "        [2096585, 2106585],\n",
       "        [2151586, 2161586],\n",
       "        [2216587, 2226587],\n",
       "        [2271587, 2281587],\n",
       "        [2321588, 2331588],\n",
       "        [2371589, 2381589],\n",
       "        [2476590, 2486590],\n",
       "        [2596591, 2606592],\n",
       "        [2716593, 2726593],\n",
       "        [2826594, 2836595],\n",
       "        [2911595, 2921596],\n",
       "        [3031597, 3041597],\n",
       "        [3091598, 3101598],\n",
       "        [3156599, 3166599],\n",
       "        [3216599, 3226600],\n",
       "        [3291600, 3301601],\n",
       "        [3391602, 3401602],\n",
       "        [3486603, 3496603],\n",
       "        [3536603, 3546604]]),\n",
       " 'tie': array([], dtype=int64)}"
      ]
     },
     "execution_count": 6,
     "metadata": {},
     "output_type": "execute_result"
    }
   ],
   "source": [
    "recordings = spike_analysis.ephyscollection.collection\n",
    "recording_name = '20230622_110832_standard_comp_to_both_rewarded_D1_subj_1-1_t1b3L_box1_merged.rec'\n",
    "recording1 = recordings.get(recording_name)\n",
    "recording1.event_dict"
   ]
  },
  {
   "cell_type": "code",
   "execution_count": 7,
   "id": "7fd9d75b-b956-4fd1-8fad-9292600ccf05",
   "metadata": {
    "execution": {
     "iopub.execute_input": "2024-07-11T19:03:42.588618Z",
     "iopub.status.busy": "2024-07-11T19:03:42.588618Z",
     "iopub.status.idle": "2024-07-11T19:03:42.729687Z",
     "shell.execute_reply": "2024-07-11T19:03:42.729687Z",
     "shell.execute_reply.started": "2024-07-11T19:03:42.588618Z"
    }
   },
   "outputs": [],
   "source": [
    "rec1br = recording1.event_dict['both_rewarded']"
   ]
  },
  {
   "cell_type": "code",
   "execution_count": 8,
   "id": "c3d221e3-d805-4653-a298-c7498088c0bd",
   "metadata": {
    "execution": {
     "iopub.execute_input": "2024-07-11T19:03:42.729687Z",
     "iopub.status.busy": "2024-07-11T19:03:42.729687Z",
     "iopub.status.idle": "2024-07-11T19:03:42.745720Z",
     "shell.execute_reply": "2024-07-11T19:03:42.745720Z",
     "shell.execute_reply.started": "2024-07-11T19:03:42.729687Z"
    }
   },
   "outputs": [],
   "source": [
    "rec1st = recording1.unit_spiketrains"
   ]
  },
  {
   "cell_type": "code",
   "execution_count": 9,
   "id": "19a6214a-b45a-454b-bb37-7ff8036ebb6e",
   "metadata": {
    "execution": {
     "iopub.execute_input": "2024-07-11T19:03:42.745720Z",
     "iopub.status.busy": "2024-07-11T19:03:42.745720Z",
     "iopub.status.idle": "2024-07-11T19:03:42.776983Z",
     "shell.execute_reply": "2024-07-11T19:03:42.776983Z",
     "shell.execute_reply.started": "2024-07-11T19:03:42.745720Z"
    }
   },
   "outputs": [
    {
     "data": {
      "text/plain": [
       "{np.int32(9): array([1, 1, 0, ..., 0, 0, 0]),\n",
       " np.int32(24): array([0, 1, 0, ..., 0, 0, 0]),\n",
       " np.int32(76): array([0, 0, 0, ..., 0, 0, 0]),\n",
       " np.int32(10): array([0, 0, 0, ..., 0, 0, 0]),\n",
       " np.int32(94): array([0, 0, 0, ..., 0, 0, 0]),\n",
       " np.int32(87): array([0, 0, 0, ..., 0, 0, 0]),\n",
       " np.int32(1): array([0, 0, 0, ..., 0, 0, 0]),\n",
       " np.int32(15): array([0, 0, 0, ..., 0, 0, 0]),\n",
       " np.int32(97): array([0, 0, 0, ..., 0, 0, 0]),\n",
       " np.int32(39): array([0, 0, 0, ..., 0, 1, 0]),\n",
       " np.int32(2): array([0, 0, 0, ..., 0, 0, 0]),\n",
       " np.int32(11): array([0, 0, 0, ..., 0, 0, 0]),\n",
       " np.int32(77): array([0, 0, 0, ..., 0, 0, 0])}"
      ]
     },
     "execution_count": 9,
     "metadata": {},
     "output_type": "execute_result"
    }
   ],
   "source": [
    "rec1st"
   ]
  },
  {
   "cell_type": "code",
   "execution_count": 10,
   "id": "bd716dc9-86b4-4308-a217-9217d07b37cf",
   "metadata": {
    "execution": {
     "iopub.execute_input": "2024-07-11T19:03:42.776983Z",
     "iopub.status.busy": "2024-07-11T19:03:42.776983Z",
     "iopub.status.idle": "2024-07-11T19:03:42.792612Z",
     "shell.execute_reply": "2024-07-11T19:03:42.792612Z",
     "shell.execute_reply.started": "2024-07-11T19:03:42.776983Z"
    }
   },
   "outputs": [
    {
     "data": {
      "text/plain": [
       "20"
      ]
     },
     "execution_count": 10,
     "metadata": {},
     "output_type": "execute_result"
    }
   ],
   "source": [
    "len(rec1br)"
   ]
  },
  {
   "cell_type": "code",
   "execution_count": 11,
   "id": "6a1a26c0-16a4-44f7-a9d0-99cc9a3c3e90",
   "metadata": {
    "execution": {
     "iopub.execute_input": "2024-07-11T19:03:42.792612Z",
     "iopub.status.busy": "2024-07-11T19:03:42.792612Z",
     "iopub.status.idle": "2024-07-11T19:03:42.810788Z",
     "shell.execute_reply": "2024-07-11T19:03:42.808238Z",
     "shell.execute_reply.started": "2024-07-11T19:03:42.792612Z"
    }
   },
   "outputs": [
    {
     "data": {
      "text/plain": [
       "array([[20366, 20466],\n",
       "       [20966, 21066],\n",
       "       [21516, 21616],\n",
       "       [22166, 22266],\n",
       "       [22716, 22816],\n",
       "       [23216, 23316],\n",
       "       [23716, 23816],\n",
       "       [24766, 24866],\n",
       "       [25966, 26066],\n",
       "       [27166, 27266],\n",
       "       [28266, 28366],\n",
       "       [29116, 29216],\n",
       "       [30316, 30416],\n",
       "       [30916, 31016],\n",
       "       [31566, 31666],\n",
       "       [32166, 32266],\n",
       "       [32916, 33017],\n",
       "       [33917, 34017],\n",
       "       [34867, 34967],\n",
       "       [35367, 35467]])"
      ]
     },
     "execution_count": 11,
     "metadata": {},
     "output_type": "execute_result"
    }
   ],
   "source": [
    "timebin = 100\n",
    "\n",
    "rounded_array = rec1br/timebin\n",
    "rounded_array = np.ceil(rounded_array).astype(int)\n",
    "rounded_array"
   ]
  },
  {
   "cell_type": "code",
   "execution_count": 12,
   "id": "a427adee-2b44-473a-88a0-54f4642ae76e",
   "metadata": {
    "execution": {
     "iopub.execute_input": "2024-07-11T19:03:42.814808Z",
     "iopub.status.busy": "2024-07-11T19:03:42.813810Z",
     "iopub.status.idle": "2024-07-11T19:03:42.840577Z",
     "shell.execute_reply": "2024-07-11T19:03:42.838543Z",
     "shell.execute_reply.started": "2024-07-11T19:03:42.814808Z"
    }
   },
   "outputs": [
    {
     "data": {
      "text/plain": [
       "array([2, 1, 0, 0, 0, 1, 1, 2, 0, 2, 1, 1, 1, 1, 0, 2, 1, 2, 0, 0, 1, 0,\n",
       "       0, 0, 1, 0, 1, 2, 2, 3, 0, 1, 1, 0, 1, 0, 1, 2, 0, 0, 1, 1, 0, 1,\n",
       "       1, 0, 2, 0, 0, 2, 2, 0, 1, 0, 1, 0, 0, 0, 1, 0, 2, 0, 1, 2, 3, 3,\n",
       "       3, 0, 3, 1, 0, 0, 1, 2, 2, 1, 0, 2, 3, 1, 1, 0, 0, 1, 0, 0, 0, 0,\n",
       "       0, 0, 2, 1, 1, 3, 0, 1, 0, 0, 0, 3])"
      ]
     },
     "execution_count": 12,
     "metadata": {},
     "output_type": "execute_result"
    }
   ],
   "source": [
    "rec1st[9][rounded_array[15][0]:rounded_array[15][1]]"
   ]
  },
  {
   "cell_type": "code",
   "execution_count": 13,
   "id": "bcb9df96-c1a1-455c-8c63-daca65f39ea8",
   "metadata": {
    "execution": {
     "iopub.execute_input": "2024-07-11T19:03:42.844579Z",
     "iopub.status.busy": "2024-07-11T19:03:42.843581Z",
     "iopub.status.idle": "2024-07-11T19:03:42.871578Z",
     "shell.execute_reply": "2024-07-11T19:03:42.869574Z",
     "shell.execute_reply.started": "2024-07-11T19:03:42.844579Z"
    }
   },
   "outputs": [
    {
     "data": {
      "text/plain": [
       "array([1, 0, 2, 2, 1, 0, 1, 0, 1, 1, 1, 2, 0, 1, 1, 0, 1, 0, 2, 2, 3, 3,\n",
       "       1, 0, 2, 1, 0, 1, 0, 1, 0, 0, 1, 2, 1, 0, 1, 2, 3, 1, 1, 1, 0, 0,\n",
       "       2, 1, 0, 1, 0, 0, 2, 0, 0, 0, 1, 1, 0, 0, 0, 1, 0, 0, 1, 3, 1, 0,\n",
       "       1, 1, 0, 2, 4, 1, 1, 0, 1, 1, 2, 2, 3, 2, 1, 1, 2, 1, 1, 0, 2, 0,\n",
       "       1, 4, 1, 1, 0, 3, 2, 0, 2, 3, 1, 1, 2])"
      ]
     },
     "execution_count": 13,
     "metadata": {},
     "output_type": "execute_result"
    }
   ],
   "source": [
    "rec1st[9][rounded_array[16][0]:rounded_array[16][1]]"
   ]
  },
  {
   "cell_type": "code",
   "execution_count": 14,
   "id": "de02b38a-88cf-4675-aea8-dee7ecf016a0",
   "metadata": {
    "execution": {
     "iopub.execute_input": "2024-07-11T19:03:42.875592Z",
     "iopub.status.busy": "2024-07-11T19:03:42.874583Z",
     "iopub.status.idle": "2024-07-11T19:03:42.888582Z",
     "shell.execute_reply": "2024-07-11T19:03:42.885578Z",
     "shell.execute_reply.started": "2024-07-11T19:03:42.875592Z"
    }
   },
   "outputs": [
    {
     "data": {
      "text/plain": [
       "array([], dtype=int64)"
      ]
     },
     "execution_count": 14,
     "metadata": {},
     "output_type": "execute_result"
    }
   ],
   "source": [
    "rec1st[9][rounded_array[17][0]:rounded_array[17][1]]"
   ]
  },
  {
   "cell_type": "code",
   "execution_count": 15,
   "id": "899b0270-eda4-4b41-a32e-fca4d37a29fa",
   "metadata": {
    "execution": {
     "iopub.execute_input": "2024-07-11T19:03:42.892581Z",
     "iopub.status.busy": "2024-07-11T19:03:42.891594Z",
     "iopub.status.idle": "2024-07-11T19:03:42.919581Z",
     "shell.execute_reply": "2024-07-11T19:03:42.917573Z",
     "shell.execute_reply.started": "2024-07-11T19:03:42.892581Z"
    }
   },
   "outputs": [
    {
     "data": {
      "text/plain": [
       "33673"
      ]
     },
     "execution_count": 15,
     "metadata": {},
     "output_type": "execute_result"
    }
   ],
   "source": [
    "len(rec1st[9])"
   ]
  },
  {
   "cell_type": "code",
   "execution_count": 16,
   "id": "39734b52-0007-41c9-90c7-08b9e796a319",
   "metadata": {
    "execution": {
     "iopub.execute_input": "2024-07-11T19:03:42.923576Z",
     "iopub.status.busy": "2024-07-11T19:03:42.922583Z",
     "iopub.status.idle": "2024-07-11T19:04:28.306299Z",
     "shell.execute_reply": "2024-07-11T19:04:28.227762Z",
     "shell.execute_reply.started": "2024-07-11T19:03:42.922583Z"
    }
   },
   "outputs": [
    {
     "name": "stdout",
     "output_type": "stream",
     "text": [
      "All set to analyze\n"
     ]
    }
   ],
   "source": [
    "spike_analysis = spike.SpikeAnalysis_MultiRecording(ephys_data, timebin = 1, ignore_freq = 0.5)"
   ]
  },
  {
   "cell_type": "code",
   "execution_count": 17,
   "id": "3e94b8b8-a621-4543-8603-7825d0ddb089",
   "metadata": {
    "execution": {
     "iopub.execute_input": "2024-07-11T19:04:28.456701Z",
     "iopub.status.busy": "2024-07-11T19:04:28.456701Z",
     "iopub.status.idle": "2024-07-11T19:04:28.786488Z",
     "shell.execute_reply": "2024-07-11T19:04:28.786488Z",
     "shell.execute_reply.started": "2024-07-11T19:04:28.456701Z"
    }
   },
   "outputs": [
    {
     "data": {
      "text/plain": [
       "{'rewarded': array([], dtype=int64),\n",
       " 'win': array([], dtype=int64),\n",
       " 'lose': array([[  56560,   66560],\n",
       "        [ 176561,  186561],\n",
       "        [ 291562,  301563],\n",
       "        [ 381564,  391564],\n",
       "        [ 436564,  446564],\n",
       "        [ 486565,  496565],\n",
       "        [ 581566,  591566],\n",
       "        [ 656567,  666567],\n",
       "        [ 761568,  771568],\n",
       "        [ 811569,  821569],\n",
       "        [ 891570,  901570],\n",
       "        [ 956571,  966571],\n",
       "        [1021572, 1031572],\n",
       "        [1071572, 1081572],\n",
       "        [1141573, 1151573],\n",
       "        [1236574, 1246574],\n",
       "        [1316575, 1326575],\n",
       "        [1386576, 1396576],\n",
       "        [1496578, 1506578],\n",
       "        [1556578, 1566578]]),\n",
       " 'omission': array([], dtype=int64),\n",
       " 'both_rewarded': array([[2036584, 2046584],\n",
       "        [2096585, 2106585],\n",
       "        [2151586, 2161586],\n",
       "        [2216587, 2226587],\n",
       "        [2271587, 2281587],\n",
       "        [2321588, 2331588],\n",
       "        [2371589, 2381589],\n",
       "        [2476590, 2486590],\n",
       "        [2596591, 2606592],\n",
       "        [2716593, 2726593],\n",
       "        [2826594, 2836595],\n",
       "        [2911595, 2921596],\n",
       "        [3031597, 3041597],\n",
       "        [3091598, 3101598],\n",
       "        [3156599, 3166599],\n",
       "        [3216599, 3226600],\n",
       "        [3291600, 3301601],\n",
       "        [3391602, 3401602],\n",
       "        [3486603, 3496603],\n",
       "        [3536603, 3546604]]),\n",
       " 'tie': array([], dtype=int64)}"
      ]
     },
     "execution_count": 17,
     "metadata": {},
     "output_type": "execute_result"
    }
   ],
   "source": [
    "recordings = spike_analysis.ephyscollection.collection\n",
    "recording_name = '20230622_110832_standard_comp_to_both_rewarded_D1_subj_1-1_t1b3L_box1_merged.rec'\n",
    "recording1 = recordings.get(recording_name)\n",
    "recording1.event_dict"
   ]
  },
  {
   "cell_type": "code",
   "execution_count": 18,
   "id": "74775cae-893b-4828-b46f-6332fd82d7b5",
   "metadata": {
    "execution": {
     "iopub.execute_input": "2024-07-11T19:04:28.786488Z",
     "iopub.status.busy": "2024-07-11T19:04:28.786488Z",
     "iopub.status.idle": "2024-07-11T19:04:28.817751Z",
     "shell.execute_reply": "2024-07-11T19:04:28.817751Z",
     "shell.execute_reply.started": "2024-07-11T19:04:28.786488Z"
    }
   },
   "outputs": [],
   "source": [
    "rec1st = recording1.unit_spiketrains"
   ]
  },
  {
   "cell_type": "code",
   "execution_count": 19,
   "id": "828e8513-1c60-4f1b-84ea-7e846b1705d4",
   "metadata": {
    "execution": {
     "iopub.execute_input": "2024-07-11T19:04:28.817751Z",
     "iopub.status.busy": "2024-07-11T19:04:28.817751Z",
     "iopub.status.idle": "2024-07-11T19:04:28.849003Z",
     "shell.execute_reply": "2024-07-11T19:04:28.849003Z",
     "shell.execute_reply.started": "2024-07-11T19:04:28.817751Z"
    }
   },
   "outputs": [
    {
     "data": {
      "text/plain": [
       "3367383"
      ]
     },
     "execution_count": 19,
     "metadata": {},
     "output_type": "execute_result"
    }
   ],
   "source": [
    "len(rec1st[9])"
   ]
  },
  {
   "cell_type": "code",
   "execution_count": 20,
   "id": "7b6ca2cb-cf22-45cb-a2e9-a8678d4c792c",
   "metadata": {
    "execution": {
     "iopub.execute_input": "2024-07-11T19:04:28.849003Z",
     "iopub.status.busy": "2024-07-11T19:04:28.849003Z",
     "iopub.status.idle": "2024-07-11T19:04:29.021724Z",
     "shell.execute_reply": "2024-07-11T19:04:29.021724Z",
     "shell.execute_reply.started": "2024-07-11T19:04:28.849003Z"
    }
   },
   "outputs": [
    {
     "data": {
      "text/html": [
       "<div>\n",
       "<style scoped>\n",
       "    .dataframe tbody tr th:only-of-type {\n",
       "        vertical-align: middle;\n",
       "    }\n",
       "\n",
       "    .dataframe tbody tr th {\n",
       "        vertical-align: top;\n",
       "    }\n",
       "\n",
       "    .dataframe thead th {\n",
       "        text-align: right;\n",
       "    }\n",
       "</style>\n",
       "<table border=\"1\" class=\"dataframe\">\n",
       "  <thead>\n",
       "    <tr style=\"text-align: right;\">\n",
       "      <th></th>\n",
       "      <th>Recording</th>\n",
       "      <th>Event name</th>\n",
       "      <th>Event number</th>\n",
       "      <th>Unit number</th>\n",
       "      <th>bin_1</th>\n",
       "      <th>bin_2</th>\n",
       "      <th>bin_3</th>\n",
       "      <th>bin_4</th>\n",
       "      <th>bin_5</th>\n",
       "      <th>bin_6</th>\n",
       "      <th>...</th>\n",
       "      <th>bin_92</th>\n",
       "      <th>bin_93</th>\n",
       "      <th>bin_94</th>\n",
       "      <th>bin_95</th>\n",
       "      <th>bin_96</th>\n",
       "      <th>bin_97</th>\n",
       "      <th>bin_98</th>\n",
       "      <th>bin_99</th>\n",
       "      <th>bin_100</th>\n",
       "      <th>bin_101</th>\n",
       "    </tr>\n",
       "  </thead>\n",
       "  <tbody>\n",
       "    <tr>\n",
       "      <th>0</th>\n",
       "      <td>20230612_101430_standard_comp_to_training_D1_s...</td>\n",
       "      <td>rewarded</td>\n",
       "      <td>1</td>\n",
       "      <td>85</td>\n",
       "      <td>0.0</td>\n",
       "      <td>0.0</td>\n",
       "      <td>0.0</td>\n",
       "      <td>0.0</td>\n",
       "      <td>0.0</td>\n",
       "      <td>0.0</td>\n",
       "      <td>...</td>\n",
       "      <td>0.0</td>\n",
       "      <td>0.0</td>\n",
       "      <td>0.0</td>\n",
       "      <td>0.0</td>\n",
       "      <td>0.0</td>\n",
       "      <td>0.0</td>\n",
       "      <td>0.0</td>\n",
       "      <td>0.0</td>\n",
       "      <td>0.0</td>\n",
       "      <td>NaN</td>\n",
       "    </tr>\n",
       "    <tr>\n",
       "      <th>1</th>\n",
       "      <td>20230612_101430_standard_comp_to_training_D1_s...</td>\n",
       "      <td>rewarded</td>\n",
       "      <td>2</td>\n",
       "      <td>85</td>\n",
       "      <td>0.0</td>\n",
       "      <td>0.0</td>\n",
       "      <td>0.0</td>\n",
       "      <td>0.0</td>\n",
       "      <td>0.0</td>\n",
       "      <td>0.0</td>\n",
       "      <td>...</td>\n",
       "      <td>0.0</td>\n",
       "      <td>0.0</td>\n",
       "      <td>0.0</td>\n",
       "      <td>0.0</td>\n",
       "      <td>0.0</td>\n",
       "      <td>0.0</td>\n",
       "      <td>0.0</td>\n",
       "      <td>0.0</td>\n",
       "      <td>0.0</td>\n",
       "      <td>NaN</td>\n",
       "    </tr>\n",
       "    <tr>\n",
       "      <th>2</th>\n",
       "      <td>20230612_101430_standard_comp_to_training_D1_s...</td>\n",
       "      <td>rewarded</td>\n",
       "      <td>3</td>\n",
       "      <td>85</td>\n",
       "      <td>0.0</td>\n",
       "      <td>0.0</td>\n",
       "      <td>0.0</td>\n",
       "      <td>0.0</td>\n",
       "      <td>0.0</td>\n",
       "      <td>0.0</td>\n",
       "      <td>...</td>\n",
       "      <td>0.0</td>\n",
       "      <td>0.0</td>\n",
       "      <td>0.0</td>\n",
       "      <td>0.0</td>\n",
       "      <td>0.0</td>\n",
       "      <td>0.0</td>\n",
       "      <td>0.0</td>\n",
       "      <td>0.0</td>\n",
       "      <td>0.0</td>\n",
       "      <td>NaN</td>\n",
       "    </tr>\n",
       "    <tr>\n",
       "      <th>3</th>\n",
       "      <td>20230612_101430_standard_comp_to_training_D1_s...</td>\n",
       "      <td>rewarded</td>\n",
       "      <td>4</td>\n",
       "      <td>85</td>\n",
       "      <td>0.0</td>\n",
       "      <td>0.0</td>\n",
       "      <td>0.0</td>\n",
       "      <td>0.0</td>\n",
       "      <td>0.0</td>\n",
       "      <td>0.0</td>\n",
       "      <td>...</td>\n",
       "      <td>1.0</td>\n",
       "      <td>0.0</td>\n",
       "      <td>0.0</td>\n",
       "      <td>0.0</td>\n",
       "      <td>0.0</td>\n",
       "      <td>0.0</td>\n",
       "      <td>0.0</td>\n",
       "      <td>0.0</td>\n",
       "      <td>0.0</td>\n",
       "      <td>NaN</td>\n",
       "    </tr>\n",
       "    <tr>\n",
       "      <th>4</th>\n",
       "      <td>20230612_101430_standard_comp_to_training_D1_s...</td>\n",
       "      <td>rewarded</td>\n",
       "      <td>5</td>\n",
       "      <td>85</td>\n",
       "      <td>0.0</td>\n",
       "      <td>0.0</td>\n",
       "      <td>0.0</td>\n",
       "      <td>0.0</td>\n",
       "      <td>0.0</td>\n",
       "      <td>0.0</td>\n",
       "      <td>...</td>\n",
       "      <td>0.0</td>\n",
       "      <td>0.0</td>\n",
       "      <td>0.0</td>\n",
       "      <td>0.0</td>\n",
       "      <td>0.0</td>\n",
       "      <td>0.0</td>\n",
       "      <td>0.0</td>\n",
       "      <td>0.0</td>\n",
       "      <td>0.0</td>\n",
       "      <td>NaN</td>\n",
       "    </tr>\n",
       "    <tr>\n",
       "      <th>...</th>\n",
       "      <td>...</td>\n",
       "      <td>...</td>\n",
       "      <td>...</td>\n",
       "      <td>...</td>\n",
       "      <td>...</td>\n",
       "      <td>...</td>\n",
       "      <td>...</td>\n",
       "      <td>...</td>\n",
       "      <td>...</td>\n",
       "      <td>...</td>\n",
       "      <td>...</td>\n",
       "      <td>...</td>\n",
       "      <td>...</td>\n",
       "      <td>...</td>\n",
       "      <td>...</td>\n",
       "      <td>...</td>\n",
       "      <td>...</td>\n",
       "      <td>...</td>\n",
       "      <td>...</td>\n",
       "      <td>...</td>\n",
       "      <td>...</td>\n",
       "    </tr>\n",
       "    <tr>\n",
       "      <th>2712</th>\n",
       "      <td>20230622_110832_standard_comp_to_both_rewarded...</td>\n",
       "      <td>both_rewarded</td>\n",
       "      <td>16</td>\n",
       "      <td>15</td>\n",
       "      <td>0.0</td>\n",
       "      <td>0.0</td>\n",
       "      <td>0.0</td>\n",
       "      <td>0.0</td>\n",
       "      <td>0.0</td>\n",
       "      <td>0.0</td>\n",
       "      <td>...</td>\n",
       "      <td>0.0</td>\n",
       "      <td>0.0</td>\n",
       "      <td>0.0</td>\n",
       "      <td>0.0</td>\n",
       "      <td>0.0</td>\n",
       "      <td>0.0</td>\n",
       "      <td>0.0</td>\n",
       "      <td>0.0</td>\n",
       "      <td>0.0</td>\n",
       "      <td>NaN</td>\n",
       "    </tr>\n",
       "    <tr>\n",
       "      <th>2713</th>\n",
       "      <td>20230622_110832_standard_comp_to_both_rewarded...</td>\n",
       "      <td>both_rewarded</td>\n",
       "      <td>17</td>\n",
       "      <td>15</td>\n",
       "      <td>0.0</td>\n",
       "      <td>0.0</td>\n",
       "      <td>0.0</td>\n",
       "      <td>0.0</td>\n",
       "      <td>0.0</td>\n",
       "      <td>0.0</td>\n",
       "      <td>...</td>\n",
       "      <td>0.0</td>\n",
       "      <td>0.0</td>\n",
       "      <td>0.0</td>\n",
       "      <td>0.0</td>\n",
       "      <td>0.0</td>\n",
       "      <td>0.0</td>\n",
       "      <td>0.0</td>\n",
       "      <td>0.0</td>\n",
       "      <td>0.0</td>\n",
       "      <td>0.0</td>\n",
       "    </tr>\n",
       "    <tr>\n",
       "      <th>2714</th>\n",
       "      <td>20230622_110832_standard_comp_to_both_rewarded...</td>\n",
       "      <td>both_rewarded</td>\n",
       "      <td>18</td>\n",
       "      <td>15</td>\n",
       "      <td>1.0</td>\n",
       "      <td>0.0</td>\n",
       "      <td>0.0</td>\n",
       "      <td>0.0</td>\n",
       "      <td>0.0</td>\n",
       "      <td>0.0</td>\n",
       "      <td>...</td>\n",
       "      <td>0.0</td>\n",
       "      <td>0.0</td>\n",
       "      <td>0.0</td>\n",
       "      <td>0.0</td>\n",
       "      <td>0.0</td>\n",
       "      <td>0.0</td>\n",
       "      <td>0.0</td>\n",
       "      <td>0.0</td>\n",
       "      <td>0.0</td>\n",
       "      <td>NaN</td>\n",
       "    </tr>\n",
       "    <tr>\n",
       "      <th>2715</th>\n",
       "      <td>20230622_110832_standard_comp_to_both_rewarded...</td>\n",
       "      <td>both_rewarded</td>\n",
       "      <td>19</td>\n",
       "      <td>15</td>\n",
       "      <td>0.0</td>\n",
       "      <td>0.0</td>\n",
       "      <td>0.0</td>\n",
       "      <td>0.0</td>\n",
       "      <td>0.0</td>\n",
       "      <td>0.0</td>\n",
       "      <td>...</td>\n",
       "      <td>0.0</td>\n",
       "      <td>0.0</td>\n",
       "      <td>0.0</td>\n",
       "      <td>0.0</td>\n",
       "      <td>0.0</td>\n",
       "      <td>0.0</td>\n",
       "      <td>0.0</td>\n",
       "      <td>0.0</td>\n",
       "      <td>0.0</td>\n",
       "      <td>NaN</td>\n",
       "    </tr>\n",
       "    <tr>\n",
       "      <th>2716</th>\n",
       "      <td>20230622_110832_standard_comp_to_both_rewarded...</td>\n",
       "      <td>both_rewarded</td>\n",
       "      <td>20</td>\n",
       "      <td>15</td>\n",
       "      <td>0.0</td>\n",
       "      <td>0.0</td>\n",
       "      <td>0.0</td>\n",
       "      <td>0.0</td>\n",
       "      <td>0.0</td>\n",
       "      <td>1.0</td>\n",
       "      <td>...</td>\n",
       "      <td>0.0</td>\n",
       "      <td>0.0</td>\n",
       "      <td>0.0</td>\n",
       "      <td>0.0</td>\n",
       "      <td>0.0</td>\n",
       "      <td>0.0</td>\n",
       "      <td>0.0</td>\n",
       "      <td>0.0</td>\n",
       "      <td>0.0</td>\n",
       "      <td>NaN</td>\n",
       "    </tr>\n",
       "  </tbody>\n",
       "</table>\n",
       "<p>2717 rows × 105 columns</p>\n",
       "</div>"
      ],
      "text/plain": [
       "                                              Recording     Event name  \\\n",
       "0     20230612_101430_standard_comp_to_training_D1_s...       rewarded   \n",
       "1     20230612_101430_standard_comp_to_training_D1_s...       rewarded   \n",
       "2     20230612_101430_standard_comp_to_training_D1_s...       rewarded   \n",
       "3     20230612_101430_standard_comp_to_training_D1_s...       rewarded   \n",
       "4     20230612_101430_standard_comp_to_training_D1_s...       rewarded   \n",
       "...                                                 ...            ...   \n",
       "2712  20230622_110832_standard_comp_to_both_rewarded...  both_rewarded   \n",
       "2713  20230622_110832_standard_comp_to_both_rewarded...  both_rewarded   \n",
       "2714  20230622_110832_standard_comp_to_both_rewarded...  both_rewarded   \n",
       "2715  20230622_110832_standard_comp_to_both_rewarded...  both_rewarded   \n",
       "2716  20230622_110832_standard_comp_to_both_rewarded...  both_rewarded   \n",
       "\n",
       "      Event number  Unit number  bin_1  bin_2  bin_3  bin_4  bin_5  bin_6  \\\n",
       "0                1           85    0.0    0.0    0.0    0.0    0.0    0.0   \n",
       "1                2           85    0.0    0.0    0.0    0.0    0.0    0.0   \n",
       "2                3           85    0.0    0.0    0.0    0.0    0.0    0.0   \n",
       "3                4           85    0.0    0.0    0.0    0.0    0.0    0.0   \n",
       "4                5           85    0.0    0.0    0.0    0.0    0.0    0.0   \n",
       "...            ...          ...    ...    ...    ...    ...    ...    ...   \n",
       "2712            16           15    0.0    0.0    0.0    0.0    0.0    0.0   \n",
       "2713            17           15    0.0    0.0    0.0    0.0    0.0    0.0   \n",
       "2714            18           15    1.0    0.0    0.0    0.0    0.0    0.0   \n",
       "2715            19           15    0.0    0.0    0.0    0.0    0.0    0.0   \n",
       "2716            20           15    0.0    0.0    0.0    0.0    0.0    1.0   \n",
       "\n",
       "      ...  bin_92  bin_93  bin_94  bin_95  bin_96  bin_97  bin_98  bin_99  \\\n",
       "0     ...     0.0     0.0     0.0     0.0     0.0     0.0     0.0     0.0   \n",
       "1     ...     0.0     0.0     0.0     0.0     0.0     0.0     0.0     0.0   \n",
       "2     ...     0.0     0.0     0.0     0.0     0.0     0.0     0.0     0.0   \n",
       "3     ...     1.0     0.0     0.0     0.0     0.0     0.0     0.0     0.0   \n",
       "4     ...     0.0     0.0     0.0     0.0     0.0     0.0     0.0     0.0   \n",
       "...   ...     ...     ...     ...     ...     ...     ...     ...     ...   \n",
       "2712  ...     0.0     0.0     0.0     0.0     0.0     0.0     0.0     0.0   \n",
       "2713  ...     0.0     0.0     0.0     0.0     0.0     0.0     0.0     0.0   \n",
       "2714  ...     0.0     0.0     0.0     0.0     0.0     0.0     0.0     0.0   \n",
       "2715  ...     0.0     0.0     0.0     0.0     0.0     0.0     0.0     0.0   \n",
       "2716  ...     0.0     0.0     0.0     0.0     0.0     0.0     0.0     0.0   \n",
       "\n",
       "      bin_100  bin_101  \n",
       "0         0.0      NaN  \n",
       "1         0.0      NaN  \n",
       "2         0.0      NaN  \n",
       "3         0.0      NaN  \n",
       "4         0.0      NaN  \n",
       "...       ...      ...  \n",
       "2712      0.0      NaN  \n",
       "2713      0.0      0.0  \n",
       "2714      0.0      NaN  \n",
       "2715      0.0      NaN  \n",
       "2716      0.0      NaN  \n",
       "\n",
       "[2717 rows x 105 columns]"
      ]
     },
     "execution_count": 20,
     "metadata": {},
     "output_type": "execute_result"
    }
   ],
   "source": [
    "event_df"
   ]
  },
  {
   "cell_type": "code",
   "execution_count": 21,
   "id": "35be372e-f95e-4dca-bcdd-07a944a06055",
   "metadata": {
    "execution": {
     "iopub.execute_input": "2024-07-11T19:04:29.037346Z",
     "iopub.status.busy": "2024-07-11T19:04:29.037346Z",
     "iopub.status.idle": "2024-07-11T19:04:29.241326Z",
     "shell.execute_reply": "2024-07-11T19:04:29.241326Z",
     "shell.execute_reply.started": "2024-07-11T19:04:29.037346Z"
    }
   },
   "outputs": [
    {
     "data": {
      "text/html": [
       "<div>\n",
       "<style scoped>\n",
       "    .dataframe tbody tr th:only-of-type {\n",
       "        vertical-align: middle;\n",
       "    }\n",
       "\n",
       "    .dataframe tbody tr th {\n",
       "        vertical-align: top;\n",
       "    }\n",
       "\n",
       "    .dataframe thead th {\n",
       "        text-align: right;\n",
       "    }\n",
       "</style>\n",
       "<table border=\"1\" class=\"dataframe\">\n",
       "  <thead>\n",
       "    <tr style=\"text-align: right;\">\n",
       "      <th></th>\n",
       "      <th>Recording</th>\n",
       "      <th>Event name</th>\n",
       "      <th>Event number</th>\n",
       "      <th>Unit number</th>\n",
       "      <th>bin_1</th>\n",
       "      <th>bin_2</th>\n",
       "      <th>bin_3</th>\n",
       "      <th>bin_4</th>\n",
       "      <th>bin_5</th>\n",
       "      <th>bin_6</th>\n",
       "      <th>...</th>\n",
       "      <th>bin_92</th>\n",
       "      <th>bin_93</th>\n",
       "      <th>bin_94</th>\n",
       "      <th>bin_95</th>\n",
       "      <th>bin_96</th>\n",
       "      <th>bin_97</th>\n",
       "      <th>bin_98</th>\n",
       "      <th>bin_99</th>\n",
       "      <th>bin_100</th>\n",
       "      <th>bin_101</th>\n",
       "    </tr>\n",
       "  </thead>\n",
       "  <tbody>\n",
       "    <tr>\n",
       "      <th>1393</th>\n",
       "      <td>20230622_110832_standard_comp_to_both_rewarded...</td>\n",
       "      <td>both_rewarded</td>\n",
       "      <td>17</td>\n",
       "      <td>9</td>\n",
       "      <td>1.0</td>\n",
       "      <td>0.0</td>\n",
       "      <td>2.0</td>\n",
       "      <td>2.0</td>\n",
       "      <td>1.0</td>\n",
       "      <td>0.0</td>\n",
       "      <td>...</td>\n",
       "      <td>1.0</td>\n",
       "      <td>0.0</td>\n",
       "      <td>3.0</td>\n",
       "      <td>2.0</td>\n",
       "      <td>0.0</td>\n",
       "      <td>2.0</td>\n",
       "      <td>3.0</td>\n",
       "      <td>1.0</td>\n",
       "      <td>1.0</td>\n",
       "      <td>2.0</td>\n",
       "    </tr>\n",
       "    <tr>\n",
       "      <th>1413</th>\n",
       "      <td>20230622_110832_standard_comp_to_both_rewarded...</td>\n",
       "      <td>both_rewarded</td>\n",
       "      <td>17</td>\n",
       "      <td>24</td>\n",
       "      <td>0.0</td>\n",
       "      <td>0.0</td>\n",
       "      <td>0.0</td>\n",
       "      <td>0.0</td>\n",
       "      <td>0.0</td>\n",
       "      <td>0.0</td>\n",
       "      <td>...</td>\n",
       "      <td>0.0</td>\n",
       "      <td>0.0</td>\n",
       "      <td>0.0</td>\n",
       "      <td>0.0</td>\n",
       "      <td>0.0</td>\n",
       "      <td>0.0</td>\n",
       "      <td>0.0</td>\n",
       "      <td>0.0</td>\n",
       "      <td>0.0</td>\n",
       "      <td>0.0</td>\n",
       "    </tr>\n",
       "    <tr>\n",
       "      <th>1433</th>\n",
       "      <td>20230622_110832_standard_comp_to_both_rewarded...</td>\n",
       "      <td>both_rewarded</td>\n",
       "      <td>17</td>\n",
       "      <td>76</td>\n",
       "      <td>1.0</td>\n",
       "      <td>0.0</td>\n",
       "      <td>0.0</td>\n",
       "      <td>0.0</td>\n",
       "      <td>0.0</td>\n",
       "      <td>0.0</td>\n",
       "      <td>...</td>\n",
       "      <td>0.0</td>\n",
       "      <td>1.0</td>\n",
       "      <td>0.0</td>\n",
       "      <td>0.0</td>\n",
       "      <td>0.0</td>\n",
       "      <td>0.0</td>\n",
       "      <td>0.0</td>\n",
       "      <td>1.0</td>\n",
       "      <td>0.0</td>\n",
       "      <td>0.0</td>\n",
       "    </tr>\n",
       "    <tr>\n",
       "      <th>1453</th>\n",
       "      <td>20230622_110832_standard_comp_to_both_rewarded...</td>\n",
       "      <td>both_rewarded</td>\n",
       "      <td>17</td>\n",
       "      <td>10</td>\n",
       "      <td>0.0</td>\n",
       "      <td>1.0</td>\n",
       "      <td>4.0</td>\n",
       "      <td>1.0</td>\n",
       "      <td>0.0</td>\n",
       "      <td>1.0</td>\n",
       "      <td>...</td>\n",
       "      <td>0.0</td>\n",
       "      <td>0.0</td>\n",
       "      <td>1.0</td>\n",
       "      <td>0.0</td>\n",
       "      <td>0.0</td>\n",
       "      <td>0.0</td>\n",
       "      <td>0.0</td>\n",
       "      <td>0.0</td>\n",
       "      <td>0.0</td>\n",
       "      <td>0.0</td>\n",
       "    </tr>\n",
       "    <tr>\n",
       "      <th>1473</th>\n",
       "      <td>20230622_110832_standard_comp_to_both_rewarded...</td>\n",
       "      <td>both_rewarded</td>\n",
       "      <td>17</td>\n",
       "      <td>94</td>\n",
       "      <td>0.0</td>\n",
       "      <td>0.0</td>\n",
       "      <td>0.0</td>\n",
       "      <td>0.0</td>\n",
       "      <td>0.0</td>\n",
       "      <td>0.0</td>\n",
       "      <td>...</td>\n",
       "      <td>0.0</td>\n",
       "      <td>0.0</td>\n",
       "      <td>0.0</td>\n",
       "      <td>0.0</td>\n",
       "      <td>0.0</td>\n",
       "      <td>0.0</td>\n",
       "      <td>0.0</td>\n",
       "      <td>0.0</td>\n",
       "      <td>0.0</td>\n",
       "      <td>0.0</td>\n",
       "    </tr>\n",
       "    <tr>\n",
       "      <th>1493</th>\n",
       "      <td>20230622_110832_standard_comp_to_both_rewarded...</td>\n",
       "      <td>both_rewarded</td>\n",
       "      <td>17</td>\n",
       "      <td>87</td>\n",
       "      <td>0.0</td>\n",
       "      <td>0.0</td>\n",
       "      <td>0.0</td>\n",
       "      <td>0.0</td>\n",
       "      <td>0.0</td>\n",
       "      <td>0.0</td>\n",
       "      <td>...</td>\n",
       "      <td>0.0</td>\n",
       "      <td>0.0</td>\n",
       "      <td>0.0</td>\n",
       "      <td>0.0</td>\n",
       "      <td>0.0</td>\n",
       "      <td>0.0</td>\n",
       "      <td>0.0</td>\n",
       "      <td>0.0</td>\n",
       "      <td>0.0</td>\n",
       "      <td>0.0</td>\n",
       "    </tr>\n",
       "    <tr>\n",
       "      <th>1513</th>\n",
       "      <td>20230622_110832_standard_comp_to_both_rewarded...</td>\n",
       "      <td>both_rewarded</td>\n",
       "      <td>17</td>\n",
       "      <td>1</td>\n",
       "      <td>0.0</td>\n",
       "      <td>0.0</td>\n",
       "      <td>0.0</td>\n",
       "      <td>0.0</td>\n",
       "      <td>0.0</td>\n",
       "      <td>0.0</td>\n",
       "      <td>...</td>\n",
       "      <td>0.0</td>\n",
       "      <td>0.0</td>\n",
       "      <td>0.0</td>\n",
       "      <td>0.0</td>\n",
       "      <td>0.0</td>\n",
       "      <td>0.0</td>\n",
       "      <td>0.0</td>\n",
       "      <td>0.0</td>\n",
       "      <td>0.0</td>\n",
       "      <td>0.0</td>\n",
       "    </tr>\n",
       "    <tr>\n",
       "      <th>1533</th>\n",
       "      <td>20230622_110832_standard_comp_to_both_rewarded...</td>\n",
       "      <td>both_rewarded</td>\n",
       "      <td>17</td>\n",
       "      <td>15</td>\n",
       "      <td>0.0</td>\n",
       "      <td>0.0</td>\n",
       "      <td>0.0</td>\n",
       "      <td>0.0</td>\n",
       "      <td>0.0</td>\n",
       "      <td>0.0</td>\n",
       "      <td>...</td>\n",
       "      <td>0.0</td>\n",
       "      <td>0.0</td>\n",
       "      <td>1.0</td>\n",
       "      <td>1.0</td>\n",
       "      <td>1.0</td>\n",
       "      <td>0.0</td>\n",
       "      <td>1.0</td>\n",
       "      <td>0.0</td>\n",
       "      <td>1.0</td>\n",
       "      <td>1.0</td>\n",
       "    </tr>\n",
       "    <tr>\n",
       "      <th>1553</th>\n",
       "      <td>20230622_110832_standard_comp_to_both_rewarded...</td>\n",
       "      <td>both_rewarded</td>\n",
       "      <td>17</td>\n",
       "      <td>97</td>\n",
       "      <td>1.0</td>\n",
       "      <td>0.0</td>\n",
       "      <td>0.0</td>\n",
       "      <td>0.0</td>\n",
       "      <td>0.0</td>\n",
       "      <td>0.0</td>\n",
       "      <td>...</td>\n",
       "      <td>1.0</td>\n",
       "      <td>0.0</td>\n",
       "      <td>1.0</td>\n",
       "      <td>0.0</td>\n",
       "      <td>0.0</td>\n",
       "      <td>0.0</td>\n",
       "      <td>0.0</td>\n",
       "      <td>0.0</td>\n",
       "      <td>0.0</td>\n",
       "      <td>0.0</td>\n",
       "    </tr>\n",
       "    <tr>\n",
       "      <th>1573</th>\n",
       "      <td>20230622_110832_standard_comp_to_both_rewarded...</td>\n",
       "      <td>both_rewarded</td>\n",
       "      <td>17</td>\n",
       "      <td>39</td>\n",
       "      <td>0.0</td>\n",
       "      <td>0.0</td>\n",
       "      <td>1.0</td>\n",
       "      <td>0.0</td>\n",
       "      <td>0.0</td>\n",
       "      <td>0.0</td>\n",
       "      <td>...</td>\n",
       "      <td>0.0</td>\n",
       "      <td>0.0</td>\n",
       "      <td>0.0</td>\n",
       "      <td>0.0</td>\n",
       "      <td>0.0</td>\n",
       "      <td>0.0</td>\n",
       "      <td>0.0</td>\n",
       "      <td>0.0</td>\n",
       "      <td>0.0</td>\n",
       "      <td>0.0</td>\n",
       "    </tr>\n",
       "    <tr>\n",
       "      <th>1593</th>\n",
       "      <td>20230622_110832_standard_comp_to_both_rewarded...</td>\n",
       "      <td>both_rewarded</td>\n",
       "      <td>17</td>\n",
       "      <td>2</td>\n",
       "      <td>1.0</td>\n",
       "      <td>0.0</td>\n",
       "      <td>0.0</td>\n",
       "      <td>0.0</td>\n",
       "      <td>0.0</td>\n",
       "      <td>0.0</td>\n",
       "      <td>...</td>\n",
       "      <td>0.0</td>\n",
       "      <td>0.0</td>\n",
       "      <td>0.0</td>\n",
       "      <td>0.0</td>\n",
       "      <td>0.0</td>\n",
       "      <td>0.0</td>\n",
       "      <td>0.0</td>\n",
       "      <td>0.0</td>\n",
       "      <td>0.0</td>\n",
       "      <td>0.0</td>\n",
       "    </tr>\n",
       "    <tr>\n",
       "      <th>1613</th>\n",
       "      <td>20230622_110832_standard_comp_to_both_rewarded...</td>\n",
       "      <td>both_rewarded</td>\n",
       "      <td>17</td>\n",
       "      <td>11</td>\n",
       "      <td>4.0</td>\n",
       "      <td>0.0</td>\n",
       "      <td>0.0</td>\n",
       "      <td>0.0</td>\n",
       "      <td>0.0</td>\n",
       "      <td>1.0</td>\n",
       "      <td>...</td>\n",
       "      <td>0.0</td>\n",
       "      <td>0.0</td>\n",
       "      <td>0.0</td>\n",
       "      <td>0.0</td>\n",
       "      <td>0.0</td>\n",
       "      <td>0.0</td>\n",
       "      <td>0.0</td>\n",
       "      <td>0.0</td>\n",
       "      <td>0.0</td>\n",
       "      <td>0.0</td>\n",
       "    </tr>\n",
       "    <tr>\n",
       "      <th>1633</th>\n",
       "      <td>20230622_110832_standard_comp_to_both_rewarded...</td>\n",
       "      <td>both_rewarded</td>\n",
       "      <td>17</td>\n",
       "      <td>77</td>\n",
       "      <td>0.0</td>\n",
       "      <td>1.0</td>\n",
       "      <td>0.0</td>\n",
       "      <td>0.0</td>\n",
       "      <td>0.0</td>\n",
       "      <td>0.0</td>\n",
       "      <td>...</td>\n",
       "      <td>0.0</td>\n",
       "      <td>0.0</td>\n",
       "      <td>0.0</td>\n",
       "      <td>0.0</td>\n",
       "      <td>0.0</td>\n",
       "      <td>0.0</td>\n",
       "      <td>0.0</td>\n",
       "      <td>0.0</td>\n",
       "      <td>0.0</td>\n",
       "      <td>0.0</td>\n",
       "    </tr>\n",
       "    <tr>\n",
       "      <th>2193</th>\n",
       "      <td>20230622_110832_standard_comp_to_both_rewarded...</td>\n",
       "      <td>both_rewarded</td>\n",
       "      <td>17</td>\n",
       "      <td>21</td>\n",
       "      <td>1.0</td>\n",
       "      <td>0.0</td>\n",
       "      <td>1.0</td>\n",
       "      <td>0.0</td>\n",
       "      <td>0.0</td>\n",
       "      <td>0.0</td>\n",
       "      <td>...</td>\n",
       "      <td>0.0</td>\n",
       "      <td>0.0</td>\n",
       "      <td>0.0</td>\n",
       "      <td>1.0</td>\n",
       "      <td>0.0</td>\n",
       "      <td>0.0</td>\n",
       "      <td>0.0</td>\n",
       "      <td>0.0</td>\n",
       "      <td>1.0</td>\n",
       "      <td>0.0</td>\n",
       "    </tr>\n",
       "    <tr>\n",
       "      <th>2213</th>\n",
       "      <td>20230622_110832_standard_comp_to_both_rewarded...</td>\n",
       "      <td>both_rewarded</td>\n",
       "      <td>17</td>\n",
       "      <td>53</td>\n",
       "      <td>1.0</td>\n",
       "      <td>0.0</td>\n",
       "      <td>0.0</td>\n",
       "      <td>1.0</td>\n",
       "      <td>0.0</td>\n",
       "      <td>1.0</td>\n",
       "      <td>...</td>\n",
       "      <td>0.0</td>\n",
       "      <td>0.0</td>\n",
       "      <td>0.0</td>\n",
       "      <td>0.0</td>\n",
       "      <td>0.0</td>\n",
       "      <td>0.0</td>\n",
       "      <td>0.0</td>\n",
       "      <td>0.0</td>\n",
       "      <td>0.0</td>\n",
       "      <td>0.0</td>\n",
       "    </tr>\n",
       "    <tr>\n",
       "      <th>2233</th>\n",
       "      <td>20230622_110832_standard_comp_to_both_rewarded...</td>\n",
       "      <td>both_rewarded</td>\n",
       "      <td>17</td>\n",
       "      <td>46</td>\n",
       "      <td>0.0</td>\n",
       "      <td>0.0</td>\n",
       "      <td>0.0</td>\n",
       "      <td>0.0</td>\n",
       "      <td>0.0</td>\n",
       "      <td>0.0</td>\n",
       "      <td>...</td>\n",
       "      <td>0.0</td>\n",
       "      <td>0.0</td>\n",
       "      <td>1.0</td>\n",
       "      <td>0.0</td>\n",
       "      <td>0.0</td>\n",
       "      <td>0.0</td>\n",
       "      <td>0.0</td>\n",
       "      <td>0.0</td>\n",
       "      <td>0.0</td>\n",
       "      <td>0.0</td>\n",
       "    </tr>\n",
       "    <tr>\n",
       "      <th>2253</th>\n",
       "      <td>20230622_110832_standard_comp_to_both_rewarded...</td>\n",
       "      <td>both_rewarded</td>\n",
       "      <td>17</td>\n",
       "      <td>45</td>\n",
       "      <td>1.0</td>\n",
       "      <td>0.0</td>\n",
       "      <td>2.0</td>\n",
       "      <td>1.0</td>\n",
       "      <td>2.0</td>\n",
       "      <td>1.0</td>\n",
       "      <td>...</td>\n",
       "      <td>1.0</td>\n",
       "      <td>2.0</td>\n",
       "      <td>0.0</td>\n",
       "      <td>1.0</td>\n",
       "      <td>4.0</td>\n",
       "      <td>1.0</td>\n",
       "      <td>1.0</td>\n",
       "      <td>0.0</td>\n",
       "      <td>1.0</td>\n",
       "      <td>1.0</td>\n",
       "    </tr>\n",
       "    <tr>\n",
       "      <th>2273</th>\n",
       "      <td>20230622_110832_standard_comp_to_both_rewarded...</td>\n",
       "      <td>both_rewarded</td>\n",
       "      <td>17</td>\n",
       "      <td>33</td>\n",
       "      <td>3.0</td>\n",
       "      <td>1.0</td>\n",
       "      <td>0.0</td>\n",
       "      <td>1.0</td>\n",
       "      <td>1.0</td>\n",
       "      <td>1.0</td>\n",
       "      <td>...</td>\n",
       "      <td>0.0</td>\n",
       "      <td>0.0</td>\n",
       "      <td>0.0</td>\n",
       "      <td>0.0</td>\n",
       "      <td>2.0</td>\n",
       "      <td>0.0</td>\n",
       "      <td>1.0</td>\n",
       "      <td>1.0</td>\n",
       "      <td>1.0</td>\n",
       "      <td>1.0</td>\n",
       "    </tr>\n",
       "    <tr>\n",
       "      <th>2293</th>\n",
       "      <td>20230622_110832_standard_comp_to_both_rewarded...</td>\n",
       "      <td>both_rewarded</td>\n",
       "      <td>17</td>\n",
       "      <td>109</td>\n",
       "      <td>1.0</td>\n",
       "      <td>0.0</td>\n",
       "      <td>0.0</td>\n",
       "      <td>0.0</td>\n",
       "      <td>1.0</td>\n",
       "      <td>0.0</td>\n",
       "      <td>...</td>\n",
       "      <td>0.0</td>\n",
       "      <td>1.0</td>\n",
       "      <td>0.0</td>\n",
       "      <td>0.0</td>\n",
       "      <td>0.0</td>\n",
       "      <td>1.0</td>\n",
       "      <td>0.0</td>\n",
       "      <td>0.0</td>\n",
       "      <td>0.0</td>\n",
       "      <td>1.0</td>\n",
       "    </tr>\n",
       "    <tr>\n",
       "      <th>2313</th>\n",
       "      <td>20230622_110832_standard_comp_to_both_rewarded...</td>\n",
       "      <td>both_rewarded</td>\n",
       "      <td>17</td>\n",
       "      <td>76</td>\n",
       "      <td>0.0</td>\n",
       "      <td>1.0</td>\n",
       "      <td>0.0</td>\n",
       "      <td>1.0</td>\n",
       "      <td>0.0</td>\n",
       "      <td>0.0</td>\n",
       "      <td>...</td>\n",
       "      <td>1.0</td>\n",
       "      <td>1.0</td>\n",
       "      <td>1.0</td>\n",
       "      <td>0.0</td>\n",
       "      <td>1.0</td>\n",
       "      <td>0.0</td>\n",
       "      <td>1.0</td>\n",
       "      <td>1.0</td>\n",
       "      <td>0.0</td>\n",
       "      <td>1.0</td>\n",
       "    </tr>\n",
       "    <tr>\n",
       "      <th>2333</th>\n",
       "      <td>20230622_110832_standard_comp_to_both_rewarded...</td>\n",
       "      <td>both_rewarded</td>\n",
       "      <td>17</td>\n",
       "      <td>39</td>\n",
       "      <td>1.0</td>\n",
       "      <td>0.0</td>\n",
       "      <td>0.0</td>\n",
       "      <td>0.0</td>\n",
       "      <td>0.0</td>\n",
       "      <td>0.0</td>\n",
       "      <td>...</td>\n",
       "      <td>0.0</td>\n",
       "      <td>0.0</td>\n",
       "      <td>0.0</td>\n",
       "      <td>1.0</td>\n",
       "      <td>0.0</td>\n",
       "      <td>0.0</td>\n",
       "      <td>0.0</td>\n",
       "      <td>0.0</td>\n",
       "      <td>0.0</td>\n",
       "      <td>0.0</td>\n",
       "    </tr>\n",
       "    <tr>\n",
       "      <th>2353</th>\n",
       "      <td>20230622_110832_standard_comp_to_both_rewarded...</td>\n",
       "      <td>both_rewarded</td>\n",
       "      <td>17</td>\n",
       "      <td>26</td>\n",
       "      <td>0.0</td>\n",
       "      <td>0.0</td>\n",
       "      <td>0.0</td>\n",
       "      <td>0.0</td>\n",
       "      <td>1.0</td>\n",
       "      <td>1.0</td>\n",
       "      <td>...</td>\n",
       "      <td>0.0</td>\n",
       "      <td>0.0</td>\n",
       "      <td>0.0</td>\n",
       "      <td>0.0</td>\n",
       "      <td>0.0</td>\n",
       "      <td>0.0</td>\n",
       "      <td>0.0</td>\n",
       "      <td>0.0</td>\n",
       "      <td>0.0</td>\n",
       "      <td>0.0</td>\n",
       "    </tr>\n",
       "    <tr>\n",
       "      <th>2373</th>\n",
       "      <td>20230622_110832_standard_comp_to_both_rewarded...</td>\n",
       "      <td>both_rewarded</td>\n",
       "      <td>17</td>\n",
       "      <td>44</td>\n",
       "      <td>0.0</td>\n",
       "      <td>0.0</td>\n",
       "      <td>0.0</td>\n",
       "      <td>0.0</td>\n",
       "      <td>0.0</td>\n",
       "      <td>0.0</td>\n",
       "      <td>...</td>\n",
       "      <td>0.0</td>\n",
       "      <td>0.0</td>\n",
       "      <td>1.0</td>\n",
       "      <td>2.0</td>\n",
       "      <td>0.0</td>\n",
       "      <td>0.0</td>\n",
       "      <td>1.0</td>\n",
       "      <td>0.0</td>\n",
       "      <td>0.0</td>\n",
       "      <td>1.0</td>\n",
       "    </tr>\n",
       "    <tr>\n",
       "      <th>2393</th>\n",
       "      <td>20230622_110832_standard_comp_to_both_rewarded...</td>\n",
       "      <td>both_rewarded</td>\n",
       "      <td>17</td>\n",
       "      <td>22</td>\n",
       "      <td>1.0</td>\n",
       "      <td>3.0</td>\n",
       "      <td>1.0</td>\n",
       "      <td>1.0</td>\n",
       "      <td>1.0</td>\n",
       "      <td>1.0</td>\n",
       "      <td>...</td>\n",
       "      <td>4.0</td>\n",
       "      <td>1.0</td>\n",
       "      <td>2.0</td>\n",
       "      <td>3.0</td>\n",
       "      <td>4.0</td>\n",
       "      <td>2.0</td>\n",
       "      <td>0.0</td>\n",
       "      <td>4.0</td>\n",
       "      <td>4.0</td>\n",
       "      <td>0.0</td>\n",
       "    </tr>\n",
       "    <tr>\n",
       "      <th>2413</th>\n",
       "      <td>20230622_110832_standard_comp_to_both_rewarded...</td>\n",
       "      <td>both_rewarded</td>\n",
       "      <td>17</td>\n",
       "      <td>48</td>\n",
       "      <td>1.0</td>\n",
       "      <td>2.0</td>\n",
       "      <td>1.0</td>\n",
       "      <td>1.0</td>\n",
       "      <td>2.0</td>\n",
       "      <td>1.0</td>\n",
       "      <td>...</td>\n",
       "      <td>0.0</td>\n",
       "      <td>1.0</td>\n",
       "      <td>0.0</td>\n",
       "      <td>0.0</td>\n",
       "      <td>0.0</td>\n",
       "      <td>0.0</td>\n",
       "      <td>0.0</td>\n",
       "      <td>1.0</td>\n",
       "      <td>0.0</td>\n",
       "      <td>1.0</td>\n",
       "    </tr>\n",
       "    <tr>\n",
       "      <th>2433</th>\n",
       "      <td>20230622_110832_standard_comp_to_both_rewarded...</td>\n",
       "      <td>both_rewarded</td>\n",
       "      <td>17</td>\n",
       "      <td>74</td>\n",
       "      <td>0.0</td>\n",
       "      <td>0.0</td>\n",
       "      <td>0.0</td>\n",
       "      <td>1.0</td>\n",
       "      <td>1.0</td>\n",
       "      <td>0.0</td>\n",
       "      <td>...</td>\n",
       "      <td>1.0</td>\n",
       "      <td>0.0</td>\n",
       "      <td>0.0</td>\n",
       "      <td>0.0</td>\n",
       "      <td>0.0</td>\n",
       "      <td>0.0</td>\n",
       "      <td>1.0</td>\n",
       "      <td>1.0</td>\n",
       "      <td>0.0</td>\n",
       "      <td>0.0</td>\n",
       "    </tr>\n",
       "    <tr>\n",
       "      <th>2453</th>\n",
       "      <td>20230622_110832_standard_comp_to_both_rewarded...</td>\n",
       "      <td>both_rewarded</td>\n",
       "      <td>17</td>\n",
       "      <td>37</td>\n",
       "      <td>0.0</td>\n",
       "      <td>0.0</td>\n",
       "      <td>0.0</td>\n",
       "      <td>0.0</td>\n",
       "      <td>0.0</td>\n",
       "      <td>0.0</td>\n",
       "      <td>...</td>\n",
       "      <td>0.0</td>\n",
       "      <td>1.0</td>\n",
       "      <td>0.0</td>\n",
       "      <td>1.0</td>\n",
       "      <td>0.0</td>\n",
       "      <td>0.0</td>\n",
       "      <td>0.0</td>\n",
       "      <td>0.0</td>\n",
       "      <td>0.0</td>\n",
       "      <td>0.0</td>\n",
       "    </tr>\n",
       "    <tr>\n",
       "      <th>2473</th>\n",
       "      <td>20230622_110832_standard_comp_to_both_rewarded...</td>\n",
       "      <td>both_rewarded</td>\n",
       "      <td>17</td>\n",
       "      <td>58</td>\n",
       "      <td>0.0</td>\n",
       "      <td>1.0</td>\n",
       "      <td>0.0</td>\n",
       "      <td>1.0</td>\n",
       "      <td>0.0</td>\n",
       "      <td>1.0</td>\n",
       "      <td>...</td>\n",
       "      <td>0.0</td>\n",
       "      <td>0.0</td>\n",
       "      <td>0.0</td>\n",
       "      <td>0.0</td>\n",
       "      <td>0.0</td>\n",
       "      <td>0.0</td>\n",
       "      <td>1.0</td>\n",
       "      <td>0.0</td>\n",
       "      <td>0.0</td>\n",
       "      <td>0.0</td>\n",
       "    </tr>\n",
       "    <tr>\n",
       "      <th>2493</th>\n",
       "      <td>20230622_110832_standard_comp_to_both_rewarded...</td>\n",
       "      <td>both_rewarded</td>\n",
       "      <td>17</td>\n",
       "      <td>1</td>\n",
       "      <td>0.0</td>\n",
       "      <td>0.0</td>\n",
       "      <td>0.0</td>\n",
       "      <td>0.0</td>\n",
       "      <td>0.0</td>\n",
       "      <td>0.0</td>\n",
       "      <td>...</td>\n",
       "      <td>1.0</td>\n",
       "      <td>0.0</td>\n",
       "      <td>0.0</td>\n",
       "      <td>0.0</td>\n",
       "      <td>0.0</td>\n",
       "      <td>1.0</td>\n",
       "      <td>0.0</td>\n",
       "      <td>0.0</td>\n",
       "      <td>0.0</td>\n",
       "      <td>0.0</td>\n",
       "    </tr>\n",
       "    <tr>\n",
       "      <th>2513</th>\n",
       "      <td>20230622_110832_standard_comp_to_both_rewarded...</td>\n",
       "      <td>both_rewarded</td>\n",
       "      <td>17</td>\n",
       "      <td>23</td>\n",
       "      <td>1.0</td>\n",
       "      <td>1.0</td>\n",
       "      <td>1.0</td>\n",
       "      <td>1.0</td>\n",
       "      <td>0.0</td>\n",
       "      <td>0.0</td>\n",
       "      <td>...</td>\n",
       "      <td>0.0</td>\n",
       "      <td>0.0</td>\n",
       "      <td>0.0</td>\n",
       "      <td>0.0</td>\n",
       "      <td>0.0</td>\n",
       "      <td>0.0</td>\n",
       "      <td>1.0</td>\n",
       "      <td>0.0</td>\n",
       "      <td>0.0</td>\n",
       "      <td>0.0</td>\n",
       "    </tr>\n",
       "    <tr>\n",
       "      <th>2533</th>\n",
       "      <td>20230622_110832_standard_comp_to_both_rewarded...</td>\n",
       "      <td>both_rewarded</td>\n",
       "      <td>17</td>\n",
       "      <td>20</td>\n",
       "      <td>0.0</td>\n",
       "      <td>0.0</td>\n",
       "      <td>0.0</td>\n",
       "      <td>0.0</td>\n",
       "      <td>0.0</td>\n",
       "      <td>0.0</td>\n",
       "      <td>...</td>\n",
       "      <td>0.0</td>\n",
       "      <td>0.0</td>\n",
       "      <td>0.0</td>\n",
       "      <td>0.0</td>\n",
       "      <td>0.0</td>\n",
       "      <td>0.0</td>\n",
       "      <td>0.0</td>\n",
       "      <td>0.0</td>\n",
       "      <td>0.0</td>\n",
       "      <td>0.0</td>\n",
       "    </tr>\n",
       "    <tr>\n",
       "      <th>2553</th>\n",
       "      <td>20230622_110832_standard_comp_to_both_rewarded...</td>\n",
       "      <td>both_rewarded</td>\n",
       "      <td>17</td>\n",
       "      <td>29</td>\n",
       "      <td>0.0</td>\n",
       "      <td>0.0</td>\n",
       "      <td>0.0</td>\n",
       "      <td>0.0</td>\n",
       "      <td>0.0</td>\n",
       "      <td>0.0</td>\n",
       "      <td>...</td>\n",
       "      <td>0.0</td>\n",
       "      <td>0.0</td>\n",
       "      <td>0.0</td>\n",
       "      <td>0.0</td>\n",
       "      <td>1.0</td>\n",
       "      <td>0.0</td>\n",
       "      <td>1.0</td>\n",
       "      <td>0.0</td>\n",
       "      <td>0.0</td>\n",
       "      <td>0.0</td>\n",
       "    </tr>\n",
       "    <tr>\n",
       "      <th>2573</th>\n",
       "      <td>20230622_110832_standard_comp_to_both_rewarded...</td>\n",
       "      <td>both_rewarded</td>\n",
       "      <td>17</td>\n",
       "      <td>115</td>\n",
       "      <td>0.0</td>\n",
       "      <td>0.0</td>\n",
       "      <td>0.0</td>\n",
       "      <td>0.0</td>\n",
       "      <td>0.0</td>\n",
       "      <td>0.0</td>\n",
       "      <td>...</td>\n",
       "      <td>0.0</td>\n",
       "      <td>0.0</td>\n",
       "      <td>0.0</td>\n",
       "      <td>0.0</td>\n",
       "      <td>0.0</td>\n",
       "      <td>0.0</td>\n",
       "      <td>0.0</td>\n",
       "      <td>0.0</td>\n",
       "      <td>0.0</td>\n",
       "      <td>0.0</td>\n",
       "    </tr>\n",
       "    <tr>\n",
       "      <th>2593</th>\n",
       "      <td>20230622_110832_standard_comp_to_both_rewarded...</td>\n",
       "      <td>both_rewarded</td>\n",
       "      <td>17</td>\n",
       "      <td>59</td>\n",
       "      <td>1.0</td>\n",
       "      <td>0.0</td>\n",
       "      <td>0.0</td>\n",
       "      <td>0.0</td>\n",
       "      <td>0.0</td>\n",
       "      <td>0.0</td>\n",
       "      <td>...</td>\n",
       "      <td>1.0</td>\n",
       "      <td>1.0</td>\n",
       "      <td>0.0</td>\n",
       "      <td>0.0</td>\n",
       "      <td>0.0</td>\n",
       "      <td>0.0</td>\n",
       "      <td>1.0</td>\n",
       "      <td>0.0</td>\n",
       "      <td>0.0</td>\n",
       "      <td>1.0</td>\n",
       "    </tr>\n",
       "    <tr>\n",
       "      <th>2613</th>\n",
       "      <td>20230622_110832_standard_comp_to_both_rewarded...</td>\n",
       "      <td>both_rewarded</td>\n",
       "      <td>17</td>\n",
       "      <td>51</td>\n",
       "      <td>0.0</td>\n",
       "      <td>0.0</td>\n",
       "      <td>1.0</td>\n",
       "      <td>0.0</td>\n",
       "      <td>0.0</td>\n",
       "      <td>0.0</td>\n",
       "      <td>...</td>\n",
       "      <td>0.0</td>\n",
       "      <td>1.0</td>\n",
       "      <td>0.0</td>\n",
       "      <td>0.0</td>\n",
       "      <td>0.0</td>\n",
       "      <td>0.0</td>\n",
       "      <td>1.0</td>\n",
       "      <td>0.0</td>\n",
       "      <td>1.0</td>\n",
       "      <td>1.0</td>\n",
       "    </tr>\n",
       "    <tr>\n",
       "      <th>2633</th>\n",
       "      <td>20230622_110832_standard_comp_to_both_rewarded...</td>\n",
       "      <td>both_rewarded</td>\n",
       "      <td>17</td>\n",
       "      <td>55</td>\n",
       "      <td>1.0</td>\n",
       "      <td>0.0</td>\n",
       "      <td>0.0</td>\n",
       "      <td>1.0</td>\n",
       "      <td>1.0</td>\n",
       "      <td>0.0</td>\n",
       "      <td>...</td>\n",
       "      <td>0.0</td>\n",
       "      <td>0.0</td>\n",
       "      <td>0.0</td>\n",
       "      <td>0.0</td>\n",
       "      <td>3.0</td>\n",
       "      <td>0.0</td>\n",
       "      <td>0.0</td>\n",
       "      <td>0.0</td>\n",
       "      <td>0.0</td>\n",
       "      <td>0.0</td>\n",
       "    </tr>\n",
       "    <tr>\n",
       "      <th>2653</th>\n",
       "      <td>20230622_110832_standard_comp_to_both_rewarded...</td>\n",
       "      <td>both_rewarded</td>\n",
       "      <td>17</td>\n",
       "      <td>27</td>\n",
       "      <td>1.0</td>\n",
       "      <td>0.0</td>\n",
       "      <td>0.0</td>\n",
       "      <td>0.0</td>\n",
       "      <td>0.0</td>\n",
       "      <td>1.0</td>\n",
       "      <td>...</td>\n",
       "      <td>0.0</td>\n",
       "      <td>0.0</td>\n",
       "      <td>0.0</td>\n",
       "      <td>1.0</td>\n",
       "      <td>0.0</td>\n",
       "      <td>0.0</td>\n",
       "      <td>0.0</td>\n",
       "      <td>0.0</td>\n",
       "      <td>0.0</td>\n",
       "      <td>0.0</td>\n",
       "    </tr>\n",
       "    <tr>\n",
       "      <th>2673</th>\n",
       "      <td>20230622_110832_standard_comp_to_both_rewarded...</td>\n",
       "      <td>both_rewarded</td>\n",
       "      <td>17</td>\n",
       "      <td>102</td>\n",
       "      <td>0.0</td>\n",
       "      <td>1.0</td>\n",
       "      <td>2.0</td>\n",
       "      <td>0.0</td>\n",
       "      <td>0.0</td>\n",
       "      <td>1.0</td>\n",
       "      <td>...</td>\n",
       "      <td>0.0</td>\n",
       "      <td>1.0</td>\n",
       "      <td>1.0</td>\n",
       "      <td>0.0</td>\n",
       "      <td>0.0</td>\n",
       "      <td>1.0</td>\n",
       "      <td>0.0</td>\n",
       "      <td>0.0</td>\n",
       "      <td>0.0</td>\n",
       "      <td>0.0</td>\n",
       "    </tr>\n",
       "    <tr>\n",
       "      <th>2693</th>\n",
       "      <td>20230622_110832_standard_comp_to_both_rewarded...</td>\n",
       "      <td>both_rewarded</td>\n",
       "      <td>17</td>\n",
       "      <td>6</td>\n",
       "      <td>0.0</td>\n",
       "      <td>0.0</td>\n",
       "      <td>0.0</td>\n",
       "      <td>0.0</td>\n",
       "      <td>0.0</td>\n",
       "      <td>0.0</td>\n",
       "      <td>...</td>\n",
       "      <td>0.0</td>\n",
       "      <td>0.0</td>\n",
       "      <td>0.0</td>\n",
       "      <td>0.0</td>\n",
       "      <td>0.0</td>\n",
       "      <td>0.0</td>\n",
       "      <td>0.0</td>\n",
       "      <td>0.0</td>\n",
       "      <td>0.0</td>\n",
       "      <td>0.0</td>\n",
       "    </tr>\n",
       "    <tr>\n",
       "      <th>2713</th>\n",
       "      <td>20230622_110832_standard_comp_to_both_rewarded...</td>\n",
       "      <td>both_rewarded</td>\n",
       "      <td>17</td>\n",
       "      <td>15</td>\n",
       "      <td>0.0</td>\n",
       "      <td>0.0</td>\n",
       "      <td>0.0</td>\n",
       "      <td>0.0</td>\n",
       "      <td>0.0</td>\n",
       "      <td>0.0</td>\n",
       "      <td>...</td>\n",
       "      <td>0.0</td>\n",
       "      <td>0.0</td>\n",
       "      <td>0.0</td>\n",
       "      <td>0.0</td>\n",
       "      <td>0.0</td>\n",
       "      <td>0.0</td>\n",
       "      <td>0.0</td>\n",
       "      <td>0.0</td>\n",
       "      <td>0.0</td>\n",
       "      <td>0.0</td>\n",
       "    </tr>\n",
       "  </tbody>\n",
       "</table>\n",
       "<p>40 rows × 105 columns</p>\n",
       "</div>"
      ],
      "text/plain": [
       "                                              Recording     Event name  \\\n",
       "1393  20230622_110832_standard_comp_to_both_rewarded...  both_rewarded   \n",
       "1413  20230622_110832_standard_comp_to_both_rewarded...  both_rewarded   \n",
       "1433  20230622_110832_standard_comp_to_both_rewarded...  both_rewarded   \n",
       "1453  20230622_110832_standard_comp_to_both_rewarded...  both_rewarded   \n",
       "1473  20230622_110832_standard_comp_to_both_rewarded...  both_rewarded   \n",
       "1493  20230622_110832_standard_comp_to_both_rewarded...  both_rewarded   \n",
       "1513  20230622_110832_standard_comp_to_both_rewarded...  both_rewarded   \n",
       "1533  20230622_110832_standard_comp_to_both_rewarded...  both_rewarded   \n",
       "1553  20230622_110832_standard_comp_to_both_rewarded...  both_rewarded   \n",
       "1573  20230622_110832_standard_comp_to_both_rewarded...  both_rewarded   \n",
       "1593  20230622_110832_standard_comp_to_both_rewarded...  both_rewarded   \n",
       "1613  20230622_110832_standard_comp_to_both_rewarded...  both_rewarded   \n",
       "1633  20230622_110832_standard_comp_to_both_rewarded...  both_rewarded   \n",
       "2193  20230622_110832_standard_comp_to_both_rewarded...  both_rewarded   \n",
       "2213  20230622_110832_standard_comp_to_both_rewarded...  both_rewarded   \n",
       "2233  20230622_110832_standard_comp_to_both_rewarded...  both_rewarded   \n",
       "2253  20230622_110832_standard_comp_to_both_rewarded...  both_rewarded   \n",
       "2273  20230622_110832_standard_comp_to_both_rewarded...  both_rewarded   \n",
       "2293  20230622_110832_standard_comp_to_both_rewarded...  both_rewarded   \n",
       "2313  20230622_110832_standard_comp_to_both_rewarded...  both_rewarded   \n",
       "2333  20230622_110832_standard_comp_to_both_rewarded...  both_rewarded   \n",
       "2353  20230622_110832_standard_comp_to_both_rewarded...  both_rewarded   \n",
       "2373  20230622_110832_standard_comp_to_both_rewarded...  both_rewarded   \n",
       "2393  20230622_110832_standard_comp_to_both_rewarded...  both_rewarded   \n",
       "2413  20230622_110832_standard_comp_to_both_rewarded...  both_rewarded   \n",
       "2433  20230622_110832_standard_comp_to_both_rewarded...  both_rewarded   \n",
       "2453  20230622_110832_standard_comp_to_both_rewarded...  both_rewarded   \n",
       "2473  20230622_110832_standard_comp_to_both_rewarded...  both_rewarded   \n",
       "2493  20230622_110832_standard_comp_to_both_rewarded...  both_rewarded   \n",
       "2513  20230622_110832_standard_comp_to_both_rewarded...  both_rewarded   \n",
       "2533  20230622_110832_standard_comp_to_both_rewarded...  both_rewarded   \n",
       "2553  20230622_110832_standard_comp_to_both_rewarded...  both_rewarded   \n",
       "2573  20230622_110832_standard_comp_to_both_rewarded...  both_rewarded   \n",
       "2593  20230622_110832_standard_comp_to_both_rewarded...  both_rewarded   \n",
       "2613  20230622_110832_standard_comp_to_both_rewarded...  both_rewarded   \n",
       "2633  20230622_110832_standard_comp_to_both_rewarded...  both_rewarded   \n",
       "2653  20230622_110832_standard_comp_to_both_rewarded...  both_rewarded   \n",
       "2673  20230622_110832_standard_comp_to_both_rewarded...  both_rewarded   \n",
       "2693  20230622_110832_standard_comp_to_both_rewarded...  both_rewarded   \n",
       "2713  20230622_110832_standard_comp_to_both_rewarded...  both_rewarded   \n",
       "\n",
       "      Event number  Unit number  bin_1  bin_2  bin_3  bin_4  bin_5  bin_6  \\\n",
       "1393            17            9    1.0    0.0    2.0    2.0    1.0    0.0   \n",
       "1413            17           24    0.0    0.0    0.0    0.0    0.0    0.0   \n",
       "1433            17           76    1.0    0.0    0.0    0.0    0.0    0.0   \n",
       "1453            17           10    0.0    1.0    4.0    1.0    0.0    1.0   \n",
       "1473            17           94    0.0    0.0    0.0    0.0    0.0    0.0   \n",
       "1493            17           87    0.0    0.0    0.0    0.0    0.0    0.0   \n",
       "1513            17            1    0.0    0.0    0.0    0.0    0.0    0.0   \n",
       "1533            17           15    0.0    0.0    0.0    0.0    0.0    0.0   \n",
       "1553            17           97    1.0    0.0    0.0    0.0    0.0    0.0   \n",
       "1573            17           39    0.0    0.0    1.0    0.0    0.0    0.0   \n",
       "1593            17            2    1.0    0.0    0.0    0.0    0.0    0.0   \n",
       "1613            17           11    4.0    0.0    0.0    0.0    0.0    1.0   \n",
       "1633            17           77    0.0    1.0    0.0    0.0    0.0    0.0   \n",
       "2193            17           21    1.0    0.0    1.0    0.0    0.0    0.0   \n",
       "2213            17           53    1.0    0.0    0.0    1.0    0.0    1.0   \n",
       "2233            17           46    0.0    0.0    0.0    0.0    0.0    0.0   \n",
       "2253            17           45    1.0    0.0    2.0    1.0    2.0    1.0   \n",
       "2273            17           33    3.0    1.0    0.0    1.0    1.0    1.0   \n",
       "2293            17          109    1.0    0.0    0.0    0.0    1.0    0.0   \n",
       "2313            17           76    0.0    1.0    0.0    1.0    0.0    0.0   \n",
       "2333            17           39    1.0    0.0    0.0    0.0    0.0    0.0   \n",
       "2353            17           26    0.0    0.0    0.0    0.0    1.0    1.0   \n",
       "2373            17           44    0.0    0.0    0.0    0.0    0.0    0.0   \n",
       "2393            17           22    1.0    3.0    1.0    1.0    1.0    1.0   \n",
       "2413            17           48    1.0    2.0    1.0    1.0    2.0    1.0   \n",
       "2433            17           74    0.0    0.0    0.0    1.0    1.0    0.0   \n",
       "2453            17           37    0.0    0.0    0.0    0.0    0.0    0.0   \n",
       "2473            17           58    0.0    1.0    0.0    1.0    0.0    1.0   \n",
       "2493            17            1    0.0    0.0    0.0    0.0    0.0    0.0   \n",
       "2513            17           23    1.0    1.0    1.0    1.0    0.0    0.0   \n",
       "2533            17           20    0.0    0.0    0.0    0.0    0.0    0.0   \n",
       "2553            17           29    0.0    0.0    0.0    0.0    0.0    0.0   \n",
       "2573            17          115    0.0    0.0    0.0    0.0    0.0    0.0   \n",
       "2593            17           59    1.0    0.0    0.0    0.0    0.0    0.0   \n",
       "2613            17           51    0.0    0.0    1.0    0.0    0.0    0.0   \n",
       "2633            17           55    1.0    0.0    0.0    1.0    1.0    0.0   \n",
       "2653            17           27    1.0    0.0    0.0    0.0    0.0    1.0   \n",
       "2673            17          102    0.0    1.0    2.0    0.0    0.0    1.0   \n",
       "2693            17            6    0.0    0.0    0.0    0.0    0.0    0.0   \n",
       "2713            17           15    0.0    0.0    0.0    0.0    0.0    0.0   \n",
       "\n",
       "      ...  bin_92  bin_93  bin_94  bin_95  bin_96  bin_97  bin_98  bin_99  \\\n",
       "1393  ...     1.0     0.0     3.0     2.0     0.0     2.0     3.0     1.0   \n",
       "1413  ...     0.0     0.0     0.0     0.0     0.0     0.0     0.0     0.0   \n",
       "1433  ...     0.0     1.0     0.0     0.0     0.0     0.0     0.0     1.0   \n",
       "1453  ...     0.0     0.0     1.0     0.0     0.0     0.0     0.0     0.0   \n",
       "1473  ...     0.0     0.0     0.0     0.0     0.0     0.0     0.0     0.0   \n",
       "1493  ...     0.0     0.0     0.0     0.0     0.0     0.0     0.0     0.0   \n",
       "1513  ...     0.0     0.0     0.0     0.0     0.0     0.0     0.0     0.0   \n",
       "1533  ...     0.0     0.0     1.0     1.0     1.0     0.0     1.0     0.0   \n",
       "1553  ...     1.0     0.0     1.0     0.0     0.0     0.0     0.0     0.0   \n",
       "1573  ...     0.0     0.0     0.0     0.0     0.0     0.0     0.0     0.0   \n",
       "1593  ...     0.0     0.0     0.0     0.0     0.0     0.0     0.0     0.0   \n",
       "1613  ...     0.0     0.0     0.0     0.0     0.0     0.0     0.0     0.0   \n",
       "1633  ...     0.0     0.0     0.0     0.0     0.0     0.0     0.0     0.0   \n",
       "2193  ...     0.0     0.0     0.0     1.0     0.0     0.0     0.0     0.0   \n",
       "2213  ...     0.0     0.0     0.0     0.0     0.0     0.0     0.0     0.0   \n",
       "2233  ...     0.0     0.0     1.0     0.0     0.0     0.0     0.0     0.0   \n",
       "2253  ...     1.0     2.0     0.0     1.0     4.0     1.0     1.0     0.0   \n",
       "2273  ...     0.0     0.0     0.0     0.0     2.0     0.0     1.0     1.0   \n",
       "2293  ...     0.0     1.0     0.0     0.0     0.0     1.0     0.0     0.0   \n",
       "2313  ...     1.0     1.0     1.0     0.0     1.0     0.0     1.0     1.0   \n",
       "2333  ...     0.0     0.0     0.0     1.0     0.0     0.0     0.0     0.0   \n",
       "2353  ...     0.0     0.0     0.0     0.0     0.0     0.0     0.0     0.0   \n",
       "2373  ...     0.0     0.0     1.0     2.0     0.0     0.0     1.0     0.0   \n",
       "2393  ...     4.0     1.0     2.0     3.0     4.0     2.0     0.0     4.0   \n",
       "2413  ...     0.0     1.0     0.0     0.0     0.0     0.0     0.0     1.0   \n",
       "2433  ...     1.0     0.0     0.0     0.0     0.0     0.0     1.0     1.0   \n",
       "2453  ...     0.0     1.0     0.0     1.0     0.0     0.0     0.0     0.0   \n",
       "2473  ...     0.0     0.0     0.0     0.0     0.0     0.0     1.0     0.0   \n",
       "2493  ...     1.0     0.0     0.0     0.0     0.0     1.0     0.0     0.0   \n",
       "2513  ...     0.0     0.0     0.0     0.0     0.0     0.0     1.0     0.0   \n",
       "2533  ...     0.0     0.0     0.0     0.0     0.0     0.0     0.0     0.0   \n",
       "2553  ...     0.0     0.0     0.0     0.0     1.0     0.0     1.0     0.0   \n",
       "2573  ...     0.0     0.0     0.0     0.0     0.0     0.0     0.0     0.0   \n",
       "2593  ...     1.0     1.0     0.0     0.0     0.0     0.0     1.0     0.0   \n",
       "2613  ...     0.0     1.0     0.0     0.0     0.0     0.0     1.0     0.0   \n",
       "2633  ...     0.0     0.0     0.0     0.0     3.0     0.0     0.0     0.0   \n",
       "2653  ...     0.0     0.0     0.0     1.0     0.0     0.0     0.0     0.0   \n",
       "2673  ...     0.0     1.0     1.0     0.0     0.0     1.0     0.0     0.0   \n",
       "2693  ...     0.0     0.0     0.0     0.0     0.0     0.0     0.0     0.0   \n",
       "2713  ...     0.0     0.0     0.0     0.0     0.0     0.0     0.0     0.0   \n",
       "\n",
       "      bin_100  bin_101  \n",
       "1393      1.0      2.0  \n",
       "1413      0.0      0.0  \n",
       "1433      0.0      0.0  \n",
       "1453      0.0      0.0  \n",
       "1473      0.0      0.0  \n",
       "1493      0.0      0.0  \n",
       "1513      0.0      0.0  \n",
       "1533      1.0      1.0  \n",
       "1553      0.0      0.0  \n",
       "1573      0.0      0.0  \n",
       "1593      0.0      0.0  \n",
       "1613      0.0      0.0  \n",
       "1633      0.0      0.0  \n",
       "2193      1.0      0.0  \n",
       "2213      0.0      0.0  \n",
       "2233      0.0      0.0  \n",
       "2253      1.0      1.0  \n",
       "2273      1.0      1.0  \n",
       "2293      0.0      1.0  \n",
       "2313      0.0      1.0  \n",
       "2333      0.0      0.0  \n",
       "2353      0.0      0.0  \n",
       "2373      0.0      1.0  \n",
       "2393      4.0      0.0  \n",
       "2413      0.0      1.0  \n",
       "2433      0.0      0.0  \n",
       "2453      0.0      0.0  \n",
       "2473      0.0      0.0  \n",
       "2493      0.0      0.0  \n",
       "2513      0.0      0.0  \n",
       "2533      0.0      0.0  \n",
       "2553      0.0      0.0  \n",
       "2573      0.0      0.0  \n",
       "2593      0.0      1.0  \n",
       "2613      1.0      1.0  \n",
       "2633      0.0      0.0  \n",
       "2653      0.0      0.0  \n",
       "2673      0.0      0.0  \n",
       "2693      0.0      0.0  \n",
       "2713      0.0      0.0  \n",
       "\n",
       "[40 rows x 105 columns]"
      ]
     },
     "execution_count": 21,
     "metadata": {},
     "output_type": "execute_result"
    }
   ],
   "source": [
    "event_df.dropna()"
   ]
  },
  {
   "cell_type": "code",
   "execution_count": 22,
   "id": "60315c9a-e5c2-484b-9d04-71a5a1c558c5",
   "metadata": {
    "execution": {
     "iopub.execute_input": "2024-07-11T19:04:29.241326Z",
     "iopub.status.busy": "2024-07-11T19:04:29.241326Z",
     "iopub.status.idle": "2024-07-11T19:04:29.272587Z",
     "shell.execute_reply": "2024-07-11T19:04:29.272587Z",
     "shell.execute_reply.started": "2024-07-11T19:04:29.241326Z"
    }
   },
   "outputs": [
    {
     "data": {
      "text/plain": [
       "array([32916, 33017])"
      ]
     },
     "execution_count": 22,
     "metadata": {},
     "output_type": "execute_result"
    }
   ],
   "source": [
    "rounded_array[16]"
   ]
  },
  {
   "cell_type": "code",
   "execution_count": 23,
   "id": "2301ebc5-4353-4224-8b2f-06e5975cf493",
   "metadata": {
    "execution": {
     "iopub.execute_input": "2024-07-11T19:04:29.272587Z",
     "iopub.status.busy": "2024-07-11T19:04:29.272587Z",
     "iopub.status.idle": "2024-07-11T19:04:29.304299Z",
     "shell.execute_reply": "2024-07-11T19:04:29.304299Z",
     "shell.execute_reply.started": "2024-07-11T19:04:29.272587Z"
    }
   },
   "outputs": [
    {
     "data": {
      "text/plain": [
       "329.16"
      ]
     },
     "execution_count": 23,
     "metadata": {},
     "output_type": "execute_result"
    }
   ],
   "source": [
    "32916/100"
   ]
  },
  {
   "cell_type": "code",
   "execution_count": 24,
   "id": "3ef78b18-fe0a-4e3e-b6fe-1a677f763644",
   "metadata": {
    "execution": {
     "iopub.execute_input": "2024-07-11T19:04:29.304299Z",
     "iopub.status.busy": "2024-07-11T19:04:29.304299Z",
     "iopub.status.idle": "2024-07-11T19:04:29.335526Z",
     "shell.execute_reply": "2024-07-11T19:04:29.335526Z",
     "shell.execute_reply.started": "2024-07-11T19:04:29.304299Z"
    }
   },
   "outputs": [
    {
     "data": {
      "text/plain": [
       "np.float64(330.0)"
      ]
     },
     "execution_count": 24,
     "metadata": {},
     "output_type": "execute_result"
    }
   ],
   "source": [
    "np.ceil(32916/100)"
   ]
  },
  {
   "cell_type": "code",
   "execution_count": 25,
   "id": "3af0295f-8358-4002-8ef7-7f2ed1a0bee5",
   "metadata": {
    "execution": {
     "iopub.execute_input": "2024-07-11T19:04:29.335526Z",
     "iopub.status.busy": "2024-07-11T19:04:29.335526Z",
     "iopub.status.idle": "2024-07-11T19:04:29.351157Z",
     "shell.execute_reply": "2024-07-11T19:04:29.351157Z",
     "shell.execute_reply.started": "2024-07-11T19:04:29.335526Z"
    }
   },
   "outputs": [
    {
     "data": {
      "text/plain": [
       "330.17"
      ]
     },
     "execution_count": 25,
     "metadata": {},
     "output_type": "execute_result"
    }
   ],
   "source": [
    "33017/100"
   ]
  },
  {
   "cell_type": "code",
   "execution_count": 26,
   "id": "b2455980-d7f3-4203-978a-f3dae0d74606",
   "metadata": {
    "execution": {
     "iopub.execute_input": "2024-07-11T19:04:29.351157Z",
     "iopub.status.busy": "2024-07-11T19:04:29.351157Z",
     "iopub.status.idle": "2024-07-11T19:04:29.382408Z",
     "shell.execute_reply": "2024-07-11T19:04:29.382408Z",
     "shell.execute_reply.started": "2024-07-11T19:04:29.351157Z"
    }
   },
   "outputs": [
    {
     "data": {
      "text/plain": [
       "np.float64(331.0)"
      ]
     },
     "execution_count": 26,
     "metadata": {},
     "output_type": "execute_result"
    }
   ],
   "source": [
    "np.ceil(33017/100)"
   ]
  },
  {
   "cell_type": "code",
   "execution_count": 27,
   "id": "f11e63c1-8668-4569-91f0-82690b09cc63",
   "metadata": {
    "execution": {
     "iopub.execute_input": "2024-07-11T19:04:29.386927Z",
     "iopub.status.busy": "2024-07-11T19:04:29.386927Z",
     "iopub.status.idle": "2024-07-11T19:04:29.414092Z",
     "shell.execute_reply": "2024-07-11T19:04:29.414092Z",
     "shell.execute_reply.started": "2024-07-11T19:04:29.386927Z"
    }
   },
   "outputs": [
    {
     "data": {
      "text/plain": [
       "array([32166, 32266])"
      ]
     },
     "execution_count": 27,
     "metadata": {},
     "output_type": "execute_result"
    }
   ],
   "source": [
    "rounded_array[15]"
   ]
  },
  {
   "cell_type": "code",
   "execution_count": 28,
   "id": "6eff300a-77a0-46a5-bbfe-396c59eb4ca5",
   "metadata": {
    "execution": {
     "iopub.execute_input": "2024-07-11T19:04:29.414092Z",
     "iopub.status.busy": "2024-07-11T19:04:29.414092Z",
     "iopub.status.idle": "2024-07-11T19:04:29.445348Z",
     "shell.execute_reply": "2024-07-11T19:04:29.445348Z",
     "shell.execute_reply.started": "2024-07-11T19:04:29.414092Z"
    }
   },
   "outputs": [
    {
     "data": {
      "text/plain": [
       "np.float64(322.0)"
      ]
     },
     "execution_count": 28,
     "metadata": {},
     "output_type": "execute_result"
    }
   ],
   "source": [
    "np.ceil(32166/100)"
   ]
  },
  {
   "cell_type": "code",
   "execution_count": 29,
   "id": "6bb80415-6718-4e86-960a-5e17a5c2c306",
   "metadata": {
    "execution": {
     "iopub.execute_input": "2024-07-11T19:04:29.445348Z",
     "iopub.status.busy": "2024-07-11T19:04:29.445348Z",
     "iopub.status.idle": "2024-07-11T19:04:29.476594Z",
     "shell.execute_reply": "2024-07-11T19:04:29.476594Z",
     "shell.execute_reply.started": "2024-07-11T19:04:29.445348Z"
    }
   },
   "outputs": [
    {
     "data": {
      "text/plain": [
       "np.float64(323.0)"
      ]
     },
     "execution_count": 29,
     "metadata": {},
     "output_type": "execute_result"
    }
   ],
   "source": [
    "np.ceil(32266/100)"
   ]
  },
  {
   "cell_type": "code",
   "execution_count": 30,
   "id": "859baf2e-2a2d-413f-895b-f13d66b62e43",
   "metadata": {
    "execution": {
     "iopub.execute_input": "2024-07-11T19:04:29.476594Z",
     "iopub.status.busy": "2024-07-11T19:04:29.476594Z",
     "iopub.status.idle": "2024-07-11T19:04:29.508260Z",
     "shell.execute_reply": "2024-07-11T19:04:29.508260Z",
     "shell.execute_reply.started": "2024-07-11T19:04:29.476594Z"
    }
   },
   "outputs": [
    {
     "data": {
      "text/plain": [
       "array([31566, 31666])"
      ]
     },
     "execution_count": 30,
     "metadata": {},
     "output_type": "execute_result"
    }
   ],
   "source": [
    "rounded_array[14]"
   ]
  },
  {
   "cell_type": "code",
   "execution_count": 31,
   "id": "17b12305-16ae-4e39-a51c-f4a36dadf02e",
   "metadata": {
    "execution": {
     "iopub.execute_input": "2024-07-11T19:04:29.508260Z",
     "iopub.status.busy": "2024-07-11T19:04:29.508260Z",
     "iopub.status.idle": "2024-07-11T19:04:29.539509Z",
     "shell.execute_reply": "2024-07-11T19:04:29.539509Z",
     "shell.execute_reply.started": "2024-07-11T19:04:29.508260Z"
    }
   },
   "outputs": [
    {
     "data": {
      "text/plain": [
       "-10000"
      ]
     },
     "execution_count": 31,
     "metadata": {},
     "output_type": "execute_result"
    }
   ],
   "source": [
    "176561 - 186561"
   ]
  },
  {
   "cell_type": "code",
   "execution_count": 32,
   "id": "57faf0d6-7e39-4003-a72a-69a49e78568b",
   "metadata": {
    "execution": {
     "iopub.execute_input": "2024-07-11T19:04:29.539509Z",
     "iopub.status.busy": "2024-07-11T19:04:29.539509Z",
     "iopub.status.idle": "2024-07-11T19:04:29.555137Z",
     "shell.execute_reply": "2024-07-11T19:04:29.555137Z",
     "shell.execute_reply.started": "2024-07-11T19:04:29.539509Z"
    }
   },
   "outputs": [
    {
     "data": {
      "text/plain": [
       "100.0"
      ]
     },
     "execution_count": 32,
     "metadata": {},
     "output_type": "execute_result"
    }
   ],
   "source": [
    "10000/100"
   ]
  },
  {
   "cell_type": "code",
   "execution_count": 33,
   "id": "e246b8f9-4b3d-4c65-b60c-56a130e09058",
   "metadata": {
    "execution": {
     "iopub.execute_input": "2024-07-11T19:04:29.555137Z",
     "iopub.status.busy": "2024-07-11T19:04:29.555137Z",
     "iopub.status.idle": "2024-07-11T19:04:29.587414Z",
     "shell.execute_reply": "2024-07-11T19:04:29.586393Z",
     "shell.execute_reply.started": "2024-07-11T19:04:29.555137Z"
    }
   },
   "outputs": [
    {
     "data": {
      "text/plain": [
       "10.0"
      ]
     },
     "execution_count": 33,
     "metadata": {},
     "output_type": "execute_result"
    }
   ],
   "source": [
    "10000/1000"
   ]
  },
  {
   "cell_type": "code",
   "execution_count": 34,
   "id": "1a8c1031-e2bb-43d8-824c-d2285b2d1b78",
   "metadata": {
    "execution": {
     "iopub.execute_input": "2024-07-11T19:04:29.587414Z",
     "iopub.status.busy": "2024-07-11T19:04:29.587414Z",
     "iopub.status.idle": "2024-07-11T19:04:29.618076Z",
     "shell.execute_reply": "2024-07-11T19:04:29.618076Z",
     "shell.execute_reply.started": "2024-07-11T19:04:29.587414Z"
    }
   },
   "outputs": [
    {
     "data": {
      "text/plain": [
       "1765.61"
      ]
     },
     "execution_count": 34,
     "metadata": {},
     "output_type": "execute_result"
    }
   ],
   "source": [
    "176561/100"
   ]
  },
  {
   "cell_type": "code",
   "execution_count": 35,
   "id": "696072f8-38b2-4f40-b463-b17dc28c0c84",
   "metadata": {
    "execution": {
     "iopub.execute_input": "2024-07-11T19:04:29.618076Z",
     "iopub.status.busy": "2024-07-11T19:04:29.618076Z",
     "iopub.status.idle": "2024-07-11T19:04:29.649335Z",
     "shell.execute_reply": "2024-07-11T19:04:29.649335Z",
     "shell.execute_reply.started": "2024-07-11T19:04:29.618076Z"
    }
   },
   "outputs": [
    {
     "data": {
      "text/plain": [
       "1865.61"
      ]
     },
     "execution_count": 35,
     "metadata": {},
     "output_type": "execute_result"
    }
   ],
   "source": [
    "186561/100"
   ]
  },
  {
   "cell_type": "code",
   "execution_count": 36,
   "id": "01448ea8-8c12-4098-8c6e-a011b62220d2",
   "metadata": {
    "execution": {
     "iopub.execute_input": "2024-07-11T19:04:29.649335Z",
     "iopub.status.busy": "2024-07-11T19:04:29.649335Z",
     "iopub.status.idle": "2024-07-11T19:04:29.680576Z",
     "shell.execute_reply": "2024-07-11T19:04:29.680576Z",
     "shell.execute_reply.started": "2024-07-11T19:04:29.649335Z"
    }
   },
   "outputs": [
    {
     "data": {
      "text/plain": [
       "49.26317035798858"
      ]
     },
     "execution_count": 36,
     "metadata": {},
     "output_type": "execute_result"
    }
   ],
   "source": [
    "3536603/71790"
   ]
  },
  {
   "cell_type": "code",
   "execution_count": 37,
   "id": "e1a11fa5-e98e-45a5-b158-dd6f40ac225e",
   "metadata": {
    "execution": {
     "iopub.execute_input": "2024-07-11T19:04:29.687593Z",
     "iopub.status.busy": "2024-07-11T19:04:29.687593Z",
     "iopub.status.idle": "2024-07-11T19:04:29.712254Z",
     "shell.execute_reply": "2024-07-11T19:04:29.712254Z",
     "shell.execute_reply.started": "2024-07-11T19:04:29.687593Z"
    }
   },
   "outputs": [
    {
     "data": {
      "text/plain": [
       "49.26591562599842"
      ]
     },
     "execution_count": 37,
     "metadata": {},
     "output_type": "execute_result"
    }
   ],
   "source": [
    "3546604/71989"
   ]
  },
  {
   "cell_type": "code",
   "execution_count": 38,
   "id": "e6397033-d1cf-41c6-8854-e5d776a4ee63",
   "metadata": {
    "execution": {
     "iopub.execute_input": "2024-07-11T19:04:29.712254Z",
     "iopub.status.busy": "2024-07-11T19:04:29.712254Z",
     "iopub.status.idle": "2024-07-11T19:04:29.727878Z",
     "shell.execute_reply": "2024-07-11T19:04:29.727878Z",
     "shell.execute_reply.started": "2024-07-11T19:04:29.712254Z"
    }
   },
   "outputs": [
    {
     "data": {
      "text/plain": [
       "48.66970964272912"
      ]
     },
     "execution_count": 38,
     "metadata": {},
     "output_type": "execute_result"
    }
   ],
   "source": [
    "2036584/41845"
   ]
  },
  {
   "cell_type": "code",
   "execution_count": 39,
   "id": "44832c15-9c3d-43b7-b134-ee8a758f25c2",
   "metadata": {
    "execution": {
     "iopub.execute_input": "2024-07-11T19:04:29.727878Z",
     "iopub.status.busy": "2024-07-11T19:04:29.727878Z",
     "iopub.status.idle": "2024-07-11T19:04:29.759124Z",
     "shell.execute_reply": "2024-07-11T19:04:29.759124Z",
     "shell.execute_reply.started": "2024-07-11T19:04:29.727878Z"
    }
   },
   "outputs": [
    {
     "data": {
      "text/plain": [
       "70732060"
      ]
     },
     "execution_count": 39,
     "metadata": {},
     "output_type": "execute_result"
    }
   ],
   "source": [
    "3536603*20"
   ]
  },
  {
   "cell_type": "code",
   "execution_count": 40,
   "id": "8e2b4d22-da6f-4bf1-83a5-9768fee696fe",
   "metadata": {
    "execution": {
     "iopub.execute_input": "2024-07-11T19:04:29.759124Z",
     "iopub.status.busy": "2024-07-11T19:04:29.759124Z",
     "iopub.status.idle": "2024-07-11T19:04:29.853308Z",
     "shell.execute_reply": "2024-07-11T19:04:29.853308Z",
     "shell.execute_reply.started": "2024-07-11T19:04:29.759124Z"
    }
   },
   "outputs": [],
   "source": [
    "import multirecording_spikeanalysis as spike"
   ]
  },
  {
   "cell_type": "code",
   "execution_count": 41,
   "id": "394142fe-611b-4f1d-bdb6-80a97b419cbe",
   "metadata": {
    "execution": {
     "iopub.execute_input": "2024-07-11T19:04:29.853308Z",
     "iopub.status.busy": "2024-07-11T19:04:29.853308Z",
     "iopub.status.idle": "2024-07-11T19:04:31.826749Z",
     "shell.execute_reply": "2024-07-11T19:04:31.824721Z",
     "shell.execute_reply.started": "2024-07-11T19:04:29.853308Z"
    }
   },
   "outputs": [],
   "source": [
    "cols = ['condition ', 'session_dir', 'all_subjects', 'tone_start_timestamp', 'tone_stop_timestamp']\n",
    "\n",
    "# Load the data\n",
    "df = pd.read_excel('rce_pilot_2_per_video_trial_labels.xlsx', usecols=cols, engine='openpyxl')"
   ]
  },
  {
   "cell_type": "code",
   "execution_count": 42,
   "id": "5a220835-2851-40c0-8cf5-753bb6a94d24",
   "metadata": {
    "execution": {
     "iopub.execute_input": "2024-07-11T19:04:31.829757Z",
     "iopub.status.busy": "2024-07-11T19:04:31.828755Z",
     "iopub.status.idle": "2024-07-11T19:04:31.873764Z",
     "shell.execute_reply": "2024-07-11T19:04:31.872754Z",
     "shell.execute_reply.started": "2024-07-11T19:04:31.829757Z"
    }
   },
   "outputs": [],
   "source": [
    "df2 = df.dropna() # Drop the rows missing data\n",
    "df3 = df2.copy()\n",
    "df3['all_subjects'] = df3['all_subjects'].apply(lambda x: ast.literal_eval(x) if isinstance(x, str) else x) # Make the 'all_subjects' column readable as a list\n",
    "df4 = df3[df3['all_subjects'].apply(lambda x: len(x) < 3)] # Ignore novel sessions for now"
   ]
  },
  {
   "cell_type": "code",
   "execution_count": 43,
   "id": "5584e5a9-0199-4703-9a0d-62d7aa39daab",
   "metadata": {
    "execution": {
     "iopub.execute_input": "2024-07-11T19:04:31.878781Z",
     "iopub.status.busy": "2024-07-11T19:04:31.877785Z",
     "iopub.status.idle": "2024-07-11T19:04:32.050846Z",
     "shell.execute_reply": "2024-07-11T19:04:32.047856Z",
     "shell.execute_reply.started": "2024-07-11T19:04:31.878781Z"
    }
   },
   "outputs": [],
   "source": [
    "# Initialize an empty list to collect data for the new DataFrame\n",
    "new_df_data = []\n",
    "\n",
    "for _, row in df4.iterrows():\n",
    "    session_dir = row['session_dir']\n",
    "    subjects = row['all_subjects']\n",
    "    condition = row['condition ']\n",
    "\n",
    "    # Split session_dir on '_subj_' and take the first part only\n",
    "    # This ensures everything after '_subj_' is ignored\n",
    "    base_session_dir = session_dir.split('_subj_')[0]\n",
    "\n",
    "    for subject in subjects:\n",
    "        subject_formatted = subject.replace('.', '-')\n",
    "        # Append formatted subject to the base session_dir correctly\n",
    "        subj_recording = f\"{base_session_dir}_subj_{subject_formatted}\"\n",
    "        new_df_data.append({\n",
    "            'session_dir': session_dir,\n",
    "            'subject': subject,\n",
    "            'subj_recording': subj_recording,\n",
    "            'condition': condition if condition in ['rewarded', 'omission', 'both_rewarded', 'tie'] else ('win' if str(condition) == str(subject) else 'lose'),\n",
    "            'tone_start_timestamp': row['tone_start_timestamp'],\n",
    "            'tone_stop_timestamp': row['tone_stop_timestamp']\n",
    "        })\n",
    "\n",
    "# Convert list to DataFrame\n",
    "new_df = pd.DataFrame(new_df_data)\n",
    "new_df = new_df.drop_duplicates()"
   ]
  },
  {
   "cell_type": "code",
   "execution_count": 44,
   "id": "db7172f4-fc37-4681-8533-0f420a7dad57",
   "metadata": {
    "execution": {
     "iopub.execute_input": "2024-07-11T19:04:32.054855Z",
     "iopub.status.busy": "2024-07-11T19:04:32.053861Z",
     "iopub.status.idle": "2024-07-11T19:04:32.208137Z",
     "shell.execute_reply": "2024-07-11T19:04:32.206108Z",
     "shell.execute_reply.started": "2024-07-11T19:04:32.053861Z"
    }
   },
   "outputs": [],
   "source": [
    "# Prepare timestamp_dicts from new_df\n",
    "timestamp_dicts = {}\n",
    "for _, row in new_df.iterrows():\n",
    "    key = row['subj_recording']\n",
    "    condition = row['condition']\n",
    "    timestamp_start = int(row['tone_start_timestamp']) // 20\n",
    "    timestamp_end = int(row['tone_stop_timestamp']) // 20\n",
    "    tuple_val = (timestamp_start, timestamp_end)\n",
    "\n",
    "    if key not in timestamp_dicts:\n",
    "        timestamp_dicts[key] = {cond: [] for cond in ['rewarded', 'win', 'lose', 'omission', 'both_rewarded', 'tie']}\n",
    "    timestamp_dicts[key][condition].append(tuple_val)\n",
    "\n",
    "# Convert lists in timestamp_dicts to numpy arrays\n",
    "for subj_recording in timestamp_dicts:\n",
    "    for condition in timestamp_dicts[subj_recording]:\n",
    "        timestamp_dicts[subj_recording][condition] = np.array(timestamp_dicts[subj_recording][condition], dtype=np.int64)"
   ]
  },
  {
   "cell_type": "code",
   "execution_count": 45,
   "id": "8b4c5f0b-7cee-44e5-86f3-8730dd6b10d1",
   "metadata": {
    "execution": {
     "iopub.execute_input": "2024-07-11T19:04:32.211141Z",
     "iopub.status.busy": "2024-07-11T19:04:32.211141Z",
     "iopub.status.idle": "2024-07-11T19:04:46.663122Z",
     "shell.execute_reply": "2024-07-11T19:04:46.660125Z",
     "shell.execute_reply.started": "2024-07-11T19:04:32.211141Z"
    }
   },
   "outputs": [
    {
     "name": "stdout",
     "output_type": "stream",
     "text": [
      "<class 'numpy.ndarray'>\n",
      "20230612_101430_standard_comp_to_training_D1_subj_1-3_t3b3L_box2_merged.rec\n",
      "<class 'numpy.ndarray'>\n",
      "20230617_115521_standard_comp_to_omission_D1_subj_1-1_t1b3L_box1_merged.rec\n",
      "<class 'numpy.ndarray'>\n",
      "Unit 92 is unsorted & has 2494 spikes\n",
      "Unit 92 will be deleted\n",
      "20230622_110832_standard_comp_to_both_rewarded_D1_subj_1-1_t1b3L_box1_merged.rec\n",
      "<class 'numpy.ndarray'>\n",
      "Unit 103 is unsorted & has 512 spikes\n",
      "Unit 103 will be deleted\n",
      "20230622_110832_standard_comp_to_both_rewarded_D1_subj_1-2_t3b3L_box1_merged.rec\n",
      "Please assign event dictionaries to each recording\n",
      "as recording.event_dict\n",
      "event_dict = {event name(str): np.array[[start(ms), stop(ms)]...]\n",
      "Please assign subjects to each recording as recording.subject\n"
     ]
    }
   ],
   "source": [
    "# Construct the path in a platform-independent way (HiPerGator or Windows)\n",
    "ephys_path = Path('.') / 'recordings' / 'updated_phys' / 'test'\n",
    "\n",
    "ephys_data = spike.EphysRecordingCollection(str(ephys_path))"
   ]
  },
  {
   "cell_type": "code",
   "execution_count": 46,
   "id": "19979dd7-f0f3-4cb5-930e-f02bf74a322f",
   "metadata": {
    "execution": {
     "iopub.execute_input": "2024-07-11T19:04:46.667126Z",
     "iopub.status.busy": "2024-07-11T19:04:46.666123Z",
     "iopub.status.idle": "2024-07-11T19:04:46.694138Z",
     "shell.execute_reply": "2024-07-11T19:04:46.692136Z",
     "shell.execute_reply.started": "2024-07-11T19:04:46.667126Z"
    }
   },
   "outputs": [],
   "source": [
    "for recording in ephys_data.collection.keys():\n",
    "    # Check if the recording key (without everything after subject #) is in timestamp_dicts\n",
    "    start_pos = recording.find('subj_')\n",
    "    # Add the length of 'subj_' and 3 additional characters to include after 'subj_'\n",
    "    end_pos = start_pos + len('subj_') + 3\n",
    "    # Slice the recording key to get everything up to and including the subject identifier plus three characters\n",
    "    recording_key_without_suffix = recording[:end_pos]\n",
    "    if recording_key_without_suffix in timestamp_dicts:\n",
    "        # Assign the corresponding timestamp_dicts dictionary to event_dict\n",
    "        ephys_data.collection[recording].event_dict = timestamp_dicts[recording_key_without_suffix]\n",
    "        \n",
    "        # Extract the subject from the recording key\n",
    "        start = recording.find('subj_') + 5  # Start index after 'subj_'\n",
    "        subject = recording[start:start+3]\n",
    "        \n",
    "        # Assign the extracted subject\n",
    "        ephys_data.collection[recording].subject = subject"
   ]
  },
  {
   "cell_type": "code",
   "execution_count": 47,
   "id": "5ed4cb2d-b0df-489f-b116-d6021e91e908",
   "metadata": {
    "execution": {
     "iopub.execute_input": "2024-07-11T19:04:46.699141Z",
     "iopub.status.busy": "2024-07-11T19:04:46.698139Z",
     "iopub.status.idle": "2024-07-11T19:05:29.717019Z",
     "shell.execute_reply": "2024-07-11T19:05:29.663017Z",
     "shell.execute_reply.started": "2024-07-11T19:04:46.699141Z"
    }
   },
   "outputs": [
    {
     "name": "stdout",
     "output_type": "stream",
     "text": [
      "All set to analyze\n"
     ]
    }
   ],
   "source": [
    "spike_analysis = spike.SpikeAnalysis_MultiRecording(ephys_data, timebin = 1, ignore_freq = 0.5)"
   ]
  },
  {
   "cell_type": "code",
   "execution_count": 48,
   "id": "7d66d919-6434-4131-99e8-65cb38344217",
   "metadata": {
    "execution": {
     "iopub.execute_input": "2024-07-11T19:05:29.812564Z",
     "iopub.status.busy": "2024-07-11T19:05:29.805568Z",
     "iopub.status.idle": "2024-07-11T19:05:31.124679Z",
     "shell.execute_reply": "2024-07-11T19:05:31.122681Z",
     "shell.execute_reply.started": "2024-07-11T19:05:29.811564Z"
    }
   },
   "outputs": [
    {
     "data": {
      "text/plain": [
       "{'rewarded': array([], dtype=int64),\n",
       " 'win': array([], dtype=int64),\n",
       " 'lose': array([[  56560,   66560],\n",
       "        [ 176561,  186561],\n",
       "        [ 291562,  301563],\n",
       "        [ 381564,  391564],\n",
       "        [ 436564,  446564],\n",
       "        [ 486565,  496565],\n",
       "        [ 581566,  591566],\n",
       "        [ 656567,  666567],\n",
       "        [ 761568,  771568],\n",
       "        [ 811569,  821569],\n",
       "        [ 891570,  901570],\n",
       "        [ 956571,  966571],\n",
       "        [1021572, 1031572],\n",
       "        [1071572, 1081572],\n",
       "        [1141573, 1151573],\n",
       "        [1236574, 1246574],\n",
       "        [1316575, 1326575],\n",
       "        [1386576, 1396576],\n",
       "        [1496578, 1506578],\n",
       "        [1556578, 1566578]]),\n",
       " 'omission': array([], dtype=int64),\n",
       " 'both_rewarded': array([[2036584, 2046584],\n",
       "        [2096585, 2106585],\n",
       "        [2151586, 2161586],\n",
       "        [2216587, 2226587],\n",
       "        [2271587, 2281587],\n",
       "        [2321588, 2331588],\n",
       "        [2371589, 2381589],\n",
       "        [2476590, 2486590],\n",
       "        [2596591, 2606592],\n",
       "        [2716593, 2726593],\n",
       "        [2826594, 2836595],\n",
       "        [2911595, 2921596],\n",
       "        [3031597, 3041597],\n",
       "        [3091598, 3101598],\n",
       "        [3156599, 3166599],\n",
       "        [3216599, 3226600],\n",
       "        [3291600, 3301601],\n",
       "        [3391602, 3401602],\n",
       "        [3486603, 3496603],\n",
       "        [3536603, 3546604]]),\n",
       " 'tie': array([], dtype=int64)}"
      ]
     },
     "execution_count": 48,
     "metadata": {},
     "output_type": "execute_result"
    }
   ],
   "source": [
    "recordings = spike_analysis.ephyscollection.collection\n",
    "recording_name = '20230622_110832_standard_comp_to_both_rewarded_D1_subj_1-1_t1b3L_box1_merged.rec'\n",
    "recording1 = recordings.get(recording_name)\n",
    "recording1.event_dict"
   ]
  },
  {
   "cell_type": "code",
   "execution_count": 49,
   "id": "a7dd540e-35f4-462e-83c5-c13a7a726785",
   "metadata": {
    "execution": {
     "iopub.execute_input": "2024-07-11T19:05:31.127688Z",
     "iopub.status.busy": "2024-07-11T19:05:31.127688Z",
     "iopub.status.idle": "2024-07-11T19:05:31.156193Z",
     "shell.execute_reply": "2024-07-11T19:05:31.154191Z",
     "shell.execute_reply.started": "2024-07-11T19:05:31.127688Z"
    }
   },
   "outputs": [
    {
     "data": {
      "text/plain": [
       "3589"
      ]
     },
     "execution_count": 49,
     "metadata": {},
     "output_type": "execute_result"
    }
   ],
   "source": [
    "71790 // 20"
   ]
  },
  {
   "cell_type": "code",
   "execution_count": 50,
   "id": "b6b07278-d202-4e9c-8342-d86de4f4ef3c",
   "metadata": {
    "execution": {
     "iopub.execute_input": "2024-07-11T19:05:31.160201Z",
     "iopub.status.busy": "2024-07-11T19:05:31.159197Z",
     "iopub.status.idle": "2024-07-11T19:05:31.234198Z",
     "shell.execute_reply": "2024-07-11T19:05:31.232687Z",
     "shell.execute_reply.started": "2024-07-11T19:05:31.160201Z"
    }
   },
   "outputs": [
    {
     "data": {
      "text/html": [
       "<div>\n",
       "<style scoped>\n",
       "    .dataframe tbody tr th:only-of-type {\n",
       "        vertical-align: middle;\n",
       "    }\n",
       "\n",
       "    .dataframe tbody tr th {\n",
       "        vertical-align: top;\n",
       "    }\n",
       "\n",
       "    .dataframe thead th {\n",
       "        text-align: right;\n",
       "    }\n",
       "</style>\n",
       "<table border=\"1\" class=\"dataframe\">\n",
       "  <thead>\n",
       "    <tr style=\"text-align: right;\">\n",
       "      <th></th>\n",
       "      <th>session_dir</th>\n",
       "      <th>subject</th>\n",
       "      <th>subj_recording</th>\n",
       "      <th>condition</th>\n",
       "      <th>tone_start_timestamp</th>\n",
       "      <th>tone_stop_timestamp</th>\n",
       "    </tr>\n",
       "  </thead>\n",
       "  <tbody>\n",
       "    <tr>\n",
       "      <th>0</th>\n",
       "      <td>20230612_101430_standard_comp_to_training_D1_s...</td>\n",
       "      <td>1.3</td>\n",
       "      <td>20230612_101430_standard_comp_to_training_D1_s...</td>\n",
       "      <td>lose</td>\n",
       "      <td>982229.0</td>\n",
       "      <td>1182226.0</td>\n",
       "    </tr>\n",
       "    <tr>\n",
       "      <th>1</th>\n",
       "      <td>20230612_101430_standard_comp_to_training_D1_s...</td>\n",
       "      <td>1.4</td>\n",
       "      <td>20230612_101430_standard_comp_to_training_D1_s...</td>\n",
       "      <td>win</td>\n",
       "      <td>982229.0</td>\n",
       "      <td>1182226.0</td>\n",
       "    </tr>\n",
       "    <tr>\n",
       "      <th>2</th>\n",
       "      <td>20230612_101430_standard_comp_to_training_D1_s...</td>\n",
       "      <td>1.3</td>\n",
       "      <td>20230612_101430_standard_comp_to_training_D1_s...</td>\n",
       "      <td>win</td>\n",
       "      <td>3382227.0</td>\n",
       "      <td>3582224.0</td>\n",
       "    </tr>\n",
       "    <tr>\n",
       "      <th>3</th>\n",
       "      <td>20230612_101430_standard_comp_to_training_D1_s...</td>\n",
       "      <td>1.4</td>\n",
       "      <td>20230612_101430_standard_comp_to_training_D1_s...</td>\n",
       "      <td>lose</td>\n",
       "      <td>3382227.0</td>\n",
       "      <td>3582224.0</td>\n",
       "    </tr>\n",
       "    <tr>\n",
       "      <th>4</th>\n",
       "      <td>20230612_101430_standard_comp_to_training_D1_s...</td>\n",
       "      <td>1.3</td>\n",
       "      <td>20230612_101430_standard_comp_to_training_D1_s...</td>\n",
       "      <td>lose</td>\n",
       "      <td>5682225.0</td>\n",
       "      <td>5882222.0</td>\n",
       "    </tr>\n",
       "    <tr>\n",
       "      <th>...</th>\n",
       "      <td>...</td>\n",
       "      <td>...</td>\n",
       "      <td>...</td>\n",
       "      <td>...</td>\n",
       "      <td>...</td>\n",
       "      <td>...</td>\n",
       "    </tr>\n",
       "    <tr>\n",
       "      <th>1267</th>\n",
       "      <td>20230625_112913_standard_comp_to_both_rewarded...</td>\n",
       "      <td>1.4</td>\n",
       "      <td>20230625_112913_standard_comp_to_both_rewarded...</td>\n",
       "      <td>both_rewarded</td>\n",
       "      <td>67804057.0</td>\n",
       "      <td>68004058.0</td>\n",
       "    </tr>\n",
       "    <tr>\n",
       "      <th>1268</th>\n",
       "      <td>20230625_112913_standard_comp_to_both_rewarded...</td>\n",
       "      <td>1.1</td>\n",
       "      <td>20230625_112913_standard_comp_to_both_rewarded...</td>\n",
       "      <td>both_rewarded</td>\n",
       "      <td>69704075.0</td>\n",
       "      <td>69904080.0</td>\n",
       "    </tr>\n",
       "    <tr>\n",
       "      <th>1269</th>\n",
       "      <td>20230625_112913_standard_comp_to_both_rewarded...</td>\n",
       "      <td>1.4</td>\n",
       "      <td>20230625_112913_standard_comp_to_both_rewarded...</td>\n",
       "      <td>both_rewarded</td>\n",
       "      <td>69704075.0</td>\n",
       "      <td>69904080.0</td>\n",
       "    </tr>\n",
       "    <tr>\n",
       "      <th>1270</th>\n",
       "      <td>20230625_112913_standard_comp_to_both_rewarded...</td>\n",
       "      <td>1.1</td>\n",
       "      <td>20230625_112913_standard_comp_to_both_rewarded...</td>\n",
       "      <td>both_rewarded</td>\n",
       "      <td>70704093.0</td>\n",
       "      <td>70904092.0</td>\n",
       "    </tr>\n",
       "    <tr>\n",
       "      <th>1271</th>\n",
       "      <td>20230625_112913_standard_comp_to_both_rewarded...</td>\n",
       "      <td>1.4</td>\n",
       "      <td>20230625_112913_standard_comp_to_both_rewarded...</td>\n",
       "      <td>both_rewarded</td>\n",
       "      <td>70704093.0</td>\n",
       "      <td>70904092.0</td>\n",
       "    </tr>\n",
       "  </tbody>\n",
       "</table>\n",
       "<p>960 rows × 6 columns</p>\n",
       "</div>"
      ],
      "text/plain": [
       "                                            session_dir subject  \\\n",
       "0     20230612_101430_standard_comp_to_training_D1_s...     1.3   \n",
       "1     20230612_101430_standard_comp_to_training_D1_s...     1.4   \n",
       "2     20230612_101430_standard_comp_to_training_D1_s...     1.3   \n",
       "3     20230612_101430_standard_comp_to_training_D1_s...     1.4   \n",
       "4     20230612_101430_standard_comp_to_training_D1_s...     1.3   \n",
       "...                                                 ...     ...   \n",
       "1267  20230625_112913_standard_comp_to_both_rewarded...     1.4   \n",
       "1268  20230625_112913_standard_comp_to_both_rewarded...     1.1   \n",
       "1269  20230625_112913_standard_comp_to_both_rewarded...     1.4   \n",
       "1270  20230625_112913_standard_comp_to_both_rewarded...     1.1   \n",
       "1271  20230625_112913_standard_comp_to_both_rewarded...     1.4   \n",
       "\n",
       "                                         subj_recording      condition  \\\n",
       "0     20230612_101430_standard_comp_to_training_D1_s...           lose   \n",
       "1     20230612_101430_standard_comp_to_training_D1_s...            win   \n",
       "2     20230612_101430_standard_comp_to_training_D1_s...            win   \n",
       "3     20230612_101430_standard_comp_to_training_D1_s...           lose   \n",
       "4     20230612_101430_standard_comp_to_training_D1_s...           lose   \n",
       "...                                                 ...            ...   \n",
       "1267  20230625_112913_standard_comp_to_both_rewarded...  both_rewarded   \n",
       "1268  20230625_112913_standard_comp_to_both_rewarded...  both_rewarded   \n",
       "1269  20230625_112913_standard_comp_to_both_rewarded...  both_rewarded   \n",
       "1270  20230625_112913_standard_comp_to_both_rewarded...  both_rewarded   \n",
       "1271  20230625_112913_standard_comp_to_both_rewarded...  both_rewarded   \n",
       "\n",
       "      tone_start_timestamp  tone_stop_timestamp  \n",
       "0                 982229.0            1182226.0  \n",
       "1                 982229.0            1182226.0  \n",
       "2                3382227.0            3582224.0  \n",
       "3                3382227.0            3582224.0  \n",
       "4                5682225.0            5882222.0  \n",
       "...                    ...                  ...  \n",
       "1267            67804057.0           68004058.0  \n",
       "1268            69704075.0           69904080.0  \n",
       "1269            69704075.0           69904080.0  \n",
       "1270            70704093.0           70904092.0  \n",
       "1271            70704093.0           70904092.0  \n",
       "\n",
       "[960 rows x 6 columns]"
      ]
     },
     "execution_count": 50,
     "metadata": {},
     "output_type": "execute_result"
    }
   ],
   "source": [
    "new_df"
   ]
  },
  {
   "cell_type": "code",
   "execution_count": 51,
   "id": "22d47730-7277-42ef-9114-6738cda3013b",
   "metadata": {
    "execution": {
     "iopub.execute_input": "2024-07-11T19:05:31.238221Z",
     "iopub.status.busy": "2024-07-11T19:05:31.237216Z",
     "iopub.status.idle": "2024-07-11T19:05:31.266211Z",
     "shell.execute_reply": "2024-07-11T19:05:31.264212Z",
     "shell.execute_reply.started": "2024-07-11T19:05:31.238221Z"
    }
   },
   "outputs": [],
   "source": [
    "new_df2 = new_df[new_df['session_dir'] == '20230622_110832_standard_comp_to_both_rewarded_D1_subj_1-1_and_1-2']"
   ]
  },
  {
   "cell_type": "code",
   "execution_count": 52,
   "id": "f1765e47-1d9b-4f1c-9289-c606e8e8e462",
   "metadata": {
    "execution": {
     "iopub.execute_input": "2024-07-11T19:05:31.269222Z",
     "iopub.status.busy": "2024-07-11T19:05:31.268231Z",
     "iopub.status.idle": "2024-07-11T19:05:31.298212Z",
     "shell.execute_reply": "2024-07-11T19:05:31.296222Z",
     "shell.execute_reply.started": "2024-07-11T19:05:31.269222Z"
    }
   },
   "outputs": [
    {
     "data": {
      "text/html": [
       "<div>\n",
       "<style scoped>\n",
       "    .dataframe tbody tr th:only-of-type {\n",
       "        vertical-align: middle;\n",
       "    }\n",
       "\n",
       "    .dataframe tbody tr th {\n",
       "        vertical-align: top;\n",
       "    }\n",
       "\n",
       "    .dataframe thead th {\n",
       "        text-align: right;\n",
       "    }\n",
       "</style>\n",
       "<table border=\"1\" class=\"dataframe\">\n",
       "  <thead>\n",
       "    <tr style=\"text-align: right;\">\n",
       "      <th></th>\n",
       "      <th>session_dir</th>\n",
       "      <th>subject</th>\n",
       "      <th>subj_recording</th>\n",
       "      <th>condition</th>\n",
       "      <th>tone_start_timestamp</th>\n",
       "      <th>tone_stop_timestamp</th>\n",
       "    </tr>\n",
       "  </thead>\n",
       "  <tbody>\n",
       "    <tr>\n",
       "      <th>1032</th>\n",
       "      <td>20230622_110832_standard_comp_to_both_rewarded...</td>\n",
       "      <td>1.1</td>\n",
       "      <td>20230622_110832_standard_comp_to_both_rewarded...</td>\n",
       "      <td>lose</td>\n",
       "      <td>1131200.0</td>\n",
       "      <td>1331202.0</td>\n",
       "    </tr>\n",
       "    <tr>\n",
       "      <th>1033</th>\n",
       "      <td>20230622_110832_standard_comp_to_both_rewarded...</td>\n",
       "      <td>1.2</td>\n",
       "      <td>20230622_110832_standard_comp_to_both_rewarded...</td>\n",
       "      <td>win</td>\n",
       "      <td>1131200.0</td>\n",
       "      <td>1331202.0</td>\n",
       "    </tr>\n",
       "    <tr>\n",
       "      <th>1034</th>\n",
       "      <td>20230622_110832_standard_comp_to_both_rewarded...</td>\n",
       "      <td>1.1</td>\n",
       "      <td>20230622_110832_standard_comp_to_both_rewarded...</td>\n",
       "      <td>lose</td>\n",
       "      <td>3531230.0</td>\n",
       "      <td>3731233.0</td>\n",
       "    </tr>\n",
       "    <tr>\n",
       "      <th>1035</th>\n",
       "      <td>20230622_110832_standard_comp_to_both_rewarded...</td>\n",
       "      <td>1.2</td>\n",
       "      <td>20230622_110832_standard_comp_to_both_rewarded...</td>\n",
       "      <td>win</td>\n",
       "      <td>3531230.0</td>\n",
       "      <td>3731233.0</td>\n",
       "    </tr>\n",
       "    <tr>\n",
       "      <th>1036</th>\n",
       "      <td>20230622_110832_standard_comp_to_both_rewarded...</td>\n",
       "      <td>1.1</td>\n",
       "      <td>20230622_110832_standard_comp_to_both_rewarded...</td>\n",
       "      <td>lose</td>\n",
       "      <td>5831259.0</td>\n",
       "      <td>6031261.0</td>\n",
       "    </tr>\n",
       "    <tr>\n",
       "      <th>...</th>\n",
       "      <td>...</td>\n",
       "      <td>...</td>\n",
       "      <td>...</td>\n",
       "      <td>...</td>\n",
       "      <td>...</td>\n",
       "      <td>...</td>\n",
       "    </tr>\n",
       "    <tr>\n",
       "      <th>1107</th>\n",
       "      <td>20230622_110832_standard_comp_to_both_rewarded...</td>\n",
       "      <td>1.2</td>\n",
       "      <td>20230622_110832_standard_comp_to_both_rewarded...</td>\n",
       "      <td>both_rewarded</td>\n",
       "      <td>67832040.0</td>\n",
       "      <td>68032042.0</td>\n",
       "    </tr>\n",
       "    <tr>\n",
       "      <th>1108</th>\n",
       "      <td>20230622_110832_standard_comp_to_both_rewarded...</td>\n",
       "      <td>1.1</td>\n",
       "      <td>20230622_110832_standard_comp_to_both_rewarded...</td>\n",
       "      <td>both_rewarded</td>\n",
       "      <td>69732064.0</td>\n",
       "      <td>69932067.0</td>\n",
       "    </tr>\n",
       "    <tr>\n",
       "      <th>1109</th>\n",
       "      <td>20230622_110832_standard_comp_to_both_rewarded...</td>\n",
       "      <td>1.2</td>\n",
       "      <td>20230622_110832_standard_comp_to_both_rewarded...</td>\n",
       "      <td>both_rewarded</td>\n",
       "      <td>69732064.0</td>\n",
       "      <td>69932067.0</td>\n",
       "    </tr>\n",
       "    <tr>\n",
       "      <th>1110</th>\n",
       "      <td>20230622_110832_standard_comp_to_both_rewarded...</td>\n",
       "      <td>1.1</td>\n",
       "      <td>20230622_110832_standard_comp_to_both_rewarded...</td>\n",
       "      <td>both_rewarded</td>\n",
       "      <td>70732077.0</td>\n",
       "      <td>70932082.0</td>\n",
       "    </tr>\n",
       "    <tr>\n",
       "      <th>1111</th>\n",
       "      <td>20230622_110832_standard_comp_to_both_rewarded...</td>\n",
       "      <td>1.2</td>\n",
       "      <td>20230622_110832_standard_comp_to_both_rewarded...</td>\n",
       "      <td>both_rewarded</td>\n",
       "      <td>70732077.0</td>\n",
       "      <td>70932082.0</td>\n",
       "    </tr>\n",
       "  </tbody>\n",
       "</table>\n",
       "<p>80 rows × 6 columns</p>\n",
       "</div>"
      ],
      "text/plain": [
       "                                            session_dir subject  \\\n",
       "1032  20230622_110832_standard_comp_to_both_rewarded...     1.1   \n",
       "1033  20230622_110832_standard_comp_to_both_rewarded...     1.2   \n",
       "1034  20230622_110832_standard_comp_to_both_rewarded...     1.1   \n",
       "1035  20230622_110832_standard_comp_to_both_rewarded...     1.2   \n",
       "1036  20230622_110832_standard_comp_to_both_rewarded...     1.1   \n",
       "...                                                 ...     ...   \n",
       "1107  20230622_110832_standard_comp_to_both_rewarded...     1.2   \n",
       "1108  20230622_110832_standard_comp_to_both_rewarded...     1.1   \n",
       "1109  20230622_110832_standard_comp_to_both_rewarded...     1.2   \n",
       "1110  20230622_110832_standard_comp_to_both_rewarded...     1.1   \n",
       "1111  20230622_110832_standard_comp_to_both_rewarded...     1.2   \n",
       "\n",
       "                                         subj_recording      condition  \\\n",
       "1032  20230622_110832_standard_comp_to_both_rewarded...           lose   \n",
       "1033  20230622_110832_standard_comp_to_both_rewarded...            win   \n",
       "1034  20230622_110832_standard_comp_to_both_rewarded...           lose   \n",
       "1035  20230622_110832_standard_comp_to_both_rewarded...            win   \n",
       "1036  20230622_110832_standard_comp_to_both_rewarded...           lose   \n",
       "...                                                 ...            ...   \n",
       "1107  20230622_110832_standard_comp_to_both_rewarded...  both_rewarded   \n",
       "1108  20230622_110832_standard_comp_to_both_rewarded...  both_rewarded   \n",
       "1109  20230622_110832_standard_comp_to_both_rewarded...  both_rewarded   \n",
       "1110  20230622_110832_standard_comp_to_both_rewarded...  both_rewarded   \n",
       "1111  20230622_110832_standard_comp_to_both_rewarded...  both_rewarded   \n",
       "\n",
       "      tone_start_timestamp  tone_stop_timestamp  \n",
       "1032             1131200.0            1331202.0  \n",
       "1033             1131200.0            1331202.0  \n",
       "1034             3531230.0            3731233.0  \n",
       "1035             3531230.0            3731233.0  \n",
       "1036             5831259.0            6031261.0  \n",
       "...                    ...                  ...  \n",
       "1107            67832040.0           68032042.0  \n",
       "1108            69732064.0           69932067.0  \n",
       "1109            69732064.0           69932067.0  \n",
       "1110            70732077.0           70932082.0  \n",
       "1111            70732077.0           70932082.0  \n",
       "\n",
       "[80 rows x 6 columns]"
      ]
     },
     "execution_count": 52,
     "metadata": {},
     "output_type": "execute_result"
    }
   ],
   "source": [
    "new_df2"
   ]
  },
  {
   "cell_type": "code",
   "execution_count": 53,
   "id": "9cf77975-3d12-4071-8a46-656406bc4b78",
   "metadata": {
    "execution": {
     "iopub.execute_input": "2024-07-11T19:05:31.302216Z",
     "iopub.status.busy": "2024-07-11T19:05:31.301214Z",
     "iopub.status.idle": "2024-07-11T19:05:31.330229Z",
     "shell.execute_reply": "2024-07-11T19:05:31.328223Z",
     "shell.execute_reply.started": "2024-07-11T19:05:31.302216Z"
    }
   },
   "outputs": [
    {
     "data": {
      "text/plain": [
       "3536603"
      ]
     },
     "execution_count": 53,
     "metadata": {},
     "output_type": "execute_result"
    }
   ],
   "source": [
    "70732077 // 20"
   ]
  },
  {
   "cell_type": "code",
   "execution_count": 54,
   "id": "53a4286f-3841-4fc9-bd66-dbc9be903321",
   "metadata": {
    "execution": {
     "iopub.execute_input": "2024-07-11T19:05:31.334764Z",
     "iopub.status.busy": "2024-07-11T19:05:31.334236Z",
     "iopub.status.idle": "2024-07-11T19:05:31.694752Z",
     "shell.execute_reply": "2024-07-11T19:05:31.693760Z",
     "shell.execute_reply.started": "2024-07-11T19:05:31.334764Z"
    }
   },
   "outputs": [
    {
     "data": {
      "text/plain": [
       "3367383"
      ]
     },
     "execution_count": 54,
     "metadata": {},
     "output_type": "execute_result"
    }
   ],
   "source": [
    "len(recording1.unit_spiketrains[9])"
   ]
  },
  {
   "cell_type": "code",
   "execution_count": 55,
   "id": "a0152775-dcdb-4f93-b33f-6cec2b86ea51",
   "metadata": {
    "execution": {
     "iopub.execute_input": "2024-07-11T19:05:31.699755Z",
     "iopub.status.busy": "2024-07-11T19:05:31.698755Z",
     "iopub.status.idle": "2024-07-11T19:06:12.930738Z",
     "shell.execute_reply": "2024-07-11T19:06:12.854331Z",
     "shell.execute_reply.started": "2024-07-11T19:05:31.699755Z"
    }
   },
   "outputs": [
    {
     "name": "stdout",
     "output_type": "stream",
     "text": [
      "All set to analyze\n"
     ]
    }
   ],
   "source": [
    "spike_analysis = spike.SpikeAnalysis_MultiRecording(ephys_data, timebin = 1, ignore_freq = 0.5)"
   ]
  },
  {
   "cell_type": "code",
   "execution_count": 56,
   "id": "b0b65670-9b70-422b-a180-318cedfc24e3",
   "metadata": {
    "execution": {
     "iopub.execute_input": "2024-07-11T19:06:13.024275Z",
     "iopub.status.busy": "2024-07-11T19:06:13.019273Z",
     "iopub.status.idle": "2024-07-11T19:06:13.220015Z",
     "shell.execute_reply": "2024-07-11T19:06:13.216014Z",
     "shell.execute_reply.started": "2024-07-11T19:06:13.023275Z"
    }
   },
   "outputs": [
    {
     "data": {
      "text/plain": [
       "3367383"
      ]
     },
     "execution_count": 56,
     "metadata": {},
     "output_type": "execute_result"
    }
   ],
   "source": [
    "recordings = spike_analysis.ephyscollection.collection\n",
    "recording_name = '20230622_110832_standard_comp_to_both_rewarded_D1_subj_1-1_t1b3L_box1_merged.rec'\n",
    "recording1 = recordings.get(recording_name)\n",
    "len(recording1.unit_spiketrains[9])"
   ]
  },
  {
   "cell_type": "code",
   "execution_count": 57,
   "id": "c2694eb1-f29f-47ed-a398-6d04a7e2a39b",
   "metadata": {
    "execution": {
     "iopub.execute_input": "2024-07-11T19:06:13.236014Z",
     "iopub.status.busy": "2024-07-11T19:06:13.229015Z",
     "iopub.status.idle": "2024-07-11T19:06:13.312549Z",
     "shell.execute_reply": "2024-07-11T19:06:13.310547Z",
     "shell.execute_reply.started": "2024-07-11T19:06:13.236014Z"
    }
   },
   "outputs": [
    {
     "data": {
      "text/plain": [
       "3602641"
      ]
     },
     "execution_count": 57,
     "metadata": {},
     "output_type": "execute_result"
    }
   ],
   "source": [
    "recording_name2 = '20230622_110832_standard_comp_to_both_rewarded_D1_subj_1-2_t3b3L_box1_merged.rec'\n",
    "recording2 = recordings.get(recording_name2)\n",
    "len(recording2.unit_spiketrains[21])"
   ]
  },
  {
   "cell_type": "code",
   "execution_count": 58,
   "id": "a22c4a10-301d-47cf-9f93-fd383f7c9cd5",
   "metadata": {
    "execution": {
     "iopub.execute_input": "2024-07-11T19:06:13.337553Z",
     "iopub.status.busy": "2024-07-11T19:06:13.336547Z",
     "iopub.status.idle": "2024-07-11T19:06:28.050173Z",
     "shell.execute_reply": "2024-07-11T19:06:28.048165Z",
     "shell.execute_reply.started": "2024-07-11T19:06:13.337553Z"
    }
   },
   "outputs": [
    {
     "name": "stdout",
     "output_type": "stream",
     "text": [
      "<class 'numpy.ndarray'>\n",
      "20230612_101430_standard_comp_to_training_D1_subj_1-3_t3b3L_box2_merged.rec\n",
      "<class 'numpy.ndarray'>\n",
      "20230617_115521_standard_comp_to_omission_D1_subj_1-1_t1b3L_box1_merged.rec\n",
      "<class 'numpy.ndarray'>\n",
      "Unit 92 is unsorted & has 2494 spikes\n",
      "Unit 92 will be deleted\n",
      "20230622_110832_standard_comp_to_both_rewarded_D1_subj_1-1_t1b3L_box1_merged.rec\n",
      "<class 'numpy.ndarray'>\n",
      "Unit 103 is unsorted & has 512 spikes\n",
      "Unit 103 will be deleted\n",
      "20230622_110832_standard_comp_to_both_rewarded_D1_subj_1-2_t3b3L_box1_merged.rec\n",
      "Please assign event dictionaries to each recording\n",
      "as recording.event_dict\n",
      "event_dict = {event name(str): np.array[[start(ms), stop(ms)]...]\n",
      "Please assign subjects to each recording as recording.subject\n"
     ]
    }
   ],
   "source": [
    "import multirecording_spikeanalysis_edit2 as spike\n",
    "\n",
    "# It takes several steps to create the timestamp_dicts, refer to Ephys_Analysis_Notebook to create\n",
    "timestamp_dicts = pickle.load(open('timestamp_dicts.pkl', 'rb'))\n",
    "\n",
    "# Construct the path in a platform-independent way (HiPerGator or Windows)\n",
    "ephys_path = Path('.') / 'recordings' / 'updated_phys' / 'test'\n",
    "\n",
    "ephys_data = spike.EphysRecordingCollection(str(ephys_path))"
   ]
  },
  {
   "cell_type": "code",
   "execution_count": 59,
   "id": "b8efa42d-8d7a-44d7-8343-9f26b2e35b3f",
   "metadata": {
    "execution": {
     "iopub.execute_input": "2024-07-11T19:06:28.055170Z",
     "iopub.status.busy": "2024-07-11T19:06:28.054170Z",
     "iopub.status.idle": "2024-07-11T19:06:28.695055Z",
     "shell.execute_reply": "2024-07-11T19:06:28.693022Z",
     "shell.execute_reply.started": "2024-07-11T19:06:28.055170Z"
    }
   },
   "outputs": [
    {
     "name": "stdout",
     "output_type": "stream",
     "text": [
      "All set to analyze\n"
     ]
    }
   ],
   "source": [
    "for recording in ephys_data.collection.keys():\n",
    "    # Check if the recording key (without everything after subject #) is in timestamp_dicts\n",
    "    start_pos = recording.find('subj_')\n",
    "    # Add the length of 'subj_' and 3 additional characters to include after 'subj_'\n",
    "    end_pos = start_pos + len('subj_') + 3\n",
    "    # Slice the recording key to get everything up to and including the subject identifier plus three characters\n",
    "    recording_key_without_suffix = recording[:end_pos]\n",
    "    if recording_key_without_suffix in timestamp_dicts:\n",
    "        # Assign the corresponding timestamp_dicts dictionary to event_dict\n",
    "        ephys_data.collection[recording].event_dict = timestamp_dicts[recording_key_without_suffix]\n",
    "        \n",
    "        # Extract the subject from the recording key\n",
    "        start = recording.find('subj_') + 5  # Start index after 'subj_'\n",
    "        subject = recording[start:start+3]\n",
    "        \n",
    "        # Assign the extracted subject\n",
    "        ephys_data.collection[recording].subject = subject\n",
    "        \n",
    "spike_analysis = spike.SpikeAnalysis_MultiRecording(ephys_data, timebin = 100, ignore_freq = 0.5)"
   ]
  },
  {
   "cell_type": "code",
   "execution_count": 60,
   "id": "7d288105-0836-4b70-938f-1ffc9d49d63e",
   "metadata": {
    "execution": {
     "iopub.execute_input": "2024-07-11T19:06:28.697059Z",
     "iopub.status.busy": "2024-07-11T19:06:28.697059Z",
     "iopub.status.idle": "2024-07-11T19:06:42.020320Z",
     "shell.execute_reply": "2024-07-11T19:06:42.020320Z",
     "shell.execute_reply.started": "2024-07-11T19:06:28.697059Z"
    }
   },
   "outputs": [
    {
     "name": "stdout",
     "output_type": "stream",
     "text": [
      "<class 'numpy.ndarray'>\n",
      "20230612_101430_standard_comp_to_training_D1_subj_1-3_t3b3L_box2_merged.rec\n",
      "<class 'numpy.ndarray'>\n",
      "20230617_115521_standard_comp_to_omission_D1_subj_1-1_t1b3L_box1_merged.rec\n",
      "<class 'numpy.ndarray'>\n",
      "Unit 92 is unsorted & has 2494 spikes\n",
      "Unit 92 will be deleted\n",
      "20230622_110832_standard_comp_to_both_rewarded_D1_subj_1-1_t1b3L_box1_merged.rec\n",
      "<class 'numpy.ndarray'>\n",
      "Unit 103 is unsorted & has 512 spikes\n",
      "Unit 103 will be deleted\n",
      "20230622_110832_standard_comp_to_both_rewarded_D1_subj_1-2_t3b3L_box1_merged.rec\n",
      "Please assign event dictionaries to each recording\n",
      "as recording.event_dict\n",
      "event_dict = {event name(str): np.array[[start(ms), stop(ms)]...]\n",
      "Please assign subjects to each recording as recording.subject\n"
     ]
    }
   ],
   "source": [
    "import multirecording_spikeanalysis_edit as spike\n",
    "\n",
    "# It takes several steps to create the timestamp_dicts, refer to Ephys_Analysis_Notebook to create\n",
    "timestamp_dicts = pickle.load(open('timestamp_dicts.pkl', 'rb'))\n",
    "\n",
    "# Construct the path in a platform-independent way (HiPerGator or Windows)\n",
    "ephys_path = Path('.') / 'recordings' / 'updated_phys' / 'test'\n",
    "\n",
    "ephys_data = spike.EphysRecordingCollection(str(ephys_path))"
   ]
  },
  {
   "cell_type": "code",
   "execution_count": 61,
   "id": "3d24b1d2-4923-4ce7-968c-11d6ffb169fb",
   "metadata": {
    "execution": {
     "iopub.execute_input": "2024-07-11T19:06:42.051948Z",
     "iopub.status.busy": "2024-07-11T19:06:42.051948Z",
     "iopub.status.idle": "2024-07-11T19:06:43.360113Z",
     "shell.execute_reply": "2024-07-11T19:06:43.358069Z",
     "shell.execute_reply.started": "2024-07-11T19:06:42.051948Z"
    }
   },
   "outputs": [
    {
     "name": "stdout",
     "output_type": "stream",
     "text": [
      "All set to analyze\n"
     ]
    }
   ],
   "source": [
    "for recording in ephys_data.collection.keys():\n",
    "    # Check if the recording key (without everything after subject #) is in timestamp_dicts\n",
    "    start_pos = recording.find('subj_')\n",
    "    # Add the length of 'subj_' and 3 additional characters to include after 'subj_'\n",
    "    end_pos = start_pos + len('subj_') + 3\n",
    "    # Slice the recording key to get everything up to and including the subject identifier plus three characters\n",
    "    recording_key_without_suffix = recording[:end_pos]\n",
    "    if recording_key_without_suffix in timestamp_dicts:\n",
    "        # Assign the corresponding timestamp_dicts dictionary to event_dict\n",
    "        ephys_data.collection[recording].event_dict = timestamp_dicts[recording_key_without_suffix]\n",
    "        \n",
    "        # Extract the subject from the recording key\n",
    "        start = recording.find('subj_') + 5  # Start index after 'subj_'\n",
    "        subject = recording[start:start+3]\n",
    "        \n",
    "        # Assign the extracted subject\n",
    "        ephys_data.collection[recording].subject = subject\n",
    "        \n",
    "spike_analysis = spike.SpikeAnalysis_MultiRecording(ephys_data, timebin = 100, smoothing_window=250, ignore_freq = 0.5)"
   ]
  },
  {
   "cell_type": "code",
   "execution_count": 62,
   "id": "f2024222-93e3-4ad5-9a95-875e1807f2aa",
   "metadata": {
    "execution": {
     "iopub.execute_input": "2024-07-11T19:06:43.363113Z",
     "iopub.status.busy": "2024-07-11T19:06:43.362118Z",
     "iopub.status.idle": "2024-07-11T19:06:53.748930Z",
     "shell.execute_reply": "2024-07-11T19:06:53.746925Z",
     "shell.execute_reply.started": "2024-07-11T19:06:43.363113Z"
    }
   },
   "outputs": [],
   "source": [
    "event_df = spike_analysis.generate_event_dataframe(equalize=10)"
   ]
  },
  {
   "cell_type": "code",
   "execution_count": 63,
   "id": "dabbc11a-9516-42b3-b7d8-a43a0fa7df88",
   "metadata": {
    "execution": {
     "iopub.execute_input": "2024-07-11T19:06:53.751935Z",
     "iopub.status.busy": "2024-07-11T19:06:53.751935Z",
     "iopub.status.idle": "2024-07-11T19:06:53.860465Z",
     "shell.execute_reply": "2024-07-11T19:06:53.858461Z",
     "shell.execute_reply.started": "2024-07-11T19:06:53.751935Z"
    }
   },
   "outputs": [
    {
     "data": {
      "text/html": [
       "<div>\n",
       "<style scoped>\n",
       "    .dataframe tbody tr th:only-of-type {\n",
       "        vertical-align: middle;\n",
       "    }\n",
       "\n",
       "    .dataframe tbody tr th {\n",
       "        vertical-align: top;\n",
       "    }\n",
       "\n",
       "    .dataframe thead th {\n",
       "        text-align: right;\n",
       "    }\n",
       "</style>\n",
       "<table border=\"1\" class=\"dataframe\">\n",
       "  <thead>\n",
       "    <tr style=\"text-align: right;\">\n",
       "      <th></th>\n",
       "      <th>Recording</th>\n",
       "      <th>Event name</th>\n",
       "      <th>Event number</th>\n",
       "      <th>Unit number</th>\n",
       "      <th>Pre-event timebin 1</th>\n",
       "      <th>Pre-event timebin 2</th>\n",
       "      <th>Pre-event timebin 3</th>\n",
       "      <th>Pre-event timebin 4</th>\n",
       "      <th>Pre-event timebin 5</th>\n",
       "      <th>Pre-event timebin 6</th>\n",
       "      <th>...</th>\n",
       "      <th>Event timebin 91</th>\n",
       "      <th>Event timebin 92</th>\n",
       "      <th>Event timebin 93</th>\n",
       "      <th>Event timebin 94</th>\n",
       "      <th>Event timebin 95</th>\n",
       "      <th>Event timebin 96</th>\n",
       "      <th>Event timebin 97</th>\n",
       "      <th>Event timebin 98</th>\n",
       "      <th>Event timebin 99</th>\n",
       "      <th>Event timebin 100</th>\n",
       "    </tr>\n",
       "  </thead>\n",
       "  <tbody>\n",
       "    <tr>\n",
       "      <th>0</th>\n",
       "      <td>20230612_101430_standard_comp_to_training_D1_s...</td>\n",
       "      <td>rewarded</td>\n",
       "      <td>1</td>\n",
       "      <td>85</td>\n",
       "      <td>0.0</td>\n",
       "      <td>0.0</td>\n",
       "      <td>0.0</td>\n",
       "      <td>0.0</td>\n",
       "      <td>0.0</td>\n",
       "      <td>0.0</td>\n",
       "      <td>...</td>\n",
       "      <td>0.0</td>\n",
       "      <td>0.0</td>\n",
       "      <td>0.0</td>\n",
       "      <td>0.0</td>\n",
       "      <td>0.0</td>\n",
       "      <td>0.0</td>\n",
       "      <td>0.0</td>\n",
       "      <td>0.0</td>\n",
       "      <td>0.0</td>\n",
       "      <td>0.0</td>\n",
       "    </tr>\n",
       "    <tr>\n",
       "      <th>1</th>\n",
       "      <td>20230612_101430_standard_comp_to_training_D1_s...</td>\n",
       "      <td>rewarded</td>\n",
       "      <td>2</td>\n",
       "      <td>85</td>\n",
       "      <td>0.0</td>\n",
       "      <td>0.0</td>\n",
       "      <td>0.0</td>\n",
       "      <td>0.0</td>\n",
       "      <td>0.0</td>\n",
       "      <td>0.0</td>\n",
       "      <td>...</td>\n",
       "      <td>0.0</td>\n",
       "      <td>0.0</td>\n",
       "      <td>0.0</td>\n",
       "      <td>0.0</td>\n",
       "      <td>0.0</td>\n",
       "      <td>0.0</td>\n",
       "      <td>0.0</td>\n",
       "      <td>0.0</td>\n",
       "      <td>0.0</td>\n",
       "      <td>0.0</td>\n",
       "    </tr>\n",
       "    <tr>\n",
       "      <th>2</th>\n",
       "      <td>20230612_101430_standard_comp_to_training_D1_s...</td>\n",
       "      <td>rewarded</td>\n",
       "      <td>3</td>\n",
       "      <td>85</td>\n",
       "      <td>0.0</td>\n",
       "      <td>0.0</td>\n",
       "      <td>0.0</td>\n",
       "      <td>0.0</td>\n",
       "      <td>0.0</td>\n",
       "      <td>0.0</td>\n",
       "      <td>...</td>\n",
       "      <td>0.0</td>\n",
       "      <td>0.0</td>\n",
       "      <td>0.0</td>\n",
       "      <td>0.0</td>\n",
       "      <td>0.0</td>\n",
       "      <td>0.0</td>\n",
       "      <td>0.0</td>\n",
       "      <td>0.0</td>\n",
       "      <td>0.0</td>\n",
       "      <td>0.0</td>\n",
       "    </tr>\n",
       "    <tr>\n",
       "      <th>3</th>\n",
       "      <td>20230612_101430_standard_comp_to_training_D1_s...</td>\n",
       "      <td>rewarded</td>\n",
       "      <td>4</td>\n",
       "      <td>85</td>\n",
       "      <td>0.0</td>\n",
       "      <td>0.0</td>\n",
       "      <td>0.0</td>\n",
       "      <td>0.0</td>\n",
       "      <td>0.0</td>\n",
       "      <td>0.0</td>\n",
       "      <td>...</td>\n",
       "      <td>0.0</td>\n",
       "      <td>5.0</td>\n",
       "      <td>5.0</td>\n",
       "      <td>0.0</td>\n",
       "      <td>0.0</td>\n",
       "      <td>0.0</td>\n",
       "      <td>0.0</td>\n",
       "      <td>0.0</td>\n",
       "      <td>0.0</td>\n",
       "      <td>0.0</td>\n",
       "    </tr>\n",
       "    <tr>\n",
       "      <th>4</th>\n",
       "      <td>20230612_101430_standard_comp_to_training_D1_s...</td>\n",
       "      <td>rewarded</td>\n",
       "      <td>5</td>\n",
       "      <td>85</td>\n",
       "      <td>0.0</td>\n",
       "      <td>0.0</td>\n",
       "      <td>0.0</td>\n",
       "      <td>0.0</td>\n",
       "      <td>0.0</td>\n",
       "      <td>0.0</td>\n",
       "      <td>...</td>\n",
       "      <td>0.0</td>\n",
       "      <td>0.0</td>\n",
       "      <td>0.0</td>\n",
       "      <td>0.0</td>\n",
       "      <td>0.0</td>\n",
       "      <td>0.0</td>\n",
       "      <td>0.0</td>\n",
       "      <td>0.0</td>\n",
       "      <td>0.0</td>\n",
       "      <td>0.0</td>\n",
       "    </tr>\n",
       "    <tr>\n",
       "      <th>...</th>\n",
       "      <td>...</td>\n",
       "      <td>...</td>\n",
       "      <td>...</td>\n",
       "      <td>...</td>\n",
       "      <td>...</td>\n",
       "      <td>...</td>\n",
       "      <td>...</td>\n",
       "      <td>...</td>\n",
       "      <td>...</td>\n",
       "      <td>...</td>\n",
       "      <td>...</td>\n",
       "      <td>...</td>\n",
       "      <td>...</td>\n",
       "      <td>...</td>\n",
       "      <td>...</td>\n",
       "      <td>...</td>\n",
       "      <td>...</td>\n",
       "      <td>...</td>\n",
       "      <td>...</td>\n",
       "      <td>...</td>\n",
       "      <td>...</td>\n",
       "    </tr>\n",
       "    <tr>\n",
       "      <th>2673</th>\n",
       "      <td>20230622_110832_standard_comp_to_both_rewarded...</td>\n",
       "      <td>both_rewarded</td>\n",
       "      <td>16</td>\n",
       "      <td>15</td>\n",
       "      <td>0.0</td>\n",
       "      <td>0.0</td>\n",
       "      <td>0.0</td>\n",
       "      <td>0.0</td>\n",
       "      <td>0.0</td>\n",
       "      <td>0.0</td>\n",
       "      <td>...</td>\n",
       "      <td>0.0</td>\n",
       "      <td>0.0</td>\n",
       "      <td>0.0</td>\n",
       "      <td>0.0</td>\n",
       "      <td>0.0</td>\n",
       "      <td>0.0</td>\n",
       "      <td>0.0</td>\n",
       "      <td>0.0</td>\n",
       "      <td>0.0</td>\n",
       "      <td>0.0</td>\n",
       "    </tr>\n",
       "    <tr>\n",
       "      <th>2674</th>\n",
       "      <td>20230622_110832_standard_comp_to_both_rewarded...</td>\n",
       "      <td>both_rewarded</td>\n",
       "      <td>17</td>\n",
       "      <td>15</td>\n",
       "      <td>5.0</td>\n",
       "      <td>0.0</td>\n",
       "      <td>0.0</td>\n",
       "      <td>0.0</td>\n",
       "      <td>0.0</td>\n",
       "      <td>0.0</td>\n",
       "      <td>...</td>\n",
       "      <td>0.0</td>\n",
       "      <td>0.0</td>\n",
       "      <td>0.0</td>\n",
       "      <td>0.0</td>\n",
       "      <td>0.0</td>\n",
       "      <td>0.0</td>\n",
       "      <td>0.0</td>\n",
       "      <td>0.0</td>\n",
       "      <td>0.0</td>\n",
       "      <td>0.0</td>\n",
       "    </tr>\n",
       "    <tr>\n",
       "      <th>2675</th>\n",
       "      <td>20230622_110832_standard_comp_to_both_rewarded...</td>\n",
       "      <td>both_rewarded</td>\n",
       "      <td>18</td>\n",
       "      <td>15</td>\n",
       "      <td>0.0</td>\n",
       "      <td>0.0</td>\n",
       "      <td>0.0</td>\n",
       "      <td>0.0</td>\n",
       "      <td>0.0</td>\n",
       "      <td>0.0</td>\n",
       "      <td>...</td>\n",
       "      <td>0.0</td>\n",
       "      <td>0.0</td>\n",
       "      <td>0.0</td>\n",
       "      <td>0.0</td>\n",
       "      <td>0.0</td>\n",
       "      <td>0.0</td>\n",
       "      <td>0.0</td>\n",
       "      <td>0.0</td>\n",
       "      <td>0.0</td>\n",
       "      <td>0.0</td>\n",
       "    </tr>\n",
       "    <tr>\n",
       "      <th>2676</th>\n",
       "      <td>20230622_110832_standard_comp_to_both_rewarded...</td>\n",
       "      <td>both_rewarded</td>\n",
       "      <td>19</td>\n",
       "      <td>15</td>\n",
       "      <td>0.0</td>\n",
       "      <td>0.0</td>\n",
       "      <td>0.0</td>\n",
       "      <td>0.0</td>\n",
       "      <td>0.0</td>\n",
       "      <td>0.0</td>\n",
       "      <td>...</td>\n",
       "      <td>0.0</td>\n",
       "      <td>0.0</td>\n",
       "      <td>0.0</td>\n",
       "      <td>0.0</td>\n",
       "      <td>0.0</td>\n",
       "      <td>0.0</td>\n",
       "      <td>0.0</td>\n",
       "      <td>0.0</td>\n",
       "      <td>0.0</td>\n",
       "      <td>0.0</td>\n",
       "    </tr>\n",
       "    <tr>\n",
       "      <th>2677</th>\n",
       "      <td>20230622_110832_standard_comp_to_both_rewarded...</td>\n",
       "      <td>both_rewarded</td>\n",
       "      <td>20</td>\n",
       "      <td>15</td>\n",
       "      <td>0.0</td>\n",
       "      <td>0.0</td>\n",
       "      <td>0.0</td>\n",
       "      <td>0.0</td>\n",
       "      <td>0.0</td>\n",
       "      <td>0.0</td>\n",
       "      <td>...</td>\n",
       "      <td>0.0</td>\n",
       "      <td>0.0</td>\n",
       "      <td>0.0</td>\n",
       "      <td>0.0</td>\n",
       "      <td>0.0</td>\n",
       "      <td>0.0</td>\n",
       "      <td>0.0</td>\n",
       "      <td>0.0</td>\n",
       "      <td>0.0</td>\n",
       "      <td>0.0</td>\n",
       "    </tr>\n",
       "  </tbody>\n",
       "</table>\n",
       "<p>2678 rows × 204 columns</p>\n",
       "</div>"
      ],
      "text/plain": [
       "                                              Recording     Event name  \\\n",
       "0     20230612_101430_standard_comp_to_training_D1_s...       rewarded   \n",
       "1     20230612_101430_standard_comp_to_training_D1_s...       rewarded   \n",
       "2     20230612_101430_standard_comp_to_training_D1_s...       rewarded   \n",
       "3     20230612_101430_standard_comp_to_training_D1_s...       rewarded   \n",
       "4     20230612_101430_standard_comp_to_training_D1_s...       rewarded   \n",
       "...                                                 ...            ...   \n",
       "2673  20230622_110832_standard_comp_to_both_rewarded...  both_rewarded   \n",
       "2674  20230622_110832_standard_comp_to_both_rewarded...  both_rewarded   \n",
       "2675  20230622_110832_standard_comp_to_both_rewarded...  both_rewarded   \n",
       "2676  20230622_110832_standard_comp_to_both_rewarded...  both_rewarded   \n",
       "2677  20230622_110832_standard_comp_to_both_rewarded...  both_rewarded   \n",
       "\n",
       "      Event number  Unit number  Pre-event timebin 1  Pre-event timebin 2  \\\n",
       "0                1           85                  0.0                  0.0   \n",
       "1                2           85                  0.0                  0.0   \n",
       "2                3           85                  0.0                  0.0   \n",
       "3                4           85                  0.0                  0.0   \n",
       "4                5           85                  0.0                  0.0   \n",
       "...            ...          ...                  ...                  ...   \n",
       "2673            16           15                  0.0                  0.0   \n",
       "2674            17           15                  5.0                  0.0   \n",
       "2675            18           15                  0.0                  0.0   \n",
       "2676            19           15                  0.0                  0.0   \n",
       "2677            20           15                  0.0                  0.0   \n",
       "\n",
       "      Pre-event timebin 3  Pre-event timebin 4  Pre-event timebin 5  \\\n",
       "0                     0.0                  0.0                  0.0   \n",
       "1                     0.0                  0.0                  0.0   \n",
       "2                     0.0                  0.0                  0.0   \n",
       "3                     0.0                  0.0                  0.0   \n",
       "4                     0.0                  0.0                  0.0   \n",
       "...                   ...                  ...                  ...   \n",
       "2673                  0.0                  0.0                  0.0   \n",
       "2674                  0.0                  0.0                  0.0   \n",
       "2675                  0.0                  0.0                  0.0   \n",
       "2676                  0.0                  0.0                  0.0   \n",
       "2677                  0.0                  0.0                  0.0   \n",
       "\n",
       "      Pre-event timebin 6  ...  Event timebin 91  Event timebin 92  \\\n",
       "0                     0.0  ...               0.0               0.0   \n",
       "1                     0.0  ...               0.0               0.0   \n",
       "2                     0.0  ...               0.0               0.0   \n",
       "3                     0.0  ...               0.0               5.0   \n",
       "4                     0.0  ...               0.0               0.0   \n",
       "...                   ...  ...               ...               ...   \n",
       "2673                  0.0  ...               0.0               0.0   \n",
       "2674                  0.0  ...               0.0               0.0   \n",
       "2675                  0.0  ...               0.0               0.0   \n",
       "2676                  0.0  ...               0.0               0.0   \n",
       "2677                  0.0  ...               0.0               0.0   \n",
       "\n",
       "      Event timebin 93  Event timebin 94  Event timebin 95  Event timebin 96  \\\n",
       "0                  0.0               0.0               0.0               0.0   \n",
       "1                  0.0               0.0               0.0               0.0   \n",
       "2                  0.0               0.0               0.0               0.0   \n",
       "3                  5.0               0.0               0.0               0.0   \n",
       "4                  0.0               0.0               0.0               0.0   \n",
       "...                ...               ...               ...               ...   \n",
       "2673               0.0               0.0               0.0               0.0   \n",
       "2674               0.0               0.0               0.0               0.0   \n",
       "2675               0.0               0.0               0.0               0.0   \n",
       "2676               0.0               0.0               0.0               0.0   \n",
       "2677               0.0               0.0               0.0               0.0   \n",
       "\n",
       "      Event timebin 97  Event timebin 98  Event timebin 99  Event timebin 100  \n",
       "0                  0.0               0.0               0.0                0.0  \n",
       "1                  0.0               0.0               0.0                0.0  \n",
       "2                  0.0               0.0               0.0                0.0  \n",
       "3                  0.0               0.0               0.0                0.0  \n",
       "4                  0.0               0.0               0.0                0.0  \n",
       "...                ...               ...               ...                ...  \n",
       "2673               0.0               0.0               0.0                0.0  \n",
       "2674               0.0               0.0               0.0                0.0  \n",
       "2675               0.0               0.0               0.0                0.0  \n",
       "2676               0.0               0.0               0.0                0.0  \n",
       "2677               0.0               0.0               0.0                0.0  \n",
       "\n",
       "[2678 rows x 204 columns]"
      ]
     },
     "execution_count": 63,
     "metadata": {},
     "output_type": "execute_result"
    }
   ],
   "source": [
    "event_df"
   ]
  },
  {
   "cell_type": "code",
   "execution_count": 64,
   "id": "ce3af1f1-26ba-496c-8e3e-14ef2ad60e6e",
   "metadata": {
    "execution": {
     "iopub.execute_input": "2024-07-11T19:06:53.863467Z",
     "iopub.status.busy": "2024-07-11T19:06:53.862466Z",
     "iopub.status.idle": "2024-07-11T19:06:53.876469Z",
     "shell.execute_reply": "2024-07-11T19:06:53.874466Z",
     "shell.execute_reply.started": "2024-07-11T19:06:53.863467Z"
    }
   },
   "outputs": [],
   "source": [
    "pre_event_cols = [col for col in event_df.columns if col.startswith('Pre-event')]\n",
    "event_cols = [col for col in event_df.columns if col.startswith('Event') and col not in ['Event name', 'Event number']]"
   ]
  },
  {
   "cell_type": "code",
   "execution_count": 65,
   "id": "9d25b421-ef40-4db2-b94f-9d12cb92c965",
   "metadata": {
    "execution": {
     "iopub.execute_input": "2024-07-11T19:06:53.879472Z",
     "iopub.status.busy": "2024-07-11T19:06:53.878472Z",
     "iopub.status.idle": "2024-07-11T19:06:53.923998Z",
     "shell.execute_reply": "2024-07-11T19:06:53.922000Z",
     "shell.execute_reply.started": "2024-07-11T19:06:53.879472Z"
    }
   },
   "outputs": [],
   "source": [
    "event_df2 = event_df.copy()\n",
    "\n",
    "event_df2['mean_pre_event'] = event_df2[pre_event_cols].mean(axis=1)\n",
    "event_df2['mean_event'] = event_df2[event_cols].mean(axis=1)"
   ]
  },
  {
   "cell_type": "code",
   "execution_count": 66,
   "id": "c026c77d-558e-47a4-9358-3de3f205e41d",
   "metadata": {
    "execution": {
     "iopub.execute_input": "2024-07-11T19:06:53.978998Z",
     "iopub.status.busy": "2024-07-11T19:06:53.977999Z",
     "iopub.status.idle": "2024-07-11T19:06:54.052533Z",
     "shell.execute_reply": "2024-07-11T19:06:54.050529Z",
     "shell.execute_reply.started": "2024-07-11T19:06:53.977999Z"
    }
   },
   "outputs": [
    {
     "data": {
      "text/html": [
       "<div>\n",
       "<style scoped>\n",
       "    .dataframe tbody tr th:only-of-type {\n",
       "        vertical-align: middle;\n",
       "    }\n",
       "\n",
       "    .dataframe tbody tr th {\n",
       "        vertical-align: top;\n",
       "    }\n",
       "\n",
       "    .dataframe thead th {\n",
       "        text-align: right;\n",
       "    }\n",
       "</style>\n",
       "<table border=\"1\" class=\"dataframe\">\n",
       "  <thead>\n",
       "    <tr style=\"text-align: right;\">\n",
       "      <th></th>\n",
       "      <th>Recording</th>\n",
       "      <th>Event name</th>\n",
       "      <th>Event number</th>\n",
       "      <th>Unit number</th>\n",
       "      <th>Pre-event timebin 1</th>\n",
       "      <th>Pre-event timebin 2</th>\n",
       "      <th>Pre-event timebin 3</th>\n",
       "      <th>Pre-event timebin 4</th>\n",
       "      <th>Pre-event timebin 5</th>\n",
       "      <th>Pre-event timebin 6</th>\n",
       "      <th>...</th>\n",
       "      <th>Event timebin 93</th>\n",
       "      <th>Event timebin 94</th>\n",
       "      <th>Event timebin 95</th>\n",
       "      <th>Event timebin 96</th>\n",
       "      <th>Event timebin 97</th>\n",
       "      <th>Event timebin 98</th>\n",
       "      <th>Event timebin 99</th>\n",
       "      <th>Event timebin 100</th>\n",
       "      <th>mean_pre_event</th>\n",
       "      <th>mean_event</th>\n",
       "    </tr>\n",
       "  </thead>\n",
       "  <tbody>\n",
       "    <tr>\n",
       "      <th>0</th>\n",
       "      <td>20230612_101430_standard_comp_to_training_D1_s...</td>\n",
       "      <td>rewarded</td>\n",
       "      <td>1</td>\n",
       "      <td>85</td>\n",
       "      <td>0.0</td>\n",
       "      <td>0.0</td>\n",
       "      <td>0.0</td>\n",
       "      <td>0.0</td>\n",
       "      <td>0.0</td>\n",
       "      <td>0.0</td>\n",
       "      <td>...</td>\n",
       "      <td>0.0</td>\n",
       "      <td>0.0</td>\n",
       "      <td>0.0</td>\n",
       "      <td>0.0</td>\n",
       "      <td>0.0</td>\n",
       "      <td>0.0</td>\n",
       "      <td>0.0</td>\n",
       "      <td>0.0</td>\n",
       "      <td>1.40</td>\n",
       "      <td>1.2</td>\n",
       "    </tr>\n",
       "    <tr>\n",
       "      <th>1</th>\n",
       "      <td>20230612_101430_standard_comp_to_training_D1_s...</td>\n",
       "      <td>rewarded</td>\n",
       "      <td>2</td>\n",
       "      <td>85</td>\n",
       "      <td>0.0</td>\n",
       "      <td>0.0</td>\n",
       "      <td>0.0</td>\n",
       "      <td>0.0</td>\n",
       "      <td>0.0</td>\n",
       "      <td>0.0</td>\n",
       "      <td>...</td>\n",
       "      <td>0.0</td>\n",
       "      <td>0.0</td>\n",
       "      <td>0.0</td>\n",
       "      <td>0.0</td>\n",
       "      <td>0.0</td>\n",
       "      <td>0.0</td>\n",
       "      <td>0.0</td>\n",
       "      <td>0.0</td>\n",
       "      <td>0.00</td>\n",
       "      <td>0.0</td>\n",
       "    </tr>\n",
       "    <tr>\n",
       "      <th>2</th>\n",
       "      <td>20230612_101430_standard_comp_to_training_D1_s...</td>\n",
       "      <td>rewarded</td>\n",
       "      <td>3</td>\n",
       "      <td>85</td>\n",
       "      <td>0.0</td>\n",
       "      <td>0.0</td>\n",
       "      <td>0.0</td>\n",
       "      <td>0.0</td>\n",
       "      <td>0.0</td>\n",
       "      <td>0.0</td>\n",
       "      <td>...</td>\n",
       "      <td>0.0</td>\n",
       "      <td>0.0</td>\n",
       "      <td>0.0</td>\n",
       "      <td>0.0</td>\n",
       "      <td>0.0</td>\n",
       "      <td>0.0</td>\n",
       "      <td>0.0</td>\n",
       "      <td>0.0</td>\n",
       "      <td>0.20</td>\n",
       "      <td>0.3</td>\n",
       "    </tr>\n",
       "    <tr>\n",
       "      <th>3</th>\n",
       "      <td>20230612_101430_standard_comp_to_training_D1_s...</td>\n",
       "      <td>rewarded</td>\n",
       "      <td>4</td>\n",
       "      <td>85</td>\n",
       "      <td>0.0</td>\n",
       "      <td>0.0</td>\n",
       "      <td>0.0</td>\n",
       "      <td>0.0</td>\n",
       "      <td>0.0</td>\n",
       "      <td>0.0</td>\n",
       "      <td>...</td>\n",
       "      <td>5.0</td>\n",
       "      <td>0.0</td>\n",
       "      <td>0.0</td>\n",
       "      <td>0.0</td>\n",
       "      <td>0.0</td>\n",
       "      <td>0.0</td>\n",
       "      <td>0.0</td>\n",
       "      <td>0.0</td>\n",
       "      <td>0.30</td>\n",
       "      <td>0.2</td>\n",
       "    </tr>\n",
       "    <tr>\n",
       "      <th>4</th>\n",
       "      <td>20230612_101430_standard_comp_to_training_D1_s...</td>\n",
       "      <td>rewarded</td>\n",
       "      <td>5</td>\n",
       "      <td>85</td>\n",
       "      <td>0.0</td>\n",
       "      <td>0.0</td>\n",
       "      <td>0.0</td>\n",
       "      <td>0.0</td>\n",
       "      <td>0.0</td>\n",
       "      <td>0.0</td>\n",
       "      <td>...</td>\n",
       "      <td>0.0</td>\n",
       "      <td>0.0</td>\n",
       "      <td>0.0</td>\n",
       "      <td>0.0</td>\n",
       "      <td>0.0</td>\n",
       "      <td>0.0</td>\n",
       "      <td>0.0</td>\n",
       "      <td>0.0</td>\n",
       "      <td>0.20</td>\n",
       "      <td>0.0</td>\n",
       "    </tr>\n",
       "    <tr>\n",
       "      <th>...</th>\n",
       "      <td>...</td>\n",
       "      <td>...</td>\n",
       "      <td>...</td>\n",
       "      <td>...</td>\n",
       "      <td>...</td>\n",
       "      <td>...</td>\n",
       "      <td>...</td>\n",
       "      <td>...</td>\n",
       "      <td>...</td>\n",
       "      <td>...</td>\n",
       "      <td>...</td>\n",
       "      <td>...</td>\n",
       "      <td>...</td>\n",
       "      <td>...</td>\n",
       "      <td>...</td>\n",
       "      <td>...</td>\n",
       "      <td>...</td>\n",
       "      <td>...</td>\n",
       "      <td>...</td>\n",
       "      <td>...</td>\n",
       "      <td>...</td>\n",
       "    </tr>\n",
       "    <tr>\n",
       "      <th>2673</th>\n",
       "      <td>20230622_110832_standard_comp_to_both_rewarded...</td>\n",
       "      <td>both_rewarded</td>\n",
       "      <td>16</td>\n",
       "      <td>15</td>\n",
       "      <td>0.0</td>\n",
       "      <td>0.0</td>\n",
       "      <td>0.0</td>\n",
       "      <td>0.0</td>\n",
       "      <td>0.0</td>\n",
       "      <td>0.0</td>\n",
       "      <td>...</td>\n",
       "      <td>0.0</td>\n",
       "      <td>0.0</td>\n",
       "      <td>0.0</td>\n",
       "      <td>0.0</td>\n",
       "      <td>0.0</td>\n",
       "      <td>0.0</td>\n",
       "      <td>0.0</td>\n",
       "      <td>0.0</td>\n",
       "      <td>0.00</td>\n",
       "      <td>0.3</td>\n",
       "    </tr>\n",
       "    <tr>\n",
       "      <th>2674</th>\n",
       "      <td>20230622_110832_standard_comp_to_both_rewarded...</td>\n",
       "      <td>both_rewarded</td>\n",
       "      <td>17</td>\n",
       "      <td>15</td>\n",
       "      <td>5.0</td>\n",
       "      <td>0.0</td>\n",
       "      <td>0.0</td>\n",
       "      <td>0.0</td>\n",
       "      <td>0.0</td>\n",
       "      <td>0.0</td>\n",
       "      <td>...</td>\n",
       "      <td>0.0</td>\n",
       "      <td>0.0</td>\n",
       "      <td>0.0</td>\n",
       "      <td>0.0</td>\n",
       "      <td>0.0</td>\n",
       "      <td>0.0</td>\n",
       "      <td>0.0</td>\n",
       "      <td>0.0</td>\n",
       "      <td>0.25</td>\n",
       "      <td>0.2</td>\n",
       "    </tr>\n",
       "    <tr>\n",
       "      <th>2675</th>\n",
       "      <td>20230622_110832_standard_comp_to_both_rewarded...</td>\n",
       "      <td>both_rewarded</td>\n",
       "      <td>18</td>\n",
       "      <td>15</td>\n",
       "      <td>0.0</td>\n",
       "      <td>0.0</td>\n",
       "      <td>0.0</td>\n",
       "      <td>0.0</td>\n",
       "      <td>0.0</td>\n",
       "      <td>0.0</td>\n",
       "      <td>...</td>\n",
       "      <td>0.0</td>\n",
       "      <td>0.0</td>\n",
       "      <td>0.0</td>\n",
       "      <td>0.0</td>\n",
       "      <td>0.0</td>\n",
       "      <td>0.0</td>\n",
       "      <td>0.0</td>\n",
       "      <td>0.0</td>\n",
       "      <td>0.50</td>\n",
       "      <td>1.1</td>\n",
       "    </tr>\n",
       "    <tr>\n",
       "      <th>2676</th>\n",
       "      <td>20230622_110832_standard_comp_to_both_rewarded...</td>\n",
       "      <td>both_rewarded</td>\n",
       "      <td>19</td>\n",
       "      <td>15</td>\n",
       "      <td>0.0</td>\n",
       "      <td>0.0</td>\n",
       "      <td>0.0</td>\n",
       "      <td>0.0</td>\n",
       "      <td>0.0</td>\n",
       "      <td>0.0</td>\n",
       "      <td>...</td>\n",
       "      <td>0.0</td>\n",
       "      <td>0.0</td>\n",
       "      <td>0.0</td>\n",
       "      <td>0.0</td>\n",
       "      <td>0.0</td>\n",
       "      <td>0.0</td>\n",
       "      <td>0.0</td>\n",
       "      <td>0.0</td>\n",
       "      <td>0.10</td>\n",
       "      <td>0.2</td>\n",
       "    </tr>\n",
       "    <tr>\n",
       "      <th>2677</th>\n",
       "      <td>20230622_110832_standard_comp_to_both_rewarded...</td>\n",
       "      <td>both_rewarded</td>\n",
       "      <td>20</td>\n",
       "      <td>15</td>\n",
       "      <td>0.0</td>\n",
       "      <td>0.0</td>\n",
       "      <td>0.0</td>\n",
       "      <td>0.0</td>\n",
       "      <td>0.0</td>\n",
       "      <td>0.0</td>\n",
       "      <td>...</td>\n",
       "      <td>0.0</td>\n",
       "      <td>0.0</td>\n",
       "      <td>0.0</td>\n",
       "      <td>0.0</td>\n",
       "      <td>0.0</td>\n",
       "      <td>0.0</td>\n",
       "      <td>0.0</td>\n",
       "      <td>0.0</td>\n",
       "      <td>0.00</td>\n",
       "      <td>0.7</td>\n",
       "    </tr>\n",
       "  </tbody>\n",
       "</table>\n",
       "<p>2678 rows × 206 columns</p>\n",
       "</div>"
      ],
      "text/plain": [
       "                                              Recording     Event name  \\\n",
       "0     20230612_101430_standard_comp_to_training_D1_s...       rewarded   \n",
       "1     20230612_101430_standard_comp_to_training_D1_s...       rewarded   \n",
       "2     20230612_101430_standard_comp_to_training_D1_s...       rewarded   \n",
       "3     20230612_101430_standard_comp_to_training_D1_s...       rewarded   \n",
       "4     20230612_101430_standard_comp_to_training_D1_s...       rewarded   \n",
       "...                                                 ...            ...   \n",
       "2673  20230622_110832_standard_comp_to_both_rewarded...  both_rewarded   \n",
       "2674  20230622_110832_standard_comp_to_both_rewarded...  both_rewarded   \n",
       "2675  20230622_110832_standard_comp_to_both_rewarded...  both_rewarded   \n",
       "2676  20230622_110832_standard_comp_to_both_rewarded...  both_rewarded   \n",
       "2677  20230622_110832_standard_comp_to_both_rewarded...  both_rewarded   \n",
       "\n",
       "      Event number  Unit number  Pre-event timebin 1  Pre-event timebin 2  \\\n",
       "0                1           85                  0.0                  0.0   \n",
       "1                2           85                  0.0                  0.0   \n",
       "2                3           85                  0.0                  0.0   \n",
       "3                4           85                  0.0                  0.0   \n",
       "4                5           85                  0.0                  0.0   \n",
       "...            ...          ...                  ...                  ...   \n",
       "2673            16           15                  0.0                  0.0   \n",
       "2674            17           15                  5.0                  0.0   \n",
       "2675            18           15                  0.0                  0.0   \n",
       "2676            19           15                  0.0                  0.0   \n",
       "2677            20           15                  0.0                  0.0   \n",
       "\n",
       "      Pre-event timebin 3  Pre-event timebin 4  Pre-event timebin 5  \\\n",
       "0                     0.0                  0.0                  0.0   \n",
       "1                     0.0                  0.0                  0.0   \n",
       "2                     0.0                  0.0                  0.0   \n",
       "3                     0.0                  0.0                  0.0   \n",
       "4                     0.0                  0.0                  0.0   \n",
       "...                   ...                  ...                  ...   \n",
       "2673                  0.0                  0.0                  0.0   \n",
       "2674                  0.0                  0.0                  0.0   \n",
       "2675                  0.0                  0.0                  0.0   \n",
       "2676                  0.0                  0.0                  0.0   \n",
       "2677                  0.0                  0.0                  0.0   \n",
       "\n",
       "      Pre-event timebin 6  ...  Event timebin 93  Event timebin 94  \\\n",
       "0                     0.0  ...               0.0               0.0   \n",
       "1                     0.0  ...               0.0               0.0   \n",
       "2                     0.0  ...               0.0               0.0   \n",
       "3                     0.0  ...               5.0               0.0   \n",
       "4                     0.0  ...               0.0               0.0   \n",
       "...                   ...  ...               ...               ...   \n",
       "2673                  0.0  ...               0.0               0.0   \n",
       "2674                  0.0  ...               0.0               0.0   \n",
       "2675                  0.0  ...               0.0               0.0   \n",
       "2676                  0.0  ...               0.0               0.0   \n",
       "2677                  0.0  ...               0.0               0.0   \n",
       "\n",
       "      Event timebin 95  Event timebin 96  Event timebin 97  Event timebin 98  \\\n",
       "0                  0.0               0.0               0.0               0.0   \n",
       "1                  0.0               0.0               0.0               0.0   \n",
       "2                  0.0               0.0               0.0               0.0   \n",
       "3                  0.0               0.0               0.0               0.0   \n",
       "4                  0.0               0.0               0.0               0.0   \n",
       "...                ...               ...               ...               ...   \n",
       "2673               0.0               0.0               0.0               0.0   \n",
       "2674               0.0               0.0               0.0               0.0   \n",
       "2675               0.0               0.0               0.0               0.0   \n",
       "2676               0.0               0.0               0.0               0.0   \n",
       "2677               0.0               0.0               0.0               0.0   \n",
       "\n",
       "      Event timebin 99  Event timebin 100  mean_pre_event  mean_event  \n",
       "0                  0.0                0.0            1.40         1.2  \n",
       "1                  0.0                0.0            0.00         0.0  \n",
       "2                  0.0                0.0            0.20         0.3  \n",
       "3                  0.0                0.0            0.30         0.2  \n",
       "4                  0.0                0.0            0.20         0.0  \n",
       "...                ...                ...             ...         ...  \n",
       "2673               0.0                0.0            0.00         0.3  \n",
       "2674               0.0                0.0            0.25         0.2  \n",
       "2675               0.0                0.0            0.50         1.1  \n",
       "2676               0.0                0.0            0.10         0.2  \n",
       "2677               0.0                0.0            0.00         0.7  \n",
       "\n",
       "[2678 rows x 206 columns]"
      ]
     },
     "execution_count": 66,
     "metadata": {},
     "output_type": "execute_result"
    }
   ],
   "source": [
    "event_df2"
   ]
  },
  {
   "cell_type": "code",
   "execution_count": 67,
   "id": "6d1a9260-1b43-41e4-b583-23316b97c601",
   "metadata": {
    "execution": {
     "iopub.execute_input": "2024-07-11T19:06:54.056534Z",
     "iopub.status.busy": "2024-07-11T19:06:54.055536Z",
     "iopub.status.idle": "2024-07-11T19:06:54.083533Z",
     "shell.execute_reply": "2024-07-11T19:06:54.082529Z",
     "shell.execute_reply.started": "2024-07-11T19:06:54.056534Z"
    }
   },
   "outputs": [
    {
     "data": {
      "text/plain": [
       "np.float64(3.115011202389843)"
      ]
     },
     "execution_count": 67,
     "metadata": {},
     "output_type": "execute_result"
    }
   ],
   "source": [
    "event_df2['mean_pre_event'].mean()"
   ]
  },
  {
   "cell_type": "code",
   "execution_count": 68,
   "id": "a4958ee1-1176-4a28-a220-fd7a704a0394",
   "metadata": {
    "execution": {
     "iopub.execute_input": "2024-07-11T19:06:54.087534Z",
     "iopub.status.busy": "2024-07-11T19:06:54.086534Z",
     "iopub.status.idle": "2024-07-11T19:06:54.116547Z",
     "shell.execute_reply": "2024-07-11T19:06:54.114542Z",
     "shell.execute_reply.started": "2024-07-11T19:06:54.087534Z"
    }
   },
   "outputs": [
    {
     "data": {
      "text/plain": [
       "np.float64(2.9680171769977597)"
      ]
     },
     "execution_count": 68,
     "metadata": {},
     "output_type": "execute_result"
    }
   ],
   "source": [
    "event_df2['mean_event'].mean()"
   ]
  },
  {
   "cell_type": "code",
   "execution_count": 69,
   "id": "2d2a8e24-20ca-4bb6-9a0d-449cc980442a",
   "metadata": {
    "execution": {
     "iopub.execute_input": "2024-07-11T19:06:54.123080Z",
     "iopub.status.busy": "2024-07-11T19:06:54.120076Z",
     "iopub.status.idle": "2024-07-11T19:06:54.148072Z",
     "shell.execute_reply": "2024-07-11T19:06:54.146072Z",
     "shell.execute_reply.started": "2024-07-11T19:06:54.122081Z"
    }
   },
   "outputs": [
    {
     "data": {
      "text/plain": [
       "10000"
      ]
     },
     "execution_count": 69,
     "metadata": {},
     "output_type": "execute_result"
    }
   ],
   "source": [
    "pre_window = 10\n",
    "pre_window2 = math.ceil(pre_window * 1000)\n",
    "pre_window2"
   ]
  },
  {
   "cell_type": "code",
   "execution_count": 70,
   "id": "cfd59e33-c5c6-4476-851e-9f1b711b3828",
   "metadata": {
    "execution": {
     "iopub.execute_input": "2024-07-11T19:06:54.151073Z",
     "iopub.status.busy": "2024-07-11T19:06:54.150074Z",
     "iopub.status.idle": "2024-07-11T19:06:54.747768Z",
     "shell.execute_reply": "2024-07-11T19:06:54.745763Z",
     "shell.execute_reply.started": "2024-07-11T19:06:54.151073Z"
    }
   },
   "outputs": [],
   "source": [
    "recordings = spike_analysis.ephyscollection.collection\n",
    "recording_name = '20230612_101430_standard_comp_to_training_D1_subj_1-3_t3b3L_box2_merged.rec'\n",
    "recording1 = recordings.get(recording_name)\n",
    "recording1win = recording1.event_dict['win']"
   ]
  },
  {
   "cell_type": "code",
   "execution_count": 71,
   "id": "7805db39-7e10-4ab0-b0a3-5b40719171ed",
   "metadata": {
    "execution": {
     "iopub.execute_input": "2024-07-11T19:06:54.751762Z",
     "iopub.status.busy": "2024-07-11T19:06:54.750762Z",
     "iopub.status.idle": "2024-07-11T19:06:54.779764Z",
     "shell.execute_reply": "2024-07-11T19:06:54.777762Z",
     "shell.execute_reply.started": "2024-07-11T19:06:54.751762Z"
    }
   },
   "outputs": [
    {
     "data": {
      "text/plain": [
       "array([[ 169111,  179111],\n",
       "       [ 479111,  489111],\n",
       "       [ 649110,  659110],\n",
       "       [ 754110,  764110],\n",
       "       [ 804110,  814110],\n",
       "       [ 884110,  894110],\n",
       "       [ 949110,  959110],\n",
       "       [1014110, 1024110],\n",
       "       [1134110, 1144110],\n",
       "       [1309110, 1319110],\n",
       "       [1379110, 1389110],\n",
       "       [1489110, 1499110],\n",
       "       [1549110, 1559110]])"
      ]
     },
     "execution_count": 71,
     "metadata": {},
     "output_type": "execute_result"
    }
   ],
   "source": [
    "recording1win"
   ]
  },
  {
   "cell_type": "code",
   "execution_count": 72,
   "id": "d3ccdcf5-0512-480b-90c4-d2279fd6bc4e",
   "metadata": {
    "execution": {
     "iopub.execute_input": "2024-07-11T19:06:54.782770Z",
     "iopub.status.busy": "2024-07-11T19:06:54.781770Z",
     "iopub.status.idle": "2024-07-11T19:06:54.811786Z",
     "shell.execute_reply": "2024-07-11T19:06:54.809782Z",
     "shell.execute_reply.started": "2024-07-11T19:06:54.782770Z"
    }
   },
   "outputs": [
    {
     "data": {
      "text/plain": [
       "13"
      ]
     },
     "execution_count": 72,
     "metadata": {},
     "output_type": "execute_result"
    }
   ],
   "source": [
    "recording1win.shape[0]"
   ]
  },
  {
   "cell_type": "code",
   "execution_count": 73,
   "id": "85c20bda-e47a-4e31-860d-1464f65399a3",
   "metadata": {
    "execution": {
     "iopub.execute_input": "2024-07-11T19:06:54.815780Z",
     "iopub.status.busy": "2024-07-11T19:06:54.814781Z",
     "iopub.status.idle": "2024-07-11T19:06:54.827894Z",
     "shell.execute_reply": "2024-07-11T19:06:54.825895Z",
     "shell.execute_reply.started": "2024-07-11T19:06:54.814781Z"
    }
   },
   "outputs": [],
   "source": [
    "record1ran = range(recording1win.shape[0])"
   ]
  },
  {
   "cell_type": "code",
   "execution_count": 74,
   "id": "1b0996e1-06a0-4697-9aad-1cd57a1f1b00",
   "metadata": {
    "execution": {
     "iopub.execute_input": "2024-07-11T19:06:54.831901Z",
     "iopub.status.busy": "2024-07-11T19:06:54.830898Z",
     "iopub.status.idle": "2024-07-11T19:06:54.859900Z",
     "shell.execute_reply": "2024-07-11T19:06:54.857909Z",
     "shell.execute_reply.started": "2024-07-11T19:06:54.831901Z"
    }
   },
   "outputs": [
    {
     "data": {
      "text/plain": [
       "range"
      ]
     },
     "execution_count": 74,
     "metadata": {},
     "output_type": "execute_result"
    }
   ],
   "source": [
    "type(record1ran)"
   ]
  },
  {
   "cell_type": "code",
   "execution_count": 75,
   "id": "fbc0a000-eba7-41d1-8086-441530222ac0",
   "metadata": {
    "execution": {
     "iopub.execute_input": "2024-07-11T19:06:54.863902Z",
     "iopub.status.busy": "2024-07-11T19:06:54.862907Z",
     "iopub.status.idle": "2024-07-11T19:06:54.875910Z",
     "shell.execute_reply": "2024-07-11T19:06:54.873910Z",
     "shell.execute_reply.started": "2024-07-11T19:06:54.863902Z"
    }
   },
   "outputs": [
    {
     "name": "stdout",
     "output_type": "stream",
     "text": [
      "0\n",
      "1\n",
      "2\n",
      "3\n",
      "4\n",
      "5\n",
      "6\n",
      "7\n",
      "8\n",
      "9\n",
      "10\n",
      "11\n",
      "12\n"
     ]
    }
   ],
   "source": [
    "for i in record1ran:\n",
    "    print (i)"
   ]
  },
  {
   "cell_type": "code",
   "execution_count": 76,
   "id": "0e56217e-1928-4988-89f0-52225136ddfc",
   "metadata": {
    "execution": {
     "iopub.execute_input": "2024-07-11T19:06:54.879908Z",
     "iopub.status.busy": "2024-07-11T19:06:54.878898Z",
     "iopub.status.idle": "2024-07-11T19:06:54.907912Z",
     "shell.execute_reply": "2024-07-11T19:06:54.905915Z",
     "shell.execute_reply.started": "2024-07-11T19:06:54.879908Z"
    }
   },
   "outputs": [
    {
     "data": {
      "text/plain": [
       "np.int64(169111)"
      ]
     },
     "execution_count": 76,
     "metadata": {},
     "output_type": "execute_result"
    }
   ],
   "source": [
    "recording1win[0][0]"
   ]
  },
  {
   "cell_type": "code",
   "execution_count": 77,
   "id": "7b912474-004b-469b-b501-7a4b6a633c8f",
   "metadata": {
    "execution": {
     "iopub.execute_input": "2024-07-11T19:06:54.911905Z",
     "iopub.status.busy": "2024-07-11T19:06:54.910911Z",
     "iopub.status.idle": "2024-07-11T19:06:54.939067Z",
     "shell.execute_reply": "2024-07-11T19:06:54.937062Z",
     "shell.execute_reply.started": "2024-07-11T19:06:54.911905Z"
    }
   },
   "outputs": [
    {
     "data": {
      "text/plain": [
       "np.int64(479111)"
      ]
     },
     "execution_count": 77,
     "metadata": {},
     "output_type": "execute_result"
    }
   ],
   "source": [
    "recording1win[1][0]"
   ]
  },
  {
   "cell_type": "code",
   "execution_count": 78,
   "id": "6c341567-27d6-49c0-8f1b-912abc33433d",
   "metadata": {
    "execution": {
     "iopub.execute_input": "2024-07-11T19:06:54.944069Z",
     "iopub.status.busy": "2024-07-11T19:06:54.943075Z",
     "iopub.status.idle": "2024-07-11T19:06:54.955067Z",
     "shell.execute_reply": "2024-07-11T19:06:54.953061Z",
     "shell.execute_reply.started": "2024-07-11T19:06:54.944069Z"
    }
   },
   "outputs": [],
   "source": [
    "pre_window = 10\n",
    "timebin = 100\n",
    "pre_event = math.ceil((recording1win[0][0] - pre_window) / timebin)"
   ]
  },
  {
   "cell_type": "code",
   "execution_count": 79,
   "id": "fef8425e-9a25-4308-a1de-5c81e6aa35a5",
   "metadata": {
    "execution": {
     "iopub.execute_input": "2024-07-11T19:06:54.960065Z",
     "iopub.status.busy": "2024-07-11T19:06:54.959077Z",
     "iopub.status.idle": "2024-07-11T19:06:54.971067Z",
     "shell.execute_reply": "2024-07-11T19:06:54.969066Z",
     "shell.execute_reply.started": "2024-07-11T19:06:54.960065Z"
    }
   },
   "outputs": [
    {
     "data": {
      "text/plain": [
       "1692"
      ]
     },
     "execution_count": 79,
     "metadata": {},
     "output_type": "execute_result"
    }
   ],
   "source": [
    "pre_event"
   ]
  },
  {
   "cell_type": "code",
   "execution_count": 80,
   "id": "cbd1e1f0-f37a-43ff-87f4-3e0d4979deac",
   "metadata": {
    "execution": {
     "iopub.execute_input": "2024-07-11T19:06:54.975087Z",
     "iopub.status.busy": "2024-07-11T19:06:54.974086Z",
     "iopub.status.idle": "2024-07-11T19:06:54.986066Z",
     "shell.execute_reply": "2024-07-11T19:06:54.985063Z",
     "shell.execute_reply.started": "2024-07-11T19:06:54.975087Z"
    }
   },
   "outputs": [
    {
     "name": "stdout",
     "output_type": "stream",
     "text": [
      "['__class__', '__delattr__', '__dict__', '__dir__', '__doc__', '__eq__', '__format__', '__ge__', '__getattribute__', '__gt__', '__hash__', '__init__', '__init_subclass__', '__le__', '__lt__', '__module__', '__ne__', '__new__', '__reduce__', '__reduce_ex__', '__repr__', '__setattr__', '__sizeof__', '__str__', '__subclasshook__', '__weakref__', 'event_dict', 'freq_dict', 'get_spike_specs', 'get_unit_labels', 'get_unit_timestamps', 'labels_dict', 'path', 'sampling_rate', 'spiketrain', 'subject', 'timestamps_var', 'unit_array', 'unit_firing_rate_array', 'unit_firing_rates', 'unit_spiketrains', 'unit_timestamps', 'wilcox_dfs', 'zscored_events']\n"
     ]
    }
   ],
   "source": [
    "print(dir(recording1))"
   ]
  },
  {
   "cell_type": "code",
   "execution_count": 81,
   "id": "d5227c50-b678-4104-bbfe-e4c649f5c57f",
   "metadata": {
    "execution": {
     "iopub.execute_input": "2024-07-11T19:06:54.991073Z",
     "iopub.status.busy": "2024-07-11T19:06:54.990071Z",
     "iopub.status.idle": "2024-07-11T19:06:55.018085Z",
     "shell.execute_reply": "2024-07-11T19:06:55.016087Z",
     "shell.execute_reply.started": "2024-07-11T19:06:54.991073Z"
    }
   },
   "outputs": [
    {
     "data": {
      "text/plain": [
       "{np.int32(85): array([1, 1, 0, ..., 0, 0, 0]),\n",
       " np.int32(55): array([1, 0, 1, ..., 1, 1, 1]),\n",
       " np.int32(17): array([0, 1, 2, ..., 1, 0, 0]),\n",
       " np.int32(24): array([0, 1, 1, ..., 0, 0, 0]),\n",
       " np.int32(68): array([0, 0, 1, ..., 0, 0, 0]),\n",
       " np.int32(65): array([0, 0, 1, ..., 0, 0, 0]),\n",
       " np.int32(98): array([0, 0, 1, ..., 0, 0, 0]),\n",
       " np.int32(94): array([0, 0, 1, ..., 0, 0, 0]),\n",
       " np.int32(2): array([0, 0, 0, ..., 0, 0, 0]),\n",
       " np.int32(33): array([0, 0, 0, ..., 0, 0, 1]),\n",
       " np.int32(13): array([0, 0, 0, ..., 1, 1, 0]),\n",
       " np.int32(59): array([0, 0, 0, ..., 0, 0, 1]),\n",
       " np.int32(81): array([0, 0, 0, ..., 0, 1, 0]),\n",
       " np.int32(19): array([0, 0, 0, ..., 1, 1, 0]),\n",
       " np.int32(88): array([0, 0, 0, ..., 0, 0, 0]),\n",
       " np.int32(26): array([0, 0, 0, ..., 1, 1, 0]),\n",
       " np.int32(5): array([0, 0, 0, ..., 0, 0, 0]),\n",
       " np.int32(36): array([0, 0, 0, ..., 1, 2, 2]),\n",
       " np.int32(57): array([0, 0, 0, ..., 0, 0, 0])}"
      ]
     },
     "execution_count": 81,
     "metadata": {},
     "output_type": "execute_result"
    }
   ],
   "source": [
    "recording1.unit_spiketrains"
   ]
  },
  {
   "cell_type": "code",
   "execution_count": 82,
   "id": "e16d5960-d75f-4d79-981e-49a4679f6db4",
   "metadata": {
    "execution": {
     "iopub.execute_input": "2024-07-11T19:06:55.021271Z",
     "iopub.status.busy": "2024-07-11T19:06:55.020267Z",
     "iopub.status.idle": "2024-07-11T19:06:55.049260Z",
     "shell.execute_reply": "2024-07-11T19:06:55.047260Z",
     "shell.execute_reply.started": "2024-07-11T19:06:55.021271Z"
    }
   },
   "outputs": [
    {
     "data": {
      "text/plain": [
       "34146"
      ]
     },
     "execution_count": 82,
     "metadata": {},
     "output_type": "execute_result"
    }
   ],
   "source": [
    "len(recording1.unit_spiketrains[85])"
   ]
  },
  {
   "cell_type": "code",
   "execution_count": 83,
   "id": "4eb5eae5-9d8b-48a6-a6ab-b988b02453d0",
   "metadata": {
    "execution": {
     "iopub.execute_input": "2024-07-11T19:06:55.054265Z",
     "iopub.status.busy": "2024-07-11T19:06:55.053258Z",
     "iopub.status.idle": "2024-07-11T19:06:55.081260Z",
     "shell.execute_reply": "2024-07-11T19:06:55.079259Z",
     "shell.execute_reply.started": "2024-07-11T19:06:55.054265Z"
    }
   },
   "outputs": [
    {
     "data": {
      "text/plain": [
       "np.int64(0)"
      ]
     },
     "execution_count": 83,
     "metadata": {},
     "output_type": "execute_result"
    }
   ],
   "source": [
    "recording1.unit_spiketrains[85][34145]"
   ]
  },
  {
   "cell_type": "code",
   "execution_count": 84,
   "id": "375aa025-7a7c-4b1a-9438-1c2fb0aaf0fb",
   "metadata": {
    "execution": {
     "iopub.execute_input": "2024-07-11T19:06:55.084260Z",
     "iopub.status.busy": "2024-07-11T19:06:55.083264Z",
     "iopub.status.idle": "2024-07-11T19:06:55.112275Z",
     "shell.execute_reply": "2024-07-11T19:06:55.110273Z",
     "shell.execute_reply.started": "2024-07-11T19:06:55.084260Z"
    }
   },
   "outputs": [
    {
     "data": {
      "text/plain": [
       "np.int64(11)"
      ]
     },
     "execution_count": 84,
     "metadata": {},
     "output_type": "execute_result"
    }
   ],
   "source": [
    "recording1.unit_spiketrains[85].max()"
   ]
  },
  {
   "cell_type": "code",
   "execution_count": 85,
   "id": "2e360a92-21f1-4b85-b614-07969dc57f00",
   "metadata": {
    "execution": {
     "iopub.execute_input": "2024-07-11T19:06:55.116278Z",
     "iopub.status.busy": "2024-07-11T19:06:55.115272Z",
     "iopub.status.idle": "2024-07-11T19:06:55.143667Z",
     "shell.execute_reply": "2024-07-11T19:06:55.141668Z",
     "shell.execute_reply.started": "2024-07-11T19:06:55.116278Z"
    }
   },
   "outputs": [
    {
     "data": {
      "text/plain": [
       "{np.int32(85): array([ 5., 10.,  5., ...,  0.,  0.,  0.]),\n",
       " np.int32(55): array([ 5.,  5.,  5., ...,  5., 10., 10.]),\n",
       " np.int32(17): array([ 0.,  5., 15., ...,  5.,  5.,  0.]),\n",
       " np.int32(24): array([ 0.,  5., 10., ...,  0.,  0.,  0.]),\n",
       " np.int32(68): array([0., 0., 5., ..., 0., 0., 0.]),\n",
       " np.int32(65): array([0., 0., 5., ..., 0., 0., 0.]),\n",
       " np.int32(98): array([0., 0., 5., ..., 0., 0., 0.]),\n",
       " np.int32(94): array([0., 0., 5., ..., 0., 0., 0.]),\n",
       " np.int32(2): array([0., 0., 0., ..., 0., 0., 0.]),\n",
       " np.int32(33): array([0., 0., 0., ..., 5., 0., 5.]),\n",
       " np.int32(13): array([ 0.,  0.,  0., ...,  5., 10.,  5.]),\n",
       " np.int32(59): array([0., 0., 0., ..., 5., 0., 5.]),\n",
       " np.int32(81): array([0., 0., 0., ..., 0., 5., 5.]),\n",
       " np.int32(19): array([ 0.,  0.,  0., ...,  5., 10.,  5.]),\n",
       " np.int32(88): array([0., 0., 0., ..., 0., 0., 0.]),\n",
       " np.int32(26): array([ 0.,  0.,  0., ..., 15., 10.,  5.]),\n",
       " np.int32(5): array([0., 0., 0., ..., 0., 0., 0.]),\n",
       " np.int32(36): array([ 0.,  0.,  0., ...,  5., 15., 20.]),\n",
       " np.int32(57): array([0., 0., 0., ..., 0., 0., 0.])}"
      ]
     },
     "execution_count": 85,
     "metadata": {},
     "output_type": "execute_result"
    }
   ],
   "source": [
    "recording1.unit_firing_rates"
   ]
  },
  {
   "cell_type": "code",
   "execution_count": 86,
   "id": "2c31defd-43ea-48b4-a417-2f304d64bdac",
   "metadata": {
    "execution": {
     "iopub.execute_input": "2024-07-11T19:06:55.148665Z",
     "iopub.status.busy": "2024-07-11T19:06:55.146665Z",
     "iopub.status.idle": "2024-07-11T19:06:55.175665Z",
     "shell.execute_reply": "2024-07-11T19:06:55.173671Z",
     "shell.execute_reply.started": "2024-07-11T19:06:55.148665Z"
    }
   },
   "outputs": [
    {
     "data": {
      "text/plain": [
       "34146"
      ]
     },
     "execution_count": 86,
     "metadata": {},
     "output_type": "execute_result"
    }
   ],
   "source": [
    "len(recording1.unit_firing_rates[85])"
   ]
  },
  {
   "cell_type": "code",
   "execution_count": 87,
   "id": "fdf9be9e-f0e0-41f3-9ca4-eba4db0fe04e",
   "metadata": {
    "execution": {
     "iopub.execute_input": "2024-07-11T19:06:55.179666Z",
     "iopub.status.busy": "2024-07-11T19:06:55.178670Z",
     "iopub.status.idle": "2024-07-11T19:06:55.887175Z",
     "shell.execute_reply": "2024-07-11T19:06:55.886169Z",
     "shell.execute_reply.started": "2024-07-11T19:06:55.179666Z"
    }
   },
   "outputs": [
    {
     "name": "stdout",
     "output_type": "stream",
     "text": [
      "All set to analyze\n"
     ]
    }
   ],
   "source": [
    "spike_analysis = spike.SpikeAnalysis_MultiRecording(ephys_data, timebin = 100, ignore_freq = 0.5)"
   ]
  },
  {
   "cell_type": "code",
   "execution_count": 88,
   "id": "7ac7af1e-f78f-4af1-955e-94ae0b24b693",
   "metadata": {
    "execution": {
     "iopub.execute_input": "2024-07-11T19:06:55.891181Z",
     "iopub.status.busy": "2024-07-11T19:06:55.890174Z",
     "iopub.status.idle": "2024-07-11T19:06:55.904171Z",
     "shell.execute_reply": "2024-07-11T19:06:55.902171Z",
     "shell.execute_reply.started": "2024-07-11T19:06:55.891181Z"
    }
   },
   "outputs": [],
   "source": [
    "recordings = spike_analysis.ephyscollection.collection\n",
    "recording_name = '20230612_101430_standard_comp_to_training_D1_subj_1-3_t3b3L_box2_merged.rec'\n",
    "recording1 = recordings.get(recording_name)\n",
    "recording1win = recording1.event_dict['win']"
   ]
  },
  {
   "cell_type": "code",
   "execution_count": 89,
   "id": "32dc403e-c062-42d7-b573-1f0bf31db4c0",
   "metadata": {
    "execution": {
     "iopub.execute_input": "2024-07-11T19:06:55.909190Z",
     "iopub.status.busy": "2024-07-11T19:06:55.908187Z",
     "iopub.status.idle": "2024-07-11T19:06:55.935469Z",
     "shell.execute_reply": "2024-07-11T19:06:55.933436Z",
     "shell.execute_reply.started": "2024-07-11T19:06:55.909190Z"
    }
   },
   "outputs": [
    {
     "data": {
      "text/plain": [
       "34146"
      ]
     },
     "execution_count": 89,
     "metadata": {},
     "output_type": "execute_result"
    }
   ],
   "source": [
    "len(recording1.unit_spiketrains[85])"
   ]
  },
  {
   "cell_type": "code",
   "execution_count": 90,
   "id": "c24f4459-7532-436f-8fdc-19751af34ea2",
   "metadata": {
    "execution": {
     "iopub.execute_input": "2024-07-11T19:06:55.938471Z",
     "iopub.status.busy": "2024-07-11T19:06:55.937470Z",
     "iopub.status.idle": "2024-07-11T19:06:55.966442Z",
     "shell.execute_reply": "2024-07-11T19:06:55.964417Z",
     "shell.execute_reply.started": "2024-07-11T19:06:55.938471Z"
    }
   },
   "outputs": [
    {
     "data": {
      "text/plain": [
       "1682"
      ]
     },
     "execution_count": 90,
     "metadata": {},
     "output_type": "execute_result"
    }
   ],
   "source": [
    "pre_window = 10\n",
    "timebin = 100\n",
    "pre_event = math.ceil((recording1win[0][0] / timebin) - pre_window)\n",
    "pre_event"
   ]
  },
  {
   "cell_type": "code",
   "execution_count": 91,
   "id": "3fbaedc9-17ad-49f6-aa18-5a77ccab9f18",
   "metadata": {
    "execution": {
     "iopub.execute_input": "2024-07-11T19:06:55.968457Z",
     "iopub.status.busy": "2024-07-11T19:06:55.968457Z",
     "iopub.status.idle": "2024-07-11T19:06:55.997378Z",
     "shell.execute_reply": "2024-07-11T19:06:55.995341Z",
     "shell.execute_reply.started": "2024-07-11T19:06:55.968457Z"
    }
   },
   "outputs": [
    {
     "data": {
      "text/plain": [
       "1692"
      ]
     },
     "execution_count": 91,
     "metadata": {},
     "output_type": "execute_result"
    }
   ],
   "source": [
    "pre_event = math.ceil((recording1win[0][0] - pre_window) / timebin)\n",
    "pre_event"
   ]
  },
  {
   "cell_type": "code",
   "execution_count": 92,
   "id": "76d5705f-db31-42f9-a69d-1d8da19e5e06",
   "metadata": {
    "execution": {
     "iopub.execute_input": "2024-07-11T19:06:56.000370Z",
     "iopub.status.busy": "2024-07-11T19:06:55.999386Z",
     "iopub.status.idle": "2024-07-11T19:06:56.027678Z",
     "shell.execute_reply": "2024-07-11T19:06:56.026677Z",
     "shell.execute_reply.started": "2024-07-11T19:06:56.000370Z"
    }
   },
   "outputs": [
    {
     "data": {
      "text/plain": [
       "np.int64(169111)"
      ]
     },
     "execution_count": 92,
     "metadata": {},
     "output_type": "execute_result"
    }
   ],
   "source": [
    "recording1win[0][0]"
   ]
  },
  {
   "cell_type": "code",
   "execution_count": 93,
   "id": "6db83393-98c8-48ad-9525-ed1c20a18b13",
   "metadata": {
    "execution": {
     "iopub.execute_input": "2024-07-11T19:06:56.030673Z",
     "iopub.status.busy": "2024-07-11T19:06:56.030673Z",
     "iopub.status.idle": "2024-07-11T19:06:56.060024Z",
     "shell.execute_reply": "2024-07-11T19:06:56.058019Z",
     "shell.execute_reply.started": "2024-07-11T19:06:56.030673Z"
    }
   },
   "outputs": [
    {
     "data": {
      "text/plain": [
       "np.int64(169101)"
      ]
     },
     "execution_count": 93,
     "metadata": {},
     "output_type": "execute_result"
    }
   ],
   "source": [
    "recording1win[0][0] - 10"
   ]
  },
  {
   "cell_type": "code",
   "execution_count": 94,
   "id": "753be486-deaa-492c-963a-f692f8b86c03",
   "metadata": {
    "execution": {
     "iopub.execute_input": "2024-07-11T19:06:56.063015Z",
     "iopub.status.busy": "2024-07-11T19:06:56.062018Z",
     "iopub.status.idle": "2024-07-11T19:06:56.076023Z",
     "shell.execute_reply": "2024-07-11T19:06:56.074032Z",
     "shell.execute_reply.started": "2024-07-11T19:06:56.063015Z"
    }
   },
   "outputs": [
    {
     "data": {
      "text/plain": [
       "169011"
      ]
     },
     "execution_count": 94,
     "metadata": {},
     "output_type": "execute_result"
    }
   ],
   "source": [
    "pre_event = math.ceil(recording1win[0][0] - (pre_window*1000/timebin))\n",
    "pre_event"
   ]
  },
  {
   "cell_type": "code",
   "execution_count": 95,
   "id": "dfe92c8b-6387-47e1-8dd3-38578d5395e4",
   "metadata": {
    "execution": {
     "iopub.execute_input": "2024-07-11T19:06:56.080017Z",
     "iopub.status.busy": "2024-07-11T19:06:56.079014Z",
     "iopub.status.idle": "2024-07-11T19:06:56.107334Z",
     "shell.execute_reply": "2024-07-11T19:06:56.105319Z",
     "shell.execute_reply.started": "2024-07-11T19:06:56.080017Z"
    }
   },
   "outputs": [
    {
     "data": {
      "text/plain": [
       "array([ 0,  1,  2,  3,  4,  5,  6,  7,  8,  9, 10, 11, 12, 13, 14, 15, 16,\n",
       "       17, 18, 19, 20, 21, 22, 23, 24, 25, 26, 27, 28, 29])"
      ]
     },
     "execution_count": 95,
     "metadata": {},
     "output_type": "execute_result"
    }
   ],
   "source": [
    "og_spiketrain = np.arange(30)\n",
    "og_spiketrain"
   ]
  },
  {
   "cell_type": "code",
   "execution_count": 96,
   "id": "76884a91-89a5-4f41-80c5-6495652d79aa",
   "metadata": {
    "execution": {
     "iopub.execute_input": "2024-07-11T19:06:56.112345Z",
     "iopub.status.busy": "2024-07-11T19:06:56.111345Z",
     "iopub.status.idle": "2024-07-11T19:06:56.138281Z",
     "shell.execute_reply": "2024-07-11T19:06:56.136274Z",
     "shell.execute_reply.started": "2024-07-11T19:06:56.112345Z"
    }
   },
   "outputs": [
    {
     "data": {
      "text/plain": [
       "array([ 1,  2,  3,  4,  5,  6,  7,  8,  9, 10, 11, 12, 13, 14, 15, 16, 17,\n",
       "       18, 19, 20, 21, 22, 23, 24, 25, 26, 27, 28, 29, 30])"
      ]
     },
     "execution_count": 96,
     "metadata": {},
     "output_type": "execute_result"
    }
   ],
   "source": [
    "og_spiketrain = og_spiketrain+1\n",
    "og_spiketrain"
   ]
  },
  {
   "cell_type": "code",
   "execution_count": 97,
   "id": "e99091ec-f7f5-4ef7-936a-4f0010081eb6",
   "metadata": {
    "execution": {
     "iopub.execute_input": "2024-07-11T19:06:56.143278Z",
     "iopub.status.busy": "2024-07-11T19:06:56.142286Z",
     "iopub.status.idle": "2024-07-11T19:06:56.154286Z",
     "shell.execute_reply": "2024-07-11T19:06:56.152278Z",
     "shell.execute_reply.started": "2024-07-11T19:06:56.143278Z"
    }
   },
   "outputs": [],
   "source": [
    "unit_spiketrains = np.array([1,2,3,4,5,6])"
   ]
  },
  {
   "cell_type": "code",
   "execution_count": 98,
   "id": "4f2d53cb-cea2-430f-b0ff-71ad0b59bd37",
   "metadata": {
    "execution": {
     "iopub.execute_input": "2024-07-11T19:06:56.159281Z",
     "iopub.status.busy": "2024-07-11T19:06:56.158287Z",
     "iopub.status.idle": "2024-07-11T19:06:56.185305Z",
     "shell.execute_reply": "2024-07-11T19:06:56.183282Z",
     "shell.execute_reply.started": "2024-07-11T19:06:56.159281Z"
    }
   },
   "outputs": [
    {
     "data": {
      "text/plain": [
       "array([1, 2, 3, 4, 5, 6])"
      ]
     },
     "execution_count": 98,
     "metadata": {},
     "output_type": "execute_result"
    }
   ],
   "source": [
    "unit_spiketrains"
   ]
  },
  {
   "cell_type": "code",
   "execution_count": 99,
   "id": "4da27a89-62ab-4eca-9ff4-010d629ffa7d",
   "metadata": {
    "execution": {
     "iopub.execute_input": "2024-07-11T19:06:56.187309Z",
     "iopub.status.busy": "2024-07-11T19:06:56.186307Z",
     "iopub.status.idle": "2024-07-11T19:06:56.201314Z",
     "shell.execute_reply": "2024-07-11T19:06:56.199325Z",
     "shell.execute_reply.started": "2024-07-11T19:06:56.187309Z"
    }
   },
   "outputs": [
    {
     "data": {
      "text/plain": [
       "array([1, 2, 3, 4, 5, 6])"
      ]
     },
     "execution_count": 99,
     "metadata": {},
     "output_type": "execute_result"
    }
   ],
   "source": [
    "unit_spiketrains"
   ]
  },
  {
   "cell_type": "code",
   "execution_count": 100,
   "id": "536de12d-23f1-4b7e-b22f-e20b5ca5c767",
   "metadata": {
    "execution": {
     "iopub.execute_input": "2024-07-11T19:06:56.205333Z",
     "iopub.status.busy": "2024-07-11T19:06:56.204317Z",
     "iopub.status.idle": "2024-07-11T19:06:56.216332Z",
     "shell.execute_reply": "2024-07-11T19:06:56.215329Z",
     "shell.execute_reply.started": "2024-07-11T19:06:56.205333Z"
    }
   },
   "outputs": [],
   "source": [
    "event_dict1 = ([[ 15,  20],\n",
    "       [ 25,  30]])"
   ]
  },
  {
   "cell_type": "code",
   "execution_count": 101,
   "id": "67eba2c0-2e18-41c7-bdb8-140a9a376a0f",
   "metadata": {
    "execution": {
     "iopub.execute_input": "2024-07-11T19:06:56.220869Z",
     "iopub.status.busy": "2024-07-11T19:06:56.219852Z",
     "iopub.status.idle": "2024-07-11T19:06:56.247190Z",
     "shell.execute_reply": "2024-07-11T19:06:56.246162Z",
     "shell.execute_reply.started": "2024-07-11T19:06:56.220869Z"
    }
   },
   "outputs": [
    {
     "data": {
      "text/plain": [
       "[[15, 20], [25, 30]]"
      ]
     },
     "execution_count": 101,
     "metadata": {},
     "output_type": "execute_result"
    }
   ],
   "source": [
    "event_dict1"
   ]
  },
  {
   "cell_type": "code",
   "execution_count": 102,
   "id": "8fbb0d74-a6f4-48eb-8527-a360fc155ea0",
   "metadata": {
    "execution": {
     "iopub.execute_input": "2024-07-11T19:06:56.251189Z",
     "iopub.status.busy": "2024-07-11T19:06:56.250188Z",
     "iopub.status.idle": "2024-07-11T19:06:56.279692Z",
     "shell.execute_reply": "2024-07-11T19:06:56.277693Z",
     "shell.execute_reply.started": "2024-07-11T19:06:56.251189Z"
    }
   },
   "outputs": [
    {
     "data": {
      "text/plain": [
       "15"
      ]
     },
     "execution_count": 102,
     "metadata": {},
     "output_type": "execute_result"
    }
   ],
   "source": [
    "event_dict1[0][0]"
   ]
  },
  {
   "cell_type": "code",
   "execution_count": 103,
   "id": "7eb6f5d7-5ad7-409f-a918-e07d6f1b6408",
   "metadata": {
    "execution": {
     "iopub.execute_input": "2024-07-11T19:06:56.282695Z",
     "iopub.status.busy": "2024-07-11T19:06:56.281691Z",
     "iopub.status.idle": "2024-07-11T19:06:56.312048Z",
     "shell.execute_reply": "2024-07-11T19:06:56.309043Z",
     "shell.execute_reply.started": "2024-07-11T19:06:56.282695Z"
    }
   },
   "outputs": [
    {
     "data": {
      "text/plain": [
       "3.0"
      ]
     },
     "execution_count": 103,
     "metadata": {},
     "output_type": "execute_result"
    }
   ],
   "source": [
    "pre_window = 0.01\n",
    "timebin = 5\n",
    "\n",
    "event_start = event_dict1[0][0] / timebin\n",
    "event_start"
   ]
  },
  {
   "cell_type": "code",
   "execution_count": 104,
   "id": "dff7524d-2b6a-4b03-8615-a74db06d8199",
   "metadata": {
    "execution": {
     "iopub.execute_input": "2024-07-11T19:06:56.315040Z",
     "iopub.status.busy": "2024-07-11T19:06:56.314050Z",
     "iopub.status.idle": "2024-07-11T19:06:56.342572Z",
     "shell.execute_reply": "2024-07-11T19:06:56.340575Z",
     "shell.execute_reply.started": "2024-07-11T19:06:56.315040Z"
    }
   },
   "outputs": [
    {
     "data": {
      "text/plain": [
       "1.0"
      ]
     },
     "execution_count": 104,
     "metadata": {},
     "output_type": "execute_result"
    }
   ],
   "source": [
    "pre_event_start = event_start - (pre_window*1000/timebin)\n",
    "pre_event_start"
   ]
  },
  {
   "cell_type": "code",
   "execution_count": 105,
   "id": "bd13f69c-7277-4f53-8838-d1c32b90cd43",
   "metadata": {
    "execution": {
     "iopub.execute_input": "2024-07-11T19:06:56.345575Z",
     "iopub.status.busy": "2024-07-11T19:06:56.345575Z",
     "iopub.status.idle": "2024-07-11T19:06:56.358572Z",
     "shell.execute_reply": "2024-07-11T19:06:56.356579Z",
     "shell.execute_reply.started": "2024-07-11T19:06:56.345575Z"
    }
   },
   "outputs": [
    {
     "data": {
      "text/plain": [
       "1592"
      ]
     },
     "execution_count": 105,
     "metadata": {},
     "output_type": "execute_result"
    }
   ],
   "source": [
    "pre_window = 10\n",
    "timebin = 100\n",
    "pre_event = math.ceil((recording1win[0][0] / timebin) - (pre_window*1000/timebin))\n",
    "pre_event"
   ]
  },
  {
   "cell_type": "code",
   "execution_count": 106,
   "id": "0f825379-302c-45f1-905c-4ac99b5a7bc5",
   "metadata": {
    "execution": {
     "iopub.execute_input": "2024-07-11T19:06:56.361580Z",
     "iopub.status.busy": "2024-07-11T19:06:56.360580Z",
     "iopub.status.idle": "2024-07-11T19:06:56.390310Z",
     "shell.execute_reply": "2024-07-11T19:06:56.388320Z",
     "shell.execute_reply.started": "2024-07-11T19:06:56.361580Z"
    }
   },
   "outputs": [
    {
     "data": {
      "text/plain": [
       "1592"
      ]
     },
     "execution_count": 106,
     "metadata": {},
     "output_type": "execute_result"
    }
   ],
   "source": [
    "pre_window = math.ceil(pre_window * 1000)\n",
    "\n",
    "pre_event = math.ceil((recording1win[0][0] - pre_window) / timebin)\n",
    "pre_event"
   ]
  },
  {
   "cell_type": "code",
   "execution_count": 107,
   "id": "5e202f5d-9dbd-46ce-ab77-52e6716990c6",
   "metadata": {
    "execution": {
     "iopub.execute_input": "2024-07-11T19:06:56.394307Z",
     "iopub.status.busy": "2024-07-11T19:06:56.393309Z",
     "iopub.status.idle": "2024-07-11T19:06:56.421367Z",
     "shell.execute_reply": "2024-07-11T19:06:56.419326Z",
     "shell.execute_reply.started": "2024-07-11T19:06:56.394307Z"
    }
   },
   "outputs": [
    {
     "data": {
      "text/plain": [
       "np.int64(169111)"
      ]
     },
     "execution_count": 107,
     "metadata": {},
     "output_type": "execute_result"
    }
   ],
   "source": [
    "recording1win[0][0]"
   ]
  },
  {
   "cell_type": "code",
   "execution_count": 108,
   "id": "f4fbcd90-7365-4508-9828-8bd44c986402",
   "metadata": {
    "execution": {
     "iopub.execute_input": "2024-07-11T19:06:56.425373Z",
     "iopub.status.busy": "2024-07-11T19:06:56.424369Z",
     "iopub.status.idle": "2024-07-11T19:06:56.452118Z",
     "shell.execute_reply": "2024-07-11T19:06:56.451088Z",
     "shell.execute_reply.started": "2024-07-11T19:06:56.425373Z"
    }
   },
   "outputs": [
    {
     "data": {
      "text/plain": [
       "(34146,)"
      ]
     },
     "execution_count": 108,
     "metadata": {},
     "output_type": "execute_result"
    }
   ],
   "source": [
    "recording1.unit_firing_rates[85].shape"
   ]
  },
  {
   "cell_type": "code",
   "execution_count": 109,
   "id": "7ea5a1ee-2944-4ddf-a0ce-a29fcd42b864",
   "metadata": {
    "execution": {
     "iopub.execute_input": "2024-07-11T19:06:56.456116Z",
     "iopub.status.busy": "2024-07-11T19:06:56.455121Z",
     "iopub.status.idle": "2024-07-11T19:06:56.483149Z",
     "shell.execute_reply": "2024-07-11T19:06:56.482124Z",
     "shell.execute_reply.started": "2024-07-11T19:06:56.456116Z"
    }
   },
   "outputs": [
    {
     "data": {
      "text/plain": [
       "array([10., 10.,  0., ...,  0.,  0.,  0.])"
      ]
     },
     "execution_count": 109,
     "metadata": {},
     "output_type": "execute_result"
    }
   ],
   "source": [
    "recording1.unit_firing_rates[85]"
   ]
  },
  {
   "cell_type": "code",
   "execution_count": 110,
   "id": "ebc3be8c-be9b-4246-8974-262d97ee6525",
   "metadata": {
    "execution": {
     "iopub.execute_input": "2024-07-11T19:06:56.486150Z",
     "iopub.status.busy": "2024-07-11T19:06:56.485150Z",
     "iopub.status.idle": "2024-07-11T19:06:56.500158Z",
     "shell.execute_reply": "2024-07-11T19:06:56.498149Z",
     "shell.execute_reply.started": "2024-07-11T19:06:56.486150Z"
    }
   },
   "outputs": [
    {
     "data": {
      "text/plain": [
       "34146"
      ]
     },
     "execution_count": 110,
     "metadata": {},
     "output_type": "execute_result"
    }
   ],
   "source": [
    "len(recording1.unit_firing_rates[85])"
   ]
  },
  {
   "cell_type": "code",
   "execution_count": 111,
   "id": "ee6afcf8-c69c-4e44-b21d-b3011678bf37",
   "metadata": {
    "execution": {
     "iopub.execute_input": "2024-07-11T19:06:56.503144Z",
     "iopub.status.busy": "2024-07-11T19:06:56.502148Z",
     "iopub.status.idle": "2024-07-11T19:06:56.531709Z",
     "shell.execute_reply": "2024-07-11T19:06:56.529706Z",
     "shell.execute_reply.started": "2024-07-11T19:06:56.503144Z"
    }
   },
   "outputs": [
    {
     "data": {
      "text/plain": [
       "15392"
      ]
     },
     "execution_count": 111,
     "metadata": {},
     "output_type": "execute_result"
    }
   ],
   "source": [
    "pre_window = 10\n",
    "timebin = 100\n",
    "pre_event = math.ceil((recording1win[12][0] / timebin) - (pre_window*1000/timebin))\n",
    "pre_event"
   ]
  },
  {
   "cell_type": "code",
   "execution_count": 112,
   "id": "bfcb679d-4cca-4b32-8991-e6a79c8f12b8",
   "metadata": {
    "execution": {
     "iopub.execute_input": "2024-07-11T19:06:56.535707Z",
     "iopub.status.busy": "2024-07-11T19:06:56.534708Z",
     "iopub.status.idle": "2024-07-11T19:06:56.563709Z",
     "shell.execute_reply": "2024-07-11T19:06:56.561709Z",
     "shell.execute_reply.started": "2024-07-11T19:06:56.535707Z"
    }
   },
   "outputs": [
    {
     "data": {
      "text/plain": [
       "1842"
      ]
     },
     "execution_count": 112,
     "metadata": {},
     "output_type": "execute_result"
    }
   ],
   "source": [
    "pre_window = 10\n",
    "timebin = 100\n",
    "equalize = 10\n",
    "post_window = 5\n",
    "\n",
    "pre_window = math.ceil(pre_window * 1000)\n",
    "post_window = math.ceil(post_window * 1000)\n",
    "equalize = equalize * 1000\n",
    "e_length = equalize + post_window + pre_window\n",
    "\n",
    "post_event = math.ceil((recording1win[0][0] + post_window + equalize) / timebin)\n",
    "post_event"
   ]
  },
  {
   "cell_type": "code",
   "execution_count": 113,
   "id": "bbc26cd7-17d5-4d5c-9a6e-8be693758089",
   "metadata": {
    "execution": {
     "iopub.execute_input": "2024-07-11T19:06:56.567710Z",
     "iopub.status.busy": "2024-07-11T19:06:56.566716Z",
     "iopub.status.idle": "2024-07-11T19:06:56.595368Z",
     "shell.execute_reply": "2024-07-11T19:06:56.593370Z",
     "shell.execute_reply.started": "2024-07-11T19:06:56.567710Z"
    }
   },
   "outputs": [
    {
     "data": {
      "text/plain": [
       "1592"
      ]
     },
     "execution_count": 113,
     "metadata": {},
     "output_type": "execute_result"
    }
   ],
   "source": [
    "pre_window = 10\n",
    "timebin = 100\n",
    "pre_event = math.ceil((recording1win[0][0] / timebin) - (pre_window*1000/timebin))\n",
    "pre_event"
   ]
  },
  {
   "cell_type": "code",
   "execution_count": 114,
   "id": "a4927ecc-74d2-43e0-a0a6-42dabf89fb4f",
   "metadata": {
    "execution": {
     "iopub.execute_input": "2024-07-11T19:06:56.598368Z",
     "iopub.status.busy": "2024-07-11T19:06:56.598368Z",
     "iopub.status.idle": "2024-07-11T19:06:56.611401Z",
     "shell.execute_reply": "2024-07-11T19:06:56.609411Z",
     "shell.execute_reply.started": "2024-07-11T19:06:56.598368Z"
    }
   },
   "outputs": [
    {
     "data": {
      "text/plain": [
       "1742"
      ]
     },
     "execution_count": 114,
     "metadata": {},
     "output_type": "execute_result"
    }
   ],
   "source": [
    "1592+100+50"
   ]
  },
  {
   "cell_type": "code",
   "execution_count": 115,
   "id": "72bd05e3-759d-4521-890b-a131dba28fbc",
   "metadata": {
    "execution": {
     "iopub.execute_input": "2024-07-11T19:06:56.615421Z",
     "iopub.status.busy": "2024-07-11T19:06:56.614416Z",
     "iopub.status.idle": "2024-07-11T19:06:56.642761Z",
     "shell.execute_reply": "2024-07-11T19:06:56.640761Z",
     "shell.execute_reply.started": "2024-07-11T19:06:56.615421Z"
    }
   },
   "outputs": [
    {
     "data": {
      "text/plain": [
       "np.float64(1691.11)"
      ]
     },
     "execution_count": 115,
     "metadata": {},
     "output_type": "execute_result"
    }
   ],
   "source": [
    "recording1win[0][0] / timebin"
   ]
  },
  {
   "cell_type": "code",
   "execution_count": 116,
   "id": "ba2feb3b-ca0d-4c31-813c-306dd01d1776",
   "metadata": {
    "execution": {
     "iopub.execute_input": "2024-07-11T19:06:56.646765Z",
     "iopub.status.busy": "2024-07-11T19:06:56.645764Z",
     "iopub.status.idle": "2024-07-11T19:06:56.673977Z",
     "shell.execute_reply": "2024-07-11T19:06:56.671983Z",
     "shell.execute_reply.started": "2024-07-11T19:06:56.646765Z"
    }
   },
   "outputs": [
    {
     "data": {
      "text/plain": [
       "1742"
      ]
     },
     "execution_count": 116,
     "metadata": {},
     "output_type": "execute_result"
    }
   ],
   "source": [
    "1692+50"
   ]
  },
  {
   "cell_type": "code",
   "execution_count": 117,
   "id": "63b35b68-7ec5-4e35-9d57-b9e047ed71a1",
   "metadata": {
    "execution": {
     "iopub.execute_input": "2024-07-11T19:06:56.678976Z",
     "iopub.status.busy": "2024-07-11T19:06:56.677980Z",
     "iopub.status.idle": "2024-07-11T19:06:56.705597Z",
     "shell.execute_reply": "2024-07-11T19:06:56.703562Z",
     "shell.execute_reply.started": "2024-07-11T19:06:56.678976Z"
    }
   },
   "outputs": [
    {
     "data": {
      "text/plain": [
       "1742"
      ]
     },
     "execution_count": 117,
     "metadata": {},
     "output_type": "execute_result"
    }
   ],
   "source": [
    "pre_window = 10\n",
    "timebin = 100\n",
    "equalize = 10\n",
    "post_window = 5\n",
    "\n",
    "post_event = math.ceil((recording1win[0][0] / timebin) + (post_window*1000/timebin))\n",
    "post_event"
   ]
  },
  {
   "cell_type": "code",
   "execution_count": 118,
   "id": "5e876af4-a85f-47f9-a8f6-452df5cd33cd",
   "metadata": {
    "execution": {
     "iopub.execute_input": "2024-07-11T19:06:56.710613Z",
     "iopub.status.busy": "2024-07-11T19:06:56.709623Z",
     "iopub.status.idle": "2024-07-11T19:06:56.737105Z",
     "shell.execute_reply": "2024-07-11T19:06:56.735078Z",
     "shell.execute_reply.started": "2024-07-11T19:06:56.710613Z"
    }
   },
   "outputs": [
    {
     "data": {
      "text/plain": [
       "np.int64(179111)"
      ]
     },
     "execution_count": 118,
     "metadata": {},
     "output_type": "execute_result"
    }
   ],
   "source": [
    "recording1win[0][1]"
   ]
  },
  {
   "cell_type": "code",
   "execution_count": 119,
   "id": "3b238928-b969-4a05-8119-49a554a53bfc",
   "metadata": {
    "execution": {
     "iopub.execute_input": "2024-07-11T19:06:56.740108Z",
     "iopub.status.busy": "2024-07-11T19:06:56.739108Z",
     "iopub.status.idle": "2024-07-11T19:06:56.768322Z",
     "shell.execute_reply": "2024-07-11T19:06:56.766292Z",
     "shell.execute_reply.started": "2024-07-11T19:06:56.740108Z"
    }
   },
   "outputs": [
    {
     "data": {
      "text/plain": [
       "{np.int32(85): array([1, 1, 0, ..., 0, 0, 0]),\n",
       " np.int32(55): array([1, 0, 1, ..., 1, 1, 1]),\n",
       " np.int32(17): array([0, 1, 2, ..., 1, 0, 0]),\n",
       " np.int32(24): array([0, 1, 1, ..., 0, 0, 0]),\n",
       " np.int32(68): array([0, 0, 1, ..., 0, 0, 0]),\n",
       " np.int32(65): array([0, 0, 1, ..., 0, 0, 0]),\n",
       " np.int32(98): array([0, 0, 1, ..., 0, 0, 0]),\n",
       " np.int32(94): array([0, 0, 1, ..., 0, 0, 0]),\n",
       " np.int32(2): array([0, 0, 0, ..., 0, 0, 0]),\n",
       " np.int32(33): array([0, 0, 0, ..., 0, 0, 1]),\n",
       " np.int32(13): array([0, 0, 0, ..., 1, 1, 0]),\n",
       " np.int32(59): array([0, 0, 0, ..., 0, 0, 1]),\n",
       " np.int32(81): array([0, 0, 0, ..., 0, 1, 0]),\n",
       " np.int32(19): array([0, 0, 0, ..., 1, 1, 0]),\n",
       " np.int32(88): array([0, 0, 0, ..., 0, 0, 0]),\n",
       " np.int32(26): array([0, 0, 0, ..., 1, 1, 0]),\n",
       " np.int32(5): array([0, 0, 0, ..., 0, 0, 0]),\n",
       " np.int32(36): array([0, 0, 0, ..., 1, 2, 2]),\n",
       " np.int32(57): array([0, 0, 0, ..., 0, 0, 0])}"
      ]
     },
     "execution_count": 119,
     "metadata": {},
     "output_type": "execute_result"
    }
   ],
   "source": [
    "recording1.unit_spiketrains"
   ]
  },
  {
   "cell_type": "code",
   "execution_count": 120,
   "id": "5bf0b26e-270a-4200-a369-a361af0753a5",
   "metadata": {
    "execution": {
     "iopub.execute_input": "2024-07-11T19:06:56.771323Z",
     "iopub.status.busy": "2024-07-11T19:06:56.770326Z",
     "iopub.status.idle": "2024-07-11T19:06:56.799328Z",
     "shell.execute_reply": "2024-07-11T19:06:56.798322Z",
     "shell.execute_reply.started": "2024-07-11T19:06:56.771323Z"
    }
   },
   "outputs": [
    {
     "data": {
      "text/plain": [
       "array([[ 169111,  179111],\n",
       "       [ 479111,  489111],\n",
       "       [ 649110,  659110],\n",
       "       [ 754110,  764110],\n",
       "       [ 804110,  814110],\n",
       "       [ 884110,  894110],\n",
       "       [ 949110,  959110],\n",
       "       [1014110, 1024110],\n",
       "       [1134110, 1144110],\n",
       "       [1309110, 1319110],\n",
       "       [1379110, 1389110],\n",
       "       [1489110, 1499110],\n",
       "       [1549110, 1559110]])"
      ]
     },
     "execution_count": 120,
     "metadata": {},
     "output_type": "execute_result"
    }
   ],
   "source": [
    "recording1win"
   ]
  },
  {
   "cell_type": "code",
   "execution_count": 121,
   "id": "09967656-d2e5-42a5-8a7a-feaec9951d96",
   "metadata": {
    "execution": {
     "iopub.execute_input": "2024-07-11T19:06:56.803322Z",
     "iopub.status.busy": "2024-07-11T19:06:56.802321Z",
     "iopub.status.idle": "2024-07-11T19:06:56.832219Z",
     "shell.execute_reply": "2024-07-11T19:06:56.830219Z",
     "shell.execute_reply.started": "2024-07-11T19:06:56.803322Z"
    }
   },
   "outputs": [
    {
     "data": {
      "text/plain": [
       "array([[ 1691.11,  1791.11],\n",
       "       [ 4791.11,  4891.11],\n",
       "       [ 6491.1 ,  6591.1 ],\n",
       "       [ 7541.1 ,  7641.1 ],\n",
       "       [ 8041.1 ,  8141.1 ],\n",
       "       [ 8841.1 ,  8941.1 ],\n",
       "       [ 9491.1 ,  9591.1 ],\n",
       "       [10141.1 , 10241.1 ],\n",
       "       [11341.1 , 11441.1 ],\n",
       "       [13091.1 , 13191.1 ],\n",
       "       [13791.1 , 13891.1 ],\n",
       "       [14891.1 , 14991.1 ],\n",
       "       [15491.1 , 15591.1 ]])"
      ]
     },
     "execution_count": 121,
     "metadata": {},
     "output_type": "execute_result"
    }
   ],
   "source": [
    "recording1win_binned = recording1win/timebin\n",
    "recording1win_binned"
   ]
  },
  {
   "cell_type": "code",
   "execution_count": 122,
   "id": "471cf5c2-c8c0-4a20-b962-0e1306e5e70d",
   "metadata": {
    "execution": {
     "iopub.execute_input": "2024-07-11T19:06:56.836232Z",
     "iopub.status.busy": "2024-07-11T19:06:56.834228Z",
     "iopub.status.idle": "2024-07-11T19:06:56.863421Z",
     "shell.execute_reply": "2024-07-11T19:06:56.861426Z",
     "shell.execute_reply.started": "2024-07-11T19:06:56.836232Z"
    }
   },
   "outputs": [
    {
     "data": {
      "text/plain": [
       "numpy.ndarray"
      ]
     },
     "execution_count": 122,
     "metadata": {},
     "output_type": "execute_result"
    }
   ],
   "source": [
    "type(recording1win_binned)"
   ]
  },
  {
   "cell_type": "code",
   "execution_count": 123,
   "id": "0ab4e013-5cb2-4775-b1d8-8d0f9d48997c",
   "metadata": {
    "execution": {
     "iopub.execute_input": "2024-07-11T19:06:56.866422Z",
     "iopub.status.busy": "2024-07-11T19:06:56.865425Z",
     "iopub.status.idle": "2024-07-11T19:06:56.879425Z",
     "shell.execute_reply": "2024-07-11T19:06:56.877423Z",
     "shell.execute_reply.started": "2024-07-11T19:06:56.866422Z"
    }
   },
   "outputs": [],
   "source": [
    "rounded_array = np.ceil(recording1win_binned).astype(int)"
   ]
  },
  {
   "cell_type": "code",
   "execution_count": 124,
   "id": "2fabb890-3091-4ffc-a3c2-7edb60809635",
   "metadata": {
    "execution": {
     "iopub.execute_input": "2024-07-11T19:06:56.883428Z",
     "iopub.status.busy": "2024-07-11T19:06:56.881424Z",
     "iopub.status.idle": "2024-07-11T19:06:56.910829Z",
     "shell.execute_reply": "2024-07-11T19:06:56.908829Z",
     "shell.execute_reply.started": "2024-07-11T19:06:56.883428Z"
    }
   },
   "outputs": [
    {
     "data": {
      "text/plain": [
       "array([[ 1692,  1792],\n",
       "       [ 4792,  4892],\n",
       "       [ 6492,  6592],\n",
       "       [ 7542,  7642],\n",
       "       [ 8042,  8142],\n",
       "       [ 8842,  8942],\n",
       "       [ 9492,  9592],\n",
       "       [10142, 10242],\n",
       "       [11342, 11442],\n",
       "       [13092, 13192],\n",
       "       [13792, 13892],\n",
       "       [14892, 14992],\n",
       "       [15492, 15592]])"
      ]
     },
     "execution_count": 124,
     "metadata": {},
     "output_type": "execute_result"
    }
   ],
   "source": [
    "rounded_array"
   ]
  },
  {
   "cell_type": "code",
   "execution_count": 125,
   "id": "8485940c-9459-4442-b8ad-f96f490f567a",
   "metadata": {
    "execution": {
     "iopub.execute_input": "2024-07-11T19:06:56.914832Z",
     "iopub.status.busy": "2024-07-11T19:06:56.913823Z",
     "iopub.status.idle": "2024-07-11T19:06:56.941370Z",
     "shell.execute_reply": "2024-07-11T19:06:56.940367Z",
     "shell.execute_reply.started": "2024-07-11T19:06:56.914832Z"
    }
   },
   "outputs": [
    {
     "data": {
      "text/plain": [
       "array([1692, 1792])"
      ]
     },
     "execution_count": 125,
     "metadata": {},
     "output_type": "execute_result"
    }
   ],
   "source": [
    "rounded_array[0]"
   ]
  },
  {
   "cell_type": "code",
   "execution_count": 126,
   "id": "5f9ed6d1-dbd1-4102-90b4-8e072a71e434",
   "metadata": {
    "execution": {
     "iopub.execute_input": "2024-07-11T19:06:56.946362Z",
     "iopub.status.busy": "2024-07-11T19:06:56.945365Z",
     "iopub.status.idle": "2024-07-11T19:06:56.974368Z",
     "shell.execute_reply": "2024-07-11T19:06:56.972371Z",
     "shell.execute_reply.started": "2024-07-11T19:06:56.945365Z"
    }
   },
   "outputs": [
    {
     "data": {
      "text/plain": [
       "array([1, 2])"
      ]
     },
     "execution_count": 126,
     "metadata": {},
     "output_type": "execute_result"
    }
   ],
   "source": [
    "recording1.unit_spiketrains[85][rounded_array[0]]"
   ]
  },
  {
   "cell_type": "code",
   "execution_count": 127,
   "id": "93170000-45f2-4a63-8539-e9cd0606401c",
   "metadata": {
    "execution": {
     "iopub.execute_input": "2024-07-11T19:06:56.977366Z",
     "iopub.status.busy": "2024-07-11T19:06:56.976365Z",
     "iopub.status.idle": "2024-07-11T19:06:56.991374Z",
     "shell.execute_reply": "2024-07-11T19:06:56.988371Z",
     "shell.execute_reply.started": "2024-07-11T19:06:56.977366Z"
    }
   },
   "outputs": [
    {
     "data": {
      "text/plain": [
       "np.int64(1692)"
      ]
     },
     "execution_count": 127,
     "metadata": {},
     "output_type": "execute_result"
    }
   ],
   "source": [
    "rounded_array[0][0]"
   ]
  },
  {
   "cell_type": "code",
   "execution_count": 128,
   "id": "a56696d5-20db-4c80-96e5-fe95a2a58922",
   "metadata": {
    "execution": {
     "iopub.execute_input": "2024-07-11T19:06:56.996368Z",
     "iopub.status.busy": "2024-07-11T19:06:56.995372Z",
     "iopub.status.idle": "2024-07-11T19:06:57.022948Z",
     "shell.execute_reply": "2024-07-11T19:06:57.020386Z",
     "shell.execute_reply.started": "2024-07-11T19:06:56.996368Z"
    }
   },
   "outputs": [
    {
     "data": {
      "text/plain": [
       "np.int64(1792)"
      ]
     },
     "execution_count": 128,
     "metadata": {},
     "output_type": "execute_result"
    }
   ],
   "source": [
    "rounded_array[0][1]"
   ]
  },
  {
   "cell_type": "code",
   "execution_count": 129,
   "id": "6ed012eb-c3c7-4795-975a-8948f939e023",
   "metadata": {
    "execution": {
     "iopub.execute_input": "2024-07-11T19:06:57.027941Z",
     "iopub.status.busy": "2024-07-11T19:06:57.026946Z",
     "iopub.status.idle": "2024-07-11T19:06:57.052940Z",
     "shell.execute_reply": "2024-07-11T19:06:57.050942Z",
     "shell.execute_reply.started": "2024-07-11T19:06:57.027941Z"
    }
   },
   "outputs": [
    {
     "data": {
      "text/plain": [
       "array([1, 1, 0, 1, 1, 1, 1, 1, 1, 3, 2, 0, 0, 1, 1, 0, 2, 2, 1, 1, 0, 1,\n",
       "       0, 0, 1, 1, 1, 1, 1, 0, 1, 0, 1, 0, 0, 1, 1, 0, 1, 1, 1, 0, 1, 0,\n",
       "       0, 0, 1, 0, 1, 1, 1, 1, 1, 2, 1, 0, 1, 1, 0, 1, 1, 0, 0, 0, 1, 1,\n",
       "       1, 1, 0, 0, 1, 2, 1, 0, 0, 2, 1, 2, 1, 0, 0, 0, 1, 0, 0, 1, 0, 1,\n",
       "       1, 1, 0, 1, 0, 0, 1, 1, 1, 0, 1, 0])"
      ]
     },
     "execution_count": 129,
     "metadata": {},
     "output_type": "execute_result"
    }
   ],
   "source": [
    "recording1.unit_spiketrains[85][rounded_array[0][0]:rounded_array[0][1]]"
   ]
  },
  {
   "cell_type": "code",
   "execution_count": 130,
   "id": "f15ae87a-356f-4976-b623-ce31df3dd9b0",
   "metadata": {
    "execution": {
     "iopub.execute_input": "2024-07-11T19:06:57.057956Z",
     "iopub.status.busy": "2024-07-11T19:06:57.056946Z",
     "iopub.status.idle": "2024-07-11T19:06:57.099634Z",
     "shell.execute_reply": "2024-07-11T19:06:57.097605Z",
     "shell.execute_reply.started": "2024-07-11T19:06:57.057956Z"
    }
   },
   "outputs": [],
   "source": [
    "recording_event_spiketrains = []\n",
    "for key in recording1.unit_spiketrains:\n",
    "    recording_event_spiketrains.append(key)\n",
    "    "
   ]
  },
  {
   "cell_type": "code",
   "execution_count": 131,
   "id": "c4277910-85b0-4006-9e28-706636911db7",
   "metadata": {
    "execution": {
     "iopub.execute_input": "2024-07-11T19:06:57.103647Z",
     "iopub.status.busy": "2024-07-11T19:06:57.102641Z",
     "iopub.status.idle": "2024-07-11T19:06:57.131190Z",
     "shell.execute_reply": "2024-07-11T19:06:57.129192Z",
     "shell.execute_reply.started": "2024-07-11T19:06:57.103647Z"
    }
   },
   "outputs": [
    {
     "data": {
      "text/plain": [
       "[np.int32(85),\n",
       " np.int32(55),\n",
       " np.int32(17),\n",
       " np.int32(24),\n",
       " np.int32(68),\n",
       " np.int32(65),\n",
       " np.int32(98),\n",
       " np.int32(94),\n",
       " np.int32(2),\n",
       " np.int32(33),\n",
       " np.int32(13),\n",
       " np.int32(59),\n",
       " np.int32(81),\n",
       " np.int32(19),\n",
       " np.int32(88),\n",
       " np.int32(26),\n",
       " np.int32(5),\n",
       " np.int32(36),\n",
       " np.int32(57)]"
      ]
     },
     "execution_count": 131,
     "metadata": {},
     "output_type": "execute_result"
    }
   ],
   "source": [
    "recording_event_spiketrains"
   ]
  },
  {
   "cell_type": "code",
   "execution_count": 132,
   "id": "c6efad0f-b5b9-4279-a69f-a818843cf226",
   "metadata": {
    "execution": {
     "iopub.execute_input": "2024-07-11T19:06:57.136203Z",
     "iopub.status.busy": "2024-07-11T19:06:57.134195Z",
     "iopub.status.idle": "2024-07-11T19:06:57.161767Z",
     "shell.execute_reply": "2024-07-11T19:06:57.159773Z",
     "shell.execute_reply.started": "2024-07-11T19:06:57.136203Z"
    }
   },
   "outputs": [],
   "source": [
    "recording_event_spiketrains = {}\n",
    "for key in recording1.unit_spiketrains:\n",
    "  recording_event_spiketrains[key] = []  # Initialize an empty list for each key\n",
    "  for i in range(len(rounded_array)):\n",
    "    spiketrain_slice = recording1.unit_spiketrains[key][rounded_array[i][0]:rounded_array[i][1]]\n",
    "    recording_event_spiketrains[key].append(spiketrain_slice)"
   ]
  },
  {
   "cell_type": "code",
   "execution_count": 133,
   "id": "0decedb5-2f3c-4ea7-bfac-20f4b50fb167",
   "metadata": {
    "execution": {
     "iopub.execute_input": "2024-07-11T19:06:57.165773Z",
     "iopub.status.busy": "2024-07-11T19:06:57.164769Z",
     "iopub.status.idle": "2024-07-11T19:06:57.193769Z",
     "shell.execute_reply": "2024-07-11T19:06:57.191775Z",
     "shell.execute_reply.started": "2024-07-11T19:06:57.165773Z"
    }
   },
   "outputs": [
    {
     "data": {
      "text/plain": [
       "array([1, 1, 0, 1, 1, 1, 1, 1, 1, 3, 2, 0, 0, 1, 1, 0, 2, 2, 1, 1, 0, 1,\n",
       "       0, 0, 1, 1, 1, 1, 1, 0, 1, 0, 1, 0, 0, 1, 1, 0, 1, 1, 1, 0, 1, 0,\n",
       "       0, 0, 1, 0, 1, 1, 1, 1, 1, 2, 1, 0, 1, 1, 0, 1, 1, 0, 0, 0, 1, 1,\n",
       "       1, 1, 0, 0, 1, 2, 1, 0, 0, 2, 1, 2, 1, 0, 0, 0, 1, 0, 0, 1, 0, 1,\n",
       "       1, 1, 0, 1, 0, 0, 1, 1, 1, 0, 1, 0])"
      ]
     },
     "execution_count": 133,
     "metadata": {},
     "output_type": "execute_result"
    }
   ],
   "source": [
    "recording_event_spiketrains[85][0]"
   ]
  },
  {
   "cell_type": "code",
   "execution_count": 134,
   "id": "7e6603da-f5d0-4a26-9170-8a2d4f014b3a",
   "metadata": {
    "execution": {
     "iopub.execute_input": "2024-07-11T19:06:57.197767Z",
     "iopub.status.busy": "2024-07-11T19:06:57.196774Z",
     "iopub.status.idle": "2024-07-11T19:06:57.274350Z",
     "shell.execute_reply": "2024-07-11T19:06:57.270356Z",
     "shell.execute_reply.started": "2024-07-11T19:06:57.197767Z"
    }
   },
   "outputs": [
    {
     "data": {
      "text/html": [
       "<div>\n",
       "<style scoped>\n",
       "    .dataframe tbody tr th:only-of-type {\n",
       "        vertical-align: middle;\n",
       "    }\n",
       "\n",
       "    .dataframe tbody tr th {\n",
       "        vertical-align: top;\n",
       "    }\n",
       "\n",
       "    .dataframe thead th {\n",
       "        text-align: right;\n",
       "    }\n",
       "</style>\n",
       "<table border=\"1\" class=\"dataframe\">\n",
       "  <thead>\n",
       "    <tr style=\"text-align: right;\">\n",
       "      <th></th>\n",
       "      <th>unit</th>\n",
       "      <th>event</th>\n",
       "      <th>bin_1</th>\n",
       "      <th>bin_2</th>\n",
       "      <th>bin_3</th>\n",
       "      <th>bin_4</th>\n",
       "      <th>bin_5</th>\n",
       "      <th>bin_6</th>\n",
       "      <th>bin_7</th>\n",
       "      <th>bin_8</th>\n",
       "      <th>...</th>\n",
       "      <th>bin_91</th>\n",
       "      <th>bin_92</th>\n",
       "      <th>bin_93</th>\n",
       "      <th>bin_94</th>\n",
       "      <th>bin_95</th>\n",
       "      <th>bin_96</th>\n",
       "      <th>bin_97</th>\n",
       "      <th>bin_98</th>\n",
       "      <th>bin_99</th>\n",
       "      <th>bin_100</th>\n",
       "    </tr>\n",
       "  </thead>\n",
       "  <tbody>\n",
       "    <tr>\n",
       "      <th>0</th>\n",
       "      <td>85</td>\n",
       "      <td>1</td>\n",
       "      <td>1</td>\n",
       "      <td>1</td>\n",
       "      <td>0</td>\n",
       "      <td>1</td>\n",
       "      <td>1</td>\n",
       "      <td>1</td>\n",
       "      <td>1</td>\n",
       "      <td>1</td>\n",
       "      <td>...</td>\n",
       "      <td>0</td>\n",
       "      <td>1</td>\n",
       "      <td>0</td>\n",
       "      <td>0</td>\n",
       "      <td>1</td>\n",
       "      <td>1</td>\n",
       "      <td>1</td>\n",
       "      <td>0</td>\n",
       "      <td>1</td>\n",
       "      <td>0</td>\n",
       "    </tr>\n",
       "    <tr>\n",
       "      <th>1</th>\n",
       "      <td>85</td>\n",
       "      <td>2</td>\n",
       "      <td>0</td>\n",
       "      <td>0</td>\n",
       "      <td>1</td>\n",
       "      <td>0</td>\n",
       "      <td>0</td>\n",
       "      <td>0</td>\n",
       "      <td>1</td>\n",
       "      <td>0</td>\n",
       "      <td>...</td>\n",
       "      <td>2</td>\n",
       "      <td>0</td>\n",
       "      <td>1</td>\n",
       "      <td>0</td>\n",
       "      <td>0</td>\n",
       "      <td>0</td>\n",
       "      <td>1</td>\n",
       "      <td>1</td>\n",
       "      <td>0</td>\n",
       "      <td>0</td>\n",
       "    </tr>\n",
       "    <tr>\n",
       "      <th>2</th>\n",
       "      <td>85</td>\n",
       "      <td>3</td>\n",
       "      <td>0</td>\n",
       "      <td>0</td>\n",
       "      <td>0</td>\n",
       "      <td>0</td>\n",
       "      <td>0</td>\n",
       "      <td>0</td>\n",
       "      <td>0</td>\n",
       "      <td>0</td>\n",
       "      <td>...</td>\n",
       "      <td>0</td>\n",
       "      <td>0</td>\n",
       "      <td>0</td>\n",
       "      <td>5</td>\n",
       "      <td>3</td>\n",
       "      <td>0</td>\n",
       "      <td>0</td>\n",
       "      <td>0</td>\n",
       "      <td>1</td>\n",
       "      <td>0</td>\n",
       "    </tr>\n",
       "    <tr>\n",
       "      <th>3</th>\n",
       "      <td>85</td>\n",
       "      <td>4</td>\n",
       "      <td>0</td>\n",
       "      <td>0</td>\n",
       "      <td>0</td>\n",
       "      <td>0</td>\n",
       "      <td>0</td>\n",
       "      <td>0</td>\n",
       "      <td>0</td>\n",
       "      <td>0</td>\n",
       "      <td>...</td>\n",
       "      <td>0</td>\n",
       "      <td>0</td>\n",
       "      <td>0</td>\n",
       "      <td>0</td>\n",
       "      <td>0</td>\n",
       "      <td>0</td>\n",
       "      <td>0</td>\n",
       "      <td>0</td>\n",
       "      <td>0</td>\n",
       "      <td>0</td>\n",
       "    </tr>\n",
       "    <tr>\n",
       "      <th>4</th>\n",
       "      <td>85</td>\n",
       "      <td>5</td>\n",
       "      <td>0</td>\n",
       "      <td>0</td>\n",
       "      <td>0</td>\n",
       "      <td>0</td>\n",
       "      <td>0</td>\n",
       "      <td>0</td>\n",
       "      <td>0</td>\n",
       "      <td>0</td>\n",
       "      <td>...</td>\n",
       "      <td>0</td>\n",
       "      <td>0</td>\n",
       "      <td>0</td>\n",
       "      <td>0</td>\n",
       "      <td>0</td>\n",
       "      <td>0</td>\n",
       "      <td>0</td>\n",
       "      <td>0</td>\n",
       "      <td>0</td>\n",
       "      <td>0</td>\n",
       "    </tr>\n",
       "    <tr>\n",
       "      <th>...</th>\n",
       "      <td>...</td>\n",
       "      <td>...</td>\n",
       "      <td>...</td>\n",
       "      <td>...</td>\n",
       "      <td>...</td>\n",
       "      <td>...</td>\n",
       "      <td>...</td>\n",
       "      <td>...</td>\n",
       "      <td>...</td>\n",
       "      <td>...</td>\n",
       "      <td>...</td>\n",
       "      <td>...</td>\n",
       "      <td>...</td>\n",
       "      <td>...</td>\n",
       "      <td>...</td>\n",
       "      <td>...</td>\n",
       "      <td>...</td>\n",
       "      <td>...</td>\n",
       "      <td>...</td>\n",
       "      <td>...</td>\n",
       "      <td>...</td>\n",
       "    </tr>\n",
       "    <tr>\n",
       "      <th>242</th>\n",
       "      <td>57</td>\n",
       "      <td>9</td>\n",
       "      <td>0</td>\n",
       "      <td>0</td>\n",
       "      <td>0</td>\n",
       "      <td>0</td>\n",
       "      <td>0</td>\n",
       "      <td>0</td>\n",
       "      <td>0</td>\n",
       "      <td>0</td>\n",
       "      <td>...</td>\n",
       "      <td>0</td>\n",
       "      <td>0</td>\n",
       "      <td>0</td>\n",
       "      <td>0</td>\n",
       "      <td>0</td>\n",
       "      <td>0</td>\n",
       "      <td>0</td>\n",
       "      <td>0</td>\n",
       "      <td>0</td>\n",
       "      <td>0</td>\n",
       "    </tr>\n",
       "    <tr>\n",
       "      <th>243</th>\n",
       "      <td>57</td>\n",
       "      <td>10</td>\n",
       "      <td>0</td>\n",
       "      <td>0</td>\n",
       "      <td>0</td>\n",
       "      <td>0</td>\n",
       "      <td>0</td>\n",
       "      <td>0</td>\n",
       "      <td>0</td>\n",
       "      <td>0</td>\n",
       "      <td>...</td>\n",
       "      <td>0</td>\n",
       "      <td>0</td>\n",
       "      <td>0</td>\n",
       "      <td>0</td>\n",
       "      <td>0</td>\n",
       "      <td>0</td>\n",
       "      <td>0</td>\n",
       "      <td>0</td>\n",
       "      <td>0</td>\n",
       "      <td>0</td>\n",
       "    </tr>\n",
       "    <tr>\n",
       "      <th>244</th>\n",
       "      <td>57</td>\n",
       "      <td>11</td>\n",
       "      <td>0</td>\n",
       "      <td>0</td>\n",
       "      <td>0</td>\n",
       "      <td>0</td>\n",
       "      <td>0</td>\n",
       "      <td>0</td>\n",
       "      <td>0</td>\n",
       "      <td>0</td>\n",
       "      <td>...</td>\n",
       "      <td>0</td>\n",
       "      <td>0</td>\n",
       "      <td>0</td>\n",
       "      <td>0</td>\n",
       "      <td>0</td>\n",
       "      <td>0</td>\n",
       "      <td>0</td>\n",
       "      <td>1</td>\n",
       "      <td>0</td>\n",
       "      <td>0</td>\n",
       "    </tr>\n",
       "    <tr>\n",
       "      <th>245</th>\n",
       "      <td>57</td>\n",
       "      <td>12</td>\n",
       "      <td>0</td>\n",
       "      <td>0</td>\n",
       "      <td>0</td>\n",
       "      <td>0</td>\n",
       "      <td>0</td>\n",
       "      <td>0</td>\n",
       "      <td>0</td>\n",
       "      <td>0</td>\n",
       "      <td>...</td>\n",
       "      <td>0</td>\n",
       "      <td>0</td>\n",
       "      <td>0</td>\n",
       "      <td>0</td>\n",
       "      <td>0</td>\n",
       "      <td>0</td>\n",
       "      <td>0</td>\n",
       "      <td>0</td>\n",
       "      <td>0</td>\n",
       "      <td>0</td>\n",
       "    </tr>\n",
       "    <tr>\n",
       "      <th>246</th>\n",
       "      <td>57</td>\n",
       "      <td>13</td>\n",
       "      <td>0</td>\n",
       "      <td>0</td>\n",
       "      <td>0</td>\n",
       "      <td>0</td>\n",
       "      <td>0</td>\n",
       "      <td>0</td>\n",
       "      <td>1</td>\n",
       "      <td>0</td>\n",
       "      <td>...</td>\n",
       "      <td>0</td>\n",
       "      <td>0</td>\n",
       "      <td>0</td>\n",
       "      <td>0</td>\n",
       "      <td>0</td>\n",
       "      <td>0</td>\n",
       "      <td>0</td>\n",
       "      <td>0</td>\n",
       "      <td>0</td>\n",
       "      <td>0</td>\n",
       "    </tr>\n",
       "  </tbody>\n",
       "</table>\n",
       "<p>247 rows × 102 columns</p>\n",
       "</div>"
      ],
      "text/plain": [
       "    unit  event  bin_1  bin_2  bin_3  bin_4  bin_5  bin_6  bin_7  bin_8  ...  \\\n",
       "0     85      1      1      1      0      1      1      1      1      1  ...   \n",
       "1     85      2      0      0      1      0      0      0      1      0  ...   \n",
       "2     85      3      0      0      0      0      0      0      0      0  ...   \n",
       "3     85      4      0      0      0      0      0      0      0      0  ...   \n",
       "4     85      5      0      0      0      0      0      0      0      0  ...   \n",
       "..   ...    ...    ...    ...    ...    ...    ...    ...    ...    ...  ...   \n",
       "242   57      9      0      0      0      0      0      0      0      0  ...   \n",
       "243   57     10      0      0      0      0      0      0      0      0  ...   \n",
       "244   57     11      0      0      0      0      0      0      0      0  ...   \n",
       "245   57     12      0      0      0      0      0      0      0      0  ...   \n",
       "246   57     13      0      0      0      0      0      0      1      0  ...   \n",
       "\n",
       "     bin_91  bin_92  bin_93  bin_94  bin_95  bin_96  bin_97  bin_98  bin_99  \\\n",
       "0         0       1       0       0       1       1       1       0       1   \n",
       "1         2       0       1       0       0       0       1       1       0   \n",
       "2         0       0       0       5       3       0       0       0       1   \n",
       "3         0       0       0       0       0       0       0       0       0   \n",
       "4         0       0       0       0       0       0       0       0       0   \n",
       "..      ...     ...     ...     ...     ...     ...     ...     ...     ...   \n",
       "242       0       0       0       0       0       0       0       0       0   \n",
       "243       0       0       0       0       0       0       0       0       0   \n",
       "244       0       0       0       0       0       0       0       1       0   \n",
       "245       0       0       0       0       0       0       0       0       0   \n",
       "246       0       0       0       0       0       0       0       0       0   \n",
       "\n",
       "     bin_100  \n",
       "0          0  \n",
       "1          0  \n",
       "2          0  \n",
       "3          0  \n",
       "4          0  \n",
       "..       ...  \n",
       "242        0  \n",
       "243        0  \n",
       "244        0  \n",
       "245        0  \n",
       "246        0  \n",
       "\n",
       "[247 rows x 102 columns]"
      ]
     },
     "execution_count": 134,
     "metadata": {},
     "output_type": "execute_result"
    }
   ],
   "source": [
    "def create_spiketrain_df(recording_event_spiketrains):\n",
    "  data = []\n",
    "  for unit, spiketrain_list in recording_event_spiketrains.items():\n",
    "    for i, spiketrain in enumerate(spiketrain_list):\n",
    "      row_data = [str(unit), i+1]\n",
    "      row_data.extend(spiketrain)\n",
    "      data.append(row_data)\n",
    "  df = pd.DataFrame(data, columns=[\"unit\", \"event\"] + [f\"bin_{i+1}\" for i in range(len(spiketrain_list[0]))])\n",
    "  return df\n",
    "\n",
    "spiketrain_df = create_spiketrain_df(recording_event_spiketrains)\n",
    "spiketrain_df"
   ]
  },
  {
   "cell_type": "code",
   "execution_count": 135,
   "id": "e5655508-31ba-4716-93e4-4a08bdafc652",
   "metadata": {
    "execution": {
     "iopub.execute_input": "2024-07-11T19:06:57.278352Z",
     "iopub.status.busy": "2024-07-11T19:06:57.277351Z",
     "iopub.status.idle": "2024-07-11T19:06:57.303356Z",
     "shell.execute_reply": "2024-07-11T19:06:57.301357Z",
     "shell.execute_reply.started": "2024-07-11T19:06:57.278352Z"
    }
   },
   "outputs": [
    {
     "data": {
      "text/plain": [
       "{'20230612_101430_standard_comp_to_training_D1_subj_1-3_t3b3L_box2_merged.rec': <multirecording_spikeanalysis_edit.EphysRecording at 0x2708d6bc970>,\n",
       " '20230617_115521_standard_comp_to_omission_D1_subj_1-1_t1b3L_box1_merged.rec': <multirecording_spikeanalysis_edit.EphysRecording at 0x2708d6bd330>,\n",
       " '20230622_110832_standard_comp_to_both_rewarded_D1_subj_1-1_t1b3L_box1_merged.rec': <multirecording_spikeanalysis_edit.EphysRecording at 0x2709743fca0>,\n",
       " '20230622_110832_standard_comp_to_both_rewarded_D1_subj_1-2_t3b3L_box1_merged.rec': <multirecording_spikeanalysis_edit.EphysRecording at 0x2709743faf0>}"
      ]
     },
     "execution_count": 135,
     "metadata": {},
     "output_type": "execute_result"
    }
   ],
   "source": [
    "recordings"
   ]
  },
  {
   "cell_type": "code",
   "execution_count": 136,
   "id": "726420b3-632d-4c4b-9631-ffd67206df9a",
   "metadata": {
    "execution": {
     "iopub.execute_input": "2024-07-11T19:06:57.308389Z",
     "iopub.status.busy": "2024-07-11T19:06:57.306361Z",
     "iopub.status.idle": "2024-07-11T19:06:57.334907Z",
     "shell.execute_reply": "2024-07-11T19:06:57.332912Z",
     "shell.execute_reply.started": "2024-07-11T19:06:57.308389Z"
    }
   },
   "outputs": [
    {
     "name": "stdout",
     "output_type": "stream",
     "text": [
      "20230612_101430_standard_comp_to_training_D1_subj_1-3_t3b3L_box2_merged.rec\n",
      "20230617_115521_standard_comp_to_omission_D1_subj_1-1_t1b3L_box1_merged.rec\n",
      "20230622_110832_standard_comp_to_both_rewarded_D1_subj_1-1_t1b3L_box1_merged.rec\n",
      "20230622_110832_standard_comp_to_both_rewarded_D1_subj_1-2_t3b3L_box1_merged.rec\n"
     ]
    }
   ],
   "source": [
    "for key in recordings:\n",
    "    print (key)"
   ]
  },
  {
   "cell_type": "code",
   "execution_count": 137,
   "id": "5edf1349-76b7-42cc-bef8-2195ce5fe4fa",
   "metadata": {
    "execution": {
     "iopub.execute_input": "2024-07-11T19:06:57.338920Z",
     "iopub.status.busy": "2024-07-11T19:06:57.337913Z",
     "iopub.status.idle": "2024-07-11T19:06:57.350915Z",
     "shell.execute_reply": "2024-07-11T19:06:57.348913Z",
     "shell.execute_reply.started": "2024-07-11T19:06:57.338920Z"
    }
   },
   "outputs": [
    {
     "name": "stdout",
     "output_type": "stream",
     "text": [
      "20230612_101430_standard_comp_to_training_D1_subj_1-3_t3b3L_box2_merged.rec\n",
      "20230617_115521_standard_comp_to_omission_D1_subj_1-1_t1b3L_box1_merged.rec\n",
      "20230622_110832_standard_comp_to_both_rewarded_D1_subj_1-1_t1b3L_box1_merged.rec\n",
      "20230622_110832_standard_comp_to_both_rewarded_D1_subj_1-2_t3b3L_box1_merged.rec\n"
     ]
    }
   ],
   "source": [
    "for i in recordings:\n",
    "    print (i)"
   ]
  },
  {
   "cell_type": "code",
   "execution_count": 138,
   "id": "69ef505a-6e85-4f1c-9732-1a82dbb6646a",
   "metadata": {
    "execution": {
     "iopub.execute_input": "2024-07-11T19:06:57.354916Z",
     "iopub.status.busy": "2024-07-11T19:06:57.353913Z",
     "iopub.status.idle": "2024-07-11T19:06:57.382912Z",
     "shell.execute_reply": "2024-07-11T19:06:57.380908Z",
     "shell.execute_reply.started": "2024-07-11T19:06:57.354916Z"
    }
   },
   "outputs": [
    {
     "data": {
      "text/plain": [
       "{'rewarded': array([[1849109, 1859109],\n",
       "        [1909109, 1919109],\n",
       "        [1964109, 1974109],\n",
       "        [2029109, 2039109],\n",
       "        [2084109, 2094109],\n",
       "        [2134109, 2144109],\n",
       "        [2184109, 2194109],\n",
       "        [2289109, 2299109],\n",
       "        [2409109, 2419109],\n",
       "        [2529109, 2539109],\n",
       "        [2639109, 2649109],\n",
       "        [2724109, 2734109],\n",
       "        [2844109, 2854109],\n",
       "        [2904109, 2914109],\n",
       "        [2969109, 2979109],\n",
       "        [3029109, 3039109],\n",
       "        [3104108, 3114109],\n",
       "        [3204108, 3214109],\n",
       "        [3299108, 3309108],\n",
       "        [3349108, 3359108]]),\n",
       " 'win': array([[ 169111,  179111],\n",
       "        [ 479111,  489111],\n",
       "        [ 649110,  659110],\n",
       "        [ 754110,  764110],\n",
       "        [ 804110,  814110],\n",
       "        [ 884110,  894110],\n",
       "        [ 949110,  959110],\n",
       "        [1014110, 1024110],\n",
       "        [1134110, 1144110],\n",
       "        [1309110, 1319110],\n",
       "        [1379110, 1389110],\n",
       "        [1489110, 1499110],\n",
       "        [1549110, 1559110]]),\n",
       " 'lose': array([[  49111,   59111],\n",
       "        [ 284111,  294111],\n",
       "        [ 374111,  384111],\n",
       "        [ 429111,  439111],\n",
       "        [ 574111,  584111],\n",
       "        [1064110, 1074110],\n",
       "        [1229110, 1239110]]),\n",
       " 'omission': array([], dtype=int64),\n",
       " 'both_rewarded': array([], dtype=int64),\n",
       " 'tie': array([], dtype=int64)}"
      ]
     },
     "execution_count": 138,
     "metadata": {},
     "output_type": "execute_result"
    }
   ],
   "source": [
    "recording1.event_dict"
   ]
  },
  {
   "cell_type": "code",
   "execution_count": 139,
   "id": "349a41a0-cf7d-4040-b2b0-b8039f607b5d",
   "metadata": {
    "execution": {
     "iopub.execute_input": "2024-07-11T19:06:57.386914Z",
     "iopub.status.busy": "2024-07-11T19:06:57.385911Z",
     "iopub.status.idle": "2024-07-11T19:06:57.397916Z",
     "shell.execute_reply": "2024-07-11T19:06:57.396911Z",
     "shell.execute_reply.started": "2024-07-11T19:06:57.385911Z"
    }
   },
   "outputs": [
    {
     "name": "stdout",
     "output_type": "stream",
     "text": [
      "rewarded\n",
      "win\n",
      "lose\n",
      "omission\n",
      "both_rewarded\n",
      "tie\n"
     ]
    }
   ],
   "source": [
    "for (event_name, event_array) in recording1.event_dict.items():\n",
    "    print (event_name)"
   ]
  },
  {
   "cell_type": "code",
   "execution_count": 140,
   "id": "fb5b933a-b4dd-48d1-8399-5c6c3186f8b1",
   "metadata": {
    "execution": {
     "iopub.execute_input": "2024-07-11T19:06:57.402915Z",
     "iopub.status.busy": "2024-07-11T19:06:57.401913Z",
     "iopub.status.idle": "2024-07-11T19:07:12.996725Z",
     "shell.execute_reply": "2024-07-11T19:07:12.996725Z",
     "shell.execute_reply.started": "2024-07-11T19:06:57.402915Z"
    }
   },
   "outputs": [
    {
     "name": "stdout",
     "output_type": "stream",
     "text": [
      "<class 'numpy.ndarray'>\n",
      "20230612_101430_standard_comp_to_training_D1_subj_1-3_t3b3L_box2_merged.rec\n",
      "<class 'numpy.ndarray'>\n",
      "20230617_115521_standard_comp_to_omission_D1_subj_1-1_t1b3L_box1_merged.rec\n",
      "<class 'numpy.ndarray'>\n",
      "Unit 92 is unsorted & has 2494 spikes\n",
      "Unit 92 will be deleted\n",
      "20230622_110832_standard_comp_to_both_rewarded_D1_subj_1-1_t1b3L_box1_merged.rec\n",
      "<class 'numpy.ndarray'>\n",
      "Unit 103 is unsorted & has 512 spikes\n",
      "Unit 103 will be deleted\n",
      "20230622_110832_standard_comp_to_both_rewarded_D1_subj_1-2_t3b3L_box1_merged.rec\n",
      "Please assign event dictionaries to each recording\n",
      "as recording.event_dict\n",
      "event_dict = {event name(str): np.array[[start(ms), stop(ms)]...]\n",
      "Please assign subjects to each recording as recording.subject\n"
     ]
    }
   ],
   "source": [
    "import multirecording_spikeanalysis_edit2 as spike\n",
    "\n",
    "# It takes several steps to create the timestamp_dicts, refer to Ephys_Analysis_Notebook to create\n",
    "timestamp_dicts = pickle.load(open('timestamp_dicts.pkl', 'rb'))\n",
    "\n",
    "# Construct the path in a platform-independent way (HiPerGator or Windows)\n",
    "ephys_path = Path('.') / 'recordings' / 'updated_phys' / 'test'\n",
    "\n",
    "ephys_data = spike.EphysRecordingCollection(str(ephys_path))"
   ]
  },
  {
   "cell_type": "code",
   "execution_count": 141,
   "id": "8a14975b-1c8a-4053-a63b-b68dfcf56644",
   "metadata": {
    "execution": {
     "iopub.execute_input": "2024-07-11T19:07:12.996725Z",
     "iopub.status.busy": "2024-07-11T19:07:12.996725Z",
     "iopub.status.idle": "2024-07-11T19:07:13.687262Z",
     "shell.execute_reply": "2024-07-11T19:07:13.687262Z",
     "shell.execute_reply.started": "2024-07-11T19:07:12.996725Z"
    }
   },
   "outputs": [
    {
     "name": "stdout",
     "output_type": "stream",
     "text": [
      "All set to analyze\n"
     ]
    }
   ],
   "source": [
    "for recording in ephys_data.collection.keys():\n",
    "    # Check if the recording key (without everything after subject #) is in timestamp_dicts\n",
    "    start_pos = recording.find('subj_')\n",
    "    # Add the length of 'subj_' and 3 additional characters to include after 'subj_'\n",
    "    end_pos = start_pos + len('subj_') + 3\n",
    "    # Slice the recording key to get everything up to and including the subject identifier plus three characters\n",
    "    recording_key_without_suffix = recording[:end_pos]\n",
    "    if recording_key_without_suffix in timestamp_dicts:\n",
    "        # Assign the corresponding timestamp_dicts dictionary to event_dict\n",
    "        ephys_data.collection[recording].event_dict = timestamp_dicts[recording_key_without_suffix]\n",
    "        \n",
    "        # Extract the subject from the recording key\n",
    "        start = recording.find('subj_') + 5  # Start index after 'subj_'\n",
    "        subject = recording[start:start+3]\n",
    "        \n",
    "        # Assign the extracted subject\n",
    "        ephys_data.collection[recording].subject = subject\n",
    "        \n",
    "spike_analysis = spike.SpikeAnalysis_MultiRecording(ephys_data, timebin = 100, ignore_freq = 0.5)"
   ]
  },
  {
   "cell_type": "code",
   "execution_count": 142,
   "id": "c69470ff-43a6-4c61-85c0-40a752d82390",
   "metadata": {
    "execution": {
     "iopub.execute_input": "2024-07-11T19:07:13.687262Z",
     "iopub.status.busy": "2024-07-11T19:07:13.687262Z",
     "iopub.status.idle": "2024-07-11T19:07:13.938525Z",
     "shell.execute_reply": "2024-07-11T19:07:13.938525Z",
     "shell.execute_reply.started": "2024-07-11T19:07:13.687262Z"
    }
   },
   "outputs": [],
   "source": [
    "event_df = spike_analysis.create_spiketrain_df()"
   ]
  },
  {
   "cell_type": "code",
   "execution_count": 143,
   "id": "7a3d25b1-9aee-402e-b9fc-0bd2f9d76833",
   "metadata": {
    "execution": {
     "iopub.execute_input": "2024-07-11T19:07:13.938525Z",
     "iopub.status.busy": "2024-07-11T19:07:13.938525Z",
     "iopub.status.idle": "2024-07-11T19:07:14.016678Z",
     "shell.execute_reply": "2024-07-11T19:07:14.016678Z",
     "shell.execute_reply.started": "2024-07-11T19:07:13.938525Z"
    }
   },
   "outputs": [
    {
     "data": {
      "text/html": [
       "<div>\n",
       "<style scoped>\n",
       "    .dataframe tbody tr th:only-of-type {\n",
       "        vertical-align: middle;\n",
       "    }\n",
       "\n",
       "    .dataframe tbody tr th {\n",
       "        vertical-align: top;\n",
       "    }\n",
       "\n",
       "    .dataframe thead th {\n",
       "        text-align: right;\n",
       "    }\n",
       "</style>\n",
       "<table border=\"1\" class=\"dataframe\">\n",
       "  <thead>\n",
       "    <tr style=\"text-align: right;\">\n",
       "      <th></th>\n",
       "      <th>Recording</th>\n",
       "      <th>Event name</th>\n",
       "      <th>Event number</th>\n",
       "      <th>Unit number</th>\n",
       "      <th>bin_1</th>\n",
       "      <th>bin_2</th>\n",
       "      <th>bin_3</th>\n",
       "      <th>bin_4</th>\n",
       "      <th>bin_5</th>\n",
       "      <th>bin_6</th>\n",
       "      <th>...</th>\n",
       "      <th>bin_91</th>\n",
       "      <th>bin_92</th>\n",
       "      <th>bin_93</th>\n",
       "      <th>bin_94</th>\n",
       "      <th>bin_95</th>\n",
       "      <th>bin_96</th>\n",
       "      <th>bin_97</th>\n",
       "      <th>bin_98</th>\n",
       "      <th>bin_99</th>\n",
       "      <th>bin_100</th>\n",
       "    </tr>\n",
       "  </thead>\n",
       "  <tbody>\n",
       "    <tr>\n",
       "      <th>0</th>\n",
       "      <td>20230612_101430_standard_comp_to_training_D1_s...</td>\n",
       "      <td>rewarded</td>\n",
       "      <td>1</td>\n",
       "      <td>85</td>\n",
       "      <td>0.0</td>\n",
       "      <td>0.0</td>\n",
       "      <td>0.0</td>\n",
       "      <td>0.0</td>\n",
       "      <td>0.0</td>\n",
       "      <td>0.0</td>\n",
       "      <td>...</td>\n",
       "      <td>0.0</td>\n",
       "      <td>0.0</td>\n",
       "      <td>0.0</td>\n",
       "      <td>0.0</td>\n",
       "      <td>0.0</td>\n",
       "      <td>0.0</td>\n",
       "      <td>0.0</td>\n",
       "      <td>0.0</td>\n",
       "      <td>0.0</td>\n",
       "      <td>NaN</td>\n",
       "    </tr>\n",
       "    <tr>\n",
       "      <th>1</th>\n",
       "      <td>20230612_101430_standard_comp_to_training_D1_s...</td>\n",
       "      <td>rewarded</td>\n",
       "      <td>2</td>\n",
       "      <td>85</td>\n",
       "      <td>0.0</td>\n",
       "      <td>0.0</td>\n",
       "      <td>0.0</td>\n",
       "      <td>0.0</td>\n",
       "      <td>0.0</td>\n",
       "      <td>0.0</td>\n",
       "      <td>...</td>\n",
       "      <td>0.0</td>\n",
       "      <td>0.0</td>\n",
       "      <td>0.0</td>\n",
       "      <td>0.0</td>\n",
       "      <td>0.0</td>\n",
       "      <td>0.0</td>\n",
       "      <td>0.0</td>\n",
       "      <td>0.0</td>\n",
       "      <td>0.0</td>\n",
       "      <td>NaN</td>\n",
       "    </tr>\n",
       "    <tr>\n",
       "      <th>2</th>\n",
       "      <td>20230612_101430_standard_comp_to_training_D1_s...</td>\n",
       "      <td>rewarded</td>\n",
       "      <td>3</td>\n",
       "      <td>85</td>\n",
       "      <td>0.0</td>\n",
       "      <td>0.0</td>\n",
       "      <td>0.0</td>\n",
       "      <td>0.0</td>\n",
       "      <td>0.0</td>\n",
       "      <td>0.0</td>\n",
       "      <td>...</td>\n",
       "      <td>0.0</td>\n",
       "      <td>0.0</td>\n",
       "      <td>0.0</td>\n",
       "      <td>0.0</td>\n",
       "      <td>0.0</td>\n",
       "      <td>0.0</td>\n",
       "      <td>0.0</td>\n",
       "      <td>0.0</td>\n",
       "      <td>0.0</td>\n",
       "      <td>NaN</td>\n",
       "    </tr>\n",
       "    <tr>\n",
       "      <th>3</th>\n",
       "      <td>20230612_101430_standard_comp_to_training_D1_s...</td>\n",
       "      <td>rewarded</td>\n",
       "      <td>4</td>\n",
       "      <td>85</td>\n",
       "      <td>0.0</td>\n",
       "      <td>0.0</td>\n",
       "      <td>0.0</td>\n",
       "      <td>0.0</td>\n",
       "      <td>0.0</td>\n",
       "      <td>0.0</td>\n",
       "      <td>...</td>\n",
       "      <td>0.0</td>\n",
       "      <td>1.0</td>\n",
       "      <td>0.0</td>\n",
       "      <td>0.0</td>\n",
       "      <td>0.0</td>\n",
       "      <td>0.0</td>\n",
       "      <td>0.0</td>\n",
       "      <td>0.0</td>\n",
       "      <td>0.0</td>\n",
       "      <td>NaN</td>\n",
       "    </tr>\n",
       "    <tr>\n",
       "      <th>4</th>\n",
       "      <td>20230612_101430_standard_comp_to_training_D1_s...</td>\n",
       "      <td>rewarded</td>\n",
       "      <td>5</td>\n",
       "      <td>85</td>\n",
       "      <td>0.0</td>\n",
       "      <td>0.0</td>\n",
       "      <td>0.0</td>\n",
       "      <td>0.0</td>\n",
       "      <td>0.0</td>\n",
       "      <td>0.0</td>\n",
       "      <td>...</td>\n",
       "      <td>0.0</td>\n",
       "      <td>0.0</td>\n",
       "      <td>0.0</td>\n",
       "      <td>0.0</td>\n",
       "      <td>0.0</td>\n",
       "      <td>0.0</td>\n",
       "      <td>0.0</td>\n",
       "      <td>0.0</td>\n",
       "      <td>0.0</td>\n",
       "      <td>NaN</td>\n",
       "    </tr>\n",
       "    <tr>\n",
       "      <th>...</th>\n",
       "      <td>...</td>\n",
       "      <td>...</td>\n",
       "      <td>...</td>\n",
       "      <td>...</td>\n",
       "      <td>...</td>\n",
       "      <td>...</td>\n",
       "      <td>...</td>\n",
       "      <td>...</td>\n",
       "      <td>...</td>\n",
       "      <td>...</td>\n",
       "      <td>...</td>\n",
       "      <td>...</td>\n",
       "      <td>...</td>\n",
       "      <td>...</td>\n",
       "      <td>...</td>\n",
       "      <td>...</td>\n",
       "      <td>...</td>\n",
       "      <td>...</td>\n",
       "      <td>...</td>\n",
       "      <td>...</td>\n",
       "      <td>...</td>\n",
       "    </tr>\n",
       "    <tr>\n",
       "      <th>2712</th>\n",
       "      <td>20230622_110832_standard_comp_to_both_rewarded...</td>\n",
       "      <td>both_rewarded</td>\n",
       "      <td>16</td>\n",
       "      <td>15</td>\n",
       "      <td>0.0</td>\n",
       "      <td>0.0</td>\n",
       "      <td>0.0</td>\n",
       "      <td>0.0</td>\n",
       "      <td>0.0</td>\n",
       "      <td>0.0</td>\n",
       "      <td>...</td>\n",
       "      <td>0.0</td>\n",
       "      <td>0.0</td>\n",
       "      <td>0.0</td>\n",
       "      <td>0.0</td>\n",
       "      <td>0.0</td>\n",
       "      <td>0.0</td>\n",
       "      <td>0.0</td>\n",
       "      <td>0.0</td>\n",
       "      <td>0.0</td>\n",
       "      <td>NaN</td>\n",
       "    </tr>\n",
       "    <tr>\n",
       "      <th>2713</th>\n",
       "      <td>20230622_110832_standard_comp_to_both_rewarded...</td>\n",
       "      <td>both_rewarded</td>\n",
       "      <td>17</td>\n",
       "      <td>15</td>\n",
       "      <td>0.0</td>\n",
       "      <td>0.0</td>\n",
       "      <td>0.0</td>\n",
       "      <td>0.0</td>\n",
       "      <td>0.0</td>\n",
       "      <td>0.0</td>\n",
       "      <td>...</td>\n",
       "      <td>0.0</td>\n",
       "      <td>0.0</td>\n",
       "      <td>0.0</td>\n",
       "      <td>0.0</td>\n",
       "      <td>0.0</td>\n",
       "      <td>0.0</td>\n",
       "      <td>0.0</td>\n",
       "      <td>0.0</td>\n",
       "      <td>0.0</td>\n",
       "      <td>0.0</td>\n",
       "    </tr>\n",
       "    <tr>\n",
       "      <th>2714</th>\n",
       "      <td>20230622_110832_standard_comp_to_both_rewarded...</td>\n",
       "      <td>both_rewarded</td>\n",
       "      <td>18</td>\n",
       "      <td>15</td>\n",
       "      <td>1.0</td>\n",
       "      <td>0.0</td>\n",
       "      <td>0.0</td>\n",
       "      <td>0.0</td>\n",
       "      <td>0.0</td>\n",
       "      <td>0.0</td>\n",
       "      <td>...</td>\n",
       "      <td>0.0</td>\n",
       "      <td>0.0</td>\n",
       "      <td>0.0</td>\n",
       "      <td>0.0</td>\n",
       "      <td>0.0</td>\n",
       "      <td>0.0</td>\n",
       "      <td>0.0</td>\n",
       "      <td>0.0</td>\n",
       "      <td>0.0</td>\n",
       "      <td>NaN</td>\n",
       "    </tr>\n",
       "    <tr>\n",
       "      <th>2715</th>\n",
       "      <td>20230622_110832_standard_comp_to_both_rewarded...</td>\n",
       "      <td>both_rewarded</td>\n",
       "      <td>19</td>\n",
       "      <td>15</td>\n",
       "      <td>0.0</td>\n",
       "      <td>0.0</td>\n",
       "      <td>0.0</td>\n",
       "      <td>0.0</td>\n",
       "      <td>0.0</td>\n",
       "      <td>0.0</td>\n",
       "      <td>...</td>\n",
       "      <td>0.0</td>\n",
       "      <td>0.0</td>\n",
       "      <td>0.0</td>\n",
       "      <td>0.0</td>\n",
       "      <td>0.0</td>\n",
       "      <td>0.0</td>\n",
       "      <td>0.0</td>\n",
       "      <td>0.0</td>\n",
       "      <td>0.0</td>\n",
       "      <td>NaN</td>\n",
       "    </tr>\n",
       "    <tr>\n",
       "      <th>2716</th>\n",
       "      <td>20230622_110832_standard_comp_to_both_rewarded...</td>\n",
       "      <td>both_rewarded</td>\n",
       "      <td>20</td>\n",
       "      <td>15</td>\n",
       "      <td>0.0</td>\n",
       "      <td>0.0</td>\n",
       "      <td>0.0</td>\n",
       "      <td>0.0</td>\n",
       "      <td>0.0</td>\n",
       "      <td>1.0</td>\n",
       "      <td>...</td>\n",
       "      <td>0.0</td>\n",
       "      <td>0.0</td>\n",
       "      <td>0.0</td>\n",
       "      <td>0.0</td>\n",
       "      <td>0.0</td>\n",
       "      <td>0.0</td>\n",
       "      <td>0.0</td>\n",
       "      <td>0.0</td>\n",
       "      <td>0.0</td>\n",
       "      <td>NaN</td>\n",
       "    </tr>\n",
       "  </tbody>\n",
       "</table>\n",
       "<p>2717 rows × 104 columns</p>\n",
       "</div>"
      ],
      "text/plain": [
       "                                              Recording     Event name  \\\n",
       "0     20230612_101430_standard_comp_to_training_D1_s...       rewarded   \n",
       "1     20230612_101430_standard_comp_to_training_D1_s...       rewarded   \n",
       "2     20230612_101430_standard_comp_to_training_D1_s...       rewarded   \n",
       "3     20230612_101430_standard_comp_to_training_D1_s...       rewarded   \n",
       "4     20230612_101430_standard_comp_to_training_D1_s...       rewarded   \n",
       "...                                                 ...            ...   \n",
       "2712  20230622_110832_standard_comp_to_both_rewarded...  both_rewarded   \n",
       "2713  20230622_110832_standard_comp_to_both_rewarded...  both_rewarded   \n",
       "2714  20230622_110832_standard_comp_to_both_rewarded...  both_rewarded   \n",
       "2715  20230622_110832_standard_comp_to_both_rewarded...  both_rewarded   \n",
       "2716  20230622_110832_standard_comp_to_both_rewarded...  both_rewarded   \n",
       "\n",
       "      Event number  Unit number  bin_1  bin_2  bin_3  bin_4  bin_5  bin_6  \\\n",
       "0                1           85    0.0    0.0    0.0    0.0    0.0    0.0   \n",
       "1                2           85    0.0    0.0    0.0    0.0    0.0    0.0   \n",
       "2                3           85    0.0    0.0    0.0    0.0    0.0    0.0   \n",
       "3                4           85    0.0    0.0    0.0    0.0    0.0    0.0   \n",
       "4                5           85    0.0    0.0    0.0    0.0    0.0    0.0   \n",
       "...            ...          ...    ...    ...    ...    ...    ...    ...   \n",
       "2712            16           15    0.0    0.0    0.0    0.0    0.0    0.0   \n",
       "2713            17           15    0.0    0.0    0.0    0.0    0.0    0.0   \n",
       "2714            18           15    1.0    0.0    0.0    0.0    0.0    0.0   \n",
       "2715            19           15    0.0    0.0    0.0    0.0    0.0    0.0   \n",
       "2716            20           15    0.0    0.0    0.0    0.0    0.0    1.0   \n",
       "\n",
       "      ...  bin_91  bin_92  bin_93  bin_94  bin_95  bin_96  bin_97  bin_98  \\\n",
       "0     ...     0.0     0.0     0.0     0.0     0.0     0.0     0.0     0.0   \n",
       "1     ...     0.0     0.0     0.0     0.0     0.0     0.0     0.0     0.0   \n",
       "2     ...     0.0     0.0     0.0     0.0     0.0     0.0     0.0     0.0   \n",
       "3     ...     0.0     1.0     0.0     0.0     0.0     0.0     0.0     0.0   \n",
       "4     ...     0.0     0.0     0.0     0.0     0.0     0.0     0.0     0.0   \n",
       "...   ...     ...     ...     ...     ...     ...     ...     ...     ...   \n",
       "2712  ...     0.0     0.0     0.0     0.0     0.0     0.0     0.0     0.0   \n",
       "2713  ...     0.0     0.0     0.0     0.0     0.0     0.0     0.0     0.0   \n",
       "2714  ...     0.0     0.0     0.0     0.0     0.0     0.0     0.0     0.0   \n",
       "2715  ...     0.0     0.0     0.0     0.0     0.0     0.0     0.0     0.0   \n",
       "2716  ...     0.0     0.0     0.0     0.0     0.0     0.0     0.0     0.0   \n",
       "\n",
       "      bin_99  bin_100  \n",
       "0        0.0      NaN  \n",
       "1        0.0      NaN  \n",
       "2        0.0      NaN  \n",
       "3        0.0      NaN  \n",
       "4        0.0      NaN  \n",
       "...      ...      ...  \n",
       "2712     0.0      NaN  \n",
       "2713     0.0      0.0  \n",
       "2714     0.0      NaN  \n",
       "2715     0.0      NaN  \n",
       "2716     0.0      NaN  \n",
       "\n",
       "[2717 rows x 104 columns]"
      ]
     },
     "execution_count": 143,
     "metadata": {},
     "output_type": "execute_result"
    }
   ],
   "source": [
    "event_df"
   ]
  },
  {
   "cell_type": "code",
   "execution_count": 144,
   "id": "013b53e7-4592-43fa-9ca8-1d5bf31a560f",
   "metadata": {
    "execution": {
     "iopub.execute_input": "2024-07-11T19:07:14.016678Z",
     "iopub.status.busy": "2024-07-11T19:07:14.016678Z",
     "iopub.status.idle": "2024-07-11T19:07:14.048341Z",
     "shell.execute_reply": "2024-07-11T19:07:14.048341Z",
     "shell.execute_reply.started": "2024-07-11T19:07:14.016678Z"
    }
   },
   "outputs": [
    {
     "data": {
      "text/plain": [
       "bin_100\n",
       "0.0    33\n",
       "1.0     6\n",
       "4.0     1\n",
       "Name: count, dtype: int64"
      ]
     },
     "execution_count": 144,
     "metadata": {},
     "output_type": "execute_result"
    }
   ],
   "source": [
    "event_df['bin_100'].value_counts()"
   ]
  },
  {
   "cell_type": "code",
   "execution_count": 145,
   "id": "2bc12843-1bfd-4386-b449-9558afd73dc7",
   "metadata": {
    "execution": {
     "iopub.execute_input": "2024-07-11T19:07:14.048341Z",
     "iopub.status.busy": "2024-07-11T19:07:14.048341Z",
     "iopub.status.idle": "2024-07-11T19:07:14.079614Z",
     "shell.execute_reply": "2024-07-11T19:07:14.079614Z",
     "shell.execute_reply.started": "2024-07-11T19:07:14.048341Z"
    }
   },
   "outputs": [
    {
     "data": {
      "text/plain": [
       "bin_99\n",
       "0.0    2089\n",
       "1.0     444\n",
       "2.0     100\n",
       "3.0      25\n",
       "4.0       8\n",
       "5.0       6\n",
       "6.0       4\n",
       "7.0       1\n",
       "8.0       1\n",
       "Name: count, dtype: int64"
      ]
     },
     "execution_count": 145,
     "metadata": {},
     "output_type": "execute_result"
    }
   ],
   "source": [
    "event_df['bin_99'].value_counts()"
   ]
  },
  {
   "cell_type": "code",
   "execution_count": 146,
   "id": "fdc692f0-1728-4c1a-a79d-a596ffc33742",
   "metadata": {
    "execution": {
     "iopub.execute_input": "2024-07-11T19:07:14.079614Z",
     "iopub.status.busy": "2024-07-11T19:07:14.079614Z",
     "iopub.status.idle": "2024-07-11T19:07:14.110858Z",
     "shell.execute_reply": "2024-07-11T19:07:14.110858Z",
     "shell.execute_reply.started": "2024-07-11T19:07:14.079614Z"
    }
   },
   "outputs": [
    {
     "data": {
      "text/plain": [
       "Recording          0\n",
       "Event name         0\n",
       "Event number       0\n",
       "Unit number        0\n",
       "bin_1             39\n",
       "                ... \n",
       "bin_96            39\n",
       "bin_97            39\n",
       "bin_98            39\n",
       "bin_99            39\n",
       "bin_100         2677\n",
       "Length: 104, dtype: int64"
      ]
     },
     "execution_count": 146,
     "metadata": {},
     "output_type": "execute_result"
    }
   ],
   "source": [
    "event_df.isna().sum()"
   ]
  },
  {
   "cell_type": "code",
   "execution_count": 147,
   "id": "83e3f475-cf22-43b9-b2f0-c72fecda05ea",
   "metadata": {
    "execution": {
     "iopub.execute_input": "2024-07-11T19:07:14.110858Z",
     "iopub.status.busy": "2024-07-11T19:07:14.110858Z",
     "iopub.status.idle": "2024-07-11T19:07:28.393825Z",
     "shell.execute_reply": "2024-07-11T19:07:28.391818Z",
     "shell.execute_reply.started": "2024-07-11T19:07:14.110858Z"
    }
   },
   "outputs": [
    {
     "name": "stdout",
     "output_type": "stream",
     "text": [
      "<class 'numpy.ndarray'>\n",
      "20230612_101430_standard_comp_to_training_D1_subj_1-3_t3b3L_box2_merged.rec\n",
      "<class 'numpy.ndarray'>\n",
      "20230617_115521_standard_comp_to_omission_D1_subj_1-1_t1b3L_box1_merged.rec\n",
      "<class 'numpy.ndarray'>\n",
      "Unit 92 is unsorted & has 2494 spikes\n",
      "Unit 92 will be deleted\n",
      "20230622_110832_standard_comp_to_both_rewarded_D1_subj_1-1_t1b3L_box1_merged.rec\n",
      "<class 'numpy.ndarray'>\n",
      "Unit 103 is unsorted & has 512 spikes\n",
      "Unit 103 will be deleted\n",
      "20230622_110832_standard_comp_to_both_rewarded_D1_subj_1-2_t3b3L_box1_merged.rec\n",
      "Please assign event dictionaries to each recording\n",
      "as recording.event_dict\n",
      "event_dict = {event name(str): np.array[[start(ms), stop(ms)]...]\n",
      "Please assign subjects to each recording as recording.subject\n"
     ]
    }
   ],
   "source": [
    "import multirecording_spikeanalysis_edit4 as spike\n",
    "\n",
    "# It takes several steps to create the timestamp_dicts, refer to Ephys_Analysis_Notebook to create\n",
    "timestamp_dicts = pickle.load(open('timestamp_dicts.pkl', 'rb'))\n",
    "\n",
    "# Construct the path in a platform-independent way (HiPerGator or Windows)\n",
    "ephys_path = Path('.') / 'recordings' / 'updated_phys' / 'test'\n",
    "\n",
    "ephys_data = spike.EphysRecordingCollection(str(ephys_path))"
   ]
  },
  {
   "cell_type": "code",
   "execution_count": 148,
   "id": "4c6e5d91-114e-466b-b756-f74f48caa30a",
   "metadata": {
    "execution": {
     "iopub.execute_input": "2024-07-11T19:07:28.397823Z",
     "iopub.status.busy": "2024-07-11T19:07:28.396821Z",
     "iopub.status.idle": "2024-07-11T19:07:29.265450Z",
     "shell.execute_reply": "2024-07-11T19:07:29.263422Z",
     "shell.execute_reply.started": "2024-07-11T19:07:28.397823Z"
    }
   },
   "outputs": [
    {
     "name": "stdout",
     "output_type": "stream",
     "text": [
      "All set to analyze\n"
     ]
    }
   ],
   "source": [
    "for recording in ephys_data.collection.keys():\n",
    "    # Check if the recording key (without everything after subject #) is in timestamp_dicts\n",
    "    start_pos = recording.find('subj_')\n",
    "    # Add the length of 'subj_' and 3 additional characters to include after 'subj_'\n",
    "    end_pos = start_pos + len('subj_') + 3\n",
    "    # Slice the recording key to get everything up to and including the subject identifier plus three characters\n",
    "    recording_key_without_suffix = recording[:end_pos]\n",
    "    if recording_key_without_suffix in timestamp_dicts:\n",
    "        # Assign the corresponding timestamp_dicts dictionary to event_dict\n",
    "        ephys_data.collection[recording].event_dict = timestamp_dicts[recording_key_without_suffix]\n",
    "        \n",
    "        # Extract the subject from the recording key\n",
    "        start = recording.find('subj_') + 5  # Start index after 'subj_'\n",
    "        subject = recording[start:start+3]\n",
    "        \n",
    "        # Assign the extracted subject\n",
    "        ephys_data.collection[recording].subject = subject\n",
    "        \n",
    "spike_analysis = spike.SpikeAnalysis_MultiRecording(ephys_data, timebin = 100, ignore_freq = 0.5)"
   ]
  },
  {
   "cell_type": "code",
   "execution_count": 149,
   "id": "5fb53155-7bf6-4116-99de-fd180d096959",
   "metadata": {
    "execution": {
     "iopub.execute_input": "2024-07-11T19:07:29.268455Z",
     "iopub.status.busy": "2024-07-11T19:07:29.267459Z",
     "iopub.status.idle": "2024-07-11T19:08:22.290494Z",
     "shell.execute_reply": "2024-07-11T19:08:22.290494Z",
     "shell.execute_reply.started": "2024-07-11T19:07:29.268455Z"
    }
   },
   "outputs": [
    {
     "name": "stdout",
     "output_type": "stream",
     "text": [
      "<class 'numpy.ndarray'>\n",
      "20230612_101430_standard_comp_to_training_D1_subj_1-3_t3b3L_box2_merged.rec\n",
      "<class 'numpy.ndarray'>\n",
      "20230617_115521_standard_comp_to_omission_D1_subj_1-1_t1b3L_box1_merged.rec\n",
      "<class 'numpy.ndarray'>\n",
      "20230617_115521_standard_comp_to_omission_D1_subj_1-2_t2b2L_box2_merged.rec\n",
      "<class 'numpy.ndarray'>\n",
      "20230618_100636_standard_comp_to_omission_D2_subj_1-1_t1b2L_box2_merged.rec\n",
      "<class 'numpy.ndarray'>\n",
      "20230618_100636_standard_comp_to_omission_D2_subj_1-4_t4b3L_box1_merged.rec\n",
      "<class 'numpy.ndarray'>\n",
      "20230619_115321_standard_comp_to_omission_D3_subj_1-4_t3b3L_box2_merged.rec\n",
      "<class 'numpy.ndarray'>\n",
      "20230620_114347_standard_comp_to_omission_D4_subj_1-1_t1b2L_box_2_merged.rec\n",
      "<class 'numpy.ndarray'>\n",
      "20230620_114347_standard_comp_to_omission_D4_subj_1-2_t3b3L_box_1_merged.rec\n",
      "<class 'numpy.ndarray'>\n",
      "20230621_111240_standard_comp_to_omission_D5_subj_1-4_t3b3L_box1_merged.rec\n",
      "<class 'numpy.ndarray'>\n",
      "Unit 92 is unsorted & has 2494 spikes\n",
      "Unit 92 will be deleted\n",
      "20230622_110832_standard_comp_to_both_rewarded_D1_subj_1-1_t1b3L_box1_merged.rec\n",
      "<class 'numpy.ndarray'>\n",
      "Unit 103 is unsorted & has 512 spikes\n",
      "Unit 103 will be deleted\n",
      "20230622_110832_standard_comp_to_both_rewarded_D1_subj_1-2_t3b3L_box1_merged.rec\n",
      "<class 'numpy.ndarray'>\n",
      "20230624_105855_standard_comp_to_both_rewarded_D3_subj_1-2_t1b2L_box1_merged.rec\n",
      "<class 'numpy.ndarray'>\n",
      "20230624_105855_standard_comp_to_both_rewarded_D3_subj_1-4_t3b3L_box1_merged.rec\n",
      "<class 'numpy.ndarray'>\n",
      "20230625_112913_standard_comp_to_both_rewarded_D4_subj_1-1_t1b2L_box1_merged.rec\n",
      "<class 'numpy.ndarray'>\n",
      "Unit 96 is unsorted & has 5811 spikes\n",
      "Unit 96 will be deleted\n",
      "Unit 95 is unsorted & has 6458 spikes\n",
      "Unit 95 will be deleted\n",
      "20230625_112913_standard_comp_to_both_rewarded_D4_subj_1-4_t3b3L_box1_merged.rec\n",
      "Please assign event dictionaries to each recording\n",
      "as recording.event_dict\n",
      "event_dict = {event name(str): np.array[[start(ms), stop(ms)]...]\n",
      "Please assign subjects to each recording as recording.subject\n"
     ]
    }
   ],
   "source": [
    "import multirecording_spikeanalysis_edit as spike\n",
    "\n",
    "cols = ['condition ', 'session_dir', 'all_subjects', 'tone_start_timestamp', 'tone_stop_timestamp']\n",
    "\n",
    "# Load the data\n",
    "df = pd.read_excel('rce_pilot_2_per_video_trial_labels.xlsx', usecols=cols, engine='openpyxl')\n",
    "\n",
    "df2 = df.dropna() # Drop the rows missing data\n",
    "df3 = df2.copy()\n",
    "df3['all_subjects'] = df3['all_subjects'].apply(lambda x: ast.literal_eval(x) if isinstance(x, str) else x) # Make the 'all_subjects' column readable as a list\n",
    "df4 = df3[df3['all_subjects'].apply(lambda x: len(x) < 3)] # Ignore novel sessions for now\n",
    "\n",
    "# Initialize an empty list to collect data for the new DataFrame\n",
    "new_df_data = []\n",
    "\n",
    "for _, row in df4.iterrows():\n",
    "    session_dir = row['session_dir']\n",
    "    subjects = row['all_subjects']\n",
    "    condition = row['condition ']\n",
    "\n",
    "    # Split session_dir on '_subj_' and take the first part only\n",
    "    # This ensures everything after '_subj_' is ignored\n",
    "    base_session_dir = session_dir.split('_subj_')[0]\n",
    "\n",
    "    for subject in subjects:\n",
    "        subject_formatted = subject.replace('.', '-')\n",
    "        # Append formatted subject to the base session_dir correctly\n",
    "        subj_recording = f\"{base_session_dir}_subj_{subject_formatted}\"\n",
    "        new_df_data.append({\n",
    "            'session_dir': session_dir,\n",
    "            'subject': subject,\n",
    "            'subj_recording': subj_recording,\n",
    "            'condition': condition if condition in ['rewarded', 'omission', 'both_rewarded', 'tie'] else ('win' if str(condition) == str(subject) else 'lose'),\n",
    "            'tone_start_timestamp': row['tone_start_timestamp'],\n",
    "            'tone_stop_timestamp': row['tone_stop_timestamp']\n",
    "        })\n",
    "\n",
    "# Convert list to DataFrame\n",
    "new_df = pd.DataFrame(new_df_data)\n",
    "new_df = new_df.drop_duplicates()\n",
    "\n",
    "# Prepare timestamp_dicts from new_df\n",
    "timestamp_dicts = {}\n",
    "for _, row in new_df.iterrows():\n",
    "    key = row['subj_recording']\n",
    "    condition = row['condition']\n",
    "    timestamp_start = int(row['tone_start_timestamp']) // 20\n",
    "    timestamp_end = int(row['tone_stop_timestamp']) // 20\n",
    "    tuple_val = (timestamp_start, timestamp_end)\n",
    "\n",
    "    if key not in timestamp_dicts:\n",
    "        timestamp_dicts[key] = {cond: [] for cond in ['rewarded', 'win', 'lose', 'omission', 'both_rewarded', 'tie']}\n",
    "    timestamp_dicts[key][condition].append(tuple_val)\n",
    "\n",
    "# Convert lists in timestamp_dicts to numpy arrays\n",
    "for subj_recording in timestamp_dicts:\n",
    "    for condition in timestamp_dicts[subj_recording]:\n",
    "        timestamp_dicts[subj_recording][condition] = np.array(timestamp_dicts[subj_recording][condition], dtype=np.int64)\n",
    "        \n",
    "\n",
    "# Construct the path in a platform-independent way (HiPerGator or Windows)\n",
    "ephys_path = Path('.') / 'recordings' / 'updated_phys' / 'non-novel' / 'all_non_novel'\n",
    "\n",
    "ephys_data = spike.EphysRecordingCollection(str(ephys_path))"
   ]
  },
  {
   "cell_type": "code",
   "execution_count": 150,
   "id": "27ee5e3f-f131-48c9-9545-90004e8b8489",
   "metadata": {
    "execution": {
     "iopub.execute_input": "2024-07-11T19:08:22.290494Z",
     "iopub.status.busy": "2024-07-11T19:08:22.290494Z",
     "iopub.status.idle": "2024-07-11T19:08:25.191336Z",
     "shell.execute_reply": "2024-07-11T19:08:25.189322Z",
     "shell.execute_reply.started": "2024-07-11T19:08:22.290494Z"
    }
   },
   "outputs": [
    {
     "name": "stdout",
     "output_type": "stream",
     "text": [
      "All set to analyze\n"
     ]
    }
   ],
   "source": [
    "for recording in ephys_data.collection.keys():\n",
    "    # Check if the recording key (without everything after subject #) is in timestamp_dicts\n",
    "    start_pos = recording.find('subj_')\n",
    "    # Add the length of 'subj_' and 3 additional characters to include after 'subj_'\n",
    "    end_pos = start_pos + len('subj_') + 3\n",
    "    # Slice the recording key to get everything up to and including the subject identifier plus three characters\n",
    "    recording_key_without_suffix = recording[:end_pos]\n",
    "    if recording_key_without_suffix in timestamp_dicts:\n",
    "        # Assign the corresponding timestamp_dicts dictionary to event_dict\n",
    "        ephys_data.collection[recording].event_dict = timestamp_dicts[recording_key_without_suffix]\n",
    "        \n",
    "        # Extract the subject from the recording key\n",
    "        start = recording.find('subj_') + 5  # Start index after 'subj_'\n",
    "        subject = recording[start:start+3]\n",
    "        \n",
    "        # Assign the extracted subject\n",
    "        ephys_data.collection[recording].subject = subject\n",
    "        \n",
    "spike_analysis = spike.SpikeAnalysis_MultiRecording(ephys_data, timebin = 100, smoothing_window=250, ignore_freq = 0.5)"
   ]
  },
  {
   "cell_type": "code",
   "execution_count": 151,
   "id": "a948c86f-5133-4ba8-b106-2cbff68b56f3",
   "metadata": {
    "execution": {
     "iopub.execute_input": "2024-07-11T19:08:25.196339Z",
     "iopub.status.busy": "2024-07-11T19:08:25.195349Z",
     "iopub.status.idle": "2024-07-11T19:08:27.633637Z",
     "shell.execute_reply": "2024-07-11T19:08:27.633637Z",
     "shell.execute_reply.started": "2024-07-11T19:08:25.196339Z"
    }
   },
   "outputs": [
    {
     "name": "stdout",
     "output_type": "stream",
     "text": [
      "Wilcoxon can't be done on 20230617_115521_standard_comp_to_omission_D1_subj_1-2_t2b2L_box2_merged.rec win, because <6 samples\n",
      "Wilcoxon can't be done on 20230619_115321_standard_comp_to_omission_D3_subj_1-4_t3b3L_box2_merged.rec win, because <6 samples\n",
      "Wilcoxon can't be done on 20230620_114347_standard_comp_to_omission_D4_subj_1-2_t3b3L_box_1_merged.rec win, because <6 samples\n",
      "Wilcoxon can't be done on 20230621_111240_standard_comp_to_omission_D5_subj_1-4_t3b3L_box1_merged.rec win, because <6 samples\n",
      "Wilcoxon can't be done on 20230622_110832_standard_comp_to_both_rewarded_D1_subj_1-1_t1b3L_box1_merged.rec win, because <6 samples\n",
      "Wilcoxon can't be done on 20230624_105855_standard_comp_to_both_rewarded_D3_subj_1-4_t3b3L_box1_merged.rec win, because <6 samples\n",
      "Wilcoxon can't be done on 20230625_112913_standard_comp_to_both_rewarded_D4_subj_1-4_t3b3L_box1_merged.rec win, because <6 samples\n",
      "Wilcoxon can't be done on 20230617_115521_standard_comp_to_omission_D1_subj_1-1_t1b3L_box1_merged.rec lose, because <6 samples\n",
      "Wilcoxon can't be done on 20230620_114347_standard_comp_to_omission_D4_subj_1-1_t1b2L_box_2_merged.rec lose, because <6 samples\n",
      "Wilcoxon can't be done on 20230622_110832_standard_comp_to_both_rewarded_D1_subj_1-2_t3b3L_box1_merged.rec lose, because <6 samples\n",
      "Wilcoxon can't be done on 20230624_105855_standard_comp_to_both_rewarded_D3_subj_1-2_t1b2L_box1_merged.rec lose, because <6 samples\n",
      "Wilcoxon can't be done on 20230625_112913_standard_comp_to_both_rewarded_D4_subj_1-1_t1b2L_box1_merged.rec lose, because <6 samples\n"
     ]
    }
   ],
   "source": [
    "win_df = spike_analysis.wilcox_baseline_v_event_collection('win', 10, 10, plot=False)\n",
    "lose_df = spike_analysis.wilcox_baseline_v_event_collection('lose', 10, 10, plot=False)"
   ]
  },
  {
   "cell_type": "code",
   "execution_count": 152,
   "id": "51d9ea62-4b24-4b3a-afac-41beb2f9ffca",
   "metadata": {
    "execution": {
     "iopub.execute_input": "2024-07-11T19:08:27.633637Z",
     "iopub.status.busy": "2024-07-11T19:08:27.633637Z",
     "iopub.status.idle": "2024-07-11T19:08:27.680512Z",
     "shell.execute_reply": "2024-07-11T19:08:27.680512Z",
     "shell.execute_reply.started": "2024-07-11T19:08:27.633637Z"
    }
   },
   "outputs": [],
   "source": [
    "def normalize_event_string(event_string):\n",
    "        event_list = event_string.split(', ')\n",
    "        event_list_sorted = sorted(event_list)  # Sort the list to ensure consistent order\n",
    "        return ', '.join(event_list_sorted)  # Join the sorted list back into a string\n",
    "\n",
    "def aggregate_event_data(combined_df):\n",
    "    # Function to extract just the event name\n",
    "    def extract_event_name(event):\n",
    "        # Remove any leading time duration from the event string\n",
    "        parts = event.split(' vs ')\n",
    "        event_name = parts[0].split(' ')[-1]  # Splits by space and takes the last part, removing any time prefix\n",
    "        return event_name\n",
    "\n",
    "    # Initialize an empty dictionary to hold aggregated data\n",
    "    aggregated_data = {}\n",
    "\n",
    "    # Iterate over the rows of the combined DataFrame\n",
    "    for index, row in combined_df.iterrows():\n",
    "        # Extract event name\n",
    "        event_name = extract_event_name(row['Event'])\n",
    "        # Construct a unique key for each combination of recording, subject, and unit id\n",
    "        key = (row['Recording'], row['Subject'], row['original unit id'])\n",
    "        \n",
    "        # Initialize the entry if not exists\n",
    "        if key not in aggregated_data:\n",
    "            aggregated_data[key] = {'sig_increase_events': set(), 'sig_decrease_events': set(), 'insig_events': set()}\n",
    "        \n",
    "        # Append the event name to the appropriate category based on 'event1 vs event2'\n",
    "        if row['event1 vs event2'] == 'increases':\n",
    "            aggregated_data[key]['sig_increase_events'].add(event_name)\n",
    "        elif row['event1 vs event2'] == 'decreases':\n",
    "            aggregated_data[key]['sig_decrease_events'].add(event_name)\n",
    "        else:\n",
    "            aggregated_data[key]['insig_events'].add(event_name)\n",
    "\n",
    "    # Convert the aggregated data into a DataFrame\n",
    "    rows = []\n",
    "    for (recording, subject, unit_id), categories in aggregated_data.items():\n",
    "        row = {\n",
    "            'Recording': recording,\n",
    "            'Subject': subject,\n",
    "            'original unit id': unit_id,\n",
    "            'sig_increase_events': ', '.join(categories['sig_increase_events']),\n",
    "            'sig_decrease_events': ', '.join(categories['sig_decrease_events']),\n",
    "            'insig_events': ', '.join(categories['insig_events']),\n",
    "        }\n",
    "        rows.append(row)\n",
    "\n",
    "    aggregated_df = pd.DataFrame(rows)\n",
    "    aggregated_df['sig_events'] = aggregated_df.apply(\n",
    "        lambda row: ', '.join(filter(None, [row['sig_increase_events'], row['sig_decrease_events']])), axis=1)\n",
    "\n",
    "    # Apply the normalization function to the 'sig_events' column before counting\n",
    "    aggregated_df['sig_events'] = aggregated_df['sig_events'].apply(normalize_event_string)\n",
    "\n",
    "    # Count the unique combinations of significant events\n",
    "    sig_events_counts = aggregated_df['sig_events'].value_counts()\n",
    "\n",
    "    # Rename the empty strings to 'non-responsive'\n",
    "    sig_events_counts = sig_events_counts.rename(index={'': 'Non-Responsive'})\n",
    "\n",
    "    return aggregated_df, sig_events_counts"
   ]
  },
  {
   "cell_type": "code",
   "execution_count": 153,
   "id": "6bd733cb-7c72-4d4c-8e13-48d324b99176",
   "metadata": {
    "execution": {
     "iopub.execute_input": "2024-07-11T19:08:27.680512Z",
     "iopub.status.busy": "2024-07-11T19:08:27.680512Z",
     "iopub.status.idle": "2024-07-11T19:08:27.727828Z",
     "shell.execute_reply": "2024-07-11T19:08:27.727828Z",
     "shell.execute_reply.started": "2024-07-11T19:08:27.680512Z"
    }
   },
   "outputs": [
    {
     "data": {
      "text/html": [
       "<div>\n",
       "<style scoped>\n",
       "    .dataframe tbody tr th:only-of-type {\n",
       "        vertical-align: middle;\n",
       "    }\n",
       "\n",
       "    .dataframe tbody tr th {\n",
       "        vertical-align: top;\n",
       "    }\n",
       "\n",
       "    .dataframe thead th {\n",
       "        text-align: right;\n",
       "    }\n",
       "</style>\n",
       "<table border=\"1\" class=\"dataframe\">\n",
       "  <thead>\n",
       "    <tr style=\"text-align: right;\">\n",
       "      <th></th>\n",
       "      <th>original unit id</th>\n",
       "      <th>Wilcoxon Stat</th>\n",
       "      <th>p value</th>\n",
       "      <th>event1 vs event2</th>\n",
       "      <th>Recording</th>\n",
       "      <th>Subject</th>\n",
       "      <th>Event</th>\n",
       "    </tr>\n",
       "  </thead>\n",
       "  <tbody>\n",
       "    <tr>\n",
       "      <th>0</th>\n",
       "      <td>85</td>\n",
       "      <td>35.0</td>\n",
       "      <td>0.791016</td>\n",
       "      <td>not significant</td>\n",
       "      <td>20230612_101430_standard_comp_to_training_D1_s...</td>\n",
       "      <td>1-3</td>\n",
       "      <td>10s win vs 10s baseline</td>\n",
       "    </tr>\n",
       "    <tr>\n",
       "      <th>1</th>\n",
       "      <td>55</td>\n",
       "      <td>36.0</td>\n",
       "      <td>0.541748</td>\n",
       "      <td>not significant</td>\n",
       "      <td>20230612_101430_standard_comp_to_training_D1_s...</td>\n",
       "      <td>1-3</td>\n",
       "      <td>10s win vs 10s baseline</td>\n",
       "    </tr>\n",
       "    <tr>\n",
       "      <th>2</th>\n",
       "      <td>17</td>\n",
       "      <td>30.0</td>\n",
       "      <td>0.518555</td>\n",
       "      <td>not significant</td>\n",
       "      <td>20230612_101430_standard_comp_to_training_D1_s...</td>\n",
       "      <td>1-3</td>\n",
       "      <td>10s win vs 10s baseline</td>\n",
       "    </tr>\n",
       "    <tr>\n",
       "      <th>3</th>\n",
       "      <td>24</td>\n",
       "      <td>3.0</td>\n",
       "      <td>0.001221</td>\n",
       "      <td>increases</td>\n",
       "      <td>20230612_101430_standard_comp_to_training_D1_s...</td>\n",
       "      <td>1-3</td>\n",
       "      <td>10s win vs 10s baseline</td>\n",
       "    </tr>\n",
       "    <tr>\n",
       "      <th>4</th>\n",
       "      <td>68</td>\n",
       "      <td>29.0</td>\n",
       "      <td>0.469727</td>\n",
       "      <td>not significant</td>\n",
       "      <td>20230612_101430_standard_comp_to_training_D1_s...</td>\n",
       "      <td>1-3</td>\n",
       "      <td>10s win vs 10s baseline</td>\n",
       "    </tr>\n",
       "    <tr>\n",
       "      <th>...</th>\n",
       "      <td>...</td>\n",
       "      <td>...</td>\n",
       "      <td>...</td>\n",
       "      <td>...</td>\n",
       "      <td>...</td>\n",
       "      <td>...</td>\n",
       "      <td>...</td>\n",
       "    </tr>\n",
       "    <tr>\n",
       "      <th>149</th>\n",
       "      <td>32</td>\n",
       "      <td>61.5</td>\n",
       "      <td>0.781952</td>\n",
       "      <td>not significant</td>\n",
       "      <td>20230625_112913_standard_comp_to_both_rewarded...</td>\n",
       "      <td>1-1</td>\n",
       "      <td>10s win vs 10s baseline</td>\n",
       "    </tr>\n",
       "    <tr>\n",
       "      <th>150</th>\n",
       "      <td>62</td>\n",
       "      <td>34.0</td>\n",
       "      <td>0.083252</td>\n",
       "      <td>not significant</td>\n",
       "      <td>20230625_112913_standard_comp_to_both_rewarded...</td>\n",
       "      <td>1-1</td>\n",
       "      <td>10s win vs 10s baseline</td>\n",
       "    </tr>\n",
       "    <tr>\n",
       "      <th>151</th>\n",
       "      <td>78</td>\n",
       "      <td>44.0</td>\n",
       "      <td>0.231201</td>\n",
       "      <td>not significant</td>\n",
       "      <td>20230625_112913_standard_comp_to_both_rewarded...</td>\n",
       "      <td>1-1</td>\n",
       "      <td>10s win vs 10s baseline</td>\n",
       "    </tr>\n",
       "    <tr>\n",
       "      <th>152</th>\n",
       "      <td>64</td>\n",
       "      <td>51.5</td>\n",
       "      <td>0.433197</td>\n",
       "      <td>not significant</td>\n",
       "      <td>20230625_112913_standard_comp_to_both_rewarded...</td>\n",
       "      <td>1-1</td>\n",
       "      <td>10s win vs 10s baseline</td>\n",
       "    </tr>\n",
       "    <tr>\n",
       "      <th>153</th>\n",
       "      <td>0</td>\n",
       "      <td>NaN</td>\n",
       "      <td>NaN</td>\n",
       "      <td>NaN</td>\n",
       "      <td>20230625_112913_standard_comp_to_both_rewarded...</td>\n",
       "      <td>1-4</td>\n",
       "      <td>10s win vs 10s baseline</td>\n",
       "    </tr>\n",
       "  </tbody>\n",
       "</table>\n",
       "<p>154 rows × 7 columns</p>\n",
       "</div>"
      ],
      "text/plain": [
       "     original unit id  Wilcoxon Stat   p value event1 vs event2  \\\n",
       "0                  85           35.0  0.791016  not significant   \n",
       "1                  55           36.0  0.541748  not significant   \n",
       "2                  17           30.0  0.518555  not significant   \n",
       "3                  24            3.0  0.001221        increases   \n",
       "4                  68           29.0  0.469727  not significant   \n",
       "..                ...            ...       ...              ...   \n",
       "149                32           61.5  0.781952  not significant   \n",
       "150                62           34.0  0.083252  not significant   \n",
       "151                78           44.0  0.231201  not significant   \n",
       "152                64           51.5  0.433197  not significant   \n",
       "153                 0            NaN       NaN              NaN   \n",
       "\n",
       "                                             Recording Subject  \\\n",
       "0    20230612_101430_standard_comp_to_training_D1_s...     1-3   \n",
       "1    20230612_101430_standard_comp_to_training_D1_s...     1-3   \n",
       "2    20230612_101430_standard_comp_to_training_D1_s...     1-3   \n",
       "3    20230612_101430_standard_comp_to_training_D1_s...     1-3   \n",
       "4    20230612_101430_standard_comp_to_training_D1_s...     1-3   \n",
       "..                                                 ...     ...   \n",
       "149  20230625_112913_standard_comp_to_both_rewarded...     1-1   \n",
       "150  20230625_112913_standard_comp_to_both_rewarded...     1-1   \n",
       "151  20230625_112913_standard_comp_to_both_rewarded...     1-1   \n",
       "152  20230625_112913_standard_comp_to_both_rewarded...     1-1   \n",
       "153  20230625_112913_standard_comp_to_both_rewarded...     1-4   \n",
       "\n",
       "                       Event  \n",
       "0    10s win vs 10s baseline  \n",
       "1    10s win vs 10s baseline  \n",
       "2    10s win vs 10s baseline  \n",
       "3    10s win vs 10s baseline  \n",
       "4    10s win vs 10s baseline  \n",
       "..                       ...  \n",
       "149  10s win vs 10s baseline  \n",
       "150  10s win vs 10s baseline  \n",
       "151  10s win vs 10s baseline  \n",
       "152  10s win vs 10s baseline  \n",
       "153  10s win vs 10s baseline  \n",
       "\n",
       "[154 rows x 7 columns]"
      ]
     },
     "execution_count": 153,
     "metadata": {},
     "output_type": "execute_result"
    }
   ],
   "source": [
    "win_df"
   ]
  },
  {
   "cell_type": "code",
   "execution_count": 154,
   "id": "efc1f441-e724-421d-b7d6-3c7e84781cfe",
   "metadata": {
    "execution": {
     "iopub.execute_input": "2024-07-11T19:08:27.727828Z",
     "iopub.status.busy": "2024-07-11T19:08:27.727828Z",
     "iopub.status.idle": "2024-07-11T19:08:27.774703Z",
     "shell.execute_reply": "2024-07-11T19:08:27.774703Z",
     "shell.execute_reply.started": "2024-07-11T19:08:27.727828Z"
    }
   },
   "outputs": [
    {
     "data": {
      "text/html": [
       "<div>\n",
       "<style scoped>\n",
       "    .dataframe tbody tr th:only-of-type {\n",
       "        vertical-align: middle;\n",
       "    }\n",
       "\n",
       "    .dataframe tbody tr th {\n",
       "        vertical-align: top;\n",
       "    }\n",
       "\n",
       "    .dataframe thead th {\n",
       "        text-align: right;\n",
       "    }\n",
       "</style>\n",
       "<table border=\"1\" class=\"dataframe\">\n",
       "  <thead>\n",
       "    <tr style=\"text-align: right;\">\n",
       "      <th></th>\n",
       "      <th>original unit id</th>\n",
       "      <th>Wilcoxon Stat</th>\n",
       "      <th>p value</th>\n",
       "      <th>event1 vs event2</th>\n",
       "      <th>Recording</th>\n",
       "      <th>Subject</th>\n",
       "      <th>Event</th>\n",
       "    </tr>\n",
       "  </thead>\n",
       "  <tbody>\n",
       "    <tr>\n",
       "      <th>0</th>\n",
       "      <td>85</td>\n",
       "      <td>9.0</td>\n",
       "      <td>0.468750</td>\n",
       "      <td>not significant</td>\n",
       "      <td>20230612_101430_standard_comp_to_training_D1_s...</td>\n",
       "      <td>1-3</td>\n",
       "      <td>10s lose vs 10s baseline</td>\n",
       "    </tr>\n",
       "    <tr>\n",
       "      <th>1</th>\n",
       "      <td>55</td>\n",
       "      <td>11.0</td>\n",
       "      <td>0.687500</td>\n",
       "      <td>not significant</td>\n",
       "      <td>20230612_101430_standard_comp_to_training_D1_s...</td>\n",
       "      <td>1-3</td>\n",
       "      <td>10s lose vs 10s baseline</td>\n",
       "    </tr>\n",
       "    <tr>\n",
       "      <th>2</th>\n",
       "      <td>17</td>\n",
       "      <td>4.0</td>\n",
       "      <td>0.437500</td>\n",
       "      <td>not significant</td>\n",
       "      <td>20230612_101430_standard_comp_to_training_D1_s...</td>\n",
       "      <td>1-3</td>\n",
       "      <td>10s lose vs 10s baseline</td>\n",
       "    </tr>\n",
       "    <tr>\n",
       "      <th>3</th>\n",
       "      <td>24</td>\n",
       "      <td>10.0</td>\n",
       "      <td>0.578125</td>\n",
       "      <td>not significant</td>\n",
       "      <td>20230612_101430_standard_comp_to_training_D1_s...</td>\n",
       "      <td>1-3</td>\n",
       "      <td>10s lose vs 10s baseline</td>\n",
       "    </tr>\n",
       "    <tr>\n",
       "      <th>4</th>\n",
       "      <td>68</td>\n",
       "      <td>14.0</td>\n",
       "      <td>1.000000</td>\n",
       "      <td>not significant</td>\n",
       "      <td>20230612_101430_standard_comp_to_training_D1_s...</td>\n",
       "      <td>1-3</td>\n",
       "      <td>10s lose vs 10s baseline</td>\n",
       "    </tr>\n",
       "    <tr>\n",
       "      <th>...</th>\n",
       "      <td>...</td>\n",
       "      <td>...</td>\n",
       "      <td>...</td>\n",
       "      <td>...</td>\n",
       "      <td>...</td>\n",
       "      <td>...</td>\n",
       "      <td>...</td>\n",
       "    </tr>\n",
       "    <tr>\n",
       "      <th>184</th>\n",
       "      <td>39</td>\n",
       "      <td>49.0</td>\n",
       "      <td>0.348389</td>\n",
       "      <td>not significant</td>\n",
       "      <td>20230625_112913_standard_comp_to_both_rewarded...</td>\n",
       "      <td>1-4</td>\n",
       "      <td>10s lose vs 10s baseline</td>\n",
       "    </tr>\n",
       "    <tr>\n",
       "      <th>185</th>\n",
       "      <td>17</td>\n",
       "      <td>46.0</td>\n",
       "      <td>0.274445</td>\n",
       "      <td>not significant</td>\n",
       "      <td>20230625_112913_standard_comp_to_both_rewarded...</td>\n",
       "      <td>1-4</td>\n",
       "      <td>10s lose vs 10s baseline</td>\n",
       "    </tr>\n",
       "    <tr>\n",
       "      <th>186</th>\n",
       "      <td>15</td>\n",
       "      <td>52.5</td>\n",
       "      <td>0.719727</td>\n",
       "      <td>not significant</td>\n",
       "      <td>20230625_112913_standard_comp_to_both_rewarded...</td>\n",
       "      <td>1-4</td>\n",
       "      <td>10s lose vs 10s baseline</td>\n",
       "    </tr>\n",
       "    <tr>\n",
       "      <th>187</th>\n",
       "      <td>27</td>\n",
       "      <td>40.0</td>\n",
       "      <td>0.276855</td>\n",
       "      <td>not significant</td>\n",
       "      <td>20230625_112913_standard_comp_to_both_rewarded...</td>\n",
       "      <td>1-4</td>\n",
       "      <td>10s lose vs 10s baseline</td>\n",
       "    </tr>\n",
       "    <tr>\n",
       "      <th>188</th>\n",
       "      <td>11</td>\n",
       "      <td>5.0</td>\n",
       "      <td>0.001221</td>\n",
       "      <td>increases</td>\n",
       "      <td>20230625_112913_standard_comp_to_both_rewarded...</td>\n",
       "      <td>1-4</td>\n",
       "      <td>10s lose vs 10s baseline</td>\n",
       "    </tr>\n",
       "  </tbody>\n",
       "</table>\n",
       "<p>189 rows × 7 columns</p>\n",
       "</div>"
      ],
      "text/plain": [
       "     original unit id  Wilcoxon Stat   p value event1 vs event2  \\\n",
       "0                  85            9.0  0.468750  not significant   \n",
       "1                  55           11.0  0.687500  not significant   \n",
       "2                  17            4.0  0.437500  not significant   \n",
       "3                  24           10.0  0.578125  not significant   \n",
       "4                  68           14.0  1.000000  not significant   \n",
       "..                ...            ...       ...              ...   \n",
       "184                39           49.0  0.348389  not significant   \n",
       "185                17           46.0  0.274445  not significant   \n",
       "186                15           52.5  0.719727  not significant   \n",
       "187                27           40.0  0.276855  not significant   \n",
       "188                11            5.0  0.001221        increases   \n",
       "\n",
       "                                             Recording Subject  \\\n",
       "0    20230612_101430_standard_comp_to_training_D1_s...     1-3   \n",
       "1    20230612_101430_standard_comp_to_training_D1_s...     1-3   \n",
       "2    20230612_101430_standard_comp_to_training_D1_s...     1-3   \n",
       "3    20230612_101430_standard_comp_to_training_D1_s...     1-3   \n",
       "4    20230612_101430_standard_comp_to_training_D1_s...     1-3   \n",
       "..                                                 ...     ...   \n",
       "184  20230625_112913_standard_comp_to_both_rewarded...     1-4   \n",
       "185  20230625_112913_standard_comp_to_both_rewarded...     1-4   \n",
       "186  20230625_112913_standard_comp_to_both_rewarded...     1-4   \n",
       "187  20230625_112913_standard_comp_to_both_rewarded...     1-4   \n",
       "188  20230625_112913_standard_comp_to_both_rewarded...     1-4   \n",
       "\n",
       "                        Event  \n",
       "0    10s lose vs 10s baseline  \n",
       "1    10s lose vs 10s baseline  \n",
       "2    10s lose vs 10s baseline  \n",
       "3    10s lose vs 10s baseline  \n",
       "4    10s lose vs 10s baseline  \n",
       "..                        ...  \n",
       "184  10s lose vs 10s baseline  \n",
       "185  10s lose vs 10s baseline  \n",
       "186  10s lose vs 10s baseline  \n",
       "187  10s lose vs 10s baseline  \n",
       "188  10s lose vs 10s baseline  \n",
       "\n",
       "[189 rows x 7 columns]"
      ]
     },
     "execution_count": 154,
     "metadata": {},
     "output_type": "execute_result"
    }
   ],
   "source": [
    "lose_df"
   ]
  },
  {
   "cell_type": "code",
   "execution_count": 155,
   "id": "f1dceaed-8d94-4ad0-81d1-01e3d04acfdb",
   "metadata": {
    "execution": {
     "iopub.execute_input": "2024-07-11T19:08:27.774703Z",
     "iopub.status.busy": "2024-07-11T19:08:27.774703Z",
     "iopub.status.idle": "2024-07-11T19:08:27.805951Z",
     "shell.execute_reply": "2024-07-11T19:08:27.805951Z",
     "shell.execute_reply.started": "2024-07-11T19:08:27.774703Z"
    }
   },
   "outputs": [
    {
     "data": {
      "text/plain": [
       "event1 vs event2\n",
       "not significant    116\n",
       "increases           27\n",
       "decreases            4\n",
       "Name: count, dtype: int64"
      ]
     },
     "execution_count": 155,
     "metadata": {},
     "output_type": "execute_result"
    }
   ],
   "source": [
    "wins = win_df['event1 vs event2'].value_counts()\n",
    "wins"
   ]
  },
  {
   "cell_type": "code",
   "execution_count": 156,
   "id": "a9b97871-652c-4af4-b0ff-27ce7292f9a8",
   "metadata": {
    "execution": {
     "iopub.execute_input": "2024-07-11T19:08:27.808963Z",
     "iopub.status.busy": "2024-07-11T19:08:27.808963Z",
     "iopub.status.idle": "2024-07-11T19:08:27.837626Z",
     "shell.execute_reply": "2024-07-11T19:08:27.837626Z",
     "shell.execute_reply.started": "2024-07-11T19:08:27.808963Z"
    }
   },
   "outputs": [
    {
     "data": {
      "text/plain": [
       "event1 vs event2\n",
       "not significant    150\n",
       "increases           31\n",
       "decreases            3\n",
       "Name: count, dtype: int64"
      ]
     },
     "execution_count": 156,
     "metadata": {},
     "output_type": "execute_result"
    }
   ],
   "source": [
    "losses = lose_df['event1 vs event2'].value_counts()\n",
    "losses"
   ]
  },
  {
   "cell_type": "code",
   "execution_count": 157,
   "id": "49caaefa-dcbf-4d02-80f4-2a745c0ea75a",
   "metadata": {
    "execution": {
     "iopub.execute_input": "2024-07-11T19:08:27.837626Z",
     "iopub.status.busy": "2024-07-11T19:08:27.837626Z",
     "iopub.status.idle": "2024-07-11T19:08:27.853252Z",
     "shell.execute_reply": "2024-07-11T19:08:27.853252Z",
     "shell.execute_reply.started": "2024-07-11T19:08:27.837626Z"
    }
   },
   "outputs": [],
   "source": [
    "win = (28+4) / (115+28+4)\n",
    "lose = (32+3) / (149+32+3)"
   ]
  },
  {
   "cell_type": "code",
   "execution_count": 158,
   "id": "bd34f8ab-a34d-4b6f-8aff-ff484df13a58",
   "metadata": {
    "execution": {
     "iopub.execute_input": "2024-07-11T19:08:27.853252Z",
     "iopub.status.busy": "2024-07-11T19:08:27.853252Z",
     "iopub.status.idle": "2024-07-11T19:08:27.884502Z",
     "shell.execute_reply": "2024-07-11T19:08:27.884502Z",
     "shell.execute_reply.started": "2024-07-11T19:08:27.853252Z"
    }
   },
   "outputs": [
    {
     "data": {
      "text/plain": [
       "0.21768707482993196"
      ]
     },
     "execution_count": 158,
     "metadata": {},
     "output_type": "execute_result"
    }
   ],
   "source": [
    "win"
   ]
  },
  {
   "cell_type": "code",
   "execution_count": 159,
   "id": "a339a1d0-ac02-4893-b1b4-0eeb79a9ef7d",
   "metadata": {
    "execution": {
     "iopub.execute_input": "2024-07-11T19:08:27.884502Z",
     "iopub.status.busy": "2024-07-11T19:08:27.884502Z",
     "iopub.status.idle": "2024-07-11T19:08:27.916167Z",
     "shell.execute_reply": "2024-07-11T19:08:27.916167Z",
     "shell.execute_reply.started": "2024-07-11T19:08:27.884502Z"
    }
   },
   "outputs": [
    {
     "data": {
      "text/plain": [
       "0.19021739130434784"
      ]
     },
     "execution_count": 159,
     "metadata": {},
     "output_type": "execute_result"
    }
   ],
   "source": [
    "lose"
   ]
  },
  {
   "cell_type": "code",
   "execution_count": 160,
   "id": "20a33d75-25f7-40e8-a3f9-c02cd61dc9e4",
   "metadata": {
    "execution": {
     "iopub.execute_input": "2024-07-11T19:08:27.916167Z",
     "iopub.status.busy": "2024-07-11T19:08:27.916167Z",
     "iopub.status.idle": "2024-07-11T19:08:29.143997Z",
     "shell.execute_reply": "2024-07-11T19:08:29.142000Z",
     "shell.execute_reply.started": "2024-07-11T19:08:27.916167Z"
    }
   },
   "outputs": [
    {
     "data": {
      "image/png": "[encoded data removed]",
      "text/plain": [
       "<Figure size 800x800 with 1 Axes>"
      ]
     },
     "metadata": {},
     "output_type": "display_data"
    }
   ],
   "source": [
    "plt.figure(figsize=(8, 8))\n",
    "plt.pie(wins, labels=wins.index, autopct='%1.1f%%', startangle=140)\n",
    "plt.title('Win Responsive Neurons')\n",
    "plt.show()"
   ]
  },
  {
   "cell_type": "code",
   "execution_count": 161,
   "id": "5bba47df-1da4-4147-969d-853d80181701",
   "metadata": {
    "execution": {
     "iopub.execute_input": "2024-07-11T19:08:29.146996Z",
     "iopub.status.busy": "2024-07-11T19:08:29.146002Z",
     "iopub.status.idle": "2024-07-11T19:08:29.333925Z",
     "shell.execute_reply": "2024-07-11T19:08:29.331931Z",
     "shell.execute_reply.started": "2024-07-11T19:08:29.146996Z"
    }
   },
   "outputs": [
    {
     "data": {
      "image/png": "[encoded data removed]",
      "text/plain": [
       "<Figure size 800x800 with 1 Axes>"
      ]
     },
     "metadata": {},
     "output_type": "display_data"
    }
   ],
   "source": [
    "def func(pct, allvalues):\n",
    "    absolute = int(pct / 100. * sum(allvalues))\n",
    "    return \"{:.1f}%\\n({:d})\".format(pct, absolute)\n",
    "\n",
    "# Create a pie plot\n",
    "plt.figure(figsize=(8, 8))\n",
    "plt.pie(wins, labels=wins.index, autopct=lambda pct: func(pct, wins), startangle=140)\n",
    "plt.title('Win Responsive Neurons')\n",
    "plt.show()"
   ]
  },
  {
   "cell_type": "code",
   "execution_count": 162,
   "id": "9c4fc0de-a959-41e3-b937-74fc8a206764",
   "metadata": {
    "execution": {
     "iopub.execute_input": "2024-07-11T19:08:29.337931Z",
     "iopub.status.busy": "2024-07-11T19:08:29.336937Z",
     "iopub.status.idle": "2024-07-11T19:08:29.524703Z",
     "shell.execute_reply": "2024-07-11T19:08:29.522703Z",
     "shell.execute_reply.started": "2024-07-11T19:08:29.336937Z"
    }
   },
   "outputs": [
    {
     "data": {
      "image/png": "[encoded data removed]",
      "text/plain": [
       "<Figure size 800x800 with 1 Axes>"
      ]
     },
     "metadata": {},
     "output_type": "display_data"
    }
   ],
   "source": [
    "def func(pct, allvalues):\n",
    "    absolute = int(pct / 100. * sum(allvalues))\n",
    "    return \"{:.1f}%\\n({:d})\".format(pct, absolute)\n",
    "\n",
    "# Create a pie plot\n",
    "plt.figure(figsize=(8, 8))\n",
    "plt.pie(losses, labels=losses.index, autopct=lambda pct: func(pct, losses), startangle=140)\n",
    "plt.title('Lose Responsive Neurons')\n",
    "plt.show()"
   ]
  },
  {
   "cell_type": "code",
   "execution_count": 163,
   "id": "7c74855b-240c-45c9-a5bc-10d3f97f6492",
   "metadata": {
    "execution": {
     "iopub.execute_input": "2024-07-11T19:08:29.527708Z",
     "iopub.status.busy": "2024-07-11T19:08:29.526704Z",
     "iopub.status.idle": "2024-07-11T19:08:30.477722Z",
     "shell.execute_reply": "2024-07-11T19:08:30.475729Z",
     "shell.execute_reply.started": "2024-07-11T19:08:29.527708Z"
    }
   },
   "outputs": [
    {
     "name": "stdout",
     "output_type": "stream",
     "text": [
      "Wilcoxon can't be done on 20230617_115521_standard_comp_to_omission_D1_subj_1-1_t1b3L_box1_merged.rec lose, because <6 samples\n",
      "Wilcoxon can't be done on 20230620_114347_standard_comp_to_omission_D4_subj_1-1_t1b2L_box_2_merged.rec lose, because <6 samples\n",
      "Wilcoxon can't be done on 20230622_110832_standard_comp_to_both_rewarded_D1_subj_1-2_t3b3L_box1_merged.rec lose, because <6 samples\n",
      "Wilcoxon can't be done on 20230624_105855_standard_comp_to_both_rewarded_D3_subj_1-2_t1b2L_box1_merged.rec lose, because <6 samples\n",
      "Wilcoxon can't be done on 20230625_112913_standard_comp_to_both_rewarded_D4_subj_1-1_t1b2L_box1_merged.rec lose, because <6 samples\n"
     ]
    }
   ],
   "source": [
    "lose_df = spike_analysis.wilcox_baseline_v_event_collection('lose', 10, 10, plot=False)"
   ]
  },
  {
   "cell_type": "code",
   "execution_count": 164,
   "id": "4c4bc564-de72-4536-b920-a41c79c9dbdb",
   "metadata": {
    "execution": {
     "iopub.execute_input": "2024-07-11T19:08:30.481721Z",
     "iopub.status.busy": "2024-07-11T19:08:30.480719Z",
     "iopub.status.idle": "2024-07-11T19:08:30.523294Z",
     "shell.execute_reply": "2024-07-11T19:08:30.522291Z",
     "shell.execute_reply.started": "2024-07-11T19:08:30.481721Z"
    }
   },
   "outputs": [
    {
     "data": {
      "text/html": [
       "<div>\n",
       "<style scoped>\n",
       "    .dataframe tbody tr th:only-of-type {\n",
       "        vertical-align: middle;\n",
       "    }\n",
       "\n",
       "    .dataframe tbody tr th {\n",
       "        vertical-align: top;\n",
       "    }\n",
       "\n",
       "    .dataframe thead th {\n",
       "        text-align: right;\n",
       "    }\n",
       "</style>\n",
       "<table border=\"1\" class=\"dataframe\">\n",
       "  <thead>\n",
       "    <tr style=\"text-align: right;\">\n",
       "      <th></th>\n",
       "      <th>original unit id</th>\n",
       "      <th>Wilcoxon Stat</th>\n",
       "      <th>p value</th>\n",
       "      <th>event1 vs event2</th>\n",
       "      <th>Recording</th>\n",
       "      <th>Subject</th>\n",
       "      <th>Event</th>\n",
       "    </tr>\n",
       "  </thead>\n",
       "  <tbody>\n",
       "    <tr>\n",
       "      <th>0</th>\n",
       "      <td>85</td>\n",
       "      <td>9.0</td>\n",
       "      <td>0.468750</td>\n",
       "      <td>not significant</td>\n",
       "      <td>20230612_101430_standard_comp_to_training_D1_s...</td>\n",
       "      <td>1-3</td>\n",
       "      <td>10s lose vs 10s baseline</td>\n",
       "    </tr>\n",
       "    <tr>\n",
       "      <th>1</th>\n",
       "      <td>55</td>\n",
       "      <td>11.0</td>\n",
       "      <td>0.687500</td>\n",
       "      <td>not significant</td>\n",
       "      <td>20230612_101430_standard_comp_to_training_D1_s...</td>\n",
       "      <td>1-3</td>\n",
       "      <td>10s lose vs 10s baseline</td>\n",
       "    </tr>\n",
       "    <tr>\n",
       "      <th>2</th>\n",
       "      <td>17</td>\n",
       "      <td>4.0</td>\n",
       "      <td>0.437500</td>\n",
       "      <td>not significant</td>\n",
       "      <td>20230612_101430_standard_comp_to_training_D1_s...</td>\n",
       "      <td>1-3</td>\n",
       "      <td>10s lose vs 10s baseline</td>\n",
       "    </tr>\n",
       "    <tr>\n",
       "      <th>3</th>\n",
       "      <td>24</td>\n",
       "      <td>10.0</td>\n",
       "      <td>0.578125</td>\n",
       "      <td>not significant</td>\n",
       "      <td>20230612_101430_standard_comp_to_training_D1_s...</td>\n",
       "      <td>1-3</td>\n",
       "      <td>10s lose vs 10s baseline</td>\n",
       "    </tr>\n",
       "    <tr>\n",
       "      <th>4</th>\n",
       "      <td>68</td>\n",
       "      <td>14.0</td>\n",
       "      <td>1.000000</td>\n",
       "      <td>not significant</td>\n",
       "      <td>20230612_101430_standard_comp_to_training_D1_s...</td>\n",
       "      <td>1-3</td>\n",
       "      <td>10s lose vs 10s baseline</td>\n",
       "    </tr>\n",
       "    <tr>\n",
       "      <th>...</th>\n",
       "      <td>...</td>\n",
       "      <td>...</td>\n",
       "      <td>...</td>\n",
       "      <td>...</td>\n",
       "      <td>...</td>\n",
       "      <td>...</td>\n",
       "      <td>...</td>\n",
       "    </tr>\n",
       "    <tr>\n",
       "      <th>184</th>\n",
       "      <td>39</td>\n",
       "      <td>49.0</td>\n",
       "      <td>0.348389</td>\n",
       "      <td>not significant</td>\n",
       "      <td>20230625_112913_standard_comp_to_both_rewarded...</td>\n",
       "      <td>1-4</td>\n",
       "      <td>10s lose vs 10s baseline</td>\n",
       "    </tr>\n",
       "    <tr>\n",
       "      <th>185</th>\n",
       "      <td>17</td>\n",
       "      <td>46.0</td>\n",
       "      <td>0.274445</td>\n",
       "      <td>not significant</td>\n",
       "      <td>20230625_112913_standard_comp_to_both_rewarded...</td>\n",
       "      <td>1-4</td>\n",
       "      <td>10s lose vs 10s baseline</td>\n",
       "    </tr>\n",
       "    <tr>\n",
       "      <th>186</th>\n",
       "      <td>15</td>\n",
       "      <td>52.5</td>\n",
       "      <td>0.719727</td>\n",
       "      <td>not significant</td>\n",
       "      <td>20230625_112913_standard_comp_to_both_rewarded...</td>\n",
       "      <td>1-4</td>\n",
       "      <td>10s lose vs 10s baseline</td>\n",
       "    </tr>\n",
       "    <tr>\n",
       "      <th>187</th>\n",
       "      <td>27</td>\n",
       "      <td>40.0</td>\n",
       "      <td>0.276855</td>\n",
       "      <td>not significant</td>\n",
       "      <td>20230625_112913_standard_comp_to_both_rewarded...</td>\n",
       "      <td>1-4</td>\n",
       "      <td>10s lose vs 10s baseline</td>\n",
       "    </tr>\n",
       "    <tr>\n",
       "      <th>188</th>\n",
       "      <td>11</td>\n",
       "      <td>5.0</td>\n",
       "      <td>0.001221</td>\n",
       "      <td>increases</td>\n",
       "      <td>20230625_112913_standard_comp_to_both_rewarded...</td>\n",
       "      <td>1-4</td>\n",
       "      <td>10s lose vs 10s baseline</td>\n",
       "    </tr>\n",
       "  </tbody>\n",
       "</table>\n",
       "<p>189 rows × 7 columns</p>\n",
       "</div>"
      ],
      "text/plain": [
       "     original unit id  Wilcoxon Stat   p value event1 vs event2  \\\n",
       "0                  85            9.0  0.468750  not significant   \n",
       "1                  55           11.0  0.687500  not significant   \n",
       "2                  17            4.0  0.437500  not significant   \n",
       "3                  24           10.0  0.578125  not significant   \n",
       "4                  68           14.0  1.000000  not significant   \n",
       "..                ...            ...       ...              ...   \n",
       "184                39           49.0  0.348389  not significant   \n",
       "185                17           46.0  0.274445  not significant   \n",
       "186                15           52.5  0.719727  not significant   \n",
       "187                27           40.0  0.276855  not significant   \n",
       "188                11            5.0  0.001221        increases   \n",
       "\n",
       "                                             Recording Subject  \\\n",
       "0    20230612_101430_standard_comp_to_training_D1_s...     1-3   \n",
       "1    20230612_101430_standard_comp_to_training_D1_s...     1-3   \n",
       "2    20230612_101430_standard_comp_to_training_D1_s...     1-3   \n",
       "3    20230612_101430_standard_comp_to_training_D1_s...     1-3   \n",
       "4    20230612_101430_standard_comp_to_training_D1_s...     1-3   \n",
       "..                                                 ...     ...   \n",
       "184  20230625_112913_standard_comp_to_both_rewarded...     1-4   \n",
       "185  20230625_112913_standard_comp_to_both_rewarded...     1-4   \n",
       "186  20230625_112913_standard_comp_to_both_rewarded...     1-4   \n",
       "187  20230625_112913_standard_comp_to_both_rewarded...     1-4   \n",
       "188  20230625_112913_standard_comp_to_both_rewarded...     1-4   \n",
       "\n",
       "                        Event  \n",
       "0    10s lose vs 10s baseline  \n",
       "1    10s lose vs 10s baseline  \n",
       "2    10s lose vs 10s baseline  \n",
       "3    10s lose vs 10s baseline  \n",
       "4    10s lose vs 10s baseline  \n",
       "..                        ...  \n",
       "184  10s lose vs 10s baseline  \n",
       "185  10s lose vs 10s baseline  \n",
       "186  10s lose vs 10s baseline  \n",
       "187  10s lose vs 10s baseline  \n",
       "188  10s lose vs 10s baseline  \n",
       "\n",
       "[189 rows x 7 columns]"
      ]
     },
     "execution_count": 164,
     "metadata": {},
     "output_type": "execute_result"
    }
   ],
   "source": [
    "lose_df"
   ]
  },
  {
   "cell_type": "code",
   "execution_count": 165,
   "id": "115101fe-7403-4814-a867-71c413a3144c",
   "metadata": {
    "execution": {
     "iopub.execute_input": "2024-07-11T19:08:30.529293Z",
     "iopub.status.busy": "2024-07-11T19:08:30.527293Z",
     "iopub.status.idle": "2024-07-11T19:08:30.555290Z",
     "shell.execute_reply": "2024-07-11T19:08:30.553304Z",
     "shell.execute_reply.started": "2024-07-11T19:08:30.528297Z"
    }
   },
   "outputs": [],
   "source": [
    "lose_df_na = lose_df[lose_df.isna().any(axis=1)]"
   ]
  },
  {
   "cell_type": "code",
   "execution_count": 166,
   "id": "e9d9e646-ee4a-42bc-b167-7718e57e86a8",
   "metadata": {
    "execution": {
     "iopub.execute_input": "2024-07-11T19:08:30.558294Z",
     "iopub.status.busy": "2024-07-11T19:08:30.557292Z",
     "iopub.status.idle": "2024-07-11T19:08:30.587290Z",
     "shell.execute_reply": "2024-07-11T19:08:30.585296Z",
     "shell.execute_reply.started": "2024-07-11T19:08:30.558294Z"
    }
   },
   "outputs": [
    {
     "data": {
      "text/html": [
       "<div>\n",
       "<style scoped>\n",
       "    .dataframe tbody tr th:only-of-type {\n",
       "        vertical-align: middle;\n",
       "    }\n",
       "\n",
       "    .dataframe tbody tr th {\n",
       "        vertical-align: top;\n",
       "    }\n",
       "\n",
       "    .dataframe thead th {\n",
       "        text-align: right;\n",
       "    }\n",
       "</style>\n",
       "<table border=\"1\" class=\"dataframe\">\n",
       "  <thead>\n",
       "    <tr style=\"text-align: right;\">\n",
       "      <th></th>\n",
       "      <th>original unit id</th>\n",
       "      <th>Wilcoxon Stat</th>\n",
       "      <th>p value</th>\n",
       "      <th>event1 vs event2</th>\n",
       "      <th>Recording</th>\n",
       "      <th>Subject</th>\n",
       "      <th>Event</th>\n",
       "    </tr>\n",
       "  </thead>\n",
       "  <tbody>\n",
       "    <tr>\n",
       "      <th>19</th>\n",
       "      <td>0</td>\n",
       "      <td>NaN</td>\n",
       "      <td>NaN</td>\n",
       "      <td>NaN</td>\n",
       "      <td>20230617_115521_standard_comp_to_omission_D1_s...</td>\n",
       "      <td>1-1</td>\n",
       "      <td>10s lose vs 10s baseline</td>\n",
       "    </tr>\n",
       "    <tr>\n",
       "      <th>92</th>\n",
       "      <td>0</td>\n",
       "      <td>NaN</td>\n",
       "      <td>NaN</td>\n",
       "      <td>NaN</td>\n",
       "      <td>20230620_114347_standard_comp_to_omission_D4_s...</td>\n",
       "      <td>1-1</td>\n",
       "      <td>10s lose vs 10s baseline</td>\n",
       "    </tr>\n",
       "    <tr>\n",
       "      <th>153</th>\n",
       "      <td>0</td>\n",
       "      <td>NaN</td>\n",
       "      <td>NaN</td>\n",
       "      <td>NaN</td>\n",
       "      <td>20230622_110832_standard_comp_to_both_rewarded...</td>\n",
       "      <td>1-2</td>\n",
       "      <td>10s lose vs 10s baseline</td>\n",
       "    </tr>\n",
       "    <tr>\n",
       "      <th>154</th>\n",
       "      <td>0</td>\n",
       "      <td>NaN</td>\n",
       "      <td>NaN</td>\n",
       "      <td>NaN</td>\n",
       "      <td>20230624_105855_standard_comp_to_both_rewarded...</td>\n",
       "      <td>1-2</td>\n",
       "      <td>10s lose vs 10s baseline</td>\n",
       "    </tr>\n",
       "    <tr>\n",
       "      <th>173</th>\n",
       "      <td>0</td>\n",
       "      <td>NaN</td>\n",
       "      <td>NaN</td>\n",
       "      <td>NaN</td>\n",
       "      <td>20230625_112913_standard_comp_to_both_rewarded...</td>\n",
       "      <td>1-1</td>\n",
       "      <td>10s lose vs 10s baseline</td>\n",
       "    </tr>\n",
       "  </tbody>\n",
       "</table>\n",
       "</div>"
      ],
      "text/plain": [
       "     original unit id  Wilcoxon Stat  p value event1 vs event2  \\\n",
       "19                  0            NaN      NaN              NaN   \n",
       "92                  0            NaN      NaN              NaN   \n",
       "153                 0            NaN      NaN              NaN   \n",
       "154                 0            NaN      NaN              NaN   \n",
       "173                 0            NaN      NaN              NaN   \n",
       "\n",
       "                                             Recording Subject  \\\n",
       "19   20230617_115521_standard_comp_to_omission_D1_s...     1-1   \n",
       "92   20230620_114347_standard_comp_to_omission_D4_s...     1-1   \n",
       "153  20230622_110832_standard_comp_to_both_rewarded...     1-2   \n",
       "154  20230624_105855_standard_comp_to_both_rewarded...     1-2   \n",
       "173  20230625_112913_standard_comp_to_both_rewarded...     1-1   \n",
       "\n",
       "                        Event  \n",
       "19   10s lose vs 10s baseline  \n",
       "92   10s lose vs 10s baseline  \n",
       "153  10s lose vs 10s baseline  \n",
       "154  10s lose vs 10s baseline  \n",
       "173  10s lose vs 10s baseline  "
      ]
     },
     "execution_count": 166,
     "metadata": {},
     "output_type": "execute_result"
    }
   ],
   "source": [
    "lose_df_na"
   ]
  },
  {
   "cell_type": "code",
   "execution_count": 167,
   "id": "3f5de208-f742-48c5-92b8-17b2f5033cef",
   "metadata": {
    "execution": {
     "iopub.execute_input": "2024-07-11T19:08:30.590300Z",
     "iopub.status.busy": "2024-07-11T19:08:30.589290Z",
     "iopub.status.idle": "2024-07-11T19:08:31.476313Z",
     "shell.execute_reply": "2024-07-11T19:08:31.474311Z",
     "shell.execute_reply.started": "2024-07-11T19:08:30.590300Z"
    }
   },
   "outputs": [
    {
     "name": "stdout",
     "output_type": "stream",
     "text": [
      "Wilcoxon can't be done on 20230617_115521_standard_comp_to_omission_D1_subj_1-2_t2b2L_box2_merged.rec win, because <6 samples\n",
      "Wilcoxon can't be done on 20230619_115321_standard_comp_to_omission_D3_subj_1-4_t3b3L_box2_merged.rec win, because <6 samples\n",
      "Wilcoxon can't be done on 20230620_114347_standard_comp_to_omission_D4_subj_1-2_t3b3L_box_1_merged.rec win, because <6 samples\n",
      "Wilcoxon can't be done on 20230621_111240_standard_comp_to_omission_D5_subj_1-4_t3b3L_box1_merged.rec win, because <6 samples\n",
      "Wilcoxon can't be done on 20230622_110832_standard_comp_to_both_rewarded_D1_subj_1-1_t1b3L_box1_merged.rec win, because <6 samples\n",
      "Wilcoxon can't be done on 20230624_105855_standard_comp_to_both_rewarded_D3_subj_1-4_t3b3L_box1_merged.rec win, because <6 samples\n",
      "Wilcoxon can't be done on 20230625_112913_standard_comp_to_both_rewarded_D4_subj_1-4_t3b3L_box1_merged.rec win, because <6 samples\n"
     ]
    }
   ],
   "source": [
    "win_df = spike_analysis.wilcox_baseline_v_event_collection('win', 10, 10, plot=False)\n",
    "win_df_na = win_df[win_df.isna().any(axis=1)]"
   ]
  },
  {
   "cell_type": "code",
   "execution_count": 168,
   "id": "cefcba4c-4c29-4c16-84e8-544ec5c21cef",
   "metadata": {
    "execution": {
     "iopub.execute_input": "2024-07-11T19:08:31.480316Z",
     "iopub.status.busy": "2024-07-11T19:08:31.479324Z",
     "iopub.status.idle": "2024-07-11T19:08:31.508348Z",
     "shell.execute_reply": "2024-07-11T19:08:31.506338Z",
     "shell.execute_reply.started": "2024-07-11T19:08:31.480316Z"
    }
   },
   "outputs": [
    {
     "data": {
      "text/html": [
       "<div>\n",
       "<style scoped>\n",
       "    .dataframe tbody tr th:only-of-type {\n",
       "        vertical-align: middle;\n",
       "    }\n",
       "\n",
       "    .dataframe tbody tr th {\n",
       "        vertical-align: top;\n",
       "    }\n",
       "\n",
       "    .dataframe thead th {\n",
       "        text-align: right;\n",
       "    }\n",
       "</style>\n",
       "<table border=\"1\" class=\"dataframe\">\n",
       "  <thead>\n",
       "    <tr style=\"text-align: right;\">\n",
       "      <th></th>\n",
       "      <th>original unit id</th>\n",
       "      <th>Wilcoxon Stat</th>\n",
       "      <th>p value</th>\n",
       "      <th>event1 vs event2</th>\n",
       "      <th>Recording</th>\n",
       "      <th>Subject</th>\n",
       "      <th>Event</th>\n",
       "    </tr>\n",
       "  </thead>\n",
       "  <tbody>\n",
       "    <tr>\n",
       "      <th>36</th>\n",
       "      <td>0</td>\n",
       "      <td>NaN</td>\n",
       "      <td>NaN</td>\n",
       "      <td>NaN</td>\n",
       "      <td>20230617_115521_standard_comp_to_omission_D1_s...</td>\n",
       "      <td>1-2</td>\n",
       "      <td>10s win vs 10s baseline</td>\n",
       "    </tr>\n",
       "    <tr>\n",
       "      <th>65</th>\n",
       "      <td>0</td>\n",
       "      <td>NaN</td>\n",
       "      <td>NaN</td>\n",
       "      <td>NaN</td>\n",
       "      <td>20230619_115321_standard_comp_to_omission_D3_s...</td>\n",
       "      <td>1-4</td>\n",
       "      <td>10s win vs 10s baseline</td>\n",
       "    </tr>\n",
       "    <tr>\n",
       "      <th>74</th>\n",
       "      <td>0</td>\n",
       "      <td>NaN</td>\n",
       "      <td>NaN</td>\n",
       "      <td>NaN</td>\n",
       "      <td>20230620_114347_standard_comp_to_omission_D4_s...</td>\n",
       "      <td>1-2</td>\n",
       "      <td>10s win vs 10s baseline</td>\n",
       "    </tr>\n",
       "    <tr>\n",
       "      <th>75</th>\n",
       "      <td>0</td>\n",
       "      <td>NaN</td>\n",
       "      <td>NaN</td>\n",
       "      <td>NaN</td>\n",
       "      <td>20230621_111240_standard_comp_to_omission_D5_s...</td>\n",
       "      <td>1-4</td>\n",
       "      <td>10s win vs 10s baseline</td>\n",
       "    </tr>\n",
       "    <tr>\n",
       "      <th>76</th>\n",
       "      <td>0</td>\n",
       "      <td>NaN</td>\n",
       "      <td>NaN</td>\n",
       "      <td>NaN</td>\n",
       "      <td>20230622_110832_standard_comp_to_both_rewarded...</td>\n",
       "      <td>1-1</td>\n",
       "      <td>10s win vs 10s baseline</td>\n",
       "    </tr>\n",
       "    <tr>\n",
       "      <th>136</th>\n",
       "      <td>0</td>\n",
       "      <td>NaN</td>\n",
       "      <td>NaN</td>\n",
       "      <td>NaN</td>\n",
       "      <td>20230624_105855_standard_comp_to_both_rewarded...</td>\n",
       "      <td>1-4</td>\n",
       "      <td>10s win vs 10s baseline</td>\n",
       "    </tr>\n",
       "    <tr>\n",
       "      <th>153</th>\n",
       "      <td>0</td>\n",
       "      <td>NaN</td>\n",
       "      <td>NaN</td>\n",
       "      <td>NaN</td>\n",
       "      <td>20230625_112913_standard_comp_to_both_rewarded...</td>\n",
       "      <td>1-4</td>\n",
       "      <td>10s win vs 10s baseline</td>\n",
       "    </tr>\n",
       "  </tbody>\n",
       "</table>\n",
       "</div>"
      ],
      "text/plain": [
       "     original unit id  Wilcoxon Stat  p value event1 vs event2  \\\n",
       "36                  0            NaN      NaN              NaN   \n",
       "65                  0            NaN      NaN              NaN   \n",
       "74                  0            NaN      NaN              NaN   \n",
       "75                  0            NaN      NaN              NaN   \n",
       "76                  0            NaN      NaN              NaN   \n",
       "136                 0            NaN      NaN              NaN   \n",
       "153                 0            NaN      NaN              NaN   \n",
       "\n",
       "                                             Recording Subject  \\\n",
       "36   20230617_115521_standard_comp_to_omission_D1_s...     1-2   \n",
       "65   20230619_115321_standard_comp_to_omission_D3_s...     1-4   \n",
       "74   20230620_114347_standard_comp_to_omission_D4_s...     1-2   \n",
       "75   20230621_111240_standard_comp_to_omission_D5_s...     1-4   \n",
       "76   20230622_110832_standard_comp_to_both_rewarded...     1-1   \n",
       "136  20230624_105855_standard_comp_to_both_rewarded...     1-4   \n",
       "153  20230625_112913_standard_comp_to_both_rewarded...     1-4   \n",
       "\n",
       "                       Event  \n",
       "36   10s win vs 10s baseline  \n",
       "65   10s win vs 10s baseline  \n",
       "74   10s win vs 10s baseline  \n",
       "75   10s win vs 10s baseline  \n",
       "76   10s win vs 10s baseline  \n",
       "136  10s win vs 10s baseline  \n",
       "153  10s win vs 10s baseline  "
      ]
     },
     "execution_count": 168,
     "metadata": {},
     "output_type": "execute_result"
    }
   ],
   "source": [
    "win_df_na"
   ]
  },
  {
   "cell_type": "code",
   "execution_count": 169,
   "id": "2d245faf-9a35-4ba6-9be0-ad87d0be2e98",
   "metadata": {
    "execution": {
     "iopub.execute_input": "2024-07-11T19:08:31.512908Z",
     "iopub.status.busy": "2024-07-11T19:08:31.511870Z",
     "iopub.status.idle": "2024-07-11T19:08:31.539889Z",
     "shell.execute_reply": "2024-07-11T19:08:31.537889Z",
     "shell.execute_reply.started": "2024-07-11T19:08:31.512908Z"
    }
   },
   "outputs": [
    {
     "data": {
      "text/plain": [
       "184"
      ]
     },
     "execution_count": 169,
     "metadata": {},
     "output_type": "execute_result"
    }
   ],
   "source": [
    "149+32+3"
   ]
  },
  {
   "cell_type": "code",
   "execution_count": 170,
   "id": "b3f26147-babe-4c98-b219-a1397b780a15",
   "metadata": {
    "execution": {
     "iopub.execute_input": "2024-07-11T19:08:31.543897Z",
     "iopub.status.busy": "2024-07-11T19:08:31.541892Z",
     "iopub.status.idle": "2024-07-11T19:08:34.433407Z",
     "shell.execute_reply": "2024-07-11T19:08:34.431414Z",
     "shell.execute_reply.started": "2024-07-11T19:08:31.542890Z"
    }
   },
   "outputs": [
    {
     "name": "stdout",
     "output_type": "stream",
     "text": [
      "Wilcoxon can't be done on 20230617_115521_standard_comp_to_omission_D1_subj_1-1_t1b3L_box1_merged.rec rewarded, because <6 samples\n",
      "Wilcoxon can't be done on 20230617_115521_standard_comp_to_omission_D1_subj_1-2_t2b2L_box2_merged.rec rewarded, because <6 samples\n",
      "Wilcoxon can't be done on 20230622_110832_standard_comp_to_both_rewarded_D1_subj_1-1_t1b3L_box1_merged.rec rewarded, because <6 samples\n",
      "Wilcoxon can't be done on 20230622_110832_standard_comp_to_both_rewarded_D1_subj_1-2_t3b3L_box1_merged.rec rewarded, because <6 samples\n",
      "Wilcoxon can't be done on 20230624_105855_standard_comp_to_both_rewarded_D3_subj_1-2_t1b2L_box1_merged.rec rewarded, because <6 samples\n",
      "Wilcoxon can't be done on 20230624_105855_standard_comp_to_both_rewarded_D3_subj_1-4_t3b3L_box1_merged.rec rewarded, because <6 samples\n",
      "Wilcoxon can't be done on 20230625_112913_standard_comp_to_both_rewarded_D4_subj_1-1_t1b2L_box1_merged.rec rewarded, because <6 samples\n",
      "Wilcoxon can't be done on 20230625_112913_standard_comp_to_both_rewarded_D4_subj_1-4_t3b3L_box1_merged.rec rewarded, because <6 samples\n",
      "Wilcoxon can't be done on 20230617_115521_standard_comp_to_omission_D1_subj_1-2_t2b2L_box2_merged.rec win, because <6 samples\n",
      "Wilcoxon can't be done on 20230619_115321_standard_comp_to_omission_D3_subj_1-4_t3b3L_box2_merged.rec win, because <6 samples\n",
      "Wilcoxon can't be done on 20230620_114347_standard_comp_to_omission_D4_subj_1-2_t3b3L_box_1_merged.rec win, because <6 samples\n",
      "Wilcoxon can't be done on 20230621_111240_standard_comp_to_omission_D5_subj_1-4_t3b3L_box1_merged.rec win, because <6 samples\n",
      "Wilcoxon can't be done on 20230622_110832_standard_comp_to_both_rewarded_D1_subj_1-1_t1b3L_box1_merged.rec win, because <6 samples\n",
      "Wilcoxon can't be done on 20230624_105855_standard_comp_to_both_rewarded_D3_subj_1-4_t3b3L_box1_merged.rec win, because <6 samples\n",
      "Wilcoxon can't be done on 20230625_112913_standard_comp_to_both_rewarded_D4_subj_1-4_t3b3L_box1_merged.rec win, because <6 samples\n",
      "Wilcoxon can't be done on 20230617_115521_standard_comp_to_omission_D1_subj_1-1_t1b3L_box1_merged.rec lose, because <6 samples\n",
      "Wilcoxon can't be done on 20230620_114347_standard_comp_to_omission_D4_subj_1-1_t1b2L_box_2_merged.rec lose, because <6 samples\n",
      "Wilcoxon can't be done on 20230622_110832_standard_comp_to_both_rewarded_D1_subj_1-2_t3b3L_box1_merged.rec lose, because <6 samples\n",
      "Wilcoxon can't be done on 20230624_105855_standard_comp_to_both_rewarded_D3_subj_1-2_t1b2L_box1_merged.rec lose, because <6 samples\n",
      "Wilcoxon can't be done on 20230625_112913_standard_comp_to_both_rewarded_D4_subj_1-1_t1b2L_box1_merged.rec lose, because <6 samples\n"
     ]
    }
   ],
   "source": [
    "rewarded_df = spike_analysis.wilcox_baseline_v_event_collection('rewarded', 10, 10, plot=False)\n",
    "win_df = spike_analysis.wilcox_baseline_v_event_collection('win', 10, 10, plot=False)\n",
    "lose_df = spike_analysis.wilcox_baseline_v_event_collection('lose', 10, 10, plot=False)"
   ]
  },
  {
   "cell_type": "code",
   "execution_count": 171,
   "id": "7cf1091d-1515-47a6-bb06-f694bc08e6ba",
   "metadata": {
    "execution": {
     "iopub.execute_input": "2024-07-11T19:08:34.438409Z",
     "iopub.status.busy": "2024-07-11T19:08:34.437418Z",
     "iopub.status.idle": "2024-07-11T19:08:34.465411Z",
     "shell.execute_reply": "2024-07-11T19:08:34.462410Z",
     "shell.execute_reply.started": "2024-07-11T19:08:34.438409Z"
    }
   },
   "outputs": [],
   "source": [
    "def normalize_event_string(event_string):\n",
    "        event_list = event_string.split(', ')\n",
    "        event_list_sorted = sorted(event_list)  # Sort the list to ensure consistent order\n",
    "        return ', '.join(event_list_sorted)  # Join the sorted list back into a string\n",
    "\n",
    "def aggregate_event_data(combined_df):\n",
    "    # Function to extract just the event name\n",
    "    def extract_event_name(event):\n",
    "        # Remove any leading time duration from the event string\n",
    "        parts = event.split(' vs ')\n",
    "        event_name = parts[0].split(' ')[-1]  # Splits by space and takes the last part, removing any time prefix\n",
    "        return event_name\n",
    "\n",
    "    # Initialize an empty dictionary to hold aggregated data\n",
    "    aggregated_data = {}\n",
    "\n",
    "    # Iterate over the rows of the combined DataFrame\n",
    "    for index, row in combined_df.iterrows():\n",
    "        # Extract event name\n",
    "        event_name = extract_event_name(row['Event'])\n",
    "        # Construct a unique key for each combination of recording, subject, and unit id\n",
    "        key = (row['Recording'], row['Subject'], row['original unit id'])\n",
    "        \n",
    "        # Initialize the entry if not exists\n",
    "        if key not in aggregated_data:\n",
    "            aggregated_data[key] = {'sig_increase_events': set(), 'sig_decrease_events': set(), 'insig_events': set()}\n",
    "        \n",
    "        # Append the event name to the appropriate category based on 'event1 vs event2'\n",
    "        if row['event1 vs event2'] == 'increases':\n",
    "            aggregated_data[key]['sig_increase_events'].add(event_name)\n",
    "        elif row['event1 vs event2'] == 'decreases':\n",
    "            aggregated_data[key]['sig_decrease_events'].add(event_name)\n",
    "        else:\n",
    "            aggregated_data[key]['insig_events'].add(event_name)\n",
    "\n",
    "    # Convert the aggregated data into a DataFrame\n",
    "    rows = []\n",
    "    for (recording, subject, unit_id), categories in aggregated_data.items():\n",
    "        row = {\n",
    "            'Recording': recording,\n",
    "            'Subject': subject,\n",
    "            'original unit id': unit_id,\n",
    "            'sig_increase_events': ', '.join(categories['sig_increase_events']),\n",
    "            'sig_decrease_events': ', '.join(categories['sig_decrease_events']),\n",
    "            'insig_events': ', '.join(categories['insig_events']),\n",
    "        }\n",
    "        rows.append(row)\n",
    "\n",
    "    aggregated_df = pd.DataFrame(rows)\n",
    "    aggregated_df['sig_events'] = aggregated_df.apply(\n",
    "        lambda row: ', '.join(filter(None, [row['sig_increase_events'], row['sig_decrease_events']])), axis=1)\n",
    "\n",
    "    # Apply the normalization function to the 'sig_events' column before counting\n",
    "    aggregated_df['sig_events'] = aggregated_df['sig_events'].apply(normalize_event_string)\n",
    "\n",
    "    # Count the unique combinations of significant events\n",
    "    sig_events_counts = aggregated_df['sig_events'].value_counts()\n",
    "\n",
    "    # Rename the empty strings to 'non-responsive'\n",
    "    sig_events_counts = sig_events_counts.rename(index={'': 'Non-Responsive'})\n",
    "\n",
    "    return aggregated_df, sig_events_counts"
   ]
  },
  {
   "cell_type": "code",
   "execution_count": 172,
   "id": "f4c40340-1ed0-4de9-acd6-0cf48320c270",
   "metadata": {
    "execution": {
     "iopub.execute_input": "2024-07-11T19:08:34.470406Z",
     "iopub.status.busy": "2024-07-11T19:08:34.469411Z",
     "iopub.status.idle": "2024-07-11T19:08:34.542706Z",
     "shell.execute_reply": "2024-07-11T19:08:34.541699Z",
     "shell.execute_reply.started": "2024-07-11T19:08:34.470406Z"
    }
   },
   "outputs": [],
   "source": [
    "rewardwin_df = pd.concat([rewarded_df, win_df])\n",
    "\n",
    "reward_win_df, reward_win_events_counts = aggregate_event_data(rewardwin_df)"
   ]
  },
  {
   "cell_type": "code",
   "execution_count": 173,
   "id": "667ee640-4f7d-41fb-bda0-fc092fb8236c",
   "metadata": {
    "execution": {
     "iopub.execute_input": "2024-07-11T19:08:34.547715Z",
     "iopub.status.busy": "2024-07-11T19:08:34.546708Z",
     "iopub.status.idle": "2024-07-11T19:08:34.591703Z",
     "shell.execute_reply": "2024-07-11T19:08:34.589710Z",
     "shell.execute_reply.started": "2024-07-11T19:08:34.547715Z"
    }
   },
   "outputs": [
    {
     "data": {
      "text/html": [
       "<div>\n",
       "<style scoped>\n",
       "    .dataframe tbody tr th:only-of-type {\n",
       "        vertical-align: middle;\n",
       "    }\n",
       "\n",
       "    .dataframe tbody tr th {\n",
       "        vertical-align: top;\n",
       "    }\n",
       "\n",
       "    .dataframe thead th {\n",
       "        text-align: right;\n",
       "    }\n",
       "</style>\n",
       "<table border=\"1\" class=\"dataframe\">\n",
       "  <thead>\n",
       "    <tr style=\"text-align: right;\">\n",
       "      <th></th>\n",
       "      <th>original unit id</th>\n",
       "      <th>Wilcoxon Stat</th>\n",
       "      <th>p value</th>\n",
       "      <th>event1 vs event2</th>\n",
       "      <th>Recording</th>\n",
       "      <th>Subject</th>\n",
       "      <th>Event</th>\n",
       "    </tr>\n",
       "  </thead>\n",
       "  <tbody>\n",
       "    <tr>\n",
       "      <th>0</th>\n",
       "      <td>85</td>\n",
       "      <td>46.0</td>\n",
       "      <td>0.274445</td>\n",
       "      <td>not significant</td>\n",
       "      <td>20230612_101430_standard_comp_to_training_D1_s...</td>\n",
       "      <td>1-3</td>\n",
       "      <td>10s rewarded vs 10s baseline</td>\n",
       "    </tr>\n",
       "    <tr>\n",
       "      <th>1</th>\n",
       "      <td>55</td>\n",
       "      <td>75.5</td>\n",
       "      <td>0.294252</td>\n",
       "      <td>not significant</td>\n",
       "      <td>20230612_101430_standard_comp_to_training_D1_s...</td>\n",
       "      <td>1-3</td>\n",
       "      <td>10s rewarded vs 10s baseline</td>\n",
       "    </tr>\n",
       "    <tr>\n",
       "      <th>2</th>\n",
       "      <td>17</td>\n",
       "      <td>61.5</td>\n",
       "      <td>0.195633</td>\n",
       "      <td>not significant</td>\n",
       "      <td>20230612_101430_standard_comp_to_training_D1_s...</td>\n",
       "      <td>1-3</td>\n",
       "      <td>10s rewarded vs 10s baseline</td>\n",
       "    </tr>\n",
       "    <tr>\n",
       "      <th>3</th>\n",
       "      <td>24</td>\n",
       "      <td>30.5</td>\n",
       "      <td>0.004221</td>\n",
       "      <td>increases</td>\n",
       "      <td>20230612_101430_standard_comp_to_training_D1_s...</td>\n",
       "      <td>1-3</td>\n",
       "      <td>10s rewarded vs 10s baseline</td>\n",
       "    </tr>\n",
       "    <tr>\n",
       "      <th>4</th>\n",
       "      <td>68</td>\n",
       "      <td>56.0</td>\n",
       "      <td>0.561890</td>\n",
       "      <td>not significant</td>\n",
       "      <td>20230612_101430_standard_comp_to_training_D1_s...</td>\n",
       "      <td>1-3</td>\n",
       "      <td>10s rewarded vs 10s baseline</td>\n",
       "    </tr>\n",
       "    <tr>\n",
       "      <th>...</th>\n",
       "      <td>...</td>\n",
       "      <td>...</td>\n",
       "      <td>...</td>\n",
       "      <td>...</td>\n",
       "      <td>...</td>\n",
       "      <td>...</td>\n",
       "      <td>...</td>\n",
       "    </tr>\n",
       "    <tr>\n",
       "      <th>149</th>\n",
       "      <td>32</td>\n",
       "      <td>61.5</td>\n",
       "      <td>0.781952</td>\n",
       "      <td>not significant</td>\n",
       "      <td>20230625_112913_standard_comp_to_both_rewarded...</td>\n",
       "      <td>1-1</td>\n",
       "      <td>10s win vs 10s baseline</td>\n",
       "    </tr>\n",
       "    <tr>\n",
       "      <th>150</th>\n",
       "      <td>62</td>\n",
       "      <td>34.0</td>\n",
       "      <td>0.083252</td>\n",
       "      <td>not significant</td>\n",
       "      <td>20230625_112913_standard_comp_to_both_rewarded...</td>\n",
       "      <td>1-1</td>\n",
       "      <td>10s win vs 10s baseline</td>\n",
       "    </tr>\n",
       "    <tr>\n",
       "      <th>151</th>\n",
       "      <td>78</td>\n",
       "      <td>44.0</td>\n",
       "      <td>0.231201</td>\n",
       "      <td>not significant</td>\n",
       "      <td>20230625_112913_standard_comp_to_both_rewarded...</td>\n",
       "      <td>1-1</td>\n",
       "      <td>10s win vs 10s baseline</td>\n",
       "    </tr>\n",
       "    <tr>\n",
       "      <th>152</th>\n",
       "      <td>64</td>\n",
       "      <td>51.5</td>\n",
       "      <td>0.433197</td>\n",
       "      <td>not significant</td>\n",
       "      <td>20230625_112913_standard_comp_to_both_rewarded...</td>\n",
       "      <td>1-1</td>\n",
       "      <td>10s win vs 10s baseline</td>\n",
       "    </tr>\n",
       "    <tr>\n",
       "      <th>153</th>\n",
       "      <td>0</td>\n",
       "      <td>NaN</td>\n",
       "      <td>NaN</td>\n",
       "      <td>NaN</td>\n",
       "      <td>20230625_112913_standard_comp_to_both_rewarded...</td>\n",
       "      <td>1-4</td>\n",
       "      <td>10s win vs 10s baseline</td>\n",
       "    </tr>\n",
       "  </tbody>\n",
       "</table>\n",
       "<p>282 rows × 7 columns</p>\n",
       "</div>"
      ],
      "text/plain": [
       "     original unit id  Wilcoxon Stat   p value event1 vs event2  \\\n",
       "0                  85           46.0  0.274445  not significant   \n",
       "1                  55           75.5  0.294252  not significant   \n",
       "2                  17           61.5  0.195633  not significant   \n",
       "3                  24           30.5  0.004221        increases   \n",
       "4                  68           56.0  0.561890  not significant   \n",
       "..                ...            ...       ...              ...   \n",
       "149                32           61.5  0.781952  not significant   \n",
       "150                62           34.0  0.083252  not significant   \n",
       "151                78           44.0  0.231201  not significant   \n",
       "152                64           51.5  0.433197  not significant   \n",
       "153                 0            NaN       NaN              NaN   \n",
       "\n",
       "                                             Recording Subject  \\\n",
       "0    20230612_101430_standard_comp_to_training_D1_s...     1-3   \n",
       "1    20230612_101430_standard_comp_to_training_D1_s...     1-3   \n",
       "2    20230612_101430_standard_comp_to_training_D1_s...     1-3   \n",
       "3    20230612_101430_standard_comp_to_training_D1_s...     1-3   \n",
       "4    20230612_101430_standard_comp_to_training_D1_s...     1-3   \n",
       "..                                                 ...     ...   \n",
       "149  20230625_112913_standard_comp_to_both_rewarded...     1-1   \n",
       "150  20230625_112913_standard_comp_to_both_rewarded...     1-1   \n",
       "151  20230625_112913_standard_comp_to_both_rewarded...     1-1   \n",
       "152  20230625_112913_standard_comp_to_both_rewarded...     1-1   \n",
       "153  20230625_112913_standard_comp_to_both_rewarded...     1-4   \n",
       "\n",
       "                            Event  \n",
       "0    10s rewarded vs 10s baseline  \n",
       "1    10s rewarded vs 10s baseline  \n",
       "2    10s rewarded vs 10s baseline  \n",
       "3    10s rewarded vs 10s baseline  \n",
       "4    10s rewarded vs 10s baseline  \n",
       "..                            ...  \n",
       "149       10s win vs 10s baseline  \n",
       "150       10s win vs 10s baseline  \n",
       "151       10s win vs 10s baseline  \n",
       "152       10s win vs 10s baseline  \n",
       "153       10s win vs 10s baseline  \n",
       "\n",
       "[282 rows x 7 columns]"
      ]
     },
     "execution_count": 173,
     "metadata": {},
     "output_type": "execute_result"
    }
   ],
   "source": [
    "rewardwin_df"
   ]
  },
  {
   "cell_type": "code",
   "execution_count": 174,
   "id": "63946be6-4130-4c34-865d-c52f4ded4a3c",
   "metadata": {
    "execution": {
     "iopub.execute_input": "2024-07-11T19:08:34.594704Z",
     "iopub.status.busy": "2024-07-11T19:08:34.593709Z",
     "iopub.status.idle": "2024-07-11T19:08:34.672287Z",
     "shell.execute_reply": "2024-07-11T19:08:34.669296Z",
     "shell.execute_reply.started": "2024-07-11T19:08:34.594704Z"
    }
   },
   "outputs": [
    {
     "data": {
      "text/html": [
       "<div>\n",
       "<style scoped>\n",
       "    .dataframe tbody tr th:only-of-type {\n",
       "        vertical-align: middle;\n",
       "    }\n",
       "\n",
       "    .dataframe tbody tr th {\n",
       "        vertical-align: top;\n",
       "    }\n",
       "\n",
       "    .dataframe thead th {\n",
       "        text-align: right;\n",
       "    }\n",
       "</style>\n",
       "<table border=\"1\" class=\"dataframe\">\n",
       "  <thead>\n",
       "    <tr style=\"text-align: right;\">\n",
       "      <th></th>\n",
       "      <th>Recording</th>\n",
       "      <th>Subject</th>\n",
       "      <th>original unit id</th>\n",
       "      <th>sig_increase_events</th>\n",
       "      <th>sig_decrease_events</th>\n",
       "      <th>insig_events</th>\n",
       "      <th>sig_events</th>\n",
       "    </tr>\n",
       "  </thead>\n",
       "  <tbody>\n",
       "    <tr>\n",
       "      <th>0</th>\n",
       "      <td>20230612_101430_standard_comp_to_training_D1_s...</td>\n",
       "      <td>1-3</td>\n",
       "      <td>85</td>\n",
       "      <td></td>\n",
       "      <td></td>\n",
       "      <td>rewarded, win</td>\n",
       "      <td></td>\n",
       "    </tr>\n",
       "    <tr>\n",
       "      <th>1</th>\n",
       "      <td>20230612_101430_standard_comp_to_training_D1_s...</td>\n",
       "      <td>1-3</td>\n",
       "      <td>55</td>\n",
       "      <td></td>\n",
       "      <td></td>\n",
       "      <td>rewarded, win</td>\n",
       "      <td></td>\n",
       "    </tr>\n",
       "    <tr>\n",
       "      <th>2</th>\n",
       "      <td>20230612_101430_standard_comp_to_training_D1_s...</td>\n",
       "      <td>1-3</td>\n",
       "      <td>17</td>\n",
       "      <td></td>\n",
       "      <td></td>\n",
       "      <td>rewarded, win</td>\n",
       "      <td></td>\n",
       "    </tr>\n",
       "    <tr>\n",
       "      <th>3</th>\n",
       "      <td>20230612_101430_standard_comp_to_training_D1_s...</td>\n",
       "      <td>1-3</td>\n",
       "      <td>24</td>\n",
       "      <td>rewarded, win</td>\n",
       "      <td></td>\n",
       "      <td></td>\n",
       "      <td>rewarded, win</td>\n",
       "    </tr>\n",
       "    <tr>\n",
       "      <th>4</th>\n",
       "      <td>20230612_101430_standard_comp_to_training_D1_s...</td>\n",
       "      <td>1-3</td>\n",
       "      <td>68</td>\n",
       "      <td></td>\n",
       "      <td></td>\n",
       "      <td>rewarded, win</td>\n",
       "      <td></td>\n",
       "    </tr>\n",
       "    <tr>\n",
       "      <th>...</th>\n",
       "      <td>...</td>\n",
       "      <td>...</td>\n",
       "      <td>...</td>\n",
       "      <td>...</td>\n",
       "      <td>...</td>\n",
       "      <td>...</td>\n",
       "      <td>...</td>\n",
       "    </tr>\n",
       "    <tr>\n",
       "      <th>216</th>\n",
       "      <td>20230625_112913_standard_comp_to_both_rewarded...</td>\n",
       "      <td>1-1</td>\n",
       "      <td>3</td>\n",
       "      <td></td>\n",
       "      <td></td>\n",
       "      <td>win</td>\n",
       "      <td></td>\n",
       "    </tr>\n",
       "    <tr>\n",
       "      <th>217</th>\n",
       "      <td>20230625_112913_standard_comp_to_both_rewarded...</td>\n",
       "      <td>1-1</td>\n",
       "      <td>32</td>\n",
       "      <td></td>\n",
       "      <td></td>\n",
       "      <td>win</td>\n",
       "      <td></td>\n",
       "    </tr>\n",
       "    <tr>\n",
       "      <th>218</th>\n",
       "      <td>20230625_112913_standard_comp_to_both_rewarded...</td>\n",
       "      <td>1-1</td>\n",
       "      <td>62</td>\n",
       "      <td></td>\n",
       "      <td></td>\n",
       "      <td>win</td>\n",
       "      <td></td>\n",
       "    </tr>\n",
       "    <tr>\n",
       "      <th>219</th>\n",
       "      <td>20230625_112913_standard_comp_to_both_rewarded...</td>\n",
       "      <td>1-1</td>\n",
       "      <td>78</td>\n",
       "      <td></td>\n",
       "      <td></td>\n",
       "      <td>win</td>\n",
       "      <td></td>\n",
       "    </tr>\n",
       "    <tr>\n",
       "      <th>220</th>\n",
       "      <td>20230625_112913_standard_comp_to_both_rewarded...</td>\n",
       "      <td>1-1</td>\n",
       "      <td>64</td>\n",
       "      <td></td>\n",
       "      <td></td>\n",
       "      <td>win</td>\n",
       "      <td></td>\n",
       "    </tr>\n",
       "  </tbody>\n",
       "</table>\n",
       "<p>221 rows × 7 columns</p>\n",
       "</div>"
      ],
      "text/plain": [
       "                                             Recording Subject  \\\n",
       "0    20230612_101430_standard_comp_to_training_D1_s...     1-3   \n",
       "1    20230612_101430_standard_comp_to_training_D1_s...     1-3   \n",
       "2    20230612_101430_standard_comp_to_training_D1_s...     1-3   \n",
       "3    20230612_101430_standard_comp_to_training_D1_s...     1-3   \n",
       "4    20230612_101430_standard_comp_to_training_D1_s...     1-3   \n",
       "..                                                 ...     ...   \n",
       "216  20230625_112913_standard_comp_to_both_rewarded...     1-1   \n",
       "217  20230625_112913_standard_comp_to_both_rewarded...     1-1   \n",
       "218  20230625_112913_standard_comp_to_both_rewarded...     1-1   \n",
       "219  20230625_112913_standard_comp_to_both_rewarded...     1-1   \n",
       "220  20230625_112913_standard_comp_to_both_rewarded...     1-1   \n",
       "\n",
       "     original unit id sig_increase_events sig_decrease_events   insig_events  \\\n",
       "0                  85                                          rewarded, win   \n",
       "1                  55                                          rewarded, win   \n",
       "2                  17                                          rewarded, win   \n",
       "3                  24       rewarded, win                                      \n",
       "4                  68                                          rewarded, win   \n",
       "..                ...                 ...                 ...            ...   \n",
       "216                 3                                                    win   \n",
       "217                32                                                    win   \n",
       "218                62                                                    win   \n",
       "219                78                                                    win   \n",
       "220                64                                                    win   \n",
       "\n",
       "        sig_events  \n",
       "0                   \n",
       "1                   \n",
       "2                   \n",
       "3    rewarded, win  \n",
       "4                   \n",
       "..             ...  \n",
       "216                 \n",
       "217                 \n",
       "218                 \n",
       "219                 \n",
       "220                 \n",
       "\n",
       "[221 rows x 7 columns]"
      ]
     },
     "execution_count": 174,
     "metadata": {},
     "output_type": "execute_result"
    }
   ],
   "source": [
    "reward_win_df, reward_win_events_counts = aggregate_event_data(rewardwin_df)\n",
    "reward_win_df"
   ]
  },
  {
   "cell_type": "code",
   "execution_count": 175,
   "id": "a3dc58ef-1de0-43e0-9441-913a87f9b093",
   "metadata": {
    "execution": {
     "iopub.execute_input": "2024-07-11T19:08:34.676290Z",
     "iopub.status.busy": "2024-07-11T19:08:34.675295Z",
     "iopub.status.idle": "2024-07-11T19:08:48.870093Z",
     "shell.execute_reply": "2024-07-11T19:08:48.868093Z",
     "shell.execute_reply.started": "2024-07-11T19:08:34.676290Z"
    }
   },
   "outputs": [
    {
     "name": "stdout",
     "output_type": "stream",
     "text": [
      "<class 'numpy.ndarray'>\n",
      "20230612_101430_standard_comp_to_training_D1_subj_1-3_t3b3L_box2_merged.rec\n",
      "<class 'numpy.ndarray'>\n",
      "20230617_115521_standard_comp_to_omission_D1_subj_1-1_t1b3L_box1_merged.rec\n",
      "<class 'numpy.ndarray'>\n",
      "Unit 92 is unsorted & has 2494 spikes\n",
      "Unit 92 will be deleted\n",
      "20230622_110832_standard_comp_to_both_rewarded_D1_subj_1-1_t1b3L_box1_merged.rec\n",
      "<class 'numpy.ndarray'>\n",
      "Unit 103 is unsorted & has 512 spikes\n",
      "Unit 103 will be deleted\n",
      "20230622_110832_standard_comp_to_both_rewarded_D1_subj_1-2_t3b3L_box1_merged.rec\n",
      "Please assign event dictionaries to each recording\n",
      "as recording.event_dict\n",
      "event_dict = {event name(str): np.array[[start(ms), stop(ms)]...]\n",
      "Please assign subjects to each recording as recording.subject\n"
     ]
    }
   ],
   "source": [
    "import multirecording_spikeanalysis_edit4 as spike\n",
    "\n",
    "# It takes several steps to create the timestamp_dicts, refer to Ephys_Analysis_Notebook to create\n",
    "timestamp_dicts = pickle.load(open('timestamp_dicts.pkl', 'rb'))\n",
    "\n",
    "# Construct the path in a platform-independent way (HiPerGator or Windows)\n",
    "ephys_path = Path('.') / 'recordings' / 'updated_phys' / 'test'\n",
    "\n",
    "ephys_data = spike.EphysRecordingCollection(str(ephys_path))"
   ]
  },
  {
   "cell_type": "code",
   "execution_count": 176,
   "id": "da85476a-0b79-4713-9a9e-a1251a651940",
   "metadata": {
    "execution": {
     "iopub.execute_input": "2024-07-11T19:08:48.874095Z",
     "iopub.status.busy": "2024-07-11T19:08:48.873094Z",
     "iopub.status.idle": "2024-07-11T19:08:50.126567Z",
     "shell.execute_reply": "2024-07-11T19:08:50.124561Z",
     "shell.execute_reply.started": "2024-07-11T19:08:48.874095Z"
    }
   },
   "outputs": [
    {
     "name": "stdout",
     "output_type": "stream",
     "text": [
      "All set to analyze\n"
     ]
    }
   ],
   "source": [
    "for recording in ephys_data.collection.keys():\n",
    "    # Check if the recording key (without everything after subject #) is in timestamp_dicts\n",
    "    start_pos = recording.find('subj_')\n",
    "    # Add the length of 'subj_' and 3 additional characters to include after 'subj_'\n",
    "    end_pos = start_pos + len('subj_') + 3\n",
    "    # Slice the recording key to get everything up to and including the subject identifier plus three characters\n",
    "    recording_key_without_suffix = recording[:end_pos]\n",
    "    if recording_key_without_suffix in timestamp_dicts:\n",
    "        # Assign the corresponding timestamp_dicts dictionary to event_dict\n",
    "        ephys_data.collection[recording].event_dict = timestamp_dicts[recording_key_without_suffix]\n",
    "        \n",
    "        # Extract the subject from the recording key\n",
    "        start = recording.find('subj_') + 5  # Start index after 'subj_'\n",
    "        subject = recording[start:start+3]\n",
    "        \n",
    "        # Assign the extracted subject\n",
    "        ephys_data.collection[recording].subject = subject\n",
    "        \n",
    "spike_analysis = spike.SpikeAnalysis_MultiRecording(ephys_data, timebin = 100, ignore_freq = 0.5)"
   ]
  },
  {
   "cell_type": "code",
   "execution_count": 177,
   "id": "777a3562-7b96-476f-80ac-14b4c170da39",
   "metadata": {
    "execution": {
     "iopub.execute_input": "2024-07-11T19:08:50.131088Z",
     "iopub.status.busy": "2024-07-11T19:08:50.130087Z",
     "iopub.status.idle": "2024-07-11T19:08:50.521858Z",
     "shell.execute_reply": "2024-07-11T19:08:50.519850Z",
     "shell.execute_reply.started": "2024-07-11T19:08:50.131088Z"
    }
   },
   "outputs": [
    {
     "data": {
      "text/html": [
       "<div>\n",
       "<style scoped>\n",
       "    .dataframe tbody tr th:only-of-type {\n",
       "        vertical-align: middle;\n",
       "    }\n",
       "\n",
       "    .dataframe tbody tr th {\n",
       "        vertical-align: top;\n",
       "    }\n",
       "\n",
       "    .dataframe thead th {\n",
       "        text-align: right;\n",
       "    }\n",
       "</style>\n",
       "<table border=\"1\" class=\"dataframe\">\n",
       "  <thead>\n",
       "    <tr style=\"text-align: right;\">\n",
       "      <th></th>\n",
       "      <th>Recording</th>\n",
       "      <th>Event name</th>\n",
       "      <th>Event number</th>\n",
       "      <th>Unit number</th>\n",
       "      <th>bin_1</th>\n",
       "      <th>bin_2</th>\n",
       "      <th>bin_3</th>\n",
       "      <th>bin_4</th>\n",
       "      <th>bin_5</th>\n",
       "      <th>bin_6</th>\n",
       "      <th>...</th>\n",
       "      <th>bin_92</th>\n",
       "      <th>bin_93</th>\n",
       "      <th>bin_94</th>\n",
       "      <th>bin_95</th>\n",
       "      <th>bin_96</th>\n",
       "      <th>bin_97</th>\n",
       "      <th>bin_98</th>\n",
       "      <th>bin_99</th>\n",
       "      <th>bin_100</th>\n",
       "      <th>bin_101</th>\n",
       "    </tr>\n",
       "  </thead>\n",
       "  <tbody>\n",
       "    <tr>\n",
       "      <th>0</th>\n",
       "      <td>20230612_101430_standard_comp_to_training_D1_s...</td>\n",
       "      <td>rewarded</td>\n",
       "      <td>1</td>\n",
       "      <td>85</td>\n",
       "      <td>0.0</td>\n",
       "      <td>0.0</td>\n",
       "      <td>0.0</td>\n",
       "      <td>0.0</td>\n",
       "      <td>0.0</td>\n",
       "      <td>0.0</td>\n",
       "      <td>...</td>\n",
       "      <td>0.0</td>\n",
       "      <td>0.0</td>\n",
       "      <td>0.0</td>\n",
       "      <td>0.0</td>\n",
       "      <td>0.0</td>\n",
       "      <td>0.0</td>\n",
       "      <td>0.0</td>\n",
       "      <td>0.0</td>\n",
       "      <td>0.0</td>\n",
       "      <td>NaN</td>\n",
       "    </tr>\n",
       "    <tr>\n",
       "      <th>1</th>\n",
       "      <td>20230612_101430_standard_comp_to_training_D1_s...</td>\n",
       "      <td>rewarded</td>\n",
       "      <td>2</td>\n",
       "      <td>85</td>\n",
       "      <td>0.0</td>\n",
       "      <td>0.0</td>\n",
       "      <td>0.0</td>\n",
       "      <td>0.0</td>\n",
       "      <td>0.0</td>\n",
       "      <td>0.0</td>\n",
       "      <td>...</td>\n",
       "      <td>0.0</td>\n",
       "      <td>0.0</td>\n",
       "      <td>0.0</td>\n",
       "      <td>0.0</td>\n",
       "      <td>0.0</td>\n",
       "      <td>0.0</td>\n",
       "      <td>0.0</td>\n",
       "      <td>0.0</td>\n",
       "      <td>0.0</td>\n",
       "      <td>NaN</td>\n",
       "    </tr>\n",
       "    <tr>\n",
       "      <th>2</th>\n",
       "      <td>20230612_101430_standard_comp_to_training_D1_s...</td>\n",
       "      <td>rewarded</td>\n",
       "      <td>3</td>\n",
       "      <td>85</td>\n",
       "      <td>0.0</td>\n",
       "      <td>0.0</td>\n",
       "      <td>0.0</td>\n",
       "      <td>0.0</td>\n",
       "      <td>0.0</td>\n",
       "      <td>0.0</td>\n",
       "      <td>...</td>\n",
       "      <td>0.0</td>\n",
       "      <td>0.0</td>\n",
       "      <td>0.0</td>\n",
       "      <td>0.0</td>\n",
       "      <td>0.0</td>\n",
       "      <td>0.0</td>\n",
       "      <td>0.0</td>\n",
       "      <td>0.0</td>\n",
       "      <td>0.0</td>\n",
       "      <td>NaN</td>\n",
       "    </tr>\n",
       "    <tr>\n",
       "      <th>3</th>\n",
       "      <td>20230612_101430_standard_comp_to_training_D1_s...</td>\n",
       "      <td>rewarded</td>\n",
       "      <td>4</td>\n",
       "      <td>85</td>\n",
       "      <td>0.0</td>\n",
       "      <td>0.0</td>\n",
       "      <td>0.0</td>\n",
       "      <td>0.0</td>\n",
       "      <td>0.0</td>\n",
       "      <td>0.0</td>\n",
       "      <td>...</td>\n",
       "      <td>1.0</td>\n",
       "      <td>0.0</td>\n",
       "      <td>0.0</td>\n",
       "      <td>0.0</td>\n",
       "      <td>0.0</td>\n",
       "      <td>0.0</td>\n",
       "      <td>0.0</td>\n",
       "      <td>0.0</td>\n",
       "      <td>0.0</td>\n",
       "      <td>NaN</td>\n",
       "    </tr>\n",
       "    <tr>\n",
       "      <th>4</th>\n",
       "      <td>20230612_101430_standard_comp_to_training_D1_s...</td>\n",
       "      <td>rewarded</td>\n",
       "      <td>5</td>\n",
       "      <td>85</td>\n",
       "      <td>0.0</td>\n",
       "      <td>0.0</td>\n",
       "      <td>0.0</td>\n",
       "      <td>0.0</td>\n",
       "      <td>0.0</td>\n",
       "      <td>0.0</td>\n",
       "      <td>...</td>\n",
       "      <td>0.0</td>\n",
       "      <td>0.0</td>\n",
       "      <td>0.0</td>\n",
       "      <td>0.0</td>\n",
       "      <td>0.0</td>\n",
       "      <td>0.0</td>\n",
       "      <td>0.0</td>\n",
       "      <td>0.0</td>\n",
       "      <td>0.0</td>\n",
       "      <td>NaN</td>\n",
       "    </tr>\n",
       "    <tr>\n",
       "      <th>...</th>\n",
       "      <td>...</td>\n",
       "      <td>...</td>\n",
       "      <td>...</td>\n",
       "      <td>...</td>\n",
       "      <td>...</td>\n",
       "      <td>...</td>\n",
       "      <td>...</td>\n",
       "      <td>...</td>\n",
       "      <td>...</td>\n",
       "      <td>...</td>\n",
       "      <td>...</td>\n",
       "      <td>...</td>\n",
       "      <td>...</td>\n",
       "      <td>...</td>\n",
       "      <td>...</td>\n",
       "      <td>...</td>\n",
       "      <td>...</td>\n",
       "      <td>...</td>\n",
       "      <td>...</td>\n",
       "      <td>...</td>\n",
       "      <td>...</td>\n",
       "    </tr>\n",
       "    <tr>\n",
       "      <th>2712</th>\n",
       "      <td>20230622_110832_standard_comp_to_both_rewarded...</td>\n",
       "      <td>both_rewarded</td>\n",
       "      <td>16</td>\n",
       "      <td>15</td>\n",
       "      <td>0.0</td>\n",
       "      <td>0.0</td>\n",
       "      <td>0.0</td>\n",
       "      <td>0.0</td>\n",
       "      <td>0.0</td>\n",
       "      <td>0.0</td>\n",
       "      <td>...</td>\n",
       "      <td>0.0</td>\n",
       "      <td>0.0</td>\n",
       "      <td>0.0</td>\n",
       "      <td>0.0</td>\n",
       "      <td>0.0</td>\n",
       "      <td>0.0</td>\n",
       "      <td>0.0</td>\n",
       "      <td>0.0</td>\n",
       "      <td>0.0</td>\n",
       "      <td>NaN</td>\n",
       "    </tr>\n",
       "    <tr>\n",
       "      <th>2713</th>\n",
       "      <td>20230622_110832_standard_comp_to_both_rewarded...</td>\n",
       "      <td>both_rewarded</td>\n",
       "      <td>17</td>\n",
       "      <td>15</td>\n",
       "      <td>0.0</td>\n",
       "      <td>0.0</td>\n",
       "      <td>0.0</td>\n",
       "      <td>0.0</td>\n",
       "      <td>0.0</td>\n",
       "      <td>0.0</td>\n",
       "      <td>...</td>\n",
       "      <td>0.0</td>\n",
       "      <td>0.0</td>\n",
       "      <td>0.0</td>\n",
       "      <td>0.0</td>\n",
       "      <td>0.0</td>\n",
       "      <td>0.0</td>\n",
       "      <td>0.0</td>\n",
       "      <td>0.0</td>\n",
       "      <td>0.0</td>\n",
       "      <td>0.0</td>\n",
       "    </tr>\n",
       "    <tr>\n",
       "      <th>2714</th>\n",
       "      <td>20230622_110832_standard_comp_to_both_rewarded...</td>\n",
       "      <td>both_rewarded</td>\n",
       "      <td>18</td>\n",
       "      <td>15</td>\n",
       "      <td>1.0</td>\n",
       "      <td>0.0</td>\n",
       "      <td>0.0</td>\n",
       "      <td>0.0</td>\n",
       "      <td>0.0</td>\n",
       "      <td>0.0</td>\n",
       "      <td>...</td>\n",
       "      <td>0.0</td>\n",
       "      <td>0.0</td>\n",
       "      <td>0.0</td>\n",
       "      <td>0.0</td>\n",
       "      <td>0.0</td>\n",
       "      <td>0.0</td>\n",
       "      <td>0.0</td>\n",
       "      <td>0.0</td>\n",
       "      <td>0.0</td>\n",
       "      <td>NaN</td>\n",
       "    </tr>\n",
       "    <tr>\n",
       "      <th>2715</th>\n",
       "      <td>20230622_110832_standard_comp_to_both_rewarded...</td>\n",
       "      <td>both_rewarded</td>\n",
       "      <td>19</td>\n",
       "      <td>15</td>\n",
       "      <td>0.0</td>\n",
       "      <td>0.0</td>\n",
       "      <td>0.0</td>\n",
       "      <td>0.0</td>\n",
       "      <td>0.0</td>\n",
       "      <td>0.0</td>\n",
       "      <td>...</td>\n",
       "      <td>0.0</td>\n",
       "      <td>0.0</td>\n",
       "      <td>0.0</td>\n",
       "      <td>0.0</td>\n",
       "      <td>0.0</td>\n",
       "      <td>0.0</td>\n",
       "      <td>0.0</td>\n",
       "      <td>0.0</td>\n",
       "      <td>0.0</td>\n",
       "      <td>NaN</td>\n",
       "    </tr>\n",
       "    <tr>\n",
       "      <th>2716</th>\n",
       "      <td>20230622_110832_standard_comp_to_both_rewarded...</td>\n",
       "      <td>both_rewarded</td>\n",
       "      <td>20</td>\n",
       "      <td>15</td>\n",
       "      <td>0.0</td>\n",
       "      <td>0.0</td>\n",
       "      <td>0.0</td>\n",
       "      <td>0.0</td>\n",
       "      <td>0.0</td>\n",
       "      <td>1.0</td>\n",
       "      <td>...</td>\n",
       "      <td>0.0</td>\n",
       "      <td>0.0</td>\n",
       "      <td>0.0</td>\n",
       "      <td>0.0</td>\n",
       "      <td>0.0</td>\n",
       "      <td>0.0</td>\n",
       "      <td>0.0</td>\n",
       "      <td>0.0</td>\n",
       "      <td>0.0</td>\n",
       "      <td>NaN</td>\n",
       "    </tr>\n",
       "  </tbody>\n",
       "</table>\n",
       "<p>2717 rows × 105 columns</p>\n",
       "</div>"
      ],
      "text/plain": [
       "                                              Recording     Event name  \\\n",
       "0     20230612_101430_standard_comp_to_training_D1_s...       rewarded   \n",
       "1     20230612_101430_standard_comp_to_training_D1_s...       rewarded   \n",
       "2     20230612_101430_standard_comp_to_training_D1_s...       rewarded   \n",
       "3     20230612_101430_standard_comp_to_training_D1_s...       rewarded   \n",
       "4     20230612_101430_standard_comp_to_training_D1_s...       rewarded   \n",
       "...                                                 ...            ...   \n",
       "2712  20230622_110832_standard_comp_to_both_rewarded...  both_rewarded   \n",
       "2713  20230622_110832_standard_comp_to_both_rewarded...  both_rewarded   \n",
       "2714  20230622_110832_standard_comp_to_both_rewarded...  both_rewarded   \n",
       "2715  20230622_110832_standard_comp_to_both_rewarded...  both_rewarded   \n",
       "2716  20230622_110832_standard_comp_to_both_rewarded...  both_rewarded   \n",
       "\n",
       "      Event number  Unit number  bin_1  bin_2  bin_3  bin_4  bin_5  bin_6  \\\n",
       "0                1           85    0.0    0.0    0.0    0.0    0.0    0.0   \n",
       "1                2           85    0.0    0.0    0.0    0.0    0.0    0.0   \n",
       "2                3           85    0.0    0.0    0.0    0.0    0.0    0.0   \n",
       "3                4           85    0.0    0.0    0.0    0.0    0.0    0.0   \n",
       "4                5           85    0.0    0.0    0.0    0.0    0.0    0.0   \n",
       "...            ...          ...    ...    ...    ...    ...    ...    ...   \n",
       "2712            16           15    0.0    0.0    0.0    0.0    0.0    0.0   \n",
       "2713            17           15    0.0    0.0    0.0    0.0    0.0    0.0   \n",
       "2714            18           15    1.0    0.0    0.0    0.0    0.0    0.0   \n",
       "2715            19           15    0.0    0.0    0.0    0.0    0.0    0.0   \n",
       "2716            20           15    0.0    0.0    0.0    0.0    0.0    1.0   \n",
       "\n",
       "      ...  bin_92  bin_93  bin_94  bin_95  bin_96  bin_97  bin_98  bin_99  \\\n",
       "0     ...     0.0     0.0     0.0     0.0     0.0     0.0     0.0     0.0   \n",
       "1     ...     0.0     0.0     0.0     0.0     0.0     0.0     0.0     0.0   \n",
       "2     ...     0.0     0.0     0.0     0.0     0.0     0.0     0.0     0.0   \n",
       "3     ...     1.0     0.0     0.0     0.0     0.0     0.0     0.0     0.0   \n",
       "4     ...     0.0     0.0     0.0     0.0     0.0     0.0     0.0     0.0   \n",
       "...   ...     ...     ...     ...     ...     ...     ...     ...     ...   \n",
       "2712  ...     0.0     0.0     0.0     0.0     0.0     0.0     0.0     0.0   \n",
       "2713  ...     0.0     0.0     0.0     0.0     0.0     0.0     0.0     0.0   \n",
       "2714  ...     0.0     0.0     0.0     0.0     0.0     0.0     0.0     0.0   \n",
       "2715  ...     0.0     0.0     0.0     0.0     0.0     0.0     0.0     0.0   \n",
       "2716  ...     0.0     0.0     0.0     0.0     0.0     0.0     0.0     0.0   \n",
       "\n",
       "      bin_100  bin_101  \n",
       "0         0.0      NaN  \n",
       "1         0.0      NaN  \n",
       "2         0.0      NaN  \n",
       "3         0.0      NaN  \n",
       "4         0.0      NaN  \n",
       "...       ...      ...  \n",
       "2712      0.0      NaN  \n",
       "2713      0.0      0.0  \n",
       "2714      0.0      NaN  \n",
       "2715      0.0      NaN  \n",
       "2716      0.0      NaN  \n",
       "\n",
       "[2717 rows x 105 columns]"
      ]
     },
     "execution_count": 177,
     "metadata": {},
     "output_type": "execute_result"
    }
   ],
   "source": [
    "event_df = spike_analysis.create_spiketrain_df()\n",
    "\n",
    "event_df"
   ]
  },
  {
   "cell_type": "code",
   "execution_count": 178,
   "id": "6e93503e-abb2-4f4d-9bb7-bb40763edffe",
   "metadata": {
    "execution": {
     "iopub.execute_input": "2024-07-11T19:08:50.525850Z",
     "iopub.status.busy": "2024-07-11T19:08:50.524850Z",
     "iopub.status.idle": "2024-07-11T19:08:50.553376Z",
     "shell.execute_reply": "2024-07-11T19:08:50.551379Z",
     "shell.execute_reply.started": "2024-07-11T19:08:50.525850Z"
    }
   },
   "outputs": [],
   "source": [
    "df101 = event_df[event_df['bin_101'] == True]"
   ]
  },
  {
   "cell_type": "code",
   "execution_count": 179,
   "id": "414f929c-e5ab-47c4-a589-164232b87485",
   "metadata": {
    "execution": {
     "iopub.execute_input": "2024-07-11T19:08:50.557385Z",
     "iopub.status.busy": "2024-07-11T19:08:50.556387Z",
     "iopub.status.idle": "2024-07-11T19:08:50.618409Z",
     "shell.execute_reply": "2024-07-11T19:08:50.615413Z",
     "shell.execute_reply.started": "2024-07-11T19:08:50.557385Z"
    }
   },
   "outputs": [
    {
     "data": {
      "text/html": [
       "<div>\n",
       "<style scoped>\n",
       "    .dataframe tbody tr th:only-of-type {\n",
       "        vertical-align: middle;\n",
       "    }\n",
       "\n",
       "    .dataframe tbody tr th {\n",
       "        vertical-align: top;\n",
       "    }\n",
       "\n",
       "    .dataframe thead th {\n",
       "        text-align: right;\n",
       "    }\n",
       "</style>\n",
       "<table border=\"1\" class=\"dataframe\">\n",
       "  <thead>\n",
       "    <tr style=\"text-align: right;\">\n",
       "      <th></th>\n",
       "      <th>Recording</th>\n",
       "      <th>Event name</th>\n",
       "      <th>Event number</th>\n",
       "      <th>Unit number</th>\n",
       "      <th>bin_1</th>\n",
       "      <th>bin_2</th>\n",
       "      <th>bin_3</th>\n",
       "      <th>bin_4</th>\n",
       "      <th>bin_5</th>\n",
       "      <th>bin_6</th>\n",
       "      <th>...</th>\n",
       "      <th>bin_92</th>\n",
       "      <th>bin_93</th>\n",
       "      <th>bin_94</th>\n",
       "      <th>bin_95</th>\n",
       "      <th>bin_96</th>\n",
       "      <th>bin_97</th>\n",
       "      <th>bin_98</th>\n",
       "      <th>bin_99</th>\n",
       "      <th>bin_100</th>\n",
       "      <th>bin_101</th>\n",
       "    </tr>\n",
       "  </thead>\n",
       "  <tbody>\n",
       "    <tr>\n",
       "      <th>1533</th>\n",
       "      <td>20230622_110832_standard_comp_to_both_rewarded...</td>\n",
       "      <td>both_rewarded</td>\n",
       "      <td>17</td>\n",
       "      <td>15</td>\n",
       "      <td>0.0</td>\n",
       "      <td>0.0</td>\n",
       "      <td>0.0</td>\n",
       "      <td>0.0</td>\n",
       "      <td>0.0</td>\n",
       "      <td>0.0</td>\n",
       "      <td>...</td>\n",
       "      <td>0.0</td>\n",
       "      <td>0.0</td>\n",
       "      <td>1.0</td>\n",
       "      <td>1.0</td>\n",
       "      <td>1.0</td>\n",
       "      <td>0.0</td>\n",
       "      <td>1.0</td>\n",
       "      <td>0.0</td>\n",
       "      <td>1.0</td>\n",
       "      <td>1.0</td>\n",
       "    </tr>\n",
       "    <tr>\n",
       "      <th>2253</th>\n",
       "      <td>20230622_110832_standard_comp_to_both_rewarded...</td>\n",
       "      <td>both_rewarded</td>\n",
       "      <td>17</td>\n",
       "      <td>45</td>\n",
       "      <td>1.0</td>\n",
       "      <td>0.0</td>\n",
       "      <td>2.0</td>\n",
       "      <td>1.0</td>\n",
       "      <td>2.0</td>\n",
       "      <td>1.0</td>\n",
       "      <td>...</td>\n",
       "      <td>1.0</td>\n",
       "      <td>2.0</td>\n",
       "      <td>0.0</td>\n",
       "      <td>1.0</td>\n",
       "      <td>4.0</td>\n",
       "      <td>1.0</td>\n",
       "      <td>1.0</td>\n",
       "      <td>0.0</td>\n",
       "      <td>1.0</td>\n",
       "      <td>1.0</td>\n",
       "    </tr>\n",
       "    <tr>\n",
       "      <th>2273</th>\n",
       "      <td>20230622_110832_standard_comp_to_both_rewarded...</td>\n",
       "      <td>both_rewarded</td>\n",
       "      <td>17</td>\n",
       "      <td>33</td>\n",
       "      <td>3.0</td>\n",
       "      <td>1.0</td>\n",
       "      <td>0.0</td>\n",
       "      <td>1.0</td>\n",
       "      <td>1.0</td>\n",
       "      <td>1.0</td>\n",
       "      <td>...</td>\n",
       "      <td>0.0</td>\n",
       "      <td>0.0</td>\n",
       "      <td>0.0</td>\n",
       "      <td>0.0</td>\n",
       "      <td>2.0</td>\n",
       "      <td>0.0</td>\n",
       "      <td>1.0</td>\n",
       "      <td>1.0</td>\n",
       "      <td>1.0</td>\n",
       "      <td>1.0</td>\n",
       "    </tr>\n",
       "    <tr>\n",
       "      <th>2293</th>\n",
       "      <td>20230622_110832_standard_comp_to_both_rewarded...</td>\n",
       "      <td>both_rewarded</td>\n",
       "      <td>17</td>\n",
       "      <td>109</td>\n",
       "      <td>1.0</td>\n",
       "      <td>0.0</td>\n",
       "      <td>0.0</td>\n",
       "      <td>0.0</td>\n",
       "      <td>1.0</td>\n",
       "      <td>0.0</td>\n",
       "      <td>...</td>\n",
       "      <td>0.0</td>\n",
       "      <td>1.0</td>\n",
       "      <td>0.0</td>\n",
       "      <td>0.0</td>\n",
       "      <td>0.0</td>\n",
       "      <td>1.0</td>\n",
       "      <td>0.0</td>\n",
       "      <td>0.0</td>\n",
       "      <td>0.0</td>\n",
       "      <td>1.0</td>\n",
       "    </tr>\n",
       "    <tr>\n",
       "      <th>2313</th>\n",
       "      <td>20230622_110832_standard_comp_to_both_rewarded...</td>\n",
       "      <td>both_rewarded</td>\n",
       "      <td>17</td>\n",
       "      <td>76</td>\n",
       "      <td>0.0</td>\n",
       "      <td>1.0</td>\n",
       "      <td>0.0</td>\n",
       "      <td>1.0</td>\n",
       "      <td>0.0</td>\n",
       "      <td>0.0</td>\n",
       "      <td>...</td>\n",
       "      <td>1.0</td>\n",
       "      <td>1.0</td>\n",
       "      <td>1.0</td>\n",
       "      <td>0.0</td>\n",
       "      <td>1.0</td>\n",
       "      <td>0.0</td>\n",
       "      <td>1.0</td>\n",
       "      <td>1.0</td>\n",
       "      <td>0.0</td>\n",
       "      <td>1.0</td>\n",
       "    </tr>\n",
       "    <tr>\n",
       "      <th>2373</th>\n",
       "      <td>20230622_110832_standard_comp_to_both_rewarded...</td>\n",
       "      <td>both_rewarded</td>\n",
       "      <td>17</td>\n",
       "      <td>44</td>\n",
       "      <td>0.0</td>\n",
       "      <td>0.0</td>\n",
       "      <td>0.0</td>\n",
       "      <td>0.0</td>\n",
       "      <td>0.0</td>\n",
       "      <td>0.0</td>\n",
       "      <td>...</td>\n",
       "      <td>0.0</td>\n",
       "      <td>0.0</td>\n",
       "      <td>1.0</td>\n",
       "      <td>2.0</td>\n",
       "      <td>0.0</td>\n",
       "      <td>0.0</td>\n",
       "      <td>1.0</td>\n",
       "      <td>0.0</td>\n",
       "      <td>0.0</td>\n",
       "      <td>1.0</td>\n",
       "    </tr>\n",
       "    <tr>\n",
       "      <th>2413</th>\n",
       "      <td>20230622_110832_standard_comp_to_both_rewarded...</td>\n",
       "      <td>both_rewarded</td>\n",
       "      <td>17</td>\n",
       "      <td>48</td>\n",
       "      <td>1.0</td>\n",
       "      <td>2.0</td>\n",
       "      <td>1.0</td>\n",
       "      <td>1.0</td>\n",
       "      <td>2.0</td>\n",
       "      <td>1.0</td>\n",
       "      <td>...</td>\n",
       "      <td>0.0</td>\n",
       "      <td>1.0</td>\n",
       "      <td>0.0</td>\n",
       "      <td>0.0</td>\n",
       "      <td>0.0</td>\n",
       "      <td>0.0</td>\n",
       "      <td>0.0</td>\n",
       "      <td>1.0</td>\n",
       "      <td>0.0</td>\n",
       "      <td>1.0</td>\n",
       "    </tr>\n",
       "    <tr>\n",
       "      <th>2593</th>\n",
       "      <td>20230622_110832_standard_comp_to_both_rewarded...</td>\n",
       "      <td>both_rewarded</td>\n",
       "      <td>17</td>\n",
       "      <td>59</td>\n",
       "      <td>1.0</td>\n",
       "      <td>0.0</td>\n",
       "      <td>0.0</td>\n",
       "      <td>0.0</td>\n",
       "      <td>0.0</td>\n",
       "      <td>0.0</td>\n",
       "      <td>...</td>\n",
       "      <td>1.0</td>\n",
       "      <td>1.0</td>\n",
       "      <td>0.0</td>\n",
       "      <td>0.0</td>\n",
       "      <td>0.0</td>\n",
       "      <td>0.0</td>\n",
       "      <td>1.0</td>\n",
       "      <td>0.0</td>\n",
       "      <td>0.0</td>\n",
       "      <td>1.0</td>\n",
       "    </tr>\n",
       "    <tr>\n",
       "      <th>2613</th>\n",
       "      <td>20230622_110832_standard_comp_to_both_rewarded...</td>\n",
       "      <td>both_rewarded</td>\n",
       "      <td>17</td>\n",
       "      <td>51</td>\n",
       "      <td>0.0</td>\n",
       "      <td>0.0</td>\n",
       "      <td>1.0</td>\n",
       "      <td>0.0</td>\n",
       "      <td>0.0</td>\n",
       "      <td>0.0</td>\n",
       "      <td>...</td>\n",
       "      <td>0.0</td>\n",
       "      <td>1.0</td>\n",
       "      <td>0.0</td>\n",
       "      <td>0.0</td>\n",
       "      <td>0.0</td>\n",
       "      <td>0.0</td>\n",
       "      <td>1.0</td>\n",
       "      <td>0.0</td>\n",
       "      <td>1.0</td>\n",
       "      <td>1.0</td>\n",
       "    </tr>\n",
       "  </tbody>\n",
       "</table>\n",
       "<p>9 rows × 105 columns</p>\n",
       "</div>"
      ],
      "text/plain": [
       "                                              Recording     Event name  \\\n",
       "1533  20230622_110832_standard_comp_to_both_rewarded...  both_rewarded   \n",
       "2253  20230622_110832_standard_comp_to_both_rewarded...  both_rewarded   \n",
       "2273  20230622_110832_standard_comp_to_both_rewarded...  both_rewarded   \n",
       "2293  20230622_110832_standard_comp_to_both_rewarded...  both_rewarded   \n",
       "2313  20230622_110832_standard_comp_to_both_rewarded...  both_rewarded   \n",
       "2373  20230622_110832_standard_comp_to_both_rewarded...  both_rewarded   \n",
       "2413  20230622_110832_standard_comp_to_both_rewarded...  both_rewarded   \n",
       "2593  20230622_110832_standard_comp_to_both_rewarded...  both_rewarded   \n",
       "2613  20230622_110832_standard_comp_to_both_rewarded...  both_rewarded   \n",
       "\n",
       "      Event number  Unit number  bin_1  bin_2  bin_3  bin_4  bin_5  bin_6  \\\n",
       "1533            17           15    0.0    0.0    0.0    0.0    0.0    0.0   \n",
       "2253            17           45    1.0    0.0    2.0    1.0    2.0    1.0   \n",
       "2273            17           33    3.0    1.0    0.0    1.0    1.0    1.0   \n",
       "2293            17          109    1.0    0.0    0.0    0.0    1.0    0.0   \n",
       "2313            17           76    0.0    1.0    0.0    1.0    0.0    0.0   \n",
       "2373            17           44    0.0    0.0    0.0    0.0    0.0    0.0   \n",
       "2413            17           48    1.0    2.0    1.0    1.0    2.0    1.0   \n",
       "2593            17           59    1.0    0.0    0.0    0.0    0.0    0.0   \n",
       "2613            17           51    0.0    0.0    1.0    0.0    0.0    0.0   \n",
       "\n",
       "      ...  bin_92  bin_93  bin_94  bin_95  bin_96  bin_97  bin_98  bin_99  \\\n",
       "1533  ...     0.0     0.0     1.0     1.0     1.0     0.0     1.0     0.0   \n",
       "2253  ...     1.0     2.0     0.0     1.0     4.0     1.0     1.0     0.0   \n",
       "2273  ...     0.0     0.0     0.0     0.0     2.0     0.0     1.0     1.0   \n",
       "2293  ...     0.0     1.0     0.0     0.0     0.0     1.0     0.0     0.0   \n",
       "2313  ...     1.0     1.0     1.0     0.0     1.0     0.0     1.0     1.0   \n",
       "2373  ...     0.0     0.0     1.0     2.0     0.0     0.0     1.0     0.0   \n",
       "2413  ...     0.0     1.0     0.0     0.0     0.0     0.0     0.0     1.0   \n",
       "2593  ...     1.0     1.0     0.0     0.0     0.0     0.0     1.0     0.0   \n",
       "2613  ...     0.0     1.0     0.0     0.0     0.0     0.0     1.0     0.0   \n",
       "\n",
       "      bin_100  bin_101  \n",
       "1533      1.0      1.0  \n",
       "2253      1.0      1.0  \n",
       "2273      1.0      1.0  \n",
       "2293      0.0      1.0  \n",
       "2313      0.0      1.0  \n",
       "2373      0.0      1.0  \n",
       "2413      0.0      1.0  \n",
       "2593      0.0      1.0  \n",
       "2613      1.0      1.0  \n",
       "\n",
       "[9 rows x 105 columns]"
      ]
     },
     "execution_count": 179,
     "metadata": {},
     "output_type": "execute_result"
    }
   ],
   "source": [
    "df101"
   ]
  },
  {
   "cell_type": "code",
   "execution_count": 180,
   "id": "bf4ebb34-c9be-4b0f-978f-d74a1a776c22",
   "metadata": {
    "execution": {
     "iopub.execute_input": "2024-07-11T19:08:50.622401Z",
     "iopub.status.busy": "2024-07-11T19:08:50.621402Z",
     "iopub.status.idle": "2024-07-11T19:08:50.648935Z",
     "shell.execute_reply": "2024-07-11T19:08:50.646938Z",
     "shell.execute_reply.started": "2024-07-11T19:08:50.622401Z"
    }
   },
   "outputs": [
    {
     "data": {
      "text/plain": [
       "array([[2036584, 2046584],\n",
       "       [2096585, 2106585],\n",
       "       [2151586, 2161586],\n",
       "       [2216587, 2226587],\n",
       "       [2271587, 2281587],\n",
       "       [2321588, 2331588],\n",
       "       [2371589, 2381589],\n",
       "       [2476590, 2486590],\n",
       "       [2596591, 2606592],\n",
       "       [2716593, 2726593],\n",
       "       [2826594, 2836595],\n",
       "       [2911595, 2921596],\n",
       "       [3031597, 3041597],\n",
       "       [3091598, 3101598],\n",
       "       [3156599, 3166599],\n",
       "       [3216599, 3226600],\n",
       "       [3291600, 3301601],\n",
       "       [3391602, 3401602],\n",
       "       [3486603, 3496603],\n",
       "       [3536603, 3546604]])"
      ]
     },
     "execution_count": 180,
     "metadata": {},
     "output_type": "execute_result"
    }
   ],
   "source": [
    "recordings = spike_analysis.ephyscollection.collection\n",
    "recording_name = '20230622_110832_standard_comp_to_both_rewarded_D1_subj_1-1_t1b3L_box1_merged.rec'\n",
    "recording1 = recordings.get(recording_name)\n",
    "recording1.event_dict['both_rewarded']"
   ]
  },
  {
   "cell_type": "code",
   "execution_count": 181,
   "id": "384475a0-8fdd-4054-8932-54c8b11e1aeb",
   "metadata": {
    "execution": {
     "iopub.execute_input": "2024-07-11T19:08:50.653936Z",
     "iopub.status.busy": "2024-07-11T19:08:50.652950Z",
     "iopub.status.idle": "2024-07-11T19:08:50.680931Z",
     "shell.execute_reply": "2024-07-11T19:08:50.678928Z",
     "shell.execute_reply.started": "2024-07-11T19:08:50.653936Z"
    }
   },
   "outputs": [
    {
     "data": {
      "text/plain": [
       "32165.99"
      ]
     },
     "execution_count": 181,
     "metadata": {},
     "output_type": "execute_result"
    }
   ],
   "source": [
    "3216599 / 100"
   ]
  },
  {
   "cell_type": "code",
   "execution_count": 182,
   "id": "5c6460cd-616d-479a-8534-505c6bf08f90",
   "metadata": {
    "execution": {
     "iopub.execute_input": "2024-07-11T19:08:50.685928Z",
     "iopub.status.busy": "2024-07-11T19:08:50.684933Z",
     "iopub.status.idle": "2024-07-11T19:08:50.712936Z",
     "shell.execute_reply": "2024-07-11T19:08:50.710930Z",
     "shell.execute_reply.started": "2024-07-11T19:08:50.685928Z"
    }
   },
   "outputs": [
    {
     "data": {
      "text/plain": [
       "32266.0"
      ]
     },
     "execution_count": 182,
     "metadata": {},
     "output_type": "execute_result"
    }
   ],
   "source": [
    "3226600 / 100"
   ]
  },
  {
   "cell_type": "code",
   "execution_count": 183,
   "id": "aed96b2b-eff1-4ee2-8010-9d37b371a412",
   "metadata": {
    "execution": {
     "iopub.execute_input": "2024-07-11T19:08:50.716953Z",
     "iopub.status.busy": "2024-07-11T19:08:50.715963Z",
     "iopub.status.idle": "2024-07-11T19:08:50.745488Z",
     "shell.execute_reply": "2024-07-11T19:08:50.742494Z",
     "shell.execute_reply.started": "2024-07-11T19:08:50.716953Z"
    }
   },
   "outputs": [
    {
     "data": {
      "text/plain": [
       "np.float64(32166.0)"
      ]
     },
     "execution_count": 183,
     "metadata": {},
     "output_type": "execute_result"
    }
   ],
   "source": [
    "np.ceil(3216599 / 100)"
   ]
  },
  {
   "cell_type": "code",
   "execution_count": 184,
   "id": "77297fb0-92de-4b0d-9a8a-4d2fdde009a8",
   "metadata": {
    "execution": {
     "iopub.execute_input": "2024-07-11T19:08:50.750488Z",
     "iopub.status.busy": "2024-07-11T19:08:50.749496Z",
     "iopub.status.idle": "2024-07-11T19:08:50.776483Z",
     "shell.execute_reply": "2024-07-11T19:08:50.774482Z",
     "shell.execute_reply.started": "2024-07-11T19:08:50.750488Z"
    }
   },
   "outputs": [
    {
     "data": {
      "text/plain": [
       "np.float64(32266.0)"
      ]
     },
     "execution_count": 184,
     "metadata": {},
     "output_type": "execute_result"
    }
   ],
   "source": [
    "np.ceil(3226600 / 100)"
   ]
  },
  {
   "cell_type": "code",
   "execution_count": 185,
   "id": "d3a10dab-6a0b-4e7f-b928-616acb0ffccd",
   "metadata": {
    "execution": {
     "iopub.execute_input": "2024-07-11T19:08:50.780502Z",
     "iopub.status.busy": "2024-07-11T19:08:50.779495Z",
     "iopub.status.idle": "2024-07-11T19:08:50.808489Z",
     "shell.execute_reply": "2024-07-11T19:08:50.806489Z",
     "shell.execute_reply.started": "2024-07-11T19:08:50.780502Z"
    }
   },
   "outputs": [
    {
     "name": "stdout",
     "output_type": "stream",
     "text": [
      "32166.0\n",
      "32266.0\n",
      "32916.0\n",
      "33017.0\n",
      "33917.0\n",
      "34017.0\n"
     ]
    }
   ],
   "source": [
    "print(np.ceil(3216599 / 100))\n",
    "print(np.ceil(3226600 / 100))\n",
    "print(np.ceil(3291600 / 100))\n",
    "print(np.ceil(3301601 / 100))\n",
    "print(np.ceil(3391602 / 100))\n",
    "print(np.ceil(3401602 / 100))"
   ]
  },
  {
   "cell_type": "code",
   "execution_count": 186,
   "id": "6e794034-ac13-433d-b05f-491da598451e",
   "metadata": {
    "execution": {
     "iopub.execute_input": "2024-07-11T19:08:50.813493Z",
     "iopub.status.busy": "2024-07-11T19:08:50.811487Z",
     "iopub.status.idle": "2024-07-11T19:08:50.839669Z",
     "shell.execute_reply": "2024-07-11T19:08:50.837661Z",
     "shell.execute_reply.started": "2024-07-11T19:08:50.813493Z"
    }
   },
   "outputs": [
    {
     "data": {
      "text/plain": [
       "32165"
      ]
     },
     "execution_count": 186,
     "metadata": {},
     "output_type": "execute_result"
    }
   ],
   "source": [
    "3216599 // 100"
   ]
  },
  {
   "cell_type": "code",
   "execution_count": 187,
   "id": "4245c67e-f02e-47c8-bc0e-c3b1d7bf3964",
   "metadata": {
    "execution": {
     "iopub.execute_input": "2024-07-11T19:08:50.843666Z",
     "iopub.status.busy": "2024-07-11T19:08:50.843666Z",
     "iopub.status.idle": "2024-07-11T19:09:06.227657Z",
     "shell.execute_reply": "2024-07-11T19:09:06.227657Z",
     "shell.execute_reply.started": "2024-07-11T19:08:50.843666Z"
    }
   },
   "outputs": [
    {
     "name": "stdout",
     "output_type": "stream",
     "text": [
      "<class 'numpy.ndarray'>\n",
      "20230612_101430_standard_comp_to_training_D1_subj_1-3_t3b3L_box2_merged.rec\n",
      "<class 'numpy.ndarray'>\n",
      "20230617_115521_standard_comp_to_omission_D1_subj_1-1_t1b3L_box1_merged.rec\n",
      "<class 'numpy.ndarray'>\n",
      "Unit 92 is unsorted & has 2494 spikes\n",
      "Unit 92 will be deleted\n",
      "20230622_110832_standard_comp_to_both_rewarded_D1_subj_1-1_t1b3L_box1_merged.rec\n",
      "<class 'numpy.ndarray'>\n",
      "Unit 103 is unsorted & has 512 spikes\n",
      "Unit 103 will be deleted\n",
      "20230622_110832_standard_comp_to_both_rewarded_D1_subj_1-2_t3b3L_box1_merged.rec\n",
      "Please assign event dictionaries to each recording\n",
      "as recording.event_dict\n",
      "event_dict = {event name(str): np.array[[start(ms), stop(ms)]...]\n",
      "Please assign subjects to each recording as recording.subject\n"
     ]
    }
   ],
   "source": [
    "import multirecording_spikeanalysis_edit as spike\n",
    "\n",
    "cols = ['condition ', 'session_dir', 'all_subjects', 'tone_start_timestamp', 'tone_stop_timestamp']\n",
    "\n",
    "# Load the data\n",
    "df = pd.read_excel('rce_pilot_2_per_video_trial_labels.xlsx', usecols=cols, engine='openpyxl')\n",
    "\n",
    "df2 = df.dropna() # Drop the rows missing data\n",
    "df3 = df2.copy()\n",
    "df3['all_subjects'] = df3['all_subjects'].apply(lambda x: ast.literal_eval(x) if isinstance(x, str) else x) # Make the 'all_subjects' column readable as a list\n",
    "df4 = df3[df3['all_subjects'].apply(lambda x: len(x) < 3)] # Ignore novel sessions for now\n",
    "\n",
    "# Initialize an empty list to collect data for the new DataFrame\n",
    "new_df_data = []\n",
    "\n",
    "for _, row in df4.iterrows():\n",
    "    session_dir = row['session_dir']\n",
    "    subjects = row['all_subjects']\n",
    "    condition = row['condition ']\n",
    "\n",
    "    # Split session_dir on '_subj_' and take the first part only\n",
    "    # This ensures everything after '_subj_' is ignored\n",
    "    base_session_dir = session_dir.split('_subj_')[0]\n",
    "\n",
    "    for subject in subjects:\n",
    "        subject_formatted = subject.replace('.', '-')\n",
    "        # Append formatted subject to the base session_dir correctly\n",
    "        subj_recording = f\"{base_session_dir}_subj_{subject_formatted}\"\n",
    "        new_df_data.append({\n",
    "            'session_dir': session_dir,\n",
    "            'subject': subject,\n",
    "            'subj_recording': subj_recording,\n",
    "            'condition': condition if condition in ['rewarded', 'omission', 'both_rewarded', 'tie'] else ('win' if str(condition) == str(subject) else 'lose'),\n",
    "            'tone_start_timestamp': row['tone_start_timestamp'],\n",
    "            'tone_stop_timestamp': row['tone_stop_timestamp']\n",
    "        })\n",
    "\n",
    "# Convert list to DataFrame\n",
    "new_df = pd.DataFrame(new_df_data)\n",
    "new_df = new_df.drop_duplicates()\n",
    "\n",
    "# Prepare timestamp_dicts from new_df\n",
    "timestamp_dicts = {}\n",
    "for _, row in new_df.iterrows():\n",
    "    key = row['subj_recording']\n",
    "    condition = row['condition']\n",
    "    timestamp_start = int(row['tone_start_timestamp']) // 20\n",
    "    timestamp_end = int(row['tone_stop_timestamp']) // 20\n",
    "    tuple_val = (timestamp_start, timestamp_end)\n",
    "\n",
    "    if key not in timestamp_dicts:\n",
    "        timestamp_dicts[key] = {cond: [] for cond in ['rewarded', 'win', 'lose', 'omission', 'both_rewarded', 'tie']}\n",
    "    timestamp_dicts[key][condition].append(tuple_val)\n",
    "\n",
    "# Convert lists in timestamp_dicts to numpy arrays\n",
    "for subj_recording in timestamp_dicts:\n",
    "    for condition in timestamp_dicts[subj_recording]:\n",
    "        timestamp_dicts[subj_recording][condition] = np.array(timestamp_dicts[subj_recording][condition], dtype=np.int64)\n",
    "        \n",
    "\n",
    "# Construct the path in a platform-independent way (HiPerGator or Windows)\n",
    "ephys_path = Path('.') / 'recordings' / 'updated_phys' / 'test'\n",
    "\n",
    "ephys_data = spike.EphysRecordingCollection(str(ephys_path))"
   ]
  },
  {
   "cell_type": "code",
   "execution_count": 188,
   "id": "35496867-282a-4e90-bcc9-773a5573e4c4",
   "metadata": {
    "execution": {
     "iopub.execute_input": "2024-07-11T19:09:06.227657Z",
     "iopub.status.busy": "2024-07-11T19:09:06.227657Z",
     "iopub.status.idle": "2024-07-11T19:09:06.871324Z",
     "shell.execute_reply": "2024-07-11T19:09:06.871324Z",
     "shell.execute_reply.started": "2024-07-11T19:09:06.227657Z"
    }
   },
   "outputs": [
    {
     "name": "stdout",
     "output_type": "stream",
     "text": [
      "All set to analyze\n"
     ]
    }
   ],
   "source": [
    "for recording in ephys_data.collection.keys():\n",
    "    # Check if the recording key (without everything after subject #) is in timestamp_dicts\n",
    "    start_pos = recording.find('subj_')\n",
    "    # Add the length of 'subj_' and 3 additional characters to include after 'subj_'\n",
    "    end_pos = start_pos + len('subj_') + 3\n",
    "    # Slice the recording key to get everything up to and including the subject identifier plus three characters\n",
    "    recording_key_without_suffix = recording[:end_pos]\n",
    "    if recording_key_without_suffix in timestamp_dicts:\n",
    "        # Assign the corresponding timestamp_dicts dictionary to event_dict\n",
    "        ephys_data.collection[recording].event_dict = timestamp_dicts[recording_key_without_suffix]\n",
    "        \n",
    "        # Extract the subject from the recording key\n",
    "        start = recording.find('subj_') + 5  # Start index after 'subj_'\n",
    "        subject = recording[start:start+3]\n",
    "        \n",
    "        # Assign the extracted subject\n",
    "        ephys_data.collection[recording].subject = subject   \n",
    "        \n",
    "spike_analysis = spike.SpikeAnalysis_MultiRecording(ephys_data, timebin = 100, smoothing_window=250, ignore_freq = 0.5)"
   ]
  },
  {
   "cell_type": "code",
   "execution_count": null,
   "id": "e664cc0a-699c-4d64-9ccf-900626578563",
   "metadata": {},
   "outputs": [],
   "source": []
  }
 ],
 "metadata": {
  "kernelspec": {
   "display_name": "Python 3 (ipykernel)",
   "language": "python",
   "name": "python3"
  },
  "language_info": {
   "codemirror_mode": {
    "name": "ipython",
    "version": 3
   },
   "file_extension": ".py",
   "mimetype": "text/x-python",
   "name": "python",
   "nbconvert_exporter": "python",
   "pygments_lexer": "ipython3",
   "version": "3.10.14"
  }
 },
 "nbformat": 4,
 "nbformat_minor": 5
}
