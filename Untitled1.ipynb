{
 "cells": [
  {
   "cell_type": "code",
   "execution_count": 1,
   "id": "d770996c-f559-41b3-9e41-c32e49d02151",
   "metadata": {
    "execution": {
     "iopub.execute_input": "2024-05-30T19:14:45.535425Z",
     "iopub.status.busy": "2024-05-30T19:14:45.535425Z",
     "iopub.status.idle": "2024-05-30T19:14:57.399775Z",
     "shell.execute_reply": "2024-05-30T19:14:57.399775Z",
     "shell.execute_reply.started": "2024-05-30T19:14:45.535425Z"
    }
   },
   "outputs": [
    {
     "name": "stdout",
     "output_type": "stream",
     "text": [
      "<class 'numpy.ndarray'>\n",
      "20230612_101430_standard_comp_to_training_D1_subj_1-3_t3b3L_box2_merged.rec\n",
      "<class 'numpy.ndarray'>\n",
      "20230617_115521_standard_comp_to_omission_D1_subj_1-1_t1b3L_box1_merged.rec\n",
      "<class 'numpy.ndarray'>\n",
      "Unit 92 is unsorted & has 2494 spikes\n",
      "Unit 92 will be deleted\n",
      "20230622_110832_standard_comp_to_both_rewarded_D1_subj_1-1_t1b3L_box1_merged.rec\n",
      "Please assign event dictionaries to each recording\n",
      "as recording.event_dict\n",
      "event_dict = {event name(str): np.array[[start(ms), stop(ms)]...]\n",
      "Please assign subjects to each recording as recording.subject\n"
     ]
    }
   ],
   "source": [
    "import pandas as pd\n",
    "import numpy as np\n",
    "import ast\n",
    "import pickle\n",
    "from pathlib import Path\n",
    "import matplotlib.pyplot as plt\n",
    "import seaborn as sns\n",
    "import multirecording_spikeanalysis_edit as spike\n",
    "\n",
    "# It takes several steps to create the timestamp_dicts, refer to Ephys_Analysis_Notebook to create\n",
    "timestamp_dicts = pickle.load(open('timestamp_dicts.pkl', 'rb'))\n",
    "\n",
    "# Construct the path in a platform-independent way (HiPerGator or Windows)\n",
    "ephys_path = Path('.') / 'export' / 'updated_phys' / 'test'\n",
    "\n",
    "ephys_data = spike.EphysRecordingCollection(str(ephys_path))"
   ]
  },
  {
   "cell_type": "code",
   "execution_count": 2,
   "id": "47184ce0-26e9-4668-b849-412847c5e53f",
   "metadata": {
    "execution": {
     "iopub.execute_input": "2024-05-30T19:14:57.399775Z",
     "iopub.status.busy": "2024-05-30T19:14:57.399775Z",
     "iopub.status.idle": "2024-05-30T19:14:57.704295Z",
     "shell.execute_reply": "2024-05-30T19:14:57.704295Z",
     "shell.execute_reply.started": "2024-05-30T19:14:57.399775Z"
    }
   },
   "outputs": [
    {
     "name": "stdout",
     "output_type": "stream",
     "text": [
      "All set to analyze\n"
     ]
    }
   ],
   "source": [
    "for recording in ephys_data.collection.keys():\n",
    "    # Check if the recording key (without everything after subject #) is in timestamp_dicts\n",
    "    start_pos = recording.find('subj_')\n",
    "    # Add the length of 'subj_' and 3 additional characters to include after 'subj_'\n",
    "    end_pos = start_pos + len('subj_') + 3\n",
    "    # Slice the recording key to get everything up to and including the subject identifier plus three characters\n",
    "    recording_key_without_suffix = recording[:end_pos]\n",
    "    if recording_key_without_suffix in timestamp_dicts:\n",
    "        # Assign the corresponding timestamp_dicts dictionary to event_dict\n",
    "        ephys_data.collection[recording].event_dict = timestamp_dicts[recording_key_without_suffix]\n",
    "        \n",
    "        # Extract the subject from the recording key\n",
    "        start = recording.find('subj_') + 5  # Start index after 'subj_'\n",
    "        subject = recording[start:start+3]\n",
    "        \n",
    "        # Assign the extracted subject\n",
    "        ephys_data.collection[recording].subject = subject\n",
    "        \n",
    "spike_analysis = spike.SpikeAnalysis_MultiRecording(ephys_data, timebin = 100, ignore_freq = 0.5)"
   ]
  },
  {
   "cell_type": "code",
   "execution_count": 3,
   "id": "66cfbb0b-e767-4745-952a-88be24967154",
   "metadata": {
    "execution": {
     "iopub.execute_input": "2024-05-30T19:14:57.704295Z",
     "iopub.status.busy": "2024-05-30T19:14:57.704295Z",
     "iopub.status.idle": "2024-05-30T19:14:57.842433Z",
     "shell.execute_reply": "2024-05-30T19:14:57.842433Z",
     "shell.execute_reply.started": "2024-05-30T19:14:57.704295Z"
    }
   },
   "outputs": [
    {
     "name": "stdout",
     "output_type": "stream",
     "text": [
      "Rounded array for rewarded in 20230612_101430_standard_comp_to_training_D1_subj_1-3_t3b3L_box2_merged.rec: [[18492 18592]\n",
      " [19092 19192]\n",
      " [19642 19742]\n",
      " [20292 20392]\n",
      " [20842 20942]\n",
      " [21342 21442]\n",
      " [21842 21942]\n",
      " [22892 22992]\n",
      " [24092 24192]\n",
      " [25292 25392]\n",
      " [26392 26492]\n",
      " [27242 27342]\n",
      " [28442 28542]\n",
      " [29042 29142]\n",
      " [29692 29792]\n",
      " [30292 30392]\n",
      " [31042 31142]\n",
      " [32042 32142]\n",
      " [32992 33092]\n",
      " [33492 33592]]\n",
      "Rounded array for win in 20230612_101430_standard_comp_to_training_D1_subj_1-3_t3b3L_box2_merged.rec: [[ 1692  1792]\n",
      " [ 4792  4892]\n",
      " [ 6492  6592]\n",
      " [ 7542  7642]\n",
      " [ 8042  8142]\n",
      " [ 8842  8942]\n",
      " [ 9492  9592]\n",
      " [10142 10242]\n",
      " [11342 11442]\n",
      " [13092 13192]\n",
      " [13792 13892]\n",
      " [14892 14992]\n",
      " [15492 15592]]\n",
      "Rounded array for lose in 20230612_101430_standard_comp_to_training_D1_subj_1-3_t3b3L_box2_merged.rec: [[  492   592]\n",
      " [ 2842  2942]\n",
      " [ 3742  3842]\n",
      " [ 4292  4392]\n",
      " [ 5742  5842]\n",
      " [10642 10742]\n",
      " [12292 12392]]\n",
      "Rounded array for omission in 20230612_101430_standard_comp_to_training_D1_subj_1-3_t3b3L_box2_merged.rec: []\n",
      "Rounded array for both_rewarded in 20230612_101430_standard_comp_to_training_D1_subj_1-3_t3b3L_box2_merged.rec: []\n",
      "Rounded array for tie in 20230612_101430_standard_comp_to_training_D1_subj_1-3_t3b3L_box2_merged.rec: []\n",
      "Rounded array for rewarded in 20230617_115521_standard_comp_to_omission_D1_subj_1-1_t1b3L_box1_merged.rec: []\n",
      "Rounded array for win in 20230617_115521_standard_comp_to_omission_D1_subj_1-1_t1b3L_box1_merged.rec: [[ 1716  1816]\n",
      " [ 2866  2966]\n",
      " [ 4316  4416]\n",
      " [ 4816  4916]\n",
      " [ 5766  5866]\n",
      " [ 6516  6616]\n",
      " [ 7566  7666]\n",
      " [ 8066  8166]\n",
      " [ 8866  8966]\n",
      " [ 9516  9616]\n",
      " [10166 10266]\n",
      " [10666 10766]\n",
      " [11366 11466]\n",
      " [12316 12416]\n",
      " [16291 16391]\n",
      " [17091 17191]\n",
      " [17791 17891]\n",
      " [18891 18991]\n",
      " [19491 19591]]\n",
      "Rounded array for lose in 20230617_115521_standard_comp_to_omission_D1_subj_1-1_t1b3L_box1_merged.rec: [[ 516  616]\n",
      " [3766 3866]]\n",
      "Rounded array for omission in 20230617_115521_standard_comp_to_omission_D1_subj_1-1_t1b3L_box1_merged.rec: []\n",
      "Rounded array for both_rewarded in 20230617_115521_standard_comp_to_omission_D1_subj_1-1_t1b3L_box1_merged.rec: []\n",
      "Rounded array for tie in 20230617_115521_standard_comp_to_omission_D1_subj_1-1_t1b3L_box1_merged.rec: []\n",
      "Rounded array for rewarded in 20230622_110832_standard_comp_to_both_rewarded_D1_subj_1-1_t1b3L_box1_merged.rec: []\n",
      "Rounded array for win in 20230622_110832_standard_comp_to_both_rewarded_D1_subj_1-1_t1b3L_box1_merged.rec: []\n",
      "Rounded array for lose in 20230622_110832_standard_comp_to_both_rewarded_D1_subj_1-1_t1b3L_box1_merged.rec: [[  566   666]\n",
      " [ 1766  1866]\n",
      " [ 2916  3016]\n",
      " [ 3816  3916]\n",
      " [ 4366  4466]\n",
      " [ 4866  4966]\n",
      " [ 5816  5916]\n",
      " [ 6566  6666]\n",
      " [ 7616  7716]\n",
      " [ 8116  8216]\n",
      " [ 8916  9016]\n",
      " [ 9566  9666]\n",
      " [10216 10316]\n",
      " [10716 10816]\n",
      " [11416 11516]\n",
      " [12366 12466]\n",
      " [13166 13266]\n",
      " [13866 13966]\n",
      " [14966 15066]\n",
      " [15566 15666]]\n",
      "Rounded array for omission in 20230622_110832_standard_comp_to_both_rewarded_D1_subj_1-1_t1b3L_box1_merged.rec: []\n",
      "Rounded array for both_rewarded in 20230622_110832_standard_comp_to_both_rewarded_D1_subj_1-1_t1b3L_box1_merged.rec: [[20366 20466]\n",
      " [20966 21066]\n",
      " [21516 21616]\n",
      " [22166 22266]\n",
      " [22716 22816]\n",
      " [23216 23316]\n",
      " [23716 23816]\n",
      " [24766 24866]\n",
      " [25966 26066]\n",
      " [27166 27266]\n",
      " [28266 28366]\n",
      " [29116 29216]\n",
      " [30316 30416]\n",
      " [30916 31016]\n",
      " [31566 31666]\n",
      " [32166 32266]\n",
      " [32916 33017]\n",
      " [33917 34017]\n",
      " [34867 34967]\n",
      " [35367 35467]]\n",
      "Empty spiketrain slice for recording 20230622_110832_standard_comp_to_both_rewarded_D1_subj_1-1_t1b3L_box1_merged.rec unit 9, event both_rewarded, slice 17\n",
      "Empty spiketrain slice for recording 20230622_110832_standard_comp_to_both_rewarded_D1_subj_1-1_t1b3L_box1_merged.rec unit 9, event both_rewarded, slice 18\n",
      "Empty spiketrain slice for recording 20230622_110832_standard_comp_to_both_rewarded_D1_subj_1-1_t1b3L_box1_merged.rec unit 9, event both_rewarded, slice 19\n",
      "Empty spiketrain slice for recording 20230622_110832_standard_comp_to_both_rewarded_D1_subj_1-1_t1b3L_box1_merged.rec unit 24, event both_rewarded, slice 17\n",
      "Empty spiketrain slice for recording 20230622_110832_standard_comp_to_both_rewarded_D1_subj_1-1_t1b3L_box1_merged.rec unit 24, event both_rewarded, slice 18\n",
      "Empty spiketrain slice for recording 20230622_110832_standard_comp_to_both_rewarded_D1_subj_1-1_t1b3L_box1_merged.rec unit 24, event both_rewarded, slice 19\n",
      "Empty spiketrain slice for recording 20230622_110832_standard_comp_to_both_rewarded_D1_subj_1-1_t1b3L_box1_merged.rec unit 76, event both_rewarded, slice 17\n",
      "Empty spiketrain slice for recording 20230622_110832_standard_comp_to_both_rewarded_D1_subj_1-1_t1b3L_box1_merged.rec unit 76, event both_rewarded, slice 18\n",
      "Empty spiketrain slice for recording 20230622_110832_standard_comp_to_both_rewarded_D1_subj_1-1_t1b3L_box1_merged.rec unit 76, event both_rewarded, slice 19\n",
      "Empty spiketrain slice for recording 20230622_110832_standard_comp_to_both_rewarded_D1_subj_1-1_t1b3L_box1_merged.rec unit 10, event both_rewarded, slice 17\n",
      "Empty spiketrain slice for recording 20230622_110832_standard_comp_to_both_rewarded_D1_subj_1-1_t1b3L_box1_merged.rec unit 10, event both_rewarded, slice 18\n",
      "Empty spiketrain slice for recording 20230622_110832_standard_comp_to_both_rewarded_D1_subj_1-1_t1b3L_box1_merged.rec unit 10, event both_rewarded, slice 19\n",
      "Empty spiketrain slice for recording 20230622_110832_standard_comp_to_both_rewarded_D1_subj_1-1_t1b3L_box1_merged.rec unit 94, event both_rewarded, slice 17\n",
      "Empty spiketrain slice for recording 20230622_110832_standard_comp_to_both_rewarded_D1_subj_1-1_t1b3L_box1_merged.rec unit 94, event both_rewarded, slice 18\n",
      "Empty spiketrain slice for recording 20230622_110832_standard_comp_to_both_rewarded_D1_subj_1-1_t1b3L_box1_merged.rec unit 94, event both_rewarded, slice 19\n",
      "Empty spiketrain slice for recording 20230622_110832_standard_comp_to_both_rewarded_D1_subj_1-1_t1b3L_box1_merged.rec unit 87, event both_rewarded, slice 17\n",
      "Empty spiketrain slice for recording 20230622_110832_standard_comp_to_both_rewarded_D1_subj_1-1_t1b3L_box1_merged.rec unit 87, event both_rewarded, slice 18\n",
      "Empty spiketrain slice for recording 20230622_110832_standard_comp_to_both_rewarded_D1_subj_1-1_t1b3L_box1_merged.rec unit 87, event both_rewarded, slice 19\n",
      "Empty spiketrain slice for recording 20230622_110832_standard_comp_to_both_rewarded_D1_subj_1-1_t1b3L_box1_merged.rec unit 1, event both_rewarded, slice 17\n",
      "Empty spiketrain slice for recording 20230622_110832_standard_comp_to_both_rewarded_D1_subj_1-1_t1b3L_box1_merged.rec unit 1, event both_rewarded, slice 18\n",
      "Empty spiketrain slice for recording 20230622_110832_standard_comp_to_both_rewarded_D1_subj_1-1_t1b3L_box1_merged.rec unit 1, event both_rewarded, slice 19\n",
      "Empty spiketrain slice for recording 20230622_110832_standard_comp_to_both_rewarded_D1_subj_1-1_t1b3L_box1_merged.rec unit 15, event both_rewarded, slice 17\n",
      "Empty spiketrain slice for recording 20230622_110832_standard_comp_to_both_rewarded_D1_subj_1-1_t1b3L_box1_merged.rec unit 15, event both_rewarded, slice 18\n",
      "Empty spiketrain slice for recording 20230622_110832_standard_comp_to_both_rewarded_D1_subj_1-1_t1b3L_box1_merged.rec unit 15, event both_rewarded, slice 19\n",
      "Empty spiketrain slice for recording 20230622_110832_standard_comp_to_both_rewarded_D1_subj_1-1_t1b3L_box1_merged.rec unit 97, event both_rewarded, slice 17\n",
      "Empty spiketrain slice for recording 20230622_110832_standard_comp_to_both_rewarded_D1_subj_1-1_t1b3L_box1_merged.rec unit 97, event both_rewarded, slice 18\n",
      "Empty spiketrain slice for recording 20230622_110832_standard_comp_to_both_rewarded_D1_subj_1-1_t1b3L_box1_merged.rec unit 97, event both_rewarded, slice 19\n",
      "Empty spiketrain slice for recording 20230622_110832_standard_comp_to_both_rewarded_D1_subj_1-1_t1b3L_box1_merged.rec unit 39, event both_rewarded, slice 17\n",
      "Empty spiketrain slice for recording 20230622_110832_standard_comp_to_both_rewarded_D1_subj_1-1_t1b3L_box1_merged.rec unit 39, event both_rewarded, slice 18\n",
      "Empty spiketrain slice for recording 20230622_110832_standard_comp_to_both_rewarded_D1_subj_1-1_t1b3L_box1_merged.rec unit 39, event both_rewarded, slice 19\n",
      "Empty spiketrain slice for recording 20230622_110832_standard_comp_to_both_rewarded_D1_subj_1-1_t1b3L_box1_merged.rec unit 2, event both_rewarded, slice 17\n",
      "Empty spiketrain slice for recording 20230622_110832_standard_comp_to_both_rewarded_D1_subj_1-1_t1b3L_box1_merged.rec unit 2, event both_rewarded, slice 18\n",
      "Empty spiketrain slice for recording 20230622_110832_standard_comp_to_both_rewarded_D1_subj_1-1_t1b3L_box1_merged.rec unit 2, event both_rewarded, slice 19\n",
      "Empty spiketrain slice for recording 20230622_110832_standard_comp_to_both_rewarded_D1_subj_1-1_t1b3L_box1_merged.rec unit 11, event both_rewarded, slice 17\n",
      "Empty spiketrain slice for recording 20230622_110832_standard_comp_to_both_rewarded_D1_subj_1-1_t1b3L_box1_merged.rec unit 11, event both_rewarded, slice 18\n",
      "Empty spiketrain slice for recording 20230622_110832_standard_comp_to_both_rewarded_D1_subj_1-1_t1b3L_box1_merged.rec unit 11, event both_rewarded, slice 19\n",
      "Empty spiketrain slice for recording 20230622_110832_standard_comp_to_both_rewarded_D1_subj_1-1_t1b3L_box1_merged.rec unit 77, event both_rewarded, slice 17\n",
      "Empty spiketrain slice for recording 20230622_110832_standard_comp_to_both_rewarded_D1_subj_1-1_t1b3L_box1_merged.rec unit 77, event both_rewarded, slice 18\n",
      "Empty spiketrain slice for recording 20230622_110832_standard_comp_to_both_rewarded_D1_subj_1-1_t1b3L_box1_merged.rec unit 77, event both_rewarded, slice 19\n",
      "Rounded array for tie in 20230622_110832_standard_comp_to_both_rewarded_D1_subj_1-1_t1b3L_box1_merged.rec: []\n"
     ]
    }
   ],
   "source": [
    "event_df = spike_analysis.create_spiketrain_df()"
   ]
  },
  {
   "cell_type": "code",
   "execution_count": 4,
   "id": "a7e29b52-298d-46f8-8f62-4a44ff0b88b7",
   "metadata": {
    "execution": {
     "iopub.execute_input": "2024-05-30T19:14:57.842433Z",
     "iopub.status.busy": "2024-05-30T19:14:57.842433Z",
     "iopub.status.idle": "2024-05-30T19:14:57.911768Z",
     "shell.execute_reply": "2024-05-30T19:14:57.911768Z",
     "shell.execute_reply.started": "2024-05-30T19:14:57.842433Z"
    }
   },
   "outputs": [
    {
     "data": {
      "text/html": [
       "<div>\n",
       "<style scoped>\n",
       "    .dataframe tbody tr th:only-of-type {\n",
       "        vertical-align: middle;\n",
       "    }\n",
       "\n",
       "    .dataframe tbody tr th {\n",
       "        vertical-align: top;\n",
       "    }\n",
       "\n",
       "    .dataframe thead th {\n",
       "        text-align: right;\n",
       "    }\n",
       "</style>\n",
       "<table border=\"1\" class=\"dataframe\">\n",
       "  <thead>\n",
       "    <tr style=\"text-align: right;\">\n",
       "      <th></th>\n",
       "      <th>Recording</th>\n",
       "      <th>Event name</th>\n",
       "      <th>Event number</th>\n",
       "      <th>Unit number</th>\n",
       "      <th>bin_1</th>\n",
       "      <th>bin_2</th>\n",
       "      <th>bin_3</th>\n",
       "      <th>bin_4</th>\n",
       "      <th>bin_5</th>\n",
       "      <th>bin_6</th>\n",
       "      <th>...</th>\n",
       "      <th>bin_92</th>\n",
       "      <th>bin_93</th>\n",
       "      <th>bin_94</th>\n",
       "      <th>bin_95</th>\n",
       "      <th>bin_96</th>\n",
       "      <th>bin_97</th>\n",
       "      <th>bin_98</th>\n",
       "      <th>bin_99</th>\n",
       "      <th>bin_100</th>\n",
       "      <th>bin_101</th>\n",
       "    </tr>\n",
       "  </thead>\n",
       "  <tbody>\n",
       "    <tr>\n",
       "      <th>0</th>\n",
       "      <td>20230612_101430_standard_comp_to_training_D1_s...</td>\n",
       "      <td>rewarded</td>\n",
       "      <td>1</td>\n",
       "      <td>85</td>\n",
       "      <td>0.0</td>\n",
       "      <td>0.0</td>\n",
       "      <td>0.0</td>\n",
       "      <td>0.0</td>\n",
       "      <td>0.0</td>\n",
       "      <td>0.0</td>\n",
       "      <td>...</td>\n",
       "      <td>0.0</td>\n",
       "      <td>0.0</td>\n",
       "      <td>0.0</td>\n",
       "      <td>0.0</td>\n",
       "      <td>0.0</td>\n",
       "      <td>0.0</td>\n",
       "      <td>0.0</td>\n",
       "      <td>0.0</td>\n",
       "      <td>0.0</td>\n",
       "      <td>NaN</td>\n",
       "    </tr>\n",
       "    <tr>\n",
       "      <th>1</th>\n",
       "      <td>20230612_101430_standard_comp_to_training_D1_s...</td>\n",
       "      <td>rewarded</td>\n",
       "      <td>2</td>\n",
       "      <td>85</td>\n",
       "      <td>0.0</td>\n",
       "      <td>0.0</td>\n",
       "      <td>0.0</td>\n",
       "      <td>0.0</td>\n",
       "      <td>0.0</td>\n",
       "      <td>0.0</td>\n",
       "      <td>...</td>\n",
       "      <td>0.0</td>\n",
       "      <td>0.0</td>\n",
       "      <td>0.0</td>\n",
       "      <td>0.0</td>\n",
       "      <td>0.0</td>\n",
       "      <td>0.0</td>\n",
       "      <td>0.0</td>\n",
       "      <td>0.0</td>\n",
       "      <td>0.0</td>\n",
       "      <td>NaN</td>\n",
       "    </tr>\n",
       "    <tr>\n",
       "      <th>2</th>\n",
       "      <td>20230612_101430_standard_comp_to_training_D1_s...</td>\n",
       "      <td>rewarded</td>\n",
       "      <td>3</td>\n",
       "      <td>85</td>\n",
       "      <td>0.0</td>\n",
       "      <td>0.0</td>\n",
       "      <td>0.0</td>\n",
       "      <td>0.0</td>\n",
       "      <td>0.0</td>\n",
       "      <td>0.0</td>\n",
       "      <td>...</td>\n",
       "      <td>0.0</td>\n",
       "      <td>0.0</td>\n",
       "      <td>0.0</td>\n",
       "      <td>0.0</td>\n",
       "      <td>0.0</td>\n",
       "      <td>0.0</td>\n",
       "      <td>0.0</td>\n",
       "      <td>0.0</td>\n",
       "      <td>0.0</td>\n",
       "      <td>NaN</td>\n",
       "    </tr>\n",
       "    <tr>\n",
       "      <th>3</th>\n",
       "      <td>20230612_101430_standard_comp_to_training_D1_s...</td>\n",
       "      <td>rewarded</td>\n",
       "      <td>4</td>\n",
       "      <td>85</td>\n",
       "      <td>0.0</td>\n",
       "      <td>0.0</td>\n",
       "      <td>0.0</td>\n",
       "      <td>0.0</td>\n",
       "      <td>0.0</td>\n",
       "      <td>0.0</td>\n",
       "      <td>...</td>\n",
       "      <td>1.0</td>\n",
       "      <td>0.0</td>\n",
       "      <td>0.0</td>\n",
       "      <td>0.0</td>\n",
       "      <td>0.0</td>\n",
       "      <td>0.0</td>\n",
       "      <td>0.0</td>\n",
       "      <td>0.0</td>\n",
       "      <td>0.0</td>\n",
       "      <td>NaN</td>\n",
       "    </tr>\n",
       "    <tr>\n",
       "      <th>4</th>\n",
       "      <td>20230612_101430_standard_comp_to_training_D1_s...</td>\n",
       "      <td>rewarded</td>\n",
       "      <td>5</td>\n",
       "      <td>85</td>\n",
       "      <td>0.0</td>\n",
       "      <td>0.0</td>\n",
       "      <td>0.0</td>\n",
       "      <td>0.0</td>\n",
       "      <td>0.0</td>\n",
       "      <td>0.0</td>\n",
       "      <td>...</td>\n",
       "      <td>0.0</td>\n",
       "      <td>0.0</td>\n",
       "      <td>0.0</td>\n",
       "      <td>0.0</td>\n",
       "      <td>0.0</td>\n",
       "      <td>0.0</td>\n",
       "      <td>0.0</td>\n",
       "      <td>0.0</td>\n",
       "      <td>0.0</td>\n",
       "      <td>NaN</td>\n",
       "    </tr>\n",
       "    <tr>\n",
       "      <th>...</th>\n",
       "      <td>...</td>\n",
       "      <td>...</td>\n",
       "      <td>...</td>\n",
       "      <td>...</td>\n",
       "      <td>...</td>\n",
       "      <td>...</td>\n",
       "      <td>...</td>\n",
       "      <td>...</td>\n",
       "      <td>...</td>\n",
       "      <td>...</td>\n",
       "      <td>...</td>\n",
       "      <td>...</td>\n",
       "      <td>...</td>\n",
       "      <td>...</td>\n",
       "      <td>...</td>\n",
       "      <td>...</td>\n",
       "      <td>...</td>\n",
       "      <td>...</td>\n",
       "      <td>...</td>\n",
       "      <td>...</td>\n",
       "      <td>...</td>\n",
       "    </tr>\n",
       "    <tr>\n",
       "      <th>1632</th>\n",
       "      <td>20230622_110832_standard_comp_to_both_rewarded...</td>\n",
       "      <td>both_rewarded</td>\n",
       "      <td>16</td>\n",
       "      <td>77</td>\n",
       "      <td>0.0</td>\n",
       "      <td>0.0</td>\n",
       "      <td>0.0</td>\n",
       "      <td>0.0</td>\n",
       "      <td>0.0</td>\n",
       "      <td>0.0</td>\n",
       "      <td>...</td>\n",
       "      <td>0.0</td>\n",
       "      <td>0.0</td>\n",
       "      <td>0.0</td>\n",
       "      <td>0.0</td>\n",
       "      <td>0.0</td>\n",
       "      <td>0.0</td>\n",
       "      <td>0.0</td>\n",
       "      <td>0.0</td>\n",
       "      <td>0.0</td>\n",
       "      <td>NaN</td>\n",
       "    </tr>\n",
       "    <tr>\n",
       "      <th>1633</th>\n",
       "      <td>20230622_110832_standard_comp_to_both_rewarded...</td>\n",
       "      <td>both_rewarded</td>\n",
       "      <td>17</td>\n",
       "      <td>77</td>\n",
       "      <td>0.0</td>\n",
       "      <td>1.0</td>\n",
       "      <td>0.0</td>\n",
       "      <td>0.0</td>\n",
       "      <td>0.0</td>\n",
       "      <td>0.0</td>\n",
       "      <td>...</td>\n",
       "      <td>0.0</td>\n",
       "      <td>0.0</td>\n",
       "      <td>0.0</td>\n",
       "      <td>0.0</td>\n",
       "      <td>0.0</td>\n",
       "      <td>0.0</td>\n",
       "      <td>0.0</td>\n",
       "      <td>0.0</td>\n",
       "      <td>0.0</td>\n",
       "      <td>0.0</td>\n",
       "    </tr>\n",
       "    <tr>\n",
       "      <th>1634</th>\n",
       "      <td>20230622_110832_standard_comp_to_both_rewarded...</td>\n",
       "      <td>both_rewarded</td>\n",
       "      <td>18</td>\n",
       "      <td>77</td>\n",
       "      <td>NaN</td>\n",
       "      <td>NaN</td>\n",
       "      <td>NaN</td>\n",
       "      <td>NaN</td>\n",
       "      <td>NaN</td>\n",
       "      <td>NaN</td>\n",
       "      <td>...</td>\n",
       "      <td>NaN</td>\n",
       "      <td>NaN</td>\n",
       "      <td>NaN</td>\n",
       "      <td>NaN</td>\n",
       "      <td>NaN</td>\n",
       "      <td>NaN</td>\n",
       "      <td>NaN</td>\n",
       "      <td>NaN</td>\n",
       "      <td>NaN</td>\n",
       "      <td>NaN</td>\n",
       "    </tr>\n",
       "    <tr>\n",
       "      <th>1635</th>\n",
       "      <td>20230622_110832_standard_comp_to_both_rewarded...</td>\n",
       "      <td>both_rewarded</td>\n",
       "      <td>19</td>\n",
       "      <td>77</td>\n",
       "      <td>NaN</td>\n",
       "      <td>NaN</td>\n",
       "      <td>NaN</td>\n",
       "      <td>NaN</td>\n",
       "      <td>NaN</td>\n",
       "      <td>NaN</td>\n",
       "      <td>...</td>\n",
       "      <td>NaN</td>\n",
       "      <td>NaN</td>\n",
       "      <td>NaN</td>\n",
       "      <td>NaN</td>\n",
       "      <td>NaN</td>\n",
       "      <td>NaN</td>\n",
       "      <td>NaN</td>\n",
       "      <td>NaN</td>\n",
       "      <td>NaN</td>\n",
       "      <td>NaN</td>\n",
       "    </tr>\n",
       "    <tr>\n",
       "      <th>1636</th>\n",
       "      <td>20230622_110832_standard_comp_to_both_rewarded...</td>\n",
       "      <td>both_rewarded</td>\n",
       "      <td>20</td>\n",
       "      <td>77</td>\n",
       "      <td>NaN</td>\n",
       "      <td>NaN</td>\n",
       "      <td>NaN</td>\n",
       "      <td>NaN</td>\n",
       "      <td>NaN</td>\n",
       "      <td>NaN</td>\n",
       "      <td>...</td>\n",
       "      <td>NaN</td>\n",
       "      <td>NaN</td>\n",
       "      <td>NaN</td>\n",
       "      <td>NaN</td>\n",
       "      <td>NaN</td>\n",
       "      <td>NaN</td>\n",
       "      <td>NaN</td>\n",
       "      <td>NaN</td>\n",
       "      <td>NaN</td>\n",
       "      <td>NaN</td>\n",
       "    </tr>\n",
       "  </tbody>\n",
       "</table>\n",
       "<p>1637 rows × 105 columns</p>\n",
       "</div>"
      ],
      "text/plain": [
       "                                              Recording     Event name  \\\n",
       "0     20230612_101430_standard_comp_to_training_D1_s...       rewarded   \n",
       "1     20230612_101430_standard_comp_to_training_D1_s...       rewarded   \n",
       "2     20230612_101430_standard_comp_to_training_D1_s...       rewarded   \n",
       "3     20230612_101430_standard_comp_to_training_D1_s...       rewarded   \n",
       "4     20230612_101430_standard_comp_to_training_D1_s...       rewarded   \n",
       "...                                                 ...            ...   \n",
       "1632  20230622_110832_standard_comp_to_both_rewarded...  both_rewarded   \n",
       "1633  20230622_110832_standard_comp_to_both_rewarded...  both_rewarded   \n",
       "1634  20230622_110832_standard_comp_to_both_rewarded...  both_rewarded   \n",
       "1635  20230622_110832_standard_comp_to_both_rewarded...  both_rewarded   \n",
       "1636  20230622_110832_standard_comp_to_both_rewarded...  both_rewarded   \n",
       "\n",
       "      Event number  Unit number  bin_1  bin_2  bin_3  bin_4  bin_5  bin_6  \\\n",
       "0                1           85    0.0    0.0    0.0    0.0    0.0    0.0   \n",
       "1                2           85    0.0    0.0    0.0    0.0    0.0    0.0   \n",
       "2                3           85    0.0    0.0    0.0    0.0    0.0    0.0   \n",
       "3                4           85    0.0    0.0    0.0    0.0    0.0    0.0   \n",
       "4                5           85    0.0    0.0    0.0    0.0    0.0    0.0   \n",
       "...            ...          ...    ...    ...    ...    ...    ...    ...   \n",
       "1632            16           77    0.0    0.0    0.0    0.0    0.0    0.0   \n",
       "1633            17           77    0.0    1.0    0.0    0.0    0.0    0.0   \n",
       "1634            18           77    NaN    NaN    NaN    NaN    NaN    NaN   \n",
       "1635            19           77    NaN    NaN    NaN    NaN    NaN    NaN   \n",
       "1636            20           77    NaN    NaN    NaN    NaN    NaN    NaN   \n",
       "\n",
       "      ...  bin_92  bin_93  bin_94  bin_95  bin_96  bin_97  bin_98  bin_99  \\\n",
       "0     ...     0.0     0.0     0.0     0.0     0.0     0.0     0.0     0.0   \n",
       "1     ...     0.0     0.0     0.0     0.0     0.0     0.0     0.0     0.0   \n",
       "2     ...     0.0     0.0     0.0     0.0     0.0     0.0     0.0     0.0   \n",
       "3     ...     1.0     0.0     0.0     0.0     0.0     0.0     0.0     0.0   \n",
       "4     ...     0.0     0.0     0.0     0.0     0.0     0.0     0.0     0.0   \n",
       "...   ...     ...     ...     ...     ...     ...     ...     ...     ...   \n",
       "1632  ...     0.0     0.0     0.0     0.0     0.0     0.0     0.0     0.0   \n",
       "1633  ...     0.0     0.0     0.0     0.0     0.0     0.0     0.0     0.0   \n",
       "1634  ...     NaN     NaN     NaN     NaN     NaN     NaN     NaN     NaN   \n",
       "1635  ...     NaN     NaN     NaN     NaN     NaN     NaN     NaN     NaN   \n",
       "1636  ...     NaN     NaN     NaN     NaN     NaN     NaN     NaN     NaN   \n",
       "\n",
       "      bin_100  bin_101  \n",
       "0         0.0      NaN  \n",
       "1         0.0      NaN  \n",
       "2         0.0      NaN  \n",
       "3         0.0      NaN  \n",
       "4         0.0      NaN  \n",
       "...       ...      ...  \n",
       "1632      0.0      NaN  \n",
       "1633      0.0      0.0  \n",
       "1634      NaN      NaN  \n",
       "1635      NaN      NaN  \n",
       "1636      NaN      NaN  \n",
       "\n",
       "[1637 rows x 105 columns]"
      ]
     },
     "execution_count": 4,
     "metadata": {},
     "output_type": "execute_result"
    }
   ],
   "source": [
    "event_df"
   ]
  },
  {
   "cell_type": "code",
   "execution_count": 5,
   "id": "24a3b80a-9953-46b1-b630-a281c5a0ac78",
   "metadata": {
    "execution": {
     "iopub.execute_input": "2024-05-30T19:14:57.911768Z",
     "iopub.status.busy": "2024-05-30T19:14:57.911768Z",
     "iopub.status.idle": "2024-05-30T19:14:57.933898Z",
     "shell.execute_reply": "2024-05-30T19:14:57.932383Z",
     "shell.execute_reply.started": "2024-05-30T19:14:57.911768Z"
    }
   },
   "outputs": [
    {
     "data": {
      "text/plain": [
       "Event number\n",
       "1     117\n",
       "2     117\n",
       "3     100\n",
       "4     100\n",
       "5     100\n",
       "6     100\n",
       "7     100\n",
       "13     81\n",
       "12     81\n",
       "11     81\n",
       "10     81\n",
       "9      81\n",
       "8      81\n",
       "14     62\n",
       "15     62\n",
       "16     62\n",
       "17     62\n",
       "18     62\n",
       "19     62\n",
       "20     45\n",
       "Name: count, dtype: int64"
      ]
     },
     "execution_count": 5,
     "metadata": {},
     "output_type": "execute_result"
    }
   ],
   "source": [
    "event_df['Event number'].value_counts()"
   ]
  },
  {
   "cell_type": "code",
   "execution_count": 6,
   "id": "869215ae-6641-4b1b-9557-f72a0a252236",
   "metadata": {
    "execution": {
     "iopub.execute_input": "2024-05-30T20:04:00.422695Z",
     "iopub.status.busy": "2024-05-30T20:04:00.422695Z",
     "iopub.status.idle": "2024-05-30T20:04:00.470061Z",
     "shell.execute_reply": "2024-05-30T20:04:00.468042Z",
     "shell.execute_reply.started": "2024-05-30T20:04:00.422695Z"
    }
   },
   "outputs": [
    {
     "data": {
      "text/plain": [
       "{'rewarded': array([], dtype=int64),\n",
       " 'win': array([], dtype=int64),\n",
       " 'lose': array([[  56560,   66560],\n",
       "        [ 176561,  186561],\n",
       "        [ 291562,  301563],\n",
       "        [ 381564,  391564],\n",
       "        [ 436564,  446564],\n",
       "        [ 486565,  496565],\n",
       "        [ 581566,  591566],\n",
       "        [ 656567,  666567],\n",
       "        [ 761568,  771568],\n",
       "        [ 811569,  821569],\n",
       "        [ 891570,  901570],\n",
       "        [ 956571,  966571],\n",
       "        [1021572, 1031572],\n",
       "        [1071572, 1081572],\n",
       "        [1141573, 1151573],\n",
       "        [1236574, 1246574],\n",
       "        [1316575, 1326575],\n",
       "        [1386576, 1396576],\n",
       "        [1496578, 1506578],\n",
       "        [1556578, 1566578]], dtype=int64),\n",
       " 'omission': array([], dtype=int64),\n",
       " 'both_rewarded': array([[2036584, 2046584],\n",
       "        [2096585, 2106585],\n",
       "        [2151586, 2161586],\n",
       "        [2216587, 2226587],\n",
       "        [2271587, 2281587],\n",
       "        [2321588, 2331588],\n",
       "        [2371589, 2381589],\n",
       "        [2476590, 2486590],\n",
       "        [2596591, 2606592],\n",
       "        [2716593, 2726593],\n",
       "        [2826594, 2836595],\n",
       "        [2911595, 2921596],\n",
       "        [3031597, 3041597],\n",
       "        [3091598, 3101598],\n",
       "        [3156599, 3166599],\n",
       "        [3216599, 3226600],\n",
       "        [3291600, 3301601],\n",
       "        [3391602, 3401602],\n",
       "        [3486603, 3496603],\n",
       "        [3536603, 3546604]], dtype=int64),\n",
       " 'tie': array([], dtype=int64)}"
      ]
     },
     "execution_count": 6,
     "metadata": {},
     "output_type": "execute_result"
    }
   ],
   "source": [
    "recordings = spike_analysis.ephyscollection.collection\n",
    "recording_name = '20230622_110832_standard_comp_to_both_rewarded_D1_subj_1-1_t1b3L_box1_merged.rec'\n",
    "recording1 = recordings.get(recording_name)\n",
    "recording1.event_dict"
   ]
  },
  {
   "cell_type": "code",
   "execution_count": 7,
   "id": "7fd9d75b-b956-4fd1-8fad-9292600ccf05",
   "metadata": {
    "execution": {
     "iopub.execute_input": "2024-05-30T20:04:32.622785Z",
     "iopub.status.busy": "2024-05-30T20:04:32.622785Z",
     "iopub.status.idle": "2024-05-30T20:04:32.635217Z",
     "shell.execute_reply": "2024-05-30T20:04:32.635217Z",
     "shell.execute_reply.started": "2024-05-30T20:04:32.622785Z"
    }
   },
   "outputs": [],
   "source": [
    "rec1br = recording1.event_dict['both_rewarded']"
   ]
  },
  {
   "cell_type": "code",
   "execution_count": 8,
   "id": "c3d221e3-d805-4653-a298-c7498088c0bd",
   "metadata": {
    "execution": {
     "iopub.execute_input": "2024-05-30T20:05:14.732513Z",
     "iopub.status.busy": "2024-05-30T20:05:14.732513Z",
     "iopub.status.idle": "2024-05-30T20:05:14.761814Z",
     "shell.execute_reply": "2024-05-30T20:05:14.761814Z",
     "shell.execute_reply.started": "2024-05-30T20:05:14.732513Z"
    }
   },
   "outputs": [],
   "source": [
    "rec1st = recording1.unit_spiketrains"
   ]
  },
  {
   "cell_type": "code",
   "execution_count": 9,
   "id": "19a6214a-b45a-454b-bb37-7ff8036ebb6e",
   "metadata": {
    "execution": {
     "iopub.execute_input": "2024-05-30T20:05:31.369361Z",
     "iopub.status.busy": "2024-05-30T20:05:31.369361Z",
     "iopub.status.idle": "2024-05-30T20:05:31.406318Z",
     "shell.execute_reply": "2024-05-30T20:05:31.406318Z",
     "shell.execute_reply.started": "2024-05-30T20:05:31.369361Z"
    }
   },
   "outputs": [
    {
     "data": {
      "text/plain": [
       "{9: array([1, 1, 0, ..., 0, 0, 0], dtype=int64),\n",
       " 24: array([0, 1, 0, ..., 0, 0, 0], dtype=int64),\n",
       " 76: array([0, 0, 0, ..., 0, 0, 0], dtype=int64),\n",
       " 10: array([0, 0, 0, ..., 0, 0, 0], dtype=int64),\n",
       " 94: array([0, 0, 0, ..., 0, 0, 0], dtype=int64),\n",
       " 87: array([0, 0, 0, ..., 0, 0, 0], dtype=int64),\n",
       " 1: array([0, 0, 0, ..., 0, 0, 0], dtype=int64),\n",
       " 15: array([0, 0, 0, ..., 0, 0, 0], dtype=int64),\n",
       " 97: array([0, 0, 0, ..., 0, 0, 0], dtype=int64),\n",
       " 39: array([0, 0, 0, ..., 0, 1, 0], dtype=int64),\n",
       " 2: array([0, 0, 0, ..., 0, 0, 0], dtype=int64),\n",
       " 11: array([0, 0, 0, ..., 0, 0, 0], dtype=int64),\n",
       " 77: array([0, 0, 0, ..., 0, 0, 0], dtype=int64)}"
      ]
     },
     "execution_count": 9,
     "metadata": {},
     "output_type": "execute_result"
    }
   ],
   "source": [
    "rec1st"
   ]
  },
  {
   "cell_type": "code",
   "execution_count": 10,
   "id": "bd716dc9-86b4-4308-a217-9217d07b37cf",
   "metadata": {
    "execution": {
     "iopub.execute_input": "2024-05-30T20:05:50.474639Z",
     "iopub.status.busy": "2024-05-30T20:05:50.474639Z",
     "iopub.status.idle": "2024-05-30T20:05:50.498814Z",
     "shell.execute_reply": "2024-05-30T20:05:50.498814Z",
     "shell.execute_reply.started": "2024-05-30T20:05:50.474639Z"
    }
   },
   "outputs": [
    {
     "data": {
      "text/plain": [
       "20"
      ]
     },
     "execution_count": 10,
     "metadata": {},
     "output_type": "execute_result"
    }
   ],
   "source": [
    "len(rec1br)"
   ]
  },
  {
   "cell_type": "code",
   "execution_count": 12,
   "id": "6a1a26c0-16a4-44f7-a9d0-99cc9a3c3e90",
   "metadata": {
    "execution": {
     "iopub.execute_input": "2024-05-30T20:07:56.557876Z",
     "iopub.status.busy": "2024-05-30T20:07:56.557876Z",
     "iopub.status.idle": "2024-05-30T20:07:56.585623Z",
     "shell.execute_reply": "2024-05-30T20:07:56.585623Z",
     "shell.execute_reply.started": "2024-05-30T20:07:56.557876Z"
    }
   },
   "outputs": [
    {
     "data": {
      "text/plain": [
       "array([[20366, 20466],\n",
       "       [20966, 21066],\n",
       "       [21516, 21616],\n",
       "       [22166, 22266],\n",
       "       [22716, 22816],\n",
       "       [23216, 23316],\n",
       "       [23716, 23816],\n",
       "       [24766, 24866],\n",
       "       [25966, 26066],\n",
       "       [27166, 27266],\n",
       "       [28266, 28366],\n",
       "       [29116, 29216],\n",
       "       [30316, 30416],\n",
       "       [30916, 31016],\n",
       "       [31566, 31666],\n",
       "       [32166, 32266],\n",
       "       [32916, 33017],\n",
       "       [33917, 34017],\n",
       "       [34867, 34967],\n",
       "       [35367, 35467]])"
      ]
     },
     "execution_count": 12,
     "metadata": {},
     "output_type": "execute_result"
    }
   ],
   "source": [
    "timebin = 100\n",
    "\n",
    "rounded_array = rec1br/timebin\n",
    "rounded_array = np.ceil(rounded_array).astype(int)\n",
    "rounded_array"
   ]
  },
  {
   "cell_type": "code",
   "execution_count": 16,
   "id": "a427adee-2b44-473a-88a0-54f4642ae76e",
   "metadata": {
    "execution": {
     "iopub.execute_input": "2024-05-30T20:09:59.930889Z",
     "iopub.status.busy": "2024-05-30T20:09:59.930889Z",
     "iopub.status.idle": "2024-05-30T20:09:59.954313Z",
     "shell.execute_reply": "2024-05-30T20:09:59.954313Z",
     "shell.execute_reply.started": "2024-05-30T20:09:59.930889Z"
    }
   },
   "outputs": [
    {
     "data": {
      "text/plain": [
       "array([2, 1, 0, 0, 0, 1, 1, 2, 0, 2, 1, 1, 1, 1, 0, 2, 1, 2, 0, 0, 1, 0,\n",
       "       0, 0, 1, 0, 1, 2, 2, 3, 0, 1, 1, 0, 1, 0, 1, 2, 0, 0, 1, 1, 0, 1,\n",
       "       1, 0, 2, 0, 0, 2, 2, 0, 1, 0, 1, 0, 0, 0, 1, 0, 2, 0, 1, 2, 3, 3,\n",
       "       3, 0, 3, 1, 0, 0, 1, 2, 2, 1, 0, 2, 3, 1, 1, 0, 0, 1, 0, 0, 0, 0,\n",
       "       0, 0, 2, 1, 1, 3, 0, 1, 0, 0, 0, 3], dtype=int64)"
      ]
     },
     "execution_count": 16,
     "metadata": {},
     "output_type": "execute_result"
    }
   ],
   "source": [
    "rec1st[9][rounded_array[15][0]:rounded_array[15][1]]"
   ]
  },
  {
   "cell_type": "code",
   "execution_count": 17,
   "id": "bcb9df96-c1a1-455c-8c63-daca65f39ea8",
   "metadata": {
    "execution": {
     "iopub.execute_input": "2024-05-30T20:10:13.046438Z",
     "iopub.status.busy": "2024-05-30T20:10:13.046438Z",
     "iopub.status.idle": "2024-05-30T20:10:13.068033Z",
     "shell.execute_reply": "2024-05-30T20:10:13.068033Z",
     "shell.execute_reply.started": "2024-05-30T20:10:13.046438Z"
    }
   },
   "outputs": [
    {
     "data": {
      "text/plain": [
       "array([1, 0, 2, 2, 1, 0, 1, 0, 1, 1, 1, 2, 0, 1, 1, 0, 1, 0, 2, 2, 3, 3,\n",
       "       1, 0, 2, 1, 0, 1, 0, 1, 0, 0, 1, 2, 1, 0, 1, 2, 3, 1, 1, 1, 0, 0,\n",
       "       2, 1, 0, 1, 0, 0, 2, 0, 0, 0, 1, 1, 0, 0, 0, 1, 0, 0, 1, 3, 1, 0,\n",
       "       1, 1, 0, 2, 4, 1, 1, 0, 1, 1, 2, 2, 3, 2, 1, 1, 2, 1, 1, 0, 2, 0,\n",
       "       1, 4, 1, 1, 0, 3, 2, 0, 2, 3, 1, 1, 2], dtype=int64)"
      ]
     },
     "execution_count": 17,
     "metadata": {},
     "output_type": "execute_result"
    }
   ],
   "source": [
    "rec1st[9][rounded_array[16][0]:rounded_array[16][1]]"
   ]
  },
  {
   "cell_type": "code",
   "execution_count": 18,
   "id": "de02b38a-88cf-4675-aea8-dee7ecf016a0",
   "metadata": {
    "execution": {
     "iopub.execute_input": "2024-05-30T20:10:22.852644Z",
     "iopub.status.busy": "2024-05-30T20:10:22.852644Z",
     "iopub.status.idle": "2024-05-30T20:10:22.874084Z",
     "shell.execute_reply": "2024-05-30T20:10:22.874084Z",
     "shell.execute_reply.started": "2024-05-30T20:10:22.852644Z"
    }
   },
   "outputs": [
    {
     "data": {
      "text/plain": [
       "array([], dtype=int64)"
      ]
     },
     "execution_count": 18,
     "metadata": {},
     "output_type": "execute_result"
    }
   ],
   "source": [
    "rec1st[9][rounded_array[17][0]:rounded_array[17][1]]"
   ]
  },
  {
   "cell_type": "code",
   "execution_count": 19,
   "id": "dc8b3088-8163-4770-b334-0e3768906482",
   "metadata": {
    "execution": {
     "iopub.execute_input": "2024-05-30T20:10:42.868315Z",
     "iopub.status.busy": "2024-05-30T20:10:42.868315Z",
     "iopub.status.idle": "2024-05-30T20:10:42.892422Z",
     "shell.execute_reply": "2024-05-30T20:10:42.892422Z",
     "shell.execute_reply.started": "2024-05-30T20:10:42.868315Z"
    }
   },
   "outputs": [
    {
     "data": {
      "text/plain": [
       "array([], dtype=int64)"
      ]
     },
     "execution_count": 19,
     "metadata": {},
     "output_type": "execute_result"
    }
   ],
   "source": [
    "rec1st[9][rounded_array[18][0]:rounded_array[18][1]]"
   ]
  },
  {
   "cell_type": "code",
   "execution_count": 20,
   "id": "becc7d56-f625-4b1d-9e88-346a5478c0b8",
   "metadata": {
    "execution": {
     "iopub.execute_input": "2024-05-30T20:10:52.198361Z",
     "iopub.status.busy": "2024-05-30T20:10:52.196850Z",
     "iopub.status.idle": "2024-05-30T20:10:52.221394Z",
     "shell.execute_reply": "2024-05-30T20:10:52.219371Z",
     "shell.execute_reply.started": "2024-05-30T20:10:52.198361Z"
    }
   },
   "outputs": [
    {
     "data": {
      "text/plain": [
       "array([], dtype=int64)"
      ]
     },
     "execution_count": 20,
     "metadata": {},
     "output_type": "execute_result"
    }
   ],
   "source": [
    "rec1st[9][rounded_array[19][0]:rounded_array[19][1]]"
   ]
  },
  {
   "cell_type": "code",
   "execution_count": 21,
   "id": "c7fd4c40-4378-46eb-841a-1b6f4a1e673f",
   "metadata": {
    "execution": {
     "iopub.execute_input": "2024-05-30T20:11:00.465717Z",
     "iopub.status.busy": "2024-05-30T20:11:00.465717Z",
     "iopub.status.idle": "2024-05-30T20:11:04.092690Z",
     "shell.execute_reply": "2024-05-30T20:11:04.092690Z",
     "shell.execute_reply.started": "2024-05-30T20:11:00.465717Z"
    }
   },
   "outputs": [
    {
     "ename": "IndexError",
     "evalue": "index 20 is out of bounds for axis 0 with size 20",
     "output_type": "error",
     "traceback": [
      "\u001b[1;31m---------------------------------------------------------------------------\u001b[0m",
      "\u001b[1;31mIndexError\u001b[0m                                Traceback (most recent call last)",
      "Cell \u001b[1;32mIn[21], line 1\u001b[0m\n\u001b[1;32m----> 1\u001b[0m rec1st[\u001b[38;5;241m9\u001b[39m][rounded_array[\u001b[38;5;241m20\u001b[39m][\u001b[38;5;241m0\u001b[39m]:rounded_array[\u001b[38;5;241m20\u001b[39m][\u001b[38;5;241m1\u001b[39m]]\n",
      "\u001b[1;31mIndexError\u001b[0m: index 20 is out of bounds for axis 0 with size 20"
     ]
    }
   ],
   "source": [
    "rec1st[9][rounded_array[20][0]:rounded_array[20][1]]"
   ]
  },
  {
   "cell_type": "code",
   "execution_count": 22,
   "id": "899b0270-eda4-4b41-a32e-fca4d37a29fa",
   "metadata": {
    "execution": {
     "iopub.execute_input": "2024-05-30T20:11:33.102558Z",
     "iopub.status.busy": "2024-05-30T20:11:33.102558Z",
     "iopub.status.idle": "2024-05-30T20:11:33.121611Z",
     "shell.execute_reply": "2024-05-30T20:11:33.121611Z",
     "shell.execute_reply.started": "2024-05-30T20:11:33.102558Z"
    }
   },
   "outputs": [
    {
     "data": {
      "text/plain": [
       "33673"
      ]
     },
     "execution_count": 22,
     "metadata": {},
     "output_type": "execute_result"
    }
   ],
   "source": [
    "len(rec1st[9])"
   ]
  },
  {
   "cell_type": "code",
   "execution_count": 23,
   "id": "39734b52-0007-41c9-90c7-08b9e796a319",
   "metadata": {
    "execution": {
     "iopub.execute_input": "2024-05-30T20:20:20.826777Z",
     "iopub.status.busy": "2024-05-30T20:20:20.826777Z",
     "iopub.status.idle": "2024-05-30T20:20:49.743366Z",
     "shell.execute_reply": "2024-05-30T20:20:49.669948Z",
     "shell.execute_reply.started": "2024-05-30T20:20:20.826777Z"
    }
   },
   "outputs": [
    {
     "name": "stdout",
     "output_type": "stream",
     "text": [
      "All set to analyze\n"
     ]
    }
   ],
   "source": [
    "spike_analysis = spike.SpikeAnalysis_MultiRecording(ephys_data, timebin = 1, ignore_freq = 0.5)"
   ]
  },
  {
   "cell_type": "code",
   "execution_count": 24,
   "id": "3e94b8b8-a621-4543-8603-7825d0ddb089",
   "metadata": {
    "execution": {
     "iopub.execute_input": "2024-05-30T20:21:12.528246Z",
     "iopub.status.busy": "2024-05-30T20:21:12.528246Z",
     "iopub.status.idle": "2024-05-30T20:21:12.565831Z",
     "shell.execute_reply": "2024-05-30T20:21:12.565831Z",
     "shell.execute_reply.started": "2024-05-30T20:21:12.528246Z"
    }
   },
   "outputs": [
    {
     "data": {
      "text/plain": [
       "{'rewarded': array([], dtype=int64),\n",
       " 'win': array([], dtype=int64),\n",
       " 'lose': array([[  56560,   66560],\n",
       "        [ 176561,  186561],\n",
       "        [ 291562,  301563],\n",
       "        [ 381564,  391564],\n",
       "        [ 436564,  446564],\n",
       "        [ 486565,  496565],\n",
       "        [ 581566,  591566],\n",
       "        [ 656567,  666567],\n",
       "        [ 761568,  771568],\n",
       "        [ 811569,  821569],\n",
       "        [ 891570,  901570],\n",
       "        [ 956571,  966571],\n",
       "        [1021572, 1031572],\n",
       "        [1071572, 1081572],\n",
       "        [1141573, 1151573],\n",
       "        [1236574, 1246574],\n",
       "        [1316575, 1326575],\n",
       "        [1386576, 1396576],\n",
       "        [1496578, 1506578],\n",
       "        [1556578, 1566578]], dtype=int64),\n",
       " 'omission': array([], dtype=int64),\n",
       " 'both_rewarded': array([[2036584, 2046584],\n",
       "        [2096585, 2106585],\n",
       "        [2151586, 2161586],\n",
       "        [2216587, 2226587],\n",
       "        [2271587, 2281587],\n",
       "        [2321588, 2331588],\n",
       "        [2371589, 2381589],\n",
       "        [2476590, 2486590],\n",
       "        [2596591, 2606592],\n",
       "        [2716593, 2726593],\n",
       "        [2826594, 2836595],\n",
       "        [2911595, 2921596],\n",
       "        [3031597, 3041597],\n",
       "        [3091598, 3101598],\n",
       "        [3156599, 3166599],\n",
       "        [3216599, 3226600],\n",
       "        [3291600, 3301601],\n",
       "        [3391602, 3401602],\n",
       "        [3486603, 3496603],\n",
       "        [3536603, 3546604]], dtype=int64),\n",
       " 'tie': array([], dtype=int64)}"
      ]
     },
     "execution_count": 24,
     "metadata": {},
     "output_type": "execute_result"
    }
   ],
   "source": [
    "recordings = spike_analysis.ephyscollection.collection\n",
    "recording_name = '20230622_110832_standard_comp_to_both_rewarded_D1_subj_1-1_t1b3L_box1_merged.rec'\n",
    "recording1 = recordings.get(recording_name)\n",
    "recording1.event_dict"
   ]
  },
  {
   "cell_type": "code",
   "execution_count": 25,
   "id": "74775cae-893b-4828-b46f-6332fd82d7b5",
   "metadata": {
    "execution": {
     "iopub.execute_input": "2024-05-30T20:21:40.928543Z",
     "iopub.status.busy": "2024-05-30T20:21:40.928543Z",
     "iopub.status.idle": "2024-05-30T20:21:40.937043Z",
     "shell.execute_reply": "2024-05-30T20:21:40.937043Z",
     "shell.execute_reply.started": "2024-05-30T20:21:40.928543Z"
    }
   },
   "outputs": [],
   "source": [
    "rec1st = recording1.unit_spiketrains"
   ]
  },
  {
   "cell_type": "code",
   "execution_count": 27,
   "id": "828e8513-1c60-4f1b-84ea-7e846b1705d4",
   "metadata": {
    "execution": {
     "iopub.execute_input": "2024-05-30T20:21:58.714289Z",
     "iopub.status.busy": "2024-05-30T20:21:58.714289Z",
     "iopub.status.idle": "2024-05-30T20:21:58.737226Z",
     "shell.execute_reply": "2024-05-30T20:21:58.737226Z",
     "shell.execute_reply.started": "2024-05-30T20:21:58.714289Z"
    }
   },
   "outputs": [
    {
     "data": {
      "text/plain": [
       "3367383"
      ]
     },
     "execution_count": 27,
     "metadata": {},
     "output_type": "execute_result"
    }
   ],
   "source": [
    "len(rec1st[9])"
   ]
  },
  {
   "cell_type": "code",
   "execution_count": 28,
   "id": "7b6ca2cb-cf22-45cb-a2e9-a8678d4c792c",
   "metadata": {
    "execution": {
     "iopub.execute_input": "2024-05-30T20:22:53.474215Z",
     "iopub.status.busy": "2024-05-30T20:22:53.474215Z",
     "iopub.status.idle": "2024-05-30T20:22:53.775637Z",
     "shell.execute_reply": "2024-05-30T20:22:53.775637Z",
     "shell.execute_reply.started": "2024-05-30T20:22:53.474215Z"
    }
   },
   "outputs": [
    {
     "data": {
      "text/html": [
       "<div>\n",
       "<style scoped>\n",
       "    .dataframe tbody tr th:only-of-type {\n",
       "        vertical-align: middle;\n",
       "    }\n",
       "\n",
       "    .dataframe tbody tr th {\n",
       "        vertical-align: top;\n",
       "    }\n",
       "\n",
       "    .dataframe thead th {\n",
       "        text-align: right;\n",
       "    }\n",
       "</style>\n",
       "<table border=\"1\" class=\"dataframe\">\n",
       "  <thead>\n",
       "    <tr style=\"text-align: right;\">\n",
       "      <th></th>\n",
       "      <th>Recording</th>\n",
       "      <th>Event name</th>\n",
       "      <th>Event number</th>\n",
       "      <th>Unit number</th>\n",
       "      <th>bin_1</th>\n",
       "      <th>bin_2</th>\n",
       "      <th>bin_3</th>\n",
       "      <th>bin_4</th>\n",
       "      <th>bin_5</th>\n",
       "      <th>bin_6</th>\n",
       "      <th>...</th>\n",
       "      <th>bin_92</th>\n",
       "      <th>bin_93</th>\n",
       "      <th>bin_94</th>\n",
       "      <th>bin_95</th>\n",
       "      <th>bin_96</th>\n",
       "      <th>bin_97</th>\n",
       "      <th>bin_98</th>\n",
       "      <th>bin_99</th>\n",
       "      <th>bin_100</th>\n",
       "      <th>bin_101</th>\n",
       "    </tr>\n",
       "  </thead>\n",
       "  <tbody>\n",
       "    <tr>\n",
       "      <th>0</th>\n",
       "      <td>20230612_101430_standard_comp_to_training_D1_s...</td>\n",
       "      <td>rewarded</td>\n",
       "      <td>1</td>\n",
       "      <td>85</td>\n",
       "      <td>0.0</td>\n",
       "      <td>0.0</td>\n",
       "      <td>0.0</td>\n",
       "      <td>0.0</td>\n",
       "      <td>0.0</td>\n",
       "      <td>0.0</td>\n",
       "      <td>...</td>\n",
       "      <td>0.0</td>\n",
       "      <td>0.0</td>\n",
       "      <td>0.0</td>\n",
       "      <td>0.0</td>\n",
       "      <td>0.0</td>\n",
       "      <td>0.0</td>\n",
       "      <td>0.0</td>\n",
       "      <td>0.0</td>\n",
       "      <td>0.0</td>\n",
       "      <td>NaN</td>\n",
       "    </tr>\n",
       "    <tr>\n",
       "      <th>1</th>\n",
       "      <td>20230612_101430_standard_comp_to_training_D1_s...</td>\n",
       "      <td>rewarded</td>\n",
       "      <td>2</td>\n",
       "      <td>85</td>\n",
       "      <td>0.0</td>\n",
       "      <td>0.0</td>\n",
       "      <td>0.0</td>\n",
       "      <td>0.0</td>\n",
       "      <td>0.0</td>\n",
       "      <td>0.0</td>\n",
       "      <td>...</td>\n",
       "      <td>0.0</td>\n",
       "      <td>0.0</td>\n",
       "      <td>0.0</td>\n",
       "      <td>0.0</td>\n",
       "      <td>0.0</td>\n",
       "      <td>0.0</td>\n",
       "      <td>0.0</td>\n",
       "      <td>0.0</td>\n",
       "      <td>0.0</td>\n",
       "      <td>NaN</td>\n",
       "    </tr>\n",
       "    <tr>\n",
       "      <th>2</th>\n",
       "      <td>20230612_101430_standard_comp_to_training_D1_s...</td>\n",
       "      <td>rewarded</td>\n",
       "      <td>3</td>\n",
       "      <td>85</td>\n",
       "      <td>0.0</td>\n",
       "      <td>0.0</td>\n",
       "      <td>0.0</td>\n",
       "      <td>0.0</td>\n",
       "      <td>0.0</td>\n",
       "      <td>0.0</td>\n",
       "      <td>...</td>\n",
       "      <td>0.0</td>\n",
       "      <td>0.0</td>\n",
       "      <td>0.0</td>\n",
       "      <td>0.0</td>\n",
       "      <td>0.0</td>\n",
       "      <td>0.0</td>\n",
       "      <td>0.0</td>\n",
       "      <td>0.0</td>\n",
       "      <td>0.0</td>\n",
       "      <td>NaN</td>\n",
       "    </tr>\n",
       "    <tr>\n",
       "      <th>3</th>\n",
       "      <td>20230612_101430_standard_comp_to_training_D1_s...</td>\n",
       "      <td>rewarded</td>\n",
       "      <td>4</td>\n",
       "      <td>85</td>\n",
       "      <td>0.0</td>\n",
       "      <td>0.0</td>\n",
       "      <td>0.0</td>\n",
       "      <td>0.0</td>\n",
       "      <td>0.0</td>\n",
       "      <td>0.0</td>\n",
       "      <td>...</td>\n",
       "      <td>1.0</td>\n",
       "      <td>0.0</td>\n",
       "      <td>0.0</td>\n",
       "      <td>0.0</td>\n",
       "      <td>0.0</td>\n",
       "      <td>0.0</td>\n",
       "      <td>0.0</td>\n",
       "      <td>0.0</td>\n",
       "      <td>0.0</td>\n",
       "      <td>NaN</td>\n",
       "    </tr>\n",
       "    <tr>\n",
       "      <th>4</th>\n",
       "      <td>20230612_101430_standard_comp_to_training_D1_s...</td>\n",
       "      <td>rewarded</td>\n",
       "      <td>5</td>\n",
       "      <td>85</td>\n",
       "      <td>0.0</td>\n",
       "      <td>0.0</td>\n",
       "      <td>0.0</td>\n",
       "      <td>0.0</td>\n",
       "      <td>0.0</td>\n",
       "      <td>0.0</td>\n",
       "      <td>...</td>\n",
       "      <td>0.0</td>\n",
       "      <td>0.0</td>\n",
       "      <td>0.0</td>\n",
       "      <td>0.0</td>\n",
       "      <td>0.0</td>\n",
       "      <td>0.0</td>\n",
       "      <td>0.0</td>\n",
       "      <td>0.0</td>\n",
       "      <td>0.0</td>\n",
       "      <td>NaN</td>\n",
       "    </tr>\n",
       "    <tr>\n",
       "      <th>...</th>\n",
       "      <td>...</td>\n",
       "      <td>...</td>\n",
       "      <td>...</td>\n",
       "      <td>...</td>\n",
       "      <td>...</td>\n",
       "      <td>...</td>\n",
       "      <td>...</td>\n",
       "      <td>...</td>\n",
       "      <td>...</td>\n",
       "      <td>...</td>\n",
       "      <td>...</td>\n",
       "      <td>...</td>\n",
       "      <td>...</td>\n",
       "      <td>...</td>\n",
       "      <td>...</td>\n",
       "      <td>...</td>\n",
       "      <td>...</td>\n",
       "      <td>...</td>\n",
       "      <td>...</td>\n",
       "      <td>...</td>\n",
       "      <td>...</td>\n",
       "    </tr>\n",
       "    <tr>\n",
       "      <th>1632</th>\n",
       "      <td>20230622_110832_standard_comp_to_both_rewarded...</td>\n",
       "      <td>both_rewarded</td>\n",
       "      <td>16</td>\n",
       "      <td>77</td>\n",
       "      <td>0.0</td>\n",
       "      <td>0.0</td>\n",
       "      <td>0.0</td>\n",
       "      <td>0.0</td>\n",
       "      <td>0.0</td>\n",
       "      <td>0.0</td>\n",
       "      <td>...</td>\n",
       "      <td>0.0</td>\n",
       "      <td>0.0</td>\n",
       "      <td>0.0</td>\n",
       "      <td>0.0</td>\n",
       "      <td>0.0</td>\n",
       "      <td>0.0</td>\n",
       "      <td>0.0</td>\n",
       "      <td>0.0</td>\n",
       "      <td>0.0</td>\n",
       "      <td>NaN</td>\n",
       "    </tr>\n",
       "    <tr>\n",
       "      <th>1633</th>\n",
       "      <td>20230622_110832_standard_comp_to_both_rewarded...</td>\n",
       "      <td>both_rewarded</td>\n",
       "      <td>17</td>\n",
       "      <td>77</td>\n",
       "      <td>0.0</td>\n",
       "      <td>1.0</td>\n",
       "      <td>0.0</td>\n",
       "      <td>0.0</td>\n",
       "      <td>0.0</td>\n",
       "      <td>0.0</td>\n",
       "      <td>...</td>\n",
       "      <td>0.0</td>\n",
       "      <td>0.0</td>\n",
       "      <td>0.0</td>\n",
       "      <td>0.0</td>\n",
       "      <td>0.0</td>\n",
       "      <td>0.0</td>\n",
       "      <td>0.0</td>\n",
       "      <td>0.0</td>\n",
       "      <td>0.0</td>\n",
       "      <td>0.0</td>\n",
       "    </tr>\n",
       "    <tr>\n",
       "      <th>1634</th>\n",
       "      <td>20230622_110832_standard_comp_to_both_rewarded...</td>\n",
       "      <td>both_rewarded</td>\n",
       "      <td>18</td>\n",
       "      <td>77</td>\n",
       "      <td>NaN</td>\n",
       "      <td>NaN</td>\n",
       "      <td>NaN</td>\n",
       "      <td>NaN</td>\n",
       "      <td>NaN</td>\n",
       "      <td>NaN</td>\n",
       "      <td>...</td>\n",
       "      <td>NaN</td>\n",
       "      <td>NaN</td>\n",
       "      <td>NaN</td>\n",
       "      <td>NaN</td>\n",
       "      <td>NaN</td>\n",
       "      <td>NaN</td>\n",
       "      <td>NaN</td>\n",
       "      <td>NaN</td>\n",
       "      <td>NaN</td>\n",
       "      <td>NaN</td>\n",
       "    </tr>\n",
       "    <tr>\n",
       "      <th>1635</th>\n",
       "      <td>20230622_110832_standard_comp_to_both_rewarded...</td>\n",
       "      <td>both_rewarded</td>\n",
       "      <td>19</td>\n",
       "      <td>77</td>\n",
       "      <td>NaN</td>\n",
       "      <td>NaN</td>\n",
       "      <td>NaN</td>\n",
       "      <td>NaN</td>\n",
       "      <td>NaN</td>\n",
       "      <td>NaN</td>\n",
       "      <td>...</td>\n",
       "      <td>NaN</td>\n",
       "      <td>NaN</td>\n",
       "      <td>NaN</td>\n",
       "      <td>NaN</td>\n",
       "      <td>NaN</td>\n",
       "      <td>NaN</td>\n",
       "      <td>NaN</td>\n",
       "      <td>NaN</td>\n",
       "      <td>NaN</td>\n",
       "      <td>NaN</td>\n",
       "    </tr>\n",
       "    <tr>\n",
       "      <th>1636</th>\n",
       "      <td>20230622_110832_standard_comp_to_both_rewarded...</td>\n",
       "      <td>both_rewarded</td>\n",
       "      <td>20</td>\n",
       "      <td>77</td>\n",
       "      <td>NaN</td>\n",
       "      <td>NaN</td>\n",
       "      <td>NaN</td>\n",
       "      <td>NaN</td>\n",
       "      <td>NaN</td>\n",
       "      <td>NaN</td>\n",
       "      <td>...</td>\n",
       "      <td>NaN</td>\n",
       "      <td>NaN</td>\n",
       "      <td>NaN</td>\n",
       "      <td>NaN</td>\n",
       "      <td>NaN</td>\n",
       "      <td>NaN</td>\n",
       "      <td>NaN</td>\n",
       "      <td>NaN</td>\n",
       "      <td>NaN</td>\n",
       "      <td>NaN</td>\n",
       "    </tr>\n",
       "  </tbody>\n",
       "</table>\n",
       "<p>1637 rows × 105 columns</p>\n",
       "</div>"
      ],
      "text/plain": [
       "                                              Recording     Event name  \\\n",
       "0     20230612_101430_standard_comp_to_training_D1_s...       rewarded   \n",
       "1     20230612_101430_standard_comp_to_training_D1_s...       rewarded   \n",
       "2     20230612_101430_standard_comp_to_training_D1_s...       rewarded   \n",
       "3     20230612_101430_standard_comp_to_training_D1_s...       rewarded   \n",
       "4     20230612_101430_standard_comp_to_training_D1_s...       rewarded   \n",
       "...                                                 ...            ...   \n",
       "1632  20230622_110832_standard_comp_to_both_rewarded...  both_rewarded   \n",
       "1633  20230622_110832_standard_comp_to_both_rewarded...  both_rewarded   \n",
       "1634  20230622_110832_standard_comp_to_both_rewarded...  both_rewarded   \n",
       "1635  20230622_110832_standard_comp_to_both_rewarded...  both_rewarded   \n",
       "1636  20230622_110832_standard_comp_to_both_rewarded...  both_rewarded   \n",
       "\n",
       "      Event number  Unit number  bin_1  bin_2  bin_3  bin_4  bin_5  bin_6  \\\n",
       "0                1           85    0.0    0.0    0.0    0.0    0.0    0.0   \n",
       "1                2           85    0.0    0.0    0.0    0.0    0.0    0.0   \n",
       "2                3           85    0.0    0.0    0.0    0.0    0.0    0.0   \n",
       "3                4           85    0.0    0.0    0.0    0.0    0.0    0.0   \n",
       "4                5           85    0.0    0.0    0.0    0.0    0.0    0.0   \n",
       "...            ...          ...    ...    ...    ...    ...    ...    ...   \n",
       "1632            16           77    0.0    0.0    0.0    0.0    0.0    0.0   \n",
       "1633            17           77    0.0    1.0    0.0    0.0    0.0    0.0   \n",
       "1634            18           77    NaN    NaN    NaN    NaN    NaN    NaN   \n",
       "1635            19           77    NaN    NaN    NaN    NaN    NaN    NaN   \n",
       "1636            20           77    NaN    NaN    NaN    NaN    NaN    NaN   \n",
       "\n",
       "      ...  bin_92  bin_93  bin_94  bin_95  bin_96  bin_97  bin_98  bin_99  \\\n",
       "0     ...     0.0     0.0     0.0     0.0     0.0     0.0     0.0     0.0   \n",
       "1     ...     0.0     0.0     0.0     0.0     0.0     0.0     0.0     0.0   \n",
       "2     ...     0.0     0.0     0.0     0.0     0.0     0.0     0.0     0.0   \n",
       "3     ...     1.0     0.0     0.0     0.0     0.0     0.0     0.0     0.0   \n",
       "4     ...     0.0     0.0     0.0     0.0     0.0     0.0     0.0     0.0   \n",
       "...   ...     ...     ...     ...     ...     ...     ...     ...     ...   \n",
       "1632  ...     0.0     0.0     0.0     0.0     0.0     0.0     0.0     0.0   \n",
       "1633  ...     0.0     0.0     0.0     0.0     0.0     0.0     0.0     0.0   \n",
       "1634  ...     NaN     NaN     NaN     NaN     NaN     NaN     NaN     NaN   \n",
       "1635  ...     NaN     NaN     NaN     NaN     NaN     NaN     NaN     NaN   \n",
       "1636  ...     NaN     NaN     NaN     NaN     NaN     NaN     NaN     NaN   \n",
       "\n",
       "      bin_100  bin_101  \n",
       "0         0.0      NaN  \n",
       "1         0.0      NaN  \n",
       "2         0.0      NaN  \n",
       "3         0.0      NaN  \n",
       "4         0.0      NaN  \n",
       "...       ...      ...  \n",
       "1632      0.0      NaN  \n",
       "1633      0.0      0.0  \n",
       "1634      NaN      NaN  \n",
       "1635      NaN      NaN  \n",
       "1636      NaN      NaN  \n",
       "\n",
       "[1637 rows x 105 columns]"
      ]
     },
     "execution_count": 28,
     "metadata": {},
     "output_type": "execute_result"
    }
   ],
   "source": [
    "event_df"
   ]
  },
  {
   "cell_type": "code",
   "execution_count": 29,
   "id": "35be372e-f95e-4dca-bcdd-07a944a06055",
   "metadata": {
    "execution": {
     "iopub.execute_input": "2024-05-30T20:23:03.089551Z",
     "iopub.status.busy": "2024-05-30T20:23:03.089551Z",
     "iopub.status.idle": "2024-05-30T20:23:03.202607Z",
     "shell.execute_reply": "2024-05-30T20:23:03.202607Z",
     "shell.execute_reply.started": "2024-05-30T20:23:03.089551Z"
    }
   },
   "outputs": [
    {
     "data": {
      "text/html": [
       "<div>\n",
       "<style scoped>\n",
       "    .dataframe tbody tr th:only-of-type {\n",
       "        vertical-align: middle;\n",
       "    }\n",
       "\n",
       "    .dataframe tbody tr th {\n",
       "        vertical-align: top;\n",
       "    }\n",
       "\n",
       "    .dataframe thead th {\n",
       "        text-align: right;\n",
       "    }\n",
       "</style>\n",
       "<table border=\"1\" class=\"dataframe\">\n",
       "  <thead>\n",
       "    <tr style=\"text-align: right;\">\n",
       "      <th></th>\n",
       "      <th>Recording</th>\n",
       "      <th>Event name</th>\n",
       "      <th>Event number</th>\n",
       "      <th>Unit number</th>\n",
       "      <th>bin_1</th>\n",
       "      <th>bin_2</th>\n",
       "      <th>bin_3</th>\n",
       "      <th>bin_4</th>\n",
       "      <th>bin_5</th>\n",
       "      <th>bin_6</th>\n",
       "      <th>...</th>\n",
       "      <th>bin_92</th>\n",
       "      <th>bin_93</th>\n",
       "      <th>bin_94</th>\n",
       "      <th>bin_95</th>\n",
       "      <th>bin_96</th>\n",
       "      <th>bin_97</th>\n",
       "      <th>bin_98</th>\n",
       "      <th>bin_99</th>\n",
       "      <th>bin_100</th>\n",
       "      <th>bin_101</th>\n",
       "    </tr>\n",
       "  </thead>\n",
       "  <tbody>\n",
       "    <tr>\n",
       "      <th>1393</th>\n",
       "      <td>20230622_110832_standard_comp_to_both_rewarded...</td>\n",
       "      <td>both_rewarded</td>\n",
       "      <td>17</td>\n",
       "      <td>9</td>\n",
       "      <td>1.0</td>\n",
       "      <td>0.0</td>\n",
       "      <td>2.0</td>\n",
       "      <td>2.0</td>\n",
       "      <td>1.0</td>\n",
       "      <td>0.0</td>\n",
       "      <td>...</td>\n",
       "      <td>1.0</td>\n",
       "      <td>0.0</td>\n",
       "      <td>3.0</td>\n",
       "      <td>2.0</td>\n",
       "      <td>0.0</td>\n",
       "      <td>2.0</td>\n",
       "      <td>3.0</td>\n",
       "      <td>1.0</td>\n",
       "      <td>1.0</td>\n",
       "      <td>2.0</td>\n",
       "    </tr>\n",
       "    <tr>\n",
       "      <th>1413</th>\n",
       "      <td>20230622_110832_standard_comp_to_both_rewarded...</td>\n",
       "      <td>both_rewarded</td>\n",
       "      <td>17</td>\n",
       "      <td>24</td>\n",
       "      <td>0.0</td>\n",
       "      <td>0.0</td>\n",
       "      <td>0.0</td>\n",
       "      <td>0.0</td>\n",
       "      <td>0.0</td>\n",
       "      <td>0.0</td>\n",
       "      <td>...</td>\n",
       "      <td>0.0</td>\n",
       "      <td>0.0</td>\n",
       "      <td>0.0</td>\n",
       "      <td>0.0</td>\n",
       "      <td>0.0</td>\n",
       "      <td>0.0</td>\n",
       "      <td>0.0</td>\n",
       "      <td>0.0</td>\n",
       "      <td>0.0</td>\n",
       "      <td>0.0</td>\n",
       "    </tr>\n",
       "    <tr>\n",
       "      <th>1433</th>\n",
       "      <td>20230622_110832_standard_comp_to_both_rewarded...</td>\n",
       "      <td>both_rewarded</td>\n",
       "      <td>17</td>\n",
       "      <td>76</td>\n",
       "      <td>1.0</td>\n",
       "      <td>0.0</td>\n",
       "      <td>0.0</td>\n",
       "      <td>0.0</td>\n",
       "      <td>0.0</td>\n",
       "      <td>0.0</td>\n",
       "      <td>...</td>\n",
       "      <td>0.0</td>\n",
       "      <td>1.0</td>\n",
       "      <td>0.0</td>\n",
       "      <td>0.0</td>\n",
       "      <td>0.0</td>\n",
       "      <td>0.0</td>\n",
       "      <td>0.0</td>\n",
       "      <td>1.0</td>\n",
       "      <td>0.0</td>\n",
       "      <td>0.0</td>\n",
       "    </tr>\n",
       "    <tr>\n",
       "      <th>1453</th>\n",
       "      <td>20230622_110832_standard_comp_to_both_rewarded...</td>\n",
       "      <td>both_rewarded</td>\n",
       "      <td>17</td>\n",
       "      <td>10</td>\n",
       "      <td>0.0</td>\n",
       "      <td>1.0</td>\n",
       "      <td>4.0</td>\n",
       "      <td>1.0</td>\n",
       "      <td>0.0</td>\n",
       "      <td>1.0</td>\n",
       "      <td>...</td>\n",
       "      <td>0.0</td>\n",
       "      <td>0.0</td>\n",
       "      <td>1.0</td>\n",
       "      <td>0.0</td>\n",
       "      <td>0.0</td>\n",
       "      <td>0.0</td>\n",
       "      <td>0.0</td>\n",
       "      <td>0.0</td>\n",
       "      <td>0.0</td>\n",
       "      <td>0.0</td>\n",
       "    </tr>\n",
       "    <tr>\n",
       "      <th>1473</th>\n",
       "      <td>20230622_110832_standard_comp_to_both_rewarded...</td>\n",
       "      <td>both_rewarded</td>\n",
       "      <td>17</td>\n",
       "      <td>94</td>\n",
       "      <td>0.0</td>\n",
       "      <td>0.0</td>\n",
       "      <td>0.0</td>\n",
       "      <td>0.0</td>\n",
       "      <td>0.0</td>\n",
       "      <td>0.0</td>\n",
       "      <td>...</td>\n",
       "      <td>0.0</td>\n",
       "      <td>0.0</td>\n",
       "      <td>0.0</td>\n",
       "      <td>0.0</td>\n",
       "      <td>0.0</td>\n",
       "      <td>0.0</td>\n",
       "      <td>0.0</td>\n",
       "      <td>0.0</td>\n",
       "      <td>0.0</td>\n",
       "      <td>0.0</td>\n",
       "    </tr>\n",
       "    <tr>\n",
       "      <th>1493</th>\n",
       "      <td>20230622_110832_standard_comp_to_both_rewarded...</td>\n",
       "      <td>both_rewarded</td>\n",
       "      <td>17</td>\n",
       "      <td>87</td>\n",
       "      <td>0.0</td>\n",
       "      <td>0.0</td>\n",
       "      <td>0.0</td>\n",
       "      <td>0.0</td>\n",
       "      <td>0.0</td>\n",
       "      <td>0.0</td>\n",
       "      <td>...</td>\n",
       "      <td>0.0</td>\n",
       "      <td>0.0</td>\n",
       "      <td>0.0</td>\n",
       "      <td>0.0</td>\n",
       "      <td>0.0</td>\n",
       "      <td>0.0</td>\n",
       "      <td>0.0</td>\n",
       "      <td>0.0</td>\n",
       "      <td>0.0</td>\n",
       "      <td>0.0</td>\n",
       "    </tr>\n",
       "    <tr>\n",
       "      <th>1513</th>\n",
       "      <td>20230622_110832_standard_comp_to_both_rewarded...</td>\n",
       "      <td>both_rewarded</td>\n",
       "      <td>17</td>\n",
       "      <td>1</td>\n",
       "      <td>0.0</td>\n",
       "      <td>0.0</td>\n",
       "      <td>0.0</td>\n",
       "      <td>0.0</td>\n",
       "      <td>0.0</td>\n",
       "      <td>0.0</td>\n",
       "      <td>...</td>\n",
       "      <td>0.0</td>\n",
       "      <td>0.0</td>\n",
       "      <td>0.0</td>\n",
       "      <td>0.0</td>\n",
       "      <td>0.0</td>\n",
       "      <td>0.0</td>\n",
       "      <td>0.0</td>\n",
       "      <td>0.0</td>\n",
       "      <td>0.0</td>\n",
       "      <td>0.0</td>\n",
       "    </tr>\n",
       "    <tr>\n",
       "      <th>1533</th>\n",
       "      <td>20230622_110832_standard_comp_to_both_rewarded...</td>\n",
       "      <td>both_rewarded</td>\n",
       "      <td>17</td>\n",
       "      <td>15</td>\n",
       "      <td>0.0</td>\n",
       "      <td>0.0</td>\n",
       "      <td>0.0</td>\n",
       "      <td>0.0</td>\n",
       "      <td>0.0</td>\n",
       "      <td>0.0</td>\n",
       "      <td>...</td>\n",
       "      <td>0.0</td>\n",
       "      <td>0.0</td>\n",
       "      <td>1.0</td>\n",
       "      <td>1.0</td>\n",
       "      <td>1.0</td>\n",
       "      <td>0.0</td>\n",
       "      <td>1.0</td>\n",
       "      <td>0.0</td>\n",
       "      <td>1.0</td>\n",
       "      <td>1.0</td>\n",
       "    </tr>\n",
       "    <tr>\n",
       "      <th>1553</th>\n",
       "      <td>20230622_110832_standard_comp_to_both_rewarded...</td>\n",
       "      <td>both_rewarded</td>\n",
       "      <td>17</td>\n",
       "      <td>97</td>\n",
       "      <td>1.0</td>\n",
       "      <td>0.0</td>\n",
       "      <td>0.0</td>\n",
       "      <td>0.0</td>\n",
       "      <td>0.0</td>\n",
       "      <td>0.0</td>\n",
       "      <td>...</td>\n",
       "      <td>1.0</td>\n",
       "      <td>0.0</td>\n",
       "      <td>1.0</td>\n",
       "      <td>0.0</td>\n",
       "      <td>0.0</td>\n",
       "      <td>0.0</td>\n",
       "      <td>0.0</td>\n",
       "      <td>0.0</td>\n",
       "      <td>0.0</td>\n",
       "      <td>0.0</td>\n",
       "    </tr>\n",
       "    <tr>\n",
       "      <th>1573</th>\n",
       "      <td>20230622_110832_standard_comp_to_both_rewarded...</td>\n",
       "      <td>both_rewarded</td>\n",
       "      <td>17</td>\n",
       "      <td>39</td>\n",
       "      <td>0.0</td>\n",
       "      <td>0.0</td>\n",
       "      <td>1.0</td>\n",
       "      <td>0.0</td>\n",
       "      <td>0.0</td>\n",
       "      <td>0.0</td>\n",
       "      <td>...</td>\n",
       "      <td>0.0</td>\n",
       "      <td>0.0</td>\n",
       "      <td>0.0</td>\n",
       "      <td>0.0</td>\n",
       "      <td>0.0</td>\n",
       "      <td>0.0</td>\n",
       "      <td>0.0</td>\n",
       "      <td>0.0</td>\n",
       "      <td>0.0</td>\n",
       "      <td>0.0</td>\n",
       "    </tr>\n",
       "    <tr>\n",
       "      <th>1593</th>\n",
       "      <td>20230622_110832_standard_comp_to_both_rewarded...</td>\n",
       "      <td>both_rewarded</td>\n",
       "      <td>17</td>\n",
       "      <td>2</td>\n",
       "      <td>1.0</td>\n",
       "      <td>0.0</td>\n",
       "      <td>0.0</td>\n",
       "      <td>0.0</td>\n",
       "      <td>0.0</td>\n",
       "      <td>0.0</td>\n",
       "      <td>...</td>\n",
       "      <td>0.0</td>\n",
       "      <td>0.0</td>\n",
       "      <td>0.0</td>\n",
       "      <td>0.0</td>\n",
       "      <td>0.0</td>\n",
       "      <td>0.0</td>\n",
       "      <td>0.0</td>\n",
       "      <td>0.0</td>\n",
       "      <td>0.0</td>\n",
       "      <td>0.0</td>\n",
       "    </tr>\n",
       "    <tr>\n",
       "      <th>1613</th>\n",
       "      <td>20230622_110832_standard_comp_to_both_rewarded...</td>\n",
       "      <td>both_rewarded</td>\n",
       "      <td>17</td>\n",
       "      <td>11</td>\n",
       "      <td>4.0</td>\n",
       "      <td>0.0</td>\n",
       "      <td>0.0</td>\n",
       "      <td>0.0</td>\n",
       "      <td>0.0</td>\n",
       "      <td>1.0</td>\n",
       "      <td>...</td>\n",
       "      <td>0.0</td>\n",
       "      <td>0.0</td>\n",
       "      <td>0.0</td>\n",
       "      <td>0.0</td>\n",
       "      <td>0.0</td>\n",
       "      <td>0.0</td>\n",
       "      <td>0.0</td>\n",
       "      <td>0.0</td>\n",
       "      <td>0.0</td>\n",
       "      <td>0.0</td>\n",
       "    </tr>\n",
       "    <tr>\n",
       "      <th>1633</th>\n",
       "      <td>20230622_110832_standard_comp_to_both_rewarded...</td>\n",
       "      <td>both_rewarded</td>\n",
       "      <td>17</td>\n",
       "      <td>77</td>\n",
       "      <td>0.0</td>\n",
       "      <td>1.0</td>\n",
       "      <td>0.0</td>\n",
       "      <td>0.0</td>\n",
       "      <td>0.0</td>\n",
       "      <td>0.0</td>\n",
       "      <td>...</td>\n",
       "      <td>0.0</td>\n",
       "      <td>0.0</td>\n",
       "      <td>0.0</td>\n",
       "      <td>0.0</td>\n",
       "      <td>0.0</td>\n",
       "      <td>0.0</td>\n",
       "      <td>0.0</td>\n",
       "      <td>0.0</td>\n",
       "      <td>0.0</td>\n",
       "      <td>0.0</td>\n",
       "    </tr>\n",
       "  </tbody>\n",
       "</table>\n",
       "<p>13 rows × 105 columns</p>\n",
       "</div>"
      ],
      "text/plain": [
       "                                              Recording     Event name  \\\n",
       "1393  20230622_110832_standard_comp_to_both_rewarded...  both_rewarded   \n",
       "1413  20230622_110832_standard_comp_to_both_rewarded...  both_rewarded   \n",
       "1433  20230622_110832_standard_comp_to_both_rewarded...  both_rewarded   \n",
       "1453  20230622_110832_standard_comp_to_both_rewarded...  both_rewarded   \n",
       "1473  20230622_110832_standard_comp_to_both_rewarded...  both_rewarded   \n",
       "1493  20230622_110832_standard_comp_to_both_rewarded...  both_rewarded   \n",
       "1513  20230622_110832_standard_comp_to_both_rewarded...  both_rewarded   \n",
       "1533  20230622_110832_standard_comp_to_both_rewarded...  both_rewarded   \n",
       "1553  20230622_110832_standard_comp_to_both_rewarded...  both_rewarded   \n",
       "1573  20230622_110832_standard_comp_to_both_rewarded...  both_rewarded   \n",
       "1593  20230622_110832_standard_comp_to_both_rewarded...  both_rewarded   \n",
       "1613  20230622_110832_standard_comp_to_both_rewarded...  both_rewarded   \n",
       "1633  20230622_110832_standard_comp_to_both_rewarded...  both_rewarded   \n",
       "\n",
       "      Event number  Unit number  bin_1  bin_2  bin_3  bin_4  bin_5  bin_6  \\\n",
       "1393            17            9    1.0    0.0    2.0    2.0    1.0    0.0   \n",
       "1413            17           24    0.0    0.0    0.0    0.0    0.0    0.0   \n",
       "1433            17           76    1.0    0.0    0.0    0.0    0.0    0.0   \n",
       "1453            17           10    0.0    1.0    4.0    1.0    0.0    1.0   \n",
       "1473            17           94    0.0    0.0    0.0    0.0    0.0    0.0   \n",
       "1493            17           87    0.0    0.0    0.0    0.0    0.0    0.0   \n",
       "1513            17            1    0.0    0.0    0.0    0.0    0.0    0.0   \n",
       "1533            17           15    0.0    0.0    0.0    0.0    0.0    0.0   \n",
       "1553            17           97    1.0    0.0    0.0    0.0    0.0    0.0   \n",
       "1573            17           39    0.0    0.0    1.0    0.0    0.0    0.0   \n",
       "1593            17            2    1.0    0.0    0.0    0.0    0.0    0.0   \n",
       "1613            17           11    4.0    0.0    0.0    0.0    0.0    1.0   \n",
       "1633            17           77    0.0    1.0    0.0    0.0    0.0    0.0   \n",
       "\n",
       "      ...  bin_92  bin_93  bin_94  bin_95  bin_96  bin_97  bin_98  bin_99  \\\n",
       "1393  ...     1.0     0.0     3.0     2.0     0.0     2.0     3.0     1.0   \n",
       "1413  ...     0.0     0.0     0.0     0.0     0.0     0.0     0.0     0.0   \n",
       "1433  ...     0.0     1.0     0.0     0.0     0.0     0.0     0.0     1.0   \n",
       "1453  ...     0.0     0.0     1.0     0.0     0.0     0.0     0.0     0.0   \n",
       "1473  ...     0.0     0.0     0.0     0.0     0.0     0.0     0.0     0.0   \n",
       "1493  ...     0.0     0.0     0.0     0.0     0.0     0.0     0.0     0.0   \n",
       "1513  ...     0.0     0.0     0.0     0.0     0.0     0.0     0.0     0.0   \n",
       "1533  ...     0.0     0.0     1.0     1.0     1.0     0.0     1.0     0.0   \n",
       "1553  ...     1.0     0.0     1.0     0.0     0.0     0.0     0.0     0.0   \n",
       "1573  ...     0.0     0.0     0.0     0.0     0.0     0.0     0.0     0.0   \n",
       "1593  ...     0.0     0.0     0.0     0.0     0.0     0.0     0.0     0.0   \n",
       "1613  ...     0.0     0.0     0.0     0.0     0.0     0.0     0.0     0.0   \n",
       "1633  ...     0.0     0.0     0.0     0.0     0.0     0.0     0.0     0.0   \n",
       "\n",
       "      bin_100  bin_101  \n",
       "1393      1.0      2.0  \n",
       "1413      0.0      0.0  \n",
       "1433      0.0      0.0  \n",
       "1453      0.0      0.0  \n",
       "1473      0.0      0.0  \n",
       "1493      0.0      0.0  \n",
       "1513      0.0      0.0  \n",
       "1533      1.0      1.0  \n",
       "1553      0.0      0.0  \n",
       "1573      0.0      0.0  \n",
       "1593      0.0      0.0  \n",
       "1613      0.0      0.0  \n",
       "1633      0.0      0.0  \n",
       "\n",
       "[13 rows x 105 columns]"
      ]
     },
     "execution_count": 29,
     "metadata": {},
     "output_type": "execute_result"
    }
   ],
   "source": [
    "event_df.dropna()"
   ]
  },
  {
   "cell_type": "code",
   "execution_count": 31,
   "id": "60315c9a-e5c2-484b-9d04-71a5a1c558c5",
   "metadata": {
    "execution": {
     "iopub.execute_input": "2024-05-30T20:27:50.306549Z",
     "iopub.status.busy": "2024-05-30T20:27:50.306549Z",
     "iopub.status.idle": "2024-05-30T20:27:50.338267Z",
     "shell.execute_reply": "2024-05-30T20:27:50.337260Z",
     "shell.execute_reply.started": "2024-05-30T20:27:50.306549Z"
    }
   },
   "outputs": [
    {
     "data": {
      "text/plain": [
       "array([32916, 33017])"
      ]
     },
     "execution_count": 31,
     "metadata": {},
     "output_type": "execute_result"
    }
   ],
   "source": [
    "rounded_array[16]"
   ]
  },
  {
   "cell_type": "code",
   "execution_count": 36,
   "id": "2301ebc5-4353-4224-8b2f-06e5975cf493",
   "metadata": {
    "execution": {
     "iopub.execute_input": "2024-05-30T20:29:02.482502Z",
     "iopub.status.busy": "2024-05-30T20:29:02.482502Z",
     "iopub.status.idle": "2024-05-30T20:29:02.498610Z",
     "shell.execute_reply": "2024-05-30T20:29:02.498610Z",
     "shell.execute_reply.started": "2024-05-30T20:29:02.482502Z"
    }
   },
   "outputs": [
    {
     "data": {
      "text/plain": [
       "329.16"
      ]
     },
     "execution_count": 36,
     "metadata": {},
     "output_type": "execute_result"
    }
   ],
   "source": [
    "32916/100"
   ]
  },
  {
   "cell_type": "code",
   "execution_count": 35,
   "id": "3ef78b18-fe0a-4e3e-b6fe-1a677f763644",
   "metadata": {
    "execution": {
     "iopub.execute_input": "2024-05-30T20:28:48.477606Z",
     "iopub.status.busy": "2024-05-30T20:28:48.477606Z",
     "iopub.status.idle": "2024-05-30T20:28:48.496174Z",
     "shell.execute_reply": "2024-05-30T20:28:48.496174Z",
     "shell.execute_reply.started": "2024-05-30T20:28:48.477606Z"
    }
   },
   "outputs": [
    {
     "data": {
      "text/plain": [
       "330.0"
      ]
     },
     "execution_count": 35,
     "metadata": {},
     "output_type": "execute_result"
    }
   ],
   "source": [
    "np.ceil(32916/100)"
   ]
  },
  {
   "cell_type": "code",
   "execution_count": 33,
   "id": "3af0295f-8358-4002-8ef7-7f2ed1a0bee5",
   "metadata": {
    "execution": {
     "iopub.execute_input": "2024-05-30T20:28:17.575103Z",
     "iopub.status.busy": "2024-05-30T20:28:17.558445Z",
     "iopub.status.idle": "2024-05-30T20:28:17.587013Z",
     "shell.execute_reply": "2024-05-30T20:28:17.587013Z",
     "shell.execute_reply.started": "2024-05-30T20:28:17.575103Z"
    }
   },
   "outputs": [
    {
     "data": {
      "text/plain": [
       "330.17"
      ]
     },
     "execution_count": 33,
     "metadata": {},
     "output_type": "execute_result"
    }
   ],
   "source": [
    "33017/100"
   ]
  },
  {
   "cell_type": "code",
   "execution_count": 37,
   "id": "b2455980-d7f3-4203-978a-f3dae0d74606",
   "metadata": {
    "execution": {
     "iopub.execute_input": "2024-05-30T20:29:18.134385Z",
     "iopub.status.busy": "2024-05-30T20:29:18.134385Z",
     "iopub.status.idle": "2024-05-30T20:29:18.154640Z",
     "shell.execute_reply": "2024-05-30T20:29:18.154640Z",
     "shell.execute_reply.started": "2024-05-30T20:29:18.134385Z"
    }
   },
   "outputs": [
    {
     "data": {
      "text/plain": [
       "331.0"
      ]
     },
     "execution_count": 37,
     "metadata": {},
     "output_type": "execute_result"
    }
   ],
   "source": [
    "np.ceil(33017/100)"
   ]
  },
  {
   "cell_type": "code",
   "execution_count": 38,
   "id": "f11e63c1-8668-4569-91f0-82690b09cc63",
   "metadata": {
    "execution": {
     "iopub.execute_input": "2024-05-30T20:29:30.731475Z",
     "iopub.status.busy": "2024-05-30T20:29:30.731475Z",
     "iopub.status.idle": "2024-05-30T20:29:30.747615Z",
     "shell.execute_reply": "2024-05-30T20:29:30.747615Z",
     "shell.execute_reply.started": "2024-05-30T20:29:30.731475Z"
    }
   },
   "outputs": [
    {
     "data": {
      "text/plain": [
       "array([32166, 32266])"
      ]
     },
     "execution_count": 38,
     "metadata": {},
     "output_type": "execute_result"
    }
   ],
   "source": [
    "rounded_array[15]"
   ]
  },
  {
   "cell_type": "code",
   "execution_count": 39,
   "id": "6eff300a-77a0-46a5-bbfe-396c59eb4ca5",
   "metadata": {
    "execution": {
     "iopub.execute_input": "2024-05-30T20:29:46.549221Z",
     "iopub.status.busy": "2024-05-30T20:29:46.549221Z",
     "iopub.status.idle": "2024-05-30T20:29:46.566034Z",
     "shell.execute_reply": "2024-05-30T20:29:46.566034Z",
     "shell.execute_reply.started": "2024-05-30T20:29:46.549221Z"
    }
   },
   "outputs": [
    {
     "data": {
      "text/plain": [
       "322.0"
      ]
     },
     "execution_count": 39,
     "metadata": {},
     "output_type": "execute_result"
    }
   ],
   "source": [
    "np.ceil(32166/100)"
   ]
  },
  {
   "cell_type": "code",
   "execution_count": 41,
   "id": "6bb80415-6718-4e86-960a-5e17a5c2c306",
   "metadata": {
    "execution": {
     "iopub.execute_input": "2024-05-30T20:30:04.615500Z",
     "iopub.status.busy": "2024-05-30T20:30:04.615500Z",
     "iopub.status.idle": "2024-05-30T20:30:04.626421Z",
     "shell.execute_reply": "2024-05-30T20:30:04.626421Z",
     "shell.execute_reply.started": "2024-05-30T20:30:04.615500Z"
    }
   },
   "outputs": [
    {
     "data": {
      "text/plain": [
       "323.0"
      ]
     },
     "execution_count": 41,
     "metadata": {},
     "output_type": "execute_result"
    }
   ],
   "source": [
    "np.ceil(32266/100)"
   ]
  },
  {
   "cell_type": "code",
   "execution_count": 42,
   "id": "859baf2e-2a2d-413f-895b-f13d66b62e43",
   "metadata": {
    "execution": {
     "iopub.execute_input": "2024-05-30T20:32:15.564085Z",
     "iopub.status.busy": "2024-05-30T20:32:15.564085Z",
     "iopub.status.idle": "2024-05-30T20:32:15.582148Z",
     "shell.execute_reply": "2024-05-30T20:32:15.582148Z",
     "shell.execute_reply.started": "2024-05-30T20:32:15.564085Z"
    }
   },
   "outputs": [
    {
     "data": {
      "text/plain": [
       "array([31566, 31666])"
      ]
     },
     "execution_count": 42,
     "metadata": {},
     "output_type": "execute_result"
    }
   ],
   "source": [
    "rounded_array[14]"
   ]
  },
  {
   "cell_type": "code",
   "execution_count": 1,
   "id": "17b12305-16ae-4e39-a51c-f4a36dadf02e",
   "metadata": {
    "execution": {
     "iopub.execute_input": "2024-05-30T21:07:18.264417Z",
     "iopub.status.busy": "2024-05-30T21:07:18.264417Z",
     "iopub.status.idle": "2024-05-30T21:07:18.288250Z",
     "shell.execute_reply": "2024-05-30T21:07:18.288250Z",
     "shell.execute_reply.started": "2024-05-30T21:07:18.264417Z"
    }
   },
   "outputs": [
    {
     "data": {
      "text/plain": [
       "-10000"
      ]
     },
     "execution_count": 1,
     "metadata": {},
     "output_type": "execute_result"
    }
   ],
   "source": [
    "176561 - 186561"
   ]
  },
  {
   "cell_type": "code",
   "execution_count": 2,
   "id": "57faf0d6-7e39-4003-a72a-69a49e78568b",
   "metadata": {
    "execution": {
     "iopub.execute_input": "2024-05-30T21:07:25.855145Z",
     "iopub.status.busy": "2024-05-30T21:07:25.855145Z",
     "iopub.status.idle": "2024-05-30T21:07:25.870973Z",
     "shell.execute_reply": "2024-05-30T21:07:25.870973Z",
     "shell.execute_reply.started": "2024-05-30T21:07:25.855145Z"
    }
   },
   "outputs": [
    {
     "data": {
      "text/plain": [
       "100.0"
      ]
     },
     "execution_count": 2,
     "metadata": {},
     "output_type": "execute_result"
    }
   ],
   "source": [
    "10000/100"
   ]
  },
  {
   "cell_type": "code",
   "execution_count": 3,
   "id": "e246b8f9-4b3d-4c65-b60c-56a130e09058",
   "metadata": {
    "execution": {
     "iopub.execute_input": "2024-05-30T21:07:44.330984Z",
     "iopub.status.busy": "2024-05-30T21:07:44.330984Z",
     "iopub.status.idle": "2024-05-30T21:07:44.348135Z",
     "shell.execute_reply": "2024-05-30T21:07:44.348135Z",
     "shell.execute_reply.started": "2024-05-30T21:07:44.330984Z"
    }
   },
   "outputs": [
    {
     "data": {
      "text/plain": [
       "10.0"
      ]
     },
     "execution_count": 3,
     "metadata": {},
     "output_type": "execute_result"
    }
   ],
   "source": [
    "10000/1000"
   ]
  },
  {
   "cell_type": "code",
   "execution_count": 6,
   "id": "1a8c1031-e2bb-43d8-824c-d2285b2d1b78",
   "metadata": {
    "execution": {
     "iopub.execute_input": "2024-05-30T21:09:44.420923Z",
     "iopub.status.busy": "2024-05-30T21:09:44.420923Z",
     "iopub.status.idle": "2024-05-30T21:09:44.438509Z",
     "shell.execute_reply": "2024-05-30T21:09:44.438509Z",
     "shell.execute_reply.started": "2024-05-30T21:09:44.420923Z"
    }
   },
   "outputs": [
    {
     "data": {
      "text/plain": [
       "1765.61"
      ]
     },
     "execution_count": 6,
     "metadata": {},
     "output_type": "execute_result"
    }
   ],
   "source": [
    "176561/100"
   ]
  },
  {
   "cell_type": "code",
   "execution_count": 5,
   "id": "696072f8-38b2-4f40-b463-b17dc28c0c84",
   "metadata": {
    "execution": {
     "iopub.execute_input": "2024-05-30T21:09:40.499260Z",
     "iopub.status.busy": "2024-05-30T21:09:40.499260Z",
     "iopub.status.idle": "2024-05-30T21:09:40.520980Z",
     "shell.execute_reply": "2024-05-30T21:09:40.520980Z",
     "shell.execute_reply.started": "2024-05-30T21:09:40.499260Z"
    }
   },
   "outputs": [
    {
     "data": {
      "text/plain": [
       "1865.61"
      ]
     },
     "execution_count": 5,
     "metadata": {},
     "output_type": "execute_result"
    }
   ],
   "source": [
    "186561/100"
   ]
  },
  {
   "cell_type": "code",
   "execution_count": 7,
   "id": "01448ea8-8c12-4098-8c6e-a011b62220d2",
   "metadata": {
    "execution": {
     "iopub.execute_input": "2024-05-30T21:12:31.525390Z",
     "iopub.status.busy": "2024-05-30T21:12:31.525390Z",
     "iopub.status.idle": "2024-05-30T21:12:31.543768Z",
     "shell.execute_reply": "2024-05-30T21:12:31.543768Z",
     "shell.execute_reply.started": "2024-05-30T21:12:31.525390Z"
    }
   },
   "outputs": [
    {
     "data": {
      "text/plain": [
       "49.26317035798858"
      ]
     },
     "execution_count": 7,
     "metadata": {},
     "output_type": "execute_result"
    }
   ],
   "source": [
    "3536603/71790"
   ]
  },
  {
   "cell_type": "code",
   "execution_count": 8,
   "id": "e1a11fa5-e98e-45a5-b158-dd6f40ac225e",
   "metadata": {
    "execution": {
     "iopub.execute_input": "2024-05-30T21:12:55.464474Z",
     "iopub.status.busy": "2024-05-30T21:12:55.464474Z",
     "iopub.status.idle": "2024-05-30T21:12:55.480720Z",
     "shell.execute_reply": "2024-05-30T21:12:55.480720Z",
     "shell.execute_reply.started": "2024-05-30T21:12:55.464474Z"
    }
   },
   "outputs": [
    {
     "data": {
      "text/plain": [
       "49.26591562599842"
      ]
     },
     "execution_count": 8,
     "metadata": {},
     "output_type": "execute_result"
    }
   ],
   "source": [
    "3546604/71989"
   ]
  },
  {
   "cell_type": "code",
   "execution_count": 9,
   "id": "e6397033-d1cf-41c6-8854-e5d776a4ee63",
   "metadata": {
    "execution": {
     "iopub.execute_input": "2024-05-30T21:13:31.452952Z",
     "iopub.status.busy": "2024-05-30T21:13:31.452952Z",
     "iopub.status.idle": "2024-05-30T21:13:31.470750Z",
     "shell.execute_reply": "2024-05-30T21:13:31.470750Z",
     "shell.execute_reply.started": "2024-05-30T21:13:31.452952Z"
    }
   },
   "outputs": [
    {
     "data": {
      "text/plain": [
       "48.66970964272912"
      ]
     },
     "execution_count": 9,
     "metadata": {},
     "output_type": "execute_result"
    }
   ],
   "source": [
    "2036584/41845"
   ]
  },
  {
   "cell_type": "code",
   "execution_count": 10,
   "id": "44832c15-9c3d-43b7-b134-ee8a758f25c2",
   "metadata": {
    "execution": {
     "iopub.execute_input": "2024-05-30T21:21:43.571604Z",
     "iopub.status.busy": "2024-05-30T21:21:43.571604Z",
     "iopub.status.idle": "2024-05-30T21:21:43.607574Z",
     "shell.execute_reply": "2024-05-30T21:21:43.607574Z",
     "shell.execute_reply.started": "2024-05-30T21:21:43.571604Z"
    }
   },
   "outputs": [
    {
     "data": {
      "text/plain": [
       "70732060"
      ]
     },
     "execution_count": 10,
     "metadata": {},
     "output_type": "execute_result"
    }
   ],
   "source": [
    "3536603*20"
   ]
  },
  {
   "cell_type": "code",
   "execution_count": 29,
   "id": "8e2b4d22-da6f-4bf1-83a5-9768fee696fe",
   "metadata": {
    "execution": {
     "iopub.execute_input": "2024-05-30T21:35:11.552453Z",
     "iopub.status.busy": "2024-05-30T21:35:11.552453Z",
     "iopub.status.idle": "2024-05-30T21:35:11.575550Z",
     "shell.execute_reply": "2024-05-30T21:35:11.575550Z",
     "shell.execute_reply.started": "2024-05-30T21:35:11.552453Z"
    }
   },
   "outputs": [],
   "source": [
    "import pandas as pd\n",
    "import numpy as np\n",
    "import ast\n",
    "import pickle\n",
    "from pathlib import Path\n",
    "import multirecording_spikeanalysis as spike\n",
    "from statistics import mean, StatisticsError"
   ]
  },
  {
   "cell_type": "code",
   "execution_count": 30,
   "id": "394142fe-611b-4f1d-bdb6-80a97b419cbe",
   "metadata": {
    "execution": {
     "iopub.execute_input": "2024-05-30T21:35:12.102357Z",
     "iopub.status.busy": "2024-05-30T21:35:12.102357Z",
     "iopub.status.idle": "2024-05-30T21:35:13.006151Z",
     "shell.execute_reply": "2024-05-30T21:35:13.006151Z",
     "shell.execute_reply.started": "2024-05-30T21:35:12.102357Z"
    }
   },
   "outputs": [],
   "source": [
    "cols = ['condition ', 'session_dir', 'all_subjects', 'tone_start_timestamp', 'tone_stop_timestamp']\n",
    "\n",
    "# Load the data\n",
    "df = pd.read_excel('rce_pilot_2_per_video_trial_labels.xlsx', usecols=cols, engine='openpyxl')"
   ]
  },
  {
   "cell_type": "code",
   "execution_count": 31,
   "id": "5a220835-2851-40c0-8cf5-753bb6a94d24",
   "metadata": {
    "execution": {
     "iopub.execute_input": "2024-05-30T21:35:13.046137Z",
     "iopub.status.busy": "2024-05-30T21:35:13.046137Z",
     "iopub.status.idle": "2024-05-30T21:35:13.160798Z",
     "shell.execute_reply": "2024-05-30T21:35:13.160798Z",
     "shell.execute_reply.started": "2024-05-30T21:35:13.046137Z"
    }
   },
   "outputs": [],
   "source": [
    "df2 = df.dropna() # Drop the rows missing data\n",
    "df3 = df2.copy()\n",
    "df3['all_subjects'] = df3['all_subjects'].apply(lambda x: ast.literal_eval(x) if isinstance(x, str) else x) # Make the 'all_subjects' column readable as a list\n",
    "df4 = df3[df3['all_subjects'].apply(lambda x: len(x) < 3)] # Ignore novel sessions for now"
   ]
  },
  {
   "cell_type": "code",
   "execution_count": 32,
   "id": "5584e5a9-0199-4703-9a0d-62d7aa39daab",
   "metadata": {
    "execution": {
     "iopub.execute_input": "2024-05-30T21:35:13.248572Z",
     "iopub.status.busy": "2024-05-30T21:35:13.248572Z",
     "iopub.status.idle": "2024-05-30T21:35:13.391252Z",
     "shell.execute_reply": "2024-05-30T21:35:13.391252Z",
     "shell.execute_reply.started": "2024-05-30T21:35:13.248572Z"
    }
   },
   "outputs": [],
   "source": [
    "# Initialize an empty list to collect data for the new DataFrame\n",
    "new_df_data = []\n",
    "\n",
    "for _, row in df4.iterrows():\n",
    "    session_dir = row['session_dir']\n",
    "    subjects = row['all_subjects']\n",
    "    condition = row['condition ']\n",
    "\n",
    "    # Split session_dir on '_subj_' and take the first part only\n",
    "    # This ensures everything after '_subj_' is ignored\n",
    "    base_session_dir = session_dir.split('_subj_')[0]\n",
    "\n",
    "    for subject in subjects:\n",
    "        subject_formatted = subject.replace('.', '-')\n",
    "        # Append formatted subject to the base session_dir correctly\n",
    "        subj_recording = f\"{base_session_dir}_subj_{subject_formatted}\"\n",
    "        new_df_data.append({\n",
    "            'session_dir': session_dir,\n",
    "            'subject': subject,\n",
    "            'subj_recording': subj_recording,\n",
    "            'condition': condition if condition in ['rewarded', 'omission', 'both_rewarded', 'tie'] else ('win' if str(condition) == str(subject) else 'lose'),\n",
    "            'tone_start_timestamp': row['tone_start_timestamp'],\n",
    "            'tone_stop_timestamp': row['tone_stop_timestamp']\n",
    "        })\n",
    "\n",
    "# Convert list to DataFrame\n",
    "new_df = pd.DataFrame(new_df_data)\n",
    "new_df = new_df.drop_duplicates()"
   ]
  },
  {
   "cell_type": "code",
   "execution_count": 33,
   "id": "db7172f4-fc37-4681-8533-0f420a7dad57",
   "metadata": {
    "execution": {
     "iopub.execute_input": "2024-05-30T21:35:13.895757Z",
     "iopub.status.busy": "2024-05-30T21:35:13.895757Z",
     "iopub.status.idle": "2024-05-30T21:35:14.018377Z",
     "shell.execute_reply": "2024-05-30T21:35:14.016857Z",
     "shell.execute_reply.started": "2024-05-30T21:35:13.895757Z"
    }
   },
   "outputs": [],
   "source": [
    "# Prepare timestamp_dicts from new_df\n",
    "timestamp_dicts = {}\n",
    "for _, row in new_df.iterrows():\n",
    "    key = row['subj_recording']\n",
    "    condition = row['condition']\n",
    "    timestamp_start = int(row['tone_start_timestamp']) // 20\n",
    "    timestamp_end = int(row['tone_stop_timestamp']) // 20\n",
    "    tuple_val = (timestamp_start, timestamp_end)\n",
    "\n",
    "    if key not in timestamp_dicts:\n",
    "        timestamp_dicts[key] = {cond: [] for cond in ['rewarded', 'win', 'lose', 'omission', 'both_rewarded', 'tie']}\n",
    "    timestamp_dicts[key][condition].append(tuple_val)\n",
    "\n",
    "# Convert lists in timestamp_dicts to numpy arrays\n",
    "for subj_recording in timestamp_dicts:\n",
    "    for condition in timestamp_dicts[subj_recording]:\n",
    "        timestamp_dicts[subj_recording][condition] = np.array(timestamp_dicts[subj_recording][condition], dtype=np.int64)"
   ]
  },
  {
   "cell_type": "code",
   "execution_count": 34,
   "id": "8b4c5f0b-7cee-44e5-86f3-8730dd6b10d1",
   "metadata": {
    "execution": {
     "iopub.execute_input": "2024-05-30T21:35:14.677849Z",
     "iopub.status.busy": "2024-05-30T21:35:14.677849Z",
     "iopub.status.idle": "2024-05-30T21:35:27.825697Z",
     "shell.execute_reply": "2024-05-30T21:35:27.825697Z",
     "shell.execute_reply.started": "2024-05-30T21:35:14.677849Z"
    }
   },
   "outputs": [
    {
     "name": "stdout",
     "output_type": "stream",
     "text": [
      "<class 'numpy.ndarray'>\n",
      "20230612_101430_standard_comp_to_training_D1_subj_1-3_t3b3L_box2_merged.rec\n",
      "<class 'numpy.ndarray'>\n",
      "20230617_115521_standard_comp_to_omission_D1_subj_1-1_t1b3L_box1_merged.rec\n",
      "<class 'numpy.ndarray'>\n",
      "Unit 92 is unsorted & has 2494 spikes\n",
      "Unit 92 will be deleted\n",
      "20230622_110832_standard_comp_to_both_rewarded_D1_subj_1-1_t1b3L_box1_merged.rec\n",
      "<class 'numpy.ndarray'>\n",
      "Unit 103 is unsorted & has 512 spikes\n",
      "Unit 103 will be deleted\n",
      "20230622_110832_standard_comp_to_both_rewarded_D1_subj_1-2_t3b3L_box1_merged.rec\n",
      "Please assign event dictionaries to each recording\n",
      "as recording.event_dict\n",
      "event_dict = {event name(str): np.array[[start(ms), stop(ms)]...]\n",
      "Please assign subjects to each recording as recording.subject\n"
     ]
    }
   ],
   "source": [
    "# Construct the path in a platform-independent way (HiPerGator or Windows)\n",
    "ephys_path = Path('.') / 'export' / 'updated_phys' / 'test'\n",
    "\n",
    "ephys_data = spike.EphysRecordingCollection(str(ephys_path))"
   ]
  },
  {
   "cell_type": "code",
   "execution_count": 35,
   "id": "19979dd7-f0f3-4cb5-930e-f02bf74a322f",
   "metadata": {
    "execution": {
     "iopub.execute_input": "2024-05-30T21:35:28.102805Z",
     "iopub.status.busy": "2024-05-30T21:35:28.102805Z",
     "iopub.status.idle": "2024-05-30T21:35:28.128406Z",
     "shell.execute_reply": "2024-05-30T21:35:28.127867Z",
     "shell.execute_reply.started": "2024-05-30T21:35:28.102805Z"
    }
   },
   "outputs": [],
   "source": [
    "for recording in ephys_data.collection.keys():\n",
    "    # Check if the recording key (without everything after subject #) is in timestamp_dicts\n",
    "    start_pos = recording.find('subj_')\n",
    "    # Add the length of 'subj_' and 3 additional characters to include after 'subj_'\n",
    "    end_pos = start_pos + len('subj_') + 3\n",
    "    # Slice the recording key to get everything up to and including the subject identifier plus three characters\n",
    "    recording_key_without_suffix = recording[:end_pos]\n",
    "    if recording_key_without_suffix in timestamp_dicts:\n",
    "        # Assign the corresponding timestamp_dicts dictionary to event_dict\n",
    "        ephys_data.collection[recording].event_dict = timestamp_dicts[recording_key_without_suffix]\n",
    "        \n",
    "        # Extract the subject from the recording key\n",
    "        start = recording.find('subj_') + 5  # Start index after 'subj_'\n",
    "        subject = recording[start:start+3]\n",
    "        \n",
    "        # Assign the extracted subject\n",
    "        ephys_data.collection[recording].subject = subject"
   ]
  },
  {
   "cell_type": "code",
   "execution_count": 36,
   "id": "5ed4cb2d-b0df-489f-b116-d6021e91e908",
   "metadata": {
    "execution": {
     "iopub.execute_input": "2024-05-30T21:35:28.128406Z",
     "iopub.status.busy": "2024-05-30T21:35:28.128406Z",
     "iopub.status.idle": "2024-05-30T21:36:18.088799Z",
     "shell.execute_reply": "2024-05-30T21:36:17.963363Z",
     "shell.execute_reply.started": "2024-05-30T21:35:28.128406Z"
    }
   },
   "outputs": [
    {
     "name": "stdout",
     "output_type": "stream",
     "text": [
      "All set to analyze\n"
     ]
    }
   ],
   "source": [
    "spike_analysis = spike.SpikeAnalysis_MultiRecording(ephys_data, timebin = 1, ignore_freq = 0.5)"
   ]
  },
  {
   "cell_type": "code",
   "execution_count": 37,
   "id": "7d66d919-6434-4131-99e8-65cb38344217",
   "metadata": {
    "execution": {
     "iopub.execute_input": "2024-05-30T21:36:18.214230Z",
     "iopub.status.busy": "2024-05-30T21:36:18.214230Z",
     "iopub.status.idle": "2024-05-30T21:36:18.833132Z",
     "shell.execute_reply": "2024-05-30T21:36:18.833132Z",
     "shell.execute_reply.started": "2024-05-30T21:36:18.214230Z"
    }
   },
   "outputs": [
    {
     "data": {
      "text/plain": [
       "{'rewarded': array([], dtype=int64),\n",
       " 'win': array([], dtype=int64),\n",
       " 'lose': array([[  56560,   66560],\n",
       "        [ 176561,  186561],\n",
       "        [ 291562,  301563],\n",
       "        [ 381564,  391564],\n",
       "        [ 436564,  446564],\n",
       "        [ 486565,  496565],\n",
       "        [ 581566,  591566],\n",
       "        [ 656567,  666567],\n",
       "        [ 761568,  771568],\n",
       "        [ 811569,  821569],\n",
       "        [ 891570,  901570],\n",
       "        [ 956571,  966571],\n",
       "        [1021572, 1031572],\n",
       "        [1071572, 1081572],\n",
       "        [1141573, 1151573],\n",
       "        [1236574, 1246574],\n",
       "        [1316575, 1326575],\n",
       "        [1386576, 1396576],\n",
       "        [1496578, 1506578],\n",
       "        [1556578, 1566578]], dtype=int64),\n",
       " 'omission': array([], dtype=int64),\n",
       " 'both_rewarded': array([[2036584, 2046584],\n",
       "        [2096585, 2106585],\n",
       "        [2151586, 2161586],\n",
       "        [2216587, 2226587],\n",
       "        [2271587, 2281587],\n",
       "        [2321588, 2331588],\n",
       "        [2371589, 2381589],\n",
       "        [2476590, 2486590],\n",
       "        [2596591, 2606592],\n",
       "        [2716593, 2726593],\n",
       "        [2826594, 2836595],\n",
       "        [2911595, 2921596],\n",
       "        [3031597, 3041597],\n",
       "        [3091598, 3101598],\n",
       "        [3156599, 3166599],\n",
       "        [3216599, 3226600],\n",
       "        [3291600, 3301601],\n",
       "        [3391602, 3401602],\n",
       "        [3486603, 3496603],\n",
       "        [3536603, 3546604]], dtype=int64),\n",
       " 'tie': array([], dtype=int64)}"
      ]
     },
     "execution_count": 37,
     "metadata": {},
     "output_type": "execute_result"
    }
   ],
   "source": [
    "recordings = spike_analysis.ephyscollection.collection\n",
    "recording_name = '20230622_110832_standard_comp_to_both_rewarded_D1_subj_1-1_t1b3L_box1_merged.rec'\n",
    "recording1 = recordings.get(recording_name)\n",
    "recording1.event_dict"
   ]
  },
  {
   "cell_type": "code",
   "execution_count": 38,
   "id": "a7dd540e-35f4-462e-83c5-c13a7a726785",
   "metadata": {
    "execution": {
     "iopub.execute_input": "2024-05-30T21:36:18.833132Z",
     "iopub.status.busy": "2024-05-30T21:36:18.833132Z",
     "iopub.status.idle": "2024-05-30T21:36:18.853663Z",
     "shell.execute_reply": "2024-05-30T21:36:18.853663Z",
     "shell.execute_reply.started": "2024-05-30T21:36:18.833132Z"
    }
   },
   "outputs": [
    {
     "data": {
      "text/plain": [
       "3589"
      ]
     },
     "execution_count": 38,
     "metadata": {},
     "output_type": "execute_result"
    }
   ],
   "source": [
    "71790 // 20"
   ]
  },
  {
   "cell_type": "code",
   "execution_count": 39,
   "id": "b6b07278-d202-4e9c-8342-d86de4f4ef3c",
   "metadata": {
    "execution": {
     "iopub.execute_input": "2024-05-30T21:36:18.857676Z",
     "iopub.status.busy": "2024-05-30T21:36:18.857676Z",
     "iopub.status.idle": "2024-05-30T21:36:18.968172Z",
     "shell.execute_reply": "2024-05-30T21:36:18.968172Z",
     "shell.execute_reply.started": "2024-05-30T21:36:18.857676Z"
    }
   },
   "outputs": [
    {
     "data": {
      "text/html": [
       "<div>\n",
       "<style scoped>\n",
       "    .dataframe tbody tr th:only-of-type {\n",
       "        vertical-align: middle;\n",
       "    }\n",
       "\n",
       "    .dataframe tbody tr th {\n",
       "        vertical-align: top;\n",
       "    }\n",
       "\n",
       "    .dataframe thead th {\n",
       "        text-align: right;\n",
       "    }\n",
       "</style>\n",
       "<table border=\"1\" class=\"dataframe\">\n",
       "  <thead>\n",
       "    <tr style=\"text-align: right;\">\n",
       "      <th></th>\n",
       "      <th>session_dir</th>\n",
       "      <th>subject</th>\n",
       "      <th>subj_recording</th>\n",
       "      <th>condition</th>\n",
       "      <th>tone_start_timestamp</th>\n",
       "      <th>tone_stop_timestamp</th>\n",
       "    </tr>\n",
       "  </thead>\n",
       "  <tbody>\n",
       "    <tr>\n",
       "      <th>0</th>\n",
       "      <td>20230612_101430_standard_comp_to_training_D1_s...</td>\n",
       "      <td>1.3</td>\n",
       "      <td>20230612_101430_standard_comp_to_training_D1_s...</td>\n",
       "      <td>lose</td>\n",
       "      <td>982229.0</td>\n",
       "      <td>1182226.0</td>\n",
       "    </tr>\n",
       "    <tr>\n",
       "      <th>1</th>\n",
       "      <td>20230612_101430_standard_comp_to_training_D1_s...</td>\n",
       "      <td>1.4</td>\n",
       "      <td>20230612_101430_standard_comp_to_training_D1_s...</td>\n",
       "      <td>win</td>\n",
       "      <td>982229.0</td>\n",
       "      <td>1182226.0</td>\n",
       "    </tr>\n",
       "    <tr>\n",
       "      <th>2</th>\n",
       "      <td>20230612_101430_standard_comp_to_training_D1_s...</td>\n",
       "      <td>1.3</td>\n",
       "      <td>20230612_101430_standard_comp_to_training_D1_s...</td>\n",
       "      <td>win</td>\n",
       "      <td>3382227.0</td>\n",
       "      <td>3582224.0</td>\n",
       "    </tr>\n",
       "    <tr>\n",
       "      <th>3</th>\n",
       "      <td>20230612_101430_standard_comp_to_training_D1_s...</td>\n",
       "      <td>1.4</td>\n",
       "      <td>20230612_101430_standard_comp_to_training_D1_s...</td>\n",
       "      <td>lose</td>\n",
       "      <td>3382227.0</td>\n",
       "      <td>3582224.0</td>\n",
       "    </tr>\n",
       "    <tr>\n",
       "      <th>4</th>\n",
       "      <td>20230612_101430_standard_comp_to_training_D1_s...</td>\n",
       "      <td>1.3</td>\n",
       "      <td>20230612_101430_standard_comp_to_training_D1_s...</td>\n",
       "      <td>lose</td>\n",
       "      <td>5682225.0</td>\n",
       "      <td>5882222.0</td>\n",
       "    </tr>\n",
       "    <tr>\n",
       "      <th>...</th>\n",
       "      <td>...</td>\n",
       "      <td>...</td>\n",
       "      <td>...</td>\n",
       "      <td>...</td>\n",
       "      <td>...</td>\n",
       "      <td>...</td>\n",
       "    </tr>\n",
       "    <tr>\n",
       "      <th>1267</th>\n",
       "      <td>20230625_112913_standard_comp_to_both_rewarded...</td>\n",
       "      <td>1.4</td>\n",
       "      <td>20230625_112913_standard_comp_to_both_rewarded...</td>\n",
       "      <td>both_rewarded</td>\n",
       "      <td>67804057.0</td>\n",
       "      <td>68004058.0</td>\n",
       "    </tr>\n",
       "    <tr>\n",
       "      <th>1268</th>\n",
       "      <td>20230625_112913_standard_comp_to_both_rewarded...</td>\n",
       "      <td>1.1</td>\n",
       "      <td>20230625_112913_standard_comp_to_both_rewarded...</td>\n",
       "      <td>both_rewarded</td>\n",
       "      <td>69704075.0</td>\n",
       "      <td>69904080.0</td>\n",
       "    </tr>\n",
       "    <tr>\n",
       "      <th>1269</th>\n",
       "      <td>20230625_112913_standard_comp_to_both_rewarded...</td>\n",
       "      <td>1.4</td>\n",
       "      <td>20230625_112913_standard_comp_to_both_rewarded...</td>\n",
       "      <td>both_rewarded</td>\n",
       "      <td>69704075.0</td>\n",
       "      <td>69904080.0</td>\n",
       "    </tr>\n",
       "    <tr>\n",
       "      <th>1270</th>\n",
       "      <td>20230625_112913_standard_comp_to_both_rewarded...</td>\n",
       "      <td>1.1</td>\n",
       "      <td>20230625_112913_standard_comp_to_both_rewarded...</td>\n",
       "      <td>both_rewarded</td>\n",
       "      <td>70704093.0</td>\n",
       "      <td>70904092.0</td>\n",
       "    </tr>\n",
       "    <tr>\n",
       "      <th>1271</th>\n",
       "      <td>20230625_112913_standard_comp_to_both_rewarded...</td>\n",
       "      <td>1.4</td>\n",
       "      <td>20230625_112913_standard_comp_to_both_rewarded...</td>\n",
       "      <td>both_rewarded</td>\n",
       "      <td>70704093.0</td>\n",
       "      <td>70904092.0</td>\n",
       "    </tr>\n",
       "  </tbody>\n",
       "</table>\n",
       "<p>960 rows × 6 columns</p>\n",
       "</div>"
      ],
      "text/plain": [
       "                                            session_dir subject  \\\n",
       "0     20230612_101430_standard_comp_to_training_D1_s...     1.3   \n",
       "1     20230612_101430_standard_comp_to_training_D1_s...     1.4   \n",
       "2     20230612_101430_standard_comp_to_training_D1_s...     1.3   \n",
       "3     20230612_101430_standard_comp_to_training_D1_s...     1.4   \n",
       "4     20230612_101430_standard_comp_to_training_D1_s...     1.3   \n",
       "...                                                 ...     ...   \n",
       "1267  20230625_112913_standard_comp_to_both_rewarded...     1.4   \n",
       "1268  20230625_112913_standard_comp_to_both_rewarded...     1.1   \n",
       "1269  20230625_112913_standard_comp_to_both_rewarded...     1.4   \n",
       "1270  20230625_112913_standard_comp_to_both_rewarded...     1.1   \n",
       "1271  20230625_112913_standard_comp_to_both_rewarded...     1.4   \n",
       "\n",
       "                                         subj_recording      condition  \\\n",
       "0     20230612_101430_standard_comp_to_training_D1_s...           lose   \n",
       "1     20230612_101430_standard_comp_to_training_D1_s...            win   \n",
       "2     20230612_101430_standard_comp_to_training_D1_s...            win   \n",
       "3     20230612_101430_standard_comp_to_training_D1_s...           lose   \n",
       "4     20230612_101430_standard_comp_to_training_D1_s...           lose   \n",
       "...                                                 ...            ...   \n",
       "1267  20230625_112913_standard_comp_to_both_rewarded...  both_rewarded   \n",
       "1268  20230625_112913_standard_comp_to_both_rewarded...  both_rewarded   \n",
       "1269  20230625_112913_standard_comp_to_both_rewarded...  both_rewarded   \n",
       "1270  20230625_112913_standard_comp_to_both_rewarded...  both_rewarded   \n",
       "1271  20230625_112913_standard_comp_to_both_rewarded...  both_rewarded   \n",
       "\n",
       "      tone_start_timestamp  tone_stop_timestamp  \n",
       "0                 982229.0            1182226.0  \n",
       "1                 982229.0            1182226.0  \n",
       "2                3382227.0            3582224.0  \n",
       "3                3382227.0            3582224.0  \n",
       "4                5682225.0            5882222.0  \n",
       "...                    ...                  ...  \n",
       "1267            67804057.0           68004058.0  \n",
       "1268            69704075.0           69904080.0  \n",
       "1269            69704075.0           69904080.0  \n",
       "1270            70704093.0           70904092.0  \n",
       "1271            70704093.0           70904092.0  \n",
       "\n",
       "[960 rows x 6 columns]"
      ]
     },
     "execution_count": 39,
     "metadata": {},
     "output_type": "execute_result"
    }
   ],
   "source": [
    "new_df"
   ]
  },
  {
   "cell_type": "code",
   "execution_count": 40,
   "id": "22d47730-7277-42ef-9114-6738cda3013b",
   "metadata": {
    "execution": {
     "iopub.execute_input": "2024-05-30T21:36:18.968172Z",
     "iopub.status.busy": "2024-05-30T21:36:18.968172Z",
     "iopub.status.idle": "2024-05-30T21:36:18.995403Z",
     "shell.execute_reply": "2024-05-30T21:36:18.995403Z",
     "shell.execute_reply.started": "2024-05-30T21:36:18.968172Z"
    }
   },
   "outputs": [],
   "source": [
    "new_df2 = new_df[new_df['session_dir'] == '20230622_110832_standard_comp_to_both_rewarded_D1_subj_1-1_and_1-2']"
   ]
  },
  {
   "cell_type": "code",
   "execution_count": 41,
   "id": "f1765e47-1d9b-4f1c-9289-c606e8e8e462",
   "metadata": {
    "execution": {
     "iopub.execute_input": "2024-05-30T21:36:18.998918Z",
     "iopub.status.busy": "2024-05-30T21:36:18.998918Z",
     "iopub.status.idle": "2024-05-30T21:36:19.027039Z",
     "shell.execute_reply": "2024-05-30T21:36:19.027039Z",
     "shell.execute_reply.started": "2024-05-30T21:36:18.998918Z"
    }
   },
   "outputs": [
    {
     "data": {
      "text/html": [
       "<div>\n",
       "<style scoped>\n",
       "    .dataframe tbody tr th:only-of-type {\n",
       "        vertical-align: middle;\n",
       "    }\n",
       "\n",
       "    .dataframe tbody tr th {\n",
       "        vertical-align: top;\n",
       "    }\n",
       "\n",
       "    .dataframe thead th {\n",
       "        text-align: right;\n",
       "    }\n",
       "</style>\n",
       "<table border=\"1\" class=\"dataframe\">\n",
       "  <thead>\n",
       "    <tr style=\"text-align: right;\">\n",
       "      <th></th>\n",
       "      <th>session_dir</th>\n",
       "      <th>subject</th>\n",
       "      <th>subj_recording</th>\n",
       "      <th>condition</th>\n",
       "      <th>tone_start_timestamp</th>\n",
       "      <th>tone_stop_timestamp</th>\n",
       "    </tr>\n",
       "  </thead>\n",
       "  <tbody>\n",
       "    <tr>\n",
       "      <th>1032</th>\n",
       "      <td>20230622_110832_standard_comp_to_both_rewarded...</td>\n",
       "      <td>1.1</td>\n",
       "      <td>20230622_110832_standard_comp_to_both_rewarded...</td>\n",
       "      <td>lose</td>\n",
       "      <td>1131200.0</td>\n",
       "      <td>1331202.0</td>\n",
       "    </tr>\n",
       "    <tr>\n",
       "      <th>1033</th>\n",
       "      <td>20230622_110832_standard_comp_to_both_rewarded...</td>\n",
       "      <td>1.2</td>\n",
       "      <td>20230622_110832_standard_comp_to_both_rewarded...</td>\n",
       "      <td>win</td>\n",
       "      <td>1131200.0</td>\n",
       "      <td>1331202.0</td>\n",
       "    </tr>\n",
       "    <tr>\n",
       "      <th>1034</th>\n",
       "      <td>20230622_110832_standard_comp_to_both_rewarded...</td>\n",
       "      <td>1.1</td>\n",
       "      <td>20230622_110832_standard_comp_to_both_rewarded...</td>\n",
       "      <td>lose</td>\n",
       "      <td>3531230.0</td>\n",
       "      <td>3731233.0</td>\n",
       "    </tr>\n",
       "    <tr>\n",
       "      <th>1035</th>\n",
       "      <td>20230622_110832_standard_comp_to_both_rewarded...</td>\n",
       "      <td>1.2</td>\n",
       "      <td>20230622_110832_standard_comp_to_both_rewarded...</td>\n",
       "      <td>win</td>\n",
       "      <td>3531230.0</td>\n",
       "      <td>3731233.0</td>\n",
       "    </tr>\n",
       "    <tr>\n",
       "      <th>1036</th>\n",
       "      <td>20230622_110832_standard_comp_to_both_rewarded...</td>\n",
       "      <td>1.1</td>\n",
       "      <td>20230622_110832_standard_comp_to_both_rewarded...</td>\n",
       "      <td>lose</td>\n",
       "      <td>5831259.0</td>\n",
       "      <td>6031261.0</td>\n",
       "    </tr>\n",
       "    <tr>\n",
       "      <th>...</th>\n",
       "      <td>...</td>\n",
       "      <td>...</td>\n",
       "      <td>...</td>\n",
       "      <td>...</td>\n",
       "      <td>...</td>\n",
       "      <td>...</td>\n",
       "    </tr>\n",
       "    <tr>\n",
       "      <th>1107</th>\n",
       "      <td>20230622_110832_standard_comp_to_both_rewarded...</td>\n",
       "      <td>1.2</td>\n",
       "      <td>20230622_110832_standard_comp_to_both_rewarded...</td>\n",
       "      <td>both_rewarded</td>\n",
       "      <td>67832040.0</td>\n",
       "      <td>68032042.0</td>\n",
       "    </tr>\n",
       "    <tr>\n",
       "      <th>1108</th>\n",
       "      <td>20230622_110832_standard_comp_to_both_rewarded...</td>\n",
       "      <td>1.1</td>\n",
       "      <td>20230622_110832_standard_comp_to_both_rewarded...</td>\n",
       "      <td>both_rewarded</td>\n",
       "      <td>69732064.0</td>\n",
       "      <td>69932067.0</td>\n",
       "    </tr>\n",
       "    <tr>\n",
       "      <th>1109</th>\n",
       "      <td>20230622_110832_standard_comp_to_both_rewarded...</td>\n",
       "      <td>1.2</td>\n",
       "      <td>20230622_110832_standard_comp_to_both_rewarded...</td>\n",
       "      <td>both_rewarded</td>\n",
       "      <td>69732064.0</td>\n",
       "      <td>69932067.0</td>\n",
       "    </tr>\n",
       "    <tr>\n",
       "      <th>1110</th>\n",
       "      <td>20230622_110832_standard_comp_to_both_rewarded...</td>\n",
       "      <td>1.1</td>\n",
       "      <td>20230622_110832_standard_comp_to_both_rewarded...</td>\n",
       "      <td>both_rewarded</td>\n",
       "      <td>70732077.0</td>\n",
       "      <td>70932082.0</td>\n",
       "    </tr>\n",
       "    <tr>\n",
       "      <th>1111</th>\n",
       "      <td>20230622_110832_standard_comp_to_both_rewarded...</td>\n",
       "      <td>1.2</td>\n",
       "      <td>20230622_110832_standard_comp_to_both_rewarded...</td>\n",
       "      <td>both_rewarded</td>\n",
       "      <td>70732077.0</td>\n",
       "      <td>70932082.0</td>\n",
       "    </tr>\n",
       "  </tbody>\n",
       "</table>\n",
       "<p>80 rows × 6 columns</p>\n",
       "</div>"
      ],
      "text/plain": [
       "                                            session_dir subject  \\\n",
       "1032  20230622_110832_standard_comp_to_both_rewarded...     1.1   \n",
       "1033  20230622_110832_standard_comp_to_both_rewarded...     1.2   \n",
       "1034  20230622_110832_standard_comp_to_both_rewarded...     1.1   \n",
       "1035  20230622_110832_standard_comp_to_both_rewarded...     1.2   \n",
       "1036  20230622_110832_standard_comp_to_both_rewarded...     1.1   \n",
       "...                                                 ...     ...   \n",
       "1107  20230622_110832_standard_comp_to_both_rewarded...     1.2   \n",
       "1108  20230622_110832_standard_comp_to_both_rewarded...     1.1   \n",
       "1109  20230622_110832_standard_comp_to_both_rewarded...     1.2   \n",
       "1110  20230622_110832_standard_comp_to_both_rewarded...     1.1   \n",
       "1111  20230622_110832_standard_comp_to_both_rewarded...     1.2   \n",
       "\n",
       "                                         subj_recording      condition  \\\n",
       "1032  20230622_110832_standard_comp_to_both_rewarded...           lose   \n",
       "1033  20230622_110832_standard_comp_to_both_rewarded...            win   \n",
       "1034  20230622_110832_standard_comp_to_both_rewarded...           lose   \n",
       "1035  20230622_110832_standard_comp_to_both_rewarded...            win   \n",
       "1036  20230622_110832_standard_comp_to_both_rewarded...           lose   \n",
       "...                                                 ...            ...   \n",
       "1107  20230622_110832_standard_comp_to_both_rewarded...  both_rewarded   \n",
       "1108  20230622_110832_standard_comp_to_both_rewarded...  both_rewarded   \n",
       "1109  20230622_110832_standard_comp_to_both_rewarded...  both_rewarded   \n",
       "1110  20230622_110832_standard_comp_to_both_rewarded...  both_rewarded   \n",
       "1111  20230622_110832_standard_comp_to_both_rewarded...  both_rewarded   \n",
       "\n",
       "      tone_start_timestamp  tone_stop_timestamp  \n",
       "1032             1131200.0            1331202.0  \n",
       "1033             1131200.0            1331202.0  \n",
       "1034             3531230.0            3731233.0  \n",
       "1035             3531230.0            3731233.0  \n",
       "1036             5831259.0            6031261.0  \n",
       "...                    ...                  ...  \n",
       "1107            67832040.0           68032042.0  \n",
       "1108            69732064.0           69932067.0  \n",
       "1109            69732064.0           69932067.0  \n",
       "1110            70732077.0           70932082.0  \n",
       "1111            70732077.0           70932082.0  \n",
       "\n",
       "[80 rows x 6 columns]"
      ]
     },
     "execution_count": 41,
     "metadata": {},
     "output_type": "execute_result"
    }
   ],
   "source": [
    "new_df2"
   ]
  },
  {
   "cell_type": "code",
   "execution_count": 42,
   "id": "9cf77975-3d12-4071-8a46-656406bc4b78",
   "metadata": {
    "execution": {
     "iopub.execute_input": "2024-05-30T21:36:19.030562Z",
     "iopub.status.busy": "2024-05-30T21:36:19.027039Z",
     "iopub.status.idle": "2024-05-30T21:36:19.040374Z",
     "shell.execute_reply": "2024-05-30T21:36:19.040374Z",
     "shell.execute_reply.started": "2024-05-30T21:36:19.030562Z"
    }
   },
   "outputs": [
    {
     "data": {
      "text/plain": [
       "3536603"
      ]
     },
     "execution_count": 42,
     "metadata": {},
     "output_type": "execute_result"
    }
   ],
   "source": [
    "70732077 // 20"
   ]
  },
  {
   "cell_type": "code",
   "execution_count": 43,
   "id": "53a4286f-3841-4fc9-bd66-dbc9be903321",
   "metadata": {
    "execution": {
     "iopub.execute_input": "2024-05-30T21:36:19.044403Z",
     "iopub.status.busy": "2024-05-30T21:36:19.044403Z",
     "iopub.status.idle": "2024-05-30T21:36:19.055955Z",
     "shell.execute_reply": "2024-05-30T21:36:19.055955Z",
     "shell.execute_reply.started": "2024-05-30T21:36:19.044403Z"
    }
   },
   "outputs": [
    {
     "data": {
      "text/plain": [
       "3367383"
      ]
     },
     "execution_count": 43,
     "metadata": {},
     "output_type": "execute_result"
    }
   ],
   "source": [
    "len(recording1.unit_spiketrains[9])"
   ]
  },
  {
   "cell_type": "code",
   "execution_count": 44,
   "id": "a0152775-dcdb-4f93-b33f-6cec2b86ea51",
   "metadata": {
    "execution": {
     "iopub.execute_input": "2024-05-30T21:36:19.055955Z",
     "iopub.status.busy": "2024-05-30T21:36:19.055955Z",
     "iopub.status.idle": "2024-05-30T21:37:02.864236Z",
     "shell.execute_reply": "2024-05-30T21:37:02.794288Z",
     "shell.execute_reply.started": "2024-05-30T21:36:19.055955Z"
    }
   },
   "outputs": [
    {
     "name": "stdout",
     "output_type": "stream",
     "text": [
      "All set to analyze\n"
     ]
    }
   ],
   "source": [
    "spike_analysis = spike.SpikeAnalysis_MultiRecording(ephys_data, timebin = 1, ignore_freq = 0.5)"
   ]
  },
  {
   "cell_type": "code",
   "execution_count": 45,
   "id": "b0b65670-9b70-422b-a180-318cedfc24e3",
   "metadata": {
    "execution": {
     "iopub.execute_input": "2024-05-30T21:37:03.005279Z",
     "iopub.status.busy": "2024-05-30T21:37:02.989650Z",
     "iopub.status.idle": "2024-05-30T21:37:03.228122Z",
     "shell.execute_reply": "2024-05-30T21:37:03.228122Z",
     "shell.execute_reply.started": "2024-05-30T21:37:03.005279Z"
    }
   },
   "outputs": [
    {
     "data": {
      "text/plain": [
       "3367383"
      ]
     },
     "execution_count": 45,
     "metadata": {},
     "output_type": "execute_result"
    }
   ],
   "source": [
    "recordings = spike_analysis.ephyscollection.collection\n",
    "recording_name = '20230622_110832_standard_comp_to_both_rewarded_D1_subj_1-1_t1b3L_box1_merged.rec'\n",
    "recording1 = recordings.get(recording_name)\n",
    "len(recording1.unit_spiketrains[9])"
   ]
  },
  {
   "cell_type": "code",
   "execution_count": 49,
   "id": "c2694eb1-f29f-47ed-a398-6d04a7e2a39b",
   "metadata": {
    "execution": {
     "iopub.execute_input": "2024-05-30T21:37:41.605156Z",
     "iopub.status.busy": "2024-05-30T21:37:41.605156Z",
     "iopub.status.idle": "2024-05-30T21:37:41.624541Z",
     "shell.execute_reply": "2024-05-30T21:37:41.624541Z",
     "shell.execute_reply.started": "2024-05-30T21:37:41.605156Z"
    }
   },
   "outputs": [
    {
     "data": {
      "text/plain": [
       "3602641"
      ]
     },
     "execution_count": 49,
     "metadata": {},
     "output_type": "execute_result"
    }
   ],
   "source": [
    "recording_name2 = '20230622_110832_standard_comp_to_both_rewarded_D1_subj_1-2_t3b3L_box1_merged.rec'\n",
    "recording2 = recordings.get(recording_name2)\n",
    "len(recording2.unit_spiketrains[21])"
   ]
  },
  {
   "cell_type": "code",
   "execution_count": 53,
   "id": "a22c4a10-301d-47cf-9f93-fd383f7c9cd5",
   "metadata": {
    "execution": {
     "iopub.execute_input": "2024-05-30T21:50:22.016738Z",
     "iopub.status.busy": "2024-05-30T21:50:22.016738Z",
     "iopub.status.idle": "2024-05-30T21:50:22.054781Z",
     "shell.execute_reply": "2024-05-30T21:50:22.054781Z",
     "shell.execute_reply.started": "2024-05-30T21:50:22.016738Z"
    }
   },
   "outputs": [
    {
     "ename": "SyntaxError",
     "evalue": "closing parenthesis ']' does not match opening parenthesis '(' (multirecording_spikeanalysis_edit2.py, line 1805)",
     "output_type": "error",
     "traceback": [
      "Traceback \u001b[1;36m(most recent call last)\u001b[0m:\n",
      "\u001b[0m  File \u001b[0;32m~\\anaconda3\\Lib\\site-packages\\IPython\\core\\interactiveshell.py:3553\u001b[0m in \u001b[0;35mrun_code\u001b[0m\n    exec(code_obj, self.user_global_ns, self.user_ns)\u001b[0m\n",
      "\u001b[1;36m  Cell \u001b[1;32mIn[53], line 8\u001b[1;36m\n\u001b[1;33m    import multirecording_spikeanalysis_edit2 as spike\u001b[1;36m\n",
      "\u001b[1;36m  File \u001b[1;32m~\\Documents\\GitHub\\npc_playground\\multirecording_spikeanalysis_edit2.py:1805\u001b[1;36m\u001b[0m\n\u001b[1;33m    columns = [\"Recording\", \"Event name\", \"Event number\", \"Unit number\"] + [f\"bin_{i+1}\" for i in range(len(spiketrain_slice)])\u001b[0m\n\u001b[1;37m                                                                                                                             ^\u001b[0m\n\u001b[1;31mSyntaxError\u001b[0m\u001b[1;31m:\u001b[0m closing parenthesis ']' does not match opening parenthesis '('\n"
     ]
    }
   ],
   "source": [
    "import pandas as pd\n",
    "import numpy as np\n",
    "import ast\n",
    "import pickle\n",
    "from pathlib import Path\n",
    "import matplotlib.pyplot as plt\n",
    "import seaborn as sns\n",
    "import multirecording_spikeanalysis_edit2 as spike\n",
    "\n",
    "# It takes several steps to create the timestamp_dicts, refer to Ephys_Analysis_Notebook to create\n",
    "timestamp_dicts = pickle.load(open('timestamp_dicts.pkl', 'rb'))\n",
    "\n",
    "# Construct the path in a platform-independent way (HiPerGator or Windows)\n",
    "ephys_path = Path('.') / 'export' / 'updated_phys' / 'test'\n",
    "\n",
    "ephys_data = spike.EphysRecordingCollection(str(ephys_path))"
   ]
  },
  {
   "cell_type": "code",
   "execution_count": 54,
   "id": "b8efa42d-8d7a-44d7-8343-9f26b2e35b3f",
   "metadata": {
    "execution": {
     "iopub.execute_input": "2024-05-30T21:50:23.666314Z",
     "iopub.status.busy": "2024-05-30T21:50:23.666314Z",
     "iopub.status.idle": "2024-05-30T21:50:24.186333Z",
     "shell.execute_reply": "2024-05-30T21:50:24.186333Z",
     "shell.execute_reply.started": "2024-05-30T21:50:23.666314Z"
    }
   },
   "outputs": [
    {
     "name": "stdout",
     "output_type": "stream",
     "text": [
      "All set to analyze\n"
     ]
    }
   ],
   "source": [
    "for recording in ephys_data.collection.keys():\n",
    "    # Check if the recording key (without everything after subject #) is in timestamp_dicts\n",
    "    start_pos = recording.find('subj_')\n",
    "    # Add the length of 'subj_' and 3 additional characters to include after 'subj_'\n",
    "    end_pos = start_pos + len('subj_') + 3\n",
    "    # Slice the recording key to get everything up to and including the subject identifier plus three characters\n",
    "    recording_key_without_suffix = recording[:end_pos]\n",
    "    if recording_key_without_suffix in timestamp_dicts:\n",
    "        # Assign the corresponding timestamp_dicts dictionary to event_dict\n",
    "        ephys_data.collection[recording].event_dict = timestamp_dicts[recording_key_without_suffix]\n",
    "        \n",
    "        # Extract the subject from the recording key\n",
    "        start = recording.find('subj_') + 5  # Start index after 'subj_'\n",
    "        subject = recording[start:start+3]\n",
    "        \n",
    "        # Assign the extracted subject\n",
    "        ephys_data.collection[recording].subject = subject\n",
    "        \n",
    "spike_analysis = spike.SpikeAnalysis_MultiRecording(ephys_data, timebin = 100, ignore_freq = 0.5)"
   ]
  },
  {
   "cell_type": "code",
   "execution_count": null,
   "id": "7d288105-0836-4b70-938f-1ffc9d49d63e",
   "metadata": {},
   "outputs": [],
   "source": []
  }
 ],
 "metadata": {
  "kernelspec": {
   "display_name": "Python 3 (ipykernel)",
   "language": "python",
   "name": "python3"
  },
  "language_info": {
   "codemirror_mode": {
    "name": "ipython",
    "version": 3
   },
   "file_extension": ".py",
   "mimetype": "text/x-python",
   "name": "python",
   "nbconvert_exporter": "python",
   "pygments_lexer": "ipython3",
   "version": "3.11.7"
  }
 },
 "nbformat": 4,
 "nbformat_minor": 5
}
