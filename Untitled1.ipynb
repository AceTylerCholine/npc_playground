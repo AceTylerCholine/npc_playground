{
 "cells": [
  {
   "cell_type": "code",
   "execution_count": 1,
   "id": "d770996c-f559-41b3-9e41-c32e49d02151",
   "metadata": {
    "execution": {
     "iopub.execute_input": "2024-06-12T16:46:42.039830Z",
     "iopub.status.busy": "2024-06-12T16:46:42.038819Z",
     "iopub.status.idle": "2024-06-12T16:47:09.828780Z",
     "shell.execute_reply": "2024-06-12T16:47:09.826021Z",
     "shell.execute_reply.started": "2024-06-12T16:46:42.039830Z"
    }
   },
   "outputs": [
    {
     "name": "stdout",
     "output_type": "stream",
     "text": [
      "<class 'numpy.ndarray'>\n",
      "20230612_101430_standard_comp_to_training_D1_subj_1-3_t3b3L_box2_merged.rec\n",
      "<class 'numpy.ndarray'>\n",
      "20230617_115521_standard_comp_to_omission_D1_subj_1-1_t1b3L_box1_merged.rec\n",
      "<class 'numpy.ndarray'>\n",
      "Unit 92 is unsorted & has 2494 spikes\n",
      "Unit 92 will be deleted\n",
      "20230622_110832_standard_comp_to_both_rewarded_D1_subj_1-1_t1b3L_box1_merged.rec\n",
      "<class 'numpy.ndarray'>\n",
      "Unit 103 is unsorted & has 512 spikes\n",
      "Unit 103 will be deleted\n",
      "20230622_110832_standard_comp_to_both_rewarded_D1_subj_1-2_t3b3L_box1_merged.rec\n",
      "Please assign event dictionaries to each recording\n",
      "as recording.event_dict\n",
      "event_dict = {event name(str): np.array[[start(ms), stop(ms)]...]\n",
      "Please assign subjects to each recording as recording.subject\n"
     ]
    }
   ],
   "source": [
    "import pandas as pd\n",
    "import numpy as np\n",
    "import matplotlib.pyplot as plt\n",
    "import seaborn as sns\n",
    "import ast\n",
    "import pickle\n",
    "import math\n",
    "import gc\n",
    "from pathlib import Path\n",
    "from statistics import mean, StatisticsError\n",
    "import multirecording_spikeanalysis_edit as spike\n",
    "\n",
    "# It takes several steps to create the timestamp_dicts, refer to Ephys_Analysis_Notebook to create\n",
    "timestamp_dicts = pickle.load(open('timestamp_dicts.pkl', 'rb'))\n",
    "\n",
    "# Construct the path in a platform-independent way (HiPerGator or Windows)\n",
    "ephys_path = Path('.') / 'recordings' / 'updated_phys' / 'test'\n",
    "\n",
    "ephys_data = spike.EphysRecordingCollection(str(ephys_path))"
   ]
  },
  {
   "cell_type": "code",
   "execution_count": 2,
   "id": "47184ce0-26e9-4668-b849-412847c5e53f",
   "metadata": {
    "execution": {
     "iopub.execute_input": "2024-06-12T16:47:09.832782Z",
     "iopub.status.busy": "2024-06-12T16:47:09.831783Z",
     "iopub.status.idle": "2024-06-12T16:47:10.812560Z",
     "shell.execute_reply": "2024-06-12T16:47:10.809194Z",
     "shell.execute_reply.started": "2024-06-12T16:47:09.832782Z"
    }
   },
   "outputs": [
    {
     "name": "stdout",
     "output_type": "stream",
     "text": [
      "All set to analyze\n"
     ]
    }
   ],
   "source": [
    "for recording in ephys_data.collection.keys():\n",
    "    # Check if the recording key (without everything after subject #) is in timestamp_dicts\n",
    "    start_pos = recording.find('subj_')\n",
    "    # Add the length of 'subj_' and 3 additional characters to include after 'subj_'\n",
    "    end_pos = start_pos + len('subj_') + 3\n",
    "    # Slice the recording key to get everything up to and including the subject identifier plus three characters\n",
    "    recording_key_without_suffix = recording[:end_pos]\n",
    "    if recording_key_without_suffix in timestamp_dicts:\n",
    "        # Assign the corresponding timestamp_dicts dictionary to event_dict\n",
    "        ephys_data.collection[recording].event_dict = timestamp_dicts[recording_key_without_suffix]\n",
    "        \n",
    "        # Extract the subject from the recording key\n",
    "        start = recording.find('subj_') + 5  # Start index after 'subj_'\n",
    "        subject = recording[start:start+3]\n",
    "        \n",
    "        # Assign the extracted subject\n",
    "        ephys_data.collection[recording].subject = subject\n",
    "        \n",
    "spike_analysis = spike.SpikeAnalysis_MultiRecording(ephys_data, timebin = 100, ignore_freq = 0.5)"
   ]
  },
  {
   "cell_type": "code",
   "execution_count": 3,
   "id": "66cfbb0b-e767-4745-952a-88be24967154",
   "metadata": {
    "execution": {
     "iopub.execute_input": "2024-06-12T16:47:10.816560Z",
     "iopub.status.busy": "2024-06-12T16:47:10.815562Z",
     "iopub.status.idle": "2024-06-12T16:47:11.211491Z",
     "shell.execute_reply": "2024-06-12T16:47:11.208249Z",
     "shell.execute_reply.started": "2024-06-12T16:47:10.816560Z"
    }
   },
   "outputs": [
    {
     "name": "stdout",
     "output_type": "stream",
     "text": [
      "Rounded array for rewarded in 20230612_101430_standard_comp_to_training_D1_subj_1-3_t3b3L_box2_merged.rec: [[18492 18592]\n",
      " [19092 19192]\n",
      " [19642 19742]\n",
      " [20292 20392]\n",
      " [20842 20942]\n",
      " [21342 21442]\n",
      " [21842 21942]\n",
      " [22892 22992]\n",
      " [24092 24192]\n",
      " [25292 25392]\n",
      " [26392 26492]\n",
      " [27242 27342]\n",
      " [28442 28542]\n",
      " [29042 29142]\n",
      " [29692 29792]\n",
      " [30292 30392]\n",
      " [31042 31142]\n",
      " [32042 32142]\n",
      " [32992 33092]\n",
      " [33492 33592]]\n",
      "Rounded array for win in 20230612_101430_standard_comp_to_training_D1_subj_1-3_t3b3L_box2_merged.rec: [[ 1692  1792]\n",
      " [ 4792  4892]\n",
      " [ 6492  6592]\n",
      " [ 7542  7642]\n",
      " [ 8042  8142]\n",
      " [ 8842  8942]\n",
      " [ 9492  9592]\n",
      " [10142 10242]\n",
      " [11342 11442]\n",
      " [13092 13192]\n",
      " [13792 13892]\n",
      " [14892 14992]\n",
      " [15492 15592]]\n",
      "Rounded array for lose in 20230612_101430_standard_comp_to_training_D1_subj_1-3_t3b3L_box2_merged.rec: [[  492   592]\n",
      " [ 2842  2942]\n",
      " [ 3742  3842]\n",
      " [ 4292  4392]\n",
      " [ 5742  5842]\n",
      " [10642 10742]\n",
      " [12292 12392]]\n",
      "Rounded array for omission in 20230612_101430_standard_comp_to_training_D1_subj_1-3_t3b3L_box2_merged.rec: []\n",
      "Rounded array for both_rewarded in 20230612_101430_standard_comp_to_training_D1_subj_1-3_t3b3L_box2_merged.rec: []\n",
      "Rounded array for tie in 20230612_101430_standard_comp_to_training_D1_subj_1-3_t3b3L_box2_merged.rec: []\n",
      "Rounded array for rewarded in 20230617_115521_standard_comp_to_omission_D1_subj_1-1_t1b3L_box1_merged.rec: []\n",
      "Rounded array for win in 20230617_115521_standard_comp_to_omission_D1_subj_1-1_t1b3L_box1_merged.rec: [[ 1716  1816]\n",
      " [ 2866  2966]\n",
      " [ 4316  4416]\n",
      " [ 4816  4916]\n",
      " [ 5766  5866]\n",
      " [ 6516  6616]\n",
      " [ 7566  7666]\n",
      " [ 8066  8166]\n",
      " [ 8866  8966]\n",
      " [ 9516  9616]\n",
      " [10166 10266]\n",
      " [10666 10766]\n",
      " [11366 11466]\n",
      " [12316 12416]\n",
      " [16291 16391]\n",
      " [17091 17191]\n",
      " [17791 17891]\n",
      " [18891 18991]\n",
      " [19491 19591]]\n",
      "Rounded array for lose in 20230617_115521_standard_comp_to_omission_D1_subj_1-1_t1b3L_box1_merged.rec: [[ 516  616]\n",
      " [3766 3866]]\n",
      "Rounded array for omission in 20230617_115521_standard_comp_to_omission_D1_subj_1-1_t1b3L_box1_merged.rec: []\n",
      "Rounded array for both_rewarded in 20230617_115521_standard_comp_to_omission_D1_subj_1-1_t1b3L_box1_merged.rec: []\n",
      "Rounded array for tie in 20230617_115521_standard_comp_to_omission_D1_subj_1-1_t1b3L_box1_merged.rec: []\n",
      "Rounded array for rewarded in 20230622_110832_standard_comp_to_both_rewarded_D1_subj_1-1_t1b3L_box1_merged.rec: []\n",
      "Rounded array for win in 20230622_110832_standard_comp_to_both_rewarded_D1_subj_1-1_t1b3L_box1_merged.rec: []\n",
      "Rounded array for lose in 20230622_110832_standard_comp_to_both_rewarded_D1_subj_1-1_t1b3L_box1_merged.rec: [[  566   666]\n",
      " [ 1766  1866]\n",
      " [ 2916  3016]\n",
      " [ 3816  3916]\n",
      " [ 4366  4466]\n",
      " [ 4866  4966]\n",
      " [ 5816  5916]\n",
      " [ 6566  6666]\n",
      " [ 7616  7716]\n",
      " [ 8116  8216]\n",
      " [ 8916  9016]\n",
      " [ 9566  9666]\n",
      " [10216 10316]\n",
      " [10716 10816]\n",
      " [11416 11516]\n",
      " [12366 12466]\n",
      " [13166 13266]\n",
      " [13866 13966]\n",
      " [14966 15066]\n",
      " [15566 15666]]\n",
      "Rounded array for omission in 20230622_110832_standard_comp_to_both_rewarded_D1_subj_1-1_t1b3L_box1_merged.rec: []\n",
      "Rounded array for both_rewarded in 20230622_110832_standard_comp_to_both_rewarded_D1_subj_1-1_t1b3L_box1_merged.rec: [[20366 20466]\n",
      " [20966 21066]\n",
      " [21516 21616]\n",
      " [22166 22266]\n",
      " [22716 22816]\n",
      " [23216 23316]\n",
      " [23716 23816]\n",
      " [24766 24866]\n",
      " [25966 26066]\n",
      " [27166 27266]\n",
      " [28266 28366]\n",
      " [29116 29216]\n",
      " [30316 30416]\n",
      " [30916 31016]\n",
      " [31566 31666]\n",
      " [32166 32266]\n",
      " [32916 33017]\n",
      " [33917 34017]\n",
      " [34867 34967]\n",
      " [35367 35467]]\n",
      "Empty spiketrain slice for recording 20230622_110832_standard_comp_to_both_rewarded_D1_subj_1-1_t1b3L_box1_merged.rec unit 9, event both_rewarded, slice 17\n",
      "Empty spiketrain slice for recording 20230622_110832_standard_comp_to_both_rewarded_D1_subj_1-1_t1b3L_box1_merged.rec unit 9, event both_rewarded, slice 18\n",
      "Empty spiketrain slice for recording 20230622_110832_standard_comp_to_both_rewarded_D1_subj_1-1_t1b3L_box1_merged.rec unit 9, event both_rewarded, slice 19\n",
      "Empty spiketrain slice for recording 20230622_110832_standard_comp_to_both_rewarded_D1_subj_1-1_t1b3L_box1_merged.rec unit 24, event both_rewarded, slice 17\n",
      "Empty spiketrain slice for recording 20230622_110832_standard_comp_to_both_rewarded_D1_subj_1-1_t1b3L_box1_merged.rec unit 24, event both_rewarded, slice 18\n",
      "Empty spiketrain slice for recording 20230622_110832_standard_comp_to_both_rewarded_D1_subj_1-1_t1b3L_box1_merged.rec unit 24, event both_rewarded, slice 19\n",
      "Empty spiketrain slice for recording 20230622_110832_standard_comp_to_both_rewarded_D1_subj_1-1_t1b3L_box1_merged.rec unit 76, event both_rewarded, slice 17\n",
      "Empty spiketrain slice for recording 20230622_110832_standard_comp_to_both_rewarded_D1_subj_1-1_t1b3L_box1_merged.rec unit 76, event both_rewarded, slice 18\n",
      "Empty spiketrain slice for recording 20230622_110832_standard_comp_to_both_rewarded_D1_subj_1-1_t1b3L_box1_merged.rec unit 76, event both_rewarded, slice 19\n",
      "Empty spiketrain slice for recording 20230622_110832_standard_comp_to_both_rewarded_D1_subj_1-1_t1b3L_box1_merged.rec unit 10, event both_rewarded, slice 17\n",
      "Empty spiketrain slice for recording 20230622_110832_standard_comp_to_both_rewarded_D1_subj_1-1_t1b3L_box1_merged.rec unit 10, event both_rewarded, slice 18\n",
      "Empty spiketrain slice for recording 20230622_110832_standard_comp_to_both_rewarded_D1_subj_1-1_t1b3L_box1_merged.rec unit 10, event both_rewarded, slice 19\n",
      "Empty spiketrain slice for recording 20230622_110832_standard_comp_to_both_rewarded_D1_subj_1-1_t1b3L_box1_merged.rec unit 94, event both_rewarded, slice 17\n",
      "Empty spiketrain slice for recording 20230622_110832_standard_comp_to_both_rewarded_D1_subj_1-1_t1b3L_box1_merged.rec unit 94, event both_rewarded, slice 18\n",
      "Empty spiketrain slice for recording 20230622_110832_standard_comp_to_both_rewarded_D1_subj_1-1_t1b3L_box1_merged.rec unit 94, event both_rewarded, slice 19\n",
      "Empty spiketrain slice for recording 20230622_110832_standard_comp_to_both_rewarded_D1_subj_1-1_t1b3L_box1_merged.rec unit 87, event both_rewarded, slice 17\n",
      "Empty spiketrain slice for recording 20230622_110832_standard_comp_to_both_rewarded_D1_subj_1-1_t1b3L_box1_merged.rec unit 87, event both_rewarded, slice 18\n",
      "Empty spiketrain slice for recording 20230622_110832_standard_comp_to_both_rewarded_D1_subj_1-1_t1b3L_box1_merged.rec unit 87, event both_rewarded, slice 19\n",
      "Empty spiketrain slice for recording 20230622_110832_standard_comp_to_both_rewarded_D1_subj_1-1_t1b3L_box1_merged.rec unit 1, event both_rewarded, slice 17\n",
      "Empty spiketrain slice for recording 20230622_110832_standard_comp_to_both_rewarded_D1_subj_1-1_t1b3L_box1_merged.rec unit 1, event both_rewarded, slice 18\n",
      "Empty spiketrain slice for recording 20230622_110832_standard_comp_to_both_rewarded_D1_subj_1-1_t1b3L_box1_merged.rec unit 1, event both_rewarded, slice 19\n",
      "Empty spiketrain slice for recording 20230622_110832_standard_comp_to_both_rewarded_D1_subj_1-1_t1b3L_box1_merged.rec unit 15, event both_rewarded, slice 17\n",
      "Empty spiketrain slice for recording 20230622_110832_standard_comp_to_both_rewarded_D1_subj_1-1_t1b3L_box1_merged.rec unit 15, event both_rewarded, slice 18\n",
      "Empty spiketrain slice for recording 20230622_110832_standard_comp_to_both_rewarded_D1_subj_1-1_t1b3L_box1_merged.rec unit 15, event both_rewarded, slice 19\n",
      "Empty spiketrain slice for recording 20230622_110832_standard_comp_to_both_rewarded_D1_subj_1-1_t1b3L_box1_merged.rec unit 97, event both_rewarded, slice 17\n",
      "Empty spiketrain slice for recording 20230622_110832_standard_comp_to_both_rewarded_D1_subj_1-1_t1b3L_box1_merged.rec unit 97, event both_rewarded, slice 18\n",
      "Empty spiketrain slice for recording 20230622_110832_standard_comp_to_both_rewarded_D1_subj_1-1_t1b3L_box1_merged.rec unit 97, event both_rewarded, slice 19\n",
      "Empty spiketrain slice for recording 20230622_110832_standard_comp_to_both_rewarded_D1_subj_1-1_t1b3L_box1_merged.rec unit 39, event both_rewarded, slice 17\n",
      "Empty spiketrain slice for recording 20230622_110832_standard_comp_to_both_rewarded_D1_subj_1-1_t1b3L_box1_merged.rec unit 39, event both_rewarded, slice 18\n",
      "Empty spiketrain slice for recording 20230622_110832_standard_comp_to_both_rewarded_D1_subj_1-1_t1b3L_box1_merged.rec unit 39, event both_rewarded, slice 19\n",
      "Empty spiketrain slice for recording 20230622_110832_standard_comp_to_both_rewarded_D1_subj_1-1_t1b3L_box1_merged.rec unit 2, event both_rewarded, slice 17\n",
      "Empty spiketrain slice for recording 20230622_110832_standard_comp_to_both_rewarded_D1_subj_1-1_t1b3L_box1_merged.rec unit 2, event both_rewarded, slice 18\n",
      "Empty spiketrain slice for recording 20230622_110832_standard_comp_to_both_rewarded_D1_subj_1-1_t1b3L_box1_merged.rec unit 2, event both_rewarded, slice 19\n",
      "Empty spiketrain slice for recording 20230622_110832_standard_comp_to_both_rewarded_D1_subj_1-1_t1b3L_box1_merged.rec unit 11, event both_rewarded, slice 17\n",
      "Empty spiketrain slice for recording 20230622_110832_standard_comp_to_both_rewarded_D1_subj_1-1_t1b3L_box1_merged.rec unit 11, event both_rewarded, slice 18\n",
      "Empty spiketrain slice for recording 20230622_110832_standard_comp_to_both_rewarded_D1_subj_1-1_t1b3L_box1_merged.rec unit 11, event both_rewarded, slice 19\n",
      "Empty spiketrain slice for recording 20230622_110832_standard_comp_to_both_rewarded_D1_subj_1-1_t1b3L_box1_merged.rec unit 77, event both_rewarded, slice 17\n",
      "Empty spiketrain slice for recording 20230622_110832_standard_comp_to_both_rewarded_D1_subj_1-1_t1b3L_box1_merged.rec unit 77, event both_rewarded, slice 18\n",
      "Empty spiketrain slice for recording 20230622_110832_standard_comp_to_both_rewarded_D1_subj_1-1_t1b3L_box1_merged.rec unit 77, event both_rewarded, slice 19\n",
      "Rounded array for tie in 20230622_110832_standard_comp_to_both_rewarded_D1_subj_1-1_t1b3L_box1_merged.rec: []\n",
      "Rounded array for rewarded in 20230622_110832_standard_comp_to_both_rewarded_D1_subj_1-2_t3b3L_box1_merged.rec: []\n",
      "Rounded array for win in 20230622_110832_standard_comp_to_both_rewarded_D1_subj_1-2_t3b3L_box1_merged.rec: [[  566   666]\n",
      " [ 1766  1866]\n",
      " [ 2916  3016]\n",
      " [ 3816  3916]\n",
      " [ 4366  4466]\n",
      " [ 4866  4966]\n",
      " [ 5816  5916]\n",
      " [ 6566  6666]\n",
      " [ 7616  7716]\n",
      " [ 8116  8216]\n",
      " [ 8916  9016]\n",
      " [ 9566  9666]\n",
      " [10216 10316]\n",
      " [10716 10816]\n",
      " [11416 11516]\n",
      " [12366 12466]\n",
      " [13166 13266]\n",
      " [13866 13966]\n",
      " [14966 15066]\n",
      " [15566 15666]]\n",
      "Rounded array for lose in 20230622_110832_standard_comp_to_both_rewarded_D1_subj_1-2_t3b3L_box1_merged.rec: []\n",
      "Rounded array for omission in 20230622_110832_standard_comp_to_both_rewarded_D1_subj_1-2_t3b3L_box1_merged.rec: []\n",
      "Rounded array for both_rewarded in 20230622_110832_standard_comp_to_both_rewarded_D1_subj_1-2_t3b3L_box1_merged.rec: [[20366 20466]\n",
      " [20966 21066]\n",
      " [21516 21616]\n",
      " [22166 22266]\n",
      " [22716 22816]\n",
      " [23216 23316]\n",
      " [23716 23816]\n",
      " [24766 24866]\n",
      " [25966 26066]\n",
      " [27166 27266]\n",
      " [28266 28366]\n",
      " [29116 29216]\n",
      " [30316 30416]\n",
      " [30916 31016]\n",
      " [31566 31666]\n",
      " [32166 32266]\n",
      " [32916 33017]\n",
      " [33917 34017]\n",
      " [34867 34967]\n",
      " [35367 35467]]\n",
      "Rounded array for tie in 20230622_110832_standard_comp_to_both_rewarded_D1_subj_1-2_t3b3L_box1_merged.rec: []\n"
     ]
    }
   ],
   "source": [
    "event_df = spike_analysis.create_spiketrain_df()"
   ]
  },
  {
   "cell_type": "code",
   "execution_count": 4,
   "id": "a7e29b52-298d-46f8-8f62-4a44ff0b88b7",
   "metadata": {
    "execution": {
     "iopub.execute_input": "2024-06-12T16:47:11.216502Z",
     "iopub.status.busy": "2024-06-12T16:47:11.215501Z",
     "iopub.status.idle": "2024-06-12T16:47:11.479151Z",
     "shell.execute_reply": "2024-06-12T16:47:11.475931Z",
     "shell.execute_reply.started": "2024-06-12T16:47:11.216502Z"
    }
   },
   "outputs": [
    {
     "data": {
      "text/html": [
       "<div>\n",
       "<style scoped>\n",
       "    .dataframe tbody tr th:only-of-type {\n",
       "        vertical-align: middle;\n",
       "    }\n",
       "\n",
       "    .dataframe tbody tr th {\n",
       "        vertical-align: top;\n",
       "    }\n",
       "\n",
       "    .dataframe thead th {\n",
       "        text-align: right;\n",
       "    }\n",
       "</style>\n",
       "<table border=\"1\" class=\"dataframe\">\n",
       "  <thead>\n",
       "    <tr style=\"text-align: right;\">\n",
       "      <th></th>\n",
       "      <th>Recording</th>\n",
       "      <th>Event name</th>\n",
       "      <th>Event number</th>\n",
       "      <th>Unit number</th>\n",
       "      <th>bin_1</th>\n",
       "      <th>bin_2</th>\n",
       "      <th>bin_3</th>\n",
       "      <th>bin_4</th>\n",
       "      <th>bin_5</th>\n",
       "      <th>bin_6</th>\n",
       "      <th>...</th>\n",
       "      <th>bin_92</th>\n",
       "      <th>bin_93</th>\n",
       "      <th>bin_94</th>\n",
       "      <th>bin_95</th>\n",
       "      <th>bin_96</th>\n",
       "      <th>bin_97</th>\n",
       "      <th>bin_98</th>\n",
       "      <th>bin_99</th>\n",
       "      <th>bin_100</th>\n",
       "      <th>bin_101</th>\n",
       "    </tr>\n",
       "  </thead>\n",
       "  <tbody>\n",
       "    <tr>\n",
       "      <th>0</th>\n",
       "      <td>20230612_101430_standard_comp_to_training_D1_s...</td>\n",
       "      <td>rewarded</td>\n",
       "      <td>1</td>\n",
       "      <td>85</td>\n",
       "      <td>0.0</td>\n",
       "      <td>0.0</td>\n",
       "      <td>0.0</td>\n",
       "      <td>0.0</td>\n",
       "      <td>0.0</td>\n",
       "      <td>0.0</td>\n",
       "      <td>...</td>\n",
       "      <td>0.0</td>\n",
       "      <td>0.0</td>\n",
       "      <td>0.0</td>\n",
       "      <td>0.0</td>\n",
       "      <td>0.0</td>\n",
       "      <td>0.0</td>\n",
       "      <td>0.0</td>\n",
       "      <td>0.0</td>\n",
       "      <td>0.0</td>\n",
       "      <td>NaN</td>\n",
       "    </tr>\n",
       "    <tr>\n",
       "      <th>1</th>\n",
       "      <td>20230612_101430_standard_comp_to_training_D1_s...</td>\n",
       "      <td>rewarded</td>\n",
       "      <td>2</td>\n",
       "      <td>85</td>\n",
       "      <td>0.0</td>\n",
       "      <td>0.0</td>\n",
       "      <td>0.0</td>\n",
       "      <td>0.0</td>\n",
       "      <td>0.0</td>\n",
       "      <td>0.0</td>\n",
       "      <td>...</td>\n",
       "      <td>0.0</td>\n",
       "      <td>0.0</td>\n",
       "      <td>0.0</td>\n",
       "      <td>0.0</td>\n",
       "      <td>0.0</td>\n",
       "      <td>0.0</td>\n",
       "      <td>0.0</td>\n",
       "      <td>0.0</td>\n",
       "      <td>0.0</td>\n",
       "      <td>NaN</td>\n",
       "    </tr>\n",
       "    <tr>\n",
       "      <th>2</th>\n",
       "      <td>20230612_101430_standard_comp_to_training_D1_s...</td>\n",
       "      <td>rewarded</td>\n",
       "      <td>3</td>\n",
       "      <td>85</td>\n",
       "      <td>0.0</td>\n",
       "      <td>0.0</td>\n",
       "      <td>0.0</td>\n",
       "      <td>0.0</td>\n",
       "      <td>0.0</td>\n",
       "      <td>0.0</td>\n",
       "      <td>...</td>\n",
       "      <td>0.0</td>\n",
       "      <td>0.0</td>\n",
       "      <td>0.0</td>\n",
       "      <td>0.0</td>\n",
       "      <td>0.0</td>\n",
       "      <td>0.0</td>\n",
       "      <td>0.0</td>\n",
       "      <td>0.0</td>\n",
       "      <td>0.0</td>\n",
       "      <td>NaN</td>\n",
       "    </tr>\n",
       "    <tr>\n",
       "      <th>3</th>\n",
       "      <td>20230612_101430_standard_comp_to_training_D1_s...</td>\n",
       "      <td>rewarded</td>\n",
       "      <td>4</td>\n",
       "      <td>85</td>\n",
       "      <td>0.0</td>\n",
       "      <td>0.0</td>\n",
       "      <td>0.0</td>\n",
       "      <td>0.0</td>\n",
       "      <td>0.0</td>\n",
       "      <td>0.0</td>\n",
       "      <td>...</td>\n",
       "      <td>1.0</td>\n",
       "      <td>0.0</td>\n",
       "      <td>0.0</td>\n",
       "      <td>0.0</td>\n",
       "      <td>0.0</td>\n",
       "      <td>0.0</td>\n",
       "      <td>0.0</td>\n",
       "      <td>0.0</td>\n",
       "      <td>0.0</td>\n",
       "      <td>NaN</td>\n",
       "    </tr>\n",
       "    <tr>\n",
       "      <th>4</th>\n",
       "      <td>20230612_101430_standard_comp_to_training_D1_s...</td>\n",
       "      <td>rewarded</td>\n",
       "      <td>5</td>\n",
       "      <td>85</td>\n",
       "      <td>0.0</td>\n",
       "      <td>0.0</td>\n",
       "      <td>0.0</td>\n",
       "      <td>0.0</td>\n",
       "      <td>0.0</td>\n",
       "      <td>0.0</td>\n",
       "      <td>...</td>\n",
       "      <td>0.0</td>\n",
       "      <td>0.0</td>\n",
       "      <td>0.0</td>\n",
       "      <td>0.0</td>\n",
       "      <td>0.0</td>\n",
       "      <td>0.0</td>\n",
       "      <td>0.0</td>\n",
       "      <td>0.0</td>\n",
       "      <td>0.0</td>\n",
       "      <td>NaN</td>\n",
       "    </tr>\n",
       "    <tr>\n",
       "      <th>...</th>\n",
       "      <td>...</td>\n",
       "      <td>...</td>\n",
       "      <td>...</td>\n",
       "      <td>...</td>\n",
       "      <td>...</td>\n",
       "      <td>...</td>\n",
       "      <td>...</td>\n",
       "      <td>...</td>\n",
       "      <td>...</td>\n",
       "      <td>...</td>\n",
       "      <td>...</td>\n",
       "      <td>...</td>\n",
       "      <td>...</td>\n",
       "      <td>...</td>\n",
       "      <td>...</td>\n",
       "      <td>...</td>\n",
       "      <td>...</td>\n",
       "      <td>...</td>\n",
       "      <td>...</td>\n",
       "      <td>...</td>\n",
       "      <td>...</td>\n",
       "    </tr>\n",
       "    <tr>\n",
       "      <th>2712</th>\n",
       "      <td>20230622_110832_standard_comp_to_both_rewarded...</td>\n",
       "      <td>both_rewarded</td>\n",
       "      <td>16</td>\n",
       "      <td>15</td>\n",
       "      <td>0.0</td>\n",
       "      <td>0.0</td>\n",
       "      <td>0.0</td>\n",
       "      <td>0.0</td>\n",
       "      <td>0.0</td>\n",
       "      <td>0.0</td>\n",
       "      <td>...</td>\n",
       "      <td>0.0</td>\n",
       "      <td>0.0</td>\n",
       "      <td>0.0</td>\n",
       "      <td>0.0</td>\n",
       "      <td>0.0</td>\n",
       "      <td>0.0</td>\n",
       "      <td>0.0</td>\n",
       "      <td>0.0</td>\n",
       "      <td>0.0</td>\n",
       "      <td>NaN</td>\n",
       "    </tr>\n",
       "    <tr>\n",
       "      <th>2713</th>\n",
       "      <td>20230622_110832_standard_comp_to_both_rewarded...</td>\n",
       "      <td>both_rewarded</td>\n",
       "      <td>17</td>\n",
       "      <td>15</td>\n",
       "      <td>0.0</td>\n",
       "      <td>0.0</td>\n",
       "      <td>0.0</td>\n",
       "      <td>0.0</td>\n",
       "      <td>0.0</td>\n",
       "      <td>0.0</td>\n",
       "      <td>...</td>\n",
       "      <td>0.0</td>\n",
       "      <td>0.0</td>\n",
       "      <td>0.0</td>\n",
       "      <td>0.0</td>\n",
       "      <td>0.0</td>\n",
       "      <td>0.0</td>\n",
       "      <td>0.0</td>\n",
       "      <td>0.0</td>\n",
       "      <td>0.0</td>\n",
       "      <td>0.0</td>\n",
       "    </tr>\n",
       "    <tr>\n",
       "      <th>2714</th>\n",
       "      <td>20230622_110832_standard_comp_to_both_rewarded...</td>\n",
       "      <td>both_rewarded</td>\n",
       "      <td>18</td>\n",
       "      <td>15</td>\n",
       "      <td>1.0</td>\n",
       "      <td>0.0</td>\n",
       "      <td>0.0</td>\n",
       "      <td>0.0</td>\n",
       "      <td>0.0</td>\n",
       "      <td>0.0</td>\n",
       "      <td>...</td>\n",
       "      <td>0.0</td>\n",
       "      <td>0.0</td>\n",
       "      <td>0.0</td>\n",
       "      <td>0.0</td>\n",
       "      <td>0.0</td>\n",
       "      <td>0.0</td>\n",
       "      <td>0.0</td>\n",
       "      <td>0.0</td>\n",
       "      <td>0.0</td>\n",
       "      <td>NaN</td>\n",
       "    </tr>\n",
       "    <tr>\n",
       "      <th>2715</th>\n",
       "      <td>20230622_110832_standard_comp_to_both_rewarded...</td>\n",
       "      <td>both_rewarded</td>\n",
       "      <td>19</td>\n",
       "      <td>15</td>\n",
       "      <td>0.0</td>\n",
       "      <td>0.0</td>\n",
       "      <td>0.0</td>\n",
       "      <td>0.0</td>\n",
       "      <td>0.0</td>\n",
       "      <td>0.0</td>\n",
       "      <td>...</td>\n",
       "      <td>0.0</td>\n",
       "      <td>0.0</td>\n",
       "      <td>0.0</td>\n",
       "      <td>0.0</td>\n",
       "      <td>0.0</td>\n",
       "      <td>0.0</td>\n",
       "      <td>0.0</td>\n",
       "      <td>0.0</td>\n",
       "      <td>0.0</td>\n",
       "      <td>NaN</td>\n",
       "    </tr>\n",
       "    <tr>\n",
       "      <th>2716</th>\n",
       "      <td>20230622_110832_standard_comp_to_both_rewarded...</td>\n",
       "      <td>both_rewarded</td>\n",
       "      <td>20</td>\n",
       "      <td>15</td>\n",
       "      <td>0.0</td>\n",
       "      <td>0.0</td>\n",
       "      <td>0.0</td>\n",
       "      <td>0.0</td>\n",
       "      <td>0.0</td>\n",
       "      <td>1.0</td>\n",
       "      <td>...</td>\n",
       "      <td>0.0</td>\n",
       "      <td>0.0</td>\n",
       "      <td>0.0</td>\n",
       "      <td>0.0</td>\n",
       "      <td>0.0</td>\n",
       "      <td>0.0</td>\n",
       "      <td>0.0</td>\n",
       "      <td>0.0</td>\n",
       "      <td>0.0</td>\n",
       "      <td>NaN</td>\n",
       "    </tr>\n",
       "  </tbody>\n",
       "</table>\n",
       "<p>2717 rows × 105 columns</p>\n",
       "</div>"
      ],
      "text/plain": [
       "                                              Recording     Event name  \\\n",
       "0     20230612_101430_standard_comp_to_training_D1_s...       rewarded   \n",
       "1     20230612_101430_standard_comp_to_training_D1_s...       rewarded   \n",
       "2     20230612_101430_standard_comp_to_training_D1_s...       rewarded   \n",
       "3     20230612_101430_standard_comp_to_training_D1_s...       rewarded   \n",
       "4     20230612_101430_standard_comp_to_training_D1_s...       rewarded   \n",
       "...                                                 ...            ...   \n",
       "2712  20230622_110832_standard_comp_to_both_rewarded...  both_rewarded   \n",
       "2713  20230622_110832_standard_comp_to_both_rewarded...  both_rewarded   \n",
       "2714  20230622_110832_standard_comp_to_both_rewarded...  both_rewarded   \n",
       "2715  20230622_110832_standard_comp_to_both_rewarded...  both_rewarded   \n",
       "2716  20230622_110832_standard_comp_to_both_rewarded...  both_rewarded   \n",
       "\n",
       "      Event number  Unit number  bin_1  bin_2  bin_3  bin_4  bin_5  bin_6  \\\n",
       "0                1           85    0.0    0.0    0.0    0.0    0.0    0.0   \n",
       "1                2           85    0.0    0.0    0.0    0.0    0.0    0.0   \n",
       "2                3           85    0.0    0.0    0.0    0.0    0.0    0.0   \n",
       "3                4           85    0.0    0.0    0.0    0.0    0.0    0.0   \n",
       "4                5           85    0.0    0.0    0.0    0.0    0.0    0.0   \n",
       "...            ...          ...    ...    ...    ...    ...    ...    ...   \n",
       "2712            16           15    0.0    0.0    0.0    0.0    0.0    0.0   \n",
       "2713            17           15    0.0    0.0    0.0    0.0    0.0    0.0   \n",
       "2714            18           15    1.0    0.0    0.0    0.0    0.0    0.0   \n",
       "2715            19           15    0.0    0.0    0.0    0.0    0.0    0.0   \n",
       "2716            20           15    0.0    0.0    0.0    0.0    0.0    1.0   \n",
       "\n",
       "      ...  bin_92  bin_93  bin_94  bin_95  bin_96  bin_97  bin_98  bin_99  \\\n",
       "0     ...     0.0     0.0     0.0     0.0     0.0     0.0     0.0     0.0   \n",
       "1     ...     0.0     0.0     0.0     0.0     0.0     0.0     0.0     0.0   \n",
       "2     ...     0.0     0.0     0.0     0.0     0.0     0.0     0.0     0.0   \n",
       "3     ...     1.0     0.0     0.0     0.0     0.0     0.0     0.0     0.0   \n",
       "4     ...     0.0     0.0     0.0     0.0     0.0     0.0     0.0     0.0   \n",
       "...   ...     ...     ...     ...     ...     ...     ...     ...     ...   \n",
       "2712  ...     0.0     0.0     0.0     0.0     0.0     0.0     0.0     0.0   \n",
       "2713  ...     0.0     0.0     0.0     0.0     0.0     0.0     0.0     0.0   \n",
       "2714  ...     0.0     0.0     0.0     0.0     0.0     0.0     0.0     0.0   \n",
       "2715  ...     0.0     0.0     0.0     0.0     0.0     0.0     0.0     0.0   \n",
       "2716  ...     0.0     0.0     0.0     0.0     0.0     0.0     0.0     0.0   \n",
       "\n",
       "      bin_100  bin_101  \n",
       "0         0.0      NaN  \n",
       "1         0.0      NaN  \n",
       "2         0.0      NaN  \n",
       "3         0.0      NaN  \n",
       "4         0.0      NaN  \n",
       "...       ...      ...  \n",
       "2712      0.0      NaN  \n",
       "2713      0.0      0.0  \n",
       "2714      0.0      NaN  \n",
       "2715      0.0      NaN  \n",
       "2716      0.0      NaN  \n",
       "\n",
       "[2717 rows x 105 columns]"
      ]
     },
     "execution_count": 4,
     "metadata": {},
     "output_type": "execute_result"
    }
   ],
   "source": [
    "event_df"
   ]
  },
  {
   "cell_type": "code",
   "execution_count": 5,
   "id": "24a3b80a-9953-46b1-b630-a281c5a0ac78",
   "metadata": {
    "execution": {
     "iopub.execute_input": "2024-06-12T16:47:11.484162Z",
     "iopub.status.busy": "2024-06-12T16:47:11.482167Z",
     "iopub.status.idle": "2024-06-12T16:47:11.514102Z",
     "shell.execute_reply": "2024-06-12T16:47:11.511176Z",
     "shell.execute_reply.started": "2024-06-12T16:47:11.484162Z"
    }
   },
   "outputs": [
    {
     "data": {
      "text/plain": [
       "Event number\n",
       "1     171\n",
       "2     171\n",
       "3     154\n",
       "4     154\n",
       "5     154\n",
       "6     154\n",
       "7     154\n",
       "13    135\n",
       "12    135\n",
       "11    135\n",
       "10    135\n",
       "9     135\n",
       "8     135\n",
       "14    116\n",
       "15    116\n",
       "16    116\n",
       "17    116\n",
       "18    116\n",
       "19    116\n",
       "20     99\n",
       "Name: count, dtype: int64"
      ]
     },
     "execution_count": 5,
     "metadata": {},
     "output_type": "execute_result"
    }
   ],
   "source": [
    "event_df['Event number'].value_counts()"
   ]
  },
  {
   "cell_type": "code",
   "execution_count": 6,
   "id": "869215ae-6641-4b1b-9557-f72a0a252236",
   "metadata": {
    "execution": {
     "iopub.execute_input": "2024-06-12T16:47:11.520106Z",
     "iopub.status.busy": "2024-06-12T16:47:11.518115Z",
     "iopub.status.idle": "2024-06-12T16:47:11.549375Z",
     "shell.execute_reply": "2024-06-12T16:47:11.544851Z",
     "shell.execute_reply.started": "2024-06-12T16:47:11.520106Z"
    }
   },
   "outputs": [
    {
     "data": {
      "text/plain": [
       "{'rewarded': array([], dtype=int64),\n",
       " 'win': array([], dtype=int64),\n",
       " 'lose': array([[  56560,   66560],\n",
       "        [ 176561,  186561],\n",
       "        [ 291562,  301563],\n",
       "        [ 381564,  391564],\n",
       "        [ 436564,  446564],\n",
       "        [ 486565,  496565],\n",
       "        [ 581566,  591566],\n",
       "        [ 656567,  666567],\n",
       "        [ 761568,  771568],\n",
       "        [ 811569,  821569],\n",
       "        [ 891570,  901570],\n",
       "        [ 956571,  966571],\n",
       "        [1021572, 1031572],\n",
       "        [1071572, 1081572],\n",
       "        [1141573, 1151573],\n",
       "        [1236574, 1246574],\n",
       "        [1316575, 1326575],\n",
       "        [1386576, 1396576],\n",
       "        [1496578, 1506578],\n",
       "        [1556578, 1566578]], dtype=int64),\n",
       " 'omission': array([], dtype=int64),\n",
       " 'both_rewarded': array([[2036584, 2046584],\n",
       "        [2096585, 2106585],\n",
       "        [2151586, 2161586],\n",
       "        [2216587, 2226587],\n",
       "        [2271587, 2281587],\n",
       "        [2321588, 2331588],\n",
       "        [2371589, 2381589],\n",
       "        [2476590, 2486590],\n",
       "        [2596591, 2606592],\n",
       "        [2716593, 2726593],\n",
       "        [2826594, 2836595],\n",
       "        [2911595, 2921596],\n",
       "        [3031597, 3041597],\n",
       "        [3091598, 3101598],\n",
       "        [3156599, 3166599],\n",
       "        [3216599, 3226600],\n",
       "        [3291600, 3301601],\n",
       "        [3391602, 3401602],\n",
       "        [3486603, 3496603],\n",
       "        [3536603, 3546604]], dtype=int64),\n",
       " 'tie': array([], dtype=int64)}"
      ]
     },
     "execution_count": 6,
     "metadata": {},
     "output_type": "execute_result"
    }
   ],
   "source": [
    "recordings = spike_analysis.ephyscollection.collection\n",
    "recording_name = '20230622_110832_standard_comp_to_both_rewarded_D1_subj_1-1_t1b3L_box1_merged.rec'\n",
    "recording1 = recordings.get(recording_name)\n",
    "recording1.event_dict"
   ]
  },
  {
   "cell_type": "code",
   "execution_count": 7,
   "id": "7fd9d75b-b956-4fd1-8fad-9292600ccf05",
   "metadata": {
    "execution": {
     "iopub.execute_input": "2024-06-12T16:47:11.556363Z",
     "iopub.status.busy": "2024-06-12T16:47:11.554369Z",
     "iopub.status.idle": "2024-06-12T16:47:11.581274Z",
     "shell.execute_reply": "2024-06-12T16:47:11.577136Z",
     "shell.execute_reply.started": "2024-06-12T16:47:11.556363Z"
    }
   },
   "outputs": [],
   "source": [
    "rec1br = recording1.event_dict['both_rewarded']"
   ]
  },
  {
   "cell_type": "code",
   "execution_count": 8,
   "id": "c3d221e3-d805-4653-a298-c7498088c0bd",
   "metadata": {
    "execution": {
     "iopub.execute_input": "2024-06-12T16:47:11.588281Z",
     "iopub.status.busy": "2024-06-12T16:47:11.586282Z",
     "iopub.status.idle": "2024-06-12T16:47:11.612717Z",
     "shell.execute_reply": "2024-06-12T16:47:11.609572Z",
     "shell.execute_reply.started": "2024-06-12T16:47:11.588281Z"
    }
   },
   "outputs": [],
   "source": [
    "rec1st = recording1.unit_spiketrains"
   ]
  },
  {
   "cell_type": "code",
   "execution_count": 9,
   "id": "19a6214a-b45a-454b-bb37-7ff8036ebb6e",
   "metadata": {
    "execution": {
     "iopub.execute_input": "2024-06-12T16:47:11.618721Z",
     "iopub.status.busy": "2024-06-12T16:47:11.617721Z",
     "iopub.status.idle": "2024-06-12T16:47:11.661650Z",
     "shell.execute_reply": "2024-06-12T16:47:11.658341Z",
     "shell.execute_reply.started": "2024-06-12T16:47:11.618721Z"
    }
   },
   "outputs": [
    {
     "data": {
      "text/plain": [
       "{9: array([1, 1, 0, ..., 0, 0, 0], dtype=int64),\n",
       " 24: array([0, 1, 0, ..., 0, 0, 0], dtype=int64),\n",
       " 76: array([0, 0, 0, ..., 0, 0, 0], dtype=int64),\n",
       " 10: array([0, 0, 0, ..., 0, 0, 0], dtype=int64),\n",
       " 94: array([0, 0, 0, ..., 0, 0, 0], dtype=int64),\n",
       " 87: array([0, 0, 0, ..., 0, 0, 0], dtype=int64),\n",
       " 1: array([0, 0, 0, ..., 0, 0, 0], dtype=int64),\n",
       " 15: array([0, 0, 0, ..., 0, 0, 0], dtype=int64),\n",
       " 97: array([0, 0, 0, ..., 0, 0, 0], dtype=int64),\n",
       " 39: array([0, 0, 0, ..., 0, 1, 0], dtype=int64),\n",
       " 2: array([0, 0, 0, ..., 0, 0, 0], dtype=int64),\n",
       " 11: array([0, 0, 0, ..., 0, 0, 0], dtype=int64),\n",
       " 77: array([0, 0, 0, ..., 0, 0, 0], dtype=int64)}"
      ]
     },
     "execution_count": 9,
     "metadata": {},
     "output_type": "execute_result"
    }
   ],
   "source": [
    "rec1st"
   ]
  },
  {
   "cell_type": "code",
   "execution_count": 10,
   "id": "bd716dc9-86b4-4308-a217-9217d07b37cf",
   "metadata": {
    "execution": {
     "iopub.execute_input": "2024-06-12T16:47:11.669326Z",
     "iopub.status.busy": "2024-06-12T16:47:11.667332Z",
     "iopub.status.idle": "2024-06-12T16:47:11.699416Z",
     "shell.execute_reply": "2024-06-12T16:47:11.693419Z",
     "shell.execute_reply.started": "2024-06-12T16:47:11.668336Z"
    }
   },
   "outputs": [
    {
     "data": {
      "text/plain": [
       "20"
      ]
     },
     "execution_count": 10,
     "metadata": {},
     "output_type": "execute_result"
    }
   ],
   "source": [
    "len(rec1br)"
   ]
  },
  {
   "cell_type": "code",
   "execution_count": 11,
   "id": "6a1a26c0-16a4-44f7-a9d0-99cc9a3c3e90",
   "metadata": {
    "execution": {
     "iopub.execute_input": "2024-06-12T16:47:11.705413Z",
     "iopub.status.busy": "2024-06-12T16:47:11.704420Z",
     "iopub.status.idle": "2024-06-12T16:47:11.732255Z",
     "shell.execute_reply": "2024-06-12T16:47:11.726378Z",
     "shell.execute_reply.started": "2024-06-12T16:47:11.705413Z"
    }
   },
   "outputs": [
    {
     "data": {
      "text/plain": [
       "array([[20366, 20466],\n",
       "       [20966, 21066],\n",
       "       [21516, 21616],\n",
       "       [22166, 22266],\n",
       "       [22716, 22816],\n",
       "       [23216, 23316],\n",
       "       [23716, 23816],\n",
       "       [24766, 24866],\n",
       "       [25966, 26066],\n",
       "       [27166, 27266],\n",
       "       [28266, 28366],\n",
       "       [29116, 29216],\n",
       "       [30316, 30416],\n",
       "       [30916, 31016],\n",
       "       [31566, 31666],\n",
       "       [32166, 32266],\n",
       "       [32916, 33017],\n",
       "       [33917, 34017],\n",
       "       [34867, 34967],\n",
       "       [35367, 35467]])"
      ]
     },
     "execution_count": 11,
     "metadata": {},
     "output_type": "execute_result"
    }
   ],
   "source": [
    "timebin = 100\n",
    "\n",
    "rounded_array = rec1br/timebin\n",
    "rounded_array = np.ceil(rounded_array).astype(int)\n",
    "rounded_array"
   ]
  },
  {
   "cell_type": "code",
   "execution_count": 12,
   "id": "a427adee-2b44-473a-88a0-54f4642ae76e",
   "metadata": {
    "execution": {
     "iopub.execute_input": "2024-06-12T16:47:11.737250Z",
     "iopub.status.busy": "2024-06-12T16:47:11.736249Z",
     "iopub.status.idle": "2024-06-12T16:47:11.767896Z",
     "shell.execute_reply": "2024-06-12T16:47:11.761896Z",
     "shell.execute_reply.started": "2024-06-12T16:47:11.737250Z"
    }
   },
   "outputs": [
    {
     "data": {
      "text/plain": [
       "array([2, 1, 0, 0, 0, 1, 1, 2, 0, 2, 1, 1, 1, 1, 0, 2, 1, 2, 0, 0, 1, 0,\n",
       "       0, 0, 1, 0, 1, 2, 2, 3, 0, 1, 1, 0, 1, 0, 1, 2, 0, 0, 1, 1, 0, 1,\n",
       "       1, 0, 2, 0, 0, 2, 2, 0, 1, 0, 1, 0, 0, 0, 1, 0, 2, 0, 1, 2, 3, 3,\n",
       "       3, 0, 3, 1, 0, 0, 1, 2, 2, 1, 0, 2, 3, 1, 1, 0, 0, 1, 0, 0, 0, 0,\n",
       "       0, 0, 2, 1, 1, 3, 0, 1, 0, 0, 0, 3], dtype=int64)"
      ]
     },
     "execution_count": 12,
     "metadata": {},
     "output_type": "execute_result"
    }
   ],
   "source": [
    "rec1st[9][rounded_array[15][0]:rounded_array[15][1]]"
   ]
  },
  {
   "cell_type": "code",
   "execution_count": 13,
   "id": "bcb9df96-c1a1-455c-8c63-daca65f39ea8",
   "metadata": {
    "execution": {
     "iopub.execute_input": "2024-06-12T16:47:11.799272Z",
     "iopub.status.busy": "2024-06-12T16:47:11.796267Z",
     "iopub.status.idle": "2024-06-12T16:47:11.830005Z",
     "shell.execute_reply": "2024-06-12T16:47:11.826802Z",
     "shell.execute_reply.started": "2024-06-12T16:47:11.799272Z"
    }
   },
   "outputs": [
    {
     "data": {
      "text/plain": [
       "array([1, 0, 2, 2, 1, 0, 1, 0, 1, 1, 1, 2, 0, 1, 1, 0, 1, 0, 2, 2, 3, 3,\n",
       "       1, 0, 2, 1, 0, 1, 0, 1, 0, 0, 1, 2, 1, 0, 1, 2, 3, 1, 1, 1, 0, 0,\n",
       "       2, 1, 0, 1, 0, 0, 2, 0, 0, 0, 1, 1, 0, 0, 0, 1, 0, 0, 1, 3, 1, 0,\n",
       "       1, 1, 0, 2, 4, 1, 1, 0, 1, 1, 2, 2, 3, 2, 1, 1, 2, 1, 1, 0, 2, 0,\n",
       "       1, 4, 1, 1, 0, 3, 2, 0, 2, 3, 1, 1, 2], dtype=int64)"
      ]
     },
     "execution_count": 13,
     "metadata": {},
     "output_type": "execute_result"
    }
   ],
   "source": [
    "rec1st[9][rounded_array[16][0]:rounded_array[16][1]]"
   ]
  },
  {
   "cell_type": "code",
   "execution_count": 14,
   "id": "de02b38a-88cf-4675-aea8-dee7ecf016a0",
   "metadata": {
    "execution": {
     "iopub.execute_input": "2024-06-12T16:47:11.835995Z",
     "iopub.status.busy": "2024-06-12T16:47:11.833999Z",
     "iopub.status.idle": "2024-06-12T16:47:11.864477Z",
     "shell.execute_reply": "2024-06-12T16:47:11.859925Z",
     "shell.execute_reply.started": "2024-06-12T16:47:11.835995Z"
    }
   },
   "outputs": [
    {
     "data": {
      "text/plain": [
       "array([], dtype=int64)"
      ]
     },
     "execution_count": 14,
     "metadata": {},
     "output_type": "execute_result"
    }
   ],
   "source": [
    "rec1st[9][rounded_array[17][0]:rounded_array[17][1]]"
   ]
  },
  {
   "cell_type": "code",
   "execution_count": 17,
   "id": "899b0270-eda4-4b41-a32e-fca4d37a29fa",
   "metadata": {
    "execution": {
     "iopub.execute_input": "2024-06-12T16:47:11.936360Z",
     "iopub.status.busy": "2024-06-12T16:47:11.935360Z",
     "iopub.status.idle": "2024-06-12T16:47:11.963672Z",
     "shell.execute_reply": "2024-06-12T16:47:11.960021Z",
     "shell.execute_reply.started": "2024-06-12T16:47:11.936360Z"
    }
   },
   "outputs": [
    {
     "data": {
      "text/plain": [
       "33673"
      ]
     },
     "execution_count": 17,
     "metadata": {},
     "output_type": "execute_result"
    }
   ],
   "source": [
    "len(rec1st[9])"
   ]
  },
  {
   "cell_type": "code",
   "execution_count": 18,
   "id": "39734b52-0007-41c9-90c7-08b9e796a319",
   "metadata": {
    "execution": {
     "iopub.execute_input": "2024-06-12T16:47:11.968668Z",
     "iopub.status.busy": "2024-06-12T16:47:11.967669Z",
     "iopub.status.idle": "2024-06-12T16:48:44.892524Z",
     "shell.execute_reply": "2024-06-12T16:48:44.616261Z",
     "shell.execute_reply.started": "2024-06-12T16:47:11.968668Z"
    }
   },
   "outputs": [
    {
     "name": "stdout",
     "output_type": "stream",
     "text": [
      "All set to analyze\n"
     ]
    }
   ],
   "source": [
    "spike_analysis = spike.SpikeAnalysis_MultiRecording(ephys_data, timebin = 1, ignore_freq = 0.5)"
   ]
  },
  {
   "cell_type": "code",
   "execution_count": 19,
   "id": "3e94b8b8-a621-4543-8603-7825d0ddb089",
   "metadata": {
    "execution": {
     "iopub.execute_input": "2024-06-12T16:48:45.291809Z",
     "iopub.status.busy": "2024-06-12T16:48:45.280143Z",
     "iopub.status.idle": "2024-06-12T16:48:45.488010Z",
     "shell.execute_reply": "2024-06-12T16:48:45.484252Z",
     "shell.execute_reply.started": "2024-06-12T16:48:45.291809Z"
    }
   },
   "outputs": [
    {
     "data": {
      "text/plain": [
       "{'rewarded': array([], dtype=int64),\n",
       " 'win': array([], dtype=int64),\n",
       " 'lose': array([[  56560,   66560],\n",
       "        [ 176561,  186561],\n",
       "        [ 291562,  301563],\n",
       "        [ 381564,  391564],\n",
       "        [ 436564,  446564],\n",
       "        [ 486565,  496565],\n",
       "        [ 581566,  591566],\n",
       "        [ 656567,  666567],\n",
       "        [ 761568,  771568],\n",
       "        [ 811569,  821569],\n",
       "        [ 891570,  901570],\n",
       "        [ 956571,  966571],\n",
       "        [1021572, 1031572],\n",
       "        [1071572, 1081572],\n",
       "        [1141573, 1151573],\n",
       "        [1236574, 1246574],\n",
       "        [1316575, 1326575],\n",
       "        [1386576, 1396576],\n",
       "        [1496578, 1506578],\n",
       "        [1556578, 1566578]], dtype=int64),\n",
       " 'omission': array([], dtype=int64),\n",
       " 'both_rewarded': array([[2036584, 2046584],\n",
       "        [2096585, 2106585],\n",
       "        [2151586, 2161586],\n",
       "        [2216587, 2226587],\n",
       "        [2271587, 2281587],\n",
       "        [2321588, 2331588],\n",
       "        [2371589, 2381589],\n",
       "        [2476590, 2486590],\n",
       "        [2596591, 2606592],\n",
       "        [2716593, 2726593],\n",
       "        [2826594, 2836595],\n",
       "        [2911595, 2921596],\n",
       "        [3031597, 3041597],\n",
       "        [3091598, 3101598],\n",
       "        [3156599, 3166599],\n",
       "        [3216599, 3226600],\n",
       "        [3291600, 3301601],\n",
       "        [3391602, 3401602],\n",
       "        [3486603, 3496603],\n",
       "        [3536603, 3546604]], dtype=int64),\n",
       " 'tie': array([], dtype=int64)}"
      ]
     },
     "execution_count": 19,
     "metadata": {},
     "output_type": "execute_result"
    }
   ],
   "source": [
    "recordings = spike_analysis.ephyscollection.collection\n",
    "recording_name = '20230622_110832_standard_comp_to_both_rewarded_D1_subj_1-1_t1b3L_box1_merged.rec'\n",
    "recording1 = recordings.get(recording_name)\n",
    "recording1.event_dict"
   ]
  },
  {
   "cell_type": "code",
   "execution_count": 20,
   "id": "74775cae-893b-4828-b46f-6332fd82d7b5",
   "metadata": {
    "execution": {
     "iopub.execute_input": "2024-06-12T16:48:45.498018Z",
     "iopub.status.busy": "2024-06-12T16:48:45.496016Z",
     "iopub.status.idle": "2024-06-12T16:48:45.524938Z",
     "shell.execute_reply": "2024-06-12T16:48:45.517472Z",
     "shell.execute_reply.started": "2024-06-12T16:48:45.498018Z"
    }
   },
   "outputs": [],
   "source": [
    "rec1st = recording1.unit_spiketrains"
   ]
  },
  {
   "cell_type": "code",
   "execution_count": 21,
   "id": "828e8513-1c60-4f1b-84ea-7e846b1705d4",
   "metadata": {
    "execution": {
     "iopub.execute_input": "2024-06-12T16:48:45.532943Z",
     "iopub.status.busy": "2024-06-12T16:48:45.530946Z",
     "iopub.status.idle": "2024-06-12T16:48:45.572604Z",
     "shell.execute_reply": "2024-06-12T16:48:45.567461Z",
     "shell.execute_reply.started": "2024-06-12T16:48:45.532943Z"
    }
   },
   "outputs": [
    {
     "data": {
      "text/plain": [
       "3367383"
      ]
     },
     "execution_count": 21,
     "metadata": {},
     "output_type": "execute_result"
    }
   ],
   "source": [
    "len(rec1st[9])"
   ]
  },
  {
   "cell_type": "code",
   "execution_count": 22,
   "id": "7b6ca2cb-cf22-45cb-a2e9-a8678d4c792c",
   "metadata": {
    "execution": {
     "iopub.execute_input": "2024-06-12T16:48:45.579606Z",
     "iopub.status.busy": "2024-06-12T16:48:45.577612Z",
     "iopub.status.idle": "2024-06-12T16:48:45.973425Z",
     "shell.execute_reply": "2024-06-12T16:48:45.968176Z",
     "shell.execute_reply.started": "2024-06-12T16:48:45.579606Z"
    }
   },
   "outputs": [
    {
     "data": {
      "text/html": [
       "<div>\n",
       "<style scoped>\n",
       "    .dataframe tbody tr th:only-of-type {\n",
       "        vertical-align: middle;\n",
       "    }\n",
       "\n",
       "    .dataframe tbody tr th {\n",
       "        vertical-align: top;\n",
       "    }\n",
       "\n",
       "    .dataframe thead th {\n",
       "        text-align: right;\n",
       "    }\n",
       "</style>\n",
       "<table border=\"1\" class=\"dataframe\">\n",
       "  <thead>\n",
       "    <tr style=\"text-align: right;\">\n",
       "      <th></th>\n",
       "      <th>Recording</th>\n",
       "      <th>Event name</th>\n",
       "      <th>Event number</th>\n",
       "      <th>Unit number</th>\n",
       "      <th>bin_1</th>\n",
       "      <th>bin_2</th>\n",
       "      <th>bin_3</th>\n",
       "      <th>bin_4</th>\n",
       "      <th>bin_5</th>\n",
       "      <th>bin_6</th>\n",
       "      <th>...</th>\n",
       "      <th>bin_92</th>\n",
       "      <th>bin_93</th>\n",
       "      <th>bin_94</th>\n",
       "      <th>bin_95</th>\n",
       "      <th>bin_96</th>\n",
       "      <th>bin_97</th>\n",
       "      <th>bin_98</th>\n",
       "      <th>bin_99</th>\n",
       "      <th>bin_100</th>\n",
       "      <th>bin_101</th>\n",
       "    </tr>\n",
       "  </thead>\n",
       "  <tbody>\n",
       "    <tr>\n",
       "      <th>0</th>\n",
       "      <td>20230612_101430_standard_comp_to_training_D1_s...</td>\n",
       "      <td>rewarded</td>\n",
       "      <td>1</td>\n",
       "      <td>85</td>\n",
       "      <td>0.0</td>\n",
       "      <td>0.0</td>\n",
       "      <td>0.0</td>\n",
       "      <td>0.0</td>\n",
       "      <td>0.0</td>\n",
       "      <td>0.0</td>\n",
       "      <td>...</td>\n",
       "      <td>0.0</td>\n",
       "      <td>0.0</td>\n",
       "      <td>0.0</td>\n",
       "      <td>0.0</td>\n",
       "      <td>0.0</td>\n",
       "      <td>0.0</td>\n",
       "      <td>0.0</td>\n",
       "      <td>0.0</td>\n",
       "      <td>0.0</td>\n",
       "      <td>NaN</td>\n",
       "    </tr>\n",
       "    <tr>\n",
       "      <th>1</th>\n",
       "      <td>20230612_101430_standard_comp_to_training_D1_s...</td>\n",
       "      <td>rewarded</td>\n",
       "      <td>2</td>\n",
       "      <td>85</td>\n",
       "      <td>0.0</td>\n",
       "      <td>0.0</td>\n",
       "      <td>0.0</td>\n",
       "      <td>0.0</td>\n",
       "      <td>0.0</td>\n",
       "      <td>0.0</td>\n",
       "      <td>...</td>\n",
       "      <td>0.0</td>\n",
       "      <td>0.0</td>\n",
       "      <td>0.0</td>\n",
       "      <td>0.0</td>\n",
       "      <td>0.0</td>\n",
       "      <td>0.0</td>\n",
       "      <td>0.0</td>\n",
       "      <td>0.0</td>\n",
       "      <td>0.0</td>\n",
       "      <td>NaN</td>\n",
       "    </tr>\n",
       "    <tr>\n",
       "      <th>2</th>\n",
       "      <td>20230612_101430_standard_comp_to_training_D1_s...</td>\n",
       "      <td>rewarded</td>\n",
       "      <td>3</td>\n",
       "      <td>85</td>\n",
       "      <td>0.0</td>\n",
       "      <td>0.0</td>\n",
       "      <td>0.0</td>\n",
       "      <td>0.0</td>\n",
       "      <td>0.0</td>\n",
       "      <td>0.0</td>\n",
       "      <td>...</td>\n",
       "      <td>0.0</td>\n",
       "      <td>0.0</td>\n",
       "      <td>0.0</td>\n",
       "      <td>0.0</td>\n",
       "      <td>0.0</td>\n",
       "      <td>0.0</td>\n",
       "      <td>0.0</td>\n",
       "      <td>0.0</td>\n",
       "      <td>0.0</td>\n",
       "      <td>NaN</td>\n",
       "    </tr>\n",
       "    <tr>\n",
       "      <th>3</th>\n",
       "      <td>20230612_101430_standard_comp_to_training_D1_s...</td>\n",
       "      <td>rewarded</td>\n",
       "      <td>4</td>\n",
       "      <td>85</td>\n",
       "      <td>0.0</td>\n",
       "      <td>0.0</td>\n",
       "      <td>0.0</td>\n",
       "      <td>0.0</td>\n",
       "      <td>0.0</td>\n",
       "      <td>0.0</td>\n",
       "      <td>...</td>\n",
       "      <td>1.0</td>\n",
       "      <td>0.0</td>\n",
       "      <td>0.0</td>\n",
       "      <td>0.0</td>\n",
       "      <td>0.0</td>\n",
       "      <td>0.0</td>\n",
       "      <td>0.0</td>\n",
       "      <td>0.0</td>\n",
       "      <td>0.0</td>\n",
       "      <td>NaN</td>\n",
       "    </tr>\n",
       "    <tr>\n",
       "      <th>4</th>\n",
       "      <td>20230612_101430_standard_comp_to_training_D1_s...</td>\n",
       "      <td>rewarded</td>\n",
       "      <td>5</td>\n",
       "      <td>85</td>\n",
       "      <td>0.0</td>\n",
       "      <td>0.0</td>\n",
       "      <td>0.0</td>\n",
       "      <td>0.0</td>\n",
       "      <td>0.0</td>\n",
       "      <td>0.0</td>\n",
       "      <td>...</td>\n",
       "      <td>0.0</td>\n",
       "      <td>0.0</td>\n",
       "      <td>0.0</td>\n",
       "      <td>0.0</td>\n",
       "      <td>0.0</td>\n",
       "      <td>0.0</td>\n",
       "      <td>0.0</td>\n",
       "      <td>0.0</td>\n",
       "      <td>0.0</td>\n",
       "      <td>NaN</td>\n",
       "    </tr>\n",
       "    <tr>\n",
       "      <th>...</th>\n",
       "      <td>...</td>\n",
       "      <td>...</td>\n",
       "      <td>...</td>\n",
       "      <td>...</td>\n",
       "      <td>...</td>\n",
       "      <td>...</td>\n",
       "      <td>...</td>\n",
       "      <td>...</td>\n",
       "      <td>...</td>\n",
       "      <td>...</td>\n",
       "      <td>...</td>\n",
       "      <td>...</td>\n",
       "      <td>...</td>\n",
       "      <td>...</td>\n",
       "      <td>...</td>\n",
       "      <td>...</td>\n",
       "      <td>...</td>\n",
       "      <td>...</td>\n",
       "      <td>...</td>\n",
       "      <td>...</td>\n",
       "      <td>...</td>\n",
       "    </tr>\n",
       "    <tr>\n",
       "      <th>2712</th>\n",
       "      <td>20230622_110832_standard_comp_to_both_rewarded...</td>\n",
       "      <td>both_rewarded</td>\n",
       "      <td>16</td>\n",
       "      <td>15</td>\n",
       "      <td>0.0</td>\n",
       "      <td>0.0</td>\n",
       "      <td>0.0</td>\n",
       "      <td>0.0</td>\n",
       "      <td>0.0</td>\n",
       "      <td>0.0</td>\n",
       "      <td>...</td>\n",
       "      <td>0.0</td>\n",
       "      <td>0.0</td>\n",
       "      <td>0.0</td>\n",
       "      <td>0.0</td>\n",
       "      <td>0.0</td>\n",
       "      <td>0.0</td>\n",
       "      <td>0.0</td>\n",
       "      <td>0.0</td>\n",
       "      <td>0.0</td>\n",
       "      <td>NaN</td>\n",
       "    </tr>\n",
       "    <tr>\n",
       "      <th>2713</th>\n",
       "      <td>20230622_110832_standard_comp_to_both_rewarded...</td>\n",
       "      <td>both_rewarded</td>\n",
       "      <td>17</td>\n",
       "      <td>15</td>\n",
       "      <td>0.0</td>\n",
       "      <td>0.0</td>\n",
       "      <td>0.0</td>\n",
       "      <td>0.0</td>\n",
       "      <td>0.0</td>\n",
       "      <td>0.0</td>\n",
       "      <td>...</td>\n",
       "      <td>0.0</td>\n",
       "      <td>0.0</td>\n",
       "      <td>0.0</td>\n",
       "      <td>0.0</td>\n",
       "      <td>0.0</td>\n",
       "      <td>0.0</td>\n",
       "      <td>0.0</td>\n",
       "      <td>0.0</td>\n",
       "      <td>0.0</td>\n",
       "      <td>0.0</td>\n",
       "    </tr>\n",
       "    <tr>\n",
       "      <th>2714</th>\n",
       "      <td>20230622_110832_standard_comp_to_both_rewarded...</td>\n",
       "      <td>both_rewarded</td>\n",
       "      <td>18</td>\n",
       "      <td>15</td>\n",
       "      <td>1.0</td>\n",
       "      <td>0.0</td>\n",
       "      <td>0.0</td>\n",
       "      <td>0.0</td>\n",
       "      <td>0.0</td>\n",
       "      <td>0.0</td>\n",
       "      <td>...</td>\n",
       "      <td>0.0</td>\n",
       "      <td>0.0</td>\n",
       "      <td>0.0</td>\n",
       "      <td>0.0</td>\n",
       "      <td>0.0</td>\n",
       "      <td>0.0</td>\n",
       "      <td>0.0</td>\n",
       "      <td>0.0</td>\n",
       "      <td>0.0</td>\n",
       "      <td>NaN</td>\n",
       "    </tr>\n",
       "    <tr>\n",
       "      <th>2715</th>\n",
       "      <td>20230622_110832_standard_comp_to_both_rewarded...</td>\n",
       "      <td>both_rewarded</td>\n",
       "      <td>19</td>\n",
       "      <td>15</td>\n",
       "      <td>0.0</td>\n",
       "      <td>0.0</td>\n",
       "      <td>0.0</td>\n",
       "      <td>0.0</td>\n",
       "      <td>0.0</td>\n",
       "      <td>0.0</td>\n",
       "      <td>...</td>\n",
       "      <td>0.0</td>\n",
       "      <td>0.0</td>\n",
       "      <td>0.0</td>\n",
       "      <td>0.0</td>\n",
       "      <td>0.0</td>\n",
       "      <td>0.0</td>\n",
       "      <td>0.0</td>\n",
       "      <td>0.0</td>\n",
       "      <td>0.0</td>\n",
       "      <td>NaN</td>\n",
       "    </tr>\n",
       "    <tr>\n",
       "      <th>2716</th>\n",
       "      <td>20230622_110832_standard_comp_to_both_rewarded...</td>\n",
       "      <td>both_rewarded</td>\n",
       "      <td>20</td>\n",
       "      <td>15</td>\n",
       "      <td>0.0</td>\n",
       "      <td>0.0</td>\n",
       "      <td>0.0</td>\n",
       "      <td>0.0</td>\n",
       "      <td>0.0</td>\n",
       "      <td>1.0</td>\n",
       "      <td>...</td>\n",
       "      <td>0.0</td>\n",
       "      <td>0.0</td>\n",
       "      <td>0.0</td>\n",
       "      <td>0.0</td>\n",
       "      <td>0.0</td>\n",
       "      <td>0.0</td>\n",
       "      <td>0.0</td>\n",
       "      <td>0.0</td>\n",
       "      <td>0.0</td>\n",
       "      <td>NaN</td>\n",
       "    </tr>\n",
       "  </tbody>\n",
       "</table>\n",
       "<p>2717 rows × 105 columns</p>\n",
       "</div>"
      ],
      "text/plain": [
       "                                              Recording     Event name  \\\n",
       "0     20230612_101430_standard_comp_to_training_D1_s...       rewarded   \n",
       "1     20230612_101430_standard_comp_to_training_D1_s...       rewarded   \n",
       "2     20230612_101430_standard_comp_to_training_D1_s...       rewarded   \n",
       "3     20230612_101430_standard_comp_to_training_D1_s...       rewarded   \n",
       "4     20230612_101430_standard_comp_to_training_D1_s...       rewarded   \n",
       "...                                                 ...            ...   \n",
       "2712  20230622_110832_standard_comp_to_both_rewarded...  both_rewarded   \n",
       "2713  20230622_110832_standard_comp_to_both_rewarded...  both_rewarded   \n",
       "2714  20230622_110832_standard_comp_to_both_rewarded...  both_rewarded   \n",
       "2715  20230622_110832_standard_comp_to_both_rewarded...  both_rewarded   \n",
       "2716  20230622_110832_standard_comp_to_both_rewarded...  both_rewarded   \n",
       "\n",
       "      Event number  Unit number  bin_1  bin_2  bin_3  bin_4  bin_5  bin_6  \\\n",
       "0                1           85    0.0    0.0    0.0    0.0    0.0    0.0   \n",
       "1                2           85    0.0    0.0    0.0    0.0    0.0    0.0   \n",
       "2                3           85    0.0    0.0    0.0    0.0    0.0    0.0   \n",
       "3                4           85    0.0    0.0    0.0    0.0    0.0    0.0   \n",
       "4                5           85    0.0    0.0    0.0    0.0    0.0    0.0   \n",
       "...            ...          ...    ...    ...    ...    ...    ...    ...   \n",
       "2712            16           15    0.0    0.0    0.0    0.0    0.0    0.0   \n",
       "2713            17           15    0.0    0.0    0.0    0.0    0.0    0.0   \n",
       "2714            18           15    1.0    0.0    0.0    0.0    0.0    0.0   \n",
       "2715            19           15    0.0    0.0    0.0    0.0    0.0    0.0   \n",
       "2716            20           15    0.0    0.0    0.0    0.0    0.0    1.0   \n",
       "\n",
       "      ...  bin_92  bin_93  bin_94  bin_95  bin_96  bin_97  bin_98  bin_99  \\\n",
       "0     ...     0.0     0.0     0.0     0.0     0.0     0.0     0.0     0.0   \n",
       "1     ...     0.0     0.0     0.0     0.0     0.0     0.0     0.0     0.0   \n",
       "2     ...     0.0     0.0     0.0     0.0     0.0     0.0     0.0     0.0   \n",
       "3     ...     1.0     0.0     0.0     0.0     0.0     0.0     0.0     0.0   \n",
       "4     ...     0.0     0.0     0.0     0.0     0.0     0.0     0.0     0.0   \n",
       "...   ...     ...     ...     ...     ...     ...     ...     ...     ...   \n",
       "2712  ...     0.0     0.0     0.0     0.0     0.0     0.0     0.0     0.0   \n",
       "2713  ...     0.0     0.0     0.0     0.0     0.0     0.0     0.0     0.0   \n",
       "2714  ...     0.0     0.0     0.0     0.0     0.0     0.0     0.0     0.0   \n",
       "2715  ...     0.0     0.0     0.0     0.0     0.0     0.0     0.0     0.0   \n",
       "2716  ...     0.0     0.0     0.0     0.0     0.0     0.0     0.0     0.0   \n",
       "\n",
       "      bin_100  bin_101  \n",
       "0         0.0      NaN  \n",
       "1         0.0      NaN  \n",
       "2         0.0      NaN  \n",
       "3         0.0      NaN  \n",
       "4         0.0      NaN  \n",
       "...       ...      ...  \n",
       "2712      0.0      NaN  \n",
       "2713      0.0      0.0  \n",
       "2714      0.0      NaN  \n",
       "2715      0.0      NaN  \n",
       "2716      0.0      NaN  \n",
       "\n",
       "[2717 rows x 105 columns]"
      ]
     },
     "execution_count": 22,
     "metadata": {},
     "output_type": "execute_result"
    }
   ],
   "source": [
    "event_df"
   ]
  },
  {
   "cell_type": "code",
   "execution_count": 23,
   "id": "35be372e-f95e-4dca-bcdd-07a944a06055",
   "metadata": {
    "execution": {
     "iopub.execute_input": "2024-06-12T16:48:45.979425Z",
     "iopub.status.busy": "2024-06-12T16:48:45.978424Z",
     "iopub.status.idle": "2024-06-12T16:48:46.338198Z",
     "shell.execute_reply": "2024-06-12T16:48:46.333445Z",
     "shell.execute_reply.started": "2024-06-12T16:48:45.979425Z"
    }
   },
   "outputs": [
    {
     "data": {
      "text/html": [
       "<div>\n",
       "<style scoped>\n",
       "    .dataframe tbody tr th:only-of-type {\n",
       "        vertical-align: middle;\n",
       "    }\n",
       "\n",
       "    .dataframe tbody tr th {\n",
       "        vertical-align: top;\n",
       "    }\n",
       "\n",
       "    .dataframe thead th {\n",
       "        text-align: right;\n",
       "    }\n",
       "</style>\n",
       "<table border=\"1\" class=\"dataframe\">\n",
       "  <thead>\n",
       "    <tr style=\"text-align: right;\">\n",
       "      <th></th>\n",
       "      <th>Recording</th>\n",
       "      <th>Event name</th>\n",
       "      <th>Event number</th>\n",
       "      <th>Unit number</th>\n",
       "      <th>bin_1</th>\n",
       "      <th>bin_2</th>\n",
       "      <th>bin_3</th>\n",
       "      <th>bin_4</th>\n",
       "      <th>bin_5</th>\n",
       "      <th>bin_6</th>\n",
       "      <th>...</th>\n",
       "      <th>bin_92</th>\n",
       "      <th>bin_93</th>\n",
       "      <th>bin_94</th>\n",
       "      <th>bin_95</th>\n",
       "      <th>bin_96</th>\n",
       "      <th>bin_97</th>\n",
       "      <th>bin_98</th>\n",
       "      <th>bin_99</th>\n",
       "      <th>bin_100</th>\n",
       "      <th>bin_101</th>\n",
       "    </tr>\n",
       "  </thead>\n",
       "  <tbody>\n",
       "    <tr>\n",
       "      <th>1393</th>\n",
       "      <td>20230622_110832_standard_comp_to_both_rewarded...</td>\n",
       "      <td>both_rewarded</td>\n",
       "      <td>17</td>\n",
       "      <td>9</td>\n",
       "      <td>1.0</td>\n",
       "      <td>0.0</td>\n",
       "      <td>2.0</td>\n",
       "      <td>2.0</td>\n",
       "      <td>1.0</td>\n",
       "      <td>0.0</td>\n",
       "      <td>...</td>\n",
       "      <td>1.0</td>\n",
       "      <td>0.0</td>\n",
       "      <td>3.0</td>\n",
       "      <td>2.0</td>\n",
       "      <td>0.0</td>\n",
       "      <td>2.0</td>\n",
       "      <td>3.0</td>\n",
       "      <td>1.0</td>\n",
       "      <td>1.0</td>\n",
       "      <td>2.0</td>\n",
       "    </tr>\n",
       "    <tr>\n",
       "      <th>1413</th>\n",
       "      <td>20230622_110832_standard_comp_to_both_rewarded...</td>\n",
       "      <td>both_rewarded</td>\n",
       "      <td>17</td>\n",
       "      <td>24</td>\n",
       "      <td>0.0</td>\n",
       "      <td>0.0</td>\n",
       "      <td>0.0</td>\n",
       "      <td>0.0</td>\n",
       "      <td>0.0</td>\n",
       "      <td>0.0</td>\n",
       "      <td>...</td>\n",
       "      <td>0.0</td>\n",
       "      <td>0.0</td>\n",
       "      <td>0.0</td>\n",
       "      <td>0.0</td>\n",
       "      <td>0.0</td>\n",
       "      <td>0.0</td>\n",
       "      <td>0.0</td>\n",
       "      <td>0.0</td>\n",
       "      <td>0.0</td>\n",
       "      <td>0.0</td>\n",
       "    </tr>\n",
       "    <tr>\n",
       "      <th>1433</th>\n",
       "      <td>20230622_110832_standard_comp_to_both_rewarded...</td>\n",
       "      <td>both_rewarded</td>\n",
       "      <td>17</td>\n",
       "      <td>76</td>\n",
       "      <td>1.0</td>\n",
       "      <td>0.0</td>\n",
       "      <td>0.0</td>\n",
       "      <td>0.0</td>\n",
       "      <td>0.0</td>\n",
       "      <td>0.0</td>\n",
       "      <td>...</td>\n",
       "      <td>0.0</td>\n",
       "      <td>1.0</td>\n",
       "      <td>0.0</td>\n",
       "      <td>0.0</td>\n",
       "      <td>0.0</td>\n",
       "      <td>0.0</td>\n",
       "      <td>0.0</td>\n",
       "      <td>1.0</td>\n",
       "      <td>0.0</td>\n",
       "      <td>0.0</td>\n",
       "    </tr>\n",
       "    <tr>\n",
       "      <th>1453</th>\n",
       "      <td>20230622_110832_standard_comp_to_both_rewarded...</td>\n",
       "      <td>both_rewarded</td>\n",
       "      <td>17</td>\n",
       "      <td>10</td>\n",
       "      <td>0.0</td>\n",
       "      <td>1.0</td>\n",
       "      <td>4.0</td>\n",
       "      <td>1.0</td>\n",
       "      <td>0.0</td>\n",
       "      <td>1.0</td>\n",
       "      <td>...</td>\n",
       "      <td>0.0</td>\n",
       "      <td>0.0</td>\n",
       "      <td>1.0</td>\n",
       "      <td>0.0</td>\n",
       "      <td>0.0</td>\n",
       "      <td>0.0</td>\n",
       "      <td>0.0</td>\n",
       "      <td>0.0</td>\n",
       "      <td>0.0</td>\n",
       "      <td>0.0</td>\n",
       "    </tr>\n",
       "    <tr>\n",
       "      <th>1473</th>\n",
       "      <td>20230622_110832_standard_comp_to_both_rewarded...</td>\n",
       "      <td>both_rewarded</td>\n",
       "      <td>17</td>\n",
       "      <td>94</td>\n",
       "      <td>0.0</td>\n",
       "      <td>0.0</td>\n",
       "      <td>0.0</td>\n",
       "      <td>0.0</td>\n",
       "      <td>0.0</td>\n",
       "      <td>0.0</td>\n",
       "      <td>...</td>\n",
       "      <td>0.0</td>\n",
       "      <td>0.0</td>\n",
       "      <td>0.0</td>\n",
       "      <td>0.0</td>\n",
       "      <td>0.0</td>\n",
       "      <td>0.0</td>\n",
       "      <td>0.0</td>\n",
       "      <td>0.0</td>\n",
       "      <td>0.0</td>\n",
       "      <td>0.0</td>\n",
       "    </tr>\n",
       "    <tr>\n",
       "      <th>1493</th>\n",
       "      <td>20230622_110832_standard_comp_to_both_rewarded...</td>\n",
       "      <td>both_rewarded</td>\n",
       "      <td>17</td>\n",
       "      <td>87</td>\n",
       "      <td>0.0</td>\n",
       "      <td>0.0</td>\n",
       "      <td>0.0</td>\n",
       "      <td>0.0</td>\n",
       "      <td>0.0</td>\n",
       "      <td>0.0</td>\n",
       "      <td>...</td>\n",
       "      <td>0.0</td>\n",
       "      <td>0.0</td>\n",
       "      <td>0.0</td>\n",
       "      <td>0.0</td>\n",
       "      <td>0.0</td>\n",
       "      <td>0.0</td>\n",
       "      <td>0.0</td>\n",
       "      <td>0.0</td>\n",
       "      <td>0.0</td>\n",
       "      <td>0.0</td>\n",
       "    </tr>\n",
       "    <tr>\n",
       "      <th>1513</th>\n",
       "      <td>20230622_110832_standard_comp_to_both_rewarded...</td>\n",
       "      <td>both_rewarded</td>\n",
       "      <td>17</td>\n",
       "      <td>1</td>\n",
       "      <td>0.0</td>\n",
       "      <td>0.0</td>\n",
       "      <td>0.0</td>\n",
       "      <td>0.0</td>\n",
       "      <td>0.0</td>\n",
       "      <td>0.0</td>\n",
       "      <td>...</td>\n",
       "      <td>0.0</td>\n",
       "      <td>0.0</td>\n",
       "      <td>0.0</td>\n",
       "      <td>0.0</td>\n",
       "      <td>0.0</td>\n",
       "      <td>0.0</td>\n",
       "      <td>0.0</td>\n",
       "      <td>0.0</td>\n",
       "      <td>0.0</td>\n",
       "      <td>0.0</td>\n",
       "    </tr>\n",
       "    <tr>\n",
       "      <th>1533</th>\n",
       "      <td>20230622_110832_standard_comp_to_both_rewarded...</td>\n",
       "      <td>both_rewarded</td>\n",
       "      <td>17</td>\n",
       "      <td>15</td>\n",
       "      <td>0.0</td>\n",
       "      <td>0.0</td>\n",
       "      <td>0.0</td>\n",
       "      <td>0.0</td>\n",
       "      <td>0.0</td>\n",
       "      <td>0.0</td>\n",
       "      <td>...</td>\n",
       "      <td>0.0</td>\n",
       "      <td>0.0</td>\n",
       "      <td>1.0</td>\n",
       "      <td>1.0</td>\n",
       "      <td>1.0</td>\n",
       "      <td>0.0</td>\n",
       "      <td>1.0</td>\n",
       "      <td>0.0</td>\n",
       "      <td>1.0</td>\n",
       "      <td>1.0</td>\n",
       "    </tr>\n",
       "    <tr>\n",
       "      <th>1553</th>\n",
       "      <td>20230622_110832_standard_comp_to_both_rewarded...</td>\n",
       "      <td>both_rewarded</td>\n",
       "      <td>17</td>\n",
       "      <td>97</td>\n",
       "      <td>1.0</td>\n",
       "      <td>0.0</td>\n",
       "      <td>0.0</td>\n",
       "      <td>0.0</td>\n",
       "      <td>0.0</td>\n",
       "      <td>0.0</td>\n",
       "      <td>...</td>\n",
       "      <td>1.0</td>\n",
       "      <td>0.0</td>\n",
       "      <td>1.0</td>\n",
       "      <td>0.0</td>\n",
       "      <td>0.0</td>\n",
       "      <td>0.0</td>\n",
       "      <td>0.0</td>\n",
       "      <td>0.0</td>\n",
       "      <td>0.0</td>\n",
       "      <td>0.0</td>\n",
       "    </tr>\n",
       "    <tr>\n",
       "      <th>1573</th>\n",
       "      <td>20230622_110832_standard_comp_to_both_rewarded...</td>\n",
       "      <td>both_rewarded</td>\n",
       "      <td>17</td>\n",
       "      <td>39</td>\n",
       "      <td>0.0</td>\n",
       "      <td>0.0</td>\n",
       "      <td>1.0</td>\n",
       "      <td>0.0</td>\n",
       "      <td>0.0</td>\n",
       "      <td>0.0</td>\n",
       "      <td>...</td>\n",
       "      <td>0.0</td>\n",
       "      <td>0.0</td>\n",
       "      <td>0.0</td>\n",
       "      <td>0.0</td>\n",
       "      <td>0.0</td>\n",
       "      <td>0.0</td>\n",
       "      <td>0.0</td>\n",
       "      <td>0.0</td>\n",
       "      <td>0.0</td>\n",
       "      <td>0.0</td>\n",
       "    </tr>\n",
       "    <tr>\n",
       "      <th>1593</th>\n",
       "      <td>20230622_110832_standard_comp_to_both_rewarded...</td>\n",
       "      <td>both_rewarded</td>\n",
       "      <td>17</td>\n",
       "      <td>2</td>\n",
       "      <td>1.0</td>\n",
       "      <td>0.0</td>\n",
       "      <td>0.0</td>\n",
       "      <td>0.0</td>\n",
       "      <td>0.0</td>\n",
       "      <td>0.0</td>\n",
       "      <td>...</td>\n",
       "      <td>0.0</td>\n",
       "      <td>0.0</td>\n",
       "      <td>0.0</td>\n",
       "      <td>0.0</td>\n",
       "      <td>0.0</td>\n",
       "      <td>0.0</td>\n",
       "      <td>0.0</td>\n",
       "      <td>0.0</td>\n",
       "      <td>0.0</td>\n",
       "      <td>0.0</td>\n",
       "    </tr>\n",
       "    <tr>\n",
       "      <th>1613</th>\n",
       "      <td>20230622_110832_standard_comp_to_both_rewarded...</td>\n",
       "      <td>both_rewarded</td>\n",
       "      <td>17</td>\n",
       "      <td>11</td>\n",
       "      <td>4.0</td>\n",
       "      <td>0.0</td>\n",
       "      <td>0.0</td>\n",
       "      <td>0.0</td>\n",
       "      <td>0.0</td>\n",
       "      <td>1.0</td>\n",
       "      <td>...</td>\n",
       "      <td>0.0</td>\n",
       "      <td>0.0</td>\n",
       "      <td>0.0</td>\n",
       "      <td>0.0</td>\n",
       "      <td>0.0</td>\n",
       "      <td>0.0</td>\n",
       "      <td>0.0</td>\n",
       "      <td>0.0</td>\n",
       "      <td>0.0</td>\n",
       "      <td>0.0</td>\n",
       "    </tr>\n",
       "    <tr>\n",
       "      <th>1633</th>\n",
       "      <td>20230622_110832_standard_comp_to_both_rewarded...</td>\n",
       "      <td>both_rewarded</td>\n",
       "      <td>17</td>\n",
       "      <td>77</td>\n",
       "      <td>0.0</td>\n",
       "      <td>1.0</td>\n",
       "      <td>0.0</td>\n",
       "      <td>0.0</td>\n",
       "      <td>0.0</td>\n",
       "      <td>0.0</td>\n",
       "      <td>...</td>\n",
       "      <td>0.0</td>\n",
       "      <td>0.0</td>\n",
       "      <td>0.0</td>\n",
       "      <td>0.0</td>\n",
       "      <td>0.0</td>\n",
       "      <td>0.0</td>\n",
       "      <td>0.0</td>\n",
       "      <td>0.0</td>\n",
       "      <td>0.0</td>\n",
       "      <td>0.0</td>\n",
       "    </tr>\n",
       "    <tr>\n",
       "      <th>2193</th>\n",
       "      <td>20230622_110832_standard_comp_to_both_rewarded...</td>\n",
       "      <td>both_rewarded</td>\n",
       "      <td>17</td>\n",
       "      <td>21</td>\n",
       "      <td>1.0</td>\n",
       "      <td>0.0</td>\n",
       "      <td>1.0</td>\n",
       "      <td>0.0</td>\n",
       "      <td>0.0</td>\n",
       "      <td>0.0</td>\n",
       "      <td>...</td>\n",
       "      <td>0.0</td>\n",
       "      <td>0.0</td>\n",
       "      <td>0.0</td>\n",
       "      <td>1.0</td>\n",
       "      <td>0.0</td>\n",
       "      <td>0.0</td>\n",
       "      <td>0.0</td>\n",
       "      <td>0.0</td>\n",
       "      <td>1.0</td>\n",
       "      <td>0.0</td>\n",
       "    </tr>\n",
       "    <tr>\n",
       "      <th>2213</th>\n",
       "      <td>20230622_110832_standard_comp_to_both_rewarded...</td>\n",
       "      <td>both_rewarded</td>\n",
       "      <td>17</td>\n",
       "      <td>53</td>\n",
       "      <td>1.0</td>\n",
       "      <td>0.0</td>\n",
       "      <td>0.0</td>\n",
       "      <td>1.0</td>\n",
       "      <td>0.0</td>\n",
       "      <td>1.0</td>\n",
       "      <td>...</td>\n",
       "      <td>0.0</td>\n",
       "      <td>0.0</td>\n",
       "      <td>0.0</td>\n",
       "      <td>0.0</td>\n",
       "      <td>0.0</td>\n",
       "      <td>0.0</td>\n",
       "      <td>0.0</td>\n",
       "      <td>0.0</td>\n",
       "      <td>0.0</td>\n",
       "      <td>0.0</td>\n",
       "    </tr>\n",
       "    <tr>\n",
       "      <th>2233</th>\n",
       "      <td>20230622_110832_standard_comp_to_both_rewarded...</td>\n",
       "      <td>both_rewarded</td>\n",
       "      <td>17</td>\n",
       "      <td>46</td>\n",
       "      <td>0.0</td>\n",
       "      <td>0.0</td>\n",
       "      <td>0.0</td>\n",
       "      <td>0.0</td>\n",
       "      <td>0.0</td>\n",
       "      <td>0.0</td>\n",
       "      <td>...</td>\n",
       "      <td>0.0</td>\n",
       "      <td>0.0</td>\n",
       "      <td>1.0</td>\n",
       "      <td>0.0</td>\n",
       "      <td>0.0</td>\n",
       "      <td>0.0</td>\n",
       "      <td>0.0</td>\n",
       "      <td>0.0</td>\n",
       "      <td>0.0</td>\n",
       "      <td>0.0</td>\n",
       "    </tr>\n",
       "    <tr>\n",
       "      <th>2253</th>\n",
       "      <td>20230622_110832_standard_comp_to_both_rewarded...</td>\n",
       "      <td>both_rewarded</td>\n",
       "      <td>17</td>\n",
       "      <td>45</td>\n",
       "      <td>1.0</td>\n",
       "      <td>0.0</td>\n",
       "      <td>2.0</td>\n",
       "      <td>1.0</td>\n",
       "      <td>2.0</td>\n",
       "      <td>1.0</td>\n",
       "      <td>...</td>\n",
       "      <td>1.0</td>\n",
       "      <td>2.0</td>\n",
       "      <td>0.0</td>\n",
       "      <td>1.0</td>\n",
       "      <td>4.0</td>\n",
       "      <td>1.0</td>\n",
       "      <td>1.0</td>\n",
       "      <td>0.0</td>\n",
       "      <td>1.0</td>\n",
       "      <td>1.0</td>\n",
       "    </tr>\n",
       "    <tr>\n",
       "      <th>2273</th>\n",
       "      <td>20230622_110832_standard_comp_to_both_rewarded...</td>\n",
       "      <td>both_rewarded</td>\n",
       "      <td>17</td>\n",
       "      <td>33</td>\n",
       "      <td>3.0</td>\n",
       "      <td>1.0</td>\n",
       "      <td>0.0</td>\n",
       "      <td>1.0</td>\n",
       "      <td>1.0</td>\n",
       "      <td>1.0</td>\n",
       "      <td>...</td>\n",
       "      <td>0.0</td>\n",
       "      <td>0.0</td>\n",
       "      <td>0.0</td>\n",
       "      <td>0.0</td>\n",
       "      <td>2.0</td>\n",
       "      <td>0.0</td>\n",
       "      <td>1.0</td>\n",
       "      <td>1.0</td>\n",
       "      <td>1.0</td>\n",
       "      <td>1.0</td>\n",
       "    </tr>\n",
       "    <tr>\n",
       "      <th>2293</th>\n",
       "      <td>20230622_110832_standard_comp_to_both_rewarded...</td>\n",
       "      <td>both_rewarded</td>\n",
       "      <td>17</td>\n",
       "      <td>109</td>\n",
       "      <td>1.0</td>\n",
       "      <td>0.0</td>\n",
       "      <td>0.0</td>\n",
       "      <td>0.0</td>\n",
       "      <td>1.0</td>\n",
       "      <td>0.0</td>\n",
       "      <td>...</td>\n",
       "      <td>0.0</td>\n",
       "      <td>1.0</td>\n",
       "      <td>0.0</td>\n",
       "      <td>0.0</td>\n",
       "      <td>0.0</td>\n",
       "      <td>1.0</td>\n",
       "      <td>0.0</td>\n",
       "      <td>0.0</td>\n",
       "      <td>0.0</td>\n",
       "      <td>1.0</td>\n",
       "    </tr>\n",
       "    <tr>\n",
       "      <th>2313</th>\n",
       "      <td>20230622_110832_standard_comp_to_both_rewarded...</td>\n",
       "      <td>both_rewarded</td>\n",
       "      <td>17</td>\n",
       "      <td>76</td>\n",
       "      <td>0.0</td>\n",
       "      <td>1.0</td>\n",
       "      <td>0.0</td>\n",
       "      <td>1.0</td>\n",
       "      <td>0.0</td>\n",
       "      <td>0.0</td>\n",
       "      <td>...</td>\n",
       "      <td>1.0</td>\n",
       "      <td>1.0</td>\n",
       "      <td>1.0</td>\n",
       "      <td>0.0</td>\n",
       "      <td>1.0</td>\n",
       "      <td>0.0</td>\n",
       "      <td>1.0</td>\n",
       "      <td>1.0</td>\n",
       "      <td>0.0</td>\n",
       "      <td>1.0</td>\n",
       "    </tr>\n",
       "    <tr>\n",
       "      <th>2333</th>\n",
       "      <td>20230622_110832_standard_comp_to_both_rewarded...</td>\n",
       "      <td>both_rewarded</td>\n",
       "      <td>17</td>\n",
       "      <td>39</td>\n",
       "      <td>1.0</td>\n",
       "      <td>0.0</td>\n",
       "      <td>0.0</td>\n",
       "      <td>0.0</td>\n",
       "      <td>0.0</td>\n",
       "      <td>0.0</td>\n",
       "      <td>...</td>\n",
       "      <td>0.0</td>\n",
       "      <td>0.0</td>\n",
       "      <td>0.0</td>\n",
       "      <td>1.0</td>\n",
       "      <td>0.0</td>\n",
       "      <td>0.0</td>\n",
       "      <td>0.0</td>\n",
       "      <td>0.0</td>\n",
       "      <td>0.0</td>\n",
       "      <td>0.0</td>\n",
       "    </tr>\n",
       "    <tr>\n",
       "      <th>2353</th>\n",
       "      <td>20230622_110832_standard_comp_to_both_rewarded...</td>\n",
       "      <td>both_rewarded</td>\n",
       "      <td>17</td>\n",
       "      <td>26</td>\n",
       "      <td>0.0</td>\n",
       "      <td>0.0</td>\n",
       "      <td>0.0</td>\n",
       "      <td>0.0</td>\n",
       "      <td>1.0</td>\n",
       "      <td>1.0</td>\n",
       "      <td>...</td>\n",
       "      <td>0.0</td>\n",
       "      <td>0.0</td>\n",
       "      <td>0.0</td>\n",
       "      <td>0.0</td>\n",
       "      <td>0.0</td>\n",
       "      <td>0.0</td>\n",
       "      <td>0.0</td>\n",
       "      <td>0.0</td>\n",
       "      <td>0.0</td>\n",
       "      <td>0.0</td>\n",
       "    </tr>\n",
       "    <tr>\n",
       "      <th>2373</th>\n",
       "      <td>20230622_110832_standard_comp_to_both_rewarded...</td>\n",
       "      <td>both_rewarded</td>\n",
       "      <td>17</td>\n",
       "      <td>44</td>\n",
       "      <td>0.0</td>\n",
       "      <td>0.0</td>\n",
       "      <td>0.0</td>\n",
       "      <td>0.0</td>\n",
       "      <td>0.0</td>\n",
       "      <td>0.0</td>\n",
       "      <td>...</td>\n",
       "      <td>0.0</td>\n",
       "      <td>0.0</td>\n",
       "      <td>1.0</td>\n",
       "      <td>2.0</td>\n",
       "      <td>0.0</td>\n",
       "      <td>0.0</td>\n",
       "      <td>1.0</td>\n",
       "      <td>0.0</td>\n",
       "      <td>0.0</td>\n",
       "      <td>1.0</td>\n",
       "    </tr>\n",
       "    <tr>\n",
       "      <th>2393</th>\n",
       "      <td>20230622_110832_standard_comp_to_both_rewarded...</td>\n",
       "      <td>both_rewarded</td>\n",
       "      <td>17</td>\n",
       "      <td>22</td>\n",
       "      <td>1.0</td>\n",
       "      <td>3.0</td>\n",
       "      <td>1.0</td>\n",
       "      <td>1.0</td>\n",
       "      <td>1.0</td>\n",
       "      <td>1.0</td>\n",
       "      <td>...</td>\n",
       "      <td>4.0</td>\n",
       "      <td>1.0</td>\n",
       "      <td>2.0</td>\n",
       "      <td>3.0</td>\n",
       "      <td>4.0</td>\n",
       "      <td>2.0</td>\n",
       "      <td>0.0</td>\n",
       "      <td>4.0</td>\n",
       "      <td>4.0</td>\n",
       "      <td>0.0</td>\n",
       "    </tr>\n",
       "    <tr>\n",
       "      <th>2413</th>\n",
       "      <td>20230622_110832_standard_comp_to_both_rewarded...</td>\n",
       "      <td>both_rewarded</td>\n",
       "      <td>17</td>\n",
       "      <td>48</td>\n",
       "      <td>1.0</td>\n",
       "      <td>2.0</td>\n",
       "      <td>1.0</td>\n",
       "      <td>1.0</td>\n",
       "      <td>2.0</td>\n",
       "      <td>1.0</td>\n",
       "      <td>...</td>\n",
       "      <td>0.0</td>\n",
       "      <td>1.0</td>\n",
       "      <td>0.0</td>\n",
       "      <td>0.0</td>\n",
       "      <td>0.0</td>\n",
       "      <td>0.0</td>\n",
       "      <td>0.0</td>\n",
       "      <td>1.0</td>\n",
       "      <td>0.0</td>\n",
       "      <td>1.0</td>\n",
       "    </tr>\n",
       "    <tr>\n",
       "      <th>2433</th>\n",
       "      <td>20230622_110832_standard_comp_to_both_rewarded...</td>\n",
       "      <td>both_rewarded</td>\n",
       "      <td>17</td>\n",
       "      <td>74</td>\n",
       "      <td>0.0</td>\n",
       "      <td>0.0</td>\n",
       "      <td>0.0</td>\n",
       "      <td>1.0</td>\n",
       "      <td>1.0</td>\n",
       "      <td>0.0</td>\n",
       "      <td>...</td>\n",
       "      <td>1.0</td>\n",
       "      <td>0.0</td>\n",
       "      <td>0.0</td>\n",
       "      <td>0.0</td>\n",
       "      <td>0.0</td>\n",
       "      <td>0.0</td>\n",
       "      <td>1.0</td>\n",
       "      <td>1.0</td>\n",
       "      <td>0.0</td>\n",
       "      <td>0.0</td>\n",
       "    </tr>\n",
       "    <tr>\n",
       "      <th>2453</th>\n",
       "      <td>20230622_110832_standard_comp_to_both_rewarded...</td>\n",
       "      <td>both_rewarded</td>\n",
       "      <td>17</td>\n",
       "      <td>37</td>\n",
       "      <td>0.0</td>\n",
       "      <td>0.0</td>\n",
       "      <td>0.0</td>\n",
       "      <td>0.0</td>\n",
       "      <td>0.0</td>\n",
       "      <td>0.0</td>\n",
       "      <td>...</td>\n",
       "      <td>0.0</td>\n",
       "      <td>1.0</td>\n",
       "      <td>0.0</td>\n",
       "      <td>1.0</td>\n",
       "      <td>0.0</td>\n",
       "      <td>0.0</td>\n",
       "      <td>0.0</td>\n",
       "      <td>0.0</td>\n",
       "      <td>0.0</td>\n",
       "      <td>0.0</td>\n",
       "    </tr>\n",
       "    <tr>\n",
       "      <th>2473</th>\n",
       "      <td>20230622_110832_standard_comp_to_both_rewarded...</td>\n",
       "      <td>both_rewarded</td>\n",
       "      <td>17</td>\n",
       "      <td>58</td>\n",
       "      <td>0.0</td>\n",
       "      <td>1.0</td>\n",
       "      <td>0.0</td>\n",
       "      <td>1.0</td>\n",
       "      <td>0.0</td>\n",
       "      <td>1.0</td>\n",
       "      <td>...</td>\n",
       "      <td>0.0</td>\n",
       "      <td>0.0</td>\n",
       "      <td>0.0</td>\n",
       "      <td>0.0</td>\n",
       "      <td>0.0</td>\n",
       "      <td>0.0</td>\n",
       "      <td>1.0</td>\n",
       "      <td>0.0</td>\n",
       "      <td>0.0</td>\n",
       "      <td>0.0</td>\n",
       "    </tr>\n",
       "    <tr>\n",
       "      <th>2493</th>\n",
       "      <td>20230622_110832_standard_comp_to_both_rewarded...</td>\n",
       "      <td>both_rewarded</td>\n",
       "      <td>17</td>\n",
       "      <td>1</td>\n",
       "      <td>0.0</td>\n",
       "      <td>0.0</td>\n",
       "      <td>0.0</td>\n",
       "      <td>0.0</td>\n",
       "      <td>0.0</td>\n",
       "      <td>0.0</td>\n",
       "      <td>...</td>\n",
       "      <td>1.0</td>\n",
       "      <td>0.0</td>\n",
       "      <td>0.0</td>\n",
       "      <td>0.0</td>\n",
       "      <td>0.0</td>\n",
       "      <td>1.0</td>\n",
       "      <td>0.0</td>\n",
       "      <td>0.0</td>\n",
       "      <td>0.0</td>\n",
       "      <td>0.0</td>\n",
       "    </tr>\n",
       "    <tr>\n",
       "      <th>2513</th>\n",
       "      <td>20230622_110832_standard_comp_to_both_rewarded...</td>\n",
       "      <td>both_rewarded</td>\n",
       "      <td>17</td>\n",
       "      <td>23</td>\n",
       "      <td>1.0</td>\n",
       "      <td>1.0</td>\n",
       "      <td>1.0</td>\n",
       "      <td>1.0</td>\n",
       "      <td>0.0</td>\n",
       "      <td>0.0</td>\n",
       "      <td>...</td>\n",
       "      <td>0.0</td>\n",
       "      <td>0.0</td>\n",
       "      <td>0.0</td>\n",
       "      <td>0.0</td>\n",
       "      <td>0.0</td>\n",
       "      <td>0.0</td>\n",
       "      <td>1.0</td>\n",
       "      <td>0.0</td>\n",
       "      <td>0.0</td>\n",
       "      <td>0.0</td>\n",
       "    </tr>\n",
       "    <tr>\n",
       "      <th>2533</th>\n",
       "      <td>20230622_110832_standard_comp_to_both_rewarded...</td>\n",
       "      <td>both_rewarded</td>\n",
       "      <td>17</td>\n",
       "      <td>20</td>\n",
       "      <td>0.0</td>\n",
       "      <td>0.0</td>\n",
       "      <td>0.0</td>\n",
       "      <td>0.0</td>\n",
       "      <td>0.0</td>\n",
       "      <td>0.0</td>\n",
       "      <td>...</td>\n",
       "      <td>0.0</td>\n",
       "      <td>0.0</td>\n",
       "      <td>0.0</td>\n",
       "      <td>0.0</td>\n",
       "      <td>0.0</td>\n",
       "      <td>0.0</td>\n",
       "      <td>0.0</td>\n",
       "      <td>0.0</td>\n",
       "      <td>0.0</td>\n",
       "      <td>0.0</td>\n",
       "    </tr>\n",
       "    <tr>\n",
       "      <th>2553</th>\n",
       "      <td>20230622_110832_standard_comp_to_both_rewarded...</td>\n",
       "      <td>both_rewarded</td>\n",
       "      <td>17</td>\n",
       "      <td>29</td>\n",
       "      <td>0.0</td>\n",
       "      <td>0.0</td>\n",
       "      <td>0.0</td>\n",
       "      <td>0.0</td>\n",
       "      <td>0.0</td>\n",
       "      <td>0.0</td>\n",
       "      <td>...</td>\n",
       "      <td>0.0</td>\n",
       "      <td>0.0</td>\n",
       "      <td>0.0</td>\n",
       "      <td>0.0</td>\n",
       "      <td>1.0</td>\n",
       "      <td>0.0</td>\n",
       "      <td>1.0</td>\n",
       "      <td>0.0</td>\n",
       "      <td>0.0</td>\n",
       "      <td>0.0</td>\n",
       "    </tr>\n",
       "    <tr>\n",
       "      <th>2573</th>\n",
       "      <td>20230622_110832_standard_comp_to_both_rewarded...</td>\n",
       "      <td>both_rewarded</td>\n",
       "      <td>17</td>\n",
       "      <td>115</td>\n",
       "      <td>0.0</td>\n",
       "      <td>0.0</td>\n",
       "      <td>0.0</td>\n",
       "      <td>0.0</td>\n",
       "      <td>0.0</td>\n",
       "      <td>0.0</td>\n",
       "      <td>...</td>\n",
       "      <td>0.0</td>\n",
       "      <td>0.0</td>\n",
       "      <td>0.0</td>\n",
       "      <td>0.0</td>\n",
       "      <td>0.0</td>\n",
       "      <td>0.0</td>\n",
       "      <td>0.0</td>\n",
       "      <td>0.0</td>\n",
       "      <td>0.0</td>\n",
       "      <td>0.0</td>\n",
       "    </tr>\n",
       "    <tr>\n",
       "      <th>2593</th>\n",
       "      <td>20230622_110832_standard_comp_to_both_rewarded...</td>\n",
       "      <td>both_rewarded</td>\n",
       "      <td>17</td>\n",
       "      <td>59</td>\n",
       "      <td>1.0</td>\n",
       "      <td>0.0</td>\n",
       "      <td>0.0</td>\n",
       "      <td>0.0</td>\n",
       "      <td>0.0</td>\n",
       "      <td>0.0</td>\n",
       "      <td>...</td>\n",
       "      <td>1.0</td>\n",
       "      <td>1.0</td>\n",
       "      <td>0.0</td>\n",
       "      <td>0.0</td>\n",
       "      <td>0.0</td>\n",
       "      <td>0.0</td>\n",
       "      <td>1.0</td>\n",
       "      <td>0.0</td>\n",
       "      <td>0.0</td>\n",
       "      <td>1.0</td>\n",
       "    </tr>\n",
       "    <tr>\n",
       "      <th>2613</th>\n",
       "      <td>20230622_110832_standard_comp_to_both_rewarded...</td>\n",
       "      <td>both_rewarded</td>\n",
       "      <td>17</td>\n",
       "      <td>51</td>\n",
       "      <td>0.0</td>\n",
       "      <td>0.0</td>\n",
       "      <td>1.0</td>\n",
       "      <td>0.0</td>\n",
       "      <td>0.0</td>\n",
       "      <td>0.0</td>\n",
       "      <td>...</td>\n",
       "      <td>0.0</td>\n",
       "      <td>1.0</td>\n",
       "      <td>0.0</td>\n",
       "      <td>0.0</td>\n",
       "      <td>0.0</td>\n",
       "      <td>0.0</td>\n",
       "      <td>1.0</td>\n",
       "      <td>0.0</td>\n",
       "      <td>1.0</td>\n",
       "      <td>1.0</td>\n",
       "    </tr>\n",
       "    <tr>\n",
       "      <th>2633</th>\n",
       "      <td>20230622_110832_standard_comp_to_both_rewarded...</td>\n",
       "      <td>both_rewarded</td>\n",
       "      <td>17</td>\n",
       "      <td>55</td>\n",
       "      <td>1.0</td>\n",
       "      <td>0.0</td>\n",
       "      <td>0.0</td>\n",
       "      <td>1.0</td>\n",
       "      <td>1.0</td>\n",
       "      <td>0.0</td>\n",
       "      <td>...</td>\n",
       "      <td>0.0</td>\n",
       "      <td>0.0</td>\n",
       "      <td>0.0</td>\n",
       "      <td>0.0</td>\n",
       "      <td>3.0</td>\n",
       "      <td>0.0</td>\n",
       "      <td>0.0</td>\n",
       "      <td>0.0</td>\n",
       "      <td>0.0</td>\n",
       "      <td>0.0</td>\n",
       "    </tr>\n",
       "    <tr>\n",
       "      <th>2653</th>\n",
       "      <td>20230622_110832_standard_comp_to_both_rewarded...</td>\n",
       "      <td>both_rewarded</td>\n",
       "      <td>17</td>\n",
       "      <td>27</td>\n",
       "      <td>1.0</td>\n",
       "      <td>0.0</td>\n",
       "      <td>0.0</td>\n",
       "      <td>0.0</td>\n",
       "      <td>0.0</td>\n",
       "      <td>1.0</td>\n",
       "      <td>...</td>\n",
       "      <td>0.0</td>\n",
       "      <td>0.0</td>\n",
       "      <td>0.0</td>\n",
       "      <td>1.0</td>\n",
       "      <td>0.0</td>\n",
       "      <td>0.0</td>\n",
       "      <td>0.0</td>\n",
       "      <td>0.0</td>\n",
       "      <td>0.0</td>\n",
       "      <td>0.0</td>\n",
       "    </tr>\n",
       "    <tr>\n",
       "      <th>2673</th>\n",
       "      <td>20230622_110832_standard_comp_to_both_rewarded...</td>\n",
       "      <td>both_rewarded</td>\n",
       "      <td>17</td>\n",
       "      <td>102</td>\n",
       "      <td>0.0</td>\n",
       "      <td>1.0</td>\n",
       "      <td>2.0</td>\n",
       "      <td>0.0</td>\n",
       "      <td>0.0</td>\n",
       "      <td>1.0</td>\n",
       "      <td>...</td>\n",
       "      <td>0.0</td>\n",
       "      <td>1.0</td>\n",
       "      <td>1.0</td>\n",
       "      <td>0.0</td>\n",
       "      <td>0.0</td>\n",
       "      <td>1.0</td>\n",
       "      <td>0.0</td>\n",
       "      <td>0.0</td>\n",
       "      <td>0.0</td>\n",
       "      <td>0.0</td>\n",
       "    </tr>\n",
       "    <tr>\n",
       "      <th>2693</th>\n",
       "      <td>20230622_110832_standard_comp_to_both_rewarded...</td>\n",
       "      <td>both_rewarded</td>\n",
       "      <td>17</td>\n",
       "      <td>6</td>\n",
       "      <td>0.0</td>\n",
       "      <td>0.0</td>\n",
       "      <td>0.0</td>\n",
       "      <td>0.0</td>\n",
       "      <td>0.0</td>\n",
       "      <td>0.0</td>\n",
       "      <td>...</td>\n",
       "      <td>0.0</td>\n",
       "      <td>0.0</td>\n",
       "      <td>0.0</td>\n",
       "      <td>0.0</td>\n",
       "      <td>0.0</td>\n",
       "      <td>0.0</td>\n",
       "      <td>0.0</td>\n",
       "      <td>0.0</td>\n",
       "      <td>0.0</td>\n",
       "      <td>0.0</td>\n",
       "    </tr>\n",
       "    <tr>\n",
       "      <th>2713</th>\n",
       "      <td>20230622_110832_standard_comp_to_both_rewarded...</td>\n",
       "      <td>both_rewarded</td>\n",
       "      <td>17</td>\n",
       "      <td>15</td>\n",
       "      <td>0.0</td>\n",
       "      <td>0.0</td>\n",
       "      <td>0.0</td>\n",
       "      <td>0.0</td>\n",
       "      <td>0.0</td>\n",
       "      <td>0.0</td>\n",
       "      <td>...</td>\n",
       "      <td>0.0</td>\n",
       "      <td>0.0</td>\n",
       "      <td>0.0</td>\n",
       "      <td>0.0</td>\n",
       "      <td>0.0</td>\n",
       "      <td>0.0</td>\n",
       "      <td>0.0</td>\n",
       "      <td>0.0</td>\n",
       "      <td>0.0</td>\n",
       "      <td>0.0</td>\n",
       "    </tr>\n",
       "  </tbody>\n",
       "</table>\n",
       "<p>40 rows × 105 columns</p>\n",
       "</div>"
      ],
      "text/plain": [
       "                                              Recording     Event name  \\\n",
       "1393  20230622_110832_standard_comp_to_both_rewarded...  both_rewarded   \n",
       "1413  20230622_110832_standard_comp_to_both_rewarded...  both_rewarded   \n",
       "1433  20230622_110832_standard_comp_to_both_rewarded...  both_rewarded   \n",
       "1453  20230622_110832_standard_comp_to_both_rewarded...  both_rewarded   \n",
       "1473  20230622_110832_standard_comp_to_both_rewarded...  both_rewarded   \n",
       "1493  20230622_110832_standard_comp_to_both_rewarded...  both_rewarded   \n",
       "1513  20230622_110832_standard_comp_to_both_rewarded...  both_rewarded   \n",
       "1533  20230622_110832_standard_comp_to_both_rewarded...  both_rewarded   \n",
       "1553  20230622_110832_standard_comp_to_both_rewarded...  both_rewarded   \n",
       "1573  20230622_110832_standard_comp_to_both_rewarded...  both_rewarded   \n",
       "1593  20230622_110832_standard_comp_to_both_rewarded...  both_rewarded   \n",
       "1613  20230622_110832_standard_comp_to_both_rewarded...  both_rewarded   \n",
       "1633  20230622_110832_standard_comp_to_both_rewarded...  both_rewarded   \n",
       "2193  20230622_110832_standard_comp_to_both_rewarded...  both_rewarded   \n",
       "2213  20230622_110832_standard_comp_to_both_rewarded...  both_rewarded   \n",
       "2233  20230622_110832_standard_comp_to_both_rewarded...  both_rewarded   \n",
       "2253  20230622_110832_standard_comp_to_both_rewarded...  both_rewarded   \n",
       "2273  20230622_110832_standard_comp_to_both_rewarded...  both_rewarded   \n",
       "2293  20230622_110832_standard_comp_to_both_rewarded...  both_rewarded   \n",
       "2313  20230622_110832_standard_comp_to_both_rewarded...  both_rewarded   \n",
       "2333  20230622_110832_standard_comp_to_both_rewarded...  both_rewarded   \n",
       "2353  20230622_110832_standard_comp_to_both_rewarded...  both_rewarded   \n",
       "2373  20230622_110832_standard_comp_to_both_rewarded...  both_rewarded   \n",
       "2393  20230622_110832_standard_comp_to_both_rewarded...  both_rewarded   \n",
       "2413  20230622_110832_standard_comp_to_both_rewarded...  both_rewarded   \n",
       "2433  20230622_110832_standard_comp_to_both_rewarded...  both_rewarded   \n",
       "2453  20230622_110832_standard_comp_to_both_rewarded...  both_rewarded   \n",
       "2473  20230622_110832_standard_comp_to_both_rewarded...  both_rewarded   \n",
       "2493  20230622_110832_standard_comp_to_both_rewarded...  both_rewarded   \n",
       "2513  20230622_110832_standard_comp_to_both_rewarded...  both_rewarded   \n",
       "2533  20230622_110832_standard_comp_to_both_rewarded...  both_rewarded   \n",
       "2553  20230622_110832_standard_comp_to_both_rewarded...  both_rewarded   \n",
       "2573  20230622_110832_standard_comp_to_both_rewarded...  both_rewarded   \n",
       "2593  20230622_110832_standard_comp_to_both_rewarded...  both_rewarded   \n",
       "2613  20230622_110832_standard_comp_to_both_rewarded...  both_rewarded   \n",
       "2633  20230622_110832_standard_comp_to_both_rewarded...  both_rewarded   \n",
       "2653  20230622_110832_standard_comp_to_both_rewarded...  both_rewarded   \n",
       "2673  20230622_110832_standard_comp_to_both_rewarded...  both_rewarded   \n",
       "2693  20230622_110832_standard_comp_to_both_rewarded...  both_rewarded   \n",
       "2713  20230622_110832_standard_comp_to_both_rewarded...  both_rewarded   \n",
       "\n",
       "      Event number  Unit number  bin_1  bin_2  bin_3  bin_4  bin_5  bin_6  \\\n",
       "1393            17            9    1.0    0.0    2.0    2.0    1.0    0.0   \n",
       "1413            17           24    0.0    0.0    0.0    0.0    0.0    0.0   \n",
       "1433            17           76    1.0    0.0    0.0    0.0    0.0    0.0   \n",
       "1453            17           10    0.0    1.0    4.0    1.0    0.0    1.0   \n",
       "1473            17           94    0.0    0.0    0.0    0.0    0.0    0.0   \n",
       "1493            17           87    0.0    0.0    0.0    0.0    0.0    0.0   \n",
       "1513            17            1    0.0    0.0    0.0    0.0    0.0    0.0   \n",
       "1533            17           15    0.0    0.0    0.0    0.0    0.0    0.0   \n",
       "1553            17           97    1.0    0.0    0.0    0.0    0.0    0.0   \n",
       "1573            17           39    0.0    0.0    1.0    0.0    0.0    0.0   \n",
       "1593            17            2    1.0    0.0    0.0    0.0    0.0    0.0   \n",
       "1613            17           11    4.0    0.0    0.0    0.0    0.0    1.0   \n",
       "1633            17           77    0.0    1.0    0.0    0.0    0.0    0.0   \n",
       "2193            17           21    1.0    0.0    1.0    0.0    0.0    0.0   \n",
       "2213            17           53    1.0    0.0    0.0    1.0    0.0    1.0   \n",
       "2233            17           46    0.0    0.0    0.0    0.0    0.0    0.0   \n",
       "2253            17           45    1.0    0.0    2.0    1.0    2.0    1.0   \n",
       "2273            17           33    3.0    1.0    0.0    1.0    1.0    1.0   \n",
       "2293            17          109    1.0    0.0    0.0    0.0    1.0    0.0   \n",
       "2313            17           76    0.0    1.0    0.0    1.0    0.0    0.0   \n",
       "2333            17           39    1.0    0.0    0.0    0.0    0.0    0.0   \n",
       "2353            17           26    0.0    0.0    0.0    0.0    1.0    1.0   \n",
       "2373            17           44    0.0    0.0    0.0    0.0    0.0    0.0   \n",
       "2393            17           22    1.0    3.0    1.0    1.0    1.0    1.0   \n",
       "2413            17           48    1.0    2.0    1.0    1.0    2.0    1.0   \n",
       "2433            17           74    0.0    0.0    0.0    1.0    1.0    0.0   \n",
       "2453            17           37    0.0    0.0    0.0    0.0    0.0    0.0   \n",
       "2473            17           58    0.0    1.0    0.0    1.0    0.0    1.0   \n",
       "2493            17            1    0.0    0.0    0.0    0.0    0.0    0.0   \n",
       "2513            17           23    1.0    1.0    1.0    1.0    0.0    0.0   \n",
       "2533            17           20    0.0    0.0    0.0    0.0    0.0    0.0   \n",
       "2553            17           29    0.0    0.0    0.0    0.0    0.0    0.0   \n",
       "2573            17          115    0.0    0.0    0.0    0.0    0.0    0.0   \n",
       "2593            17           59    1.0    0.0    0.0    0.0    0.0    0.0   \n",
       "2613            17           51    0.0    0.0    1.0    0.0    0.0    0.0   \n",
       "2633            17           55    1.0    0.0    0.0    1.0    1.0    0.0   \n",
       "2653            17           27    1.0    0.0    0.0    0.0    0.0    1.0   \n",
       "2673            17          102    0.0    1.0    2.0    0.0    0.0    1.0   \n",
       "2693            17            6    0.0    0.0    0.0    0.0    0.0    0.0   \n",
       "2713            17           15    0.0    0.0    0.0    0.0    0.0    0.0   \n",
       "\n",
       "      ...  bin_92  bin_93  bin_94  bin_95  bin_96  bin_97  bin_98  bin_99  \\\n",
       "1393  ...     1.0     0.0     3.0     2.0     0.0     2.0     3.0     1.0   \n",
       "1413  ...     0.0     0.0     0.0     0.0     0.0     0.0     0.0     0.0   \n",
       "1433  ...     0.0     1.0     0.0     0.0     0.0     0.0     0.0     1.0   \n",
       "1453  ...     0.0     0.0     1.0     0.0     0.0     0.0     0.0     0.0   \n",
       "1473  ...     0.0     0.0     0.0     0.0     0.0     0.0     0.0     0.0   \n",
       "1493  ...     0.0     0.0     0.0     0.0     0.0     0.0     0.0     0.0   \n",
       "1513  ...     0.0     0.0     0.0     0.0     0.0     0.0     0.0     0.0   \n",
       "1533  ...     0.0     0.0     1.0     1.0     1.0     0.0     1.0     0.0   \n",
       "1553  ...     1.0     0.0     1.0     0.0     0.0     0.0     0.0     0.0   \n",
       "1573  ...     0.0     0.0     0.0     0.0     0.0     0.0     0.0     0.0   \n",
       "1593  ...     0.0     0.0     0.0     0.0     0.0     0.0     0.0     0.0   \n",
       "1613  ...     0.0     0.0     0.0     0.0     0.0     0.0     0.0     0.0   \n",
       "1633  ...     0.0     0.0     0.0     0.0     0.0     0.0     0.0     0.0   \n",
       "2193  ...     0.0     0.0     0.0     1.0     0.0     0.0     0.0     0.0   \n",
       "2213  ...     0.0     0.0     0.0     0.0     0.0     0.0     0.0     0.0   \n",
       "2233  ...     0.0     0.0     1.0     0.0     0.0     0.0     0.0     0.0   \n",
       "2253  ...     1.0     2.0     0.0     1.0     4.0     1.0     1.0     0.0   \n",
       "2273  ...     0.0     0.0     0.0     0.0     2.0     0.0     1.0     1.0   \n",
       "2293  ...     0.0     1.0     0.0     0.0     0.0     1.0     0.0     0.0   \n",
       "2313  ...     1.0     1.0     1.0     0.0     1.0     0.0     1.0     1.0   \n",
       "2333  ...     0.0     0.0     0.0     1.0     0.0     0.0     0.0     0.0   \n",
       "2353  ...     0.0     0.0     0.0     0.0     0.0     0.0     0.0     0.0   \n",
       "2373  ...     0.0     0.0     1.0     2.0     0.0     0.0     1.0     0.0   \n",
       "2393  ...     4.0     1.0     2.0     3.0     4.0     2.0     0.0     4.0   \n",
       "2413  ...     0.0     1.0     0.0     0.0     0.0     0.0     0.0     1.0   \n",
       "2433  ...     1.0     0.0     0.0     0.0     0.0     0.0     1.0     1.0   \n",
       "2453  ...     0.0     1.0     0.0     1.0     0.0     0.0     0.0     0.0   \n",
       "2473  ...     0.0     0.0     0.0     0.0     0.0     0.0     1.0     0.0   \n",
       "2493  ...     1.0     0.0     0.0     0.0     0.0     1.0     0.0     0.0   \n",
       "2513  ...     0.0     0.0     0.0     0.0     0.0     0.0     1.0     0.0   \n",
       "2533  ...     0.0     0.0     0.0     0.0     0.0     0.0     0.0     0.0   \n",
       "2553  ...     0.0     0.0     0.0     0.0     1.0     0.0     1.0     0.0   \n",
       "2573  ...     0.0     0.0     0.0     0.0     0.0     0.0     0.0     0.0   \n",
       "2593  ...     1.0     1.0     0.0     0.0     0.0     0.0     1.0     0.0   \n",
       "2613  ...     0.0     1.0     0.0     0.0     0.0     0.0     1.0     0.0   \n",
       "2633  ...     0.0     0.0     0.0     0.0     3.0     0.0     0.0     0.0   \n",
       "2653  ...     0.0     0.0     0.0     1.0     0.0     0.0     0.0     0.0   \n",
       "2673  ...     0.0     1.0     1.0     0.0     0.0     1.0     0.0     0.0   \n",
       "2693  ...     0.0     0.0     0.0     0.0     0.0     0.0     0.0     0.0   \n",
       "2713  ...     0.0     0.0     0.0     0.0     0.0     0.0     0.0     0.0   \n",
       "\n",
       "      bin_100  bin_101  \n",
       "1393      1.0      2.0  \n",
       "1413      0.0      0.0  \n",
       "1433      0.0      0.0  \n",
       "1453      0.0      0.0  \n",
       "1473      0.0      0.0  \n",
       "1493      0.0      0.0  \n",
       "1513      0.0      0.0  \n",
       "1533      1.0      1.0  \n",
       "1553      0.0      0.0  \n",
       "1573      0.0      0.0  \n",
       "1593      0.0      0.0  \n",
       "1613      0.0      0.0  \n",
       "1633      0.0      0.0  \n",
       "2193      1.0      0.0  \n",
       "2213      0.0      0.0  \n",
       "2233      0.0      0.0  \n",
       "2253      1.0      1.0  \n",
       "2273      1.0      1.0  \n",
       "2293      0.0      1.0  \n",
       "2313      0.0      1.0  \n",
       "2333      0.0      0.0  \n",
       "2353      0.0      0.0  \n",
       "2373      0.0      1.0  \n",
       "2393      4.0      0.0  \n",
       "2413      0.0      1.0  \n",
       "2433      0.0      0.0  \n",
       "2453      0.0      0.0  \n",
       "2473      0.0      0.0  \n",
       "2493      0.0      0.0  \n",
       "2513      0.0      0.0  \n",
       "2533      0.0      0.0  \n",
       "2553      0.0      0.0  \n",
       "2573      0.0      0.0  \n",
       "2593      0.0      1.0  \n",
       "2613      1.0      1.0  \n",
       "2633      0.0      0.0  \n",
       "2653      0.0      0.0  \n",
       "2673      0.0      0.0  \n",
       "2693      0.0      0.0  \n",
       "2713      0.0      0.0  \n",
       "\n",
       "[40 rows x 105 columns]"
      ]
     },
     "execution_count": 23,
     "metadata": {},
     "output_type": "execute_result"
    }
   ],
   "source": [
    "event_df.dropna()"
   ]
  },
  {
   "cell_type": "code",
   "execution_count": 24,
   "id": "60315c9a-e5c2-484b-9d04-71a5a1c558c5",
   "metadata": {
    "execution": {
     "iopub.execute_input": "2024-06-12T16:48:46.346193Z",
     "iopub.status.busy": "2024-06-12T16:48:46.345199Z",
     "iopub.status.idle": "2024-06-12T16:48:46.389748Z",
     "shell.execute_reply": "2024-06-12T16:48:46.384174Z",
     "shell.execute_reply.started": "2024-06-12T16:48:46.346193Z"
    }
   },
   "outputs": [
    {
     "data": {
      "text/plain": [
       "array([32916, 33017])"
      ]
     },
     "execution_count": 24,
     "metadata": {},
     "output_type": "execute_result"
    }
   ],
   "source": [
    "rounded_array[16]"
   ]
  },
  {
   "cell_type": "code",
   "execution_count": 25,
   "id": "2301ebc5-4353-4224-8b2f-06e5975cf493",
   "metadata": {
    "execution": {
     "iopub.execute_input": "2024-06-12T16:48:46.397733Z",
     "iopub.status.busy": "2024-06-12T16:48:46.395737Z",
     "iopub.status.idle": "2024-06-12T16:48:46.439508Z",
     "shell.execute_reply": "2024-06-12T16:48:46.433509Z",
     "shell.execute_reply.started": "2024-06-12T16:48:46.397733Z"
    }
   },
   "outputs": [
    {
     "data": {
      "text/plain": [
       "329.16"
      ]
     },
     "execution_count": 25,
     "metadata": {},
     "output_type": "execute_result"
    }
   ],
   "source": [
    "32916/100"
   ]
  },
  {
   "cell_type": "code",
   "execution_count": 26,
   "id": "3ef78b18-fe0a-4e3e-b6fe-1a677f763644",
   "metadata": {
    "execution": {
     "iopub.execute_input": "2024-06-12T16:48:46.446512Z",
     "iopub.status.busy": "2024-06-12T16:48:46.444511Z",
     "iopub.status.idle": "2024-06-12T16:48:46.474328Z",
     "shell.execute_reply": "2024-06-12T16:48:46.468986Z",
     "shell.execute_reply.started": "2024-06-12T16:48:46.446512Z"
    }
   },
   "outputs": [
    {
     "data": {
      "text/plain": [
       "330.0"
      ]
     },
     "execution_count": 26,
     "metadata": {},
     "output_type": "execute_result"
    }
   ],
   "source": [
    "np.ceil(32916/100)"
   ]
  },
  {
   "cell_type": "code",
   "execution_count": 27,
   "id": "3af0295f-8358-4002-8ef7-7f2ed1a0bee5",
   "metadata": {
    "execution": {
     "iopub.execute_input": "2024-06-12T16:48:46.480328Z",
     "iopub.status.busy": "2024-06-12T16:48:46.479330Z",
     "iopub.status.idle": "2024-06-12T16:48:46.508172Z",
     "shell.execute_reply": "2024-06-12T16:48:46.503144Z",
     "shell.execute_reply.started": "2024-06-12T16:48:46.480328Z"
    }
   },
   "outputs": [
    {
     "data": {
      "text/plain": [
       "330.17"
      ]
     },
     "execution_count": 27,
     "metadata": {},
     "output_type": "execute_result"
    }
   ],
   "source": [
    "33017/100"
   ]
  },
  {
   "cell_type": "code",
   "execution_count": 28,
   "id": "b2455980-d7f3-4203-978a-f3dae0d74606",
   "metadata": {
    "execution": {
     "iopub.execute_input": "2024-06-12T16:48:46.514169Z",
     "iopub.status.busy": "2024-06-12T16:48:46.512173Z",
     "iopub.status.idle": "2024-06-12T16:48:46.540011Z",
     "shell.execute_reply": "2024-06-12T16:48:46.533908Z",
     "shell.execute_reply.started": "2024-06-12T16:48:46.514169Z"
    }
   },
   "outputs": [
    {
     "data": {
      "text/plain": [
       "331.0"
      ]
     },
     "execution_count": 28,
     "metadata": {},
     "output_type": "execute_result"
    }
   ],
   "source": [
    "np.ceil(33017/100)"
   ]
  },
  {
   "cell_type": "code",
   "execution_count": 29,
   "id": "f11e63c1-8668-4569-91f0-82690b09cc63",
   "metadata": {
    "execution": {
     "iopub.execute_input": "2024-06-12T16:48:46.545010Z",
     "iopub.status.busy": "2024-06-12T16:48:46.544015Z",
     "iopub.status.idle": "2024-06-12T16:48:46.569013Z",
     "shell.execute_reply": "2024-06-12T16:48:46.566139Z",
     "shell.execute_reply.started": "2024-06-12T16:48:46.545010Z"
    }
   },
   "outputs": [
    {
     "data": {
      "text/plain": [
       "array([32166, 32266])"
      ]
     },
     "execution_count": 29,
     "metadata": {},
     "output_type": "execute_result"
    }
   ],
   "source": [
    "rounded_array[15]"
   ]
  },
  {
   "cell_type": "code",
   "execution_count": 30,
   "id": "6eff300a-77a0-46a5-bbfe-396c59eb4ca5",
   "metadata": {
    "execution": {
     "iopub.execute_input": "2024-06-12T16:48:46.574345Z",
     "iopub.status.busy": "2024-06-12T16:48:46.573344Z",
     "iopub.status.idle": "2024-06-12T16:48:46.588100Z",
     "shell.execute_reply": "2024-06-12T16:48:46.584339Z",
     "shell.execute_reply.started": "2024-06-12T16:48:46.574345Z"
    }
   },
   "outputs": [
    {
     "data": {
      "text/plain": [
       "322.0"
      ]
     },
     "execution_count": 30,
     "metadata": {},
     "output_type": "execute_result"
    }
   ],
   "source": [
    "np.ceil(32166/100)"
   ]
  },
  {
   "cell_type": "code",
   "execution_count": 31,
   "id": "6bb80415-6718-4e86-960a-5e17a5c2c306",
   "metadata": {
    "execution": {
     "iopub.execute_input": "2024-06-12T16:48:46.596097Z",
     "iopub.status.busy": "2024-06-12T16:48:46.595097Z",
     "iopub.status.idle": "2024-06-12T16:48:46.619026Z",
     "shell.execute_reply": "2024-06-12T16:48:46.616178Z",
     "shell.execute_reply.started": "2024-06-12T16:48:46.596097Z"
    }
   },
   "outputs": [
    {
     "data": {
      "text/plain": [
       "323.0"
      ]
     },
     "execution_count": 31,
     "metadata": {},
     "output_type": "execute_result"
    }
   ],
   "source": [
    "np.ceil(32266/100)"
   ]
  },
  {
   "cell_type": "code",
   "execution_count": 32,
   "id": "859baf2e-2a2d-413f-895b-f13d66b62e43",
   "metadata": {
    "execution": {
     "iopub.execute_input": "2024-06-12T16:48:46.624399Z",
     "iopub.status.busy": "2024-06-12T16:48:46.622398Z",
     "iopub.status.idle": "2024-06-12T16:48:46.654531Z",
     "shell.execute_reply": "2024-06-12T16:48:46.651899Z",
     "shell.execute_reply.started": "2024-06-12T16:48:46.624399Z"
    }
   },
   "outputs": [
    {
     "data": {
      "text/plain": [
       "array([31566, 31666])"
      ]
     },
     "execution_count": 32,
     "metadata": {},
     "output_type": "execute_result"
    }
   ],
   "source": [
    "rounded_array[14]"
   ]
  },
  {
   "cell_type": "code",
   "execution_count": 33,
   "id": "17b12305-16ae-4e39-a51c-f4a36dadf02e",
   "metadata": {
    "execution": {
     "iopub.execute_input": "2024-06-12T16:48:46.658519Z",
     "iopub.status.busy": "2024-06-12T16:48:46.657525Z",
     "iopub.status.idle": "2024-06-12T16:48:46.686336Z",
     "shell.execute_reply": "2024-06-12T16:48:46.682952Z",
     "shell.execute_reply.started": "2024-06-12T16:48:46.658519Z"
    }
   },
   "outputs": [
    {
     "data": {
      "text/plain": [
       "-10000"
      ]
     },
     "execution_count": 33,
     "metadata": {},
     "output_type": "execute_result"
    }
   ],
   "source": [
    "176561 - 186561"
   ]
  },
  {
   "cell_type": "code",
   "execution_count": 34,
   "id": "57faf0d6-7e39-4003-a72a-69a49e78568b",
   "metadata": {
    "execution": {
     "iopub.execute_input": "2024-06-12T16:48:46.691494Z",
     "iopub.status.busy": "2024-06-12T16:48:46.690496Z",
     "iopub.status.idle": "2024-06-12T16:48:46.720101Z",
     "shell.execute_reply": "2024-06-12T16:48:46.717413Z",
     "shell.execute_reply.started": "2024-06-12T16:48:46.691494Z"
    }
   },
   "outputs": [
    {
     "data": {
      "text/plain": [
       "100.0"
      ]
     },
     "execution_count": 34,
     "metadata": {},
     "output_type": "execute_result"
    }
   ],
   "source": [
    "10000/100"
   ]
  },
  {
   "cell_type": "code",
   "execution_count": 35,
   "id": "e246b8f9-4b3d-4c65-b60c-56a130e09058",
   "metadata": {
    "execution": {
     "iopub.execute_input": "2024-06-12T16:48:46.727123Z",
     "iopub.status.busy": "2024-06-12T16:48:46.725135Z",
     "iopub.status.idle": "2024-06-12T16:48:46.754851Z",
     "shell.execute_reply": "2024-06-12T16:48:46.750900Z",
     "shell.execute_reply.started": "2024-06-12T16:48:46.727123Z"
    }
   },
   "outputs": [
    {
     "data": {
      "text/plain": [
       "10.0"
      ]
     },
     "execution_count": 35,
     "metadata": {},
     "output_type": "execute_result"
    }
   ],
   "source": [
    "10000/1000"
   ]
  },
  {
   "cell_type": "code",
   "execution_count": 36,
   "id": "1a8c1031-e2bb-43d8-824c-d2285b2d1b78",
   "metadata": {
    "execution": {
     "iopub.execute_input": "2024-06-12T16:48:46.763853Z",
     "iopub.status.busy": "2024-06-12T16:48:46.761858Z",
     "iopub.status.idle": "2024-06-12T16:48:46.787801Z",
     "shell.execute_reply": "2024-06-12T16:48:46.783288Z",
     "shell.execute_reply.started": "2024-06-12T16:48:46.763853Z"
    }
   },
   "outputs": [
    {
     "data": {
      "text/plain": [
       "1765.61"
      ]
     },
     "execution_count": 36,
     "metadata": {},
     "output_type": "execute_result"
    }
   ],
   "source": [
    "176561/100"
   ]
  },
  {
   "cell_type": "code",
   "execution_count": 37,
   "id": "696072f8-38b2-4f40-b463-b17dc28c0c84",
   "metadata": {
    "execution": {
     "iopub.execute_input": "2024-06-12T16:48:46.793800Z",
     "iopub.status.busy": "2024-06-12T16:48:46.792795Z",
     "iopub.status.idle": "2024-06-12T16:48:46.821133Z",
     "shell.execute_reply": "2024-06-12T16:48:46.816891Z",
     "shell.execute_reply.started": "2024-06-12T16:48:46.793800Z"
    }
   },
   "outputs": [
    {
     "data": {
      "text/plain": [
       "1865.61"
      ]
     },
     "execution_count": 37,
     "metadata": {},
     "output_type": "execute_result"
    }
   ],
   "source": [
    "186561/100"
   ]
  },
  {
   "cell_type": "code",
   "execution_count": 38,
   "id": "01448ea8-8c12-4098-8c6e-a011b62220d2",
   "metadata": {
    "execution": {
     "iopub.execute_input": "2024-06-12T16:48:46.826126Z",
     "iopub.status.busy": "2024-06-12T16:48:46.825123Z",
     "iopub.status.idle": "2024-06-12T16:48:46.849939Z",
     "shell.execute_reply": "2024-06-12T16:48:46.847934Z",
     "shell.execute_reply.started": "2024-06-12T16:48:46.826126Z"
    }
   },
   "outputs": [
    {
     "data": {
      "text/plain": [
       "49.26317035798858"
      ]
     },
     "execution_count": 38,
     "metadata": {},
     "output_type": "execute_result"
    }
   ],
   "source": [
    "3536603/71790"
   ]
  },
  {
   "cell_type": "code",
   "execution_count": 39,
   "id": "e1a11fa5-e98e-45a5-b158-dd6f40ac225e",
   "metadata": {
    "execution": {
     "iopub.execute_input": "2024-06-12T16:48:46.857589Z",
     "iopub.status.busy": "2024-06-12T16:48:46.855584Z",
     "iopub.status.idle": "2024-06-12T16:48:46.890479Z",
     "shell.execute_reply": "2024-06-12T16:48:46.885159Z",
     "shell.execute_reply.started": "2024-06-12T16:48:46.857589Z"
    }
   },
   "outputs": [
    {
     "data": {
      "text/plain": [
       "49.26591562599842"
      ]
     },
     "execution_count": 39,
     "metadata": {},
     "output_type": "execute_result"
    }
   ],
   "source": [
    "3546604/71989"
   ]
  },
  {
   "cell_type": "code",
   "execution_count": 40,
   "id": "e6397033-d1cf-41c6-8854-e5d776a4ee63",
   "metadata": {
    "execution": {
     "iopub.execute_input": "2024-06-12T16:48:46.898472Z",
     "iopub.status.busy": "2024-06-12T16:48:46.896477Z",
     "iopub.status.idle": "2024-06-12T16:48:46.920257Z",
     "shell.execute_reply": "2024-06-12T16:48:46.916569Z",
     "shell.execute_reply.started": "2024-06-12T16:48:46.898472Z"
    }
   },
   "outputs": [
    {
     "data": {
      "text/plain": [
       "48.66970964272912"
      ]
     },
     "execution_count": 40,
     "metadata": {},
     "output_type": "execute_result"
    }
   ],
   "source": [
    "2036584/41845"
   ]
  },
  {
   "cell_type": "code",
   "execution_count": 41,
   "id": "44832c15-9c3d-43b7-b134-ee8a758f25c2",
   "metadata": {
    "execution": {
     "iopub.execute_input": "2024-06-12T16:48:46.925241Z",
     "iopub.status.busy": "2024-06-12T16:48:46.924239Z",
     "iopub.status.idle": "2024-06-12T16:48:46.955893Z",
     "shell.execute_reply": "2024-06-12T16:48:46.951836Z",
     "shell.execute_reply.started": "2024-06-12T16:48:46.925241Z"
    }
   },
   "outputs": [
    {
     "data": {
      "text/plain": [
       "70732060"
      ]
     },
     "execution_count": 41,
     "metadata": {},
     "output_type": "execute_result"
    }
   ],
   "source": [
    "3536603*20"
   ]
  },
  {
   "cell_type": "code",
   "execution_count": 42,
   "id": "8e2b4d22-da6f-4bf1-83a5-9768fee696fe",
   "metadata": {
    "execution": {
     "iopub.execute_input": "2024-06-12T16:48:46.961894Z",
     "iopub.status.busy": "2024-06-12T16:48:46.961894Z",
     "iopub.status.idle": "2024-06-12T16:48:47.088949Z",
     "shell.execute_reply": "2024-06-12T16:48:47.083313Z",
     "shell.execute_reply.started": "2024-06-12T16:48:46.961894Z"
    }
   },
   "outputs": [],
   "source": [
    "import multirecording_spikeanalysis as spike"
   ]
  },
  {
   "cell_type": "code",
   "execution_count": 43,
   "id": "394142fe-611b-4f1d-bdb6-80a97b419cbe",
   "metadata": {
    "execution": {
     "iopub.execute_input": "2024-06-12T16:48:47.095951Z",
     "iopub.status.busy": "2024-06-12T16:48:47.093949Z",
     "iopub.status.idle": "2024-06-12T16:48:51.092520Z",
     "shell.execute_reply": "2024-06-12T16:48:51.050140Z",
     "shell.execute_reply.started": "2024-06-12T16:48:47.095951Z"
    }
   },
   "outputs": [],
   "source": [
    "cols = ['condition ', 'session_dir', 'all_subjects', 'tone_start_timestamp', 'tone_stop_timestamp']\n",
    "\n",
    "# Load the data\n",
    "df = pd.read_excel('rce_pilot_2_per_video_trial_labels.xlsx', usecols=cols, engine='openpyxl')"
   ]
  },
  {
   "cell_type": "code",
   "execution_count": 44,
   "id": "5a220835-2851-40c0-8cf5-753bb6a94d24",
   "metadata": {
    "execution": {
     "iopub.execute_input": "2024-06-12T16:48:51.099524Z",
     "iopub.status.busy": "2024-06-12T16:48:51.098529Z",
     "iopub.status.idle": "2024-06-12T16:48:51.307991Z",
     "shell.execute_reply": "2024-06-12T16:48:51.303654Z",
     "shell.execute_reply.started": "2024-06-12T16:48:51.099524Z"
    }
   },
   "outputs": [],
   "source": [
    "df2 = df.dropna() # Drop the rows missing data\n",
    "df3 = df2.copy()\n",
    "df3['all_subjects'] = df3['all_subjects'].apply(lambda x: ast.literal_eval(x) if isinstance(x, str) else x) # Make the 'all_subjects' column readable as a list\n",
    "df4 = df3[df3['all_subjects'].apply(lambda x: len(x) < 3)] # Ignore novel sessions for now"
   ]
  },
  {
   "cell_type": "code",
   "execution_count": 45,
   "id": "5584e5a9-0199-4703-9a0d-62d7aa39daab",
   "metadata": {
    "execution": {
     "iopub.execute_input": "2024-06-12T16:48:51.312987Z",
     "iopub.status.busy": "2024-06-12T16:48:51.311998Z",
     "iopub.status.idle": "2024-06-12T16:48:51.639712Z",
     "shell.execute_reply": "2024-06-12T16:48:51.634596Z",
     "shell.execute_reply.started": "2024-06-12T16:48:51.312987Z"
    }
   },
   "outputs": [],
   "source": [
    "# Initialize an empty list to collect data for the new DataFrame\n",
    "new_df_data = []\n",
    "\n",
    "for _, row in df4.iterrows():\n",
    "    session_dir = row['session_dir']\n",
    "    subjects = row['all_subjects']\n",
    "    condition = row['condition ']\n",
    "\n",
    "    # Split session_dir on '_subj_' and take the first part only\n",
    "    # This ensures everything after '_subj_' is ignored\n",
    "    base_session_dir = session_dir.split('_subj_')[0]\n",
    "\n",
    "    for subject in subjects:\n",
    "        subject_formatted = subject.replace('.', '-')\n",
    "        # Append formatted subject to the base session_dir correctly\n",
    "        subj_recording = f\"{base_session_dir}_subj_{subject_formatted}\"\n",
    "        new_df_data.append({\n",
    "            'session_dir': session_dir,\n",
    "            'subject': subject,\n",
    "            'subj_recording': subj_recording,\n",
    "            'condition': condition if condition in ['rewarded', 'omission', 'both_rewarded', 'tie'] else ('win' if str(condition) == str(subject) else 'lose'),\n",
    "            'tone_start_timestamp': row['tone_start_timestamp'],\n",
    "            'tone_stop_timestamp': row['tone_stop_timestamp']\n",
    "        })\n",
    "\n",
    "# Convert list to DataFrame\n",
    "new_df = pd.DataFrame(new_df_data)\n",
    "new_df = new_df.drop_duplicates()"
   ]
  },
  {
   "cell_type": "code",
   "execution_count": 46,
   "id": "db7172f4-fc37-4681-8533-0f420a7dad57",
   "metadata": {
    "execution": {
     "iopub.execute_input": "2024-06-12T16:48:51.645747Z",
     "iopub.status.busy": "2024-06-12T16:48:51.644748Z",
     "iopub.status.idle": "2024-06-12T16:48:51.972857Z",
     "shell.execute_reply": "2024-06-12T16:48:51.968729Z",
     "shell.execute_reply.started": "2024-06-12T16:48:51.645747Z"
    }
   },
   "outputs": [],
   "source": [
    "# Prepare timestamp_dicts from new_df\n",
    "timestamp_dicts = {}\n",
    "for _, row in new_df.iterrows():\n",
    "    key = row['subj_recording']\n",
    "    condition = row['condition']\n",
    "    timestamp_start = int(row['tone_start_timestamp']) // 20\n",
    "    timestamp_end = int(row['tone_stop_timestamp']) // 20\n",
    "    tuple_val = (timestamp_start, timestamp_end)\n",
    "\n",
    "    if key not in timestamp_dicts:\n",
    "        timestamp_dicts[key] = {cond: [] for cond in ['rewarded', 'win', 'lose', 'omission', 'both_rewarded', 'tie']}\n",
    "    timestamp_dicts[key][condition].append(tuple_val)\n",
    "\n",
    "# Convert lists in timestamp_dicts to numpy arrays\n",
    "for subj_recording in timestamp_dicts:\n",
    "    for condition in timestamp_dicts[subj_recording]:\n",
    "        timestamp_dicts[subj_recording][condition] = np.array(timestamp_dicts[subj_recording][condition], dtype=np.int64)"
   ]
  },
  {
   "cell_type": "code",
   "execution_count": 47,
   "id": "8b4c5f0b-7cee-44e5-86f3-8730dd6b10d1",
   "metadata": {
    "execution": {
     "iopub.execute_input": "2024-06-12T16:48:51.978859Z",
     "iopub.status.busy": "2024-06-12T16:48:51.976858Z",
     "iopub.status.idle": "2024-06-12T16:49:26.556778Z",
     "shell.execute_reply": "2024-06-12T16:49:26.553064Z",
     "shell.execute_reply.started": "2024-06-12T16:48:51.978859Z"
    }
   },
   "outputs": [
    {
     "name": "stdout",
     "output_type": "stream",
     "text": [
      "<class 'numpy.ndarray'>\n",
      "20230612_101430_standard_comp_to_training_D1_subj_1-3_t3b3L_box2_merged.rec\n",
      "<class 'numpy.ndarray'>\n",
      "20230617_115521_standard_comp_to_omission_D1_subj_1-1_t1b3L_box1_merged.rec\n",
      "<class 'numpy.ndarray'>\n",
      "Unit 92 is unsorted & has 2494 spikes\n",
      "Unit 92 will be deleted\n",
      "20230622_110832_standard_comp_to_both_rewarded_D1_subj_1-1_t1b3L_box1_merged.rec\n",
      "<class 'numpy.ndarray'>\n",
      "Unit 103 is unsorted & has 512 spikes\n",
      "Unit 103 will be deleted\n",
      "20230622_110832_standard_comp_to_both_rewarded_D1_subj_1-2_t3b3L_box1_merged.rec\n",
      "Please assign event dictionaries to each recording\n",
      "as recording.event_dict\n",
      "event_dict = {event name(str): np.array[[start(ms), stop(ms)]...]\n",
      "Please assign subjects to each recording as recording.subject\n"
     ]
    }
   ],
   "source": [
    "# Construct the path in a platform-independent way (HiPerGator or Windows)\n",
    "ephys_path = Path('.') / 'recordings' / 'updated_phys' / 'test'\n",
    "\n",
    "ephys_data = spike.EphysRecordingCollection(str(ephys_path))"
   ]
  },
  {
   "cell_type": "code",
   "execution_count": 48,
   "id": "19979dd7-f0f3-4cb5-930e-f02bf74a322f",
   "metadata": {
    "execution": {
     "iopub.execute_input": "2024-06-12T16:49:26.561770Z",
     "iopub.status.busy": "2024-06-12T16:49:26.560771Z",
     "iopub.status.idle": "2024-06-12T16:49:26.590519Z",
     "shell.execute_reply": "2024-06-12T16:49:26.586585Z",
     "shell.execute_reply.started": "2024-06-12T16:49:26.561770Z"
    }
   },
   "outputs": [],
   "source": [
    "for recording in ephys_data.collection.keys():\n",
    "    # Check if the recording key (without everything after subject #) is in timestamp_dicts\n",
    "    start_pos = recording.find('subj_')\n",
    "    # Add the length of 'subj_' and 3 additional characters to include after 'subj_'\n",
    "    end_pos = start_pos + len('subj_') + 3\n",
    "    # Slice the recording key to get everything up to and including the subject identifier plus three characters\n",
    "    recording_key_without_suffix = recording[:end_pos]\n",
    "    if recording_key_without_suffix in timestamp_dicts:\n",
    "        # Assign the corresponding timestamp_dicts dictionary to event_dict\n",
    "        ephys_data.collection[recording].event_dict = timestamp_dicts[recording_key_without_suffix]\n",
    "        \n",
    "        # Extract the subject from the recording key\n",
    "        start = recording.find('subj_') + 5  # Start index after 'subj_'\n",
    "        subject = recording[start:start+3]\n",
    "        \n",
    "        # Assign the extracted subject\n",
    "        ephys_data.collection[recording].subject = subject"
   ]
  },
  {
   "cell_type": "code",
   "execution_count": 49,
   "id": "5ed4cb2d-b0df-489f-b116-d6021e91e908",
   "metadata": {
    "execution": {
     "iopub.execute_input": "2024-06-12T16:49:26.598521Z",
     "iopub.status.busy": "2024-06-12T16:49:26.596515Z",
     "iopub.status.idle": "2024-06-12T16:50:55.313757Z",
     "shell.execute_reply": "2024-06-12T16:50:55.297745Z",
     "shell.execute_reply.started": "2024-06-12T16:49:26.598521Z"
    }
   },
   "outputs": [
    {
     "name": "stdout",
     "output_type": "stream",
     "text": [
      "All set to analyze\n"
     ]
    }
   ],
   "source": [
    "spike_analysis = spike.SpikeAnalysis_MultiRecording(ephys_data, timebin = 1, ignore_freq = 0.5)"
   ]
  },
  {
   "cell_type": "code",
   "execution_count": 50,
   "id": "7d66d919-6434-4131-99e8-65cb38344217",
   "metadata": {
    "execution": {
     "iopub.execute_input": "2024-06-12T16:50:55.335762Z",
     "iopub.status.busy": "2024-06-12T16:50:55.332765Z",
     "iopub.status.idle": "2024-06-12T16:50:59.783267Z",
     "shell.execute_reply": "2024-06-12T16:50:59.777495Z",
     "shell.execute_reply.started": "2024-06-12T16:50:55.335762Z"
    }
   },
   "outputs": [
    {
     "data": {
      "text/plain": [
       "{'rewarded': array([], dtype=int64),\n",
       " 'win': array([], dtype=int64),\n",
       " 'lose': array([[  56560,   66560],\n",
       "        [ 176561,  186561],\n",
       "        [ 291562,  301563],\n",
       "        [ 381564,  391564],\n",
       "        [ 436564,  446564],\n",
       "        [ 486565,  496565],\n",
       "        [ 581566,  591566],\n",
       "        [ 656567,  666567],\n",
       "        [ 761568,  771568],\n",
       "        [ 811569,  821569],\n",
       "        [ 891570,  901570],\n",
       "        [ 956571,  966571],\n",
       "        [1021572, 1031572],\n",
       "        [1071572, 1081572],\n",
       "        [1141573, 1151573],\n",
       "        [1236574, 1246574],\n",
       "        [1316575, 1326575],\n",
       "        [1386576, 1396576],\n",
       "        [1496578, 1506578],\n",
       "        [1556578, 1566578]], dtype=int64),\n",
       " 'omission': array([], dtype=int64),\n",
       " 'both_rewarded': array([[2036584, 2046584],\n",
       "        [2096585, 2106585],\n",
       "        [2151586, 2161586],\n",
       "        [2216587, 2226587],\n",
       "        [2271587, 2281587],\n",
       "        [2321588, 2331588],\n",
       "        [2371589, 2381589],\n",
       "        [2476590, 2486590],\n",
       "        [2596591, 2606592],\n",
       "        [2716593, 2726593],\n",
       "        [2826594, 2836595],\n",
       "        [2911595, 2921596],\n",
       "        [3031597, 3041597],\n",
       "        [3091598, 3101598],\n",
       "        [3156599, 3166599],\n",
       "        [3216599, 3226600],\n",
       "        [3291600, 3301601],\n",
       "        [3391602, 3401602],\n",
       "        [3486603, 3496603],\n",
       "        [3536603, 3546604]], dtype=int64),\n",
       " 'tie': array([], dtype=int64)}"
      ]
     },
     "execution_count": 50,
     "metadata": {},
     "output_type": "execute_result"
    }
   ],
   "source": [
    "recordings = spike_analysis.ephyscollection.collection\n",
    "recording_name = '20230622_110832_standard_comp_to_both_rewarded_D1_subj_1-1_t1b3L_box1_merged.rec'\n",
    "recording1 = recordings.get(recording_name)\n",
    "recording1.event_dict"
   ]
  },
  {
   "cell_type": "code",
   "execution_count": 51,
   "id": "a7dd540e-35f4-462e-83c5-c13a7a726785",
   "metadata": {
    "execution": {
     "iopub.execute_input": "2024-06-12T16:50:59.791278Z",
     "iopub.status.busy": "2024-06-12T16:50:59.789280Z",
     "iopub.status.idle": "2024-06-12T16:50:59.818853Z",
     "shell.execute_reply": "2024-06-12T16:50:59.813289Z",
     "shell.execute_reply.started": "2024-06-12T16:50:59.791278Z"
    }
   },
   "outputs": [
    {
     "data": {
      "text/plain": [
       "3589"
      ]
     },
     "execution_count": 51,
     "metadata": {},
     "output_type": "execute_result"
    }
   ],
   "source": [
    "71790 // 20"
   ]
  },
  {
   "cell_type": "code",
   "execution_count": 52,
   "id": "b6b07278-d202-4e9c-8342-d86de4f4ef3c",
   "metadata": {
    "execution": {
     "iopub.execute_input": "2024-06-12T16:50:59.826857Z",
     "iopub.status.busy": "2024-06-12T16:50:59.824851Z",
     "iopub.status.idle": "2024-06-12T16:50:59.999961Z",
     "shell.execute_reply": "2024-06-12T16:50:59.996640Z",
     "shell.execute_reply.started": "2024-06-12T16:50:59.826857Z"
    }
   },
   "outputs": [
    {
     "data": {
      "text/html": [
       "<div>\n",
       "<style scoped>\n",
       "    .dataframe tbody tr th:only-of-type {\n",
       "        vertical-align: middle;\n",
       "    }\n",
       "\n",
       "    .dataframe tbody tr th {\n",
       "        vertical-align: top;\n",
       "    }\n",
       "\n",
       "    .dataframe thead th {\n",
       "        text-align: right;\n",
       "    }\n",
       "</style>\n",
       "<table border=\"1\" class=\"dataframe\">\n",
       "  <thead>\n",
       "    <tr style=\"text-align: right;\">\n",
       "      <th></th>\n",
       "      <th>session_dir</th>\n",
       "      <th>subject</th>\n",
       "      <th>subj_recording</th>\n",
       "      <th>condition</th>\n",
       "      <th>tone_start_timestamp</th>\n",
       "      <th>tone_stop_timestamp</th>\n",
       "    </tr>\n",
       "  </thead>\n",
       "  <tbody>\n",
       "    <tr>\n",
       "      <th>0</th>\n",
       "      <td>20230612_101430_standard_comp_to_training_D1_s...</td>\n",
       "      <td>1.3</td>\n",
       "      <td>20230612_101430_standard_comp_to_training_D1_s...</td>\n",
       "      <td>lose</td>\n",
       "      <td>982229.0</td>\n",
       "      <td>1182226.0</td>\n",
       "    </tr>\n",
       "    <tr>\n",
       "      <th>1</th>\n",
       "      <td>20230612_101430_standard_comp_to_training_D1_s...</td>\n",
       "      <td>1.4</td>\n",
       "      <td>20230612_101430_standard_comp_to_training_D1_s...</td>\n",
       "      <td>win</td>\n",
       "      <td>982229.0</td>\n",
       "      <td>1182226.0</td>\n",
       "    </tr>\n",
       "    <tr>\n",
       "      <th>2</th>\n",
       "      <td>20230612_101430_standard_comp_to_training_D1_s...</td>\n",
       "      <td>1.3</td>\n",
       "      <td>20230612_101430_standard_comp_to_training_D1_s...</td>\n",
       "      <td>win</td>\n",
       "      <td>3382227.0</td>\n",
       "      <td>3582224.0</td>\n",
       "    </tr>\n",
       "    <tr>\n",
       "      <th>3</th>\n",
       "      <td>20230612_101430_standard_comp_to_training_D1_s...</td>\n",
       "      <td>1.4</td>\n",
       "      <td>20230612_101430_standard_comp_to_training_D1_s...</td>\n",
       "      <td>lose</td>\n",
       "      <td>3382227.0</td>\n",
       "      <td>3582224.0</td>\n",
       "    </tr>\n",
       "    <tr>\n",
       "      <th>4</th>\n",
       "      <td>20230612_101430_standard_comp_to_training_D1_s...</td>\n",
       "      <td>1.3</td>\n",
       "      <td>20230612_101430_standard_comp_to_training_D1_s...</td>\n",
       "      <td>lose</td>\n",
       "      <td>5682225.0</td>\n",
       "      <td>5882222.0</td>\n",
       "    </tr>\n",
       "    <tr>\n",
       "      <th>...</th>\n",
       "      <td>...</td>\n",
       "      <td>...</td>\n",
       "      <td>...</td>\n",
       "      <td>...</td>\n",
       "      <td>...</td>\n",
       "      <td>...</td>\n",
       "    </tr>\n",
       "    <tr>\n",
       "      <th>1267</th>\n",
       "      <td>20230625_112913_standard_comp_to_both_rewarded...</td>\n",
       "      <td>1.4</td>\n",
       "      <td>20230625_112913_standard_comp_to_both_rewarded...</td>\n",
       "      <td>both_rewarded</td>\n",
       "      <td>67804057.0</td>\n",
       "      <td>68004058.0</td>\n",
       "    </tr>\n",
       "    <tr>\n",
       "      <th>1268</th>\n",
       "      <td>20230625_112913_standard_comp_to_both_rewarded...</td>\n",
       "      <td>1.1</td>\n",
       "      <td>20230625_112913_standard_comp_to_both_rewarded...</td>\n",
       "      <td>both_rewarded</td>\n",
       "      <td>69704075.0</td>\n",
       "      <td>69904080.0</td>\n",
       "    </tr>\n",
       "    <tr>\n",
       "      <th>1269</th>\n",
       "      <td>20230625_112913_standard_comp_to_both_rewarded...</td>\n",
       "      <td>1.4</td>\n",
       "      <td>20230625_112913_standard_comp_to_both_rewarded...</td>\n",
       "      <td>both_rewarded</td>\n",
       "      <td>69704075.0</td>\n",
       "      <td>69904080.0</td>\n",
       "    </tr>\n",
       "    <tr>\n",
       "      <th>1270</th>\n",
       "      <td>20230625_112913_standard_comp_to_both_rewarded...</td>\n",
       "      <td>1.1</td>\n",
       "      <td>20230625_112913_standard_comp_to_both_rewarded...</td>\n",
       "      <td>both_rewarded</td>\n",
       "      <td>70704093.0</td>\n",
       "      <td>70904092.0</td>\n",
       "    </tr>\n",
       "    <tr>\n",
       "      <th>1271</th>\n",
       "      <td>20230625_112913_standard_comp_to_both_rewarded...</td>\n",
       "      <td>1.4</td>\n",
       "      <td>20230625_112913_standard_comp_to_both_rewarded...</td>\n",
       "      <td>both_rewarded</td>\n",
       "      <td>70704093.0</td>\n",
       "      <td>70904092.0</td>\n",
       "    </tr>\n",
       "  </tbody>\n",
       "</table>\n",
       "<p>960 rows × 6 columns</p>\n",
       "</div>"
      ],
      "text/plain": [
       "                                            session_dir subject  \\\n",
       "0     20230612_101430_standard_comp_to_training_D1_s...     1.3   \n",
       "1     20230612_101430_standard_comp_to_training_D1_s...     1.4   \n",
       "2     20230612_101430_standard_comp_to_training_D1_s...     1.3   \n",
       "3     20230612_101430_standard_comp_to_training_D1_s...     1.4   \n",
       "4     20230612_101430_standard_comp_to_training_D1_s...     1.3   \n",
       "...                                                 ...     ...   \n",
       "1267  20230625_112913_standard_comp_to_both_rewarded...     1.4   \n",
       "1268  20230625_112913_standard_comp_to_both_rewarded...     1.1   \n",
       "1269  20230625_112913_standard_comp_to_both_rewarded...     1.4   \n",
       "1270  20230625_112913_standard_comp_to_both_rewarded...     1.1   \n",
       "1271  20230625_112913_standard_comp_to_both_rewarded...     1.4   \n",
       "\n",
       "                                         subj_recording      condition  \\\n",
       "0     20230612_101430_standard_comp_to_training_D1_s...           lose   \n",
       "1     20230612_101430_standard_comp_to_training_D1_s...            win   \n",
       "2     20230612_101430_standard_comp_to_training_D1_s...            win   \n",
       "3     20230612_101430_standard_comp_to_training_D1_s...           lose   \n",
       "4     20230612_101430_standard_comp_to_training_D1_s...           lose   \n",
       "...                                                 ...            ...   \n",
       "1267  20230625_112913_standard_comp_to_both_rewarded...  both_rewarded   \n",
       "1268  20230625_112913_standard_comp_to_both_rewarded...  both_rewarded   \n",
       "1269  20230625_112913_standard_comp_to_both_rewarded...  both_rewarded   \n",
       "1270  20230625_112913_standard_comp_to_both_rewarded...  both_rewarded   \n",
       "1271  20230625_112913_standard_comp_to_both_rewarded...  both_rewarded   \n",
       "\n",
       "      tone_start_timestamp  tone_stop_timestamp  \n",
       "0                 982229.0            1182226.0  \n",
       "1                 982229.0            1182226.0  \n",
       "2                3382227.0            3582224.0  \n",
       "3                3382227.0            3582224.0  \n",
       "4                5682225.0            5882222.0  \n",
       "...                    ...                  ...  \n",
       "1267            67804057.0           68004058.0  \n",
       "1268            69704075.0           69904080.0  \n",
       "1269            69704075.0           69904080.0  \n",
       "1270            70704093.0           70904092.0  \n",
       "1271            70704093.0           70904092.0  \n",
       "\n",
       "[960 rows x 6 columns]"
      ]
     },
     "execution_count": 52,
     "metadata": {},
     "output_type": "execute_result"
    }
   ],
   "source": [
    "new_df"
   ]
  },
  {
   "cell_type": "code",
   "execution_count": 53,
   "id": "22d47730-7277-42ef-9114-6738cda3013b",
   "metadata": {
    "execution": {
     "iopub.execute_input": "2024-06-12T16:51:00.006973Z",
     "iopub.status.busy": "2024-06-12T16:51:00.004971Z",
     "iopub.status.idle": "2024-06-12T16:51:00.050989Z",
     "shell.execute_reply": "2024-06-12T16:51:00.046360Z",
     "shell.execute_reply.started": "2024-06-12T16:51:00.005969Z"
    }
   },
   "outputs": [],
   "source": [
    "new_df2 = new_df[new_df['session_dir'] == '20230622_110832_standard_comp_to_both_rewarded_D1_subj_1-1_and_1-2']"
   ]
  },
  {
   "cell_type": "code",
   "execution_count": 54,
   "id": "f1765e47-1d9b-4f1c-9289-c606e8e8e462",
   "metadata": {
    "execution": {
     "iopub.execute_input": "2024-06-12T16:51:00.059023Z",
     "iopub.status.busy": "2024-06-12T16:51:00.056012Z",
     "iopub.status.idle": "2024-06-12T16:51:00.121816Z",
     "shell.execute_reply": "2024-06-12T16:51:00.116637Z",
     "shell.execute_reply.started": "2024-06-12T16:51:00.059023Z"
    }
   },
   "outputs": [
    {
     "data": {
      "text/html": [
       "<div>\n",
       "<style scoped>\n",
       "    .dataframe tbody tr th:only-of-type {\n",
       "        vertical-align: middle;\n",
       "    }\n",
       "\n",
       "    .dataframe tbody tr th {\n",
       "        vertical-align: top;\n",
       "    }\n",
       "\n",
       "    .dataframe thead th {\n",
       "        text-align: right;\n",
       "    }\n",
       "</style>\n",
       "<table border=\"1\" class=\"dataframe\">\n",
       "  <thead>\n",
       "    <tr style=\"text-align: right;\">\n",
       "      <th></th>\n",
       "      <th>session_dir</th>\n",
       "      <th>subject</th>\n",
       "      <th>subj_recording</th>\n",
       "      <th>condition</th>\n",
       "      <th>tone_start_timestamp</th>\n",
       "      <th>tone_stop_timestamp</th>\n",
       "    </tr>\n",
       "  </thead>\n",
       "  <tbody>\n",
       "    <tr>\n",
       "      <th>1032</th>\n",
       "      <td>20230622_110832_standard_comp_to_both_rewarded...</td>\n",
       "      <td>1.1</td>\n",
       "      <td>20230622_110832_standard_comp_to_both_rewarded...</td>\n",
       "      <td>lose</td>\n",
       "      <td>1131200.0</td>\n",
       "      <td>1331202.0</td>\n",
       "    </tr>\n",
       "    <tr>\n",
       "      <th>1033</th>\n",
       "      <td>20230622_110832_standard_comp_to_both_rewarded...</td>\n",
       "      <td>1.2</td>\n",
       "      <td>20230622_110832_standard_comp_to_both_rewarded...</td>\n",
       "      <td>win</td>\n",
       "      <td>1131200.0</td>\n",
       "      <td>1331202.0</td>\n",
       "    </tr>\n",
       "    <tr>\n",
       "      <th>1034</th>\n",
       "      <td>20230622_110832_standard_comp_to_both_rewarded...</td>\n",
       "      <td>1.1</td>\n",
       "      <td>20230622_110832_standard_comp_to_both_rewarded...</td>\n",
       "      <td>lose</td>\n",
       "      <td>3531230.0</td>\n",
       "      <td>3731233.0</td>\n",
       "    </tr>\n",
       "    <tr>\n",
       "      <th>1035</th>\n",
       "      <td>20230622_110832_standard_comp_to_both_rewarded...</td>\n",
       "      <td>1.2</td>\n",
       "      <td>20230622_110832_standard_comp_to_both_rewarded...</td>\n",
       "      <td>win</td>\n",
       "      <td>3531230.0</td>\n",
       "      <td>3731233.0</td>\n",
       "    </tr>\n",
       "    <tr>\n",
       "      <th>1036</th>\n",
       "      <td>20230622_110832_standard_comp_to_both_rewarded...</td>\n",
       "      <td>1.1</td>\n",
       "      <td>20230622_110832_standard_comp_to_both_rewarded...</td>\n",
       "      <td>lose</td>\n",
       "      <td>5831259.0</td>\n",
       "      <td>6031261.0</td>\n",
       "    </tr>\n",
       "    <tr>\n",
       "      <th>...</th>\n",
       "      <td>...</td>\n",
       "      <td>...</td>\n",
       "      <td>...</td>\n",
       "      <td>...</td>\n",
       "      <td>...</td>\n",
       "      <td>...</td>\n",
       "    </tr>\n",
       "    <tr>\n",
       "      <th>1107</th>\n",
       "      <td>20230622_110832_standard_comp_to_both_rewarded...</td>\n",
       "      <td>1.2</td>\n",
       "      <td>20230622_110832_standard_comp_to_both_rewarded...</td>\n",
       "      <td>both_rewarded</td>\n",
       "      <td>67832040.0</td>\n",
       "      <td>68032042.0</td>\n",
       "    </tr>\n",
       "    <tr>\n",
       "      <th>1108</th>\n",
       "      <td>20230622_110832_standard_comp_to_both_rewarded...</td>\n",
       "      <td>1.1</td>\n",
       "      <td>20230622_110832_standard_comp_to_both_rewarded...</td>\n",
       "      <td>both_rewarded</td>\n",
       "      <td>69732064.0</td>\n",
       "      <td>69932067.0</td>\n",
       "    </tr>\n",
       "    <tr>\n",
       "      <th>1109</th>\n",
       "      <td>20230622_110832_standard_comp_to_both_rewarded...</td>\n",
       "      <td>1.2</td>\n",
       "      <td>20230622_110832_standard_comp_to_both_rewarded...</td>\n",
       "      <td>both_rewarded</td>\n",
       "      <td>69732064.0</td>\n",
       "      <td>69932067.0</td>\n",
       "    </tr>\n",
       "    <tr>\n",
       "      <th>1110</th>\n",
       "      <td>20230622_110832_standard_comp_to_both_rewarded...</td>\n",
       "      <td>1.1</td>\n",
       "      <td>20230622_110832_standard_comp_to_both_rewarded...</td>\n",
       "      <td>both_rewarded</td>\n",
       "      <td>70732077.0</td>\n",
       "      <td>70932082.0</td>\n",
       "    </tr>\n",
       "    <tr>\n",
       "      <th>1111</th>\n",
       "      <td>20230622_110832_standard_comp_to_both_rewarded...</td>\n",
       "      <td>1.2</td>\n",
       "      <td>20230622_110832_standard_comp_to_both_rewarded...</td>\n",
       "      <td>both_rewarded</td>\n",
       "      <td>70732077.0</td>\n",
       "      <td>70932082.0</td>\n",
       "    </tr>\n",
       "  </tbody>\n",
       "</table>\n",
       "<p>80 rows × 6 columns</p>\n",
       "</div>"
      ],
      "text/plain": [
       "                                            session_dir subject  \\\n",
       "1032  20230622_110832_standard_comp_to_both_rewarded...     1.1   \n",
       "1033  20230622_110832_standard_comp_to_both_rewarded...     1.2   \n",
       "1034  20230622_110832_standard_comp_to_both_rewarded...     1.1   \n",
       "1035  20230622_110832_standard_comp_to_both_rewarded...     1.2   \n",
       "1036  20230622_110832_standard_comp_to_both_rewarded...     1.1   \n",
       "...                                                 ...     ...   \n",
       "1107  20230622_110832_standard_comp_to_both_rewarded...     1.2   \n",
       "1108  20230622_110832_standard_comp_to_both_rewarded...     1.1   \n",
       "1109  20230622_110832_standard_comp_to_both_rewarded...     1.2   \n",
       "1110  20230622_110832_standard_comp_to_both_rewarded...     1.1   \n",
       "1111  20230622_110832_standard_comp_to_both_rewarded...     1.2   \n",
       "\n",
       "                                         subj_recording      condition  \\\n",
       "1032  20230622_110832_standard_comp_to_both_rewarded...           lose   \n",
       "1033  20230622_110832_standard_comp_to_both_rewarded...            win   \n",
       "1034  20230622_110832_standard_comp_to_both_rewarded...           lose   \n",
       "1035  20230622_110832_standard_comp_to_both_rewarded...            win   \n",
       "1036  20230622_110832_standard_comp_to_both_rewarded...           lose   \n",
       "...                                                 ...            ...   \n",
       "1107  20230622_110832_standard_comp_to_both_rewarded...  both_rewarded   \n",
       "1108  20230622_110832_standard_comp_to_both_rewarded...  both_rewarded   \n",
       "1109  20230622_110832_standard_comp_to_both_rewarded...  both_rewarded   \n",
       "1110  20230622_110832_standard_comp_to_both_rewarded...  both_rewarded   \n",
       "1111  20230622_110832_standard_comp_to_both_rewarded...  both_rewarded   \n",
       "\n",
       "      tone_start_timestamp  tone_stop_timestamp  \n",
       "1032             1131200.0            1331202.0  \n",
       "1033             1131200.0            1331202.0  \n",
       "1034             3531230.0            3731233.0  \n",
       "1035             3531230.0            3731233.0  \n",
       "1036             5831259.0            6031261.0  \n",
       "...                    ...                  ...  \n",
       "1107            67832040.0           68032042.0  \n",
       "1108            69732064.0           69932067.0  \n",
       "1109            69732064.0           69932067.0  \n",
       "1110            70732077.0           70932082.0  \n",
       "1111            70732077.0           70932082.0  \n",
       "\n",
       "[80 rows x 6 columns]"
      ]
     },
     "execution_count": 54,
     "metadata": {},
     "output_type": "execute_result"
    }
   ],
   "source": [
    "new_df2"
   ]
  },
  {
   "cell_type": "code",
   "execution_count": 55,
   "id": "9cf77975-3d12-4071-8a46-656406bc4b78",
   "metadata": {
    "execution": {
     "iopub.execute_input": "2024-06-12T16:51:01.112289Z",
     "iopub.status.busy": "2024-06-12T16:51:01.111276Z",
     "iopub.status.idle": "2024-06-12T16:51:01.149801Z",
     "shell.execute_reply": "2024-06-12T16:51:01.145455Z",
     "shell.execute_reply.started": "2024-06-12T16:51:01.112289Z"
    }
   },
   "outputs": [
    {
     "data": {
      "text/plain": [
       "3536603"
      ]
     },
     "execution_count": 55,
     "metadata": {},
     "output_type": "execute_result"
    }
   ],
   "source": [
    "70732077 // 20"
   ]
  },
  {
   "cell_type": "code",
   "execution_count": 56,
   "id": "53a4286f-3841-4fc9-bd66-dbc9be903321",
   "metadata": {
    "execution": {
     "iopub.execute_input": "2024-06-12T16:51:01.157357Z",
     "iopub.status.busy": "2024-06-12T16:51:01.156357Z",
     "iopub.status.idle": "2024-06-12T16:51:01.185515Z",
     "shell.execute_reply": "2024-06-12T16:51:01.178645Z",
     "shell.execute_reply.started": "2024-06-12T16:51:01.157357Z"
    }
   },
   "outputs": [
    {
     "data": {
      "text/plain": [
       "3367383"
      ]
     },
     "execution_count": 56,
     "metadata": {},
     "output_type": "execute_result"
    }
   ],
   "source": [
    "len(recording1.unit_spiketrains[9])"
   ]
  },
  {
   "cell_type": "code",
   "execution_count": 57,
   "id": "a0152775-dcdb-4f93-b33f-6cec2b86ea51",
   "metadata": {
    "execution": {
     "iopub.execute_input": "2024-06-12T16:51:01.192531Z",
     "iopub.status.busy": "2024-06-12T16:51:01.190529Z",
     "iopub.status.idle": "2024-06-12T16:52:29.991074Z",
     "shell.execute_reply": "2024-06-12T16:52:29.887873Z",
     "shell.execute_reply.started": "2024-06-12T16:51:01.191524Z"
    }
   },
   "outputs": [
    {
     "name": "stdout",
     "output_type": "stream",
     "text": [
      "All set to analyze\n"
     ]
    }
   ],
   "source": [
    "spike_analysis = spike.SpikeAnalysis_MultiRecording(ephys_data, timebin = 1, ignore_freq = 0.5)"
   ]
  },
  {
   "cell_type": "code",
   "execution_count": 58,
   "id": "b0b65670-9b70-422b-a180-318cedfc24e3",
   "metadata": {
    "execution": {
     "iopub.execute_input": "2024-06-12T16:52:30.160745Z",
     "iopub.status.busy": "2024-06-12T16:52:30.147054Z",
     "iopub.status.idle": "2024-06-12T16:52:30.545509Z",
     "shell.execute_reply": "2024-06-12T16:52:30.536400Z",
     "shell.execute_reply.started": "2024-06-12T16:52:30.159746Z"
    }
   },
   "outputs": [
    {
     "data": {
      "text/plain": [
       "3367383"
      ]
     },
     "execution_count": 58,
     "metadata": {},
     "output_type": "execute_result"
    }
   ],
   "source": [
    "recordings = spike_analysis.ephyscollection.collection\n",
    "recording_name = '20230622_110832_standard_comp_to_both_rewarded_D1_subj_1-1_t1b3L_box1_merged.rec'\n",
    "recording1 = recordings.get(recording_name)\n",
    "len(recording1.unit_spiketrains[9])"
   ]
  },
  {
   "cell_type": "code",
   "execution_count": 59,
   "id": "c2694eb1-f29f-47ed-a398-6d04a7e2a39b",
   "metadata": {
    "execution": {
     "iopub.execute_input": "2024-06-12T16:52:30.571618Z",
     "iopub.status.busy": "2024-06-12T16:52:30.568291Z",
     "iopub.status.idle": "2024-06-12T16:52:30.751146Z",
     "shell.execute_reply": "2024-06-12T16:52:30.737120Z",
     "shell.execute_reply.started": "2024-06-12T16:52:30.571618Z"
    }
   },
   "outputs": [
    {
     "data": {
      "text/plain": [
       "3602641"
      ]
     },
     "execution_count": 59,
     "metadata": {},
     "output_type": "execute_result"
    }
   ],
   "source": [
    "recording_name2 = '20230622_110832_standard_comp_to_both_rewarded_D1_subj_1-2_t3b3L_box1_merged.rec'\n",
    "recording2 = recordings.get(recording_name2)\n",
    "len(recording2.unit_spiketrains[21])"
   ]
  },
  {
   "cell_type": "code",
   "execution_count": 60,
   "id": "a22c4a10-301d-47cf-9f93-fd383f7c9cd5",
   "metadata": {
    "execution": {
     "iopub.execute_input": "2024-06-12T16:52:30.768448Z",
     "iopub.status.busy": "2024-06-12T16:52:30.766447Z",
     "iopub.status.idle": "2024-06-12T16:53:07.218636Z",
     "shell.execute_reply": "2024-06-12T16:53:07.215637Z",
     "shell.execute_reply.started": "2024-06-12T16:52:30.768448Z"
    }
   },
   "outputs": [
    {
     "name": "stdout",
     "output_type": "stream",
     "text": [
      "<class 'numpy.ndarray'>\n",
      "20230612_101430_standard_comp_to_training_D1_subj_1-3_t3b3L_box2_merged.rec\n",
      "<class 'numpy.ndarray'>\n",
      "20230617_115521_standard_comp_to_omission_D1_subj_1-1_t1b3L_box1_merged.rec\n",
      "<class 'numpy.ndarray'>\n",
      "Unit 92 is unsorted & has 2494 spikes\n",
      "Unit 92 will be deleted\n",
      "20230622_110832_standard_comp_to_both_rewarded_D1_subj_1-1_t1b3L_box1_merged.rec\n",
      "<class 'numpy.ndarray'>\n",
      "Unit 103 is unsorted & has 512 spikes\n",
      "Unit 103 will be deleted\n",
      "20230622_110832_standard_comp_to_both_rewarded_D1_subj_1-2_t3b3L_box1_merged.rec\n",
      "Please assign event dictionaries to each recording\n",
      "as recording.event_dict\n",
      "event_dict = {event name(str): np.array[[start(ms), stop(ms)]...]\n",
      "Please assign subjects to each recording as recording.subject\n"
     ]
    }
   ],
   "source": [
    "import multirecording_spikeanalysis_edit2 as spike\n",
    "\n",
    "# It takes several steps to create the timestamp_dicts, refer to Ephys_Analysis_Notebook to create\n",
    "timestamp_dicts = pickle.load(open('timestamp_dicts.pkl', 'rb'))\n",
    "\n",
    "# Construct the path in a platform-independent way (HiPerGator or Windows)\n",
    "ephys_path = Path('.') / 'recordings' / 'updated_phys' / 'test'\n",
    "\n",
    "ephys_data = spike.EphysRecordingCollection(str(ephys_path))"
   ]
  },
  {
   "cell_type": "code",
   "execution_count": 61,
   "id": "b8efa42d-8d7a-44d7-8343-9f26b2e35b3f",
   "metadata": {
    "execution": {
     "iopub.execute_input": "2024-06-12T16:53:07.225635Z",
     "iopub.status.busy": "2024-06-12T16:53:07.224639Z",
     "iopub.status.idle": "2024-06-12T16:53:08.298650Z",
     "shell.execute_reply": "2024-06-12T16:53:08.296656Z",
     "shell.execute_reply.started": "2024-06-12T16:53:07.225635Z"
    }
   },
   "outputs": [
    {
     "name": "stdout",
     "output_type": "stream",
     "text": [
      "All set to analyze\n"
     ]
    }
   ],
   "source": [
    "for recording in ephys_data.collection.keys():\n",
    "    # Check if the recording key (without everything after subject #) is in timestamp_dicts\n",
    "    start_pos = recording.find('subj_')\n",
    "    # Add the length of 'subj_' and 3 additional characters to include after 'subj_'\n",
    "    end_pos = start_pos + len('subj_') + 3\n",
    "    # Slice the recording key to get everything up to and including the subject identifier plus three characters\n",
    "    recording_key_without_suffix = recording[:end_pos]\n",
    "    if recording_key_without_suffix in timestamp_dicts:\n",
    "        # Assign the corresponding timestamp_dicts dictionary to event_dict\n",
    "        ephys_data.collection[recording].event_dict = timestamp_dicts[recording_key_without_suffix]\n",
    "        \n",
    "        # Extract the subject from the recording key\n",
    "        start = recording.find('subj_') + 5  # Start index after 'subj_'\n",
    "        subject = recording[start:start+3]\n",
    "        \n",
    "        # Assign the extracted subject\n",
    "        ephys_data.collection[recording].subject = subject\n",
    "        \n",
    "spike_analysis = spike.SpikeAnalysis_MultiRecording(ephys_data, timebin = 100, ignore_freq = 0.5)"
   ]
  },
  {
   "cell_type": "code",
   "execution_count": 62,
   "id": "7d288105-0836-4b70-938f-1ffc9d49d63e",
   "metadata": {
    "execution": {
     "iopub.execute_input": "2024-06-12T16:53:08.301652Z",
     "iopub.status.busy": "2024-06-12T16:53:08.301652Z",
     "iopub.status.idle": "2024-06-12T16:53:35.914300Z",
     "shell.execute_reply": "2024-06-12T16:53:35.906304Z",
     "shell.execute_reply.started": "2024-06-12T16:53:08.301652Z"
    }
   },
   "outputs": [
    {
     "name": "stdout",
     "output_type": "stream",
     "text": [
      "<class 'numpy.ndarray'>\n",
      "20230612_101430_standard_comp_to_training_D1_subj_1-3_t3b3L_box2_merged.rec\n",
      "<class 'numpy.ndarray'>\n",
      "20230617_115521_standard_comp_to_omission_D1_subj_1-1_t1b3L_box1_merged.rec\n",
      "<class 'numpy.ndarray'>\n",
      "Unit 92 is unsorted & has 2494 spikes\n",
      "Unit 92 will be deleted\n",
      "20230622_110832_standard_comp_to_both_rewarded_D1_subj_1-1_t1b3L_box1_merged.rec\n",
      "<class 'numpy.ndarray'>\n",
      "Unit 103 is unsorted & has 512 spikes\n",
      "Unit 103 will be deleted\n",
      "20230622_110832_standard_comp_to_both_rewarded_D1_subj_1-2_t3b3L_box1_merged.rec\n",
      "Please assign event dictionaries to each recording\n",
      "as recording.event_dict\n",
      "event_dict = {event name(str): np.array[[start(ms), stop(ms)]...]\n",
      "Please assign subjects to each recording as recording.subject\n"
     ]
    }
   ],
   "source": [
    "import multirecording_spikeanalysis_edit as spike\n",
    "\n",
    "# It takes several steps to create the timestamp_dicts, refer to Ephys_Analysis_Notebook to create\n",
    "timestamp_dicts = pickle.load(open('timestamp_dicts.pkl', 'rb'))\n",
    "\n",
    "# Construct the path in a platform-independent way (HiPerGator or Windows)\n",
    "ephys_path = Path('.') / 'recordings' / 'updated_phys' / 'test'\n",
    "\n",
    "ephys_data = spike.EphysRecordingCollection(str(ephys_path))"
   ]
  },
  {
   "cell_type": "code",
   "execution_count": 63,
   "id": "3d24b1d2-4923-4ce7-968c-11d6ffb169fb",
   "metadata": {
    "execution": {
     "iopub.execute_input": "2024-06-12T16:53:35.924314Z",
     "iopub.status.busy": "2024-06-12T16:53:35.922303Z",
     "iopub.status.idle": "2024-06-12T16:53:37.416286Z",
     "shell.execute_reply": "2024-06-12T16:53:37.414286Z",
     "shell.execute_reply.started": "2024-06-12T16:53:35.924314Z"
    }
   },
   "outputs": [
    {
     "name": "stdout",
     "output_type": "stream",
     "text": [
      "All set to analyze\n"
     ]
    }
   ],
   "source": [
    "for recording in ephys_data.collection.keys():\n",
    "    # Check if the recording key (without everything after subject #) is in timestamp_dicts\n",
    "    start_pos = recording.find('subj_')\n",
    "    # Add the length of 'subj_' and 3 additional characters to include after 'subj_'\n",
    "    end_pos = start_pos + len('subj_') + 3\n",
    "    # Slice the recording key to get everything up to and including the subject identifier plus three characters\n",
    "    recording_key_without_suffix = recording[:end_pos]\n",
    "    if recording_key_without_suffix in timestamp_dicts:\n",
    "        # Assign the corresponding timestamp_dicts dictionary to event_dict\n",
    "        ephys_data.collection[recording].event_dict = timestamp_dicts[recording_key_without_suffix]\n",
    "        \n",
    "        # Extract the subject from the recording key\n",
    "        start = recording.find('subj_') + 5  # Start index after 'subj_'\n",
    "        subject = recording[start:start+3]\n",
    "        \n",
    "        # Assign the extracted subject\n",
    "        ephys_data.collection[recording].subject = subject\n",
    "        \n",
    "spike_analysis = spike.SpikeAnalysis_MultiRecording(ephys_data, timebin = 100, smoothing_window=250, ignore_freq = 0.5)"
   ]
  },
  {
   "cell_type": "code",
   "execution_count": 64,
   "id": "f2024222-93e3-4ad5-9a95-875e1807f2aa",
   "metadata": {
    "execution": {
     "iopub.execute_input": "2024-06-12T16:53:37.420288Z",
     "iopub.status.busy": "2024-06-12T16:53:37.419287Z",
     "iopub.status.idle": "2024-06-12T16:53:38.288807Z",
     "shell.execute_reply": "2024-06-12T16:53:38.286811Z",
     "shell.execute_reply.started": "2024-06-12T16:53:37.420288Z"
    }
   },
   "outputs": [],
   "source": [
    "event_df = spike_analysis.generate_event_dataframe(equalize=10)"
   ]
  },
  {
   "cell_type": "code",
   "execution_count": 65,
   "id": "dabbc11a-9516-42b3-b7d8-a43a0fa7df88",
   "metadata": {
    "execution": {
     "iopub.execute_input": "2024-06-12T16:53:38.295812Z",
     "iopub.status.busy": "2024-06-12T16:53:38.293809Z",
     "iopub.status.idle": "2024-06-12T16:53:38.462938Z",
     "shell.execute_reply": "2024-06-12T16:53:38.458934Z",
     "shell.execute_reply.started": "2024-06-12T16:53:38.295812Z"
    }
   },
   "outputs": [
    {
     "data": {
      "text/html": [
       "<div>\n",
       "<style scoped>\n",
       "    .dataframe tbody tr th:only-of-type {\n",
       "        vertical-align: middle;\n",
       "    }\n",
       "\n",
       "    .dataframe tbody tr th {\n",
       "        vertical-align: top;\n",
       "    }\n",
       "\n",
       "    .dataframe thead th {\n",
       "        text-align: right;\n",
       "    }\n",
       "</style>\n",
       "<table border=\"1\" class=\"dataframe\">\n",
       "  <thead>\n",
       "    <tr style=\"text-align: right;\">\n",
       "      <th></th>\n",
       "      <th>Recording</th>\n",
       "      <th>Event name</th>\n",
       "      <th>Event number</th>\n",
       "      <th>Unit number</th>\n",
       "      <th>Pre-event timebin 1</th>\n",
       "      <th>Pre-event timebin 2</th>\n",
       "      <th>Pre-event timebin 3</th>\n",
       "      <th>Pre-event timebin 4</th>\n",
       "      <th>Pre-event timebin 5</th>\n",
       "      <th>Pre-event timebin 6</th>\n",
       "      <th>...</th>\n",
       "      <th>Event timebin 91</th>\n",
       "      <th>Event timebin 92</th>\n",
       "      <th>Event timebin 93</th>\n",
       "      <th>Event timebin 94</th>\n",
       "      <th>Event timebin 95</th>\n",
       "      <th>Event timebin 96</th>\n",
       "      <th>Event timebin 97</th>\n",
       "      <th>Event timebin 98</th>\n",
       "      <th>Event timebin 99</th>\n",
       "      <th>Event timebin 100</th>\n",
       "    </tr>\n",
       "  </thead>\n",
       "  <tbody>\n",
       "    <tr>\n",
       "      <th>0</th>\n",
       "      <td>20230612_101430_standard_comp_to_training_D1_s...</td>\n",
       "      <td>rewarded</td>\n",
       "      <td>1</td>\n",
       "      <td>85</td>\n",
       "      <td>0.0</td>\n",
       "      <td>0.0</td>\n",
       "      <td>0.0</td>\n",
       "      <td>0.0</td>\n",
       "      <td>0.0</td>\n",
       "      <td>0.0</td>\n",
       "      <td>...</td>\n",
       "      <td>0.0</td>\n",
       "      <td>0.0</td>\n",
       "      <td>0.0</td>\n",
       "      <td>0.0</td>\n",
       "      <td>0.0</td>\n",
       "      <td>0.0</td>\n",
       "      <td>0.0</td>\n",
       "      <td>0.0</td>\n",
       "      <td>0.0</td>\n",
       "      <td>0.0</td>\n",
       "    </tr>\n",
       "    <tr>\n",
       "      <th>1</th>\n",
       "      <td>20230612_101430_standard_comp_to_training_D1_s...</td>\n",
       "      <td>rewarded</td>\n",
       "      <td>2</td>\n",
       "      <td>85</td>\n",
       "      <td>0.0</td>\n",
       "      <td>0.0</td>\n",
       "      <td>0.0</td>\n",
       "      <td>0.0</td>\n",
       "      <td>0.0</td>\n",
       "      <td>0.0</td>\n",
       "      <td>...</td>\n",
       "      <td>0.0</td>\n",
       "      <td>0.0</td>\n",
       "      <td>0.0</td>\n",
       "      <td>0.0</td>\n",
       "      <td>0.0</td>\n",
       "      <td>0.0</td>\n",
       "      <td>0.0</td>\n",
       "      <td>0.0</td>\n",
       "      <td>0.0</td>\n",
       "      <td>0.0</td>\n",
       "    </tr>\n",
       "    <tr>\n",
       "      <th>2</th>\n",
       "      <td>20230612_101430_standard_comp_to_training_D1_s...</td>\n",
       "      <td>rewarded</td>\n",
       "      <td>3</td>\n",
       "      <td>85</td>\n",
       "      <td>0.0</td>\n",
       "      <td>0.0</td>\n",
       "      <td>0.0</td>\n",
       "      <td>0.0</td>\n",
       "      <td>0.0</td>\n",
       "      <td>0.0</td>\n",
       "      <td>...</td>\n",
       "      <td>0.0</td>\n",
       "      <td>0.0</td>\n",
       "      <td>0.0</td>\n",
       "      <td>0.0</td>\n",
       "      <td>0.0</td>\n",
       "      <td>0.0</td>\n",
       "      <td>0.0</td>\n",
       "      <td>0.0</td>\n",
       "      <td>0.0</td>\n",
       "      <td>0.0</td>\n",
       "    </tr>\n",
       "    <tr>\n",
       "      <th>3</th>\n",
       "      <td>20230612_101430_standard_comp_to_training_D1_s...</td>\n",
       "      <td>rewarded</td>\n",
       "      <td>4</td>\n",
       "      <td>85</td>\n",
       "      <td>0.0</td>\n",
       "      <td>0.0</td>\n",
       "      <td>0.0</td>\n",
       "      <td>0.0</td>\n",
       "      <td>0.0</td>\n",
       "      <td>0.0</td>\n",
       "      <td>...</td>\n",
       "      <td>0.0</td>\n",
       "      <td>5.0</td>\n",
       "      <td>5.0</td>\n",
       "      <td>0.0</td>\n",
       "      <td>0.0</td>\n",
       "      <td>0.0</td>\n",
       "      <td>0.0</td>\n",
       "      <td>0.0</td>\n",
       "      <td>0.0</td>\n",
       "      <td>0.0</td>\n",
       "    </tr>\n",
       "    <tr>\n",
       "      <th>4</th>\n",
       "      <td>20230612_101430_standard_comp_to_training_D1_s...</td>\n",
       "      <td>rewarded</td>\n",
       "      <td>5</td>\n",
       "      <td>85</td>\n",
       "      <td>0.0</td>\n",
       "      <td>0.0</td>\n",
       "      <td>0.0</td>\n",
       "      <td>0.0</td>\n",
       "      <td>0.0</td>\n",
       "      <td>0.0</td>\n",
       "      <td>...</td>\n",
       "      <td>0.0</td>\n",
       "      <td>0.0</td>\n",
       "      <td>0.0</td>\n",
       "      <td>0.0</td>\n",
       "      <td>0.0</td>\n",
       "      <td>0.0</td>\n",
       "      <td>0.0</td>\n",
       "      <td>0.0</td>\n",
       "      <td>0.0</td>\n",
       "      <td>0.0</td>\n",
       "    </tr>\n",
       "    <tr>\n",
       "      <th>...</th>\n",
       "      <td>...</td>\n",
       "      <td>...</td>\n",
       "      <td>...</td>\n",
       "      <td>...</td>\n",
       "      <td>...</td>\n",
       "      <td>...</td>\n",
       "      <td>...</td>\n",
       "      <td>...</td>\n",
       "      <td>...</td>\n",
       "      <td>...</td>\n",
       "      <td>...</td>\n",
       "      <td>...</td>\n",
       "      <td>...</td>\n",
       "      <td>...</td>\n",
       "      <td>...</td>\n",
       "      <td>...</td>\n",
       "      <td>...</td>\n",
       "      <td>...</td>\n",
       "      <td>...</td>\n",
       "      <td>...</td>\n",
       "      <td>...</td>\n",
       "    </tr>\n",
       "    <tr>\n",
       "      <th>2673</th>\n",
       "      <td>20230622_110832_standard_comp_to_both_rewarded...</td>\n",
       "      <td>both_rewarded</td>\n",
       "      <td>16</td>\n",
       "      <td>15</td>\n",
       "      <td>0.0</td>\n",
       "      <td>0.0</td>\n",
       "      <td>0.0</td>\n",
       "      <td>0.0</td>\n",
       "      <td>0.0</td>\n",
       "      <td>0.0</td>\n",
       "      <td>...</td>\n",
       "      <td>0.0</td>\n",
       "      <td>0.0</td>\n",
       "      <td>0.0</td>\n",
       "      <td>0.0</td>\n",
       "      <td>0.0</td>\n",
       "      <td>0.0</td>\n",
       "      <td>0.0</td>\n",
       "      <td>0.0</td>\n",
       "      <td>0.0</td>\n",
       "      <td>0.0</td>\n",
       "    </tr>\n",
       "    <tr>\n",
       "      <th>2674</th>\n",
       "      <td>20230622_110832_standard_comp_to_both_rewarded...</td>\n",
       "      <td>both_rewarded</td>\n",
       "      <td>17</td>\n",
       "      <td>15</td>\n",
       "      <td>5.0</td>\n",
       "      <td>0.0</td>\n",
       "      <td>0.0</td>\n",
       "      <td>0.0</td>\n",
       "      <td>0.0</td>\n",
       "      <td>0.0</td>\n",
       "      <td>...</td>\n",
       "      <td>0.0</td>\n",
       "      <td>0.0</td>\n",
       "      <td>0.0</td>\n",
       "      <td>0.0</td>\n",
       "      <td>0.0</td>\n",
       "      <td>0.0</td>\n",
       "      <td>0.0</td>\n",
       "      <td>0.0</td>\n",
       "      <td>0.0</td>\n",
       "      <td>0.0</td>\n",
       "    </tr>\n",
       "    <tr>\n",
       "      <th>2675</th>\n",
       "      <td>20230622_110832_standard_comp_to_both_rewarded...</td>\n",
       "      <td>both_rewarded</td>\n",
       "      <td>18</td>\n",
       "      <td>15</td>\n",
       "      <td>0.0</td>\n",
       "      <td>0.0</td>\n",
       "      <td>0.0</td>\n",
       "      <td>0.0</td>\n",
       "      <td>0.0</td>\n",
       "      <td>0.0</td>\n",
       "      <td>...</td>\n",
       "      <td>0.0</td>\n",
       "      <td>0.0</td>\n",
       "      <td>0.0</td>\n",
       "      <td>0.0</td>\n",
       "      <td>0.0</td>\n",
       "      <td>0.0</td>\n",
       "      <td>0.0</td>\n",
       "      <td>0.0</td>\n",
       "      <td>0.0</td>\n",
       "      <td>0.0</td>\n",
       "    </tr>\n",
       "    <tr>\n",
       "      <th>2676</th>\n",
       "      <td>20230622_110832_standard_comp_to_both_rewarded...</td>\n",
       "      <td>both_rewarded</td>\n",
       "      <td>19</td>\n",
       "      <td>15</td>\n",
       "      <td>0.0</td>\n",
       "      <td>0.0</td>\n",
       "      <td>0.0</td>\n",
       "      <td>0.0</td>\n",
       "      <td>0.0</td>\n",
       "      <td>0.0</td>\n",
       "      <td>...</td>\n",
       "      <td>0.0</td>\n",
       "      <td>0.0</td>\n",
       "      <td>0.0</td>\n",
       "      <td>0.0</td>\n",
       "      <td>0.0</td>\n",
       "      <td>0.0</td>\n",
       "      <td>0.0</td>\n",
       "      <td>0.0</td>\n",
       "      <td>0.0</td>\n",
       "      <td>0.0</td>\n",
       "    </tr>\n",
       "    <tr>\n",
       "      <th>2677</th>\n",
       "      <td>20230622_110832_standard_comp_to_both_rewarded...</td>\n",
       "      <td>both_rewarded</td>\n",
       "      <td>20</td>\n",
       "      <td>15</td>\n",
       "      <td>0.0</td>\n",
       "      <td>0.0</td>\n",
       "      <td>0.0</td>\n",
       "      <td>0.0</td>\n",
       "      <td>0.0</td>\n",
       "      <td>0.0</td>\n",
       "      <td>...</td>\n",
       "      <td>0.0</td>\n",
       "      <td>0.0</td>\n",
       "      <td>0.0</td>\n",
       "      <td>0.0</td>\n",
       "      <td>0.0</td>\n",
       "      <td>0.0</td>\n",
       "      <td>0.0</td>\n",
       "      <td>0.0</td>\n",
       "      <td>0.0</td>\n",
       "      <td>0.0</td>\n",
       "    </tr>\n",
       "  </tbody>\n",
       "</table>\n",
       "<p>2678 rows × 204 columns</p>\n",
       "</div>"
      ],
      "text/plain": [
       "                                              Recording     Event name  \\\n",
       "0     20230612_101430_standard_comp_to_training_D1_s...       rewarded   \n",
       "1     20230612_101430_standard_comp_to_training_D1_s...       rewarded   \n",
       "2     20230612_101430_standard_comp_to_training_D1_s...       rewarded   \n",
       "3     20230612_101430_standard_comp_to_training_D1_s...       rewarded   \n",
       "4     20230612_101430_standard_comp_to_training_D1_s...       rewarded   \n",
       "...                                                 ...            ...   \n",
       "2673  20230622_110832_standard_comp_to_both_rewarded...  both_rewarded   \n",
       "2674  20230622_110832_standard_comp_to_both_rewarded...  both_rewarded   \n",
       "2675  20230622_110832_standard_comp_to_both_rewarded...  both_rewarded   \n",
       "2676  20230622_110832_standard_comp_to_both_rewarded...  both_rewarded   \n",
       "2677  20230622_110832_standard_comp_to_both_rewarded...  both_rewarded   \n",
       "\n",
       "      Event number  Unit number  Pre-event timebin 1  Pre-event timebin 2  \\\n",
       "0                1           85                  0.0                  0.0   \n",
       "1                2           85                  0.0                  0.0   \n",
       "2                3           85                  0.0                  0.0   \n",
       "3                4           85                  0.0                  0.0   \n",
       "4                5           85                  0.0                  0.0   \n",
       "...            ...          ...                  ...                  ...   \n",
       "2673            16           15                  0.0                  0.0   \n",
       "2674            17           15                  5.0                  0.0   \n",
       "2675            18           15                  0.0                  0.0   \n",
       "2676            19           15                  0.0                  0.0   \n",
       "2677            20           15                  0.0                  0.0   \n",
       "\n",
       "      Pre-event timebin 3  Pre-event timebin 4  Pre-event timebin 5  \\\n",
       "0                     0.0                  0.0                  0.0   \n",
       "1                     0.0                  0.0                  0.0   \n",
       "2                     0.0                  0.0                  0.0   \n",
       "3                     0.0                  0.0                  0.0   \n",
       "4                     0.0                  0.0                  0.0   \n",
       "...                   ...                  ...                  ...   \n",
       "2673                  0.0                  0.0                  0.0   \n",
       "2674                  0.0                  0.0                  0.0   \n",
       "2675                  0.0                  0.0                  0.0   \n",
       "2676                  0.0                  0.0                  0.0   \n",
       "2677                  0.0                  0.0                  0.0   \n",
       "\n",
       "      Pre-event timebin 6  ...  Event timebin 91  Event timebin 92  \\\n",
       "0                     0.0  ...               0.0               0.0   \n",
       "1                     0.0  ...               0.0               0.0   \n",
       "2                     0.0  ...               0.0               0.0   \n",
       "3                     0.0  ...               0.0               5.0   \n",
       "4                     0.0  ...               0.0               0.0   \n",
       "...                   ...  ...               ...               ...   \n",
       "2673                  0.0  ...               0.0               0.0   \n",
       "2674                  0.0  ...               0.0               0.0   \n",
       "2675                  0.0  ...               0.0               0.0   \n",
       "2676                  0.0  ...               0.0               0.0   \n",
       "2677                  0.0  ...               0.0               0.0   \n",
       "\n",
       "      Event timebin 93  Event timebin 94  Event timebin 95  Event timebin 96  \\\n",
       "0                  0.0               0.0               0.0               0.0   \n",
       "1                  0.0               0.0               0.0               0.0   \n",
       "2                  0.0               0.0               0.0               0.0   \n",
       "3                  5.0               0.0               0.0               0.0   \n",
       "4                  0.0               0.0               0.0               0.0   \n",
       "...                ...               ...               ...               ...   \n",
       "2673               0.0               0.0               0.0               0.0   \n",
       "2674               0.0               0.0               0.0               0.0   \n",
       "2675               0.0               0.0               0.0               0.0   \n",
       "2676               0.0               0.0               0.0               0.0   \n",
       "2677               0.0               0.0               0.0               0.0   \n",
       "\n",
       "      Event timebin 97  Event timebin 98  Event timebin 99  Event timebin 100  \n",
       "0                  0.0               0.0               0.0                0.0  \n",
       "1                  0.0               0.0               0.0                0.0  \n",
       "2                  0.0               0.0               0.0                0.0  \n",
       "3                  0.0               0.0               0.0                0.0  \n",
       "4                  0.0               0.0               0.0                0.0  \n",
       "...                ...               ...               ...                ...  \n",
       "2673               0.0               0.0               0.0                0.0  \n",
       "2674               0.0               0.0               0.0                0.0  \n",
       "2675               0.0               0.0               0.0                0.0  \n",
       "2676               0.0               0.0               0.0                0.0  \n",
       "2677               0.0               0.0               0.0                0.0  \n",
       "\n",
       "[2678 rows x 204 columns]"
      ]
     },
     "execution_count": 65,
     "metadata": {},
     "output_type": "execute_result"
    }
   ],
   "source": [
    "event_df"
   ]
  },
  {
   "cell_type": "code",
   "execution_count": 66,
   "id": "ce3af1f1-26ba-496c-8e3e-14ef2ad60e6e",
   "metadata": {
    "execution": {
     "iopub.execute_input": "2024-06-12T16:53:38.468940Z",
     "iopub.status.busy": "2024-06-12T16:53:38.467936Z",
     "iopub.status.idle": "2024-06-12T16:53:38.494948Z",
     "shell.execute_reply": "2024-06-12T16:53:38.489939Z",
     "shell.execute_reply.started": "2024-06-12T16:53:38.468940Z"
    }
   },
   "outputs": [],
   "source": [
    "pre_event_cols = [col for col in event_df.columns if col.startswith('Pre-event')]\n",
    "event_cols = [col for col in event_df.columns if col.startswith('Event') and col not in ['Event name', 'Event number']]"
   ]
  },
  {
   "cell_type": "code",
   "execution_count": 67,
   "id": "9d25b421-ef40-4db2-b94f-9d12cb92c965",
   "metadata": {
    "execution": {
     "iopub.execute_input": "2024-06-12T16:53:38.501932Z",
     "iopub.status.busy": "2024-06-12T16:53:38.498944Z",
     "iopub.status.idle": "2024-06-12T16:53:38.624494Z",
     "shell.execute_reply": "2024-06-12T16:53:38.617491Z",
     "shell.execute_reply.started": "2024-06-12T16:53:38.500934Z"
    }
   },
   "outputs": [],
   "source": [
    "event_df2 = event_df.copy()\n",
    "\n",
    "event_df2['mean_pre_event'] = event_df2[pre_event_cols].mean(axis=1)\n",
    "event_df2['mean_event'] = event_df2[event_cols].mean(axis=1)"
   ]
  },
  {
   "cell_type": "code",
   "execution_count": 68,
   "id": "c026c77d-558e-47a4-9358-3de3f205e41d",
   "metadata": {
    "execution": {
     "iopub.execute_input": "2024-06-12T16:53:38.632493Z",
     "iopub.status.busy": "2024-06-12T16:53:38.631496Z",
     "iopub.status.idle": "2024-06-12T16:53:38.904875Z",
     "shell.execute_reply": "2024-06-12T16:53:38.893868Z",
     "shell.execute_reply.started": "2024-06-12T16:53:38.632493Z"
    }
   },
   "outputs": [
    {
     "data": {
      "text/html": [
       "<div>\n",
       "<style scoped>\n",
       "    .dataframe tbody tr th:only-of-type {\n",
       "        vertical-align: middle;\n",
       "    }\n",
       "\n",
       "    .dataframe tbody tr th {\n",
       "        vertical-align: top;\n",
       "    }\n",
       "\n",
       "    .dataframe thead th {\n",
       "        text-align: right;\n",
       "    }\n",
       "</style>\n",
       "<table border=\"1\" class=\"dataframe\">\n",
       "  <thead>\n",
       "    <tr style=\"text-align: right;\">\n",
       "      <th></th>\n",
       "      <th>Recording</th>\n",
       "      <th>Event name</th>\n",
       "      <th>Event number</th>\n",
       "      <th>Unit number</th>\n",
       "      <th>Pre-event timebin 1</th>\n",
       "      <th>Pre-event timebin 2</th>\n",
       "      <th>Pre-event timebin 3</th>\n",
       "      <th>Pre-event timebin 4</th>\n",
       "      <th>Pre-event timebin 5</th>\n",
       "      <th>Pre-event timebin 6</th>\n",
       "      <th>...</th>\n",
       "      <th>Event timebin 93</th>\n",
       "      <th>Event timebin 94</th>\n",
       "      <th>Event timebin 95</th>\n",
       "      <th>Event timebin 96</th>\n",
       "      <th>Event timebin 97</th>\n",
       "      <th>Event timebin 98</th>\n",
       "      <th>Event timebin 99</th>\n",
       "      <th>Event timebin 100</th>\n",
       "      <th>mean_pre_event</th>\n",
       "      <th>mean_event</th>\n",
       "    </tr>\n",
       "  </thead>\n",
       "  <tbody>\n",
       "    <tr>\n",
       "      <th>0</th>\n",
       "      <td>20230612_101430_standard_comp_to_training_D1_s...</td>\n",
       "      <td>rewarded</td>\n",
       "      <td>1</td>\n",
       "      <td>85</td>\n",
       "      <td>0.0</td>\n",
       "      <td>0.0</td>\n",
       "      <td>0.0</td>\n",
       "      <td>0.0</td>\n",
       "      <td>0.0</td>\n",
       "      <td>0.0</td>\n",
       "      <td>...</td>\n",
       "      <td>0.0</td>\n",
       "      <td>0.0</td>\n",
       "      <td>0.0</td>\n",
       "      <td>0.0</td>\n",
       "      <td>0.0</td>\n",
       "      <td>0.0</td>\n",
       "      <td>0.0</td>\n",
       "      <td>0.0</td>\n",
       "      <td>1.40</td>\n",
       "      <td>1.2</td>\n",
       "    </tr>\n",
       "    <tr>\n",
       "      <th>1</th>\n",
       "      <td>20230612_101430_standard_comp_to_training_D1_s...</td>\n",
       "      <td>rewarded</td>\n",
       "      <td>2</td>\n",
       "      <td>85</td>\n",
       "      <td>0.0</td>\n",
       "      <td>0.0</td>\n",
       "      <td>0.0</td>\n",
       "      <td>0.0</td>\n",
       "      <td>0.0</td>\n",
       "      <td>0.0</td>\n",
       "      <td>...</td>\n",
       "      <td>0.0</td>\n",
       "      <td>0.0</td>\n",
       "      <td>0.0</td>\n",
       "      <td>0.0</td>\n",
       "      <td>0.0</td>\n",
       "      <td>0.0</td>\n",
       "      <td>0.0</td>\n",
       "      <td>0.0</td>\n",
       "      <td>0.00</td>\n",
       "      <td>0.0</td>\n",
       "    </tr>\n",
       "    <tr>\n",
       "      <th>2</th>\n",
       "      <td>20230612_101430_standard_comp_to_training_D1_s...</td>\n",
       "      <td>rewarded</td>\n",
       "      <td>3</td>\n",
       "      <td>85</td>\n",
       "      <td>0.0</td>\n",
       "      <td>0.0</td>\n",
       "      <td>0.0</td>\n",
       "      <td>0.0</td>\n",
       "      <td>0.0</td>\n",
       "      <td>0.0</td>\n",
       "      <td>...</td>\n",
       "      <td>0.0</td>\n",
       "      <td>0.0</td>\n",
       "      <td>0.0</td>\n",
       "      <td>0.0</td>\n",
       "      <td>0.0</td>\n",
       "      <td>0.0</td>\n",
       "      <td>0.0</td>\n",
       "      <td>0.0</td>\n",
       "      <td>0.20</td>\n",
       "      <td>0.3</td>\n",
       "    </tr>\n",
       "    <tr>\n",
       "      <th>3</th>\n",
       "      <td>20230612_101430_standard_comp_to_training_D1_s...</td>\n",
       "      <td>rewarded</td>\n",
       "      <td>4</td>\n",
       "      <td>85</td>\n",
       "      <td>0.0</td>\n",
       "      <td>0.0</td>\n",
       "      <td>0.0</td>\n",
       "      <td>0.0</td>\n",
       "      <td>0.0</td>\n",
       "      <td>0.0</td>\n",
       "      <td>...</td>\n",
       "      <td>5.0</td>\n",
       "      <td>0.0</td>\n",
       "      <td>0.0</td>\n",
       "      <td>0.0</td>\n",
       "      <td>0.0</td>\n",
       "      <td>0.0</td>\n",
       "      <td>0.0</td>\n",
       "      <td>0.0</td>\n",
       "      <td>0.30</td>\n",
       "      <td>0.2</td>\n",
       "    </tr>\n",
       "    <tr>\n",
       "      <th>4</th>\n",
       "      <td>20230612_101430_standard_comp_to_training_D1_s...</td>\n",
       "      <td>rewarded</td>\n",
       "      <td>5</td>\n",
       "      <td>85</td>\n",
       "      <td>0.0</td>\n",
       "      <td>0.0</td>\n",
       "      <td>0.0</td>\n",
       "      <td>0.0</td>\n",
       "      <td>0.0</td>\n",
       "      <td>0.0</td>\n",
       "      <td>...</td>\n",
       "      <td>0.0</td>\n",
       "      <td>0.0</td>\n",
       "      <td>0.0</td>\n",
       "      <td>0.0</td>\n",
       "      <td>0.0</td>\n",
       "      <td>0.0</td>\n",
       "      <td>0.0</td>\n",
       "      <td>0.0</td>\n",
       "      <td>0.20</td>\n",
       "      <td>0.0</td>\n",
       "    </tr>\n",
       "    <tr>\n",
       "      <th>...</th>\n",
       "      <td>...</td>\n",
       "      <td>...</td>\n",
       "      <td>...</td>\n",
       "      <td>...</td>\n",
       "      <td>...</td>\n",
       "      <td>...</td>\n",
       "      <td>...</td>\n",
       "      <td>...</td>\n",
       "      <td>...</td>\n",
       "      <td>...</td>\n",
       "      <td>...</td>\n",
       "      <td>...</td>\n",
       "      <td>...</td>\n",
       "      <td>...</td>\n",
       "      <td>...</td>\n",
       "      <td>...</td>\n",
       "      <td>...</td>\n",
       "      <td>...</td>\n",
       "      <td>...</td>\n",
       "      <td>...</td>\n",
       "      <td>...</td>\n",
       "    </tr>\n",
       "    <tr>\n",
       "      <th>2673</th>\n",
       "      <td>20230622_110832_standard_comp_to_both_rewarded...</td>\n",
       "      <td>both_rewarded</td>\n",
       "      <td>16</td>\n",
       "      <td>15</td>\n",
       "      <td>0.0</td>\n",
       "      <td>0.0</td>\n",
       "      <td>0.0</td>\n",
       "      <td>0.0</td>\n",
       "      <td>0.0</td>\n",
       "      <td>0.0</td>\n",
       "      <td>...</td>\n",
       "      <td>0.0</td>\n",
       "      <td>0.0</td>\n",
       "      <td>0.0</td>\n",
       "      <td>0.0</td>\n",
       "      <td>0.0</td>\n",
       "      <td>0.0</td>\n",
       "      <td>0.0</td>\n",
       "      <td>0.0</td>\n",
       "      <td>0.00</td>\n",
       "      <td>0.3</td>\n",
       "    </tr>\n",
       "    <tr>\n",
       "      <th>2674</th>\n",
       "      <td>20230622_110832_standard_comp_to_both_rewarded...</td>\n",
       "      <td>both_rewarded</td>\n",
       "      <td>17</td>\n",
       "      <td>15</td>\n",
       "      <td>5.0</td>\n",
       "      <td>0.0</td>\n",
       "      <td>0.0</td>\n",
       "      <td>0.0</td>\n",
       "      <td>0.0</td>\n",
       "      <td>0.0</td>\n",
       "      <td>...</td>\n",
       "      <td>0.0</td>\n",
       "      <td>0.0</td>\n",
       "      <td>0.0</td>\n",
       "      <td>0.0</td>\n",
       "      <td>0.0</td>\n",
       "      <td>0.0</td>\n",
       "      <td>0.0</td>\n",
       "      <td>0.0</td>\n",
       "      <td>0.25</td>\n",
       "      <td>0.2</td>\n",
       "    </tr>\n",
       "    <tr>\n",
       "      <th>2675</th>\n",
       "      <td>20230622_110832_standard_comp_to_both_rewarded...</td>\n",
       "      <td>both_rewarded</td>\n",
       "      <td>18</td>\n",
       "      <td>15</td>\n",
       "      <td>0.0</td>\n",
       "      <td>0.0</td>\n",
       "      <td>0.0</td>\n",
       "      <td>0.0</td>\n",
       "      <td>0.0</td>\n",
       "      <td>0.0</td>\n",
       "      <td>...</td>\n",
       "      <td>0.0</td>\n",
       "      <td>0.0</td>\n",
       "      <td>0.0</td>\n",
       "      <td>0.0</td>\n",
       "      <td>0.0</td>\n",
       "      <td>0.0</td>\n",
       "      <td>0.0</td>\n",
       "      <td>0.0</td>\n",
       "      <td>0.50</td>\n",
       "      <td>1.1</td>\n",
       "    </tr>\n",
       "    <tr>\n",
       "      <th>2676</th>\n",
       "      <td>20230622_110832_standard_comp_to_both_rewarded...</td>\n",
       "      <td>both_rewarded</td>\n",
       "      <td>19</td>\n",
       "      <td>15</td>\n",
       "      <td>0.0</td>\n",
       "      <td>0.0</td>\n",
       "      <td>0.0</td>\n",
       "      <td>0.0</td>\n",
       "      <td>0.0</td>\n",
       "      <td>0.0</td>\n",
       "      <td>...</td>\n",
       "      <td>0.0</td>\n",
       "      <td>0.0</td>\n",
       "      <td>0.0</td>\n",
       "      <td>0.0</td>\n",
       "      <td>0.0</td>\n",
       "      <td>0.0</td>\n",
       "      <td>0.0</td>\n",
       "      <td>0.0</td>\n",
       "      <td>0.10</td>\n",
       "      <td>0.2</td>\n",
       "    </tr>\n",
       "    <tr>\n",
       "      <th>2677</th>\n",
       "      <td>20230622_110832_standard_comp_to_both_rewarded...</td>\n",
       "      <td>both_rewarded</td>\n",
       "      <td>20</td>\n",
       "      <td>15</td>\n",
       "      <td>0.0</td>\n",
       "      <td>0.0</td>\n",
       "      <td>0.0</td>\n",
       "      <td>0.0</td>\n",
       "      <td>0.0</td>\n",
       "      <td>0.0</td>\n",
       "      <td>...</td>\n",
       "      <td>0.0</td>\n",
       "      <td>0.0</td>\n",
       "      <td>0.0</td>\n",
       "      <td>0.0</td>\n",
       "      <td>0.0</td>\n",
       "      <td>0.0</td>\n",
       "      <td>0.0</td>\n",
       "      <td>0.0</td>\n",
       "      <td>0.00</td>\n",
       "      <td>0.7</td>\n",
       "    </tr>\n",
       "  </tbody>\n",
       "</table>\n",
       "<p>2678 rows × 206 columns</p>\n",
       "</div>"
      ],
      "text/plain": [
       "                                              Recording     Event name  \\\n",
       "0     20230612_101430_standard_comp_to_training_D1_s...       rewarded   \n",
       "1     20230612_101430_standard_comp_to_training_D1_s...       rewarded   \n",
       "2     20230612_101430_standard_comp_to_training_D1_s...       rewarded   \n",
       "3     20230612_101430_standard_comp_to_training_D1_s...       rewarded   \n",
       "4     20230612_101430_standard_comp_to_training_D1_s...       rewarded   \n",
       "...                                                 ...            ...   \n",
       "2673  20230622_110832_standard_comp_to_both_rewarded...  both_rewarded   \n",
       "2674  20230622_110832_standard_comp_to_both_rewarded...  both_rewarded   \n",
       "2675  20230622_110832_standard_comp_to_both_rewarded...  both_rewarded   \n",
       "2676  20230622_110832_standard_comp_to_both_rewarded...  both_rewarded   \n",
       "2677  20230622_110832_standard_comp_to_both_rewarded...  both_rewarded   \n",
       "\n",
       "      Event number  Unit number  Pre-event timebin 1  Pre-event timebin 2  \\\n",
       "0                1           85                  0.0                  0.0   \n",
       "1                2           85                  0.0                  0.0   \n",
       "2                3           85                  0.0                  0.0   \n",
       "3                4           85                  0.0                  0.0   \n",
       "4                5           85                  0.0                  0.0   \n",
       "...            ...          ...                  ...                  ...   \n",
       "2673            16           15                  0.0                  0.0   \n",
       "2674            17           15                  5.0                  0.0   \n",
       "2675            18           15                  0.0                  0.0   \n",
       "2676            19           15                  0.0                  0.0   \n",
       "2677            20           15                  0.0                  0.0   \n",
       "\n",
       "      Pre-event timebin 3  Pre-event timebin 4  Pre-event timebin 5  \\\n",
       "0                     0.0                  0.0                  0.0   \n",
       "1                     0.0                  0.0                  0.0   \n",
       "2                     0.0                  0.0                  0.0   \n",
       "3                     0.0                  0.0                  0.0   \n",
       "4                     0.0                  0.0                  0.0   \n",
       "...                   ...                  ...                  ...   \n",
       "2673                  0.0                  0.0                  0.0   \n",
       "2674                  0.0                  0.0                  0.0   \n",
       "2675                  0.0                  0.0                  0.0   \n",
       "2676                  0.0                  0.0                  0.0   \n",
       "2677                  0.0                  0.0                  0.0   \n",
       "\n",
       "      Pre-event timebin 6  ...  Event timebin 93  Event timebin 94  \\\n",
       "0                     0.0  ...               0.0               0.0   \n",
       "1                     0.0  ...               0.0               0.0   \n",
       "2                     0.0  ...               0.0               0.0   \n",
       "3                     0.0  ...               5.0               0.0   \n",
       "4                     0.0  ...               0.0               0.0   \n",
       "...                   ...  ...               ...               ...   \n",
       "2673                  0.0  ...               0.0               0.0   \n",
       "2674                  0.0  ...               0.0               0.0   \n",
       "2675                  0.0  ...               0.0               0.0   \n",
       "2676                  0.0  ...               0.0               0.0   \n",
       "2677                  0.0  ...               0.0               0.0   \n",
       "\n",
       "      Event timebin 95  Event timebin 96  Event timebin 97  Event timebin 98  \\\n",
       "0                  0.0               0.0               0.0               0.0   \n",
       "1                  0.0               0.0               0.0               0.0   \n",
       "2                  0.0               0.0               0.0               0.0   \n",
       "3                  0.0               0.0               0.0               0.0   \n",
       "4                  0.0               0.0               0.0               0.0   \n",
       "...                ...               ...               ...               ...   \n",
       "2673               0.0               0.0               0.0               0.0   \n",
       "2674               0.0               0.0               0.0               0.0   \n",
       "2675               0.0               0.0               0.0               0.0   \n",
       "2676               0.0               0.0               0.0               0.0   \n",
       "2677               0.0               0.0               0.0               0.0   \n",
       "\n",
       "      Event timebin 99  Event timebin 100  mean_pre_event  mean_event  \n",
       "0                  0.0                0.0            1.40         1.2  \n",
       "1                  0.0                0.0            0.00         0.0  \n",
       "2                  0.0                0.0            0.20         0.3  \n",
       "3                  0.0                0.0            0.30         0.2  \n",
       "4                  0.0                0.0            0.20         0.0  \n",
       "...                ...                ...             ...         ...  \n",
       "2673               0.0                0.0            0.00         0.3  \n",
       "2674               0.0                0.0            0.25         0.2  \n",
       "2675               0.0                0.0            0.50         1.1  \n",
       "2676               0.0                0.0            0.10         0.2  \n",
       "2677               0.0                0.0            0.00         0.7  \n",
       "\n",
       "[2678 rows x 206 columns]"
      ]
     },
     "execution_count": 68,
     "metadata": {},
     "output_type": "execute_result"
    }
   ],
   "source": [
    "event_df2"
   ]
  },
  {
   "cell_type": "code",
   "execution_count": 69,
   "id": "6d1a9260-1b43-41e4-b583-23316b97c601",
   "metadata": {
    "execution": {
     "iopub.execute_input": "2024-06-12T16:53:38.915862Z",
     "iopub.status.busy": "2024-06-12T16:53:38.912863Z",
     "iopub.status.idle": "2024-06-12T16:53:38.955441Z",
     "shell.execute_reply": "2024-06-12T16:53:38.951887Z",
     "shell.execute_reply.started": "2024-06-12T16:53:38.915862Z"
    }
   },
   "outputs": [
    {
     "data": {
      "text/plain": [
       "3.115011202389843"
      ]
     },
     "execution_count": 69,
     "metadata": {},
     "output_type": "execute_result"
    }
   ],
   "source": [
    "event_df2['mean_pre_event'].mean()"
   ]
  },
  {
   "cell_type": "code",
   "execution_count": 70,
   "id": "a4958ee1-1176-4a28-a220-fd7a704a0394",
   "metadata": {
    "execution": {
     "iopub.execute_input": "2024-06-12T16:53:38.965437Z",
     "iopub.status.busy": "2024-06-12T16:53:38.962438Z",
     "iopub.status.idle": "2024-06-12T16:53:39.002435Z",
     "shell.execute_reply": "2024-06-12T16:53:38.997436Z",
     "shell.execute_reply.started": "2024-06-12T16:53:38.964438Z"
    }
   },
   "outputs": [
    {
     "data": {
      "text/plain": [
       "2.9680171769977597"
      ]
     },
     "execution_count": 70,
     "metadata": {},
     "output_type": "execute_result"
    }
   ],
   "source": [
    "event_df2['mean_event'].mean()"
   ]
  },
  {
   "cell_type": "code",
   "execution_count": 71,
   "id": "2d2a8e24-20ca-4bb6-9a0d-449cc980442a",
   "metadata": {
    "execution": {
     "iopub.execute_input": "2024-06-12T16:53:39.014438Z",
     "iopub.status.busy": "2024-06-12T16:53:39.011441Z",
     "iopub.status.idle": "2024-06-12T16:53:39.051972Z",
     "shell.execute_reply": "2024-06-12T16:53:39.045450Z",
     "shell.execute_reply.started": "2024-06-12T16:53:39.014438Z"
    }
   },
   "outputs": [
    {
     "data": {
      "text/plain": [
       "10000"
      ]
     },
     "execution_count": 71,
     "metadata": {},
     "output_type": "execute_result"
    }
   ],
   "source": [
    "pre_window = 10\n",
    "pre_window2 = math.ceil(pre_window * 1000)\n",
    "pre_window2"
   ]
  },
  {
   "cell_type": "code",
   "execution_count": 72,
   "id": "cfd59e33-c5c6-4476-851e-9f1b711b3828",
   "metadata": {
    "execution": {
     "iopub.execute_input": "2024-06-12T16:53:39.058998Z",
     "iopub.status.busy": "2024-06-12T16:53:39.057016Z",
     "iopub.status.idle": "2024-06-12T16:53:39.582848Z",
     "shell.execute_reply": "2024-06-12T16:53:39.579841Z",
     "shell.execute_reply.started": "2024-06-12T16:53:39.058000Z"
    }
   },
   "outputs": [],
   "source": [
    "recordings = spike_analysis.ephyscollection.collection\n",
    "recording_name = '20230612_101430_standard_comp_to_training_D1_subj_1-3_t3b3L_box2_merged.rec'\n",
    "recording1 = recordings.get(recording_name)\n",
    "recording1win = recording1.event_dict['win']"
   ]
  },
  {
   "cell_type": "code",
   "execution_count": 73,
   "id": "7805db39-7e10-4ab0-b0a3-5b40719171ed",
   "metadata": {
    "execution": {
     "iopub.execute_input": "2024-06-12T16:53:39.587842Z",
     "iopub.status.busy": "2024-06-12T16:53:39.586839Z",
     "iopub.status.idle": "2024-06-12T16:53:39.613847Z",
     "shell.execute_reply": "2024-06-12T16:53:39.610846Z",
     "shell.execute_reply.started": "2024-06-12T16:53:39.587842Z"
    }
   },
   "outputs": [
    {
     "data": {
      "text/plain": [
       "array([[ 169111,  179111],\n",
       "       [ 479111,  489111],\n",
       "       [ 649110,  659110],\n",
       "       [ 754110,  764110],\n",
       "       [ 804110,  814110],\n",
       "       [ 884110,  894110],\n",
       "       [ 949110,  959110],\n",
       "       [1014110, 1024110],\n",
       "       [1134110, 1144110],\n",
       "       [1309110, 1319110],\n",
       "       [1379110, 1389110],\n",
       "       [1489110, 1499110],\n",
       "       [1549110, 1559110]], dtype=int64)"
      ]
     },
     "execution_count": 73,
     "metadata": {},
     "output_type": "execute_result"
    }
   ],
   "source": [
    "recording1win"
   ]
  },
  {
   "cell_type": "code",
   "execution_count": 74,
   "id": "d3ccdcf5-0512-480b-90c4-d2279fd6bc4e",
   "metadata": {
    "execution": {
     "iopub.execute_input": "2024-06-12T16:53:39.618858Z",
     "iopub.status.busy": "2024-06-12T16:53:39.617858Z",
     "iopub.status.idle": "2024-06-12T16:53:39.644866Z",
     "shell.execute_reply": "2024-06-12T16:53:39.642875Z",
     "shell.execute_reply.started": "2024-06-12T16:53:39.618858Z"
    }
   },
   "outputs": [
    {
     "data": {
      "text/plain": [
       "13"
      ]
     },
     "execution_count": 74,
     "metadata": {},
     "output_type": "execute_result"
    }
   ],
   "source": [
    "recording1win.shape[0]"
   ]
  },
  {
   "cell_type": "code",
   "execution_count": 75,
   "id": "85c20bda-e47a-4e31-860d-1464f65399a3",
   "metadata": {
    "execution": {
     "iopub.execute_input": "2024-06-12T16:53:39.650872Z",
     "iopub.status.busy": "2024-06-12T16:53:39.649879Z",
     "iopub.status.idle": "2024-06-12T16:53:39.680438Z",
     "shell.execute_reply": "2024-06-12T16:53:39.674423Z",
     "shell.execute_reply.started": "2024-06-12T16:53:39.650872Z"
    }
   },
   "outputs": [],
   "source": [
    "record1ran = range(recording1win.shape[0])"
   ]
  },
  {
   "cell_type": "code",
   "execution_count": 76,
   "id": "1b0996e1-06a0-4697-9aad-1cd57a1f1b00",
   "metadata": {
    "execution": {
     "iopub.execute_input": "2024-06-12T16:53:39.685429Z",
     "iopub.status.busy": "2024-06-12T16:53:39.683436Z",
     "iopub.status.idle": "2024-06-12T16:53:39.710432Z",
     "shell.execute_reply": "2024-06-12T16:53:39.706424Z",
     "shell.execute_reply.started": "2024-06-12T16:53:39.685429Z"
    }
   },
   "outputs": [
    {
     "data": {
      "text/plain": [
       "range"
      ]
     },
     "execution_count": 76,
     "metadata": {},
     "output_type": "execute_result"
    }
   ],
   "source": [
    "type(record1ran)"
   ]
  },
  {
   "cell_type": "code",
   "execution_count": 77,
   "id": "fbc0a000-eba7-41d1-8086-441530222ac0",
   "metadata": {
    "execution": {
     "iopub.execute_input": "2024-06-12T16:53:39.716427Z",
     "iopub.status.busy": "2024-06-12T16:53:39.714426Z",
     "iopub.status.idle": "2024-06-12T16:53:39.740439Z",
     "shell.execute_reply": "2024-06-12T16:53:39.738448Z",
     "shell.execute_reply.started": "2024-06-12T16:53:39.716427Z"
    }
   },
   "outputs": [
    {
     "name": "stdout",
     "output_type": "stream",
     "text": [
      "0\n",
      "1\n",
      "2\n",
      "3\n",
      "4\n",
      "5\n",
      "6\n",
      "7\n",
      "8\n",
      "9\n",
      "10\n",
      "11\n",
      "12\n"
     ]
    }
   ],
   "source": [
    "for i in record1ran:\n",
    "    print (i)"
   ]
  },
  {
   "cell_type": "code",
   "execution_count": 78,
   "id": "0e56217e-1928-4988-89f0-52225136ddfc",
   "metadata": {
    "execution": {
     "iopub.execute_input": "2024-06-12T16:53:39.749448Z",
     "iopub.status.busy": "2024-06-12T16:53:39.748442Z",
     "iopub.status.idle": "2024-06-12T16:53:39.771993Z",
     "shell.execute_reply": "2024-06-12T16:53:39.769001Z",
     "shell.execute_reply.started": "2024-06-12T16:53:39.749448Z"
    }
   },
   "outputs": [
    {
     "data": {
      "text/plain": [
       "169111"
      ]
     },
     "execution_count": 78,
     "metadata": {},
     "output_type": "execute_result"
    }
   ],
   "source": [
    "recording1win[0][0]"
   ]
  },
  {
   "cell_type": "code",
   "execution_count": 79,
   "id": "7b912474-004b-469b-b501-7a4b6a633c8f",
   "metadata": {
    "execution": {
     "iopub.execute_input": "2024-06-12T16:53:39.778004Z",
     "iopub.status.busy": "2024-06-12T16:53:39.776995Z",
     "iopub.status.idle": "2024-06-12T16:53:39.803995Z",
     "shell.execute_reply": "2024-06-12T16:53:39.800994Z",
     "shell.execute_reply.started": "2024-06-12T16:53:39.778004Z"
    }
   },
   "outputs": [
    {
     "data": {
      "text/plain": [
       "479111"
      ]
     },
     "execution_count": 79,
     "metadata": {},
     "output_type": "execute_result"
    }
   ],
   "source": [
    "recording1win[1][0]"
   ]
  },
  {
   "cell_type": "code",
   "execution_count": 80,
   "id": "6c341567-27d6-49c0-8f1b-912abc33433d",
   "metadata": {
    "execution": {
     "iopub.execute_input": "2024-06-12T16:53:39.809996Z",
     "iopub.status.busy": "2024-06-12T16:53:39.806996Z",
     "iopub.status.idle": "2024-06-12T16:53:39.835994Z",
     "shell.execute_reply": "2024-06-12T16:53:39.832991Z",
     "shell.execute_reply.started": "2024-06-12T16:53:39.809996Z"
    }
   },
   "outputs": [],
   "source": [
    "pre_window = 10\n",
    "timebin = 100\n",
    "pre_event = math.ceil((recording1win[0][0] - pre_window) / timebin)"
   ]
  },
  {
   "cell_type": "code",
   "execution_count": 81,
   "id": "fef8425e-9a25-4308-a1de-5c81e6aa35a5",
   "metadata": {
    "execution": {
     "iopub.execute_input": "2024-06-12T16:53:39.845025Z",
     "iopub.status.busy": "2024-06-12T16:53:39.843020Z",
     "iopub.status.idle": "2024-06-12T16:53:39.868577Z",
     "shell.execute_reply": "2024-06-12T16:53:39.864577Z",
     "shell.execute_reply.started": "2024-06-12T16:53:39.845025Z"
    }
   },
   "outputs": [
    {
     "data": {
      "text/plain": [
       "1692"
      ]
     },
     "execution_count": 81,
     "metadata": {},
     "output_type": "execute_result"
    }
   ],
   "source": [
    "pre_event"
   ]
  },
  {
   "cell_type": "code",
   "execution_count": 82,
   "id": "cbd1e1f0-f37a-43ff-87f4-3e0d4979deac",
   "metadata": {
    "execution": {
     "iopub.execute_input": "2024-06-12T16:53:39.877581Z",
     "iopub.status.busy": "2024-06-12T16:53:39.872584Z",
     "iopub.status.idle": "2024-06-12T16:53:39.912578Z",
     "shell.execute_reply": "2024-06-12T16:53:39.909571Z",
     "shell.execute_reply.started": "2024-06-12T16:53:39.877581Z"
    }
   },
   "outputs": [
    {
     "name": "stdout",
     "output_type": "stream",
     "text": [
      "['__class__', '__delattr__', '__dict__', '__dir__', '__doc__', '__eq__', '__format__', '__ge__', '__getattribute__', '__gt__', '__hash__', '__init__', '__init_subclass__', '__le__', '__lt__', '__module__', '__ne__', '__new__', '__reduce__', '__reduce_ex__', '__repr__', '__setattr__', '__sizeof__', '__str__', '__subclasshook__', '__weakref__', 'event_dict', 'freq_dict', 'get_spike_specs', 'get_unit_labels', 'get_unit_timestamps', 'labels_dict', 'path', 'sampling_rate', 'spiketrain', 'subject', 'timestamps_var', 'unit_array', 'unit_firing_rate_array', 'unit_firing_rates', 'unit_spiketrains', 'unit_timestamps', 'wilcox_dfs', 'zscored_events']\n"
     ]
    }
   ],
   "source": [
    "print(dir(recording1))"
   ]
  },
  {
   "cell_type": "code",
   "execution_count": 83,
   "id": "d5227c50-b678-4104-bbfe-e4c649f5c57f",
   "metadata": {
    "execution": {
     "iopub.execute_input": "2024-06-12T16:53:39.920575Z",
     "iopub.status.busy": "2024-06-12T16:53:39.917574Z",
     "iopub.status.idle": "2024-06-12T16:53:39.959729Z",
     "shell.execute_reply": "2024-06-12T16:53:39.956724Z",
     "shell.execute_reply.started": "2024-06-12T16:53:39.920575Z"
    }
   },
   "outputs": [
    {
     "data": {
      "text/plain": [
       "{85: array([1, 1, 0, ..., 0, 0, 0], dtype=int64),\n",
       " 55: array([1, 0, 1, ..., 1, 1, 1], dtype=int64),\n",
       " 17: array([0, 1, 2, ..., 1, 0, 0], dtype=int64),\n",
       " 24: array([0, 1, 1, ..., 0, 0, 0], dtype=int64),\n",
       " 68: array([0, 0, 1, ..., 0, 0, 0], dtype=int64),\n",
       " 65: array([0, 0, 1, ..., 0, 0, 0], dtype=int64),\n",
       " 98: array([0, 0, 1, ..., 0, 0, 0], dtype=int64),\n",
       " 94: array([0, 0, 1, ..., 0, 0, 0], dtype=int64),\n",
       " 2: array([0, 0, 0, ..., 0, 0, 0], dtype=int64),\n",
       " 33: array([0, 0, 0, ..., 0, 0, 1], dtype=int64),\n",
       " 13: array([0, 0, 0, ..., 1, 1, 0], dtype=int64),\n",
       " 59: array([0, 0, 0, ..., 0, 0, 1], dtype=int64),\n",
       " 81: array([0, 0, 0, ..., 0, 1, 0], dtype=int64),\n",
       " 19: array([0, 0, 0, ..., 1, 1, 0], dtype=int64),\n",
       " 88: array([0, 0, 0, ..., 0, 0, 0], dtype=int64),\n",
       " 26: array([0, 0, 0, ..., 1, 1, 0], dtype=int64),\n",
       " 5: array([0, 0, 0, ..., 0, 0, 0], dtype=int64),\n",
       " 36: array([0, 0, 0, ..., 1, 2, 2], dtype=int64),\n",
       " 57: array([0, 0, 0, ..., 0, 0, 0], dtype=int64)}"
      ]
     },
     "execution_count": 83,
     "metadata": {},
     "output_type": "execute_result"
    }
   ],
   "source": [
    "recording1.unit_spiketrains"
   ]
  },
  {
   "cell_type": "code",
   "execution_count": 84,
   "id": "e16d5960-d75f-4d79-981e-49a4679f6db4",
   "metadata": {
    "execution": {
     "iopub.execute_input": "2024-06-12T16:53:39.966726Z",
     "iopub.status.busy": "2024-06-12T16:53:39.964732Z",
     "iopub.status.idle": "2024-06-12T16:53:39.993725Z",
     "shell.execute_reply": "2024-06-12T16:53:39.988739Z",
     "shell.execute_reply.started": "2024-06-12T16:53:39.966726Z"
    }
   },
   "outputs": [
    {
     "data": {
      "text/plain": [
       "34146"
      ]
     },
     "execution_count": 84,
     "metadata": {},
     "output_type": "execute_result"
    }
   ],
   "source": [
    "len(recording1.unit_spiketrains[85])"
   ]
  },
  {
   "cell_type": "code",
   "execution_count": 85,
   "id": "4eb5eae5-9d8b-48a6-a6ab-b988b02453d0",
   "metadata": {
    "execution": {
     "iopub.execute_input": "2024-06-12T16:53:40.000727Z",
     "iopub.status.busy": "2024-06-12T16:53:39.998733Z",
     "iopub.status.idle": "2024-06-12T16:53:40.022733Z",
     "shell.execute_reply": "2024-06-12T16:53:40.020734Z",
     "shell.execute_reply.started": "2024-06-12T16:53:40.000727Z"
    }
   },
   "outputs": [
    {
     "data": {
      "text/plain": [
       "0"
      ]
     },
     "execution_count": 85,
     "metadata": {},
     "output_type": "execute_result"
    }
   ],
   "source": [
    "recording1.unit_spiketrains[85][34145]"
   ]
  },
  {
   "cell_type": "code",
   "execution_count": 86,
   "id": "375aa025-7a7c-4b1a-9438-1c2fb0aaf0fb",
   "metadata": {
    "execution": {
     "iopub.execute_input": "2024-06-12T16:53:40.033724Z",
     "iopub.status.busy": "2024-06-12T16:53:40.031731Z",
     "iopub.status.idle": "2024-06-12T16:53:40.055301Z",
     "shell.execute_reply": "2024-06-12T16:53:40.052754Z",
     "shell.execute_reply.started": "2024-06-12T16:53:40.032724Z"
    }
   },
   "outputs": [
    {
     "data": {
      "text/plain": [
       "11"
      ]
     },
     "execution_count": 86,
     "metadata": {},
     "output_type": "execute_result"
    }
   ],
   "source": [
    "recording1.unit_spiketrains[85].max()"
   ]
  },
  {
   "cell_type": "code",
   "execution_count": 87,
   "id": "2e360a92-21f1-4b85-b614-07969dc57f00",
   "metadata": {
    "execution": {
     "iopub.execute_input": "2024-06-12T16:53:40.062299Z",
     "iopub.status.busy": "2024-06-12T16:53:40.059297Z",
     "iopub.status.idle": "2024-06-12T16:53:40.101294Z",
     "shell.execute_reply": "2024-06-12T16:53:40.099302Z",
     "shell.execute_reply.started": "2024-06-12T16:53:40.062299Z"
    }
   },
   "outputs": [
    {
     "data": {
      "text/plain": [
       "{85: array([ 5., 10.,  5., ...,  0.,  0.,  0.]),\n",
       " 55: array([ 5.,  5.,  5., ...,  5., 10., 10.]),\n",
       " 17: array([ 0.,  5., 15., ...,  5.,  5.,  0.]),\n",
       " 24: array([ 0.,  5., 10., ...,  0.,  0.,  0.]),\n",
       " 68: array([0., 0., 5., ..., 0., 0., 0.]),\n",
       " 65: array([0., 0., 5., ..., 0., 0., 0.]),\n",
       " 98: array([0., 0., 5., ..., 0., 0., 0.]),\n",
       " 94: array([0., 0., 5., ..., 0., 0., 0.]),\n",
       " 2: array([0., 0., 0., ..., 0., 0., 0.]),\n",
       " 33: array([0., 0., 0., ..., 5., 0., 5.]),\n",
       " 13: array([ 0.,  0.,  0., ...,  5., 10.,  5.]),\n",
       " 59: array([0., 0., 0., ..., 5., 0., 5.]),\n",
       " 81: array([0., 0., 0., ..., 0., 5., 5.]),\n",
       " 19: array([ 0.,  0.,  0., ...,  5., 10.,  5.]),\n",
       " 88: array([0., 0., 0., ..., 0., 0., 0.]),\n",
       " 26: array([ 0.,  0.,  0., ..., 15., 10.,  5.]),\n",
       " 5: array([0., 0., 0., ..., 0., 0., 0.]),\n",
       " 36: array([ 0.,  0.,  0., ...,  5., 15., 20.]),\n",
       " 57: array([0., 0., 0., ..., 0., 0., 0.])}"
      ]
     },
     "execution_count": 87,
     "metadata": {},
     "output_type": "execute_result"
    }
   ],
   "source": [
    "recording1.unit_firing_rates"
   ]
  },
  {
   "cell_type": "code",
   "execution_count": 88,
   "id": "2c31defd-43ea-48b4-a417-2f304d64bdac",
   "metadata": {
    "execution": {
     "iopub.execute_input": "2024-06-12T16:53:40.107303Z",
     "iopub.status.busy": "2024-06-12T16:53:40.105294Z",
     "iopub.status.idle": "2024-06-12T16:53:40.134294Z",
     "shell.execute_reply": "2024-06-12T16:53:40.131295Z",
     "shell.execute_reply.started": "2024-06-12T16:53:40.107303Z"
    }
   },
   "outputs": [
    {
     "data": {
      "text/plain": [
       "34146"
      ]
     },
     "execution_count": 88,
     "metadata": {},
     "output_type": "execute_result"
    }
   ],
   "source": [
    "len(recording1.unit_firing_rates[85])"
   ]
  },
  {
   "cell_type": "code",
   "execution_count": 89,
   "id": "fdf9be9e-f0e0-41f3-9ca4-eba4db0fe04e",
   "metadata": {
    "execution": {
     "iopub.execute_input": "2024-06-12T16:53:40.139327Z",
     "iopub.status.busy": "2024-06-12T16:53:40.138329Z",
     "iopub.status.idle": "2024-06-12T16:53:41.026266Z",
     "shell.execute_reply": "2024-06-12T16:53:41.024114Z",
     "shell.execute_reply.started": "2024-06-12T16:53:40.139327Z"
    }
   },
   "outputs": [
    {
     "name": "stdout",
     "output_type": "stream",
     "text": [
      "All set to analyze\n"
     ]
    }
   ],
   "source": [
    "spike_analysis = spike.SpikeAnalysis_MultiRecording(ephys_data, timebin = 100, ignore_freq = 0.5)"
   ]
  },
  {
   "cell_type": "code",
   "execution_count": 90,
   "id": "7ac7af1e-f78f-4af1-955e-94ae0b24b693",
   "metadata": {
    "execution": {
     "iopub.execute_input": "2024-06-12T16:53:41.029270Z",
     "iopub.status.busy": "2024-06-12T16:53:41.028272Z",
     "iopub.status.idle": "2024-06-12T16:53:41.042739Z",
     "shell.execute_reply": "2024-06-12T16:53:41.039291Z",
     "shell.execute_reply.started": "2024-06-12T16:53:41.029270Z"
    }
   },
   "outputs": [],
   "source": [
    "recordings = spike_analysis.ephyscollection.collection\n",
    "recording_name = '20230612_101430_standard_comp_to_training_D1_subj_1-3_t3b3L_box2_merged.rec'\n",
    "recording1 = recordings.get(recording_name)\n",
    "recording1win = recording1.event_dict['win']"
   ]
  },
  {
   "cell_type": "code",
   "execution_count": 91,
   "id": "32dc403e-c062-42d7-b573-1f0bf31db4c0",
   "metadata": {
    "execution": {
     "iopub.execute_input": "2024-06-12T16:53:41.049426Z",
     "iopub.status.busy": "2024-06-12T16:53:41.047425Z",
     "iopub.status.idle": "2024-06-12T16:53:41.078556Z",
     "shell.execute_reply": "2024-06-12T16:53:41.076255Z",
     "shell.execute_reply.started": "2024-06-12T16:53:41.049426Z"
    }
   },
   "outputs": [
    {
     "data": {
      "text/plain": [
       "34146"
      ]
     },
     "execution_count": 91,
     "metadata": {},
     "output_type": "execute_result"
    }
   ],
   "source": [
    "len(recording1.unit_spiketrains[85])"
   ]
  },
  {
   "cell_type": "code",
   "execution_count": 92,
   "id": "c24f4459-7532-436f-8fdc-19751af34ea2",
   "metadata": {
    "execution": {
     "iopub.execute_input": "2024-06-12T16:53:41.085559Z",
     "iopub.status.busy": "2024-06-12T16:53:41.083579Z",
     "iopub.status.idle": "2024-06-12T16:53:41.110703Z",
     "shell.execute_reply": "2024-06-12T16:53:41.108180Z",
     "shell.execute_reply.started": "2024-06-12T16:53:41.085559Z"
    }
   },
   "outputs": [
    {
     "data": {
      "text/plain": [
       "1682"
      ]
     },
     "execution_count": 92,
     "metadata": {},
     "output_type": "execute_result"
    }
   ],
   "source": [
    "pre_window = 10\n",
    "timebin = 100\n",
    "pre_event = math.ceil((recording1win[0][0] / timebin) - pre_window)\n",
    "pre_event"
   ]
  },
  {
   "cell_type": "code",
   "execution_count": 93,
   "id": "3fbaedc9-17ad-49f6-aa18-5a77ccab9f18",
   "metadata": {
    "execution": {
     "iopub.execute_input": "2024-06-12T16:53:41.114707Z",
     "iopub.status.busy": "2024-06-12T16:53:41.113709Z",
     "iopub.status.idle": "2024-06-12T16:53:41.142829Z",
     "shell.execute_reply": "2024-06-12T16:53:41.140356Z",
     "shell.execute_reply.started": "2024-06-12T16:53:41.114707Z"
    }
   },
   "outputs": [
    {
     "data": {
      "text/plain": [
       "1692"
      ]
     },
     "execution_count": 93,
     "metadata": {},
     "output_type": "execute_result"
    }
   ],
   "source": [
    "pre_event = math.ceil((recording1win[0][0] - pre_window) / timebin)\n",
    "pre_event"
   ]
  },
  {
   "cell_type": "code",
   "execution_count": 94,
   "id": "76d5705f-db31-42f9-a69d-1d8da19e5e06",
   "metadata": {
    "execution": {
     "iopub.execute_input": "2024-06-12T16:53:41.148166Z",
     "iopub.status.busy": "2024-06-12T16:53:41.147181Z",
     "iopub.status.idle": "2024-06-12T16:53:41.178228Z",
     "shell.execute_reply": "2024-06-12T16:53:41.175149Z",
     "shell.execute_reply.started": "2024-06-12T16:53:41.148166Z"
    }
   },
   "outputs": [
    {
     "data": {
      "text/plain": [
       "169111"
      ]
     },
     "execution_count": 94,
     "metadata": {},
     "output_type": "execute_result"
    }
   ],
   "source": [
    "recording1win[0][0]"
   ]
  },
  {
   "cell_type": "code",
   "execution_count": 95,
   "id": "6db83393-98c8-48ad-9525-ed1c20a18b13",
   "metadata": {
    "execution": {
     "iopub.execute_input": "2024-06-12T16:53:41.184220Z",
     "iopub.status.busy": "2024-06-12T16:53:41.182229Z",
     "iopub.status.idle": "2024-06-12T16:53:41.215275Z",
     "shell.execute_reply": "2024-06-12T16:53:41.207962Z",
     "shell.execute_reply.started": "2024-06-12T16:53:41.183224Z"
    }
   },
   "outputs": [
    {
     "data": {
      "text/plain": [
       "169101"
      ]
     },
     "execution_count": 95,
     "metadata": {},
     "output_type": "execute_result"
    }
   ],
   "source": [
    "recording1win[0][0] - 10"
   ]
  },
  {
   "cell_type": "code",
   "execution_count": 96,
   "id": "753be486-deaa-492c-963a-f692f8b86c03",
   "metadata": {
    "execution": {
     "iopub.execute_input": "2024-06-12T16:53:41.220286Z",
     "iopub.status.busy": "2024-06-12T16:53:41.219285Z",
     "iopub.status.idle": "2024-06-12T16:53:41.246198Z",
     "shell.execute_reply": "2024-06-12T16:53:41.242935Z",
     "shell.execute_reply.started": "2024-06-12T16:53:41.220286Z"
    }
   },
   "outputs": [
    {
     "data": {
      "text/plain": [
       "169011"
      ]
     },
     "execution_count": 96,
     "metadata": {},
     "output_type": "execute_result"
    }
   ],
   "source": [
    "pre_event = math.ceil(recording1win[0][0] - (pre_window*1000/timebin))\n",
    "pre_event"
   ]
  },
  {
   "cell_type": "code",
   "execution_count": 97,
   "id": "dfe92c8b-6387-47e1-8dd3-38578d5395e4",
   "metadata": {
    "execution": {
     "iopub.execute_input": "2024-06-12T16:53:41.254723Z",
     "iopub.status.busy": "2024-06-12T16:53:41.252193Z",
     "iopub.status.idle": "2024-06-12T16:53:41.278642Z",
     "shell.execute_reply": "2024-06-12T16:53:41.274854Z",
     "shell.execute_reply.started": "2024-06-12T16:53:41.254723Z"
    }
   },
   "outputs": [
    {
     "data": {
      "text/plain": [
       "array([ 0,  1,  2,  3,  4,  5,  6,  7,  8,  9, 10, 11, 12, 13, 14, 15, 16,\n",
       "       17, 18, 19, 20, 21, 22, 23, 24, 25, 26, 27, 28, 29])"
      ]
     },
     "execution_count": 97,
     "metadata": {},
     "output_type": "execute_result"
    }
   ],
   "source": [
    "og_spiketrain = np.arange(30)\n",
    "og_spiketrain"
   ]
  },
  {
   "cell_type": "code",
   "execution_count": 98,
   "id": "76884a91-89a5-4f41-80c5-6495652d79aa",
   "metadata": {
    "execution": {
     "iopub.execute_input": "2024-06-12T16:53:41.288632Z",
     "iopub.status.busy": "2024-06-12T16:53:41.287638Z",
     "iopub.status.idle": "2024-06-12T16:53:41.311328Z",
     "shell.execute_reply": "2024-06-12T16:53:41.307137Z",
     "shell.execute_reply.started": "2024-06-12T16:53:41.288632Z"
    }
   },
   "outputs": [
    {
     "data": {
      "text/plain": [
       "array([ 1,  2,  3,  4,  5,  6,  7,  8,  9, 10, 11, 12, 13, 14, 15, 16, 17,\n",
       "       18, 19, 20, 21, 22, 23, 24, 25, 26, 27, 28, 29, 30])"
      ]
     },
     "execution_count": 98,
     "metadata": {},
     "output_type": "execute_result"
    }
   ],
   "source": [
    "og_spiketrain = og_spiketrain+1\n",
    "og_spiketrain"
   ]
  },
  {
   "cell_type": "code",
   "execution_count": 99,
   "id": "e99091ec-f7f5-4ef7-936a-4f0010081eb6",
   "metadata": {
    "execution": {
     "iopub.execute_input": "2024-06-12T16:53:41.317328Z",
     "iopub.status.busy": "2024-06-12T16:53:41.315321Z",
     "iopub.status.idle": "2024-06-12T16:53:41.345303Z",
     "shell.execute_reply": "2024-06-12T16:53:41.341640Z",
     "shell.execute_reply.started": "2024-06-12T16:53:41.316332Z"
    }
   },
   "outputs": [],
   "source": [
    "unit_spiketrains = np.array([1,2,3,4,5,6])"
   ]
  },
  {
   "cell_type": "code",
   "execution_count": 100,
   "id": "4f2d53cb-cea2-430f-b0ff-71ad0b59bd37",
   "metadata": {
    "execution": {
     "iopub.execute_input": "2024-06-12T16:53:41.358400Z",
     "iopub.status.busy": "2024-06-12T16:53:41.355392Z",
     "iopub.status.idle": "2024-06-12T16:53:41.396602Z",
     "shell.execute_reply": "2024-06-12T16:53:41.392482Z",
     "shell.execute_reply.started": "2024-06-12T16:53:41.358400Z"
    }
   },
   "outputs": [
    {
     "data": {
      "text/plain": [
       "array([1, 2, 3, 4, 5, 6])"
      ]
     },
     "execution_count": 100,
     "metadata": {},
     "output_type": "execute_result"
    }
   ],
   "source": [
    "unit_spiketrains"
   ]
  },
  {
   "cell_type": "code",
   "execution_count": 101,
   "id": "4da27a89-62ab-4eca-9ff4-010d629ffa7d",
   "metadata": {
    "execution": {
     "iopub.execute_input": "2024-06-12T16:53:41.445518Z",
     "iopub.status.busy": "2024-06-12T16:53:41.424645Z",
     "iopub.status.idle": "2024-06-12T16:53:41.478596Z",
     "shell.execute_reply": "2024-06-12T16:53:41.475115Z",
     "shell.execute_reply.started": "2024-06-12T16:53:41.445518Z"
    }
   },
   "outputs": [
    {
     "data": {
      "text/plain": [
       "array([1, 2, 3, 4, 5, 6])"
      ]
     },
     "execution_count": 101,
     "metadata": {},
     "output_type": "execute_result"
    }
   ],
   "source": [
    "unit_spiketrains"
   ]
  },
  {
   "cell_type": "code",
   "execution_count": 102,
   "id": "536de12d-23f1-4b7e-b22f-e20b5ca5c767",
   "metadata": {
    "execution": {
     "iopub.execute_input": "2024-06-12T16:53:41.486588Z",
     "iopub.status.busy": "2024-06-12T16:53:41.485596Z",
     "iopub.status.idle": "2024-06-12T16:53:41.512901Z",
     "shell.execute_reply": "2024-06-12T16:53:41.508206Z",
     "shell.execute_reply.started": "2024-06-12T16:53:41.486588Z"
    }
   },
   "outputs": [],
   "source": [
    "event_dict1 = ([[ 15,  20],\n",
    "       [ 25,  30]])"
   ]
  },
  {
   "cell_type": "code",
   "execution_count": 103,
   "id": "67eba2c0-2e18-41c7-bdb8-140a9a376a0f",
   "metadata": {
    "execution": {
     "iopub.execute_input": "2024-06-12T16:53:41.535895Z",
     "iopub.status.busy": "2024-06-12T16:53:41.533890Z",
     "iopub.status.idle": "2024-06-12T16:53:41.561195Z",
     "shell.execute_reply": "2024-06-12T16:53:41.557730Z",
     "shell.execute_reply.started": "2024-06-12T16:53:41.535895Z"
    }
   },
   "outputs": [
    {
     "data": {
      "text/plain": [
       "[[15, 20], [25, 30]]"
      ]
     },
     "execution_count": 103,
     "metadata": {},
     "output_type": "execute_result"
    }
   ],
   "source": [
    "event_dict1"
   ]
  },
  {
   "cell_type": "code",
   "execution_count": 104,
   "id": "8fbb0d74-a6f4-48eb-8527-a360fc155ea0",
   "metadata": {
    "execution": {
     "iopub.execute_input": "2024-06-12T16:53:41.617409Z",
     "iopub.status.busy": "2024-06-12T16:53:41.615409Z",
     "iopub.status.idle": "2024-06-12T16:53:41.646312Z",
     "shell.execute_reply": "2024-06-12T16:53:41.642368Z",
     "shell.execute_reply.started": "2024-06-12T16:53:41.617409Z"
    }
   },
   "outputs": [
    {
     "data": {
      "text/plain": [
       "15"
      ]
     },
     "execution_count": 104,
     "metadata": {},
     "output_type": "execute_result"
    }
   ],
   "source": [
    "event_dict1[0][0]"
   ]
  },
  {
   "cell_type": "code",
   "execution_count": 105,
   "id": "7eb6f5d7-5ad7-409f-a918-e07d6f1b6408",
   "metadata": {
    "execution": {
     "iopub.execute_input": "2024-06-12T16:53:41.653303Z",
     "iopub.status.busy": "2024-06-12T16:53:41.652308Z",
     "iopub.status.idle": "2024-06-12T16:53:41.696018Z",
     "shell.execute_reply": "2024-06-12T16:53:41.690209Z",
     "shell.execute_reply.started": "2024-06-12T16:53:41.653303Z"
    }
   },
   "outputs": [
    {
     "data": {
      "text/plain": [
       "3.0"
      ]
     },
     "execution_count": 105,
     "metadata": {},
     "output_type": "execute_result"
    }
   ],
   "source": [
    "pre_window = 0.01\n",
    "timebin = 5\n",
    "\n",
    "event_start = event_dict1[0][0] / timebin\n",
    "event_start"
   ]
  },
  {
   "cell_type": "code",
   "execution_count": 106,
   "id": "dff7524d-2b6a-4b03-8615-a74db06d8199",
   "metadata": {
    "execution": {
     "iopub.execute_input": "2024-06-12T16:53:41.701029Z",
     "iopub.status.busy": "2024-06-12T16:53:41.700023Z",
     "iopub.status.idle": "2024-06-12T16:53:41.762788Z",
     "shell.execute_reply": "2024-06-12T16:53:41.759804Z",
     "shell.execute_reply.started": "2024-06-12T16:53:41.701029Z"
    }
   },
   "outputs": [
    {
     "data": {
      "text/plain": [
       "1.0"
      ]
     },
     "execution_count": 106,
     "metadata": {},
     "output_type": "execute_result"
    }
   ],
   "source": [
    "pre_event_start = event_start - (pre_window*1000/timebin)\n",
    "pre_event_start"
   ]
  },
  {
   "cell_type": "code",
   "execution_count": 107,
   "id": "bd13f69c-7277-4f53-8838-d1c32b90cd43",
   "metadata": {
    "execution": {
     "iopub.execute_input": "2024-06-12T16:53:41.780789Z",
     "iopub.status.busy": "2024-06-12T16:53:41.779784Z",
     "iopub.status.idle": "2024-06-12T16:53:41.811938Z",
     "shell.execute_reply": "2024-06-12T16:53:41.809258Z",
     "shell.execute_reply.started": "2024-06-12T16:53:41.780789Z"
    }
   },
   "outputs": [
    {
     "data": {
      "text/plain": [
       "1592"
      ]
     },
     "execution_count": 107,
     "metadata": {},
     "output_type": "execute_result"
    }
   ],
   "source": [
    "pre_window = 10\n",
    "timebin = 100\n",
    "pre_event = math.ceil((recording1win[0][0] / timebin) - (pre_window*1000/timebin))\n",
    "pre_event"
   ]
  },
  {
   "cell_type": "code",
   "execution_count": 108,
   "id": "0f825379-302c-45f1-905c-4ac99b5a7bc5",
   "metadata": {
    "execution": {
     "iopub.execute_input": "2024-06-12T16:53:41.821948Z",
     "iopub.status.busy": "2024-06-12T16:53:41.820954Z",
     "iopub.status.idle": "2024-06-12T16:53:41.844077Z",
     "shell.execute_reply": "2024-06-12T16:53:41.841555Z",
     "shell.execute_reply.started": "2024-06-12T16:53:41.821948Z"
    }
   },
   "outputs": [
    {
     "data": {
      "text/plain": [
       "1592"
      ]
     },
     "execution_count": 108,
     "metadata": {},
     "output_type": "execute_result"
    }
   ],
   "source": [
    "pre_window = math.ceil(pre_window * 1000)\n",
    "\n",
    "pre_event = math.ceil((recording1win[0][0] - pre_window) / timebin)\n",
    "pre_event"
   ]
  },
  {
   "cell_type": "code",
   "execution_count": 109,
   "id": "5e202f5d-9dbd-46ce-ab77-52e6716990c6",
   "metadata": {
    "execution": {
     "iopub.execute_input": "2024-06-12T16:53:41.861815Z",
     "iopub.status.busy": "2024-06-12T16:53:41.859796Z",
     "iopub.status.idle": "2024-06-12T16:53:41.878895Z",
     "shell.execute_reply": "2024-06-12T16:53:41.876886Z",
     "shell.execute_reply.started": "2024-06-12T16:53:41.861815Z"
    }
   },
   "outputs": [
    {
     "data": {
      "text/plain": [
       "169111"
      ]
     },
     "execution_count": 109,
     "metadata": {},
     "output_type": "execute_result"
    }
   ],
   "source": [
    "recording1win[0][0]"
   ]
  },
  {
   "cell_type": "code",
   "execution_count": 110,
   "id": "f4fbcd90-7365-4508-9828-8bd44c986402",
   "metadata": {
    "execution": {
     "iopub.execute_input": "2024-06-12T16:53:41.916713Z",
     "iopub.status.busy": "2024-06-12T16:53:41.915707Z",
     "iopub.status.idle": "2024-06-12T16:53:41.945037Z",
     "shell.execute_reply": "2024-06-12T16:53:41.941367Z",
     "shell.execute_reply.started": "2024-06-12T16:53:41.916713Z"
    }
   },
   "outputs": [
    {
     "data": {
      "text/plain": [
       "(34146,)"
      ]
     },
     "execution_count": 110,
     "metadata": {},
     "output_type": "execute_result"
    }
   ],
   "source": [
    "recording1.unit_firing_rates[85].shape"
   ]
  },
  {
   "cell_type": "code",
   "execution_count": 111,
   "id": "7ea5a1ee-2944-4ddf-a0ce-a29fcd42b864",
   "metadata": {
    "execution": {
     "iopub.execute_input": "2024-06-12T16:53:41.954029Z",
     "iopub.status.busy": "2024-06-12T16:53:41.953031Z",
     "iopub.status.idle": "2024-06-12T16:53:41.977969Z",
     "shell.execute_reply": "2024-06-12T16:53:41.974874Z",
     "shell.execute_reply.started": "2024-06-12T16:53:41.954029Z"
    }
   },
   "outputs": [
    {
     "data": {
      "text/plain": [
       "array([10., 10.,  0., ...,  0.,  0.,  0.])"
      ]
     },
     "execution_count": 111,
     "metadata": {},
     "output_type": "execute_result"
    }
   ],
   "source": [
    "recording1.unit_firing_rates[85]"
   ]
  },
  {
   "cell_type": "code",
   "execution_count": 112,
   "id": "ebc3be8c-be9b-4246-8974-262d97ee6525",
   "metadata": {
    "execution": {
     "iopub.execute_input": "2024-06-12T16:53:41.994965Z",
     "iopub.status.busy": "2024-06-12T16:53:41.993966Z",
     "iopub.status.idle": "2024-06-12T16:53:42.010959Z",
     "shell.execute_reply": "2024-06-12T16:53:42.007972Z",
     "shell.execute_reply.started": "2024-06-12T16:53:41.994965Z"
    }
   },
   "outputs": [
    {
     "data": {
      "text/plain": [
       "34146"
      ]
     },
     "execution_count": 112,
     "metadata": {},
     "output_type": "execute_result"
    }
   ],
   "source": [
    "len(recording1.unit_firing_rates[85])"
   ]
  },
  {
   "cell_type": "code",
   "execution_count": 113,
   "id": "ee6afcf8-c69c-4e44-b21d-b3011678bf37",
   "metadata": {
    "execution": {
     "iopub.execute_input": "2024-06-12T16:53:42.017964Z",
     "iopub.status.busy": "2024-06-12T16:53:42.016966Z",
     "iopub.status.idle": "2024-06-12T16:53:42.040994Z",
     "shell.execute_reply": "2024-06-12T16:53:42.038968Z",
     "shell.execute_reply.started": "2024-06-12T16:53:42.017964Z"
    }
   },
   "outputs": [
    {
     "data": {
      "text/plain": [
       "15392"
      ]
     },
     "execution_count": 113,
     "metadata": {},
     "output_type": "execute_result"
    }
   ],
   "source": [
    "pre_window = 10\n",
    "timebin = 100\n",
    "pre_event = math.ceil((recording1win[12][0] / timebin) - (pre_window*1000/timebin))\n",
    "pre_event"
   ]
  },
  {
   "cell_type": "code",
   "execution_count": 114,
   "id": "bfcb679d-4cca-4b32-8991-e6a79c8f12b8",
   "metadata": {
    "execution": {
     "iopub.execute_input": "2024-06-12T16:53:42.061544Z",
     "iopub.status.busy": "2024-06-12T16:53:42.052992Z",
     "iopub.status.idle": "2024-06-12T16:53:42.088538Z",
     "shell.execute_reply": "2024-06-12T16:53:42.086541Z",
     "shell.execute_reply.started": "2024-06-12T16:53:42.061544Z"
    }
   },
   "outputs": [
    {
     "data": {
      "text/plain": [
       "1842"
      ]
     },
     "execution_count": 114,
     "metadata": {},
     "output_type": "execute_result"
    }
   ],
   "source": [
    "pre_window = 10\n",
    "timebin = 100\n",
    "equalize = 10\n",
    "post_window = 5\n",
    "\n",
    "pre_window = math.ceil(pre_window * 1000)\n",
    "post_window = math.ceil(post_window * 1000)\n",
    "equalize = equalize * 1000\n",
    "e_length = equalize + post_window + pre_window\n",
    "\n",
    "post_event = math.ceil((recording1win[0][0] + post_window + equalize) / timebin)\n",
    "post_event"
   ]
  },
  {
   "cell_type": "code",
   "execution_count": 115,
   "id": "bbc26cd7-17d5-4d5c-9a6e-8be693758089",
   "metadata": {
    "execution": {
     "iopub.execute_input": "2024-06-12T16:53:42.097542Z",
     "iopub.status.busy": "2024-06-12T16:53:42.095542Z",
     "iopub.status.idle": "2024-06-12T16:53:42.120542Z",
     "shell.execute_reply": "2024-06-12T16:53:42.118541Z",
     "shell.execute_reply.started": "2024-06-12T16:53:42.097542Z"
    }
   },
   "outputs": [
    {
     "data": {
      "text/plain": [
       "1592"
      ]
     },
     "execution_count": 115,
     "metadata": {},
     "output_type": "execute_result"
    }
   ],
   "source": [
    "pre_window = 10\n",
    "timebin = 100\n",
    "pre_event = math.ceil((recording1win[0][0] / timebin) - (pre_window*1000/timebin))\n",
    "pre_event"
   ]
  },
  {
   "cell_type": "code",
   "execution_count": 116,
   "id": "a4927ecc-74d2-43e0-a0a6-42dabf89fb4f",
   "metadata": {
    "execution": {
     "iopub.execute_input": "2024-06-12T16:53:42.139535Z",
     "iopub.status.busy": "2024-06-12T16:53:42.138538Z",
     "iopub.status.idle": "2024-06-12T16:53:42.168094Z",
     "shell.execute_reply": "2024-06-12T16:53:42.166095Z",
     "shell.execute_reply.started": "2024-06-12T16:53:42.139535Z"
    }
   },
   "outputs": [
    {
     "data": {
      "text/plain": [
       "1742"
      ]
     },
     "execution_count": 116,
     "metadata": {},
     "output_type": "execute_result"
    }
   ],
   "source": [
    "1592+100+50"
   ]
  },
  {
   "cell_type": "code",
   "execution_count": 117,
   "id": "72bd05e3-759d-4521-890b-a131dba28fbc",
   "metadata": {
    "execution": {
     "iopub.execute_input": "2024-06-12T16:53:42.183092Z",
     "iopub.status.busy": "2024-06-12T16:53:42.182099Z",
     "iopub.status.idle": "2024-06-12T16:53:42.201096Z",
     "shell.execute_reply": "2024-06-12T16:53:42.198094Z",
     "shell.execute_reply.started": "2024-06-12T16:53:42.183092Z"
    }
   },
   "outputs": [
    {
     "data": {
      "text/plain": [
       "1691.11"
      ]
     },
     "execution_count": 117,
     "metadata": {},
     "output_type": "execute_result"
    }
   ],
   "source": [
    "recording1win[0][0] / timebin"
   ]
  },
  {
   "cell_type": "code",
   "execution_count": 118,
   "id": "ba2feb3b-ca0d-4c31-813c-306dd01d1776",
   "metadata": {
    "execution": {
     "iopub.execute_input": "2024-06-12T16:53:42.216096Z",
     "iopub.status.busy": "2024-06-12T16:53:42.215091Z",
     "iopub.status.idle": "2024-06-12T16:53:42.247112Z",
     "shell.execute_reply": "2024-06-12T16:53:42.245120Z",
     "shell.execute_reply.started": "2024-06-12T16:53:42.216096Z"
    }
   },
   "outputs": [
    {
     "data": {
      "text/plain": [
       "1742"
      ]
     },
     "execution_count": 118,
     "metadata": {},
     "output_type": "execute_result"
    }
   ],
   "source": [
    "1692+50"
   ]
  },
  {
   "cell_type": "code",
   "execution_count": 119,
   "id": "63b35b68-7ec5-4e35-9d57-b9e047ed71a1",
   "metadata": {
    "execution": {
     "iopub.execute_input": "2024-06-12T16:53:42.254112Z",
     "iopub.status.busy": "2024-06-12T16:53:42.252114Z",
     "iopub.status.idle": "2024-06-12T16:53:42.279655Z",
     "shell.execute_reply": "2024-06-12T16:53:42.276668Z",
     "shell.execute_reply.started": "2024-06-12T16:53:42.254112Z"
    }
   },
   "outputs": [
    {
     "data": {
      "text/plain": [
       "1742"
      ]
     },
     "execution_count": 119,
     "metadata": {},
     "output_type": "execute_result"
    }
   ],
   "source": [
    "pre_window = 10\n",
    "timebin = 100\n",
    "equalize = 10\n",
    "post_window = 5\n",
    "\n",
    "post_event = math.ceil((recording1win[0][0] / timebin) + (post_window*1000/timebin))\n",
    "post_event"
   ]
  },
  {
   "cell_type": "code",
   "execution_count": 120,
   "id": "5e876af4-a85f-47f9-a8f6-452df5cd33cd",
   "metadata": {
    "execution": {
     "iopub.execute_input": "2024-06-12T16:53:42.296658Z",
     "iopub.status.busy": "2024-06-12T16:53:42.294662Z",
     "iopub.status.idle": "2024-06-12T16:53:42.311653Z",
     "shell.execute_reply": "2024-06-12T16:53:42.309654Z",
     "shell.execute_reply.started": "2024-06-12T16:53:42.296658Z"
    }
   },
   "outputs": [
    {
     "data": {
      "text/plain": [
       "179111"
      ]
     },
     "execution_count": 120,
     "metadata": {},
     "output_type": "execute_result"
    }
   ],
   "source": [
    "recording1win[0][1]"
   ]
  },
  {
   "cell_type": "code",
   "execution_count": 121,
   "id": "3b238928-b969-4a05-8119-49a554a53bfc",
   "metadata": {
    "execution": {
     "iopub.execute_input": "2024-06-12T16:53:42.318657Z",
     "iopub.status.busy": "2024-06-12T16:53:42.317657Z",
     "iopub.status.idle": "2024-06-12T16:53:42.359225Z",
     "shell.execute_reply": "2024-06-12T16:53:42.356222Z",
     "shell.execute_reply.started": "2024-06-12T16:53:42.318657Z"
    }
   },
   "outputs": [
    {
     "data": {
      "text/plain": [
       "{85: array([1, 1, 0, ..., 0, 0, 0], dtype=int64),\n",
       " 55: array([1, 0, 1, ..., 1, 1, 1], dtype=int64),\n",
       " 17: array([0, 1, 2, ..., 1, 0, 0], dtype=int64),\n",
       " 24: array([0, 1, 1, ..., 0, 0, 0], dtype=int64),\n",
       " 68: array([0, 0, 1, ..., 0, 0, 0], dtype=int64),\n",
       " 65: array([0, 0, 1, ..., 0, 0, 0], dtype=int64),\n",
       " 98: array([0, 0, 1, ..., 0, 0, 0], dtype=int64),\n",
       " 94: array([0, 0, 1, ..., 0, 0, 0], dtype=int64),\n",
       " 2: array([0, 0, 0, ..., 0, 0, 0], dtype=int64),\n",
       " 33: array([0, 0, 0, ..., 0, 0, 1], dtype=int64),\n",
       " 13: array([0, 0, 0, ..., 1, 1, 0], dtype=int64),\n",
       " 59: array([0, 0, 0, ..., 0, 0, 1], dtype=int64),\n",
       " 81: array([0, 0, 0, ..., 0, 1, 0], dtype=int64),\n",
       " 19: array([0, 0, 0, ..., 1, 1, 0], dtype=int64),\n",
       " 88: array([0, 0, 0, ..., 0, 0, 0], dtype=int64),\n",
       " 26: array([0, 0, 0, ..., 1, 1, 0], dtype=int64),\n",
       " 5: array([0, 0, 0, ..., 0, 0, 0], dtype=int64),\n",
       " 36: array([0, 0, 0, ..., 1, 2, 2], dtype=int64),\n",
       " 57: array([0, 0, 0, ..., 0, 0, 0], dtype=int64)}"
      ]
     },
     "execution_count": 121,
     "metadata": {},
     "output_type": "execute_result"
    }
   ],
   "source": [
    "recording1.unit_spiketrains"
   ]
  },
  {
   "cell_type": "code",
   "execution_count": 122,
   "id": "5bf0b26e-270a-4200-a369-a361af0753a5",
   "metadata": {
    "execution": {
     "iopub.execute_input": "2024-06-12T16:53:42.371217Z",
     "iopub.status.busy": "2024-06-12T16:53:42.369227Z",
     "iopub.status.idle": "2024-06-12T16:53:42.392230Z",
     "shell.execute_reply": "2024-06-12T16:53:42.388217Z",
     "shell.execute_reply.started": "2024-06-12T16:53:42.371217Z"
    }
   },
   "outputs": [
    {
     "data": {
      "text/plain": [
       "array([[ 169111,  179111],\n",
       "       [ 479111,  489111],\n",
       "       [ 649110,  659110],\n",
       "       [ 754110,  764110],\n",
       "       [ 804110,  814110],\n",
       "       [ 884110,  894110],\n",
       "       [ 949110,  959110],\n",
       "       [1014110, 1024110],\n",
       "       [1134110, 1144110],\n",
       "       [1309110, 1319110],\n",
       "       [1379110, 1389110],\n",
       "       [1489110, 1499110],\n",
       "       [1549110, 1559110]], dtype=int64)"
      ]
     },
     "execution_count": 122,
     "metadata": {},
     "output_type": "execute_result"
    }
   ],
   "source": [
    "recording1win"
   ]
  },
  {
   "cell_type": "code",
   "execution_count": 123,
   "id": "09967656-d2e5-42a5-8a7a-feaec9951d96",
   "metadata": {
    "execution": {
     "iopub.execute_input": "2024-06-12T16:53:42.409221Z",
     "iopub.status.busy": "2024-06-12T16:53:42.408227Z",
     "iopub.status.idle": "2024-06-12T16:53:42.454241Z",
     "shell.execute_reply": "2024-06-12T16:53:42.451238Z",
     "shell.execute_reply.started": "2024-06-12T16:53:42.409221Z"
    }
   },
   "outputs": [
    {
     "data": {
      "text/plain": [
       "array([[ 1691.11,  1791.11],\n",
       "       [ 4791.11,  4891.11],\n",
       "       [ 6491.1 ,  6591.1 ],\n",
       "       [ 7541.1 ,  7641.1 ],\n",
       "       [ 8041.1 ,  8141.1 ],\n",
       "       [ 8841.1 ,  8941.1 ],\n",
       "       [ 9491.1 ,  9591.1 ],\n",
       "       [10141.1 , 10241.1 ],\n",
       "       [11341.1 , 11441.1 ],\n",
       "       [13091.1 , 13191.1 ],\n",
       "       [13791.1 , 13891.1 ],\n",
       "       [14891.1 , 14991.1 ],\n",
       "       [15491.1 , 15591.1 ]])"
      ]
     },
     "execution_count": 123,
     "metadata": {},
     "output_type": "execute_result"
    }
   ],
   "source": [
    "recording1win_binned = recording1win/timebin\n",
    "recording1win_binned"
   ]
  },
  {
   "cell_type": "code",
   "execution_count": 124,
   "id": "471cf5c2-c8c0-4a20-b962-0e1306e5e70d",
   "metadata": {
    "execution": {
     "iopub.execute_input": "2024-06-12T16:53:42.459779Z",
     "iopub.status.busy": "2024-06-12T16:53:42.458777Z",
     "iopub.status.idle": "2024-06-12T16:53:42.484774Z",
     "shell.execute_reply": "2024-06-12T16:53:42.481770Z",
     "shell.execute_reply.started": "2024-06-12T16:53:42.459779Z"
    }
   },
   "outputs": [
    {
     "data": {
      "text/plain": [
       "numpy.ndarray"
      ]
     },
     "execution_count": 124,
     "metadata": {},
     "output_type": "execute_result"
    }
   ],
   "source": [
    "type(recording1win_binned)"
   ]
  },
  {
   "cell_type": "code",
   "execution_count": 125,
   "id": "0ab4e013-5cb2-4775-b1d8-8d0f9d48997c",
   "metadata": {
    "execution": {
     "iopub.execute_input": "2024-06-12T16:53:42.490775Z",
     "iopub.status.busy": "2024-06-12T16:53:42.488781Z",
     "iopub.status.idle": "2024-06-12T16:53:42.515777Z",
     "shell.execute_reply": "2024-06-12T16:53:42.513771Z",
     "shell.execute_reply.started": "2024-06-12T16:53:42.490775Z"
    }
   },
   "outputs": [],
   "source": [
    "rounded_array = np.ceil(recording1win_binned).astype(int)"
   ]
  },
  {
   "cell_type": "code",
   "execution_count": 126,
   "id": "2fabb890-3091-4ffc-a3c2-7edb60809635",
   "metadata": {
    "execution": {
     "iopub.execute_input": "2024-06-12T16:53:42.522774Z",
     "iopub.status.busy": "2024-06-12T16:53:42.521774Z",
     "iopub.status.idle": "2024-06-12T16:53:42.546789Z",
     "shell.execute_reply": "2024-06-12T16:53:42.544782Z",
     "shell.execute_reply.started": "2024-06-12T16:53:42.522774Z"
    }
   },
   "outputs": [
    {
     "data": {
      "text/plain": [
       "array([[ 1692,  1792],\n",
       "       [ 4792,  4892],\n",
       "       [ 6492,  6592],\n",
       "       [ 7542,  7642],\n",
       "       [ 8042,  8142],\n",
       "       [ 8842,  8942],\n",
       "       [ 9492,  9592],\n",
       "       [10142, 10242],\n",
       "       [11342, 11442],\n",
       "       [13092, 13192],\n",
       "       [13792, 13892],\n",
       "       [14892, 14992],\n",
       "       [15492, 15592]])"
      ]
     },
     "execution_count": 126,
     "metadata": {},
     "output_type": "execute_result"
    }
   ],
   "source": [
    "rounded_array"
   ]
  },
  {
   "cell_type": "code",
   "execution_count": 127,
   "id": "8485940c-9459-4442-b8ad-f96f490f567a",
   "metadata": {
    "execution": {
     "iopub.execute_input": "2024-06-12T16:53:42.558314Z",
     "iopub.status.busy": "2024-06-12T16:53:42.557319Z",
     "iopub.status.idle": "2024-06-12T16:53:42.578321Z",
     "shell.execute_reply": "2024-06-12T16:53:42.576314Z",
     "shell.execute_reply.started": "2024-06-12T16:53:42.558314Z"
    }
   },
   "outputs": [
    {
     "data": {
      "text/plain": [
       "array([1692, 1792])"
      ]
     },
     "execution_count": 127,
     "metadata": {},
     "output_type": "execute_result"
    }
   ],
   "source": [
    "rounded_array[0]"
   ]
  },
  {
   "cell_type": "code",
   "execution_count": 128,
   "id": "5f9ed6d1-dbd1-4102-90b4-8e072a71e434",
   "metadata": {
    "execution": {
     "iopub.execute_input": "2024-06-12T16:53:42.600328Z",
     "iopub.status.busy": "2024-06-12T16:53:42.597325Z",
     "iopub.status.idle": "2024-06-12T16:53:42.625314Z",
     "shell.execute_reply": "2024-06-12T16:53:42.623315Z",
     "shell.execute_reply.started": "2024-06-12T16:53:42.600328Z"
    }
   },
   "outputs": [
    {
     "data": {
      "text/plain": [
       "array([1, 2], dtype=int64)"
      ]
     },
     "execution_count": 128,
     "metadata": {},
     "output_type": "execute_result"
    }
   ],
   "source": [
    "recording1.unit_spiketrains[85][rounded_array[0]]"
   ]
  },
  {
   "cell_type": "code",
   "execution_count": 129,
   "id": "93170000-45f2-4a63-8539-e9cd0606401c",
   "metadata": {
    "execution": {
     "iopub.execute_input": "2024-06-12T16:53:42.640318Z",
     "iopub.status.busy": "2024-06-12T16:53:42.639318Z",
     "iopub.status.idle": "2024-06-12T16:53:42.719537Z",
     "shell.execute_reply": "2024-06-12T16:53:42.716537Z",
     "shell.execute_reply.started": "2024-06-12T16:53:42.640318Z"
    }
   },
   "outputs": [
    {
     "data": {
      "text/plain": [
       "1692"
      ]
     },
     "execution_count": 129,
     "metadata": {},
     "output_type": "execute_result"
    }
   ],
   "source": [
    "rounded_array[0][0]"
   ]
  },
  {
   "cell_type": "code",
   "execution_count": 130,
   "id": "a56696d5-20db-4c80-96e5-fe95a2a58922",
   "metadata": {
    "execution": {
     "iopub.execute_input": "2024-06-12T16:53:42.774698Z",
     "iopub.status.busy": "2024-06-12T16:53:42.773694Z",
     "iopub.status.idle": "2024-06-12T16:53:42.798692Z",
     "shell.execute_reply": "2024-06-12T16:53:42.795696Z",
     "shell.execute_reply.started": "2024-06-12T16:53:42.774698Z"
    }
   },
   "outputs": [
    {
     "data": {
      "text/plain": [
       "1792"
      ]
     },
     "execution_count": 130,
     "metadata": {},
     "output_type": "execute_result"
    }
   ],
   "source": [
    "rounded_array[0][1]"
   ]
  },
  {
   "cell_type": "code",
   "execution_count": 131,
   "id": "6ed012eb-c3c7-4795-975a-8948f939e023",
   "metadata": {
    "execution": {
     "iopub.execute_input": "2024-06-12T16:53:42.840697Z",
     "iopub.status.busy": "2024-06-12T16:53:42.839695Z",
     "iopub.status.idle": "2024-06-12T16:53:42.862818Z",
     "shell.execute_reply": "2024-06-12T16:53:42.859806Z",
     "shell.execute_reply.started": "2024-06-12T16:53:42.840697Z"
    }
   },
   "outputs": [
    {
     "data": {
      "text/plain": [
       "array([1, 1, 0, 1, 1, 1, 1, 1, 1, 3, 2, 0, 0, 1, 1, 0, 2, 2, 1, 1, 0, 1,\n",
       "       0, 0, 1, 1, 1, 1, 1, 0, 1, 0, 1, 0, 0, 1, 1, 0, 1, 1, 1, 0, 1, 0,\n",
       "       0, 0, 1, 0, 1, 1, 1, 1, 1, 2, 1, 0, 1, 1, 0, 1, 1, 0, 0, 0, 1, 1,\n",
       "       1, 1, 0, 0, 1, 2, 1, 0, 0, 2, 1, 2, 1, 0, 0, 0, 1, 0, 0, 1, 0, 1,\n",
       "       1, 1, 0, 1, 0, 0, 1, 1, 1, 0, 1, 0], dtype=int64)"
      ]
     },
     "execution_count": 131,
     "metadata": {},
     "output_type": "execute_result"
    }
   ],
   "source": [
    "recording1.unit_spiketrains[85][rounded_array[0][0]:rounded_array[0][1]]"
   ]
  },
  {
   "cell_type": "code",
   "execution_count": 132,
   "id": "f15ae87a-356f-4976-b623-ce31df3dd9b0",
   "metadata": {
    "execution": {
     "iopub.execute_input": "2024-06-12T16:53:42.884800Z",
     "iopub.status.busy": "2024-06-12T16:53:42.883805Z",
     "iopub.status.idle": "2024-06-12T16:53:42.911808Z",
     "shell.execute_reply": "2024-06-12T16:53:42.907802Z",
     "shell.execute_reply.started": "2024-06-12T16:53:42.884800Z"
    }
   },
   "outputs": [],
   "source": [
    "recording_event_spiketrains = []\n",
    "for key in recording1.unit_spiketrains:\n",
    "    recording_event_spiketrains.append(key)\n",
    "    "
   ]
  },
  {
   "cell_type": "code",
   "execution_count": 133,
   "id": "c4277910-85b0-4006-9e28-706636911db7",
   "metadata": {
    "execution": {
     "iopub.execute_input": "2024-06-12T16:53:42.919813Z",
     "iopub.status.busy": "2024-06-12T16:53:42.918813Z",
     "iopub.status.idle": "2024-06-12T16:53:42.942848Z",
     "shell.execute_reply": "2024-06-12T16:53:42.939800Z",
     "shell.execute_reply.started": "2024-06-12T16:53:42.919813Z"
    }
   },
   "outputs": [
    {
     "data": {
      "text/plain": [
       "[85, 55, 17, 24, 68, 65, 98, 94, 2, 33, 13, 59, 81, 19, 88, 26, 5, 36, 57]"
      ]
     },
     "execution_count": 133,
     "metadata": {},
     "output_type": "execute_result"
    }
   ],
   "source": [
    "recording_event_spiketrains"
   ]
  },
  {
   "cell_type": "code",
   "execution_count": 134,
   "id": "c6efad0f-b5b9-4279-a69f-a818843cf226",
   "metadata": {
    "execution": {
     "iopub.execute_input": "2024-06-12T16:53:42.950839Z",
     "iopub.status.busy": "2024-06-12T16:53:42.949835Z",
     "iopub.status.idle": "2024-06-12T16:53:42.975332Z",
     "shell.execute_reply": "2024-06-12T16:53:42.971318Z",
     "shell.execute_reply.started": "2024-06-12T16:53:42.950839Z"
    }
   },
   "outputs": [],
   "source": [
    "recording_event_spiketrains = {}\n",
    "for key in recording1.unit_spiketrains:\n",
    "  recording_event_spiketrains[key] = []  # Initialize an empty list for each key\n",
    "  for i in range(len(rounded_array)):\n",
    "    spiketrain_slice = recording1.unit_spiketrains[key][rounded_array[i][0]:rounded_array[i][1]]\n",
    "    recording_event_spiketrains[key].append(spiketrain_slice)"
   ]
  },
  {
   "cell_type": "code",
   "execution_count": 135,
   "id": "0decedb5-2f3c-4ea7-bfac-20f4b50fb167",
   "metadata": {
    "execution": {
     "iopub.execute_input": "2024-06-12T16:53:42.983334Z",
     "iopub.status.busy": "2024-06-12T16:53:42.982325Z",
     "iopub.status.idle": "2024-06-12T16:53:43.005327Z",
     "shell.execute_reply": "2024-06-12T16:53:43.003327Z",
     "shell.execute_reply.started": "2024-06-12T16:53:42.983334Z"
    }
   },
   "outputs": [
    {
     "data": {
      "text/plain": [
       "array([1, 1, 0, 1, 1, 1, 1, 1, 1, 3, 2, 0, 0, 1, 1, 0, 2, 2, 1, 1, 0, 1,\n",
       "       0, 0, 1, 1, 1, 1, 1, 0, 1, 0, 1, 0, 0, 1, 1, 0, 1, 1, 1, 0, 1, 0,\n",
       "       0, 0, 1, 0, 1, 1, 1, 1, 1, 2, 1, 0, 1, 1, 0, 1, 1, 0, 0, 0, 1, 1,\n",
       "       1, 1, 0, 0, 1, 2, 1, 0, 0, 2, 1, 2, 1, 0, 0, 0, 1, 0, 0, 1, 0, 1,\n",
       "       1, 1, 0, 1, 0, 0, 1, 1, 1, 0, 1, 0], dtype=int64)"
      ]
     },
     "execution_count": 135,
     "metadata": {},
     "output_type": "execute_result"
    }
   ],
   "source": [
    "recording_event_spiketrains[85][0]"
   ]
  },
  {
   "cell_type": "code",
   "execution_count": 136,
   "id": "7e6603da-f5d0-4a26-9170-8a2d4f014b3a",
   "metadata": {
    "execution": {
     "iopub.execute_input": "2024-06-12T16:53:43.010332Z",
     "iopub.status.busy": "2024-06-12T16:53:43.008336Z",
     "iopub.status.idle": "2024-06-12T16:53:43.546772Z",
     "shell.execute_reply": "2024-06-12T16:53:43.543779Z",
     "shell.execute_reply.started": "2024-06-12T16:53:43.010332Z"
    }
   },
   "outputs": [
    {
     "data": {
      "text/html": [
       "<div>\n",
       "<style scoped>\n",
       "    .dataframe tbody tr th:only-of-type {\n",
       "        vertical-align: middle;\n",
       "    }\n",
       "\n",
       "    .dataframe tbody tr th {\n",
       "        vertical-align: top;\n",
       "    }\n",
       "\n",
       "    .dataframe thead th {\n",
       "        text-align: right;\n",
       "    }\n",
       "</style>\n",
       "<table border=\"1\" class=\"dataframe\">\n",
       "  <thead>\n",
       "    <tr style=\"text-align: right;\">\n",
       "      <th></th>\n",
       "      <th>unit</th>\n",
       "      <th>event</th>\n",
       "      <th>bin_1</th>\n",
       "      <th>bin_2</th>\n",
       "      <th>bin_3</th>\n",
       "      <th>bin_4</th>\n",
       "      <th>bin_5</th>\n",
       "      <th>bin_6</th>\n",
       "      <th>bin_7</th>\n",
       "      <th>bin_8</th>\n",
       "      <th>...</th>\n",
       "      <th>bin_91</th>\n",
       "      <th>bin_92</th>\n",
       "      <th>bin_93</th>\n",
       "      <th>bin_94</th>\n",
       "      <th>bin_95</th>\n",
       "      <th>bin_96</th>\n",
       "      <th>bin_97</th>\n",
       "      <th>bin_98</th>\n",
       "      <th>bin_99</th>\n",
       "      <th>bin_100</th>\n",
       "    </tr>\n",
       "  </thead>\n",
       "  <tbody>\n",
       "    <tr>\n",
       "      <th>0</th>\n",
       "      <td>85</td>\n",
       "      <td>1</td>\n",
       "      <td>1</td>\n",
       "      <td>1</td>\n",
       "      <td>0</td>\n",
       "      <td>1</td>\n",
       "      <td>1</td>\n",
       "      <td>1</td>\n",
       "      <td>1</td>\n",
       "      <td>1</td>\n",
       "      <td>...</td>\n",
       "      <td>0</td>\n",
       "      <td>1</td>\n",
       "      <td>0</td>\n",
       "      <td>0</td>\n",
       "      <td>1</td>\n",
       "      <td>1</td>\n",
       "      <td>1</td>\n",
       "      <td>0</td>\n",
       "      <td>1</td>\n",
       "      <td>0</td>\n",
       "    </tr>\n",
       "    <tr>\n",
       "      <th>1</th>\n",
       "      <td>85</td>\n",
       "      <td>2</td>\n",
       "      <td>0</td>\n",
       "      <td>0</td>\n",
       "      <td>1</td>\n",
       "      <td>0</td>\n",
       "      <td>0</td>\n",
       "      <td>0</td>\n",
       "      <td>1</td>\n",
       "      <td>0</td>\n",
       "      <td>...</td>\n",
       "      <td>2</td>\n",
       "      <td>0</td>\n",
       "      <td>1</td>\n",
       "      <td>0</td>\n",
       "      <td>0</td>\n",
       "      <td>0</td>\n",
       "      <td>1</td>\n",
       "      <td>1</td>\n",
       "      <td>0</td>\n",
       "      <td>0</td>\n",
       "    </tr>\n",
       "    <tr>\n",
       "      <th>2</th>\n",
       "      <td>85</td>\n",
       "      <td>3</td>\n",
       "      <td>0</td>\n",
       "      <td>0</td>\n",
       "      <td>0</td>\n",
       "      <td>0</td>\n",
       "      <td>0</td>\n",
       "      <td>0</td>\n",
       "      <td>0</td>\n",
       "      <td>0</td>\n",
       "      <td>...</td>\n",
       "      <td>0</td>\n",
       "      <td>0</td>\n",
       "      <td>0</td>\n",
       "      <td>5</td>\n",
       "      <td>3</td>\n",
       "      <td>0</td>\n",
       "      <td>0</td>\n",
       "      <td>0</td>\n",
       "      <td>1</td>\n",
       "      <td>0</td>\n",
       "    </tr>\n",
       "    <tr>\n",
       "      <th>3</th>\n",
       "      <td>85</td>\n",
       "      <td>4</td>\n",
       "      <td>0</td>\n",
       "      <td>0</td>\n",
       "      <td>0</td>\n",
       "      <td>0</td>\n",
       "      <td>0</td>\n",
       "      <td>0</td>\n",
       "      <td>0</td>\n",
       "      <td>0</td>\n",
       "      <td>...</td>\n",
       "      <td>0</td>\n",
       "      <td>0</td>\n",
       "      <td>0</td>\n",
       "      <td>0</td>\n",
       "      <td>0</td>\n",
       "      <td>0</td>\n",
       "      <td>0</td>\n",
       "      <td>0</td>\n",
       "      <td>0</td>\n",
       "      <td>0</td>\n",
       "    </tr>\n",
       "    <tr>\n",
       "      <th>4</th>\n",
       "      <td>85</td>\n",
       "      <td>5</td>\n",
       "      <td>0</td>\n",
       "      <td>0</td>\n",
       "      <td>0</td>\n",
       "      <td>0</td>\n",
       "      <td>0</td>\n",
       "      <td>0</td>\n",
       "      <td>0</td>\n",
       "      <td>0</td>\n",
       "      <td>...</td>\n",
       "      <td>0</td>\n",
       "      <td>0</td>\n",
       "      <td>0</td>\n",
       "      <td>0</td>\n",
       "      <td>0</td>\n",
       "      <td>0</td>\n",
       "      <td>0</td>\n",
       "      <td>0</td>\n",
       "      <td>0</td>\n",
       "      <td>0</td>\n",
       "    </tr>\n",
       "    <tr>\n",
       "      <th>...</th>\n",
       "      <td>...</td>\n",
       "      <td>...</td>\n",
       "      <td>...</td>\n",
       "      <td>...</td>\n",
       "      <td>...</td>\n",
       "      <td>...</td>\n",
       "      <td>...</td>\n",
       "      <td>...</td>\n",
       "      <td>...</td>\n",
       "      <td>...</td>\n",
       "      <td>...</td>\n",
       "      <td>...</td>\n",
       "      <td>...</td>\n",
       "      <td>...</td>\n",
       "      <td>...</td>\n",
       "      <td>...</td>\n",
       "      <td>...</td>\n",
       "      <td>...</td>\n",
       "      <td>...</td>\n",
       "      <td>...</td>\n",
       "      <td>...</td>\n",
       "    </tr>\n",
       "    <tr>\n",
       "      <th>242</th>\n",
       "      <td>57</td>\n",
       "      <td>9</td>\n",
       "      <td>0</td>\n",
       "      <td>0</td>\n",
       "      <td>0</td>\n",
       "      <td>0</td>\n",
       "      <td>0</td>\n",
       "      <td>0</td>\n",
       "      <td>0</td>\n",
       "      <td>0</td>\n",
       "      <td>...</td>\n",
       "      <td>0</td>\n",
       "      <td>0</td>\n",
       "      <td>0</td>\n",
       "      <td>0</td>\n",
       "      <td>0</td>\n",
       "      <td>0</td>\n",
       "      <td>0</td>\n",
       "      <td>0</td>\n",
       "      <td>0</td>\n",
       "      <td>0</td>\n",
       "    </tr>\n",
       "    <tr>\n",
       "      <th>243</th>\n",
       "      <td>57</td>\n",
       "      <td>10</td>\n",
       "      <td>0</td>\n",
       "      <td>0</td>\n",
       "      <td>0</td>\n",
       "      <td>0</td>\n",
       "      <td>0</td>\n",
       "      <td>0</td>\n",
       "      <td>0</td>\n",
       "      <td>0</td>\n",
       "      <td>...</td>\n",
       "      <td>0</td>\n",
       "      <td>0</td>\n",
       "      <td>0</td>\n",
       "      <td>0</td>\n",
       "      <td>0</td>\n",
       "      <td>0</td>\n",
       "      <td>0</td>\n",
       "      <td>0</td>\n",
       "      <td>0</td>\n",
       "      <td>0</td>\n",
       "    </tr>\n",
       "    <tr>\n",
       "      <th>244</th>\n",
       "      <td>57</td>\n",
       "      <td>11</td>\n",
       "      <td>0</td>\n",
       "      <td>0</td>\n",
       "      <td>0</td>\n",
       "      <td>0</td>\n",
       "      <td>0</td>\n",
       "      <td>0</td>\n",
       "      <td>0</td>\n",
       "      <td>0</td>\n",
       "      <td>...</td>\n",
       "      <td>0</td>\n",
       "      <td>0</td>\n",
       "      <td>0</td>\n",
       "      <td>0</td>\n",
       "      <td>0</td>\n",
       "      <td>0</td>\n",
       "      <td>0</td>\n",
       "      <td>1</td>\n",
       "      <td>0</td>\n",
       "      <td>0</td>\n",
       "    </tr>\n",
       "    <tr>\n",
       "      <th>245</th>\n",
       "      <td>57</td>\n",
       "      <td>12</td>\n",
       "      <td>0</td>\n",
       "      <td>0</td>\n",
       "      <td>0</td>\n",
       "      <td>0</td>\n",
       "      <td>0</td>\n",
       "      <td>0</td>\n",
       "      <td>0</td>\n",
       "      <td>0</td>\n",
       "      <td>...</td>\n",
       "      <td>0</td>\n",
       "      <td>0</td>\n",
       "      <td>0</td>\n",
       "      <td>0</td>\n",
       "      <td>0</td>\n",
       "      <td>0</td>\n",
       "      <td>0</td>\n",
       "      <td>0</td>\n",
       "      <td>0</td>\n",
       "      <td>0</td>\n",
       "    </tr>\n",
       "    <tr>\n",
       "      <th>246</th>\n",
       "      <td>57</td>\n",
       "      <td>13</td>\n",
       "      <td>0</td>\n",
       "      <td>0</td>\n",
       "      <td>0</td>\n",
       "      <td>0</td>\n",
       "      <td>0</td>\n",
       "      <td>0</td>\n",
       "      <td>1</td>\n",
       "      <td>0</td>\n",
       "      <td>...</td>\n",
       "      <td>0</td>\n",
       "      <td>0</td>\n",
       "      <td>0</td>\n",
       "      <td>0</td>\n",
       "      <td>0</td>\n",
       "      <td>0</td>\n",
       "      <td>0</td>\n",
       "      <td>0</td>\n",
       "      <td>0</td>\n",
       "      <td>0</td>\n",
       "    </tr>\n",
       "  </tbody>\n",
       "</table>\n",
       "<p>247 rows × 102 columns</p>\n",
       "</div>"
      ],
      "text/plain": [
       "    unit  event  bin_1  bin_2  bin_3  bin_4  bin_5  bin_6  bin_7  bin_8  ...  \\\n",
       "0     85      1      1      1      0      1      1      1      1      1  ...   \n",
       "1     85      2      0      0      1      0      0      0      1      0  ...   \n",
       "2     85      3      0      0      0      0      0      0      0      0  ...   \n",
       "3     85      4      0      0      0      0      0      0      0      0  ...   \n",
       "4     85      5      0      0      0      0      0      0      0      0  ...   \n",
       "..   ...    ...    ...    ...    ...    ...    ...    ...    ...    ...  ...   \n",
       "242   57      9      0      0      0      0      0      0      0      0  ...   \n",
       "243   57     10      0      0      0      0      0      0      0      0  ...   \n",
       "244   57     11      0      0      0      0      0      0      0      0  ...   \n",
       "245   57     12      0      0      0      0      0      0      0      0  ...   \n",
       "246   57     13      0      0      0      0      0      0      1      0  ...   \n",
       "\n",
       "     bin_91  bin_92  bin_93  bin_94  bin_95  bin_96  bin_97  bin_98  bin_99  \\\n",
       "0         0       1       0       0       1       1       1       0       1   \n",
       "1         2       0       1       0       0       0       1       1       0   \n",
       "2         0       0       0       5       3       0       0       0       1   \n",
       "3         0       0       0       0       0       0       0       0       0   \n",
       "4         0       0       0       0       0       0       0       0       0   \n",
       "..      ...     ...     ...     ...     ...     ...     ...     ...     ...   \n",
       "242       0       0       0       0       0       0       0       0       0   \n",
       "243       0       0       0       0       0       0       0       0       0   \n",
       "244       0       0       0       0       0       0       0       1       0   \n",
       "245       0       0       0       0       0       0       0       0       0   \n",
       "246       0       0       0       0       0       0       0       0       0   \n",
       "\n",
       "     bin_100  \n",
       "0          0  \n",
       "1          0  \n",
       "2          0  \n",
       "3          0  \n",
       "4          0  \n",
       "..       ...  \n",
       "242        0  \n",
       "243        0  \n",
       "244        0  \n",
       "245        0  \n",
       "246        0  \n",
       "\n",
       "[247 rows x 102 columns]"
      ]
     },
     "execution_count": 136,
     "metadata": {},
     "output_type": "execute_result"
    }
   ],
   "source": [
    "def create_spiketrain_df(recording_event_spiketrains):\n",
    "  data = []\n",
    "  for unit, spiketrain_list in recording_event_spiketrains.items():\n",
    "    for i, spiketrain in enumerate(spiketrain_list):\n",
    "      row_data = [str(unit), i+1]\n",
    "      row_data.extend(spiketrain)\n",
    "      data.append(row_data)\n",
    "  df = pd.DataFrame(data, columns=[\"unit\", \"event\"] + [f\"bin_{i+1}\" for i in range(len(spiketrain_list[0]))])\n",
    "  return df\n",
    "\n",
    "spiketrain_df = create_spiketrain_df(recording_event_spiketrains)\n",
    "spiketrain_df"
   ]
  },
  {
   "cell_type": "code",
   "execution_count": 137,
   "id": "e5655508-31ba-4716-93e4-4a08bdafc652",
   "metadata": {
    "execution": {
     "iopub.execute_input": "2024-06-12T16:53:43.554792Z",
     "iopub.status.busy": "2024-06-12T16:53:43.552777Z",
     "iopub.status.idle": "2024-06-12T16:53:43.580364Z",
     "shell.execute_reply": "2024-06-12T16:53:43.576357Z",
     "shell.execute_reply.started": "2024-06-12T16:53:43.554792Z"
    }
   },
   "outputs": [
    {
     "data": {
      "text/plain": [
       "{'20230612_101430_standard_comp_to_training_D1_subj_1-3_t3b3L_box2_merged.rec': <multirecording_spikeanalysis_edit.EphysRecording at 0x1e484d11690>,\n",
       " '20230617_115521_standard_comp_to_omission_D1_subj_1-1_t1b3L_box1_merged.rec': <multirecording_spikeanalysis_edit.EphysRecording at 0x1e484d130d0>,\n",
       " '20230622_110832_standard_comp_to_both_rewarded_D1_subj_1-1_t1b3L_box1_merged.rec': <multirecording_spikeanalysis_edit.EphysRecording at 0x1e484d12470>,\n",
       " '20230622_110832_standard_comp_to_both_rewarded_D1_subj_1-2_t3b3L_box1_merged.rec': <multirecording_spikeanalysis_edit.EphysRecording at 0x1e484d11ae0>}"
      ]
     },
     "execution_count": 137,
     "metadata": {},
     "output_type": "execute_result"
    }
   ],
   "source": [
    "recordings"
   ]
  },
  {
   "cell_type": "code",
   "execution_count": 138,
   "id": "726420b3-632d-4c4b-9631-ffd67206df9a",
   "metadata": {
    "execution": {
     "iopub.execute_input": "2024-06-12T16:53:43.587361Z",
     "iopub.status.busy": "2024-06-12T16:53:43.585357Z",
     "iopub.status.idle": "2024-06-12T16:53:43.611355Z",
     "shell.execute_reply": "2024-06-12T16:53:43.606362Z",
     "shell.execute_reply.started": "2024-06-12T16:53:43.586358Z"
    }
   },
   "outputs": [
    {
     "name": "stdout",
     "output_type": "stream",
     "text": [
      "20230612_101430_standard_comp_to_training_D1_subj_1-3_t3b3L_box2_merged.rec\n",
      "20230617_115521_standard_comp_to_omission_D1_subj_1-1_t1b3L_box1_merged.rec\n",
      "20230622_110832_standard_comp_to_both_rewarded_D1_subj_1-1_t1b3L_box1_merged.rec\n",
      "20230622_110832_standard_comp_to_both_rewarded_D1_subj_1-2_t3b3L_box1_merged.rec\n"
     ]
    }
   ],
   "source": [
    "for key in recordings:\n",
    "    print (key)"
   ]
  },
  {
   "cell_type": "code",
   "execution_count": 139,
   "id": "5edf1349-76b7-42cc-bef8-2195ce5fe4fa",
   "metadata": {
    "execution": {
     "iopub.execute_input": "2024-06-12T16:53:43.619358Z",
     "iopub.status.busy": "2024-06-12T16:53:43.617356Z",
     "iopub.status.idle": "2024-06-12T16:53:43.641357Z",
     "shell.execute_reply": "2024-06-12T16:53:43.638353Z",
     "shell.execute_reply.started": "2024-06-12T16:53:43.619358Z"
    }
   },
   "outputs": [
    {
     "name": "stdout",
     "output_type": "stream",
     "text": [
      "20230612_101430_standard_comp_to_training_D1_subj_1-3_t3b3L_box2_merged.rec\n",
      "20230617_115521_standard_comp_to_omission_D1_subj_1-1_t1b3L_box1_merged.rec\n",
      "20230622_110832_standard_comp_to_both_rewarded_D1_subj_1-1_t1b3L_box1_merged.rec\n",
      "20230622_110832_standard_comp_to_both_rewarded_D1_subj_1-2_t3b3L_box1_merged.rec\n"
     ]
    }
   ],
   "source": [
    "for i in recordings:\n",
    "    print (i)"
   ]
  },
  {
   "cell_type": "code",
   "execution_count": 140,
   "id": "69ef505a-6e85-4f1c-9732-1a82dbb6646a",
   "metadata": {
    "execution": {
     "iopub.execute_input": "2024-06-12T16:53:43.648378Z",
     "iopub.status.busy": "2024-06-12T16:53:43.647379Z",
     "iopub.status.idle": "2024-06-12T16:53:43.672920Z",
     "shell.execute_reply": "2024-06-12T16:53:43.669922Z",
     "shell.execute_reply.started": "2024-06-12T16:53:43.648378Z"
    }
   },
   "outputs": [
    {
     "data": {
      "text/plain": [
       "{'rewarded': array([[1849109, 1859109],\n",
       "        [1909109, 1919109],\n",
       "        [1964109, 1974109],\n",
       "        [2029109, 2039109],\n",
       "        [2084109, 2094109],\n",
       "        [2134109, 2144109],\n",
       "        [2184109, 2194109],\n",
       "        [2289109, 2299109],\n",
       "        [2409109, 2419109],\n",
       "        [2529109, 2539109],\n",
       "        [2639109, 2649109],\n",
       "        [2724109, 2734109],\n",
       "        [2844109, 2854109],\n",
       "        [2904109, 2914109],\n",
       "        [2969109, 2979109],\n",
       "        [3029109, 3039109],\n",
       "        [3104108, 3114109],\n",
       "        [3204108, 3214109],\n",
       "        [3299108, 3309108],\n",
       "        [3349108, 3359108]], dtype=int64),\n",
       " 'win': array([[ 169111,  179111],\n",
       "        [ 479111,  489111],\n",
       "        [ 649110,  659110],\n",
       "        [ 754110,  764110],\n",
       "        [ 804110,  814110],\n",
       "        [ 884110,  894110],\n",
       "        [ 949110,  959110],\n",
       "        [1014110, 1024110],\n",
       "        [1134110, 1144110],\n",
       "        [1309110, 1319110],\n",
       "        [1379110, 1389110],\n",
       "        [1489110, 1499110],\n",
       "        [1549110, 1559110]], dtype=int64),\n",
       " 'lose': array([[  49111,   59111],\n",
       "        [ 284111,  294111],\n",
       "        [ 374111,  384111],\n",
       "        [ 429111,  439111],\n",
       "        [ 574111,  584111],\n",
       "        [1064110, 1074110],\n",
       "        [1229110, 1239110]], dtype=int64),\n",
       " 'omission': array([], dtype=int64),\n",
       " 'both_rewarded': array([], dtype=int64),\n",
       " 'tie': array([], dtype=int64)}"
      ]
     },
     "execution_count": 140,
     "metadata": {},
     "output_type": "execute_result"
    }
   ],
   "source": [
    "recording1.event_dict"
   ]
  },
  {
   "cell_type": "code",
   "execution_count": 141,
   "id": "349a41a0-cf7d-4040-b2b0-b8039f607b5d",
   "metadata": {
    "execution": {
     "iopub.execute_input": "2024-06-12T16:53:43.680921Z",
     "iopub.status.busy": "2024-06-12T16:53:43.678933Z",
     "iopub.status.idle": "2024-06-12T16:53:43.704921Z",
     "shell.execute_reply": "2024-06-12T16:53:43.701923Z",
     "shell.execute_reply.started": "2024-06-12T16:53:43.680921Z"
    }
   },
   "outputs": [
    {
     "name": "stdout",
     "output_type": "stream",
     "text": [
      "rewarded\n",
      "win\n",
      "lose\n",
      "omission\n",
      "both_rewarded\n",
      "tie\n"
     ]
    }
   ],
   "source": [
    "for (event_name, event_array) in recording1.event_dict.items():\n",
    "    print (event_name)"
   ]
  },
  {
   "cell_type": "code",
   "execution_count": 142,
   "id": "fb5b933a-b4dd-48d1-8399-5c6c3186f8b1",
   "metadata": {
    "execution": {
     "iopub.execute_input": "2024-06-12T16:53:43.714925Z",
     "iopub.status.busy": "2024-06-12T16:53:43.712922Z",
     "iopub.status.idle": "2024-06-12T16:54:09.721048Z",
     "shell.execute_reply": "2024-06-12T16:54:09.718045Z",
     "shell.execute_reply.started": "2024-06-12T16:53:43.714925Z"
    }
   },
   "outputs": [
    {
     "name": "stdout",
     "output_type": "stream",
     "text": [
      "<class 'numpy.ndarray'>\n",
      "20230612_101430_standard_comp_to_training_D1_subj_1-3_t3b3L_box2_merged.rec\n",
      "<class 'numpy.ndarray'>\n",
      "20230617_115521_standard_comp_to_omission_D1_subj_1-1_t1b3L_box1_merged.rec\n",
      "<class 'numpy.ndarray'>\n",
      "Unit 92 is unsorted & has 2494 spikes\n",
      "Unit 92 will be deleted\n",
      "20230622_110832_standard_comp_to_both_rewarded_D1_subj_1-1_t1b3L_box1_merged.rec\n",
      "<class 'numpy.ndarray'>\n",
      "Unit 103 is unsorted & has 512 spikes\n",
      "Unit 103 will be deleted\n",
      "20230622_110832_standard_comp_to_both_rewarded_D1_subj_1-2_t3b3L_box1_merged.rec\n",
      "Please assign event dictionaries to each recording\n",
      "as recording.event_dict\n",
      "event_dict = {event name(str): np.array[[start(ms), stop(ms)]...]\n",
      "Please assign subjects to each recording as recording.subject\n"
     ]
    }
   ],
   "source": [
    "import multirecording_spikeanalysis_edit2 as spike\n",
    "\n",
    "# It takes several steps to create the timestamp_dicts, refer to Ephys_Analysis_Notebook to create\n",
    "timestamp_dicts = pickle.load(open('timestamp_dicts.pkl', 'rb'))\n",
    "\n",
    "# Construct the path in a platform-independent way (HiPerGator or Windows)\n",
    "ephys_path = Path('.') / 'recordings' / 'updated_phys' / 'test'\n",
    "\n",
    "ephys_data = spike.EphysRecordingCollection(str(ephys_path))"
   ]
  },
  {
   "cell_type": "code",
   "execution_count": 143,
   "id": "8a14975b-1c8a-4053-a63b-b68dfcf56644",
   "metadata": {
    "execution": {
     "iopub.execute_input": "2024-06-12T16:54:09.729048Z",
     "iopub.status.busy": "2024-06-12T16:54:09.727045Z",
     "iopub.status.idle": "2024-06-12T16:54:10.717694Z",
     "shell.execute_reply": "2024-06-12T16:54:10.716691Z",
     "shell.execute_reply.started": "2024-06-12T16:54:09.729048Z"
    }
   },
   "outputs": [
    {
     "name": "stdout",
     "output_type": "stream",
     "text": [
      "All set to analyze\n"
     ]
    }
   ],
   "source": [
    "for recording in ephys_data.collection.keys():\n",
    "    # Check if the recording key (without everything after subject #) is in timestamp_dicts\n",
    "    start_pos = recording.find('subj_')\n",
    "    # Add the length of 'subj_' and 3 additional characters to include after 'subj_'\n",
    "    end_pos = start_pos + len('subj_') + 3\n",
    "    # Slice the recording key to get everything up to and including the subject identifier plus three characters\n",
    "    recording_key_without_suffix = recording[:end_pos]\n",
    "    if recording_key_without_suffix in timestamp_dicts:\n",
    "        # Assign the corresponding timestamp_dicts dictionary to event_dict\n",
    "        ephys_data.collection[recording].event_dict = timestamp_dicts[recording_key_without_suffix]\n",
    "        \n",
    "        # Extract the subject from the recording key\n",
    "        start = recording.find('subj_') + 5  # Start index after 'subj_'\n",
    "        subject = recording[start:start+3]\n",
    "        \n",
    "        # Assign the extracted subject\n",
    "        ephys_data.collection[recording].subject = subject\n",
    "        \n",
    "spike_analysis = spike.SpikeAnalysis_MultiRecording(ephys_data, timebin = 100, ignore_freq = 0.5)"
   ]
  },
  {
   "cell_type": "code",
   "execution_count": 144,
   "id": "c69470ff-43a6-4c61-85c0-40a752d82390",
   "metadata": {
    "execution": {
     "iopub.execute_input": "2024-06-12T16:54:10.740406Z",
     "iopub.status.busy": "2024-06-12T16:54:10.739414Z",
     "iopub.status.idle": "2024-06-12T16:54:11.100652Z",
     "shell.execute_reply": "2024-06-12T16:54:11.097656Z",
     "shell.execute_reply.started": "2024-06-12T16:54:10.740406Z"
    }
   },
   "outputs": [],
   "source": [
    "event_df = spike_analysis.create_spiketrain_df()"
   ]
  },
  {
   "cell_type": "code",
   "execution_count": 145,
   "id": "7a3d25b1-9aee-402e-b9fc-0bd2f9d76833",
   "metadata": {
    "execution": {
     "iopub.execute_input": "2024-06-12T16:54:11.105661Z",
     "iopub.status.busy": "2024-06-12T16:54:11.104659Z",
     "iopub.status.idle": "2024-06-12T16:54:11.210232Z",
     "shell.execute_reply": "2024-06-12T16:54:11.208239Z",
     "shell.execute_reply.started": "2024-06-12T16:54:11.105661Z"
    }
   },
   "outputs": [
    {
     "data": {
      "text/html": [
       "<div>\n",
       "<style scoped>\n",
       "    .dataframe tbody tr th:only-of-type {\n",
       "        vertical-align: middle;\n",
       "    }\n",
       "\n",
       "    .dataframe tbody tr th {\n",
       "        vertical-align: top;\n",
       "    }\n",
       "\n",
       "    .dataframe thead th {\n",
       "        text-align: right;\n",
       "    }\n",
       "</style>\n",
       "<table border=\"1\" class=\"dataframe\">\n",
       "  <thead>\n",
       "    <tr style=\"text-align: right;\">\n",
       "      <th></th>\n",
       "      <th>Recording</th>\n",
       "      <th>Event name</th>\n",
       "      <th>Event number</th>\n",
       "      <th>Unit number</th>\n",
       "      <th>bin_1</th>\n",
       "      <th>bin_2</th>\n",
       "      <th>bin_3</th>\n",
       "      <th>bin_4</th>\n",
       "      <th>bin_5</th>\n",
       "      <th>bin_6</th>\n",
       "      <th>...</th>\n",
       "      <th>bin_91</th>\n",
       "      <th>bin_92</th>\n",
       "      <th>bin_93</th>\n",
       "      <th>bin_94</th>\n",
       "      <th>bin_95</th>\n",
       "      <th>bin_96</th>\n",
       "      <th>bin_97</th>\n",
       "      <th>bin_98</th>\n",
       "      <th>bin_99</th>\n",
       "      <th>bin_100</th>\n",
       "    </tr>\n",
       "  </thead>\n",
       "  <tbody>\n",
       "    <tr>\n",
       "      <th>0</th>\n",
       "      <td>20230612_101430_standard_comp_to_training_D1_s...</td>\n",
       "      <td>rewarded</td>\n",
       "      <td>1</td>\n",
       "      <td>85</td>\n",
       "      <td>0.0</td>\n",
       "      <td>0.0</td>\n",
       "      <td>0.0</td>\n",
       "      <td>0.0</td>\n",
       "      <td>0.0</td>\n",
       "      <td>0.0</td>\n",
       "      <td>...</td>\n",
       "      <td>0.0</td>\n",
       "      <td>0.0</td>\n",
       "      <td>0.0</td>\n",
       "      <td>0.0</td>\n",
       "      <td>0.0</td>\n",
       "      <td>0.0</td>\n",
       "      <td>0.0</td>\n",
       "      <td>0.0</td>\n",
       "      <td>0.0</td>\n",
       "      <td>NaN</td>\n",
       "    </tr>\n",
       "    <tr>\n",
       "      <th>1</th>\n",
       "      <td>20230612_101430_standard_comp_to_training_D1_s...</td>\n",
       "      <td>rewarded</td>\n",
       "      <td>2</td>\n",
       "      <td>85</td>\n",
       "      <td>0.0</td>\n",
       "      <td>0.0</td>\n",
       "      <td>0.0</td>\n",
       "      <td>0.0</td>\n",
       "      <td>0.0</td>\n",
       "      <td>0.0</td>\n",
       "      <td>...</td>\n",
       "      <td>0.0</td>\n",
       "      <td>0.0</td>\n",
       "      <td>0.0</td>\n",
       "      <td>0.0</td>\n",
       "      <td>0.0</td>\n",
       "      <td>0.0</td>\n",
       "      <td>0.0</td>\n",
       "      <td>0.0</td>\n",
       "      <td>0.0</td>\n",
       "      <td>NaN</td>\n",
       "    </tr>\n",
       "    <tr>\n",
       "      <th>2</th>\n",
       "      <td>20230612_101430_standard_comp_to_training_D1_s...</td>\n",
       "      <td>rewarded</td>\n",
       "      <td>3</td>\n",
       "      <td>85</td>\n",
       "      <td>0.0</td>\n",
       "      <td>0.0</td>\n",
       "      <td>0.0</td>\n",
       "      <td>0.0</td>\n",
       "      <td>0.0</td>\n",
       "      <td>0.0</td>\n",
       "      <td>...</td>\n",
       "      <td>0.0</td>\n",
       "      <td>0.0</td>\n",
       "      <td>0.0</td>\n",
       "      <td>0.0</td>\n",
       "      <td>0.0</td>\n",
       "      <td>0.0</td>\n",
       "      <td>0.0</td>\n",
       "      <td>0.0</td>\n",
       "      <td>0.0</td>\n",
       "      <td>NaN</td>\n",
       "    </tr>\n",
       "    <tr>\n",
       "      <th>3</th>\n",
       "      <td>20230612_101430_standard_comp_to_training_D1_s...</td>\n",
       "      <td>rewarded</td>\n",
       "      <td>4</td>\n",
       "      <td>85</td>\n",
       "      <td>0.0</td>\n",
       "      <td>0.0</td>\n",
       "      <td>0.0</td>\n",
       "      <td>0.0</td>\n",
       "      <td>0.0</td>\n",
       "      <td>0.0</td>\n",
       "      <td>...</td>\n",
       "      <td>0.0</td>\n",
       "      <td>1.0</td>\n",
       "      <td>0.0</td>\n",
       "      <td>0.0</td>\n",
       "      <td>0.0</td>\n",
       "      <td>0.0</td>\n",
       "      <td>0.0</td>\n",
       "      <td>0.0</td>\n",
       "      <td>0.0</td>\n",
       "      <td>NaN</td>\n",
       "    </tr>\n",
       "    <tr>\n",
       "      <th>4</th>\n",
       "      <td>20230612_101430_standard_comp_to_training_D1_s...</td>\n",
       "      <td>rewarded</td>\n",
       "      <td>5</td>\n",
       "      <td>85</td>\n",
       "      <td>0.0</td>\n",
       "      <td>0.0</td>\n",
       "      <td>0.0</td>\n",
       "      <td>0.0</td>\n",
       "      <td>0.0</td>\n",
       "      <td>0.0</td>\n",
       "      <td>...</td>\n",
       "      <td>0.0</td>\n",
       "      <td>0.0</td>\n",
       "      <td>0.0</td>\n",
       "      <td>0.0</td>\n",
       "      <td>0.0</td>\n",
       "      <td>0.0</td>\n",
       "      <td>0.0</td>\n",
       "      <td>0.0</td>\n",
       "      <td>0.0</td>\n",
       "      <td>NaN</td>\n",
       "    </tr>\n",
       "    <tr>\n",
       "      <th>...</th>\n",
       "      <td>...</td>\n",
       "      <td>...</td>\n",
       "      <td>...</td>\n",
       "      <td>...</td>\n",
       "      <td>...</td>\n",
       "      <td>...</td>\n",
       "      <td>...</td>\n",
       "      <td>...</td>\n",
       "      <td>...</td>\n",
       "      <td>...</td>\n",
       "      <td>...</td>\n",
       "      <td>...</td>\n",
       "      <td>...</td>\n",
       "      <td>...</td>\n",
       "      <td>...</td>\n",
       "      <td>...</td>\n",
       "      <td>...</td>\n",
       "      <td>...</td>\n",
       "      <td>...</td>\n",
       "      <td>...</td>\n",
       "      <td>...</td>\n",
       "    </tr>\n",
       "    <tr>\n",
       "      <th>2712</th>\n",
       "      <td>20230622_110832_standard_comp_to_both_rewarded...</td>\n",
       "      <td>both_rewarded</td>\n",
       "      <td>16</td>\n",
       "      <td>15</td>\n",
       "      <td>0.0</td>\n",
       "      <td>0.0</td>\n",
       "      <td>0.0</td>\n",
       "      <td>0.0</td>\n",
       "      <td>0.0</td>\n",
       "      <td>0.0</td>\n",
       "      <td>...</td>\n",
       "      <td>0.0</td>\n",
       "      <td>0.0</td>\n",
       "      <td>0.0</td>\n",
       "      <td>0.0</td>\n",
       "      <td>0.0</td>\n",
       "      <td>0.0</td>\n",
       "      <td>0.0</td>\n",
       "      <td>0.0</td>\n",
       "      <td>0.0</td>\n",
       "      <td>NaN</td>\n",
       "    </tr>\n",
       "    <tr>\n",
       "      <th>2713</th>\n",
       "      <td>20230622_110832_standard_comp_to_both_rewarded...</td>\n",
       "      <td>both_rewarded</td>\n",
       "      <td>17</td>\n",
       "      <td>15</td>\n",
       "      <td>0.0</td>\n",
       "      <td>0.0</td>\n",
       "      <td>0.0</td>\n",
       "      <td>0.0</td>\n",
       "      <td>0.0</td>\n",
       "      <td>0.0</td>\n",
       "      <td>...</td>\n",
       "      <td>0.0</td>\n",
       "      <td>0.0</td>\n",
       "      <td>0.0</td>\n",
       "      <td>0.0</td>\n",
       "      <td>0.0</td>\n",
       "      <td>0.0</td>\n",
       "      <td>0.0</td>\n",
       "      <td>0.0</td>\n",
       "      <td>0.0</td>\n",
       "      <td>0.0</td>\n",
       "    </tr>\n",
       "    <tr>\n",
       "      <th>2714</th>\n",
       "      <td>20230622_110832_standard_comp_to_both_rewarded...</td>\n",
       "      <td>both_rewarded</td>\n",
       "      <td>18</td>\n",
       "      <td>15</td>\n",
       "      <td>1.0</td>\n",
       "      <td>0.0</td>\n",
       "      <td>0.0</td>\n",
       "      <td>0.0</td>\n",
       "      <td>0.0</td>\n",
       "      <td>0.0</td>\n",
       "      <td>...</td>\n",
       "      <td>0.0</td>\n",
       "      <td>0.0</td>\n",
       "      <td>0.0</td>\n",
       "      <td>0.0</td>\n",
       "      <td>0.0</td>\n",
       "      <td>0.0</td>\n",
       "      <td>0.0</td>\n",
       "      <td>0.0</td>\n",
       "      <td>0.0</td>\n",
       "      <td>NaN</td>\n",
       "    </tr>\n",
       "    <tr>\n",
       "      <th>2715</th>\n",
       "      <td>20230622_110832_standard_comp_to_both_rewarded...</td>\n",
       "      <td>both_rewarded</td>\n",
       "      <td>19</td>\n",
       "      <td>15</td>\n",
       "      <td>0.0</td>\n",
       "      <td>0.0</td>\n",
       "      <td>0.0</td>\n",
       "      <td>0.0</td>\n",
       "      <td>0.0</td>\n",
       "      <td>0.0</td>\n",
       "      <td>...</td>\n",
       "      <td>0.0</td>\n",
       "      <td>0.0</td>\n",
       "      <td>0.0</td>\n",
       "      <td>0.0</td>\n",
       "      <td>0.0</td>\n",
       "      <td>0.0</td>\n",
       "      <td>0.0</td>\n",
       "      <td>0.0</td>\n",
       "      <td>0.0</td>\n",
       "      <td>NaN</td>\n",
       "    </tr>\n",
       "    <tr>\n",
       "      <th>2716</th>\n",
       "      <td>20230622_110832_standard_comp_to_both_rewarded...</td>\n",
       "      <td>both_rewarded</td>\n",
       "      <td>20</td>\n",
       "      <td>15</td>\n",
       "      <td>0.0</td>\n",
       "      <td>0.0</td>\n",
       "      <td>0.0</td>\n",
       "      <td>0.0</td>\n",
       "      <td>0.0</td>\n",
       "      <td>1.0</td>\n",
       "      <td>...</td>\n",
       "      <td>0.0</td>\n",
       "      <td>0.0</td>\n",
       "      <td>0.0</td>\n",
       "      <td>0.0</td>\n",
       "      <td>0.0</td>\n",
       "      <td>0.0</td>\n",
       "      <td>0.0</td>\n",
       "      <td>0.0</td>\n",
       "      <td>0.0</td>\n",
       "      <td>NaN</td>\n",
       "    </tr>\n",
       "  </tbody>\n",
       "</table>\n",
       "<p>2717 rows × 104 columns</p>\n",
       "</div>"
      ],
      "text/plain": [
       "                                              Recording     Event name  \\\n",
       "0     20230612_101430_standard_comp_to_training_D1_s...       rewarded   \n",
       "1     20230612_101430_standard_comp_to_training_D1_s...       rewarded   \n",
       "2     20230612_101430_standard_comp_to_training_D1_s...       rewarded   \n",
       "3     20230612_101430_standard_comp_to_training_D1_s...       rewarded   \n",
       "4     20230612_101430_standard_comp_to_training_D1_s...       rewarded   \n",
       "...                                                 ...            ...   \n",
       "2712  20230622_110832_standard_comp_to_both_rewarded...  both_rewarded   \n",
       "2713  20230622_110832_standard_comp_to_both_rewarded...  both_rewarded   \n",
       "2714  20230622_110832_standard_comp_to_both_rewarded...  both_rewarded   \n",
       "2715  20230622_110832_standard_comp_to_both_rewarded...  both_rewarded   \n",
       "2716  20230622_110832_standard_comp_to_both_rewarded...  both_rewarded   \n",
       "\n",
       "      Event number  Unit number  bin_1  bin_2  bin_3  bin_4  bin_5  bin_6  \\\n",
       "0                1           85    0.0    0.0    0.0    0.0    0.0    0.0   \n",
       "1                2           85    0.0    0.0    0.0    0.0    0.0    0.0   \n",
       "2                3           85    0.0    0.0    0.0    0.0    0.0    0.0   \n",
       "3                4           85    0.0    0.0    0.0    0.0    0.0    0.0   \n",
       "4                5           85    0.0    0.0    0.0    0.0    0.0    0.0   \n",
       "...            ...          ...    ...    ...    ...    ...    ...    ...   \n",
       "2712            16           15    0.0    0.0    0.0    0.0    0.0    0.0   \n",
       "2713            17           15    0.0    0.0    0.0    0.0    0.0    0.0   \n",
       "2714            18           15    1.0    0.0    0.0    0.0    0.0    0.0   \n",
       "2715            19           15    0.0    0.0    0.0    0.0    0.0    0.0   \n",
       "2716            20           15    0.0    0.0    0.0    0.0    0.0    1.0   \n",
       "\n",
       "      ...  bin_91  bin_92  bin_93  bin_94  bin_95  bin_96  bin_97  bin_98  \\\n",
       "0     ...     0.0     0.0     0.0     0.0     0.0     0.0     0.0     0.0   \n",
       "1     ...     0.0     0.0     0.0     0.0     0.0     0.0     0.0     0.0   \n",
       "2     ...     0.0     0.0     0.0     0.0     0.0     0.0     0.0     0.0   \n",
       "3     ...     0.0     1.0     0.0     0.0     0.0     0.0     0.0     0.0   \n",
       "4     ...     0.0     0.0     0.0     0.0     0.0     0.0     0.0     0.0   \n",
       "...   ...     ...     ...     ...     ...     ...     ...     ...     ...   \n",
       "2712  ...     0.0     0.0     0.0     0.0     0.0     0.0     0.0     0.0   \n",
       "2713  ...     0.0     0.0     0.0     0.0     0.0     0.0     0.0     0.0   \n",
       "2714  ...     0.0     0.0     0.0     0.0     0.0     0.0     0.0     0.0   \n",
       "2715  ...     0.0     0.0     0.0     0.0     0.0     0.0     0.0     0.0   \n",
       "2716  ...     0.0     0.0     0.0     0.0     0.0     0.0     0.0     0.0   \n",
       "\n",
       "      bin_99  bin_100  \n",
       "0        0.0      NaN  \n",
       "1        0.0      NaN  \n",
       "2        0.0      NaN  \n",
       "3        0.0      NaN  \n",
       "4        0.0      NaN  \n",
       "...      ...      ...  \n",
       "2712     0.0      NaN  \n",
       "2713     0.0      0.0  \n",
       "2714     0.0      NaN  \n",
       "2715     0.0      NaN  \n",
       "2716     0.0      NaN  \n",
       "\n",
       "[2717 rows x 104 columns]"
      ]
     },
     "execution_count": 145,
     "metadata": {},
     "output_type": "execute_result"
    }
   ],
   "source": [
    "event_df"
   ]
  },
  {
   "cell_type": "code",
   "execution_count": 146,
   "id": "013b53e7-4592-43fa-9ca8-1d5bf31a560f",
   "metadata": {
    "execution": {
     "iopub.execute_input": "2024-06-12T16:54:11.217236Z",
     "iopub.status.busy": "2024-06-12T16:54:11.215235Z",
     "iopub.status.idle": "2024-06-12T16:54:11.304792Z",
     "shell.execute_reply": "2024-06-12T16:54:11.302793Z",
     "shell.execute_reply.started": "2024-06-12T16:54:11.217236Z"
    }
   },
   "outputs": [
    {
     "data": {
      "text/plain": [
       "bin_100\n",
       "0.0    33\n",
       "1.0     6\n",
       "4.0     1\n",
       "Name: count, dtype: int64"
      ]
     },
     "execution_count": 146,
     "metadata": {},
     "output_type": "execute_result"
    }
   ],
   "source": [
    "event_df['bin_100'].value_counts()"
   ]
  },
  {
   "cell_type": "code",
   "execution_count": 147,
   "id": "2bc12843-1bfd-4386-b449-9558afd73dc7",
   "metadata": {
    "execution": {
     "iopub.execute_input": "2024-06-12T16:54:11.309790Z",
     "iopub.status.busy": "2024-06-12T16:54:11.308785Z",
     "iopub.status.idle": "2024-06-12T16:54:11.338817Z",
     "shell.execute_reply": "2024-06-12T16:54:11.334792Z",
     "shell.execute_reply.started": "2024-06-12T16:54:11.309790Z"
    }
   },
   "outputs": [
    {
     "data": {
      "text/plain": [
       "bin_99\n",
       "0.0    2089\n",
       "1.0     444\n",
       "2.0     100\n",
       "3.0      25\n",
       "4.0       8\n",
       "5.0       6\n",
       "6.0       4\n",
       "7.0       1\n",
       "8.0       1\n",
       "Name: count, dtype: int64"
      ]
     },
     "execution_count": 147,
     "metadata": {},
     "output_type": "execute_result"
    }
   ],
   "source": [
    "event_df['bin_99'].value_counts()"
   ]
  },
  {
   "cell_type": "code",
   "execution_count": 148,
   "id": "fdc692f0-1728-4c1a-a79d-a596ffc33742",
   "metadata": {
    "execution": {
     "iopub.execute_input": "2024-06-12T16:54:11.343804Z",
     "iopub.status.busy": "2024-06-12T16:54:11.342796Z",
     "iopub.status.idle": "2024-06-12T16:54:11.385391Z",
     "shell.execute_reply": "2024-06-12T16:54:11.382380Z",
     "shell.execute_reply.started": "2024-06-12T16:54:11.343804Z"
    }
   },
   "outputs": [
    {
     "data": {
      "text/plain": [
       "Recording          0\n",
       "Event name         0\n",
       "Event number       0\n",
       "Unit number        0\n",
       "bin_1             39\n",
       "                ... \n",
       "bin_96            39\n",
       "bin_97            39\n",
       "bin_98            39\n",
       "bin_99            39\n",
       "bin_100         2677\n",
       "Length: 104, dtype: int64"
      ]
     },
     "execution_count": 148,
     "metadata": {},
     "output_type": "execute_result"
    }
   ],
   "source": [
    "event_df.isna().sum()"
   ]
  },
  {
   "cell_type": "code",
   "execution_count": 149,
   "id": "83e3f475-cf22-43b9-b2f0-c72fecda05ea",
   "metadata": {
    "execution": {
     "iopub.execute_input": "2024-06-12T16:54:11.392403Z",
     "iopub.status.busy": "2024-06-12T16:54:11.391402Z",
     "iopub.status.idle": "2024-06-12T16:54:40.732550Z",
     "shell.execute_reply": "2024-06-12T16:54:40.729682Z",
     "shell.execute_reply.started": "2024-06-12T16:54:11.392403Z"
    }
   },
   "outputs": [
    {
     "name": "stdout",
     "output_type": "stream",
     "text": [
      "<class 'numpy.ndarray'>\n",
      "20230612_101430_standard_comp_to_training_D1_subj_1-3_t3b3L_box2_merged.rec\n",
      "<class 'numpy.ndarray'>\n",
      "20230617_115521_standard_comp_to_omission_D1_subj_1-1_t1b3L_box1_merged.rec\n",
      "<class 'numpy.ndarray'>\n",
      "Unit 92 is unsorted & has 2494 spikes\n",
      "Unit 92 will be deleted\n",
      "20230622_110832_standard_comp_to_both_rewarded_D1_subj_1-1_t1b3L_box1_merged.rec\n",
      "<class 'numpy.ndarray'>\n",
      "Unit 103 is unsorted & has 512 spikes\n",
      "Unit 103 will be deleted\n",
      "20230622_110832_standard_comp_to_both_rewarded_D1_subj_1-2_t3b3L_box1_merged.rec\n",
      "Please assign event dictionaries to each recording\n",
      "as recording.event_dict\n",
      "event_dict = {event name(str): np.array[[start(ms), stop(ms)]...]\n",
      "Please assign subjects to each recording as recording.subject\n"
     ]
    }
   ],
   "source": [
    "import multirecording_spikeanalysis_edit4 as spike\n",
    "\n",
    "# It takes several steps to create the timestamp_dicts, refer to Ephys_Analysis_Notebook to create\n",
    "timestamp_dicts = pickle.load(open('timestamp_dicts.pkl', 'rb'))\n",
    "\n",
    "# Construct the path in a platform-independent way (HiPerGator or Windows)\n",
    "ephys_path = Path('.') / 'recordings' / 'updated_phys' / 'test'\n",
    "\n",
    "ephys_data = spike.EphysRecordingCollection(str(ephys_path))"
   ]
  },
  {
   "cell_type": "code",
   "execution_count": 150,
   "id": "4c6e5d91-114e-466b-b756-f74f48caa30a",
   "metadata": {
    "execution": {
     "iopub.execute_input": "2024-06-12T16:54:40.743542Z",
     "iopub.status.busy": "2024-06-12T16:54:40.740541Z",
     "iopub.status.idle": "2024-06-12T16:54:42.000245Z",
     "shell.execute_reply": "2024-06-12T16:54:41.995854Z",
     "shell.execute_reply.started": "2024-06-12T16:54:40.743542Z"
    }
   },
   "outputs": [
    {
     "name": "stdout",
     "output_type": "stream",
     "text": [
      "All set to analyze\n"
     ]
    }
   ],
   "source": [
    "for recording in ephys_data.collection.keys():\n",
    "    # Check if the recording key (without everything after subject #) is in timestamp_dicts\n",
    "    start_pos = recording.find('subj_')\n",
    "    # Add the length of 'subj_' and 3 additional characters to include after 'subj_'\n",
    "    end_pos = start_pos + len('subj_') + 3\n",
    "    # Slice the recording key to get everything up to and including the subject identifier plus three characters\n",
    "    recording_key_without_suffix = recording[:end_pos]\n",
    "    if recording_key_without_suffix in timestamp_dicts:\n",
    "        # Assign the corresponding timestamp_dicts dictionary to event_dict\n",
    "        ephys_data.collection[recording].event_dict = timestamp_dicts[recording_key_without_suffix]\n",
    "        \n",
    "        # Extract the subject from the recording key\n",
    "        start = recording.find('subj_') + 5  # Start index after 'subj_'\n",
    "        subject = recording[start:start+3]\n",
    "        \n",
    "        # Assign the extracted subject\n",
    "        ephys_data.collection[recording].subject = subject\n",
    "        \n",
    "spike_analysis = spike.SpikeAnalysis_MultiRecording(ephys_data, timebin = 100, ignore_freq = 0.5)"
   ]
  },
  {
   "cell_type": "code",
   "execution_count": 151,
   "id": "5fb53155-7bf6-4116-99de-fd180d096959",
   "metadata": {
    "execution": {
     "iopub.execute_input": "2024-06-12T16:54:42.008251Z",
     "iopub.status.busy": "2024-06-12T16:54:42.006250Z",
     "iopub.status.idle": "2024-06-12T16:56:09.436598Z",
     "shell.execute_reply": "2024-06-12T16:56:09.436598Z",
     "shell.execute_reply.started": "2024-06-12T16:54:42.008251Z"
    }
   },
   "outputs": [
    {
     "name": "stdout",
     "output_type": "stream",
     "text": [
      "<class 'numpy.ndarray'>\n",
      "20230612_101430_standard_comp_to_training_D1_subj_1-3_t3b3L_box2_merged.rec\n",
      "<class 'numpy.ndarray'>\n",
      "20230617_115521_standard_comp_to_omission_D1_subj_1-1_t1b3L_box1_merged.rec\n",
      "<class 'numpy.ndarray'>\n",
      "20230617_115521_standard_comp_to_omission_D1_subj_1-2_t2b2L_box2_merged.rec\n",
      "<class 'numpy.ndarray'>\n",
      "20230618_100636_standard_comp_to_omission_D2_subj_1-1_t1b2L_box2_merged.rec\n",
      "<class 'numpy.ndarray'>\n",
      "20230618_100636_standard_comp_to_omission_D2_subj_1-4_t4b3L_box1_merged.rec\n",
      "<class 'numpy.ndarray'>\n",
      "20230619_115321_standard_comp_to_omission_D3_subj_1-4_t3b3L_box2_merged.rec\n",
      "<class 'numpy.ndarray'>\n",
      "20230620_114347_standard_comp_to_omission_D4_subj_1-1_t1b2L_box_2_merged.rec\n",
      "<class 'numpy.ndarray'>\n",
      "20230620_114347_standard_comp_to_omission_D4_subj_1-2_t3b3L_box_1_merged.rec\n",
      "<class 'numpy.ndarray'>\n",
      "20230621_111240_standard_comp_to_omission_D5_subj_1-4_t3b3L_box1_merged.rec\n",
      "<class 'numpy.ndarray'>\n",
      "Unit 92 is unsorted & has 2494 spikes\n",
      "Unit 92 will be deleted\n",
      "20230622_110832_standard_comp_to_both_rewarded_D1_subj_1-1_t1b3L_box1_merged.rec\n",
      "<class 'numpy.ndarray'>\n",
      "Unit 103 is unsorted & has 512 spikes\n",
      "Unit 103 will be deleted\n",
      "20230622_110832_standard_comp_to_both_rewarded_D1_subj_1-2_t3b3L_box1_merged.rec\n",
      "<class 'numpy.ndarray'>\n",
      "20230624_105855_standard_comp_to_both_rewarded_D3_subj_1-2_t1b2L_box1_merged.rec\n",
      "<class 'numpy.ndarray'>\n",
      "20230624_105855_standard_comp_to_both_rewarded_D3_subj_1-4_t3b3L_box1_merged.rec\n",
      "<class 'numpy.ndarray'>\n",
      "20230625_112913_standard_comp_to_both_rewarded_D4_subj_1-1_t1b2L_box1_merged.rec\n",
      "<class 'numpy.ndarray'>\n",
      "Unit 96 is unsorted & has 5811 spikes\n",
      "Unit 96 will be deleted\n",
      "Unit 95 is unsorted & has 6458 spikes\n",
      "Unit 95 will be deleted\n",
      "20230625_112913_standard_comp_to_both_rewarded_D4_subj_1-4_t3b3L_box1_merged.rec\n",
      "Please assign event dictionaries to each recording\n",
      "as recording.event_dict\n",
      "event_dict = {event name(str): np.array[[start(ms), stop(ms)]...]\n",
      "Please assign subjects to each recording as recording.subject\n"
     ]
    }
   ],
   "source": [
    "import multirecording_spikeanalysis_edit as spike\n",
    "\n",
    "cols = ['condition ', 'session_dir', 'all_subjects', 'tone_start_timestamp', 'tone_stop_timestamp']\n",
    "\n",
    "# Load the data\n",
    "df = pd.read_excel('rce_pilot_2_per_video_trial_labels.xlsx', usecols=cols, engine='openpyxl')\n",
    "\n",
    "df2 = df.dropna() # Drop the rows missing data\n",
    "df3 = df2.copy()\n",
    "df3['all_subjects'] = df3['all_subjects'].apply(lambda x: ast.literal_eval(x) if isinstance(x, str) else x) # Make the 'all_subjects' column readable as a list\n",
    "df4 = df3[df3['all_subjects'].apply(lambda x: len(x) < 3)] # Ignore novel sessions for now\n",
    "\n",
    "# Initialize an empty list to collect data for the new DataFrame\n",
    "new_df_data = []\n",
    "\n",
    "for _, row in df4.iterrows():\n",
    "    session_dir = row['session_dir']\n",
    "    subjects = row['all_subjects']\n",
    "    condition = row['condition ']\n",
    "\n",
    "    # Split session_dir on '_subj_' and take the first part only\n",
    "    # This ensures everything after '_subj_' is ignored\n",
    "    base_session_dir = session_dir.split('_subj_')[0]\n",
    "\n",
    "    for subject in subjects:\n",
    "        subject_formatted = subject.replace('.', '-')\n",
    "        # Append formatted subject to the base session_dir correctly\n",
    "        subj_recording = f\"{base_session_dir}_subj_{subject_formatted}\"\n",
    "        new_df_data.append({\n",
    "            'session_dir': session_dir,\n",
    "            'subject': subject,\n",
    "            'subj_recording': subj_recording,\n",
    "            'condition': condition if condition in ['rewarded', 'omission', 'both_rewarded', 'tie'] else ('win' if str(condition) == str(subject) else 'lose'),\n",
    "            'tone_start_timestamp': row['tone_start_timestamp'],\n",
    "            'tone_stop_timestamp': row['tone_stop_timestamp']\n",
    "        })\n",
    "\n",
    "# Convert list to DataFrame\n",
    "new_df = pd.DataFrame(new_df_data)\n",
    "new_df = new_df.drop_duplicates()\n",
    "\n",
    "# Prepare timestamp_dicts from new_df\n",
    "timestamp_dicts = {}\n",
    "for _, row in new_df.iterrows():\n",
    "    key = row['subj_recording']\n",
    "    condition = row['condition']\n",
    "    timestamp_start = int(row['tone_start_timestamp']) // 20\n",
    "    timestamp_end = int(row['tone_stop_timestamp']) // 20\n",
    "    tuple_val = (timestamp_start, timestamp_end)\n",
    "\n",
    "    if key not in timestamp_dicts:\n",
    "        timestamp_dicts[key] = {cond: [] for cond in ['rewarded', 'win', 'lose', 'omission', 'both_rewarded', 'tie']}\n",
    "    timestamp_dicts[key][condition].append(tuple_val)\n",
    "\n",
    "# Convert lists in timestamp_dicts to numpy arrays\n",
    "for subj_recording in timestamp_dicts:\n",
    "    for condition in timestamp_dicts[subj_recording]:\n",
    "        timestamp_dicts[subj_recording][condition] = np.array(timestamp_dicts[subj_recording][condition], dtype=np.int64)\n",
    "        \n",
    "\n",
    "# Construct the path in a platform-independent way (HiPerGator or Windows)\n",
    "ephys_path = Path('.') / 'recordings' / 'updated_phys' / 'non-novel' / 'all_non_novel'\n",
    "\n",
    "ephys_data = spike.EphysRecordingCollection(str(ephys_path))"
   ]
  },
  {
   "cell_type": "code",
   "execution_count": 152,
   "id": "27ee5e3f-f131-48c9-9545-90004e8b8489",
   "metadata": {
    "execution": {
     "iopub.execute_input": "2024-06-12T16:56:09.436598Z",
     "iopub.status.busy": "2024-06-12T16:56:09.436598Z",
     "iopub.status.idle": "2024-06-12T16:56:12.481221Z",
     "shell.execute_reply": "2024-06-12T16:56:12.481221Z",
     "shell.execute_reply.started": "2024-06-12T16:56:09.436598Z"
    }
   },
   "outputs": [
    {
     "name": "stdout",
     "output_type": "stream",
     "text": [
      "All set to analyze\n"
     ]
    }
   ],
   "source": [
    "for recording in ephys_data.collection.keys():\n",
    "    # Check if the recording key (without everything after subject #) is in timestamp_dicts\n",
    "    start_pos = recording.find('subj_')\n",
    "    # Add the length of 'subj_' and 3 additional characters to include after 'subj_'\n",
    "    end_pos = start_pos + len('subj_') + 3\n",
    "    # Slice the recording key to get everything up to and including the subject identifier plus three characters\n",
    "    recording_key_without_suffix = recording[:end_pos]\n",
    "    if recording_key_without_suffix in timestamp_dicts:\n",
    "        # Assign the corresponding timestamp_dicts dictionary to event_dict\n",
    "        ephys_data.collection[recording].event_dict = timestamp_dicts[recording_key_without_suffix]\n",
    "        \n",
    "        # Extract the subject from the recording key\n",
    "        start = recording.find('subj_') + 5  # Start index after 'subj_'\n",
    "        subject = recording[start:start+3]\n",
    "        \n",
    "        # Assign the extracted subject\n",
    "        ephys_data.collection[recording].subject = subject\n",
    "        \n",
    "spike_analysis = spike.SpikeAnalysis_MultiRecording(ephys_data, timebin = 100, smoothing_window=250, ignore_freq = 0.5)"
   ]
  },
  {
   "cell_type": "code",
   "execution_count": 153,
   "id": "a948c86f-5133-4ba8-b106-2cbff68b56f3",
   "metadata": {
    "execution": {
     "iopub.execute_input": "2024-06-12T16:56:12.481221Z",
     "iopub.status.busy": "2024-06-12T16:56:12.481221Z",
     "iopub.status.idle": "2024-06-12T16:56:16.087497Z",
     "shell.execute_reply": "2024-06-12T16:56:16.087497Z",
     "shell.execute_reply.started": "2024-06-12T16:56:12.481221Z"
    }
   },
   "outputs": [
    {
     "name": "stdout",
     "output_type": "stream",
     "text": [
      "Wilcoxon can't be done on 20230617_115521_standard_comp_to_omission_D1_subj_1-2_t2b2L_box2_merged.rec win, because <6 samples\n",
      "Wilcoxon can't be done on 20230619_115321_standard_comp_to_omission_D3_subj_1-4_t3b3L_box2_merged.rec win, because <6 samples\n",
      "Wilcoxon can't be done on 20230620_114347_standard_comp_to_omission_D4_subj_1-2_t3b3L_box_1_merged.rec win, because <6 samples\n",
      "Wilcoxon can't be done on 20230621_111240_standard_comp_to_omission_D5_subj_1-4_t3b3L_box1_merged.rec win, because <6 samples\n",
      "Wilcoxon can't be done on 20230622_110832_standard_comp_to_both_rewarded_D1_subj_1-1_t1b3L_box1_merged.rec win, because <6 samples\n",
      "Wilcoxon can't be done on 20230624_105855_standard_comp_to_both_rewarded_D3_subj_1-4_t3b3L_box1_merged.rec win, because <6 samples\n",
      "Wilcoxon can't be done on 20230625_112913_standard_comp_to_both_rewarded_D4_subj_1-4_t3b3L_box1_merged.rec win, because <6 samples\n",
      "Wilcoxon can't be done on 20230617_115521_standard_comp_to_omission_D1_subj_1-1_t1b3L_box1_merged.rec lose, because <6 samples\n",
      "Wilcoxon can't be done on 20230620_114347_standard_comp_to_omission_D4_subj_1-1_t1b2L_box_2_merged.rec lose, because <6 samples\n",
      "Wilcoxon can't be done on 20230622_110832_standard_comp_to_both_rewarded_D1_subj_1-2_t3b3L_box1_merged.rec lose, because <6 samples\n",
      "Wilcoxon can't be done on 20230624_105855_standard_comp_to_both_rewarded_D3_subj_1-2_t1b2L_box1_merged.rec lose, because <6 samples\n",
      "Wilcoxon can't be done on 20230625_112913_standard_comp_to_both_rewarded_D4_subj_1-1_t1b2L_box1_merged.rec lose, because <6 samples\n"
     ]
    }
   ],
   "source": [
    "win_df = spike_analysis.wilcox_baseline_v_event_collection('win', 10, 10, plot=False)\n",
    "lose_df = spike_analysis.wilcox_baseline_v_event_collection('lose', 10, 10, plot=False)"
   ]
  },
  {
   "cell_type": "code",
   "execution_count": 154,
   "id": "51d9ea62-4b24-4b3a-afac-41beb2f9ffca",
   "metadata": {
    "execution": {
     "iopub.execute_input": "2024-06-12T16:56:16.087497Z",
     "iopub.status.busy": "2024-06-12T16:56:16.087497Z",
     "iopub.status.idle": "2024-06-12T16:56:16.150450Z",
     "shell.execute_reply": "2024-06-12T16:56:16.150450Z",
     "shell.execute_reply.started": "2024-06-12T16:56:16.087497Z"
    }
   },
   "outputs": [],
   "source": [
    "def normalize_event_string(event_string):\n",
    "        event_list = event_string.split(', ')\n",
    "        event_list_sorted = sorted(event_list)  # Sort the list to ensure consistent order\n",
    "        return ', '.join(event_list_sorted)  # Join the sorted list back into a string\n",
    "\n",
    "def aggregate_event_data(combined_df):\n",
    "    # Function to extract just the event name\n",
    "    def extract_event_name(event):\n",
    "        # Remove any leading time duration from the event string\n",
    "        parts = event.split(' vs ')\n",
    "        event_name = parts[0].split(' ')[-1]  # Splits by space and takes the last part, removing any time prefix\n",
    "        return event_name\n",
    "\n",
    "    # Initialize an empty dictionary to hold aggregated data\n",
    "    aggregated_data = {}\n",
    "\n",
    "    # Iterate over the rows of the combined DataFrame\n",
    "    for index, row in combined_df.iterrows():\n",
    "        # Extract event name\n",
    "        event_name = extract_event_name(row['Event'])\n",
    "        # Construct a unique key for each combination of recording, subject, and unit id\n",
    "        key = (row['Recording'], row['Subject'], row['original unit id'])\n",
    "        \n",
    "        # Initialize the entry if not exists\n",
    "        if key not in aggregated_data:\n",
    "            aggregated_data[key] = {'sig_increase_events': set(), 'sig_decrease_events': set(), 'insig_events': set()}\n",
    "        \n",
    "        # Append the event name to the appropriate category based on 'event1 vs event2'\n",
    "        if row['event1 vs event2'] == 'increases':\n",
    "            aggregated_data[key]['sig_increase_events'].add(event_name)\n",
    "        elif row['event1 vs event2'] == 'decreases':\n",
    "            aggregated_data[key]['sig_decrease_events'].add(event_name)\n",
    "        else:\n",
    "            aggregated_data[key]['insig_events'].add(event_name)\n",
    "\n",
    "    # Convert the aggregated data into a DataFrame\n",
    "    rows = []\n",
    "    for (recording, subject, unit_id), categories in aggregated_data.items():\n",
    "        row = {\n",
    "            'Recording': recording,\n",
    "            'Subject': subject,\n",
    "            'original unit id': unit_id,\n",
    "            'sig_increase_events': ', '.join(categories['sig_increase_events']),\n",
    "            'sig_decrease_events': ', '.join(categories['sig_decrease_events']),\n",
    "            'insig_events': ', '.join(categories['insig_events']),\n",
    "        }\n",
    "        rows.append(row)\n",
    "\n",
    "    aggregated_df = pd.DataFrame(rows)\n",
    "    aggregated_df['sig_events'] = aggregated_df.apply(\n",
    "        lambda row: ', '.join(filter(None, [row['sig_increase_events'], row['sig_decrease_events']])), axis=1)\n",
    "\n",
    "    # Apply the normalization function to the 'sig_events' column before counting\n",
    "    aggregated_df['sig_events'] = aggregated_df['sig_events'].apply(normalize_event_string)\n",
    "\n",
    "    # Count the unique combinations of significant events\n",
    "    sig_events_counts = aggregated_df['sig_events'].value_counts()\n",
    "\n",
    "    # Rename the empty strings to 'non-responsive'\n",
    "    sig_events_counts = sig_events_counts.rename(index={'': 'Non-Responsive'})\n",
    "\n",
    "    return aggregated_df, sig_events_counts"
   ]
  },
  {
   "cell_type": "code",
   "execution_count": 155,
   "id": "6bd733cb-7c72-4d4c-8e13-48d324b99176",
   "metadata": {
    "execution": {
     "iopub.execute_input": "2024-06-12T16:56:16.150450Z",
     "iopub.status.busy": "2024-06-12T16:56:16.150450Z",
     "iopub.status.idle": "2024-06-12T16:56:16.215979Z",
     "shell.execute_reply": "2024-06-12T16:56:16.212955Z",
     "shell.execute_reply.started": "2024-06-12T16:56:16.150450Z"
    }
   },
   "outputs": [
    {
     "data": {
      "text/html": [
       "<div>\n",
       "<style scoped>\n",
       "    .dataframe tbody tr th:only-of-type {\n",
       "        vertical-align: middle;\n",
       "    }\n",
       "\n",
       "    .dataframe tbody tr th {\n",
       "        vertical-align: top;\n",
       "    }\n",
       "\n",
       "    .dataframe thead th {\n",
       "        text-align: right;\n",
       "    }\n",
       "</style>\n",
       "<table border=\"1\" class=\"dataframe\">\n",
       "  <thead>\n",
       "    <tr style=\"text-align: right;\">\n",
       "      <th></th>\n",
       "      <th>original unit id</th>\n",
       "      <th>Wilcoxon Stat</th>\n",
       "      <th>p value</th>\n",
       "      <th>event1 vs event2</th>\n",
       "      <th>Recording</th>\n",
       "      <th>Subject</th>\n",
       "      <th>Event</th>\n",
       "    </tr>\n",
       "  </thead>\n",
       "  <tbody>\n",
       "    <tr>\n",
       "      <th>0</th>\n",
       "      <td>85</td>\n",
       "      <td>35.0</td>\n",
       "      <td>0.791016</td>\n",
       "      <td>not significant</td>\n",
       "      <td>20230612_101430_standard_comp_to_training_D1_s...</td>\n",
       "      <td>1-3</td>\n",
       "      <td>10s win vs 10s baseline</td>\n",
       "    </tr>\n",
       "    <tr>\n",
       "      <th>1</th>\n",
       "      <td>55</td>\n",
       "      <td>36.0</td>\n",
       "      <td>0.541748</td>\n",
       "      <td>not significant</td>\n",
       "      <td>20230612_101430_standard_comp_to_training_D1_s...</td>\n",
       "      <td>1-3</td>\n",
       "      <td>10s win vs 10s baseline</td>\n",
       "    </tr>\n",
       "    <tr>\n",
       "      <th>2</th>\n",
       "      <td>17</td>\n",
       "      <td>30.0</td>\n",
       "      <td>0.518555</td>\n",
       "      <td>not significant</td>\n",
       "      <td>20230612_101430_standard_comp_to_training_D1_s...</td>\n",
       "      <td>1-3</td>\n",
       "      <td>10s win vs 10s baseline</td>\n",
       "    </tr>\n",
       "    <tr>\n",
       "      <th>3</th>\n",
       "      <td>24</td>\n",
       "      <td>3.0</td>\n",
       "      <td>0.001221</td>\n",
       "      <td>increases</td>\n",
       "      <td>20230612_101430_standard_comp_to_training_D1_s...</td>\n",
       "      <td>1-3</td>\n",
       "      <td>10s win vs 10s baseline</td>\n",
       "    </tr>\n",
       "    <tr>\n",
       "      <th>4</th>\n",
       "      <td>68</td>\n",
       "      <td>29.0</td>\n",
       "      <td>0.469727</td>\n",
       "      <td>not significant</td>\n",
       "      <td>20230612_101430_standard_comp_to_training_D1_s...</td>\n",
       "      <td>1-3</td>\n",
       "      <td>10s win vs 10s baseline</td>\n",
       "    </tr>\n",
       "    <tr>\n",
       "      <th>...</th>\n",
       "      <td>...</td>\n",
       "      <td>...</td>\n",
       "      <td>...</td>\n",
       "      <td>...</td>\n",
       "      <td>...</td>\n",
       "      <td>...</td>\n",
       "      <td>...</td>\n",
       "    </tr>\n",
       "    <tr>\n",
       "      <th>149</th>\n",
       "      <td>32</td>\n",
       "      <td>61.5</td>\n",
       "      <td>0.743561</td>\n",
       "      <td>not significant</td>\n",
       "      <td>20230625_112913_standard_comp_to_both_rewarded...</td>\n",
       "      <td>1-1</td>\n",
       "      <td>10s win vs 10s baseline</td>\n",
       "    </tr>\n",
       "    <tr>\n",
       "      <th>150</th>\n",
       "      <td>62</td>\n",
       "      <td>34.0</td>\n",
       "      <td>0.083252</td>\n",
       "      <td>not significant</td>\n",
       "      <td>20230625_112913_standard_comp_to_both_rewarded...</td>\n",
       "      <td>1-1</td>\n",
       "      <td>10s win vs 10s baseline</td>\n",
       "    </tr>\n",
       "    <tr>\n",
       "      <th>151</th>\n",
       "      <td>78</td>\n",
       "      <td>44.0</td>\n",
       "      <td>0.231201</td>\n",
       "      <td>not significant</td>\n",
       "      <td>20230625_112913_standard_comp_to_both_rewarded...</td>\n",
       "      <td>1-1</td>\n",
       "      <td>10s win vs 10s baseline</td>\n",
       "    </tr>\n",
       "    <tr>\n",
       "      <th>152</th>\n",
       "      <td>64</td>\n",
       "      <td>51.5</td>\n",
       "      <td>0.403748</td>\n",
       "      <td>not significant</td>\n",
       "      <td>20230625_112913_standard_comp_to_both_rewarded...</td>\n",
       "      <td>1-1</td>\n",
       "      <td>10s win vs 10s baseline</td>\n",
       "    </tr>\n",
       "    <tr>\n",
       "      <th>153</th>\n",
       "      <td>0</td>\n",
       "      <td>NaN</td>\n",
       "      <td>NaN</td>\n",
       "      <td>NaN</td>\n",
       "      <td>20230625_112913_standard_comp_to_both_rewarded...</td>\n",
       "      <td>1-4</td>\n",
       "      <td>10s win vs 10s baseline</td>\n",
       "    </tr>\n",
       "  </tbody>\n",
       "</table>\n",
       "<p>154 rows × 7 columns</p>\n",
       "</div>"
      ],
      "text/plain": [
       "     original unit id  Wilcoxon Stat   p value event1 vs event2  \\\n",
       "0                  85           35.0  0.791016  not significant   \n",
       "1                  55           36.0  0.541748  not significant   \n",
       "2                  17           30.0  0.518555  not significant   \n",
       "3                  24            3.0  0.001221        increases   \n",
       "4                  68           29.0  0.469727  not significant   \n",
       "..                ...            ...       ...              ...   \n",
       "149                32           61.5  0.743561  not significant   \n",
       "150                62           34.0  0.083252  not significant   \n",
       "151                78           44.0  0.231201  not significant   \n",
       "152                64           51.5  0.403748  not significant   \n",
       "153                 0            NaN       NaN              NaN   \n",
       "\n",
       "                                             Recording Subject  \\\n",
       "0    20230612_101430_standard_comp_to_training_D1_s...     1-3   \n",
       "1    20230612_101430_standard_comp_to_training_D1_s...     1-3   \n",
       "2    20230612_101430_standard_comp_to_training_D1_s...     1-3   \n",
       "3    20230612_101430_standard_comp_to_training_D1_s...     1-3   \n",
       "4    20230612_101430_standard_comp_to_training_D1_s...     1-3   \n",
       "..                                                 ...     ...   \n",
       "149  20230625_112913_standard_comp_to_both_rewarded...     1-1   \n",
       "150  20230625_112913_standard_comp_to_both_rewarded...     1-1   \n",
       "151  20230625_112913_standard_comp_to_both_rewarded...     1-1   \n",
       "152  20230625_112913_standard_comp_to_both_rewarded...     1-1   \n",
       "153  20230625_112913_standard_comp_to_both_rewarded...     1-4   \n",
       "\n",
       "                       Event  \n",
       "0    10s win vs 10s baseline  \n",
       "1    10s win vs 10s baseline  \n",
       "2    10s win vs 10s baseline  \n",
       "3    10s win vs 10s baseline  \n",
       "4    10s win vs 10s baseline  \n",
       "..                       ...  \n",
       "149  10s win vs 10s baseline  \n",
       "150  10s win vs 10s baseline  \n",
       "151  10s win vs 10s baseline  \n",
       "152  10s win vs 10s baseline  \n",
       "153  10s win vs 10s baseline  \n",
       "\n",
       "[154 rows x 7 columns]"
      ]
     },
     "execution_count": 155,
     "metadata": {},
     "output_type": "execute_result"
    }
   ],
   "source": [
    "win_df"
   ]
  },
  {
   "cell_type": "code",
   "execution_count": 156,
   "id": "efc1f441-e724-421d-b7d6-3c7e84781cfe",
   "metadata": {
    "execution": {
     "iopub.execute_input": "2024-06-12T16:56:16.215979Z",
     "iopub.status.busy": "2024-06-12T16:56:16.215979Z",
     "iopub.status.idle": "2024-06-12T16:56:16.260292Z",
     "shell.execute_reply": "2024-06-12T16:56:16.260292Z",
     "shell.execute_reply.started": "2024-06-12T16:56:16.215979Z"
    }
   },
   "outputs": [
    {
     "data": {
      "text/html": [
       "<div>\n",
       "<style scoped>\n",
       "    .dataframe tbody tr th:only-of-type {\n",
       "        vertical-align: middle;\n",
       "    }\n",
       "\n",
       "    .dataframe tbody tr th {\n",
       "        vertical-align: top;\n",
       "    }\n",
       "\n",
       "    .dataframe thead th {\n",
       "        text-align: right;\n",
       "    }\n",
       "</style>\n",
       "<table border=\"1\" class=\"dataframe\">\n",
       "  <thead>\n",
       "    <tr style=\"text-align: right;\">\n",
       "      <th></th>\n",
       "      <th>original unit id</th>\n",
       "      <th>Wilcoxon Stat</th>\n",
       "      <th>p value</th>\n",
       "      <th>event1 vs event2</th>\n",
       "      <th>Recording</th>\n",
       "      <th>Subject</th>\n",
       "      <th>Event</th>\n",
       "    </tr>\n",
       "  </thead>\n",
       "  <tbody>\n",
       "    <tr>\n",
       "      <th>0</th>\n",
       "      <td>85</td>\n",
       "      <td>9.0</td>\n",
       "      <td>0.468750</td>\n",
       "      <td>not significant</td>\n",
       "      <td>20230612_101430_standard_comp_to_training_D1_s...</td>\n",
       "      <td>1-3</td>\n",
       "      <td>10s lose vs 10s baseline</td>\n",
       "    </tr>\n",
       "    <tr>\n",
       "      <th>1</th>\n",
       "      <td>55</td>\n",
       "      <td>11.0</td>\n",
       "      <td>0.687500</td>\n",
       "      <td>not significant</td>\n",
       "      <td>20230612_101430_standard_comp_to_training_D1_s...</td>\n",
       "      <td>1-3</td>\n",
       "      <td>10s lose vs 10s baseline</td>\n",
       "    </tr>\n",
       "    <tr>\n",
       "      <th>2</th>\n",
       "      <td>17</td>\n",
       "      <td>4.0</td>\n",
       "      <td>0.437500</td>\n",
       "      <td>not significant</td>\n",
       "      <td>20230612_101430_standard_comp_to_training_D1_s...</td>\n",
       "      <td>1-3</td>\n",
       "      <td>10s lose vs 10s baseline</td>\n",
       "    </tr>\n",
       "    <tr>\n",
       "      <th>3</th>\n",
       "      <td>24</td>\n",
       "      <td>10.0</td>\n",
       "      <td>0.578125</td>\n",
       "      <td>not significant</td>\n",
       "      <td>20230612_101430_standard_comp_to_training_D1_s...</td>\n",
       "      <td>1-3</td>\n",
       "      <td>10s lose vs 10s baseline</td>\n",
       "    </tr>\n",
       "    <tr>\n",
       "      <th>4</th>\n",
       "      <td>68</td>\n",
       "      <td>14.0</td>\n",
       "      <td>1.000000</td>\n",
       "      <td>not significant</td>\n",
       "      <td>20230612_101430_standard_comp_to_training_D1_s...</td>\n",
       "      <td>1-3</td>\n",
       "      <td>10s lose vs 10s baseline</td>\n",
       "    </tr>\n",
       "    <tr>\n",
       "      <th>...</th>\n",
       "      <td>...</td>\n",
       "      <td>...</td>\n",
       "      <td>...</td>\n",
       "      <td>...</td>\n",
       "      <td>...</td>\n",
       "      <td>...</td>\n",
       "      <td>...</td>\n",
       "    </tr>\n",
       "    <tr>\n",
       "      <th>184</th>\n",
       "      <td>39</td>\n",
       "      <td>49.0</td>\n",
       "      <td>0.348389</td>\n",
       "      <td>not significant</td>\n",
       "      <td>20230625_112913_standard_comp_to_both_rewarded...</td>\n",
       "      <td>1-4</td>\n",
       "      <td>10s lose vs 10s baseline</td>\n",
       "    </tr>\n",
       "    <tr>\n",
       "      <th>185</th>\n",
       "      <td>17</td>\n",
       "      <td>46.0</td>\n",
       "      <td>0.274445</td>\n",
       "      <td>not significant</td>\n",
       "      <td>20230625_112913_standard_comp_to_both_rewarded...</td>\n",
       "      <td>1-4</td>\n",
       "      <td>10s lose vs 10s baseline</td>\n",
       "    </tr>\n",
       "    <tr>\n",
       "      <th>186</th>\n",
       "      <td>15</td>\n",
       "      <td>52.5</td>\n",
       "      <td>0.719727</td>\n",
       "      <td>not significant</td>\n",
       "      <td>20230625_112913_standard_comp_to_both_rewarded...</td>\n",
       "      <td>1-4</td>\n",
       "      <td>10s lose vs 10s baseline</td>\n",
       "    </tr>\n",
       "    <tr>\n",
       "      <th>187</th>\n",
       "      <td>27</td>\n",
       "      <td>40.0</td>\n",
       "      <td>0.276855</td>\n",
       "      <td>not significant</td>\n",
       "      <td>20230625_112913_standard_comp_to_both_rewarded...</td>\n",
       "      <td>1-4</td>\n",
       "      <td>10s lose vs 10s baseline</td>\n",
       "    </tr>\n",
       "    <tr>\n",
       "      <th>188</th>\n",
       "      <td>11</td>\n",
       "      <td>5.0</td>\n",
       "      <td>0.001221</td>\n",
       "      <td>increases</td>\n",
       "      <td>20230625_112913_standard_comp_to_both_rewarded...</td>\n",
       "      <td>1-4</td>\n",
       "      <td>10s lose vs 10s baseline</td>\n",
       "    </tr>\n",
       "  </tbody>\n",
       "</table>\n",
       "<p>189 rows × 7 columns</p>\n",
       "</div>"
      ],
      "text/plain": [
       "     original unit id  Wilcoxon Stat   p value event1 vs event2  \\\n",
       "0                  85            9.0  0.468750  not significant   \n",
       "1                  55           11.0  0.687500  not significant   \n",
       "2                  17            4.0  0.437500  not significant   \n",
       "3                  24           10.0  0.578125  not significant   \n",
       "4                  68           14.0  1.000000  not significant   \n",
       "..                ...            ...       ...              ...   \n",
       "184                39           49.0  0.348389  not significant   \n",
       "185                17           46.0  0.274445  not significant   \n",
       "186                15           52.5  0.719727  not significant   \n",
       "187                27           40.0  0.276855  not significant   \n",
       "188                11            5.0  0.001221        increases   \n",
       "\n",
       "                                             Recording Subject  \\\n",
       "0    20230612_101430_standard_comp_to_training_D1_s...     1-3   \n",
       "1    20230612_101430_standard_comp_to_training_D1_s...     1-3   \n",
       "2    20230612_101430_standard_comp_to_training_D1_s...     1-3   \n",
       "3    20230612_101430_standard_comp_to_training_D1_s...     1-3   \n",
       "4    20230612_101430_standard_comp_to_training_D1_s...     1-3   \n",
       "..                                                 ...     ...   \n",
       "184  20230625_112913_standard_comp_to_both_rewarded...     1-4   \n",
       "185  20230625_112913_standard_comp_to_both_rewarded...     1-4   \n",
       "186  20230625_112913_standard_comp_to_both_rewarded...     1-4   \n",
       "187  20230625_112913_standard_comp_to_both_rewarded...     1-4   \n",
       "188  20230625_112913_standard_comp_to_both_rewarded...     1-4   \n",
       "\n",
       "                        Event  \n",
       "0    10s lose vs 10s baseline  \n",
       "1    10s lose vs 10s baseline  \n",
       "2    10s lose vs 10s baseline  \n",
       "3    10s lose vs 10s baseline  \n",
       "4    10s lose vs 10s baseline  \n",
       "..                        ...  \n",
       "184  10s lose vs 10s baseline  \n",
       "185  10s lose vs 10s baseline  \n",
       "186  10s lose vs 10s baseline  \n",
       "187  10s lose vs 10s baseline  \n",
       "188  10s lose vs 10s baseline  \n",
       "\n",
       "[189 rows x 7 columns]"
      ]
     },
     "execution_count": 156,
     "metadata": {},
     "output_type": "execute_result"
    }
   ],
   "source": [
    "lose_df"
   ]
  },
  {
   "cell_type": "code",
   "execution_count": 157,
   "id": "f1dceaed-8d94-4ad0-81d1-01e3d04acfdb",
   "metadata": {
    "execution": {
     "iopub.execute_input": "2024-06-12T16:56:16.260292Z",
     "iopub.status.busy": "2024-06-12T16:56:16.260292Z",
     "iopub.status.idle": "2024-06-12T16:56:16.291545Z",
     "shell.execute_reply": "2024-06-12T16:56:16.291545Z",
     "shell.execute_reply.started": "2024-06-12T16:56:16.260292Z"
    }
   },
   "outputs": [
    {
     "data": {
      "text/plain": [
       "event1 vs event2\n",
       "not significant    115\n",
       "increases           28\n",
       "decreases            4\n",
       "Name: count, dtype: int64"
      ]
     },
     "execution_count": 157,
     "metadata": {},
     "output_type": "execute_result"
    }
   ],
   "source": [
    "wins = win_df['event1 vs event2'].value_counts()\n",
    "wins"
   ]
  },
  {
   "cell_type": "code",
   "execution_count": 158,
   "id": "a9b97871-652c-4af4-b0ff-27ce7292f9a8",
   "metadata": {
    "execution": {
     "iopub.execute_input": "2024-06-12T16:56:16.291545Z",
     "iopub.status.busy": "2024-06-12T16:56:16.291545Z",
     "iopub.status.idle": "2024-06-12T16:56:16.323223Z",
     "shell.execute_reply": "2024-06-12T16:56:16.323223Z",
     "shell.execute_reply.started": "2024-06-12T16:56:16.291545Z"
    }
   },
   "outputs": [
    {
     "data": {
      "text/plain": [
       "event1 vs event2\n",
       "not significant    149\n",
       "increases           32\n",
       "decreases            3\n",
       "Name: count, dtype: int64"
      ]
     },
     "execution_count": 158,
     "metadata": {},
     "output_type": "execute_result"
    }
   ],
   "source": [
    "losses = lose_df['event1 vs event2'].value_counts()\n",
    "losses"
   ]
  },
  {
   "cell_type": "code",
   "execution_count": 159,
   "id": "49caaefa-dcbf-4d02-80f4-2a745c0ea75a",
   "metadata": {
    "execution": {
     "iopub.execute_input": "2024-06-12T16:56:16.323223Z",
     "iopub.status.busy": "2024-06-12T16:56:16.323223Z",
     "iopub.status.idle": "2024-06-12T16:56:16.338873Z",
     "shell.execute_reply": "2024-06-12T16:56:16.338873Z",
     "shell.execute_reply.started": "2024-06-12T16:56:16.323223Z"
    }
   },
   "outputs": [],
   "source": [
    "win = (28+4) / (115+28+4)\n",
    "lose = (32+3) / (149+32+3)"
   ]
  },
  {
   "cell_type": "code",
   "execution_count": 160,
   "id": "bd34f8ab-a34d-4b6f-8aff-ff484df13a58",
   "metadata": {
    "execution": {
     "iopub.execute_input": "2024-06-12T16:56:16.338873Z",
     "iopub.status.busy": "2024-06-12T16:56:16.338873Z",
     "iopub.status.idle": "2024-06-12T16:56:16.370125Z",
     "shell.execute_reply": "2024-06-12T16:56:16.370125Z",
     "shell.execute_reply.started": "2024-06-12T16:56:16.338873Z"
    }
   },
   "outputs": [
    {
     "data": {
      "text/plain": [
       "0.21768707482993196"
      ]
     },
     "execution_count": 160,
     "metadata": {},
     "output_type": "execute_result"
    }
   ],
   "source": [
    "win"
   ]
  },
  {
   "cell_type": "code",
   "execution_count": 161,
   "id": "a339a1d0-ac02-4893-b1b4-0eeb79a9ef7d",
   "metadata": {
    "execution": {
     "iopub.execute_input": "2024-06-12T16:56:16.370125Z",
     "iopub.status.busy": "2024-06-12T16:56:16.370125Z",
     "iopub.status.idle": "2024-06-12T16:56:16.401371Z",
     "shell.execute_reply": "2024-06-12T16:56:16.401371Z",
     "shell.execute_reply.started": "2024-06-12T16:56:16.370125Z"
    }
   },
   "outputs": [
    {
     "data": {
      "text/plain": [
       "0.19021739130434784"
      ]
     },
     "execution_count": 161,
     "metadata": {},
     "output_type": "execute_result"
    }
   ],
   "source": [
    "lose"
   ]
  },
  {
   "cell_type": "code",
   "execution_count": 162,
   "id": "20a33d75-25f7-40e8-a3f9-c02cd61dc9e4",
   "metadata": {
    "execution": {
     "iopub.execute_input": "2024-06-12T16:56:16.401371Z",
     "iopub.status.busy": "2024-06-12T16:56:16.401371Z",
     "iopub.status.idle": "2024-06-12T16:56:18.623818Z",
     "shell.execute_reply": "2024-06-12T16:56:18.619952Z",
     "shell.execute_reply.started": "2024-06-12T16:56:16.401371Z"
    }
   },
   "outputs": [
    {
     "data": {
      "image/png": "[encoded data removed]",
      "text/plain": [
       "<Figure size 800x800 with 1 Axes>"
      ]
     },
     "metadata": {},
     "output_type": "display_data"
    }
   ],
   "source": [
    "plt.figure(figsize=(8, 8))\n",
    "plt.pie(wins, labels=wins.index, autopct='%1.1f%%', startangle=140)\n",
    "plt.title('Win Responsive Neurons')\n",
    "plt.show()"
   ]
  },
  {
   "cell_type": "code",
   "execution_count": 163,
   "id": "5bba47df-1da4-4147-969d-853d80181701",
   "metadata": {
    "execution": {
     "iopub.execute_input": "2024-06-12T16:56:18.639769Z",
     "iopub.status.busy": "2024-06-12T16:56:18.639769Z",
     "iopub.status.idle": "2024-06-12T16:56:19.202578Z",
     "shell.execute_reply": "2024-06-12T16:56:19.202578Z",
     "shell.execute_reply.started": "2024-06-12T16:56:18.639769Z"
    }
   },
   "outputs": [
    {
     "data": {
      "image/png": "[encoded data removed]",
      "text/plain": [
       "<Figure size 800x800 with 1 Axes>"
      ]
     },
     "metadata": {},
     "output_type": "display_data"
    }
   ],
   "source": [
    "def func(pct, allvalues):\n",
    "    absolute = int(pct / 100. * sum(allvalues))\n",
    "    return \"{:.1f}%\\n({:d})\".format(pct, absolute)\n",
    "\n",
    "# Create a pie plot\n",
    "plt.figure(figsize=(8, 8))\n",
    "plt.pie(wins, labels=wins.index, autopct=lambda pct: func(pct, wins), startangle=140)\n",
    "plt.title('Win Responsive Neurons')\n",
    "plt.show()"
   ]
  },
  {
   "cell_type": "code",
   "execution_count": 164,
   "id": "9c4fc0de-a959-41e3-b937-74fc8a206764",
   "metadata": {
    "execution": {
     "iopub.execute_input": "2024-06-12T16:56:19.202578Z",
     "iopub.status.busy": "2024-06-12T16:56:19.202578Z",
     "iopub.status.idle": "2024-06-12T16:56:19.656458Z",
     "shell.execute_reply": "2024-06-12T16:56:19.651965Z",
     "shell.execute_reply.started": "2024-06-12T16:56:19.202578Z"
    }
   },
   "outputs": [
    {
     "data": {
      "image/png": "[encoded data removed]",
      "text/plain": [
       "<Figure size 800x800 with 1 Axes>"
      ]
     },
     "metadata": {},
     "output_type": "display_data"
    }
   ],
   "source": [
    "def func(pct, allvalues):\n",
    "    absolute = int(pct / 100. * sum(allvalues))\n",
    "    return \"{:.1f}%\\n({:d})\".format(pct, absolute)\n",
    "\n",
    "# Create a pie plot\n",
    "plt.figure(figsize=(8, 8))\n",
    "plt.pie(losses, labels=losses.index, autopct=lambda pct: func(pct, losses), startangle=140)\n",
    "plt.title('Lose Responsive Neurons')\n",
    "plt.show()"
   ]
  },
  {
   "cell_type": "code",
   "execution_count": 165,
   "id": "7c74855b-240c-45c9-a5bc-10d3f97f6492",
   "metadata": {
    "execution": {
     "iopub.execute_input": "2024-06-12T16:56:19.663452Z",
     "iopub.status.busy": "2024-06-12T16:56:19.661459Z",
     "iopub.status.idle": "2024-06-12T16:56:21.558017Z",
     "shell.execute_reply": "2024-06-12T16:56:21.555404Z",
     "shell.execute_reply.started": "2024-06-12T16:56:19.662456Z"
    }
   },
   "outputs": [
    {
     "name": "stdout",
     "output_type": "stream",
     "text": [
      "Wilcoxon can't be done on 20230617_115521_standard_comp_to_omission_D1_subj_1-1_t1b3L_box1_merged.rec lose, because <6 samples\n",
      "Wilcoxon can't be done on 20230620_114347_standard_comp_to_omission_D4_subj_1-1_t1b2L_box_2_merged.rec lose, because <6 samples\n",
      "Wilcoxon can't be done on 20230622_110832_standard_comp_to_both_rewarded_D1_subj_1-2_t3b3L_box1_merged.rec lose, because <6 samples\n",
      "Wilcoxon can't be done on 20230624_105855_standard_comp_to_both_rewarded_D3_subj_1-2_t1b2L_box1_merged.rec lose, because <6 samples\n",
      "Wilcoxon can't be done on 20230625_112913_standard_comp_to_both_rewarded_D4_subj_1-1_t1b2L_box1_merged.rec lose, because <6 samples\n"
     ]
    }
   ],
   "source": [
    "lose_df = spike_analysis.wilcox_baseline_v_event_collection('lose', 10, 10, plot=False)"
   ]
  },
  {
   "cell_type": "code",
   "execution_count": 166,
   "id": "4c4bc564-de72-4536-b920-a41c79c9dbdb",
   "metadata": {
    "execution": {
     "iopub.execute_input": "2024-06-12T16:56:21.561036Z",
     "iopub.status.busy": "2024-06-12T16:56:21.561036Z",
     "iopub.status.idle": "2024-06-12T16:56:21.607452Z",
     "shell.execute_reply": "2024-06-12T16:56:21.603936Z",
     "shell.execute_reply.started": "2024-06-12T16:56:21.561036Z"
    }
   },
   "outputs": [
    {
     "data": {
      "text/html": [
       "<div>\n",
       "<style scoped>\n",
       "    .dataframe tbody tr th:only-of-type {\n",
       "        vertical-align: middle;\n",
       "    }\n",
       "\n",
       "    .dataframe tbody tr th {\n",
       "        vertical-align: top;\n",
       "    }\n",
       "\n",
       "    .dataframe thead th {\n",
       "        text-align: right;\n",
       "    }\n",
       "</style>\n",
       "<table border=\"1\" class=\"dataframe\">\n",
       "  <thead>\n",
       "    <tr style=\"text-align: right;\">\n",
       "      <th></th>\n",
       "      <th>original unit id</th>\n",
       "      <th>Wilcoxon Stat</th>\n",
       "      <th>p value</th>\n",
       "      <th>event1 vs event2</th>\n",
       "      <th>Recording</th>\n",
       "      <th>Subject</th>\n",
       "      <th>Event</th>\n",
       "    </tr>\n",
       "  </thead>\n",
       "  <tbody>\n",
       "    <tr>\n",
       "      <th>0</th>\n",
       "      <td>85</td>\n",
       "      <td>9.0</td>\n",
       "      <td>0.468750</td>\n",
       "      <td>not significant</td>\n",
       "      <td>20230612_101430_standard_comp_to_training_D1_s...</td>\n",
       "      <td>1-3</td>\n",
       "      <td>10s lose vs 10s baseline</td>\n",
       "    </tr>\n",
       "    <tr>\n",
       "      <th>1</th>\n",
       "      <td>55</td>\n",
       "      <td>11.0</td>\n",
       "      <td>0.687500</td>\n",
       "      <td>not significant</td>\n",
       "      <td>20230612_101430_standard_comp_to_training_D1_s...</td>\n",
       "      <td>1-3</td>\n",
       "      <td>10s lose vs 10s baseline</td>\n",
       "    </tr>\n",
       "    <tr>\n",
       "      <th>2</th>\n",
       "      <td>17</td>\n",
       "      <td>4.0</td>\n",
       "      <td>0.437500</td>\n",
       "      <td>not significant</td>\n",
       "      <td>20230612_101430_standard_comp_to_training_D1_s...</td>\n",
       "      <td>1-3</td>\n",
       "      <td>10s lose vs 10s baseline</td>\n",
       "    </tr>\n",
       "    <tr>\n",
       "      <th>3</th>\n",
       "      <td>24</td>\n",
       "      <td>10.0</td>\n",
       "      <td>0.578125</td>\n",
       "      <td>not significant</td>\n",
       "      <td>20230612_101430_standard_comp_to_training_D1_s...</td>\n",
       "      <td>1-3</td>\n",
       "      <td>10s lose vs 10s baseline</td>\n",
       "    </tr>\n",
       "    <tr>\n",
       "      <th>4</th>\n",
       "      <td>68</td>\n",
       "      <td>14.0</td>\n",
       "      <td>1.000000</td>\n",
       "      <td>not significant</td>\n",
       "      <td>20230612_101430_standard_comp_to_training_D1_s...</td>\n",
       "      <td>1-3</td>\n",
       "      <td>10s lose vs 10s baseline</td>\n",
       "    </tr>\n",
       "    <tr>\n",
       "      <th>...</th>\n",
       "      <td>...</td>\n",
       "      <td>...</td>\n",
       "      <td>...</td>\n",
       "      <td>...</td>\n",
       "      <td>...</td>\n",
       "      <td>...</td>\n",
       "      <td>...</td>\n",
       "    </tr>\n",
       "    <tr>\n",
       "      <th>184</th>\n",
       "      <td>39</td>\n",
       "      <td>49.0</td>\n",
       "      <td>0.348389</td>\n",
       "      <td>not significant</td>\n",
       "      <td>20230625_112913_standard_comp_to_both_rewarded...</td>\n",
       "      <td>1-4</td>\n",
       "      <td>10s lose vs 10s baseline</td>\n",
       "    </tr>\n",
       "    <tr>\n",
       "      <th>185</th>\n",
       "      <td>17</td>\n",
       "      <td>46.0</td>\n",
       "      <td>0.274445</td>\n",
       "      <td>not significant</td>\n",
       "      <td>20230625_112913_standard_comp_to_both_rewarded...</td>\n",
       "      <td>1-4</td>\n",
       "      <td>10s lose vs 10s baseline</td>\n",
       "    </tr>\n",
       "    <tr>\n",
       "      <th>186</th>\n",
       "      <td>15</td>\n",
       "      <td>52.5</td>\n",
       "      <td>0.719727</td>\n",
       "      <td>not significant</td>\n",
       "      <td>20230625_112913_standard_comp_to_both_rewarded...</td>\n",
       "      <td>1-4</td>\n",
       "      <td>10s lose vs 10s baseline</td>\n",
       "    </tr>\n",
       "    <tr>\n",
       "      <th>187</th>\n",
       "      <td>27</td>\n",
       "      <td>40.0</td>\n",
       "      <td>0.276855</td>\n",
       "      <td>not significant</td>\n",
       "      <td>20230625_112913_standard_comp_to_both_rewarded...</td>\n",
       "      <td>1-4</td>\n",
       "      <td>10s lose vs 10s baseline</td>\n",
       "    </tr>\n",
       "    <tr>\n",
       "      <th>188</th>\n",
       "      <td>11</td>\n",
       "      <td>5.0</td>\n",
       "      <td>0.001221</td>\n",
       "      <td>increases</td>\n",
       "      <td>20230625_112913_standard_comp_to_both_rewarded...</td>\n",
       "      <td>1-4</td>\n",
       "      <td>10s lose vs 10s baseline</td>\n",
       "    </tr>\n",
       "  </tbody>\n",
       "</table>\n",
       "<p>189 rows × 7 columns</p>\n",
       "</div>"
      ],
      "text/plain": [
       "     original unit id  Wilcoxon Stat   p value event1 vs event2  \\\n",
       "0                  85            9.0  0.468750  not significant   \n",
       "1                  55           11.0  0.687500  not significant   \n",
       "2                  17            4.0  0.437500  not significant   \n",
       "3                  24           10.0  0.578125  not significant   \n",
       "4                  68           14.0  1.000000  not significant   \n",
       "..                ...            ...       ...              ...   \n",
       "184                39           49.0  0.348389  not significant   \n",
       "185                17           46.0  0.274445  not significant   \n",
       "186                15           52.5  0.719727  not significant   \n",
       "187                27           40.0  0.276855  not significant   \n",
       "188                11            5.0  0.001221        increases   \n",
       "\n",
       "                                             Recording Subject  \\\n",
       "0    20230612_101430_standard_comp_to_training_D1_s...     1-3   \n",
       "1    20230612_101430_standard_comp_to_training_D1_s...     1-3   \n",
       "2    20230612_101430_standard_comp_to_training_D1_s...     1-3   \n",
       "3    20230612_101430_standard_comp_to_training_D1_s...     1-3   \n",
       "4    20230612_101430_standard_comp_to_training_D1_s...     1-3   \n",
       "..                                                 ...     ...   \n",
       "184  20230625_112913_standard_comp_to_both_rewarded...     1-4   \n",
       "185  20230625_112913_standard_comp_to_both_rewarded...     1-4   \n",
       "186  20230625_112913_standard_comp_to_both_rewarded...     1-4   \n",
       "187  20230625_112913_standard_comp_to_both_rewarded...     1-4   \n",
       "188  20230625_112913_standard_comp_to_both_rewarded...     1-4   \n",
       "\n",
       "                        Event  \n",
       "0    10s lose vs 10s baseline  \n",
       "1    10s lose vs 10s baseline  \n",
       "2    10s lose vs 10s baseline  \n",
       "3    10s lose vs 10s baseline  \n",
       "4    10s lose vs 10s baseline  \n",
       "..                        ...  \n",
       "184  10s lose vs 10s baseline  \n",
       "185  10s lose vs 10s baseline  \n",
       "186  10s lose vs 10s baseline  \n",
       "187  10s lose vs 10s baseline  \n",
       "188  10s lose vs 10s baseline  \n",
       "\n",
       "[189 rows x 7 columns]"
      ]
     },
     "execution_count": 166,
     "metadata": {},
     "output_type": "execute_result"
    }
   ],
   "source": [
    "lose_df"
   ]
  },
  {
   "cell_type": "code",
   "execution_count": 167,
   "id": "115101fe-7403-4814-a867-71c413a3144c",
   "metadata": {
    "execution": {
     "iopub.execute_input": "2024-06-12T16:56:21.615497Z",
     "iopub.status.busy": "2024-06-12T16:56:21.613506Z",
     "iopub.status.idle": "2024-06-12T16:56:21.642234Z",
     "shell.execute_reply": "2024-06-12T16:56:21.638369Z",
     "shell.execute_reply.started": "2024-06-12T16:56:21.615497Z"
    }
   },
   "outputs": [],
   "source": [
    "lose_df_na = lose_df[lose_df.isna().any(axis=1)]"
   ]
  },
  {
   "cell_type": "code",
   "execution_count": 168,
   "id": "e9d9e646-ee4a-42bc-b167-7718e57e86a8",
   "metadata": {
    "execution": {
     "iopub.execute_input": "2024-06-12T16:56:21.649244Z",
     "iopub.status.busy": "2024-06-12T16:56:21.647237Z",
     "iopub.status.idle": "2024-06-12T16:56:21.693426Z",
     "shell.execute_reply": "2024-06-12T16:56:21.688527Z",
     "shell.execute_reply.started": "2024-06-12T16:56:21.649244Z"
    }
   },
   "outputs": [
    {
     "data": {
      "text/html": [
       "<div>\n",
       "<style scoped>\n",
       "    .dataframe tbody tr th:only-of-type {\n",
       "        vertical-align: middle;\n",
       "    }\n",
       "\n",
       "    .dataframe tbody tr th {\n",
       "        vertical-align: top;\n",
       "    }\n",
       "\n",
       "    .dataframe thead th {\n",
       "        text-align: right;\n",
       "    }\n",
       "</style>\n",
       "<table border=\"1\" class=\"dataframe\">\n",
       "  <thead>\n",
       "    <tr style=\"text-align: right;\">\n",
       "      <th></th>\n",
       "      <th>original unit id</th>\n",
       "      <th>Wilcoxon Stat</th>\n",
       "      <th>p value</th>\n",
       "      <th>event1 vs event2</th>\n",
       "      <th>Recording</th>\n",
       "      <th>Subject</th>\n",
       "      <th>Event</th>\n",
       "    </tr>\n",
       "  </thead>\n",
       "  <tbody>\n",
       "    <tr>\n",
       "      <th>19</th>\n",
       "      <td>0</td>\n",
       "      <td>NaN</td>\n",
       "      <td>NaN</td>\n",
       "      <td>NaN</td>\n",
       "      <td>20230617_115521_standard_comp_to_omission_D1_s...</td>\n",
       "      <td>1-1</td>\n",
       "      <td>10s lose vs 10s baseline</td>\n",
       "    </tr>\n",
       "    <tr>\n",
       "      <th>92</th>\n",
       "      <td>0</td>\n",
       "      <td>NaN</td>\n",
       "      <td>NaN</td>\n",
       "      <td>NaN</td>\n",
       "      <td>20230620_114347_standard_comp_to_omission_D4_s...</td>\n",
       "      <td>1-1</td>\n",
       "      <td>10s lose vs 10s baseline</td>\n",
       "    </tr>\n",
       "    <tr>\n",
       "      <th>153</th>\n",
       "      <td>0</td>\n",
       "      <td>NaN</td>\n",
       "      <td>NaN</td>\n",
       "      <td>NaN</td>\n",
       "      <td>20230622_110832_standard_comp_to_both_rewarded...</td>\n",
       "      <td>1-2</td>\n",
       "      <td>10s lose vs 10s baseline</td>\n",
       "    </tr>\n",
       "    <tr>\n",
       "      <th>154</th>\n",
       "      <td>0</td>\n",
       "      <td>NaN</td>\n",
       "      <td>NaN</td>\n",
       "      <td>NaN</td>\n",
       "      <td>20230624_105855_standard_comp_to_both_rewarded...</td>\n",
       "      <td>1-2</td>\n",
       "      <td>10s lose vs 10s baseline</td>\n",
       "    </tr>\n",
       "    <tr>\n",
       "      <th>173</th>\n",
       "      <td>0</td>\n",
       "      <td>NaN</td>\n",
       "      <td>NaN</td>\n",
       "      <td>NaN</td>\n",
       "      <td>20230625_112913_standard_comp_to_both_rewarded...</td>\n",
       "      <td>1-1</td>\n",
       "      <td>10s lose vs 10s baseline</td>\n",
       "    </tr>\n",
       "  </tbody>\n",
       "</table>\n",
       "</div>"
      ],
      "text/plain": [
       "     original unit id  Wilcoxon Stat  p value event1 vs event2  \\\n",
       "19                  0            NaN      NaN              NaN   \n",
       "92                  0            NaN      NaN              NaN   \n",
       "153                 0            NaN      NaN              NaN   \n",
       "154                 0            NaN      NaN              NaN   \n",
       "173                 0            NaN      NaN              NaN   \n",
       "\n",
       "                                             Recording Subject  \\\n",
       "19   20230617_115521_standard_comp_to_omission_D1_s...     1-1   \n",
       "92   20230620_114347_standard_comp_to_omission_D4_s...     1-1   \n",
       "153  20230622_110832_standard_comp_to_both_rewarded...     1-2   \n",
       "154  20230624_105855_standard_comp_to_both_rewarded...     1-2   \n",
       "173  20230625_112913_standard_comp_to_both_rewarded...     1-1   \n",
       "\n",
       "                        Event  \n",
       "19   10s lose vs 10s baseline  \n",
       "92   10s lose vs 10s baseline  \n",
       "153  10s lose vs 10s baseline  \n",
       "154  10s lose vs 10s baseline  \n",
       "173  10s lose vs 10s baseline  "
      ]
     },
     "execution_count": 168,
     "metadata": {},
     "output_type": "execute_result"
    }
   ],
   "source": [
    "lose_df_na"
   ]
  },
  {
   "cell_type": "code",
   "execution_count": 169,
   "id": "3f5de208-f742-48c5-92b8-17b2f5033cef",
   "metadata": {
    "execution": {
     "iopub.execute_input": "2024-06-12T16:56:21.698432Z",
     "iopub.status.busy": "2024-06-12T16:56:21.697441Z",
     "iopub.status.idle": "2024-06-12T16:56:23.208291Z",
     "shell.execute_reply": "2024-06-12T16:56:23.208291Z",
     "shell.execute_reply.started": "2024-06-12T16:56:21.698432Z"
    }
   },
   "outputs": [
    {
     "name": "stdout",
     "output_type": "stream",
     "text": [
      "Wilcoxon can't be done on 20230617_115521_standard_comp_to_omission_D1_subj_1-2_t2b2L_box2_merged.rec win, because <6 samples\n",
      "Wilcoxon can't be done on 20230619_115321_standard_comp_to_omission_D3_subj_1-4_t3b3L_box2_merged.rec win, because <6 samples\n",
      "Wilcoxon can't be done on 20230620_114347_standard_comp_to_omission_D4_subj_1-2_t3b3L_box_1_merged.rec win, because <6 samples\n",
      "Wilcoxon can't be done on 20230621_111240_standard_comp_to_omission_D5_subj_1-4_t3b3L_box1_merged.rec win, because <6 samples\n",
      "Wilcoxon can't be done on 20230622_110832_standard_comp_to_both_rewarded_D1_subj_1-1_t1b3L_box1_merged.rec win, because <6 samples\n",
      "Wilcoxon can't be done on 20230624_105855_standard_comp_to_both_rewarded_D3_subj_1-4_t3b3L_box1_merged.rec win, because <6 samples\n",
      "Wilcoxon can't be done on 20230625_112913_standard_comp_to_both_rewarded_D4_subj_1-4_t3b3L_box1_merged.rec win, because <6 samples\n"
     ]
    }
   ],
   "source": [
    "win_df = spike_analysis.wilcox_baseline_v_event_collection('win', 10, 10, plot=False)\n",
    "win_df_na = win_df[win_df.isna().any(axis=1)]"
   ]
  },
  {
   "cell_type": "code",
   "execution_count": 170,
   "id": "cefcba4c-4c29-4c16-84e8-544ec5c21cef",
   "metadata": {
    "execution": {
     "iopub.execute_input": "2024-06-12T16:56:23.208291Z",
     "iopub.status.busy": "2024-06-12T16:56:23.208291Z",
     "iopub.status.idle": "2024-06-12T16:56:23.271296Z",
     "shell.execute_reply": "2024-06-12T16:56:23.271296Z",
     "shell.execute_reply.started": "2024-06-12T16:56:23.208291Z"
    }
   },
   "outputs": [
    {
     "data": {
      "text/html": [
       "<div>\n",
       "<style scoped>\n",
       "    .dataframe tbody tr th:only-of-type {\n",
       "        vertical-align: middle;\n",
       "    }\n",
       "\n",
       "    .dataframe tbody tr th {\n",
       "        vertical-align: top;\n",
       "    }\n",
       "\n",
       "    .dataframe thead th {\n",
       "        text-align: right;\n",
       "    }\n",
       "</style>\n",
       "<table border=\"1\" class=\"dataframe\">\n",
       "  <thead>\n",
       "    <tr style=\"text-align: right;\">\n",
       "      <th></th>\n",
       "      <th>original unit id</th>\n",
       "      <th>Wilcoxon Stat</th>\n",
       "      <th>p value</th>\n",
       "      <th>event1 vs event2</th>\n",
       "      <th>Recording</th>\n",
       "      <th>Subject</th>\n",
       "      <th>Event</th>\n",
       "    </tr>\n",
       "  </thead>\n",
       "  <tbody>\n",
       "    <tr>\n",
       "      <th>36</th>\n",
       "      <td>0</td>\n",
       "      <td>NaN</td>\n",
       "      <td>NaN</td>\n",
       "      <td>NaN</td>\n",
       "      <td>20230617_115521_standard_comp_to_omission_D1_s...</td>\n",
       "      <td>1-2</td>\n",
       "      <td>10s win vs 10s baseline</td>\n",
       "    </tr>\n",
       "    <tr>\n",
       "      <th>65</th>\n",
       "      <td>0</td>\n",
       "      <td>NaN</td>\n",
       "      <td>NaN</td>\n",
       "      <td>NaN</td>\n",
       "      <td>20230619_115321_standard_comp_to_omission_D3_s...</td>\n",
       "      <td>1-4</td>\n",
       "      <td>10s win vs 10s baseline</td>\n",
       "    </tr>\n",
       "    <tr>\n",
       "      <th>74</th>\n",
       "      <td>0</td>\n",
       "      <td>NaN</td>\n",
       "      <td>NaN</td>\n",
       "      <td>NaN</td>\n",
       "      <td>20230620_114347_standard_comp_to_omission_D4_s...</td>\n",
       "      <td>1-2</td>\n",
       "      <td>10s win vs 10s baseline</td>\n",
       "    </tr>\n",
       "    <tr>\n",
       "      <th>75</th>\n",
       "      <td>0</td>\n",
       "      <td>NaN</td>\n",
       "      <td>NaN</td>\n",
       "      <td>NaN</td>\n",
       "      <td>20230621_111240_standard_comp_to_omission_D5_s...</td>\n",
       "      <td>1-4</td>\n",
       "      <td>10s win vs 10s baseline</td>\n",
       "    </tr>\n",
       "    <tr>\n",
       "      <th>76</th>\n",
       "      <td>0</td>\n",
       "      <td>NaN</td>\n",
       "      <td>NaN</td>\n",
       "      <td>NaN</td>\n",
       "      <td>20230622_110832_standard_comp_to_both_rewarded...</td>\n",
       "      <td>1-1</td>\n",
       "      <td>10s win vs 10s baseline</td>\n",
       "    </tr>\n",
       "    <tr>\n",
       "      <th>136</th>\n",
       "      <td>0</td>\n",
       "      <td>NaN</td>\n",
       "      <td>NaN</td>\n",
       "      <td>NaN</td>\n",
       "      <td>20230624_105855_standard_comp_to_both_rewarded...</td>\n",
       "      <td>1-4</td>\n",
       "      <td>10s win vs 10s baseline</td>\n",
       "    </tr>\n",
       "    <tr>\n",
       "      <th>153</th>\n",
       "      <td>0</td>\n",
       "      <td>NaN</td>\n",
       "      <td>NaN</td>\n",
       "      <td>NaN</td>\n",
       "      <td>20230625_112913_standard_comp_to_both_rewarded...</td>\n",
       "      <td>1-4</td>\n",
       "      <td>10s win vs 10s baseline</td>\n",
       "    </tr>\n",
       "  </tbody>\n",
       "</table>\n",
       "</div>"
      ],
      "text/plain": [
       "     original unit id  Wilcoxon Stat  p value event1 vs event2  \\\n",
       "36                  0            NaN      NaN              NaN   \n",
       "65                  0            NaN      NaN              NaN   \n",
       "74                  0            NaN      NaN              NaN   \n",
       "75                  0            NaN      NaN              NaN   \n",
       "76                  0            NaN      NaN              NaN   \n",
       "136                 0            NaN      NaN              NaN   \n",
       "153                 0            NaN      NaN              NaN   \n",
       "\n",
       "                                             Recording Subject  \\\n",
       "36   20230617_115521_standard_comp_to_omission_D1_s...     1-2   \n",
       "65   20230619_115321_standard_comp_to_omission_D3_s...     1-4   \n",
       "74   20230620_114347_standard_comp_to_omission_D4_s...     1-2   \n",
       "75   20230621_111240_standard_comp_to_omission_D5_s...     1-4   \n",
       "76   20230622_110832_standard_comp_to_both_rewarded...     1-1   \n",
       "136  20230624_105855_standard_comp_to_both_rewarded...     1-4   \n",
       "153  20230625_112913_standard_comp_to_both_rewarded...     1-4   \n",
       "\n",
       "                       Event  \n",
       "36   10s win vs 10s baseline  \n",
       "65   10s win vs 10s baseline  \n",
       "74   10s win vs 10s baseline  \n",
       "75   10s win vs 10s baseline  \n",
       "76   10s win vs 10s baseline  \n",
       "136  10s win vs 10s baseline  \n",
       "153  10s win vs 10s baseline  "
      ]
     },
     "execution_count": 170,
     "metadata": {},
     "output_type": "execute_result"
    }
   ],
   "source": [
    "win_df_na"
   ]
  },
  {
   "cell_type": "code",
   "execution_count": 171,
   "id": "2d245faf-9a35-4ba6-9be0-ad87d0be2e98",
   "metadata": {
    "execution": {
     "iopub.execute_input": "2024-06-12T16:56:23.271296Z",
     "iopub.status.busy": "2024-06-12T16:56:23.271296Z",
     "iopub.status.idle": "2024-06-12T16:56:23.302540Z",
     "shell.execute_reply": "2024-06-12T16:56:23.302540Z",
     "shell.execute_reply.started": "2024-06-12T16:56:23.271296Z"
    }
   },
   "outputs": [
    {
     "data": {
      "text/plain": [
       "184"
      ]
     },
     "execution_count": 171,
     "metadata": {},
     "output_type": "execute_result"
    }
   ],
   "source": [
    "149+32+3"
   ]
  },
  {
   "cell_type": "code",
   "execution_count": 172,
   "id": "b3f26147-babe-4c98-b219-a1397b780a15",
   "metadata": {
    "execution": {
     "iopub.execute_input": "2024-06-12T16:56:23.302540Z",
     "iopub.status.busy": "2024-06-12T16:56:23.302540Z",
     "iopub.status.idle": "2024-06-12T16:56:27.829015Z",
     "shell.execute_reply": "2024-06-12T16:56:27.829015Z",
     "shell.execute_reply.started": "2024-06-12T16:56:23.302540Z"
    }
   },
   "outputs": [
    {
     "name": "stdout",
     "output_type": "stream",
     "text": [
      "Wilcoxon can't be done on 20230617_115521_standard_comp_to_omission_D1_subj_1-1_t1b3L_box1_merged.rec rewarded, because <6 samples\n",
      "Wilcoxon can't be done on 20230617_115521_standard_comp_to_omission_D1_subj_1-2_t2b2L_box2_merged.rec rewarded, because <6 samples\n",
      "Wilcoxon can't be done on 20230622_110832_standard_comp_to_both_rewarded_D1_subj_1-1_t1b3L_box1_merged.rec rewarded, because <6 samples\n",
      "Wilcoxon can't be done on 20230622_110832_standard_comp_to_both_rewarded_D1_subj_1-2_t3b3L_box1_merged.rec rewarded, because <6 samples\n",
      "Wilcoxon can't be done on 20230624_105855_standard_comp_to_both_rewarded_D3_subj_1-2_t1b2L_box1_merged.rec rewarded, because <6 samples\n",
      "Wilcoxon can't be done on 20230624_105855_standard_comp_to_both_rewarded_D3_subj_1-4_t3b3L_box1_merged.rec rewarded, because <6 samples\n",
      "Wilcoxon can't be done on 20230625_112913_standard_comp_to_both_rewarded_D4_subj_1-1_t1b2L_box1_merged.rec rewarded, because <6 samples\n",
      "Wilcoxon can't be done on 20230625_112913_standard_comp_to_both_rewarded_D4_subj_1-4_t3b3L_box1_merged.rec rewarded, because <6 samples\n",
      "Wilcoxon can't be done on 20230617_115521_standard_comp_to_omission_D1_subj_1-2_t2b2L_box2_merged.rec win, because <6 samples\n",
      "Wilcoxon can't be done on 20230619_115321_standard_comp_to_omission_D3_subj_1-4_t3b3L_box2_merged.rec win, because <6 samples\n",
      "Wilcoxon can't be done on 20230620_114347_standard_comp_to_omission_D4_subj_1-2_t3b3L_box_1_merged.rec win, because <6 samples\n",
      "Wilcoxon can't be done on 20230621_111240_standard_comp_to_omission_D5_subj_1-4_t3b3L_box1_merged.rec win, because <6 samples\n",
      "Wilcoxon can't be done on 20230622_110832_standard_comp_to_both_rewarded_D1_subj_1-1_t1b3L_box1_merged.rec win, because <6 samples\n",
      "Wilcoxon can't be done on 20230624_105855_standard_comp_to_both_rewarded_D3_subj_1-4_t3b3L_box1_merged.rec win, because <6 samples\n",
      "Wilcoxon can't be done on 20230625_112913_standard_comp_to_both_rewarded_D4_subj_1-4_t3b3L_box1_merged.rec win, because <6 samples\n",
      "Wilcoxon can't be done on 20230617_115521_standard_comp_to_omission_D1_subj_1-1_t1b3L_box1_merged.rec lose, because <6 samples\n",
      "Wilcoxon can't be done on 20230620_114347_standard_comp_to_omission_D4_subj_1-1_t1b2L_box_2_merged.rec lose, because <6 samples\n",
      "Wilcoxon can't be done on 20230622_110832_standard_comp_to_both_rewarded_D1_subj_1-2_t3b3L_box1_merged.rec lose, because <6 samples\n",
      "Wilcoxon can't be done on 20230624_105855_standard_comp_to_both_rewarded_D3_subj_1-2_t1b2L_box1_merged.rec lose, because <6 samples\n",
      "Wilcoxon can't be done on 20230625_112913_standard_comp_to_both_rewarded_D4_subj_1-1_t1b2L_box1_merged.rec lose, because <6 samples\n"
     ]
    }
   ],
   "source": [
    "rewarded_df = spike_analysis.wilcox_baseline_v_event_collection('rewarded', 10, 10, plot=False)\n",
    "win_df = spike_analysis.wilcox_baseline_v_event_collection('win', 10, 10, plot=False)\n",
    "lose_df = spike_analysis.wilcox_baseline_v_event_collection('lose', 10, 10, plot=False)"
   ]
  },
  {
   "cell_type": "code",
   "execution_count": 173,
   "id": "7cf1091d-1515-47a6-bb06-f694bc08e6ba",
   "metadata": {
    "execution": {
     "iopub.execute_input": "2024-06-12T16:56:27.842425Z",
     "iopub.status.busy": "2024-06-12T16:56:27.840037Z",
     "iopub.status.idle": "2024-06-12T16:56:27.882004Z",
     "shell.execute_reply": "2024-06-12T16:56:27.882004Z",
     "shell.execute_reply.started": "2024-06-12T16:56:27.841328Z"
    }
   },
   "outputs": [],
   "source": [
    "def normalize_event_string(event_string):\n",
    "        event_list = event_string.split(', ')\n",
    "        event_list_sorted = sorted(event_list)  # Sort the list to ensure consistent order\n",
    "        return ', '.join(event_list_sorted)  # Join the sorted list back into a string\n",
    "\n",
    "def aggregate_event_data(combined_df):\n",
    "    # Function to extract just the event name\n",
    "    def extract_event_name(event):\n",
    "        # Remove any leading time duration from the event string\n",
    "        parts = event.split(' vs ')\n",
    "        event_name = parts[0].split(' ')[-1]  # Splits by space and takes the last part, removing any time prefix\n",
    "        return event_name\n",
    "\n",
    "    # Initialize an empty dictionary to hold aggregated data\n",
    "    aggregated_data = {}\n",
    "\n",
    "    # Iterate over the rows of the combined DataFrame\n",
    "    for index, row in combined_df.iterrows():\n",
    "        # Extract event name\n",
    "        event_name = extract_event_name(row['Event'])\n",
    "        # Construct a unique key for each combination of recording, subject, and unit id\n",
    "        key = (row['Recording'], row['Subject'], row['original unit id'])\n",
    "        \n",
    "        # Initialize the entry if not exists\n",
    "        if key not in aggregated_data:\n",
    "            aggregated_data[key] = {'sig_increase_events': set(), 'sig_decrease_events': set(), 'insig_events': set()}\n",
    "        \n",
    "        # Append the event name to the appropriate category based on 'event1 vs event2'\n",
    "        if row['event1 vs event2'] == 'increases':\n",
    "            aggregated_data[key]['sig_increase_events'].add(event_name)\n",
    "        elif row['event1 vs event2'] == 'decreases':\n",
    "            aggregated_data[key]['sig_decrease_events'].add(event_name)\n",
    "        else:\n",
    "            aggregated_data[key]['insig_events'].add(event_name)\n",
    "\n",
    "    # Convert the aggregated data into a DataFrame\n",
    "    rows = []\n",
    "    for (recording, subject, unit_id), categories in aggregated_data.items():\n",
    "        row = {\n",
    "            'Recording': recording,\n",
    "            'Subject': subject,\n",
    "            'original unit id': unit_id,\n",
    "            'sig_increase_events': ', '.join(categories['sig_increase_events']),\n",
    "            'sig_decrease_events': ', '.join(categories['sig_decrease_events']),\n",
    "            'insig_events': ', '.join(categories['insig_events']),\n",
    "        }\n",
    "        rows.append(row)\n",
    "\n",
    "    aggregated_df = pd.DataFrame(rows)\n",
    "    aggregated_df['sig_events'] = aggregated_df.apply(\n",
    "        lambda row: ', '.join(filter(None, [row['sig_increase_events'], row['sig_decrease_events']])), axis=1)\n",
    "\n",
    "    # Apply the normalization function to the 'sig_events' column before counting\n",
    "    aggregated_df['sig_events'] = aggregated_df['sig_events'].apply(normalize_event_string)\n",
    "\n",
    "    # Count the unique combinations of significant events\n",
    "    sig_events_counts = aggregated_df['sig_events'].value_counts()\n",
    "\n",
    "    # Rename the empty strings to 'non-responsive'\n",
    "    sig_events_counts = sig_events_counts.rename(index={'': 'Non-Responsive'})\n",
    "\n",
    "    return aggregated_df, sig_events_counts"
   ]
  },
  {
   "cell_type": "code",
   "execution_count": 174,
   "id": "f4c40340-1ed0-4de9-acd6-0cf48320c270",
   "metadata": {
    "execution": {
     "iopub.execute_input": "2024-06-12T16:56:27.891357Z",
     "iopub.status.busy": "2024-06-12T16:56:27.891357Z",
     "iopub.status.idle": "2024-06-12T16:56:28.038264Z",
     "shell.execute_reply": "2024-06-12T16:56:28.037237Z",
     "shell.execute_reply.started": "2024-06-12T16:56:27.891357Z"
    }
   },
   "outputs": [],
   "source": [
    "rewardwin_df = pd.concat([rewarded_df, win_df])\n",
    "\n",
    "reward_win_df, reward_win_events_counts = aggregate_event_data(rewardwin_df)"
   ]
  },
  {
   "cell_type": "code",
   "execution_count": 175,
   "id": "667ee640-4f7d-41fb-bda0-fc092fb8236c",
   "metadata": {
    "execution": {
     "iopub.execute_input": "2024-06-12T16:56:28.038264Z",
     "iopub.status.busy": "2024-06-12T16:56:28.038264Z",
     "iopub.status.idle": "2024-06-12T16:56:28.116904Z",
     "shell.execute_reply": "2024-06-12T16:56:28.116904Z",
     "shell.execute_reply.started": "2024-06-12T16:56:28.038264Z"
    }
   },
   "outputs": [
    {
     "data": {
      "text/html": [
       "<div>\n",
       "<style scoped>\n",
       "    .dataframe tbody tr th:only-of-type {\n",
       "        vertical-align: middle;\n",
       "    }\n",
       "\n",
       "    .dataframe tbody tr th {\n",
       "        vertical-align: top;\n",
       "    }\n",
       "\n",
       "    .dataframe thead th {\n",
       "        text-align: right;\n",
       "    }\n",
       "</style>\n",
       "<table border=\"1\" class=\"dataframe\">\n",
       "  <thead>\n",
       "    <tr style=\"text-align: right;\">\n",
       "      <th></th>\n",
       "      <th>original unit id</th>\n",
       "      <th>Wilcoxon Stat</th>\n",
       "      <th>p value</th>\n",
       "      <th>event1 vs event2</th>\n",
       "      <th>Recording</th>\n",
       "      <th>Subject</th>\n",
       "      <th>Event</th>\n",
       "    </tr>\n",
       "  </thead>\n",
       "  <tbody>\n",
       "    <tr>\n",
       "      <th>0</th>\n",
       "      <td>85</td>\n",
       "      <td>46.0</td>\n",
       "      <td>0.274445</td>\n",
       "      <td>not significant</td>\n",
       "      <td>20230612_101430_standard_comp_to_training_D1_s...</td>\n",
       "      <td>1-3</td>\n",
       "      <td>10s rewarded vs 10s baseline</td>\n",
       "    </tr>\n",
       "    <tr>\n",
       "      <th>1</th>\n",
       "      <td>55</td>\n",
       "      <td>75.5</td>\n",
       "      <td>0.294252</td>\n",
       "      <td>not significant</td>\n",
       "      <td>20230612_101430_standard_comp_to_training_D1_s...</td>\n",
       "      <td>1-3</td>\n",
       "      <td>10s rewarded vs 10s baseline</td>\n",
       "    </tr>\n",
       "    <tr>\n",
       "      <th>2</th>\n",
       "      <td>17</td>\n",
       "      <td>61.5</td>\n",
       "      <td>0.195633</td>\n",
       "      <td>not significant</td>\n",
       "      <td>20230612_101430_standard_comp_to_training_D1_s...</td>\n",
       "      <td>1-3</td>\n",
       "      <td>10s rewarded vs 10s baseline</td>\n",
       "    </tr>\n",
       "    <tr>\n",
       "      <th>3</th>\n",
       "      <td>24</td>\n",
       "      <td>30.5</td>\n",
       "      <td>0.003654</td>\n",
       "      <td>increases</td>\n",
       "      <td>20230612_101430_standard_comp_to_training_D1_s...</td>\n",
       "      <td>1-3</td>\n",
       "      <td>10s rewarded vs 10s baseline</td>\n",
       "    </tr>\n",
       "    <tr>\n",
       "      <th>4</th>\n",
       "      <td>68</td>\n",
       "      <td>56.0</td>\n",
       "      <td>0.561890</td>\n",
       "      <td>not significant</td>\n",
       "      <td>20230612_101430_standard_comp_to_training_D1_s...</td>\n",
       "      <td>1-3</td>\n",
       "      <td>10s rewarded vs 10s baseline</td>\n",
       "    </tr>\n",
       "    <tr>\n",
       "      <th>...</th>\n",
       "      <td>...</td>\n",
       "      <td>...</td>\n",
       "      <td>...</td>\n",
       "      <td>...</td>\n",
       "      <td>...</td>\n",
       "      <td>...</td>\n",
       "      <td>...</td>\n",
       "    </tr>\n",
       "    <tr>\n",
       "      <th>149</th>\n",
       "      <td>32</td>\n",
       "      <td>61.5</td>\n",
       "      <td>0.743561</td>\n",
       "      <td>not significant</td>\n",
       "      <td>20230625_112913_standard_comp_to_both_rewarded...</td>\n",
       "      <td>1-1</td>\n",
       "      <td>10s win vs 10s baseline</td>\n",
       "    </tr>\n",
       "    <tr>\n",
       "      <th>150</th>\n",
       "      <td>62</td>\n",
       "      <td>34.0</td>\n",
       "      <td>0.083252</td>\n",
       "      <td>not significant</td>\n",
       "      <td>20230625_112913_standard_comp_to_both_rewarded...</td>\n",
       "      <td>1-1</td>\n",
       "      <td>10s win vs 10s baseline</td>\n",
       "    </tr>\n",
       "    <tr>\n",
       "      <th>151</th>\n",
       "      <td>78</td>\n",
       "      <td>44.0</td>\n",
       "      <td>0.231201</td>\n",
       "      <td>not significant</td>\n",
       "      <td>20230625_112913_standard_comp_to_both_rewarded...</td>\n",
       "      <td>1-1</td>\n",
       "      <td>10s win vs 10s baseline</td>\n",
       "    </tr>\n",
       "    <tr>\n",
       "      <th>152</th>\n",
       "      <td>64</td>\n",
       "      <td>51.5</td>\n",
       "      <td>0.403748</td>\n",
       "      <td>not significant</td>\n",
       "      <td>20230625_112913_standard_comp_to_both_rewarded...</td>\n",
       "      <td>1-1</td>\n",
       "      <td>10s win vs 10s baseline</td>\n",
       "    </tr>\n",
       "    <tr>\n",
       "      <th>153</th>\n",
       "      <td>0</td>\n",
       "      <td>NaN</td>\n",
       "      <td>NaN</td>\n",
       "      <td>NaN</td>\n",
       "      <td>20230625_112913_standard_comp_to_both_rewarded...</td>\n",
       "      <td>1-4</td>\n",
       "      <td>10s win vs 10s baseline</td>\n",
       "    </tr>\n",
       "  </tbody>\n",
       "</table>\n",
       "<p>282 rows × 7 columns</p>\n",
       "</div>"
      ],
      "text/plain": [
       "     original unit id  Wilcoxon Stat   p value event1 vs event2  \\\n",
       "0                  85           46.0  0.274445  not significant   \n",
       "1                  55           75.5  0.294252  not significant   \n",
       "2                  17           61.5  0.195633  not significant   \n",
       "3                  24           30.5  0.003654        increases   \n",
       "4                  68           56.0  0.561890  not significant   \n",
       "..                ...            ...       ...              ...   \n",
       "149                32           61.5  0.743561  not significant   \n",
       "150                62           34.0  0.083252  not significant   \n",
       "151                78           44.0  0.231201  not significant   \n",
       "152                64           51.5  0.403748  not significant   \n",
       "153                 0            NaN       NaN              NaN   \n",
       "\n",
       "                                             Recording Subject  \\\n",
       "0    20230612_101430_standard_comp_to_training_D1_s...     1-3   \n",
       "1    20230612_101430_standard_comp_to_training_D1_s...     1-3   \n",
       "2    20230612_101430_standard_comp_to_training_D1_s...     1-3   \n",
       "3    20230612_101430_standard_comp_to_training_D1_s...     1-3   \n",
       "4    20230612_101430_standard_comp_to_training_D1_s...     1-3   \n",
       "..                                                 ...     ...   \n",
       "149  20230625_112913_standard_comp_to_both_rewarded...     1-1   \n",
       "150  20230625_112913_standard_comp_to_both_rewarded...     1-1   \n",
       "151  20230625_112913_standard_comp_to_both_rewarded...     1-1   \n",
       "152  20230625_112913_standard_comp_to_both_rewarded...     1-1   \n",
       "153  20230625_112913_standard_comp_to_both_rewarded...     1-4   \n",
       "\n",
       "                            Event  \n",
       "0    10s rewarded vs 10s baseline  \n",
       "1    10s rewarded vs 10s baseline  \n",
       "2    10s rewarded vs 10s baseline  \n",
       "3    10s rewarded vs 10s baseline  \n",
       "4    10s rewarded vs 10s baseline  \n",
       "..                            ...  \n",
       "149       10s win vs 10s baseline  \n",
       "150       10s win vs 10s baseline  \n",
       "151       10s win vs 10s baseline  \n",
       "152       10s win vs 10s baseline  \n",
       "153       10s win vs 10s baseline  \n",
       "\n",
       "[282 rows x 7 columns]"
      ]
     },
     "execution_count": 175,
     "metadata": {},
     "output_type": "execute_result"
    }
   ],
   "source": [
    "rewardwin_df"
   ]
  },
  {
   "cell_type": "code",
   "execution_count": 176,
   "id": "63946be6-4130-4c34-865d-c52f4ded4a3c",
   "metadata": {
    "execution": {
     "iopub.execute_input": "2024-06-12T16:56:28.116904Z",
     "iopub.status.busy": "2024-06-12T16:56:28.116904Z",
     "iopub.status.idle": "2024-06-12T16:56:28.262445Z",
     "shell.execute_reply": "2024-06-12T16:56:28.258009Z",
     "shell.execute_reply.started": "2024-06-12T16:56:28.116904Z"
    }
   },
   "outputs": [
    {
     "data": {
      "text/html": [
       "<div>\n",
       "<style scoped>\n",
       "    .dataframe tbody tr th:only-of-type {\n",
       "        vertical-align: middle;\n",
       "    }\n",
       "\n",
       "    .dataframe tbody tr th {\n",
       "        vertical-align: top;\n",
       "    }\n",
       "\n",
       "    .dataframe thead th {\n",
       "        text-align: right;\n",
       "    }\n",
       "</style>\n",
       "<table border=\"1\" class=\"dataframe\">\n",
       "  <thead>\n",
       "    <tr style=\"text-align: right;\">\n",
       "      <th></th>\n",
       "      <th>Recording</th>\n",
       "      <th>Subject</th>\n",
       "      <th>original unit id</th>\n",
       "      <th>sig_increase_events</th>\n",
       "      <th>sig_decrease_events</th>\n",
       "      <th>insig_events</th>\n",
       "      <th>sig_events</th>\n",
       "    </tr>\n",
       "  </thead>\n",
       "  <tbody>\n",
       "    <tr>\n",
       "      <th>0</th>\n",
       "      <td>20230612_101430_standard_comp_to_training_D1_s...</td>\n",
       "      <td>1-3</td>\n",
       "      <td>85</td>\n",
       "      <td></td>\n",
       "      <td></td>\n",
       "      <td>rewarded, win</td>\n",
       "      <td></td>\n",
       "    </tr>\n",
       "    <tr>\n",
       "      <th>1</th>\n",
       "      <td>20230612_101430_standard_comp_to_training_D1_s...</td>\n",
       "      <td>1-3</td>\n",
       "      <td>55</td>\n",
       "      <td></td>\n",
       "      <td></td>\n",
       "      <td>rewarded, win</td>\n",
       "      <td></td>\n",
       "    </tr>\n",
       "    <tr>\n",
       "      <th>2</th>\n",
       "      <td>20230612_101430_standard_comp_to_training_D1_s...</td>\n",
       "      <td>1-3</td>\n",
       "      <td>17</td>\n",
       "      <td></td>\n",
       "      <td></td>\n",
       "      <td>rewarded, win</td>\n",
       "      <td></td>\n",
       "    </tr>\n",
       "    <tr>\n",
       "      <th>3</th>\n",
       "      <td>20230612_101430_standard_comp_to_training_D1_s...</td>\n",
       "      <td>1-3</td>\n",
       "      <td>24</td>\n",
       "      <td>rewarded, win</td>\n",
       "      <td></td>\n",
       "      <td></td>\n",
       "      <td>rewarded, win</td>\n",
       "    </tr>\n",
       "    <tr>\n",
       "      <th>4</th>\n",
       "      <td>20230612_101430_standard_comp_to_training_D1_s...</td>\n",
       "      <td>1-3</td>\n",
       "      <td>68</td>\n",
       "      <td></td>\n",
       "      <td></td>\n",
       "      <td>rewarded, win</td>\n",
       "      <td></td>\n",
       "    </tr>\n",
       "    <tr>\n",
       "      <th>...</th>\n",
       "      <td>...</td>\n",
       "      <td>...</td>\n",
       "      <td>...</td>\n",
       "      <td>...</td>\n",
       "      <td>...</td>\n",
       "      <td>...</td>\n",
       "      <td>...</td>\n",
       "    </tr>\n",
       "    <tr>\n",
       "      <th>216</th>\n",
       "      <td>20230625_112913_standard_comp_to_both_rewarded...</td>\n",
       "      <td>1-1</td>\n",
       "      <td>3</td>\n",
       "      <td></td>\n",
       "      <td></td>\n",
       "      <td>win</td>\n",
       "      <td></td>\n",
       "    </tr>\n",
       "    <tr>\n",
       "      <th>217</th>\n",
       "      <td>20230625_112913_standard_comp_to_both_rewarded...</td>\n",
       "      <td>1-1</td>\n",
       "      <td>32</td>\n",
       "      <td></td>\n",
       "      <td></td>\n",
       "      <td>win</td>\n",
       "      <td></td>\n",
       "    </tr>\n",
       "    <tr>\n",
       "      <th>218</th>\n",
       "      <td>20230625_112913_standard_comp_to_both_rewarded...</td>\n",
       "      <td>1-1</td>\n",
       "      <td>62</td>\n",
       "      <td></td>\n",
       "      <td></td>\n",
       "      <td>win</td>\n",
       "      <td></td>\n",
       "    </tr>\n",
       "    <tr>\n",
       "      <th>219</th>\n",
       "      <td>20230625_112913_standard_comp_to_both_rewarded...</td>\n",
       "      <td>1-1</td>\n",
       "      <td>78</td>\n",
       "      <td></td>\n",
       "      <td></td>\n",
       "      <td>win</td>\n",
       "      <td></td>\n",
       "    </tr>\n",
       "    <tr>\n",
       "      <th>220</th>\n",
       "      <td>20230625_112913_standard_comp_to_both_rewarded...</td>\n",
       "      <td>1-1</td>\n",
       "      <td>64</td>\n",
       "      <td></td>\n",
       "      <td></td>\n",
       "      <td>win</td>\n",
       "      <td></td>\n",
       "    </tr>\n",
       "  </tbody>\n",
       "</table>\n",
       "<p>221 rows × 7 columns</p>\n",
       "</div>"
      ],
      "text/plain": [
       "                                             Recording Subject  \\\n",
       "0    20230612_101430_standard_comp_to_training_D1_s...     1-3   \n",
       "1    20230612_101430_standard_comp_to_training_D1_s...     1-3   \n",
       "2    20230612_101430_standard_comp_to_training_D1_s...     1-3   \n",
       "3    20230612_101430_standard_comp_to_training_D1_s...     1-3   \n",
       "4    20230612_101430_standard_comp_to_training_D1_s...     1-3   \n",
       "..                                                 ...     ...   \n",
       "216  20230625_112913_standard_comp_to_both_rewarded...     1-1   \n",
       "217  20230625_112913_standard_comp_to_both_rewarded...     1-1   \n",
       "218  20230625_112913_standard_comp_to_both_rewarded...     1-1   \n",
       "219  20230625_112913_standard_comp_to_both_rewarded...     1-1   \n",
       "220  20230625_112913_standard_comp_to_both_rewarded...     1-1   \n",
       "\n",
       "     original unit id sig_increase_events sig_decrease_events   insig_events  \\\n",
       "0                  85                                          rewarded, win   \n",
       "1                  55                                          rewarded, win   \n",
       "2                  17                                          rewarded, win   \n",
       "3                  24       rewarded, win                                      \n",
       "4                  68                                          rewarded, win   \n",
       "..                ...                 ...                 ...            ...   \n",
       "216                 3                                                    win   \n",
       "217                32                                                    win   \n",
       "218                62                                                    win   \n",
       "219                78                                                    win   \n",
       "220                64                                                    win   \n",
       "\n",
       "        sig_events  \n",
       "0                   \n",
       "1                   \n",
       "2                   \n",
       "3    rewarded, win  \n",
       "4                   \n",
       "..             ...  \n",
       "216                 \n",
       "217                 \n",
       "218                 \n",
       "219                 \n",
       "220                 \n",
       "\n",
       "[221 rows x 7 columns]"
      ]
     },
     "execution_count": 176,
     "metadata": {},
     "output_type": "execute_result"
    }
   ],
   "source": [
    "reward_win_df, reward_win_events_counts = aggregate_event_data(rewardwin_df)\n",
    "reward_win_df"
   ]
  },
  {
   "cell_type": "code",
   "execution_count": 177,
   "id": "a3dc58ef-1de0-43e0-9441-913a87f9b093",
   "metadata": {
    "execution": {
     "iopub.execute_input": "2024-06-12T16:56:28.262445Z",
     "iopub.status.busy": "2024-06-12T16:56:28.262445Z",
     "iopub.status.idle": "2024-06-12T16:56:46.387271Z",
     "shell.execute_reply": "2024-06-12T16:56:46.387271Z",
     "shell.execute_reply.started": "2024-06-12T16:56:28.262445Z"
    }
   },
   "outputs": [
    {
     "name": "stdout",
     "output_type": "stream",
     "text": [
      "<class 'numpy.ndarray'>\n",
      "20230612_101430_standard_comp_to_training_D1_subj_1-3_t3b3L_box2_merged.rec\n",
      "<class 'numpy.ndarray'>\n",
      "20230617_115521_standard_comp_to_omission_D1_subj_1-1_t1b3L_box1_merged.rec\n",
      "<class 'numpy.ndarray'>\n",
      "Unit 92 is unsorted & has 2494 spikes\n",
      "Unit 92 will be deleted\n",
      "20230622_110832_standard_comp_to_both_rewarded_D1_subj_1-1_t1b3L_box1_merged.rec\n",
      "<class 'numpy.ndarray'>\n",
      "Unit 103 is unsorted & has 512 spikes\n",
      "Unit 103 will be deleted\n",
      "20230622_110832_standard_comp_to_both_rewarded_D1_subj_1-2_t3b3L_box1_merged.rec\n",
      "Please assign event dictionaries to each recording\n",
      "as recording.event_dict\n",
      "event_dict = {event name(str): np.array[[start(ms), stop(ms)]...]\n",
      "Please assign subjects to each recording as recording.subject\n"
     ]
    }
   ],
   "source": [
    "import multirecording_spikeanalysis_edit4 as spike\n",
    "\n",
    "# It takes several steps to create the timestamp_dicts, refer to Ephys_Analysis_Notebook to create\n",
    "timestamp_dicts = pickle.load(open('timestamp_dicts.pkl', 'rb'))\n",
    "\n",
    "# Construct the path in a platform-independent way (HiPerGator or Windows)\n",
    "ephys_path = Path('.') / 'recordings' / 'updated_phys' / 'test'\n",
    "\n",
    "ephys_data = spike.EphysRecordingCollection(str(ephys_path))"
   ]
  },
  {
   "cell_type": "code",
   "execution_count": 178,
   "id": "da85476a-0b79-4713-9a9e-a1251a651940",
   "metadata": {
    "execution": {
     "iopub.execute_input": "2024-06-12T16:56:46.387271Z",
     "iopub.status.busy": "2024-06-12T16:56:46.387271Z",
     "iopub.status.idle": "2024-06-12T16:56:47.784880Z",
     "shell.execute_reply": "2024-06-12T16:56:47.784880Z",
     "shell.execute_reply.started": "2024-06-12T16:56:46.387271Z"
    }
   },
   "outputs": [
    {
     "name": "stdout",
     "output_type": "stream",
     "text": [
      "All set to analyze\n"
     ]
    }
   ],
   "source": [
    "for recording in ephys_data.collection.keys():\n",
    "    # Check if the recording key (without everything after subject #) is in timestamp_dicts\n",
    "    start_pos = recording.find('subj_')\n",
    "    # Add the length of 'subj_' and 3 additional characters to include after 'subj_'\n",
    "    end_pos = start_pos + len('subj_') + 3\n",
    "    # Slice the recording key to get everything up to and including the subject identifier plus three characters\n",
    "    recording_key_without_suffix = recording[:end_pos]\n",
    "    if recording_key_without_suffix in timestamp_dicts:\n",
    "        # Assign the corresponding timestamp_dicts dictionary to event_dict\n",
    "        ephys_data.collection[recording].event_dict = timestamp_dicts[recording_key_without_suffix]\n",
    "        \n",
    "        # Extract the subject from the recording key\n",
    "        start = recording.find('subj_') + 5  # Start index after 'subj_'\n",
    "        subject = recording[start:start+3]\n",
    "        \n",
    "        # Assign the extracted subject\n",
    "        ephys_data.collection[recording].subject = subject\n",
    "        \n",
    "spike_analysis = spike.SpikeAnalysis_MultiRecording(ephys_data, timebin = 100, ignore_freq = 0.5)"
   ]
  },
  {
   "cell_type": "code",
   "execution_count": 179,
   "id": "777a3562-7b96-476f-80ac-14b4c170da39",
   "metadata": {
    "execution": {
     "iopub.execute_input": "2024-06-12T16:56:47.784880Z",
     "iopub.status.busy": "2024-06-12T16:56:47.784880Z",
     "iopub.status.idle": "2024-06-12T16:56:48.098735Z",
     "shell.execute_reply": "2024-06-12T16:56:48.098735Z",
     "shell.execute_reply.started": "2024-06-12T16:56:47.784880Z"
    }
   },
   "outputs": [
    {
     "data": {
      "text/html": [
       "<div>\n",
       "<style scoped>\n",
       "    .dataframe tbody tr th:only-of-type {\n",
       "        vertical-align: middle;\n",
       "    }\n",
       "\n",
       "    .dataframe tbody tr th {\n",
       "        vertical-align: top;\n",
       "    }\n",
       "\n",
       "    .dataframe thead th {\n",
       "        text-align: right;\n",
       "    }\n",
       "</style>\n",
       "<table border=\"1\" class=\"dataframe\">\n",
       "  <thead>\n",
       "    <tr style=\"text-align: right;\">\n",
       "      <th></th>\n",
       "      <th>Recording</th>\n",
       "      <th>Event name</th>\n",
       "      <th>Event number</th>\n",
       "      <th>Unit number</th>\n",
       "      <th>bin_1</th>\n",
       "      <th>bin_2</th>\n",
       "      <th>bin_3</th>\n",
       "      <th>bin_4</th>\n",
       "      <th>bin_5</th>\n",
       "      <th>bin_6</th>\n",
       "      <th>...</th>\n",
       "      <th>bin_92</th>\n",
       "      <th>bin_93</th>\n",
       "      <th>bin_94</th>\n",
       "      <th>bin_95</th>\n",
       "      <th>bin_96</th>\n",
       "      <th>bin_97</th>\n",
       "      <th>bin_98</th>\n",
       "      <th>bin_99</th>\n",
       "      <th>bin_100</th>\n",
       "      <th>bin_101</th>\n",
       "    </tr>\n",
       "  </thead>\n",
       "  <tbody>\n",
       "    <tr>\n",
       "      <th>0</th>\n",
       "      <td>20230612_101430_standard_comp_to_training_D1_s...</td>\n",
       "      <td>rewarded</td>\n",
       "      <td>1</td>\n",
       "      <td>85</td>\n",
       "      <td>0.0</td>\n",
       "      <td>0.0</td>\n",
       "      <td>0.0</td>\n",
       "      <td>0.0</td>\n",
       "      <td>0.0</td>\n",
       "      <td>0.0</td>\n",
       "      <td>...</td>\n",
       "      <td>0.0</td>\n",
       "      <td>0.0</td>\n",
       "      <td>0.0</td>\n",
       "      <td>0.0</td>\n",
       "      <td>0.0</td>\n",
       "      <td>0.0</td>\n",
       "      <td>0.0</td>\n",
       "      <td>0.0</td>\n",
       "      <td>0.0</td>\n",
       "      <td>NaN</td>\n",
       "    </tr>\n",
       "    <tr>\n",
       "      <th>1</th>\n",
       "      <td>20230612_101430_standard_comp_to_training_D1_s...</td>\n",
       "      <td>rewarded</td>\n",
       "      <td>2</td>\n",
       "      <td>85</td>\n",
       "      <td>0.0</td>\n",
       "      <td>0.0</td>\n",
       "      <td>0.0</td>\n",
       "      <td>0.0</td>\n",
       "      <td>0.0</td>\n",
       "      <td>0.0</td>\n",
       "      <td>...</td>\n",
       "      <td>0.0</td>\n",
       "      <td>0.0</td>\n",
       "      <td>0.0</td>\n",
       "      <td>0.0</td>\n",
       "      <td>0.0</td>\n",
       "      <td>0.0</td>\n",
       "      <td>0.0</td>\n",
       "      <td>0.0</td>\n",
       "      <td>0.0</td>\n",
       "      <td>NaN</td>\n",
       "    </tr>\n",
       "    <tr>\n",
       "      <th>2</th>\n",
       "      <td>20230612_101430_standard_comp_to_training_D1_s...</td>\n",
       "      <td>rewarded</td>\n",
       "      <td>3</td>\n",
       "      <td>85</td>\n",
       "      <td>0.0</td>\n",
       "      <td>0.0</td>\n",
       "      <td>0.0</td>\n",
       "      <td>0.0</td>\n",
       "      <td>0.0</td>\n",
       "      <td>0.0</td>\n",
       "      <td>...</td>\n",
       "      <td>0.0</td>\n",
       "      <td>0.0</td>\n",
       "      <td>0.0</td>\n",
       "      <td>0.0</td>\n",
       "      <td>0.0</td>\n",
       "      <td>0.0</td>\n",
       "      <td>0.0</td>\n",
       "      <td>0.0</td>\n",
       "      <td>0.0</td>\n",
       "      <td>NaN</td>\n",
       "    </tr>\n",
       "    <tr>\n",
       "      <th>3</th>\n",
       "      <td>20230612_101430_standard_comp_to_training_D1_s...</td>\n",
       "      <td>rewarded</td>\n",
       "      <td>4</td>\n",
       "      <td>85</td>\n",
       "      <td>0.0</td>\n",
       "      <td>0.0</td>\n",
       "      <td>0.0</td>\n",
       "      <td>0.0</td>\n",
       "      <td>0.0</td>\n",
       "      <td>0.0</td>\n",
       "      <td>...</td>\n",
       "      <td>1.0</td>\n",
       "      <td>0.0</td>\n",
       "      <td>0.0</td>\n",
       "      <td>0.0</td>\n",
       "      <td>0.0</td>\n",
       "      <td>0.0</td>\n",
       "      <td>0.0</td>\n",
       "      <td>0.0</td>\n",
       "      <td>0.0</td>\n",
       "      <td>NaN</td>\n",
       "    </tr>\n",
       "    <tr>\n",
       "      <th>4</th>\n",
       "      <td>20230612_101430_standard_comp_to_training_D1_s...</td>\n",
       "      <td>rewarded</td>\n",
       "      <td>5</td>\n",
       "      <td>85</td>\n",
       "      <td>0.0</td>\n",
       "      <td>0.0</td>\n",
       "      <td>0.0</td>\n",
       "      <td>0.0</td>\n",
       "      <td>0.0</td>\n",
       "      <td>0.0</td>\n",
       "      <td>...</td>\n",
       "      <td>0.0</td>\n",
       "      <td>0.0</td>\n",
       "      <td>0.0</td>\n",
       "      <td>0.0</td>\n",
       "      <td>0.0</td>\n",
       "      <td>0.0</td>\n",
       "      <td>0.0</td>\n",
       "      <td>0.0</td>\n",
       "      <td>0.0</td>\n",
       "      <td>NaN</td>\n",
       "    </tr>\n",
       "    <tr>\n",
       "      <th>...</th>\n",
       "      <td>...</td>\n",
       "      <td>...</td>\n",
       "      <td>...</td>\n",
       "      <td>...</td>\n",
       "      <td>...</td>\n",
       "      <td>...</td>\n",
       "      <td>...</td>\n",
       "      <td>...</td>\n",
       "      <td>...</td>\n",
       "      <td>...</td>\n",
       "      <td>...</td>\n",
       "      <td>...</td>\n",
       "      <td>...</td>\n",
       "      <td>...</td>\n",
       "      <td>...</td>\n",
       "      <td>...</td>\n",
       "      <td>...</td>\n",
       "      <td>...</td>\n",
       "      <td>...</td>\n",
       "      <td>...</td>\n",
       "      <td>...</td>\n",
       "    </tr>\n",
       "    <tr>\n",
       "      <th>2712</th>\n",
       "      <td>20230622_110832_standard_comp_to_both_rewarded...</td>\n",
       "      <td>both_rewarded</td>\n",
       "      <td>16</td>\n",
       "      <td>15</td>\n",
       "      <td>0.0</td>\n",
       "      <td>0.0</td>\n",
       "      <td>0.0</td>\n",
       "      <td>0.0</td>\n",
       "      <td>0.0</td>\n",
       "      <td>0.0</td>\n",
       "      <td>...</td>\n",
       "      <td>0.0</td>\n",
       "      <td>0.0</td>\n",
       "      <td>0.0</td>\n",
       "      <td>0.0</td>\n",
       "      <td>0.0</td>\n",
       "      <td>0.0</td>\n",
       "      <td>0.0</td>\n",
       "      <td>0.0</td>\n",
       "      <td>0.0</td>\n",
       "      <td>NaN</td>\n",
       "    </tr>\n",
       "    <tr>\n",
       "      <th>2713</th>\n",
       "      <td>20230622_110832_standard_comp_to_both_rewarded...</td>\n",
       "      <td>both_rewarded</td>\n",
       "      <td>17</td>\n",
       "      <td>15</td>\n",
       "      <td>0.0</td>\n",
       "      <td>0.0</td>\n",
       "      <td>0.0</td>\n",
       "      <td>0.0</td>\n",
       "      <td>0.0</td>\n",
       "      <td>0.0</td>\n",
       "      <td>...</td>\n",
       "      <td>0.0</td>\n",
       "      <td>0.0</td>\n",
       "      <td>0.0</td>\n",
       "      <td>0.0</td>\n",
       "      <td>0.0</td>\n",
       "      <td>0.0</td>\n",
       "      <td>0.0</td>\n",
       "      <td>0.0</td>\n",
       "      <td>0.0</td>\n",
       "      <td>0.0</td>\n",
       "    </tr>\n",
       "    <tr>\n",
       "      <th>2714</th>\n",
       "      <td>20230622_110832_standard_comp_to_both_rewarded...</td>\n",
       "      <td>both_rewarded</td>\n",
       "      <td>18</td>\n",
       "      <td>15</td>\n",
       "      <td>1.0</td>\n",
       "      <td>0.0</td>\n",
       "      <td>0.0</td>\n",
       "      <td>0.0</td>\n",
       "      <td>0.0</td>\n",
       "      <td>0.0</td>\n",
       "      <td>...</td>\n",
       "      <td>0.0</td>\n",
       "      <td>0.0</td>\n",
       "      <td>0.0</td>\n",
       "      <td>0.0</td>\n",
       "      <td>0.0</td>\n",
       "      <td>0.0</td>\n",
       "      <td>0.0</td>\n",
       "      <td>0.0</td>\n",
       "      <td>0.0</td>\n",
       "      <td>NaN</td>\n",
       "    </tr>\n",
       "    <tr>\n",
       "      <th>2715</th>\n",
       "      <td>20230622_110832_standard_comp_to_both_rewarded...</td>\n",
       "      <td>both_rewarded</td>\n",
       "      <td>19</td>\n",
       "      <td>15</td>\n",
       "      <td>0.0</td>\n",
       "      <td>0.0</td>\n",
       "      <td>0.0</td>\n",
       "      <td>0.0</td>\n",
       "      <td>0.0</td>\n",
       "      <td>0.0</td>\n",
       "      <td>...</td>\n",
       "      <td>0.0</td>\n",
       "      <td>0.0</td>\n",
       "      <td>0.0</td>\n",
       "      <td>0.0</td>\n",
       "      <td>0.0</td>\n",
       "      <td>0.0</td>\n",
       "      <td>0.0</td>\n",
       "      <td>0.0</td>\n",
       "      <td>0.0</td>\n",
       "      <td>NaN</td>\n",
       "    </tr>\n",
       "    <tr>\n",
       "      <th>2716</th>\n",
       "      <td>20230622_110832_standard_comp_to_both_rewarded...</td>\n",
       "      <td>both_rewarded</td>\n",
       "      <td>20</td>\n",
       "      <td>15</td>\n",
       "      <td>0.0</td>\n",
       "      <td>0.0</td>\n",
       "      <td>0.0</td>\n",
       "      <td>0.0</td>\n",
       "      <td>0.0</td>\n",
       "      <td>1.0</td>\n",
       "      <td>...</td>\n",
       "      <td>0.0</td>\n",
       "      <td>0.0</td>\n",
       "      <td>0.0</td>\n",
       "      <td>0.0</td>\n",
       "      <td>0.0</td>\n",
       "      <td>0.0</td>\n",
       "      <td>0.0</td>\n",
       "      <td>0.0</td>\n",
       "      <td>0.0</td>\n",
       "      <td>NaN</td>\n",
       "    </tr>\n",
       "  </tbody>\n",
       "</table>\n",
       "<p>2717 rows × 105 columns</p>\n",
       "</div>"
      ],
      "text/plain": [
       "                                              Recording     Event name  \\\n",
       "0     20230612_101430_standard_comp_to_training_D1_s...       rewarded   \n",
       "1     20230612_101430_standard_comp_to_training_D1_s...       rewarded   \n",
       "2     20230612_101430_standard_comp_to_training_D1_s...       rewarded   \n",
       "3     20230612_101430_standard_comp_to_training_D1_s...       rewarded   \n",
       "4     20230612_101430_standard_comp_to_training_D1_s...       rewarded   \n",
       "...                                                 ...            ...   \n",
       "2712  20230622_110832_standard_comp_to_both_rewarded...  both_rewarded   \n",
       "2713  20230622_110832_standard_comp_to_both_rewarded...  both_rewarded   \n",
       "2714  20230622_110832_standard_comp_to_both_rewarded...  both_rewarded   \n",
       "2715  20230622_110832_standard_comp_to_both_rewarded...  both_rewarded   \n",
       "2716  20230622_110832_standard_comp_to_both_rewarded...  both_rewarded   \n",
       "\n",
       "      Event number  Unit number  bin_1  bin_2  bin_3  bin_4  bin_5  bin_6  \\\n",
       "0                1           85    0.0    0.0    0.0    0.0    0.0    0.0   \n",
       "1                2           85    0.0    0.0    0.0    0.0    0.0    0.0   \n",
       "2                3           85    0.0    0.0    0.0    0.0    0.0    0.0   \n",
       "3                4           85    0.0    0.0    0.0    0.0    0.0    0.0   \n",
       "4                5           85    0.0    0.0    0.0    0.0    0.0    0.0   \n",
       "...            ...          ...    ...    ...    ...    ...    ...    ...   \n",
       "2712            16           15    0.0    0.0    0.0    0.0    0.0    0.0   \n",
       "2713            17           15    0.0    0.0    0.0    0.0    0.0    0.0   \n",
       "2714            18           15    1.0    0.0    0.0    0.0    0.0    0.0   \n",
       "2715            19           15    0.0    0.0    0.0    0.0    0.0    0.0   \n",
       "2716            20           15    0.0    0.0    0.0    0.0    0.0    1.0   \n",
       "\n",
       "      ...  bin_92  bin_93  bin_94  bin_95  bin_96  bin_97  bin_98  bin_99  \\\n",
       "0     ...     0.0     0.0     0.0     0.0     0.0     0.0     0.0     0.0   \n",
       "1     ...     0.0     0.0     0.0     0.0     0.0     0.0     0.0     0.0   \n",
       "2     ...     0.0     0.0     0.0     0.0     0.0     0.0     0.0     0.0   \n",
       "3     ...     1.0     0.0     0.0     0.0     0.0     0.0     0.0     0.0   \n",
       "4     ...     0.0     0.0     0.0     0.0     0.0     0.0     0.0     0.0   \n",
       "...   ...     ...     ...     ...     ...     ...     ...     ...     ...   \n",
       "2712  ...     0.0     0.0     0.0     0.0     0.0     0.0     0.0     0.0   \n",
       "2713  ...     0.0     0.0     0.0     0.0     0.0     0.0     0.0     0.0   \n",
       "2714  ...     0.0     0.0     0.0     0.0     0.0     0.0     0.0     0.0   \n",
       "2715  ...     0.0     0.0     0.0     0.0     0.0     0.0     0.0     0.0   \n",
       "2716  ...     0.0     0.0     0.0     0.0     0.0     0.0     0.0     0.0   \n",
       "\n",
       "      bin_100  bin_101  \n",
       "0         0.0      NaN  \n",
       "1         0.0      NaN  \n",
       "2         0.0      NaN  \n",
       "3         0.0      NaN  \n",
       "4         0.0      NaN  \n",
       "...       ...      ...  \n",
       "2712      0.0      NaN  \n",
       "2713      0.0      0.0  \n",
       "2714      0.0      NaN  \n",
       "2715      0.0      NaN  \n",
       "2716      0.0      NaN  \n",
       "\n",
       "[2717 rows x 105 columns]"
      ]
     },
     "execution_count": 179,
     "metadata": {},
     "output_type": "execute_result"
    }
   ],
   "source": [
    "event_df = spike_analysis.create_spiketrain_df()\n",
    "\n",
    "event_df"
   ]
  },
  {
   "cell_type": "code",
   "execution_count": 180,
   "id": "6e93503e-abb2-4f4d-9bb7-bb40763edffe",
   "metadata": {
    "execution": {
     "iopub.execute_input": "2024-06-12T16:56:48.098735Z",
     "iopub.status.busy": "2024-06-12T16:56:48.098735Z",
     "iopub.status.idle": "2024-06-12T16:56:48.129990Z",
     "shell.execute_reply": "2024-06-12T16:56:48.129990Z",
     "shell.execute_reply.started": "2024-06-12T16:56:48.098735Z"
    }
   },
   "outputs": [],
   "source": [
    "df101 = event_df[event_df['bin_101'] == True]"
   ]
  },
  {
   "cell_type": "code",
   "execution_count": 181,
   "id": "414f929c-e5ab-47c4-a589-164232b87485",
   "metadata": {
    "execution": {
     "iopub.execute_input": "2024-06-12T16:56:48.282568Z",
     "iopub.status.busy": "2024-06-12T16:56:48.271053Z",
     "iopub.status.idle": "2024-06-12T16:56:48.382900Z",
     "shell.execute_reply": "2024-06-12T16:56:48.380877Z",
     "shell.execute_reply.started": "2024-06-12T16:56:48.282568Z"
    }
   },
   "outputs": [
    {
     "data": {
      "text/html": [
       "<div>\n",
       "<style scoped>\n",
       "    .dataframe tbody tr th:only-of-type {\n",
       "        vertical-align: middle;\n",
       "    }\n",
       "\n",
       "    .dataframe tbody tr th {\n",
       "        vertical-align: top;\n",
       "    }\n",
       "\n",
       "    .dataframe thead th {\n",
       "        text-align: right;\n",
       "    }\n",
       "</style>\n",
       "<table border=\"1\" class=\"dataframe\">\n",
       "  <thead>\n",
       "    <tr style=\"text-align: right;\">\n",
       "      <th></th>\n",
       "      <th>Recording</th>\n",
       "      <th>Event name</th>\n",
       "      <th>Event number</th>\n",
       "      <th>Unit number</th>\n",
       "      <th>bin_1</th>\n",
       "      <th>bin_2</th>\n",
       "      <th>bin_3</th>\n",
       "      <th>bin_4</th>\n",
       "      <th>bin_5</th>\n",
       "      <th>bin_6</th>\n",
       "      <th>...</th>\n",
       "      <th>bin_92</th>\n",
       "      <th>bin_93</th>\n",
       "      <th>bin_94</th>\n",
       "      <th>bin_95</th>\n",
       "      <th>bin_96</th>\n",
       "      <th>bin_97</th>\n",
       "      <th>bin_98</th>\n",
       "      <th>bin_99</th>\n",
       "      <th>bin_100</th>\n",
       "      <th>bin_101</th>\n",
       "    </tr>\n",
       "  </thead>\n",
       "  <tbody>\n",
       "    <tr>\n",
       "      <th>1533</th>\n",
       "      <td>20230622_110832_standard_comp_to_both_rewarded...</td>\n",
       "      <td>both_rewarded</td>\n",
       "      <td>17</td>\n",
       "      <td>15</td>\n",
       "      <td>0.0</td>\n",
       "      <td>0.0</td>\n",
       "      <td>0.0</td>\n",
       "      <td>0.0</td>\n",
       "      <td>0.0</td>\n",
       "      <td>0.0</td>\n",
       "      <td>...</td>\n",
       "      <td>0.0</td>\n",
       "      <td>0.0</td>\n",
       "      <td>1.0</td>\n",
       "      <td>1.0</td>\n",
       "      <td>1.0</td>\n",
       "      <td>0.0</td>\n",
       "      <td>1.0</td>\n",
       "      <td>0.0</td>\n",
       "      <td>1.0</td>\n",
       "      <td>1.0</td>\n",
       "    </tr>\n",
       "    <tr>\n",
       "      <th>2253</th>\n",
       "      <td>20230622_110832_standard_comp_to_both_rewarded...</td>\n",
       "      <td>both_rewarded</td>\n",
       "      <td>17</td>\n",
       "      <td>45</td>\n",
       "      <td>1.0</td>\n",
       "      <td>0.0</td>\n",
       "      <td>2.0</td>\n",
       "      <td>1.0</td>\n",
       "      <td>2.0</td>\n",
       "      <td>1.0</td>\n",
       "      <td>...</td>\n",
       "      <td>1.0</td>\n",
       "      <td>2.0</td>\n",
       "      <td>0.0</td>\n",
       "      <td>1.0</td>\n",
       "      <td>4.0</td>\n",
       "      <td>1.0</td>\n",
       "      <td>1.0</td>\n",
       "      <td>0.0</td>\n",
       "      <td>1.0</td>\n",
       "      <td>1.0</td>\n",
       "    </tr>\n",
       "    <tr>\n",
       "      <th>2273</th>\n",
       "      <td>20230622_110832_standard_comp_to_both_rewarded...</td>\n",
       "      <td>both_rewarded</td>\n",
       "      <td>17</td>\n",
       "      <td>33</td>\n",
       "      <td>3.0</td>\n",
       "      <td>1.0</td>\n",
       "      <td>0.0</td>\n",
       "      <td>1.0</td>\n",
       "      <td>1.0</td>\n",
       "      <td>1.0</td>\n",
       "      <td>...</td>\n",
       "      <td>0.0</td>\n",
       "      <td>0.0</td>\n",
       "      <td>0.0</td>\n",
       "      <td>0.0</td>\n",
       "      <td>2.0</td>\n",
       "      <td>0.0</td>\n",
       "      <td>1.0</td>\n",
       "      <td>1.0</td>\n",
       "      <td>1.0</td>\n",
       "      <td>1.0</td>\n",
       "    </tr>\n",
       "    <tr>\n",
       "      <th>2293</th>\n",
       "      <td>20230622_110832_standard_comp_to_both_rewarded...</td>\n",
       "      <td>both_rewarded</td>\n",
       "      <td>17</td>\n",
       "      <td>109</td>\n",
       "      <td>1.0</td>\n",
       "      <td>0.0</td>\n",
       "      <td>0.0</td>\n",
       "      <td>0.0</td>\n",
       "      <td>1.0</td>\n",
       "      <td>0.0</td>\n",
       "      <td>...</td>\n",
       "      <td>0.0</td>\n",
       "      <td>1.0</td>\n",
       "      <td>0.0</td>\n",
       "      <td>0.0</td>\n",
       "      <td>0.0</td>\n",
       "      <td>1.0</td>\n",
       "      <td>0.0</td>\n",
       "      <td>0.0</td>\n",
       "      <td>0.0</td>\n",
       "      <td>1.0</td>\n",
       "    </tr>\n",
       "    <tr>\n",
       "      <th>2313</th>\n",
       "      <td>20230622_110832_standard_comp_to_both_rewarded...</td>\n",
       "      <td>both_rewarded</td>\n",
       "      <td>17</td>\n",
       "      <td>76</td>\n",
       "      <td>0.0</td>\n",
       "      <td>1.0</td>\n",
       "      <td>0.0</td>\n",
       "      <td>1.0</td>\n",
       "      <td>0.0</td>\n",
       "      <td>0.0</td>\n",
       "      <td>...</td>\n",
       "      <td>1.0</td>\n",
       "      <td>1.0</td>\n",
       "      <td>1.0</td>\n",
       "      <td>0.0</td>\n",
       "      <td>1.0</td>\n",
       "      <td>0.0</td>\n",
       "      <td>1.0</td>\n",
       "      <td>1.0</td>\n",
       "      <td>0.0</td>\n",
       "      <td>1.0</td>\n",
       "    </tr>\n",
       "    <tr>\n",
       "      <th>2373</th>\n",
       "      <td>20230622_110832_standard_comp_to_both_rewarded...</td>\n",
       "      <td>both_rewarded</td>\n",
       "      <td>17</td>\n",
       "      <td>44</td>\n",
       "      <td>0.0</td>\n",
       "      <td>0.0</td>\n",
       "      <td>0.0</td>\n",
       "      <td>0.0</td>\n",
       "      <td>0.0</td>\n",
       "      <td>0.0</td>\n",
       "      <td>...</td>\n",
       "      <td>0.0</td>\n",
       "      <td>0.0</td>\n",
       "      <td>1.0</td>\n",
       "      <td>2.0</td>\n",
       "      <td>0.0</td>\n",
       "      <td>0.0</td>\n",
       "      <td>1.0</td>\n",
       "      <td>0.0</td>\n",
       "      <td>0.0</td>\n",
       "      <td>1.0</td>\n",
       "    </tr>\n",
       "    <tr>\n",
       "      <th>2413</th>\n",
       "      <td>20230622_110832_standard_comp_to_both_rewarded...</td>\n",
       "      <td>both_rewarded</td>\n",
       "      <td>17</td>\n",
       "      <td>48</td>\n",
       "      <td>1.0</td>\n",
       "      <td>2.0</td>\n",
       "      <td>1.0</td>\n",
       "      <td>1.0</td>\n",
       "      <td>2.0</td>\n",
       "      <td>1.0</td>\n",
       "      <td>...</td>\n",
       "      <td>0.0</td>\n",
       "      <td>1.0</td>\n",
       "      <td>0.0</td>\n",
       "      <td>0.0</td>\n",
       "      <td>0.0</td>\n",
       "      <td>0.0</td>\n",
       "      <td>0.0</td>\n",
       "      <td>1.0</td>\n",
       "      <td>0.0</td>\n",
       "      <td>1.0</td>\n",
       "    </tr>\n",
       "    <tr>\n",
       "      <th>2593</th>\n",
       "      <td>20230622_110832_standard_comp_to_both_rewarded...</td>\n",
       "      <td>both_rewarded</td>\n",
       "      <td>17</td>\n",
       "      <td>59</td>\n",
       "      <td>1.0</td>\n",
       "      <td>0.0</td>\n",
       "      <td>0.0</td>\n",
       "      <td>0.0</td>\n",
       "      <td>0.0</td>\n",
       "      <td>0.0</td>\n",
       "      <td>...</td>\n",
       "      <td>1.0</td>\n",
       "      <td>1.0</td>\n",
       "      <td>0.0</td>\n",
       "      <td>0.0</td>\n",
       "      <td>0.0</td>\n",
       "      <td>0.0</td>\n",
       "      <td>1.0</td>\n",
       "      <td>0.0</td>\n",
       "      <td>0.0</td>\n",
       "      <td>1.0</td>\n",
       "    </tr>\n",
       "    <tr>\n",
       "      <th>2613</th>\n",
       "      <td>20230622_110832_standard_comp_to_both_rewarded...</td>\n",
       "      <td>both_rewarded</td>\n",
       "      <td>17</td>\n",
       "      <td>51</td>\n",
       "      <td>0.0</td>\n",
       "      <td>0.0</td>\n",
       "      <td>1.0</td>\n",
       "      <td>0.0</td>\n",
       "      <td>0.0</td>\n",
       "      <td>0.0</td>\n",
       "      <td>...</td>\n",
       "      <td>0.0</td>\n",
       "      <td>1.0</td>\n",
       "      <td>0.0</td>\n",
       "      <td>0.0</td>\n",
       "      <td>0.0</td>\n",
       "      <td>0.0</td>\n",
       "      <td>1.0</td>\n",
       "      <td>0.0</td>\n",
       "      <td>1.0</td>\n",
       "      <td>1.0</td>\n",
       "    </tr>\n",
       "  </tbody>\n",
       "</table>\n",
       "<p>9 rows × 105 columns</p>\n",
       "</div>"
      ],
      "text/plain": [
       "                                              Recording     Event name  \\\n",
       "1533  20230622_110832_standard_comp_to_both_rewarded...  both_rewarded   \n",
       "2253  20230622_110832_standard_comp_to_both_rewarded...  both_rewarded   \n",
       "2273  20230622_110832_standard_comp_to_both_rewarded...  both_rewarded   \n",
       "2293  20230622_110832_standard_comp_to_both_rewarded...  both_rewarded   \n",
       "2313  20230622_110832_standard_comp_to_both_rewarded...  both_rewarded   \n",
       "2373  20230622_110832_standard_comp_to_both_rewarded...  both_rewarded   \n",
       "2413  20230622_110832_standard_comp_to_both_rewarded...  both_rewarded   \n",
       "2593  20230622_110832_standard_comp_to_both_rewarded...  both_rewarded   \n",
       "2613  20230622_110832_standard_comp_to_both_rewarded...  both_rewarded   \n",
       "\n",
       "      Event number  Unit number  bin_1  bin_2  bin_3  bin_4  bin_5  bin_6  \\\n",
       "1533            17           15    0.0    0.0    0.0    0.0    0.0    0.0   \n",
       "2253            17           45    1.0    0.0    2.0    1.0    2.0    1.0   \n",
       "2273            17           33    3.0    1.0    0.0    1.0    1.0    1.0   \n",
       "2293            17          109    1.0    0.0    0.0    0.0    1.0    0.0   \n",
       "2313            17           76    0.0    1.0    0.0    1.0    0.0    0.0   \n",
       "2373            17           44    0.0    0.0    0.0    0.0    0.0    0.0   \n",
       "2413            17           48    1.0    2.0    1.0    1.0    2.0    1.0   \n",
       "2593            17           59    1.0    0.0    0.0    0.0    0.0    0.0   \n",
       "2613            17           51    0.0    0.0    1.0    0.0    0.0    0.0   \n",
       "\n",
       "      ...  bin_92  bin_93  bin_94  bin_95  bin_96  bin_97  bin_98  bin_99  \\\n",
       "1533  ...     0.0     0.0     1.0     1.0     1.0     0.0     1.0     0.0   \n",
       "2253  ...     1.0     2.0     0.0     1.0     4.0     1.0     1.0     0.0   \n",
       "2273  ...     0.0     0.0     0.0     0.0     2.0     0.0     1.0     1.0   \n",
       "2293  ...     0.0     1.0     0.0     0.0     0.0     1.0     0.0     0.0   \n",
       "2313  ...     1.0     1.0     1.0     0.0     1.0     0.0     1.0     1.0   \n",
       "2373  ...     0.0     0.0     1.0     2.0     0.0     0.0     1.0     0.0   \n",
       "2413  ...     0.0     1.0     0.0     0.0     0.0     0.0     0.0     1.0   \n",
       "2593  ...     1.0     1.0     0.0     0.0     0.0     0.0     1.0     0.0   \n",
       "2613  ...     0.0     1.0     0.0     0.0     0.0     0.0     1.0     0.0   \n",
       "\n",
       "      bin_100  bin_101  \n",
       "1533      1.0      1.0  \n",
       "2253      1.0      1.0  \n",
       "2273      1.0      1.0  \n",
       "2293      0.0      1.0  \n",
       "2313      0.0      1.0  \n",
       "2373      0.0      1.0  \n",
       "2413      0.0      1.0  \n",
       "2593      0.0      1.0  \n",
       "2613      1.0      1.0  \n",
       "\n",
       "[9 rows x 105 columns]"
      ]
     },
     "execution_count": 181,
     "metadata": {},
     "output_type": "execute_result"
    }
   ],
   "source": [
    "df101"
   ]
  },
  {
   "cell_type": "code",
   "execution_count": 182,
   "id": "bf4ebb34-c9be-4b0f-978f-d74a1a776c22",
   "metadata": {
    "execution": {
     "iopub.execute_input": "2024-06-12T16:56:48.382900Z",
     "iopub.status.busy": "2024-06-12T16:56:48.382900Z",
     "iopub.status.idle": "2024-06-12T16:56:48.428219Z",
     "shell.execute_reply": "2024-06-12T16:56:48.428219Z",
     "shell.execute_reply.started": "2024-06-12T16:56:48.382900Z"
    }
   },
   "outputs": [
    {
     "data": {
      "text/plain": [
       "array([[2036584, 2046584],\n",
       "       [2096585, 2106585],\n",
       "       [2151586, 2161586],\n",
       "       [2216587, 2226587],\n",
       "       [2271587, 2281587],\n",
       "       [2321588, 2331588],\n",
       "       [2371589, 2381589],\n",
       "       [2476590, 2486590],\n",
       "       [2596591, 2606592],\n",
       "       [2716593, 2726593],\n",
       "       [2826594, 2836595],\n",
       "       [2911595, 2921596],\n",
       "       [3031597, 3041597],\n",
       "       [3091598, 3101598],\n",
       "       [3156599, 3166599],\n",
       "       [3216599, 3226600],\n",
       "       [3291600, 3301601],\n",
       "       [3391602, 3401602],\n",
       "       [3486603, 3496603],\n",
       "       [3536603, 3546604]], dtype=int64)"
      ]
     },
     "execution_count": 182,
     "metadata": {},
     "output_type": "execute_result"
    }
   ],
   "source": [
    "recordings = spike_analysis.ephyscollection.collection\n",
    "recording_name = '20230622_110832_standard_comp_to_both_rewarded_D1_subj_1-1_t1b3L_box1_merged.rec'\n",
    "recording1 = recordings.get(recording_name)\n",
    "recording1.event_dict['both_rewarded']"
   ]
  },
  {
   "cell_type": "code",
   "execution_count": 183,
   "id": "384475a0-8fdd-4054-8932-54c8b11e1aeb",
   "metadata": {
    "execution": {
     "iopub.execute_input": "2024-06-12T16:56:48.428219Z",
     "iopub.status.busy": "2024-06-12T16:56:48.428219Z",
     "iopub.status.idle": "2024-06-12T16:56:48.475102Z",
     "shell.execute_reply": "2024-06-12T16:56:48.475102Z",
     "shell.execute_reply.started": "2024-06-12T16:56:48.428219Z"
    }
   },
   "outputs": [
    {
     "data": {
      "text/plain": [
       "32165.99"
      ]
     },
     "execution_count": 183,
     "metadata": {},
     "output_type": "execute_result"
    }
   ],
   "source": [
    "3216599 / 100"
   ]
  },
  {
   "cell_type": "code",
   "execution_count": 184,
   "id": "5c6460cd-616d-479a-8534-505c6bf08f90",
   "metadata": {
    "execution": {
     "iopub.execute_input": "2024-06-12T16:56:48.483137Z",
     "iopub.status.busy": "2024-06-12T16:56:48.483137Z",
     "iopub.status.idle": "2024-06-12T16:56:48.506817Z",
     "shell.execute_reply": "2024-06-12T16:56:48.506817Z",
     "shell.execute_reply.started": "2024-06-12T16:56:48.483137Z"
    }
   },
   "outputs": [
    {
     "data": {
      "text/plain": [
       "32266.0"
      ]
     },
     "execution_count": 184,
     "metadata": {},
     "output_type": "execute_result"
    }
   ],
   "source": [
    "3226600 / 100"
   ]
  },
  {
   "cell_type": "code",
   "execution_count": 185,
   "id": "aed96b2b-eff1-4ee2-8010-9d37b371a412",
   "metadata": {
    "execution": {
     "iopub.execute_input": "2024-06-12T16:56:48.506817Z",
     "iopub.status.busy": "2024-06-12T16:56:48.506817Z",
     "iopub.status.idle": "2024-06-12T16:56:48.538057Z",
     "shell.execute_reply": "2024-06-12T16:56:48.538057Z",
     "shell.execute_reply.started": "2024-06-12T16:56:48.506817Z"
    }
   },
   "outputs": [
    {
     "data": {
      "text/plain": [
       "32166.0"
      ]
     },
     "execution_count": 185,
     "metadata": {},
     "output_type": "execute_result"
    }
   ],
   "source": [
    "np.ceil(3216599 / 100)"
   ]
  },
  {
   "cell_type": "code",
   "execution_count": 186,
   "id": "77297fb0-92de-4b0d-9a8a-4d2fdde009a8",
   "metadata": {
    "execution": {
     "iopub.execute_input": "2024-06-12T16:56:48.538057Z",
     "iopub.status.busy": "2024-06-12T16:56:48.538057Z",
     "iopub.status.idle": "2024-06-12T16:56:48.569319Z",
     "shell.execute_reply": "2024-06-12T16:56:48.569319Z",
     "shell.execute_reply.started": "2024-06-12T16:56:48.538057Z"
    }
   },
   "outputs": [
    {
     "data": {
      "text/plain": [
       "32266.0"
      ]
     },
     "execution_count": 186,
     "metadata": {},
     "output_type": "execute_result"
    }
   ],
   "source": [
    "np.ceil(3226600 / 100)"
   ]
  },
  {
   "cell_type": "code",
   "execution_count": 187,
   "id": "d3a10dab-6a0b-4e7f-b928-616acb0ffccd",
   "metadata": {
    "execution": {
     "iopub.execute_input": "2024-06-12T16:56:48.569319Z",
     "iopub.status.busy": "2024-06-12T16:56:48.569319Z",
     "iopub.status.idle": "2024-06-12T16:56:48.601036Z",
     "shell.execute_reply": "2024-06-12T16:56:48.601036Z",
     "shell.execute_reply.started": "2024-06-12T16:56:48.569319Z"
    }
   },
   "outputs": [
    {
     "name": "stdout",
     "output_type": "stream",
     "text": [
      "32166.0\n",
      "32266.0\n",
      "32916.0\n",
      "33017.0\n",
      "33917.0\n",
      "34017.0\n"
     ]
    }
   ],
   "source": [
    "print(np.ceil(3216599 / 100))\n",
    "print(np.ceil(3226600 / 100))\n",
    "print(np.ceil(3291600 / 100))\n",
    "print(np.ceil(3301601 / 100))\n",
    "print(np.ceil(3391602 / 100))\n",
    "print(np.ceil(3401602 / 100))"
   ]
  },
  {
   "cell_type": "code",
   "execution_count": 188,
   "id": "6e794034-ac13-433d-b05f-491da598451e",
   "metadata": {
    "execution": {
     "iopub.execute_input": "2024-06-12T16:56:48.601036Z",
     "iopub.status.busy": "2024-06-12T16:56:48.601036Z",
     "iopub.status.idle": "2024-06-12T16:56:48.632282Z",
     "shell.execute_reply": "2024-06-12T16:56:48.632282Z",
     "shell.execute_reply.started": "2024-06-12T16:56:48.601036Z"
    }
   },
   "outputs": [
    {
     "data": {
      "text/plain": [
       "32165"
      ]
     },
     "execution_count": 188,
     "metadata": {},
     "output_type": "execute_result"
    }
   ],
   "source": [
    "3216599 // 100"
   ]
  },
  {
   "cell_type": "code",
   "execution_count": 189,
   "id": "4245c67e-f02e-47c8-bc0e-c3b1d7bf3964",
   "metadata": {
    "execution": {
     "iopub.execute_input": "2024-06-12T16:56:48.632282Z",
     "iopub.status.busy": "2024-06-12T16:56:48.632282Z",
     "iopub.status.idle": "2024-06-12T16:57:05.712888Z",
     "shell.execute_reply": "2024-06-12T16:57:05.712888Z",
     "shell.execute_reply.started": "2024-06-12T16:56:48.632282Z"
    }
   },
   "outputs": [
    {
     "name": "stdout",
     "output_type": "stream",
     "text": [
      "<class 'numpy.ndarray'>\n",
      "20230612_101430_standard_comp_to_training_D1_subj_1-3_t3b3L_box2_merged.rec\n",
      "<class 'numpy.ndarray'>\n",
      "20230617_115521_standard_comp_to_omission_D1_subj_1-1_t1b3L_box1_merged.rec\n",
      "<class 'numpy.ndarray'>\n",
      "Unit 92 is unsorted & has 2494 spikes\n",
      "Unit 92 will be deleted\n",
      "20230622_110832_standard_comp_to_both_rewarded_D1_subj_1-1_t1b3L_box1_merged.rec\n",
      "<class 'numpy.ndarray'>\n",
      "Unit 103 is unsorted & has 512 spikes\n",
      "Unit 103 will be deleted\n",
      "20230622_110832_standard_comp_to_both_rewarded_D1_subj_1-2_t3b3L_box1_merged.rec\n",
      "Please assign event dictionaries to each recording\n",
      "as recording.event_dict\n",
      "event_dict = {event name(str): np.array[[start(ms), stop(ms)]...]\n",
      "Please assign subjects to each recording as recording.subject\n"
     ]
    }
   ],
   "source": [
    "import multirecording_spikeanalysis_edit as spike\n",
    "\n",
    "cols = ['condition ', 'session_dir', 'all_subjects', 'tone_start_timestamp', 'tone_stop_timestamp']\n",
    "\n",
    "# Load the data\n",
    "df = pd.read_excel('rce_pilot_2_per_video_trial_labels.xlsx', usecols=cols, engine='openpyxl')\n",
    "\n",
    "df2 = df.dropna() # Drop the rows missing data\n",
    "df3 = df2.copy()\n",
    "df3['all_subjects'] = df3['all_subjects'].apply(lambda x: ast.literal_eval(x) if isinstance(x, str) else x) # Make the 'all_subjects' column readable as a list\n",
    "df4 = df3[df3['all_subjects'].apply(lambda x: len(x) < 3)] # Ignore novel sessions for now\n",
    "\n",
    "# Initialize an empty list to collect data for the new DataFrame\n",
    "new_df_data = []\n",
    "\n",
    "for _, row in df4.iterrows():\n",
    "    session_dir = row['session_dir']\n",
    "    subjects = row['all_subjects']\n",
    "    condition = row['condition ']\n",
    "\n",
    "    # Split session_dir on '_subj_' and take the first part only\n",
    "    # This ensures everything after '_subj_' is ignored\n",
    "    base_session_dir = session_dir.split('_subj_')[0]\n",
    "\n",
    "    for subject in subjects:\n",
    "        subject_formatted = subject.replace('.', '-')\n",
    "        # Append formatted subject to the base session_dir correctly\n",
    "        subj_recording = f\"{base_session_dir}_subj_{subject_formatted}\"\n",
    "        new_df_data.append({\n",
    "            'session_dir': session_dir,\n",
    "            'subject': subject,\n",
    "            'subj_recording': subj_recording,\n",
    "            'condition': condition if condition in ['rewarded', 'omission', 'both_rewarded', 'tie'] else ('win' if str(condition) == str(subject) else 'lose'),\n",
    "            'tone_start_timestamp': row['tone_start_timestamp'],\n",
    "            'tone_stop_timestamp': row['tone_stop_timestamp']\n",
    "        })\n",
    "\n",
    "# Convert list to DataFrame\n",
    "new_df = pd.DataFrame(new_df_data)\n",
    "new_df = new_df.drop_duplicates()\n",
    "\n",
    "# Prepare timestamp_dicts from new_df\n",
    "timestamp_dicts = {}\n",
    "for _, row in new_df.iterrows():\n",
    "    key = row['subj_recording']\n",
    "    condition = row['condition']\n",
    "    timestamp_start = int(row['tone_start_timestamp']) // 20\n",
    "    timestamp_end = int(row['tone_stop_timestamp']) // 20\n",
    "    tuple_val = (timestamp_start, timestamp_end)\n",
    "\n",
    "    if key not in timestamp_dicts:\n",
    "        timestamp_dicts[key] = {cond: [] for cond in ['rewarded', 'win', 'lose', 'omission', 'both_rewarded', 'tie']}\n",
    "    timestamp_dicts[key][condition].append(tuple_val)\n",
    "\n",
    "# Convert lists in timestamp_dicts to numpy arrays\n",
    "for subj_recording in timestamp_dicts:\n",
    "    for condition in timestamp_dicts[subj_recording]:\n",
    "        timestamp_dicts[subj_recording][condition] = np.array(timestamp_dicts[subj_recording][condition], dtype=np.int64)\n",
    "        \n",
    "\n",
    "# Construct the path in a platform-independent way (HiPerGator or Windows)\n",
    "ephys_path = Path('.') / 'recordings' / 'updated_phys' / 'test'\n",
    "\n",
    "ephys_data = spike.EphysRecordingCollection(str(ephys_path))"
   ]
  },
  {
   "cell_type": "code",
   "execution_count": 190,
   "id": "35496867-282a-4e90-bcc9-773a5573e4c4",
   "metadata": {
    "execution": {
     "iopub.execute_input": "2024-06-12T16:57:05.712888Z",
     "iopub.status.busy": "2024-06-12T16:57:05.712888Z",
     "iopub.status.idle": "2024-06-12T16:57:06.545116Z",
     "shell.execute_reply": "2024-06-12T16:57:06.545116Z",
     "shell.execute_reply.started": "2024-06-12T16:57:05.712888Z"
    }
   },
   "outputs": [
    {
     "name": "stdout",
     "output_type": "stream",
     "text": [
      "All set to analyze\n"
     ]
    }
   ],
   "source": [
    "for recording in ephys_data.collection.keys():\n",
    "    # Check if the recording key (without everything after subject #) is in timestamp_dicts\n",
    "    start_pos = recording.find('subj_')\n",
    "    # Add the length of 'subj_' and 3 additional characters to include after 'subj_'\n",
    "    end_pos = start_pos + len('subj_') + 3\n",
    "    # Slice the recording key to get everything up to and including the subject identifier plus three characters\n",
    "    recording_key_without_suffix = recording[:end_pos]\n",
    "    if recording_key_without_suffix in timestamp_dicts:\n",
    "        # Assign the corresponding timestamp_dicts dictionary to event_dict\n",
    "        ephys_data.collection[recording].event_dict = timestamp_dicts[recording_key_without_suffix]\n",
    "        \n",
    "        # Extract the subject from the recording key\n",
    "        start = recording.find('subj_') + 5  # Start index after 'subj_'\n",
    "        subject = recording[start:start+3]\n",
    "        \n",
    "        # Assign the extracted subject\n",
    "        ephys_data.collection[recording].subject = subject   \n",
    "        \n",
    "spike_analysis = spike.SpikeAnalysis_MultiRecording(ephys_data, timebin = 100, smoothing_window=250, ignore_freq = 0.5)"
   ]
  },
  {
   "cell_type": "code",
   "execution_count": null,
   "id": "e664cc0a-699c-4d64-9ccf-900626578563",
   "metadata": {},
   "outputs": [],
   "source": []
  }
 ],
 "metadata": {
  "kernelspec": {
   "display_name": "Python 3 (ipykernel)",
   "language": "python",
   "name": "python3"
  },
  "language_info": {
   "codemirror_mode": {
    "name": "ipython",
    "version": 3
   },
   "file_extension": ".py",
   "mimetype": "text/x-python",
   "name": "python",
   "nbconvert_exporter": "python",
   "pygments_lexer": "ipython3",
   "version": "3.10.14"
  }
 },
 "nbformat": 4,
 "nbformat_minor": 5
}
