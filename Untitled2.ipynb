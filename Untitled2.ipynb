{
 "cells": [
  {
   "cell_type": "code",
   "execution_count": 1,
   "id": "ddda519e-9acf-49b9-9318-64f36e99968e",
   "metadata": {
    "execution": {
     "iopub.execute_input": "2024-05-30T15:05:20.600734Z",
     "iopub.status.busy": "2024-05-30T15:05:20.600734Z",
     "iopub.status.idle": "2024-05-30T15:05:34.989416Z",
     "shell.execute_reply": "2024-05-30T15:05:34.989416Z",
     "shell.execute_reply.started": "2024-05-30T15:05:20.600734Z"
    }
   },
   "outputs": [
    {
     "name": "stdout",
     "output_type": "stream",
     "text": [
      "<class 'numpy.ndarray'>\n",
      "20230612_101430_standard_comp_to_training_D1_subj_1-3_t3b3L_box2_merged.rec\n",
      "<class 'numpy.ndarray'>\n",
      "20230617_115521_standard_comp_to_omission_D1_subj_1-1_t1b3L_box1_merged.rec\n",
      "<class 'numpy.ndarray'>\n",
      "Unit 92 is unsorted & has 2494 spikes\n",
      "Unit 92 will be deleted\n",
      "20230622_110832_standard_comp_to_both_rewarded_D1_subj_1-1_t1b3L_box1_merged.rec\n",
      "Please assign event dictionaries to each recording\n",
      "as recording.event_dict\n",
      "event_dict = {event name(str): np.array[[start(ms), stop(ms)]...]\n",
      "Please assign subjects to each recording as recording.subject\n"
     ]
    }
   ],
   "source": [
    "import pandas as pd\n",
    "import numpy as np\n",
    "import ast\n",
    "import pickle\n",
    "from pathlib import Path\n",
    "import matplotlib.pyplot as plt\n",
    "import seaborn as sns\n",
    "import multirecording_spikeanalysis_edit as spike\n",
    "\n",
    "# It takes several steps to create the timestamp_dicts, refer to Ephys_Analysis_Notebook to create\n",
    "timestamp_dicts = pickle.load(open('timestamp_dicts.pkl', 'rb'))\n",
    "\n",
    "# Construct the path in a platform-independent way (HiPerGator or Windows)\n",
    "ephys_path = Path('.') / 'export' / 'updated_phys' / 'test'\n",
    "\n",
    "ephys_data = spike.EphysRecordingCollection(str(ephys_path))"
   ]
  },
  {
   "cell_type": "code",
   "execution_count": 2,
   "id": "08d056b3-4ab0-464f-9ab5-2a6e00e165f0",
   "metadata": {
    "execution": {
     "iopub.execute_input": "2024-05-30T15:05:34.989416Z",
     "iopub.status.busy": "2024-05-30T15:05:34.989416Z",
     "iopub.status.idle": "2024-05-30T15:05:35.461530Z",
     "shell.execute_reply": "2024-05-30T15:05:35.461530Z",
     "shell.execute_reply.started": "2024-05-30T15:05:34.989416Z"
    }
   },
   "outputs": [
    {
     "name": "stdout",
     "output_type": "stream",
     "text": [
      "All set to analyze\n"
     ]
    }
   ],
   "source": [
    "for recording in ephys_data.collection.keys():\n",
    "    # Check if the recording key (without everything after subject #) is in timestamp_dicts\n",
    "    start_pos = recording.find('subj_')\n",
    "    # Add the length of 'subj_' and 3 additional characters to include after 'subj_'\n",
    "    end_pos = start_pos + len('subj_') + 3\n",
    "    # Slice the recording key to get everything up to and including the subject identifier plus three characters\n",
    "    recording_key_without_suffix = recording[:end_pos]\n",
    "    if recording_key_without_suffix in timestamp_dicts:\n",
    "        # Assign the corresponding timestamp_dicts dictionary to event_dict\n",
    "        ephys_data.collection[recording].event_dict = timestamp_dicts[recording_key_without_suffix]\n",
    "        \n",
    "        # Extract the subject from the recording key\n",
    "        start = recording.find('subj_') + 5  # Start index after 'subj_'\n",
    "        subject = recording[start:start+3]\n",
    "        \n",
    "        # Assign the extracted subject\n",
    "        ephys_data.collection[recording].subject = subject\n",
    "        \n",
    "spike_analysis = spike.SpikeAnalysis_MultiRecording(ephys_data, timebin = 100, smoothing_window=250, ignore_freq = 0.5)"
   ]
  },
  {
   "cell_type": "code",
   "execution_count": 3,
   "id": "edd17fcf-d279-4be1-bc69-7abf7ffe13ea",
   "metadata": {
    "execution": {
     "iopub.execute_input": "2024-05-30T15:05:35.461530Z",
     "iopub.status.busy": "2024-05-30T15:05:35.461530Z",
     "iopub.status.idle": "2024-05-30T15:05:35.743055Z",
     "shell.execute_reply": "2024-05-30T15:05:35.743055Z",
     "shell.execute_reply.started": "2024-05-30T15:05:35.461530Z"
    }
   },
   "outputs": [],
   "source": [
    "event_df = spike_analysis.generate_event_dataframe(equalize=10)"
   ]
  },
  {
   "cell_type": "code",
   "execution_count": 4,
   "id": "292a00d3-dd8c-4f11-a624-ed547ce55030",
   "metadata": {
    "execution": {
     "iopub.execute_input": "2024-05-30T15:05:35.743055Z",
     "iopub.status.busy": "2024-05-30T15:05:35.743055Z",
     "iopub.status.idle": "2024-05-30T15:05:36.172876Z",
     "shell.execute_reply": "2024-05-30T15:05:36.172876Z",
     "shell.execute_reply.started": "2024-05-30T15:05:35.743055Z"
    }
   },
   "outputs": [
    {
     "data": {
      "text/html": [
       "<div>\n",
       "<style scoped>\n",
       "    .dataframe tbody tr th:only-of-type {\n",
       "        vertical-align: middle;\n",
       "    }\n",
       "\n",
       "    .dataframe tbody tr th {\n",
       "        vertical-align: top;\n",
       "    }\n",
       "\n",
       "    .dataframe thead th {\n",
       "        text-align: right;\n",
       "    }\n",
       "</style>\n",
       "<table border=\"1\" class=\"dataframe\">\n",
       "  <thead>\n",
       "    <tr style=\"text-align: right;\">\n",
       "      <th></th>\n",
       "      <th>Recording</th>\n",
       "      <th>Event name</th>\n",
       "      <th>Event number</th>\n",
       "      <th>Unit number</th>\n",
       "      <th>Pre-event timebin 1</th>\n",
       "      <th>Pre-event timebin 2</th>\n",
       "      <th>Pre-event timebin 3</th>\n",
       "      <th>Pre-event timebin 4</th>\n",
       "      <th>Pre-event timebin 5</th>\n",
       "      <th>Pre-event timebin 6</th>\n",
       "      <th>...</th>\n",
       "      <th>Event timebin 91</th>\n",
       "      <th>Event timebin 92</th>\n",
       "      <th>Event timebin 93</th>\n",
       "      <th>Event timebin 94</th>\n",
       "      <th>Event timebin 95</th>\n",
       "      <th>Event timebin 96</th>\n",
       "      <th>Event timebin 97</th>\n",
       "      <th>Event timebin 98</th>\n",
       "      <th>Event timebin 99</th>\n",
       "      <th>Event timebin 100</th>\n",
       "    </tr>\n",
       "  </thead>\n",
       "  <tbody>\n",
       "    <tr>\n",
       "      <th>0</th>\n",
       "      <td>20230612_101430_standard_comp_to_training_D1_s...</td>\n",
       "      <td>rewarded</td>\n",
       "      <td>1</td>\n",
       "      <td>85</td>\n",
       "      <td>0.0</td>\n",
       "      <td>0.0</td>\n",
       "      <td>0.0</td>\n",
       "      <td>0.0</td>\n",
       "      <td>0.0</td>\n",
       "      <td>0.0</td>\n",
       "      <td>...</td>\n",
       "      <td>0.0</td>\n",
       "      <td>0.0</td>\n",
       "      <td>0.0</td>\n",
       "      <td>0.0</td>\n",
       "      <td>0.0</td>\n",
       "      <td>0.0</td>\n",
       "      <td>0.0</td>\n",
       "      <td>0.0</td>\n",
       "      <td>0.0</td>\n",
       "      <td>0.0</td>\n",
       "    </tr>\n",
       "    <tr>\n",
       "      <th>1</th>\n",
       "      <td>20230612_101430_standard_comp_to_training_D1_s...</td>\n",
       "      <td>rewarded</td>\n",
       "      <td>2</td>\n",
       "      <td>85</td>\n",
       "      <td>0.0</td>\n",
       "      <td>0.0</td>\n",
       "      <td>0.0</td>\n",
       "      <td>0.0</td>\n",
       "      <td>0.0</td>\n",
       "      <td>0.0</td>\n",
       "      <td>...</td>\n",
       "      <td>0.0</td>\n",
       "      <td>0.0</td>\n",
       "      <td>0.0</td>\n",
       "      <td>0.0</td>\n",
       "      <td>0.0</td>\n",
       "      <td>0.0</td>\n",
       "      <td>0.0</td>\n",
       "      <td>0.0</td>\n",
       "      <td>0.0</td>\n",
       "      <td>0.0</td>\n",
       "    </tr>\n",
       "    <tr>\n",
       "      <th>2</th>\n",
       "      <td>20230612_101430_standard_comp_to_training_D1_s...</td>\n",
       "      <td>rewarded</td>\n",
       "      <td>3</td>\n",
       "      <td>85</td>\n",
       "      <td>0.0</td>\n",
       "      <td>0.0</td>\n",
       "      <td>0.0</td>\n",
       "      <td>0.0</td>\n",
       "      <td>0.0</td>\n",
       "      <td>0.0</td>\n",
       "      <td>...</td>\n",
       "      <td>0.0</td>\n",
       "      <td>0.0</td>\n",
       "      <td>0.0</td>\n",
       "      <td>0.0</td>\n",
       "      <td>0.0</td>\n",
       "      <td>0.0</td>\n",
       "      <td>0.0</td>\n",
       "      <td>0.0</td>\n",
       "      <td>0.0</td>\n",
       "      <td>0.0</td>\n",
       "    </tr>\n",
       "    <tr>\n",
       "      <th>3</th>\n",
       "      <td>20230612_101430_standard_comp_to_training_D1_s...</td>\n",
       "      <td>rewarded</td>\n",
       "      <td>4</td>\n",
       "      <td>85</td>\n",
       "      <td>0.0</td>\n",
       "      <td>0.0</td>\n",
       "      <td>0.0</td>\n",
       "      <td>0.0</td>\n",
       "      <td>0.0</td>\n",
       "      <td>0.0</td>\n",
       "      <td>...</td>\n",
       "      <td>0.0</td>\n",
       "      <td>5.0</td>\n",
       "      <td>5.0</td>\n",
       "      <td>0.0</td>\n",
       "      <td>0.0</td>\n",
       "      <td>0.0</td>\n",
       "      <td>0.0</td>\n",
       "      <td>0.0</td>\n",
       "      <td>0.0</td>\n",
       "      <td>0.0</td>\n",
       "    </tr>\n",
       "    <tr>\n",
       "      <th>4</th>\n",
       "      <td>20230612_101430_standard_comp_to_training_D1_s...</td>\n",
       "      <td>rewarded</td>\n",
       "      <td>5</td>\n",
       "      <td>85</td>\n",
       "      <td>0.0</td>\n",
       "      <td>0.0</td>\n",
       "      <td>0.0</td>\n",
       "      <td>0.0</td>\n",
       "      <td>0.0</td>\n",
       "      <td>0.0</td>\n",
       "      <td>...</td>\n",
       "      <td>0.0</td>\n",
       "      <td>0.0</td>\n",
       "      <td>0.0</td>\n",
       "      <td>0.0</td>\n",
       "      <td>0.0</td>\n",
       "      <td>0.0</td>\n",
       "      <td>0.0</td>\n",
       "      <td>0.0</td>\n",
       "      <td>0.0</td>\n",
       "      <td>0.0</td>\n",
       "    </tr>\n",
       "    <tr>\n",
       "      <th>...</th>\n",
       "      <td>...</td>\n",
       "      <td>...</td>\n",
       "      <td>...</td>\n",
       "      <td>...</td>\n",
       "      <td>...</td>\n",
       "      <td>...</td>\n",
       "      <td>...</td>\n",
       "      <td>...</td>\n",
       "      <td>...</td>\n",
       "      <td>...</td>\n",
       "      <td>...</td>\n",
       "      <td>...</td>\n",
       "      <td>...</td>\n",
       "      <td>...</td>\n",
       "      <td>...</td>\n",
       "      <td>...</td>\n",
       "      <td>...</td>\n",
       "      <td>...</td>\n",
       "      <td>...</td>\n",
       "      <td>...</td>\n",
       "      <td>...</td>\n",
       "    </tr>\n",
       "    <tr>\n",
       "      <th>1593</th>\n",
       "      <td>20230622_110832_standard_comp_to_both_rewarded...</td>\n",
       "      <td>both_rewarded</td>\n",
       "      <td>13</td>\n",
       "      <td>77</td>\n",
       "      <td>0.0</td>\n",
       "      <td>0.0</td>\n",
       "      <td>0.0</td>\n",
       "      <td>0.0</td>\n",
       "      <td>0.0</td>\n",
       "      <td>0.0</td>\n",
       "      <td>...</td>\n",
       "      <td>0.0</td>\n",
       "      <td>0.0</td>\n",
       "      <td>0.0</td>\n",
       "      <td>0.0</td>\n",
       "      <td>0.0</td>\n",
       "      <td>0.0</td>\n",
       "      <td>0.0</td>\n",
       "      <td>0.0</td>\n",
       "      <td>0.0</td>\n",
       "      <td>0.0</td>\n",
       "    </tr>\n",
       "    <tr>\n",
       "      <th>1594</th>\n",
       "      <td>20230622_110832_standard_comp_to_both_rewarded...</td>\n",
       "      <td>both_rewarded</td>\n",
       "      <td>14</td>\n",
       "      <td>77</td>\n",
       "      <td>5.0</td>\n",
       "      <td>5.0</td>\n",
       "      <td>0.0</td>\n",
       "      <td>0.0</td>\n",
       "      <td>0.0</td>\n",
       "      <td>0.0</td>\n",
       "      <td>...</td>\n",
       "      <td>0.0</td>\n",
       "      <td>0.0</td>\n",
       "      <td>0.0</td>\n",
       "      <td>0.0</td>\n",
       "      <td>0.0</td>\n",
       "      <td>0.0</td>\n",
       "      <td>0.0</td>\n",
       "      <td>0.0</td>\n",
       "      <td>0.0</td>\n",
       "      <td>0.0</td>\n",
       "    </tr>\n",
       "    <tr>\n",
       "      <th>1595</th>\n",
       "      <td>20230622_110832_standard_comp_to_both_rewarded...</td>\n",
       "      <td>both_rewarded</td>\n",
       "      <td>15</td>\n",
       "      <td>77</td>\n",
       "      <td>0.0</td>\n",
       "      <td>0.0</td>\n",
       "      <td>0.0</td>\n",
       "      <td>0.0</td>\n",
       "      <td>0.0</td>\n",
       "      <td>0.0</td>\n",
       "      <td>...</td>\n",
       "      <td>0.0</td>\n",
       "      <td>0.0</td>\n",
       "      <td>0.0</td>\n",
       "      <td>0.0</td>\n",
       "      <td>0.0</td>\n",
       "      <td>0.0</td>\n",
       "      <td>0.0</td>\n",
       "      <td>0.0</td>\n",
       "      <td>0.0</td>\n",
       "      <td>0.0</td>\n",
       "    </tr>\n",
       "    <tr>\n",
       "      <th>1596</th>\n",
       "      <td>20230622_110832_standard_comp_to_both_rewarded...</td>\n",
       "      <td>both_rewarded</td>\n",
       "      <td>16</td>\n",
       "      <td>77</td>\n",
       "      <td>0.0</td>\n",
       "      <td>0.0</td>\n",
       "      <td>0.0</td>\n",
       "      <td>0.0</td>\n",
       "      <td>0.0</td>\n",
       "      <td>0.0</td>\n",
       "      <td>...</td>\n",
       "      <td>0.0</td>\n",
       "      <td>0.0</td>\n",
       "      <td>0.0</td>\n",
       "      <td>0.0</td>\n",
       "      <td>0.0</td>\n",
       "      <td>0.0</td>\n",
       "      <td>0.0</td>\n",
       "      <td>0.0</td>\n",
       "      <td>0.0</td>\n",
       "      <td>0.0</td>\n",
       "    </tr>\n",
       "    <tr>\n",
       "      <th>1597</th>\n",
       "      <td>20230622_110832_standard_comp_to_both_rewarded...</td>\n",
       "      <td>both_rewarded</td>\n",
       "      <td>17</td>\n",
       "      <td>77</td>\n",
       "      <td>0.0</td>\n",
       "      <td>0.0</td>\n",
       "      <td>0.0</td>\n",
       "      <td>0.0</td>\n",
       "      <td>5.0</td>\n",
       "      <td>5.0</td>\n",
       "      <td>...</td>\n",
       "      <td>0.0</td>\n",
       "      <td>0.0</td>\n",
       "      <td>0.0</td>\n",
       "      <td>0.0</td>\n",
       "      <td>0.0</td>\n",
       "      <td>0.0</td>\n",
       "      <td>0.0</td>\n",
       "      <td>0.0</td>\n",
       "      <td>0.0</td>\n",
       "      <td>0.0</td>\n",
       "    </tr>\n",
       "  </tbody>\n",
       "</table>\n",
       "<p>1598 rows × 204 columns</p>\n",
       "</div>"
      ],
      "text/plain": [
       "                                              Recording     Event name  \\\n",
       "0     20230612_101430_standard_comp_to_training_D1_s...       rewarded   \n",
       "1     20230612_101430_standard_comp_to_training_D1_s...       rewarded   \n",
       "2     20230612_101430_standard_comp_to_training_D1_s...       rewarded   \n",
       "3     20230612_101430_standard_comp_to_training_D1_s...       rewarded   \n",
       "4     20230612_101430_standard_comp_to_training_D1_s...       rewarded   \n",
       "...                                                 ...            ...   \n",
       "1593  20230622_110832_standard_comp_to_both_rewarded...  both_rewarded   \n",
       "1594  20230622_110832_standard_comp_to_both_rewarded...  both_rewarded   \n",
       "1595  20230622_110832_standard_comp_to_both_rewarded...  both_rewarded   \n",
       "1596  20230622_110832_standard_comp_to_both_rewarded...  both_rewarded   \n",
       "1597  20230622_110832_standard_comp_to_both_rewarded...  both_rewarded   \n",
       "\n",
       "      Event number  Unit number  Pre-event timebin 1  Pre-event timebin 2  \\\n",
       "0                1           85                  0.0                  0.0   \n",
       "1                2           85                  0.0                  0.0   \n",
       "2                3           85                  0.0                  0.0   \n",
       "3                4           85                  0.0                  0.0   \n",
       "4                5           85                  0.0                  0.0   \n",
       "...            ...          ...                  ...                  ...   \n",
       "1593            13           77                  0.0                  0.0   \n",
       "1594            14           77                  5.0                  5.0   \n",
       "1595            15           77                  0.0                  0.0   \n",
       "1596            16           77                  0.0                  0.0   \n",
       "1597            17           77                  0.0                  0.0   \n",
       "\n",
       "      Pre-event timebin 3  Pre-event timebin 4  Pre-event timebin 5  \\\n",
       "0                     0.0                  0.0                  0.0   \n",
       "1                     0.0                  0.0                  0.0   \n",
       "2                     0.0                  0.0                  0.0   \n",
       "3                     0.0                  0.0                  0.0   \n",
       "4                     0.0                  0.0                  0.0   \n",
       "...                   ...                  ...                  ...   \n",
       "1593                  0.0                  0.0                  0.0   \n",
       "1594                  0.0                  0.0                  0.0   \n",
       "1595                  0.0                  0.0                  0.0   \n",
       "1596                  0.0                  0.0                  0.0   \n",
       "1597                  0.0                  0.0                  5.0   \n",
       "\n",
       "      Pre-event timebin 6  ...  Event timebin 91  Event timebin 92  \\\n",
       "0                     0.0  ...               0.0               0.0   \n",
       "1                     0.0  ...               0.0               0.0   \n",
       "2                     0.0  ...               0.0               0.0   \n",
       "3                     0.0  ...               0.0               5.0   \n",
       "4                     0.0  ...               0.0               0.0   \n",
       "...                   ...  ...               ...               ...   \n",
       "1593                  0.0  ...               0.0               0.0   \n",
       "1594                  0.0  ...               0.0               0.0   \n",
       "1595                  0.0  ...               0.0               0.0   \n",
       "1596                  0.0  ...               0.0               0.0   \n",
       "1597                  5.0  ...               0.0               0.0   \n",
       "\n",
       "      Event timebin 93  Event timebin 94  Event timebin 95  Event timebin 96  \\\n",
       "0                  0.0               0.0               0.0               0.0   \n",
       "1                  0.0               0.0               0.0               0.0   \n",
       "2                  0.0               0.0               0.0               0.0   \n",
       "3                  5.0               0.0               0.0               0.0   \n",
       "4                  0.0               0.0               0.0               0.0   \n",
       "...                ...               ...               ...               ...   \n",
       "1593               0.0               0.0               0.0               0.0   \n",
       "1594               0.0               0.0               0.0               0.0   \n",
       "1595               0.0               0.0               0.0               0.0   \n",
       "1596               0.0               0.0               0.0               0.0   \n",
       "1597               0.0               0.0               0.0               0.0   \n",
       "\n",
       "      Event timebin 97  Event timebin 98  Event timebin 99  Event timebin 100  \n",
       "0                  0.0               0.0               0.0                0.0  \n",
       "1                  0.0               0.0               0.0                0.0  \n",
       "2                  0.0               0.0               0.0                0.0  \n",
       "3                  0.0               0.0               0.0                0.0  \n",
       "4                  0.0               0.0               0.0                0.0  \n",
       "...                ...               ...               ...                ...  \n",
       "1593               0.0               0.0               0.0                0.0  \n",
       "1594               0.0               0.0               0.0                0.0  \n",
       "1595               0.0               0.0               0.0                0.0  \n",
       "1596               0.0               0.0               0.0                0.0  \n",
       "1597               0.0               0.0               0.0                0.0  \n",
       "\n",
       "[1598 rows x 204 columns]"
      ]
     },
     "execution_count": 4,
     "metadata": {},
     "output_type": "execute_result"
    }
   ],
   "source": [
    "event_df"
   ]
  },
  {
   "cell_type": "code",
   "execution_count": 5,
   "id": "bc8dcb71-846f-4ba0-a81d-74fa50f8410b",
   "metadata": {
    "execution": {
     "iopub.execute_input": "2024-05-30T15:05:36.172876Z",
     "iopub.status.busy": "2024-05-30T15:05:36.172876Z",
     "iopub.status.idle": "2024-05-30T15:05:36.186438Z",
     "shell.execute_reply": "2024-05-30T15:05:36.185401Z",
     "shell.execute_reply.started": "2024-05-30T15:05:36.172876Z"
    }
   },
   "outputs": [],
   "source": [
    "pre_event_cols = [col for col in event_df.columns if col.startswith('Pre-event')]\n",
    "event_cols = [col for col in event_df.columns if col.startswith('Event') and col not in ['Event name', 'Event number']]"
   ]
  },
  {
   "cell_type": "code",
   "execution_count": 6,
   "id": "f6fb82e4-25f3-493e-b15e-e35c4ca94f92",
   "metadata": {
    "execution": {
     "iopub.execute_input": "2024-05-30T15:05:36.186438Z",
     "iopub.status.busy": "2024-05-30T15:05:36.186438Z",
     "iopub.status.idle": "2024-05-30T15:05:36.386922Z",
     "shell.execute_reply": "2024-05-30T15:05:36.386922Z",
     "shell.execute_reply.started": "2024-05-30T15:05:36.186438Z"
    }
   },
   "outputs": [],
   "source": [
    "event_df2 = event_df.copy()\n",
    "\n",
    "event_df2['mean_pre_event'] = event_df2[pre_event_cols].mean(axis=1)\n",
    "event_df2['mean_event'] = event_df2[event_cols].mean(axis=1)"
   ]
  },
  {
   "cell_type": "code",
   "execution_count": 7,
   "id": "a56397d4-0053-4852-9e99-afe09f29b6f7",
   "metadata": {
    "execution": {
     "iopub.execute_input": "2024-05-30T15:05:36.386922Z",
     "iopub.status.busy": "2024-05-30T15:05:36.386922Z",
     "iopub.status.idle": "2024-05-30T15:05:36.460399Z",
     "shell.execute_reply": "2024-05-30T15:05:36.460399Z",
     "shell.execute_reply.started": "2024-05-30T15:05:36.386922Z"
    }
   },
   "outputs": [
    {
     "data": {
      "text/html": [
       "<div>\n",
       "<style scoped>\n",
       "    .dataframe tbody tr th:only-of-type {\n",
       "        vertical-align: middle;\n",
       "    }\n",
       "\n",
       "    .dataframe tbody tr th {\n",
       "        vertical-align: top;\n",
       "    }\n",
       "\n",
       "    .dataframe thead th {\n",
       "        text-align: right;\n",
       "    }\n",
       "</style>\n",
       "<table border=\"1\" class=\"dataframe\">\n",
       "  <thead>\n",
       "    <tr style=\"text-align: right;\">\n",
       "      <th></th>\n",
       "      <th>Recording</th>\n",
       "      <th>Event name</th>\n",
       "      <th>Event number</th>\n",
       "      <th>Unit number</th>\n",
       "      <th>Pre-event timebin 1</th>\n",
       "      <th>Pre-event timebin 2</th>\n",
       "      <th>Pre-event timebin 3</th>\n",
       "      <th>Pre-event timebin 4</th>\n",
       "      <th>Pre-event timebin 5</th>\n",
       "      <th>Pre-event timebin 6</th>\n",
       "      <th>...</th>\n",
       "      <th>Event timebin 93</th>\n",
       "      <th>Event timebin 94</th>\n",
       "      <th>Event timebin 95</th>\n",
       "      <th>Event timebin 96</th>\n",
       "      <th>Event timebin 97</th>\n",
       "      <th>Event timebin 98</th>\n",
       "      <th>Event timebin 99</th>\n",
       "      <th>Event timebin 100</th>\n",
       "      <th>mean_pre_event</th>\n",
       "      <th>mean_event</th>\n",
       "    </tr>\n",
       "  </thead>\n",
       "  <tbody>\n",
       "    <tr>\n",
       "      <th>0</th>\n",
       "      <td>20230612_101430_standard_comp_to_training_D1_s...</td>\n",
       "      <td>rewarded</td>\n",
       "      <td>1</td>\n",
       "      <td>85</td>\n",
       "      <td>0.0</td>\n",
       "      <td>0.0</td>\n",
       "      <td>0.0</td>\n",
       "      <td>0.0</td>\n",
       "      <td>0.0</td>\n",
       "      <td>0.0</td>\n",
       "      <td>...</td>\n",
       "      <td>0.0</td>\n",
       "      <td>0.0</td>\n",
       "      <td>0.0</td>\n",
       "      <td>0.0</td>\n",
       "      <td>0.0</td>\n",
       "      <td>0.0</td>\n",
       "      <td>0.0</td>\n",
       "      <td>0.0</td>\n",
       "      <td>1.4</td>\n",
       "      <td>1.2</td>\n",
       "    </tr>\n",
       "    <tr>\n",
       "      <th>1</th>\n",
       "      <td>20230612_101430_standard_comp_to_training_D1_s...</td>\n",
       "      <td>rewarded</td>\n",
       "      <td>2</td>\n",
       "      <td>85</td>\n",
       "      <td>0.0</td>\n",
       "      <td>0.0</td>\n",
       "      <td>0.0</td>\n",
       "      <td>0.0</td>\n",
       "      <td>0.0</td>\n",
       "      <td>0.0</td>\n",
       "      <td>...</td>\n",
       "      <td>0.0</td>\n",
       "      <td>0.0</td>\n",
       "      <td>0.0</td>\n",
       "      <td>0.0</td>\n",
       "      <td>0.0</td>\n",
       "      <td>0.0</td>\n",
       "      <td>0.0</td>\n",
       "      <td>0.0</td>\n",
       "      <td>0.0</td>\n",
       "      <td>0.0</td>\n",
       "    </tr>\n",
       "    <tr>\n",
       "      <th>2</th>\n",
       "      <td>20230612_101430_standard_comp_to_training_D1_s...</td>\n",
       "      <td>rewarded</td>\n",
       "      <td>3</td>\n",
       "      <td>85</td>\n",
       "      <td>0.0</td>\n",
       "      <td>0.0</td>\n",
       "      <td>0.0</td>\n",
       "      <td>0.0</td>\n",
       "      <td>0.0</td>\n",
       "      <td>0.0</td>\n",
       "      <td>...</td>\n",
       "      <td>0.0</td>\n",
       "      <td>0.0</td>\n",
       "      <td>0.0</td>\n",
       "      <td>0.0</td>\n",
       "      <td>0.0</td>\n",
       "      <td>0.0</td>\n",
       "      <td>0.0</td>\n",
       "      <td>0.0</td>\n",
       "      <td>0.2</td>\n",
       "      <td>0.3</td>\n",
       "    </tr>\n",
       "    <tr>\n",
       "      <th>3</th>\n",
       "      <td>20230612_101430_standard_comp_to_training_D1_s...</td>\n",
       "      <td>rewarded</td>\n",
       "      <td>4</td>\n",
       "      <td>85</td>\n",
       "      <td>0.0</td>\n",
       "      <td>0.0</td>\n",
       "      <td>0.0</td>\n",
       "      <td>0.0</td>\n",
       "      <td>0.0</td>\n",
       "      <td>0.0</td>\n",
       "      <td>...</td>\n",
       "      <td>5.0</td>\n",
       "      <td>0.0</td>\n",
       "      <td>0.0</td>\n",
       "      <td>0.0</td>\n",
       "      <td>0.0</td>\n",
       "      <td>0.0</td>\n",
       "      <td>0.0</td>\n",
       "      <td>0.0</td>\n",
       "      <td>0.3</td>\n",
       "      <td>0.2</td>\n",
       "    </tr>\n",
       "    <tr>\n",
       "      <th>4</th>\n",
       "      <td>20230612_101430_standard_comp_to_training_D1_s...</td>\n",
       "      <td>rewarded</td>\n",
       "      <td>5</td>\n",
       "      <td>85</td>\n",
       "      <td>0.0</td>\n",
       "      <td>0.0</td>\n",
       "      <td>0.0</td>\n",
       "      <td>0.0</td>\n",
       "      <td>0.0</td>\n",
       "      <td>0.0</td>\n",
       "      <td>...</td>\n",
       "      <td>0.0</td>\n",
       "      <td>0.0</td>\n",
       "      <td>0.0</td>\n",
       "      <td>0.0</td>\n",
       "      <td>0.0</td>\n",
       "      <td>0.0</td>\n",
       "      <td>0.0</td>\n",
       "      <td>0.0</td>\n",
       "      <td>0.2</td>\n",
       "      <td>0.0</td>\n",
       "    </tr>\n",
       "    <tr>\n",
       "      <th>...</th>\n",
       "      <td>...</td>\n",
       "      <td>...</td>\n",
       "      <td>...</td>\n",
       "      <td>...</td>\n",
       "      <td>...</td>\n",
       "      <td>...</td>\n",
       "      <td>...</td>\n",
       "      <td>...</td>\n",
       "      <td>...</td>\n",
       "      <td>...</td>\n",
       "      <td>...</td>\n",
       "      <td>...</td>\n",
       "      <td>...</td>\n",
       "      <td>...</td>\n",
       "      <td>...</td>\n",
       "      <td>...</td>\n",
       "      <td>...</td>\n",
       "      <td>...</td>\n",
       "      <td>...</td>\n",
       "      <td>...</td>\n",
       "      <td>...</td>\n",
       "    </tr>\n",
       "    <tr>\n",
       "      <th>1593</th>\n",
       "      <td>20230622_110832_standard_comp_to_both_rewarded...</td>\n",
       "      <td>both_rewarded</td>\n",
       "      <td>13</td>\n",
       "      <td>77</td>\n",
       "      <td>0.0</td>\n",
       "      <td>0.0</td>\n",
       "      <td>0.0</td>\n",
       "      <td>0.0</td>\n",
       "      <td>0.0</td>\n",
       "      <td>0.0</td>\n",
       "      <td>...</td>\n",
       "      <td>0.0</td>\n",
       "      <td>0.0</td>\n",
       "      <td>0.0</td>\n",
       "      <td>0.0</td>\n",
       "      <td>0.0</td>\n",
       "      <td>0.0</td>\n",
       "      <td>0.0</td>\n",
       "      <td>0.0</td>\n",
       "      <td>0.8</td>\n",
       "      <td>0.4</td>\n",
       "    </tr>\n",
       "    <tr>\n",
       "      <th>1594</th>\n",
       "      <td>20230622_110832_standard_comp_to_both_rewarded...</td>\n",
       "      <td>both_rewarded</td>\n",
       "      <td>14</td>\n",
       "      <td>77</td>\n",
       "      <td>5.0</td>\n",
       "      <td>5.0</td>\n",
       "      <td>0.0</td>\n",
       "      <td>0.0</td>\n",
       "      <td>0.0</td>\n",
       "      <td>0.0</td>\n",
       "      <td>...</td>\n",
       "      <td>0.0</td>\n",
       "      <td>0.0</td>\n",
       "      <td>0.0</td>\n",
       "      <td>0.0</td>\n",
       "      <td>0.0</td>\n",
       "      <td>0.0</td>\n",
       "      <td>0.0</td>\n",
       "      <td>0.0</td>\n",
       "      <td>0.2</td>\n",
       "      <td>0.0</td>\n",
       "    </tr>\n",
       "    <tr>\n",
       "      <th>1595</th>\n",
       "      <td>20230622_110832_standard_comp_to_both_rewarded...</td>\n",
       "      <td>both_rewarded</td>\n",
       "      <td>15</td>\n",
       "      <td>77</td>\n",
       "      <td>0.0</td>\n",
       "      <td>0.0</td>\n",
       "      <td>0.0</td>\n",
       "      <td>0.0</td>\n",
       "      <td>0.0</td>\n",
       "      <td>0.0</td>\n",
       "      <td>...</td>\n",
       "      <td>0.0</td>\n",
       "      <td>0.0</td>\n",
       "      <td>0.0</td>\n",
       "      <td>0.0</td>\n",
       "      <td>0.0</td>\n",
       "      <td>0.0</td>\n",
       "      <td>0.0</td>\n",
       "      <td>0.0</td>\n",
       "      <td>0.5</td>\n",
       "      <td>0.4</td>\n",
       "    </tr>\n",
       "    <tr>\n",
       "      <th>1596</th>\n",
       "      <td>20230622_110832_standard_comp_to_both_rewarded...</td>\n",
       "      <td>both_rewarded</td>\n",
       "      <td>16</td>\n",
       "      <td>77</td>\n",
       "      <td>0.0</td>\n",
       "      <td>0.0</td>\n",
       "      <td>0.0</td>\n",
       "      <td>0.0</td>\n",
       "      <td>0.0</td>\n",
       "      <td>0.0</td>\n",
       "      <td>...</td>\n",
       "      <td>0.0</td>\n",
       "      <td>0.0</td>\n",
       "      <td>0.0</td>\n",
       "      <td>0.0</td>\n",
       "      <td>0.0</td>\n",
       "      <td>0.0</td>\n",
       "      <td>0.0</td>\n",
       "      <td>0.0</td>\n",
       "      <td>0.5</td>\n",
       "      <td>0.2</td>\n",
       "    </tr>\n",
       "    <tr>\n",
       "      <th>1597</th>\n",
       "      <td>20230622_110832_standard_comp_to_both_rewarded...</td>\n",
       "      <td>both_rewarded</td>\n",
       "      <td>17</td>\n",
       "      <td>77</td>\n",
       "      <td>0.0</td>\n",
       "      <td>0.0</td>\n",
       "      <td>0.0</td>\n",
       "      <td>0.0</td>\n",
       "      <td>5.0</td>\n",
       "      <td>5.0</td>\n",
       "      <td>...</td>\n",
       "      <td>0.0</td>\n",
       "      <td>0.0</td>\n",
       "      <td>0.0</td>\n",
       "      <td>0.0</td>\n",
       "      <td>0.0</td>\n",
       "      <td>0.0</td>\n",
       "      <td>0.0</td>\n",
       "      <td>0.0</td>\n",
       "      <td>1.3</td>\n",
       "      <td>1.6</td>\n",
       "    </tr>\n",
       "  </tbody>\n",
       "</table>\n",
       "<p>1598 rows × 206 columns</p>\n",
       "</div>"
      ],
      "text/plain": [
       "                                              Recording     Event name  \\\n",
       "0     20230612_101430_standard_comp_to_training_D1_s...       rewarded   \n",
       "1     20230612_101430_standard_comp_to_training_D1_s...       rewarded   \n",
       "2     20230612_101430_standard_comp_to_training_D1_s...       rewarded   \n",
       "3     20230612_101430_standard_comp_to_training_D1_s...       rewarded   \n",
       "4     20230612_101430_standard_comp_to_training_D1_s...       rewarded   \n",
       "...                                                 ...            ...   \n",
       "1593  20230622_110832_standard_comp_to_both_rewarded...  both_rewarded   \n",
       "1594  20230622_110832_standard_comp_to_both_rewarded...  both_rewarded   \n",
       "1595  20230622_110832_standard_comp_to_both_rewarded...  both_rewarded   \n",
       "1596  20230622_110832_standard_comp_to_both_rewarded...  both_rewarded   \n",
       "1597  20230622_110832_standard_comp_to_both_rewarded...  both_rewarded   \n",
       "\n",
       "      Event number  Unit number  Pre-event timebin 1  Pre-event timebin 2  \\\n",
       "0                1           85                  0.0                  0.0   \n",
       "1                2           85                  0.0                  0.0   \n",
       "2                3           85                  0.0                  0.0   \n",
       "3                4           85                  0.0                  0.0   \n",
       "4                5           85                  0.0                  0.0   \n",
       "...            ...          ...                  ...                  ...   \n",
       "1593            13           77                  0.0                  0.0   \n",
       "1594            14           77                  5.0                  5.0   \n",
       "1595            15           77                  0.0                  0.0   \n",
       "1596            16           77                  0.0                  0.0   \n",
       "1597            17           77                  0.0                  0.0   \n",
       "\n",
       "      Pre-event timebin 3  Pre-event timebin 4  Pre-event timebin 5  \\\n",
       "0                     0.0                  0.0                  0.0   \n",
       "1                     0.0                  0.0                  0.0   \n",
       "2                     0.0                  0.0                  0.0   \n",
       "3                     0.0                  0.0                  0.0   \n",
       "4                     0.0                  0.0                  0.0   \n",
       "...                   ...                  ...                  ...   \n",
       "1593                  0.0                  0.0                  0.0   \n",
       "1594                  0.0                  0.0                  0.0   \n",
       "1595                  0.0                  0.0                  0.0   \n",
       "1596                  0.0                  0.0                  0.0   \n",
       "1597                  0.0                  0.0                  5.0   \n",
       "\n",
       "      Pre-event timebin 6  ...  Event timebin 93  Event timebin 94  \\\n",
       "0                     0.0  ...               0.0               0.0   \n",
       "1                     0.0  ...               0.0               0.0   \n",
       "2                     0.0  ...               0.0               0.0   \n",
       "3                     0.0  ...               5.0               0.0   \n",
       "4                     0.0  ...               0.0               0.0   \n",
       "...                   ...  ...               ...               ...   \n",
       "1593                  0.0  ...               0.0               0.0   \n",
       "1594                  0.0  ...               0.0               0.0   \n",
       "1595                  0.0  ...               0.0               0.0   \n",
       "1596                  0.0  ...               0.0               0.0   \n",
       "1597                  5.0  ...               0.0               0.0   \n",
       "\n",
       "      Event timebin 95  Event timebin 96  Event timebin 97  Event timebin 98  \\\n",
       "0                  0.0               0.0               0.0               0.0   \n",
       "1                  0.0               0.0               0.0               0.0   \n",
       "2                  0.0               0.0               0.0               0.0   \n",
       "3                  0.0               0.0               0.0               0.0   \n",
       "4                  0.0               0.0               0.0               0.0   \n",
       "...                ...               ...               ...               ...   \n",
       "1593               0.0               0.0               0.0               0.0   \n",
       "1594               0.0               0.0               0.0               0.0   \n",
       "1595               0.0               0.0               0.0               0.0   \n",
       "1596               0.0               0.0               0.0               0.0   \n",
       "1597               0.0               0.0               0.0               0.0   \n",
       "\n",
       "      Event timebin 99  Event timebin 100  mean_pre_event  mean_event  \n",
       "0                  0.0                0.0             1.4         1.2  \n",
       "1                  0.0                0.0             0.0         0.0  \n",
       "2                  0.0                0.0             0.2         0.3  \n",
       "3                  0.0                0.0             0.3         0.2  \n",
       "4                  0.0                0.0             0.2         0.0  \n",
       "...                ...                ...             ...         ...  \n",
       "1593               0.0                0.0             0.8         0.4  \n",
       "1594               0.0                0.0             0.2         0.0  \n",
       "1595               0.0                0.0             0.5         0.4  \n",
       "1596               0.0                0.0             0.5         0.2  \n",
       "1597               0.0                0.0             1.3         1.6  \n",
       "\n",
       "[1598 rows x 206 columns]"
      ]
     },
     "execution_count": 7,
     "metadata": {},
     "output_type": "execute_result"
    }
   ],
   "source": [
    "event_df2"
   ]
  },
  {
   "cell_type": "code",
   "execution_count": 8,
   "id": "40dc97dc-fc44-4d68-ae16-a582515aec37",
   "metadata": {
    "execution": {
     "iopub.execute_input": "2024-05-30T15:05:36.463426Z",
     "iopub.status.busy": "2024-05-30T15:05:36.463426Z",
     "iopub.status.idle": "2024-05-30T15:05:36.507478Z",
     "shell.execute_reply": "2024-05-30T15:05:36.507478Z",
     "shell.execute_reply.started": "2024-05-30T15:05:36.463426Z"
    }
   },
   "outputs": [
    {
     "data": {
      "text/plain": [
       "2.589612015018773"
      ]
     },
     "execution_count": 8,
     "metadata": {},
     "output_type": "execute_result"
    }
   ],
   "source": [
    "event_df2['mean_pre_event'].mean()"
   ]
  },
  {
   "cell_type": "code",
   "execution_count": 9,
   "id": "d312f2df-1994-4fbd-958c-0124dfc603d7",
   "metadata": {
    "execution": {
     "iopub.execute_input": "2024-05-30T15:05:36.510992Z",
     "iopub.status.busy": "2024-05-30T15:05:36.510992Z",
     "iopub.status.idle": "2024-05-30T15:05:36.597440Z",
     "shell.execute_reply": "2024-05-30T15:05:36.597440Z",
     "shell.execute_reply.started": "2024-05-30T15:05:36.510992Z"
    }
   },
   "outputs": [
    {
     "data": {
      "text/plain": [
       "2.54956195244055"
      ]
     },
     "execution_count": 9,
     "metadata": {},
     "output_type": "execute_result"
    }
   ],
   "source": [
    "event_df2['mean_event'].mean()"
   ]
  },
  {
   "cell_type": "code",
   "execution_count": 10,
   "id": "8404b3c1-90d7-4038-813d-9626929adf99",
   "metadata": {
    "execution": {
     "iopub.execute_input": "2024-05-30T15:05:36.597440Z",
     "iopub.status.busy": "2024-05-30T15:05:36.597440Z",
     "iopub.status.idle": "2024-05-30T15:05:36.684380Z",
     "shell.execute_reply": "2024-05-30T15:05:36.684380Z",
     "shell.execute_reply.started": "2024-05-30T15:05:36.597440Z"
    }
   },
   "outputs": [
    {
     "data": {
      "text/plain": [
       "10000"
      ]
     },
     "execution_count": 10,
     "metadata": {},
     "output_type": "execute_result"
    }
   ],
   "source": [
    "import math\n",
    "\n",
    "pre_window = 10\n",
    "pre_window2 = math.ceil(pre_window * 1000)\n",
    "pre_window2"
   ]
  },
  {
   "cell_type": "code",
   "execution_count": 12,
   "id": "e2234a30-c507-48ce-a676-10841659a683",
   "metadata": {
    "execution": {
     "iopub.execute_input": "2024-05-30T15:06:52.121907Z",
     "iopub.status.busy": "2024-05-30T15:06:52.121907Z",
     "iopub.status.idle": "2024-05-30T15:06:52.130206Z",
     "shell.execute_reply": "2024-05-30T15:06:52.130206Z",
     "shell.execute_reply.started": "2024-05-30T15:06:52.121907Z"
    }
   },
   "outputs": [],
   "source": [
    "recordings = spike_analysis.ephyscollection.collection\n",
    "recording_name = '20230612_101430_standard_comp_to_training_D1_subj_1-3_t3b3L_box2_merged.rec'\n",
    "recording1 = recordings.get(recording_name)\n",
    "recording1win = recording1.event_dict['win']"
   ]
  },
  {
   "cell_type": "code",
   "execution_count": 13,
   "id": "54813ebe-2c6b-4b39-9bbf-2240fe4bd927",
   "metadata": {
    "execution": {
     "iopub.execute_input": "2024-05-30T15:06:57.833328Z",
     "iopub.status.busy": "2024-05-30T15:06:57.833328Z",
     "iopub.status.idle": "2024-05-30T15:06:57.845826Z",
     "shell.execute_reply": "2024-05-30T15:06:57.845826Z",
     "shell.execute_reply.started": "2024-05-30T15:06:57.833328Z"
    }
   },
   "outputs": [
    {
     "data": {
      "text/plain": [
       "array([[ 169111,  179111],\n",
       "       [ 479111,  489111],\n",
       "       [ 649110,  659110],\n",
       "       [ 754110,  764110],\n",
       "       [ 804110,  814110],\n",
       "       [ 884110,  894110],\n",
       "       [ 949110,  959110],\n",
       "       [1014110, 1024110],\n",
       "       [1134110, 1144110],\n",
       "       [1309110, 1319110],\n",
       "       [1379110, 1389110],\n",
       "       [1489110, 1499110],\n",
       "       [1549110, 1559110]], dtype=int64)"
      ]
     },
     "execution_count": 13,
     "metadata": {},
     "output_type": "execute_result"
    }
   ],
   "source": [
    "recording1win"
   ]
  },
  {
   "cell_type": "code",
   "execution_count": 14,
   "id": "89d4cae3-bab1-46c4-bfae-15b3f0785e8b",
   "metadata": {
    "execution": {
     "iopub.execute_input": "2024-05-30T15:08:04.075005Z",
     "iopub.status.busy": "2024-05-30T15:08:04.075005Z",
     "iopub.status.idle": "2024-05-30T15:08:04.093445Z",
     "shell.execute_reply": "2024-05-30T15:08:04.093445Z",
     "shell.execute_reply.started": "2024-05-30T15:08:04.075005Z"
    }
   },
   "outputs": [
    {
     "data": {
      "text/plain": [
       "13"
      ]
     },
     "execution_count": 14,
     "metadata": {},
     "output_type": "execute_result"
    }
   ],
   "source": [
    "recording1win.shape[0]"
   ]
  },
  {
   "cell_type": "code",
   "execution_count": 16,
   "id": "8075f273-84a2-431d-a820-0ae03827d51a",
   "metadata": {
    "execution": {
     "iopub.execute_input": "2024-05-30T15:12:15.010652Z",
     "iopub.status.busy": "2024-05-30T15:12:15.010652Z",
     "iopub.status.idle": "2024-05-30T15:12:15.022290Z",
     "shell.execute_reply": "2024-05-30T15:12:15.022290Z",
     "shell.execute_reply.started": "2024-05-30T15:12:15.010652Z"
    }
   },
   "outputs": [],
   "source": [
    "record1ran = range(recording1win.shape[0])"
   ]
  },
  {
   "cell_type": "code",
   "execution_count": 17,
   "id": "b537a895-7357-4525-ba5f-92aa01ea5246",
   "metadata": {
    "execution": {
     "iopub.execute_input": "2024-05-30T15:12:24.731192Z",
     "iopub.status.busy": "2024-05-30T15:12:24.719659Z",
     "iopub.status.idle": "2024-05-30T15:12:24.739899Z",
     "shell.execute_reply": "2024-05-30T15:12:24.739899Z",
     "shell.execute_reply.started": "2024-05-30T15:12:24.731192Z"
    }
   },
   "outputs": [
    {
     "data": {
      "text/plain": [
       "range"
      ]
     },
     "execution_count": 17,
     "metadata": {},
     "output_type": "execute_result"
    }
   ],
   "source": [
    "type(record1ran)"
   ]
  },
  {
   "cell_type": "code",
   "execution_count": 19,
   "id": "57b1aefe-5140-49e1-b3f1-9c2edb48fc37",
   "metadata": {
    "execution": {
     "iopub.execute_input": "2024-05-30T15:13:00.828015Z",
     "iopub.status.busy": "2024-05-30T15:13:00.828015Z",
     "iopub.status.idle": "2024-05-30T15:13:00.845327Z",
     "shell.execute_reply": "2024-05-30T15:13:00.845327Z",
     "shell.execute_reply.started": "2024-05-30T15:13:00.828015Z"
    }
   },
   "outputs": [
    {
     "name": "stdout",
     "output_type": "stream",
     "text": [
      "0\n",
      "1\n",
      "2\n",
      "3\n",
      "4\n",
      "5\n",
      "6\n",
      "7\n",
      "8\n",
      "9\n",
      "10\n",
      "11\n",
      "12\n"
     ]
    }
   ],
   "source": [
    "for i in record1ran:\n",
    "    print (i)"
   ]
  },
  {
   "cell_type": "code",
   "execution_count": 21,
   "id": "160afb99-0ab8-44d5-b615-8633e212ff64",
   "metadata": {
    "execution": {
     "iopub.execute_input": "2024-05-30T15:14:24.063241Z",
     "iopub.status.busy": "2024-05-30T15:14:24.063241Z",
     "iopub.status.idle": "2024-05-30T15:14:24.084353Z",
     "shell.execute_reply": "2024-05-30T15:14:24.084353Z",
     "shell.execute_reply.started": "2024-05-30T15:14:24.063241Z"
    }
   },
   "outputs": [
    {
     "data": {
      "text/plain": [
       "169111"
      ]
     },
     "execution_count": 21,
     "metadata": {},
     "output_type": "execute_result"
    }
   ],
   "source": [
    "recording1win[0][0]"
   ]
  },
  {
   "cell_type": "code",
   "execution_count": 23,
   "id": "c3f57a91-0f74-46c8-a6a5-b0a63ed36a2c",
   "metadata": {
    "execution": {
     "iopub.execute_input": "2024-05-30T15:14:39.490711Z",
     "iopub.status.busy": "2024-05-30T15:14:39.490711Z",
     "iopub.status.idle": "2024-05-30T15:14:39.507892Z",
     "shell.execute_reply": "2024-05-30T15:14:39.507892Z",
     "shell.execute_reply.started": "2024-05-30T15:14:39.490711Z"
    }
   },
   "outputs": [
    {
     "data": {
      "text/plain": [
       "479111"
      ]
     },
     "execution_count": 23,
     "metadata": {},
     "output_type": "execute_result"
    }
   ],
   "source": [
    "recording1win[1][0]"
   ]
  },
  {
   "cell_type": "code",
   "execution_count": 25,
   "id": "fb2ad20f-cb52-4d5f-8002-fdad075ce6d6",
   "metadata": {
    "execution": {
     "iopub.execute_input": "2024-05-30T15:15:52.520096Z",
     "iopub.status.busy": "2024-05-30T15:15:52.520096Z",
     "iopub.status.idle": "2024-05-30T15:15:52.536832Z",
     "shell.execute_reply": "2024-05-30T15:15:52.536832Z",
     "shell.execute_reply.started": "2024-05-30T15:15:52.520096Z"
    }
   },
   "outputs": [],
   "source": [
    "pre_window = 10\n",
    "timebin = 100\n",
    "pre_event = math.ceil((recording1win[0][0] - pre_window) / timebin)"
   ]
  },
  {
   "cell_type": "code",
   "execution_count": 26,
   "id": "b0e136cd-b602-4308-a871-b4c5fec861f5",
   "metadata": {
    "execution": {
     "iopub.execute_input": "2024-05-30T15:15:58.833739Z",
     "iopub.status.busy": "2024-05-30T15:15:58.833739Z",
     "iopub.status.idle": "2024-05-30T15:15:58.852005Z",
     "shell.execute_reply": "2024-05-30T15:15:58.852005Z",
     "shell.execute_reply.started": "2024-05-30T15:15:58.833739Z"
    }
   },
   "outputs": [
    {
     "data": {
      "text/plain": [
       "1692"
      ]
     },
     "execution_count": 26,
     "metadata": {},
     "output_type": "execute_result"
    }
   ],
   "source": [
    "pre_event"
   ]
  },
  {
   "cell_type": "code",
   "execution_count": 27,
   "id": "9321df40-735d-4490-8e6f-7cabda1eb9fb",
   "metadata": {
    "execution": {
     "iopub.execute_input": "2024-05-30T15:19:48.254945Z",
     "iopub.status.busy": "2024-05-30T15:19:48.254945Z",
     "iopub.status.idle": "2024-05-30T15:19:48.271019Z",
     "shell.execute_reply": "2024-05-30T15:19:48.269999Z",
     "shell.execute_reply.started": "2024-05-30T15:19:48.254945Z"
    }
   },
   "outputs": [
    {
     "name": "stdout",
     "output_type": "stream",
     "text": [
      "['__class__', '__delattr__', '__dict__', '__dir__', '__doc__', '__eq__', '__format__', '__ge__', '__getattribute__', '__getstate__', '__gt__', '__hash__', '__init__', '__init_subclass__', '__le__', '__lt__', '__module__', '__ne__', '__new__', '__reduce__', '__reduce_ex__', '__repr__', '__setattr__', '__sizeof__', '__str__', '__subclasshook__', '__weakref__', 'event_dict', 'freq_dict', 'get_spike_specs', 'get_unit_labels', 'get_unit_timestamps', 'labels_dict', 'path', 'sampling_rate', 'spiketrain', 'subject', 'timestamps_var', 'unit_array', 'unit_firing_rate_array', 'unit_firing_rates', 'unit_spiketrains', 'unit_timestamps', 'wilcox_dfs', 'zscored_events']\n"
     ]
    }
   ],
   "source": [
    "print(dir(recording1))"
   ]
  },
  {
   "cell_type": "code",
   "execution_count": 28,
   "id": "cc963cfc-b497-4215-9f9a-215387773bd6",
   "metadata": {
    "execution": {
     "iopub.execute_input": "2024-05-30T15:20:02.097878Z",
     "iopub.status.busy": "2024-05-30T15:20:02.097878Z",
     "iopub.status.idle": "2024-05-30T15:20:02.119957Z",
     "shell.execute_reply": "2024-05-30T15:20:02.119957Z",
     "shell.execute_reply.started": "2024-05-30T15:20:02.097878Z"
    }
   },
   "outputs": [
    {
     "data": {
      "text/plain": [
       "{85: array([1, 1, 0, ..., 0, 0, 0], dtype=int64),\n",
       " 55: array([1, 0, 1, ..., 1, 1, 1], dtype=int64),\n",
       " 17: array([0, 1, 2, ..., 1, 0, 0], dtype=int64),\n",
       " 24: array([0, 1, 1, ..., 0, 0, 0], dtype=int64),\n",
       " 68: array([0, 0, 1, ..., 0, 0, 0], dtype=int64),\n",
       " 65: array([0, 0, 1, ..., 0, 0, 0], dtype=int64),\n",
       " 98: array([0, 0, 1, ..., 0, 0, 0], dtype=int64),\n",
       " 94: array([0, 0, 1, ..., 0, 0, 0], dtype=int64),\n",
       " 2: array([0, 0, 0, ..., 0, 0, 0], dtype=int64),\n",
       " 33: array([0, 0, 0, ..., 0, 0, 1], dtype=int64),\n",
       " 13: array([0, 0, 0, ..., 1, 1, 0], dtype=int64),\n",
       " 59: array([0, 0, 0, ..., 0, 0, 1], dtype=int64),\n",
       " 81: array([0, 0, 0, ..., 0, 1, 0], dtype=int64),\n",
       " 19: array([0, 0, 0, ..., 1, 1, 0], dtype=int64),\n",
       " 88: array([0, 0, 0, ..., 0, 0, 0], dtype=int64),\n",
       " 26: array([0, 0, 0, ..., 1, 1, 0], dtype=int64),\n",
       " 5: array([0, 0, 0, ..., 0, 0, 0], dtype=int64),\n",
       " 36: array([0, 0, 0, ..., 1, 2, 2], dtype=int64),\n",
       " 57: array([0, 0, 0, ..., 0, 0, 0], dtype=int64)}"
      ]
     },
     "execution_count": 28,
     "metadata": {},
     "output_type": "execute_result"
    }
   ],
   "source": [
    "recording1.unit_spiketrains"
   ]
  },
  {
   "cell_type": "code",
   "execution_count": 30,
   "id": "cd49d3b8-1491-4fa7-ad53-f1366eaec5a8",
   "metadata": {
    "execution": {
     "iopub.execute_input": "2024-05-30T15:20:26.744197Z",
     "iopub.status.busy": "2024-05-30T15:20:26.744197Z",
     "iopub.status.idle": "2024-05-30T15:20:26.760898Z",
     "shell.execute_reply": "2024-05-30T15:20:26.760898Z",
     "shell.execute_reply.started": "2024-05-30T15:20:26.744197Z"
    }
   },
   "outputs": [
    {
     "data": {
      "text/plain": [
       "34146"
      ]
     },
     "execution_count": 30,
     "metadata": {},
     "output_type": "execute_result"
    }
   ],
   "source": [
    "len(recording1.unit_spiketrains[85])"
   ]
  },
  {
   "cell_type": "code",
   "execution_count": 32,
   "id": "eb607b40-bdff-470f-8229-2452305dcec6",
   "metadata": {
    "execution": {
     "iopub.execute_input": "2024-05-30T15:24:21.137992Z",
     "iopub.status.busy": "2024-05-30T15:24:21.137992Z",
     "iopub.status.idle": "2024-05-30T15:24:21.159354Z",
     "shell.execute_reply": "2024-05-30T15:24:21.159354Z",
     "shell.execute_reply.started": "2024-05-30T15:24:21.137992Z"
    }
   },
   "outputs": [
    {
     "data": {
      "text/plain": [
       "0"
      ]
     },
     "execution_count": 32,
     "metadata": {},
     "output_type": "execute_result"
    }
   ],
   "source": [
    "recording1.unit_spiketrains[85][34145]"
   ]
  },
  {
   "cell_type": "code",
   "execution_count": 34,
   "id": "8d4ce6ac-2522-46c3-9839-2c37109147e9",
   "metadata": {
    "execution": {
     "iopub.execute_input": "2024-05-30T15:27:40.587049Z",
     "iopub.status.busy": "2024-05-30T15:27:40.587049Z",
     "iopub.status.idle": "2024-05-30T15:27:40.609312Z",
     "shell.execute_reply": "2024-05-30T15:27:40.609312Z",
     "shell.execute_reply.started": "2024-05-30T15:27:40.587049Z"
    }
   },
   "outputs": [
    {
     "data": {
      "text/plain": [
       "11"
      ]
     },
     "execution_count": 34,
     "metadata": {},
     "output_type": "execute_result"
    }
   ],
   "source": [
    "recording1.unit_spiketrains[85].max()"
   ]
  },
  {
   "cell_type": "code",
   "execution_count": 35,
   "id": "bcdcb249-6ba7-4b1a-ab6c-5fb2040f7c6e",
   "metadata": {
    "execution": {
     "iopub.execute_input": "2024-05-30T15:28:10.653350Z",
     "iopub.status.busy": "2024-05-30T15:28:10.653350Z",
     "iopub.status.idle": "2024-05-30T15:28:10.684742Z",
     "shell.execute_reply": "2024-05-30T15:28:10.682705Z",
     "shell.execute_reply.started": "2024-05-30T15:28:10.653350Z"
    }
   },
   "outputs": [
    {
     "data": {
      "text/plain": [
       "{85: array([ 5., 10.,  5., ...,  0.,  0.,  0.]),\n",
       " 55: array([ 5.,  5.,  5., ...,  5., 10., 10.]),\n",
       " 17: array([ 0.,  5., 15., ...,  5.,  5.,  0.]),\n",
       " 24: array([ 0.,  5., 10., ...,  0.,  0.,  0.]),\n",
       " 68: array([0., 0., 5., ..., 0., 0., 0.]),\n",
       " 65: array([0., 0., 5., ..., 0., 0., 0.]),\n",
       " 98: array([0., 0., 5., ..., 0., 0., 0.]),\n",
       " 94: array([0., 0., 5., ..., 0., 0., 0.]),\n",
       " 2: array([0., 0., 0., ..., 0., 0., 0.]),\n",
       " 33: array([0., 0., 0., ..., 5., 0., 5.]),\n",
       " 13: array([ 0.,  0.,  0., ...,  5., 10.,  5.]),\n",
       " 59: array([0., 0., 0., ..., 5., 0., 5.]),\n",
       " 81: array([0., 0., 0., ..., 0., 5., 5.]),\n",
       " 19: array([ 0.,  0.,  0., ...,  5., 10.,  5.]),\n",
       " 88: array([0., 0., 0., ..., 0., 0., 0.]),\n",
       " 26: array([ 0.,  0.,  0., ..., 15., 10.,  5.]),\n",
       " 5: array([0., 0., 0., ..., 0., 0., 0.]),\n",
       " 36: array([ 0.,  0.,  0., ...,  5., 15., 20.]),\n",
       " 57: array([0., 0., 0., ..., 0., 0., 0.])}"
      ]
     },
     "execution_count": 35,
     "metadata": {},
     "output_type": "execute_result"
    }
   ],
   "source": [
    "recording1.unit_firing_rates"
   ]
  },
  {
   "cell_type": "code",
   "execution_count": 36,
   "id": "99ecc185-3b8d-4a9a-898f-7cc2cf0f62d0",
   "metadata": {
    "execution": {
     "iopub.execute_input": "2024-05-30T15:28:26.904329Z",
     "iopub.status.busy": "2024-05-30T15:28:26.904329Z",
     "iopub.status.idle": "2024-05-30T15:28:26.921265Z",
     "shell.execute_reply": "2024-05-30T15:28:26.921265Z",
     "shell.execute_reply.started": "2024-05-30T15:28:26.904329Z"
    }
   },
   "outputs": [
    {
     "data": {
      "text/plain": [
       "34146"
      ]
     },
     "execution_count": 36,
     "metadata": {},
     "output_type": "execute_result"
    }
   ],
   "source": [
    "len(recording1.unit_firing_rates[85])"
   ]
  },
  {
   "cell_type": "code",
   "execution_count": 52,
   "id": "f3bd5aa7-c447-465f-ad00-7a2116d9cc85",
   "metadata": {
    "execution": {
     "iopub.execute_input": "2024-05-30T15:53:55.690335Z",
     "iopub.status.busy": "2024-05-30T15:53:55.675807Z",
     "iopub.status.idle": "2024-05-30T15:53:56.596593Z",
     "shell.execute_reply": "2024-05-30T15:53:56.596593Z",
     "shell.execute_reply.started": "2024-05-30T15:53:55.690335Z"
    }
   },
   "outputs": [
    {
     "name": "stdout",
     "output_type": "stream",
     "text": [
      "All set to analyze\n"
     ]
    }
   ],
   "source": [
    "spike_analysis = spike.SpikeAnalysis_MultiRecording(ephys_data, timebin = 100, ignore_freq = 0.5)"
   ]
  },
  {
   "cell_type": "code",
   "execution_count": 53,
   "id": "4b107b66-2f5f-4f17-9185-cf7a3f836d7d",
   "metadata": {
    "execution": {
     "iopub.execute_input": "2024-05-30T15:54:01.736188Z",
     "iopub.status.busy": "2024-05-30T15:54:01.736188Z",
     "iopub.status.idle": "2024-05-30T15:54:01.752310Z",
     "shell.execute_reply": "2024-05-30T15:54:01.750785Z",
     "shell.execute_reply.started": "2024-05-30T15:54:01.736188Z"
    }
   },
   "outputs": [],
   "source": [
    "recordings = spike_analysis.ephyscollection.collection\n",
    "recording_name = '20230612_101430_standard_comp_to_training_D1_subj_1-3_t3b3L_box2_merged.rec'\n",
    "recording1 = recordings.get(recording_name)\n",
    "recording1win = recording1.event_dict['win']"
   ]
  },
  {
   "cell_type": "code",
   "execution_count": 54,
   "id": "31227d34-7c0a-45bf-b9d8-2a97a7fca781",
   "metadata": {
    "execution": {
     "iopub.execute_input": "2024-05-30T15:54:02.677900Z",
     "iopub.status.busy": "2024-05-30T15:54:02.677900Z",
     "iopub.status.idle": "2024-05-30T15:54:02.696290Z",
     "shell.execute_reply": "2024-05-30T15:54:02.696290Z",
     "shell.execute_reply.started": "2024-05-30T15:54:02.677900Z"
    }
   },
   "outputs": [
    {
     "data": {
      "text/plain": [
       "34146"
      ]
     },
     "execution_count": 54,
     "metadata": {},
     "output_type": "execute_result"
    }
   ],
   "source": [
    "len(recording1.unit_spiketrains[85])"
   ]
  },
  {
   "cell_type": "code",
   "execution_count": 55,
   "id": "a25b54d5-47c6-4c64-a203-69c2017da637",
   "metadata": {
    "execution": {
     "iopub.execute_input": "2024-05-30T15:54:04.407143Z",
     "iopub.status.busy": "2024-05-30T15:54:04.407143Z",
     "iopub.status.idle": "2024-05-30T15:54:04.423773Z",
     "shell.execute_reply": "2024-05-30T15:54:04.423773Z",
     "shell.execute_reply.started": "2024-05-30T15:54:04.407143Z"
    }
   },
   "outputs": [
    {
     "data": {
      "text/plain": [
       "1682"
      ]
     },
     "execution_count": 55,
     "metadata": {},
     "output_type": "execute_result"
    }
   ],
   "source": [
    "pre_window = 10\n",
    "timebin = 100\n",
    "pre_event = math.ceil((recording1win[0][0] / timebin) - pre_window)\n",
    "pre_event"
   ]
  },
  {
   "cell_type": "code",
   "execution_count": 56,
   "id": "cf300a8d-3f51-4233-9d09-4cef227cb9b5",
   "metadata": {
    "execution": {
     "iopub.execute_input": "2024-05-30T15:54:27.430502Z",
     "iopub.status.busy": "2024-05-30T15:54:27.430502Z",
     "iopub.status.idle": "2024-05-30T15:54:27.454001Z",
     "shell.execute_reply": "2024-05-30T15:54:27.454001Z",
     "shell.execute_reply.started": "2024-05-30T15:54:27.430502Z"
    }
   },
   "outputs": [
    {
     "data": {
      "text/plain": [
       "1692"
      ]
     },
     "execution_count": 56,
     "metadata": {},
     "output_type": "execute_result"
    }
   ],
   "source": [
    "pre_event = math.ceil((recording1win[0][0] - pre_window) / timebin)\n",
    "pre_event"
   ]
  },
  {
   "cell_type": "code",
   "execution_count": 57,
   "id": "0cd1ac1a-8b1d-4a0b-af48-0fd0dc345074",
   "metadata": {
    "execution": {
     "iopub.execute_input": "2024-05-30T15:54:29.969530Z",
     "iopub.status.busy": "2024-05-30T15:54:29.969530Z",
     "iopub.status.idle": "2024-05-30T15:54:29.992670Z",
     "shell.execute_reply": "2024-05-30T15:54:29.992670Z",
     "shell.execute_reply.started": "2024-05-30T15:54:29.969530Z"
    }
   },
   "outputs": [
    {
     "data": {
      "text/plain": [
       "169111"
      ]
     },
     "execution_count": 57,
     "metadata": {},
     "output_type": "execute_result"
    }
   ],
   "source": [
    "recording1win[0][0]"
   ]
  },
  {
   "cell_type": "code",
   "execution_count": 58,
   "id": "e58c4218-0d87-4c17-bfa6-2d06f132bc5f",
   "metadata": {
    "execution": {
     "iopub.execute_input": "2024-05-30T15:54:31.348923Z",
     "iopub.status.busy": "2024-05-30T15:54:31.348923Z",
     "iopub.status.idle": "2024-05-30T15:54:31.366513Z",
     "shell.execute_reply": "2024-05-30T15:54:31.366513Z",
     "shell.execute_reply.started": "2024-05-30T15:54:31.348923Z"
    }
   },
   "outputs": [
    {
     "data": {
      "text/plain": [
       "169101"
      ]
     },
     "execution_count": 58,
     "metadata": {},
     "output_type": "execute_result"
    }
   ],
   "source": [
    "recording1win[0][0] - 10"
   ]
  },
  {
   "cell_type": "code",
   "execution_count": 60,
   "id": "03a152a3-39c1-4e1b-9d18-fb2a7ca02b68",
   "metadata": {
    "execution": {
     "iopub.execute_input": "2024-05-30T15:54:43.411198Z",
     "iopub.status.busy": "2024-05-30T15:54:43.411198Z",
     "iopub.status.idle": "2024-05-30T15:54:43.431967Z",
     "shell.execute_reply": "2024-05-30T15:54:43.431967Z",
     "shell.execute_reply.started": "2024-05-30T15:54:43.411198Z"
    }
   },
   "outputs": [
    {
     "data": {
      "text/plain": [
       "169011"
      ]
     },
     "execution_count": 60,
     "metadata": {},
     "output_type": "execute_result"
    }
   ],
   "source": [
    "pre_event = math.ceil(recording1win[0][0] - (pre_window*1000/timebin))\n",
    "pre_event"
   ]
  },
  {
   "cell_type": "code",
   "execution_count": 66,
   "id": "86b1d320-cbea-4658-93bc-94f4803df897",
   "metadata": {
    "execution": {
     "iopub.execute_input": "2024-05-30T15:59:12.954879Z",
     "iopub.status.busy": "2024-05-30T15:59:12.954879Z",
     "iopub.status.idle": "2024-05-30T15:59:12.970056Z",
     "shell.execute_reply": "2024-05-30T15:59:12.970056Z",
     "shell.execute_reply.started": "2024-05-30T15:59:12.954879Z"
    }
   },
   "outputs": [
    {
     "data": {
      "text/plain": [
       "array([ 0,  1,  2,  3,  4,  5,  6,  7,  8,  9, 10, 11, 12, 13, 14, 15, 16,\n",
       "       17, 18, 19, 20, 21, 22, 23, 24, 25, 26, 27, 28, 29])"
      ]
     },
     "execution_count": 66,
     "metadata": {},
     "output_type": "execute_result"
    }
   ],
   "source": [
    "og_spiketrain = np.arange(30)\n",
    "og_spiketrain"
   ]
  },
  {
   "cell_type": "code",
   "execution_count": 67,
   "id": "4f24f37f-a2f4-4aaa-981f-5668c75b9a22",
   "metadata": {
    "execution": {
     "iopub.execute_input": "2024-05-30T15:59:21.855284Z",
     "iopub.status.busy": "2024-05-30T15:59:21.855284Z",
     "iopub.status.idle": "2024-05-30T15:59:21.872528Z",
     "shell.execute_reply": "2024-05-30T15:59:21.872528Z",
     "shell.execute_reply.started": "2024-05-30T15:59:21.855284Z"
    }
   },
   "outputs": [
    {
     "data": {
      "text/plain": [
       "array([ 1,  2,  3,  4,  5,  6,  7,  8,  9, 10, 11, 12, 13, 14, 15, 16, 17,\n",
       "       18, 19, 20, 21, 22, 23, 24, 25, 26, 27, 28, 29, 30])"
      ]
     },
     "execution_count": 67,
     "metadata": {},
     "output_type": "execute_result"
    }
   ],
   "source": [
    "og_spiketrain = og_spiketrain+1\n",
    "og_spiketrain"
   ]
  },
  {
   "cell_type": "code",
   "execution_count": 68,
   "id": "ad6fb418-2f50-4470-a580-52efcdad2477",
   "metadata": {
    "execution": {
     "iopub.execute_input": "2024-05-30T15:59:46.145280Z",
     "iopub.status.busy": "2024-05-30T15:59:46.145280Z",
     "iopub.status.idle": "2024-05-30T15:59:46.160958Z",
     "shell.execute_reply": "2024-05-30T15:59:46.159434Z",
     "shell.execute_reply.started": "2024-05-30T15:59:46.145280Z"
    }
   },
   "outputs": [],
   "source": [
    "unit_spiketrains = np.array([1,2,3,4,5,6])"
   ]
  },
  {
   "cell_type": "code",
   "execution_count": 69,
   "id": "b2ff1b46-d5f6-426d-b05d-dd2f0c52d265",
   "metadata": {
    "execution": {
     "iopub.execute_input": "2024-05-30T15:59:50.773393Z",
     "iopub.status.busy": "2024-05-30T15:59:50.773393Z",
     "iopub.status.idle": "2024-05-30T15:59:50.790747Z",
     "shell.execute_reply": "2024-05-30T15:59:50.790747Z",
     "shell.execute_reply.started": "2024-05-30T15:59:50.773393Z"
    }
   },
   "outputs": [
    {
     "data": {
      "text/plain": [
       "array([1, 2, 3, 4, 5, 6])"
      ]
     },
     "execution_count": 69,
     "metadata": {},
     "output_type": "execute_result"
    }
   ],
   "source": [
    "unit_spiketrains"
   ]
  },
  {
   "cell_type": "code",
   "execution_count": 75,
   "id": "52d4f2cf-3ad9-49e7-8ef7-49ccd8ecc773",
   "metadata": {
    "execution": {
     "iopub.execute_input": "2024-05-30T16:03:57.848608Z",
     "iopub.status.busy": "2024-05-30T16:03:57.848608Z",
     "iopub.status.idle": "2024-05-30T16:03:57.863781Z",
     "shell.execute_reply": "2024-05-30T16:03:57.863781Z",
     "shell.execute_reply.started": "2024-05-30T16:03:57.848608Z"
    }
   },
   "outputs": [],
   "source": [
    "event_dict1 = ([[ 15,  20],\n",
    "       [ 25,  30]])"
   ]
  },
  {
   "cell_type": "code",
   "execution_count": 76,
   "id": "6a4d4cd1-6333-4555-b029-40938f66c891",
   "metadata": {
    "execution": {
     "iopub.execute_input": "2024-05-30T16:03:58.650263Z",
     "iopub.status.busy": "2024-05-30T16:03:58.650263Z",
     "iopub.status.idle": "2024-05-30T16:03:58.665914Z",
     "shell.execute_reply": "2024-05-30T16:03:58.665914Z",
     "shell.execute_reply.started": "2024-05-30T16:03:58.650263Z"
    }
   },
   "outputs": [
    {
     "data": {
      "text/plain": [
       "[[15, 20], [25, 30]]"
      ]
     },
     "execution_count": 76,
     "metadata": {},
     "output_type": "execute_result"
    }
   ],
   "source": [
    "event_dict1"
   ]
  },
  {
   "cell_type": "code",
   "execution_count": 77,
   "id": "495f3426-0d86-433e-82a0-4e91128ab020",
   "metadata": {
    "execution": {
     "iopub.execute_input": "2024-05-30T16:04:00.518304Z",
     "iopub.status.busy": "2024-05-30T16:04:00.518304Z",
     "iopub.status.idle": "2024-05-30T16:04:00.545939Z",
     "shell.execute_reply": "2024-05-30T16:04:00.545939Z",
     "shell.execute_reply.started": "2024-05-30T16:04:00.518304Z"
    }
   },
   "outputs": [
    {
     "data": {
      "text/plain": [
       "15"
      ]
     },
     "execution_count": 77,
     "metadata": {},
     "output_type": "execute_result"
    }
   ],
   "source": [
    "event_dict1[0][0]"
   ]
  },
  {
   "cell_type": "code",
   "execution_count": 78,
   "id": "d74c0bd3-1372-48c5-a19d-6d5191a8edd2",
   "metadata": {
    "execution": {
     "iopub.execute_input": "2024-05-30T16:04:03.676837Z",
     "iopub.status.busy": "2024-05-30T16:04:03.676837Z",
     "iopub.status.idle": "2024-05-30T16:04:03.690299Z",
     "shell.execute_reply": "2024-05-30T16:04:03.690299Z",
     "shell.execute_reply.started": "2024-05-30T16:04:03.676837Z"
    }
   },
   "outputs": [
    {
     "data": {
      "text/plain": [
       "3.0"
      ]
     },
     "execution_count": 78,
     "metadata": {},
     "output_type": "execute_result"
    }
   ],
   "source": [
    "pre_window = 0.01\n",
    "timebin = 5\n",
    "\n",
    "event_start = event_dict1[0][0] / timebin\n",
    "event_start"
   ]
  },
  {
   "cell_type": "code",
   "execution_count": 80,
   "id": "667a4219-8c84-4cfe-8daa-eee027a36149",
   "metadata": {
    "execution": {
     "iopub.execute_input": "2024-05-30T16:05:12.210176Z",
     "iopub.status.busy": "2024-05-30T16:05:12.210176Z",
     "iopub.status.idle": "2024-05-30T16:05:12.219669Z",
     "shell.execute_reply": "2024-05-30T16:05:12.219669Z",
     "shell.execute_reply.started": "2024-05-30T16:05:12.210176Z"
    }
   },
   "outputs": [
    {
     "data": {
      "text/plain": [
       "1.0"
      ]
     },
     "execution_count": 80,
     "metadata": {},
     "output_type": "execute_result"
    }
   ],
   "source": [
    "pre_event_start = event_start - (pre_window*1000/timebin)\n",
    "pre_event_start"
   ]
  },
  {
   "cell_type": "code",
   "execution_count": 81,
   "id": "a6591610-440b-486c-90fc-69b0c331dfda",
   "metadata": {
    "execution": {
     "iopub.execute_input": "2024-05-30T16:08:01.263407Z",
     "iopub.status.busy": "2024-05-30T16:08:01.263407Z",
     "iopub.status.idle": "2024-05-30T16:08:01.283839Z",
     "shell.execute_reply": "2024-05-30T16:08:01.283839Z",
     "shell.execute_reply.started": "2024-05-30T16:08:01.263407Z"
    }
   },
   "outputs": [
    {
     "data": {
      "text/plain": [
       "1592"
      ]
     },
     "execution_count": 81,
     "metadata": {},
     "output_type": "execute_result"
    }
   ],
   "source": [
    "pre_window = 10\n",
    "timebin = 100\n",
    "pre_event = math.ceil((recording1win[0][0] / timebin) - (pre_window*1000/timebin))\n",
    "pre_event"
   ]
  },
  {
   "cell_type": "code",
   "execution_count": 83,
   "id": "85f4e2ce-bdf0-444e-9f7d-db0eb119f336",
   "metadata": {
    "execution": {
     "iopub.execute_input": "2024-05-30T16:12:00.116572Z",
     "iopub.status.busy": "2024-05-30T16:12:00.116572Z",
     "iopub.status.idle": "2024-05-30T16:12:00.127662Z",
     "shell.execute_reply": "2024-05-30T16:12:00.127662Z",
     "shell.execute_reply.started": "2024-05-30T16:12:00.116572Z"
    }
   },
   "outputs": [
    {
     "data": {
      "text/plain": [
       "-98308"
      ]
     },
     "execution_count": 83,
     "metadata": {},
     "output_type": "execute_result"
    }
   ],
   "source": [
    "pre_window = math.ceil(pre_window * 1000)\n",
    "\n",
    "pre_event = math.ceil((recording1win[0][0] - pre_window) / timebin)\n",
    "pre_event"
   ]
  },
  {
   "cell_type": "code",
   "execution_count": 84,
   "id": "07b6ee1f-0b67-42a7-bbf1-415aa0b6e5ac",
   "metadata": {
    "execution": {
     "iopub.execute_input": "2024-05-30T16:13:20.931583Z",
     "iopub.status.busy": "2024-05-30T16:13:20.931583Z",
     "iopub.status.idle": "2024-05-30T16:13:20.948568Z",
     "shell.execute_reply": "2024-05-30T16:13:20.948568Z",
     "shell.execute_reply.started": "2024-05-30T16:13:20.931583Z"
    }
   },
   "outputs": [
    {
     "data": {
      "text/plain": [
       "169111"
      ]
     },
     "execution_count": 84,
     "metadata": {},
     "output_type": "execute_result"
    }
   ],
   "source": [
    "recording1win[0][0]"
   ]
  },
  {
   "cell_type": "code",
   "execution_count": 85,
   "id": "63b97553-6e90-4436-93ba-f8d64a9ed940",
   "metadata": {
    "execution": {
     "iopub.execute_input": "2024-05-30T16:28:23.586409Z",
     "iopub.status.busy": "2024-05-30T16:28:23.586409Z",
     "iopub.status.idle": "2024-05-30T16:28:23.608824Z",
     "shell.execute_reply": "2024-05-30T16:28:23.608824Z",
     "shell.execute_reply.started": "2024-05-30T16:28:23.586409Z"
    }
   },
   "outputs": [
    {
     "data": {
      "text/plain": [
       "(34146,)"
      ]
     },
     "execution_count": 85,
     "metadata": {},
     "output_type": "execute_result"
    }
   ],
   "source": [
    "recording1.unit_firing_rates[85].shape"
   ]
  },
  {
   "cell_type": "code",
   "execution_count": 86,
   "id": "ca4f351e-5428-4c01-9e09-7ece315de25b",
   "metadata": {
    "execution": {
     "iopub.execute_input": "2024-05-30T16:28:36.759842Z",
     "iopub.status.busy": "2024-05-30T16:28:36.759842Z",
     "iopub.status.idle": "2024-05-30T16:28:36.798161Z",
     "shell.execute_reply": "2024-05-30T16:28:36.798161Z",
     "shell.execute_reply.started": "2024-05-30T16:28:36.759842Z"
    }
   },
   "outputs": [
    {
     "data": {
      "text/plain": [
       "array([10., 10.,  0., ...,  0.,  0.,  0.])"
      ]
     },
     "execution_count": 86,
     "metadata": {},
     "output_type": "execute_result"
    }
   ],
   "source": [
    "recording1.unit_firing_rates[85]"
   ]
  },
  {
   "cell_type": "code",
   "execution_count": 87,
   "id": "bcf134ea-e9c7-4ee8-b4fe-340132760b57",
   "metadata": {
    "execution": {
     "iopub.execute_input": "2024-05-30T16:28:44.723778Z",
     "iopub.status.busy": "2024-05-30T16:28:44.723778Z",
     "iopub.status.idle": "2024-05-30T16:28:44.741756Z",
     "shell.execute_reply": "2024-05-30T16:28:44.741756Z",
     "shell.execute_reply.started": "2024-05-30T16:28:44.723778Z"
    }
   },
   "outputs": [
    {
     "data": {
      "text/plain": [
       "34146"
      ]
     },
     "execution_count": 87,
     "metadata": {},
     "output_type": "execute_result"
    }
   ],
   "source": [
    "len(recording1.unit_firing_rates[85])"
   ]
  },
  {
   "cell_type": "code",
   "execution_count": 88,
   "id": "2f56f815-b812-4799-9847-dd8c63042508",
   "metadata": {
    "execution": {
     "iopub.execute_input": "2024-05-30T16:40:38.419673Z",
     "iopub.status.busy": "2024-05-30T16:40:38.409656Z",
     "iopub.status.idle": "2024-05-30T16:40:38.456580Z",
     "shell.execute_reply": "2024-05-30T16:40:38.456580Z",
     "shell.execute_reply.started": "2024-05-30T16:40:38.419673Z"
    }
   },
   "outputs": [
    {
     "data": {
      "text/plain": [
       "15392"
      ]
     },
     "execution_count": 88,
     "metadata": {},
     "output_type": "execute_result"
    }
   ],
   "source": [
    "pre_window = 10\n",
    "timebin = 100\n",
    "pre_event = math.ceil((recording1win[12][0] / timebin) - (pre_window*1000/timebin))\n",
    "pre_event"
   ]
  },
  {
   "cell_type": "code",
   "execution_count": 89,
   "id": "9cfe3708-2213-436f-9fee-2895bdfd2104",
   "metadata": {
    "execution": {
     "iopub.execute_input": "2024-05-30T16:46:19.591308Z",
     "iopub.status.busy": "2024-05-30T16:46:19.591308Z",
     "iopub.status.idle": "2024-05-30T16:46:19.622636Z",
     "shell.execute_reply": "2024-05-30T16:46:19.621616Z",
     "shell.execute_reply.started": "2024-05-30T16:46:19.591308Z"
    }
   },
   "outputs": [
    {
     "data": {
      "text/plain": [
       "1842"
      ]
     },
     "execution_count": 89,
     "metadata": {},
     "output_type": "execute_result"
    }
   ],
   "source": [
    "pre_window = 10\n",
    "timebin = 100\n",
    "equalize = 10\n",
    "post_window = 5\n",
    "\n",
    "pre_window = math.ceil(pre_window * 1000)\n",
    "post_window = math.ceil(post_window * 1000)\n",
    "equalize = equalize * 1000\n",
    "e_length = equalize + post_window + pre_window\n",
    "\n",
    "post_event = math.ceil((recording1win[0][0] + post_window + equalize) / timebin)\n",
    "post_event"
   ]
  },
  {
   "cell_type": "code",
   "execution_count": 91,
   "id": "63a3fd4d-8553-42c0-b196-45c14fe9ce76",
   "metadata": {
    "execution": {
     "iopub.execute_input": "2024-05-30T16:54:26.694800Z",
     "iopub.status.busy": "2024-05-30T16:54:26.694800Z",
     "iopub.status.idle": "2024-05-30T16:54:26.717800Z",
     "shell.execute_reply": "2024-05-30T16:54:26.717800Z",
     "shell.execute_reply.started": "2024-05-30T16:54:26.694800Z"
    }
   },
   "outputs": [
    {
     "data": {
      "text/plain": [
       "1592"
      ]
     },
     "execution_count": 91,
     "metadata": {},
     "output_type": "execute_result"
    }
   ],
   "source": [
    "pre_window = 10\n",
    "timebin = 100\n",
    "pre_event = math.ceil((recording1win[0][0] / timebin) - (pre_window*1000/timebin))\n",
    "pre_event"
   ]
  },
  {
   "cell_type": "code",
   "execution_count": 92,
   "id": "281b7e9d-5d63-4a6c-b8a3-16bb3db71aa6",
   "metadata": {
    "execution": {
     "iopub.execute_input": "2024-05-30T16:54:54.838991Z",
     "iopub.status.busy": "2024-05-30T16:54:54.838991Z",
     "iopub.status.idle": "2024-05-30T16:54:54.856965Z",
     "shell.execute_reply": "2024-05-30T16:54:54.856965Z",
     "shell.execute_reply.started": "2024-05-30T16:54:54.838991Z"
    }
   },
   "outputs": [
    {
     "data": {
      "text/plain": [
       "1742"
      ]
     },
     "execution_count": 92,
     "metadata": {},
     "output_type": "execute_result"
    }
   ],
   "source": [
    "1592+100+50"
   ]
  },
  {
   "cell_type": "code",
   "execution_count": 93,
   "id": "88d06866-848f-4482-a91a-39094acd9a7b",
   "metadata": {
    "execution": {
     "iopub.execute_input": "2024-05-30T16:55:16.305952Z",
     "iopub.status.busy": "2024-05-30T16:55:16.305952Z",
     "iopub.status.idle": "2024-05-30T16:55:16.326093Z",
     "shell.execute_reply": "2024-05-30T16:55:16.326093Z",
     "shell.execute_reply.started": "2024-05-30T16:55:16.305952Z"
    }
   },
   "outputs": [
    {
     "data": {
      "text/plain": [
       "1691.11"
      ]
     },
     "execution_count": 93,
     "metadata": {},
     "output_type": "execute_result"
    }
   ],
   "source": [
    "recording1win[0][0] / timebin"
   ]
  },
  {
   "cell_type": "code",
   "execution_count": 94,
   "id": "8bde5df7-5ea0-464f-880c-0844cd43ec79",
   "metadata": {
    "execution": {
     "iopub.execute_input": "2024-05-30T16:55:57.644827Z",
     "iopub.status.busy": "2024-05-30T16:55:57.644827Z",
     "iopub.status.idle": "2024-05-30T16:55:57.663983Z",
     "shell.execute_reply": "2024-05-30T16:55:57.663983Z",
     "shell.execute_reply.started": "2024-05-30T16:55:57.644827Z"
    }
   },
   "outputs": [
    {
     "data": {
      "text/plain": [
       "1742"
      ]
     },
     "execution_count": 94,
     "metadata": {},
     "output_type": "execute_result"
    }
   ],
   "source": [
    "1692+50"
   ]
  },
  {
   "cell_type": "code",
   "execution_count": 95,
   "id": "b5478951-9b5d-49fa-9061-7fb6390c4b16",
   "metadata": {
    "execution": {
     "iopub.execute_input": "2024-05-30T16:57:56.065653Z",
     "iopub.status.busy": "2024-05-30T16:57:56.065653Z",
     "iopub.status.idle": "2024-05-30T16:57:56.086900Z",
     "shell.execute_reply": "2024-05-30T16:57:56.086900Z",
     "shell.execute_reply.started": "2024-05-30T16:57:56.065653Z"
    }
   },
   "outputs": [
    {
     "data": {
      "text/plain": [
       "1742"
      ]
     },
     "execution_count": 95,
     "metadata": {},
     "output_type": "execute_result"
    }
   ],
   "source": [
    "pre_window = 10\n",
    "timebin = 100\n",
    "equalize = 10\n",
    "post_window = 5\n",
    "\n",
    "post_event = math.ceil((recording1win[0][0] / timebin) + (post_window*1000/timebin))\n",
    "post_event"
   ]
  },
  {
   "cell_type": "code",
   "execution_count": 96,
   "id": "b0c5f08e-35c4-4c7c-958c-1b6f6b9e55df",
   "metadata": {
    "execution": {
     "iopub.execute_input": "2024-05-30T17:17:30.680384Z",
     "iopub.status.busy": "2024-05-30T17:17:30.680384Z",
     "iopub.status.idle": "2024-05-30T17:17:30.717218Z",
     "shell.execute_reply": "2024-05-30T17:17:30.717218Z",
     "shell.execute_reply.started": "2024-05-30T17:17:30.680384Z"
    }
   },
   "outputs": [
    {
     "data": {
      "text/plain": [
       "179111"
      ]
     },
     "execution_count": 96,
     "metadata": {},
     "output_type": "execute_result"
    }
   ],
   "source": [
    "recording1win[0][1]"
   ]
  },
  {
   "cell_type": "code",
   "execution_count": 97,
   "id": "8bd522ee-437f-43b2-b839-0297fb5f7d68",
   "metadata": {
    "execution": {
     "iopub.execute_input": "2024-05-30T17:22:52.370885Z",
     "iopub.status.busy": "2024-05-30T17:22:52.370885Z",
     "iopub.status.idle": "2024-05-30T17:22:52.433449Z",
     "shell.execute_reply": "2024-05-30T17:22:52.431429Z",
     "shell.execute_reply.started": "2024-05-30T17:22:52.370885Z"
    }
   },
   "outputs": [
    {
     "data": {
      "text/plain": [
       "{85: array([1, 1, 0, ..., 0, 0, 0], dtype=int64),\n",
       " 55: array([1, 0, 1, ..., 1, 1, 1], dtype=int64),\n",
       " 17: array([0, 1, 2, ..., 1, 0, 0], dtype=int64),\n",
       " 24: array([0, 1, 1, ..., 0, 0, 0], dtype=int64),\n",
       " 68: array([0, 0, 1, ..., 0, 0, 0], dtype=int64),\n",
       " 65: array([0, 0, 1, ..., 0, 0, 0], dtype=int64),\n",
       " 98: array([0, 0, 1, ..., 0, 0, 0], dtype=int64),\n",
       " 94: array([0, 0, 1, ..., 0, 0, 0], dtype=int64),\n",
       " 2: array([0, 0, 0, ..., 0, 0, 0], dtype=int64),\n",
       " 33: array([0, 0, 0, ..., 0, 0, 1], dtype=int64),\n",
       " 13: array([0, 0, 0, ..., 1, 1, 0], dtype=int64),\n",
       " 59: array([0, 0, 0, ..., 0, 0, 1], dtype=int64),\n",
       " 81: array([0, 0, 0, ..., 0, 1, 0], dtype=int64),\n",
       " 19: array([0, 0, 0, ..., 1, 1, 0], dtype=int64),\n",
       " 88: array([0, 0, 0, ..., 0, 0, 0], dtype=int64),\n",
       " 26: array([0, 0, 0, ..., 1, 1, 0], dtype=int64),\n",
       " 5: array([0, 0, 0, ..., 0, 0, 0], dtype=int64),\n",
       " 36: array([0, 0, 0, ..., 1, 2, 2], dtype=int64),\n",
       " 57: array([0, 0, 0, ..., 0, 0, 0], dtype=int64)}"
      ]
     },
     "execution_count": 97,
     "metadata": {},
     "output_type": "execute_result"
    }
   ],
   "source": [
    "recording1.unit_spiketrains"
   ]
  },
  {
   "cell_type": "code",
   "execution_count": 98,
   "id": "378293f6-6cea-4044-b881-8c9d3afac08d",
   "metadata": {
    "execution": {
     "iopub.execute_input": "2024-05-30T17:23:00.738896Z",
     "iopub.status.busy": "2024-05-30T17:23:00.738896Z",
     "iopub.status.idle": "2024-05-30T17:23:00.759729Z",
     "shell.execute_reply": "2024-05-30T17:23:00.759729Z",
     "shell.execute_reply.started": "2024-05-30T17:23:00.738896Z"
    }
   },
   "outputs": [
    {
     "data": {
      "text/plain": [
       "array([[ 169111,  179111],\n",
       "       [ 479111,  489111],\n",
       "       [ 649110,  659110],\n",
       "       [ 754110,  764110],\n",
       "       [ 804110,  814110],\n",
       "       [ 884110,  894110],\n",
       "       [ 949110,  959110],\n",
       "       [1014110, 1024110],\n",
       "       [1134110, 1144110],\n",
       "       [1309110, 1319110],\n",
       "       [1379110, 1389110],\n",
       "       [1489110, 1499110],\n",
       "       [1549110, 1559110]], dtype=int64)"
      ]
     },
     "execution_count": 98,
     "metadata": {},
     "output_type": "execute_result"
    }
   ],
   "source": [
    "recording1win"
   ]
  },
  {
   "cell_type": "code",
   "execution_count": 103,
   "id": "6e4e1607-5fd5-414c-97b8-30dfdc0f7867",
   "metadata": {
    "execution": {
     "iopub.execute_input": "2024-05-30T17:24:55.196683Z",
     "iopub.status.busy": "2024-05-30T17:24:55.196683Z",
     "iopub.status.idle": "2024-05-30T17:24:55.212453Z",
     "shell.execute_reply": "2024-05-30T17:24:55.211440Z",
     "shell.execute_reply.started": "2024-05-30T17:24:55.196683Z"
    }
   },
   "outputs": [
    {
     "data": {
      "text/plain": [
       "array([[ 1691.11,  1791.11],\n",
       "       [ 4791.11,  4891.11],\n",
       "       [ 6491.1 ,  6591.1 ],\n",
       "       [ 7541.1 ,  7641.1 ],\n",
       "       [ 8041.1 ,  8141.1 ],\n",
       "       [ 8841.1 ,  8941.1 ],\n",
       "       [ 9491.1 ,  9591.1 ],\n",
       "       [10141.1 , 10241.1 ],\n",
       "       [11341.1 , 11441.1 ],\n",
       "       [13091.1 , 13191.1 ],\n",
       "       [13791.1 , 13891.1 ],\n",
       "       [14891.1 , 14991.1 ],\n",
       "       [15491.1 , 15591.1 ]])"
      ]
     },
     "execution_count": 103,
     "metadata": {},
     "output_type": "execute_result"
    }
   ],
   "source": [
    "recording1win_binned = recording1win/timebin\n",
    "recording1win_binned"
   ]
  },
  {
   "cell_type": "code",
   "execution_count": 104,
   "id": "c80de020-0e73-4e0d-b2e5-14b7e3dac1de",
   "metadata": {
    "execution": {
     "iopub.execute_input": "2024-05-30T17:25:58.430574Z",
     "iopub.status.busy": "2024-05-30T17:25:58.430574Z",
     "iopub.status.idle": "2024-05-30T17:25:58.449044Z",
     "shell.execute_reply": "2024-05-30T17:25:58.449044Z",
     "shell.execute_reply.started": "2024-05-30T17:25:58.430574Z"
    }
   },
   "outputs": [
    {
     "data": {
      "text/plain": [
       "numpy.ndarray"
      ]
     },
     "execution_count": 104,
     "metadata": {},
     "output_type": "execute_result"
    }
   ],
   "source": [
    "type(recording1win_binned)"
   ]
  },
  {
   "cell_type": "code",
   "execution_count": 111,
   "id": "62e1b7c0-736d-4e11-9ccd-6cfc92956b81",
   "metadata": {
    "execution": {
     "iopub.execute_input": "2024-05-30T17:30:46.920982Z",
     "iopub.status.busy": "2024-05-30T17:30:46.920982Z",
     "iopub.status.idle": "2024-05-30T17:30:46.939021Z",
     "shell.execute_reply": "2024-05-30T17:30:46.939021Z",
     "shell.execute_reply.started": "2024-05-30T17:30:46.920982Z"
    }
   },
   "outputs": [],
   "source": [
    "rounded_array = np.ceil(recording1win_binned).astype(int)"
   ]
  },
  {
   "cell_type": "code",
   "execution_count": 112,
   "id": "a26d02e8-b07a-4855-b094-57a6c22d3dfe",
   "metadata": {
    "execution": {
     "iopub.execute_input": "2024-05-30T17:30:53.123531Z",
     "iopub.status.busy": "2024-05-30T17:30:53.123531Z",
     "iopub.status.idle": "2024-05-30T17:30:53.143272Z",
     "shell.execute_reply": "2024-05-30T17:30:53.142207Z",
     "shell.execute_reply.started": "2024-05-30T17:30:53.123531Z"
    }
   },
   "outputs": [
    {
     "data": {
      "text/plain": [
       "array([[ 1692,  1792],\n",
       "       [ 4792,  4892],\n",
       "       [ 6492,  6592],\n",
       "       [ 7542,  7642],\n",
       "       [ 8042,  8142],\n",
       "       [ 8842,  8942],\n",
       "       [ 9492,  9592],\n",
       "       [10142, 10242],\n",
       "       [11342, 11442],\n",
       "       [13092, 13192],\n",
       "       [13792, 13892],\n",
       "       [14892, 14992],\n",
       "       [15492, 15592]])"
      ]
     },
     "execution_count": 112,
     "metadata": {},
     "output_type": "execute_result"
    }
   ],
   "source": [
    "rounded_array"
   ]
  },
  {
   "cell_type": "code",
   "execution_count": 113,
   "id": "67d29d39-4c1b-4304-9183-7a9bea726a00",
   "metadata": {
    "execution": {
     "iopub.execute_input": "2024-05-30T17:35:36.174091Z",
     "iopub.status.busy": "2024-05-30T17:35:36.160180Z",
     "iopub.status.idle": "2024-05-30T17:35:36.182611Z",
     "shell.execute_reply": "2024-05-30T17:35:36.182611Z",
     "shell.execute_reply.started": "2024-05-30T17:35:36.174091Z"
    }
   },
   "outputs": [
    {
     "data": {
      "text/plain": [
       "array([1692, 1792])"
      ]
     },
     "execution_count": 113,
     "metadata": {},
     "output_type": "execute_result"
    }
   ],
   "source": [
    "rounded_array[0]"
   ]
  },
  {
   "cell_type": "code",
   "execution_count": 114,
   "id": "93687409-6edb-4a2b-9218-0e4b45d934f4",
   "metadata": {
    "execution": {
     "iopub.execute_input": "2024-05-30T17:36:07.811479Z",
     "iopub.status.busy": "2024-05-30T17:36:07.811479Z",
     "iopub.status.idle": "2024-05-30T17:36:07.840646Z",
     "shell.execute_reply": "2024-05-30T17:36:07.840646Z",
     "shell.execute_reply.started": "2024-05-30T17:36:07.811479Z"
    }
   },
   "outputs": [
    {
     "data": {
      "text/plain": [
       "array([1, 2], dtype=int64)"
      ]
     },
     "execution_count": 114,
     "metadata": {},
     "output_type": "execute_result"
    }
   ],
   "source": [
    "recording1.unit_spiketrains[85][rounded_array[0]]"
   ]
  },
  {
   "cell_type": "code",
   "execution_count": 115,
   "id": "8f435001-02e8-4888-a507-2f0f15d17fe1",
   "metadata": {
    "execution": {
     "iopub.execute_input": "2024-05-30T17:36:28.880377Z",
     "iopub.status.busy": "2024-05-30T17:36:28.880377Z",
     "iopub.status.idle": "2024-05-30T17:36:28.898230Z",
     "shell.execute_reply": "2024-05-30T17:36:28.898230Z",
     "shell.execute_reply.started": "2024-05-30T17:36:28.880377Z"
    }
   },
   "outputs": [
    {
     "data": {
      "text/plain": [
       "1692"
      ]
     },
     "execution_count": 115,
     "metadata": {},
     "output_type": "execute_result"
    }
   ],
   "source": [
    "rounded_array[0][0]"
   ]
  },
  {
   "cell_type": "code",
   "execution_count": 116,
   "id": "7a62250b-5da8-436b-b88b-b0425c43c777",
   "metadata": {
    "execution": {
     "iopub.execute_input": "2024-05-30T17:36:34.481268Z",
     "iopub.status.busy": "2024-05-30T17:36:34.481268Z",
     "iopub.status.idle": "2024-05-30T17:36:34.496905Z",
     "shell.execute_reply": "2024-05-30T17:36:34.495889Z",
     "shell.execute_reply.started": "2024-05-30T17:36:34.481268Z"
    }
   },
   "outputs": [
    {
     "data": {
      "text/plain": [
       "1792"
      ]
     },
     "execution_count": 116,
     "metadata": {},
     "output_type": "execute_result"
    }
   ],
   "source": [
    "rounded_array[0][1]"
   ]
  },
  {
   "cell_type": "code",
   "execution_count": 117,
   "id": "4b7b5b45-e344-44b3-a151-4bd5b6f31954",
   "metadata": {
    "execution": {
     "iopub.execute_input": "2024-05-30T17:37:04.082800Z",
     "iopub.status.busy": "2024-05-30T17:37:04.082800Z",
     "iopub.status.idle": "2024-05-30T17:37:04.099669Z",
     "shell.execute_reply": "2024-05-30T17:37:04.098888Z",
     "shell.execute_reply.started": "2024-05-30T17:37:04.082800Z"
    }
   },
   "outputs": [
    {
     "data": {
      "text/plain": [
       "array([1, 1, 0, 1, 1, 1, 1, 1, 1, 3, 2, 0, 0, 1, 1, 0, 2, 2, 1, 1, 0, 1,\n",
       "       0, 0, 1, 1, 1, 1, 1, 0, 1, 0, 1, 0, 0, 1, 1, 0, 1, 1, 1, 0, 1, 0,\n",
       "       0, 0, 1, 0, 1, 1, 1, 1, 1, 2, 1, 0, 1, 1, 0, 1, 1, 0, 0, 0, 1, 1,\n",
       "       1, 1, 0, 0, 1, 2, 1, 0, 0, 2, 1, 2, 1, 0, 0, 0, 1, 0, 0, 1, 0, 1,\n",
       "       1, 1, 0, 1, 0, 0, 1, 1, 1, 0, 1, 0], dtype=int64)"
      ]
     },
     "execution_count": 117,
     "metadata": {},
     "output_type": "execute_result"
    }
   ],
   "source": [
    "recording1.unit_spiketrains[85][rounded_array[0][0]:rounded_array[0][1]]"
   ]
  },
  {
   "cell_type": "code",
   "execution_count": 119,
   "id": "fe0475fd-45fb-46b5-b82e-08204fbf477d",
   "metadata": {
    "execution": {
     "iopub.execute_input": "2024-05-30T17:39:17.009913Z",
     "iopub.status.busy": "2024-05-30T17:39:17.009913Z",
     "iopub.status.idle": "2024-05-30T17:39:17.042932Z",
     "shell.execute_reply": "2024-05-30T17:39:17.040428Z",
     "shell.execute_reply.started": "2024-05-30T17:39:17.009913Z"
    }
   },
   "outputs": [],
   "source": [
    "recording_event_spiketrains = []\n",
    "for key in recording1.unit_spiketrains:\n",
    "    recording_event_spiketrains.append(key)\n",
    "    "
   ]
  },
  {
   "cell_type": "code",
   "execution_count": 120,
   "id": "5d780137-5098-4691-aaf2-88a01efbc15e",
   "metadata": {
    "execution": {
     "iopub.execute_input": "2024-05-30T17:39:26.110801Z",
     "iopub.status.busy": "2024-05-30T17:39:26.110801Z",
     "iopub.status.idle": "2024-05-30T17:39:26.128157Z",
     "shell.execute_reply": "2024-05-30T17:39:26.128157Z",
     "shell.execute_reply.started": "2024-05-30T17:39:26.110801Z"
    }
   },
   "outputs": [
    {
     "data": {
      "text/plain": [
       "[85, 55, 17, 24, 68, 65, 98, 94, 2, 33, 13, 59, 81, 19, 88, 26, 5, 36, 57]"
      ]
     },
     "execution_count": 120,
     "metadata": {},
     "output_type": "execute_result"
    }
   ],
   "source": [
    "recording_event_spiketrains"
   ]
  },
  {
   "cell_type": "code",
   "execution_count": 129,
   "id": "744daf8d-8130-4dd0-8eb1-91bf7dc3cdb1",
   "metadata": {
    "execution": {
     "iopub.execute_input": "2024-05-30T17:47:46.532577Z",
     "iopub.status.busy": "2024-05-30T17:47:46.532577Z",
     "iopub.status.idle": "2024-05-30T17:47:46.544352Z",
     "shell.execute_reply": "2024-05-30T17:47:46.544352Z",
     "shell.execute_reply.started": "2024-05-30T17:47:46.532577Z"
    }
   },
   "outputs": [],
   "source": [
    "recording_event_spiketrains = {}\n",
    "for key in recording1.unit_spiketrains:\n",
    "  recording_event_spiketrains[key] = []  # Initialize an empty list for each key\n",
    "  for i in range(len(rounded_array)):\n",
    "    spiketrain_slice = recording1.unit_spiketrains[key][rounded_array[i][0]:rounded_array[i][1]]\n",
    "    recording_event_spiketrains[key].append(spiketrain_slice)"
   ]
  },
  {
   "cell_type": "code",
   "execution_count": 132,
   "id": "9d5b3334-ba86-4fea-94ad-6b8574487fe2",
   "metadata": {
    "execution": {
     "iopub.execute_input": "2024-05-30T17:56:41.475113Z",
     "iopub.status.busy": "2024-05-30T17:56:41.474808Z",
     "iopub.status.idle": "2024-05-30T17:56:41.496902Z",
     "shell.execute_reply": "2024-05-30T17:56:41.496902Z",
     "shell.execute_reply.started": "2024-05-30T17:56:41.475113Z"
    }
   },
   "outputs": [
    {
     "data": {
      "text/plain": [
       "array([1, 1, 0, 1, 1, 1, 1, 1, 1, 3, 2, 0, 0, 1, 1, 0, 2, 2, 1, 1, 0, 1,\n",
       "       0, 0, 1, 1, 1, 1, 1, 0, 1, 0, 1, 0, 0, 1, 1, 0, 1, 1, 1, 0, 1, 0,\n",
       "       0, 0, 1, 0, 1, 1, 1, 1, 1, 2, 1, 0, 1, 1, 0, 1, 1, 0, 0, 0, 1, 1,\n",
       "       1, 1, 0, 0, 1, 2, 1, 0, 0, 2, 1, 2, 1, 0, 0, 0, 1, 0, 0, 1, 0, 1,\n",
       "       1, 1, 0, 1, 0, 0, 1, 1, 1, 0, 1, 0], dtype=int64)"
      ]
     },
     "execution_count": 132,
     "metadata": {},
     "output_type": "execute_result"
    }
   ],
   "source": [
    "recording_event_spiketrains[85][0]"
   ]
  },
  {
   "cell_type": "code",
   "execution_count": 139,
   "id": "f47db62d-2fd6-479f-9f40-8ffce45d201b",
   "metadata": {
    "execution": {
     "iopub.execute_input": "2024-05-30T18:30:28.834161Z",
     "iopub.status.busy": "2024-05-30T18:30:28.819148Z",
     "iopub.status.idle": "2024-05-30T18:30:29.059320Z",
     "shell.execute_reply": "2024-05-30T18:30:29.059320Z",
     "shell.execute_reply.started": "2024-05-30T18:30:28.834161Z"
    }
   },
   "outputs": [
    {
     "data": {
      "text/html": [
       "<div>\n",
       "<style scoped>\n",
       "    .dataframe tbody tr th:only-of-type {\n",
       "        vertical-align: middle;\n",
       "    }\n",
       "\n",
       "    .dataframe tbody tr th {\n",
       "        vertical-align: top;\n",
       "    }\n",
       "\n",
       "    .dataframe thead th {\n",
       "        text-align: right;\n",
       "    }\n",
       "</style>\n",
       "<table border=\"1\" class=\"dataframe\">\n",
       "  <thead>\n",
       "    <tr style=\"text-align: right;\">\n",
       "      <th></th>\n",
       "      <th>unit</th>\n",
       "      <th>event</th>\n",
       "      <th>bin_1</th>\n",
       "      <th>bin_2</th>\n",
       "      <th>bin_3</th>\n",
       "      <th>bin_4</th>\n",
       "      <th>bin_5</th>\n",
       "      <th>bin_6</th>\n",
       "      <th>bin_7</th>\n",
       "      <th>bin_8</th>\n",
       "      <th>...</th>\n",
       "      <th>bin_91</th>\n",
       "      <th>bin_92</th>\n",
       "      <th>bin_93</th>\n",
       "      <th>bin_94</th>\n",
       "      <th>bin_95</th>\n",
       "      <th>bin_96</th>\n",
       "      <th>bin_97</th>\n",
       "      <th>bin_98</th>\n",
       "      <th>bin_99</th>\n",
       "      <th>bin_100</th>\n",
       "    </tr>\n",
       "  </thead>\n",
       "  <tbody>\n",
       "    <tr>\n",
       "      <th>0</th>\n",
       "      <td>85</td>\n",
       "      <td>1</td>\n",
       "      <td>1</td>\n",
       "      <td>1</td>\n",
       "      <td>0</td>\n",
       "      <td>1</td>\n",
       "      <td>1</td>\n",
       "      <td>1</td>\n",
       "      <td>1</td>\n",
       "      <td>1</td>\n",
       "      <td>...</td>\n",
       "      <td>0</td>\n",
       "      <td>1</td>\n",
       "      <td>0</td>\n",
       "      <td>0</td>\n",
       "      <td>1</td>\n",
       "      <td>1</td>\n",
       "      <td>1</td>\n",
       "      <td>0</td>\n",
       "      <td>1</td>\n",
       "      <td>0</td>\n",
       "    </tr>\n",
       "    <tr>\n",
       "      <th>1</th>\n",
       "      <td>85</td>\n",
       "      <td>2</td>\n",
       "      <td>0</td>\n",
       "      <td>0</td>\n",
       "      <td>1</td>\n",
       "      <td>0</td>\n",
       "      <td>0</td>\n",
       "      <td>0</td>\n",
       "      <td>1</td>\n",
       "      <td>0</td>\n",
       "      <td>...</td>\n",
       "      <td>2</td>\n",
       "      <td>0</td>\n",
       "      <td>1</td>\n",
       "      <td>0</td>\n",
       "      <td>0</td>\n",
       "      <td>0</td>\n",
       "      <td>1</td>\n",
       "      <td>1</td>\n",
       "      <td>0</td>\n",
       "      <td>0</td>\n",
       "    </tr>\n",
       "    <tr>\n",
       "      <th>2</th>\n",
       "      <td>85</td>\n",
       "      <td>3</td>\n",
       "      <td>0</td>\n",
       "      <td>0</td>\n",
       "      <td>0</td>\n",
       "      <td>0</td>\n",
       "      <td>0</td>\n",
       "      <td>0</td>\n",
       "      <td>0</td>\n",
       "      <td>0</td>\n",
       "      <td>...</td>\n",
       "      <td>0</td>\n",
       "      <td>0</td>\n",
       "      <td>0</td>\n",
       "      <td>5</td>\n",
       "      <td>3</td>\n",
       "      <td>0</td>\n",
       "      <td>0</td>\n",
       "      <td>0</td>\n",
       "      <td>1</td>\n",
       "      <td>0</td>\n",
       "    </tr>\n",
       "    <tr>\n",
       "      <th>3</th>\n",
       "      <td>85</td>\n",
       "      <td>4</td>\n",
       "      <td>0</td>\n",
       "      <td>0</td>\n",
       "      <td>0</td>\n",
       "      <td>0</td>\n",
       "      <td>0</td>\n",
       "      <td>0</td>\n",
       "      <td>0</td>\n",
       "      <td>0</td>\n",
       "      <td>...</td>\n",
       "      <td>0</td>\n",
       "      <td>0</td>\n",
       "      <td>0</td>\n",
       "      <td>0</td>\n",
       "      <td>0</td>\n",
       "      <td>0</td>\n",
       "      <td>0</td>\n",
       "      <td>0</td>\n",
       "      <td>0</td>\n",
       "      <td>0</td>\n",
       "    </tr>\n",
       "    <tr>\n",
       "      <th>4</th>\n",
       "      <td>85</td>\n",
       "      <td>5</td>\n",
       "      <td>0</td>\n",
       "      <td>0</td>\n",
       "      <td>0</td>\n",
       "      <td>0</td>\n",
       "      <td>0</td>\n",
       "      <td>0</td>\n",
       "      <td>0</td>\n",
       "      <td>0</td>\n",
       "      <td>...</td>\n",
       "      <td>0</td>\n",
       "      <td>0</td>\n",
       "      <td>0</td>\n",
       "      <td>0</td>\n",
       "      <td>0</td>\n",
       "      <td>0</td>\n",
       "      <td>0</td>\n",
       "      <td>0</td>\n",
       "      <td>0</td>\n",
       "      <td>0</td>\n",
       "    </tr>\n",
       "    <tr>\n",
       "      <th>...</th>\n",
       "      <td>...</td>\n",
       "      <td>...</td>\n",
       "      <td>...</td>\n",
       "      <td>...</td>\n",
       "      <td>...</td>\n",
       "      <td>...</td>\n",
       "      <td>...</td>\n",
       "      <td>...</td>\n",
       "      <td>...</td>\n",
       "      <td>...</td>\n",
       "      <td>...</td>\n",
       "      <td>...</td>\n",
       "      <td>...</td>\n",
       "      <td>...</td>\n",
       "      <td>...</td>\n",
       "      <td>...</td>\n",
       "      <td>...</td>\n",
       "      <td>...</td>\n",
       "      <td>...</td>\n",
       "      <td>...</td>\n",
       "      <td>...</td>\n",
       "    </tr>\n",
       "    <tr>\n",
       "      <th>242</th>\n",
       "      <td>57</td>\n",
       "      <td>9</td>\n",
       "      <td>0</td>\n",
       "      <td>0</td>\n",
       "      <td>0</td>\n",
       "      <td>0</td>\n",
       "      <td>0</td>\n",
       "      <td>0</td>\n",
       "      <td>0</td>\n",
       "      <td>0</td>\n",
       "      <td>...</td>\n",
       "      <td>0</td>\n",
       "      <td>0</td>\n",
       "      <td>0</td>\n",
       "      <td>0</td>\n",
       "      <td>0</td>\n",
       "      <td>0</td>\n",
       "      <td>0</td>\n",
       "      <td>0</td>\n",
       "      <td>0</td>\n",
       "      <td>0</td>\n",
       "    </tr>\n",
       "    <tr>\n",
       "      <th>243</th>\n",
       "      <td>57</td>\n",
       "      <td>10</td>\n",
       "      <td>0</td>\n",
       "      <td>0</td>\n",
       "      <td>0</td>\n",
       "      <td>0</td>\n",
       "      <td>0</td>\n",
       "      <td>0</td>\n",
       "      <td>0</td>\n",
       "      <td>0</td>\n",
       "      <td>...</td>\n",
       "      <td>0</td>\n",
       "      <td>0</td>\n",
       "      <td>0</td>\n",
       "      <td>0</td>\n",
       "      <td>0</td>\n",
       "      <td>0</td>\n",
       "      <td>0</td>\n",
       "      <td>0</td>\n",
       "      <td>0</td>\n",
       "      <td>0</td>\n",
       "    </tr>\n",
       "    <tr>\n",
       "      <th>244</th>\n",
       "      <td>57</td>\n",
       "      <td>11</td>\n",
       "      <td>0</td>\n",
       "      <td>0</td>\n",
       "      <td>0</td>\n",
       "      <td>0</td>\n",
       "      <td>0</td>\n",
       "      <td>0</td>\n",
       "      <td>0</td>\n",
       "      <td>0</td>\n",
       "      <td>...</td>\n",
       "      <td>0</td>\n",
       "      <td>0</td>\n",
       "      <td>0</td>\n",
       "      <td>0</td>\n",
       "      <td>0</td>\n",
       "      <td>0</td>\n",
       "      <td>0</td>\n",
       "      <td>1</td>\n",
       "      <td>0</td>\n",
       "      <td>0</td>\n",
       "    </tr>\n",
       "    <tr>\n",
       "      <th>245</th>\n",
       "      <td>57</td>\n",
       "      <td>12</td>\n",
       "      <td>0</td>\n",
       "      <td>0</td>\n",
       "      <td>0</td>\n",
       "      <td>0</td>\n",
       "      <td>0</td>\n",
       "      <td>0</td>\n",
       "      <td>0</td>\n",
       "      <td>0</td>\n",
       "      <td>...</td>\n",
       "      <td>0</td>\n",
       "      <td>0</td>\n",
       "      <td>0</td>\n",
       "      <td>0</td>\n",
       "      <td>0</td>\n",
       "      <td>0</td>\n",
       "      <td>0</td>\n",
       "      <td>0</td>\n",
       "      <td>0</td>\n",
       "      <td>0</td>\n",
       "    </tr>\n",
       "    <tr>\n",
       "      <th>246</th>\n",
       "      <td>57</td>\n",
       "      <td>13</td>\n",
       "      <td>0</td>\n",
       "      <td>0</td>\n",
       "      <td>0</td>\n",
       "      <td>0</td>\n",
       "      <td>0</td>\n",
       "      <td>0</td>\n",
       "      <td>1</td>\n",
       "      <td>0</td>\n",
       "      <td>...</td>\n",
       "      <td>0</td>\n",
       "      <td>0</td>\n",
       "      <td>0</td>\n",
       "      <td>0</td>\n",
       "      <td>0</td>\n",
       "      <td>0</td>\n",
       "      <td>0</td>\n",
       "      <td>0</td>\n",
       "      <td>0</td>\n",
       "      <td>0</td>\n",
       "    </tr>\n",
       "  </tbody>\n",
       "</table>\n",
       "<p>247 rows × 102 columns</p>\n",
       "</div>"
      ],
      "text/plain": [
       "    unit  event  bin_1  bin_2  bin_3  bin_4  bin_5  bin_6  bin_7  bin_8  ...  \\\n",
       "0     85      1      1      1      0      1      1      1      1      1  ...   \n",
       "1     85      2      0      0      1      0      0      0      1      0  ...   \n",
       "2     85      3      0      0      0      0      0      0      0      0  ...   \n",
       "3     85      4      0      0      0      0      0      0      0      0  ...   \n",
       "4     85      5      0      0      0      0      0      0      0      0  ...   \n",
       "..   ...    ...    ...    ...    ...    ...    ...    ...    ...    ...  ...   \n",
       "242   57      9      0      0      0      0      0      0      0      0  ...   \n",
       "243   57     10      0      0      0      0      0      0      0      0  ...   \n",
       "244   57     11      0      0      0      0      0      0      0      0  ...   \n",
       "245   57     12      0      0      0      0      0      0      0      0  ...   \n",
       "246   57     13      0      0      0      0      0      0      1      0  ...   \n",
       "\n",
       "     bin_91  bin_92  bin_93  bin_94  bin_95  bin_96  bin_97  bin_98  bin_99  \\\n",
       "0         0       1       0       0       1       1       1       0       1   \n",
       "1         2       0       1       0       0       0       1       1       0   \n",
       "2         0       0       0       5       3       0       0       0       1   \n",
       "3         0       0       0       0       0       0       0       0       0   \n",
       "4         0       0       0       0       0       0       0       0       0   \n",
       "..      ...     ...     ...     ...     ...     ...     ...     ...     ...   \n",
       "242       0       0       0       0       0       0       0       0       0   \n",
       "243       0       0       0       0       0       0       0       0       0   \n",
       "244       0       0       0       0       0       0       0       1       0   \n",
       "245       0       0       0       0       0       0       0       0       0   \n",
       "246       0       0       0       0       0       0       0       0       0   \n",
       "\n",
       "     bin_100  \n",
       "0          0  \n",
       "1          0  \n",
       "2          0  \n",
       "3          0  \n",
       "4          0  \n",
       "..       ...  \n",
       "242        0  \n",
       "243        0  \n",
       "244        0  \n",
       "245        0  \n",
       "246        0  \n",
       "\n",
       "[247 rows x 102 columns]"
      ]
     },
     "execution_count": 139,
     "metadata": {},
     "output_type": "execute_result"
    }
   ],
   "source": [
    "def create_spiketrain_df(recording_event_spiketrains):\n",
    "  data = []\n",
    "  for unit, spiketrain_list in recording_event_spiketrains.items():\n",
    "    for i, spiketrain in enumerate(spiketrain_list):\n",
    "      row_data = [str(unit), i+1]\n",
    "      row_data.extend(spiketrain)\n",
    "      data.append(row_data)\n",
    "  df = pd.DataFrame(data, columns=[\"unit\", \"event\"] + [f\"bin_{i+1}\" for i in range(len(spiketrain_list[0]))])\n",
    "  return df\n",
    "\n",
    "spiketrain_df = create_spiketrain_df(recording_event_spiketrains)\n",
    "spiketrain_df"
   ]
  },
  {
   "cell_type": "code",
   "execution_count": 140,
   "id": "1d3a7e11-61d4-4da0-884e-ac997aa74cd3",
   "metadata": {
    "execution": {
     "iopub.execute_input": "2024-05-30T18:32:45.961220Z",
     "iopub.status.busy": "2024-05-30T18:32:45.961220Z",
     "iopub.status.idle": "2024-05-30T18:32:45.977171Z",
     "shell.execute_reply": "2024-05-30T18:32:45.974654Z",
     "shell.execute_reply.started": "2024-05-30T18:32:45.961220Z"
    }
   },
   "outputs": [
    {
     "data": {
      "text/plain": [
       "{'20230612_101430_standard_comp_to_training_D1_subj_1-3_t3b3L_box2_merged.rec': <multirecording_spikeanalysis_edit.EphysRecording at 0x1daa378ac90>,\n",
       " '20230617_115521_standard_comp_to_omission_D1_subj_1-1_t1b3L_box1_merged.rec': <multirecording_spikeanalysis_edit.EphysRecording at 0x1daa3a6d850>,\n",
       " '20230622_110832_standard_comp_to_both_rewarded_D1_subj_1-1_t1b3L_box1_merged.rec': <multirecording_spikeanalysis_edit.EphysRecording at 0x1daa38a7b10>}"
      ]
     },
     "execution_count": 140,
     "metadata": {},
     "output_type": "execute_result"
    }
   ],
   "source": [
    "recordings"
   ]
  },
  {
   "cell_type": "code",
   "execution_count": 141,
   "id": "6ae9adf0-242f-49ee-9ed8-55a31f6e5ebf",
   "metadata": {
    "execution": {
     "iopub.execute_input": "2024-05-30T18:32:57.776476Z",
     "iopub.status.busy": "2024-05-30T18:32:57.776476Z",
     "iopub.status.idle": "2024-05-30T18:32:57.796641Z",
     "shell.execute_reply": "2024-05-30T18:32:57.796641Z",
     "shell.execute_reply.started": "2024-05-30T18:32:57.776476Z"
    }
   },
   "outputs": [
    {
     "name": "stdout",
     "output_type": "stream",
     "text": [
      "20230612_101430_standard_comp_to_training_D1_subj_1-3_t3b3L_box2_merged.rec\n",
      "20230617_115521_standard_comp_to_omission_D1_subj_1-1_t1b3L_box1_merged.rec\n",
      "20230622_110832_standard_comp_to_both_rewarded_D1_subj_1-1_t1b3L_box1_merged.rec\n"
     ]
    }
   ],
   "source": [
    "for key in recordings:\n",
    "    print (key)"
   ]
  },
  {
   "cell_type": "code",
   "execution_count": 142,
   "id": "af33c05f-3f29-4a7c-be1d-10cc1aafab45",
   "metadata": {
    "execution": {
     "iopub.execute_input": "2024-05-30T18:33:13.030201Z",
     "iopub.status.busy": "2024-05-30T18:33:13.030201Z",
     "iopub.status.idle": "2024-05-30T18:33:13.046347Z",
     "shell.execute_reply": "2024-05-30T18:33:13.046347Z",
     "shell.execute_reply.started": "2024-05-30T18:33:13.030201Z"
    }
   },
   "outputs": [
    {
     "name": "stdout",
     "output_type": "stream",
     "text": [
      "20230612_101430_standard_comp_to_training_D1_subj_1-3_t3b3L_box2_merged.rec\n",
      "20230617_115521_standard_comp_to_omission_D1_subj_1-1_t1b3L_box1_merged.rec\n",
      "20230622_110832_standard_comp_to_both_rewarded_D1_subj_1-1_t1b3L_box1_merged.rec\n"
     ]
    }
   ],
   "source": [
    "for i in recordings:\n",
    "    print (i)"
   ]
  },
  {
   "cell_type": "code",
   "execution_count": 143,
   "id": "a51b5c92-791c-47f0-bc75-2921577ec0b1",
   "metadata": {
    "execution": {
     "iopub.execute_input": "2024-05-30T18:34:53.663505Z",
     "iopub.status.busy": "2024-05-30T18:34:53.663505Z",
     "iopub.status.idle": "2024-05-30T18:34:53.683521Z",
     "shell.execute_reply": "2024-05-30T18:34:53.683521Z",
     "shell.execute_reply.started": "2024-05-30T18:34:53.663505Z"
    }
   },
   "outputs": [
    {
     "data": {
      "text/plain": [
       "{'rewarded': array([[1849109, 1859109],\n",
       "        [1909109, 1919109],\n",
       "        [1964109, 1974109],\n",
       "        [2029109, 2039109],\n",
       "        [2084109, 2094109],\n",
       "        [2134109, 2144109],\n",
       "        [2184109, 2194109],\n",
       "        [2289109, 2299109],\n",
       "        [2409109, 2419109],\n",
       "        [2529109, 2539109],\n",
       "        [2639109, 2649109],\n",
       "        [2724109, 2734109],\n",
       "        [2844109, 2854109],\n",
       "        [2904109, 2914109],\n",
       "        [2969109, 2979109],\n",
       "        [3029109, 3039109],\n",
       "        [3104108, 3114109],\n",
       "        [3204108, 3214109],\n",
       "        [3299108, 3309108],\n",
       "        [3349108, 3359108]], dtype=int64),\n",
       " 'win': array([[ 169111,  179111],\n",
       "        [ 479111,  489111],\n",
       "        [ 649110,  659110],\n",
       "        [ 754110,  764110],\n",
       "        [ 804110,  814110],\n",
       "        [ 884110,  894110],\n",
       "        [ 949110,  959110],\n",
       "        [1014110, 1024110],\n",
       "        [1134110, 1144110],\n",
       "        [1309110, 1319110],\n",
       "        [1379110, 1389110],\n",
       "        [1489110, 1499110],\n",
       "        [1549110, 1559110]], dtype=int64),\n",
       " 'lose': array([[  49111,   59111],\n",
       "        [ 284111,  294111],\n",
       "        [ 374111,  384111],\n",
       "        [ 429111,  439111],\n",
       "        [ 574111,  584111],\n",
       "        [1064110, 1074110],\n",
       "        [1229110, 1239110]], dtype=int64),\n",
       " 'omission': array([], dtype=int64),\n",
       " 'both_rewarded': array([], dtype=int64),\n",
       " 'tie': array([], dtype=int64)}"
      ]
     },
     "execution_count": 143,
     "metadata": {},
     "output_type": "execute_result"
    }
   ],
   "source": [
    "recording1.event_dict"
   ]
  },
  {
   "cell_type": "code",
   "execution_count": 147,
   "id": "1da83130-e71f-4afc-9d8f-bd138be67938",
   "metadata": {
    "execution": {
     "iopub.execute_input": "2024-05-30T18:37:32.682958Z",
     "iopub.status.busy": "2024-05-30T18:37:32.682958Z",
     "iopub.status.idle": "2024-05-30T18:37:32.692088Z",
     "shell.execute_reply": "2024-05-30T18:37:32.692088Z",
     "shell.execute_reply.started": "2024-05-30T18:37:32.682958Z"
    }
   },
   "outputs": [
    {
     "name": "stdout",
     "output_type": "stream",
     "text": [
      "rewarded\n",
      "win\n",
      "lose\n",
      "omission\n",
      "both_rewarded\n",
      "tie\n"
     ]
    }
   ],
   "source": [
    "for (event_name, event_array) in recording1.event_dict.items():\n",
    "    print (event_name)"
   ]
  },
  {
   "cell_type": "code",
   "execution_count": null,
   "id": "3f2ab13f-a4c9-4923-97cd-6cc153256341",
   "metadata": {},
   "outputs": [],
   "source": []
  }
 ],
 "metadata": {
  "kernelspec": {
   "display_name": "Python 3 (ipykernel)",
   "language": "python",
   "name": "python3"
  },
  "language_info": {
   "codemirror_mode": {
    "name": "ipython",
    "version": 3
   },
   "file_extension": ".py",
   "mimetype": "text/x-python",
   "name": "python",
   "nbconvert_exporter": "python",
   "pygments_lexer": "ipython3",
   "version": "3.11.7"
  }
 },
 "nbformat": 4,
 "nbformat_minor": 5
}
