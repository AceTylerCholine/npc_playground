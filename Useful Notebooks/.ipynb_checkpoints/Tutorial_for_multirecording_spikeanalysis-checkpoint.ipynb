{
 "cells": [
  {
   "cell_type": "markdown",
   "id": "1d1b795c-495e-49bb-8714-01a18850ac9b",
   "metadata": {},
   "source": [
    "# EPhys Data Analysis Tutorial\n",
    "\n",
    "This tutorial demonstrates a step-by-step approach to processing electrophysiology (EPhys) data for analysis using Meghan's multirecording_spikeanalysis script, the RCE Pilot 2 behavior spreadsheet, and directories of phy folders (with spike_times.npy, spike_clusters.npy, & cluster_group.tsv) for each ephys recording.\n",
    "\n",
    "## Setup\n",
    "\n",
    "Import all the libraries you'll be using, including Meghan's multirecording_spikeanalysis.py:"
   ]
  },
  {
   "cell_type": "code",
   "execution_count": 1,
   "id": "81770ad7-1919-4116-b994-5cdc0d77da9f",
   "metadata": {
    "execution": {
     "iopub.execute_input": "2024-05-09T16:14:26.482976Z",
     "iopub.status.busy": "2024-05-09T16:14:26.482976Z",
     "iopub.status.idle": "2024-05-09T16:14:30.607338Z",
     "shell.execute_reply": "2024-05-09T16:14:30.607338Z",
     "shell.execute_reply.started": "2024-05-09T16:14:26.482976Z"
    },
    "tags": []
   },
   "outputs": [],
   "source": [
    "import pandas as pd\n",
    "import numpy as np\n",
    "import ast\n",
    "import pickle\n",
    "from pathlib import Path\n",
    "import multirecording_spikeanalysis as spike\n",
    "from statistics import mean, StatisticsError"
   ]
  },
  {
   "cell_type": "markdown",
   "id": "1695e1cb-5bf4-4fe2-979b-f1f2cb4fb677",
   "metadata": {},
   "source": [
    "## Data Loading\n",
    "First, we load the relevant EPhys data from the RCE Pilot 2 spreadsheet:"
   ]
  },
  {
   "cell_type": "code",
   "execution_count": 2,
   "id": "4875ae34-edf9-45e8-a7e0-49a1661231b2",
   "metadata": {
    "execution": {
     "iopub.execute_input": "2024-05-09T16:14:30.607338Z",
     "iopub.status.busy": "2024-05-09T16:14:30.607338Z",
     "iopub.status.idle": "2024-05-09T16:14:31.553898Z",
     "shell.execute_reply": "2024-05-09T16:14:31.553898Z",
     "shell.execute_reply.started": "2024-05-09T16:14:30.607338Z"
    },
    "tags": []
   },
   "outputs": [],
   "source": [
    "cols = ['condition ', 'session_dir', 'all_subjects', 'tone_start_timestamp', 'tone_stop_timestamp']\n",
    "\n",
    "# Load the data\n",
    "df = pd.read_excel('rce_pilot_2_per_video_trial_labels.xlsx', usecols=cols, engine='openpyxl')"
   ]
  },
  {
   "cell_type": "markdown",
   "id": "b0aac8f4-0a3d-4b6c-8d6b-737ad89a1c5b",
   "metadata": {},
   "source": [
    "## Preprocessing\n",
    "\n",
    "Next, we rearrange the spreadsheet in order for it to prepare it for ephys recordings:"
   ]
  },
  {
   "cell_type": "code",
   "execution_count": 3,
   "id": "3cc1b799-5a71-43ea-8f9e-f38cce47dd99",
   "metadata": {
    "execution": {
     "iopub.execute_input": "2024-05-09T16:14:31.555407Z",
     "iopub.status.busy": "2024-05-09T16:14:31.555407Z",
     "iopub.status.idle": "2024-05-09T16:14:31.596710Z",
     "shell.execute_reply": "2024-05-09T16:14:31.596710Z",
     "shell.execute_reply.started": "2024-05-09T16:14:31.555407Z"
    },
    "tags": []
   },
   "outputs": [],
   "source": [
    "df2 = df.dropna() # Drop the rows missing data\n",
    "df3 = df2.copy()\n",
    "df3['all_subjects'] = df3['all_subjects'].apply(lambda x: ast.literal_eval(x) if isinstance(x, str) else x) # Make the 'all_subjects' column readable as a list\n",
    "df4 = df3[df3['all_subjects'].apply(lambda x: len(x) < 3)] # Ignore novel sessions for now"
   ]
  },
  {
   "cell_type": "markdown",
   "id": "539f0136-d2f4-42bc-bd55-a01367e569de",
   "metadata": {},
   "source": [
    "## Data Structuring\n",
    "We'll structure the data into a new DataFrame that aligns with our analysis goals:"
   ]
  },
  {
   "cell_type": "code",
   "execution_count": 4,
   "id": "112f9507-69df-4874-8db4-2dda8571c338",
   "metadata": {
    "execution": {
     "iopub.execute_input": "2024-05-09T16:14:31.596710Z",
     "iopub.status.busy": "2024-05-09T16:14:31.596710Z",
     "iopub.status.idle": "2024-05-09T16:14:31.693721Z",
     "shell.execute_reply": "2024-05-09T16:14:31.693721Z",
     "shell.execute_reply.started": "2024-05-09T16:14:31.596710Z"
    },
    "tags": []
   },
   "outputs": [],
   "source": [
    "# Initialize an empty list to collect data for the new DataFrame\n",
    "new_df_data = []\n",
    "\n",
    "for _, row in df4.iterrows():\n",
    "    session_dir = row['session_dir']\n",
    "    subjects = row['all_subjects']\n",
    "    condition = row['condition ']\n",
    "\n",
    "    # Split session_dir on '_subj_' and take the first part only\n",
    "    # This ensures everything after '_subj_' is ignored\n",
    "    base_session_dir = session_dir.split('_subj_')[0]\n",
    "\n",
    "    for subject in subjects:\n",
    "        subject_formatted = subject.replace('.', '-')\n",
    "        # Append formatted subject to the base session_dir correctly\n",
    "        subj_recording = f\"{base_session_dir}_subj_{subject_formatted}\"\n",
    "        new_df_data.append({\n",
    "            'session_dir': session_dir,\n",
    "            'subject': subject,\n",
    "            'subj_recording': subj_recording,\n",
    "            'condition': condition if condition in ['rewarded', 'omission', 'both_rewarded', 'tie'] else ('win' if str(condition) == str(subject) else 'lose'),\n",
    "            'tone_start_timestamp': row['tone_start_timestamp'],\n",
    "            'tone_stop_timestamp': row['tone_stop_timestamp']\n",
    "        })\n",
    "\n",
    "# Convert list to DataFrame\n",
    "new_df = pd.DataFrame(new_df_data)\n",
    "new_df = new_df.drop_duplicates()"
   ]
  },
  {
   "cell_type": "markdown",
   "id": "0efe64e4-6bad-4d03-b01a-1471e5710258",
   "metadata": {},
   "source": [
    "## Timestamp Dictionary Preparation\n",
    "Prepare dictionaries of event timestamps to match with the ephys recordings:"
   ]
  },
  {
   "cell_type": "code",
   "execution_count": 5,
   "id": "c5284a66-5274-4f20-a0f2-82e64e122a33",
   "metadata": {
    "execution": {
     "iopub.execute_input": "2024-05-09T16:14:31.693721Z",
     "iopub.status.busy": "2024-05-09T16:14:31.693721Z",
     "iopub.status.idle": "2024-05-09T16:14:31.808053Z",
     "shell.execute_reply": "2024-05-09T16:14:31.808053Z",
     "shell.execute_reply.started": "2024-05-09T16:14:31.693721Z"
    },
    "tags": []
   },
   "outputs": [],
   "source": [
    "# Prepare timestamp_dicts from new_df\n",
    "timestamp_dicts = {}\n",
    "for _, row in new_df.iterrows():\n",
    "    key = row['subj_recording']\n",
    "    condition = row['condition']\n",
    "    timestamp_start = int(row['tone_start_timestamp']) // 20\n",
    "    timestamp_end = int(row['tone_stop_timestamp']) // 20\n",
    "    tuple_val = (timestamp_start, timestamp_end)\n",
    "\n",
    "    if key not in timestamp_dicts:\n",
    "        timestamp_dicts[key] = {cond: [] for cond in ['rewarded', 'win', 'lose', 'omission', 'both_rewarded', 'tie']}\n",
    "    timestamp_dicts[key][condition].append(tuple_val)\n",
    "\n",
    "# Convert lists in timestamp_dicts to numpy arrays\n",
    "for subj_recording in timestamp_dicts:\n",
    "    for condition in timestamp_dicts[subj_recording]:\n",
    "        timestamp_dicts[subj_recording][condition] = np.array(timestamp_dicts[subj_recording][condition], dtype=np.int64)"
   ]
  },
  {
   "cell_type": "markdown",
   "id": "c537d178-124d-4cd2-921d-d6de5d3f254c",
   "metadata": {},
   "source": [
    "## EPhys Recording Collection\n",
    "Load EPhys recordings:"
   ]
  },
  {
   "cell_type": "code",
   "execution_count": 6,
   "id": "3b94ceca-39f0-4933-a018-a5858d86bf27",
   "metadata": {
    "execution": {
     "iopub.execute_input": "2024-05-09T16:14:31.808053Z",
     "iopub.status.busy": "2024-05-09T16:14:31.808053Z",
     "iopub.status.idle": "2024-05-09T16:15:15.975080Z",
     "shell.execute_reply": "2024-05-09T16:15:15.975080Z",
     "shell.execute_reply.started": "2024-05-09T16:14:31.808053Z"
    },
    "tags": []
   },
   "outputs": [
    {
     "name": "stdout",
     "output_type": "stream",
     "text": [
      "<class 'numpy.ndarray'>\n",
      "<class 'numpy.ndarray'>\n",
      "20230612_101430_standard_comp_to_training_D1_subj_1-3_t3b3L_box2_merged.rec\n",
      "<class 'numpy.ndarray'>\n",
      "<class 'numpy.ndarray'>\n",
      "20230617_115521_standard_comp_to_omission_D1_subj_1-1_t1b3L_box1_merged.rec\n",
      "<class 'numpy.ndarray'>\n",
      "<class 'numpy.ndarray'>\n",
      "20230617_115521_standard_comp_to_omission_D1_subj_1-2_t2b2L_box2_merged.rec\n",
      "<class 'numpy.ndarray'>\n",
      "<class 'numpy.ndarray'>\n",
      "20230618_100636_standard_comp_to_omission_D2_subj_1-1_t1b2L_box2_merged.rec\n",
      "<class 'numpy.ndarray'>\n",
      "<class 'numpy.ndarray'>\n",
      "20230618_100636_standard_comp_to_omission_D2_subj_1-4_t4b3L_box1_merged.rec\n",
      "<class 'numpy.ndarray'>\n",
      "<class 'numpy.ndarray'>\n",
      "20230619_115321_standard_comp_to_omission_D3_subj_1-4_t3b3L_box2_merged.rec\n",
      "<class 'numpy.ndarray'>\n",
      "<class 'numpy.ndarray'>\n",
      "20230620_114347_standard_comp_to_omission_D4_subj_1-1_t1b2L_box_2_merged.rec\n",
      "<class 'numpy.ndarray'>\n",
      "<class 'numpy.ndarray'>\n",
      "20230620_114347_standard_comp_to_omission_D4_subj_1-2_t3b3L_box_1_merged.rec\n",
      "<class 'numpy.ndarray'>\n",
      "<class 'numpy.ndarray'>\n",
      "20230621_111240_standard_comp_to_omission_D5_subj_1-4_t3b3L_box1_merged.rec\n",
      "<class 'numpy.ndarray'>\n",
      "<class 'numpy.ndarray'>\n",
      "Unit 92 is unsorted & has 2494 spikes\n",
      "Unit 92 will be deleted\n",
      "20230622_110832_standard_comp_to_both_rewarded_D1_subj_1-1_t1b3L_box1_merged.rec\n",
      "<class 'numpy.ndarray'>\n",
      "<class 'numpy.ndarray'>\n",
      "Unit 103 is unsorted & has 512 spikes\n",
      "Unit 103 will be deleted\n",
      "20230622_110832_standard_comp_to_both_rewarded_D1_subj_1-2_t3b3L_box1_merged.rec\n",
      "<class 'numpy.ndarray'>\n",
      "<class 'numpy.ndarray'>\n",
      "20230624_105855_standard_comp_to_both_rewarded_D3_subj_1-2_t1b2L_box1_merged.rec\n",
      "<class 'numpy.ndarray'>\n",
      "<class 'numpy.ndarray'>\n",
      "20230624_105855_standard_comp_to_both_rewarded_D3_subj_1-4_t3b3L_box1_merged.rec\n",
      "<class 'numpy.ndarray'>\n",
      "<class 'numpy.ndarray'>\n",
      "20230625_112913_standard_comp_to_both_rewarded_D4_subj_1-1_t1b2L_box1_merged.rec\n",
      "<class 'numpy.ndarray'>\n",
      "<class 'numpy.ndarray'>\n",
      "Unit 96 is unsorted & has 5811 spikes\n",
      "Unit 96 will be deleted\n",
      "Unit 95 is unsorted & has 6458 spikes\n",
      "Unit 95 will be deleted\n",
      "20230625_112913_standard_comp_to_both_rewarded_D4_subj_1-4_t3b3L_box1_merged.rec\n",
      "Please assign event dictionaries to each recording\n",
      "as recording.event_dict\n",
      "event_dict = {event name(str): np.array[[start(ms), stop(ms)]...]\n",
      "Please assign subjects to each recording as recording.subject\n"
     ]
    }
   ],
   "source": [
    "# Construct the path in a platform-independent way (HiPerGator or Windows)\n",
    "ephys_path = Path('.') / 'export' / 'updated_phys' / 'non-novel' / 'all_non_novel'\n",
    "\n",
    "ephys_data = spike.EphysRecordingCollection(str(ephys_path))"
   ]
  },
  {
   "cell_type": "markdown",
   "id": "bdab04be-9f97-41d5-86b8-7f33318c00bf",
   "metadata": {},
   "source": [
    "## Assign Dictionaries to Collection\n",
    "Create dictionaries for each recording, and assign it and the subject number to the recording:"
   ]
  },
  {
   "cell_type": "code",
   "execution_count": 7,
   "id": "8ac0dc2f-c4d9-4601-8dec-cd65d6be3ac5",
   "metadata": {
    "execution": {
     "iopub.execute_input": "2024-05-09T16:15:15.975080Z",
     "iopub.status.busy": "2024-05-09T16:15:15.975080Z",
     "iopub.status.idle": "2024-05-09T16:15:15.986761Z",
     "shell.execute_reply": "2024-05-09T16:15:15.986761Z",
     "shell.execute_reply.started": "2024-05-09T16:15:15.975080Z"
    },
    "tags": []
   },
   "outputs": [],
   "source": [
    "for recording in ephys_data.collection.keys():\n",
    "    # Check if the recording key (without everything after subject #) is in timestamp_dicts\n",
    "    start_pos = recording.find('subj_')\n",
    "    # Add the length of 'subj_' and 3 additional characters to include after 'subj_'\n",
    "    end_pos = start_pos + len('subj_') + 3\n",
    "    # Slice the recording key to get everything up to and including the subject identifier plus three characters\n",
    "    recording_key_without_suffix = recording[:end_pos]\n",
    "    if recording_key_without_suffix in timestamp_dicts:\n",
    "        # Assign the corresponding timestamp_dicts dictionary to event_dict\n",
    "        ephys_data.collection[recording].event_dict = timestamp_dicts[recording_key_without_suffix]\n",
    "        \n",
    "        # Extract the subject from the recording key\n",
    "        start = recording.find('subj_') + 5  # Start index after 'subj_'\n",
    "        subject = recording[start:start+3]\n",
    "        \n",
    "        # Assign the extracted subject\n",
    "        ephys_data.collection[recording].subject = subject"
   ]
  },
  {
   "cell_type": "markdown",
   "id": "91fcd94a-f15b-4adf-bc19-5e6350d395df",
   "metadata": {},
   "source": [
    "## Analysis Initialization\n",
    "Finally, initialize the spike analysis with the organized EPhys data (it would be nice to pickle this, but even with 4 CPUs & 64 GB RAM, it still crashed trying to pickle):"
   ]
  },
  {
   "cell_type": "code",
   "execution_count": 10,
   "id": "424fd1a7-c983-40dd-ba22-5c5d65dc994b",
   "metadata": {
    "execution": {
     "iopub.execute_input": "2024-05-09T16:15:16.203520Z",
     "iopub.status.busy": "2024-05-09T16:15:16.203520Z",
     "iopub.status.idle": "2024-05-09T16:16:04.926936Z",
     "shell.execute_reply": "2024-05-09T16:16:04.898286Z",
     "shell.execute_reply.started": "2024-05-09T16:15:16.203520Z"
    },
    "tags": []
   },
   "outputs": [
    {
     "name": "stdout",
     "output_type": "stream",
     "text": [
      "All set to analyze\n"
     ]
    }
   ],
   "source": [
    "spike_analysis = spike.SpikeAnalysis_MultiRecording(ephys_data, timebin = 5, smoothing_window=250, ignore_freq = 0.5)"
   ]
  },
  {
   "cell_type": "markdown",
   "id": "2c385d46-ecc2-4425-96c5-6bab72f8a980",
   "metadata": {},
   "source": [
    "### Now I'll show you what the class, class objects, class methods, and original data look like"
   ]
  },
  {
   "cell_type": "code",
   "execution_count": 11,
   "id": "fee74e82-2774-426d-bec4-77f347b5a5a0",
   "metadata": {
    "editable": true,
    "execution": {
     "iopub.execute_input": "2024-05-09T16:16:04.976829Z",
     "iopub.status.busy": "2024-05-09T16:16:04.976829Z",
     "iopub.status.idle": "2024-05-09T16:16:05.102276Z",
     "shell.execute_reply": "2024-05-09T16:16:05.102276Z",
     "shell.execute_reply.started": "2024-05-09T16:16:04.976829Z"
    },
    "slideshow": {
     "slide_type": ""
    },
    "tags": []
   },
   "outputs": [],
   "source": [
    "# This will create a variable that will make selecting a single recording easier. It's simply pointing to the part of the class where the recording names are stored\n",
    "recordings = spike_analysis.ephyscollection.collection"
   ]
  },
  {
   "cell_type": "code",
   "execution_count": 12,
   "id": "90fe68a1-a03a-4cd7-a031-7f8068ea9173",
   "metadata": {
    "editable": true,
    "execution": {
     "iopub.execute_input": "2024-05-09T16:16:05.102276Z",
     "iopub.status.busy": "2024-05-09T16:16:05.102276Z",
     "iopub.status.idle": "2024-05-09T16:16:05.173808Z",
     "shell.execute_reply": "2024-05-09T16:16:05.173808Z",
     "shell.execute_reply.started": "2024-05-09T16:16:05.102276Z"
    },
    "slideshow": {
     "slide_type": ""
    },
    "tags": []
   },
   "outputs": [
    {
     "name": "stdout",
     "output_type": "stream",
     "text": [
      "Recording 20230618_100636_standard_comp_to_omission_D2_subj_1-4_t4b3L_box1_merged.rec successfully retrieved.\n"
     ]
    }
   ],
   "source": [
    "# Creating a variable of 1 recording\n",
    "recording_name = '20230618_100636_standard_comp_to_omission_D2_subj_1-4_t4b3L_box1_merged.rec'\n",
    "recording1 = recordings.get(recording_name)\n",
    "\n",
    "if recording1 is None:\n",
    "    print(f\"Recording named {recording_name} not found.\")\n",
    "else:\n",
    "    print(f\"Recording {recording_name} successfully retrieved.\")"
   ]
  },
  {
   "cell_type": "code",
   "execution_count": 13,
   "id": "986f374f-38c3-4cdb-8884-05ce39238e0c",
   "metadata": {
    "editable": true,
    "execution": {
     "iopub.execute_input": "2024-05-09T16:16:05.178347Z",
     "iopub.status.busy": "2024-05-09T16:16:05.178347Z",
     "iopub.status.idle": "2024-05-09T16:16:05.214794Z",
     "shell.execute_reply": "2024-05-09T16:16:05.214794Z",
     "shell.execute_reply.started": "2024-05-09T16:16:05.178347Z"
    },
    "slideshow": {
     "slide_type": ""
    },
    "tags": []
   },
   "outputs": [
    {
     "name": "stdout",
     "output_type": "stream",
     "text": [
      "['__class__', '__delattr__', '__dict__', '__dir__', '__doc__', '__eq__', '__format__', '__ge__', '__getattribute__', '__getstate__', '__gt__', '__hash__', '__init__', '__init_subclass__', '__le__', '__lt__', '__module__', '__ne__', '__new__', '__reduce__', '__reduce_ex__', '__repr__', '__setattr__', '__sizeof__', '__str__', '__subclasshook__', '__weakref__', 'event_dict', 'freq_dict', 'get_spike_specs', 'get_unit_labels', 'get_unit_timestamps', 'labels_dict', 'path', 'sampling_rate', 'spiketrain', 'subject', 'timestamps_var', 'unit_array', 'unit_firing_rate_array', 'unit_firing_rates', 'unit_spiketrains', 'unit_timestamps', 'wilcox_dfs', 'zscored_events']\n"
     ]
    }
   ],
   "source": [
    "if recording1:\n",
    "    print(dir(recording1))  # Lists all methods and attributes of the recording"
   ]
  },
  {
   "cell_type": "code",
   "execution_count": 14,
   "id": "7e96b8c1-3b45-4945-b0eb-c4b73f1bb434",
   "metadata": {
    "execution": {
     "iopub.execute_input": "2024-05-09T16:16:05.225308Z",
     "iopub.status.busy": "2024-05-09T16:16:05.225308Z",
     "iopub.status.idle": "2024-05-09T16:16:05.410466Z",
     "shell.execute_reply": "2024-05-09T16:16:05.410466Z",
     "shell.execute_reply.started": "2024-05-09T16:16:05.225308Z"
    },
    "tags": []
   },
   "outputs": [
    {
     "data": {
      "text/plain": [
       "array([[  54962,   64962],\n",
       "       [ 379962,  389962],\n",
       "       [ 484962,  494962],\n",
       "       [ 579962,  589962],\n",
       "       [ 654962,  664962],\n",
       "       [1554961, 1564961]], dtype=int64)"
      ]
     },
     "execution_count": 14,
     "metadata": {},
     "output_type": "execute_result"
    }
   ],
   "source": [
    "# I've already created and assigned 'event dictionaries' to each recording. \n",
    "# This is what the 'win' event_dict actually looks like. It's timestamps for the beginning and end of each time a win occurred.\n",
    "recording1.event_dict['win']"
   ]
  },
  {
   "cell_type": "code",
   "execution_count": 15,
   "id": "43d4fb1b-054c-4fd9-811f-8e182cf09a9b",
   "metadata": {
    "execution": {
     "iopub.execute_input": "2024-05-09T16:16:05.413981Z",
     "iopub.status.busy": "2024-05-09T16:16:05.413981Z",
     "iopub.status.idle": "2024-05-09T16:16:05.428064Z",
     "shell.execute_reply": "2024-05-09T16:16:05.428064Z",
     "shell.execute_reply.started": "2024-05-09T16:16:05.413981Z"
    },
    "tags": []
   },
   "outputs": [],
   "source": [
    "preevent = recording1.event_dict['win'] - 10000"
   ]
  },
  {
   "cell_type": "code",
   "execution_count": 16,
   "id": "d688f164-51c8-4671-b4f4-94c125881a6c",
   "metadata": {
    "execution": {
     "iopub.execute_input": "2024-05-09T16:16:05.430074Z",
     "iopub.status.busy": "2024-05-09T16:16:05.430074Z",
     "iopub.status.idle": "2024-05-09T16:16:05.442535Z",
     "shell.execute_reply": "2024-05-09T16:16:05.442535Z",
     "shell.execute_reply.started": "2024-05-09T16:16:05.430074Z"
    },
    "tags": []
   },
   "outputs": [
    {
     "data": {
      "text/plain": [
       "array([[  44962,   54962],\n",
       "       [ 369962,  379962],\n",
       "       [ 474962,  484962],\n",
       "       [ 569962,  579962],\n",
       "       [ 644962,  654962],\n",
       "       [1544961, 1554961]], dtype=int64)"
      ]
     },
     "execution_count": 16,
     "metadata": {},
     "output_type": "execute_result"
    }
   ],
   "source": [
    "# Here I manually created a pre-event dictionary, this is essentially what class methods do when asking for a pre-event window\n",
    "preevent"
   ]
  },
  {
   "cell_type": "markdown",
   "id": "2fe9b879-1100-4bb6-b06d-6adbe692bc3a",
   "metadata": {},
   "source": [
    "### The class automatically stores smoothed firing rate bins for each unit for each recording\n",
    "### I created the class with:\n",
    "spike_analysis = spike.SpikeAnalysis_MultiRecording(ephys_data, timebin = 5, smoothing_window=250, ignore_freq = 0.5)\n",
    "### So each timebin is 5ms, and firing rate for each timebin is the average firing rate per second of the surrounding 250ms.\n",
    "### Example, imagine the array below is the spiketrain, or the actual count of spikes per window, and we'll use 100ms timebins:\n",
    "[1, 5, 2, 1, 4, 5, 6, 8, 7, 4]\n",
    "### If we did a 500ms smoothing window, you'd look at each bin and average it with the 2 to the left and 2 to the right.\n",
    "### Ignore the first 2 and last 2 bins for now:\n",
    "timebin 3: 1+5+2+1+4 = 13 spikes during a 500 ms window, so to convert to firing rate/second -> 13*2 = 26\\\n",
    "timebin 4: 5+2+1+4+5 = 17 * 2 = 34\\\n",
    "timebin 5: 2+1+4+5+6 = 18 * 2 = 36\\\n",
    "timebin 6: 1+4+5+6+8 = 24 * 2 = 48\\\n",
    "timebin 7: 4+5+6+8+7 = 30 * 2 = 60\\\n",
    "timebin 8: 5+6+8+7+4 = 30 * 2 = 60\n",
    "### The function within the class that creates the firing rate, makes sure to have the output be the same length as the input, so it handles the beginning and the end by just weighting in a non-uniform way and just uses the windows it can. So the example output firing rate would be:\n",
    "[16, 18, 26, 34, 36, 48, 60, 60, 50, 38]"
   ]
  },
  {
   "cell_type": "code",
   "execution_count": 17,
   "id": "650dadff-dfc5-4bb2-8dd0-33f7fe8cdea1",
   "metadata": {
    "execution": {
     "iopub.execute_input": "2024-05-09T16:16:05.446053Z",
     "iopub.status.busy": "2024-05-09T16:16:05.446053Z",
     "iopub.status.idle": "2024-05-09T16:16:05.482324Z",
     "shell.execute_reply": "2024-05-09T16:16:05.482324Z",
     "shell.execute_reply.started": "2024-05-09T16:16:05.446053Z"
    }
   },
   "outputs": [
    {
     "data": {
      "text/plain": [
       "{65: array([4., 4., 4., ..., 0., 0., 0.]),\n",
       " 123: array([4.8, 4.8, 4.8, ..., 0. , 0. , 0. ]),\n",
       " 103: array([8.8, 8.8, 8.8, ..., 3.2, 3.2, 3.2]),\n",
       " 83: array([2.4, 2.4, 2.4, ..., 8.8, 8.8, 8. ]),\n",
       " 118: array([1.6, 1.6, 1.6, ..., 0. , 0. , 0. ]),\n",
       " 93: array([0. , 0. , 0. , ..., 1.6, 1.6, 1.6]),\n",
       " 99: array([0. , 0. , 0. , ..., 2.4, 2.4, 2.4]),\n",
       " 105: array([0., 0., 0., ..., 0., 0., 0.]),\n",
       " 87: array([0. , 0. , 0. , ..., 1.6, 1.6, 1.6]),\n",
       " 19: array([0., 0., 0., ..., 0., 0., 0.]),\n",
       " 9: array([0., 0., 0., ..., 0., 0., 0.])}"
      ]
     },
     "execution_count": 17,
     "metadata": {},
     "output_type": "execute_result"
    }
   ],
   "source": [
    "recording1.unit_firing_rates"
   ]
  },
  {
   "cell_type": "code",
   "execution_count": 18,
   "id": "3569f9b8-925e-4db2-b876-ead35a98023e",
   "metadata": {
    "execution": {
     "iopub.execute_input": "2024-05-09T16:16:05.482324Z",
     "iopub.status.busy": "2024-05-09T16:16:05.482324Z",
     "iopub.status.idle": "2024-05-09T16:16:05.498990Z",
     "shell.execute_reply": "2024-05-09T16:16:05.498990Z",
     "shell.execute_reply.started": "2024-05-09T16:16:05.482324Z"
    }
   },
   "outputs": [
    {
     "data": {
      "text/plain": [
       "670988"
      ]
     },
     "execution_count": 18,
     "metadata": {},
     "output_type": "execute_result"
    }
   ],
   "source": [
    "len(recording1.unit_firing_rates[65])"
   ]
  },
  {
   "cell_type": "code",
   "execution_count": 19,
   "id": "3b4ef248-d6f7-44d7-82e9-9edb7989efec",
   "metadata": {
    "execution": {
     "iopub.execute_input": "2024-05-09T16:16:05.498990Z",
     "iopub.status.busy": "2024-05-09T16:16:05.498990Z",
     "iopub.status.idle": "2024-05-09T16:16:05.513983Z",
     "shell.execute_reply": "2024-05-09T16:16:05.513983Z",
     "shell.execute_reply.started": "2024-05-09T16:16:05.498990Z"
    }
   },
   "outputs": [
    {
     "data": {
      "text/plain": [
       "670988"
      ]
     },
     "execution_count": 19,
     "metadata": {},
     "output_type": "execute_result"
    }
   ],
   "source": [
    "len(recording1.unit_firing_rates[123])"
   ]
  },
  {
   "cell_type": "code",
   "execution_count": 20,
   "id": "23f22802-67d2-4c2f-a443-a8694f260901",
   "metadata": {
    "execution": {
     "iopub.execute_input": "2024-05-09T16:16:05.513983Z",
     "iopub.status.busy": "2024-05-09T16:16:05.513983Z",
     "iopub.status.idle": "2024-05-09T16:16:10.679924Z",
     "shell.execute_reply": "2024-05-09T16:16:10.679924Z",
     "shell.execute_reply.started": "2024-05-09T16:16:05.513983Z"
    },
    "tags": []
   },
   "outputs": [
    {
     "name": "stdout",
     "output_type": "stream",
     "text": [
      "All set to analyze\n"
     ]
    }
   ],
   "source": [
    "spike_analysis = spike.SpikeAnalysis_MultiRecording(ephys_data, timebin = 100, smoothing_window=250, ignore_freq = 0.5)"
   ]
  },
  {
   "cell_type": "code",
   "execution_count": 21,
   "id": "70f1875a-0644-4619-8588-a8ae8153e7eb",
   "metadata": {
    "execution": {
     "iopub.execute_input": "2024-05-09T16:16:10.679924Z",
     "iopub.status.busy": "2024-05-09T16:16:10.679924Z",
     "iopub.status.idle": "2024-05-09T16:16:10.691007Z",
     "shell.execute_reply": "2024-05-09T16:16:10.691007Z",
     "shell.execute_reply.started": "2024-05-09T16:16:10.679924Z"
    },
    "tags": []
   },
   "outputs": [],
   "source": [
    "recordings = spike_analysis.ephyscollection.collection\n",
    "\n",
    "recording_name = '20230618_100636_standard_comp_to_omission_D2_subj_1-4_t4b3L_box1_merged.rec'\n",
    "recording1 = recordings.get(recording_name)"
   ]
  },
  {
   "cell_type": "code",
   "execution_count": 22,
   "id": "0bbd9123-4191-488f-951a-07ef6a7d6739",
   "metadata": {
    "execution": {
     "iopub.execute_input": "2024-05-09T16:16:10.691007Z",
     "iopub.status.busy": "2024-05-09T16:16:10.691007Z",
     "iopub.status.idle": "2024-05-09T16:16:10.709316Z",
     "shell.execute_reply": "2024-05-09T16:16:10.709316Z",
     "shell.execute_reply.started": "2024-05-09T16:16:10.691007Z"
    },
    "tags": []
   },
   "outputs": [
    {
     "data": {
      "text/plain": [
       "array([14,  9,  7, ..., 11,  7,  9], dtype=int64)"
      ]
     },
     "execution_count": 22,
     "metadata": {},
     "output_type": "execute_result"
    }
   ],
   "source": [
    "recording1.spiketrain"
   ]
  },
  {
   "cell_type": "code",
   "execution_count": 23,
   "id": "8760694e-a935-458f-87f2-99e134a23845",
   "metadata": {
    "execution": {
     "iopub.execute_input": "2024-05-09T16:16:10.709316Z",
     "iopub.status.busy": "2024-05-09T16:16:10.709316Z",
     "iopub.status.idle": "2024-05-09T16:16:10.724161Z",
     "shell.execute_reply": "2024-05-09T16:16:10.724161Z",
     "shell.execute_reply.started": "2024-05-09T16:16:10.709316Z"
    },
    "tags": []
   },
   "outputs": [
    {
     "data": {
      "text/plain": [
       "33549"
      ]
     },
     "execution_count": 23,
     "metadata": {},
     "output_type": "execute_result"
    }
   ],
   "source": [
    "len(recording1.spiketrain)"
   ]
  },
  {
   "cell_type": "code",
   "execution_count": 24,
   "id": "8b3ab910-632d-47ba-b0df-8b492d1b9a8b",
   "metadata": {
    "execution": {
     "iopub.execute_input": "2024-05-09T16:16:10.724161Z",
     "iopub.status.busy": "2024-05-09T16:16:10.724161Z",
     "iopub.status.idle": "2024-05-09T16:16:10.744999Z",
     "shell.execute_reply": "2024-05-09T16:16:10.744999Z",
     "shell.execute_reply.started": "2024-05-09T16:16:10.724161Z"
    },
    "tags": []
   },
   "outputs": [
    {
     "data": {
      "text/plain": [
       "{65: array([2, 2, 0, ..., 0, 0, 0], dtype=int64),\n",
       " 123: array([2, 0, 0, ..., 0, 0, 0], dtype=int64),\n",
       " 103: array([2, 2, 1, ..., 1, 0, 1], dtype=int64),\n",
       " 83: array([0, 1, 1, ..., 1, 3, 1], dtype=int64),\n",
       " 118: array([0, 1, 0, ..., 0, 0, 0], dtype=int64),\n",
       " 93: array([0, 0, 0, ..., 1, 0, 1], dtype=int64),\n",
       " 99: array([0, 0, 0, ..., 1, 1, 1], dtype=int64),\n",
       " 105: array([0, 0, 0, ..., 0, 0, 0], dtype=int64),\n",
       " 87: array([0, 0, 0, ..., 0, 1, 0], dtype=int64),\n",
       " 19: array([0, 0, 0, ..., 0, 0, 0], dtype=int64),\n",
       " 9: array([0, 0, 0, ..., 0, 0, 0], dtype=int64)}"
      ]
     },
     "execution_count": 24,
     "metadata": {},
     "output_type": "execute_result"
    }
   ],
   "source": [
    "recording1.unit_spiketrains"
   ]
  },
  {
   "cell_type": "code",
   "execution_count": 25,
   "id": "b780069e-74cc-4908-9709-b4be62b1abef",
   "metadata": {
    "execution": {
     "iopub.execute_input": "2024-05-09T16:16:10.744999Z",
     "iopub.status.busy": "2024-05-09T16:16:10.744999Z",
     "iopub.status.idle": "2024-05-09T16:16:10.762705Z",
     "shell.execute_reply": "2024-05-09T16:16:10.762705Z",
     "shell.execute_reply.started": "2024-05-09T16:16:10.744999Z"
    },
    "tags": []
   },
   "outputs": [
    {
     "data": {
      "text/plain": [
       "33549"
      ]
     },
     "execution_count": 25,
     "metadata": {},
     "output_type": "execute_result"
    }
   ],
   "source": [
    "len(recording1.unit_spiketrains[65])"
   ]
  },
  {
   "cell_type": "code",
   "execution_count": 26,
   "id": "a1026e98-caf9-44f4-b5db-c63040f80edf",
   "metadata": {
    "execution": {
     "iopub.execute_input": "2024-05-09T16:16:10.766720Z",
     "iopub.status.busy": "2024-05-09T16:16:10.766720Z",
     "iopub.status.idle": "2024-05-09T16:16:10.781939Z",
     "shell.execute_reply": "2024-05-09T16:16:10.781939Z",
     "shell.execute_reply.started": "2024-05-09T16:16:10.766720Z"
    },
    "tags": []
   },
   "outputs": [
    {
     "data": {
      "text/plain": [
       "{65: array([3.  , 3.  , 3.  , ..., 0.92, 0.92, 0.92]),\n",
       " 123: array([2.  , 2.04, 2.04, ..., 1.92, 1.92, 1.92]),\n",
       " 103: array([6.16, 6.2 , 6.24, ..., 1.68, 1.68, 1.64]),\n",
       " 83: array([3.16, 3.2 , 3.24, ..., 9.  , 8.96, 8.8 ]),\n",
       " 118: array([2.04, 2.08, 2.12, ..., 0.12, 0.12, 0.12]),\n",
       " 93: array([0.44, 0.44, 0.44, ..., 0.56, 0.56, 0.56]),\n",
       " 99: array([0.2, 0.2, 0.2, ..., 2.4, 2.4, 2.4]),\n",
       " 105: array([0.04, 0.04, 0.04, ..., 0.  , 0.  , 0.  ]),\n",
       " 87: array([0.04, 0.04, 0.04, ..., 0.84, 0.84, 0.84]),\n",
       " 19: array([0.36, 0.36, 0.36, ..., 0.08, 0.04, 0.04]),\n",
       " 9: array([0.  , 0.  , 0.  , ..., 0.96, 0.96, 0.96])}"
      ]
     },
     "execution_count": 26,
     "metadata": {},
     "output_type": "execute_result"
    }
   ],
   "source": [
    "recording1.unit_firing_rates"
   ]
  },
  {
   "cell_type": "code",
   "execution_count": 27,
   "id": "7c674554-8b73-4b5b-baff-68f5e2039862",
   "metadata": {
    "execution": {
     "iopub.execute_input": "2024-05-09T16:16:10.781939Z",
     "iopub.status.busy": "2024-05-09T16:16:10.781939Z",
     "iopub.status.idle": "2024-05-09T16:16:10.798682Z",
     "shell.execute_reply": "2024-05-09T16:16:10.798682Z",
     "shell.execute_reply.started": "2024-05-09T16:16:10.781939Z"
    },
    "tags": []
   },
   "outputs": [
    {
     "data": {
      "text/plain": [
       "33549"
      ]
     },
     "execution_count": 27,
     "metadata": {},
     "output_type": "execute_result"
    }
   ],
   "source": [
    "len(recording1.unit_firing_rates[65])"
   ]
  },
  {
   "cell_type": "code",
   "execution_count": 28,
   "id": "6e8b541e-58fe-42af-90a3-d9ac4d148df7",
   "metadata": {
    "execution": {
     "iopub.execute_input": "2024-05-09T16:16:10.798682Z",
     "iopub.status.busy": "2024-05-09T16:16:10.798682Z",
     "iopub.status.idle": "2024-05-09T16:16:10.820591Z",
     "shell.execute_reply": "2024-05-09T16:16:10.820591Z",
     "shell.execute_reply.started": "2024-05-09T16:16:10.798682Z"
    },
    "tags": []
   },
   "outputs": [
    {
     "data": {
      "text/plain": [
       "0.2686816298548392"
      ]
     },
     "execution_count": 28,
     "metadata": {},
     "output_type": "execute_result"
    }
   ],
   "source": [
    "np.mean(recording1.unit_spiketrains[65])"
   ]
  },
  {
   "cell_type": "code",
   "execution_count": 29,
   "id": "3fa021dc-9a2f-43d8-9a07-3f8f5773edbd",
   "metadata": {
    "execution": {
     "iopub.execute_input": "2024-05-09T16:16:10.820591Z",
     "iopub.status.busy": "2024-05-09T16:16:10.820591Z",
     "iopub.status.idle": "2024-05-09T16:16:10.835337Z",
     "shell.execute_reply": "2024-05-09T16:16:10.835337Z",
     "shell.execute_reply.started": "2024-05-09T16:16:10.820591Z"
    },
    "tags": []
   },
   "outputs": [
    {
     "data": {
      "text/plain": [
       "2.6793370890339503"
      ]
     },
     "execution_count": 29,
     "metadata": {},
     "output_type": "execute_result"
    }
   ],
   "source": [
    "np.mean(recording1.unit_firing_rates[65])"
   ]
  },
  {
   "cell_type": "code",
   "execution_count": 30,
   "id": "27330a2c-0384-4aea-8ba1-31125dd8e666",
   "metadata": {
    "execution": {
     "iopub.execute_input": "2024-05-09T16:16:10.835337Z",
     "iopub.status.busy": "2024-05-09T16:16:10.835337Z",
     "iopub.status.idle": "2024-05-09T16:16:10.866008Z",
     "shell.execute_reply": "2024-05-09T16:16:10.866008Z",
     "shell.execute_reply.started": "2024-05-09T16:16:10.835337Z"
    },
    "tags": []
   },
   "outputs": [],
   "source": [
    "def get_firing_rate(spiketrain, smoothing_window, timebin):\n",
    "    \"\"\"\n",
    "    calculates firing rate (spikes/second)\n",
    "\n",
    "    Args (3 total, 1 required):\n",
    "        spiketrain: numpy array, in timebin (ms) bins\n",
    "        smoothing_window: int, default=250, smoothing average window (ms)\n",
    "            min smoothing_window = 1\n",
    "        timebin: int, default = 1, timebin (ms) of spiketrain\n",
    "\n",
    "    Return (1):\n",
    "        firing_rate: numpy array of firing rates in timebin sized windows\n",
    "\n",
    "    \"\"\"\n",
    "    weights = np.ones(smoothing_window) / smoothing_window * 1000 / timebin\n",
    "    firing_rate = np.convolve(spiketrain, weights, mode=\"same\")\n",
    "\n",
    "    return firing_rate\n",
    "\n",
    "fr_65_man = get_firing_rate(recording1.unit_spiketrains[65], 250, 100)"
   ]
  },
  {
   "cell_type": "code",
   "execution_count": 31,
   "id": "287b387c-27ce-482f-a11d-c37a3352e9e1",
   "metadata": {
    "execution": {
     "iopub.execute_input": "2024-05-09T16:16:10.866008Z",
     "iopub.status.busy": "2024-05-09T16:16:10.866008Z",
     "iopub.status.idle": "2024-05-09T16:16:10.878971Z",
     "shell.execute_reply": "2024-05-09T16:16:10.878971Z",
     "shell.execute_reply.started": "2024-05-09T16:16:10.866008Z"
    },
    "tags": []
   },
   "outputs": [
    {
     "data": {
      "text/plain": [
       "array([3.  , 3.  , 3.  , ..., 0.92, 0.92, 0.92])"
      ]
     },
     "execution_count": 31,
     "metadata": {},
     "output_type": "execute_result"
    }
   ],
   "source": [
    "fr_65_man"
   ]
  },
  {
   "cell_type": "code",
   "execution_count": 32,
   "id": "9467aa0e-723f-4ca5-8c37-42872d359aa2",
   "metadata": {
    "execution": {
     "iopub.execute_input": "2024-05-09T16:16:10.893017Z",
     "iopub.status.busy": "2024-05-09T16:16:10.893017Z",
     "iopub.status.idle": "2024-05-09T16:16:10.915216Z",
     "shell.execute_reply": "2024-05-09T16:16:10.915216Z",
     "shell.execute_reply.started": "2024-05-09T16:16:10.893017Z"
    },
    "tags": []
   },
   "outputs": [
    {
     "data": {
      "text/plain": [
       "33549"
      ]
     },
     "execution_count": 32,
     "metadata": {},
     "output_type": "execute_result"
    }
   ],
   "source": [
    "len(fr_65_man)"
   ]
  },
  {
   "cell_type": "code",
   "execution_count": 33,
   "id": "124411e1-d9ea-43fb-b758-c9c18e240f24",
   "metadata": {
    "execution": {
     "iopub.execute_input": "2024-05-09T16:16:10.915216Z",
     "iopub.status.busy": "2024-05-09T16:16:10.915216Z",
     "iopub.status.idle": "2024-05-09T16:16:10.929180Z",
     "shell.execute_reply": "2024-05-09T16:16:10.929180Z",
     "shell.execute_reply.started": "2024-05-09T16:16:10.915216Z"
    },
    "tags": []
   },
   "outputs": [
    {
     "data": {
      "text/plain": [
       "2.6793370890339503"
      ]
     },
     "execution_count": 33,
     "metadata": {},
     "output_type": "execute_result"
    }
   ],
   "source": [
    "np.mean(fr_65_man)"
   ]
  },
  {
   "cell_type": "code",
   "execution_count": 34,
   "id": "58259649-62d0-4fba-8964-ead1e2bcf1ca",
   "metadata": {
    "execution": {
     "iopub.execute_input": "2024-05-09T16:16:10.929180Z",
     "iopub.status.busy": "2024-05-09T16:16:10.929180Z",
     "iopub.status.idle": "2024-05-09T16:16:10.940792Z",
     "shell.execute_reply": "2024-05-09T16:16:10.939281Z",
     "shell.execute_reply.started": "2024-05-09T16:16:10.929180Z"
    },
    "tags": []
   },
   "outputs": [],
   "source": [
    "smoothing_window = 250\n",
    "timebin=100\n",
    "weights = np.ones(smoothing_window) / smoothing_window * 1000 / timebin"
   ]
  },
  {
   "cell_type": "code",
   "execution_count": 35,
   "id": "bdf142af-620d-4470-afba-3f7b4a19b938",
   "metadata": {
    "execution": {
     "iopub.execute_input": "2024-05-09T16:16:10.940792Z",
     "iopub.status.busy": "2024-05-09T16:16:10.940792Z",
     "iopub.status.idle": "2024-05-09T16:16:10.963160Z",
     "shell.execute_reply": "2024-05-09T16:16:10.963160Z",
     "shell.execute_reply.started": "2024-05-09T16:16:10.940792Z"
    },
    "tags": []
   },
   "outputs": [
    {
     "data": {
      "text/plain": [
       "array([0.04, 0.04, 0.04, 0.04, 0.04, 0.04, 0.04, 0.04, 0.04, 0.04, 0.04,\n",
       "       0.04, 0.04, 0.04, 0.04, 0.04, 0.04, 0.04, 0.04, 0.04, 0.04, 0.04,\n",
       "       0.04, 0.04, 0.04, 0.04, 0.04, 0.04, 0.04, 0.04, 0.04, 0.04, 0.04,\n",
       "       0.04, 0.04, 0.04, 0.04, 0.04, 0.04, 0.04, 0.04, 0.04, 0.04, 0.04,\n",
       "       0.04, 0.04, 0.04, 0.04, 0.04, 0.04, 0.04, 0.04, 0.04, 0.04, 0.04,\n",
       "       0.04, 0.04, 0.04, 0.04, 0.04, 0.04, 0.04, 0.04, 0.04, 0.04, 0.04,\n",
       "       0.04, 0.04, 0.04, 0.04, 0.04, 0.04, 0.04, 0.04, 0.04, 0.04, 0.04,\n",
       "       0.04, 0.04, 0.04, 0.04, 0.04, 0.04, 0.04, 0.04, 0.04, 0.04, 0.04,\n",
       "       0.04, 0.04, 0.04, 0.04, 0.04, 0.04, 0.04, 0.04, 0.04, 0.04, 0.04,\n",
       "       0.04, 0.04, 0.04, 0.04, 0.04, 0.04, 0.04, 0.04, 0.04, 0.04, 0.04,\n",
       "       0.04, 0.04, 0.04, 0.04, 0.04, 0.04, 0.04, 0.04, 0.04, 0.04, 0.04,\n",
       "       0.04, 0.04, 0.04, 0.04, 0.04, 0.04, 0.04, 0.04, 0.04, 0.04, 0.04,\n",
       "       0.04, 0.04, 0.04, 0.04, 0.04, 0.04, 0.04, 0.04, 0.04, 0.04, 0.04,\n",
       "       0.04, 0.04, 0.04, 0.04, 0.04, 0.04, 0.04, 0.04, 0.04, 0.04, 0.04,\n",
       "       0.04, 0.04, 0.04, 0.04, 0.04, 0.04, 0.04, 0.04, 0.04, 0.04, 0.04,\n",
       "       0.04, 0.04, 0.04, 0.04, 0.04, 0.04, 0.04, 0.04, 0.04, 0.04, 0.04,\n",
       "       0.04, 0.04, 0.04, 0.04, 0.04, 0.04, 0.04, 0.04, 0.04, 0.04, 0.04,\n",
       "       0.04, 0.04, 0.04, 0.04, 0.04, 0.04, 0.04, 0.04, 0.04, 0.04, 0.04,\n",
       "       0.04, 0.04, 0.04, 0.04, 0.04, 0.04, 0.04, 0.04, 0.04, 0.04, 0.04,\n",
       "       0.04, 0.04, 0.04, 0.04, 0.04, 0.04, 0.04, 0.04, 0.04, 0.04, 0.04,\n",
       "       0.04, 0.04, 0.04, 0.04, 0.04, 0.04, 0.04, 0.04, 0.04, 0.04, 0.04,\n",
       "       0.04, 0.04, 0.04, 0.04, 0.04, 0.04, 0.04, 0.04, 0.04, 0.04, 0.04,\n",
       "       0.04, 0.04, 0.04, 0.04, 0.04, 0.04, 0.04, 0.04])"
      ]
     },
     "execution_count": 35,
     "metadata": {},
     "output_type": "execute_result"
    }
   ],
   "source": [
    "weights"
   ]
  },
  {
   "cell_type": "code",
   "execution_count": 36,
   "id": "933c3937-44f7-4d84-8dce-0dfefc3b3432",
   "metadata": {
    "execution": {
     "iopub.execute_input": "2024-05-09T16:16:10.963160Z",
     "iopub.status.busy": "2024-05-09T16:16:10.963160Z",
     "iopub.status.idle": "2024-05-09T16:16:10.976510Z",
     "shell.execute_reply": "2024-05-09T16:16:10.976510Z",
     "shell.execute_reply.started": "2024-05-09T16:16:10.963160Z"
    },
    "tags": []
   },
   "outputs": [
    {
     "data": {
      "text/plain": [
       "{65: 2.6867823023312964,\n",
       " 123: 2.4372996323677625,\n",
       " 103: 8.95037707725806,\n",
       " 83: 10.921200749658166,\n",
       " 118: 1.4062834371421187,\n",
       " 106: 0.39225710116130313,\n",
       " 93: 0.8390605925296871,\n",
       " 99: 3.601850159903637,\n",
       " 105: 0.6047793755746839,\n",
       " 87: 2.4703851477392704,\n",
       " 19: 0.5144648606416482,\n",
       " 9: 1.6411607895092208}"
      ]
     },
     "execution_count": 36,
     "metadata": {},
     "output_type": "execute_result"
    }
   ],
   "source": [
    "recording1.freq_dict"
   ]
  },
  {
   "cell_type": "code",
   "execution_count": 37,
   "id": "05b222e1-934e-41a0-aacd-75a1236f90f1",
   "metadata": {
    "execution": {
     "iopub.execute_input": "2024-05-09T16:16:10.976510Z",
     "iopub.status.busy": "2024-05-09T16:16:10.976510Z",
     "iopub.status.idle": "2024-05-09T16:16:10.989064Z",
     "shell.execute_reply": "2024-05-09T16:16:10.988031Z",
     "shell.execute_reply.started": "2024-05-09T16:16:10.976510Z"
    },
    "tags": []
   },
   "outputs": [],
   "source": [
    "recording_name2 = '20230620_114347_standard_comp_to_omission_D4_subj_1-2_t3b3L_box_1_merged.rec'\n",
    "recording2 = recordings.get(recording_name2)"
   ]
  },
  {
   "cell_type": "code",
   "execution_count": 38,
   "id": "ba9ae0fc-8d6c-4cdd-9f28-259e5de453a9",
   "metadata": {
    "execution": {
     "iopub.execute_input": "2024-05-09T16:16:10.989064Z",
     "iopub.status.busy": "2024-05-09T16:16:10.989064Z",
     "iopub.status.idle": "2024-05-09T16:16:11.005510Z",
     "shell.execute_reply": "2024-05-09T16:16:11.005510Z",
     "shell.execute_reply.started": "2024-05-09T16:16:10.989064Z"
    },
    "tags": []
   },
   "outputs": [
    {
     "data": {
      "text/plain": [
       "{42: 12.966737226679907,\n",
       " 207: 4.308202978206947,\n",
       " 262: 2.037371013189812,\n",
       " 144: 1.7530050417911194,\n",
       " 41: 1.583321643219883,\n",
       " 162: 11.206125687711454,\n",
       " 48: 10.816731543748842,\n",
       " 45: 15.460205512925853,\n",
       " 68: 15.887047027607634,\n",
       " 259: 1.7571008479635286,\n",
       " 153: 4.2567128434680885,\n",
       " 269: 0.8229644830704971,\n",
       " 53: 2.4940534014134332,\n",
       " 168: 3.099647599762502,\n",
       " 58: 3.0358700465064166,\n",
       " 258: 2.8448299443219036,\n",
       " 14: 1.9080605611751804,\n",
       " 241: 5.830965201591923,\n",
       " 245: 0.9730465235309185,\n",
       " 28: 1.4361651785968967,\n",
       " 43: 1.4897032164219592,\n",
       " 124: 8.735476892997502,\n",
       " 221: 1.8194156133008963,\n",
       " 172: 0.4265489570980394,\n",
       " 244: 0.5236780749008851,\n",
       " 227: 0.7208618863440118,\n",
       " 226: 1.869442960121037,\n",
       " 266: 1.4376279665156142}"
      ]
     },
     "execution_count": 38,
     "metadata": {},
     "output_type": "execute_result"
    }
   ],
   "source": [
    "recording2.freq_dict"
   ]
  },
  {
   "cell_type": "code",
   "execution_count": 39,
   "id": "bd432d44-68eb-4ac4-9ec7-9158937ac865",
   "metadata": {
    "execution": {
     "iopub.execute_input": "2024-05-09T16:16:11.005510Z",
     "iopub.status.busy": "2024-05-09T16:16:11.005510Z",
     "iopub.status.idle": "2024-05-09T16:16:11.023940Z",
     "shell.execute_reply": "2024-05-09T16:16:11.023940Z",
     "shell.execute_reply.started": "2024-05-09T16:16:11.005510Z"
    },
    "tags": []
   },
   "outputs": [
    {
     "data": {
      "text/plain": [
       "{42: array([2, 1, 0, ..., 4, 2, 0], dtype=int64),\n",
       " 207: array([2, 1, 1, ..., 0, 3, 0], dtype=int64),\n",
       " 262: array([1, 0, 0, ..., 0, 0, 0], dtype=int64),\n",
       " 144: array([1, 1, 4, ..., 0, 0, 1], dtype=int64),\n",
       " 41: array([1, 0, 0, ..., 0, 0, 0], dtype=int64),\n",
       " 162: array([2, 1, 1, ..., 2, 1, 0], dtype=int64),\n",
       " 48: array([2, 0, 2, ..., 1, 0, 1], dtype=int64),\n",
       " 45: array([1, 1, 3, ..., 3, 3, 0], dtype=int64),\n",
       " 68: array([0, 1, 3, ..., 1, 0, 3], dtype=int64),\n",
       " 259: array([0, 1, 0, ..., 0, 0, 0], dtype=int64),\n",
       " 153: array([0, 1, 0, ..., 2, 0, 0], dtype=int64),\n",
       " 269: array([0, 1, 0, ..., 0, 0, 0], dtype=int64),\n",
       " 53: array([0, 1, 0, ..., 0, 0, 0], dtype=int64),\n",
       " 168: array([0, 1, 0, ..., 0, 0, 0], dtype=int64),\n",
       " 58: array([0, 0, 1, ..., 0, 0, 1], dtype=int64),\n",
       " 258: array([0, 0, 1, ..., 0, 1, 1], dtype=int64),\n",
       " 14: array([0, 0, 1, ..., 0, 1, 0], dtype=int64),\n",
       " 241: array([0, 0, 1, ..., 0, 1, 1], dtype=int64),\n",
       " 245: array([0, 0, 0, ..., 0, 0, 0], dtype=int64),\n",
       " 28: array([0, 0, 0, ..., 0, 0, 0], dtype=int64),\n",
       " 43: array([0, 0, 0, ..., 0, 0, 0], dtype=int64),\n",
       " 124: array([0, 0, 0, ..., 1, 0, 0], dtype=int64),\n",
       " 221: array([0, 0, 0, ..., 0, 1, 0], dtype=int64),\n",
       " 244: array([0, 0, 0, ..., 0, 0, 0], dtype=int64),\n",
       " 227: array([0, 0, 0, ..., 0, 0, 0], dtype=int64),\n",
       " 226: array([0, 0, 0, ..., 0, 1, 0], dtype=int64),\n",
       " 266: array([0, 0, 0, ..., 0, 0, 0], dtype=int64)}"
      ]
     },
     "execution_count": 39,
     "metadata": {},
     "output_type": "execute_result"
    }
   ],
   "source": [
    "recording2.unit_spiketrains"
   ]
  },
  {
   "cell_type": "code",
   "execution_count": 40,
   "id": "917575c6-5956-46b6-a30d-0a907d0bad72",
   "metadata": {
    "execution": {
     "iopub.execute_input": "2024-05-09T16:16:11.023940Z",
     "iopub.status.busy": "2024-05-09T16:16:11.023940Z",
     "iopub.status.idle": "2024-05-09T16:16:11.036100Z",
     "shell.execute_reply": "2024-05-09T16:16:11.036100Z",
     "shell.execute_reply.started": "2024-05-09T16:16:11.023940Z"
    },
    "tags": []
   },
   "outputs": [
    {
     "data": {
      "text/plain": [
       "28"
      ]
     },
     "execution_count": 40,
     "metadata": {},
     "output_type": "execute_result"
    }
   ],
   "source": [
    "len(recording2.freq_dict)"
   ]
  },
  {
   "cell_type": "code",
   "execution_count": 41,
   "id": "ae84cc38-533f-4bdf-955a-e7dd9f2e15b5",
   "metadata": {
    "execution": {
     "iopub.execute_input": "2024-05-09T16:16:11.036100Z",
     "iopub.status.busy": "2024-05-09T16:16:11.036100Z",
     "iopub.status.idle": "2024-05-09T16:16:11.050957Z",
     "shell.execute_reply": "2024-05-09T16:16:11.050957Z",
     "shell.execute_reply.started": "2024-05-09T16:16:11.036100Z"
    },
    "tags": []
   },
   "outputs": [
    {
     "data": {
      "text/plain": [
       "27"
      ]
     },
     "execution_count": 41,
     "metadata": {},
     "output_type": "execute_result"
    }
   ],
   "source": [
    "len(recording2.unit_spiketrains)"
   ]
  },
  {
   "cell_type": "code",
   "execution_count": 44,
   "id": "4545b914-bf4c-48cd-817d-bb656f6727b4",
   "metadata": {
    "execution": {
     "iopub.execute_input": "2024-05-09T16:17:10.872011Z",
     "iopub.status.busy": "2024-05-09T16:17:10.872011Z",
     "iopub.status.idle": "2024-05-09T16:17:10.890586Z",
     "shell.execute_reply": "2024-05-09T16:17:10.890586Z",
     "shell.execute_reply.started": "2024-05-09T16:17:10.872011Z"
    }
   },
   "outputs": [
    {
     "data": {
      "text/plain": [
       "{65: array([3.  , 3.  , 3.  , ..., 0.92, 0.92, 0.92]),\n",
       " 123: array([2.  , 2.04, 2.04, ..., 1.92, 1.92, 1.92]),\n",
       " 103: array([6.16, 6.2 , 6.24, ..., 1.68, 1.68, 1.64]),\n",
       " 83: array([3.16, 3.2 , 3.24, ..., 9.  , 8.96, 8.8 ]),\n",
       " 118: array([2.04, 2.08, 2.12, ..., 0.12, 0.12, 0.12]),\n",
       " 93: array([0.44, 0.44, 0.44, ..., 0.56, 0.56, 0.56]),\n",
       " 99: array([0.2, 0.2, 0.2, ..., 2.4, 2.4, 2.4]),\n",
       " 105: array([0.04, 0.04, 0.04, ..., 0.  , 0.  , 0.  ]),\n",
       " 87: array([0.04, 0.04, 0.04, ..., 0.84, 0.84, 0.84]),\n",
       " 19: array([0.36, 0.36, 0.36, ..., 0.08, 0.04, 0.04]),\n",
       " 9: array([0.  , 0.  , 0.  , ..., 0.96, 0.96, 0.96])}"
      ]
     },
     "execution_count": 44,
     "metadata": {},
     "output_type": "execute_result"
    }
   ],
   "source": [
    "unit_event_firing_rates"
   ]
  },
  {
   "cell_type": "code",
   "execution_count": 45,
   "id": "5068ff95-813f-4fa2-a066-ce532bb82ed4",
   "metadata": {
    "execution": {
     "iopub.execute_input": "2024-05-09T16:24:08.218684Z",
     "iopub.status.busy": "2024-05-09T16:24:08.218684Z",
     "iopub.status.idle": "2024-05-09T16:24:08.238917Z",
     "shell.execute_reply": "2024-05-09T16:24:08.238917Z",
     "shell.execute_reply.started": "2024-05-09T16:24:08.218684Z"
    }
   },
   "outputs": [
    {
     "data": {
      "text/plain": [
       "{'rewarded': array([[1854961, 1864961],\n",
       "        [1914961, 1924961],\n",
       "        [1969961, 1979961],\n",
       "        [2034961, 2044961],\n",
       "        [2089961, 2099961],\n",
       "        [2139961, 2149961],\n",
       "        [2189961, 2199961],\n",
       "        [2414961, 2424961],\n",
       "        [2534961, 2544961],\n",
       "        [2644961, 2654961],\n",
       "        [2729961, 2739961],\n",
       "        [2849961, 2859961],\n",
       "        [2974961, 2984961],\n",
       "        [3034961, 3044961],\n",
       "        [3109961, 3119961]], dtype=int64),\n",
       " 'win': array([[  54962,   64962],\n",
       "        [ 379962,  389962],\n",
       "        [ 484962,  494962],\n",
       "        [ 579962,  589962],\n",
       "        [ 654962,  664962],\n",
       "        [1554961, 1564961]], dtype=int64),\n",
       " 'lose': array([[ 174962,  184962],\n",
       "        [ 289962,  299962],\n",
       "        [ 434962,  444962],\n",
       "        [ 759962,  769962],\n",
       "        [ 809962,  819962],\n",
       "        [ 889962,  899962],\n",
       "        [ 954962,  964962],\n",
       "        [1019962, 1029962],\n",
       "        [1069962, 1079962],\n",
       "        [1139962, 1149962],\n",
       "        [1234962, 1244962],\n",
       "        [1314962, 1324962],\n",
       "        [1384962, 1394961],\n",
       "        [1494962, 1504961]], dtype=int64),\n",
       " 'omission': array([[2294961, 2304961],\n",
       "        [2909961, 2919961],\n",
       "        [3209961, 3219961]], dtype=int64),\n",
       " 'both_rewarded': array([], dtype=int64),\n",
       " 'tie': array([], dtype=int64)}"
      ]
     },
     "execution_count": 45,
     "metadata": {},
     "output_type": "execute_result"
    }
   ],
   "source": [
    "recording1.event_dict"
   ]
  },
  {
   "cell_type": "code",
   "execution_count": 52,
   "id": "259aaae1-86ae-4bf6-ba78-5732a43edcc7",
   "metadata": {
    "execution": {
     "iopub.execute_input": "2024-05-09T16:27:44.973132Z",
     "iopub.status.busy": "2024-05-09T16:27:44.973132Z",
     "iopub.status.idle": "2024-05-09T16:27:44.991469Z",
     "shell.execute_reply": "2024-05-09T16:27:44.991469Z",
     "shell.execute_reply.started": "2024-05-09T16:27:44.973132Z"
    }
   },
   "outputs": [],
   "source": [
    "import math\n",
    "\n",
    "events = recording1.event_dict['win']\n",
    "\n",
    "event_snippets = []\n",
    "pre_window = math.ceil(10 * 1000)\n",
    "post_window = math.ceil(0 * 1000)\n",
    "equalize = 10 * 1000\n",
    "e_length = equalize + post_window + pre_window"
   ]
  },
  {
   "cell_type": "code",
   "execution_count": 57,
   "id": "557f253f-c14b-42fa-a88e-0812ab318fbf",
   "metadata": {
    "execution": {
     "iopub.execute_input": "2024-05-09T16:34:44.369492Z",
     "iopub.status.busy": "2024-05-09T16:34:44.369492Z",
     "iopub.status.idle": "2024-05-09T16:34:44.389535Z",
     "shell.execute_reply": "2024-05-09T16:34:44.389535Z",
     "shell.execute_reply.started": "2024-05-09T16:34:44.369492Z"
    }
   },
   "outputs": [
    {
     "data": {
      "text/plain": [
       "450"
      ]
     },
     "execution_count": 57,
     "metadata": {},
     "output_type": "execute_result"
    }
   ],
   "source": [
    "pre_event"
   ]
  },
  {
   "cell_type": "code",
   "execution_count": 58,
   "id": "17d81a0f-f71e-4902-acb8-62e6db601aad",
   "metadata": {
    "execution": {
     "iopub.execute_input": "2024-05-09T16:34:50.196027Z",
     "iopub.status.busy": "2024-05-09T16:34:50.196027Z",
     "iopub.status.idle": "2024-05-09T16:34:50.211995Z",
     "shell.execute_reply": "2024-05-09T16:34:50.210480Z",
     "shell.execute_reply.started": "2024-05-09T16:34:50.196027Z"
    }
   },
   "outputs": [
    {
     "data": {
      "text/plain": [
       "650"
      ]
     },
     "execution_count": 58,
     "metadata": {},
     "output_type": "execute_result"
    }
   ],
   "source": [
    "post_event"
   ]
  },
  {
   "cell_type": "code",
   "execution_count": 59,
   "id": "05a7ac9c-5d90-4739-b129-ba04ea112b8d",
   "metadata": {
    "execution": {
     "iopub.execute_input": "2024-05-09T16:37:39.351081Z",
     "iopub.status.busy": "2024-05-09T16:37:39.351081Z",
     "iopub.status.idle": "2024-05-09T16:37:39.373340Z",
     "shell.execute_reply": "2024-05-09T16:37:39.373340Z",
     "shell.execute_reply.started": "2024-05-09T16:37:39.351081Z"
    }
   },
   "outputs": [],
   "source": [
    "events = recording1.event_dict['win']\n",
    "\n",
    "event_snippets = []\n",
    "pre_window = math.ceil(10 * 1000)  # 10 seconds pre-event window\n",
    "post_window = math.ceil(0 * 1000)  # 0 seconds post-event window, adjust if needed\n",
    "equalize = 10 * 1000  # 10 seconds equalize duration\n",
    "e_length = equalize + post_window + pre_window  # Total length of the snippet\n",
    "timebin = 1000  # Assuming timebin is 1000 ms; adjust as per your setup\n",
    "\n",
    "for unit_key in recording1.unit_firing_rates.keys():\n",
    "    unit_rates = recording1.unit_firing_rates[unit_key]  # Retrieve the firing rates array\n",
    "    for i in range(events.shape[0]):\n",
    "        pre_event = math.ceil((events[i][0] - pre_window) / timebin)\n",
    "        post_event = math.ceil((events[i][0] + post_window + equalize) / timebin)\n",
    "        if unit_rates.ndim == 1:  # Check if it's a 1D array\n",
    "            event_snippet = unit_rates[pre_event:post_event]\n",
    "            if len(event_snippet) == e_length / timebin:\n",
    "                event_snippets.append(event_snippet)\n",
    "        else:  # Handling multidimensional arrays\n",
    "            event_snippet = unit_rates[:, pre_event:post_event]\n",
    "            if event_snippet.shape[1] == e_length / timebin:\n",
    "                event_snippets.append(event_snippet)\n"
   ]
  },
  {
   "cell_type": "code",
   "execution_count": 60,
   "id": "79894a82-ebfb-4fcb-a8ba-a7a2cf17072b",
   "metadata": {
    "execution": {
     "iopub.execute_input": "2024-05-09T16:37:59.743107Z",
     "iopub.status.busy": "2024-05-09T16:37:59.743107Z",
     "iopub.status.idle": "2024-05-09T16:37:59.785325Z",
     "shell.execute_reply": "2024-05-09T16:37:59.785325Z",
     "shell.execute_reply.started": "2024-05-09T16:37:59.743107Z"
    }
   },
   "outputs": [
    {
     "data": {
      "text/plain": [
       "[array([3.96, 4.04, 4.16, 4.2 , 4.28, 4.28, 4.32, 4.32, 4.32, 4.32, 4.36,\n",
       "        4.36, 4.36, 4.36, 4.4 , 4.4 , 4.4 , 4.4 , 4.4 , 4.44]),\n",
       " array([4.52, 4.52, 4.56, 4.6 , 4.76, 4.84, 4.84, 4.88, 4.84, 4.76, 4.72,\n",
       "        4.72, 4.84, 4.8 , 4.72, 4.68, 4.72, 4.76, 4.72, 4.72]),\n",
       " array([5.52, 5.56, 5.56, 5.56, 5.52, 5.6 , 5.56, 5.56, 5.56, 5.6 , 5.6 ,\n",
       "        5.6 , 5.6 , 5.68, 5.6 , 5.6 , 5.56, 5.56, 5.52, 5.56]),\n",
       " array([5.92, 5.92, 5.92, 5.92, 5.92, 5.92, 5.92, 5.88, 5.88, 5.84, 5.84,\n",
       "        5.88, 5.76, 5.76, 5.8 , 5.8 , 5.8 , 5.76, 5.76, 5.8 ]),\n",
       " array([5.68, 5.72, 5.72, 5.8 , 5.76, 5.8 , 5.8 , 5.8 , 5.76, 5.76, 5.76,\n",
       "        5.76, 5.76, 5.68, 5.72, 5.72, 5.72, 5.68, 5.68, 5.72]),\n",
       " array([3.08, 3.04, 3.04, 3.04, 3.04, 3.08, 3.12, 3.12, 3.08, 3.12, 3.16,\n",
       "        3.2 , 3.24, 3.32, 3.32, 3.36, 3.36, 3.36, 3.36, 3.4 ]),\n",
       " array([3.28, 3.28, 3.32, 3.32, 3.32, 3.32, 3.32, 3.32, 3.36, 3.36, 3.4 ,\n",
       "        3.44, 3.44, 3.48, 3.48, 3.48, 3.52, 3.52, 3.52, 3.56]),\n",
       " array([7.12, 7.12, 7.12, 7.12, 7.12, 7.12, 7.16, 7.16, 7.2 , 7.16, 7.16,\n",
       "        7.16, 7.16, 7.2 , 7.2 , 7.2 , 7.2 , 7.2 , 7.16, 7.2 ]),\n",
       " array([5.52, 5.52, 5.52, 5.48, 5.44, 5.4 , 5.4 , 5.36, 5.36, 5.36, 5.4 ,\n",
       "        5.36, 5.32, 5.32, 5.32, 5.36, 5.4 , 5.4 , 5.36, 5.36]),\n",
       " array([4.64, 4.64, 4.68, 4.68, 4.72, 4.68, 4.72, 4.72, 4.76, 4.8 , 4.8 ,\n",
       "        4.88, 4.88, 4.88, 4.88, 4.92, 5.  , 5.  , 5.04, 5.  ]),\n",
       " array([4.84, 4.88, 4.88, 4.92, 4.96, 4.96, 5.  , 5.  , 5.04, 5.04, 5.  ,\n",
       "        5.  , 5.  , 5.  , 5.  , 5.  , 5.  , 4.96, 4.96, 4.96]),\n",
       " array([6.12, 6.12, 6.12, 6.08, 6.04, 6.  , 5.96, 5.88, 5.88, 5.84, 5.76,\n",
       "        5.68, 5.68, 5.6 , 5.6 , 5.64, 5.68, 5.64, 5.68, 5.64]),\n",
       " array([8.32, 8.4 , 8.44, 8.48, 8.56, 8.6 , 8.68, 8.76, 8.84, 8.84, 8.92,\n",
       "        8.96, 9.  , 9.08, 9.12, 9.2 , 9.28, 9.36, 9.4 , 9.44]),\n",
       " array([10.52, 10.48, 10.44, 10.52, 10.6 , 10.6 , 10.64, 10.64, 10.56,\n",
       "        10.64, 10.52, 10.56, 10.56, 10.56, 10.64, 10.6 , 10.64, 10.68,\n",
       "        10.64, 10.64]),\n",
       " array([11.16, 11.2 , 11.28, 11.32, 11.32, 11.4 , 11.44, 11.44, 11.44,\n",
       "        11.44, 11.44, 11.44, 11.44, 11.48, 11.44, 11.48, 11.44, 11.56,\n",
       "        11.56, 11.6 ]),\n",
       " array([13.56, 13.52, 13.52, 13.6 , 13.6 , 13.68, 13.72, 13.72, 13.84,\n",
       "        13.84, 13.92, 13.92, 14.  , 14.04, 14.08, 14.12, 14.12, 14.2 ,\n",
       "        14.28, 14.24]),\n",
       " array([13.64, 13.6 , 13.64, 13.64, 13.64, 13.6 , 13.64, 13.6 , 13.72,\n",
       "        13.76, 13.8 , 13.84, 13.84, 13.92, 13.88, 13.92, 13.92, 13.96,\n",
       "        14.04, 14.12]),\n",
       " array([10.96, 11.04, 11.08, 11.12, 11.12, 11.16, 11.2 , 11.2 , 11.2 ,\n",
       "        11.16, 11.16, 11.16, 11.12, 11.12, 11.12, 11.12, 11.12, 11.12,\n",
       "        11.08, 11.08]),\n",
       " array([4.08, 4.12, 4.12, 4.16, 4.16, 4.2 , 4.24, 4.28, 4.32, 4.36, 4.4 ,\n",
       "        4.44, 4.52, 4.56, 4.6 , 4.64, 4.64, 4.72, 4.76, 4.8 ]),\n",
       " array([5.48, 5.44, 5.44, 5.44, 5.4 , 5.4 , 5.36, 5.36, 5.52, 5.48, 5.44,\n",
       "        5.44, 5.52, 5.56, 5.6 , 5.64, 5.64, 5.52, 5.56, 5.48]),\n",
       " array([6.68, 6.64, 6.64, 6.64, 6.64, 6.64, 6.64, 6.64, 6.64, 6.64, 6.68,\n",
       "        6.68, 6.68, 6.68, 6.64, 6.64, 6.64, 6.6 , 6.64, 6.64]),\n",
       " array([4.16, 4.08, 4.04, 4.  , 3.96, 3.92, 3.96, 3.92, 3.92, 3.92, 3.88,\n",
       "        3.88, 3.84, 3.8 , 3.72, 3.76, 3.72, 3.72, 3.72, 3.72]),\n",
       " array([3.72, 3.72, 3.72, 3.76, 3.76, 3.76, 3.8 , 3.8 , 3.76, 3.72, 3.68,\n",
       "        3.68, 3.68, 3.64, 3.64, 3.68, 3.64, 3.6 , 3.6 , 3.52]),\n",
       " array([6.72, 6.72, 6.72, 6.72, 6.72, 6.68, 6.72, 6.72, 6.76, 6.8 , 6.84,\n",
       "        6.84, 6.88, 6.92, 7.  , 7.  , 7.04, 7.04, 7.  , 7.  ]),\n",
       " array([3.36, 3.36, 3.4 , 3.4 , 3.4 , 3.4 , 3.4 , 3.4 , 3.4 , 3.4 , 3.4 ,\n",
       "        3.4 , 3.4 , 3.4 , 3.48, 3.52, 3.6 , 3.6 , 3.68, 3.68]),\n",
       " array([4.12, 4.04, 4.04, 4.04, 4.  , 4.  , 3.96, 3.92, 3.92, 3.92, 3.92,\n",
       "        3.92, 3.92, 3.92, 3.92, 3.92, 3.92, 3.92, 3.92, 3.92]),\n",
       " array([3.  , 3.04, 3.04, 3.04, 3.04, 3.08, 3.08, 3.04, 3.04, 3.04, 3.04,\n",
       "        3.08, 3.08, 3.12, 3.16, 3.12, 3.16, 3.16, 3.2 , 3.2 ]),\n",
       " array([4.44, 4.48, 4.56, 4.6 , 4.64, 4.72, 4.76, 4.8 , 4.8 , 4.84, 4.84,\n",
       "        4.88, 4.88, 4.84, 4.84, 4.84, 4.8 , 4.8 , 4.76, 4.8 ]),\n",
       " array([4.72, 4.68, 4.68, 4.68, 4.68, 4.72, 4.8 , 4.84, 4.88, 4.88, 4.88,\n",
       "        4.92, 4.92, 4.92, 4.96, 4.96, 5.  , 5.  , 5.  , 5.  ]),\n",
       " array([1.92, 1.92, 2.  , 2.  , 2.  , 2.04, 2.  , 2.08, 2.12, 2.12, 2.12,\n",
       "        2.12, 2.12, 2.12, 2.12, 2.08, 2.08, 2.08, 2.08, 2.08]),\n",
       " array([0.76, 0.8 , 0.8 , 0.8 , 0.8 , 0.8 , 0.8 , 0.8 , 0.8 , 0.8 , 0.8 ,\n",
       "        0.8 , 0.8 , 0.8 , 0.8 , 0.8 , 0.8 , 0.96, 0.96, 0.96]),\n",
       " array([1.08, 1.08, 1.08, 1.08, 1.08, 1.04, 1.04, 1.04, 1.04, 1.04, 1.04,\n",
       "        1.  , 1.  , 1.  , 0.96, 1.  , 1.  , 0.96, 0.96, 0.96]),\n",
       " array([1.48, 1.48, 1.48, 1.52, 1.52, 1.52, 1.52, 1.52, 1.52, 1.52, 1.52,\n",
       "        1.52, 1.52, 1.52, 1.56, 1.56, 1.56, 1.56, 1.56, 1.56]),\n",
       " array([1.48, 1.48, 1.48, 1.48, 1.48, 1.48, 1.48, 1.48, 1.48, 1.48, 1.44,\n",
       "        1.44, 1.44, 1.52, 1.48, 1.52, 1.56, 1.56, 1.56, 1.56]),\n",
       " array([1.6 , 1.6 , 1.56, 1.56, 1.56, 1.56, 1.56, 1.56, 1.56, 1.6 , 1.6 ,\n",
       "        1.6 , 1.6 , 1.6 , 1.6 , 1.6 , 1.6 , 1.56, 1.52, 1.48]),\n",
       " array([2.12, 2.12, 2.12, 2.16, 2.2 , 2.2 , 2.2 , 2.24, 2.28, 2.28, 2.28,\n",
       "        2.28, 2.32, 2.4 , 2.4 , 2.4 , 2.4 , 2.4 , 2.44, 2.44]),\n",
       " array([0.32, 0.32, 0.32, 0.32, 0.32, 0.32, 0.32, 0.32, 0.32, 0.32, 0.32,\n",
       "        0.32, 0.32, 0.32, 0.32, 0.32, 0.32, 0.32, 0.32, 0.32]),\n",
       " array([2.24, 2.24, 2.24, 2.2 , 2.16, 2.2 , 2.16, 2.2 , 2.2 , 2.2 , 2.2 ,\n",
       "        2.08, 2.12, 2.12, 2.08, 2.08, 2.04, 2.12, 2.12, 2.12]),\n",
       " array([2.16, 2.16, 2.16, 2.16, 2.16, 2.16, 2.08, 2.08, 2.08, 2.08, 2.08,\n",
       "        2.12, 2.12, 2.12, 2.12, 2.08, 2.08, 2.08, 2.04, 2.04]),\n",
       " array([1.68, 1.68, 1.68, 1.64, 1.64, 1.64, 1.64, 1.6 , 1.6 , 1.6 , 1.56,\n",
       "        1.56, 1.52, 1.48, 1.48, 1.48, 1.44, 1.44, 1.4 , 1.4 ]),\n",
       " array([1.12, 1.16, 1.16, 1.2 , 1.2 , 1.2 , 1.2 , 1.2 , 1.2 , 1.2 , 1.2 ,\n",
       "        1.24, 1.24, 1.24, 1.2 , 1.2 , 1.2 , 1.2 , 1.2 , 1.16]),\n",
       " array([1.16, 1.16, 1.16, 1.16, 1.16, 1.16, 1.16, 1.16, 1.16, 1.16, 1.16,\n",
       "        1.16, 1.16, 1.16, 1.16, 1.16, 1.16, 1.16, 1.16, 1.2 ]),\n",
       " array([0.04, 0.04, 0.04, 0.04, 0.04, 0.04, 0.04, 0.04, 0.08, 0.08, 0.08,\n",
       "        0.08, 0.08, 0.08, 0.08, 0.08, 0.08, 0.08, 0.08, 0.08]),\n",
       " array([0.2, 0.2, 0.2, 0.2, 0.2, 0.2, 0.2, 0.2, 0.2, 0.2, 0.2, 0.2, 0.2,\n",
       "        0.2, 0.2, 0.2, 0.2, 0.2, 0.2, 0.2]),\n",
       " array([0.24, 0.24, 0.24, 0.24, 0.24, 0.24, 0.24, 0.24, 0.24, 0.24, 0.24,\n",
       "        0.24, 0.24, 0.24, 0.24, 0.24, 0.24, 0.24, 0.24, 0.24]),\n",
       " array([0.36, 0.36, 0.36, 0.36, 0.36, 0.36, 0.36, 0.36, 0.36, 0.36, 0.36,\n",
       "        0.36, 0.32, 0.32, 0.32, 0.32, 0.32, 0.28, 0.28, 0.28]),\n",
       " array([0.2 , 0.2 , 0.2 , 0.2 , 0.2 , 0.2 , 0.2 , 0.2 , 0.2 , 0.2 , 0.2 ,\n",
       "        0.2 , 0.2 , 0.2 , 0.2 , 0.2 , 0.2 , 0.16, 0.16, 0.16]),\n",
       " array([0., 0., 0., 0., 0., 0., 0., 0., 0., 0., 0., 0., 0., 0., 0., 0., 0.,\n",
       "        0., 0., 0.]),\n",
       " array([0.04, 0.04, 0.04, 0.04, 0.04, 0.04, 0.04, 0.04, 0.04, 0.04, 0.04,\n",
       "        0.04, 0.04, 0.04, 0.04, 0.04, 0.04, 0.04, 0.04, 0.04]),\n",
       " array([0.08, 0.08, 0.08, 0.08, 0.08, 0.08, 0.08, 0.08, 0.08, 0.08, 0.08,\n",
       "        0.08, 0.08, 0.08, 0.08, 0.08, 0.08, 0.08, 0.08, 0.08]),\n",
       " array([0.08, 0.08, 0.08, 0.08, 0.08, 0.08, 0.08, 0.08, 0.08, 0.08, 0.08,\n",
       "        0.08, 0.08, 0.08, 0.08, 0.08, 0.08, 0.08, 0.08, 0.08]),\n",
       " array([2.12, 2.12, 2.2 , 2.24, 2.24, 2.28, 2.32, 2.36, 2.4 , 2.44, 2.44,\n",
       "        2.44, 2.44, 2.44, 2.48, 2.48, 2.48, 2.48, 2.48, 2.48]),\n",
       " array([2.72, 2.72, 2.72, 2.72, 2.72, 2.72, 2.72, 2.72, 2.72, 2.72, 2.72,\n",
       "        2.72, 2.72, 2.72, 2.72, 2.72, 2.72, 2.72, 2.72, 2.72]),\n",
       " array([0.68, 0.68, 0.72, 0.72, 0.72, 0.72, 0.72, 0.8 , 0.8 , 0.8 , 0.8 ,\n",
       "        0.8 , 0.8 , 0.8 , 0.8 , 0.8 , 0.8 , 0.8 , 0.8 , 0.8 ]),\n",
       " array([0.4 , 0.4 , 0.4 , 0.4 , 0.4 , 0.4 , 0.4 , 0.44, 0.48, 0.48, 0.48,\n",
       "        0.48, 0.48, 0.48, 0.48, 0.48, 0.48, 0.48, 0.48, 0.48]),\n",
       " array([0.12, 0.16, 0.16, 0.2 , 0.2 , 0.2 , 0.2 , 0.2 , 0.2 , 0.2 , 0.2 ,\n",
       "        0.2 , 0.2 , 0.2 , 0.2 , 0.2 , 0.2 , 0.2 , 0.2 , 0.2 ]),\n",
       " array([0.4, 0.4, 0.4, 0.4, 0.4, 0.4, 0.4, 0.4, 0.4, 0.4, 0.4, 0.4, 0.4,\n",
       "        0.4, 0.4, 0.4, 0.4, 0.4, 0.4, 0.4]),\n",
       " array([0.76, 0.8 , 0.76, 0.76, 0.76, 0.76, 0.76, 0.76, 0.76, 0.76, 0.76,\n",
       "        0.8 , 0.8 , 0.8 , 0.8 , 0.8 , 0.8 , 0.8 , 0.8 , 0.8 ]),\n",
       " array([0.8 , 0.8 , 0.8 , 0.8 , 0.84, 0.84, 0.84, 0.84, 0.84, 0.84, 0.84,\n",
       "        0.84, 0.84, 0.84, 0.76, 0.76, 0.76, 0.76, 0.76, 0.76]),\n",
       " array([0.28, 0.28, 0.28, 0.28, 0.28, 0.28, 0.28, 0.28, 0.28, 0.28, 0.28,\n",
       "        0.28, 0.28, 0.28, 0.28, 0.28, 0.28, 0.28, 0.28, 0.28]),\n",
       " array([0., 0., 0., 0., 0., 0., 0., 0., 0., 0., 0., 0., 0., 0., 0., 0., 0.,\n",
       "        0., 0., 0.]),\n",
       " array([1.24, 1.24, 1.24, 1.24, 1.24, 1.24, 1.28, 1.32, 1.32, 1.28, 1.24,\n",
       "        1.24, 1.24, 1.24, 1.24, 1.24, 1.24, 1.28, 1.28, 1.28]),\n",
       " array([1.08, 1.08, 1.08, 1.08, 1.08, 1.08, 1.08, 1.08, 1.08, 1.08, 1.08,\n",
       "        1.08, 1.08, 1.08, 1.08, 1.08, 1.08, 1.08, 1.08, 1.08]),\n",
       " array([0.48, 0.48, 0.48, 0.52, 0.52, 0.52, 0.52, 0.52, 0.52, 0.52, 0.52,\n",
       "        0.48, 0.48, 0.48, 0.48, 0.48, 0.48, 0.48, 0.48, 0.48]),\n",
       " array([0.52, 0.52, 0.52, 0.52, 0.52, 0.52, 0.52, 0.52, 0.52, 0.52, 0.52,\n",
       "        0.52, 0.52, 0.52, 0.48, 0.48, 0.48, 0.48, 0.48, 0.44]),\n",
       " array([0.32, 0.32, 0.32, 0.32, 0.32, 0.32, 0.32, 0.32, 0.32, 0.32, 0.32,\n",
       "        0.32, 0.32, 0.32, 0.36, 0.36, 0.36, 0.4 , 0.4 , 0.4 ])]"
      ]
     },
     "execution_count": 60,
     "metadata": {},
     "output_type": "execute_result"
    }
   ],
   "source": [
    "event_snippets"
   ]
  },
  {
   "cell_type": "code",
   "execution_count": 61,
   "id": "c391cc72-8dd7-4677-919a-9eef767fdf4c",
   "metadata": {
    "execution": {
     "iopub.execute_input": "2024-05-09T16:38:46.839993Z",
     "iopub.status.busy": "2024-05-09T16:38:46.839993Z",
     "iopub.status.idle": "2024-05-09T16:38:46.857903Z",
     "shell.execute_reply": "2024-05-09T16:38:46.857903Z",
     "shell.execute_reply.started": "2024-05-09T16:38:46.839993Z"
    }
   },
   "outputs": [
    {
     "data": {
      "text/plain": [
       "66"
      ]
     },
     "execution_count": 61,
     "metadata": {},
     "output_type": "execute_result"
    }
   ],
   "source": [
    "len(event_snippets)"
   ]
  },
  {
   "cell_type": "code",
   "execution_count": 62,
   "id": "27eeb5f9-de45-465e-80ea-5358b6f0b8fd",
   "metadata": {
    "execution": {
     "iopub.execute_input": "2024-05-09T16:39:01.177715Z",
     "iopub.status.busy": "2024-05-09T16:39:01.177715Z",
     "iopub.status.idle": "2024-05-09T16:39:01.193628Z",
     "shell.execute_reply": "2024-05-09T16:39:01.192107Z",
     "shell.execute_reply.started": "2024-05-09T16:39:01.177715Z"
    }
   },
   "outputs": [
    {
     "data": {
      "text/plain": [
       "20"
      ]
     },
     "execution_count": 62,
     "metadata": {},
     "output_type": "execute_result"
    }
   ],
   "source": [
    "len(event_snippets[0])"
   ]
  },
  {
   "cell_type": "code",
   "execution_count": 63,
   "id": "abbe05e8-b1f5-49da-a28b-406eb782395f",
   "metadata": {
    "execution": {
     "iopub.execute_input": "2024-05-09T17:20:52.890277Z",
     "iopub.status.busy": "2024-05-09T17:20:52.890277Z",
     "iopub.status.idle": "2024-05-09T17:20:53.048426Z",
     "shell.execute_reply": "2024-05-09T17:20:53.048426Z",
     "shell.execute_reply.started": "2024-05-09T17:20:52.890277Z"
    }
   },
   "outputs": [
    {
     "name": "stderr",
     "output_type": "stream",
     "text": [
      "C:\\Users\\short\\anaconda3\\Lib\\site-packages\\scipy\\stats\\_morestats.py:4102: UserWarning: Sample size too small for normal approximation.\n",
      "  warnings.warn(\"Sample size too small for normal approximation.\")\n"
     ]
    }
   ],
   "source": [
    "df = spike_analysis.__wilcox_baseline_v_event_stats__(recording1, event='win', equalize=10, baseline_window=10, offset=0, exclude_offset=False, save=False)"
   ]
  },
  {
   "cell_type": "code",
   "execution_count": 64,
   "id": "eeceaf46-1103-469a-b5e6-98e4e290af45",
   "metadata": {
    "editable": true,
    "execution": {
     "iopub.execute_input": "2024-05-09T17:20:58.247456Z",
     "iopub.status.busy": "2024-05-09T17:20:58.247456Z",
     "iopub.status.idle": "2024-05-09T17:20:58.306509Z",
     "shell.execute_reply": "2024-05-09T17:20:58.306509Z",
     "shell.execute_reply.started": "2024-05-09T17:20:58.247456Z"
    },
    "slideshow": {
     "slide_type": ""
    },
    "tags": []
   },
   "outputs": [
    {
     "data": {
      "text/html": [
       "<div>\n",
       "<style scoped>\n",
       "    .dataframe tbody tr th:only-of-type {\n",
       "        vertical-align: middle;\n",
       "    }\n",
       "\n",
       "    .dataframe tbody tr th {\n",
       "        vertical-align: top;\n",
       "    }\n",
       "\n",
       "    .dataframe thead th {\n",
       "        text-align: right;\n",
       "    }\n",
       "</style>\n",
       "<table border=\"1\" class=\"dataframe\">\n",
       "  <thead>\n",
       "    <tr style=\"text-align: right;\">\n",
       "      <th></th>\n",
       "      <th>Wilcoxon Stat</th>\n",
       "      <th>p value</th>\n",
       "      <th>event1 vs event2</th>\n",
       "    </tr>\n",
       "  </thead>\n",
       "  <tbody>\n",
       "    <tr>\n",
       "      <th>65</th>\n",
       "      <td>0.0</td>\n",
       "      <td>0.027708</td>\n",
       "      <td>decreases</td>\n",
       "    </tr>\n",
       "    <tr>\n",
       "      <th>123</th>\n",
       "      <td>7.0</td>\n",
       "      <td>0.463071</td>\n",
       "      <td>not significant</td>\n",
       "    </tr>\n",
       "    <tr>\n",
       "      <th>103</th>\n",
       "      <td>0.0</td>\n",
       "      <td>0.027708</td>\n",
       "      <td>decreases</td>\n",
       "    </tr>\n",
       "    <tr>\n",
       "      <th>83</th>\n",
       "      <td>0.0</td>\n",
       "      <td>0.027708</td>\n",
       "      <td>decreases</td>\n",
       "    </tr>\n",
       "    <tr>\n",
       "      <th>118</th>\n",
       "      <td>3.0</td>\n",
       "      <td>0.115851</td>\n",
       "      <td>not significant</td>\n",
       "    </tr>\n",
       "    <tr>\n",
       "      <th>93</th>\n",
       "      <td>5.0</td>\n",
       "      <td>0.248864</td>\n",
       "      <td>not significant</td>\n",
       "    </tr>\n",
       "    <tr>\n",
       "      <th>99</th>\n",
       "      <td>0.0</td>\n",
       "      <td>0.027708</td>\n",
       "      <td>decreases</td>\n",
       "    </tr>\n",
       "    <tr>\n",
       "      <th>105</th>\n",
       "      <td>6.0</td>\n",
       "      <td>0.345448</td>\n",
       "      <td>not significant</td>\n",
       "    </tr>\n",
       "    <tr>\n",
       "      <th>87</th>\n",
       "      <td>0.0</td>\n",
       "      <td>0.027708</td>\n",
       "      <td>decreases</td>\n",
       "    </tr>\n",
       "    <tr>\n",
       "      <th>19</th>\n",
       "      <td>0.0</td>\n",
       "      <td>0.027708</td>\n",
       "      <td>decreases</td>\n",
       "    </tr>\n",
       "    <tr>\n",
       "      <th>9</th>\n",
       "      <td>5.0</td>\n",
       "      <td>0.248864</td>\n",
       "      <td>not significant</td>\n",
       "    </tr>\n",
       "  </tbody>\n",
       "</table>\n",
       "</div>"
      ],
      "text/plain": [
       "     Wilcoxon Stat   p value event1 vs event2\n",
       "65             0.0  0.027708        decreases\n",
       "123            7.0  0.463071  not significant\n",
       "103            0.0  0.027708        decreases\n",
       "83             0.0  0.027708        decreases\n",
       "118            3.0  0.115851  not significant\n",
       "93             5.0  0.248864  not significant\n",
       "99             0.0  0.027708        decreases\n",
       "105            6.0  0.345448  not significant\n",
       "87             0.0  0.027708        decreases\n",
       "19             0.0  0.027708        decreases\n",
       "9              5.0  0.248864  not significant"
      ]
     },
     "execution_count": 64,
     "metadata": {},
     "output_type": "execute_result"
    }
   ],
   "source": [
    "df"
   ]
  },
  {
   "cell_type": "code",
   "execution_count": null,
   "id": "a4fe735f-c1b9-4bd1-b13b-da9baa5ba2fd",
   "metadata": {},
   "outputs": [],
   "source": []
  }
 ],
 "metadata": {
  "kernelspec": {
   "display_name": "Python 3 (ipykernel)",
   "language": "python",
   "name": "python3"
  },
  "language_info": {
   "codemirror_mode": {
    "name": "ipython",
    "version": 3
   },
   "file_extension": ".py",
   "mimetype": "text/x-python",
   "name": "python",
   "nbconvert_exporter": "python",
   "pygments_lexer": "ipython3",
   "version": "3.11.7"
  }
 },
 "nbformat": 4,
 "nbformat_minor": 5
}
