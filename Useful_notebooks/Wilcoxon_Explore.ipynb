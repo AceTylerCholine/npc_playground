{
 "cells": [
  {
   "cell_type": "code",
   "execution_count": 1,
   "id": "5c5629b5-74cf-43a6-a176-77e1e85e6c07",
   "metadata": {
    "editable": true,
    "execution": {
     "iopub.execute_input": "2024-05-09T23:01:36.102164Z",
     "iopub.status.busy": "2024-05-09T23:01:36.102164Z",
     "iopub.status.idle": "2024-05-09T23:02:29.865435Z",
     "shell.execute_reply": "2024-05-09T23:02:29.865435Z",
     "shell.execute_reply.started": "2024-05-09T23:01:36.102164Z"
    },
    "slideshow": {
     "slide_type": ""
    },
    "tags": []
   },
   "outputs": [
    {
     "name": "stdout",
     "output_type": "stream",
     "text": [
      "<class 'numpy.ndarray'>\n",
      "<class 'numpy.ndarray'>\n",
      "20230612_101430_standard_comp_to_training_D1_subj_1-3_t3b3L_box2_merged.rec\n",
      "<class 'numpy.ndarray'>\n",
      "<class 'numpy.ndarray'>\n",
      "20230617_115521_standard_comp_to_omission_D1_subj_1-1_t1b3L_box1_merged.rec\n",
      "<class 'numpy.ndarray'>\n",
      "<class 'numpy.ndarray'>\n",
      "20230617_115521_standard_comp_to_omission_D1_subj_1-2_t2b2L_box2_merged.rec\n",
      "<class 'numpy.ndarray'>\n",
      "<class 'numpy.ndarray'>\n",
      "20230618_100636_standard_comp_to_omission_D2_subj_1-1_t1b2L_box2_merged.rec\n",
      "<class 'numpy.ndarray'>\n",
      "<class 'numpy.ndarray'>\n",
      "20230618_100636_standard_comp_to_omission_D2_subj_1-4_t4b3L_box1_merged.rec\n",
      "<class 'numpy.ndarray'>\n",
      "<class 'numpy.ndarray'>\n",
      "20230619_115321_standard_comp_to_omission_D3_subj_1-4_t3b3L_box2_merged.rec\n",
      "<class 'numpy.ndarray'>\n",
      "<class 'numpy.ndarray'>\n",
      "20230620_114347_standard_comp_to_omission_D4_subj_1-1_t1b2L_box_2_merged.rec\n",
      "<class 'numpy.ndarray'>\n",
      "<class 'numpy.ndarray'>\n",
      "20230620_114347_standard_comp_to_omission_D4_subj_1-2_t3b3L_box_1_merged.rec\n",
      "<class 'numpy.ndarray'>\n",
      "<class 'numpy.ndarray'>\n",
      "20230621_111240_standard_comp_to_omission_D5_subj_1-4_t3b3L_box1_merged.rec\n",
      "<class 'numpy.ndarray'>\n",
      "<class 'numpy.ndarray'>\n",
      "Unit 92 is unsorted & has 2494 spikes\n",
      "Unit 92 will be deleted\n",
      "20230622_110832_standard_comp_to_both_rewarded_D1_subj_1-1_t1b3L_box1_merged.rec\n",
      "<class 'numpy.ndarray'>\n",
      "<class 'numpy.ndarray'>\n",
      "Unit 103 is unsorted & has 512 spikes\n",
      "Unit 103 will be deleted\n",
      "20230622_110832_standard_comp_to_both_rewarded_D1_subj_1-2_t3b3L_box1_merged.rec\n",
      "<class 'numpy.ndarray'>\n",
      "<class 'numpy.ndarray'>\n",
      "20230624_105855_standard_comp_to_both_rewarded_D3_subj_1-2_t1b2L_box1_merged.rec\n",
      "<class 'numpy.ndarray'>\n",
      "<class 'numpy.ndarray'>\n",
      "20230624_105855_standard_comp_to_both_rewarded_D3_subj_1-4_t3b3L_box1_merged.rec\n",
      "<class 'numpy.ndarray'>\n",
      "<class 'numpy.ndarray'>\n",
      "20230625_112913_standard_comp_to_both_rewarded_D4_subj_1-1_t1b2L_box1_merged.rec\n",
      "<class 'numpy.ndarray'>\n",
      "<class 'numpy.ndarray'>\n",
      "Unit 96 is unsorted & has 5811 spikes\n",
      "Unit 96 will be deleted\n",
      "Unit 95 is unsorted & has 6458 spikes\n",
      "Unit 95 will be deleted\n",
      "20230625_112913_standard_comp_to_both_rewarded_D4_subj_1-4_t3b3L_box1_merged.rec\n",
      "Please assign event dictionaries to each recording\n",
      "as recording.event_dict\n",
      "event_dict = {event name(str): np.array[[start(ms), stop(ms)]...]\n",
      "Please assign subjects to each recording as recording.subject\n"
     ]
    }
   ],
   "source": [
    "import pandas as pd\n",
    "import numpy as np\n",
    "import ast\n",
    "import pickle\n",
    "import csv\n",
    "import os\n",
    "from pathlib import Path\n",
    "from matplotlib_venn import venn2\n",
    "from matplotlib_venn import venn3\n",
    "from scipy.stats import gaussian_kde\n",
    "from scipy.signal import argrelextrema\n",
    "from scipy.stats import bootstrap\n",
    "import matplotlib.pyplot as plt\n",
    "import seaborn as sns\n",
    "import spikeanal as spike\n",
    "\n",
    "# It takes several steps to create the timestamp_dicts, refer to Ephys_Analysis_Notebook to create\n",
    "timestamp_dicts = pickle.load(open('hpc_timestamp_dicts.pkl', 'rb'))\n",
    "\n",
    "# Construct the path in a platform-independent way (HiPerGator or Windows)\n",
    "ephys_path = Path('.') / 'export' / 'updated_phys' / 'non-novel' / 'all_non_novel'\n",
    "\n",
    "ephys_data = spike.EphysRecordingCollection(str(ephys_path))"
   ]
  },
  {
   "cell_type": "code",
   "execution_count": 2,
   "id": "2a704991-bb7d-4f42-adb4-7141e523c13e",
   "metadata": {
    "execution": {
     "iopub.execute_input": "2024-05-09T23:02:30.071937Z",
     "iopub.status.busy": "2024-05-09T23:02:30.071937Z",
     "iopub.status.idle": "2024-05-09T23:02:33.726977Z",
     "shell.execute_reply": "2024-05-09T23:02:33.726977Z",
     "shell.execute_reply.started": "2024-05-09T23:02:30.071937Z"
    }
   },
   "outputs": [
    {
     "name": "stdout",
     "output_type": "stream",
     "text": [
      "All set to analyze\n"
     ]
    }
   ],
   "source": [
    "for recording in ephys_data.collection.keys():\n",
    "    # Check if the recording key (without everything after subject #) is in timestamp_dicts\n",
    "    start_pos = recording.find('subj_')\n",
    "    # Add the length of 'subj_' and 3 additional characters to include after 'subj_'\n",
    "    end_pos = start_pos + len('subj_') + 3\n",
    "    # Slice the recording key to get everything up to and including the subject identifier plus three characters\n",
    "    recording_key_without_suffix = recording[:end_pos]\n",
    "    if recording_key_without_suffix in timestamp_dicts:\n",
    "        # Assign the corresponding timestamp_dicts dictionary to event_dict\n",
    "        ephys_data.collection[recording].event_dict = timestamp_dicts[recording_key_without_suffix]\n",
    "        \n",
    "        # Extract the subject from the recording key\n",
    "        start = recording.find('subj_') + 5  # Start index after 'subj_'\n",
    "        subject = recording[start:start+3]\n",
    "        \n",
    "        # Assign the extracted subject\n",
    "        ephys_data.collection[recording].subject = subject\n",
    "        \n",
    "spike_analysis = spike.SpikeAnalysis_MultiRecording(ephys_data, timebin = 100, smoothing_window=250, ignore_freq = 0.5)"
   ]
  },
  {
   "cell_type": "code",
   "execution_count": 3,
   "id": "6a09760d-6be6-4eff-82aa-5a79e237bb53",
   "metadata": {
    "execution": {
     "iopub.execute_input": "2024-05-09T23:02:38.243585Z",
     "iopub.status.busy": "2024-05-09T23:02:38.243585Z",
     "iopub.status.idle": "2024-05-09T23:02:39.782058Z",
     "shell.execute_reply": "2024-05-09T23:02:39.782058Z",
     "shell.execute_reply.started": "2024-05-09T23:02:38.243585Z"
    }
   },
   "outputs": [
    {
     "data": {
      "text/html": [
       "<div>\n",
       "<style scoped>\n",
       "    .dataframe tbody tr th:only-of-type {\n",
       "        vertical-align: middle;\n",
       "    }\n",
       "\n",
       "    .dataframe tbody tr th {\n",
       "        vertical-align: top;\n",
       "    }\n",
       "\n",
       "    .dataframe thead th {\n",
       "        text-align: right;\n",
       "    }\n",
       "</style>\n",
       "<table border=\"1\" class=\"dataframe\">\n",
       "  <thead>\n",
       "    <tr style=\"text-align: right;\">\n",
       "      <th></th>\n",
       "      <th>Recording</th>\n",
       "      <th>Event name</th>\n",
       "      <th>Event number</th>\n",
       "      <th>Unit number</th>\n",
       "      <th>Pre-event timebin 1</th>\n",
       "      <th>Pre-event timebin 2</th>\n",
       "      <th>Pre-event timebin 3</th>\n",
       "      <th>Pre-event timebin 4</th>\n",
       "      <th>Pre-event timebin 5</th>\n",
       "      <th>Pre-event timebin 6</th>\n",
       "      <th>...</th>\n",
       "      <th>Event timebin 91</th>\n",
       "      <th>Event timebin 92</th>\n",
       "      <th>Event timebin 93</th>\n",
       "      <th>Event timebin 94</th>\n",
       "      <th>Event timebin 95</th>\n",
       "      <th>Event timebin 96</th>\n",
       "      <th>Event timebin 97</th>\n",
       "      <th>Event timebin 98</th>\n",
       "      <th>Event timebin 99</th>\n",
       "      <th>Event timebin 100</th>\n",
       "    </tr>\n",
       "  </thead>\n",
       "  <tbody>\n",
       "    <tr>\n",
       "      <th>0</th>\n",
       "      <td>20230612_101430_standard_comp_to_training_D1_s...</td>\n",
       "      <td>rewarded</td>\n",
       "      <td>1</td>\n",
       "      <td>85</td>\n",
       "      <td>1.28</td>\n",
       "      <td>1.28</td>\n",
       "      <td>1.28</td>\n",
       "      <td>1.28</td>\n",
       "      <td>1.28</td>\n",
       "      <td>1.28</td>\n",
       "      <td>...</td>\n",
       "      <td>0.76</td>\n",
       "      <td>0.76</td>\n",
       "      <td>0.76</td>\n",
       "      <td>0.76</td>\n",
       "      <td>0.76</td>\n",
       "      <td>0.72</td>\n",
       "      <td>0.72</td>\n",
       "      <td>0.72</td>\n",
       "      <td>0.72</td>\n",
       "      <td>0.72</td>\n",
       "    </tr>\n",
       "    <tr>\n",
       "      <th>1</th>\n",
       "      <td>20230612_101430_standard_comp_to_training_D1_s...</td>\n",
       "      <td>rewarded</td>\n",
       "      <td>2</td>\n",
       "      <td>85</td>\n",
       "      <td>0.12</td>\n",
       "      <td>0.12</td>\n",
       "      <td>0.12</td>\n",
       "      <td>0.12</td>\n",
       "      <td>0.12</td>\n",
       "      <td>0.12</td>\n",
       "      <td>...</td>\n",
       "      <td>0.24</td>\n",
       "      <td>0.24</td>\n",
       "      <td>0.24</td>\n",
       "      <td>0.24</td>\n",
       "      <td>0.24</td>\n",
       "      <td>0.24</td>\n",
       "      <td>0.24</td>\n",
       "      <td>0.24</td>\n",
       "      <td>0.24</td>\n",
       "      <td>0.24</td>\n",
       "    </tr>\n",
       "    <tr>\n",
       "      <th>2</th>\n",
       "      <td>20230612_101430_standard_comp_to_training_D1_s...</td>\n",
       "      <td>rewarded</td>\n",
       "      <td>3</td>\n",
       "      <td>85</td>\n",
       "      <td>0.12</td>\n",
       "      <td>0.12</td>\n",
       "      <td>0.12</td>\n",
       "      <td>0.12</td>\n",
       "      <td>0.12</td>\n",
       "      <td>0.12</td>\n",
       "      <td>...</td>\n",
       "      <td>0.12</td>\n",
       "      <td>0.12</td>\n",
       "      <td>0.12</td>\n",
       "      <td>0.12</td>\n",
       "      <td>0.12</td>\n",
       "      <td>0.12</td>\n",
       "      <td>0.12</td>\n",
       "      <td>0.12</td>\n",
       "      <td>0.12</td>\n",
       "      <td>0.12</td>\n",
       "    </tr>\n",
       "    <tr>\n",
       "      <th>3</th>\n",
       "      <td>20230612_101430_standard_comp_to_training_D1_s...</td>\n",
       "      <td>rewarded</td>\n",
       "      <td>4</td>\n",
       "      <td>85</td>\n",
       "      <td>0.24</td>\n",
       "      <td>0.24</td>\n",
       "      <td>0.24</td>\n",
       "      <td>0.24</td>\n",
       "      <td>0.24</td>\n",
       "      <td>0.24</td>\n",
       "      <td>...</td>\n",
       "      <td>0.12</td>\n",
       "      <td>0.12</td>\n",
       "      <td>0.12</td>\n",
       "      <td>0.12</td>\n",
       "      <td>0.12</td>\n",
       "      <td>0.12</td>\n",
       "      <td>0.12</td>\n",
       "      <td>0.12</td>\n",
       "      <td>0.12</td>\n",
       "      <td>0.12</td>\n",
       "    </tr>\n",
       "    <tr>\n",
       "      <th>4</th>\n",
       "      <td>20230612_101430_standard_comp_to_training_D1_s...</td>\n",
       "      <td>rewarded</td>\n",
       "      <td>5</td>\n",
       "      <td>85</td>\n",
       "      <td>0.20</td>\n",
       "      <td>0.20</td>\n",
       "      <td>0.20</td>\n",
       "      <td>0.20</td>\n",
       "      <td>0.20</td>\n",
       "      <td>0.20</td>\n",
       "      <td>...</td>\n",
       "      <td>0.08</td>\n",
       "      <td>0.08</td>\n",
       "      <td>0.08</td>\n",
       "      <td>0.08</td>\n",
       "      <td>0.08</td>\n",
       "      <td>0.08</td>\n",
       "      <td>0.08</td>\n",
       "      <td>0.08</td>\n",
       "      <td>0.08</td>\n",
       "      <td>0.08</td>\n",
       "    </tr>\n",
       "    <tr>\n",
       "      <th>...</th>\n",
       "      <td>...</td>\n",
       "      <td>...</td>\n",
       "      <td>...</td>\n",
       "      <td>...</td>\n",
       "      <td>...</td>\n",
       "      <td>...</td>\n",
       "      <td>...</td>\n",
       "      <td>...</td>\n",
       "      <td>...</td>\n",
       "      <td>...</td>\n",
       "      <td>...</td>\n",
       "      <td>...</td>\n",
       "      <td>...</td>\n",
       "      <td>...</td>\n",
       "      <td>...</td>\n",
       "      <td>...</td>\n",
       "      <td>...</td>\n",
       "      <td>...</td>\n",
       "      <td>...</td>\n",
       "      <td>...</td>\n",
       "      <td>...</td>\n",
       "    </tr>\n",
       "    <tr>\n",
       "      <th>10015</th>\n",
       "      <td>20230625_112913_standard_comp_to_both_rewarded...</td>\n",
       "      <td>both_rewarded</td>\n",
       "      <td>16</td>\n",
       "      <td>11</td>\n",
       "      <td>0.76</td>\n",
       "      <td>0.76</td>\n",
       "      <td>0.76</td>\n",
       "      <td>0.72</td>\n",
       "      <td>0.72</td>\n",
       "      <td>0.72</td>\n",
       "      <td>...</td>\n",
       "      <td>0.48</td>\n",
       "      <td>0.48</td>\n",
       "      <td>0.48</td>\n",
       "      <td>0.44</td>\n",
       "      <td>0.44</td>\n",
       "      <td>0.44</td>\n",
       "      <td>0.44</td>\n",
       "      <td>0.44</td>\n",
       "      <td>0.44</td>\n",
       "      <td>0.44</td>\n",
       "    </tr>\n",
       "    <tr>\n",
       "      <th>10016</th>\n",
       "      <td>20230625_112913_standard_comp_to_both_rewarded...</td>\n",
       "      <td>both_rewarded</td>\n",
       "      <td>17</td>\n",
       "      <td>11</td>\n",
       "      <td>0.16</td>\n",
       "      <td>0.16</td>\n",
       "      <td>0.16</td>\n",
       "      <td>0.16</td>\n",
       "      <td>0.16</td>\n",
       "      <td>0.16</td>\n",
       "      <td>...</td>\n",
       "      <td>0.84</td>\n",
       "      <td>0.92</td>\n",
       "      <td>0.92</td>\n",
       "      <td>0.96</td>\n",
       "      <td>0.96</td>\n",
       "      <td>1.00</td>\n",
       "      <td>1.00</td>\n",
       "      <td>1.00</td>\n",
       "      <td>1.00</td>\n",
       "      <td>1.00</td>\n",
       "    </tr>\n",
       "    <tr>\n",
       "      <th>10017</th>\n",
       "      <td>20230625_112913_standard_comp_to_both_rewarded...</td>\n",
       "      <td>both_rewarded</td>\n",
       "      <td>18</td>\n",
       "      <td>11</td>\n",
       "      <td>0.08</td>\n",
       "      <td>0.08</td>\n",
       "      <td>0.08</td>\n",
       "      <td>0.08</td>\n",
       "      <td>0.08</td>\n",
       "      <td>0.08</td>\n",
       "      <td>...</td>\n",
       "      <td>0.24</td>\n",
       "      <td>0.24</td>\n",
       "      <td>0.24</td>\n",
       "      <td>0.24</td>\n",
       "      <td>0.24</td>\n",
       "      <td>0.24</td>\n",
       "      <td>0.24</td>\n",
       "      <td>0.24</td>\n",
       "      <td>0.24</td>\n",
       "      <td>0.24</td>\n",
       "    </tr>\n",
       "    <tr>\n",
       "      <th>10018</th>\n",
       "      <td>20230625_112913_standard_comp_to_both_rewarded...</td>\n",
       "      <td>both_rewarded</td>\n",
       "      <td>19</td>\n",
       "      <td>11</td>\n",
       "      <td>0.04</td>\n",
       "      <td>0.04</td>\n",
       "      <td>0.04</td>\n",
       "      <td>0.04</td>\n",
       "      <td>0.04</td>\n",
       "      <td>0.04</td>\n",
       "      <td>...</td>\n",
       "      <td>0.36</td>\n",
       "      <td>0.36</td>\n",
       "      <td>0.36</td>\n",
       "      <td>0.36</td>\n",
       "      <td>0.36</td>\n",
       "      <td>0.36</td>\n",
       "      <td>0.36</td>\n",
       "      <td>0.36</td>\n",
       "      <td>0.36</td>\n",
       "      <td>0.36</td>\n",
       "    </tr>\n",
       "    <tr>\n",
       "      <th>10019</th>\n",
       "      <td>20230625_112913_standard_comp_to_both_rewarded...</td>\n",
       "      <td>both_rewarded</td>\n",
       "      <td>20</td>\n",
       "      <td>11</td>\n",
       "      <td>0.52</td>\n",
       "      <td>0.52</td>\n",
       "      <td>0.52</td>\n",
       "      <td>0.52</td>\n",
       "      <td>0.52</td>\n",
       "      <td>0.52</td>\n",
       "      <td>...</td>\n",
       "      <td>1.04</td>\n",
       "      <td>1.04</td>\n",
       "      <td>1.04</td>\n",
       "      <td>1.04</td>\n",
       "      <td>1.04</td>\n",
       "      <td>1.04</td>\n",
       "      <td>1.04</td>\n",
       "      <td>1.04</td>\n",
       "      <td>1.04</td>\n",
       "      <td>1.04</td>\n",
       "    </tr>\n",
       "  </tbody>\n",
       "</table>\n",
       "<p>10020 rows × 204 columns</p>\n",
       "</div>"
      ],
      "text/plain": [
       "                                               Recording     Event name  \\\n",
       "0      20230612_101430_standard_comp_to_training_D1_s...       rewarded   \n",
       "1      20230612_101430_standard_comp_to_training_D1_s...       rewarded   \n",
       "2      20230612_101430_standard_comp_to_training_D1_s...       rewarded   \n",
       "3      20230612_101430_standard_comp_to_training_D1_s...       rewarded   \n",
       "4      20230612_101430_standard_comp_to_training_D1_s...       rewarded   \n",
       "...                                                  ...            ...   \n",
       "10015  20230625_112913_standard_comp_to_both_rewarded...  both_rewarded   \n",
       "10016  20230625_112913_standard_comp_to_both_rewarded...  both_rewarded   \n",
       "10017  20230625_112913_standard_comp_to_both_rewarded...  both_rewarded   \n",
       "10018  20230625_112913_standard_comp_to_both_rewarded...  both_rewarded   \n",
       "10019  20230625_112913_standard_comp_to_both_rewarded...  both_rewarded   \n",
       "\n",
       "       Event number  Unit number  Pre-event timebin 1  Pre-event timebin 2  \\\n",
       "0                 1           85                 1.28                 1.28   \n",
       "1                 2           85                 0.12                 0.12   \n",
       "2                 3           85                 0.12                 0.12   \n",
       "3                 4           85                 0.24                 0.24   \n",
       "4                 5           85                 0.20                 0.20   \n",
       "...             ...          ...                  ...                  ...   \n",
       "10015            16           11                 0.76                 0.76   \n",
       "10016            17           11                 0.16                 0.16   \n",
       "10017            18           11                 0.08                 0.08   \n",
       "10018            19           11                 0.04                 0.04   \n",
       "10019            20           11                 0.52                 0.52   \n",
       "\n",
       "       Pre-event timebin 3  Pre-event timebin 4  Pre-event timebin 5  \\\n",
       "0                     1.28                 1.28                 1.28   \n",
       "1                     0.12                 0.12                 0.12   \n",
       "2                     0.12                 0.12                 0.12   \n",
       "3                     0.24                 0.24                 0.24   \n",
       "4                     0.20                 0.20                 0.20   \n",
       "...                    ...                  ...                  ...   \n",
       "10015                 0.76                 0.72                 0.72   \n",
       "10016                 0.16                 0.16                 0.16   \n",
       "10017                 0.08                 0.08                 0.08   \n",
       "10018                 0.04                 0.04                 0.04   \n",
       "10019                 0.52                 0.52                 0.52   \n",
       "\n",
       "       Pre-event timebin 6  ...  Event timebin 91  Event timebin 92  \\\n",
       "0                     1.28  ...              0.76              0.76   \n",
       "1                     0.12  ...              0.24              0.24   \n",
       "2                     0.12  ...              0.12              0.12   \n",
       "3                     0.24  ...              0.12              0.12   \n",
       "4                     0.20  ...              0.08              0.08   \n",
       "...                    ...  ...               ...               ...   \n",
       "10015                 0.72  ...              0.48              0.48   \n",
       "10016                 0.16  ...              0.84              0.92   \n",
       "10017                 0.08  ...              0.24              0.24   \n",
       "10018                 0.04  ...              0.36              0.36   \n",
       "10019                 0.52  ...              1.04              1.04   \n",
       "\n",
       "       Event timebin 93  Event timebin 94  Event timebin 95  Event timebin 96  \\\n",
       "0                  0.76              0.76              0.76              0.72   \n",
       "1                  0.24              0.24              0.24              0.24   \n",
       "2                  0.12              0.12              0.12              0.12   \n",
       "3                  0.12              0.12              0.12              0.12   \n",
       "4                  0.08              0.08              0.08              0.08   \n",
       "...                 ...               ...               ...               ...   \n",
       "10015              0.48              0.44              0.44              0.44   \n",
       "10016              0.92              0.96              0.96              1.00   \n",
       "10017              0.24              0.24              0.24              0.24   \n",
       "10018              0.36              0.36              0.36              0.36   \n",
       "10019              1.04              1.04              1.04              1.04   \n",
       "\n",
       "       Event timebin 97  Event timebin 98  Event timebin 99  Event timebin 100  \n",
       "0                  0.72              0.72              0.72               0.72  \n",
       "1                  0.24              0.24              0.24               0.24  \n",
       "2                  0.12              0.12              0.12               0.12  \n",
       "3                  0.12              0.12              0.12               0.12  \n",
       "4                  0.08              0.08              0.08               0.08  \n",
       "...                 ...               ...               ...                ...  \n",
       "10015              0.44              0.44              0.44               0.44  \n",
       "10016              1.00              1.00              1.00               1.00  \n",
       "10017              0.24              0.24              0.24               0.24  \n",
       "10018              0.36              0.36              0.36               0.36  \n",
       "10019              1.04              1.04              1.04               1.04  \n",
       "\n",
       "[10020 rows x 204 columns]"
      ]
     },
     "execution_count": 3,
     "metadata": {},
     "output_type": "execute_result"
    }
   ],
   "source": [
    "# Create df of spike freq 10s before and 10s during every event\n",
    "event_spikes = spike_analysis.generate_event_dataframe()\n",
    "\n",
    "# Identify 'Pre-event' and 'Event' columns\n",
    "pre_event_cols = [col for col in event_spikes.columns if col.startswith('Pre-event')]\n",
    "event_cols = [col for col in event_spikes.columns if col.startswith('Event') and col not in ['Event name', 'Event number']]\n",
    "\n",
    "event_spikes"
   ]
  },
  {
   "cell_type": "code",
   "execution_count": 5,
   "id": "4dc6c88d-fd04-4c65-900b-2d2f63094a24",
   "metadata": {
    "execution": {
     "iopub.execute_input": "2024-05-09T23:04:04.471552Z",
     "iopub.status.busy": "2024-05-09T23:04:04.471552Z",
     "iopub.status.idle": "2024-05-09T23:04:04.504567Z",
     "shell.execute_reply": "2024-05-09T23:04:04.504567Z",
     "shell.execute_reply.started": "2024-05-09T23:04:04.471552Z"
    }
   },
   "outputs": [
    {
     "data": {
      "text/plain": [
       "Unit number\n",
       "17     242\n",
       "39     199\n",
       "15     197\n",
       "48     196\n",
       "52     162\n",
       "      ... \n",
       "114     21\n",
       "72      21\n",
       "95      21\n",
       "34      21\n",
       "4       21\n",
       "Name: count, Length: 142, dtype: int64"
      ]
     },
     "execution_count": 5,
     "metadata": {},
     "output_type": "execute_result"
    }
   ],
   "source": [
    "event_spikes['Unit number'].value_counts()"
   ]
  },
  {
   "cell_type": "code",
   "execution_count": 36,
   "id": "03399607-7039-4f47-954c-562aca8957d0",
   "metadata": {
    "execution": {
     "iopub.execute_input": "2024-05-10T14:59:10.576343Z",
     "iopub.status.busy": "2024-05-10T14:59:10.576343Z",
     "iopub.status.idle": "2024-05-10T14:59:10.627151Z",
     "shell.execute_reply": "2024-05-10T14:59:10.627151Z",
     "shell.execute_reply.started": "2024-05-10T14:59:10.576343Z"
    }
   },
   "outputs": [
    {
     "data": {
      "text/plain": [
       "Event name\n",
       "lose             2854\n",
       "win              2746\n",
       "both_rewarded    2381\n",
       "rewarded         1752\n",
       "omission          287\n",
       "Name: count, dtype: int64"
      ]
     },
     "execution_count": 36,
     "metadata": {},
     "output_type": "execute_result"
    }
   ],
   "source": [
    "event_spikes['Event name'].value_counts()"
   ]
  },
  {
   "cell_type": "code",
   "execution_count": 7,
   "id": "9f5fdda0-5ed9-4790-bbe2-87c009867996",
   "metadata": {
    "execution": {
     "iopub.execute_input": "2024-05-09T23:08:01.305649Z",
     "iopub.status.busy": "2024-05-09T23:08:01.305649Z",
     "iopub.status.idle": "2024-05-09T23:08:01.325078Z",
     "shell.execute_reply": "2024-05-09T23:08:01.325078Z",
     "shell.execute_reply.started": "2024-05-09T23:08:01.305649Z"
    }
   },
   "outputs": [],
   "source": [
    "recording1 = event_spikes[event_spikes['Recording'] == '20230612_101430_standard_comp_to_training_D1_subj_1-3_t3b3L_box2_merged.rec']"
   ]
  },
  {
   "cell_type": "code",
   "execution_count": 8,
   "id": "a8c5effb-7292-49d0-b2fa-7c01fb2a52d5",
   "metadata": {
    "execution": {
     "iopub.execute_input": "2024-05-09T23:08:06.351888Z",
     "iopub.status.busy": "2024-05-09T23:08:06.351888Z",
     "iopub.status.idle": "2024-05-09T23:08:06.407736Z",
     "shell.execute_reply": "2024-05-09T23:08:06.407736Z",
     "shell.execute_reply.started": "2024-05-09T23:08:06.351888Z"
    }
   },
   "outputs": [
    {
     "data": {
      "text/html": [
       "<div>\n",
       "<style scoped>\n",
       "    .dataframe tbody tr th:only-of-type {\n",
       "        vertical-align: middle;\n",
       "    }\n",
       "\n",
       "    .dataframe tbody tr th {\n",
       "        vertical-align: top;\n",
       "    }\n",
       "\n",
       "    .dataframe thead th {\n",
       "        text-align: right;\n",
       "    }\n",
       "</style>\n",
       "<table border=\"1\" class=\"dataframe\">\n",
       "  <thead>\n",
       "    <tr style=\"text-align: right;\">\n",
       "      <th></th>\n",
       "      <th>Recording</th>\n",
       "      <th>Event name</th>\n",
       "      <th>Event number</th>\n",
       "      <th>Unit number</th>\n",
       "      <th>Pre-event timebin 1</th>\n",
       "      <th>Pre-event timebin 2</th>\n",
       "      <th>Pre-event timebin 3</th>\n",
       "      <th>Pre-event timebin 4</th>\n",
       "      <th>Pre-event timebin 5</th>\n",
       "      <th>Pre-event timebin 6</th>\n",
       "      <th>...</th>\n",
       "      <th>Event timebin 91</th>\n",
       "      <th>Event timebin 92</th>\n",
       "      <th>Event timebin 93</th>\n",
       "      <th>Event timebin 94</th>\n",
       "      <th>Event timebin 95</th>\n",
       "      <th>Event timebin 96</th>\n",
       "      <th>Event timebin 97</th>\n",
       "      <th>Event timebin 98</th>\n",
       "      <th>Event timebin 99</th>\n",
       "      <th>Event timebin 100</th>\n",
       "    </tr>\n",
       "  </thead>\n",
       "  <tbody>\n",
       "    <tr>\n",
       "      <th>0</th>\n",
       "      <td>20230612_101430_standard_comp_to_training_D1_s...</td>\n",
       "      <td>rewarded</td>\n",
       "      <td>1</td>\n",
       "      <td>85</td>\n",
       "      <td>1.28</td>\n",
       "      <td>1.28</td>\n",
       "      <td>1.28</td>\n",
       "      <td>1.28</td>\n",
       "      <td>1.28</td>\n",
       "      <td>1.28</td>\n",
       "      <td>...</td>\n",
       "      <td>0.76</td>\n",
       "      <td>0.76</td>\n",
       "      <td>0.76</td>\n",
       "      <td>0.76</td>\n",
       "      <td>0.76</td>\n",
       "      <td>0.72</td>\n",
       "      <td>0.72</td>\n",
       "      <td>0.72</td>\n",
       "      <td>0.72</td>\n",
       "      <td>0.72</td>\n",
       "    </tr>\n",
       "    <tr>\n",
       "      <th>1</th>\n",
       "      <td>20230612_101430_standard_comp_to_training_D1_s...</td>\n",
       "      <td>rewarded</td>\n",
       "      <td>2</td>\n",
       "      <td>85</td>\n",
       "      <td>0.12</td>\n",
       "      <td>0.12</td>\n",
       "      <td>0.12</td>\n",
       "      <td>0.12</td>\n",
       "      <td>0.12</td>\n",
       "      <td>0.12</td>\n",
       "      <td>...</td>\n",
       "      <td>0.24</td>\n",
       "      <td>0.24</td>\n",
       "      <td>0.24</td>\n",
       "      <td>0.24</td>\n",
       "      <td>0.24</td>\n",
       "      <td>0.24</td>\n",
       "      <td>0.24</td>\n",
       "      <td>0.24</td>\n",
       "      <td>0.24</td>\n",
       "      <td>0.24</td>\n",
       "    </tr>\n",
       "    <tr>\n",
       "      <th>2</th>\n",
       "      <td>20230612_101430_standard_comp_to_training_D1_s...</td>\n",
       "      <td>rewarded</td>\n",
       "      <td>3</td>\n",
       "      <td>85</td>\n",
       "      <td>0.12</td>\n",
       "      <td>0.12</td>\n",
       "      <td>0.12</td>\n",
       "      <td>0.12</td>\n",
       "      <td>0.12</td>\n",
       "      <td>0.12</td>\n",
       "      <td>...</td>\n",
       "      <td>0.12</td>\n",
       "      <td>0.12</td>\n",
       "      <td>0.12</td>\n",
       "      <td>0.12</td>\n",
       "      <td>0.12</td>\n",
       "      <td>0.12</td>\n",
       "      <td>0.12</td>\n",
       "      <td>0.12</td>\n",
       "      <td>0.12</td>\n",
       "      <td>0.12</td>\n",
       "    </tr>\n",
       "    <tr>\n",
       "      <th>3</th>\n",
       "      <td>20230612_101430_standard_comp_to_training_D1_s...</td>\n",
       "      <td>rewarded</td>\n",
       "      <td>4</td>\n",
       "      <td>85</td>\n",
       "      <td>0.24</td>\n",
       "      <td>0.24</td>\n",
       "      <td>0.24</td>\n",
       "      <td>0.24</td>\n",
       "      <td>0.24</td>\n",
       "      <td>0.24</td>\n",
       "      <td>...</td>\n",
       "      <td>0.12</td>\n",
       "      <td>0.12</td>\n",
       "      <td>0.12</td>\n",
       "      <td>0.12</td>\n",
       "      <td>0.12</td>\n",
       "      <td>0.12</td>\n",
       "      <td>0.12</td>\n",
       "      <td>0.12</td>\n",
       "      <td>0.12</td>\n",
       "      <td>0.12</td>\n",
       "    </tr>\n",
       "    <tr>\n",
       "      <th>4</th>\n",
       "      <td>20230612_101430_standard_comp_to_training_D1_s...</td>\n",
       "      <td>rewarded</td>\n",
       "      <td>5</td>\n",
       "      <td>85</td>\n",
       "      <td>0.20</td>\n",
       "      <td>0.20</td>\n",
       "      <td>0.20</td>\n",
       "      <td>0.20</td>\n",
       "      <td>0.20</td>\n",
       "      <td>0.20</td>\n",
       "      <td>...</td>\n",
       "      <td>0.08</td>\n",
       "      <td>0.08</td>\n",
       "      <td>0.08</td>\n",
       "      <td>0.08</td>\n",
       "      <td>0.08</td>\n",
       "      <td>0.08</td>\n",
       "      <td>0.08</td>\n",
       "      <td>0.08</td>\n",
       "      <td>0.08</td>\n",
       "      <td>0.08</td>\n",
       "    </tr>\n",
       "    <tr>\n",
       "      <th>...</th>\n",
       "      <td>...</td>\n",
       "      <td>...</td>\n",
       "      <td>...</td>\n",
       "      <td>...</td>\n",
       "      <td>...</td>\n",
       "      <td>...</td>\n",
       "      <td>...</td>\n",
       "      <td>...</td>\n",
       "      <td>...</td>\n",
       "      <td>...</td>\n",
       "      <td>...</td>\n",
       "      <td>...</td>\n",
       "      <td>...</td>\n",
       "      <td>...</td>\n",
       "      <td>...</td>\n",
       "      <td>...</td>\n",
       "      <td>...</td>\n",
       "      <td>...</td>\n",
       "      <td>...</td>\n",
       "      <td>...</td>\n",
       "      <td>...</td>\n",
       "    </tr>\n",
       "    <tr>\n",
       "      <th>755</th>\n",
       "      <td>20230612_101430_standard_comp_to_training_D1_s...</td>\n",
       "      <td>lose</td>\n",
       "      <td>3</td>\n",
       "      <td>57</td>\n",
       "      <td>0.04</td>\n",
       "      <td>0.04</td>\n",
       "      <td>0.04</td>\n",
       "      <td>0.04</td>\n",
       "      <td>0.04</td>\n",
       "      <td>0.04</td>\n",
       "      <td>...</td>\n",
       "      <td>0.12</td>\n",
       "      <td>0.12</td>\n",
       "      <td>0.12</td>\n",
       "      <td>0.12</td>\n",
       "      <td>0.12</td>\n",
       "      <td>0.12</td>\n",
       "      <td>0.12</td>\n",
       "      <td>0.12</td>\n",
       "      <td>0.12</td>\n",
       "      <td>0.12</td>\n",
       "    </tr>\n",
       "    <tr>\n",
       "      <th>756</th>\n",
       "      <td>20230612_101430_standard_comp_to_training_D1_s...</td>\n",
       "      <td>lose</td>\n",
       "      <td>4</td>\n",
       "      <td>57</td>\n",
       "      <td>0.04</td>\n",
       "      <td>0.04</td>\n",
       "      <td>0.04</td>\n",
       "      <td>0.04</td>\n",
       "      <td>0.04</td>\n",
       "      <td>0.04</td>\n",
       "      <td>...</td>\n",
       "      <td>0.00</td>\n",
       "      <td>0.00</td>\n",
       "      <td>0.00</td>\n",
       "      <td>0.00</td>\n",
       "      <td>0.00</td>\n",
       "      <td>0.04</td>\n",
       "      <td>0.04</td>\n",
       "      <td>0.04</td>\n",
       "      <td>0.04</td>\n",
       "      <td>0.04</td>\n",
       "    </tr>\n",
       "    <tr>\n",
       "      <th>757</th>\n",
       "      <td>20230612_101430_standard_comp_to_training_D1_s...</td>\n",
       "      <td>lose</td>\n",
       "      <td>5</td>\n",
       "      <td>57</td>\n",
       "      <td>0.00</td>\n",
       "      <td>0.00</td>\n",
       "      <td>0.00</td>\n",
       "      <td>0.00</td>\n",
       "      <td>0.00</td>\n",
       "      <td>0.00</td>\n",
       "      <td>...</td>\n",
       "      <td>0.04</td>\n",
       "      <td>0.04</td>\n",
       "      <td>0.04</td>\n",
       "      <td>0.04</td>\n",
       "      <td>0.04</td>\n",
       "      <td>0.04</td>\n",
       "      <td>0.04</td>\n",
       "      <td>0.04</td>\n",
       "      <td>0.04</td>\n",
       "      <td>0.04</td>\n",
       "    </tr>\n",
       "    <tr>\n",
       "      <th>758</th>\n",
       "      <td>20230612_101430_standard_comp_to_training_D1_s...</td>\n",
       "      <td>lose</td>\n",
       "      <td>6</td>\n",
       "      <td>57</td>\n",
       "      <td>0.08</td>\n",
       "      <td>0.08</td>\n",
       "      <td>0.08</td>\n",
       "      <td>0.08</td>\n",
       "      <td>0.08</td>\n",
       "      <td>0.08</td>\n",
       "      <td>...</td>\n",
       "      <td>0.16</td>\n",
       "      <td>0.16</td>\n",
       "      <td>0.16</td>\n",
       "      <td>0.16</td>\n",
       "      <td>0.16</td>\n",
       "      <td>0.16</td>\n",
       "      <td>0.16</td>\n",
       "      <td>0.16</td>\n",
       "      <td>0.16</td>\n",
       "      <td>0.16</td>\n",
       "    </tr>\n",
       "    <tr>\n",
       "      <th>759</th>\n",
       "      <td>20230612_101430_standard_comp_to_training_D1_s...</td>\n",
       "      <td>lose</td>\n",
       "      <td>7</td>\n",
       "      <td>57</td>\n",
       "      <td>0.12</td>\n",
       "      <td>0.12</td>\n",
       "      <td>0.12</td>\n",
       "      <td>0.12</td>\n",
       "      <td>0.12</td>\n",
       "      <td>0.16</td>\n",
       "      <td>...</td>\n",
       "      <td>0.68</td>\n",
       "      <td>0.68</td>\n",
       "      <td>0.68</td>\n",
       "      <td>0.68</td>\n",
       "      <td>0.68</td>\n",
       "      <td>0.64</td>\n",
       "      <td>0.64</td>\n",
       "      <td>0.64</td>\n",
       "      <td>0.64</td>\n",
       "      <td>0.64</td>\n",
       "    </tr>\n",
       "  </tbody>\n",
       "</table>\n",
       "<p>760 rows × 204 columns</p>\n",
       "</div>"
      ],
      "text/plain": [
       "                                             Recording Event name  \\\n",
       "0    20230612_101430_standard_comp_to_training_D1_s...   rewarded   \n",
       "1    20230612_101430_standard_comp_to_training_D1_s...   rewarded   \n",
       "2    20230612_101430_standard_comp_to_training_D1_s...   rewarded   \n",
       "3    20230612_101430_standard_comp_to_training_D1_s...   rewarded   \n",
       "4    20230612_101430_standard_comp_to_training_D1_s...   rewarded   \n",
       "..                                                 ...        ...   \n",
       "755  20230612_101430_standard_comp_to_training_D1_s...       lose   \n",
       "756  20230612_101430_standard_comp_to_training_D1_s...       lose   \n",
       "757  20230612_101430_standard_comp_to_training_D1_s...       lose   \n",
       "758  20230612_101430_standard_comp_to_training_D1_s...       lose   \n",
       "759  20230612_101430_standard_comp_to_training_D1_s...       lose   \n",
       "\n",
       "     Event number  Unit number  Pre-event timebin 1  Pre-event timebin 2  \\\n",
       "0               1           85                 1.28                 1.28   \n",
       "1               2           85                 0.12                 0.12   \n",
       "2               3           85                 0.12                 0.12   \n",
       "3               4           85                 0.24                 0.24   \n",
       "4               5           85                 0.20                 0.20   \n",
       "..            ...          ...                  ...                  ...   \n",
       "755             3           57                 0.04                 0.04   \n",
       "756             4           57                 0.04                 0.04   \n",
       "757             5           57                 0.00                 0.00   \n",
       "758             6           57                 0.08                 0.08   \n",
       "759             7           57                 0.12                 0.12   \n",
       "\n",
       "     Pre-event timebin 3  Pre-event timebin 4  Pre-event timebin 5  \\\n",
       "0                   1.28                 1.28                 1.28   \n",
       "1                   0.12                 0.12                 0.12   \n",
       "2                   0.12                 0.12                 0.12   \n",
       "3                   0.24                 0.24                 0.24   \n",
       "4                   0.20                 0.20                 0.20   \n",
       "..                   ...                  ...                  ...   \n",
       "755                 0.04                 0.04                 0.04   \n",
       "756                 0.04                 0.04                 0.04   \n",
       "757                 0.00                 0.00                 0.00   \n",
       "758                 0.08                 0.08                 0.08   \n",
       "759                 0.12                 0.12                 0.12   \n",
       "\n",
       "     Pre-event timebin 6  ...  Event timebin 91  Event timebin 92  \\\n",
       "0                   1.28  ...              0.76              0.76   \n",
       "1                   0.12  ...              0.24              0.24   \n",
       "2                   0.12  ...              0.12              0.12   \n",
       "3                   0.24  ...              0.12              0.12   \n",
       "4                   0.20  ...              0.08              0.08   \n",
       "..                   ...  ...               ...               ...   \n",
       "755                 0.04  ...              0.12              0.12   \n",
       "756                 0.04  ...              0.00              0.00   \n",
       "757                 0.00  ...              0.04              0.04   \n",
       "758                 0.08  ...              0.16              0.16   \n",
       "759                 0.16  ...              0.68              0.68   \n",
       "\n",
       "     Event timebin 93  Event timebin 94  Event timebin 95  Event timebin 96  \\\n",
       "0                0.76              0.76              0.76              0.72   \n",
       "1                0.24              0.24              0.24              0.24   \n",
       "2                0.12              0.12              0.12              0.12   \n",
       "3                0.12              0.12              0.12              0.12   \n",
       "4                0.08              0.08              0.08              0.08   \n",
       "..                ...               ...               ...               ...   \n",
       "755              0.12              0.12              0.12              0.12   \n",
       "756              0.00              0.00              0.00              0.04   \n",
       "757              0.04              0.04              0.04              0.04   \n",
       "758              0.16              0.16              0.16              0.16   \n",
       "759              0.68              0.68              0.68              0.64   \n",
       "\n",
       "     Event timebin 97  Event timebin 98  Event timebin 99  Event timebin 100  \n",
       "0                0.72              0.72              0.72               0.72  \n",
       "1                0.24              0.24              0.24               0.24  \n",
       "2                0.12              0.12              0.12               0.12  \n",
       "3                0.12              0.12              0.12               0.12  \n",
       "4                0.08              0.08              0.08               0.08  \n",
       "..                ...               ...               ...                ...  \n",
       "755              0.12              0.12              0.12               0.12  \n",
       "756              0.04              0.04              0.04               0.04  \n",
       "757              0.04              0.04              0.04               0.04  \n",
       "758              0.16              0.16              0.16               0.16  \n",
       "759              0.64              0.64              0.64               0.64  \n",
       "\n",
       "[760 rows x 204 columns]"
      ]
     },
     "execution_count": 8,
     "metadata": {},
     "output_type": "execute_result"
    }
   ],
   "source": [
    "recording1"
   ]
  },
  {
   "cell_type": "code",
   "execution_count": 9,
   "id": "33f909f5-0530-426b-9c99-5869112ebec0",
   "metadata": {
    "execution": {
     "iopub.execute_input": "2024-05-09T23:08:20.913378Z",
     "iopub.status.busy": "2024-05-09T23:08:20.913378Z",
     "iopub.status.idle": "2024-05-09T23:08:20.931391Z",
     "shell.execute_reply": "2024-05-09T23:08:20.931391Z",
     "shell.execute_reply.started": "2024-05-09T23:08:20.913378Z"
    }
   },
   "outputs": [
    {
     "data": {
      "text/plain": [
       "Unit number\n",
       "85    40\n",
       "13    40\n",
       "36    40\n",
       "5     40\n",
       "26    40\n",
       "88    40\n",
       "19    40\n",
       "81    40\n",
       "59    40\n",
       "33    40\n",
       "55    40\n",
       "2     40\n",
       "94    40\n",
       "98    40\n",
       "65    40\n",
       "68    40\n",
       "24    40\n",
       "17    40\n",
       "57    40\n",
       "Name: count, dtype: int64"
      ]
     },
     "execution_count": 9,
     "metadata": {},
     "output_type": "execute_result"
    }
   ],
   "source": [
    "recording1['Unit number'].value_counts()"
   ]
  },
  {
   "cell_type": "code",
   "execution_count": 10,
   "id": "5ebb574a-df46-47df-aac1-6c1ebccaa584",
   "metadata": {
    "execution": {
     "iopub.execute_input": "2024-05-09T23:16:18.189185Z",
     "iopub.status.busy": "2024-05-09T23:16:18.189185Z",
     "iopub.status.idle": "2024-05-09T23:16:18.356130Z",
     "shell.execute_reply": "2024-05-09T23:16:18.356130Z",
     "shell.execute_reply.started": "2024-05-09T23:16:18.189185Z"
    }
   },
   "outputs": [],
   "source": [
    "# Assuming event_spikes is your DataFrame\n",
    "groups = recording1.groupby(['Unit number', 'Event name'])\n",
    "\n",
    "# Prepare dictionaries to store the results\n",
    "pre_event_arrays = {}\n",
    "event_arrays = {}\n",
    "\n",
    "# Iterate through each group\n",
    "for (unit, event_name), group in groups:\n",
    "    # Sort the group by 'Event number' to ensure correct order\n",
    "    sorted_group = group.sort_values('Event number')\n",
    "    \n",
    "    # Concatenate pre-event and event columns across all event numbers for this group\n",
    "    pre_event_data = np.concatenate([sorted_group[pre_event_cols].values.flatten()])\n",
    "    event_data = np.concatenate([sorted_group[event_cols].values.flatten()])\n",
    "    \n",
    "    # Store in dictionaries\n",
    "    pre_event_arrays[f'pre_{event_name}_{unit}'] = pre_event_data\n",
    "    event_arrays[f'during_{event_name}_{unit}'] = event_data"
   ]
  },
  {
   "cell_type": "code",
   "execution_count": 12,
   "id": "df027abb-b455-4a15-87dd-d9d4e078ebb9",
   "metadata": {
    "execution": {
     "iopub.execute_input": "2024-05-09T23:16:42.971346Z",
     "iopub.status.busy": "2024-05-09T23:16:42.971346Z",
     "iopub.status.idle": "2024-05-09T23:16:42.989221Z",
     "shell.execute_reply": "2024-05-09T23:16:42.989221Z",
     "shell.execute_reply.started": "2024-05-09T23:16:42.971346Z"
    }
   },
   "outputs": [
    {
     "data": {
      "text/plain": [
       "dict_keys(['pre_lose_2', 'pre_rewarded_2', 'pre_win_2', 'pre_lose_5', 'pre_rewarded_5', 'pre_win_5', 'pre_lose_13', 'pre_rewarded_13', 'pre_win_13', 'pre_lose_17', 'pre_rewarded_17', 'pre_win_17', 'pre_lose_19', 'pre_rewarded_19', 'pre_win_19', 'pre_lose_24', 'pre_rewarded_24', 'pre_win_24', 'pre_lose_26', 'pre_rewarded_26', 'pre_win_26', 'pre_lose_33', 'pre_rewarded_33', 'pre_win_33', 'pre_lose_36', 'pre_rewarded_36', 'pre_win_36', 'pre_lose_55', 'pre_rewarded_55', 'pre_win_55', 'pre_lose_57', 'pre_rewarded_57', 'pre_win_57', 'pre_lose_59', 'pre_rewarded_59', 'pre_win_59', 'pre_lose_65', 'pre_rewarded_65', 'pre_win_65', 'pre_lose_68', 'pre_rewarded_68', 'pre_win_68', 'pre_lose_81', 'pre_rewarded_81', 'pre_win_81', 'pre_lose_85', 'pre_rewarded_85', 'pre_win_85', 'pre_lose_88', 'pre_rewarded_88', 'pre_win_88', 'pre_lose_94', 'pre_rewarded_94', 'pre_win_94', 'pre_lose_98', 'pre_rewarded_98', 'pre_win_98'])"
      ]
     },
     "execution_count": 12,
     "metadata": {},
     "output_type": "execute_result"
    }
   ],
   "source": [
    "pre_event_arrays.keys()"
   ]
  },
  {
   "cell_type": "code",
   "execution_count": 13,
   "id": "036d853e-c6c3-4a7f-98cd-b1bad77ea6f0",
   "metadata": {
    "execution": {
     "iopub.execute_input": "2024-05-09T23:17:11.452159Z",
     "iopub.status.busy": "2024-05-09T23:17:11.452159Z",
     "iopub.status.idle": "2024-05-09T23:17:11.471765Z",
     "shell.execute_reply": "2024-05-09T23:17:11.471765Z",
     "shell.execute_reply.started": "2024-05-09T23:17:11.452159Z"
    }
   },
   "outputs": [
    {
     "data": {
      "text/plain": [
       "dict_keys(['during_lose_2', 'during_rewarded_2', 'during_win_2', 'during_lose_5', 'during_rewarded_5', 'during_win_5', 'during_lose_13', 'during_rewarded_13', 'during_win_13', 'during_lose_17', 'during_rewarded_17', 'during_win_17', 'during_lose_19', 'during_rewarded_19', 'during_win_19', 'during_lose_24', 'during_rewarded_24', 'during_win_24', 'during_lose_26', 'during_rewarded_26', 'during_win_26', 'during_lose_33', 'during_rewarded_33', 'during_win_33', 'during_lose_36', 'during_rewarded_36', 'during_win_36', 'during_lose_55', 'during_rewarded_55', 'during_win_55', 'during_lose_57', 'during_rewarded_57', 'during_win_57', 'during_lose_59', 'during_rewarded_59', 'during_win_59', 'during_lose_65', 'during_rewarded_65', 'during_win_65', 'during_lose_68', 'during_rewarded_68', 'during_win_68', 'during_lose_81', 'during_rewarded_81', 'during_win_81', 'during_lose_85', 'during_rewarded_85', 'during_win_85', 'during_lose_88', 'during_rewarded_88', 'during_win_88', 'during_lose_94', 'during_rewarded_94', 'during_win_94', 'during_lose_98', 'during_rewarded_98', 'during_win_98'])"
      ]
     },
     "execution_count": 13,
     "metadata": {},
     "output_type": "execute_result"
    }
   ],
   "source": [
    "event_arrays.keys()"
   ]
  },
  {
   "cell_type": "code",
   "execution_count": 15,
   "id": "adca372f-6c0e-4320-8f3b-4b52484a6b6d",
   "metadata": {
    "execution": {
     "iopub.execute_input": "2024-05-09T23:25:52.860042Z",
     "iopub.status.busy": "2024-05-09T23:25:52.860042Z",
     "iopub.status.idle": "2024-05-09T23:25:53.039279Z",
     "shell.execute_reply": "2024-05-09T23:25:53.039279Z",
     "shell.execute_reply.started": "2024-05-09T23:25:52.860042Z"
    }
   },
   "outputs": [
    {
     "data": {
      "text/html": [
       "<div>\n",
       "<style scoped>\n",
       "    .dataframe tbody tr th:only-of-type {\n",
       "        vertical-align: middle;\n",
       "    }\n",
       "\n",
       "    .dataframe tbody tr th {\n",
       "        vertical-align: top;\n",
       "    }\n",
       "\n",
       "    .dataframe thead th {\n",
       "        text-align: right;\n",
       "    }\n",
       "</style>\n",
       "<table border=\"1\" class=\"dataframe\">\n",
       "  <thead>\n",
       "    <tr style=\"text-align: right;\">\n",
       "      <th></th>\n",
       "      <th>unit</th>\n",
       "      <th>win</th>\n",
       "      <th>lose</th>\n",
       "      <th>rewarded</th>\n",
       "    </tr>\n",
       "  </thead>\n",
       "  <tbody>\n",
       "    <tr>\n",
       "      <th>0</th>\n",
       "      <td>33</td>\n",
       "      <td>not significant</td>\n",
       "      <td>increase</td>\n",
       "      <td>increase</td>\n",
       "    </tr>\n",
       "    <tr>\n",
       "      <th>1</th>\n",
       "      <td>19</td>\n",
       "      <td>increase</td>\n",
       "      <td>decrease</td>\n",
       "      <td>decrease</td>\n",
       "    </tr>\n",
       "    <tr>\n",
       "      <th>2</th>\n",
       "      <td>98</td>\n",
       "      <td>decrease</td>\n",
       "      <td>not significant</td>\n",
       "      <td>decrease</td>\n",
       "    </tr>\n",
       "    <tr>\n",
       "      <th>3</th>\n",
       "      <td>24</td>\n",
       "      <td>decrease</td>\n",
       "      <td>not significant</td>\n",
       "      <td>decrease</td>\n",
       "    </tr>\n",
       "    <tr>\n",
       "      <th>4</th>\n",
       "      <td>88</td>\n",
       "      <td>decrease</td>\n",
       "      <td>decrease</td>\n",
       "      <td>increase</td>\n",
       "    </tr>\n",
       "    <tr>\n",
       "      <th>5</th>\n",
       "      <td>85</td>\n",
       "      <td>decrease</td>\n",
       "      <td>decrease</td>\n",
       "      <td>decrease</td>\n",
       "    </tr>\n",
       "    <tr>\n",
       "      <th>6</th>\n",
       "      <td>68</td>\n",
       "      <td>increase</td>\n",
       "      <td>decrease</td>\n",
       "      <td>decrease</td>\n",
       "    </tr>\n",
       "    <tr>\n",
       "      <th>7</th>\n",
       "      <td>81</td>\n",
       "      <td>decrease</td>\n",
       "      <td>decrease</td>\n",
       "      <td>decrease</td>\n",
       "    </tr>\n",
       "    <tr>\n",
       "      <th>8</th>\n",
       "      <td>13</td>\n",
       "      <td>increase</td>\n",
       "      <td>increase</td>\n",
       "      <td>increase</td>\n",
       "    </tr>\n",
       "    <tr>\n",
       "      <th>9</th>\n",
       "      <td>2</td>\n",
       "      <td>decrease</td>\n",
       "      <td>decrease</td>\n",
       "      <td>decrease</td>\n",
       "    </tr>\n",
       "    <tr>\n",
       "      <th>10</th>\n",
       "      <td>94</td>\n",
       "      <td>increase</td>\n",
       "      <td>increase</td>\n",
       "      <td>increase</td>\n",
       "    </tr>\n",
       "    <tr>\n",
       "      <th>11</th>\n",
       "      <td>5</td>\n",
       "      <td>increase</td>\n",
       "      <td>not significant</td>\n",
       "      <td>increase</td>\n",
       "    </tr>\n",
       "    <tr>\n",
       "      <th>12</th>\n",
       "      <td>55</td>\n",
       "      <td>decrease</td>\n",
       "      <td>decrease</td>\n",
       "      <td>not significant</td>\n",
       "    </tr>\n",
       "    <tr>\n",
       "      <th>13</th>\n",
       "      <td>57</td>\n",
       "      <td>increase</td>\n",
       "      <td>increase</td>\n",
       "      <td>decrease</td>\n",
       "    </tr>\n",
       "    <tr>\n",
       "      <th>14</th>\n",
       "      <td>65</td>\n",
       "      <td>decrease</td>\n",
       "      <td>decrease</td>\n",
       "      <td>decrease</td>\n",
       "    </tr>\n",
       "    <tr>\n",
       "      <th>15</th>\n",
       "      <td>36</td>\n",
       "      <td>decrease</td>\n",
       "      <td>not significant</td>\n",
       "      <td>decrease</td>\n",
       "    </tr>\n",
       "    <tr>\n",
       "      <th>16</th>\n",
       "      <td>26</td>\n",
       "      <td>increase</td>\n",
       "      <td>increase</td>\n",
       "      <td>increase</td>\n",
       "    </tr>\n",
       "    <tr>\n",
       "      <th>17</th>\n",
       "      <td>59</td>\n",
       "      <td>increase</td>\n",
       "      <td>decrease</td>\n",
       "      <td>decrease</td>\n",
       "    </tr>\n",
       "    <tr>\n",
       "      <th>18</th>\n",
       "      <td>17</td>\n",
       "      <td>increase</td>\n",
       "      <td>increase</td>\n",
       "      <td>increase</td>\n",
       "    </tr>\n",
       "  </tbody>\n",
       "</table>\n",
       "</div>"
      ],
      "text/plain": [
       "   unit              win             lose         rewarded\n",
       "0    33  not significant         increase         increase\n",
       "1    19         increase         decrease         decrease\n",
       "2    98         decrease  not significant         decrease\n",
       "3    24         decrease  not significant         decrease\n",
       "4    88         decrease         decrease         increase\n",
       "5    85         decrease         decrease         decrease\n",
       "6    68         increase         decrease         decrease\n",
       "7    81         decrease         decrease         decrease\n",
       "8    13         increase         increase         increase\n",
       "9     2         decrease         decrease         decrease\n",
       "10   94         increase         increase         increase\n",
       "11    5         increase  not significant         increase\n",
       "12   55         decrease         decrease  not significant\n",
       "13   57         increase         increase         decrease\n",
       "14   65         decrease         decrease         decrease\n",
       "15   36         decrease  not significant         decrease\n",
       "16   26         increase         increase         increase\n",
       "17   59         increase         decrease         decrease\n",
       "18   17         increase         increase         increase"
      ]
     },
     "execution_count": 15,
     "metadata": {},
     "output_type": "execute_result"
    }
   ],
   "source": [
    "from scipy.stats import wilcoxon\n",
    "\n",
    "# Initialize DataFrame\n",
    "result_columns = ['unit', 'win', 'lose', 'rewarded']\n",
    "recording1_wilcox_results = pd.DataFrame(columns=result_columns)\n",
    "\n",
    "# List of units and events to process\n",
    "units = set(k.split('_')[-1] for k in pre_event_arrays.keys())\n",
    "events = ['win', 'lose', 'rewarded']\n",
    "\n",
    "# Helper function to analyze results\n",
    "def analyze_results(pre_data, event_data):\n",
    "    stat, p_value = wilcoxon(pre_data, event_data)\n",
    "    if p_value > 0.05:\n",
    "        return 'not significant'\n",
    "    else:\n",
    "        return 'increase' if event_data.mean() > pre_data.mean() else 'decrease'\n",
    "\n",
    "# Process each unit\n",
    "for unit in units:\n",
    "    result_row = {'unit': unit}\n",
    "    for event in events:\n",
    "        pre_key = f'pre_{event}_{unit}'\n",
    "        event_key = f'during_{event}_{unit}'\n",
    "        if pre_key in pre_event_arrays and event_key in event_arrays:\n",
    "            result = analyze_results(pre_event_arrays[pre_key], event_arrays[event_key])\n",
    "            result_row[event] = result\n",
    "        else:\n",
    "            result_row[event] = 'not significant'  # Default if no data available\n",
    "    # Use concat instead of append\n",
    "    recording1_wilcox_results = pd.concat([recording1_wilcox_results, pd.DataFrame([result_row])], ignore_index=True)\n",
    "\n",
    "recording1_wilcox_results"
   ]
  },
  {
   "cell_type": "code",
   "execution_count": 23,
   "id": "29f8eee9-74f6-4bd9-9e21-2ca1f680b2cf",
   "metadata": {
    "execution": {
     "iopub.execute_input": "2024-05-09T23:31:37.625987Z",
     "iopub.status.busy": "2024-05-09T23:31:37.625987Z",
     "iopub.status.idle": "2024-05-09T23:31:37.645020Z",
     "shell.execute_reply": "2024-05-09T23:31:37.645020Z",
     "shell.execute_reply.started": "2024-05-09T23:31:37.625987Z"
    }
   },
   "outputs": [
    {
     "data": {
      "text/plain": [
       "'decrease'"
      ]
     },
     "execution_count": 23,
     "metadata": {},
     "output_type": "execute_result"
    }
   ],
   "source": [
    "analyze_results(pre_lose_2, pre_rewarded_2_cut)"
   ]
  },
  {
   "cell_type": "code",
   "execution_count": 19,
   "id": "c9662b94-f500-4539-b6a6-e514015a539d",
   "metadata": {
    "execution": {
     "iopub.execute_input": "2024-05-09T23:30:11.403372Z",
     "iopub.status.busy": "2024-05-09T23:30:11.403372Z",
     "iopub.status.idle": "2024-05-09T23:30:11.418786Z",
     "shell.execute_reply": "2024-05-09T23:30:11.418786Z",
     "shell.execute_reply.started": "2024-05-09T23:30:11.403372Z"
    }
   },
   "outputs": [
    {
     "data": {
      "text/plain": [
       "700"
      ]
     },
     "execution_count": 19,
     "metadata": {},
     "output_type": "execute_result"
    }
   ],
   "source": [
    "len(pre_event_arrays['pre_lose_2'])"
   ]
  },
  {
   "cell_type": "code",
   "execution_count": 20,
   "id": "04a79888-3106-41f2-8288-09bfff23cec4",
   "metadata": {
    "execution": {
     "iopub.execute_input": "2024-05-09T23:30:24.157271Z",
     "iopub.status.busy": "2024-05-09T23:30:24.157271Z",
     "iopub.status.idle": "2024-05-09T23:30:24.172706Z",
     "shell.execute_reply": "2024-05-09T23:30:24.172706Z",
     "shell.execute_reply.started": "2024-05-09T23:30:24.157271Z"
    }
   },
   "outputs": [
    {
     "data": {
      "text/plain": [
       "2000"
      ]
     },
     "execution_count": 20,
     "metadata": {},
     "output_type": "execute_result"
    }
   ],
   "source": [
    "len(pre_event_arrays['pre_rewarded_2'])"
   ]
  },
  {
   "cell_type": "code",
   "execution_count": 21,
   "id": "dbde8097-7b32-4540-b971-2c84c1e4a073",
   "metadata": {
    "execution": {
     "iopub.execute_input": "2024-05-09T23:31:08.600197Z",
     "iopub.status.busy": "2024-05-09T23:31:08.600197Z",
     "iopub.status.idle": "2024-05-09T23:31:08.606824Z",
     "shell.execute_reply": "2024-05-09T23:31:08.606824Z",
     "shell.execute_reply.started": "2024-05-09T23:31:08.600197Z"
    }
   },
   "outputs": [],
   "source": [
    "pre_lose_2 = pre_event_arrays['pre_lose_2']\n",
    "pre_rewarded_2_cut = pre_event_arrays['pre_rewarded_2'][:700]"
   ]
  },
  {
   "cell_type": "code",
   "execution_count": 22,
   "id": "bebaea13-4282-4cc8-8fc0-dd8051c265da",
   "metadata": {
    "execution": {
     "iopub.execute_input": "2024-05-09T23:31:16.837724Z",
     "iopub.status.busy": "2024-05-09T23:31:16.837724Z",
     "iopub.status.idle": "2024-05-09T23:31:16.849432Z",
     "shell.execute_reply": "2024-05-09T23:31:16.849432Z",
     "shell.execute_reply.started": "2024-05-09T23:31:16.837724Z"
    }
   },
   "outputs": [
    {
     "data": {
      "text/plain": [
       "700"
      ]
     },
     "execution_count": 22,
     "metadata": {},
     "output_type": "execute_result"
    }
   ],
   "source": [
    "len(pre_rewarded_2_cut)"
   ]
  },
  {
   "cell_type": "code",
   "execution_count": 24,
   "id": "9bbe30df-6c75-4ea1-b10b-03706abfaf00",
   "metadata": {
    "execution": {
     "iopub.execute_input": "2024-05-09T23:38:43.946701Z",
     "iopub.status.busy": "2024-05-09T23:38:43.946701Z",
     "iopub.status.idle": "2024-05-09T23:38:44.123684Z",
     "shell.execute_reply": "2024-05-09T23:38:44.123684Z",
     "shell.execute_reply.started": "2024-05-09T23:38:43.946701Z"
    }
   },
   "outputs": [
    {
     "name": "stderr",
     "output_type": "stream",
     "text": [
      "C:\\Users\\short\\AppData\\Local\\Temp\\ipykernel_18808\\1856027074.py:33: FutureWarning: The behavior of DataFrame concatenation with empty or all-NA entries is deprecated. In a future version, this will no longer exclude empty or all-NA columns when determining the result dtypes. To retain the old behavior, exclude the relevant entries before the concat operation.\n",
      "  recording1_wilcox_results = pd.concat([recording1_wilcox_results, pd.DataFrame([result_row])], ignore_index=True)\n"
     ]
    },
    {
     "data": {
      "text/html": [
       "<div>\n",
       "<style scoped>\n",
       "    .dataframe tbody tr th:only-of-type {\n",
       "        vertical-align: middle;\n",
       "    }\n",
       "\n",
       "    .dataframe tbody tr th {\n",
       "        vertical-align: top;\n",
       "    }\n",
       "\n",
       "    .dataframe thead th {\n",
       "        text-align: right;\n",
       "    }\n",
       "</style>\n",
       "<table border=\"1\" class=\"dataframe\">\n",
       "  <thead>\n",
       "    <tr style=\"text-align: right;\">\n",
       "      <th></th>\n",
       "      <th>unit</th>\n",
       "      <th>win</th>\n",
       "      <th>lose</th>\n",
       "      <th>rewarded</th>\n",
       "      <th>win p-value</th>\n",
       "      <th>lose p-value</th>\n",
       "      <th>rewarded p-value</th>\n",
       "    </tr>\n",
       "  </thead>\n",
       "  <tbody>\n",
       "    <tr>\n",
       "      <th>0</th>\n",
       "      <td>33</td>\n",
       "      <td>not significant</td>\n",
       "      <td>increase</td>\n",
       "      <td>increase</td>\n",
       "      <td>5.340951e-01</td>\n",
       "      <td>4.892402e-30</td>\n",
       "      <td>3.328270e-114</td>\n",
       "    </tr>\n",
       "    <tr>\n",
       "      <th>1</th>\n",
       "      <td>19</td>\n",
       "      <td>increase</td>\n",
       "      <td>decrease</td>\n",
       "      <td>decrease</td>\n",
       "      <td>4.423026e-69</td>\n",
       "      <td>1.913132e-28</td>\n",
       "      <td>1.125846e-51</td>\n",
       "    </tr>\n",
       "    <tr>\n",
       "      <th>2</th>\n",
       "      <td>98</td>\n",
       "      <td>decrease</td>\n",
       "      <td>not significant</td>\n",
       "      <td>decrease</td>\n",
       "      <td>3.436997e-55</td>\n",
       "      <td>8.167019e-01</td>\n",
       "      <td>2.474619e-126</td>\n",
       "    </tr>\n",
       "    <tr>\n",
       "      <th>3</th>\n",
       "      <td>24</td>\n",
       "      <td>decrease</td>\n",
       "      <td>not significant</td>\n",
       "      <td>decrease</td>\n",
       "      <td>4.810146e-117</td>\n",
       "      <td>4.463507e-01</td>\n",
       "      <td>6.738827e-234</td>\n",
       "    </tr>\n",
       "    <tr>\n",
       "      <th>4</th>\n",
       "      <td>88</td>\n",
       "      <td>decrease</td>\n",
       "      <td>decrease</td>\n",
       "      <td>increase</td>\n",
       "      <td>1.156740e-33</td>\n",
       "      <td>4.139362e-05</td>\n",
       "      <td>2.376798e-14</td>\n",
       "    </tr>\n",
       "    <tr>\n",
       "      <th>5</th>\n",
       "      <td>85</td>\n",
       "      <td>decrease</td>\n",
       "      <td>decrease</td>\n",
       "      <td>decrease</td>\n",
       "      <td>5.594988e-16</td>\n",
       "      <td>1.457667e-73</td>\n",
       "      <td>3.680499e-41</td>\n",
       "    </tr>\n",
       "    <tr>\n",
       "      <th>6</th>\n",
       "      <td>68</td>\n",
       "      <td>increase</td>\n",
       "      <td>decrease</td>\n",
       "      <td>decrease</td>\n",
       "      <td>1.370684e-41</td>\n",
       "      <td>1.964138e-06</td>\n",
       "      <td>2.021449e-06</td>\n",
       "    </tr>\n",
       "    <tr>\n",
       "      <th>7</th>\n",
       "      <td>81</td>\n",
       "      <td>decrease</td>\n",
       "      <td>decrease</td>\n",
       "      <td>decrease</td>\n",
       "      <td>1.884757e-04</td>\n",
       "      <td>2.973070e-09</td>\n",
       "      <td>3.301511e-76</td>\n",
       "    </tr>\n",
       "    <tr>\n",
       "      <th>8</th>\n",
       "      <td>13</td>\n",
       "      <td>increase</td>\n",
       "      <td>increase</td>\n",
       "      <td>increase</td>\n",
       "      <td>8.536939e-76</td>\n",
       "      <td>1.091698e-42</td>\n",
       "      <td>6.158401e-238</td>\n",
       "    </tr>\n",
       "    <tr>\n",
       "      <th>9</th>\n",
       "      <td>2</td>\n",
       "      <td>decrease</td>\n",
       "      <td>decrease</td>\n",
       "      <td>decrease</td>\n",
       "      <td>4.148925e-96</td>\n",
       "      <td>2.985492e-22</td>\n",
       "      <td>1.324785e-25</td>\n",
       "    </tr>\n",
       "    <tr>\n",
       "      <th>10</th>\n",
       "      <td>94</td>\n",
       "      <td>increase</td>\n",
       "      <td>increase</td>\n",
       "      <td>increase</td>\n",
       "      <td>1.041860e-19</td>\n",
       "      <td>1.294556e-33</td>\n",
       "      <td>9.660347e-03</td>\n",
       "    </tr>\n",
       "    <tr>\n",
       "      <th>11</th>\n",
       "      <td>5</td>\n",
       "      <td>increase</td>\n",
       "      <td>not significant</td>\n",
       "      <td>increase</td>\n",
       "      <td>4.363068e-147</td>\n",
       "      <td>9.400957e-01</td>\n",
       "      <td>3.314412e-288</td>\n",
       "    </tr>\n",
       "    <tr>\n",
       "      <th>12</th>\n",
       "      <td>55</td>\n",
       "      <td>decrease</td>\n",
       "      <td>decrease</td>\n",
       "      <td>not significant</td>\n",
       "      <td>4.701655e-17</td>\n",
       "      <td>1.435209e-19</td>\n",
       "      <td>6.137354e-02</td>\n",
       "    </tr>\n",
       "    <tr>\n",
       "      <th>13</th>\n",
       "      <td>57</td>\n",
       "      <td>increase</td>\n",
       "      <td>increase</td>\n",
       "      <td>decrease</td>\n",
       "      <td>1.419594e-40</td>\n",
       "      <td>1.457630e-29</td>\n",
       "      <td>1.072351e-24</td>\n",
       "    </tr>\n",
       "    <tr>\n",
       "      <th>14</th>\n",
       "      <td>65</td>\n",
       "      <td>decrease</td>\n",
       "      <td>decrease</td>\n",
       "      <td>decrease</td>\n",
       "      <td>2.807639e-22</td>\n",
       "      <td>2.863083e-12</td>\n",
       "      <td>3.464492e-09</td>\n",
       "    </tr>\n",
       "    <tr>\n",
       "      <th>15</th>\n",
       "      <td>36</td>\n",
       "      <td>decrease</td>\n",
       "      <td>not significant</td>\n",
       "      <td>decrease</td>\n",
       "      <td>5.048381e-11</td>\n",
       "      <td>9.430960e-01</td>\n",
       "      <td>1.346863e-114</td>\n",
       "    </tr>\n",
       "    <tr>\n",
       "      <th>16</th>\n",
       "      <td>26</td>\n",
       "      <td>increase</td>\n",
       "      <td>increase</td>\n",
       "      <td>increase</td>\n",
       "      <td>4.285585e-64</td>\n",
       "      <td>5.268397e-13</td>\n",
       "      <td>2.095110e-02</td>\n",
       "    </tr>\n",
       "    <tr>\n",
       "      <th>17</th>\n",
       "      <td>59</td>\n",
       "      <td>increase</td>\n",
       "      <td>decrease</td>\n",
       "      <td>decrease</td>\n",
       "      <td>3.667709e-11</td>\n",
       "      <td>1.569141e-06</td>\n",
       "      <td>1.809755e-02</td>\n",
       "    </tr>\n",
       "    <tr>\n",
       "      <th>18</th>\n",
       "      <td>17</td>\n",
       "      <td>increase</td>\n",
       "      <td>increase</td>\n",
       "      <td>increase</td>\n",
       "      <td>3.953158e-14</td>\n",
       "      <td>5.469730e-10</td>\n",
       "      <td>2.073094e-21</td>\n",
       "    </tr>\n",
       "  </tbody>\n",
       "</table>\n",
       "</div>"
      ],
      "text/plain": [
       "   unit              win             lose         rewarded    win p-value  \\\n",
       "0    33  not significant         increase         increase   5.340951e-01   \n",
       "1    19         increase         decrease         decrease   4.423026e-69   \n",
       "2    98         decrease  not significant         decrease   3.436997e-55   \n",
       "3    24         decrease  not significant         decrease  4.810146e-117   \n",
       "4    88         decrease         decrease         increase   1.156740e-33   \n",
       "5    85         decrease         decrease         decrease   5.594988e-16   \n",
       "6    68         increase         decrease         decrease   1.370684e-41   \n",
       "7    81         decrease         decrease         decrease   1.884757e-04   \n",
       "8    13         increase         increase         increase   8.536939e-76   \n",
       "9     2         decrease         decrease         decrease   4.148925e-96   \n",
       "10   94         increase         increase         increase   1.041860e-19   \n",
       "11    5         increase  not significant         increase  4.363068e-147   \n",
       "12   55         decrease         decrease  not significant   4.701655e-17   \n",
       "13   57         increase         increase         decrease   1.419594e-40   \n",
       "14   65         decrease         decrease         decrease   2.807639e-22   \n",
       "15   36         decrease  not significant         decrease   5.048381e-11   \n",
       "16   26         increase         increase         increase   4.285585e-64   \n",
       "17   59         increase         decrease         decrease   3.667709e-11   \n",
       "18   17         increase         increase         increase   3.953158e-14   \n",
       "\n",
       "    lose p-value  rewarded p-value  \n",
       "0   4.892402e-30     3.328270e-114  \n",
       "1   1.913132e-28      1.125846e-51  \n",
       "2   8.167019e-01     2.474619e-126  \n",
       "3   4.463507e-01     6.738827e-234  \n",
       "4   4.139362e-05      2.376798e-14  \n",
       "5   1.457667e-73      3.680499e-41  \n",
       "6   1.964138e-06      2.021449e-06  \n",
       "7   2.973070e-09      3.301511e-76  \n",
       "8   1.091698e-42     6.158401e-238  \n",
       "9   2.985492e-22      1.324785e-25  \n",
       "10  1.294556e-33      9.660347e-03  \n",
       "11  9.400957e-01     3.314412e-288  \n",
       "12  1.435209e-19      6.137354e-02  \n",
       "13  1.457630e-29      1.072351e-24  \n",
       "14  2.863083e-12      3.464492e-09  \n",
       "15  9.430960e-01     1.346863e-114  \n",
       "16  5.268397e-13      2.095110e-02  \n",
       "17  1.569141e-06      1.809755e-02  \n",
       "18  5.469730e-10      2.073094e-21  "
      ]
     },
     "execution_count": 24,
     "metadata": {},
     "output_type": "execute_result"
    }
   ],
   "source": [
    "from scipy.stats import wilcoxon\n",
    "import pandas as pd\n",
    "\n",
    "# Initialize DataFrame with additional columns for p-values\n",
    "result_columns = ['unit', 'win', 'lose', 'rewarded', 'win p-value', 'lose p-value', 'rewarded p-value']\n",
    "recording1_wilcox_results = pd.DataFrame(columns=result_columns)\n",
    "\n",
    "# List of units and events to process\n",
    "units = set(k.split('_')[-1] for k in pre_event_arrays.keys())\n",
    "events = ['win', 'lose', 'rewarded']\n",
    "\n",
    "# Helper function to analyze results and return both result and p-value\n",
    "def analyze_results(pre_data, event_data):\n",
    "    stat, p_value = wilcoxon(pre_data, event_data)\n",
    "    result = 'not significant' if p_value > 0.05 else ('increase' if event_data.mean() > pre_data.mean() else 'decrease')\n",
    "    return result, p_value\n",
    "\n",
    "# Process each unit\n",
    "for unit in units:\n",
    "    result_row = {'unit': unit}\n",
    "    for event in events:\n",
    "        pre_key = f'pre_{event}_{unit}'\n",
    "        event_key = f'during_{event}_{unit}'\n",
    "        if pre_key in pre_event_arrays and event_key in event_arrays:\n",
    "            result, p_value = analyze_results(pre_event_arrays[pre_key], event_arrays[event_key])\n",
    "            result_row[event] = result\n",
    "            result_row[f'{event} p-value'] = p_value\n",
    "        else:\n",
    "            result_row[event] = 'not significant'  # Default result if no data available\n",
    "            result_row[f'{event} p-value'] = None  # Default p-value if no data available\n",
    "\n",
    "    # Append the row for the current unit to the DataFrame using concat\n",
    "    recording1_wilcox_results = pd.concat([recording1_wilcox_results, pd.DataFrame([result_row])], ignore_index=True)\n",
    "\n",
    "recording1_wilcox_results"
   ]
  },
  {
   "cell_type": "code",
   "execution_count": 25,
   "id": "1c409c35-35ff-4e4d-889b-cea1fef7b977",
   "metadata": {
    "execution": {
     "iopub.execute_input": "2024-05-10T14:49:22.972693Z",
     "iopub.status.busy": "2024-05-10T14:49:22.957071Z",
     "iopub.status.idle": "2024-05-10T14:49:23.124642Z",
     "shell.execute_reply": "2024-05-10T14:49:23.124642Z",
     "shell.execute_reply.started": "2024-05-10T14:49:22.972693Z"
    }
   },
   "outputs": [
    {
     "data": {
      "text/plain": [
       "0.028120189534160102"
      ]
     },
     "execution_count": 25,
     "metadata": {},
     "output_type": "execute_result"
    }
   ],
   "source": [
    "np.mean(recording1_wilcox_results['win p-value'])"
   ]
  },
  {
   "cell_type": "code",
   "execution_count": 26,
   "id": "4335b637-4c50-4763-af74-8e25f0e40251",
   "metadata": {
    "execution": {
     "iopub.execute_input": "2024-05-10T14:49:34.584765Z",
     "iopub.status.busy": "2024-05-10T14:49:34.584765Z",
     "iopub.status.idle": "2024-05-10T14:49:34.597422Z",
     "shell.execute_reply": "2024-05-10T14:49:34.597422Z",
     "shell.execute_reply.started": "2024-05-10T14:49:34.584765Z"
    }
   },
   "outputs": [
    {
     "data": {
      "text/plain": [
       "0.16559417347591934"
      ]
     },
     "execution_count": 26,
     "metadata": {},
     "output_type": "execute_result"
    }
   ],
   "source": [
    "np.mean(recording1_wilcox_results['lose p-value'])"
   ]
  },
  {
   "cell_type": "code",
   "execution_count": 27,
   "id": "469f3248-9f5f-4042-b3f3-41f6f063df37",
   "metadata": {
    "execution": {
     "iopub.execute_input": "2024-05-10T14:50:00.881906Z",
     "iopub.status.busy": "2024-05-10T14:50:00.881906Z",
     "iopub.status.idle": "2024-05-10T14:50:00.977994Z",
     "shell.execute_reply": "2024-05-10T14:50:00.977994Z",
     "shell.execute_reply.started": "2024-05-10T14:50:00.881906Z"
    }
   },
   "outputs": [
    {
     "data": {
      "text/plain": [
       "0.005793924302529586"
      ]
     },
     "execution_count": 27,
     "metadata": {},
     "output_type": "execute_result"
    }
   ],
   "source": [
    "np.mean(recording1_wilcox_results['rewarded p-value'])"
   ]
  },
  {
   "cell_type": "code",
   "execution_count": 28,
   "id": "e2100cb2-07f2-401f-be72-109c787dd869",
   "metadata": {
    "execution": {
     "iopub.execute_input": "2024-05-10T14:50:59.408638Z",
     "iopub.status.busy": "2024-05-10T14:50:59.408638Z",
     "iopub.status.idle": "2024-05-10T14:50:59.430519Z",
     "shell.execute_reply": "2024-05-10T14:50:59.430519Z",
     "shell.execute_reply.started": "2024-05-10T14:50:59.408638Z"
    }
   },
   "outputs": [
    {
     "data": {
      "text/plain": [
       "3.1462892960424678"
      ]
     },
     "execution_count": 28,
     "metadata": {},
     "output_type": "execute_result"
    }
   ],
   "source": [
    "np.sum(recording1_wilcox_results['lose p-value'])"
   ]
  },
  {
   "cell_type": "code",
   "execution_count": 29,
   "id": "aa5e5934-8bbd-4911-8be8-d782e892e697",
   "metadata": {
    "execution": {
     "iopub.execute_input": "2024-05-10T14:51:12.069758Z",
     "iopub.status.busy": "2024-05-10T14:51:12.069758Z",
     "iopub.status.idle": "2024-05-10T14:51:12.101781Z",
     "shell.execute_reply": "2024-05-10T14:51:12.101781Z",
     "shell.execute_reply.started": "2024-05-10T14:51:12.069758Z"
    }
   },
   "outputs": [
    {
     "data": {
      "text/plain": [
       "0.17477777777777778"
      ]
     },
     "execution_count": 29,
     "metadata": {},
     "output_type": "execute_result"
    }
   ],
   "source": [
    "3.146/18"
   ]
  },
  {
   "cell_type": "code",
   "execution_count": 38,
   "id": "bece1483-6f14-463c-91eb-f50e49cde46a",
   "metadata": {
    "execution": {
     "iopub.execute_input": "2024-05-10T15:02:00.923467Z",
     "iopub.status.busy": "2024-05-10T15:02:00.923467Z",
     "iopub.status.idle": "2024-05-10T15:02:00.958324Z",
     "shell.execute_reply": "2024-05-10T15:02:00.958324Z",
     "shell.execute_reply.started": "2024-05-10T15:02:00.923467Z"
    }
   },
   "outputs": [],
   "source": [
    "recording2 = event_spikes[event_spikes['Recording'] == '20230621_111240_standard_comp_to_omission_D5_subj_1-4_t3b3L_box1_merged.rec']"
   ]
  },
  {
   "cell_type": "code",
   "execution_count": 39,
   "id": "a4d588b6-6aa7-468b-829e-4a4f16b737a2",
   "metadata": {
    "execution": {
     "iopub.execute_input": "2024-05-10T15:02:01.535498Z",
     "iopub.status.busy": "2024-05-10T15:02:01.535498Z",
     "iopub.status.idle": "2024-05-10T15:02:01.711266Z",
     "shell.execute_reply": "2024-05-10T15:02:01.711266Z",
     "shell.execute_reply.started": "2024-05-10T15:02:01.535498Z"
    }
   },
   "outputs": [],
   "source": [
    "# Assuming event_spikes is your DataFrame\n",
    "groups = recording2.groupby(['Unit number', 'Event name'])\n",
    "\n",
    "# Prepare dictionaries to store the results\n",
    "pre_event_arrays = {}\n",
    "event_arrays = {}\n",
    "\n",
    "# Iterate through each group\n",
    "for (unit, event_name), group in groups:\n",
    "    # Sort the group by 'Event number' to ensure correct order\n",
    "    sorted_group = group.sort_values('Event number')\n",
    "    \n",
    "    # Concatenate pre-event and event columns across all event numbers for this group\n",
    "    pre_event_data = np.concatenate([sorted_group[pre_event_cols].values.flatten()])\n",
    "    event_data = np.concatenate([sorted_group[event_cols].values.flatten()])\n",
    "    \n",
    "    # Store in dictionaries\n",
    "    pre_event_arrays[f'pre_{event_name}_{unit}'] = pre_event_data\n",
    "    event_arrays[f'during_{event_name}_{unit}'] = event_data"
   ]
  },
  {
   "cell_type": "code",
   "execution_count": 40,
   "id": "6487e2c1-7fe7-4f2f-9ca0-b43ce0f2739f",
   "metadata": {
    "execution": {
     "iopub.execute_input": "2024-05-10T15:02:02.652046Z",
     "iopub.status.busy": "2024-05-10T15:02:02.652046Z",
     "iopub.status.idle": "2024-05-10T15:02:02.866456Z",
     "shell.execute_reply": "2024-05-10T15:02:02.866456Z",
     "shell.execute_reply.started": "2024-05-10T15:02:02.652046Z"
    }
   },
   "outputs": [
    {
     "name": "stderr",
     "output_type": "stream",
     "text": [
      "C:\\Users\\short\\AppData\\Local\\Temp\\ipykernel_18808\\950216315.py:24: FutureWarning: The behavior of DataFrame concatenation with empty or all-NA entries is deprecated. In a future version, this will no longer exclude empty or all-NA columns when determining the result dtypes. To retain the old behavior, exclude the relevant entries before the concat operation.\n",
      "  recording2_wilcox_results = pd.concat([recording2_wilcox_results, pd.DataFrame([result_row])], ignore_index=True)\n"
     ]
    },
    {
     "data": {
      "text/html": [
       "<div>\n",
       "<style scoped>\n",
       "    .dataframe tbody tr th:only-of-type {\n",
       "        vertical-align: middle;\n",
       "    }\n",
       "\n",
       "    .dataframe tbody tr th {\n",
       "        vertical-align: top;\n",
       "    }\n",
       "\n",
       "    .dataframe thead th {\n",
       "        text-align: right;\n",
       "    }\n",
       "</style>\n",
       "<table border=\"1\" class=\"dataframe\">\n",
       "  <thead>\n",
       "    <tr style=\"text-align: right;\">\n",
       "      <th></th>\n",
       "      <th>unit</th>\n",
       "      <th>win</th>\n",
       "      <th>lose</th>\n",
       "      <th>rewarded</th>\n",
       "      <th>win p-value</th>\n",
       "      <th>lose p-value</th>\n",
       "      <th>rewarded p-value</th>\n",
       "    </tr>\n",
       "  </thead>\n",
       "  <tbody>\n",
       "    <tr>\n",
       "      <th>0</th>\n",
       "      <td>74</td>\n",
       "      <td>increase</td>\n",
       "      <td>decrease</td>\n",
       "      <td>increase</td>\n",
       "      <td>5.612036e-21</td>\n",
       "      <td>2.208537e-133</td>\n",
       "      <td>1.406254e-165</td>\n",
       "    </tr>\n",
       "    <tr>\n",
       "      <th>1</th>\n",
       "      <td>15</td>\n",
       "      <td>increase</td>\n",
       "      <td>increase</td>\n",
       "      <td>increase</td>\n",
       "      <td>3.559529e-33</td>\n",
       "      <td>1.021333e-30</td>\n",
       "      <td>2.369683e-03</td>\n",
       "    </tr>\n",
       "    <tr>\n",
       "      <th>2</th>\n",
       "      <td>37</td>\n",
       "      <td>increase</td>\n",
       "      <td>decrease</td>\n",
       "      <td>decrease</td>\n",
       "      <td>2.103646e-33</td>\n",
       "      <td>1.021854e-06</td>\n",
       "      <td>8.834704e-72</td>\n",
       "    </tr>\n",
       "    <tr>\n",
       "      <th>3</th>\n",
       "      <td>82</td>\n",
       "      <td>increase</td>\n",
       "      <td>increase</td>\n",
       "      <td>increase</td>\n",
       "      <td>1.316371e-34</td>\n",
       "      <td>1.795649e-278</td>\n",
       "      <td>2.414928e-75</td>\n",
       "    </tr>\n",
       "    <tr>\n",
       "      <th>4</th>\n",
       "      <td>87</td>\n",
       "      <td>increase</td>\n",
       "      <td>increase</td>\n",
       "      <td>increase</td>\n",
       "      <td>1.101864e-34</td>\n",
       "      <td>3.457421e-277</td>\n",
       "      <td>9.553979e-261</td>\n",
       "    </tr>\n",
       "    <tr>\n",
       "      <th>5</th>\n",
       "      <td>46</td>\n",
       "      <td>increase</td>\n",
       "      <td>increase</td>\n",
       "      <td>not significant</td>\n",
       "      <td>1.414243e-34</td>\n",
       "      <td>1.759110e-43</td>\n",
       "      <td>7.935557e-02</td>\n",
       "    </tr>\n",
       "    <tr>\n",
       "      <th>6</th>\n",
       "      <td>16</td>\n",
       "      <td>decrease</td>\n",
       "      <td>not significant</td>\n",
       "      <td>decrease</td>\n",
       "      <td>1.186619e-03</td>\n",
       "      <td>3.263672e-01</td>\n",
       "      <td>3.943141e-234</td>\n",
       "    </tr>\n",
       "    <tr>\n",
       "      <th>7</th>\n",
       "      <td>47</td>\n",
       "      <td>increase</td>\n",
       "      <td>increase</td>\n",
       "      <td>decrease</td>\n",
       "      <td>2.771983e-20</td>\n",
       "      <td>1.110119e-130</td>\n",
       "      <td>2.039556e-236</td>\n",
       "    </tr>\n",
       "    <tr>\n",
       "      <th>8</th>\n",
       "      <td>76</td>\n",
       "      <td>increase</td>\n",
       "      <td>decrease</td>\n",
       "      <td>decrease</td>\n",
       "      <td>5.586794e-24</td>\n",
       "      <td>2.252855e-33</td>\n",
       "      <td>4.342802e-156</td>\n",
       "    </tr>\n",
       "    <tr>\n",
       "      <th>9</th>\n",
       "      <td>89</td>\n",
       "      <td>decrease</td>\n",
       "      <td>decrease</td>\n",
       "      <td>decrease</td>\n",
       "      <td>1.403898e-34</td>\n",
       "      <td>3.508765e-220</td>\n",
       "      <td>1.013101e-243</td>\n",
       "    </tr>\n",
       "    <tr>\n",
       "      <th>10</th>\n",
       "      <td>24</td>\n",
       "      <td>decrease</td>\n",
       "      <td>decrease</td>\n",
       "      <td>not significant</td>\n",
       "      <td>1.396321e-34</td>\n",
       "      <td>2.918060e-242</td>\n",
       "      <td>9.306272e-01</td>\n",
       "    </tr>\n",
       "    <tr>\n",
       "      <th>11</th>\n",
       "      <td>22</td>\n",
       "      <td>increase</td>\n",
       "      <td>not significant</td>\n",
       "      <td>increase</td>\n",
       "      <td>1.411709e-04</td>\n",
       "      <td>3.503769e-01</td>\n",
       "      <td>6.407858e-39</td>\n",
       "    </tr>\n",
       "    <tr>\n",
       "      <th>12</th>\n",
       "      <td>7</td>\n",
       "      <td>increase</td>\n",
       "      <td>increase</td>\n",
       "      <td>increase</td>\n",
       "      <td>1.433156e-34</td>\n",
       "      <td>4.379205e-100</td>\n",
       "      <td>4.480205e-212</td>\n",
       "    </tr>\n",
       "    <tr>\n",
       "      <th>13</th>\n",
       "      <td>13</td>\n",
       "      <td>increase</td>\n",
       "      <td>decrease</td>\n",
       "      <td>increase</td>\n",
       "      <td>3.514439e-22</td>\n",
       "      <td>4.413519e-14</td>\n",
       "      <td>1.139589e-48</td>\n",
       "    </tr>\n",
       "    <tr>\n",
       "      <th>14</th>\n",
       "      <td>6</td>\n",
       "      <td>decrease</td>\n",
       "      <td>decrease</td>\n",
       "      <td>decrease</td>\n",
       "      <td>1.432268e-34</td>\n",
       "      <td>9.484199e-251</td>\n",
       "      <td>1.046139e-262</td>\n",
       "    </tr>\n",
       "    <tr>\n",
       "      <th>15</th>\n",
       "      <td>84</td>\n",
       "      <td>increase</td>\n",
       "      <td>increase</td>\n",
       "      <td>increase</td>\n",
       "      <td>1.383702e-34</td>\n",
       "      <td>3.418250e-285</td>\n",
       "      <td>1.421723e-162</td>\n",
       "    </tr>\n",
       "    <tr>\n",
       "      <th>16</th>\n",
       "      <td>86</td>\n",
       "      <td>increase</td>\n",
       "      <td>increase</td>\n",
       "      <td>increase</td>\n",
       "      <td>1.725119e-31</td>\n",
       "      <td>9.869426e-196</td>\n",
       "      <td>3.638673e-261</td>\n",
       "    </tr>\n",
       "    <tr>\n",
       "      <th>17</th>\n",
       "      <td>26</td>\n",
       "      <td>decrease</td>\n",
       "      <td>decrease</td>\n",
       "      <td>decrease</td>\n",
       "      <td>8.813684e-08</td>\n",
       "      <td>1.005474e-136</td>\n",
       "      <td>8.523862e-221</td>\n",
       "    </tr>\n",
       "    <tr>\n",
       "      <th>18</th>\n",
       "      <td>36</td>\n",
       "      <td>decrease</td>\n",
       "      <td>decrease</td>\n",
       "      <td>decrease</td>\n",
       "      <td>1.435479e-34</td>\n",
       "      <td>6.623782e-262</td>\n",
       "      <td>6.778315e-263</td>\n",
       "    </tr>\n",
       "    <tr>\n",
       "      <th>19</th>\n",
       "      <td>17</td>\n",
       "      <td>increase</td>\n",
       "      <td>increase</td>\n",
       "      <td>increase</td>\n",
       "      <td>1.426088e-34</td>\n",
       "      <td>4.766737e-136</td>\n",
       "      <td>5.028008e-263</td>\n",
       "    </tr>\n",
       "  </tbody>\n",
       "</table>\n",
       "</div>"
      ],
      "text/plain": [
       "   unit       win             lose         rewarded   win p-value  \\\n",
       "0    74  increase         decrease         increase  5.612036e-21   \n",
       "1    15  increase         increase         increase  3.559529e-33   \n",
       "2    37  increase         decrease         decrease  2.103646e-33   \n",
       "3    82  increase         increase         increase  1.316371e-34   \n",
       "4    87  increase         increase         increase  1.101864e-34   \n",
       "5    46  increase         increase  not significant  1.414243e-34   \n",
       "6    16  decrease  not significant         decrease  1.186619e-03   \n",
       "7    47  increase         increase         decrease  2.771983e-20   \n",
       "8    76  increase         decrease         decrease  5.586794e-24   \n",
       "9    89  decrease         decrease         decrease  1.403898e-34   \n",
       "10   24  decrease         decrease  not significant  1.396321e-34   \n",
       "11   22  increase  not significant         increase  1.411709e-04   \n",
       "12    7  increase         increase         increase  1.433156e-34   \n",
       "13   13  increase         decrease         increase  3.514439e-22   \n",
       "14    6  decrease         decrease         decrease  1.432268e-34   \n",
       "15   84  increase         increase         increase  1.383702e-34   \n",
       "16   86  increase         increase         increase  1.725119e-31   \n",
       "17   26  decrease         decrease         decrease  8.813684e-08   \n",
       "18   36  decrease         decrease         decrease  1.435479e-34   \n",
       "19   17  increase         increase         increase  1.426088e-34   \n",
       "\n",
       "     lose p-value  rewarded p-value  \n",
       "0   2.208537e-133     1.406254e-165  \n",
       "1    1.021333e-30      2.369683e-03  \n",
       "2    1.021854e-06      8.834704e-72  \n",
       "3   1.795649e-278      2.414928e-75  \n",
       "4   3.457421e-277     9.553979e-261  \n",
       "5    1.759110e-43      7.935557e-02  \n",
       "6    3.263672e-01     3.943141e-234  \n",
       "7   1.110119e-130     2.039556e-236  \n",
       "8    2.252855e-33     4.342802e-156  \n",
       "9   3.508765e-220     1.013101e-243  \n",
       "10  2.918060e-242      9.306272e-01  \n",
       "11   3.503769e-01      6.407858e-39  \n",
       "12  4.379205e-100     4.480205e-212  \n",
       "13   4.413519e-14      1.139589e-48  \n",
       "14  9.484199e-251     1.046139e-262  \n",
       "15  3.418250e-285     1.421723e-162  \n",
       "16  9.869426e-196     3.638673e-261  \n",
       "17  1.005474e-136     8.523862e-221  \n",
       "18  6.623782e-262     6.778315e-263  \n",
       "19  4.766737e-136     5.028008e-263  "
      ]
     },
     "execution_count": 40,
     "metadata": {},
     "output_type": "execute_result"
    }
   ],
   "source": [
    "# Initialize DataFrame with additional columns for p-values\n",
    "result_columns = ['unit', 'win', 'lose', 'rewarded', 'win p-value', 'lose p-value', 'rewarded p-value']\n",
    "recording2_wilcox_results = pd.DataFrame(columns=result_columns)\n",
    "\n",
    "# List of units and events to process\n",
    "units = set(k.split('_')[-1] for k in pre_event_arrays.keys())\n",
    "events = ['win', 'lose', 'rewarded']\n",
    "\n",
    "# Process each unit\n",
    "for unit in units:\n",
    "    result_row = {'unit': unit}\n",
    "    for event in events:\n",
    "        pre_key = f'pre_{event}_{unit}'\n",
    "        event_key = f'during_{event}_{unit}'\n",
    "        if pre_key in pre_event_arrays and event_key in event_arrays:\n",
    "            result, p_value = analyze_results(pre_event_arrays[pre_key], event_arrays[event_key])\n",
    "            result_row[event] = result\n",
    "            result_row[f'{event} p-value'] = p_value\n",
    "        else:\n",
    "            result_row[event] = 'not significant'  # Default result if no data available\n",
    "            result_row[f'{event} p-value'] = None  # Default p-value if no data available\n",
    "\n",
    "    # Append the row for the current unit to the DataFrame using concat\n",
    "    recording2_wilcox_results = pd.concat([recording2_wilcox_results, pd.DataFrame([result_row])], ignore_index=True)\n",
    "\n",
    "recording2_wilcox_results"
   ]
  },
  {
   "cell_type": "code",
   "execution_count": 41,
   "id": "f748e345-98c0-474f-9e92-7a372e4e4f06",
   "metadata": {
    "execution": {
     "iopub.execute_input": "2024-05-10T15:02:04.173911Z",
     "iopub.status.busy": "2024-05-10T15:02:04.173911Z",
     "iopub.status.idle": "2024-05-10T15:02:04.191560Z",
     "shell.execute_reply": "2024-05-10T15:02:04.190523Z",
     "shell.execute_reply.started": "2024-05-10T15:02:04.173911Z"
    }
   },
   "outputs": [
    {
     "data": {
      "text/plain": [
       "6.639390473172176e-05"
      ]
     },
     "execution_count": 41,
     "metadata": {},
     "output_type": "execute_result"
    }
   ],
   "source": [
    "np.mean(recording2_wilcox_results['win p-value'])"
   ]
  },
  {
   "cell_type": "code",
   "execution_count": 42,
   "id": "3a0f1f31-e37f-4f45-b3ab-5d5189cafed2",
   "metadata": {
    "execution": {
     "iopub.execute_input": "2024-05-10T15:02:04.896138Z",
     "iopub.status.busy": "2024-05-10T15:02:04.896138Z",
     "iopub.status.idle": "2024-05-10T15:02:04.913996Z",
     "shell.execute_reply": "2024-05-10T15:02:04.913996Z",
     "shell.execute_reply.started": "2024-05-10T15:02:04.896138Z"
    }
   },
   "outputs": [
    {
     "data": {
      "text/plain": [
       "0.033837255781060324"
      ]
     },
     "execution_count": 42,
     "metadata": {},
     "output_type": "execute_result"
    }
   ],
   "source": [
    "np.mean(recording2_wilcox_results['lose p-value'])"
   ]
  },
  {
   "cell_type": "code",
   "execution_count": 43,
   "id": "c06edf15-3ead-4d72-be8a-c8411baca486",
   "metadata": {
    "execution": {
     "iopub.execute_input": "2024-05-10T15:02:05.778078Z",
     "iopub.status.busy": "2024-05-10T15:02:05.778078Z",
     "iopub.status.idle": "2024-05-10T15:02:05.795256Z",
     "shell.execute_reply": "2024-05-10T15:02:05.795256Z",
     "shell.execute_reply.started": "2024-05-10T15:02:05.778078Z"
    }
   },
   "outputs": [
    {
     "data": {
      "text/plain": [
       "0.050617625038462156"
      ]
     },
     "execution_count": 43,
     "metadata": {},
     "output_type": "execute_result"
    }
   ],
   "source": [
    "np.mean(recording2_wilcox_results['rewarded p-value'])"
   ]
  },
  {
   "cell_type": "code",
   "execution_count": 44,
   "id": "570e25ae-d4b2-4833-9aed-26792bd09e02",
   "metadata": {
    "execution": {
     "iopub.execute_input": "2024-05-10T15:02:10.004368Z",
     "iopub.status.busy": "2024-05-10T15:02:10.004368Z",
     "iopub.status.idle": "2024-05-10T15:02:10.237335Z",
     "shell.execute_reply": "2024-05-10T15:02:10.237335Z",
     "shell.execute_reply.started": "2024-05-10T15:02:10.004368Z"
    }
   },
   "outputs": [
    {
     "name": "stderr",
     "output_type": "stream",
     "text": [
      "C:\\Users\\short\\AppData\\Local\\Temp\\ipykernel_18808\\175748976.py:52: FutureWarning: The behavior of DataFrame concatenation with empty or all-NA entries is deprecated. In a future version, this will no longer exclude empty or all-NA columns when determining the result dtypes. To retain the old behavior, exclude the relevant entries before the concat operation.\n",
      "  recording3_wilcox_results = pd.concat([recording3_wilcox_results, pd.DataFrame([result_row])], ignore_index=True)\n"
     ]
    },
    {
     "data": {
      "text/html": [
       "<div>\n",
       "<style scoped>\n",
       "    .dataframe tbody tr th:only-of-type {\n",
       "        vertical-align: middle;\n",
       "    }\n",
       "\n",
       "    .dataframe tbody tr th {\n",
       "        vertical-align: top;\n",
       "    }\n",
       "\n",
       "    .dataframe thead th {\n",
       "        text-align: right;\n",
       "    }\n",
       "</style>\n",
       "<table border=\"1\" class=\"dataframe\">\n",
       "  <thead>\n",
       "    <tr style=\"text-align: right;\">\n",
       "      <th></th>\n",
       "      <th>unit</th>\n",
       "      <th>win</th>\n",
       "      <th>lose</th>\n",
       "      <th>both_rewarded</th>\n",
       "      <th>win p-value</th>\n",
       "      <th>lose p-value</th>\n",
       "      <th>both_rewarded p-value</th>\n",
       "    </tr>\n",
       "  </thead>\n",
       "  <tbody>\n",
       "    <tr>\n",
       "      <th>0</th>\n",
       "      <td>60</td>\n",
       "      <td>increase</td>\n",
       "      <td>decrease</td>\n",
       "      <td>increase</td>\n",
       "      <td>1.568099e-03</td>\n",
       "      <td>9.957702e-43</td>\n",
       "      <td>1.547778e-03</td>\n",
       "    </tr>\n",
       "    <tr>\n",
       "      <th>1</th>\n",
       "      <td>25</td>\n",
       "      <td>decrease</td>\n",
       "      <td>decrease</td>\n",
       "      <td>not significant</td>\n",
       "      <td>1.314797e-16</td>\n",
       "      <td>1.665023e-22</td>\n",
       "      <td>4.856439e-01</td>\n",
       "    </tr>\n",
       "    <tr>\n",
       "      <th>2</th>\n",
       "      <td>81</td>\n",
       "      <td>increase</td>\n",
       "      <td>increase</td>\n",
       "      <td>not significant</td>\n",
       "      <td>7.701904e-20</td>\n",
       "      <td>1.472848e-15</td>\n",
       "      <td>2.453721e-02</td>\n",
       "    </tr>\n",
       "    <tr>\n",
       "      <th>3</th>\n",
       "      <td>7</td>\n",
       "      <td>decrease</td>\n",
       "      <td>not significant</td>\n",
       "      <td>decrease</td>\n",
       "      <td>2.957198e-25</td>\n",
       "      <td>2.409781e-01</td>\n",
       "      <td>1.243603e-163</td>\n",
       "    </tr>\n",
       "    <tr>\n",
       "      <th>4</th>\n",
       "      <td>3</td>\n",
       "      <td>decrease</td>\n",
       "      <td>decrease</td>\n",
       "      <td>decrease</td>\n",
       "      <td>7.136859e-16</td>\n",
       "      <td>2.151280e-37</td>\n",
       "      <td>1.041860e-71</td>\n",
       "    </tr>\n",
       "    <tr>\n",
       "      <th>5</th>\n",
       "      <td>13</td>\n",
       "      <td>decrease</td>\n",
       "      <td>decrease</td>\n",
       "      <td>decrease</td>\n",
       "      <td>2.381965e-73</td>\n",
       "      <td>1.062486e-41</td>\n",
       "      <td>1.815963e-125</td>\n",
       "    </tr>\n",
       "    <tr>\n",
       "      <th>6</th>\n",
       "      <td>78</td>\n",
       "      <td>increase</td>\n",
       "      <td>decrease</td>\n",
       "      <td>decrease</td>\n",
       "      <td>4.294421e-22</td>\n",
       "      <td>3.343236e-22</td>\n",
       "      <td>1.006638e-37</td>\n",
       "    </tr>\n",
       "    <tr>\n",
       "      <th>7</th>\n",
       "      <td>32</td>\n",
       "      <td>increase</td>\n",
       "      <td>increase</td>\n",
       "      <td>increase</td>\n",
       "      <td>4.666630e-05</td>\n",
       "      <td>7.954496e-11</td>\n",
       "      <td>5.863089e-50</td>\n",
       "    </tr>\n",
       "    <tr>\n",
       "      <th>8</th>\n",
       "      <td>67</td>\n",
       "      <td>increase</td>\n",
       "      <td>decrease</td>\n",
       "      <td>decrease</td>\n",
       "      <td>1.827172e-04</td>\n",
       "      <td>1.072463e-09</td>\n",
       "      <td>4.545812e-75</td>\n",
       "    </tr>\n",
       "    <tr>\n",
       "      <th>9</th>\n",
       "      <td>62</td>\n",
       "      <td>decrease</td>\n",
       "      <td>not significant</td>\n",
       "      <td>decrease</td>\n",
       "      <td>4.104372e-132</td>\n",
       "      <td>5.873732e-01</td>\n",
       "      <td>4.247315e-268</td>\n",
       "    </tr>\n",
       "    <tr>\n",
       "      <th>10</th>\n",
       "      <td>27</td>\n",
       "      <td>increase</td>\n",
       "      <td>increase</td>\n",
       "      <td>increase</td>\n",
       "      <td>3.700600e-123</td>\n",
       "      <td>1.214354e-21</td>\n",
       "      <td>0.000000e+00</td>\n",
       "    </tr>\n",
       "    <tr>\n",
       "      <th>11</th>\n",
       "      <td>69</td>\n",
       "      <td>increase</td>\n",
       "      <td>increase</td>\n",
       "      <td>decrease</td>\n",
       "      <td>4.237685e-31</td>\n",
       "      <td>7.787924e-04</td>\n",
       "      <td>8.179468e-15</td>\n",
       "    </tr>\n",
       "    <tr>\n",
       "      <th>12</th>\n",
       "      <td>0</td>\n",
       "      <td>increase</td>\n",
       "      <td>increase</td>\n",
       "      <td>decrease</td>\n",
       "      <td>3.554324e-21</td>\n",
       "      <td>8.133393e-51</td>\n",
       "      <td>1.225341e-22</td>\n",
       "    </tr>\n",
       "    <tr>\n",
       "      <th>13</th>\n",
       "      <td>64</td>\n",
       "      <td>increase</td>\n",
       "      <td>increase</td>\n",
       "      <td>decrease</td>\n",
       "      <td>2.034190e-12</td>\n",
       "      <td>6.727391e-04</td>\n",
       "      <td>2.646373e-16</td>\n",
       "    </tr>\n",
       "    <tr>\n",
       "      <th>14</th>\n",
       "      <td>52</td>\n",
       "      <td>increase</td>\n",
       "      <td>not significant</td>\n",
       "      <td>decrease</td>\n",
       "      <td>3.236441e-06</td>\n",
       "      <td>2.881279e-02</td>\n",
       "      <td>2.008552e-125</td>\n",
       "    </tr>\n",
       "    <tr>\n",
       "      <th>15</th>\n",
       "      <td>68</td>\n",
       "      <td>increase</td>\n",
       "      <td>increase</td>\n",
       "      <td>decrease</td>\n",
       "      <td>1.274287e-53</td>\n",
       "      <td>2.770545e-27</td>\n",
       "      <td>4.363390e-34</td>\n",
       "    </tr>\n",
       "  </tbody>\n",
       "</table>\n",
       "</div>"
      ],
      "text/plain": [
       "   unit       win             lose    both_rewarded    win p-value  \\\n",
       "0    60  increase         decrease         increase   1.568099e-03   \n",
       "1    25  decrease         decrease  not significant   1.314797e-16   \n",
       "2    81  increase         increase  not significant   7.701904e-20   \n",
       "3     7  decrease  not significant         decrease   2.957198e-25   \n",
       "4     3  decrease         decrease         decrease   7.136859e-16   \n",
       "5    13  decrease         decrease         decrease   2.381965e-73   \n",
       "6    78  increase         decrease         decrease   4.294421e-22   \n",
       "7    32  increase         increase         increase   4.666630e-05   \n",
       "8    67  increase         decrease         decrease   1.827172e-04   \n",
       "9    62  decrease  not significant         decrease  4.104372e-132   \n",
       "10   27  increase         increase         increase  3.700600e-123   \n",
       "11   69  increase         increase         decrease   4.237685e-31   \n",
       "12    0  increase         increase         decrease   3.554324e-21   \n",
       "13   64  increase         increase         decrease   2.034190e-12   \n",
       "14   52  increase  not significant         decrease   3.236441e-06   \n",
       "15   68  increase         increase         decrease   1.274287e-53   \n",
       "\n",
       "    lose p-value  both_rewarded p-value  \n",
       "0   9.957702e-43           1.547778e-03  \n",
       "1   1.665023e-22           4.856439e-01  \n",
       "2   1.472848e-15           2.453721e-02  \n",
       "3   2.409781e-01          1.243603e-163  \n",
       "4   2.151280e-37           1.041860e-71  \n",
       "5   1.062486e-41          1.815963e-125  \n",
       "6   3.343236e-22           1.006638e-37  \n",
       "7   7.954496e-11           5.863089e-50  \n",
       "8   1.072463e-09           4.545812e-75  \n",
       "9   5.873732e-01          4.247315e-268  \n",
       "10  1.214354e-21           0.000000e+00  \n",
       "11  7.787924e-04           8.179468e-15  \n",
       "12  8.133393e-51           1.225341e-22  \n",
       "13  6.727391e-04           2.646373e-16  \n",
       "14  2.881279e-02          2.008552e-125  \n",
       "15  2.770545e-27           4.363390e-34  "
      ]
     },
     "execution_count": 44,
     "metadata": {},
     "output_type": "execute_result"
    }
   ],
   "source": [
    "recording3 = event_spikes[event_spikes['Recording'] == '20230625_112913_standard_comp_to_both_rewarded_D4_subj_1-1_t1b2L_box1_merged.rec']\n",
    "\n",
    "# Assuming event_spikes is your DataFrame\n",
    "groups = recording3.groupby(['Unit number', 'Event name'])\n",
    "\n",
    "# Prepare dictionaries to store the results\n",
    "pre_event_arrays = {}\n",
    "event_arrays = {}\n",
    "\n",
    "# Iterate through each group\n",
    "for (unit, event_name), group in groups:\n",
    "    # Sort the group by 'Event number' to ensure correct order\n",
    "    sorted_group = group.sort_values('Event number')\n",
    "    \n",
    "    # Concatenate pre-event and event columns across all event numbers for this group\n",
    "    pre_event_data = np.concatenate([sorted_group[pre_event_cols].values.flatten()])\n",
    "    event_data = np.concatenate([sorted_group[event_cols].values.flatten()])\n",
    "    \n",
    "    # Store in dictionaries\n",
    "    pre_event_arrays[f'pre_{event_name}_{unit}'] = pre_event_data\n",
    "    event_arrays[f'during_{event_name}_{unit}'] = event_data\n",
    "\n",
    "# Initialize DataFrame with additional columns for p-values\n",
    "result_columns = ['unit', 'win', 'lose', 'both_rewarded', 'win p-value', 'lose p-value', 'both_rewarded p-value']\n",
    "recording3_wilcox_results = pd.DataFrame(columns=result_columns)\n",
    "\n",
    "# List of units and events to process\n",
    "units = set(k.split('_')[-1] for k in pre_event_arrays.keys())\n",
    "events = ['win', 'lose', 'both_rewarded']\n",
    "\n",
    "# Helper function to analyze results and return both result and p-value\n",
    "def analyze_results(pre_data, event_data):\n",
    "    stat, p_value = wilcoxon(pre_data, event_data)\n",
    "    result = 'not significant' if p_value > 0.01 else ('increase' if event_data.mean() > pre_data.mean() else 'decrease')\n",
    "    return result, p_value\n",
    "\n",
    "# Process each unit\n",
    "for unit in units:\n",
    "    result_row = {'unit': unit}\n",
    "    for event in events:\n",
    "        pre_key = f'pre_{event}_{unit}'\n",
    "        event_key = f'during_{event}_{unit}'\n",
    "        if pre_key in pre_event_arrays and event_key in event_arrays:\n",
    "            result, p_value = analyze_results(pre_event_arrays[pre_key], event_arrays[event_key])\n",
    "            result_row[event] = result\n",
    "            result_row[f'{event} p-value'] = p_value\n",
    "        else:\n",
    "            result_row[event] = 'not significant'  # Default result if no data available\n",
    "            result_row[f'{event} p-value'] = None  # Default p-value if no data available\n",
    "\n",
    "    # Append the row for the current unit to the DataFrame using concat\n",
    "    recording3_wilcox_results = pd.concat([recording3_wilcox_results, pd.DataFrame([result_row])], ignore_index=True)\n",
    "\n",
    "recording3_wilcox_results"
   ]
  },
  {
   "cell_type": "code",
   "execution_count": 45,
   "id": "795afc0c-5da8-4970-b526-67f85ed4be2d",
   "metadata": {
    "execution": {
     "iopub.execute_input": "2024-05-10T15:03:15.804050Z",
     "iopub.status.busy": "2024-05-10T15:03:15.804050Z",
     "iopub.status.idle": "2024-05-10T15:03:15.824828Z",
     "shell.execute_reply": "2024-05-10T15:03:15.824828Z",
     "shell.execute_reply.started": "2024-05-10T15:03:15.804050Z"
    }
   },
   "outputs": [
    {
     "data": {
      "text/plain": [
       "0.0001125449063015995"
      ]
     },
     "execution_count": 45,
     "metadata": {},
     "output_type": "execute_result"
    }
   ],
   "source": [
    "np.mean(recording3_wilcox_results['win p-value'])"
   ]
  },
  {
   "cell_type": "code",
   "execution_count": 46,
   "id": "6685e6eb-8e2b-4338-9a0c-d0b327f61ca0",
   "metadata": {
    "execution": {
     "iopub.execute_input": "2024-05-10T15:03:25.812843Z",
     "iopub.status.busy": "2024-05-10T15:03:25.812843Z",
     "iopub.status.idle": "2024-05-10T15:03:25.828454Z",
     "shell.execute_reply": "2024-05-10T15:03:25.828454Z",
     "shell.execute_reply.started": "2024-05-10T15:03:25.812843Z"
    }
   },
   "outputs": [
    {
     "data": {
      "text/plain": [
       "0.05366347606045844"
      ]
     },
     "execution_count": 46,
     "metadata": {},
     "output_type": "execute_result"
    }
   ],
   "source": [
    "np.mean(recording3_wilcox_results['lose p-value'])"
   ]
  },
  {
   "cell_type": "code",
   "execution_count": 48,
   "id": "f9e094e6-5cff-4af8-8471-21129cba751f",
   "metadata": {
    "execution": {
     "iopub.execute_input": "2024-05-10T15:03:52.836472Z",
     "iopub.status.busy": "2024-05-10T15:03:52.836472Z",
     "iopub.status.idle": "2024-05-10T15:03:52.855826Z",
     "shell.execute_reply": "2024-05-10T15:03:52.855826Z",
     "shell.execute_reply.started": "2024-05-10T15:03:52.836472Z"
    }
   },
   "outputs": [
    {
     "data": {
      "text/plain": [
       "0.03198305350287264"
      ]
     },
     "execution_count": 48,
     "metadata": {},
     "output_type": "execute_result"
    }
   ],
   "source": [
    "np.mean(recording3_wilcox_results['both_rewarded p-value'])"
   ]
  },
  {
   "cell_type": "code",
   "execution_count": 49,
   "id": "c9564115-b064-4327-8ed3-3660ed92d4d3",
   "metadata": {
    "execution": {
     "iopub.execute_input": "2024-05-10T15:05:58.072401Z",
     "iopub.status.busy": "2024-05-10T15:05:58.072401Z",
     "iopub.status.idle": "2024-05-10T15:05:58.096595Z",
     "shell.execute_reply": "2024-05-10T15:05:58.096595Z",
     "shell.execute_reply.started": "2024-05-10T15:05:58.072401Z"
    }
   },
   "outputs": [],
   "source": [
    "arraya = [1,2,3,4]\n",
    "arrayb = [5,6,7,8]\n",
    "test_stat, test_p_value = wilcoxon(arraya, arrayb)"
   ]
  },
  {
   "cell_type": "code",
   "execution_count": 50,
   "id": "845c87d5-8f24-43c3-ae8a-c4dfa1ad9fbc",
   "metadata": {
    "execution": {
     "iopub.execute_input": "2024-05-10T15:06:02.325317Z",
     "iopub.status.busy": "2024-05-10T15:06:02.325317Z",
     "iopub.status.idle": "2024-05-10T15:06:02.356588Z",
     "shell.execute_reply": "2024-05-10T15:06:02.355057Z",
     "shell.execute_reply.started": "2024-05-10T15:06:02.325317Z"
    }
   },
   "outputs": [
    {
     "data": {
      "text/plain": [
       "0.125"
      ]
     },
     "execution_count": 50,
     "metadata": {},
     "output_type": "execute_result"
    }
   ],
   "source": [
    "test_p_value"
   ]
  },
  {
   "cell_type": "code",
   "execution_count": 51,
   "id": "652b4d6b-8a86-441e-9410-a170b7964f24",
   "metadata": {
    "execution": {
     "iopub.execute_input": "2024-05-10T15:06:40.365639Z",
     "iopub.status.busy": "2024-05-10T15:06:40.365639Z",
     "iopub.status.idle": "2024-05-10T15:06:40.382567Z",
     "shell.execute_reply": "2024-05-10T15:06:40.382567Z",
     "shell.execute_reply.started": "2024-05-10T15:06:40.365639Z"
    }
   },
   "outputs": [],
   "source": [
    "arraya = [1,2,3,4]\n",
    "arrayb = [20,20,20,20]\n",
    "test_stat, test_p_value = wilcoxon(arraya, arrayb)"
   ]
  },
  {
   "cell_type": "code",
   "execution_count": 52,
   "id": "9b8e4389-913a-4d9c-821b-3062a87aba99",
   "metadata": {
    "execution": {
     "iopub.execute_input": "2024-05-10T15:06:45.277081Z",
     "iopub.status.busy": "2024-05-10T15:06:45.277081Z",
     "iopub.status.idle": "2024-05-10T15:06:45.293171Z",
     "shell.execute_reply": "2024-05-10T15:06:45.292151Z",
     "shell.execute_reply.started": "2024-05-10T15:06:45.277081Z"
    }
   },
   "outputs": [
    {
     "data": {
      "text/plain": [
       "0.125"
      ]
     },
     "execution_count": 52,
     "metadata": {},
     "output_type": "execute_result"
    }
   ],
   "source": [
    "test_p_value"
   ]
  },
  {
   "cell_type": "code",
   "execution_count": 54,
   "id": "f30748d1-b197-4969-8546-72a9570bdc21",
   "metadata": {
    "execution": {
     "iopub.execute_input": "2024-05-10T15:07:24.603123Z",
     "iopub.status.busy": "2024-05-10T15:07:24.603123Z",
     "iopub.status.idle": "2024-05-10T15:07:24.626726Z",
     "shell.execute_reply": "2024-05-10T15:07:24.626726Z",
     "shell.execute_reply.started": "2024-05-10T15:07:24.603123Z"
    }
   },
   "outputs": [],
   "source": [
    "arraya = [1,2,3,4]\n",
    "arrayb = [2,1,4,5]\n",
    "test_stat, test_p_value = wilcoxon(arraya, arrayb)"
   ]
  },
  {
   "cell_type": "code",
   "execution_count": 55,
   "id": "88eb6fad-31e5-4d8d-9c17-5fd339878350",
   "metadata": {
    "execution": {
     "iopub.execute_input": "2024-05-10T15:07:29.028856Z",
     "iopub.status.busy": "2024-05-10T15:07:29.028856Z",
     "iopub.status.idle": "2024-05-10T15:07:29.045628Z",
     "shell.execute_reply": "2024-05-10T15:07:29.045628Z",
     "shell.execute_reply.started": "2024-05-10T15:07:29.028856Z"
    }
   },
   "outputs": [
    {
     "data": {
      "text/plain": [
       "0.375"
      ]
     },
     "execution_count": 55,
     "metadata": {},
     "output_type": "execute_result"
    }
   ],
   "source": [
    "test_p_value"
   ]
  },
  {
   "cell_type": "code",
   "execution_count": 56,
   "id": "8235d4b4-d280-4167-893f-109b5577c1a8",
   "metadata": {
    "execution": {
     "iopub.execute_input": "2024-05-10T15:07:55.102493Z",
     "iopub.status.busy": "2024-05-10T15:07:55.102493Z",
     "iopub.status.idle": "2024-05-10T15:07:55.114918Z",
     "shell.execute_reply": "2024-05-10T15:07:55.114918Z",
     "shell.execute_reply.started": "2024-05-10T15:07:55.102493Z"
    }
   },
   "outputs": [],
   "source": [
    "arrayb = [1,2,3,4]\n",
    "arraya = [20,20,20,20]\n",
    "test_stat, test_p_value = wilcoxon(arraya, arrayb)"
   ]
  },
  {
   "cell_type": "code",
   "execution_count": 57,
   "id": "e487a516-affd-4f0d-8522-ad56d8fd681c",
   "metadata": {
    "execution": {
     "iopub.execute_input": "2024-05-10T15:07:58.319290Z",
     "iopub.status.busy": "2024-05-10T15:07:58.319290Z",
     "iopub.status.idle": "2024-05-10T15:07:58.335899Z",
     "shell.execute_reply": "2024-05-10T15:07:58.335899Z",
     "shell.execute_reply.started": "2024-05-10T15:07:58.319290Z"
    }
   },
   "outputs": [
    {
     "data": {
      "text/plain": [
       "0.125"
      ]
     },
     "execution_count": 57,
     "metadata": {},
     "output_type": "execute_result"
    }
   ],
   "source": [
    "test_p_value"
   ]
  },
  {
   "cell_type": "code",
   "execution_count": 58,
   "id": "fa35c2f7-f1f4-444a-ba45-7cf55a6bec45",
   "metadata": {
    "execution": {
     "iopub.execute_input": "2024-05-10T15:38:09.076140Z",
     "iopub.status.busy": "2024-05-10T15:38:09.076140Z",
     "iopub.status.idle": "2024-05-10T15:38:09.220867Z",
     "shell.execute_reply": "2024-05-10T15:38:09.220867Z",
     "shell.execute_reply.started": "2024-05-10T15:38:09.076140Z"
    }
   },
   "outputs": [
    {
     "data": {
      "text/html": [
       "<div>\n",
       "<style scoped>\n",
       "    .dataframe tbody tr th:only-of-type {\n",
       "        vertical-align: middle;\n",
       "    }\n",
       "\n",
       "    .dataframe tbody tr th {\n",
       "        vertical-align: top;\n",
       "    }\n",
       "\n",
       "    .dataframe thead th {\n",
       "        text-align: right;\n",
       "    }\n",
       "</style>\n",
       "<table border=\"1\" class=\"dataframe\">\n",
       "  <thead>\n",
       "    <tr style=\"text-align: right;\">\n",
       "      <th></th>\n",
       "      <th>Recording</th>\n",
       "      <th>Event name</th>\n",
       "      <th>Event number</th>\n",
       "      <th>Unit number</th>\n",
       "      <th>Pre-event timebin 1</th>\n",
       "      <th>Pre-event timebin 2</th>\n",
       "      <th>Pre-event timebin 3</th>\n",
       "      <th>Pre-event timebin 4</th>\n",
       "      <th>Pre-event timebin 5</th>\n",
       "      <th>Pre-event timebin 6</th>\n",
       "      <th>...</th>\n",
       "      <th>Event timebin 91</th>\n",
       "      <th>Event timebin 92</th>\n",
       "      <th>Event timebin 93</th>\n",
       "      <th>Event timebin 94</th>\n",
       "      <th>Event timebin 95</th>\n",
       "      <th>Event timebin 96</th>\n",
       "      <th>Event timebin 97</th>\n",
       "      <th>Event timebin 98</th>\n",
       "      <th>Event timebin 99</th>\n",
       "      <th>Event timebin 100</th>\n",
       "    </tr>\n",
       "  </thead>\n",
       "  <tbody>\n",
       "    <tr>\n",
       "      <th>0</th>\n",
       "      <td>20230612_101430_standard_comp_to_training_D1_s...</td>\n",
       "      <td>rewarded</td>\n",
       "      <td>1</td>\n",
       "      <td>85</td>\n",
       "      <td>1.28</td>\n",
       "      <td>1.28</td>\n",
       "      <td>1.28</td>\n",
       "      <td>1.28</td>\n",
       "      <td>1.28</td>\n",
       "      <td>1.28</td>\n",
       "      <td>...</td>\n",
       "      <td>0.76</td>\n",
       "      <td>0.76</td>\n",
       "      <td>0.76</td>\n",
       "      <td>0.76</td>\n",
       "      <td>0.76</td>\n",
       "      <td>0.72</td>\n",
       "      <td>0.72</td>\n",
       "      <td>0.72</td>\n",
       "      <td>0.72</td>\n",
       "      <td>0.72</td>\n",
       "    </tr>\n",
       "    <tr>\n",
       "      <th>1</th>\n",
       "      <td>20230612_101430_standard_comp_to_training_D1_s...</td>\n",
       "      <td>rewarded</td>\n",
       "      <td>2</td>\n",
       "      <td>85</td>\n",
       "      <td>0.12</td>\n",
       "      <td>0.12</td>\n",
       "      <td>0.12</td>\n",
       "      <td>0.12</td>\n",
       "      <td>0.12</td>\n",
       "      <td>0.12</td>\n",
       "      <td>...</td>\n",
       "      <td>0.24</td>\n",
       "      <td>0.24</td>\n",
       "      <td>0.24</td>\n",
       "      <td>0.24</td>\n",
       "      <td>0.24</td>\n",
       "      <td>0.24</td>\n",
       "      <td>0.24</td>\n",
       "      <td>0.24</td>\n",
       "      <td>0.24</td>\n",
       "      <td>0.24</td>\n",
       "    </tr>\n",
       "    <tr>\n",
       "      <th>2</th>\n",
       "      <td>20230612_101430_standard_comp_to_training_D1_s...</td>\n",
       "      <td>rewarded</td>\n",
       "      <td>3</td>\n",
       "      <td>85</td>\n",
       "      <td>0.12</td>\n",
       "      <td>0.12</td>\n",
       "      <td>0.12</td>\n",
       "      <td>0.12</td>\n",
       "      <td>0.12</td>\n",
       "      <td>0.12</td>\n",
       "      <td>...</td>\n",
       "      <td>0.12</td>\n",
       "      <td>0.12</td>\n",
       "      <td>0.12</td>\n",
       "      <td>0.12</td>\n",
       "      <td>0.12</td>\n",
       "      <td>0.12</td>\n",
       "      <td>0.12</td>\n",
       "      <td>0.12</td>\n",
       "      <td>0.12</td>\n",
       "      <td>0.12</td>\n",
       "    </tr>\n",
       "    <tr>\n",
       "      <th>3</th>\n",
       "      <td>20230612_101430_standard_comp_to_training_D1_s...</td>\n",
       "      <td>rewarded</td>\n",
       "      <td>4</td>\n",
       "      <td>85</td>\n",
       "      <td>0.24</td>\n",
       "      <td>0.24</td>\n",
       "      <td>0.24</td>\n",
       "      <td>0.24</td>\n",
       "      <td>0.24</td>\n",
       "      <td>0.24</td>\n",
       "      <td>...</td>\n",
       "      <td>0.12</td>\n",
       "      <td>0.12</td>\n",
       "      <td>0.12</td>\n",
       "      <td>0.12</td>\n",
       "      <td>0.12</td>\n",
       "      <td>0.12</td>\n",
       "      <td>0.12</td>\n",
       "      <td>0.12</td>\n",
       "      <td>0.12</td>\n",
       "      <td>0.12</td>\n",
       "    </tr>\n",
       "    <tr>\n",
       "      <th>4</th>\n",
       "      <td>20230612_101430_standard_comp_to_training_D1_s...</td>\n",
       "      <td>rewarded</td>\n",
       "      <td>5</td>\n",
       "      <td>85</td>\n",
       "      <td>0.20</td>\n",
       "      <td>0.20</td>\n",
       "      <td>0.20</td>\n",
       "      <td>0.20</td>\n",
       "      <td>0.20</td>\n",
       "      <td>0.20</td>\n",
       "      <td>...</td>\n",
       "      <td>0.08</td>\n",
       "      <td>0.08</td>\n",
       "      <td>0.08</td>\n",
       "      <td>0.08</td>\n",
       "      <td>0.08</td>\n",
       "      <td>0.08</td>\n",
       "      <td>0.08</td>\n",
       "      <td>0.08</td>\n",
       "      <td>0.08</td>\n",
       "      <td>0.08</td>\n",
       "    </tr>\n",
       "    <tr>\n",
       "      <th>...</th>\n",
       "      <td>...</td>\n",
       "      <td>...</td>\n",
       "      <td>...</td>\n",
       "      <td>...</td>\n",
       "      <td>...</td>\n",
       "      <td>...</td>\n",
       "      <td>...</td>\n",
       "      <td>...</td>\n",
       "      <td>...</td>\n",
       "      <td>...</td>\n",
       "      <td>...</td>\n",
       "      <td>...</td>\n",
       "      <td>...</td>\n",
       "      <td>...</td>\n",
       "      <td>...</td>\n",
       "      <td>...</td>\n",
       "      <td>...</td>\n",
       "      <td>...</td>\n",
       "      <td>...</td>\n",
       "      <td>...</td>\n",
       "      <td>...</td>\n",
       "    </tr>\n",
       "    <tr>\n",
       "      <th>10015</th>\n",
       "      <td>20230625_112913_standard_comp_to_both_rewarded...</td>\n",
       "      <td>both_rewarded</td>\n",
       "      <td>16</td>\n",
       "      <td>11</td>\n",
       "      <td>0.76</td>\n",
       "      <td>0.76</td>\n",
       "      <td>0.76</td>\n",
       "      <td>0.72</td>\n",
       "      <td>0.72</td>\n",
       "      <td>0.72</td>\n",
       "      <td>...</td>\n",
       "      <td>0.48</td>\n",
       "      <td>0.48</td>\n",
       "      <td>0.48</td>\n",
       "      <td>0.44</td>\n",
       "      <td>0.44</td>\n",
       "      <td>0.44</td>\n",
       "      <td>0.44</td>\n",
       "      <td>0.44</td>\n",
       "      <td>0.44</td>\n",
       "      <td>0.44</td>\n",
       "    </tr>\n",
       "    <tr>\n",
       "      <th>10016</th>\n",
       "      <td>20230625_112913_standard_comp_to_both_rewarded...</td>\n",
       "      <td>both_rewarded</td>\n",
       "      <td>17</td>\n",
       "      <td>11</td>\n",
       "      <td>0.16</td>\n",
       "      <td>0.16</td>\n",
       "      <td>0.16</td>\n",
       "      <td>0.16</td>\n",
       "      <td>0.16</td>\n",
       "      <td>0.16</td>\n",
       "      <td>...</td>\n",
       "      <td>0.84</td>\n",
       "      <td>0.92</td>\n",
       "      <td>0.92</td>\n",
       "      <td>0.96</td>\n",
       "      <td>0.96</td>\n",
       "      <td>1.00</td>\n",
       "      <td>1.00</td>\n",
       "      <td>1.00</td>\n",
       "      <td>1.00</td>\n",
       "      <td>1.00</td>\n",
       "    </tr>\n",
       "    <tr>\n",
       "      <th>10017</th>\n",
       "      <td>20230625_112913_standard_comp_to_both_rewarded...</td>\n",
       "      <td>both_rewarded</td>\n",
       "      <td>18</td>\n",
       "      <td>11</td>\n",
       "      <td>0.08</td>\n",
       "      <td>0.08</td>\n",
       "      <td>0.08</td>\n",
       "      <td>0.08</td>\n",
       "      <td>0.08</td>\n",
       "      <td>0.08</td>\n",
       "      <td>...</td>\n",
       "      <td>0.24</td>\n",
       "      <td>0.24</td>\n",
       "      <td>0.24</td>\n",
       "      <td>0.24</td>\n",
       "      <td>0.24</td>\n",
       "      <td>0.24</td>\n",
       "      <td>0.24</td>\n",
       "      <td>0.24</td>\n",
       "      <td>0.24</td>\n",
       "      <td>0.24</td>\n",
       "    </tr>\n",
       "    <tr>\n",
       "      <th>10018</th>\n",
       "      <td>20230625_112913_standard_comp_to_both_rewarded...</td>\n",
       "      <td>both_rewarded</td>\n",
       "      <td>19</td>\n",
       "      <td>11</td>\n",
       "      <td>0.04</td>\n",
       "      <td>0.04</td>\n",
       "      <td>0.04</td>\n",
       "      <td>0.04</td>\n",
       "      <td>0.04</td>\n",
       "      <td>0.04</td>\n",
       "      <td>...</td>\n",
       "      <td>0.36</td>\n",
       "      <td>0.36</td>\n",
       "      <td>0.36</td>\n",
       "      <td>0.36</td>\n",
       "      <td>0.36</td>\n",
       "      <td>0.36</td>\n",
       "      <td>0.36</td>\n",
       "      <td>0.36</td>\n",
       "      <td>0.36</td>\n",
       "      <td>0.36</td>\n",
       "    </tr>\n",
       "    <tr>\n",
       "      <th>10019</th>\n",
       "      <td>20230625_112913_standard_comp_to_both_rewarded...</td>\n",
       "      <td>both_rewarded</td>\n",
       "      <td>20</td>\n",
       "      <td>11</td>\n",
       "      <td>0.52</td>\n",
       "      <td>0.52</td>\n",
       "      <td>0.52</td>\n",
       "      <td>0.52</td>\n",
       "      <td>0.52</td>\n",
       "      <td>0.52</td>\n",
       "      <td>...</td>\n",
       "      <td>1.04</td>\n",
       "      <td>1.04</td>\n",
       "      <td>1.04</td>\n",
       "      <td>1.04</td>\n",
       "      <td>1.04</td>\n",
       "      <td>1.04</td>\n",
       "      <td>1.04</td>\n",
       "      <td>1.04</td>\n",
       "      <td>1.04</td>\n",
       "      <td>1.04</td>\n",
       "    </tr>\n",
       "  </tbody>\n",
       "</table>\n",
       "<p>10020 rows × 204 columns</p>\n",
       "</div>"
      ],
      "text/plain": [
       "                                               Recording     Event name  \\\n",
       "0      20230612_101430_standard_comp_to_training_D1_s...       rewarded   \n",
       "1      20230612_101430_standard_comp_to_training_D1_s...       rewarded   \n",
       "2      20230612_101430_standard_comp_to_training_D1_s...       rewarded   \n",
       "3      20230612_101430_standard_comp_to_training_D1_s...       rewarded   \n",
       "4      20230612_101430_standard_comp_to_training_D1_s...       rewarded   \n",
       "...                                                  ...            ...   \n",
       "10015  20230625_112913_standard_comp_to_both_rewarded...  both_rewarded   \n",
       "10016  20230625_112913_standard_comp_to_both_rewarded...  both_rewarded   \n",
       "10017  20230625_112913_standard_comp_to_both_rewarded...  both_rewarded   \n",
       "10018  20230625_112913_standard_comp_to_both_rewarded...  both_rewarded   \n",
       "10019  20230625_112913_standard_comp_to_both_rewarded...  both_rewarded   \n",
       "\n",
       "       Event number  Unit number  Pre-event timebin 1  Pre-event timebin 2  \\\n",
       "0                 1           85                 1.28                 1.28   \n",
       "1                 2           85                 0.12                 0.12   \n",
       "2                 3           85                 0.12                 0.12   \n",
       "3                 4           85                 0.24                 0.24   \n",
       "4                 5           85                 0.20                 0.20   \n",
       "...             ...          ...                  ...                  ...   \n",
       "10015            16           11                 0.76                 0.76   \n",
       "10016            17           11                 0.16                 0.16   \n",
       "10017            18           11                 0.08                 0.08   \n",
       "10018            19           11                 0.04                 0.04   \n",
       "10019            20           11                 0.52                 0.52   \n",
       "\n",
       "       Pre-event timebin 3  Pre-event timebin 4  Pre-event timebin 5  \\\n",
       "0                     1.28                 1.28                 1.28   \n",
       "1                     0.12                 0.12                 0.12   \n",
       "2                     0.12                 0.12                 0.12   \n",
       "3                     0.24                 0.24                 0.24   \n",
       "4                     0.20                 0.20                 0.20   \n",
       "...                    ...                  ...                  ...   \n",
       "10015                 0.76                 0.72                 0.72   \n",
       "10016                 0.16                 0.16                 0.16   \n",
       "10017                 0.08                 0.08                 0.08   \n",
       "10018                 0.04                 0.04                 0.04   \n",
       "10019                 0.52                 0.52                 0.52   \n",
       "\n",
       "       Pre-event timebin 6  ...  Event timebin 91  Event timebin 92  \\\n",
       "0                     1.28  ...              0.76              0.76   \n",
       "1                     0.12  ...              0.24              0.24   \n",
       "2                     0.12  ...              0.12              0.12   \n",
       "3                     0.24  ...              0.12              0.12   \n",
       "4                     0.20  ...              0.08              0.08   \n",
       "...                    ...  ...               ...               ...   \n",
       "10015                 0.72  ...              0.48              0.48   \n",
       "10016                 0.16  ...              0.84              0.92   \n",
       "10017                 0.08  ...              0.24              0.24   \n",
       "10018                 0.04  ...              0.36              0.36   \n",
       "10019                 0.52  ...              1.04              1.04   \n",
       "\n",
       "       Event timebin 93  Event timebin 94  Event timebin 95  Event timebin 96  \\\n",
       "0                  0.76              0.76              0.76              0.72   \n",
       "1                  0.24              0.24              0.24              0.24   \n",
       "2                  0.12              0.12              0.12              0.12   \n",
       "3                  0.12              0.12              0.12              0.12   \n",
       "4                  0.08              0.08              0.08              0.08   \n",
       "...                 ...               ...               ...               ...   \n",
       "10015              0.48              0.44              0.44              0.44   \n",
       "10016              0.92              0.96              0.96              1.00   \n",
       "10017              0.24              0.24              0.24              0.24   \n",
       "10018              0.36              0.36              0.36              0.36   \n",
       "10019              1.04              1.04              1.04              1.04   \n",
       "\n",
       "       Event timebin 97  Event timebin 98  Event timebin 99  Event timebin 100  \n",
       "0                  0.72              0.72              0.72               0.72  \n",
       "1                  0.24              0.24              0.24               0.24  \n",
       "2                  0.12              0.12              0.12               0.12  \n",
       "3                  0.12              0.12              0.12               0.12  \n",
       "4                  0.08              0.08              0.08               0.08  \n",
       "...                 ...               ...               ...                ...  \n",
       "10015              0.44              0.44              0.44               0.44  \n",
       "10016              1.00              1.00              1.00               1.00  \n",
       "10017              0.24              0.24              0.24               0.24  \n",
       "10018              0.36              0.36              0.36               0.36  \n",
       "10019              1.04              1.04              1.04               1.04  \n",
       "\n",
       "[10020 rows x 204 columns]"
      ]
     },
     "execution_count": 58,
     "metadata": {},
     "output_type": "execute_result"
    }
   ],
   "source": [
    "event_spikes"
   ]
  },
  {
   "cell_type": "code",
   "execution_count": 60,
   "id": "86c37330-5d60-430b-9cc8-e69149be155b",
   "metadata": {
    "execution": {
     "iopub.execute_input": "2024-05-10T15:45:11.564603Z",
     "iopub.status.busy": "2024-05-10T15:45:11.564603Z",
     "iopub.status.idle": "2024-05-10T15:45:40.258526Z",
     "shell.execute_reply": "2024-05-10T15:45:40.258526Z",
     "shell.execute_reply.started": "2024-05-10T15:45:11.564603Z"
    }
   },
   "outputs": [
    {
     "name": "stderr",
     "output_type": "stream",
     "text": [
      "C:\\Users\\short\\anaconda3\\Lib\\site-packages\\scipy\\stats\\_morestats.py:4102: UserWarning: Sample size too small for normal approximation.\n",
      "  warnings.warn(\"Sample size too small for normal approximation.\")\n",
      "C:\\Users\\short\\anaconda3\\Lib\\site-packages\\scipy\\stats\\_morestats.py:4102: UserWarning: Sample size too small for normal approximation.\n",
      "  warnings.warn(\"Sample size too small for normal approximation.\")\n",
      "C:\\Users\\short\\anaconda3\\Lib\\site-packages\\scipy\\stats\\_morestats.py:4102: UserWarning: Sample size too small for normal approximation.\n",
      "  warnings.warn(\"Sample size too small for normal approximation.\")\n",
      "C:\\Users\\short\\anaconda3\\Lib\\site-packages\\scipy\\stats\\_morestats.py:4102: UserWarning: Sample size too small for normal approximation.\n",
      "  warnings.warn(\"Sample size too small for normal approximation.\")\n",
      "C:\\Users\\short\\anaconda3\\Lib\\site-packages\\scipy\\stats\\_morestats.py:4102: UserWarning: Sample size too small for normal approximation.\n",
      "  warnings.warn(\"Sample size too small for normal approximation.\")\n",
      "C:\\Users\\short\\anaconda3\\Lib\\site-packages\\scipy\\stats\\_morestats.py:4102: UserWarning: Sample size too small for normal approximation.\n",
      "  warnings.warn(\"Sample size too small for normal approximation.\")\n",
      "C:\\Users\\short\\anaconda3\\Lib\\site-packages\\scipy\\stats\\_morestats.py:4102: UserWarning: Sample size too small for normal approximation.\n",
      "  warnings.warn(\"Sample size too small for normal approximation.\")\n"
     ]
    },
    {
     "name": "stdout",
     "output_type": "stream",
     "text": [
      "Mean p-value: 0.028560532356265725\n",
      "                                               Recording     Event name  \\\n",
      "0      20230612_101430_standard_comp_to_training_D1_s...       rewarded   \n",
      "1      20230612_101430_standard_comp_to_training_D1_s...       rewarded   \n",
      "2      20230612_101430_standard_comp_to_training_D1_s...       rewarded   \n",
      "3      20230612_101430_standard_comp_to_training_D1_s...       rewarded   \n",
      "4      20230612_101430_standard_comp_to_training_D1_s...       rewarded   \n",
      "...                                                  ...            ...   \n",
      "10015  20230625_112913_standard_comp_to_both_rewarded...  both_rewarded   \n",
      "10016  20230625_112913_standard_comp_to_both_rewarded...  both_rewarded   \n",
      "10017  20230625_112913_standard_comp_to_both_rewarded...  both_rewarded   \n",
      "10018  20230625_112913_standard_comp_to_both_rewarded...  both_rewarded   \n",
      "10019  20230625_112913_standard_comp_to_both_rewarded...  both_rewarded   \n",
      "\n",
      "       Wilcox p-value  \n",
      "0        5.894376e-17  \n",
      "1        5.328905e-01  \n",
      "2        2.427184e-06  \n",
      "3        2.784046e-12  \n",
      "4        2.483787e-18  \n",
      "...               ...  \n",
      "10015    5.085894e-01  \n",
      "10016    2.821209e-11  \n",
      "10017    4.497555e-18  \n",
      "10018    1.201427e-18  \n",
      "10019    3.308506e-06  \n",
      "\n",
      "[10020 rows x 3 columns]\n"
     ]
    }
   ],
   "source": [
    "from scipy.stats import wilcoxon\n",
    "import pandas as pd\n",
    "import numpy as np\n",
    "\n",
    "# Define a function to perform the Wilcoxon signed-rank test safely\n",
    "def perform_wilcoxon(row):\n",
    "    pre_event_values = row[pre_event_cols].values\n",
    "    event_values = row[event_cols].values\n",
    "    # Check if all differences are zero\n",
    "    if np.all(pre_event_values == event_values):\n",
    "        return np.nan  # Return NaN if no variation to avoid ValueError\n",
    "    else:\n",
    "        # Perform the Wilcoxon signed-rank test\n",
    "        stat, p_value = wilcoxon(pre_event_values, event_values)\n",
    "        return p_value\n",
    "\n",
    "# Apply the test across rows\n",
    "event_spikes['Wilcox p-value'] = event_spikes.apply(perform_wilcoxon, axis=1)\n",
    "\n",
    "# Handle potential warnings or errors gracefully\n",
    "try:\n",
    "    mean_p_value = np.nanmean(event_spikes['Wilcox p-value'])  # Calculate mean, ignoring NaNs\n",
    "    print(f\"Mean p-value: {mean_p_value}\")\n",
    "except Exception as e:\n",
    "    print(f\"An error occurred: {e}\")\n",
    "\n",
    "# Check if all p-values are NaN\n",
    "if event_spikes['Wilcox p-value'].isna().all():\n",
    "    print(\"No valid Wilcoxon tests were performed due to data issues such as non-variability.\")\n",
    "else:\n",
    "    # Display the results\n",
    "    print(event_spikes[['Recording', 'Event name', 'Wilcox p-value']])"
   ]
  },
  {
   "cell_type": "code",
   "execution_count": 61,
   "id": "a8ff4d36-62c6-4546-8652-e0a91205b257",
   "metadata": {
    "execution": {
     "iopub.execute_input": "2024-05-10T15:46:09.142286Z",
     "iopub.status.busy": "2024-05-10T15:46:09.142286Z",
     "iopub.status.idle": "2024-05-10T15:46:09.222737Z",
     "shell.execute_reply": "2024-05-10T15:46:09.222737Z",
     "shell.execute_reply.started": "2024-05-10T15:46:09.142286Z"
    }
   },
   "outputs": [
    {
     "data": {
      "text/html": [
       "<div>\n",
       "<style scoped>\n",
       "    .dataframe tbody tr th:only-of-type {\n",
       "        vertical-align: middle;\n",
       "    }\n",
       "\n",
       "    .dataframe tbody tr th {\n",
       "        vertical-align: top;\n",
       "    }\n",
       "\n",
       "    .dataframe thead th {\n",
       "        text-align: right;\n",
       "    }\n",
       "</style>\n",
       "<table border=\"1\" class=\"dataframe\">\n",
       "  <thead>\n",
       "    <tr style=\"text-align: right;\">\n",
       "      <th></th>\n",
       "      <th>Recording</th>\n",
       "      <th>Event name</th>\n",
       "      <th>Event number</th>\n",
       "      <th>Unit number</th>\n",
       "      <th>Pre-event timebin 1</th>\n",
       "      <th>Pre-event timebin 2</th>\n",
       "      <th>Pre-event timebin 3</th>\n",
       "      <th>Pre-event timebin 4</th>\n",
       "      <th>Pre-event timebin 5</th>\n",
       "      <th>Pre-event timebin 6</th>\n",
       "      <th>...</th>\n",
       "      <th>Event timebin 92</th>\n",
       "      <th>Event timebin 93</th>\n",
       "      <th>Event timebin 94</th>\n",
       "      <th>Event timebin 95</th>\n",
       "      <th>Event timebin 96</th>\n",
       "      <th>Event timebin 97</th>\n",
       "      <th>Event timebin 98</th>\n",
       "      <th>Event timebin 99</th>\n",
       "      <th>Event timebin 100</th>\n",
       "      <th>Wilcox p-value</th>\n",
       "    </tr>\n",
       "  </thead>\n",
       "  <tbody>\n",
       "    <tr>\n",
       "      <th>0</th>\n",
       "      <td>20230612_101430_standard_comp_to_training_D1_s...</td>\n",
       "      <td>rewarded</td>\n",
       "      <td>1</td>\n",
       "      <td>85</td>\n",
       "      <td>1.28</td>\n",
       "      <td>1.28</td>\n",
       "      <td>1.28</td>\n",
       "      <td>1.28</td>\n",
       "      <td>1.28</td>\n",
       "      <td>1.28</td>\n",
       "      <td>...</td>\n",
       "      <td>0.76</td>\n",
       "      <td>0.76</td>\n",
       "      <td>0.76</td>\n",
       "      <td>0.76</td>\n",
       "      <td>0.72</td>\n",
       "      <td>0.72</td>\n",
       "      <td>0.72</td>\n",
       "      <td>0.72</td>\n",
       "      <td>0.72</td>\n",
       "      <td>5.894376e-17</td>\n",
       "    </tr>\n",
       "    <tr>\n",
       "      <th>1</th>\n",
       "      <td>20230612_101430_standard_comp_to_training_D1_s...</td>\n",
       "      <td>rewarded</td>\n",
       "      <td>2</td>\n",
       "      <td>85</td>\n",
       "      <td>0.12</td>\n",
       "      <td>0.12</td>\n",
       "      <td>0.12</td>\n",
       "      <td>0.12</td>\n",
       "      <td>0.12</td>\n",
       "      <td>0.12</td>\n",
       "      <td>...</td>\n",
       "      <td>0.24</td>\n",
       "      <td>0.24</td>\n",
       "      <td>0.24</td>\n",
       "      <td>0.24</td>\n",
       "      <td>0.24</td>\n",
       "      <td>0.24</td>\n",
       "      <td>0.24</td>\n",
       "      <td>0.24</td>\n",
       "      <td>0.24</td>\n",
       "      <td>5.328905e-01</td>\n",
       "    </tr>\n",
       "    <tr>\n",
       "      <th>2</th>\n",
       "      <td>20230612_101430_standard_comp_to_training_D1_s...</td>\n",
       "      <td>rewarded</td>\n",
       "      <td>3</td>\n",
       "      <td>85</td>\n",
       "      <td>0.12</td>\n",
       "      <td>0.12</td>\n",
       "      <td>0.12</td>\n",
       "      <td>0.12</td>\n",
       "      <td>0.12</td>\n",
       "      <td>0.12</td>\n",
       "      <td>...</td>\n",
       "      <td>0.12</td>\n",
       "      <td>0.12</td>\n",
       "      <td>0.12</td>\n",
       "      <td>0.12</td>\n",
       "      <td>0.12</td>\n",
       "      <td>0.12</td>\n",
       "      <td>0.12</td>\n",
       "      <td>0.12</td>\n",
       "      <td>0.12</td>\n",
       "      <td>2.427184e-06</td>\n",
       "    </tr>\n",
       "    <tr>\n",
       "      <th>3</th>\n",
       "      <td>20230612_101430_standard_comp_to_training_D1_s...</td>\n",
       "      <td>rewarded</td>\n",
       "      <td>4</td>\n",
       "      <td>85</td>\n",
       "      <td>0.24</td>\n",
       "      <td>0.24</td>\n",
       "      <td>0.24</td>\n",
       "      <td>0.24</td>\n",
       "      <td>0.24</td>\n",
       "      <td>0.24</td>\n",
       "      <td>...</td>\n",
       "      <td>0.12</td>\n",
       "      <td>0.12</td>\n",
       "      <td>0.12</td>\n",
       "      <td>0.12</td>\n",
       "      <td>0.12</td>\n",
       "      <td>0.12</td>\n",
       "      <td>0.12</td>\n",
       "      <td>0.12</td>\n",
       "      <td>0.12</td>\n",
       "      <td>2.784046e-12</td>\n",
       "    </tr>\n",
       "    <tr>\n",
       "      <th>4</th>\n",
       "      <td>20230612_101430_standard_comp_to_training_D1_s...</td>\n",
       "      <td>rewarded</td>\n",
       "      <td>5</td>\n",
       "      <td>85</td>\n",
       "      <td>0.20</td>\n",
       "      <td>0.20</td>\n",
       "      <td>0.20</td>\n",
       "      <td>0.20</td>\n",
       "      <td>0.20</td>\n",
       "      <td>0.20</td>\n",
       "      <td>...</td>\n",
       "      <td>0.08</td>\n",
       "      <td>0.08</td>\n",
       "      <td>0.08</td>\n",
       "      <td>0.08</td>\n",
       "      <td>0.08</td>\n",
       "      <td>0.08</td>\n",
       "      <td>0.08</td>\n",
       "      <td>0.08</td>\n",
       "      <td>0.08</td>\n",
       "      <td>2.483787e-18</td>\n",
       "    </tr>\n",
       "    <tr>\n",
       "      <th>...</th>\n",
       "      <td>...</td>\n",
       "      <td>...</td>\n",
       "      <td>...</td>\n",
       "      <td>...</td>\n",
       "      <td>...</td>\n",
       "      <td>...</td>\n",
       "      <td>...</td>\n",
       "      <td>...</td>\n",
       "      <td>...</td>\n",
       "      <td>...</td>\n",
       "      <td>...</td>\n",
       "      <td>...</td>\n",
       "      <td>...</td>\n",
       "      <td>...</td>\n",
       "      <td>...</td>\n",
       "      <td>...</td>\n",
       "      <td>...</td>\n",
       "      <td>...</td>\n",
       "      <td>...</td>\n",
       "      <td>...</td>\n",
       "      <td>...</td>\n",
       "    </tr>\n",
       "    <tr>\n",
       "      <th>10015</th>\n",
       "      <td>20230625_112913_standard_comp_to_both_rewarded...</td>\n",
       "      <td>both_rewarded</td>\n",
       "      <td>16</td>\n",
       "      <td>11</td>\n",
       "      <td>0.76</td>\n",
       "      <td>0.76</td>\n",
       "      <td>0.76</td>\n",
       "      <td>0.72</td>\n",
       "      <td>0.72</td>\n",
       "      <td>0.72</td>\n",
       "      <td>...</td>\n",
       "      <td>0.48</td>\n",
       "      <td>0.48</td>\n",
       "      <td>0.44</td>\n",
       "      <td>0.44</td>\n",
       "      <td>0.44</td>\n",
       "      <td>0.44</td>\n",
       "      <td>0.44</td>\n",
       "      <td>0.44</td>\n",
       "      <td>0.44</td>\n",
       "      <td>5.085894e-01</td>\n",
       "    </tr>\n",
       "    <tr>\n",
       "      <th>10016</th>\n",
       "      <td>20230625_112913_standard_comp_to_both_rewarded...</td>\n",
       "      <td>both_rewarded</td>\n",
       "      <td>17</td>\n",
       "      <td>11</td>\n",
       "      <td>0.16</td>\n",
       "      <td>0.16</td>\n",
       "      <td>0.16</td>\n",
       "      <td>0.16</td>\n",
       "      <td>0.16</td>\n",
       "      <td>0.16</td>\n",
       "      <td>...</td>\n",
       "      <td>0.92</td>\n",
       "      <td>0.92</td>\n",
       "      <td>0.96</td>\n",
       "      <td>0.96</td>\n",
       "      <td>1.00</td>\n",
       "      <td>1.00</td>\n",
       "      <td>1.00</td>\n",
       "      <td>1.00</td>\n",
       "      <td>1.00</td>\n",
       "      <td>2.821209e-11</td>\n",
       "    </tr>\n",
       "    <tr>\n",
       "      <th>10017</th>\n",
       "      <td>20230625_112913_standard_comp_to_both_rewarded...</td>\n",
       "      <td>both_rewarded</td>\n",
       "      <td>18</td>\n",
       "      <td>11</td>\n",
       "      <td>0.08</td>\n",
       "      <td>0.08</td>\n",
       "      <td>0.08</td>\n",
       "      <td>0.08</td>\n",
       "      <td>0.08</td>\n",
       "      <td>0.08</td>\n",
       "      <td>...</td>\n",
       "      <td>0.24</td>\n",
       "      <td>0.24</td>\n",
       "      <td>0.24</td>\n",
       "      <td>0.24</td>\n",
       "      <td>0.24</td>\n",
       "      <td>0.24</td>\n",
       "      <td>0.24</td>\n",
       "      <td>0.24</td>\n",
       "      <td>0.24</td>\n",
       "      <td>4.497555e-18</td>\n",
       "    </tr>\n",
       "    <tr>\n",
       "      <th>10018</th>\n",
       "      <td>20230625_112913_standard_comp_to_both_rewarded...</td>\n",
       "      <td>both_rewarded</td>\n",
       "      <td>19</td>\n",
       "      <td>11</td>\n",
       "      <td>0.04</td>\n",
       "      <td>0.04</td>\n",
       "      <td>0.04</td>\n",
       "      <td>0.04</td>\n",
       "      <td>0.04</td>\n",
       "      <td>0.04</td>\n",
       "      <td>...</td>\n",
       "      <td>0.36</td>\n",
       "      <td>0.36</td>\n",
       "      <td>0.36</td>\n",
       "      <td>0.36</td>\n",
       "      <td>0.36</td>\n",
       "      <td>0.36</td>\n",
       "      <td>0.36</td>\n",
       "      <td>0.36</td>\n",
       "      <td>0.36</td>\n",
       "      <td>1.201427e-18</td>\n",
       "    </tr>\n",
       "    <tr>\n",
       "      <th>10019</th>\n",
       "      <td>20230625_112913_standard_comp_to_both_rewarded...</td>\n",
       "      <td>both_rewarded</td>\n",
       "      <td>20</td>\n",
       "      <td>11</td>\n",
       "      <td>0.52</td>\n",
       "      <td>0.52</td>\n",
       "      <td>0.52</td>\n",
       "      <td>0.52</td>\n",
       "      <td>0.52</td>\n",
       "      <td>0.52</td>\n",
       "      <td>...</td>\n",
       "      <td>1.04</td>\n",
       "      <td>1.04</td>\n",
       "      <td>1.04</td>\n",
       "      <td>1.04</td>\n",
       "      <td>1.04</td>\n",
       "      <td>1.04</td>\n",
       "      <td>1.04</td>\n",
       "      <td>1.04</td>\n",
       "      <td>1.04</td>\n",
       "      <td>3.308506e-06</td>\n",
       "    </tr>\n",
       "  </tbody>\n",
       "</table>\n",
       "<p>10020 rows × 205 columns</p>\n",
       "</div>"
      ],
      "text/plain": [
       "                                               Recording     Event name  \\\n",
       "0      20230612_101430_standard_comp_to_training_D1_s...       rewarded   \n",
       "1      20230612_101430_standard_comp_to_training_D1_s...       rewarded   \n",
       "2      20230612_101430_standard_comp_to_training_D1_s...       rewarded   \n",
       "3      20230612_101430_standard_comp_to_training_D1_s...       rewarded   \n",
       "4      20230612_101430_standard_comp_to_training_D1_s...       rewarded   \n",
       "...                                                  ...            ...   \n",
       "10015  20230625_112913_standard_comp_to_both_rewarded...  both_rewarded   \n",
       "10016  20230625_112913_standard_comp_to_both_rewarded...  both_rewarded   \n",
       "10017  20230625_112913_standard_comp_to_both_rewarded...  both_rewarded   \n",
       "10018  20230625_112913_standard_comp_to_both_rewarded...  both_rewarded   \n",
       "10019  20230625_112913_standard_comp_to_both_rewarded...  both_rewarded   \n",
       "\n",
       "       Event number  Unit number  Pre-event timebin 1  Pre-event timebin 2  \\\n",
       "0                 1           85                 1.28                 1.28   \n",
       "1                 2           85                 0.12                 0.12   \n",
       "2                 3           85                 0.12                 0.12   \n",
       "3                 4           85                 0.24                 0.24   \n",
       "4                 5           85                 0.20                 0.20   \n",
       "...             ...          ...                  ...                  ...   \n",
       "10015            16           11                 0.76                 0.76   \n",
       "10016            17           11                 0.16                 0.16   \n",
       "10017            18           11                 0.08                 0.08   \n",
       "10018            19           11                 0.04                 0.04   \n",
       "10019            20           11                 0.52                 0.52   \n",
       "\n",
       "       Pre-event timebin 3  Pre-event timebin 4  Pre-event timebin 5  \\\n",
       "0                     1.28                 1.28                 1.28   \n",
       "1                     0.12                 0.12                 0.12   \n",
       "2                     0.12                 0.12                 0.12   \n",
       "3                     0.24                 0.24                 0.24   \n",
       "4                     0.20                 0.20                 0.20   \n",
       "...                    ...                  ...                  ...   \n",
       "10015                 0.76                 0.72                 0.72   \n",
       "10016                 0.16                 0.16                 0.16   \n",
       "10017                 0.08                 0.08                 0.08   \n",
       "10018                 0.04                 0.04                 0.04   \n",
       "10019                 0.52                 0.52                 0.52   \n",
       "\n",
       "       Pre-event timebin 6  ...  Event timebin 92  Event timebin 93  \\\n",
       "0                     1.28  ...              0.76              0.76   \n",
       "1                     0.12  ...              0.24              0.24   \n",
       "2                     0.12  ...              0.12              0.12   \n",
       "3                     0.24  ...              0.12              0.12   \n",
       "4                     0.20  ...              0.08              0.08   \n",
       "...                    ...  ...               ...               ...   \n",
       "10015                 0.72  ...              0.48              0.48   \n",
       "10016                 0.16  ...              0.92              0.92   \n",
       "10017                 0.08  ...              0.24              0.24   \n",
       "10018                 0.04  ...              0.36              0.36   \n",
       "10019                 0.52  ...              1.04              1.04   \n",
       "\n",
       "       Event timebin 94  Event timebin 95  Event timebin 96  Event timebin 97  \\\n",
       "0                  0.76              0.76              0.72              0.72   \n",
       "1                  0.24              0.24              0.24              0.24   \n",
       "2                  0.12              0.12              0.12              0.12   \n",
       "3                  0.12              0.12              0.12              0.12   \n",
       "4                  0.08              0.08              0.08              0.08   \n",
       "...                 ...               ...               ...               ...   \n",
       "10015              0.44              0.44              0.44              0.44   \n",
       "10016              0.96              0.96              1.00              1.00   \n",
       "10017              0.24              0.24              0.24              0.24   \n",
       "10018              0.36              0.36              0.36              0.36   \n",
       "10019              1.04              1.04              1.04              1.04   \n",
       "\n",
       "       Event timebin 98  Event timebin 99  Event timebin 100  Wilcox p-value  \n",
       "0                  0.72              0.72               0.72    5.894376e-17  \n",
       "1                  0.24              0.24               0.24    5.328905e-01  \n",
       "2                  0.12              0.12               0.12    2.427184e-06  \n",
       "3                  0.12              0.12               0.12    2.784046e-12  \n",
       "4                  0.08              0.08               0.08    2.483787e-18  \n",
       "...                 ...               ...                ...             ...  \n",
       "10015              0.44              0.44               0.44    5.085894e-01  \n",
       "10016              1.00              1.00               1.00    2.821209e-11  \n",
       "10017              0.24              0.24               0.24    4.497555e-18  \n",
       "10018              0.36              0.36               0.36    1.201427e-18  \n",
       "10019              1.04              1.04               1.04    3.308506e-06  \n",
       "\n",
       "[10020 rows x 205 columns]"
      ]
     },
     "execution_count": 61,
     "metadata": {},
     "output_type": "execute_result"
    }
   ],
   "source": [
    "event_spikes"
   ]
  },
  {
   "cell_type": "code",
   "execution_count": 64,
   "id": "cb33a0ec-e0e3-4ce0-bc6d-4806d107b6fe",
   "metadata": {
    "execution": {
     "iopub.execute_input": "2024-05-10T15:47:49.497239Z",
     "iopub.status.busy": "2024-05-10T15:47:49.497239Z",
     "iopub.status.idle": "2024-05-10T15:47:49.521635Z",
     "shell.execute_reply": "2024-05-10T15:47:49.521635Z",
     "shell.execute_reply.started": "2024-05-10T15:47:49.497239Z"
    }
   },
   "outputs": [
    {
     "data": {
      "text/plain": [
       "16"
      ]
     },
     "execution_count": 64,
     "metadata": {},
     "output_type": "execute_result"
    }
   ],
   "source": [
    "event_spikes['Wilcox p-value'].isna().sum()"
   ]
  },
  {
   "cell_type": "code",
   "execution_count": 66,
   "id": "b9d440d3-deca-48ca-a323-2938a53468b1",
   "metadata": {
    "execution": {
     "iopub.execute_input": "2024-05-10T15:53:26.264638Z",
     "iopub.status.busy": "2024-05-10T15:53:26.264638Z",
     "iopub.status.idle": "2024-05-10T15:53:26.719138Z",
     "shell.execute_reply": "2024-05-10T15:53:26.719138Z",
     "shell.execute_reply.started": "2024-05-10T15:53:26.264638Z"
    }
   },
   "outputs": [],
   "source": [
    "from scipy.stats import combine_pvalues\n",
    "\n",
    "grouped = event_spikes.groupby(['Recording', 'Event name', 'Unit number'])\n",
    "\n",
    "# Define a function to apply Fisher's method\n",
    "def fishers_method(group):\n",
    "    p_values = group['Wilcox p-value'].dropna().tolist()  # Ensure no NaN values are included\n",
    "    if p_values:  # Check if the list is not empty\n",
    "        stat, combined_p_value = combine_pvalues(p_values, method='fisher')\n",
    "        return combined_p_value\n",
    "    else:\n",
    "        return None  # In case there are no p-values to combine\n",
    "\n",
    "# Apply the function to each group and reset index\n",
    "result_df = grouped.apply(fishers_method).reset_index(name='Combined Wilcox p-value')"
   ]
  },
  {
   "cell_type": "code",
   "execution_count": 67,
   "id": "0fcea6cc-1cf9-402c-a849-89027ebd4332",
   "metadata": {
    "execution": {
     "iopub.execute_input": "2024-05-10T15:53:32.774927Z",
     "iopub.status.busy": "2024-05-10T15:53:32.774927Z",
     "iopub.status.idle": "2024-05-10T15:53:32.835785Z",
     "shell.execute_reply": "2024-05-10T15:53:32.835785Z",
     "shell.execute_reply.started": "2024-05-10T15:53:32.774927Z"
    }
   },
   "outputs": [
    {
     "data": {
      "text/html": [
       "<div>\n",
       "<style scoped>\n",
       "    .dataframe tbody tr th:only-of-type {\n",
       "        vertical-align: middle;\n",
       "    }\n",
       "\n",
       "    .dataframe tbody tr th {\n",
       "        vertical-align: top;\n",
       "    }\n",
       "\n",
       "    .dataframe thead th {\n",
       "        text-align: right;\n",
       "    }\n",
       "</style>\n",
       "<table border=\"1\" class=\"dataframe\">\n",
       "  <thead>\n",
       "    <tr style=\"text-align: right;\">\n",
       "      <th></th>\n",
       "      <th>Recording</th>\n",
       "      <th>Event name</th>\n",
       "      <th>Unit number</th>\n",
       "      <th>Combined Wilcox p-value</th>\n",
       "    </tr>\n",
       "  </thead>\n",
       "  <tbody>\n",
       "    <tr>\n",
       "      <th>0</th>\n",
       "      <td>20230612_101430_standard_comp_to_training_D1_s...</td>\n",
       "      <td>lose</td>\n",
       "      <td>2</td>\n",
       "      <td>1.533256e-88</td>\n",
       "    </tr>\n",
       "    <tr>\n",
       "      <th>1</th>\n",
       "      <td>20230612_101430_standard_comp_to_training_D1_s...</td>\n",
       "      <td>lose</td>\n",
       "      <td>5</td>\n",
       "      <td>2.211878e-90</td>\n",
       "    </tr>\n",
       "    <tr>\n",
       "      <th>2</th>\n",
       "      <td>20230612_101430_standard_comp_to_training_D1_s...</td>\n",
       "      <td>lose</td>\n",
       "      <td>13</td>\n",
       "      <td>6.077073e-96</td>\n",
       "    </tr>\n",
       "    <tr>\n",
       "      <th>3</th>\n",
       "      <td>20230612_101430_standard_comp_to_training_D1_s...</td>\n",
       "      <td>lose</td>\n",
       "      <td>17</td>\n",
       "      <td>4.164274e-70</td>\n",
       "    </tr>\n",
       "    <tr>\n",
       "      <th>4</th>\n",
       "      <td>20230612_101430_standard_comp_to_training_D1_s...</td>\n",
       "      <td>lose</td>\n",
       "      <td>19</td>\n",
       "      <td>1.466932e-83</td>\n",
       "    </tr>\n",
       "    <tr>\n",
       "      <th>...</th>\n",
       "      <td>...</td>\n",
       "      <td>...</td>\n",
       "      <td>...</td>\n",
       "      <td>...</td>\n",
       "    </tr>\n",
       "    <tr>\n",
       "      <th>797</th>\n",
       "      <td>20230625_112913_standard_comp_to_both_rewarded...</td>\n",
       "      <td>win</td>\n",
       "      <td>60</td>\n",
       "      <td>5.083878e-63</td>\n",
       "    </tr>\n",
       "    <tr>\n",
       "      <th>798</th>\n",
       "      <td>20230625_112913_standard_comp_to_both_rewarded...</td>\n",
       "      <td>win</td>\n",
       "      <td>77</td>\n",
       "      <td>1.000505e-63</td>\n",
       "    </tr>\n",
       "    <tr>\n",
       "      <th>799</th>\n",
       "      <td>20230625_112913_standard_comp_to_both_rewarded...</td>\n",
       "      <td>win</td>\n",
       "      <td>85</td>\n",
       "      <td>1.444974e-54</td>\n",
       "    </tr>\n",
       "    <tr>\n",
       "      <th>800</th>\n",
       "      <td>20230625_112913_standard_comp_to_both_rewarded...</td>\n",
       "      <td>win</td>\n",
       "      <td>99</td>\n",
       "      <td>2.803916e-42</td>\n",
       "    </tr>\n",
       "    <tr>\n",
       "      <th>801</th>\n",
       "      <td>20230625_112913_standard_comp_to_both_rewarded...</td>\n",
       "      <td>win</td>\n",
       "      <td>105</td>\n",
       "      <td>8.510799e-60</td>\n",
       "    </tr>\n",
       "  </tbody>\n",
       "</table>\n",
       "<p>802 rows × 4 columns</p>\n",
       "</div>"
      ],
      "text/plain": [
       "                                             Recording Event name  \\\n",
       "0    20230612_101430_standard_comp_to_training_D1_s...       lose   \n",
       "1    20230612_101430_standard_comp_to_training_D1_s...       lose   \n",
       "2    20230612_101430_standard_comp_to_training_D1_s...       lose   \n",
       "3    20230612_101430_standard_comp_to_training_D1_s...       lose   \n",
       "4    20230612_101430_standard_comp_to_training_D1_s...       lose   \n",
       "..                                                 ...        ...   \n",
       "797  20230625_112913_standard_comp_to_both_rewarded...        win   \n",
       "798  20230625_112913_standard_comp_to_both_rewarded...        win   \n",
       "799  20230625_112913_standard_comp_to_both_rewarded...        win   \n",
       "800  20230625_112913_standard_comp_to_both_rewarded...        win   \n",
       "801  20230625_112913_standard_comp_to_both_rewarded...        win   \n",
       "\n",
       "     Unit number  Combined Wilcox p-value  \n",
       "0              2             1.533256e-88  \n",
       "1              5             2.211878e-90  \n",
       "2             13             6.077073e-96  \n",
       "3             17             4.164274e-70  \n",
       "4             19             1.466932e-83  \n",
       "..           ...                      ...  \n",
       "797           60             5.083878e-63  \n",
       "798           77             1.000505e-63  \n",
       "799           85             1.444974e-54  \n",
       "800           99             2.803916e-42  \n",
       "801          105             8.510799e-60  \n",
       "\n",
       "[802 rows x 4 columns]"
      ]
     },
     "execution_count": 67,
     "metadata": {},
     "output_type": "execute_result"
    }
   ],
   "source": [
    "result_df"
   ]
  },
  {
   "cell_type": "code",
   "execution_count": 68,
   "id": "a1f70216-9e22-4ba9-aa6d-c42165345ed4",
   "metadata": {
    "editable": true,
    "execution": {
     "iopub.execute_input": "2024-05-10T15:54:22.545009Z",
     "iopub.status.busy": "2024-05-10T15:54:22.545009Z",
     "iopub.status.idle": "2024-05-10T15:54:22.561715Z",
     "shell.execute_reply": "2024-05-10T15:54:22.561715Z",
     "shell.execute_reply.started": "2024-05-10T15:54:22.545009Z"
    },
    "slideshow": {
     "slide_type": ""
    },
    "tags": []
   },
   "outputs": [
    {
     "data": {
      "text/plain": [
       "0.00017443073740476084"
      ]
     },
     "execution_count": 68,
     "metadata": {},
     "output_type": "execute_result"
    }
   ],
   "source": [
    "np.mean(result_df['Combined Wilcox p-value'])"
   ]
  },
  {
   "cell_type": "code",
   "execution_count": 69,
   "id": "3b701491-1834-4713-a38e-168682d2f2e6",
   "metadata": {
    "editable": true,
    "execution": {
     "iopub.execute_input": "2024-05-10T17:38:50.325951Z",
     "iopub.status.busy": "2024-05-10T17:38:50.325951Z",
     "iopub.status.idle": "2024-05-10T17:38:51.131834Z",
     "shell.execute_reply": "2024-05-10T17:38:51.131834Z",
     "shell.execute_reply.started": "2024-05-10T17:38:50.325951Z"
    },
    "slideshow": {
     "slide_type": ""
    },
    "tags": []
   },
   "outputs": [
    {
     "data": {
      "image/png": "[encoded data removed]",
      "text/plain": [
       "<Figure size 1000x600 with 1 Axes>"
      ]
     },
     "metadata": {},
     "output_type": "display_data"
    }
   ],
   "source": [
    "# Concatenate all pre-event data into a single Series for histogram plotting\n",
    "all_pre_event_data = pd.concat([event_spikes[col] for col in pre_event_cols], axis=0)\n",
    "\n",
    "# Create histogram\n",
    "plt.figure(figsize=(10, 6))\n",
    "plt.hist(all_pre_event_data, bins=30, alpha=0.75, color='blue')\n",
    "plt.title('Histogram of All Pre-event Data')\n",
    "plt.xlabel('Values')\n",
    "plt.ylabel('Frequency')\n",
    "plt.grid(True)\n",
    "plt.show()"
   ]
  },
  {
   "cell_type": "code",
   "execution_count": 70,
   "id": "e1644deb-1dc3-41c9-8ec4-6e38e5d012a4",
   "metadata": {
    "execution": {
     "iopub.execute_input": "2024-05-10T18:12:15.322489Z",
     "iopub.status.busy": "2024-05-10T18:12:15.322489Z",
     "iopub.status.idle": "2024-05-10T18:12:15.846260Z",
     "shell.execute_reply": "2024-05-10T18:12:15.846260Z",
     "shell.execute_reply.started": "2024-05-10T18:12:15.322489Z"
    }
   },
   "outputs": [
    {
     "data": {
      "image/png": "[encoded data removed]",
      "text/plain": [
       "<Figure size 1000x600 with 1 Axes>"
      ]
     },
     "metadata": {},
     "output_type": "display_data"
    }
   ],
   "source": [
    "# Concatenate all pre-event data into a single Series for histogram plotting\n",
    "all_event_data = pd.concat([event_spikes[col] for col in event_cols], axis=0)\n",
    "\n",
    "# Create histogram\n",
    "plt.figure(figsize=(10, 6))\n",
    "plt.hist(all_event_data, bins=30, alpha=0.75, color='blue')\n",
    "plt.title('Histogram of All Pre-event Data')\n",
    "plt.xlabel('Values')\n",
    "plt.ylabel('Frequency')\n",
    "plt.grid(True)\n",
    "plt.show()"
   ]
  },
  {
   "cell_type": "code",
   "execution_count": 73,
   "id": "bb2a4230-12a3-4aaf-982b-f1d252f2d936",
   "metadata": {
    "editable": true,
    "execution": {
     "iopub.execute_input": "2024-05-10T18:50:34.873544Z",
     "iopub.status.busy": "2024-05-10T18:50:34.873544Z",
     "iopub.status.idle": "2024-05-10T18:50:34.927425Z",
     "shell.execute_reply": "2024-05-10T18:50:34.927425Z",
     "shell.execute_reply.started": "2024-05-10T18:50:34.873544Z"
    },
    "slideshow": {
     "slide_type": ""
    },
    "tags": []
   },
   "outputs": [
    {
     "ename": "AttributeError",
     "evalue": "'DataFrame' object has no attribute 'get_spike_specs'",
     "output_type": "error",
     "traceback": [
      "\u001b[1;31m---------------------------------------------------------------------------\u001b[0m",
      "\u001b[1;31mAttributeError\u001b[0m                            Traceback (most recent call last)",
      "\u001b[1;32m~\\AppData\\Local\\Temp\\ipykernel_18808\\4162537375.py\u001b[0m in \u001b[0;36m?\u001b[1;34m()\u001b[0m\n\u001b[1;32m----> 1\u001b[1;33m \u001b[0mrecording1\u001b[0m\u001b[1;33m.\u001b[0m\u001b[0mget_spike_specs\u001b[0m\u001b[1;33m\u001b[0m\u001b[1;33m\u001b[0m\u001b[0m\n\u001b[0m",
      "\u001b[1;32m~\\anaconda3\\Lib\\site-packages\\pandas\\core\\generic.py\u001b[0m in \u001b[0;36m?\u001b[1;34m(self, name)\u001b[0m\n\u001b[0;32m   6200\u001b[0m             \u001b[1;32mand\u001b[0m \u001b[0mname\u001b[0m \u001b[1;32mnot\u001b[0m \u001b[1;32min\u001b[0m \u001b[0mself\u001b[0m\u001b[1;33m.\u001b[0m\u001b[0m_accessors\u001b[0m\u001b[1;33m\u001b[0m\u001b[1;33m\u001b[0m\u001b[0m\n\u001b[0;32m   6201\u001b[0m             \u001b[1;32mand\u001b[0m \u001b[0mself\u001b[0m\u001b[1;33m.\u001b[0m\u001b[0m_info_axis\u001b[0m\u001b[1;33m.\u001b[0m\u001b[0m_can_hold_identifiers_and_holds_name\u001b[0m\u001b[1;33m(\u001b[0m\u001b[0mname\u001b[0m\u001b[1;33m)\u001b[0m\u001b[1;33m\u001b[0m\u001b[1;33m\u001b[0m\u001b[0m\n\u001b[0;32m   6202\u001b[0m         ):\n\u001b[0;32m   6203\u001b[0m             \u001b[1;32mreturn\u001b[0m \u001b[0mself\u001b[0m\u001b[1;33m[\u001b[0m\u001b[0mname\u001b[0m\u001b[1;33m]\u001b[0m\u001b[1;33m\u001b[0m\u001b[1;33m\u001b[0m\u001b[0m\n\u001b[1;32m-> 6204\u001b[1;33m         \u001b[1;32mreturn\u001b[0m \u001b[0mobject\u001b[0m\u001b[1;33m.\u001b[0m\u001b[0m__getattribute__\u001b[0m\u001b[1;33m(\u001b[0m\u001b[0mself\u001b[0m\u001b[1;33m,\u001b[0m \u001b[0mname\u001b[0m\u001b[1;33m)\u001b[0m\u001b[1;33m\u001b[0m\u001b[1;33m\u001b[0m\u001b[0m\n\u001b[0m",
      "\u001b[1;31mAttributeError\u001b[0m: 'DataFrame' object has no attribute 'get_spike_specs'"
     ]
    }
   ],
   "source": [
    "recording1.get_spike_specs"
   ]
  },
  {
   "cell_type": "code",
   "execution_count": 75,
   "id": "ac949ac2-d946-4b3d-ab55-f7e712915e10",
   "metadata": {
    "editable": true,
    "execution": {
     "iopub.execute_input": "2024-05-10T18:51:35.268597Z",
     "iopub.status.busy": "2024-05-10T18:51:35.268597Z",
     "iopub.status.idle": "2024-05-10T18:51:35.291667Z",
     "shell.execute_reply": "2024-05-10T18:51:35.291667Z",
     "shell.execute_reply.started": "2024-05-10T18:51:35.268597Z"
    },
    "slideshow": {
     "slide_type": ""
    },
    "tags": []
   },
   "outputs": [
    {
     "data": {
      "text/plain": [
       "<bound method EphysRecording.get_spike_specs of <spikeanal.EphysRecording object at 0x000001FC24648650>>"
      ]
     },
     "execution_count": 75,
     "metadata": {},
     "output_type": "execute_result"
    }
   ],
   "source": [
    "recordings = spike_analysis.ephyscollection.collection\n",
    "recording_name = '20230618_100636_standard_comp_to_omission_D2_subj_1-4_t4b3L_box1_merged.rec'\n",
    "recording1 = recordings.get(recording_name)\n",
    "\n",
    "recording1.get_spike_specs"
   ]
  },
  {
   "cell_type": "code",
   "execution_count": 77,
   "id": "40fe5829-ec77-452b-959f-f85c6bba69b4",
   "metadata": {
    "editable": true,
    "execution": {
     "iopub.execute_input": "2024-05-10T18:52:17.723015Z",
     "iopub.status.busy": "2024-05-10T18:52:17.723015Z",
     "iopub.status.idle": "2024-05-10T18:52:17.762832Z",
     "shell.execute_reply": "2024-05-10T18:52:17.762832Z",
     "shell.execute_reply.started": "2024-05-10T18:52:17.723015Z"
    },
    "slideshow": {
     "slide_type": ""
    },
    "tags": []
   },
   "outputs": [
    {
     "data": {
      "text/plain": [
       "{65: array([2, 2, 0, ..., 0, 0, 0], dtype=int64),\n",
       " 123: array([2, 0, 0, ..., 0, 0, 0], dtype=int64),\n",
       " 103: array([2, 2, 1, ..., 1, 0, 1], dtype=int64),\n",
       " 83: array([0, 1, 1, ..., 1, 3, 1], dtype=int64),\n",
       " 118: array([0, 1, 0, ..., 0, 0, 0], dtype=int64),\n",
       " 93: array([0, 0, 0, ..., 1, 0, 1], dtype=int64),\n",
       " 99: array([0, 0, 0, ..., 1, 1, 1], dtype=int64),\n",
       " 105: array([0, 0, 0, ..., 0, 0, 0], dtype=int64),\n",
       " 87: array([0, 0, 0, ..., 0, 1, 0], dtype=int64),\n",
       " 19: array([0, 0, 0, ..., 0, 0, 0], dtype=int64),\n",
       " 9: array([0, 0, 0, ..., 0, 0, 0], dtype=int64)}"
      ]
     },
     "execution_count": 77,
     "metadata": {},
     "output_type": "execute_result"
    }
   ],
   "source": [
    "recording1.unit_spiketrains"
   ]
  },
  {
   "cell_type": "code",
   "execution_count": 78,
   "id": "a2f06bdb-9d9f-4583-8ae1-8690df96e4ba",
   "metadata": {
    "editable": true,
    "execution": {
     "iopub.execute_input": "2024-05-10T18:52:37.994590Z",
     "iopub.status.busy": "2024-05-10T18:52:37.994590Z",
     "iopub.status.idle": "2024-05-10T18:52:38.012790Z",
     "shell.execute_reply": "2024-05-10T18:52:38.012790Z",
     "shell.execute_reply.started": "2024-05-10T18:52:37.994590Z"
    },
    "slideshow": {
     "slide_type": ""
    },
    "tags": []
   },
   "outputs": [
    {
     "data": {
      "text/plain": [
       "33549"
      ]
     },
     "execution_count": 78,
     "metadata": {},
     "output_type": "execute_result"
    }
   ],
   "source": [
    "len(recording1.unit_spiketrains[65])"
   ]
  },
  {
   "cell_type": "code",
   "execution_count": 79,
   "id": "2a1bf6ef-7698-4514-bf82-4ea9112c1faf",
   "metadata": {
    "execution": {
     "iopub.execute_input": "2024-05-10T18:52:44.850716Z",
     "iopub.status.busy": "2024-05-10T18:52:44.850716Z",
     "iopub.status.idle": "2024-05-10T18:52:44.865859Z",
     "shell.execute_reply": "2024-05-10T18:52:44.865859Z",
     "shell.execute_reply.started": "2024-05-10T18:52:44.850716Z"
    }
   },
   "outputs": [
    {
     "data": {
      "text/plain": [
       "33549"
      ]
     },
     "execution_count": 79,
     "metadata": {},
     "output_type": "execute_result"
    }
   ],
   "source": [
    "len(recording1.unit_spiketrains[123])"
   ]
  },
  {
   "cell_type": "code",
   "execution_count": 81,
   "id": "edf13cce-bb01-4cbc-af93-dc47a4475ba9",
   "metadata": {
    "editable": true,
    "execution": {
     "iopub.execute_input": "2024-05-10T18:54:48.168809Z",
     "iopub.status.busy": "2024-05-10T18:54:48.168809Z",
     "iopub.status.idle": "2024-05-10T18:54:48.217900Z",
     "shell.execute_reply": "2024-05-10T18:54:48.217900Z",
     "shell.execute_reply.started": "2024-05-10T18:54:48.168809Z"
    },
    "slideshow": {
     "slide_type": ""
    },
    "tags": []
   },
   "outputs": [
    {
     "ename": "TypeError",
     "evalue": "SpikeAnalysis_MultiRecording.__get_event_snippets__() missing 2 required positional arguments: 'whole_recording' and 'equalize'",
     "output_type": "error",
     "traceback": [
      "\u001b[1;31m---------------------------------------------------------------------------\u001b[0m",
      "\u001b[1;31mTypeError\u001b[0m                                 Traceback (most recent call last)",
      "Cell \u001b[1;32mIn[81], line 1\u001b[0m\n\u001b[1;32m----> 1\u001b[0m spike_analysis\u001b[38;5;241m.\u001b[39m__get_event_snippets__(recording\u001b[38;5;241m=\u001b[39mrecording1, event\u001b[38;5;241m=\u001b[39m\u001b[38;5;124m'\u001b[39m\u001b[38;5;124mwin\u001b[39m\u001b[38;5;124m'\u001b[39m)\n",
      "\u001b[1;31mTypeError\u001b[0m: SpikeAnalysis_MultiRecording.__get_event_snippets__() missing 2 required positional arguments: 'whole_recording' and 'equalize'"
     ]
    }
   ],
   "source": [
    "spike_analysis.__get_event_snippets__(recording=recording1, event='win')"
   ]
  },
  {
   "cell_type": "code",
   "execution_count": 84,
   "id": "0a6d4dc5-421c-4173-9fdf-f61f479a5906",
   "metadata": {
    "execution": {
     "iopub.execute_input": "2024-05-10T18:57:34.604779Z",
     "iopub.status.busy": "2024-05-10T18:57:34.604779Z",
     "iopub.status.idle": "2024-05-10T18:57:34.625901Z",
     "shell.execute_reply": "2024-05-10T18:57:34.625901Z",
     "shell.execute_reply.started": "2024-05-10T18:57:34.604779Z"
    }
   },
   "outputs": [
    {
     "name": "stdout",
     "output_type": "stream",
     "text": [
      "['LOO_PCA', 'PCA_matrix', 'PCA_matrix_generation', 'PCA_trajectories', '__PCA_EDA_plot_3D__', '__PCA_EDA_plot__', '__PCA_for_decoding__', '__all_set__', '__calc_preevent_baseline__', '__class__', '__delattr__', '__dict__', '__dir__', '__doc__', '__eq__', '__event_baseline__', '__format__', '__ge__', '__get_event_firing_rates__', '__get_event_snippets__', '__get_unit_event_firing_rates__', '__get_unit_firing_rates__', '__get_unit_spiketrains__', '__get_whole_spiketrain__', '__getattribute__', '__getstate__', '__global_baseline__', '__gt__', '__hash__', '__init__', '__init_subclass__', '__le__', '__lt__', '__make_zscore_df__', '__module__', '__ne__', '__new__', '__plot_auc__', '__reduce__', '__reduce_ex__', '__repr__', '__setattr__', '__sizeof__', '__str__', '__subclasshook__', '__weakref__', '__wilcox_baseline_v_event_plots__', '__wilcox_baseline_v_event_stats__', '__wilcox_event_v_event_plots__', '__wilcoxon_event_v_event_stats__', '__zscore_event2__', '__zscore_event__', '__zscore_plot__', 'avg_geo_dist', 'calculate_zscore', 'ephyscollection', 'export', 'fishers_exact_wilcox', 'generate_event_dataframe', 'ignore_freq', 'smoothing_window', 'timebin', 'trial_decoder', 'wilcox_baseline_v_event_collection', 'wilcox_baseline_v_event_unit', 'wilcox_event_v_event_collection', 'zscore_baseline_event', 'zscore_global', 'zscore_pre_event', 'zscore_pre_event2']\n"
     ]
    }
   ],
   "source": [
    "print(dir(spike_analysis))"
   ]
  },
  {
   "cell_type": "code",
   "execution_count": 88,
   "id": "3c7ced77-715c-4611-b315-4e043831192d",
   "metadata": {
    "execution": {
     "iopub.execute_input": "2024-05-10T18:58:42.228557Z",
     "iopub.status.busy": "2024-05-10T18:58:42.228557Z",
     "iopub.status.idle": "2024-05-10T18:58:42.238313Z",
     "shell.execute_reply": "2024-05-10T18:58:42.238313Z",
     "shell.execute_reply.started": "2024-05-10T18:58:42.228557Z"
    }
   },
   "outputs": [
    {
     "name": "stdout",
     "output_type": "stream",
     "text": [
      "['__class__', '__class_getitem__', '__contains__', '__delattr__', '__delitem__', '__dir__', '__doc__', '__eq__', '__format__', '__ge__', '__getattribute__', '__getitem__', '__getstate__', '__gt__', '__hash__', '__init__', '__init_subclass__', '__ior__', '__iter__', '__le__', '__len__', '__lt__', '__ne__', '__new__', '__or__', '__reduce__', '__reduce_ex__', '__repr__', '__reversed__', '__ror__', '__setattr__', '__setitem__', '__sizeof__', '__str__', '__subclasshook__', 'clear', 'copy', 'fromkeys', 'get', 'items', 'keys', 'pop', 'popitem', 'setdefault', 'update', 'values']\n"
     ]
    }
   ],
   "source": [
    "print(dir(spike_analysis.ephyscollection.collection))"
   ]
  },
  {
   "cell_type": "code",
   "execution_count": 89,
   "id": "6f3c97ce-34fb-49a5-89fd-eadd6ec9706c",
   "metadata": {
    "execution": {
     "iopub.execute_input": "2024-05-10T18:58:55.664257Z",
     "iopub.status.busy": "2024-05-10T18:58:55.664257Z",
     "iopub.status.idle": "2024-05-10T18:58:55.673796Z",
     "shell.execute_reply": "2024-05-10T18:58:55.673796Z",
     "shell.execute_reply.started": "2024-05-10T18:58:55.664257Z"
    }
   },
   "outputs": [
    {
     "data": {
      "text/plain": [
       "dict_keys(['20230612_101430_standard_comp_to_training_D1_subj_1-3_t3b3L_box2_merged.rec', '20230617_115521_standard_comp_to_omission_D1_subj_1-1_t1b3L_box1_merged.rec', '20230617_115521_standard_comp_to_omission_D1_subj_1-2_t2b2L_box2_merged.rec', '20230618_100636_standard_comp_to_omission_D2_subj_1-1_t1b2L_box2_merged.rec', '20230618_100636_standard_comp_to_omission_D2_subj_1-4_t4b3L_box1_merged.rec', '20230619_115321_standard_comp_to_omission_D3_subj_1-4_t3b3L_box2_merged.rec', '20230620_114347_standard_comp_to_omission_D4_subj_1-1_t1b2L_box_2_merged.rec', '20230620_114347_standard_comp_to_omission_D4_subj_1-2_t3b3L_box_1_merged.rec', '20230621_111240_standard_comp_to_omission_D5_subj_1-4_t3b3L_box1_merged.rec', '20230622_110832_standard_comp_to_both_rewarded_D1_subj_1-1_t1b3L_box1_merged.rec', '20230622_110832_standard_comp_to_both_rewarded_D1_subj_1-2_t3b3L_box1_merged.rec', '20230624_105855_standard_comp_to_both_rewarded_D3_subj_1-2_t1b2L_box1_merged.rec', '20230624_105855_standard_comp_to_both_rewarded_D3_subj_1-4_t3b3L_box1_merged.rec', '20230625_112913_standard_comp_to_both_rewarded_D4_subj_1-1_t1b2L_box1_merged.rec', '20230625_112913_standard_comp_to_both_rewarded_D4_subj_1-4_t3b3L_box1_merged.rec'])"
      ]
     },
     "execution_count": 89,
     "metadata": {},
     "output_type": "execute_result"
    }
   ],
   "source": [
    "spike_analysis.ephyscollection.collection.keys()"
   ]
  },
  {
   "cell_type": "code",
   "execution_count": 92,
   "id": "733d7e40-5548-48f3-a895-9e1e52bf3cf6",
   "metadata": {
    "execution": {
     "iopub.execute_input": "2024-05-10T19:00:15.953282Z",
     "iopub.status.busy": "2024-05-10T19:00:15.937654Z",
     "iopub.status.idle": "2024-05-10T19:00:15.960230Z",
     "shell.execute_reply": "2024-05-10T19:00:15.960230Z",
     "shell.execute_reply.started": "2024-05-10T19:00:15.953282Z"
    }
   },
   "outputs": [
    {
     "name": "stdout",
     "output_type": "stream",
     "text": [
      "['__class__', '__delattr__', '__dict__', '__dir__', '__doc__', '__eq__', '__format__', '__ge__', '__getattribute__', '__getstate__', '__gt__', '__hash__', '__init__', '__init_subclass__', '__le__', '__lt__', '__module__', '__ne__', '__new__', '__reduce__', '__reduce_ex__', '__repr__', '__setattr__', '__sizeof__', '__str__', '__subclasshook__', '__weakref__', 'event_dict', 'freq_dict', 'get_spike_specs', 'get_unit_labels', 'get_unit_timestamps', 'labels_dict', 'path', 'sampling_rate', 'spiketrain', 'subject', 'timestamps_var', 'unit_array', 'unit_firing_rate_array', 'unit_firing_rates', 'unit_spiketrains', 'unit_timestamps', 'wilcox_dfs', 'zscored_events']\n"
     ]
    }
   ],
   "source": [
    "print(dir(spike_analysis.ephyscollection.collection['20230612_101430_standard_comp_to_training_D1_subj_1-3_t3b3L_box2_merged.rec']))"
   ]
  },
  {
   "cell_type": "code",
   "execution_count": 93,
   "id": "7ee4d586-4df7-43db-ab5c-9f14e78794b3",
   "metadata": {
    "execution": {
     "iopub.execute_input": "2024-05-10T19:00:56.124006Z",
     "iopub.status.busy": "2024-05-10T19:00:56.124006Z",
     "iopub.status.idle": "2024-05-10T19:00:56.165214Z",
     "shell.execute_reply": "2024-05-10T19:00:56.165214Z",
     "shell.execute_reply.started": "2024-05-10T19:00:56.124006Z"
    }
   },
   "outputs": [
    {
     "data": {
      "text/plain": [
       "{85: array([1, 1, 0, ..., 0, 0, 0], dtype=int64),\n",
       " 55: array([1, 0, 1, ..., 1, 1, 1], dtype=int64),\n",
       " 17: array([0, 1, 2, ..., 1, 0, 0], dtype=int64),\n",
       " 24: array([0, 1, 1, ..., 0, 0, 0], dtype=int64),\n",
       " 68: array([0, 0, 1, ..., 0, 0, 0], dtype=int64),\n",
       " 65: array([0, 0, 1, ..., 0, 0, 0], dtype=int64),\n",
       " 98: array([0, 0, 1, ..., 0, 0, 0], dtype=int64),\n",
       " 94: array([0, 0, 1, ..., 0, 0, 0], dtype=int64),\n",
       " 2: array([0, 0, 0, ..., 0, 0, 0], dtype=int64),\n",
       " 33: array([0, 0, 0, ..., 0, 0, 1], dtype=int64),\n",
       " 13: array([0, 0, 0, ..., 1, 1, 0], dtype=int64),\n",
       " 59: array([0, 0, 0, ..., 0, 0, 1], dtype=int64),\n",
       " 81: array([0, 0, 0, ..., 0, 1, 0], dtype=int64),\n",
       " 19: array([0, 0, 0, ..., 1, 1, 0], dtype=int64),\n",
       " 88: array([0, 0, 0, ..., 0, 0, 0], dtype=int64),\n",
       " 26: array([0, 0, 0, ..., 1, 1, 0], dtype=int64),\n",
       " 5: array([0, 0, 0, ..., 0, 0, 0], dtype=int64),\n",
       " 36: array([0, 0, 0, ..., 1, 2, 2], dtype=int64),\n",
       " 57: array([0, 0, 0, ..., 0, 0, 0], dtype=int64)}"
      ]
     },
     "execution_count": 93,
     "metadata": {},
     "output_type": "execute_result"
    }
   ],
   "source": [
    "spike_analysis.ephyscollection.collection['20230612_101430_standard_comp_to_training_D1_subj_1-3_t3b3L_box2_merged.rec'].unit_spiketrains          "
   ]
  },
  {
   "cell_type": "code",
   "execution_count": null,
   "id": "f76257e2-6b68-46df-b3c2-5b517a867816",
   "metadata": {
    "editable": true,
    "slideshow": {
     "slide_type": ""
    },
    "tags": []
   },
   "outputs": [],
   "source": [
    "for unit in recording1.unit_firing_rates.keys():\n",
    "    unit_event_firing_rates[unit] = self.__get_event_snippets__(recording, event, recording.unit_firing_rates[unit], equalize, pre_window, post_window)"
   ]
  },
  {
   "cell_type": "code",
   "execution_count": 98,
   "id": "22061e37-3ecd-43cd-b73e-322fc4e45154",
   "metadata": {
    "editable": true,
    "execution": {
     "iopub.execute_input": "2024-05-10T19:05:51.504066Z",
     "iopub.status.busy": "2024-05-10T19:05:51.504066Z",
     "iopub.status.idle": "2024-05-10T19:05:51.527293Z",
     "shell.execute_reply": "2024-05-10T19:05:51.527293Z",
     "shell.execute_reply.started": "2024-05-10T19:05:51.504066Z"
    },
    "slideshow": {
     "slide_type": ""
    },
    "tags": []
   },
   "outputs": [
    {
     "ename": "SyntaxError",
     "evalue": "positional argument follows keyword argument (3180436080.py, line 2)",
     "output_type": "error",
     "traceback": [
      "\u001b[1;36m  Cell \u001b[1;32mIn[98], line 2\u001b[1;36m\u001b[0m\n\u001b[1;33m    unit_event_firing_rates[unit] = spike_analysis.__get_event_snippets__(recording, event='win', recording1.unit_firing_rates[unit], equalize=10, pre_window=0, post_window=0)\u001b[0m\n\u001b[1;37m                                                                                                                                                                              ^\u001b[0m\n\u001b[1;31mSyntaxError\u001b[0m\u001b[1;31m:\u001b[0m positional argument follows keyword argument\n"
     ]
    }
   ],
   "source": [
    "for unit in recording1.unit_firing_rates.keys():\n",
    "    unit_event_firing_rates[unit] = spike_analysis.__get_event_snippets__(recording, event='win', recording1.unit_firing_rates[unit], equalize=10, pre_window=0, post_window=0)"
   ]
  },
  {
   "cell_type": "code",
   "execution_count": null,
   "id": "73361714-55ac-4c92-923f-e24cb472d96c",
   "metadata": {
    "editable": true,
    "slideshow": {
     "slide_type": ""
    },
    "tags": []
   },
   "outputs": [],
   "source": [
    "spike_analysis.__get_event_snippets__(recording1, event, recording.unit_firing_rates[unit], equalize, pre_window, post_window)\n"
   ]
  },
  {
   "cell_type": "code",
   "execution_count": 103,
   "id": "a6eceb4d-eec0-4b8f-9a33-d14b5e41f3ee",
   "metadata": {
    "execution": {
     "iopub.execute_input": "2024-05-10T19:09:42.543069Z",
     "iopub.status.busy": "2024-05-10T19:09:42.543069Z",
     "iopub.status.idle": "2024-05-10T19:09:42.558564Z",
     "shell.execute_reply": "2024-05-10T19:09:42.558564Z",
     "shell.execute_reply.started": "2024-05-10T19:09:42.543069Z"
    }
   },
   "outputs": [],
   "source": [
    "def __get_event_snippets__(recording, event, whole_recording, equalize, pre_window=0, post_window=0):\n",
    "    \"\"\"\n",
    "    takes snippets of spiketrains or firing rates for events\n",
    "    optional pre-event and post-event windows (s) may be included\n",
    "    all events can also be of equal length by extending\n",
    "    snippet lengths to the longest event\n",
    "\n",
    "    Args (6 total, 4 required):\n",
    "        recording: EphysRecording instance, recording to get snippets\n",
    "        event: str, event type of which ehpys snippets happen during\n",
    "        whole_recording: numpy array, spiketrain or firing rates\n",
    "            for the whole recording, for population or for a single unit\n",
    "        equalize: float, length (s) of events used by padding with post\n",
    "            event time or trimming events all to equalize (s) long\n",
    "        pre_window: int, default=0, seconds prior to start of event\n",
    "        post_window: int, default=0, seconds after end of event\n",
    "        \n",
    "    Returns (1):\n",
    "        event_snippets: a list of lists, where each list is a list of\n",
    "            firing rates or spiketrains during an event including \n",
    "            pre_window & post_windows, accounting for equalize and \n",
    "            timebins for a single unit or for the population returning\n",
    "            a list of numpy arrays\n",
    "    \"\"\"\n",
    "    if type(event) is str:\n",
    "        events = recording.event_dict[event]\n",
    "    else:\n",
    "        events = event\n",
    "    event_snippets = []\n",
    "    pre_window = math.ceil(pre_window * 1000)\n",
    "    post_window = math.ceil(post_window * 1000)\n",
    "    equalize = equalize * 1000\n",
    "    e_length = equalize + post_window + pre_window\n",
    "    for i in range(events.shape[0]):\n",
    "        pre_event = math.ceil((events[i][0] - pre_window) / timebin)\n",
    "        post_event = math.ceil(\n",
    "            (events[i][0] + post_window + equalize) / timebin\n",
    "        )\n",
    "        if len(whole_recording.shape) == 1:\n",
    "            event_snippet = whole_recording[pre_event:post_event]\n",
    "            if len(event_snippet) == e_length / timebin:\n",
    "                # cutting events at end of recording\n",
    "                event_snippets.append(event_snippet)\n",
    "        else:\n",
    "            event_snippet = whole_recording[:, pre_event:post_event]\n",
    "            if event_snippet.shape[1] == e_length / timebin:\n",
    "                event_snippets.append(event_snippet)\n",
    "    return event_snippets"
   ]
  },
  {
   "cell_type": "code",
   "execution_count": 104,
   "id": "e6dad172-c0cf-4e88-b7ff-cadc3be9ab70",
   "metadata": {
    "execution": {
     "iopub.execute_input": "2024-05-10T19:09:44.372866Z",
     "iopub.status.busy": "2024-05-10T19:09:44.372866Z",
     "iopub.status.idle": "2024-05-10T19:09:44.467486Z",
     "shell.execute_reply": "2024-05-10T19:09:44.465955Z",
     "shell.execute_reply.started": "2024-05-10T19:09:44.372866Z"
    }
   },
   "outputs": [
    {
     "ename": "AttributeError",
     "evalue": "'dict' object has no attribute 'shape'",
     "output_type": "error",
     "traceback": [
      "\u001b[1;31m---------------------------------------------------------------------------\u001b[0m",
      "\u001b[1;31mAttributeError\u001b[0m                            Traceback (most recent call last)",
      "Cell \u001b[1;32mIn[104], line 3\u001b[0m\n\u001b[0;32m      1\u001b[0m \u001b[38;5;28;01mimport\u001b[39;00m \u001b[38;5;21;01mmath\u001b[39;00m\n\u001b[0;32m      2\u001b[0m timebin \u001b[38;5;241m=\u001b[39m \u001b[38;5;241m100\u001b[39m\n\u001b[1;32m----> 3\u001b[0m snip_test \u001b[38;5;241m=\u001b[39m __get_event_snippets__(recording1, event\u001b[38;5;241m=\u001b[39m\u001b[38;5;124m'\u001b[39m\u001b[38;5;124mwin\u001b[39m\u001b[38;5;124m'\u001b[39m, whole_recording\u001b[38;5;241m=\u001b[39mrecording1\u001b[38;5;241m.\u001b[39munit_spiketrains, equalize\u001b[38;5;241m=\u001b[39m\u001b[38;5;241m10\u001b[39m, pre_window\u001b[38;5;241m=\u001b[39m\u001b[38;5;241m0\u001b[39m, post_window\u001b[38;5;241m=\u001b[39m\u001b[38;5;241m0\u001b[39m)\n",
      "Cell \u001b[1;32mIn[103], line 39\u001b[0m, in \u001b[0;36m__get_event_snippets__\u001b[1;34m(recording, event, whole_recording, equalize, pre_window, post_window)\u001b[0m\n\u001b[0;32m     35\u001b[0m pre_event \u001b[38;5;241m=\u001b[39m math\u001b[38;5;241m.\u001b[39mceil((events[i][\u001b[38;5;241m0\u001b[39m] \u001b[38;5;241m-\u001b[39m pre_window) \u001b[38;5;241m/\u001b[39m timebin)\n\u001b[0;32m     36\u001b[0m post_event \u001b[38;5;241m=\u001b[39m math\u001b[38;5;241m.\u001b[39mceil(\n\u001b[0;32m     37\u001b[0m     (events[i][\u001b[38;5;241m0\u001b[39m] \u001b[38;5;241m+\u001b[39m post_window \u001b[38;5;241m+\u001b[39m equalize) \u001b[38;5;241m/\u001b[39m timebin\n\u001b[0;32m     38\u001b[0m )\n\u001b[1;32m---> 39\u001b[0m \u001b[38;5;28;01mif\u001b[39;00m \u001b[38;5;28mlen\u001b[39m(whole_recording\u001b[38;5;241m.\u001b[39mshape) \u001b[38;5;241m==\u001b[39m \u001b[38;5;241m1\u001b[39m:\n\u001b[0;32m     40\u001b[0m     event_snippet \u001b[38;5;241m=\u001b[39m whole_recording[pre_event:post_event]\n\u001b[0;32m     41\u001b[0m     \u001b[38;5;28;01mif\u001b[39;00m \u001b[38;5;28mlen\u001b[39m(event_snippet) \u001b[38;5;241m==\u001b[39m e_length \u001b[38;5;241m/\u001b[39m timebin:\n\u001b[0;32m     42\u001b[0m         \u001b[38;5;66;03m# cutting events at end of recording\u001b[39;00m\n",
      "\u001b[1;31mAttributeError\u001b[0m: 'dict' object has no attribute 'shape'"
     ]
    }
   ],
   "source": [
    "import math\n",
    "timebin = 100\n",
    "snip_test = __get_event_snippets__(recording1, event='win', whole_recording=recording1.unit_spiketrains, equalize=10, pre_window=0, post_window=0)"
   ]
  },
  {
   "cell_type": "code",
   "execution_count": 123,
   "id": "590d7332-05ed-4d47-8613-97a1b7b7a163",
   "metadata": {
    "execution": {
     "iopub.execute_input": "2024-05-10T19:19:53.612860Z",
     "iopub.status.busy": "2024-05-10T19:19:53.612860Z",
     "iopub.status.idle": "2024-05-10T19:19:53.642037Z",
     "shell.execute_reply": "2024-05-10T19:19:53.642037Z",
     "shell.execute_reply.started": "2024-05-10T19:19:53.612860Z"
    }
   },
   "outputs": [],
   "source": [
    "pre_window=10\n",
    "post_window=0\n",
    "equalize=10\n",
    "event='win'\n",
    "whole_recording = recording1.unit_spiketrains\n",
    "for key, value in whole_recording.items():\n",
    "    if type(event) is str:\n",
    "        events = recording1.event_dict[event]\n",
    "    else:\n",
    "        events = event\n",
    "    event_snippets = []\n",
    "    pre_window = math.ceil(pre_window * 1000)\n",
    "    post_window = math.ceil(post_window * 1000)\n",
    "    equalize = equalize * 1000\n",
    "    e_length = equalize + post_window + pre_window\n",
    "    for i in range(events.shape[0]):\n",
    "        pre_event = math.ceil((events[i][0] - pre_window) / timebin)\n",
    "        post_event = math.ceil(\n",
    "            (events[i][0] + post_window + equalize) / timebin\n",
    "        )\n",
    "        if len(value.shape) == 1:\n",
    "            event_snippet = value[pre_event:post_event]\n",
    "            if len(event_snippet) == e_length / timebin:\n",
    "                # cutting events at end of recording\n",
    "                event_snippets.append(event_snippet)\n",
    "        else:\n",
    "            event_snippet = value[:, pre_event:post_event]\n",
    "            if event_snippet.shape[1] == e_length / timebin:\n",
    "                event_snippets.append(event_snippet)"
   ]
  },
  {
   "cell_type": "code",
   "execution_count": 125,
   "id": "caa0eda8-622e-4f7e-80d2-abf4e3d1e9e5",
   "metadata": {
    "execution": {
     "iopub.execute_input": "2024-05-10T19:20:10.714300Z",
     "iopub.status.busy": "2024-05-10T19:20:10.714300Z",
     "iopub.status.idle": "2024-05-10T19:20:10.728385Z",
     "shell.execute_reply": "2024-05-10T19:20:10.728385Z",
     "shell.execute_reply.started": "2024-05-10T19:20:10.714300Z"
    }
   },
   "outputs": [
    {
     "data": {
      "text/plain": [
       "[]"
      ]
     },
     "execution_count": 125,
     "metadata": {},
     "output_type": "execute_result"
    }
   ],
   "source": [
    "event_snippets"
   ]
  },
  {
   "cell_type": "code",
   "execution_count": 112,
   "id": "3396b007-19fd-4a32-ad27-186324f0af1e",
   "metadata": {
    "execution": {
     "iopub.execute_input": "2024-05-10T19:12:21.561073Z",
     "iopub.status.busy": "2024-05-10T19:12:21.561073Z",
     "iopub.status.idle": "2024-05-10T19:12:21.577129Z",
     "shell.execute_reply": "2024-05-10T19:12:21.575619Z",
     "shell.execute_reply.started": "2024-05-10T19:12:21.561073Z"
    }
   },
   "outputs": [
    {
     "data": {
      "text/plain": [
       "array([], dtype=int64)"
      ]
     },
     "execution_count": 112,
     "metadata": {},
     "output_type": "execute_result"
    }
   ],
   "source": [
    "events"
   ]
  },
  {
   "cell_type": "code",
   "execution_count": 119,
   "id": "267370f8-e5e6-41d9-9d36-2533a942d1b4",
   "metadata": {
    "execution": {
     "iopub.execute_input": "2024-05-10T19:16:04.513406Z",
     "iopub.status.busy": "2024-05-10T19:16:04.513406Z",
     "iopub.status.idle": "2024-05-10T19:16:04.560227Z",
     "shell.execute_reply": "2024-05-10T19:16:04.560227Z",
     "shell.execute_reply.started": "2024-05-10T19:16:04.513406Z"
    }
   },
   "outputs": [
    {
     "ename": "AttributeError",
     "evalue": "'numpy.int32' object has no attribute 'value'",
     "output_type": "error",
     "traceback": [
      "\u001b[1;31m---------------------------------------------------------------------------\u001b[0m",
      "\u001b[1;31mAttributeError\u001b[0m                            Traceback (most recent call last)",
      "Cell \u001b[1;32mIn[119], line 2\u001b[0m\n\u001b[0;32m      1\u001b[0m \u001b[38;5;28;01mfor\u001b[39;00m unit \u001b[38;5;129;01min\u001b[39;00m whole_recording:\n\u001b[1;32m----> 2\u001b[0m     \u001b[38;5;28mprint\u001b[39m(unit\u001b[38;5;241m.\u001b[39mvalue)\n",
      "\u001b[1;31mAttributeError\u001b[0m: 'numpy.int32' object has no attribute 'value'"
     ]
    }
   ],
   "source": [
    "for unit in whole_recording:\n",
    "    print(unit.value)"
   ]
  },
  {
   "cell_type": "code",
   "execution_count": 121,
   "id": "d9e96974-2a77-4b00-ab20-d4400b875199",
   "metadata": {
    "execution": {
     "iopub.execute_input": "2024-05-10T19:16:21.919496Z",
     "iopub.status.busy": "2024-05-10T19:16:21.919496Z",
     "iopub.status.idle": "2024-05-10T19:16:21.939288Z",
     "shell.execute_reply": "2024-05-10T19:16:21.939288Z",
     "shell.execute_reply.started": "2024-05-10T19:16:21.919496Z"
    }
   },
   "outputs": [
    {
     "data": {
      "text/plain": [
       "array([2, 2, 0, ..., 0, 0, 0], dtype=int64)"
      ]
     },
     "execution_count": 121,
     "metadata": {},
     "output_type": "execute_result"
    }
   ],
   "source": [
    "whole_recording[65]"
   ]
  },
  {
   "cell_type": "code",
   "execution_count": 129,
   "id": "7647fd04-edfe-4db1-8ffd-dbb29ee9a12f",
   "metadata": {
    "execution": {
     "iopub.execute_input": "2024-05-10T19:21:07.765047Z",
     "iopub.status.busy": "2024-05-10T19:21:07.765047Z",
     "iopub.status.idle": "2024-05-10T19:21:07.846193Z",
     "shell.execute_reply": "2024-05-10T19:21:07.846193Z",
     "shell.execute_reply.started": "2024-05-10T19:21:07.765047Z"
    }
   },
   "outputs": [
    {
     "ename": "ValueError",
     "evalue": "setting an array element with a sequence.",
     "output_type": "error",
     "traceback": [
      "\u001b[1;31m---------------------------------------------------------------------------\u001b[0m",
      "\u001b[1;31mTypeError\u001b[0m                                 Traceback (most recent call last)",
      "\u001b[1;31mTypeError\u001b[0m: only length-1 arrays can be converted to Python scalars",
      "\nThe above exception was the direct cause of the following exception:\n",
      "\u001b[1;31mValueError\u001b[0m                                Traceback (most recent call last)",
      "Cell \u001b[1;32mIn[129], line 20\u001b[0m\n\u001b[0;32m     18\u001b[0m post_event \u001b[38;5;241m=\u001b[39m math\u001b[38;5;241m.\u001b[39mceil((events[i][\u001b[38;5;241m0\u001b[39m] \u001b[38;5;241m+\u001b[39m post_window \u001b[38;5;241m+\u001b[39m equalize) \u001b[38;5;241m/\u001b[39m timebin)\n\u001b[0;32m     19\u001b[0m \u001b[38;5;28;01mif\u001b[39;00m \u001b[38;5;28mlen\u001b[39m(value\u001b[38;5;241m.\u001b[39mshape) \u001b[38;5;241m==\u001b[39m \u001b[38;5;241m1\u001b[39m:\n\u001b[1;32m---> 20\u001b[0m     event_snippet[key] \u001b[38;5;241m=\u001b[39m value[pre_event:post_event]\n\u001b[0;32m     21\u001b[0m     \u001b[38;5;28;01mif\u001b[39;00m \u001b[38;5;28mlen\u001b[39m(event_snippet) \u001b[38;5;241m==\u001b[39m e_length \u001b[38;5;241m/\u001b[39m timebin:\n\u001b[0;32m     22\u001b[0m         \u001b[38;5;66;03m# cutting events at end of recording\u001b[39;00m\n\u001b[0;32m     23\u001b[0m         event_snippets\u001b[38;5;241m.\u001b[39mappend(event_snippet)\n",
      "\u001b[1;31mValueError\u001b[0m: setting an array element with a sequence."
     ]
    }
   ],
   "source": [
    "pre_window=10\n",
    "post_window=0\n",
    "equalize=10\n",
    "event='win'\n",
    "whole_recording = recording1.unit_spiketrains\n",
    "for key, value in whole_recording.items():\n",
    "    if type(event) is str:\n",
    "        events = recording1.event_dict[event]\n",
    "    else:\n",
    "        events = event\n",
    "    event_snippets = []\n",
    "    pre_window = math.ceil(pre_window * 1000)\n",
    "    post_window = math.ceil(post_window * 1000)\n",
    "    equalize = equalize * 1000\n",
    "    e_length = equalize + post_window + pre_window\n",
    "    for i in range(events.shape[0]):\n",
    "        pre_event = math.ceil((events[i][0] - pre_window) / timebin)\n",
    "        post_event = math.ceil((events[i][0] + post_window + equalize) / timebin)\n",
    "        if len(value.shape) == 1:\n",
    "            event_snippet[key] = value[pre_event:post_event]\n",
    "            if len(event_snippet) == e_length / timebin:\n",
    "                # cutting events at end of recording\n",
    "                event_snippets.append(event_snippet)\n",
    "        else:\n",
    "            event_snippet[key] = value[:, pre_event:post_event]\n",
    "            if event_snippet.shape[1] == e_length / timebin:\n",
    "                event_snippets.append(event_snippet)"
   ]
  },
  {
   "cell_type": "code",
   "execution_count": 128,
   "id": "199b23ec-e723-41b2-995e-4ec24988ef5a",
   "metadata": {
    "execution": {
     "iopub.execute_input": "2024-05-10T19:20:52.355928Z",
     "iopub.status.busy": "2024-05-10T19:20:52.355928Z",
     "iopub.status.idle": "2024-05-10T19:20:52.375416Z",
     "shell.execute_reply": "2024-05-10T19:20:52.375416Z",
     "shell.execute_reply.started": "2024-05-10T19:20:52.355928Z"
    }
   },
   "outputs": [
    {
     "data": {
      "text/plain": [
       "[]"
      ]
     },
     "execution_count": 128,
     "metadata": {},
     "output_type": "execute_result"
    }
   ],
   "source": [
    "event_snippets"
   ]
  },
  {
   "cell_type": "code",
   "execution_count": 130,
   "id": "f48d0ad1-a6ed-468e-a561-430f19dd991e",
   "metadata": {
    "execution": {
     "iopub.execute_input": "2024-05-10T19:23:23.194511Z",
     "iopub.status.busy": "2024-05-10T19:23:23.194511Z",
     "iopub.status.idle": "2024-05-10T19:23:23.221303Z",
     "shell.execute_reply": "2024-05-10T19:23:23.221303Z",
     "shell.execute_reply.started": "2024-05-10T19:23:23.194511Z"
    }
   },
   "outputs": [],
   "source": [
    "import math\n",
    "import numpy as np\n",
    "\n",
    "# Define the event and window sizes\n",
    "pre_window = 10  # seconds\n",
    "post_window = 0  # seconds\n",
    "equalize = 10    # seconds\n",
    "event = 'win'\n",
    "timebin = 100   # timebin in milliseconds, adjust as per your data setup\n",
    "\n",
    "# Access the unit spiketrains from some hypothetical object 'recording1'\n",
    "whole_recording = recording1.unit_spiketrains\n",
    "events = recording1.event_dict[event]\n",
    "\n",
    "# Convert window sizes from seconds to timebin units\n",
    "pre_window_bins = math.ceil(pre_window * 1000 / timebin)\n",
    "post_window_bins = math.ceil(post_window * 1000 / timebin)\n",
    "equalize_bins = math.ceil(equalize * 1000 / timebin)\n",
    "e_length_bins = equalize_bins + post_window_bins + pre_window_bins\n",
    "\n",
    "# Initialize a dictionary to hold snippets for each unit\n",
    "event_snippets = {}\n",
    "\n",
    "# Iterate over each unit and its corresponding spiketrains\n",
    "for key, value in whole_recording.items():\n",
    "    unit_snippets = []  # List to hold snippets for this unit\n",
    "    for event_time in events:\n",
    "        pre_event_index = math.ceil((event_time[0] - pre_window_bins) / timebin)\n",
    "        post_event_index = math.ceil((event_time[0] + post_window_bins + equalize_bins) / timebin)\n",
    "\n",
    "        # Extract the snippet according to whether the data is 1D or 2D\n",
    "        if value.ndim == 1:\n",
    "            snippet = value[pre_event_index:post_event_index]\n",
    "            if len(snippet) == e_length_bins:\n",
    "                unit_snippets.append(snippet)\n",
    "        else:\n",
    "            snippet = value[:, pre_event_index:post_event_index]\n",
    "            if snippet.shape[1] == e_length_bins:\n",
    "                unit_snippets.append(snippet)\n",
    "    \n",
    "    event_snippets[key] = unit_snippets  # Store the snippets for this unit"
   ]
  },
  {
   "cell_type": "code",
   "execution_count": 131,
   "id": "d4220e79-d033-4915-afaa-55e315edce4b",
   "metadata": {
    "execution": {
     "iopub.execute_input": "2024-05-10T19:23:29.265282Z",
     "iopub.status.busy": "2024-05-10T19:23:29.265282Z",
     "iopub.status.idle": "2024-05-10T19:23:29.283922Z",
     "shell.execute_reply": "2024-05-10T19:23:29.283922Z",
     "shell.execute_reply.started": "2024-05-10T19:23:29.265282Z"
    }
   },
   "outputs": [
    {
     "data": {
      "text/plain": [
       "{65: [],\n",
       " 123: [],\n",
       " 103: [],\n",
       " 83: [],\n",
       " 118: [],\n",
       " 93: [],\n",
       " 99: [],\n",
       " 105: [],\n",
       " 87: [],\n",
       " 19: [],\n",
       " 9: []}"
      ]
     },
     "execution_count": 131,
     "metadata": {},
     "output_type": "execute_result"
    }
   ],
   "source": [
    "event_snippets"
   ]
  },
  {
   "cell_type": "code",
   "execution_count": 132,
   "id": "5d220afa-4cbb-446a-8408-01fc0428c587",
   "metadata": {
    "execution": {
     "iopub.execute_input": "2024-05-10T19:24:04.401389Z",
     "iopub.status.busy": "2024-05-10T19:24:04.401389Z",
     "iopub.status.idle": "2024-05-10T19:24:04.419411Z",
     "shell.execute_reply": "2024-05-10T19:24:04.419411Z",
     "shell.execute_reply.started": "2024-05-10T19:24:04.401389Z"
    }
   },
   "outputs": [
    {
     "data": {
      "text/plain": [
       "array([[  54962,   64962],\n",
       "       [ 379962,  389962],\n",
       "       [ 484962,  494962],\n",
       "       [ 579962,  589962],\n",
       "       [ 654962,  664962],\n",
       "       [1554961, 1564961]], dtype=int64)"
      ]
     },
     "execution_count": 132,
     "metadata": {},
     "output_type": "execute_result"
    }
   ],
   "source": [
    "recording1.event_dict['win']"
   ]
  },
  {
   "cell_type": "code",
   "execution_count": 140,
   "id": "586956f5-8d9a-42e1-a5a4-d8eff3cfcf8c",
   "metadata": {
    "editable": true,
    "execution": {
     "iopub.execute_input": "2024-05-10T20:15:43.918601Z",
     "iopub.status.busy": "2024-05-10T20:15:43.918601Z",
     "iopub.status.idle": "2024-05-10T20:15:43.934560Z",
     "shell.execute_reply": "2024-05-10T20:15:43.933050Z",
     "shell.execute_reply.started": "2024-05-10T20:15:43.918601Z"
    },
    "slideshow": {
     "slide_type": ""
    },
    "tags": []
   },
   "outputs": [],
   "source": [
    "import multirecording_spikeanalysis_edit as spike"
   ]
  },
  {
   "cell_type": "code",
   "execution_count": 141,
   "id": "895e50d1-2814-4f3c-8ef9-48bf1d694d5b",
   "metadata": {
    "editable": true,
    "execution": {
     "iopub.execute_input": "2024-05-10T20:15:44.962827Z",
     "iopub.status.busy": "2024-05-10T20:15:44.962827Z",
     "iopub.status.idle": "2024-05-10T20:16:34.508528Z",
     "shell.execute_reply": "2024-05-10T20:16:34.508528Z",
     "shell.execute_reply.started": "2024-05-10T20:15:44.962827Z"
    },
    "slideshow": {
     "slide_type": ""
    },
    "tags": []
   },
   "outputs": [
    {
     "name": "stdout",
     "output_type": "stream",
     "text": [
      "<class 'numpy.ndarray'>\n",
      "<class 'numpy.ndarray'>\n",
      "20230612_101430_standard_comp_to_training_D1_subj_1-3_t3b3L_box2_merged.rec\n",
      "<class 'numpy.ndarray'>\n",
      "<class 'numpy.ndarray'>\n",
      "20230617_115521_standard_comp_to_omission_D1_subj_1-1_t1b3L_box1_merged.rec\n",
      "<class 'numpy.ndarray'>\n",
      "<class 'numpy.ndarray'>\n",
      "20230617_115521_standard_comp_to_omission_D1_subj_1-2_t2b2L_box2_merged.rec\n",
      "<class 'numpy.ndarray'>\n",
      "<class 'numpy.ndarray'>\n",
      "20230618_100636_standard_comp_to_omission_D2_subj_1-1_t1b2L_box2_merged.rec\n",
      "<class 'numpy.ndarray'>\n",
      "<class 'numpy.ndarray'>\n",
      "20230618_100636_standard_comp_to_omission_D2_subj_1-4_t4b3L_box1_merged.rec\n",
      "<class 'numpy.ndarray'>\n",
      "<class 'numpy.ndarray'>\n",
      "20230619_115321_standard_comp_to_omission_D3_subj_1-4_t3b3L_box2_merged.rec\n",
      "<class 'numpy.ndarray'>\n",
      "<class 'numpy.ndarray'>\n",
      "20230620_114347_standard_comp_to_omission_D4_subj_1-1_t1b2L_box_2_merged.rec\n",
      "<class 'numpy.ndarray'>\n",
      "<class 'numpy.ndarray'>\n",
      "20230620_114347_standard_comp_to_omission_D4_subj_1-2_t3b3L_box_1_merged.rec\n",
      "<class 'numpy.ndarray'>\n",
      "<class 'numpy.ndarray'>\n",
      "20230621_111240_standard_comp_to_omission_D5_subj_1-4_t3b3L_box1_merged.rec\n",
      "<class 'numpy.ndarray'>\n",
      "<class 'numpy.ndarray'>\n",
      "Unit 92 is unsorted & has 2494 spikes\n",
      "Unit 92 will be deleted\n",
      "20230622_110832_standard_comp_to_both_rewarded_D1_subj_1-1_t1b3L_box1_merged.rec\n",
      "<class 'numpy.ndarray'>\n",
      "<class 'numpy.ndarray'>\n",
      "Unit 103 is unsorted & has 512 spikes\n",
      "Unit 103 will be deleted\n",
      "20230622_110832_standard_comp_to_both_rewarded_D1_subj_1-2_t3b3L_box1_merged.rec\n",
      "<class 'numpy.ndarray'>\n",
      "<class 'numpy.ndarray'>\n",
      "20230624_105855_standard_comp_to_both_rewarded_D3_subj_1-2_t1b2L_box1_merged.rec\n",
      "<class 'numpy.ndarray'>\n",
      "<class 'numpy.ndarray'>\n",
      "20230624_105855_standard_comp_to_both_rewarded_D3_subj_1-4_t3b3L_box1_merged.rec\n",
      "<class 'numpy.ndarray'>\n",
      "<class 'numpy.ndarray'>\n",
      "20230625_112913_standard_comp_to_both_rewarded_D4_subj_1-1_t1b2L_box1_merged.rec\n",
      "<class 'numpy.ndarray'>\n",
      "<class 'numpy.ndarray'>\n",
      "Unit 96 is unsorted & has 5811 spikes\n",
      "Unit 96 will be deleted\n",
      "Unit 95 is unsorted & has 6458 spikes\n",
      "Unit 95 will be deleted\n",
      "20230625_112913_standard_comp_to_both_rewarded_D4_subj_1-4_t3b3L_box1_merged.rec\n",
      "Please assign event dictionaries to each recording\n",
      "as recording.event_dict\n",
      "event_dict = {event name(str): np.array[[start(ms), stop(ms)]...]\n",
      "Please assign subjects to each recording as recording.subject\n"
     ]
    }
   ],
   "source": [
    "# Construct the path in a platform-independent way (HiPerGator or Windows)\n",
    "ephys_path = Path('.') / 'export' / 'updated_phys' / 'non-novel' / 'all_non_novel'\n",
    "\n",
    "ephys_data = spike.EphysRecordingCollection(str(ephys_path))"
   ]
  },
  {
   "cell_type": "code",
   "execution_count": 142,
   "id": "af9d04f5-ab95-45ba-ad45-7316b9687cc1",
   "metadata": {
    "editable": true,
    "execution": {
     "iopub.execute_input": "2024-05-10T20:16:35.439962Z",
     "iopub.status.busy": "2024-05-10T20:16:35.439962Z",
     "iopub.status.idle": "2024-05-10T20:16:38.400020Z",
     "shell.execute_reply": "2024-05-10T20:16:38.398994Z",
     "shell.execute_reply.started": "2024-05-10T20:16:35.439962Z"
    },
    "slideshow": {
     "slide_type": ""
    },
    "tags": []
   },
   "outputs": [
    {
     "name": "stdout",
     "output_type": "stream",
     "text": [
      "All set to analyze\n"
     ]
    }
   ],
   "source": [
    "for recording in ephys_data.collection.keys():\n",
    "    # Check if the recording key (without everything after subject #) is in timestamp_dicts\n",
    "    start_pos = recording.find('subj_')\n",
    "    # Add the length of 'subj_' and 3 additional characters to include after 'subj_'\n",
    "    end_pos = start_pos + len('subj_') + 3\n",
    "    # Slice the recording key to get everything up to and including the subject identifier plus three characters\n",
    "    recording_key_without_suffix = recording[:end_pos]\n",
    "    if recording_key_without_suffix in timestamp_dicts:\n",
    "        # Assign the corresponding timestamp_dicts dictionary to event_dict\n",
    "        ephys_data.collection[recording].event_dict = timestamp_dicts[recording_key_without_suffix]\n",
    "        \n",
    "        # Extract the subject from the recording key\n",
    "        start = recording.find('subj_') + 5  # Start index after 'subj_'\n",
    "        subject = recording[start:start+3]\n",
    "        \n",
    "        # Assign the extracted subject\n",
    "        ephys_data.collection[recording].subject = subject\n",
    "        \n",
    "spike_analysis = spike.SpikeAnalysis_MultiRecording(ephys_data, timebin = 100, smoothing_window=250, ignore_freq = 0.5)"
   ]
  },
  {
   "cell_type": "code",
   "execution_count": 143,
   "id": "34fd4294-8180-49ca-839a-823a6995fd17",
   "metadata": {
    "editable": true,
    "execution": {
     "iopub.execute_input": "2024-05-10T20:16:38.866018Z",
     "iopub.status.busy": "2024-05-10T20:16:38.866018Z",
     "iopub.status.idle": "2024-05-10T20:16:38.913932Z",
     "shell.execute_reply": "2024-05-10T20:16:38.913932Z",
     "shell.execute_reply.started": "2024-05-10T20:16:38.866018Z"
    },
    "slideshow": {
     "slide_type": ""
    },
    "tags": []
   },
   "outputs": [
    {
     "ename": "TypeError",
     "evalue": "SpikeAnalysis_MultiRecording.get_event_spike_counts() got an unexpected keyword argument 'pre_window'",
     "output_type": "error",
     "traceback": [
      "\u001b[1;31m---------------------------------------------------------------------------\u001b[0m",
      "\u001b[1;31mTypeError\u001b[0m                                 Traceback (most recent call last)",
      "Cell \u001b[1;32mIn[143], line 1\u001b[0m\n\u001b[1;32m----> 1\u001b[0m test_spikes \u001b[38;5;241m=\u001b[39m spike_analysis\u001b[38;5;241m.\u001b[39mget_event_spike_counts(pre_window\u001b[38;5;241m=\u001b[39m\u001b[38;5;241m10\u001b[39m, equalize\u001b[38;5;241m=\u001b[39m\u001b[38;5;241m10\u001b[39m)\n",
      "\u001b[1;31mTypeError\u001b[0m: SpikeAnalysis_MultiRecording.get_event_spike_counts() got an unexpected keyword argument 'pre_window'"
     ]
    }
   ],
   "source": [
    "test_spikes = spike_analysis.get_event_spike_counts(pre_window=10, equalize=10)"
   ]
  },
  {
   "cell_type": "code",
   "execution_count": 138,
   "id": "1ceaec0a-9d19-4340-8f6a-aea9639646f1",
   "metadata": {
    "editable": true,
    "execution": {
     "iopub.execute_input": "2024-05-10T20:13:15.506350Z",
     "iopub.status.busy": "2024-05-10T20:13:15.506350Z",
     "iopub.status.idle": "2024-05-10T20:13:15.529514Z",
     "shell.execute_reply": "2024-05-10T20:13:15.529514Z",
     "shell.execute_reply.started": "2024-05-10T20:13:15.506350Z"
    },
    "slideshow": {
     "slide_type": ""
    },
    "tags": []
   },
   "outputs": [
    {
     "data": {
      "text/plain": [
       "<bound method SpikeAnalysis_MultiRecording.get_event_spike_counts of <multirecording_spikeanalysis_edit.SpikeAnalysis_MultiRecording object at 0x000001FC55F75B90>>"
      ]
     },
     "execution_count": 138,
     "metadata": {},
     "output_type": "execute_result"
    }
   ],
   "source": [
    "test_spikes"
   ]
  },
  {
   "cell_type": "code",
   "execution_count": 146,
   "id": "3c53c606-afea-4828-990a-40afbfd1c201",
   "metadata": {
    "execution": {
     "iopub.execute_input": "2024-05-10T21:12:59.674681Z",
     "iopub.status.busy": "2024-05-10T21:12:59.659042Z",
     "iopub.status.idle": "2024-05-10T21:12:59.684394Z",
     "shell.execute_reply": "2024-05-10T21:12:59.684394Z",
     "shell.execute_reply.started": "2024-05-10T21:12:59.674681Z"
    }
   },
   "outputs": [],
   "source": [
    "stat, p_value = wilcoxon([1], [3])"
   ]
  },
  {
   "cell_type": "code",
   "execution_count": 147,
   "id": "0c4b805a-0ef5-44e6-9774-9a9cc9127a96",
   "metadata": {
    "execution": {
     "iopub.execute_input": "2024-05-10T21:13:01.846405Z",
     "iopub.status.busy": "2024-05-10T21:13:01.846405Z",
     "iopub.status.idle": "2024-05-10T21:13:01.867495Z",
     "shell.execute_reply": "2024-05-10T21:13:01.867495Z",
     "shell.execute_reply.started": "2024-05-10T21:13:01.846405Z"
    }
   },
   "outputs": [
    {
     "data": {
      "text/plain": [
       "1.0"
      ]
     },
     "execution_count": 147,
     "metadata": {},
     "output_type": "execute_result"
    }
   ],
   "source": [
    "p_value"
   ]
  },
  {
   "cell_type": "code",
   "execution_count": 149,
   "id": "a7c76ea7-37c0-410b-8ec0-ce4dbe69324f",
   "metadata": {
    "execution": {
     "iopub.execute_input": "2024-05-10T21:22:46.982064Z",
     "iopub.status.busy": "2024-05-10T21:22:46.982064Z",
     "iopub.status.idle": "2024-05-10T21:22:47.003985Z",
     "shell.execute_reply": "2024-05-10T21:22:47.003985Z",
     "shell.execute_reply.started": "2024-05-10T21:22:46.982064Z"
    }
   },
   "outputs": [
    {
     "name": "stdout",
     "output_type": "stream",
     "text": [
      "0.00943304278173114\n"
     ]
    }
   ],
   "source": [
    "mean_win_p_value = np.mean([\n",
    "    np.mean(recording1_wilcox_results['win p-value']),\n",
    "    np.mean(recording2_wilcox_results['win p-value']),\n",
    "    np.mean(recording3_wilcox_results['win p-value'])\n",
    "])\n",
    "\n",
    "print(mean_win_p_value)"
   ]
  },
  {
   "cell_type": "code",
   "execution_count": 150,
   "id": "4d934edb-d3c2-49cd-9173-602202062889",
   "metadata": {
    "execution": {
     "iopub.execute_input": "2024-05-10T21:23:12.196742Z",
     "iopub.status.busy": "2024-05-10T21:23:12.196742Z",
     "iopub.status.idle": "2024-05-10T21:23:12.212937Z",
     "shell.execute_reply": "2024-05-10T21:23:12.212937Z",
     "shell.execute_reply.started": "2024-05-10T21:23:12.196742Z"
    }
   },
   "outputs": [
    {
     "name": "stdout",
     "output_type": "stream",
     "text": [
      "0.08436496843914604\n"
     ]
    }
   ],
   "source": [
    "mean_lose_p_value = np.mean([\n",
    "    np.mean(recording1_wilcox_results['lose p-value']),\n",
    "    np.mean(recording2_wilcox_results['lose p-value']),\n",
    "    np.mean(recording3_wilcox_results['lose p-value'])\n",
    "])\n",
    "\n",
    "print(mean_lose_p_value)"
   ]
  },
  {
   "cell_type": "code",
   "execution_count": 153,
   "id": "ecf9fa44-d876-4d15-a002-816bc61a65c7",
   "metadata": {
    "execution": {
     "iopub.execute_input": "2024-05-10T21:24:23.277322Z",
     "iopub.status.busy": "2024-05-10T21:24:23.261699Z",
     "iopub.status.idle": "2024-05-10T21:24:23.289689Z",
     "shell.execute_reply": "2024-05-10T21:24:23.289689Z",
     "shell.execute_reply.started": "2024-05-10T21:24:23.277322Z"
    }
   },
   "outputs": [
    {
     "name": "stdout",
     "output_type": "stream",
     "text": [
      "0.02946486761462146\n"
     ]
    }
   ],
   "source": [
    "mean_rewarded_p_value = np.mean([\n",
    "    np.mean(recording1_wilcox_results['rewarded p-value']),\n",
    "    np.mean(recording2_wilcox_results['rewarded p-value']),\n",
    "    np.mean(recording3_wilcox_results['both_rewarded p-value'])\n",
    "])\n",
    "\n",
    "print(mean_rewarded_p_value)"
   ]
  },
  {
   "cell_type": "code",
   "execution_count": 154,
   "id": "8bc12b5c-fcb8-4229-9e85-e5439b9a8499",
   "metadata": {
    "execution": {
     "iopub.execute_input": "2024-05-10T22:27:19.819712Z",
     "iopub.status.busy": "2024-05-10T22:27:19.819712Z",
     "iopub.status.idle": "2024-05-10T22:27:19.841311Z",
     "shell.execute_reply": "2024-05-10T22:27:19.841311Z",
     "shell.execute_reply.started": "2024-05-10T22:27:19.819712Z"
    }
   },
   "outputs": [],
   "source": [
    "import multirecording_spikeanalysis_edit as spike"
   ]
  },
  {
   "cell_type": "code",
   "execution_count": 155,
   "id": "9c107cf1-b8eb-4f0f-83fe-49a87f142882",
   "metadata": {
    "editable": true,
    "execution": {
     "iopub.execute_input": "2024-05-10T22:27:28.614256Z",
     "iopub.status.busy": "2024-05-10T22:27:28.614256Z",
     "iopub.status.idle": "2024-05-10T22:28:21.848320Z",
     "shell.execute_reply": "2024-05-10T22:28:21.848320Z",
     "shell.execute_reply.started": "2024-05-10T22:27:28.614256Z"
    },
    "slideshow": {
     "slide_type": ""
    },
    "tags": []
   },
   "outputs": [
    {
     "name": "stdout",
     "output_type": "stream",
     "text": [
      "<class 'numpy.ndarray'>\n",
      "<class 'numpy.ndarray'>\n",
      "20230612_101430_standard_comp_to_training_D1_subj_1-3_t3b3L_box2_merged.rec\n",
      "<class 'numpy.ndarray'>\n",
      "<class 'numpy.ndarray'>\n",
      "20230617_115521_standard_comp_to_omission_D1_subj_1-1_t1b3L_box1_merged.rec\n",
      "<class 'numpy.ndarray'>\n",
      "<class 'numpy.ndarray'>\n",
      "20230617_115521_standard_comp_to_omission_D1_subj_1-2_t2b2L_box2_merged.rec\n",
      "<class 'numpy.ndarray'>\n",
      "<class 'numpy.ndarray'>\n",
      "20230618_100636_standard_comp_to_omission_D2_subj_1-1_t1b2L_box2_merged.rec\n",
      "<class 'numpy.ndarray'>\n",
      "<class 'numpy.ndarray'>\n",
      "20230618_100636_standard_comp_to_omission_D2_subj_1-4_t4b3L_box1_merged.rec\n",
      "<class 'numpy.ndarray'>\n",
      "<class 'numpy.ndarray'>\n",
      "20230619_115321_standard_comp_to_omission_D3_subj_1-4_t3b3L_box2_merged.rec\n",
      "<class 'numpy.ndarray'>\n",
      "<class 'numpy.ndarray'>\n",
      "20230620_114347_standard_comp_to_omission_D4_subj_1-1_t1b2L_box_2_merged.rec\n",
      "<class 'numpy.ndarray'>\n",
      "<class 'numpy.ndarray'>\n",
      "20230620_114347_standard_comp_to_omission_D4_subj_1-2_t3b3L_box_1_merged.rec\n",
      "<class 'numpy.ndarray'>\n",
      "<class 'numpy.ndarray'>\n",
      "20230621_111240_standard_comp_to_omission_D5_subj_1-4_t3b3L_box1_merged.rec\n",
      "<class 'numpy.ndarray'>\n",
      "<class 'numpy.ndarray'>\n",
      "Unit 92 is unsorted & has 2494 spikes\n",
      "Unit 92 will be deleted\n",
      "20230622_110832_standard_comp_to_both_rewarded_D1_subj_1-1_t1b3L_box1_merged.rec\n",
      "<class 'numpy.ndarray'>\n",
      "<class 'numpy.ndarray'>\n",
      "Unit 103 is unsorted & has 512 spikes\n",
      "Unit 103 will be deleted\n",
      "20230622_110832_standard_comp_to_both_rewarded_D1_subj_1-2_t3b3L_box1_merged.rec\n",
      "<class 'numpy.ndarray'>\n",
      "<class 'numpy.ndarray'>\n",
      "20230624_105855_standard_comp_to_both_rewarded_D3_subj_1-2_t1b2L_box1_merged.rec\n",
      "<class 'numpy.ndarray'>\n",
      "<class 'numpy.ndarray'>\n",
      "20230624_105855_standard_comp_to_both_rewarded_D3_subj_1-4_t3b3L_box1_merged.rec\n",
      "<class 'numpy.ndarray'>\n",
      "<class 'numpy.ndarray'>\n",
      "20230625_112913_standard_comp_to_both_rewarded_D4_subj_1-1_t1b2L_box1_merged.rec\n",
      "<class 'numpy.ndarray'>\n",
      "<class 'numpy.ndarray'>\n",
      "Unit 96 is unsorted & has 5811 spikes\n",
      "Unit 96 will be deleted\n",
      "Unit 95 is unsorted & has 6458 spikes\n",
      "Unit 95 will be deleted\n",
      "20230625_112913_standard_comp_to_both_rewarded_D4_subj_1-4_t3b3L_box1_merged.rec\n",
      "Please assign event dictionaries to each recording\n",
      "as recording.event_dict\n",
      "event_dict = {event name(str): np.array[[start(ms), stop(ms)]...]\n",
      "Please assign subjects to each recording as recording.subject\n"
     ]
    }
   ],
   "source": [
    "timestamp_dicts = pickle.load(open('hpc_timestamp_dicts.pkl', 'rb'))\n",
    "\n",
    "ephys_path = Path('.') / 'export' / 'updated_phys' / 'non-novel' / 'all_non_novel'\n",
    "\n",
    "ephys_data = spike.EphysRecordingCollection(str(ephys_path))"
   ]
  },
  {
   "cell_type": "code",
   "execution_count": 156,
   "id": "e364923a-68f8-443f-98ea-fe22b032ca90",
   "metadata": {
    "editable": true,
    "execution": {
     "iopub.execute_input": "2024-05-10T22:28:23.731234Z",
     "iopub.status.busy": "2024-05-10T22:28:23.731234Z",
     "iopub.status.idle": "2024-05-10T22:28:29.695878Z",
     "shell.execute_reply": "2024-05-10T22:28:29.695878Z",
     "shell.execute_reply.started": "2024-05-10T22:28:23.731234Z"
    },
    "slideshow": {
     "slide_type": ""
    },
    "tags": []
   },
   "outputs": [
    {
     "name": "stdout",
     "output_type": "stream",
     "text": [
      "All set to analyze\n"
     ]
    }
   ],
   "source": [
    "for recording in ephys_data.collection.keys():\n",
    "    # Check if the recording key (without everything after subject #) is in timestamp_dicts\n",
    "    start_pos = recording.find('subj_')\n",
    "    # Add the length of 'subj_' and 3 additional characters to include after 'subj_'\n",
    "    end_pos = start_pos + len('subj_') + 3\n",
    "    # Slice the recording key to get everything up to and including the subject identifier plus three characters\n",
    "    recording_key_without_suffix = recording[:end_pos]\n",
    "    if recording_key_without_suffix in timestamp_dicts:\n",
    "        # Assign the corresponding timestamp_dicts dictionary to event_dict\n",
    "        ephys_data.collection[recording].event_dict = timestamp_dicts[recording_key_without_suffix]\n",
    "        \n",
    "        # Extract the subject from the recording key\n",
    "        start = recording.find('subj_') + 5  # Start index after 'subj_'\n",
    "        subject = recording[start:start+3]\n",
    "        \n",
    "        # Assign the extracted subject\n",
    "        ephys_data.collection[recording].subject = subject\n",
    "        \n",
    "spike_analysis = spike.SpikeAnalysis_MultiRecording(ephys_data, timebin = 100, smoothing_window=250, ignore_freq = 0.5)"
   ]
  },
  {
   "cell_type": "code",
   "execution_count": 157,
   "id": "e0c283de-3f7d-441d-9129-59cc1213bdfc",
   "metadata": {
    "editable": true,
    "execution": {
     "iopub.execute_input": "2024-05-10T22:28:30.631351Z",
     "iopub.status.busy": "2024-05-10T22:28:30.631351Z",
     "iopub.status.idle": "2024-05-10T22:28:31.059928Z",
     "shell.execute_reply": "2024-05-10T22:28:31.059928Z",
     "shell.execute_reply.started": "2024-05-10T22:28:30.631351Z"
    },
    "slideshow": {
     "slide_type": ""
    },
    "tags": []
   },
   "outputs": [
    {
     "ename": "TypeError",
     "evalue": "SpikeAnalysis_MultiRecording.get_event_spike_counts() got an unexpected keyword argument 'pre_window'",
     "output_type": "error",
     "traceback": [
      "\u001b[1;31m---------------------------------------------------------------------------\u001b[0m",
      "\u001b[1;31mTypeError\u001b[0m                                 Traceback (most recent call last)",
      "Cell \u001b[1;32mIn[157], line 1\u001b[0m\n\u001b[1;32m----> 1\u001b[0m test_spikes \u001b[38;5;241m=\u001b[39m spike_analysis\u001b[38;5;241m.\u001b[39mget_event_spike_counts(pre_window\u001b[38;5;241m=\u001b[39m\u001b[38;5;241m10\u001b[39m, equalize\u001b[38;5;241m=\u001b[39m\u001b[38;5;241m10\u001b[39m)\n",
      "\u001b[1;31mTypeError\u001b[0m: SpikeAnalysis_MultiRecording.get_event_spike_counts() got an unexpected keyword argument 'pre_window'"
     ]
    }
   ],
   "source": [
    "test_spikes = spike_analysis.get_event_spike_counts(pre_window=10, equalize=10)"
   ]
  },
  {
   "cell_type": "code",
   "execution_count": 158,
   "id": "94e1af62-cf63-414f-ae21-4bc792c708bd",
   "metadata": {
    "editable": true,
    "execution": {
     "iopub.execute_input": "2024-05-10T22:29:03.102602Z",
     "iopub.status.busy": "2024-05-10T22:29:03.102602Z",
     "iopub.status.idle": "2024-05-10T22:29:03.170968Z",
     "shell.execute_reply": "2024-05-10T22:29:03.170968Z",
     "shell.execute_reply.started": "2024-05-10T22:29:03.102602Z"
    },
    "slideshow": {
     "slide_type": ""
    },
    "tags": []
   },
   "outputs": [
    {
     "ename": "TypeError",
     "evalue": "'method' object is not subscriptable",
     "output_type": "error",
     "traceback": [
      "\u001b[1;31m---------------------------------------------------------------------------\u001b[0m",
      "\u001b[1;31mTypeError\u001b[0m                                 Traceback (most recent call last)",
      "Cell \u001b[1;32mIn[158], line 5\u001b[0m\n\u001b[0;32m      2\u001b[0m key_to_access \u001b[38;5;241m=\u001b[39m (\u001b[38;5;124m'\u001b[39m\u001b[38;5;124m20230612_101430_standard_comp_to_training_D1_subj_1-3_t3b3L_box2_merged.rec\u001b[39m\u001b[38;5;124m'\u001b[39m, \u001b[38;5;124m'\u001b[39m\u001b[38;5;124mrewarded\u001b[39m\u001b[38;5;124m'\u001b[39m, \u001b[38;5;241m0\u001b[39m)\n\u001b[0;32m      4\u001b[0m \u001b[38;5;66;03m# Access the data for this key\u001b[39;00m\n\u001b[1;32m----> 5\u001b[0m specific_event_data \u001b[38;5;241m=\u001b[39m test_spikes[key_to_access]\n\u001b[0;32m      7\u001b[0m \u001b[38;5;66;03m# Print or analyze the specific event data\u001b[39;00m\n\u001b[0;32m      8\u001b[0m \u001b[38;5;28mprint\u001b[39m(specific_event_data)\n",
      "\u001b[1;31mTypeError\u001b[0m: 'method' object is not subscriptable"
     ]
    }
   ],
   "source": [
    "# Define the key you want to access\n",
    "key_to_access = ('20230612_101430_standard_comp_to_training_D1_subj_1-3_t3b3L_box2_merged.rec', 'rewarded', 0)\n",
    "\n",
    "# Access the data for this key\n",
    "specific_event_data = test_spikes[key_to_access]\n",
    "\n",
    "# Print or analyze the specific event data\n",
    "print(specific_event_data)"
   ]
  },
  {
   "cell_type": "markdown",
   "id": "69575c33-55b3-4f8a-9020-120fefd19442",
   "metadata": {
    "editable": true,
    "slideshow": {
     "slide_type": ""
    },
    "tags": []
   },
   "source": [
    "if spike_analysis_edit imported correctly the result of the previous line would've been:\n",
    "{'event_spike_count': 578, 'pre_event_spike_count': 766}"
   ]
  },
  {
   "cell_type": "code",
   "execution_count": null,
   "id": "bcefbea8-f90a-4e51-aec2-41bf4a0fd63f",
   "metadata": {},
   "outputs": [],
   "source": []
  }
 ],
 "metadata": {
  "kernelspec": {
   "display_name": "Python 3 (ipykernel)",
   "language": "python",
   "name": "python3"
  },
  "language_info": {
   "codemirror_mode": {
    "name": "ipython",
    "version": 3
   },
   "file_extension": ".py",
   "mimetype": "text/x-python",
   "name": "python",
   "nbconvert_exporter": "python",
   "pygments_lexer": "ipython3",
   "version": "3.11.7"
  }
 },
 "nbformat": 4,
 "nbformat_minor": 5
}
