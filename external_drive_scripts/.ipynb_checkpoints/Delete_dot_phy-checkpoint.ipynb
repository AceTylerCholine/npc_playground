{
 "cells": [
  {
   "cell_type": "markdown",
   "id": "19e476f5-5dd1-4eb6-9244-da33a7f318f5",
   "metadata": {},
   "source": [
    "# Delete .phy folders\n",
    "\n",
    "## The `.phy` folder in `phy` folders can be deleted as this folder is simply used to increase the speed of opening Phy and is recreated on every open\n",
    "\n",
    "### This saves space and makes transferring data faster & easier"
   ]
  },
  {
   "cell_type": "code",
   "execution_count": 1,
   "id": "9d92aadb-be4d-4dfb-ba57-250edb3de568",
   "metadata": {
    "execution": {
     "iopub.execute_input": "2024-07-15T15:09:14.315344Z",
     "iopub.status.busy": "2024-07-15T15:09:14.307346Z",
     "iopub.status.idle": "2024-07-15T15:09:14.359356Z",
     "shell.execute_reply": "2024-07-15T15:09:14.357353Z",
     "shell.execute_reply.started": "2024-07-15T15:09:14.314340Z"
    },
    "tags": []
   },
   "outputs": [],
   "source": [
    "import os\n",
    "import shutil"
   ]
  },
  {
   "cell_type": "markdown",
   "id": "62411215-ea57-49a8-9f58-7df1a2c0fe8b",
   "metadata": {},
   "source": [
    "# Inputs & Data\n",
    "### I used this on the external hard drive Cyborg, but you can define `src_root` to whatever you want\n",
    "### Doesn't work well with Dropbox though, unless the files are already stored locally"
   ]
  },
  {
   "cell_type": "code",
   "execution_count": 2,
   "id": "0606adbf-05a9-485f-8baf-cb002fa86a49",
   "metadata": {
    "execution": {
     "iopub.execute_input": "2024-07-15T15:09:15.070525Z",
     "iopub.status.busy": "2024-07-15T15:09:15.069524Z",
     "iopub.status.idle": "2024-07-15T15:09:15.094048Z",
     "shell.execute_reply": "2024-07-15T15:09:15.092046Z",
     "shell.execute_reply.started": "2024-07-15T15:09:15.070525Z"
    }
   },
   "outputs": [
    {
     "name": "stdout",
     "output_type": "stream",
     "text": [
      "Deleted parent\\test1\\phy\\.phy\n",
      "Deleted parent\\test2\\phy\\.phy\n"
     ]
    }
   ],
   "source": [
    "def delete_dot_phy_folders(src_root):\n",
    "    for root, dirs, files in os.walk(src_root):\n",
    "        # Check if the current directory is 'phy'\n",
    "        if os.path.basename(root) == 'phy':\n",
    "            # Check if any sub-directory is named '.phy'\n",
    "            if '.phy' in dirs:\n",
    "                # Construct the path to the '.phy' directory\n",
    "                dot_phy_dir = os.path.join(root, '.phy')\n",
    "                # Delete the '.phy' directory and its contents\n",
    "                shutil.rmtree(dot_phy_dir)\n",
    "                print(f\"Deleted {dot_phy_dir}\")\n",
    "\n",
    "# Define the source directory\n",
    "src_root = r'D:\\pc_lab\\RCE\\finished_proc\\phy_curation'\n",
    "\n",
    "# Call the function to start the deletion process\n",
    "delete_dot_phy_folders(src_root)"
   ]
  },
  {
   "cell_type": "code",
   "execution_count": null,
   "id": "0c2c773f-ff93-4988-8212-7ee4dbeb8a13",
   "metadata": {},
   "outputs": [],
   "source": []
  }
 ],
 "metadata": {
  "kernelspec": {
   "display_name": "Python 3 (ipykernel)",
   "language": "python",
   "name": "python3"
  },
  "language_info": {
   "codemirror_mode": {
    "name": "ipython",
    "version": 3
   },
   "file_extension": ".py",
   "mimetype": "text/x-python",
   "name": "python",
   "nbconvert_exporter": "python",
   "pygments_lexer": "ipython3",
   "version": "3.10.14"
  }
 },
 "nbformat": 4,
 "nbformat_minor": 5
}
