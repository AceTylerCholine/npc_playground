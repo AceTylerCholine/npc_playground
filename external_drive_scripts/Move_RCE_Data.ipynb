{
 "cells": [
  {
   "cell_type": "markdown",
   "id": "d03ecfab-afc6-44a0-85b6-a283438a5587",
   "metadata": {},
   "source": [
    "# Move RCE Data\n",
    "### To use Meghan's `multirecording_spikeanalysis.py` script, all you need from each ephys recording are 3 files: `cluster_group.tsv`, `spike_clusters.npy`, `spike_times.npy`\n",
    "### This script will move just those 3 files and the parent directories (recording that they came from), so you don't have to move the whole 5-8 GB directory for each recording"
   ]
  },
  {
   "cell_type": "markdown",
   "id": "623cdffb-9e10-49ba-9d35-d454c796bcff",
   "metadata": {},
   "source": [
    "# Inputs & Data\n",
    "### `src_root` is the directory you're copying from, `dest_root` is where you're copying to, and `required_files` is a list of the files you want copied"
   ]
  },
  {
   "cell_type": "code",
   "execution_count": 1,
   "id": "4ef0b35f-7a03-41ce-a4f6-6a4a667a69d2",
   "metadata": {
    "execution": {
     "iopub.execute_input": "2024-06-24T22:03:43.288802Z",
     "iopub.status.busy": "2024-06-24T22:03:43.288802Z",
     "iopub.status.idle": "2024-06-24T22:04:20.843492Z",
     "shell.execute_reply": "2024-06-24T22:04:20.843492Z",
     "shell.execute_reply.started": "2024-06-24T22:03:43.288802Z"
    }
   },
   "outputs": [
    {
     "name": "stdout",
     "output_type": "stream",
     "text": [
      "Copied D:\\pc_lab\\RCE\\finished_proc\\phy_curation\\20240320_142408_alone_comp_subj_3-3_t5b5_merged.rec\\phy to C:\\Users\\short\\Documents\\GitHub\\npc_playground\\recordings\\Cohort3\\alone_comp\\20240320_142408_alone_comp_subj_3-3_t5b5_merged.rec\\phy\n",
      "Copied D:\\pc_lab\\RCE\\finished_proc\\phy_curation\\20240320_142408_alone_comp_subj_3-3_t5b5_merged.rec\\phy to C:\\Users\\short\\Documents\\GitHub\\npc_playground\\recordings\\Cohort3\\all\\20240320_142408_alone_comp_subj_3-3_t5b5_merged.rec\\phy\n",
      "Copied D:\\pc_lab\\RCE\\finished_proc\\phy_curation\\20240322_120625_alone_comp_subj_3-4_t5b5_merged.rec\\phy to C:\\Users\\short\\Documents\\GitHub\\npc_playground\\recordings\\Cohort3\\alone_comp\\20240322_120625_alone_comp_subj_3-4_t5b5_merged.rec\\phy\n",
      "Copied D:\\pc_lab\\RCE\\finished_proc\\phy_curation\\20240322_120625_alone_comp_subj_3-4_t5b5_merged.rec\\phy to C:\\Users\\short\\Documents\\GitHub\\npc_playground\\recordings\\Cohort3\\all\\20240322_120625_alone_comp_subj_3-4_t5b5_merged.rec\\phy\n",
      "Copied D:\\pc_lab\\RCE\\finished_proc\\phy_curation\\20240320_142408_alone_comp_subj_3-1_t6b6_merged.rec\\phy to C:\\Users\\short\\Documents\\GitHub\\npc_playground\\recordings\\Cohort3\\alone_comp\\20240320_142408_alone_comp_subj_3-1_t6b6_merged.rec\\phy\n",
      "Copied D:\\pc_lab\\RCE\\finished_proc\\phy_curation\\20240320_142408_alone_comp_subj_3-1_t6b6_merged.rec\\phy to C:\\Users\\short\\Documents\\GitHub\\npc_playground\\recordings\\Cohort3\\all\\20240320_142408_alone_comp_subj_3-1_t6b6_merged.rec\\phy\n",
      "Copied D:\\pc_lab\\RCE\\finished_proc\\phy_curation\\20240322_120625_alone_comp_subj_3-3_t6b6_merged.rec\\phy to C:\\Users\\short\\Documents\\GitHub\\npc_playground\\recordings\\Cohort3\\alone_comp\\20240322_120625_alone_comp_subj_3-3_t6b6_merged.rec\\phy\n",
      "Copied D:\\pc_lab\\RCE\\finished_proc\\phy_curation\\20240322_120625_alone_comp_subj_3-3_t6b6_merged.rec\\phy to C:\\Users\\short\\Documents\\GitHub\\npc_playground\\recordings\\Cohort3\\all\\20240322_120625_alone_comp_subj_3-3_t6b6_merged.rec\\phy\n",
      "Copied D:\\pc_lab\\RCE\\finished_proc\\phy_curation\\20240323_144517_alone_comp_subj_3-4_t6b6_merged.rec\\phy to C:\\Users\\short\\Documents\\GitHub\\npc_playground\\recordings\\Cohort3\\alone_comp\\20240323_144517_alone_comp_subj_3-4_t6b6_merged.rec\\phy\n",
      "Copied D:\\pc_lab\\RCE\\finished_proc\\phy_curation\\20240323_144517_alone_comp_subj_3-4_t6b6_merged.rec\\phy to C:\\Users\\short\\Documents\\GitHub\\npc_playground\\recordings\\Cohort3\\all\\20240323_144517_alone_comp_subj_3-4_t6b6_merged.rec\\phy\n",
      "Copied D:\\pc_lab\\RCE\\finished_proc\\phy_curation\\20240323_165815_alone_comp_subj_4-4_t6b6_merged.rec\\phy to C:\\Users\\short\\Documents\\GitHub\\npc_playground\\recordings\\Cohort3\\alone_comp\\20240323_165815_alone_comp_subj_4-4_t6b6_merged.rec\\phy\n",
      "Copied D:\\pc_lab\\RCE\\finished_proc\\phy_curation\\20240323_165815_alone_comp_subj_4-4_t6b6_merged.rec\\phy to C:\\Users\\short\\Documents\\GitHub\\npc_playground\\recordings\\Cohort3\\all\\20240323_165815_alone_comp_subj_4-4_t6b6_merged.rec\\phy\n",
      "Copied D:\\pc_lab\\RCE\\finished_proc\\phy_curation\\20240323_165815_alone_comp_subj_4-2_t5b5_merged.rec\\phy to C:\\Users\\short\\Documents\\GitHub\\npc_playground\\recordings\\Cohort3\\alone_comp\\20240323_165815_alone_comp_subj_4-2_t5b5_merged.rec\\phy\n",
      "Copied D:\\pc_lab\\RCE\\finished_proc\\phy_curation\\20240323_165815_alone_comp_subj_4-2_t5b5_merged.rec\\phy to C:\\Users\\short\\Documents\\GitHub\\npc_playground\\recordings\\Cohort3\\all\\20240323_165815_alone_comp_subj_4-2_t5b5_merged.rec\\phy\n",
      "Copied D:\\pc_lab\\RCE\\finished_proc\\phy_curation\\20240320_171038_alone_comp_subj_4-3_t5b5_merged.rec\\phy to C:\\Users\\short\\Documents\\GitHub\\npc_playground\\recordings\\Cohort3\\alone_comp\\20240320_171038_alone_comp_subj_4-3_t5b5_merged.rec\\phy\n",
      "Copied D:\\pc_lab\\RCE\\finished_proc\\phy_curation\\20240320_171038_alone_comp_subj_4-3_t5b5_merged.rec\\phy to C:\\Users\\short\\Documents\\GitHub\\npc_playground\\recordings\\Cohort3\\all\\20240320_171038_alone_comp_subj_4-3_t5b5_merged.rec\\phy\n",
      "Copied D:\\pc_lab\\RCE\\finished_proc\\phy_curation\\20240322_160946_alone_comp_subj_4-3_t6b6_merged.rec\\phy to C:\\Users\\short\\Documents\\GitHub\\npc_playground\\recordings\\Cohort3\\alone_comp\\20240322_160946_alone_comp_subj_4-3_t6b6_merged.rec\\phy\n",
      "Copied D:\\pc_lab\\RCE\\finished_proc\\phy_curation\\20240322_160946_alone_comp_subj_4-3_t6b6_merged.rec\\phy to C:\\Users\\short\\Documents\\GitHub\\npc_playground\\recordings\\Cohort3\\all\\20240322_160946_alone_comp_subj_4-3_t6b6_merged.rec\\phy\n",
      "Copied D:\\pc_lab\\RCE\\finished_proc\\phy_curation\\20240317_172017_long_comp_subj_4-2_t6b6_merged.rec\\phy to C:\\Users\\short\\Documents\\GitHub\\npc_playground\\recordings\\Cohort3\\long_comp\\20240317_172017_long_comp_subj_4-2_t6b6_merged.rec\\phy\n",
      "Copied D:\\pc_lab\\RCE\\finished_proc\\phy_curation\\20240317_172017_long_comp_subj_4-2_t6b6_merged.rec\\phy to C:\\Users\\short\\Documents\\GitHub\\npc_playground\\recordings\\Cohort3\\all\\20240317_172017_long_comp_subj_4-2_t6b6_merged.rec\\phy\n",
      "Copied D:\\pc_lab\\RCE\\finished_proc\\phy_curation\\20240317_151922_long_comp_subj_3-1_t6b6_merged.rec\\phy to C:\\Users\\short\\Documents\\GitHub\\npc_playground\\recordings\\Cohort3\\long_comp\\20240317_151922_long_comp_subj_3-1_t6b6_merged.rec\\phy\n",
      "Copied D:\\pc_lab\\RCE\\finished_proc\\phy_curation\\20240317_151922_long_comp_subj_3-1_t6b6_merged.rec\\phy to C:\\Users\\short\\Documents\\GitHub\\npc_playground\\recordings\\Cohort3\\all\\20240317_151922_long_comp_subj_3-1_t6b6_merged.rec\\phy\n",
      "Copied D:\\pc_lab\\RCE\\finished_proc\\phy_curation\\20240317_151922_long_comp_subj_3-3_t5b5_merged.rec\\phy to C:\\Users\\short\\Documents\\GitHub\\npc_playground\\recordings\\Cohort3\\long_comp\\20240317_151922_long_comp_subj_3-3_t5b5_merged.rec\\phy\n",
      "Copied D:\\pc_lab\\RCE\\finished_proc\\phy_curation\\20240317_151922_long_comp_subj_3-3_t5b5_merged.rec\\phy to C:\\Users\\short\\Documents\\GitHub\\npc_playground\\recordings\\Cohort3\\all\\20240317_151922_long_comp_subj_3-3_t5b5_merged.rec\\phy\n",
      "Copied D:\\pc_lab\\RCE\\finished_proc\\phy_curation\\20240318_143819_long_comp_subj_3-3_t6b6_merged.rec\\phy to C:\\Users\\short\\Documents\\GitHub\\npc_playground\\recordings\\Cohort3\\long_comp\\20240318_143819_long_comp_subj_3-3_t6b6_merged.rec\\phy\n",
      "Copied D:\\pc_lab\\RCE\\finished_proc\\phy_curation\\20240318_143819_long_comp_subj_3-3_t6b6_merged.rec\\phy to C:\\Users\\short\\Documents\\GitHub\\npc_playground\\recordings\\Cohort3\\all\\20240318_143819_long_comp_subj_3-3_t6b6_merged.rec\\phy\n",
      "Copied D:\\pc_lab\\RCE\\finished_proc\\phy_curation\\20240317_172017_long_comp_subj_4-3_t5b5_merged.rec\\phy to C:\\Users\\short\\Documents\\GitHub\\npc_playground\\recordings\\Cohort3\\long_comp\\20240317_172017_long_comp_subj_4-3_t5b5_merged.rec\\phy\n",
      "Copied D:\\pc_lab\\RCE\\finished_proc\\phy_curation\\20240317_172017_long_comp_subj_4-3_t5b5_merged.rec\\phy to C:\\Users\\short\\Documents\\GitHub\\npc_playground\\recordings\\Cohort3\\all\\20240317_172017_long_comp_subj_4-3_t5b5_merged.rec\\phy\n",
      "Copied D:\\pc_lab\\RCE\\finished_proc\\phy_curation\\20240318_170933_long_comp_subj_4-3_t6b6_merged.rec\\phy to C:\\Users\\short\\Documents\\GitHub\\npc_playground\\recordings\\Cohort3\\long_comp\\20240318_170933_long_comp_subj_4-3_t6b6_merged.rec\\phy\n",
      "Copied D:\\pc_lab\\RCE\\finished_proc\\phy_curation\\20240318_170933_long_comp_subj_4-3_t6b6_merged.rec\\phy to C:\\Users\\short\\Documents\\GitHub\\npc_playground\\recordings\\Cohort3\\all\\20240318_170933_long_comp_subj_4-3_t6b6_merged.rec\\phy\n",
      "Copied D:\\pc_lab\\RCE\\finished_proc\\phy_curation\\20240319_134914_long_comp_subj_3-1_t5b5_merged.rec\\phy to C:\\Users\\short\\Documents\\GitHub\\npc_playground\\recordings\\Cohort3\\long_comp\\20240319_134914_long_comp_subj_3-1_t5b5_merged.rec\\phy\n",
      "Copied D:\\pc_lab\\RCE\\finished_proc\\phy_curation\\20240319_134914_long_comp_subj_3-1_t5b5_merged.rec\\phy to C:\\Users\\short\\Documents\\GitHub\\npc_playground\\recordings\\Cohort3\\all\\20240319_134914_long_comp_subj_3-1_t5b5_merged.rec\\phy\n",
      "Copied D:\\pc_lab\\RCE\\finished_proc\\phy_curation\\20240407_152222_comp_novel_subj_4-2_t5b5_merged.rec\\phy to C:\\Users\\short\\Documents\\GitHub\\npc_playground\\recordings\\Cohort3\\comp_novel\\20240407_152222_comp_novel_subj_4-2_t5b5_merged.rec\\phy\n",
      "Copied D:\\pc_lab\\RCE\\finished_proc\\phy_curation\\20240407_152222_comp_novel_subj_4-2_t5b5_merged.rec\\phy to C:\\Users\\short\\Documents\\GitHub\\npc_playground\\recordings\\Cohort3\\all\\20240407_152222_comp_novel_subj_4-2_t5b5_merged.rec\\phy\n",
      "Copied D:\\pc_lab\\RCE\\finished_proc\\phy_curation\\20240323_122227_alone_comp_subj_5-2_t6b6_merged.rec\\phy to C:\\Users\\short\\Documents\\GitHub\\npc_playground\\recordings\\Cohort3\\alone_comp\\20240323_122227_alone_comp_subj_5-2_t6b6_merged.rec\\phy\n",
      "Copied D:\\pc_lab\\RCE\\finished_proc\\phy_curation\\20240323_122227_alone_comp_subj_5-2_t6b6_merged.rec\\phy to C:\\Users\\short\\Documents\\GitHub\\npc_playground\\recordings\\Cohort3\\all\\20240323_122227_alone_comp_subj_5-2_t6b6_merged.rec\\phy\n",
      "Copied D:\\pc_lab\\RCE\\finished_proc\\phy_curation\\20240406_150017_comp_novel_subj_4-3_t5b5_merged.rec\\phy to C:\\Users\\short\\Documents\\GitHub\\npc_playground\\recordings\\Cohort3\\comp_novel\\20240406_150017_comp_novel_subj_4-3_t5b5_merged.rec\\phy\n",
      "Copied D:\\pc_lab\\RCE\\finished_proc\\phy_curation\\20240406_150017_comp_novel_subj_4-3_t5b5_merged.rec\\phy to C:\\Users\\short\\Documents\\GitHub\\npc_playground\\recordings\\Cohort3\\all\\20240406_150017_comp_novel_subj_4-3_t5b5_merged.rec\\phy\n",
      "Copied D:\\pc_lab\\RCE\\finished_proc\\phy_curation\\20240319_134914_long_comp_subj_3-4_t6b6_merged.rec\\phy to C:\\Users\\short\\Documents\\GitHub\\npc_playground\\recordings\\Cohort3\\long_comp\\20240319_134914_long_comp_subj_3-4_t6b6_merged.rec\\phy\n",
      "Copied D:\\pc_lab\\RCE\\finished_proc\\phy_curation\\20240319_134914_long_comp_subj_3-4_t6b6_merged.rec\\phy to C:\\Users\\short\\Documents\\GitHub\\npc_playground\\recordings\\Cohort3\\all\\20240319_134914_long_comp_subj_3-4_t6b6_merged.rec\\phy\n",
      "Copied D:\\pc_lab\\RCE\\finished_proc\\phy_curation\\20240406_150017_comp_novel_subj_4-4_t6b6_merged.rec\\phy to C:\\Users\\short\\Documents\\GitHub\\npc_playground\\recordings\\Cohort3\\comp_novel\\20240406_150017_comp_novel_subj_4-4_t6b6_merged.rec\\phy\n",
      "Copied D:\\pc_lab\\RCE\\finished_proc\\phy_curation\\20240406_150017_comp_novel_subj_4-4_t6b6_merged.rec\\phy to C:\\Users\\short\\Documents\\GitHub\\npc_playground\\recordings\\Cohort3\\all\\20240406_150017_comp_novel_subj_4-4_t6b6_merged.rec\\phy\n",
      "Copied D:\\pc_lab\\RCE\\finished_proc\\phy_curation\\20240408_155308_comp_novel_subj_5-2_t4b4_merged.rec\\phy to C:\\Users\\short\\Documents\\GitHub\\npc_playground\\recordings\\Cohort3\\comp_novel\\20240408_155308_comp_novel_subj_5-2_t4b4_merged.rec\\phy\n",
      "Copied D:\\pc_lab\\RCE\\finished_proc\\phy_curation\\20240408_155308_comp_novel_subj_5-2_t4b4_merged.rec\\phy to C:\\Users\\short\\Documents\\GitHub\\npc_playground\\recordings\\Cohort3\\all\\20240408_155308_comp_novel_subj_5-2_t4b4_merged.rec\\phy\n",
      "Copied D:\\pc_lab\\RCE\\finished_proc\\phy_curation\\20240408_155308_comp_novel_subj_5-3_t3b3_merged.rec\\phy to C:\\Users\\short\\Documents\\GitHub\\npc_playground\\recordings\\Cohort3\\comp_novel\\20240408_155308_comp_novel_subj_5-3_t3b3_merged.rec\\phy\n",
      "Copied D:\\pc_lab\\RCE\\finished_proc\\phy_curation\\20240408_155308_comp_novel_subj_5-3_t3b3_merged.rec\\phy to C:\\Users\\short\\Documents\\GitHub\\npc_playground\\recordings\\Cohort3\\all\\20240408_155308_comp_novel_subj_5-3_t3b3_merged.rec\\phy\n",
      "Copied D:\\pc_lab\\RCE\\finished_proc\\phy_curation\\20240407_152222_comp_novel_subj_4-3_t6b6_merged.rec\\phy to C:\\Users\\short\\Documents\\GitHub\\npc_playground\\recordings\\Cohort3\\comp_novel\\20240407_152222_comp_novel_subj_4-3_t6b6_merged.rec\\phy\n",
      "Copied D:\\pc_lab\\RCE\\finished_proc\\phy_curation\\20240407_152222_comp_novel_subj_4-3_t6b6_merged.rec\\phy to C:\\Users\\short\\Documents\\GitHub\\npc_playground\\recordings\\Cohort3\\all\\20240407_152222_comp_novel_subj_4-3_t6b6_merged.rec\\phy\n",
      "Copied D:\\pc_lab\\RCE\\finished_proc\\phy_curation\\20240318_143819_long_comp_subj_3-4_t5b5_merged.rec\\phy to C:\\Users\\short\\Documents\\GitHub\\npc_playground\\recordings\\Cohort3\\long_comp\\20240318_143819_long_comp_subj_3-4_t5b5_merged.rec\\phy\n",
      "Copied D:\\pc_lab\\RCE\\finished_proc\\phy_curation\\20240318_143819_long_comp_subj_3-4_t5b5_merged.rec\\phy to C:\\Users\\short\\Documents\\GitHub\\npc_playground\\recordings\\Cohort3\\all\\20240318_143819_long_comp_subj_3-4_t5b5_merged.rec\\phy\n",
      "Copied D:\\pc_lab\\RCE\\finished_proc\\phy_curation\\20240408_155308_comp_novel_subj_3-4_t6b6_merged.rec\\phy to C:\\Users\\short\\Documents\\GitHub\\npc_playground\\recordings\\Cohort3\\comp_novel\\20240408_155308_comp_novel_subj_3-4_t6b6_merged.rec\\phy\n",
      "Copied D:\\pc_lab\\RCE\\finished_proc\\phy_curation\\20240408_155308_comp_novel_subj_3-4_t6b6_merged.rec\\phy to C:\\Users\\short\\Documents\\GitHub\\npc_playground\\recordings\\Cohort3\\all\\20240408_155308_comp_novel_subj_3-4_t6b6_merged.rec\\phy\n",
      "Copied D:\\pc_lab\\RCE\\finished_proc\\phy_curation\\20240320_171038_alone_comp_subj_4-2_t6b6_merged.rec\\phy to C:\\Users\\short\\Documents\\GitHub\\npc_playground\\recordings\\Cohort3\\alone_comp\\20240320_171038_alone_comp_subj_4-2_t6b6_merged.rec\\phy\n",
      "Copied D:\\pc_lab\\RCE\\finished_proc\\phy_curation\\20240320_171038_alone_comp_subj_4-2_t6b6_merged.rec\\phy to C:\\Users\\short\\Documents\\GitHub\\npc_playground\\recordings\\Cohort3\\all\\20240320_171038_alone_comp_subj_4-2_t6b6_merged.rec\\phy\n",
      "Copied D:\\pc_lab\\RCE\\finished_proc\\phy_curation\\20240409_142051_comp_novel_subj_4-3_t5b5_merged.rec\\phy to C:\\Users\\short\\Documents\\GitHub\\npc_playground\\recordings\\Cohort3\\comp_novel\\20240409_142051_comp_novel_subj_4-3_t5b5_merged.rec\\phy\n",
      "Copied D:\\pc_lab\\RCE\\finished_proc\\phy_curation\\20240409_142051_comp_novel_subj_4-3_t5b5_merged.rec\\phy to C:\\Users\\short\\Documents\\GitHub\\npc_playground\\recordings\\Cohort3\\all\\20240409_142051_comp_novel_subj_4-3_t5b5_merged.rec\\phy\n",
      "Copied D:\\pc_lab\\RCE\\finished_proc\\phy_curation\\20240409_142051_comp_novel_subj_4-4_t6b6_merged.rec\\phy to C:\\Users\\short\\Documents\\GitHub\\npc_playground\\recordings\\Cohort3\\comp_novel\\20240409_142051_comp_novel_subj_4-4_t6b6_merged.rec\\phy\n",
      "Copied D:\\pc_lab\\RCE\\finished_proc\\phy_curation\\20240409_142051_comp_novel_subj_4-4_t6b6_merged.rec\\phy to C:\\Users\\short\\Documents\\GitHub\\npc_playground\\recordings\\Cohort3\\all\\20240409_142051_comp_novel_subj_4-4_t6b6_merged.rec\\phy\n"
     ]
    }
   ],
   "source": [
    "import os\n",
    "import shutil\n",
    "\n",
    "def copy_required_files(src_root, dest_root, required_files):\n",
    "    # Create the 'all' directory to store all files\n",
    "    all_dest_dir = os.path.join(dest_root, 'all')\n",
    "    os.makedirs(all_dest_dir, exist_ok=True)\n",
    "\n",
    "    for root, dirs, files in os.walk(src_root):\n",
    "        if os.path.basename(root) == 'phy':\n",
    "            # Check if all required files are present in the current 'phy' directory\n",
    "            if all(file in files for file in required_files):\n",
    "                # Get the directory name just above 'phy'\n",
    "                dir_name = os.path.basename(os.path.dirname(root))\n",
    "                # Split the directory name by underscores\n",
    "                parts = dir_name.split('_')\n",
    "                # Find the index where 'subj' appears\n",
    "                subj_index = next((i for i, part in enumerate(parts) if \"subj\" in part), None)\n",
    "                if subj_index and len(parts) > 3:\n",
    "                    custom_category = '_'.join(parts[2:subj_index])  # Corrected to start from the element after the second underscore\n",
    "\n",
    "                    # Destination directories based on category and 'all', with 'phy' folder included\n",
    "                    category_dest_dir = os.path.join(dest_root, custom_category, dir_name, 'phy')\n",
    "                    all_category_dest_dir = os.path.join(all_dest_dir, dir_name, 'phy')\n",
    "                    dest_dirs = [category_dest_dir, all_category_dest_dir]\n",
    "\n",
    "                    for dest_dir in dest_dirs:\n",
    "                        # Create the destination directory if it doesn't exist\n",
    "                        os.makedirs(dest_dir, exist_ok=True)\n",
    "\n",
    "                        # Copy the required files to the destination directories\n",
    "                        for file in required_files:\n",
    "                            src_file = os.path.join(root, file)\n",
    "                            dest_file = os.path.join(dest_dir, file)\n",
    "                            shutil.copy2(src_file, dest_file)\n",
    "                        print(f\"Copied {root} to {dest_dir}\")\n",
    "\n",
    "# Define source and destination directories\n",
    "src_root = r'D:\\pc_lab\\RCE\\finished_proc\\phy_curation'\n",
    "dest_root = r'C:\\Users\\short\\Documents\\GitHub\\npc_playground\\recordings\\Cohort3'\n",
    "\n",
    "# Define the required files to be copied\n",
    "required_files = ['cluster_group.tsv', 'spike_clusters.npy', 'spike_times.npy']\n",
    "\n",
    "# Call the function to start the copying process\n",
    "copy_required_files(src_root, dest_root, required_files)"
   ]
  },
  {
   "cell_type": "code",
   "execution_count": null,
   "id": "7a455c53-c9ae-46ff-b652-4e80eec07c50",
   "metadata": {},
   "outputs": [],
   "source": []
  }
 ],
 "metadata": {
  "kernelspec": {
   "display_name": "Python 3 (ipykernel)",
   "language": "python",
   "name": "python3"
  },
  "language_info": {
   "codemirror_mode": {
    "name": "ipython",
    "version": 3
   },
   "file_extension": ".py",
   "mimetype": "text/x-python",
   "name": "python",
   "nbconvert_exporter": "python",
   "pygments_lexer": "ipython3",
   "version": "3.10.14"
  }
 },
 "nbformat": 4,
 "nbformat_minor": 5
}
