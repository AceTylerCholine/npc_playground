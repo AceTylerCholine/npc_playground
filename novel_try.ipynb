{
 "cells": [
  {
   "cell_type": "markdown",
   "id": "38feb008-0c7c-49a7-b2e3-d4d997e97f7c",
   "metadata": {},
   "source": [
    "# Goal with this notebook is to figure out how to make the dictionaries for novel"
   ]
  },
  {
   "cell_type": "code",
   "execution_count": 1,
   "id": "e731a7d9-bb44-4804-a298-7932977ad6f6",
   "metadata": {
    "execution": {
     "iopub.execute_input": "2024-06-07T20:45:29.042422Z",
     "iopub.status.busy": "2024-06-07T20:45:29.042422Z",
     "iopub.status.idle": "2024-06-07T20:45:33.984722Z",
     "shell.execute_reply": "2024-06-07T20:45:33.984722Z",
     "shell.execute_reply.started": "2024-06-07T20:45:29.042422Z"
    }
   },
   "outputs": [],
   "source": [
    "import pandas as pd\n",
    "import numpy as np\n",
    "import ast\n",
    "from pathlib import Path\n",
    "import multirecording_spikeanalysis as spike"
   ]
  },
  {
   "cell_type": "code",
   "execution_count": 2,
   "id": "5263c293-980e-4aa7-a075-17028215241d",
   "metadata": {
    "execution": {
     "iopub.execute_input": "2024-06-07T20:45:33.984722Z",
     "iopub.status.busy": "2024-06-07T20:45:33.984722Z",
     "iopub.status.idle": "2024-06-07T20:45:35.372351Z",
     "shell.execute_reply": "2024-06-07T20:45:35.372351Z",
     "shell.execute_reply.started": "2024-06-07T20:45:33.984722Z"
    }
   },
   "outputs": [],
   "source": [
    "cols = ['condition ', 'session_dir', 'all_subjects', 'tone_start_timestamp', 'tone_stop_timestamp']\n",
    "\n",
    "# Load the data\n",
    "df = pd.read_excel('rce_pilot_2_per_video_trial_labels.xlsx', usecols=cols, engine='openpyxl')\n",
    "\n",
    "df2 = df.dropna() # Drop the rows missing data\n",
    "df3 = df2.copy()\n",
    "df3['all_subjects'] = df3['all_subjects'].apply(lambda x: ast.literal_eval(x) if isinstance(x, str) else x) # Make the 'all_subjects' column readable as a list\n",
    "df4 = df3[df3['all_subjects'].apply(lambda x: len(x) < 3)] # Ignore novel sessions for now\n",
    "\n",
    "# Initialize an empty list to collect data for the new DataFrame\n",
    "new_df_data = []\n",
    "\n",
    "for _, row in df4.iterrows():\n",
    "    session_dir = row['session_dir']\n",
    "    subjects = row['all_subjects']\n",
    "    condition = row['condition ']\n",
    "\n",
    "    # Split session_dir on '_subj_' and take the first part only\n",
    "    # This ensures everything after '_subj_' is ignored\n",
    "    base_session_dir = session_dir.split('_subj_')[0]\n",
    "\n",
    "    for subject in subjects:\n",
    "        subject_formatted = subject.replace('.', '-')\n",
    "        # Append formatted subject to the base session_dir correctly\n",
    "        subj_recording = f\"{base_session_dir}_subj_{subject_formatted}\"\n",
    "        new_df_data.append({\n",
    "            'session_dir': session_dir,\n",
    "            'subject': subject,\n",
    "            'subj_recording': subj_recording,\n",
    "            'condition': condition if condition in ['rewarded', 'omission', 'both_rewarded', 'tie'] else ('win' if str(condition) == str(subject) else 'lose'),\n",
    "            'tone_start_timestamp': row['tone_start_timestamp'],\n",
    "            'tone_stop_timestamp': row['tone_stop_timestamp']\n",
    "        })\n",
    "\n",
    "# Convert list to DataFrame\n",
    "new_df = pd.DataFrame(new_df_data)\n",
    "new_df = new_df.drop_duplicates()"
   ]
  },
  {
   "cell_type": "code",
   "execution_count": 3,
   "id": "180978c3-4713-48f7-ab83-dc5ee61c1351",
   "metadata": {
    "execution": {
     "iopub.execute_input": "2024-06-07T20:45:35.372351Z",
     "iopub.status.busy": "2024-06-07T20:45:35.372351Z",
     "iopub.status.idle": "2024-06-07T20:45:35.485244Z",
     "shell.execute_reply": "2024-06-07T20:45:35.485244Z",
     "shell.execute_reply.started": "2024-06-07T20:45:35.372351Z"
    }
   },
   "outputs": [],
   "source": [
    "# Prepare timestamp_dicts from new_df\n",
    "timestamp_dicts = {}\n",
    "for _, row in new_df.iterrows():\n",
    "    key = row['subj_recording']\n",
    "    condition = row['condition']\n",
    "    timestamp_start = int(row['tone_start_timestamp']) // 20\n",
    "    timestamp_end = int(row['tone_stop_timestamp']) // 20\n",
    "    tuple_val = (timestamp_start, timestamp_end)\n",
    "\n",
    "    if key not in timestamp_dicts:\n",
    "        timestamp_dicts[key] = {cond: [] for cond in ['rewarded', 'win', 'lose', 'omission', 'both_rewarded', 'tie']}\n",
    "    timestamp_dicts[key][condition].append(tuple_val)\n",
    "\n",
    "# Convert lists in timestamp_dicts to numpy arrays\n",
    "for subj_recording in timestamp_dicts:\n",
    "    for condition in timestamp_dicts[subj_recording]:\n",
    "        timestamp_dicts[subj_recording][condition] = np.array(timestamp_dicts[subj_recording][condition], dtype=np.int64)"
   ]
  },
  {
   "cell_type": "code",
   "execution_count": 8,
   "id": "6bc2e802-426f-4595-9097-3b43f8020d5f",
   "metadata": {
    "execution": {
     "iopub.execute_input": "2024-06-07T20:45:49.225435Z",
     "iopub.status.busy": "2024-06-07T20:45:49.225435Z",
     "iopub.status.idle": "2024-06-07T20:46:12.942142Z",
     "shell.execute_reply": "2024-06-07T20:46:12.942142Z",
     "shell.execute_reply.started": "2024-06-07T20:45:49.225435Z"
    }
   },
   "outputs": [
    {
     "name": "stdout",
     "output_type": "stream",
     "text": [
      "<class 'numpy.ndarray'>\n",
      "20230628_111202_standard_comp_to_novel_agent_D1_subj_1-1vs1-2and2-2_merged.rec\n",
      "<class 'numpy.ndarray'>\n",
      "20230628_111202_standard_comp_to_novel_agent_D1_subj_1-2vs1-1and2-1_merged.rec\n",
      "<class 'numpy.ndarray'>\n",
      "20230629_111937_standard_comp_to_novel_agent_D2_subj_1-1v1-4and2-1_merged.rec\n",
      "<class 'numpy.ndarray'>\n",
      "20230629_111937_standard_comp_to_novel_agent_D2_subj_1-4vs1-1and2-2_merged.rec\n",
      "<class 'numpy.ndarray'>\n",
      "20230630_115506_standard_comp_to_novel_agent_D3_subj_1-4vs1-2and2-1_merged_merged.rec\n",
      "Please assign event dictionaries to each recording\n",
      "as recording.event_dict\n",
      "event_dict = {event name(str): np.array[[start(ms), stop(ms)]...]\n",
      "Please assign subjects to each recording as recording.subject\n"
     ]
    }
   ],
   "source": [
    "# Construct the path in a platform-independent way (HiPerGator or Windows)\n",
    "ephys_path = Path('.') / 'recordings' / 'updated_phys' / 'novel'\n",
    "\n",
    "ephys_data = spike.EphysRecordingCollection(str(ephys_path))"
   ]
  },
  {
   "cell_type": "code",
   "execution_count": 9,
   "id": "4a203a56-5a57-4608-a663-aee7252f6596",
   "metadata": {
    "execution": {
     "iopub.execute_input": "2024-06-07T20:46:12.942142Z",
     "iopub.status.busy": "2024-06-07T20:46:12.942142Z",
     "iopub.status.idle": "2024-06-07T20:46:12.956227Z",
     "shell.execute_reply": "2024-06-07T20:46:12.956227Z",
     "shell.execute_reply.started": "2024-06-07T20:46:12.942142Z"
    }
   },
   "outputs": [],
   "source": [
    "for recording in ephys_data.collection.keys():\n",
    "    # Check if the recording key (without everything after subject #) is in timestamp_dicts\n",
    "    start_pos = recording.find('subj_')\n",
    "    # Add the length of 'subj_' and 3 additional characters to include after 'subj_'\n",
    "    end_pos = start_pos + len('subj_') + 3\n",
    "    # Slice the recording key to get everything up to and including the subject identifier plus three characters\n",
    "    recording_key_without_suffix = recording[:end_pos]\n",
    "    if recording_key_without_suffix in timestamp_dicts:\n",
    "        # Assign the corresponding timestamp_dicts dictionary to event_dict\n",
    "        ephys_data.collection[recording].event_dict = timestamp_dicts[recording_key_without_suffix]\n",
    "        \n",
    "        # Extract the subject from the recording key\n",
    "        start = recording.find('subj_') + 5  # Start index after 'subj_'\n",
    "        subject = recording[start:start+3]\n",
    "        \n",
    "        # Assign the extracted subject\n",
    "        ephys_data.collection[recording].subject = subject"
   ]
  },
  {
   "cell_type": "code",
   "execution_count": 10,
   "id": "85f70916-3c37-4890-9250-5a27efbb07fe",
   "metadata": {
    "execution": {
     "iopub.execute_input": "2024-06-07T20:46:12.956227Z",
     "iopub.status.busy": "2024-06-07T20:46:12.956227Z",
     "iopub.status.idle": "2024-06-07T20:46:12.967177Z",
     "shell.execute_reply": "2024-06-07T20:46:12.967177Z",
     "shell.execute_reply.started": "2024-06-07T20:46:12.956227Z"
    }
   },
   "outputs": [
    {
     "name": "stdout",
     "output_type": "stream",
     "text": [
      "These recordings are missing event dictionaries:\n",
      "['20230628_111202_standard_comp_to_novel_agent_D1_subj_1-1vs1-2and2-2_merged.rec', '20230628_111202_standard_comp_to_novel_agent_D1_subj_1-2vs1-1and2-1_merged.rec', '20230629_111937_standard_comp_to_novel_agent_D2_subj_1-1v1-4and2-1_merged.rec', '20230629_111937_standard_comp_to_novel_agent_D2_subj_1-4vs1-1and2-2_merged.rec', '20230630_115506_standard_comp_to_novel_agent_D3_subj_1-4vs1-2and2-1_merged_merged.rec']\n",
      "These recordings are missing subjects: ['20230628_111202_standard_comp_to_novel_agent_D1_subj_1-1vs1-2and2-2_merged.rec', '20230628_111202_standard_comp_to_novel_agent_D1_subj_1-2vs1-1and2-1_merged.rec', '20230629_111937_standard_comp_to_novel_agent_D2_subj_1-1v1-4and2-1_merged.rec', '20230629_111937_standard_comp_to_novel_agent_D2_subj_1-4vs1-1and2-2_merged.rec', '20230630_115506_standard_comp_to_novel_agent_D3_subj_1-4vs1-2and2-1_merged_merged.rec']\n"
     ]
    }
   ],
   "source": [
    "spike_analysis = spike.SpikeAnalysis_MultiRecording(ephys_data, timebin = 1, ignore_freq = 0.5)"
   ]
  },
  {
   "cell_type": "code",
   "execution_count": 11,
   "id": "bf068fa6-5584-4e2f-905e-a4b26f532766",
   "metadata": {
    "execution": {
     "iopub.execute_input": "2024-06-07T20:46:12.967177Z",
     "iopub.status.busy": "2024-06-07T20:46:12.967177Z",
     "iopub.status.idle": "2024-06-07T20:46:13.172718Z",
     "shell.execute_reply": "2024-06-07T20:46:13.172718Z",
     "shell.execute_reply.started": "2024-06-07T20:46:12.967177Z"
    }
   },
   "outputs": [
    {
     "ename": "AttributeError",
     "evalue": "'NoneType' object has no attribute 'event_dict'",
     "output_type": "error",
     "traceback": [
      "\u001b[1;31m---------------------------------------------------------------------------\u001b[0m",
      "\u001b[1;31mAttributeError\u001b[0m                            Traceback (most recent call last)",
      "Cell \u001b[1;32mIn[11], line 4\u001b[0m\n\u001b[0;32m      2\u001b[0m recording_name \u001b[38;5;241m=\u001b[39m \u001b[38;5;124m'\u001b[39m\u001b[38;5;124m20230622_110832_standard_comp_to_both_rewarded_D1_subj_1-1_t1b3L_box1_merged.rec\u001b[39m\u001b[38;5;124m'\u001b[39m\n\u001b[0;32m      3\u001b[0m recording1 \u001b[38;5;241m=\u001b[39m recordings\u001b[38;5;241m.\u001b[39mget(recording_name)\n\u001b[1;32m----> 4\u001b[0m \u001b[43mrecording1\u001b[49m\u001b[38;5;241;43m.\u001b[39;49m\u001b[43mevent_dict\u001b[49m\n",
      "\u001b[1;31mAttributeError\u001b[0m: 'NoneType' object has no attribute 'event_dict'"
     ]
    }
   ],
   "source": [
    "recordings = spike_analysis.ephyscollection.collection\n",
    "recording_name = '20230622_110832_standard_comp_to_both_rewarded_D1_subj_1-1_t1b3L_box1_merged.rec'\n",
    "recording1 = recordings.get(recording_name)\n",
    "recording1.event_dict"
   ]
  },
  {
   "cell_type": "code",
   "execution_count": null,
   "id": "59445aaa-d74d-4864-b6e9-7bdfaf6bcccf",
   "metadata": {},
   "outputs": [],
   "source": []
  }
 ],
 "metadata": {
  "kernelspec": {
   "display_name": "Python 3 (ipykernel)",
   "language": "python",
   "name": "python3"
  },
  "language_info": {
   "codemirror_mode": {
    "name": "ipython",
    "version": 3
   },
   "file_extension": ".py",
   "mimetype": "text/x-python",
   "name": "python",
   "nbconvert_exporter": "python",
   "pygments_lexer": "ipython3",
   "version": "3.12.3"
  }
 },
 "nbformat": 4,
 "nbformat_minor": 5
}
