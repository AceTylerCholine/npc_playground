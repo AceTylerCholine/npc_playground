{
 "cells": [
  {
   "cell_type": "code",
   "execution_count": 10,
   "id": "f2da1d4d-5c85-478f-b11f-0c37c46ade70",
   "metadata": {
    "tags": []
   },
   "outputs": [],
   "source": [
    "import pickle\n",
    "import multirecording_spikeanalysis as spike\n",
    "import pandas as pd\n",
    "import numpy as np"
   ]
  },
  {
   "cell_type": "code",
   "execution_count": 11,
   "id": "71b5085c-1f37-4026-ba56-5a82f2bb0dda",
   "metadata": {
    "tags": []
   },
   "outputs": [
    {
     "name": "stdout",
     "output_type": "stream",
     "text": [
      "Please assign event dictionaries to each recording\n",
      "as recording.event_dict\n",
      "event_dict = {event name(str): np.array[[start(ms), stop(ms)]...]\n",
      "Please assign subjects to each recording as recording.subject\n"
     ]
    }
   ],
   "source": [
    "rcecollection = spike.EphysRecordingCollection(r'.\\export\\finished_curation')"
   ]
  },
  {
   "cell_type": "code",
   "execution_count": 3,
   "id": "413d3169-f5a9-45b1-98f2-5f79ad0a76f5",
   "metadata": {
    "tags": []
   },
   "outputs": [],
   "source": [
    "dftones = pd.read_excel('rce_pilot_2_per_video_trial_labels.xlsx')"
   ]
  },
  {
   "cell_type": "code",
   "execution_count": 7,
   "id": "b2ed5d8e-7d88-4ee3-a574-d3f0124344aa",
   "metadata": {
    "tags": []
   },
   "outputs": [],
   "source": [
    "recording_dictionaries = {}\n",
    "\n",
    "for session_dir in dftones['session_dir'].unique():\n",
    "    # Extract rows for the current session_dir\n",
    "    session_rows = dftones[dftones['session_dir'] == session_dir]\n",
    "    \n",
    "    # Create a NumPy array of len-2 arrays for start and stop timestamps\n",
    "    timestamps_array = np.array(list(zip(session_rows['tone_start_timestamp'], session_rows['tone_stop_timestamp'])))\n",
    "    \n",
    "    # Create a dictionary for each video_name with tone_timestamps as the key\n",
    "    recording_dictionaries[session_dir] = {'tone_timestamps': timestamps_array}\n",
    "    \n",
    "# Identify keys to remove, including both the NaN key and the 2nd video for each recording\n",
    "keys_to_remove = [key for key in recording_dictionaries.keys() if (isinstance(key, float) and np.isnan(key))]\n",
    "\n",
    "# Remove the identified keys\n",
    "for key in keys_to_remove:\n",
    "    del recording_dictionaries[key]"
   ]
  },
  {
   "cell_type": "code",
   "execution_count": 16,
   "id": "cd5476c4-b016-47e5-bf9f-63966a6d55ab",
   "metadata": {
    "tags": []
   },
   "outputs": [
    {
     "name": "stdout",
     "output_type": "stream",
     "text": [
      " \u001b[0m\u001b[01;34mexport\u001b[0m/                           rce_pilot_2_per_video_trial_labels.xlsx\n",
      " multirecording_spikeanalysis.py  'recording_to_label_to_timestamps 1.pkl'\n",
      " \u001b[01;34mold_notebooks\u001b[0m/                    recording_to_label_to_timestamps.pkl\n",
      " \u001b[01;34m__pycache__\u001b[0m/                      Untitled2.ipynb\n"
     ]
    }
   ],
   "source": [
    "ls"
   ]
  },
  {
   "cell_type": "code",
   "execution_count": 17,
   "id": "f6473078-2d08-4b6b-bf4b-3a7ad28e344d",
   "metadata": {
    "tags": []
   },
   "outputs": [
    {
     "name": "stdout",
     "output_type": "stream",
     "text": [
      "/blue/npadillacoreano/cshort1/projects/reward_comp/repos/npc_playground/export\n"
     ]
    }
   ],
   "source": [
    "cd export"
   ]
  },
  {
   "cell_type": "code",
   "execution_count": 18,
   "id": "341163df-4e18-4a0e-9125-cc2b2dcd1775",
   "metadata": {
    "tags": []
   },
   "outputs": [
    {
     "name": "stdout",
     "output_type": "stream",
     "text": [
      "\u001b[0m\u001b[01;34m20230617_115521_standard_comp_to_omission_D1_subj_1-2_t2b2L_box2_merged.rec\u001b[0m/\n",
      "\u001b[01;34mfinished_curation\u001b[0m/\n"
     ]
    }
   ],
   "source": [
    "ls"
   ]
  },
  {
   "cell_type": "code",
   "execution_count": 19,
   "id": "36b41b91-6a4f-4122-a21a-03c97fa56243",
   "metadata": {
    "tags": []
   },
   "outputs": [
    {
     "name": "stdout",
     "output_type": "stream",
     "text": [
      "<class 'numpy.ndarray'>\n",
      "<class 'numpy.ndarray'>\n",
      "20230628_111202_standard_comp_to_novel_agent_D1_subj_1-1vs1-2and2-2_merged.rec\n",
      "<class 'numpy.ndarray'>\n",
      "<class 'numpy.ndarray'>\n",
      "20230629_111937_standard_comp_to_novel_agent_D2_subj_1-1v1-4and2-1_merged.rec\n",
      "<class 'numpy.ndarray'>\n",
      "<class 'numpy.ndarray'>\n",
      "20230620_114347_standard_comp_to_omission_D4_subj_1-2_t3b3L_box_1_merged.rec\n",
      "<class 'numpy.ndarray'>\n",
      "<class 'numpy.ndarray'>\n",
      "Unit 96 is unsorted & has 5811 spikes\n",
      "Unit 96 will be deleted\n",
      "Unit 95 is unsorted & has 6458 spikes\n",
      "Unit 95 will be deleted\n",
      "20230625_112913_standard_comp_to_both_rewarded_D4_subj_1-4_t3b3L_box1_merged.rec\n",
      "<class 'numpy.ndarray'>\n",
      "<class 'numpy.ndarray'>\n",
      "20230621_111240_standard_comp_to_omission_D5_subj_1-4_t3b3L_box1_merged.rec\n",
      "<class 'numpy.ndarray'>\n",
      "<class 'numpy.ndarray'>\n",
      "20230618_100636_standard_comp_to_omission_D2_subj_1_1_t1b2L_box2_merged.rec\n",
      "<class 'numpy.ndarray'>\n",
      "<class 'numpy.ndarray'>\n",
      "20230617_115521_standard_comp_to_omission_D1_subj_1-1_t1b3L_box1_merged.rec\n",
      "<class 'numpy.ndarray'>\n",
      "<class 'numpy.ndarray'>\n",
      "20230619_115321_standard_comp_to_omission_D3_subj_1-4_t3b3L_box2_merged.rec\n",
      "<class 'numpy.ndarray'>\n",
      "<class 'numpy.ndarray'>\n",
      "20230625_112913_standard_comp_to_both_rewarded_D4_subj_1-1_t1b2L_box1_merged.rec\n",
      "<class 'numpy.ndarray'>\n",
      "<class 'numpy.ndarray'>\n",
      "Unit 151 is unsorted & has 8528 spikes\n",
      "Unit 151 will be deleted\n",
      "20230628_111202_standard_comp_to_novel_agent_D1_subj_1-2vs1-1and2-1_merged.rec\n",
      "<class 'numpy.ndarray'>\n",
      "<class 'numpy.ndarray'>\n",
      "20230612_101430_standard_comp_to_training_D1_subj_1-3_t3b3L_box2_merged.rec\n",
      "<class 'numpy.ndarray'>\n",
      "<class 'numpy.ndarray'>\n",
      "Unit 92 is unsorted & has 2494 spikes\n",
      "Unit 92 will be deleted\n",
      "20230622_110832_standard_comp_to_both_rewarded_D1_subj_1-1_t1b3L_box1_merged.rec\n",
      "<class 'numpy.ndarray'>\n",
      "<class 'numpy.ndarray'>\n",
      "20230629_111937_standard_comp_to_novel_agent_D2_subj_1-4vs1-1and2-2_merged.rec\n",
      "<class 'numpy.ndarray'>\n",
      "<class 'numpy.ndarray'>\n",
      "20230618_100636_standard_comp_to_omission_D2_subj_1_4_t4b3L_box1_merged.rec\n",
      "<class 'numpy.ndarray'>\n",
      "<class 'numpy.ndarray'>\n",
      "Unit 103 is unsorted & has 512 spikes\n",
      "Unit 103 will be deleted\n",
      "20230622_110832_standard_comp_to_both_rewarded_D1_subj_1-2_t3b3L_box1_merged.rec\n",
      "<class 'numpy.ndarray'>\n",
      "<class 'numpy.ndarray'>\n",
      "20230624_105855_standard_comp_to_both_rewarded_D3_subj_1-1_t1b2L_box1_merged.rec\n",
      "<class 'numpy.ndarray'>\n",
      "<class 'numpy.ndarray'>\n",
      "20230630_115506_standard_comp_to_novel_agent_D3_subj_1-4vs1-2and2-1_merged_merged.rec\n",
      "<class 'numpy.ndarray'>\n",
      "<class 'numpy.ndarray'>\n",
      "20230624_105855_standard_comp_to_both_rewarded_D3_subj_1-4_t3b3L_box1_merged.rec\n",
      "<class 'numpy.ndarray'>\n",
      "<class 'numpy.ndarray'>\n",
      "20230620_114347_standard_comp_to_omission_D4_subj_1-1_t1b2L_box_2_merged.rec\n",
      "Please assign event dictionaries to each recording\n",
      "as recording.event_dict\n",
      "event_dict = {event name(str): np.array[[start(ms), stop(ms)]...]\n",
      "Please assign subjects to each recording as recording.subject\n"
     ]
    }
   ],
   "source": [
    "rcecollection = spike.EphysRecordingCollection('finished_curation')"
   ]
  },
  {
   "cell_type": "code",
   "execution_count": 24,
   "id": "00847f99-fe5b-4c06-9ede-d2d05dc839b1",
   "metadata": {
    "tags": []
   },
   "outputs": [
    {
     "name": "stdout",
     "output_type": "stream",
     "text": [
      "20230628_111202_standard_comp_to_novel_agent_D1_subj_1-1vs1-2and2-2_merged.rec\n",
      "20230629_111937_standard_comp_to_novel_agent_D2_subj_1-1v1-4and2-1_merged.rec\n",
      "20230620_114347_standard_comp_to_omission_D4_subj_1-2_t3b3L_box_1_merged.rec\n",
      "20230625_112913_standard_comp_to_both_rewarded_D4_subj_1-4_t3b3L_box1_merged.rec\n",
      "20230621_111240_standard_comp_to_omission_D5_subj_1-4_t3b3L_box1_merged.rec\n",
      "20230618_100636_standard_comp_to_omission_D2_subj_1_1_t1b2L_box2_merged.rec\n",
      "20230617_115521_standard_comp_to_omission_D1_subj_1-1_t1b3L_box1_merged.rec\n",
      "20230619_115321_standard_comp_to_omission_D3_subj_1-4_t3b3L_box2_merged.rec\n",
      "20230625_112913_standard_comp_to_both_rewarded_D4_subj_1-1_t1b2L_box1_merged.rec\n",
      "20230628_111202_standard_comp_to_novel_agent_D1_subj_1-2vs1-1and2-1_merged.rec\n",
      "20230612_101430_standard_comp_to_training_D1_subj_1-3_t3b3L_box2_merged.rec\n",
      "20230622_110832_standard_comp_to_both_rewarded_D1_subj_1-1_t1b3L_box1_merged.rec\n",
      "20230629_111937_standard_comp_to_novel_agent_D2_subj_1-4vs1-1and2-2_merged.rec\n",
      "20230618_100636_standard_comp_to_omission_D2_subj_1_4_t4b3L_box1_merged.rec\n",
      "20230622_110832_standard_comp_to_both_rewarded_D1_subj_1-2_t3b3L_box1_merged.rec\n",
      "20230624_105855_standard_comp_to_both_rewarded_D3_subj_1-1_t1b2L_box1_merged.rec\n",
      "20230630_115506_standard_comp_to_novel_agent_D3_subj_1-4vs1-2and2-1_merged_merged.rec\n",
      "20230624_105855_standard_comp_to_both_rewarded_D3_subj_1-4_t3b3L_box1_merged.rec\n",
      "20230620_114347_standard_comp_to_omission_D4_subj_1-1_t1b2L_box_2_merged.rec\n"
     ]
    }
   ],
   "source": [
    "for recording in rcecollection.collection.keys():\n",
    "    print(recording)"
   ]
  },
  {
   "cell_type": "code",
   "execution_count": 20,
   "id": "34174a6a-6142-47e7-b673-0c1aa08b3534",
   "metadata": {
    "tags": []
   },
   "outputs": [
    {
     "name": "stdout",
     "output_type": "stream",
     "text": [
      "/blue/npadillacoreano/cshort1/projects/reward_comp/repos/npc_playground\n"
     ]
    }
   ],
   "source": [
    "cd .."
   ]
  },
  {
   "cell_type": "code",
   "execution_count": 21,
   "id": "6c41d152-6df8-4fb3-bd63-c3070cd326cf",
   "metadata": {
    "tags": []
   },
   "outputs": [
    {
     "name": "stdout",
     "output_type": "stream",
     "text": [
      " \u001b[0m\u001b[01;34mexport\u001b[0m/                           rce_pilot_2_per_video_trial_labels.xlsx\n",
      " multirecording_spikeanalysis.py  'recording_to_label_to_timestamps 1.pkl'\n",
      " \u001b[01;34mold_notebooks\u001b[0m/                    recording_to_label_to_timestamps.pkl\n",
      " \u001b[01;34m__pycache__\u001b[0m/                      Untitled2.ipynb\n"
     ]
    }
   ],
   "source": [
    "ls"
   ]
  },
  {
   "cell_type": "code",
   "execution_count": 22,
   "id": "031d8227-8a30-4e6a-bc13-443d94960f50",
   "metadata": {
    "tags": []
   },
   "outputs": [],
   "source": [
    "times_df = pickle.load(open('recording_to_label_to_timestamps 1.pkl', 'rb'))"
   ]
  },
  {
   "cell_type": "code",
   "execution_count": 26,
   "id": "72244125-d1e0-4dc3-9b83-a2bd5023ec3a",
   "metadata": {
    "tags": []
   },
   "outputs": [
    {
     "data": {
      "text/plain": [
       "{'lose': array([[ 176337,  186337],\n",
       "        [ 291337,  301336],\n",
       "        [ 381336,  391336],\n",
       "        [ 436336,  446336],\n",
       "        [ 486336,  496336],\n",
       "        [ 581336,  591336],\n",
       "        [ 656336,  666336],\n",
       "        [ 761336,  771336],\n",
       "        [ 811336,  821336],\n",
       "        [ 891336,  901336],\n",
       "        [ 956336,  966336],\n",
       "        [1021336, 1031336],\n",
       "        [1071336, 1081336]]),\n",
       " 'rewarded': array([[1856335, 1866335],\n",
       "        [1916335, 1926335],\n",
       "        [1971335, 1981335],\n",
       "        [2036335, 2046335],\n",
       "        [2091334, 2101334],\n",
       "        [2141334, 2151334],\n",
       "        [2191334, 2201334],\n",
       "        [2296334, 2306334],\n",
       "        [2416334, 2426334],\n",
       "        [2536334, 2546334],\n",
       "        [2646334, 2656334],\n",
       "        [2731334, 2741334],\n",
       "        [2851334, 2861334],\n",
       "        [2911334, 2921334],\n",
       "        [2976334, 2986333],\n",
       "        [3036333, 3046333],\n",
       "        [3111333, 3121333],\n",
       "        [3211333, 3221333],\n",
       "        [3306333, 3316333],\n",
       "        [3356333, 3366333]]),\n",
       " 'win': array([[  56337,   66337],\n",
       "        [1141336, 1151336],\n",
       "        [1236335, 1246335],\n",
       "        [1316335, 1326335],\n",
       "        [1386335, 1396335],\n",
       "        [1496335, 1506335],\n",
       "        [1556335, 1566335]])}"
      ]
     },
     "execution_count": 26,
     "metadata": {},
     "output_type": "execute_result"
    }
   ],
   "source": [
    "times_df['20230612_112630_standard_comp_to_training_D1_subj_1-1_t1b3L_box2_merged']"
   ]
  },
  {
   "cell_type": "code",
   "execution_count": 27,
   "id": "e8d5f444-d7c2-4418-ac1b-16727654e52e",
   "metadata": {
    "tags": []
   },
   "outputs": [
    {
     "data": {
      "text/plain": [
       "dict_keys(['20230612_101430_standard_comp_to_training_D1_subj_1-4_and_1-3', '20230612_112630_standard_comp_to_training_D1_subj_1-2_and_1-1', '20230613_105657_standard_comp_to_training_D2_subj_1-1_and_1-4', '20230614_114041_standard_comp_to_training_D3_subj_1-1_and_1-2', '20230616_111904_standard_comp_to_training_D4_subj_1-4_and_1-2', '20230617_115521_standard_comp_to_omission_D1_subj_1-1_and_1-2', '20230618_100636_standard_comp_to_omission_D2_subj_1-4_and_1-1', '20230619_115321_standard_comp_to_omission_D3_subj_1-2_and_1-4', '20230620_114347_standard_comp_to_omission_D4_subj_1-2_and_1-1', '20230621_111240_standard_comp_to_omission_D5_subj_1-4_and_1-2', '20230622_110832_standard_comp_to_both_rewarded_D1_subj_1-1_and_1-2', '20230624_105855_standard_comp_to_both_rewarded_D3_subj_1-2_and_1-4', '20230625_112913_standard_comp_to_both_rewarded_D4_subj_1-1_and_1-4', '20230628_111202_standard_comp_to_novel_agent_D1_subj_1-1vs2-2and1-2vs2-1', '20230629_111937_standard_comp_to_novel_agent_D2_subj_1-1vs2-1and1-4vs2-2', '20230630_115506_standard_comp_to_novel_agent_D3_subj_1-4vs2-1and1-2vs2-2'])"
      ]
     },
     "execution_count": 27,
     "metadata": {},
     "output_type": "execute_result"
    }
   ],
   "source": [
    "# times_df['20230612_112630_standard_comp_to_training_D1_subj_1-1_t1b3L_box2_merged'] = rcecollection.collection['20230612_101430_standard_comp_to_training_D1_subj_1-3_t3b3L_box2_merged.rec']\n",
    "recording_dictionaries.keys()"
   ]
  },
  {
   "cell_type": "code",
   "execution_count": 31,
   "id": "ca43b4b4-4c0f-4882-8b42-58ea4ddb9188",
   "metadata": {
    "tags": []
   },
   "outputs": [
    {
     "data": {
      "text/plain": [
       "dict_keys(['20230612_112630_standard_comp_to_training_D1_subj_1-1_t1b3L_box2_merged', '20230612_112630_standard_comp_to_training_D1_subj_1-2_t2b2L_box1_merged', '20230613_105657_standard_comp_to_training_D2_subj_1-1_t1b2L_box1_merged', '20230613_105657_standard_comp_to_training_D2_subj_1-4_t4b3L_box2_merged', '20230614_114041_standard_comp_to_training_D3_subj_1-1_t1b3L_box1_merged', '20230614_114041_standard_comp_to_training_D3_subj_1-2_t2b2L_box2_merged', '20230616_111904_standard_comp_to_training_D4_subj_1-2_t2b2L_box2_merged', '20230616_111904_standard_comp_to_training_D4_subj_1-4_t4b3L_box1_merged', '20230617_115521_standard_comp_to_omission_D1_subj_1-1_t1b3L_box1_merged', '20230617_115521_standard_comp_to_omission_D1_subj_1-2_t2b2L_box2_merged', '20230618_100636_standard_comp_to_omission_D2_subj_1_1_t1b2L_box2_merged', '20230618_100636_standard_comp_to_omission_D2_subj_1_4_t4b3L_box1_merged', '20230620_114347_standard_comp_to_omission_D4_subj_1-1_t1b2L_box_2_merged', '20230620_114347_standard_comp_to_omission_D4_subj_1-2_t3b3L_box_1_merged', '20230621_111240_standard_comp_to_omission_D5_subj_1-4_t3b3L_box1_merged', '20230622_110832_standard_comp_to_both_rewarded_D1_subj_1-1_t1b3L_box1_merged', '20230622_110832_standard_comp_to_both_rewarded_D1_subj_1-2_t3b3L_box1_merged', '20230624_105855_standard_comp_to_both_rewarded_D3_subj_1-4_t3b3L_box1_merged', '20230625_112913_standard_comp_to_both_rewarded_D4_subj_1-1_t1b2L_box1_merged', '20230625_112913_standard_comp_to_both_rewarded_D4_subj_1-4_t3b3L_box1_merged'])"
      ]
     },
     "execution_count": 31,
     "metadata": {},
     "output_type": "execute_result"
    }
   ],
   "source": [
    "times_df.keys()"
   ]
  },
  {
   "cell_type": "code",
   "execution_count": 33,
   "id": "ded92611-965d-4f2d-a73a-64cb04870ae5",
   "metadata": {
    "tags": []
   },
   "outputs": [
    {
     "name": "stdout",
     "output_type": "stream",
     "text": [
      "Keys unique to times_df: {'20230618_100636_standard_comp_to_omission_D2_subj_1_4_t4b3L_box1_merged', '20230625_112913_standard_comp_to_both_rewarded_D4_subj_1-4_t3b3L_box1_merged', '20230613_105657_standard_comp_to_training_D2_subj_1-4_t4b3L_box2_merged', '20230620_114347_standard_comp_to_omission_D4_subj_1-2_t3b3L_box_1_merged', '20230616_111904_standard_comp_to_training_D4_subj_1-4_t4b3L_box1_merged', '20230624_105855_standard_comp_to_both_rewarded_D3_subj_1-4_t3b3L_box1_merged', '20230612_112630_standard_comp_to_training_D1_subj_1-1_t1b3L_box2_merged', '20230625_112913_standard_comp_to_both_rewarded_D4_subj_1-1_t1b2L_box1_merged', '20230613_105657_standard_comp_to_training_D2_subj_1-1_t1b2L_box1_merged', '20230618_100636_standard_comp_to_omission_D2_subj_1_1_t1b2L_box2_merged', '20230614_114041_standard_comp_to_training_D3_subj_1-1_t1b3L_box1_merged', '20230620_114347_standard_comp_to_omission_D4_subj_1-1_t1b2L_box_2_merged', '20230622_110832_standard_comp_to_both_rewarded_D1_subj_1-1_t1b3L_box1_merged', '20230612_112630_standard_comp_to_training_D1_subj_1-2_t2b2L_box1_merged', '20230621_111240_standard_comp_to_omission_D5_subj_1-4_t3b3L_box1_merged', '20230614_114041_standard_comp_to_training_D3_subj_1-2_t2b2L_box2_merged', '20230616_111904_standard_comp_to_training_D4_subj_1-2_t2b2L_box2_merged', '20230617_115521_standard_comp_to_omission_D1_subj_1-2_t2b2L_box2_merged', '20230622_110832_standard_comp_to_both_rewarded_D1_subj_1-2_t3b3L_box1_merged', '20230617_115521_standard_comp_to_omission_D1_subj_1-1_t1b3L_box1_merged'}\n",
      "\n",
      "Keys unique to recording_dictionaries: {'20230612_101430_standard_comp_to_training_D1_subj_1-4_and_1-3', '20230630_115506_standard_comp_to_novel_agent_D3_subj_1-4vs2-1and1-2vs2-2', '20230621_111240_standard_comp_to_omission_D5_subj_1-4_and_1-2', '20230616_111904_standard_comp_to_training_D4_subj_1-4_and_1-2', '20230613_105657_standard_comp_to_training_D2_subj_1-1_and_1-4', '20230614_114041_standard_comp_to_training_D3_subj_1-1_and_1-2', '20230612_112630_standard_comp_to_training_D1_subj_1-2_and_1-1', '20230619_115321_standard_comp_to_omission_D3_subj_1-2_and_1-4', '20230617_115521_standard_comp_to_omission_D1_subj_1-1_and_1-2', '20230622_110832_standard_comp_to_both_rewarded_D1_subj_1-1_and_1-2', '20230624_105855_standard_comp_to_both_rewarded_D3_subj_1-2_and_1-4', '20230628_111202_standard_comp_to_novel_agent_D1_subj_1-1vs2-2and1-2vs2-1', '20230625_112913_standard_comp_to_both_rewarded_D4_subj_1-1_and_1-4', '20230620_114347_standard_comp_to_omission_D4_subj_1-2_and_1-1', '20230618_100636_standard_comp_to_omission_D2_subj_1-4_and_1-1', '20230629_111937_standard_comp_to_novel_agent_D2_subj_1-1vs2-1and1-4vs2-2'}\n"
     ]
    }
   ],
   "source": [
    "# Compare keys between the adjusted video_dictionaries and video_dictionaries2\n",
    "keys_times_df = set(times_df.keys())\n",
    "keys_recording_dictionaries = set(recording_dictionaries.keys())\n",
    "\n",
    "# Find unique keys in each dictionary\n",
    "unique_to_times_df = keys_times_df - keys_recording_dictionaries\n",
    "unique_to_recording_dictionaries = keys_recording_dictionaries - keys_times_df\n",
    "\n",
    "rce_keys = []\n",
    "for recording in rcecollection.collection.keys():\n",
    "    rce_keys.append(recording)\n",
    "\n",
    "# Print the differences\n",
    "print(\"Keys unique to times_df:\", unique_to_times_df)\n",
    "print(\"\")\n",
    "print(\"Keys unique to recording_dictionaries:\", unique_to_recording_dictionaries)"
   ]
  },
  {
   "cell_type": "code",
   "execution_count": 37,
   "id": "54c659e5-eb5c-4559-92f4-cd1dfdd786ab",
   "metadata": {
    "tags": []
   },
   "outputs": [
    {
     "name": "stdout",
     "output_type": "stream",
     "text": [
      "Keys unique to times_df: {'20230618_100636_standard_comp_to_omission_D2_subj_1_4_t4b3L_box1_merged', '20230625_112913_standard_comp_to_both_rewarded_D4_subj_1-4_t3b3L_box1_merged', '20230613_105657_standard_comp_to_training_D2_subj_1-4_t4b3L_box2_merged', '20230620_114347_standard_comp_to_omission_D4_subj_1-2_t3b3L_box_1_merged', '20230616_111904_standard_comp_to_training_D4_subj_1-4_t4b3L_box1_merged', '20230624_105855_standard_comp_to_both_rewarded_D3_subj_1-4_t3b3L_box1_merged', '20230612_112630_standard_comp_to_training_D1_subj_1-1_t1b3L_box2_merged', '20230625_112913_standard_comp_to_both_rewarded_D4_subj_1-1_t1b2L_box1_merged', '20230613_105657_standard_comp_to_training_D2_subj_1-1_t1b2L_box1_merged', '20230618_100636_standard_comp_to_omission_D2_subj_1_1_t1b2L_box2_merged', '20230614_114041_standard_comp_to_training_D3_subj_1-1_t1b3L_box1_merged', '20230620_114347_standard_comp_to_omission_D4_subj_1-1_t1b2L_box_2_merged', '20230622_110832_standard_comp_to_both_rewarded_D1_subj_1-1_t1b3L_box1_merged', '20230612_112630_standard_comp_to_training_D1_subj_1-2_t2b2L_box1_merged', '20230621_111240_standard_comp_to_omission_D5_subj_1-4_t3b3L_box1_merged', '20230614_114041_standard_comp_to_training_D3_subj_1-2_t2b2L_box2_merged', '20230616_111904_standard_comp_to_training_D4_subj_1-2_t2b2L_box2_merged', '20230617_115521_standard_comp_to_omission_D1_subj_1-2_t2b2L_box2_merged', '20230622_110832_standard_comp_to_both_rewarded_D1_subj_1-2_t3b3L_box1_merged', '20230617_115521_standard_comp_to_omission_D1_subj_1-1_t1b3L_box1_merged'}\n",
      "\n",
      "Keys unique to recording_dictionaries: {'20230612_101430_standard_comp_to_training_D1_subj_1-4_and_1-3', '20230630_115506_standard_comp_to_novel_agent_D3_subj_1-4vs2-1and1-2vs2-2', '20230621_111240_standard_comp_to_omission_D5_subj_1-4_and_1-2', '20230616_111904_standard_comp_to_training_D4_subj_1-4_and_1-2', '20230613_105657_standard_comp_to_training_D2_subj_1-1_and_1-4', '20230612_112630_standard_comp_to_training_D1_subj_1-2_and_1-1', '20230625_112913_standard_comp_to_both_rewarded_D4_subj_1-1_and_1-4', '20230619_115321_standard_comp_to_omission_D3_subj_1-2_and_1-4', '20230617_115521_standard_comp_to_omission_D1_subj_1-1_and_1-2', '20230622_110832_standard_comp_to_both_rewarded_D1_subj_1-1_and_1-2', '20230624_105855_standard_comp_to_both_rewarded_D3_subj_1-2_and_1-4', '20230629_111937_standard_comp_to_novel_agent_D2_subj_1-1vs2-1and1-4vs2-2', '20230614_114041_standard_comp_to_training_D3_subj_1-1_and_1-2', '20230620_114347_standard_comp_to_omission_D4_subj_1-2_and_1-1', '20230618_100636_standard_comp_to_omission_D2_subj_1-4_and_1-1', '20230628_111202_standard_comp_to_novel_agent_D1_subj_1-1vs2-2and1-2vs2-1'}\n",
      "\n",
      "Keys unique to rcecollection: {'20230624_105855_standard_comp_to_both_rewarded_D3_subj_1-4_t3b3L_box1_merged.rec', '20230630_115506_standard_comp_to_novel_agent_D3_subj_1-4vs1-2and2-1_merged_merged.rec', '20230622_110832_standard_comp_to_both_rewarded_D1_subj_1-2_t3b3L_box1_merged.rec', '20230620_114347_standard_comp_to_omission_D4_subj_1-1_t1b2L_box_2_merged.rec', '20230617_115521_standard_comp_to_omission_D1_subj_1-1_t1b3L_box1_merged.rec', '20230628_111202_standard_comp_to_novel_agent_D1_subj_1-1vs1-2and2-2_merged.rec', '20230612_101430_standard_comp_to_training_D1_subj_1-3_t3b3L_box2_merged.rec', '20230621_111240_standard_comp_to_omission_D5_subj_1-4_t3b3L_box1_merged.rec', '20230629_111937_standard_comp_to_novel_agent_D2_subj_1-4vs1-1and2-2_merged.rec', '20230625_112913_standard_comp_to_both_rewarded_D4_subj_1-1_t1b2L_box1_merged.rec', '20230618_100636_standard_comp_to_omission_D2_subj_1_4_t4b3L_box1_merged.rec', '20230624_105855_standard_comp_to_both_rewarded_D3_subj_1-1_t1b2L_box1_merged.rec', '20230619_115321_standard_comp_to_omission_D3_subj_1-4_t3b3L_box2_merged.rec', '20230618_100636_standard_comp_to_omission_D2_subj_1_1_t1b2L_box2_merged.rec', '20230628_111202_standard_comp_to_novel_agent_D1_subj_1-2vs1-1and2-1_merged.rec', '20230629_111937_standard_comp_to_novel_agent_D2_subj_1-1v1-4and2-1_merged.rec', '20230620_114347_standard_comp_to_omission_D4_subj_1-2_t3b3L_box_1_merged.rec', '20230625_112913_standard_comp_to_both_rewarded_D4_subj_1-4_t3b3L_box1_merged.rec', '20230622_110832_standard_comp_to_both_rewarded_D1_subj_1-1_t1b3L_box1_merged.rec'}\n"
     ]
    }
   ],
   "source": [
    "# Convert dictionary keys to sets for comparison\n",
    "keys_times_df = set(times_df.keys())\n",
    "keys_recording_dictionaries = set(recording_dictionaries.keys())\n",
    "keys_rcecollection = set(rcecollection.collection.keys())\n",
    "\n",
    "# Find unique keys in each dictionary compared to the other two\n",
    "unique_to_times_df = keys_times_df - keys_recording_dictionaries - keys_rcecollection\n",
    "unique_to_recording_dictionaries = keys_recording_dictionaries - keys_times_df - keys_rcecollection\n",
    "unique_to_rcecollection = keys_rcecollection - keys_times_df - keys_recording_dictionaries\n",
    "\n",
    "# Print the differences\n",
    "print(\"Keys unique to times_df:\", unique_to_times_df)\n",
    "print(\"\")\n",
    "print(\"Keys unique to recording_dictionaries:\", unique_to_recording_dictionaries)\n",
    "print(\"\")\n",
    "print(\"Keys unique to rcecollection:\", unique_to_rcecollection)"
   ]
  },
  {
   "cell_type": "code",
   "execution_count": 39,
   "id": "f49cbb74-b015-4aaf-8d5c-a1449ee7ded5",
   "metadata": {
    "tags": []
   },
   "outputs": [],
   "source": [
    "# Extract keys from each dictionary\n",
    "keys_times_df = list(times_df.keys())\n",
    "keys_recording_dictionaries = list(recording_dictionaries.keys())\n",
    "keys_rcecollection = list(rcecollection.collection.keys())"
   ]
  },
  {
   "cell_type": "code",
   "execution_count": 43,
   "id": "93b5879f-d7e3-470e-96a7-a5d0e3458f35",
   "metadata": {
    "tags": []
   },
   "outputs": [
    {
     "data": {
      "text/plain": [
       "20"
      ]
     },
     "execution_count": 43,
     "metadata": {},
     "output_type": "execute_result"
    }
   ],
   "source": [
    "len(keys_times_df)"
   ]
  },
  {
   "cell_type": "code",
   "execution_count": 44,
   "id": "42c277bf-e58a-431b-afcb-0eee3a6d523f",
   "metadata": {
    "tags": []
   },
   "outputs": [
    {
     "data": {
      "text/plain": [
       "16"
      ]
     },
     "execution_count": 44,
     "metadata": {},
     "output_type": "execute_result"
    }
   ],
   "source": [
    "len(keys_recording_dictionaries)"
   ]
  },
  {
   "cell_type": "code",
   "execution_count": 45,
   "id": "0ff3e777-b068-4184-9595-ff794bbf683a",
   "metadata": {
    "tags": []
   },
   "outputs": [
    {
     "data": {
      "text/plain": [
       "19"
      ]
     },
     "execution_count": 45,
     "metadata": {},
     "output_type": "execute_result"
    }
   ],
   "source": [
    "len(keys_rcecollection)"
   ]
  },
  {
   "cell_type": "code",
   "execution_count": 46,
   "id": "4ca4651d-94ed-4370-b061-91bbe8cad67b",
   "metadata": {
    "tags": []
   },
   "outputs": [
    {
     "data": {
      "text/plain": [
       "{'20230612_101430_standard_comp_to_training_D1_subj_1-3_t3b3L_box2_merged.rec',\n",
       " '20230617_115521_standard_comp_to_omission_D1_subj_1-1_t1b3L_box1_merged.rec',\n",
       " '20230618_100636_standard_comp_to_omission_D2_subj_1_1_t1b2L_box2_merged.rec',\n",
       " '20230618_100636_standard_comp_to_omission_D2_subj_1_4_t4b3L_box1_merged.rec',\n",
       " '20230619_115321_standard_comp_to_omission_D3_subj_1-4_t3b3L_box2_merged.rec',\n",
       " '20230620_114347_standard_comp_to_omission_D4_subj_1-1_t1b2L_box_2_merged.rec',\n",
       " '20230620_114347_standard_comp_to_omission_D4_subj_1-2_t3b3L_box_1_merged.rec',\n",
       " '20230621_111240_standard_comp_to_omission_D5_subj_1-4_t3b3L_box1_merged.rec',\n",
       " '20230622_110832_standard_comp_to_both_rewarded_D1_subj_1-1_t1b3L_box1_merged.rec',\n",
       " '20230622_110832_standard_comp_to_both_rewarded_D1_subj_1-2_t3b3L_box1_merged.rec',\n",
       " '20230624_105855_standard_comp_to_both_rewarded_D3_subj_1-1_t1b2L_box1_merged.rec',\n",
       " '20230624_105855_standard_comp_to_both_rewarded_D3_subj_1-4_t3b3L_box1_merged.rec',\n",
       " '20230625_112913_standard_comp_to_both_rewarded_D4_subj_1-1_t1b2L_box1_merged.rec',\n",
       " '20230625_112913_standard_comp_to_both_rewarded_D4_subj_1-4_t3b3L_box1_merged.rec',\n",
       " '20230628_111202_standard_comp_to_novel_agent_D1_subj_1-1vs1-2and2-2_merged.rec',\n",
       " '20230628_111202_standard_comp_to_novel_agent_D1_subj_1-2vs1-1and2-1_merged.rec',\n",
       " '20230629_111937_standard_comp_to_novel_agent_D2_subj_1-1v1-4and2-1_merged.rec',\n",
       " '20230629_111937_standard_comp_to_novel_agent_D2_subj_1-4vs1-1and2-2_merged.rec',\n",
       " '20230630_115506_standard_comp_to_novel_agent_D3_subj_1-4vs1-2and2-1_merged_merged.rec'}"
      ]
     },
     "execution_count": 46,
     "metadata": {},
     "output_type": "execute_result"
    }
   ],
   "source": [
    "unique_to_rcecollection"
   ]
  },
  {
   "cell_type": "code",
   "execution_count": 47,
   "id": "a9df568c-f1e1-40e2-87cf-281ed90b3184",
   "metadata": {
    "tags": []
   },
   "outputs": [
    {
     "data": {
      "text/plain": [
       "['20230612_101430_standard_comp_to_training_D1_subj_1-4_and_1-3',\n",
       " '20230612_112630_standard_comp_to_training_D1_subj_1-2_and_1-1',\n",
       " '20230613_105657_standard_comp_to_training_D2_subj_1-1_and_1-4',\n",
       " '20230614_114041_standard_comp_to_training_D3_subj_1-1_and_1-2',\n",
       " '20230616_111904_standard_comp_to_training_D4_subj_1-4_and_1-2',\n",
       " '20230617_115521_standard_comp_to_omission_D1_subj_1-1_and_1-2',\n",
       " '20230618_100636_standard_comp_to_omission_D2_subj_1-4_and_1-1',\n",
       " '20230619_115321_standard_comp_to_omission_D3_subj_1-2_and_1-4',\n",
       " '20230620_114347_standard_comp_to_omission_D4_subj_1-2_and_1-1',\n",
       " '20230621_111240_standard_comp_to_omission_D5_subj_1-4_and_1-2',\n",
       " '20230622_110832_standard_comp_to_both_rewarded_D1_subj_1-1_and_1-2',\n",
       " '20230624_105855_standard_comp_to_both_rewarded_D3_subj_1-2_and_1-4',\n",
       " '20230625_112913_standard_comp_to_both_rewarded_D4_subj_1-1_and_1-4',\n",
       " '20230628_111202_standard_comp_to_novel_agent_D1_subj_1-1vs2-2and1-2vs2-1',\n",
       " '20230629_111937_standard_comp_to_novel_agent_D2_subj_1-1vs2-1and1-4vs2-2',\n",
       " '20230630_115506_standard_comp_to_novel_agent_D3_subj_1-4vs2-1and1-2vs2-2']"
      ]
     },
     "execution_count": 47,
     "metadata": {},
     "output_type": "execute_result"
    }
   ],
   "source": [
    "keys_recording_dictionaries"
   ]
  },
  {
   "cell_type": "code",
   "execution_count": 48,
   "id": "632622c6-09e1-44e8-b126-6a58f7abd4b2",
   "metadata": {
    "tags": []
   },
   "outputs": [
    {
     "data": {
      "text/plain": [
       "['20230612_112630_standard_comp_to_training_D1_subj_1-1_t1b3L_box2_merged',\n",
       " '20230612_112630_standard_comp_to_training_D1_subj_1-2_t2b2L_box1_merged',\n",
       " '20230613_105657_standard_comp_to_training_D2_subj_1-1_t1b2L_box1_merged',\n",
       " '20230613_105657_standard_comp_to_training_D2_subj_1-4_t4b3L_box2_merged',\n",
       " '20230614_114041_standard_comp_to_training_D3_subj_1-1_t1b3L_box1_merged',\n",
       " '20230614_114041_standard_comp_to_training_D3_subj_1-2_t2b2L_box2_merged',\n",
       " '20230616_111904_standard_comp_to_training_D4_subj_1-2_t2b2L_box2_merged',\n",
       " '20230616_111904_standard_comp_to_training_D4_subj_1-4_t4b3L_box1_merged',\n",
       " '20230617_115521_standard_comp_to_omission_D1_subj_1-1_t1b3L_box1_merged',\n",
       " '20230617_115521_standard_comp_to_omission_D1_subj_1-2_t2b2L_box2_merged',\n",
       " '20230618_100636_standard_comp_to_omission_D2_subj_1_1_t1b2L_box2_merged',\n",
       " '20230618_100636_standard_comp_to_omission_D2_subj_1_4_t4b3L_box1_merged',\n",
       " '20230620_114347_standard_comp_to_omission_D4_subj_1-1_t1b2L_box_2_merged',\n",
       " '20230620_114347_standard_comp_to_omission_D4_subj_1-2_t3b3L_box_1_merged',\n",
       " '20230621_111240_standard_comp_to_omission_D5_subj_1-4_t3b3L_box1_merged',\n",
       " '20230622_110832_standard_comp_to_both_rewarded_D1_subj_1-1_t1b3L_box1_merged',\n",
       " '20230622_110832_standard_comp_to_both_rewarded_D1_subj_1-2_t3b3L_box1_merged',\n",
       " '20230624_105855_standard_comp_to_both_rewarded_D3_subj_1-4_t3b3L_box1_merged',\n",
       " '20230625_112913_standard_comp_to_both_rewarded_D4_subj_1-1_t1b2L_box1_merged',\n",
       " '20230625_112913_standard_comp_to_both_rewarded_D4_subj_1-4_t3b3L_box1_merged']"
      ]
     },
     "execution_count": 48,
     "metadata": {},
     "output_type": "execute_result"
    }
   ],
   "source": [
    "keys_times_df"
   ]
  },
  {
   "cell_type": "code",
   "execution_count": 50,
   "id": "65c60acb-176c-4768-a6d5-1d83594179a3",
   "metadata": {
    "tags": []
   },
   "outputs": [],
   "source": [
    "times_df2 = {key + '.rec': value for key, value in times_df.items()}"
   ]
  },
  {
   "cell_type": "code",
   "execution_count": 51,
   "id": "a39f5558-5abf-44f5-b23c-e3160fb15103",
   "metadata": {
    "tags": []
   },
   "outputs": [
    {
     "data": {
      "text/plain": [
       "dict_keys(['20230612_112630_standard_comp_to_training_D1_subj_1-1_t1b3L_box2_merged.rec', '20230612_112630_standard_comp_to_training_D1_subj_1-2_t2b2L_box1_merged.rec', '20230613_105657_standard_comp_to_training_D2_subj_1-1_t1b2L_box1_merged.rec', '20230613_105657_standard_comp_to_training_D2_subj_1-4_t4b3L_box2_merged.rec', '20230614_114041_standard_comp_to_training_D3_subj_1-1_t1b3L_box1_merged.rec', '20230614_114041_standard_comp_to_training_D3_subj_1-2_t2b2L_box2_merged.rec', '20230616_111904_standard_comp_to_training_D4_subj_1-2_t2b2L_box2_merged.rec', '20230616_111904_standard_comp_to_training_D4_subj_1-4_t4b3L_box1_merged.rec', '20230617_115521_standard_comp_to_omission_D1_subj_1-1_t1b3L_box1_merged.rec', '20230617_115521_standard_comp_to_omission_D1_subj_1-2_t2b2L_box2_merged.rec', '20230618_100636_standard_comp_to_omission_D2_subj_1_1_t1b2L_box2_merged.rec', '20230618_100636_standard_comp_to_omission_D2_subj_1_4_t4b3L_box1_merged.rec', '20230620_114347_standard_comp_to_omission_D4_subj_1-1_t1b2L_box_2_merged.rec', '20230620_114347_standard_comp_to_omission_D4_subj_1-2_t3b3L_box_1_merged.rec', '20230621_111240_standard_comp_to_omission_D5_subj_1-4_t3b3L_box1_merged.rec', '20230622_110832_standard_comp_to_both_rewarded_D1_subj_1-1_t1b3L_box1_merged.rec', '20230622_110832_standard_comp_to_both_rewarded_D1_subj_1-2_t3b3L_box1_merged.rec', '20230624_105855_standard_comp_to_both_rewarded_D3_subj_1-4_t3b3L_box1_merged.rec', '20230625_112913_standard_comp_to_both_rewarded_D4_subj_1-1_t1b2L_box1_merged.rec', '20230625_112913_standard_comp_to_both_rewarded_D4_subj_1-4_t3b3L_box1_merged.rec'])"
      ]
     },
     "execution_count": 51,
     "metadata": {},
     "output_type": "execute_result"
    }
   ],
   "source": [
    "times_df2.keys()"
   ]
  },
  {
   "cell_type": "code",
   "execution_count": 54,
   "id": "f9d6edf0-a6b3-4ee1-add9-68d6d2811bd0",
   "metadata": {
    "tags": []
   },
   "outputs": [
    {
     "name": "stdout",
     "output_type": "stream",
     "text": [
      "Keys unique to times_df: {'20230618_100636_standard_comp_to_omission_D2_subj_1_4_t4b3L_box1_merged', '20230625_112913_standard_comp_to_both_rewarded_D4_subj_1-4_t3b3L_box1_merged', '20230613_105657_standard_comp_to_training_D2_subj_1-4_t4b3L_box2_merged', '20230620_114347_standard_comp_to_omission_D4_subj_1-2_t3b3L_box_1_merged', '20230616_111904_standard_comp_to_training_D4_subj_1-4_t4b3L_box1_merged', '20230624_105855_standard_comp_to_both_rewarded_D3_subj_1-4_t3b3L_box1_merged', '20230612_112630_standard_comp_to_training_D1_subj_1-1_t1b3L_box2_merged', '20230625_112913_standard_comp_to_both_rewarded_D4_subj_1-1_t1b2L_box1_merged', '20230613_105657_standard_comp_to_training_D2_subj_1-1_t1b2L_box1_merged', '20230618_100636_standard_comp_to_omission_D2_subj_1_1_t1b2L_box2_merged', '20230614_114041_standard_comp_to_training_D3_subj_1-1_t1b3L_box1_merged', '20230620_114347_standard_comp_to_omission_D4_subj_1-1_t1b2L_box_2_merged', '20230622_110832_standard_comp_to_both_rewarded_D1_subj_1-1_t1b3L_box1_merged', '20230612_112630_standard_comp_to_training_D1_subj_1-2_t2b2L_box1_merged', '20230621_111240_standard_comp_to_omission_D5_subj_1-4_t3b3L_box1_merged', '20230614_114041_standard_comp_to_training_D3_subj_1-2_t2b2L_box2_merged', '20230616_111904_standard_comp_to_training_D4_subj_1-2_t2b2L_box2_merged', '20230617_115521_standard_comp_to_omission_D1_subj_1-2_t2b2L_box2_merged', '20230622_110832_standard_comp_to_both_rewarded_D1_subj_1-2_t3b3L_box1_merged', '20230617_115521_standard_comp_to_omission_D1_subj_1-1_t1b3L_box1_merged'}\n",
      "\n",
      "Keys unique to rcecollection: {'20230624_105855_standard_comp_to_both_rewarded_D3_subj_1-1_t1b2L_box1_merged.rec', '20230628_111202_standard_comp_to_novel_agent_D1_subj_1-2vs1-1and2-1_merged.rec', '20230630_115506_standard_comp_to_novel_agent_D3_subj_1-4vs1-2and2-1_merged_merged.rec', '20230628_111202_standard_comp_to_novel_agent_D1_subj_1-1vs1-2and2-2_merged.rec', '20230612_101430_standard_comp_to_training_D1_subj_1-3_t3b3L_box2_merged.rec', '20230629_111937_standard_comp_to_novel_agent_D2_subj_1-1v1-4and2-1_merged.rec', '20230619_115321_standard_comp_to_omission_D3_subj_1-4_t3b3L_box2_merged.rec', '20230629_111937_standard_comp_to_novel_agent_D2_subj_1-4vs1-1and2-2_merged.rec'}\n"
     ]
    }
   ],
   "source": [
    "# Convert dictionary keys to sets for comparison\n",
    "keys_times_df2 = set(times_df2.keys())\n",
    "keys_rcecollection = set(rcecollection.collection.keys())\n",
    "\n",
    "# Find unique keys in each dictionary compared to the other two\n",
    "unique_to_times_df2 = keys_times_df2 - keys_rcecollection\n",
    "unique_to_rcecollection = keys_rcecollection - keys_times_df2\n",
    "\n",
    "# Print the differences\n",
    "print(\"Keys unique to times_df:\", unique_to_times_df)\n",
    "print(\"\")\n",
    "print(\"Keys unique to rcecollection:\", unique_to_rcecollection)"
   ]
  },
  {
   "cell_type": "code",
   "execution_count": 55,
   "id": "49216e4b-2f14-41a8-b5ad-12ff61624499",
   "metadata": {
    "tags": []
   },
   "outputs": [
    {
     "data": {
      "text/plain": [
       "{'20230612_112630_standard_comp_to_training_D1_subj_1-1_t1b3L_box2_merged.rec',\n",
       " '20230612_112630_standard_comp_to_training_D1_subj_1-2_t2b2L_box1_merged.rec',\n",
       " '20230613_105657_standard_comp_to_training_D2_subj_1-1_t1b2L_box1_merged.rec',\n",
       " '20230613_105657_standard_comp_to_training_D2_subj_1-4_t4b3L_box2_merged.rec',\n",
       " '20230614_114041_standard_comp_to_training_D3_subj_1-1_t1b3L_box1_merged.rec',\n",
       " '20230614_114041_standard_comp_to_training_D3_subj_1-2_t2b2L_box2_merged.rec',\n",
       " '20230616_111904_standard_comp_to_training_D4_subj_1-2_t2b2L_box2_merged.rec',\n",
       " '20230616_111904_standard_comp_to_training_D4_subj_1-4_t4b3L_box1_merged.rec',\n",
       " '20230617_115521_standard_comp_to_omission_D1_subj_1-1_t1b3L_box1_merged.rec',\n",
       " '20230617_115521_standard_comp_to_omission_D1_subj_1-2_t2b2L_box2_merged.rec',\n",
       " '20230618_100636_standard_comp_to_omission_D2_subj_1_1_t1b2L_box2_merged.rec',\n",
       " '20230618_100636_standard_comp_to_omission_D2_subj_1_4_t4b3L_box1_merged.rec',\n",
       " '20230620_114347_standard_comp_to_omission_D4_subj_1-1_t1b2L_box_2_merged.rec',\n",
       " '20230620_114347_standard_comp_to_omission_D4_subj_1-2_t3b3L_box_1_merged.rec',\n",
       " '20230621_111240_standard_comp_to_omission_D5_subj_1-4_t3b3L_box1_merged.rec',\n",
       " '20230622_110832_standard_comp_to_both_rewarded_D1_subj_1-1_t1b3L_box1_merged.rec',\n",
       " '20230622_110832_standard_comp_to_both_rewarded_D1_subj_1-2_t3b3L_box1_merged.rec',\n",
       " '20230624_105855_standard_comp_to_both_rewarded_D3_subj_1-4_t3b3L_box1_merged.rec',\n",
       " '20230625_112913_standard_comp_to_both_rewarded_D4_subj_1-1_t1b2L_box1_merged.rec',\n",
       " '20230625_112913_standard_comp_to_both_rewarded_D4_subj_1-4_t3b3L_box1_merged.rec'}"
      ]
     },
     "execution_count": 55,
     "metadata": {},
     "output_type": "execute_result"
    }
   ],
   "source": [
    "keys_times_df2"
   ]
  },
  {
   "cell_type": "code",
   "execution_count": 56,
   "id": "b0ff3483-6300-4856-9192-1187c9a4ff4a",
   "metadata": {
    "tags": []
   },
   "outputs": [
    {
     "data": {
      "text/plain": [
       "{'20230612_101430_standard_comp_to_training_D1_subj_1-3_t3b3L_box2_merged.rec',\n",
       " '20230617_115521_standard_comp_to_omission_D1_subj_1-1_t1b3L_box1_merged.rec',\n",
       " '20230618_100636_standard_comp_to_omission_D2_subj_1_1_t1b2L_box2_merged.rec',\n",
       " '20230618_100636_standard_comp_to_omission_D2_subj_1_4_t4b3L_box1_merged.rec',\n",
       " '20230619_115321_standard_comp_to_omission_D3_subj_1-4_t3b3L_box2_merged.rec',\n",
       " '20230620_114347_standard_comp_to_omission_D4_subj_1-1_t1b2L_box_2_merged.rec',\n",
       " '20230620_114347_standard_comp_to_omission_D4_subj_1-2_t3b3L_box_1_merged.rec',\n",
       " '20230621_111240_standard_comp_to_omission_D5_subj_1-4_t3b3L_box1_merged.rec',\n",
       " '20230622_110832_standard_comp_to_both_rewarded_D1_subj_1-1_t1b3L_box1_merged.rec',\n",
       " '20230622_110832_standard_comp_to_both_rewarded_D1_subj_1-2_t3b3L_box1_merged.rec',\n",
       " '20230624_105855_standard_comp_to_both_rewarded_D3_subj_1-1_t1b2L_box1_merged.rec',\n",
       " '20230624_105855_standard_comp_to_both_rewarded_D3_subj_1-4_t3b3L_box1_merged.rec',\n",
       " '20230625_112913_standard_comp_to_both_rewarded_D4_subj_1-1_t1b2L_box1_merged.rec',\n",
       " '20230625_112913_standard_comp_to_both_rewarded_D4_subj_1-4_t3b3L_box1_merged.rec',\n",
       " '20230628_111202_standard_comp_to_novel_agent_D1_subj_1-1vs1-2and2-2_merged.rec',\n",
       " '20230628_111202_standard_comp_to_novel_agent_D1_subj_1-2vs1-1and2-1_merged.rec',\n",
       " '20230629_111937_standard_comp_to_novel_agent_D2_subj_1-1v1-4and2-1_merged.rec',\n",
       " '20230629_111937_standard_comp_to_novel_agent_D2_subj_1-4vs1-1and2-2_merged.rec',\n",
       " '20230630_115506_standard_comp_to_novel_agent_D3_subj_1-4vs1-2and2-1_merged_merged.rec'}"
      ]
     },
     "execution_count": 56,
     "metadata": {},
     "output_type": "execute_result"
    }
   ],
   "source": [
    "keys_rcecollection"
   ]
  },
  {
   "cell_type": "code",
   "execution_count": 58,
   "id": "b37dfb83-7ff5-406b-8373-ca8071beeaa7",
   "metadata": {
    "tags": []
   },
   "outputs": [
    {
     "data": {
      "text/plain": [
       "{'20230612_101430_standard_comp_to_training_D1_subj_1-4_and_1-3',\n",
       " '20230612_112630_standard_comp_to_training_D1_subj_1-2_and_1-1',\n",
       " '20230613_105657_standard_comp_to_training_D2_subj_1-1_and_1-4',\n",
       " '20230614_114041_standard_comp_to_training_D3_subj_1-1_and_1-2',\n",
       " '20230616_111904_standard_comp_to_training_D4_subj_1-4_and_1-2',\n",
       " '20230617_115521_standard_comp_to_omission_D1_subj_1-1_and_1-2',\n",
       " '20230618_100636_standard_comp_to_omission_D2_subj_1-4_and_1-1',\n",
       " '20230619_115321_standard_comp_to_omission_D3_subj_1-2_and_1-4',\n",
       " '20230620_114347_standard_comp_to_omission_D4_subj_1-2_and_1-1',\n",
       " '20230621_111240_standard_comp_to_omission_D5_subj_1-4_and_1-2',\n",
       " '20230622_110832_standard_comp_to_both_rewarded_D1_subj_1-1_and_1-2',\n",
       " '20230624_105855_standard_comp_to_both_rewarded_D3_subj_1-2_and_1-4',\n",
       " '20230625_112913_standard_comp_to_both_rewarded_D4_subj_1-1_and_1-4',\n",
       " '20230628_111202_standard_comp_to_novel_agent_D1_subj_1-1vs2-2and1-2vs2-1',\n",
       " '20230629_111937_standard_comp_to_novel_agent_D2_subj_1-1vs2-1and1-4vs2-2',\n",
       " '20230630_115506_standard_comp_to_novel_agent_D3_subj_1-4vs2-1and1-2vs2-2'}"
      ]
     },
     "execution_count": 58,
     "metadata": {},
     "output_type": "execute_result"
    }
   ],
   "source": [
    "keys_recording_dictionaries"
   ]
  },
  {
   "cell_type": "code",
   "execution_count": null,
   "id": "5f7c75d2-b22f-45fb-bedb-670e4b32ba3a",
   "metadata": {},
   "outputs": [],
   "source": []
  }
 ],
 "metadata": {
  "kernelspec": {
   "display_name": "UFRC Python-3.10",
   "language": "python",
   "name": "python3-3.10-ufrc"
  },
  "language_info": {
   "codemirror_mode": {
    "name": "ipython",
    "version": 3
   },
   "file_extension": ".py",
   "mimetype": "text/x-python",
   "name": "python",
   "nbconvert_exporter": "python",
   "pygments_lexer": "ipython3",
   "version": "3.10.8"
  }
 },
 "nbformat": 4,
 "nbformat_minor": 5
}
