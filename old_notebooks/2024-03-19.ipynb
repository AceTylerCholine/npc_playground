{
 "cells": [
  {
   "cell_type": "code",
   "execution_count": 1,
   "id": "4def27ce-df60-40c3-9a35-a9ee1f84854c",
   "metadata": {},
   "outputs": [],
   "source": [
    "import pandas as pd\n",
    "import numpy as np\n",
    "import ast\n",
    "import pickle\n",
    "from pathlib import Path\n",
    "import multirecording_spikeanalysis as spike"
   ]
  },
  {
   "cell_type": "code",
   "execution_count": 2,
   "id": "8de7a6aa-d2a7-4036-bd80-37bc338b4300",
   "metadata": {},
   "outputs": [],
   "source": [
    "ephys_data = pickle.load(open('ephys_data.pkl', 'rb'))"
   ]
  },
  {
   "cell_type": "code",
   "execution_count": 3,
   "id": "b14a9f26-6185-4b7a-a79a-2c4721e4d542",
   "metadata": {},
   "outputs": [
    {
     "name": "stdout",
     "output_type": "stream",
     "text": [
      "All set to analyze\n"
     ]
    },
    {
     "ename": "MemoryError",
     "evalue": "Unable to allocate 268. MiB for an array with shape (18, 1947893) and data type float64",
     "output_type": "error",
     "traceback": [
      "\u001b[1;31m---------------------------------------------------------------------------\u001b[0m",
      "\u001b[1;31mMemoryError\u001b[0m                               Traceback (most recent call last)",
      "Cell \u001b[1;32mIn[3], line 1\u001b[0m\n\u001b[1;32m----> 1\u001b[0m spike_analysis \u001b[38;5;241m=\u001b[39m spike\u001b[38;5;241m.\u001b[39mSpikeAnalysis_MultiRecording(ephys_data)\n",
      "File \u001b[1;32m~\\Documents\\GitHub\\npc_playground\\multirecording_spikeanalysis.py:639\u001b[0m, in \u001b[0;36mSpikeAnalysis_MultiRecording.__init__\u001b[1;34m(self, ephyscollection, smoothing_window, timebin, ignore_freq)\u001b[0m\n\u001b[0;32m    637\u001b[0m \u001b[38;5;28mself\u001b[39m\u001b[38;5;241m.\u001b[39mignore_freq \u001b[38;5;241m=\u001b[39m ignore_freq\n\u001b[0;32m    638\u001b[0m \u001b[38;5;28mself\u001b[39m\u001b[38;5;241m.\u001b[39mPCA_matrix \u001b[38;5;241m=\u001b[39m \u001b[38;5;28;01mNone\u001b[39;00m\n\u001b[1;32m--> 639\u001b[0m \u001b[38;5;28mself\u001b[39m\u001b[38;5;241m.\u001b[39m__all_set__()\n",
      "File \u001b[1;32m~\\Documents\\GitHub\\npc_playground\\multirecording_spikeanalysis.py:696\u001b[0m, in \u001b[0;36mSpikeAnalysis_MultiRecording.__all_set__\u001b[1;34m(self)\u001b[0m\n\u001b[0;32m    694\u001b[0m \u001b[38;5;28mself\u001b[39m\u001b[38;5;241m.\u001b[39m__get_whole_spiketrain__()\n\u001b[0;32m    695\u001b[0m \u001b[38;5;28mself\u001b[39m\u001b[38;5;241m.\u001b[39m__get_unit_spiketrains__()\n\u001b[1;32m--> 696\u001b[0m \u001b[38;5;28mself\u001b[39m\u001b[38;5;241m.\u001b[39m__get_unit_firing_rates__()\n",
      "File \u001b[1;32m~\\Documents\\GitHub\\npc_playground\\multirecording_spikeanalysis.py:781\u001b[0m, in \u001b[0;36mSpikeAnalysis_MultiRecording.__get_unit_firing_rates__\u001b[1;34m(self)\u001b[0m\n\u001b[0;32m    775\u001b[0m     unit_firing_rates[unit] \u001b[38;5;241m=\u001b[39m get_firing_rate(\n\u001b[0;32m    776\u001b[0m         recording\u001b[38;5;241m.\u001b[39munit_spiketrains[unit],\n\u001b[0;32m    777\u001b[0m         \u001b[38;5;28mself\u001b[39m\u001b[38;5;241m.\u001b[39msmoothing_window,\n\u001b[0;32m    778\u001b[0m         \u001b[38;5;28mself\u001b[39m\u001b[38;5;241m.\u001b[39mtimebin,\n\u001b[0;32m    779\u001b[0m     )\n\u001b[0;32m    780\u001b[0m recording\u001b[38;5;241m.\u001b[39munit_firing_rates \u001b[38;5;241m=\u001b[39m unit_firing_rates\n\u001b[1;32m--> 781\u001b[0m recording\u001b[38;5;241m.\u001b[39munit_firing_rate_array \u001b[38;5;241m=\u001b[39m np\u001b[38;5;241m.\u001b[39marray(\n\u001b[0;32m    782\u001b[0m     [unit_firing_rates[key] \u001b[38;5;28;01mfor\u001b[39;00m key \u001b[38;5;129;01min\u001b[39;00m unit_firing_rates]\n\u001b[0;32m    783\u001b[0m )\n",
      "\u001b[1;31mMemoryError\u001b[0m: Unable to allocate 268. MiB for an array with shape (18, 1947893) and data type float64"
     ]
    }
   ],
   "source": [
    "spike_analysis = spike.SpikeAnalysis_MultiRecording(ephys_data)"
   ]
  },
  {
   "cell_type": "code",
   "execution_count": null,
   "id": "fe9db931-8a28-46f5-9b9b-f305d868d7e0",
   "metadata": {},
   "outputs": [],
   "source": []
  }
 ],
 "metadata": {
  "kernelspec": {
   "display_name": "Python 3 (ipykernel)",
   "language": "python",
   "name": "python3"
  },
  "language_info": {
   "codemirror_mode": {
    "name": "ipython",
    "version": 3
   },
   "file_extension": ".py",
   "mimetype": "text/x-python",
   "name": "python",
   "nbconvert_exporter": "python",
   "pygments_lexer": "ipython3",
   "version": "3.11.7"
  }
 },
 "nbformat": 4,
 "nbformat_minor": 5
}
