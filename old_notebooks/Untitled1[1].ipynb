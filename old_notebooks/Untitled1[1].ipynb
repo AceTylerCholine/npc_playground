{
 "cells": [
  {
   "cell_type": "code",
   "execution_count": 1,
   "id": "17a719e0-135a-4729-8cc6-ef3c2ac20870",
   "metadata": {},
   "outputs": [],
   "source": [
    "import pickle\n",
    "import multirecording_spikeanalysis as spike\n",
    "import pandas as pd\n",
    "import numpy as np"
   ]
  },
  {
   "cell_type": "code",
   "execution_count": 2,
   "id": "2c3c9d9d-624d-4fbe-9d73-751cf2e7bcbc",
   "metadata": {},
   "outputs": [],
   "source": [
    "omis_rcecollection = pickle.load(open('rcecollection.pkl', 'rb'))\n",
    "bothreward_rcecollection = pickle.load(open('rcecollection.pkl', 'rb'))\n",
    "\n",
    "omission_subjects = set(['20230612_101430_standard_comp_to_training_D1_subj_1-3_t3b3L_box2_merged.rec', \n",
    "                         '20230622_110832_standard_comp_to_both_rewarded_D1_subj_1-1_t1b3L_box1_merged.rec', \n",
    "                         '20230622_110832_standard_comp_to_both_rewarded_D1_subj_1-2_t3b3L_box1_merged.rec', \n",
    "                         '20230624_105855_standard_comp_to_both_rewarded_D3_subj_1-1_t1b2L_box1_merged.rec', \n",
    "                         '20230624_105855_standard_comp_to_both_rewarded_D3_subj_1-4_t3b3L_box1_merged.rec', \n",
    "                         '20230625_112913_standard_comp_to_both_rewarded_D4_subj_1-1_t1b2L_box1_merged.rec', \n",
    "                         '20230625_112913_standard_comp_to_both_rewarded_D4_subj_1-4_t3b3L_box1_merged.rec', \n",
    "                         '20230628_111202_standard_comp_to_novel_agent_D1_subj_1-1vs1-2and2-2_merged.rec', \n",
    "                         '20230628_111202_standard_comp_to_novel_agent_D1_subj_1-2vs1-1and2-1_merged.rec', \n",
    "                         '20230629_111937_standard_comp_to_novel_agent_D2_subj_1-1v1-4and2-1_merged.rec', \n",
    "                         '20230629_111937_standard_comp_to_novel_agent_D2_subj_1-4vs1-1and2-2_merged.rec', \n",
    "                         '20230630_115506_standard_comp_to_novel_agent_D3_subj_1-4vs1-2and2-1_merged_merged.rec'])\n",
    "\n",
    "bothreward_subjects = set(['20230612_101430_standard_comp_to_training_D1_subj_1-3_t3b3L_box2_merged.rec', \n",
    "                         '20230618_100636_standard_comp_to_omission_D2_subj_1_1_t1b2L_box2_merged.rec', \n",
    "                         '20230618_100636_standard_comp_to_omission_D2_subj_1_4_t4b3L_box1_merged.rec', \n",
    "                         '20230619_115321_standard_comp_to_omission_D3_subj_1-4_t3b3L_box2_merged.rec', \n",
    "                         '20230620_114347_standard_comp_to_omission_D4_subj_1-1_t1b2L_box_2_merged.rec', \n",
    "                         '20230620_114347_standard_comp_to_omission_D4_subj_1-2_t3b3L_box_1_merged.rec', \n",
    "                         '20230621_111240_standard_comp_to_omission_D5_subj_1-4_t3b3L_box1_merged.rec', \n",
    "                         '20230628_111202_standard_comp_to_novel_agent_D1_subj_1-1vs1-2and2-2_merged.rec', \n",
    "                         '20230628_111202_standard_comp_to_novel_agent_D1_subj_1-2vs1-1and2-1_merged.rec', \n",
    "                         '20230629_111937_standard_comp_to_novel_agent_D2_subj_1-1v1-4and2-1_merged.rec', \n",
    "                         '20230629_111937_standard_comp_to_novel_agent_D2_subj_1-4vs1-1and2-2_merged.rec', \n",
    "                         '20230630_115506_standard_comp_to_novel_agent_D3_subj_1-4vs1-2and2-1_merged_merged.rec'])\n",
    "\n",
    "# Remove the recordings from rcecollection.collection\n",
    "for recording in omission_subjects:\n",
    "    omis_rcecollection.collection.pop(recording, None)\n",
    "\n",
    "for recording in bothreward_subjects:\n",
    "    bothreward_rcecollection.collection.pop(recording, None)"
   ]
  },
  {
   "cell_type": "code",
   "execution_count": 3,
   "id": "4cd86904-f982-416b-8d14-9e8b0c2abf03",
   "metadata": {},
   "outputs": [
    {
     "name": "stdout",
     "output_type": "stream",
     "text": [
      "20230618_100636_standard_comp_to_omission_D2_subj_1_1_t1b2L_box2_merged.rec\n",
      "20230618_100636_standard_comp_to_omission_D2_subj_1_4_t4b3L_box1_merged.rec\n",
      "20230619_115321_standard_comp_to_omission_D3_subj_1-4_t3b3L_box2_merged.rec\n",
      "20230620_114347_standard_comp_to_omission_D4_subj_1-1_t1b2L_box_2_merged.rec\n",
      "20230620_114347_standard_comp_to_omission_D4_subj_1-2_t3b3L_box_1_merged.rec\n",
      "20230621_111240_standard_comp_to_omission_D5_subj_1-4_t3b3L_box1_merged.rec\n"
     ]
    }
   ],
   "source": [
    "for recording in omis_rcecollection.collection.keys():\n",
    "    print(recording)"
   ]
  },
  {
   "cell_type": "code",
   "execution_count": 4,
   "id": "bd3916c1-cccb-45b2-99d2-3f16cde8187a",
   "metadata": {},
   "outputs": [
    {
     "name": "stdout",
     "output_type": "stream",
     "text": [
      "20230622_110832_standard_comp_to_both_rewarded_D1_subj_1-1_t1b3L_box1_merged.rec\n",
      "20230622_110832_standard_comp_to_both_rewarded_D1_subj_1-2_t3b3L_box1_merged.rec\n",
      "20230624_105855_standard_comp_to_both_rewarded_D3_subj_1-1_t1b2L_box1_merged.rec\n",
      "20230624_105855_standard_comp_to_both_rewarded_D3_subj_1-4_t3b3L_box1_merged.rec\n",
      "20230625_112913_standard_comp_to_both_rewarded_D4_subj_1-1_t1b2L_box1_merged.rec\n",
      "20230625_112913_standard_comp_to_both_rewarded_D4_subj_1-4_t3b3L_box1_merged.rec\n"
     ]
    }
   ],
   "source": [
    "for recording in bothreward_rcecollection.collection.keys():\n",
    "    print(recording)"
   ]
  },
  {
   "cell_type": "markdown",
   "id": "e1d84ab9-175a-4997-9361-bf588ba98e3a",
   "metadata": {},
   "source": [
    "## Had some errors I think because omission & both_rewarded had different event keys, e.g. 'both rewarded' vs 'win'\n",
    "## So will now use 2 instances of the rcecollection, one for each"
   ]
  },
  {
   "cell_type": "code",
   "execution_count": 5,
   "id": "f460ae71-91f6-4df1-bf67-c948e7f2280b",
   "metadata": {},
   "outputs": [],
   "source": [
    "label_timestamps = pickle.load(open('recording_to_label_to_timestamps 1.pkl', 'rb'))"
   ]
  },
  {
   "cell_type": "code",
   "execution_count": 7,
   "id": "b8a03b85-6b0f-4b87-95ae-be5fa289d6e5",
   "metadata": {},
   "outputs": [],
   "source": [
    "for recording in omis_rcecollection.collection.keys():\n",
    "    # Check if the recording key (without the .rec suffix) is in label_timestamps\n",
    "    recording_key_without_suffix = recording[:-4]  # Remove '.rec' from the end\n",
    "    if recording_key_without_suffix in label_timestamps:\n",
    "        # Assign the corresponding label_timestamps dictionary to event_dict\n",
    "        omis_rcecollection.collection[recording].event_dict = label_timestamps[recording_key_without_suffix]\n",
    "        \n",
    "        # Extract the subject from the recording key\n",
    "        # Find the positions of 'subj_' and '_t' to extract the subject\n",
    "        start = recording.find('subj_') + 5  # Start index after 'subj_'\n",
    "        end = recording.find('_t', start)  # End index before '_t'\n",
    "        subject = recording[start:end].replace('-', '_')  # Replace '-' with '_'\n",
    "        \n",
    "        # Assign the extracted subject\n",
    "        omis_rcecollection.collection[recording].subject = subject\n",
    "\n",
    "for recording in bothreward_rcecollection.collection.keys():\n",
    "    # Check if the recording key (without the .rec suffix) is in label_timestamps\n",
    "    recording_key_without_suffix = recording[:-4]  # Remove '.rec' from the end\n",
    "    if recording_key_without_suffix in label_timestamps:\n",
    "        # Assign the corresponding label_timestamps dictionary to event_dict\n",
    "        bothreward_rcecollection.collection[recording].event_dict = label_timestamps[recording_key_without_suffix]\n",
    "        \n",
    "        # Extract the subject from the recording key\n",
    "        # Find the positions of 'subj_' and '_t' to extract the subject\n",
    "        start = recording.find('subj_') + 5  # Start index after 'subj_'\n",
    "        end = recording.find('_t', start)  # End index before '_t'\n",
    "        subject = recording[start:end].replace('-', '_')  # Replace '-' with '_'\n",
    "        \n",
    "        # Assign the extracted subject\n",
    "        bothreward_rcecollection.collection[recording].subject = subject"
   ]
  },
  {
   "cell_type": "code",
   "execution_count": 10,
   "id": "f172b243-2e70-44fe-8100-7345409d96c4",
   "metadata": {},
   "outputs": [
    {
     "name": "stdout",
     "output_type": "stream",
     "text": [
      "These recordings are missing event dictionaries:\n",
      "['20230619_115321_standard_comp_to_omission_D3_subj_1-4_t3b3L_box2_merged.rec']\n",
      "These recordings are missing subjects: ['20230619_115321_standard_comp_to_omission_D3_subj_1-4_t3b3L_box2_merged.rec']\n"
     ]
    }
   ],
   "source": [
    "omis_spikeanal = spike.SpikeAnalysis_MultiRecording(omis_rcecollection)"
   ]
  },
  {
   "cell_type": "code",
   "execution_count": 11,
   "id": "a66e41db-8f5d-452e-9d23-4e49587e6711",
   "metadata": {},
   "outputs": [
    {
     "name": "stdout",
     "output_type": "stream",
     "text": [
      "These recordings are missing event dictionaries:\n",
      "['20230624_105855_standard_comp_to_both_rewarded_D3_subj_1-1_t1b2L_box1_merged.rec']\n",
      "These recordings are missing subjects: ['20230624_105855_standard_comp_to_both_rewarded_D3_subj_1-1_t1b2L_box1_merged.rec']\n"
     ]
    }
   ],
   "source": [
    "bothreward_spikeanal = spike.SpikeAnalysis_MultiRecording(bothreward_rcecollection)"
   ]
  },
  {
   "cell_type": "code",
   "execution_count": 13,
   "id": "b38f51be-895e-4220-b879-e2df255ccc12",
   "metadata": {},
   "outputs": [],
   "source": [
    "omis_remove = set(['20230619_115321_standard_comp_to_omission_D3_subj_1-4_t3b3L_box2_merged.rec'])\n",
    "bothrwd_remove = set(['20230624_105855_standard_comp_to_both_rewarded_D3_subj_1-1_t1b2L_box1_merged.rec'])\n",
    "\n",
    "for recording in omis_remove:\n",
    "    omis_rcecollection.collection.pop(recording, None)\n",
    "\n",
    "for recording in bothrwd_remove:\n",
    "    bothreward_rcecollection.collection.pop(recording, None)"
   ]
  },
  {
   "cell_type": "code",
   "execution_count": 14,
   "id": "11cd7b5b-8533-4542-afa9-8eaaadc8c7a8",
   "metadata": {},
   "outputs": [
    {
     "name": "stdout",
     "output_type": "stream",
     "text": [
      "All set to analyze\n",
      "Your event dictionary keys are different across recordings.\n",
      "Please double check them:\n",
      "20230622_110832_standard_comp_to_both_rewarded_D1_subj_1-1_t1b3L_box1_merged.rec keys: dict_keys(['both_rewarded', 'lose'])\n",
      "20230622_110832_standard_comp_to_both_rewarded_D1_subj_1-2_t3b3L_box1_merged.rec keys: dict_keys(['both_rewarded', 'win'])\n",
      "20230624_105855_standard_comp_to_both_rewarded_D3_subj_1-4_t3b3L_box1_merged.rec keys: dict_keys(['both_rewarded', 'lose'])\n",
      "20230625_112913_standard_comp_to_both_rewarded_D4_subj_1-1_t1b2L_box1_merged.rec keys: dict_keys(['both_rewarded', 'lose', 'win'])\n",
      "20230625_112913_standard_comp_to_both_rewarded_D4_subj_1-4_t3b3L_box1_merged.rec keys: dict_keys(['both_rewarded', 'lose', 'win'])\n",
      "All set to analyze\n"
     ]
    },
    {
     "ename": "MemoryError",
     "evalue": "Unable to allocate 414. MiB for an array with shape (15, 3621151) and data type float64",
     "output_type": "error",
     "traceback": [
      "\u001b[1;31m---------------------------------------------------------------------------\u001b[0m",
      "\u001b[1;31mMemoryError\u001b[0m                               Traceback (most recent call last)",
      "Cell \u001b[1;32mIn[14], line 2\u001b[0m\n\u001b[0;32m      1\u001b[0m omis_spikeanal \u001b[38;5;241m=\u001b[39m spike\u001b[38;5;241m.\u001b[39mSpikeAnalysis_MultiRecording(omis_rcecollection)\n\u001b[1;32m----> 2\u001b[0m bothreward_spikeanal \u001b[38;5;241m=\u001b[39m spike\u001b[38;5;241m.\u001b[39mSpikeAnalysis_MultiRecording(bothreward_rcecollection)\n",
      "File \u001b[1;32m~\\Documents\\GitHub\\npc_playground\\multirecording_spikeanalysis.py:639\u001b[0m, in \u001b[0;36mSpikeAnalysis_MultiRecording.__init__\u001b[1;34m(self, ephyscollection, smoothing_window, timebin, ignore_freq)\u001b[0m\n\u001b[0;32m    637\u001b[0m \u001b[38;5;28mself\u001b[39m\u001b[38;5;241m.\u001b[39mignore_freq \u001b[38;5;241m=\u001b[39m ignore_freq\n\u001b[0;32m    638\u001b[0m \u001b[38;5;28mself\u001b[39m\u001b[38;5;241m.\u001b[39mPCA_matrix \u001b[38;5;241m=\u001b[39m \u001b[38;5;28;01mNone\u001b[39;00m\n\u001b[1;32m--> 639\u001b[0m \u001b[38;5;28mself\u001b[39m\u001b[38;5;241m.\u001b[39m__all_set__()\n",
      "File \u001b[1;32m~\\Documents\\GitHub\\npc_playground\\multirecording_spikeanalysis.py:696\u001b[0m, in \u001b[0;36mSpikeAnalysis_MultiRecording.__all_set__\u001b[1;34m(self)\u001b[0m\n\u001b[0;32m    694\u001b[0m \u001b[38;5;28mself\u001b[39m\u001b[38;5;241m.\u001b[39m__get_whole_spiketrain__()\n\u001b[0;32m    695\u001b[0m \u001b[38;5;28mself\u001b[39m\u001b[38;5;241m.\u001b[39m__get_unit_spiketrains__()\n\u001b[1;32m--> 696\u001b[0m \u001b[38;5;28mself\u001b[39m\u001b[38;5;241m.\u001b[39m__get_unit_firing_rates__()\n",
      "File \u001b[1;32m~\\Documents\\GitHub\\npc_playground\\multirecording_spikeanalysis.py:781\u001b[0m, in \u001b[0;36mSpikeAnalysis_MultiRecording.__get_unit_firing_rates__\u001b[1;34m(self)\u001b[0m\n\u001b[0;32m    775\u001b[0m     unit_firing_rates[unit] \u001b[38;5;241m=\u001b[39m get_firing_rate(\n\u001b[0;32m    776\u001b[0m         recording\u001b[38;5;241m.\u001b[39munit_spiketrains[unit],\n\u001b[0;32m    777\u001b[0m         \u001b[38;5;28mself\u001b[39m\u001b[38;5;241m.\u001b[39msmoothing_window,\n\u001b[0;32m    778\u001b[0m         \u001b[38;5;28mself\u001b[39m\u001b[38;5;241m.\u001b[39mtimebin,\n\u001b[0;32m    779\u001b[0m     )\n\u001b[0;32m    780\u001b[0m recording\u001b[38;5;241m.\u001b[39munit_firing_rates \u001b[38;5;241m=\u001b[39m unit_firing_rates\n\u001b[1;32m--> 781\u001b[0m recording\u001b[38;5;241m.\u001b[39munit_firing_rate_array \u001b[38;5;241m=\u001b[39m np\u001b[38;5;241m.\u001b[39marray(\n\u001b[0;32m    782\u001b[0m     [unit_firing_rates[key] \u001b[38;5;28;01mfor\u001b[39;00m key \u001b[38;5;129;01min\u001b[39;00m unit_firing_rates]\n\u001b[0;32m    783\u001b[0m )\n",
      "\u001b[1;31mMemoryError\u001b[0m: Unable to allocate 414. MiB for an array with shape (15, 3621151) and data type float64"
     ]
    }
   ],
   "source": [
    "omis_spikeanal = spike.SpikeAnalysis_MultiRecording(omis_rcecollection)\n",
    "bothreward_spikeanal = spike.SpikeAnalysis_MultiRecording(bothreward_rcecollection)"
   ]
  },
  {
   "cell_type": "code",
   "execution_count": 15,
   "id": "8f1a6782-c582-4bce-9d2a-1610c043a371",
   "metadata": {},
   "outputs": [
    {
     "name": "stdout",
     "output_type": "stream",
     "text": [
      "All set to analyze\n"
     ]
    },
    {
     "ename": "MemoryError",
     "evalue": "Unable to allocate 23.9 MiB for an array with shape (3134853,) and data type float64",
     "output_type": "error",
     "traceback": [
      "\u001b[1;31m---------------------------------------------------------------------------\u001b[0m",
      "\u001b[1;31mMemoryError\u001b[0m                               Traceback (most recent call last)",
      "Cell \u001b[1;32mIn[15], line 1\u001b[0m\n\u001b[1;32m----> 1\u001b[0m omis_spikeanal \u001b[38;5;241m=\u001b[39m spike\u001b[38;5;241m.\u001b[39mSpikeAnalysis_MultiRecording(omis_rcecollection)\n",
      "File \u001b[1;32m~\\Documents\\GitHub\\npc_playground\\multirecording_spikeanalysis.py:639\u001b[0m, in \u001b[0;36mSpikeAnalysis_MultiRecording.__init__\u001b[1;34m(self, ephyscollection, smoothing_window, timebin, ignore_freq)\u001b[0m\n\u001b[0;32m    637\u001b[0m \u001b[38;5;28mself\u001b[39m\u001b[38;5;241m.\u001b[39mignore_freq \u001b[38;5;241m=\u001b[39m ignore_freq\n\u001b[0;32m    638\u001b[0m \u001b[38;5;28mself\u001b[39m\u001b[38;5;241m.\u001b[39mPCA_matrix \u001b[38;5;241m=\u001b[39m \u001b[38;5;28;01mNone\u001b[39;00m\n\u001b[1;32m--> 639\u001b[0m \u001b[38;5;28mself\u001b[39m\u001b[38;5;241m.\u001b[39m__all_set__()\n",
      "File \u001b[1;32m~\\Documents\\GitHub\\npc_playground\\multirecording_spikeanalysis.py:696\u001b[0m, in \u001b[0;36mSpikeAnalysis_MultiRecording.__all_set__\u001b[1;34m(self)\u001b[0m\n\u001b[0;32m    694\u001b[0m \u001b[38;5;28mself\u001b[39m\u001b[38;5;241m.\u001b[39m__get_whole_spiketrain__()\n\u001b[0;32m    695\u001b[0m \u001b[38;5;28mself\u001b[39m\u001b[38;5;241m.\u001b[39m__get_unit_spiketrains__()\n\u001b[1;32m--> 696\u001b[0m \u001b[38;5;28mself\u001b[39m\u001b[38;5;241m.\u001b[39m__get_unit_firing_rates__()\n",
      "File \u001b[1;32m~\\Documents\\GitHub\\npc_playground\\multirecording_spikeanalysis.py:775\u001b[0m, in \u001b[0;36mSpikeAnalysis_MultiRecording.__get_unit_firing_rates__\u001b[1;34m(self)\u001b[0m\n\u001b[0;32m    773\u001b[0m unit_firing_rates \u001b[38;5;241m=\u001b[39m {}\n\u001b[0;32m    774\u001b[0m \u001b[38;5;28;01mfor\u001b[39;00m unit \u001b[38;5;129;01min\u001b[39;00m recording\u001b[38;5;241m.\u001b[39munit_spiketrains\u001b[38;5;241m.\u001b[39mkeys():\n\u001b[1;32m--> 775\u001b[0m     unit_firing_rates[unit] \u001b[38;5;241m=\u001b[39m get_firing_rate(\n\u001b[0;32m    776\u001b[0m         recording\u001b[38;5;241m.\u001b[39munit_spiketrains[unit],\n\u001b[0;32m    777\u001b[0m         \u001b[38;5;28mself\u001b[39m\u001b[38;5;241m.\u001b[39msmoothing_window,\n\u001b[0;32m    778\u001b[0m         \u001b[38;5;28mself\u001b[39m\u001b[38;5;241m.\u001b[39mtimebin,\n\u001b[0;32m    779\u001b[0m     )\n\u001b[0;32m    780\u001b[0m recording\u001b[38;5;241m.\u001b[39munit_firing_rates \u001b[38;5;241m=\u001b[39m unit_firing_rates\n\u001b[0;32m    781\u001b[0m recording\u001b[38;5;241m.\u001b[39munit_firing_rate_array \u001b[38;5;241m=\u001b[39m np\u001b[38;5;241m.\u001b[39marray(\n\u001b[0;32m    782\u001b[0m     [unit_firing_rates[key] \u001b[38;5;28;01mfor\u001b[39;00m key \u001b[38;5;129;01min\u001b[39;00m unit_firing_rates]\n\u001b[0;32m    783\u001b[0m )\n",
      "File \u001b[1;32m~\\Documents\\GitHub\\npc_playground\\multirecording_spikeanalysis.py:66\u001b[0m, in \u001b[0;36mget_firing_rate\u001b[1;34m(spiketrain, smoothing_window, timebin)\u001b[0m\n\u001b[0;32m     52\u001b[0m \u001b[38;5;250m\u001b[39m\u001b[38;5;124;03m\"\"\"\u001b[39;00m\n\u001b[0;32m     53\u001b[0m \u001b[38;5;124;03mcalculates firing rate (spikes/second)\u001b[39;00m\n\u001b[0;32m     54\u001b[0m \n\u001b[1;32m   (...)\u001b[0m\n\u001b[0;32m     63\u001b[0m \n\u001b[0;32m     64\u001b[0m \u001b[38;5;124;03m\"\"\"\u001b[39;00m\n\u001b[0;32m     65\u001b[0m weights \u001b[38;5;241m=\u001b[39m np\u001b[38;5;241m.\u001b[39mones(smoothing_window) \u001b[38;5;241m/\u001b[39m smoothing_window \u001b[38;5;241m*\u001b[39m \u001b[38;5;241m1000\u001b[39m \u001b[38;5;241m/\u001b[39m timebin\n\u001b[1;32m---> 66\u001b[0m firing_rate \u001b[38;5;241m=\u001b[39m np\u001b[38;5;241m.\u001b[39mconvolve(spiketrain, weights, mode\u001b[38;5;241m=\u001b[39m\u001b[38;5;124m\"\u001b[39m\u001b[38;5;124msame\u001b[39m\u001b[38;5;124m\"\u001b[39m)\n\u001b[0;32m     68\u001b[0m \u001b[38;5;28;01mreturn\u001b[39;00m firing_rate\n",
      "File \u001b[1;32m~\\anaconda3\\Lib\\site-packages\\numpy\\core\\numeric.py:834\u001b[0m, in \u001b[0;36mconvolve\u001b[1;34m(a, v, mode)\u001b[0m\n\u001b[0;32m    832\u001b[0m \u001b[38;5;28;01mif\u001b[39;00m \u001b[38;5;28mlen\u001b[39m(v) \u001b[38;5;241m==\u001b[39m \u001b[38;5;241m0\u001b[39m:\n\u001b[0;32m    833\u001b[0m     \u001b[38;5;28;01mraise\u001b[39;00m \u001b[38;5;167;01mValueError\u001b[39;00m(\u001b[38;5;124m'\u001b[39m\u001b[38;5;124mv cannot be empty\u001b[39m\u001b[38;5;124m'\u001b[39m)\n\u001b[1;32m--> 834\u001b[0m \u001b[38;5;28;01mreturn\u001b[39;00m multiarray\u001b[38;5;241m.\u001b[39mcorrelate(a, v[::\u001b[38;5;241m-\u001b[39m\u001b[38;5;241m1\u001b[39m], mode)\n",
      "\u001b[1;31mMemoryError\u001b[0m: Unable to allocate 23.9 MiB for an array with shape (3134853,) and data type float64"
     ]
    }
   ],
   "source": [
    "omis_spikeanal = spike.SpikeAnalysis_MultiRecording(omis_rcecollection)"
   ]
  },
  {
   "cell_type": "code",
   "execution_count": null,
   "id": "e2b49f60-36f0-41c0-85bd-6d743d3fda06",
   "metadata": {},
   "outputs": [],
   "source": []
  }
 ],
 "metadata": {
  "kernelspec": {
   "display_name": "Python 3 (ipykernel)",
   "language": "python",
   "name": "python3"
  },
  "language_info": {
   "codemirror_mode": {
    "name": "ipython",
    "version": 3
   },
   "file_extension": ".py",
   "mimetype": "text/x-python",
   "name": "python",
   "nbconvert_exporter": "python",
   "pygments_lexer": "ipython3",
   "version": "3.11.7"
  }
 },
 "nbformat": 4,
 "nbformat_minor": 5
}
