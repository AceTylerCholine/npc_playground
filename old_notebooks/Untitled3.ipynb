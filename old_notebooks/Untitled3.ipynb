{
 "cells": [
  {
   "cell_type": "code",
   "execution_count": 1,
   "id": "2a7d1c86-3a2c-44d7-a1df-5b670d020b55",
   "metadata": {},
   "outputs": [],
   "source": [
    "import pickle\n",
    "import multirecording_spikeanalysis as spike\n",
    "import pandas as pd\n",
    "import numpy as np"
   ]
  },
  {
   "cell_type": "code",
   "execution_count": 2,
   "id": "9f396e64-add0-40de-9f02-20f48fefc759",
   "metadata": {},
   "outputs": [],
   "source": [
    "omis_rcecollection = pickle.load(open('rcecollection.pkl', 'rb'))"
   ]
  },
  {
   "cell_type": "code",
   "execution_count": 3,
   "id": "3eb81e18-2353-4ad5-8e25-ee30b12137c9",
   "metadata": {},
   "outputs": [],
   "source": [
    "remove_subjects = set(['20230612_101430_standard_comp_to_training_D1_subj_1-3_t3b3L_box2_merged.rec', \n",
    "                         '20230619_115321_standard_comp_to_omission_D3_subj_1-4_t3b3L_box2_merged.rec', \n",
    "                         '20230622_110832_standard_comp_to_both_rewarded_D1_subj_1-1_t1b3L_box1_merged.rec', \n",
    "                         '20230622_110832_standard_comp_to_both_rewarded_D1_subj_1-2_t3b3L_box1_merged.rec', \n",
    "                         '20230624_105855_standard_comp_to_both_rewarded_D3_subj_1-1_t1b2L_box1_merged.rec', \n",
    "                         '20230624_105855_standard_comp_to_both_rewarded_D3_subj_1-4_t3b3L_box1_merged.rec', \n",
    "                         '20230625_112913_standard_comp_to_both_rewarded_D4_subj_1-1_t1b2L_box1_merged.rec', \n",
    "                         '20230625_112913_standard_comp_to_both_rewarded_D4_subj_1-4_t3b3L_box1_merged.rec', \n",
    "                         '20230628_111202_standard_comp_to_novel_agent_D1_subj_1-1vs1-2and2-2_merged.rec', \n",
    "                         '20230628_111202_standard_comp_to_novel_agent_D1_subj_1-2vs1-1and2-1_merged.rec', \n",
    "                         '20230629_111937_standard_comp_to_novel_agent_D2_subj_1-1v1-4and2-1_merged.rec', \n",
    "                         '20230629_111937_standard_comp_to_novel_agent_D2_subj_1-4vs1-1and2-2_merged.rec', \n",
    "                         '20230630_115506_standard_comp_to_novel_agent_D3_subj_1-4vs1-2and2-1_merged_merged.rec'])\n",
    "\n",
    "for recording in remove_subjects:\n",
    "    omis_rcecollection.collection.pop(recording, None)"
   ]
  },
  {
   "cell_type": "code",
   "execution_count": 4,
   "id": "e403db3b-6bd8-42eb-a563-0396e84688de",
   "metadata": {},
   "outputs": [],
   "source": [
    "label_timestamps = pickle.load(open('recording_to_label_to_timestamps 1.pkl', 'rb'))"
   ]
  },
  {
   "cell_type": "markdown",
   "id": "c4d82f27-382d-4b6a-acca-728b627ae5e7",
   "metadata": {},
   "source": [
    "## The script immediately below this assigns the event dictionary and subject to each recording"
   ]
  },
  {
   "cell_type": "code",
   "execution_count": 6,
   "id": "db861559-b7a7-408e-a408-096fce7016af",
   "metadata": {},
   "outputs": [],
   "source": [
    "for recording in omis_rcecollection.collection.keys():\n",
    "    # Check if the recording key (without the .rec suffix) is in label_timestamps\n",
    "    recording_key_without_suffix = recording[:-4]  # Remove '.rec' from the end\n",
    "    if recording_key_without_suffix in label_timestamps:\n",
    "        # Assign the corresponding label_timestamps dictionary to event_dict\n",
    "        omis_rcecollection.collection[recording].event_dict = label_timestamps[recording_key_without_suffix]\n",
    "        \n",
    "        # Extract the subject from the recording key\n",
    "        # Find the positions of 'subj_' and '_t' to extract the subject\n",
    "        start = recording.find('subj_') + 5  # Start index after 'subj_'\n",
    "        end = recording.find('_t', start)  # End index before '_t'\n",
    "        subject = recording[start:end].replace('-', '_')  # Replace '-' with '_'\n",
    "        \n",
    "        # Assign the extracted subject\n",
    "        omis_rcecollection.collection[recording].subject = subject"
   ]
  },
  {
   "cell_type": "code",
   "execution_count": 7,
   "id": "acf51ebb-ba3b-4694-bc4b-95875c687b49",
   "metadata": {},
   "outputs": [
    {
     "name": "stdout",
     "output_type": "stream",
     "text": [
      "All set to analyze\n"
     ]
    },
    {
     "ename": "KeyboardInterrupt",
     "evalue": "",
     "output_type": "error",
     "traceback": [
      "\u001b[1;31m---------------------------------------------------------------------------\u001b[0m",
      "\u001b[1;31mKeyboardInterrupt\u001b[0m                         Traceback (most recent call last)",
      "Cell \u001b[1;32mIn[7], line 1\u001b[0m\n\u001b[1;32m----> 1\u001b[0m omis_spikeanal \u001b[38;5;241m=\u001b[39m spike\u001b[38;5;241m.\u001b[39mSpikeAnalysis_MultiRecording(omis_rcecollection)\n",
      "File \u001b[1;32m~\\Documents\\GitHub\\npc_playground\\multirecording_spikeanalysis.py:639\u001b[0m, in \u001b[0;36mSpikeAnalysis_MultiRecording.__init__\u001b[1;34m(self, ephyscollection, smoothing_window, timebin, ignore_freq)\u001b[0m\n\u001b[0;32m    637\u001b[0m \u001b[38;5;28mself\u001b[39m\u001b[38;5;241m.\u001b[39mignore_freq \u001b[38;5;241m=\u001b[39m ignore_freq\n\u001b[0;32m    638\u001b[0m \u001b[38;5;28mself\u001b[39m\u001b[38;5;241m.\u001b[39mPCA_matrix \u001b[38;5;241m=\u001b[39m \u001b[38;5;28;01mNone\u001b[39;00m\n\u001b[1;32m--> 639\u001b[0m \u001b[38;5;28mself\u001b[39m\u001b[38;5;241m.\u001b[39m__all_set__()\n",
      "File \u001b[1;32m~\\Documents\\GitHub\\npc_playground\\multirecording_spikeanalysis.py:695\u001b[0m, in \u001b[0;36mSpikeAnalysis_MultiRecording.__all_set__\u001b[1;34m(self)\u001b[0m\n\u001b[0;32m    693\u001b[0m \u001b[38;5;28mprint\u001b[39m(\u001b[38;5;124m\"\u001b[39m\u001b[38;5;124mAll set to analyze\u001b[39m\u001b[38;5;124m\"\u001b[39m)\n\u001b[0;32m    694\u001b[0m \u001b[38;5;28mself\u001b[39m\u001b[38;5;241m.\u001b[39m__get_whole_spiketrain__()\n\u001b[1;32m--> 695\u001b[0m \u001b[38;5;28mself\u001b[39m\u001b[38;5;241m.\u001b[39m__get_unit_spiketrains__()\n\u001b[0;32m    696\u001b[0m \u001b[38;5;28mself\u001b[39m\u001b[38;5;241m.\u001b[39m__get_unit_firing_rates__()\n",
      "File \u001b[1;32m~\\Documents\\GitHub\\npc_playground\\multirecording_spikeanalysis.py:747\u001b[0m, in \u001b[0;36mSpikeAnalysis_MultiRecording.__get_unit_spiketrains__\u001b[1;34m(self)\u001b[0m\n\u001b[0;32m    745\u001b[0m     freq_dict[unit] \u001b[38;5;241m=\u001b[39m unit_freq\n\u001b[0;32m    746\u001b[0m     \u001b[38;5;28;01mif\u001b[39;00m unit_freq \u001b[38;5;241m>\u001b[39m \u001b[38;5;28mself\u001b[39m\u001b[38;5;241m.\u001b[39mignore_freq:\n\u001b[1;32m--> 747\u001b[0m         unit_spiketrains[unit] \u001b[38;5;241m=\u001b[39m get_spiketrain(\n\u001b[0;32m    748\u001b[0m             recording\u001b[38;5;241m.\u001b[39munit_timestamps[unit],\n\u001b[0;32m    749\u001b[0m             last_timestamp,\n\u001b[0;32m    750\u001b[0m             \u001b[38;5;28mself\u001b[39m\u001b[38;5;241m.\u001b[39mtimebin,\n\u001b[0;32m    751\u001b[0m             sampling_rate,\n\u001b[0;32m    752\u001b[0m         )\n\u001b[0;32m    753\u001b[0m recording\u001b[38;5;241m.\u001b[39munit_spiketrains \u001b[38;5;241m=\u001b[39m unit_spiketrains\n\u001b[0;32m    754\u001b[0m recording\u001b[38;5;241m.\u001b[39mfreq_dict \u001b[38;5;241m=\u001b[39m freq_dict\n",
      "File \u001b[1;32m~\\Documents\\GitHub\\npc_playground\\multirecording_spikeanalysis.py:45\u001b[0m, in \u001b[0;36mget_spiketrain\u001b[1;34m(timestamp_array, last_timestamp, timebin, sampling_rate)\u001b[0m\n\u001b[0;32m     30\u001b[0m \u001b[38;5;250m\u001b[39m\u001b[38;5;124;03m\"\"\"\u001b[39;00m\n\u001b[0;32m     31\u001b[0m \u001b[38;5;124;03mcreates a spiketrain of ms time bins\u001b[39;00m\n\u001b[0;32m     32\u001b[0m \u001b[38;5;124;03meach array element is the number of spikes recorded per ms\u001b[39;00m\n\u001b[1;32m   (...)\u001b[0m\n\u001b[0;32m     42\u001b[0m \u001b[38;5;124;03m    of spikes per timebin\u001b[39;00m\n\u001b[0;32m     43\u001b[0m \u001b[38;5;124;03m\"\"\"\u001b[39;00m\n\u001b[0;32m     44\u001b[0m hz_to_timebin \u001b[38;5;241m=\u001b[39m \u001b[38;5;28mint\u001b[39m(sampling_rate \u001b[38;5;241m*\u001b[39m \u001b[38;5;241m0.001\u001b[39m \u001b[38;5;241m*\u001b[39m timebin)\n\u001b[1;32m---> 45\u001b[0m spiketrain \u001b[38;5;241m=\u001b[39m np\u001b[38;5;241m.\u001b[39mhistogram(\n\u001b[0;32m     46\u001b[0m     timestamp_array, bins\u001b[38;5;241m=\u001b[39mnp\u001b[38;5;241m.\u001b[39marange(\u001b[38;5;241m0\u001b[39m, last_timestamp, hz_to_timebin)\n\u001b[0;32m     47\u001b[0m )[\u001b[38;5;241m0\u001b[39m]\n\u001b[0;32m     48\u001b[0m \u001b[38;5;28;01mreturn\u001b[39;00m spiketrain\n",
      "File \u001b[1;32m~\\anaconda3\\Lib\\site-packages\\numpy\\lib\\histograms.py:868\u001b[0m, in \u001b[0;36mhistogram\u001b[1;34m(a, bins, range, density, weights)\u001b[0m\n\u001b[0;32m    866\u001b[0m     \u001b[38;5;28;01mfor\u001b[39;00m i \u001b[38;5;129;01min\u001b[39;00m _range(\u001b[38;5;241m0\u001b[39m, \u001b[38;5;28mlen\u001b[39m(a), BLOCK):\n\u001b[0;32m    867\u001b[0m         sa \u001b[38;5;241m=\u001b[39m np\u001b[38;5;241m.\u001b[39msort(a[i:i\u001b[38;5;241m+\u001b[39mBLOCK])\n\u001b[1;32m--> 868\u001b[0m         cum_n \u001b[38;5;241m+\u001b[39m\u001b[38;5;241m=\u001b[39m _search_sorted_inclusive(sa, bin_edges)\n\u001b[0;32m    869\u001b[0m \u001b[38;5;28;01melse\u001b[39;00m:\n\u001b[0;32m    870\u001b[0m     zero \u001b[38;5;241m=\u001b[39m np\u001b[38;5;241m.\u001b[39mzeros(\u001b[38;5;241m1\u001b[39m, dtype\u001b[38;5;241m=\u001b[39mntype)\n",
      "File \u001b[1;32m~\\anaconda3\\Lib\\site-packages\\numpy\\lib\\histograms.py:461\u001b[0m, in \u001b[0;36m_search_sorted_inclusive\u001b[1;34m(a, v)\u001b[0m\n\u001b[0;32m    454\u001b[0m \u001b[38;5;28;01mdef\u001b[39;00m \u001b[38;5;21m_search_sorted_inclusive\u001b[39m(a, v):\n\u001b[0;32m    455\u001b[0m \u001b[38;5;250m    \u001b[39m\u001b[38;5;124;03m\"\"\"\u001b[39;00m\n\u001b[0;32m    456\u001b[0m \u001b[38;5;124;03m    Like `searchsorted`, but where the last item in `v` is placed on the right.\u001b[39;00m\n\u001b[0;32m    457\u001b[0m \n\u001b[0;32m    458\u001b[0m \u001b[38;5;124;03m    In the context of a histogram, this makes the last bin edge inclusive\u001b[39;00m\n\u001b[0;32m    459\u001b[0m \u001b[38;5;124;03m    \"\"\"\u001b[39;00m\n\u001b[0;32m    460\u001b[0m     \u001b[38;5;28;01mreturn\u001b[39;00m np\u001b[38;5;241m.\u001b[39mconcatenate((\n\u001b[1;32m--> 461\u001b[0m         a\u001b[38;5;241m.\u001b[39msearchsorted(v[:\u001b[38;5;241m-\u001b[39m\u001b[38;5;241m1\u001b[39m], \u001b[38;5;124m'\u001b[39m\u001b[38;5;124mleft\u001b[39m\u001b[38;5;124m'\u001b[39m),\n\u001b[0;32m    462\u001b[0m         a\u001b[38;5;241m.\u001b[39msearchsorted(v[\u001b[38;5;241m-\u001b[39m\u001b[38;5;241m1\u001b[39m:], \u001b[38;5;124m'\u001b[39m\u001b[38;5;124mright\u001b[39m\u001b[38;5;124m'\u001b[39m)\n\u001b[0;32m    463\u001b[0m     ))\n",
      "\u001b[1;31mKeyboardInterrupt\u001b[0m: "
     ]
    }
   ],
   "source": [
    "omis_spikeanal = spike.SpikeAnalysis_MultiRecording(omis_rcecollection)"
   ]
  },
  {
   "cell_type": "code",
   "execution_count": 7,
   "id": "399e946e-b06c-4412-bdbe-41a23686fed2",
   "metadata": {},
   "outputs": [],
   "source": [
    "with open('omis_spikeanal.pkl', 'wb') as file:\n",
    "    pickle.dump(omis_spikeanal, file)"
   ]
  },
  {
   "cell_type": "code",
   "execution_count": 8,
   "id": "bcc308ac-58a2-4f48-ae7f-623d950cc39e",
   "metadata": {},
   "outputs": [
    {
     "name": "stderr",
     "output_type": "stream",
     "text": [
      "C:\\Users\\short\\anaconda3\\Lib\\site-packages\\scipy\\stats\\_morestats.py:4102: UserWarning: Sample size too small for normal approximation.\n",
      "  warnings.warn(\"Sample size too small for normal approximation.\")\n",
      "C:\\Users\\short\\anaconda3\\Lib\\site-packages\\scipy\\stats\\_morestats.py:4102: UserWarning: Sample size too small for normal approximation.\n",
      "  warnings.warn(\"Sample size too small for normal approximation.\")\n",
      "C:\\Users\\short\\anaconda3\\Lib\\site-packages\\scipy\\stats\\_morestats.py:4102: UserWarning: Sample size too small for normal approximation.\n",
      "  warnings.warn(\"Sample size too small for normal approximation.\")\n",
      "C:\\Users\\short\\anaconda3\\Lib\\site-packages\\scipy\\stats\\_morestats.py:4102: UserWarning: Sample size too small for normal approximation.\n",
      "  warnings.warn(\"Sample size too small for normal approximation.\")\n"
     ]
    },
    {
     "ename": "ValueError",
     "evalue": "Length mismatch: Expected axis has 0 elements, new values have 2 elements",
     "output_type": "error",
     "traceback": [
      "\u001b[1;31m---------------------------------------------------------------------------\u001b[0m",
      "\u001b[1;31mValueError\u001b[0m                                Traceback (most recent call last)",
      "Cell \u001b[1;32mIn[8], line 1\u001b[0m\n\u001b[1;32m----> 1\u001b[0m omis_spikeanal\u001b[38;5;241m.\u001b[39mwilcox_baseline_v_event_collection(\u001b[38;5;124m'\u001b[39m\u001b[38;5;124mwin\u001b[39m\u001b[38;5;124m'\u001b[39m, \u001b[38;5;241m10\u001b[39m, \u001b[38;5;241m10\u001b[39m)\n",
      "File \u001b[1;32m~\\Documents\\GitHub\\npc_playground\\multirecording_spikeanalysis.py:1017\u001b[0m, in \u001b[0;36mSpikeAnalysis_MultiRecording.wilcox_baseline_v_event_collection\u001b[1;34m(self, event, equalize, baseline_window, offset, exclude_offset, plot, save)\u001b[0m\n\u001b[0;32m   1012\u001b[0m is_first \u001b[38;5;241m=\u001b[39m \u001b[38;5;28;01mTrue\u001b[39;00m\n\u001b[0;32m   1013\u001b[0m \u001b[38;5;28;01mfor\u001b[39;00m (\n\u001b[0;32m   1014\u001b[0m     recording_name,\n\u001b[0;32m   1015\u001b[0m     recording,\n\u001b[0;32m   1016\u001b[0m ) \u001b[38;5;129;01min\u001b[39;00m \u001b[38;5;28mself\u001b[39m\u001b[38;5;241m.\u001b[39mephyscollection\u001b[38;5;241m.\u001b[39mcollection\u001b[38;5;241m.\u001b[39mitems():\n\u001b[1;32m-> 1017\u001b[0m     recording_df \u001b[38;5;241m=\u001b[39m \u001b[38;5;28mself\u001b[39m\u001b[38;5;241m.\u001b[39m__wilcox_baseline_v_event_stats__(\n\u001b[0;32m   1018\u001b[0m         recording, event, equalize, baseline_window, offset, \n\u001b[0;32m   1019\u001b[0m         exclude_offset, save\n\u001b[0;32m   1020\u001b[0m     )\n\u001b[0;32m   1021\u001b[0m     recording_df \u001b[38;5;241m=\u001b[39m recording_df\u001b[38;5;241m.\u001b[39mreset_index()\u001b[38;5;241m.\u001b[39mrename(\n\u001b[0;32m   1022\u001b[0m         columns\u001b[38;5;241m=\u001b[39m{\u001b[38;5;124m\"\u001b[39m\u001b[38;5;124mindex\u001b[39m\u001b[38;5;124m\"\u001b[39m: \u001b[38;5;124m\"\u001b[39m\u001b[38;5;124moriginal unit id\u001b[39m\u001b[38;5;124m\"\u001b[39m}\n\u001b[0;32m   1023\u001b[0m     )\n\u001b[0;32m   1024\u001b[0m     recording_df[\u001b[38;5;124m\"\u001b[39m\u001b[38;5;124mRecording\u001b[39m\u001b[38;5;124m\"\u001b[39m] \u001b[38;5;241m=\u001b[39m recording_name\n",
      "File \u001b[1;32m~\\Documents\\GitHub\\npc_playground\\multirecording_spikeanalysis.py:963\u001b[0m, in \u001b[0;36mSpikeAnalysis_MultiRecording.__wilcox_baseline_v_event_stats__\u001b[1;34m(self, recording, event, equalize, baseline_window, offset, exclude_offset, save)\u001b[0m\n\u001b[0;32m    961\u001b[0m     wilcoxon_stats[unit] \u001b[38;5;241m=\u001b[39m wilcoxon(unit_averages[unit][\u001b[38;5;241m0\u001b[39m], unit_averages[unit][\u001b[38;5;241m1\u001b[39m], method \u001b[38;5;241m=\u001b[39m \u001b[38;5;124m'\u001b[39m\u001b[38;5;124mapprox\u001b[39m\u001b[38;5;124m'\u001b[39m)\n\u001b[0;32m    962\u001b[0m wilcoxon_df \u001b[38;5;241m=\u001b[39m pd\u001b[38;5;241m.\u001b[39mDataFrame\u001b[38;5;241m.\u001b[39mfrom_dict(wilcoxon_stats, orient\u001b[38;5;241m=\u001b[39m\u001b[38;5;124m'\u001b[39m\u001b[38;5;124mindex\u001b[39m\u001b[38;5;124m'\u001b[39m)\n\u001b[1;32m--> 963\u001b[0m wilcoxon_df\u001b[38;5;241m.\u001b[39mcolumns \u001b[38;5;241m=\u001b[39m [\u001b[38;5;124m'\u001b[39m\u001b[38;5;124mWilcoxon Stat\u001b[39m\u001b[38;5;124m'\u001b[39m, \u001b[38;5;124m'\u001b[39m\u001b[38;5;124mp value\u001b[39m\u001b[38;5;124m'\u001b[39m]\n\u001b[0;32m    964\u001b[0m wilcoxon_df[\u001b[38;5;124m'\u001b[39m\u001b[38;5;124mevent1 vs event2\u001b[39m\u001b[38;5;124m'\u001b[39m] \u001b[38;5;241m=\u001b[39m wilcoxon_df\u001b[38;5;241m.\u001b[39mapply(\n\u001b[0;32m    965\u001b[0m     \u001b[38;5;28;01mlambda\u001b[39;00m row: w_assessment(row[\u001b[38;5;124m'\u001b[39m\u001b[38;5;124mp value\u001b[39m\u001b[38;5;124m'\u001b[39m], row[\u001b[38;5;124m'\u001b[39m\u001b[38;5;124mWilcoxon Stat\u001b[39m\u001b[38;5;124m'\u001b[39m]),\n\u001b[0;32m    966\u001b[0m     axis\u001b[38;5;241m=\u001b[39m\u001b[38;5;241m1\u001b[39m)\n\u001b[0;32m    967\u001b[0m wilcox_key \u001b[38;5;241m=\u001b[39m \u001b[38;5;124mf\u001b[39m\u001b[38;5;124m'\u001b[39m\u001b[38;5;132;01m{\u001b[39;00mequalize\u001b[38;5;132;01m}\u001b[39;00m\u001b[38;5;124ms \u001b[39m\u001b[38;5;132;01m{\u001b[39;00mevent\u001b[38;5;132;01m}\u001b[39;00m\u001b[38;5;124m vs \u001b[39m\u001b[38;5;132;01m{\u001b[39;00mbaseline_window\u001b[38;5;132;01m}\u001b[39;00m\u001b[38;5;124ms baseline\u001b[39m\u001b[38;5;124m'\u001b[39m\n",
      "File \u001b[1;32m~\\anaconda3\\Lib\\site-packages\\pandas\\core\\generic.py:6218\u001b[0m, in \u001b[0;36mNDFrame.__setattr__\u001b[1;34m(self, name, value)\u001b[0m\n\u001b[0;32m   6216\u001b[0m \u001b[38;5;28;01mtry\u001b[39;00m:\n\u001b[0;32m   6217\u001b[0m     \u001b[38;5;28mobject\u001b[39m\u001b[38;5;241m.\u001b[39m\u001b[38;5;21m__getattribute__\u001b[39m(\u001b[38;5;28mself\u001b[39m, name)\n\u001b[1;32m-> 6218\u001b[0m     \u001b[38;5;28;01mreturn\u001b[39;00m \u001b[38;5;28mobject\u001b[39m\u001b[38;5;241m.\u001b[39m\u001b[38;5;21m__setattr__\u001b[39m(\u001b[38;5;28mself\u001b[39m, name, value)\n\u001b[0;32m   6219\u001b[0m \u001b[38;5;28;01mexcept\u001b[39;00m \u001b[38;5;167;01mAttributeError\u001b[39;00m:\n\u001b[0;32m   6220\u001b[0m     \u001b[38;5;28;01mpass\u001b[39;00m\n",
      "File \u001b[1;32mproperties.pyx:69\u001b[0m, in \u001b[0;36mpandas._libs.properties.AxisProperty.__set__\u001b[1;34m()\u001b[0m\n",
      "File \u001b[1;32m~\\anaconda3\\Lib\\site-packages\\pandas\\core\\generic.py:767\u001b[0m, in \u001b[0;36mNDFrame._set_axis\u001b[1;34m(self, axis, labels)\u001b[0m\n\u001b[0;32m    762\u001b[0m \u001b[38;5;250m\u001b[39m\u001b[38;5;124;03m\"\"\"\u001b[39;00m\n\u001b[0;32m    763\u001b[0m \u001b[38;5;124;03mThis is called from the cython code when we set the `index` attribute\u001b[39;00m\n\u001b[0;32m    764\u001b[0m \u001b[38;5;124;03mdirectly, e.g. `series.index = [1, 2, 3]`.\u001b[39;00m\n\u001b[0;32m    765\u001b[0m \u001b[38;5;124;03m\"\"\"\u001b[39;00m\n\u001b[0;32m    766\u001b[0m labels \u001b[38;5;241m=\u001b[39m ensure_index(labels)\n\u001b[1;32m--> 767\u001b[0m \u001b[38;5;28mself\u001b[39m\u001b[38;5;241m.\u001b[39m_mgr\u001b[38;5;241m.\u001b[39mset_axis(axis, labels)\n\u001b[0;32m    768\u001b[0m \u001b[38;5;28mself\u001b[39m\u001b[38;5;241m.\u001b[39m_clear_item_cache()\n",
      "File \u001b[1;32m~\\anaconda3\\Lib\\site-packages\\pandas\\core\\internals\\managers.py:227\u001b[0m, in \u001b[0;36mBaseBlockManager.set_axis\u001b[1;34m(self, axis, new_labels)\u001b[0m\n\u001b[0;32m    225\u001b[0m \u001b[38;5;28;01mdef\u001b[39;00m \u001b[38;5;21mset_axis\u001b[39m(\u001b[38;5;28mself\u001b[39m, axis: AxisInt, new_labels: Index) \u001b[38;5;241m-\u001b[39m\u001b[38;5;241m>\u001b[39m \u001b[38;5;28;01mNone\u001b[39;00m:\n\u001b[0;32m    226\u001b[0m     \u001b[38;5;66;03m# Caller is responsible for ensuring we have an Index object.\u001b[39;00m\n\u001b[1;32m--> 227\u001b[0m     \u001b[38;5;28mself\u001b[39m\u001b[38;5;241m.\u001b[39m_validate_set_axis(axis, new_labels)\n\u001b[0;32m    228\u001b[0m     \u001b[38;5;28mself\u001b[39m\u001b[38;5;241m.\u001b[39maxes[axis] \u001b[38;5;241m=\u001b[39m new_labels\n",
      "File \u001b[1;32m~\\anaconda3\\Lib\\site-packages\\pandas\\core\\internals\\base.py:85\u001b[0m, in \u001b[0;36mDataManager._validate_set_axis\u001b[1;34m(self, axis, new_labels)\u001b[0m\n\u001b[0;32m     82\u001b[0m     \u001b[38;5;28;01mpass\u001b[39;00m\n\u001b[0;32m     84\u001b[0m \u001b[38;5;28;01melif\u001b[39;00m new_len \u001b[38;5;241m!=\u001b[39m old_len:\n\u001b[1;32m---> 85\u001b[0m     \u001b[38;5;28;01mraise\u001b[39;00m \u001b[38;5;167;01mValueError\u001b[39;00m(\n\u001b[0;32m     86\u001b[0m         \u001b[38;5;124mf\u001b[39m\u001b[38;5;124m\"\u001b[39m\u001b[38;5;124mLength mismatch: Expected axis has \u001b[39m\u001b[38;5;132;01m{\u001b[39;00mold_len\u001b[38;5;132;01m}\u001b[39;00m\u001b[38;5;124m elements, new \u001b[39m\u001b[38;5;124m\"\u001b[39m\n\u001b[0;32m     87\u001b[0m         \u001b[38;5;124mf\u001b[39m\u001b[38;5;124m\"\u001b[39m\u001b[38;5;124mvalues have \u001b[39m\u001b[38;5;132;01m{\u001b[39;00mnew_len\u001b[38;5;132;01m}\u001b[39;00m\u001b[38;5;124m elements\u001b[39m\u001b[38;5;124m\"\u001b[39m\n\u001b[0;32m     88\u001b[0m     )\n",
      "\u001b[1;31mValueError\u001b[0m: Length mismatch: Expected axis has 0 elements, new values have 2 elements"
     ]
    }
   ],
   "source": [
    "omis_spikeanal.wilcox_baseline_v_event_collection('win', 10, 10)"
   ]
  },
  {
   "cell_type": "code",
   "execution_count": 9,
   "id": "c29b2c17-1782-47fa-a5cc-b590d5895c35",
   "metadata": {},
   "outputs": [
    {
     "data": {
      "text/plain": [
       "dict_keys(['20230618_100636_standard_comp_to_omission_D2_subj_1_1_t1b2L_box2_merged.rec', '20230618_100636_standard_comp_to_omission_D2_subj_1_4_t4b3L_box1_merged.rec', '20230620_114347_standard_comp_to_omission_D4_subj_1-1_t1b2L_box_2_merged.rec', '20230620_114347_standard_comp_to_omission_D4_subj_1-2_t3b3L_box_1_merged.rec', '20230621_111240_standard_comp_to_omission_D5_subj_1-4_t3b3L_box1_merged.rec'])"
      ]
     },
     "execution_count": 9,
     "metadata": {},
     "output_type": "execute_result"
    }
   ],
   "source": [
    "omis_rcecollection.collection.keys()"
   ]
  },
  {
   "cell_type": "code",
   "execution_count": 11,
   "id": "8ce96b22-4cae-4808-ad93-d308819eb073",
   "metadata": {},
   "outputs": [],
   "source": [
    "od2s11 = omis_rcecollection.collection['20230618_100636_standard_comp_to_omission_D2_subj_1_1_t1b2L_box2_merged.rec']"
   ]
  },
  {
   "cell_type": "code",
   "execution_count": 12,
   "id": "711ea555-a73d-4c44-a0a6-a123a7181531",
   "metadata": {},
   "outputs": [
    {
     "data": {
      "text/plain": [
       "'1_1'"
      ]
     },
     "execution_count": 12,
     "metadata": {},
     "output_type": "execute_result"
    }
   ],
   "source": [
    "od2s11.subject"
   ]
  },
  {
   "cell_type": "code",
   "execution_count": 13,
   "id": "f3fa9347-b088-4009-ad48-6ce3a284244a",
   "metadata": {},
   "outputs": [
    {
     "data": {
      "text/plain": [
       "{'lose': array([[  54962,   64962],\n",
       "        [ 379962,  389962],\n",
       "        [ 484962,  494962],\n",
       "        [ 579962,  589962],\n",
       "        [ 654962,  664962],\n",
       "        [1554961, 1564961]], dtype=int64),\n",
       " 'omission': array([[2294961, 2304961],\n",
       "        [2909961, 2919961],\n",
       "        [3209961, 3219961]], dtype=int64),\n",
       " 'rewarded': array([[1854961, 1864961],\n",
       "        [1914961, 1924961],\n",
       "        [1969961, 1979961],\n",
       "        [2034961, 2044961],\n",
       "        [2089961, 2099961],\n",
       "        [2139961, 2149961],\n",
       "        [2189961, 2199961],\n",
       "        [2414961, 2424961],\n",
       "        [2534961, 2544961],\n",
       "        [2644961, 2654961],\n",
       "        [2729961, 2739961],\n",
       "        [2849961, 2859961],\n",
       "        [2974961, 2984961],\n",
       "        [3034961, 3044961],\n",
       "        [3109961, 3119961]], dtype=int64),\n",
       " 'win': array([[ 174962,  184962],\n",
       "        [ 289962,  299962],\n",
       "        [ 434962,  444962],\n",
       "        [ 759962,  769962],\n",
       "        [ 809962,  819962],\n",
       "        [ 889962,  899962],\n",
       "        [ 954962,  964962],\n",
       "        [1019962, 1029962],\n",
       "        [1069962, 1079962],\n",
       "        [1139962, 1149962],\n",
       "        [1234962, 1244962],\n",
       "        [1314962, 1324962],\n",
       "        [1384962, 1394961],\n",
       "        [1494962, 1504961]], dtype=int64)}"
      ]
     },
     "execution_count": 13,
     "metadata": {},
     "output_type": "execute_result"
    }
   ],
   "source": [
    "od2s11.event_dict"
   ]
  },
  {
   "cell_type": "code",
   "execution_count": 14,
   "id": "e7a4d4cc-cfe9-43fc-987e-9d3cedf8d027",
   "metadata": {},
   "outputs": [
    {
     "data": {
      "text/plain": [
       "dict_items([('20230618_100636_standard_comp_to_omission_D2_subj_1_1_t1b2L_box2_merged.rec', <multirecording_spikeanalysis.EphysRecording object at 0x0000021D309ECF50>), ('20230618_100636_standard_comp_to_omission_D2_subj_1_4_t4b3L_box1_merged.rec', <multirecording_spikeanalysis.EphysRecording object at 0x0000021D309EFF90>), ('20230620_114347_standard_comp_to_omission_D4_subj_1-1_t1b2L_box_2_merged.rec', <multirecording_spikeanalysis.EphysRecording object at 0x0000021D309FD750>), ('20230620_114347_standard_comp_to_omission_D4_subj_1-2_t3b3L_box_1_merged.rec', <multirecording_spikeanalysis.EphysRecording object at 0x0000021D309FF550>), ('20230621_111240_standard_comp_to_omission_D5_subj_1-4_t3b3L_box1_merged.rec', <multirecording_spikeanalysis.EphysRecording object at 0x0000021D30A0ED90>)])"
      ]
     },
     "execution_count": 14,
     "metadata": {},
     "output_type": "execute_result"
    }
   ],
   "source": [
    "omis_spikeanal.ephyscollection.collection.items()"
   ]
  },
  {
   "cell_type": "code",
   "execution_count": 17,
   "id": "dec7d21f-7d2c-46b6-9434-9f94eba77681",
   "metadata": {},
   "outputs": [
    {
     "data": {
      "text/plain": [
       "<bound method SpikeAnalysis_MultiRecording.__wilcox_baseline_v_event_stats__ of <multirecording_spikeanalysis.SpikeAnalysis_MultiRecording object at 0x0000021D309FBB10>>"
      ]
     },
     "execution_count": 17,
     "metadata": {},
     "output_type": "execute_result"
    }
   ],
   "source": [
    "omis_spikeanal.__wilcox_baseline_v_event_stats__"
   ]
  },
  {
   "cell_type": "code",
   "execution_count": 18,
   "id": "aba7938e-3ce1-4961-9baf-dd677611557a",
   "metadata": {},
   "outputs": [
    {
     "data": {
      "text/plain": [
       "<multirecording_spikeanalysis.EphysRecording at 0x21d309ecf50>"
      ]
     },
     "execution_count": 18,
     "metadata": {},
     "output_type": "execute_result"
    }
   ],
   "source": [
    "omis_spikeanal.ephyscollection.collection['20230618_100636_standard_comp_to_omission_D2_subj_1_1_t1b2L_box2_merged.rec']"
   ]
  },
  {
   "cell_type": "code",
   "execution_count": 19,
   "id": "d7b624bb-929b-4910-abdf-7f66cdaece84",
   "metadata": {},
   "outputs": [],
   "source": [
    "osod2s11 = omis_spikeanal.ephyscollection.collection['20230618_100636_standard_comp_to_omission_D2_subj_1_1_t1b2L_box2_merged.rec']"
   ]
  },
  {
   "cell_type": "code",
   "execution_count": 20,
   "id": "d1bb88e3-a18a-4435-bc2d-4cbea14c4efe",
   "metadata": {},
   "outputs": [
    {
     "ename": "AttributeError",
     "evalue": "'EphysRecording' object has no attribute 'recording_df'",
     "output_type": "error",
     "traceback": [
      "\u001b[1;31m---------------------------------------------------------------------------\u001b[0m",
      "\u001b[1;31mAttributeError\u001b[0m                            Traceback (most recent call last)",
      "Cell \u001b[1;32mIn[20], line 1\u001b[0m\n\u001b[1;32m----> 1\u001b[0m osod2s11\u001b[38;5;241m.\u001b[39mrecording_df\n",
      "\u001b[1;31mAttributeError\u001b[0m: 'EphysRecording' object has no attribute 'recording_df'"
     ]
    }
   ],
   "source": [
    "osod2s11.recording_df"
   ]
  },
  {
   "cell_type": "code",
   "execution_count": 24,
   "id": "3a2dbb6e-f7d1-42fb-b3e0-8c263edced07",
   "metadata": {},
   "outputs": [
    {
     "ename": "KeyError",
     "evalue": "<multirecording_spikeanalysis.EphysRecording object at 0x0000021D309ECF50>",
     "output_type": "error",
     "traceback": [
      "\u001b[1;31m---------------------------------------------------------------------------\u001b[0m",
      "\u001b[1;31mKeyError\u001b[0m                                  Traceback (most recent call last)",
      "Cell \u001b[1;32mIn[24], line 1\u001b[0m\n\u001b[1;32m----> 1\u001b[0m omis_spikeanal\u001b[38;5;241m.\u001b[39mwilcox_baseline_v_event_collection(osod2s11, \u001b[38;5;124m'\u001b[39m\u001b[38;5;124mwin\u001b[39m\u001b[38;5;124m'\u001b[39m, \u001b[38;5;241m10\u001b[39m)\n",
      "File \u001b[1;32m~\\Documents\\GitHub\\npc_playground\\multirecording_spikeanalysis.py:1017\u001b[0m, in \u001b[0;36mSpikeAnalysis_MultiRecording.wilcox_baseline_v_event_collection\u001b[1;34m(self, event, equalize, baseline_window, offset, exclude_offset, plot, save)\u001b[0m\n\u001b[0;32m   1012\u001b[0m is_first \u001b[38;5;241m=\u001b[39m \u001b[38;5;28;01mTrue\u001b[39;00m\n\u001b[0;32m   1013\u001b[0m \u001b[38;5;28;01mfor\u001b[39;00m (\n\u001b[0;32m   1014\u001b[0m     recording_name,\n\u001b[0;32m   1015\u001b[0m     recording,\n\u001b[0;32m   1016\u001b[0m ) \u001b[38;5;129;01min\u001b[39;00m \u001b[38;5;28mself\u001b[39m\u001b[38;5;241m.\u001b[39mephyscollection\u001b[38;5;241m.\u001b[39mcollection\u001b[38;5;241m.\u001b[39mitems():\n\u001b[1;32m-> 1017\u001b[0m     recording_df \u001b[38;5;241m=\u001b[39m \u001b[38;5;28mself\u001b[39m\u001b[38;5;241m.\u001b[39m__wilcox_baseline_v_event_stats__(\n\u001b[0;32m   1018\u001b[0m         recording, event, equalize, baseline_window, offset, \n\u001b[0;32m   1019\u001b[0m         exclude_offset, save\n\u001b[0;32m   1020\u001b[0m     )\n\u001b[0;32m   1021\u001b[0m     recording_df \u001b[38;5;241m=\u001b[39m recording_df\u001b[38;5;241m.\u001b[39mreset_index()\u001b[38;5;241m.\u001b[39mrename(\n\u001b[0;32m   1022\u001b[0m         columns\u001b[38;5;241m=\u001b[39m{\u001b[38;5;124m\"\u001b[39m\u001b[38;5;124mindex\u001b[39m\u001b[38;5;124m\"\u001b[39m: \u001b[38;5;124m\"\u001b[39m\u001b[38;5;124moriginal unit id\u001b[39m\u001b[38;5;124m\"\u001b[39m}\n\u001b[0;32m   1023\u001b[0m     )\n\u001b[0;32m   1024\u001b[0m     recording_df[\u001b[38;5;124m\"\u001b[39m\u001b[38;5;124mRecording\u001b[39m\u001b[38;5;124m\"\u001b[39m] \u001b[38;5;241m=\u001b[39m recording_name\n",
      "File \u001b[1;32m~\\Documents\\GitHub\\npc_playground\\multirecording_spikeanalysis.py:940\u001b[0m, in \u001b[0;36mSpikeAnalysis_MultiRecording.__wilcox_baseline_v_event_stats__\u001b[1;34m(self, recording, event, equalize, baseline_window, offset, exclude_offset, save)\u001b[0m\n\u001b[0;32m    901\u001b[0m \u001b[38;5;28;01mdef\u001b[39;00m \u001b[38;5;21m__wilcox_baseline_v_event_stats__\u001b[39m(\n\u001b[0;32m    902\u001b[0m     \u001b[38;5;28mself\u001b[39m, recording, event, equalize, baseline_window, offset,\n\u001b[0;32m    903\u001b[0m     exclude_offset, save\n\u001b[0;32m    904\u001b[0m      ):\n\u001b[0;32m    905\u001b[0m \u001b[38;5;250m    \u001b[39m\u001b[38;5;124;03m\"\"\"\u001b[39;00m\n\u001b[0;32m    906\u001b[0m \u001b[38;5;124;03m    calculates wilcoxon signed-rank test for average firing rates of two\u001b[39;00m\n\u001b[0;32m    907\u001b[0m \u001b[38;5;124;03m    windows: event vs baseline\u001b[39;00m\n\u001b[1;32m   (...)\u001b[0m\n\u001b[0;32m    938\u001b[0m \n\u001b[0;32m    939\u001b[0m \u001b[38;5;124;03m    \"\"\"\u001b[39;00m\n\u001b[1;32m--> 940\u001b[0m     preevent_baselines \u001b[38;5;241m=\u001b[39m np\u001b[38;5;241m.\u001b[39marray([pre_event_window(event, baseline_window, offset) \u001b[38;5;28;01mfor\u001b[39;00m event \u001b[38;5;129;01min\u001b[39;00m recording\u001b[38;5;241m.\u001b[39mevent_dict[event]])\n\u001b[0;32m    941\u001b[0m     unit_baseline_firing_rates \u001b[38;5;241m=\u001b[39m \u001b[38;5;28mself\u001b[39m\u001b[38;5;241m.\u001b[39m__get_unit_event_firing_rates__(recording, preevent_baselines, equalize \u001b[38;5;241m=\u001b[39m (baseline_window \u001b[38;5;241m+\u001b[39m offset), pre_window \u001b[38;5;241m=\u001b[39m \u001b[38;5;241m0\u001b[39m, post_window\u001b[38;5;241m=\u001b[39m \u001b[38;5;241m0\u001b[39m)\n\u001b[0;32m    942\u001b[0m     \u001b[38;5;28;01mif\u001b[39;00m exclude_offset:\n",
      "\u001b[1;31mKeyError\u001b[0m: <multirecording_spikeanalysis.EphysRecording object at 0x0000021D309ECF50>"
     ]
    }
   ],
   "source": [
    "omis_spikeanal.wilcox_baseline_v_event_collection(osod2s11, 'win', 10)"
   ]
  },
  {
   "cell_type": "code",
   "execution_count": 25,
   "id": "54c7f87a-fe29-4891-b87f-c42bef4ec990",
   "metadata": {},
   "outputs": [],
   "source": [
    "od2s11 = omis_rcecollection.collection['20230618_100636_standard_comp_to_omission_D2_subj_1_1_t1b2L_box2_merged.rec']"
   ]
  },
  {
   "cell_type": "code",
   "execution_count": 26,
   "id": "daf32b33-434a-4160-8a35-d1e09e5ea024",
   "metadata": {},
   "outputs": [
    {
     "ename": "KeyError",
     "evalue": "<multirecording_spikeanalysis.EphysRecording object at 0x0000021D309ECF50>",
     "output_type": "error",
     "traceback": [
      "\u001b[1;31m---------------------------------------------------------------------------\u001b[0m",
      "\u001b[1;31mKeyError\u001b[0m                                  Traceback (most recent call last)",
      "Cell \u001b[1;32mIn[26], line 1\u001b[0m\n\u001b[1;32m----> 1\u001b[0m omis_spikeanal\u001b[38;5;241m.\u001b[39mwilcox_baseline_v_event_collection(od2s11, \u001b[38;5;124m'\u001b[39m\u001b[38;5;124mwin\u001b[39m\u001b[38;5;124m'\u001b[39m, \u001b[38;5;241m10\u001b[39m)\n",
      "File \u001b[1;32m~\\Documents\\GitHub\\npc_playground\\multirecording_spikeanalysis.py:1017\u001b[0m, in \u001b[0;36mSpikeAnalysis_MultiRecording.wilcox_baseline_v_event_collection\u001b[1;34m(self, event, equalize, baseline_window, offset, exclude_offset, plot, save)\u001b[0m\n\u001b[0;32m   1012\u001b[0m is_first \u001b[38;5;241m=\u001b[39m \u001b[38;5;28;01mTrue\u001b[39;00m\n\u001b[0;32m   1013\u001b[0m \u001b[38;5;28;01mfor\u001b[39;00m (\n\u001b[0;32m   1014\u001b[0m     recording_name,\n\u001b[0;32m   1015\u001b[0m     recording,\n\u001b[0;32m   1016\u001b[0m ) \u001b[38;5;129;01min\u001b[39;00m \u001b[38;5;28mself\u001b[39m\u001b[38;5;241m.\u001b[39mephyscollection\u001b[38;5;241m.\u001b[39mcollection\u001b[38;5;241m.\u001b[39mitems():\n\u001b[1;32m-> 1017\u001b[0m     recording_df \u001b[38;5;241m=\u001b[39m \u001b[38;5;28mself\u001b[39m\u001b[38;5;241m.\u001b[39m__wilcox_baseline_v_event_stats__(\n\u001b[0;32m   1018\u001b[0m         recording, event, equalize, baseline_window, offset, \n\u001b[0;32m   1019\u001b[0m         exclude_offset, save\n\u001b[0;32m   1020\u001b[0m     )\n\u001b[0;32m   1021\u001b[0m     recording_df \u001b[38;5;241m=\u001b[39m recording_df\u001b[38;5;241m.\u001b[39mreset_index()\u001b[38;5;241m.\u001b[39mrename(\n\u001b[0;32m   1022\u001b[0m         columns\u001b[38;5;241m=\u001b[39m{\u001b[38;5;124m\"\u001b[39m\u001b[38;5;124mindex\u001b[39m\u001b[38;5;124m\"\u001b[39m: \u001b[38;5;124m\"\u001b[39m\u001b[38;5;124moriginal unit id\u001b[39m\u001b[38;5;124m\"\u001b[39m}\n\u001b[0;32m   1023\u001b[0m     )\n\u001b[0;32m   1024\u001b[0m     recording_df[\u001b[38;5;124m\"\u001b[39m\u001b[38;5;124mRecording\u001b[39m\u001b[38;5;124m\"\u001b[39m] \u001b[38;5;241m=\u001b[39m recording_name\n",
      "File \u001b[1;32m~\\Documents\\GitHub\\npc_playground\\multirecording_spikeanalysis.py:940\u001b[0m, in \u001b[0;36mSpikeAnalysis_MultiRecording.__wilcox_baseline_v_event_stats__\u001b[1;34m(self, recording, event, equalize, baseline_window, offset, exclude_offset, save)\u001b[0m\n\u001b[0;32m    901\u001b[0m \u001b[38;5;28;01mdef\u001b[39;00m \u001b[38;5;21m__wilcox_baseline_v_event_stats__\u001b[39m(\n\u001b[0;32m    902\u001b[0m     \u001b[38;5;28mself\u001b[39m, recording, event, equalize, baseline_window, offset,\n\u001b[0;32m    903\u001b[0m     exclude_offset, save\n\u001b[0;32m    904\u001b[0m      ):\n\u001b[0;32m    905\u001b[0m \u001b[38;5;250m    \u001b[39m\u001b[38;5;124;03m\"\"\"\u001b[39;00m\n\u001b[0;32m    906\u001b[0m \u001b[38;5;124;03m    calculates wilcoxon signed-rank test for average firing rates of two\u001b[39;00m\n\u001b[0;32m    907\u001b[0m \u001b[38;5;124;03m    windows: event vs baseline\u001b[39;00m\n\u001b[1;32m   (...)\u001b[0m\n\u001b[0;32m    938\u001b[0m \n\u001b[0;32m    939\u001b[0m \u001b[38;5;124;03m    \"\"\"\u001b[39;00m\n\u001b[1;32m--> 940\u001b[0m     preevent_baselines \u001b[38;5;241m=\u001b[39m np\u001b[38;5;241m.\u001b[39marray([pre_event_window(event, baseline_window, offset) \u001b[38;5;28;01mfor\u001b[39;00m event \u001b[38;5;129;01min\u001b[39;00m recording\u001b[38;5;241m.\u001b[39mevent_dict[event]])\n\u001b[0;32m    941\u001b[0m     unit_baseline_firing_rates \u001b[38;5;241m=\u001b[39m \u001b[38;5;28mself\u001b[39m\u001b[38;5;241m.\u001b[39m__get_unit_event_firing_rates__(recording, preevent_baselines, equalize \u001b[38;5;241m=\u001b[39m (baseline_window \u001b[38;5;241m+\u001b[39m offset), pre_window \u001b[38;5;241m=\u001b[39m \u001b[38;5;241m0\u001b[39m, post_window\u001b[38;5;241m=\u001b[39m \u001b[38;5;241m0\u001b[39m)\n\u001b[0;32m    942\u001b[0m     \u001b[38;5;28;01mif\u001b[39;00m exclude_offset:\n",
      "\u001b[1;31mKeyError\u001b[0m: <multirecording_spikeanalysis.EphysRecording object at 0x0000021D309ECF50>"
     ]
    }
   ],
   "source": [
    "omis_spikeanal.wilcox_baseline_v_event_collection(od2s11, 'win', 10)"
   ]
  },
  {
   "cell_type": "code",
   "execution_count": null,
   "id": "3325c837-8252-4522-9cd2-49f33b72daff",
   "metadata": {},
   "outputs": [],
   "source": []
  }
 ],
 "metadata": {
  "kernelspec": {
   "display_name": "Python 3 (ipykernel)",
   "language": "python",
   "name": "python3"
  },
  "language_info": {
   "codemirror_mode": {
    "name": "ipython",
    "version": 3
   },
   "file_extension": ".py",
   "mimetype": "text/x-python",
   "name": "python",
   "nbconvert_exporter": "python",
   "pygments_lexer": "ipython3",
   "version": "3.11.7"
  }
 },
 "nbformat": 4,
 "nbformat_minor": 5
}
