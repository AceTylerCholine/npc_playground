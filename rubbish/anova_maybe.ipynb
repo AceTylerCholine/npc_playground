{
 "cells": [
  {
   "cell_type": "code",
   "execution_count": 1,
   "id": "6f731beb-db4a-4b73-be9e-ca428e251b9c",
   "metadata": {
    "execution": {
     "iopub.execute_input": "2024-07-17T22:47:58.971616Z",
     "iopub.status.busy": "2024-07-17T22:47:58.970630Z",
     "iopub.status.idle": "2024-07-17T22:48:03.069398Z",
     "shell.execute_reply": "2024-07-17T22:48:03.068391Z",
     "shell.execute_reply.started": "2024-07-17T22:47:58.971616Z"
    }
   },
   "outputs": [],
   "source": [
    "import pandas as pd\n",
    "import numpy as np\n",
    "from scipy import stats\n",
    "\n",
    "# Sample data loading (modify this with your actual data path and method)\n",
    "data = {\n",
    "    'unit': ['unit1', 'unit2', 'unit3', 'unit4', 'unit5'],\n",
    "    'a': [0, 4, 5, 1, 7],\n",
    "    'b': [1, 5, 3, 7, 5],\n",
    "    'c': [1, 0, 1, 0, 1]\n",
    "}\n",
    "\n",
    "df = pd.DataFrame(data)\n",
    "\n",
    "# To perform ANOVA, we need to reshape this data to a long format\n",
    "df_long = pd.melt(df, id_vars=['unit'], value_vars=['a', 'b', 'c'], var_name='group', value_name='value')\n"
   ]
  },
  {
   "cell_type": "code",
   "execution_count": 2,
   "id": "d6108d1b-74fe-4231-9097-650892acb6ab",
   "metadata": {
    "execution": {
     "iopub.execute_input": "2024-07-17T22:48:06.623547Z",
     "iopub.status.busy": "2024-07-17T22:48:06.623547Z",
     "iopub.status.idle": "2024-07-17T22:48:06.648543Z",
     "shell.execute_reply": "2024-07-17T22:48:06.646543Z",
     "shell.execute_reply.started": "2024-07-17T22:48:06.623547Z"
    }
   },
   "outputs": [
    {
     "name": "stdout",
     "output_type": "stream",
     "text": [
      "F-statistic: 3.8840579710144922, P-value: 0.05003752254462882\n"
     ]
    }
   ],
   "source": [
    "# Perform the ANOVA\n",
    "anova_result = stats.f_oneway(df_long[df_long['group'] == 'a']['value'],\n",
    "                              df_long[df_long['group'] == 'b']['value'],\n",
    "                              df_long[df_long['group'] == 'c']['value'])\n",
    "\n",
    "print(f\"F-statistic: {anova_result.statistic}, P-value: {anova_result.pvalue}\")\n"
   ]
  },
  {
   "cell_type": "code",
   "execution_count": 3,
   "id": "4814949a-f5bf-48b6-9c7d-2926b335a83d",
   "metadata": {
    "execution": {
     "iopub.execute_input": "2024-07-17T22:48:19.003305Z",
     "iopub.status.busy": "2024-07-17T22:48:19.003305Z",
     "iopub.status.idle": "2024-07-17T22:48:19.941230Z",
     "shell.execute_reply": "2024-07-17T22:48:19.940238Z",
     "shell.execute_reply.started": "2024-07-17T22:48:19.003305Z"
    }
   },
   "outputs": [
    {
     "name": "stdout",
     "output_type": "stream",
     "text": [
      "Multiple Comparison of Means - Tukey HSD, FWER=0.05\n",
      "===================================================\n",
      "group1 group2 meandiff p-adj   lower  upper  reject\n",
      "---------------------------------------------------\n",
      "     a      b      0.8 0.8281 -2.8189 4.4189  False\n",
      "     a      c     -2.8 0.1394 -6.4189 0.8189  False\n",
      "     b      c     -3.6 0.0512 -7.2189 0.0189  False\n",
      "---------------------------------------------------\n"
     ]
    }
   ],
   "source": [
    "from statsmodels.stats.multicomp import pairwise_tukeyhsd\n",
    "\n",
    "# Perform Tukey's HSD test\n",
    "tukey_result = pairwise_tukeyhsd(endog=df_long['value'], groups=df_long['group'], alpha=0.05)\n",
    "print(tukey_result)\n"
   ]
  },
  {
   "cell_type": "code",
   "execution_count": 4,
   "id": "e60e4cef-f344-47aa-bd00-acbcaafbd046",
   "metadata": {
    "execution": {
     "iopub.execute_input": "2024-07-17T22:53:16.850723Z",
     "iopub.status.busy": "2024-07-17T22:53:16.850723Z",
     "iopub.status.idle": "2024-07-17T22:53:16.897597Z",
     "shell.execute_reply": "2024-07-17T22:53:16.897597Z",
     "shell.execute_reply.started": "2024-07-17T22:53:16.850723Z"
    }
   },
   "outputs": [
    {
     "name": "stdout",
     "output_type": "stream",
     "text": [
      "    unit category  value\n",
      "0  unit1        a      1\n",
      "1  unit1        a      0\n",
      "2  unit1        a      1\n",
      "3  unit1        b      1\n",
      "4  unit1        b      0\n"
     ]
    }
   ],
   "source": [
    "import pandas as pd\n",
    "\n",
    "# Data dictionary, with each key corresponding to a column in the DataFrame\n",
    "data = {\n",
    "    'unit': ['unit1', 'unit1', 'unit1', 'unit1', 'unit1', 'unit1', 'unit1', 'unit1', 'unit1', 'unit1', 'unit1', 'unit1', 'unit1', 'unit1', 'unit1', 'unit1', 'unit1', 'unit1',\n",
    "             'unit2', 'unit2', 'unit2', 'unit2', 'unit2', 'unit2', 'unit2', 'unit2', 'unit2', 'unit2', 'unit2', 'unit2', 'unit2', 'unit2', 'unit2', 'unit2', 'unit2', 'unit2',\n",
    "             'unit3', 'unit3', 'unit3', 'unit3', 'unit3', 'unit3', 'unit3', 'unit3', 'unit3', 'unit3', 'unit3', 'unit3', 'unit3', 'unit3', 'unit3', 'unit3', 'unit3', 'unit3',\n",
    "             'unit4', 'unit4', 'unit4', 'unit4', 'unit4', 'unit4', 'unit4', 'unit4', 'unit4', 'unit4', 'unit4', 'unit4', 'unit4', 'unit4', 'unit4', 'unit4', 'unit4', 'unit4',\n",
    "             'unit5', 'unit5', 'unit5', 'unit5', 'unit5', 'unit5', 'unit5', 'unit5', 'unit5', 'unit5', 'unit5', 'unit5', 'unit5', 'unit5', 'unit5', 'unit5', 'unit5', 'unit5'],\n",
    "    'category': ['a', 'a', 'a', 'b', 'b', 'c', 'a', 'a', 'a', 'b', 'b', 'c', 'a', 'a', 'a', 'b', 'b', 'c',\n",
    "                 'a', 'a', 'a', 'b', 'b', 'c', 'a', 'a', 'a', 'b', 'b', 'c', 'a', 'a', 'a', 'b', 'b', 'c',\n",
    "                 'a', 'a', 'a', 'b', 'b', 'c', 'a', 'a', 'a', 'b', 'b', 'c', 'a', 'a', 'a', 'b', 'b', 'c',\n",
    "                 'a', 'a', 'a', 'b', 'b', 'c', 'a', 'a', 'a', 'b', 'b', 'c', 'a', 'a', 'a', 'b', 'b', 'c',\n",
    "                 'a', 'a', 'a', 'b', 'b', 'c', 'a', 'a', 'a', 'b', 'b', 'c', 'a', 'a', 'a', 'b', 'b', 'c'],\n",
    "    'value': [1, 0, 1, 1, 0, 2, 2, 2, 0, 1, 0, 2, 2, 1, 2, 1, 0, 1,\n",
    "              3, 1, 1, 0, 4, 1, 3, 1, 0, 5, 2, 0, 1, 0, 1, 3, 1, 2,\n",
    "              4, 4, 4, 5, 3, 0, 4, 5, 3, 3, 3, 2, 5, 4, 3, 4, 5, 0,\n",
    "              7, 3, 6, 6, 3, 1, 6, 1, 5, 4, 2, 2, 3, 2, 0, 1, 0, 0,\n",
    "              4, 5, 5, 5, 5, 1, 4, 5, 6, 7, 6, 1, 7, 5, 7, 4, 5, 1]\n",
    "}\n",
    "\n",
    "# Create DataFrame\n",
    "df = pd.DataFrame(data)\n",
    "\n",
    "# Display the DataFrame to verify\n",
    "print(df.head())"
   ]
  },
  {
   "cell_type": "code",
   "execution_count": 5,
   "id": "6fd0485a-1b15-4371-91a9-dfd00cd966e5",
   "metadata": {
    "execution": {
     "iopub.execute_input": "2024-07-17T22:53:24.093663Z",
     "iopub.status.busy": "2024-07-17T22:53:24.093663Z",
     "iopub.status.idle": "2024-07-17T22:53:24.140948Z",
     "shell.execute_reply": "2024-07-17T22:53:24.140948Z",
     "shell.execute_reply.started": "2024-07-17T22:53:24.093663Z"
    }
   },
   "outputs": [
    {
     "data": {
      "text/html": [
       "<div>\n",
       "<style scoped>\n",
       "    .dataframe tbody tr th:only-of-type {\n",
       "        vertical-align: middle;\n",
       "    }\n",
       "\n",
       "    .dataframe tbody tr th {\n",
       "        vertical-align: top;\n",
       "    }\n",
       "\n",
       "    .dataframe thead th {\n",
       "        text-align: right;\n",
       "    }\n",
       "</style>\n",
       "<table border=\"1\" class=\"dataframe\">\n",
       "  <thead>\n",
       "    <tr style=\"text-align: right;\">\n",
       "      <th></th>\n",
       "      <th>unit</th>\n",
       "      <th>category</th>\n",
       "      <th>value</th>\n",
       "    </tr>\n",
       "  </thead>\n",
       "  <tbody>\n",
       "    <tr>\n",
       "      <th>0</th>\n",
       "      <td>unit1</td>\n",
       "      <td>a</td>\n",
       "      <td>1</td>\n",
       "    </tr>\n",
       "    <tr>\n",
       "      <th>1</th>\n",
       "      <td>unit1</td>\n",
       "      <td>a</td>\n",
       "      <td>0</td>\n",
       "    </tr>\n",
       "    <tr>\n",
       "      <th>2</th>\n",
       "      <td>unit1</td>\n",
       "      <td>a</td>\n",
       "      <td>1</td>\n",
       "    </tr>\n",
       "    <tr>\n",
       "      <th>3</th>\n",
       "      <td>unit1</td>\n",
       "      <td>b</td>\n",
       "      <td>1</td>\n",
       "    </tr>\n",
       "    <tr>\n",
       "      <th>4</th>\n",
       "      <td>unit1</td>\n",
       "      <td>b</td>\n",
       "      <td>0</td>\n",
       "    </tr>\n",
       "    <tr>\n",
       "      <th>...</th>\n",
       "      <td>...</td>\n",
       "      <td>...</td>\n",
       "      <td>...</td>\n",
       "    </tr>\n",
       "    <tr>\n",
       "      <th>85</th>\n",
       "      <td>unit5</td>\n",
       "      <td>a</td>\n",
       "      <td>5</td>\n",
       "    </tr>\n",
       "    <tr>\n",
       "      <th>86</th>\n",
       "      <td>unit5</td>\n",
       "      <td>a</td>\n",
       "      <td>7</td>\n",
       "    </tr>\n",
       "    <tr>\n",
       "      <th>87</th>\n",
       "      <td>unit5</td>\n",
       "      <td>b</td>\n",
       "      <td>4</td>\n",
       "    </tr>\n",
       "    <tr>\n",
       "      <th>88</th>\n",
       "      <td>unit5</td>\n",
       "      <td>b</td>\n",
       "      <td>5</td>\n",
       "    </tr>\n",
       "    <tr>\n",
       "      <th>89</th>\n",
       "      <td>unit5</td>\n",
       "      <td>c</td>\n",
       "      <td>1</td>\n",
       "    </tr>\n",
       "  </tbody>\n",
       "</table>\n",
       "<p>90 rows × 3 columns</p>\n",
       "</div>"
      ],
      "text/plain": [
       "     unit category  value\n",
       "0   unit1        a      1\n",
       "1   unit1        a      0\n",
       "2   unit1        a      1\n",
       "3   unit1        b      1\n",
       "4   unit1        b      0\n",
       "..    ...      ...    ...\n",
       "85  unit5        a      5\n",
       "86  unit5        a      7\n",
       "87  unit5        b      4\n",
       "88  unit5        b      5\n",
       "89  unit5        c      1\n",
       "\n",
       "[90 rows x 3 columns]"
      ]
     },
     "execution_count": 5,
     "metadata": {},
     "output_type": "execute_result"
    }
   ],
   "source": [
    "df"
   ]
  },
  {
   "cell_type": "code",
   "execution_count": 6,
   "id": "577a284a-0b35-424d-8601-19ff76ab4275",
   "metadata": {
    "execution": {
     "iopub.execute_input": "2024-07-17T22:53:49.638873Z",
     "iopub.status.busy": "2024-07-17T22:53:49.638873Z",
     "iopub.status.idle": "2024-07-17T22:53:51.023830Z",
     "shell.execute_reply": "2024-07-17T22:53:51.023830Z",
     "shell.execute_reply.started": "2024-07-17T22:53:49.638873Z"
    }
   },
   "outputs": [
    {
     "ename": "ValueError",
     "evalue": "value_name (value) cannot match an element in the DataFrame columns.",
     "output_type": "error",
     "traceback": [
      "\u001b[1;31m---------------------------------------------------------------------------\u001b[0m",
      "\u001b[1;31mValueError\u001b[0m                                Traceback (most recent call last)",
      "Cell \u001b[1;32mIn[6], line 1\u001b[0m\n\u001b[1;32m----> 1\u001b[0m df_long \u001b[38;5;241m=\u001b[39m \u001b[43mpd\u001b[49m\u001b[38;5;241;43m.\u001b[39;49m\u001b[43mmelt\u001b[49m\u001b[43m(\u001b[49m\u001b[43mdf\u001b[49m\u001b[43m,\u001b[49m\u001b[43m \u001b[49m\u001b[43mid_vars\u001b[49m\u001b[38;5;241;43m=\u001b[39;49m\u001b[43m[\u001b[49m\u001b[38;5;124;43m'\u001b[39;49m\u001b[38;5;124;43munit\u001b[39;49m\u001b[38;5;124;43m'\u001b[39;49m\u001b[43m]\u001b[49m\u001b[43m,\u001b[49m\u001b[43m \u001b[49m\u001b[43mvalue_vars\u001b[49m\u001b[38;5;241;43m=\u001b[39;49m\u001b[43m[\u001b[49m\u001b[38;5;124;43m'\u001b[39;49m\u001b[38;5;124;43ma\u001b[39;49m\u001b[38;5;124;43m'\u001b[39;49m\u001b[43m,\u001b[49m\u001b[43m \u001b[49m\u001b[38;5;124;43m'\u001b[39;49m\u001b[38;5;124;43mb\u001b[39;49m\u001b[38;5;124;43m'\u001b[39;49m\u001b[43m,\u001b[49m\u001b[43m \u001b[49m\u001b[38;5;124;43m'\u001b[39;49m\u001b[38;5;124;43mc\u001b[39;49m\u001b[38;5;124;43m'\u001b[39;49m\u001b[43m]\u001b[49m\u001b[43m,\u001b[49m\u001b[43m \u001b[49m\u001b[43mvar_name\u001b[49m\u001b[38;5;241;43m=\u001b[39;49m\u001b[38;5;124;43m'\u001b[39;49m\u001b[38;5;124;43mgroup\u001b[39;49m\u001b[38;5;124;43m'\u001b[39;49m\u001b[43m,\u001b[49m\u001b[43m \u001b[49m\u001b[43mvalue_name\u001b[49m\u001b[38;5;241;43m=\u001b[39;49m\u001b[38;5;124;43m'\u001b[39;49m\u001b[38;5;124;43mvalue\u001b[39;49m\u001b[38;5;124;43m'\u001b[39;49m\u001b[43m)\u001b[49m\n",
      "File \u001b[1;32m~\\miniforge3\\lib\\site-packages\\pandas\\core\\reshape\\melt.py:54\u001b[0m, in \u001b[0;36mmelt\u001b[1;34m(frame, id_vars, value_vars, var_name, value_name, col_level, ignore_index)\u001b[0m\n\u001b[0;32m     43\u001b[0m \u001b[38;5;129m@Appender\u001b[39m(_shared_docs[\u001b[38;5;124m\"\u001b[39m\u001b[38;5;124mmelt\u001b[39m\u001b[38;5;124m\"\u001b[39m] \u001b[38;5;241m%\u001b[39m {\u001b[38;5;124m\"\u001b[39m\u001b[38;5;124mcaller\u001b[39m\u001b[38;5;124m\"\u001b[39m: \u001b[38;5;124m\"\u001b[39m\u001b[38;5;124mpd.melt(df, \u001b[39m\u001b[38;5;124m\"\u001b[39m, \u001b[38;5;124m\"\u001b[39m\u001b[38;5;124mother\u001b[39m\u001b[38;5;124m\"\u001b[39m: \u001b[38;5;124m\"\u001b[39m\u001b[38;5;124mDataFrame.melt\u001b[39m\u001b[38;5;124m\"\u001b[39m})\n\u001b[0;32m     44\u001b[0m \u001b[38;5;28;01mdef\u001b[39;00m \u001b[38;5;21mmelt\u001b[39m(\n\u001b[0;32m     45\u001b[0m     frame: DataFrame,\n\u001b[1;32m   (...)\u001b[0m\n\u001b[0;32m     51\u001b[0m     ignore_index: \u001b[38;5;28mbool\u001b[39m \u001b[38;5;241m=\u001b[39m \u001b[38;5;28;01mTrue\u001b[39;00m,\n\u001b[0;32m     52\u001b[0m ) \u001b[38;5;241m-\u001b[39m\u001b[38;5;241m>\u001b[39m DataFrame:\n\u001b[0;32m     53\u001b[0m     \u001b[38;5;28;01mif\u001b[39;00m value_name \u001b[38;5;129;01min\u001b[39;00m frame\u001b[38;5;241m.\u001b[39mcolumns:\n\u001b[1;32m---> 54\u001b[0m         \u001b[38;5;28;01mraise\u001b[39;00m \u001b[38;5;167;01mValueError\u001b[39;00m(\n\u001b[0;32m     55\u001b[0m             \u001b[38;5;124mf\u001b[39m\u001b[38;5;124m\"\u001b[39m\u001b[38;5;124mvalue_name (\u001b[39m\u001b[38;5;132;01m{\u001b[39;00mvalue_name\u001b[38;5;132;01m}\u001b[39;00m\u001b[38;5;124m) cannot match an element in \u001b[39m\u001b[38;5;124m\"\u001b[39m\n\u001b[0;32m     56\u001b[0m             \u001b[38;5;124m\"\u001b[39m\u001b[38;5;124mthe DataFrame columns.\u001b[39m\u001b[38;5;124m\"\u001b[39m\n\u001b[0;32m     57\u001b[0m         )\n\u001b[0;32m     58\u001b[0m     id_vars \u001b[38;5;241m=\u001b[39m ensure_list_vars(id_vars, \u001b[38;5;124m\"\u001b[39m\u001b[38;5;124mid_vars\u001b[39m\u001b[38;5;124m\"\u001b[39m, frame\u001b[38;5;241m.\u001b[39mcolumns)\n\u001b[0;32m     59\u001b[0m     value_vars_was_not_none \u001b[38;5;241m=\u001b[39m value_vars \u001b[38;5;129;01mis\u001b[39;00m \u001b[38;5;129;01mnot\u001b[39;00m \u001b[38;5;28;01mNone\u001b[39;00m\n",
      "\u001b[1;31mValueError\u001b[0m: value_name (value) cannot match an element in the DataFrame columns."
     ]
    }
   ],
   "source": [
    "df_long = pd.melt(df, id_vars=['unit'], value_vars=['a', 'b', 'c'], var_name='group', value_name='value')"
   ]
  },
  {
   "cell_type": "code",
   "execution_count": 7,
   "id": "70107cf2-896b-4054-8f8a-f2cfc325ce93",
   "metadata": {
    "execution": {
     "iopub.execute_input": "2024-07-17T22:55:07.532103Z",
     "iopub.status.busy": "2024-07-17T22:55:07.530107Z",
     "iopub.status.idle": "2024-07-17T22:55:07.579628Z",
     "shell.execute_reply": "2024-07-17T22:55:07.577630Z",
     "shell.execute_reply.started": "2024-07-17T22:55:07.532103Z"
    }
   },
   "outputs": [
    {
     "data": {
      "text/html": [
       "<div>\n",
       "<style scoped>\n",
       "    .dataframe tbody tr th:only-of-type {\n",
       "        vertical-align: middle;\n",
       "    }\n",
       "\n",
       "    .dataframe tbody tr th {\n",
       "        vertical-align: top;\n",
       "    }\n",
       "\n",
       "    .dataframe thead th {\n",
       "        text-align: right;\n",
       "    }\n",
       "</style>\n",
       "<table border=\"1\" class=\"dataframe\">\n",
       "  <thead>\n",
       "    <tr style=\"text-align: right;\">\n",
       "      <th></th>\n",
       "      <th>unit</th>\n",
       "      <th>a</th>\n",
       "      <th>b</th>\n",
       "      <th>c</th>\n",
       "    </tr>\n",
       "  </thead>\n",
       "  <tbody>\n",
       "    <tr>\n",
       "      <th>0</th>\n",
       "      <td>unit1</td>\n",
       "      <td>[1, 0, 1, 2, 2, 0, 2, 1, 2]</td>\n",
       "      <td>[1, 0, 2, 1, 0, 2, 1, 0, 1]</td>\n",
       "      <td>[1, 2, 1]</td>\n",
       "    </tr>\n",
       "    <tr>\n",
       "      <th>1</th>\n",
       "      <td>unit2</td>\n",
       "      <td>[3, 1, 1, 3, 1, 0, 1, 0, 1]</td>\n",
       "      <td>[0, 4, 1, 5, 2, 0, 3, 1, 2]</td>\n",
       "      <td>[1, 0, 2]</td>\n",
       "    </tr>\n",
       "    <tr>\n",
       "      <th>2</th>\n",
       "      <td>unit3</td>\n",
       "      <td>[4, 4, 4, 4, 5, 3, 5, 4, 3]</td>\n",
       "      <td>[5, 3, 0, 3, 3, 2, 4, 5, 0]</td>\n",
       "      <td>[0, 2, 0]</td>\n",
       "    </tr>\n",
       "    <tr>\n",
       "      <th>3</th>\n",
       "      <td>unit4</td>\n",
       "      <td>[7, 3, 6, 6, 1, 5, 3, 2, 0]</td>\n",
       "      <td>[6, 3, 1, 4, 2, 2, 1, 0, 0]</td>\n",
       "      <td>[1, 0, 0]</td>\n",
       "    </tr>\n",
       "    <tr>\n",
       "      <th>4</th>\n",
       "      <td>unit5</td>\n",
       "      <td>[4, 5, 5, 4, 5, 6, 7, 5, 7]</td>\n",
       "      <td>[5, 5, 1, 7, 6, 1, 4, 5, 1]</td>\n",
       "      <td>[1, 1, 1]</td>\n",
       "    </tr>\n",
       "  </tbody>\n",
       "</table>\n",
       "</div>"
      ],
      "text/plain": [
       "    unit                            a                            b          c\n",
       "0  unit1  [1, 0, 1, 2, 2, 0, 2, 1, 2]  [1, 0, 2, 1, 0, 2, 1, 0, 1]  [1, 2, 1]\n",
       "1  unit2  [3, 1, 1, 3, 1, 0, 1, 0, 1]  [0, 4, 1, 5, 2, 0, 3, 1, 2]  [1, 0, 2]\n",
       "2  unit3  [4, 4, 4, 4, 5, 3, 5, 4, 3]  [5, 3, 0, 3, 3, 2, 4, 5, 0]  [0, 2, 0]\n",
       "3  unit4  [7, 3, 6, 6, 1, 5, 3, 2, 0]  [6, 3, 1, 4, 2, 2, 1, 0, 0]  [1, 0, 0]\n",
       "4  unit5  [4, 5, 5, 4, 5, 6, 7, 5, 7]  [5, 5, 1, 7, 6, 1, 4, 5, 1]  [1, 1, 1]"
      ]
     },
     "execution_count": 7,
     "metadata": {},
     "output_type": "execute_result"
    }
   ],
   "source": [
    "data = {\n",
    "    'unit': ['unit1', 'unit2', 'unit3', 'unit4', 'unit5'],\n",
    "    'a': [\n",
    "        [1, 0, 1, 2, 2, 0, 2, 1, 2],\n",
    "        [3, 1, 1, 3, 1, 0, 1, 0, 1],\n",
    "        [4, 4, 4, 4, 5, 3, 5, 4, 3],\n",
    "        [7, 3, 6, 6, 1, 5, 3, 2, 0],\n",
    "        [4, 5, 5, 4, 5, 6, 7, 5, 7]\n",
    "    ],\n",
    "    'b': [\n",
    "        [1, 0, 2, 1, 0, 2, 1, 0, 1],\n",
    "        [0, 4, 1, 5, 2, 0, 3, 1, 2],\n",
    "        [5, 3, 0, 3, 3, 2, 4, 5, 0],\n",
    "        [6, 3, 1, 4, 2, 2, 1, 0, 0],\n",
    "        [5, 5, 1, 7, 6, 1, 4, 5, 1]\n",
    "    ],\n",
    "    'c': [\n",
    "        [1, 2, 1],\n",
    "        [1, 0, 2],\n",
    "        [0, 2, 0],\n",
    "        [1, 0, 0],\n",
    "        [1, 1, 1]\n",
    "    ]\n",
    "}\n",
    "\n",
    "# Create DataFrame\n",
    "df = pd.DataFrame(data)\n",
    "\n",
    "# Display the DataFrame to verify\n",
    "df"
   ]
  },
  {
   "cell_type": "code",
   "execution_count": 8,
   "id": "aa3b35a1-85d3-43a9-923a-4d259a324926",
   "metadata": {
    "execution": {
     "iopub.execute_input": "2024-07-17T22:55:19.003558Z",
     "iopub.status.busy": "2024-07-17T22:55:19.003558Z",
     "iopub.status.idle": "2024-07-17T22:55:19.034818Z",
     "shell.execute_reply": "2024-07-17T22:55:19.034818Z",
     "shell.execute_reply.started": "2024-07-17T22:55:19.003558Z"
    }
   },
   "outputs": [],
   "source": [
    "df_long = pd.melt(df, id_vars=['unit'], value_vars=['a', 'b', 'c'], var_name='group', value_name='value')"
   ]
  },
  {
   "cell_type": "code",
   "execution_count": 9,
   "id": "ef4dddd6-34f1-4fb2-a599-1d37193dd7de",
   "metadata": {
    "execution": {
     "iopub.execute_input": "2024-07-17T22:55:29.630010Z",
     "iopub.status.busy": "2024-07-17T22:55:29.629010Z",
     "iopub.status.idle": "2024-07-17T22:55:30.815037Z",
     "shell.execute_reply": "2024-07-17T22:55:30.813041Z",
     "shell.execute_reply.started": "2024-07-17T22:55:29.630010Z"
    }
   },
   "outputs": [
    {
     "ename": "TypeError",
     "evalue": "unsupported operand type(s) for /: 'list' and 'int'",
     "output_type": "error",
     "traceback": [
      "\u001b[1;31m---------------------------------------------------------------------------\u001b[0m",
      "\u001b[1;31mTypeError\u001b[0m                                 Traceback (most recent call last)",
      "Cell \u001b[1;32mIn[9], line 2\u001b[0m\n\u001b[0;32m      1\u001b[0m \u001b[38;5;66;03m# Perform the ANOVA\u001b[39;00m\n\u001b[1;32m----> 2\u001b[0m anova_result \u001b[38;5;241m=\u001b[39m \u001b[43mstats\u001b[49m\u001b[38;5;241;43m.\u001b[39;49m\u001b[43mf_oneway\u001b[49m\u001b[43m(\u001b[49m\u001b[43mdf_long\u001b[49m\u001b[43m[\u001b[49m\u001b[43mdf_long\u001b[49m\u001b[43m[\u001b[49m\u001b[38;5;124;43m'\u001b[39;49m\u001b[38;5;124;43mgroup\u001b[39;49m\u001b[38;5;124;43m'\u001b[39;49m\u001b[43m]\u001b[49m\u001b[43m \u001b[49m\u001b[38;5;241;43m==\u001b[39;49m\u001b[43m \u001b[49m\u001b[38;5;124;43m'\u001b[39;49m\u001b[38;5;124;43ma\u001b[39;49m\u001b[38;5;124;43m'\u001b[39;49m\u001b[43m]\u001b[49m\u001b[43m[\u001b[49m\u001b[38;5;124;43m'\u001b[39;49m\u001b[38;5;124;43mvalue\u001b[39;49m\u001b[38;5;124;43m'\u001b[39;49m\u001b[43m]\u001b[49m\u001b[43m,\u001b[49m\n\u001b[0;32m      3\u001b[0m \u001b[43m                              \u001b[49m\u001b[43mdf_long\u001b[49m\u001b[43m[\u001b[49m\u001b[43mdf_long\u001b[49m\u001b[43m[\u001b[49m\u001b[38;5;124;43m'\u001b[39;49m\u001b[38;5;124;43mgroup\u001b[39;49m\u001b[38;5;124;43m'\u001b[39;49m\u001b[43m]\u001b[49m\u001b[43m \u001b[49m\u001b[38;5;241;43m==\u001b[39;49m\u001b[43m \u001b[49m\u001b[38;5;124;43m'\u001b[39;49m\u001b[38;5;124;43mb\u001b[39;49m\u001b[38;5;124;43m'\u001b[39;49m\u001b[43m]\u001b[49m\u001b[43m[\u001b[49m\u001b[38;5;124;43m'\u001b[39;49m\u001b[38;5;124;43mvalue\u001b[39;49m\u001b[38;5;124;43m'\u001b[39;49m\u001b[43m]\u001b[49m\u001b[43m,\u001b[49m\n\u001b[0;32m      4\u001b[0m \u001b[43m                              \u001b[49m\u001b[43mdf_long\u001b[49m\u001b[43m[\u001b[49m\u001b[43mdf_long\u001b[49m\u001b[43m[\u001b[49m\u001b[38;5;124;43m'\u001b[39;49m\u001b[38;5;124;43mgroup\u001b[39;49m\u001b[38;5;124;43m'\u001b[39;49m\u001b[43m]\u001b[49m\u001b[43m \u001b[49m\u001b[38;5;241;43m==\u001b[39;49m\u001b[43m \u001b[49m\u001b[38;5;124;43m'\u001b[39;49m\u001b[38;5;124;43mc\u001b[39;49m\u001b[38;5;124;43m'\u001b[39;49m\u001b[43m]\u001b[49m\u001b[43m[\u001b[49m\u001b[38;5;124;43m'\u001b[39;49m\u001b[38;5;124;43mvalue\u001b[39;49m\u001b[38;5;124;43m'\u001b[39;49m\u001b[43m]\u001b[49m\u001b[43m)\u001b[49m\n\u001b[0;32m      6\u001b[0m \u001b[38;5;28mprint\u001b[39m(\u001b[38;5;124mf\u001b[39m\u001b[38;5;124m\"\u001b[39m\u001b[38;5;124mF-statistic: \u001b[39m\u001b[38;5;132;01m{\u001b[39;00manova_result\u001b[38;5;241m.\u001b[39mstatistic\u001b[38;5;132;01m}\u001b[39;00m\u001b[38;5;124m, P-value: \u001b[39m\u001b[38;5;132;01m{\u001b[39;00manova_result\u001b[38;5;241m.\u001b[39mpvalue\u001b[38;5;132;01m}\u001b[39;00m\u001b[38;5;124m\"\u001b[39m)\n",
      "File \u001b[1;32m~\\miniforge3\\lib\\site-packages\\scipy\\stats\\_axis_nan_policy.py:573\u001b[0m, in \u001b[0;36m_axis_nan_policy_factory.<locals>.axis_nan_policy_decorator.<locals>.axis_nan_policy_wrapper\u001b[1;34m(***failed resolving arguments***)\u001b[0m\n\u001b[0;32m    570\u001b[0m     res \u001b[38;5;241m=\u001b[39m _add_reduced_axes(res, reduced_axes, keepdims)\n\u001b[0;32m    571\u001b[0m     \u001b[38;5;28;01mreturn\u001b[39;00m tuple_to_result(\u001b[38;5;241m*\u001b[39mres)\n\u001b[1;32m--> 573\u001b[0m res \u001b[38;5;241m=\u001b[39m hypotest_fun_out(\u001b[38;5;241m*\u001b[39msamples, \u001b[38;5;241m*\u001b[39m\u001b[38;5;241m*\u001b[39mkwds)\n\u001b[0;32m    574\u001b[0m res \u001b[38;5;241m=\u001b[39m result_to_tuple(res)\n\u001b[0;32m    575\u001b[0m res \u001b[38;5;241m=\u001b[39m _add_reduced_axes(res, reduced_axes, keepdims)\n",
      "File \u001b[1;32m~\\miniforge3\\lib\\site-packages\\scipy\\stats\\_stats_py.py:4176\u001b[0m, in \u001b[0;36mf_oneway\u001b[1;34m(axis, *samples)\u001b[0m\n\u001b[0;32m   4170\u001b[0m all_same_const \u001b[38;5;241m=\u001b[39m (_first(alldata, axis) \u001b[38;5;241m==\u001b[39m alldata)\u001b[38;5;241m.\u001b[39mall(axis\u001b[38;5;241m=\u001b[39maxis)\n\u001b[0;32m   4172\u001b[0m \u001b[38;5;66;03m# Determine the mean of the data, and subtract that from all inputs to a\u001b[39;00m\n\u001b[0;32m   4173\u001b[0m \u001b[38;5;66;03m# variance (via sum_of_sq / sq_of_sum) calculation.  Variance is invariant\u001b[39;00m\n\u001b[0;32m   4174\u001b[0m \u001b[38;5;66;03m# to a shift in location, and centering all data around zero vastly\u001b[39;00m\n\u001b[0;32m   4175\u001b[0m \u001b[38;5;66;03m# improves numerical stability.\u001b[39;00m\n\u001b[1;32m-> 4176\u001b[0m offset \u001b[38;5;241m=\u001b[39m \u001b[43malldata\u001b[49m\u001b[38;5;241;43m.\u001b[39;49m\u001b[43mmean\u001b[49m\u001b[43m(\u001b[49m\u001b[43maxis\u001b[49m\u001b[38;5;241;43m=\u001b[39;49m\u001b[43maxis\u001b[49m\u001b[43m,\u001b[49m\u001b[43m \u001b[49m\u001b[43mkeepdims\u001b[49m\u001b[38;5;241;43m=\u001b[39;49m\u001b[38;5;28;43;01mTrue\u001b[39;49;00m\u001b[43m)\u001b[49m\n\u001b[0;32m   4177\u001b[0m alldata \u001b[38;5;241m=\u001b[39m alldata \u001b[38;5;241m-\u001b[39m offset\n\u001b[0;32m   4179\u001b[0m normalized_ss \u001b[38;5;241m=\u001b[39m _square_of_sums(alldata, axis\u001b[38;5;241m=\u001b[39maxis) \u001b[38;5;241m/\u001b[39m bign\n",
      "File \u001b[1;32m~\\miniforge3\\lib\\site-packages\\numpy\\_core\\_methods.py:130\u001b[0m, in \u001b[0;36m_mean\u001b[1;34m(a, axis, dtype, out, keepdims, where)\u001b[0m\n\u001b[0;32m    128\u001b[0m \u001b[38;5;28;01mif\u001b[39;00m \u001b[38;5;28misinstance\u001b[39m(ret, mu\u001b[38;5;241m.\u001b[39mndarray):\n\u001b[0;32m    129\u001b[0m     \u001b[38;5;28;01mwith\u001b[39;00m _no_nep50_warning():\n\u001b[1;32m--> 130\u001b[0m         ret \u001b[38;5;241m=\u001b[39m \u001b[43mum\u001b[49m\u001b[38;5;241;43m.\u001b[39;49m\u001b[43mtrue_divide\u001b[49m\u001b[43m(\u001b[49m\n\u001b[0;32m    131\u001b[0m \u001b[43m                \u001b[49m\u001b[43mret\u001b[49m\u001b[43m,\u001b[49m\u001b[43m \u001b[49m\u001b[43mrcount\u001b[49m\u001b[43m,\u001b[49m\u001b[43m \u001b[49m\u001b[43mout\u001b[49m\u001b[38;5;241;43m=\u001b[39;49m\u001b[43mret\u001b[49m\u001b[43m,\u001b[49m\u001b[43m \u001b[49m\u001b[43mcasting\u001b[49m\u001b[38;5;241;43m=\u001b[39;49m\u001b[38;5;124;43m'\u001b[39;49m\u001b[38;5;124;43munsafe\u001b[39;49m\u001b[38;5;124;43m'\u001b[39;49m\u001b[43m,\u001b[49m\u001b[43m \u001b[49m\u001b[43msubok\u001b[49m\u001b[38;5;241;43m=\u001b[39;49m\u001b[38;5;28;43;01mFalse\u001b[39;49;00m\u001b[43m)\u001b[49m\n\u001b[0;32m    132\u001b[0m     \u001b[38;5;28;01mif\u001b[39;00m is_float16_result \u001b[38;5;129;01mand\u001b[39;00m out \u001b[38;5;129;01mis\u001b[39;00m \u001b[38;5;28;01mNone\u001b[39;00m:\n\u001b[0;32m    133\u001b[0m         ret \u001b[38;5;241m=\u001b[39m arr\u001b[38;5;241m.\u001b[39mdtype\u001b[38;5;241m.\u001b[39mtype(ret)\n",
      "\u001b[1;31mTypeError\u001b[0m: unsupported operand type(s) for /: 'list' and 'int'"
     ]
    }
   ],
   "source": [
    "# Perform the ANOVA\n",
    "anova_result = stats.f_oneway(df_long[df_long['group'] == 'a']['value'],\n",
    "                              df_long[df_long['group'] == 'b']['value'],\n",
    "                              df_long[df_long['group'] == 'c']['value'])\n",
    "\n",
    "print(f\"F-statistic: {anova_result.statistic}, P-value: {anova_result.pvalue}\")"
   ]
  },
  {
   "cell_type": "code",
   "execution_count": 10,
   "id": "6a916fd2-2cfd-42ae-9a24-f7e75e0a98c6",
   "metadata": {
    "execution": {
     "iopub.execute_input": "2024-07-17T22:57:05.748640Z",
     "iopub.status.busy": "2024-07-17T22:57:05.748640Z",
     "iopub.status.idle": "2024-07-17T22:57:05.811590Z",
     "shell.execute_reply": "2024-07-17T22:57:05.811590Z",
     "shell.execute_reply.started": "2024-07-17T22:57:05.748640Z"
    }
   },
   "outputs": [
    {
     "name": "stdout",
     "output_type": "stream",
     "text": [
      "F-statistic: 4.115680551870523, P-value: 0.043544856709536686\n"
     ]
    }
   ],
   "source": [
    "import pandas as pd\n",
    "import numpy as np\n",
    "from scipy import stats\n",
    "\n",
    "# Sample data setup\n",
    "data = {\n",
    "    'unit': ['unit1', 'unit2', 'unit3', 'unit4', 'unit5'],\n",
    "    'a': [[1, 0, 1, 2, 2, 0, 2, 1, 2], [3, 1, 1, 3, 1, 0, 1, 0, 1], [4, 4, 4, 4, 5, 3, 5, 4, 3], [7, 3, 6, 6, 1, 5, 3, 2, 0], [4, 5, 5, 4, 5, 6, 7, 5, 7]],\n",
    "    'b': [[1, 0, 2, 1, 0, 2, 1, 0, 1], [0, 4, 1, 5, 2, 0, 3, 1, 2], [5, 3, 0, 3, 3, 2, 4, 5, 0], [6, 3, 1, 4, 2, 2, 1, 0, 0], [5, 5, 1, 7, 6, 1, 4, 5, 1]],\n",
    "    'c': [[1, 2, 1], [1, 0, 2], [0, 2, 0], [1, 0, 0], [1, 1, 1]]\n",
    "}\n",
    "\n",
    "df = pd.DataFrame(data)\n",
    "df = df.set_index('unit')\n",
    "\n",
    "# Replace each list with its mean\n",
    "for col in df.columns:\n",
    "    df[col] = df[col].apply(np.mean)\n",
    "\n",
    "# Reshape the DataFrame to long format for ANOVA\n",
    "df_long = pd.melt(df.reset_index(), id_vars=['unit'], value_vars=['a', 'b', 'c'], var_name='group', value_name='value')\n",
    "\n",
    "# Perform the ANOVA\n",
    "anova_result = stats.f_oneway(df_long[df_long['group'] == 'a']['value'],\n",
    "                              df_long[df_long['group'] == 'b']['value'],\n",
    "                              df_long[df_long['group'] == 'c']['value'])\n",
    "\n",
    "print(f\"F-statistic: {anova_result.statistic}, P-value: {anova_result.pvalue}\")\n"
   ]
  },
  {
   "cell_type": "code",
   "execution_count": 11,
   "id": "8805f2f7-22ab-42fb-9660-b5c0023d1c65",
   "metadata": {
    "execution": {
     "iopub.execute_input": "2024-07-17T22:57:21.707107Z",
     "iopub.status.busy": "2024-07-17T22:57:21.695090Z",
     "iopub.status.idle": "2024-07-17T22:57:22.376768Z",
     "shell.execute_reply": "2024-07-17T22:57:22.373420Z",
     "shell.execute_reply.started": "2024-07-17T22:57:21.707107Z"
    }
   },
   "outputs": [
    {
     "name": "stdout",
     "output_type": "stream",
     "text": [
      "Multiple Comparison of Means - Tukey HSD, FWER=0.05 \n",
      "====================================================\n",
      "group1 group2 meandiff p-adj   lower   upper  reject\n",
      "----------------------------------------------------\n",
      "     a      b  -0.7556 0.6151 -2.8569  1.3458  False\n",
      "     a      c  -2.2222 0.0381 -4.3236 -0.1208   True\n",
      "     b      c  -1.4667  0.192  -3.568  0.6347  False\n",
      "----------------------------------------------------\n"
     ]
    }
   ],
   "source": [
    "from statsmodels.stats.multicomp import pairwise_tukeyhsd\n",
    "\n",
    "# Perform Tukey's HSD test\n",
    "tukey_result = pairwise_tukeyhsd(endog=df_long['value'], groups=df_long['group'], alpha=0.05)\n",
    "print(tukey_result)\n"
   ]
  },
  {
   "cell_type": "code",
   "execution_count": null,
   "id": "3f63ac1f-dcba-4a6b-a5c3-17e139483875",
   "metadata": {},
   "outputs": [],
   "source": []
  }
 ],
 "metadata": {
  "kernelspec": {
   "display_name": "Python 3 (ipykernel)",
   "language": "python",
   "name": "python3"
  },
  "language_info": {
   "codemirror_mode": {
    "name": "ipython",
    "version": 3
   },
   "file_extension": ".py",
   "mimetype": "text/x-python",
   "name": "python",
   "nbconvert_exporter": "python",
   "pygments_lexer": "ipython3",
   "version": "3.10.14"
  }
 },
 "nbformat": 4,
 "nbformat_minor": 5
}
