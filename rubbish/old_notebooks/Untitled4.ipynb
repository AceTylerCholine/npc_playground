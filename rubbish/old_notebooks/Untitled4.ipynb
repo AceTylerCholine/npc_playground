{
 "cells": [
  {
   "cell_type": "code",
   "execution_count": 1,
   "id": "b5f2e6d1-2863-428d-a312-9511f864f98f",
   "metadata": {},
   "outputs": [],
   "source": [
    "import pickle\n",
    "import multirecording_spikeanalysis as spike\n",
    "import pandas as pd\n",
    "import numpy as np"
   ]
  },
  {
   "cell_type": "code",
   "execution_count": 2,
   "id": "d0028e6d-17d7-4ae8-bbbb-a35f3fcc8d44",
   "metadata": {},
   "outputs": [],
   "source": [
    "# spike.EphysRecordingCollection(r'.\\export\\finished_curation') saved as pkl\n",
    "omis_rcecollection = pickle.load(open('rcecollection.pkl', 'rb'))"
   ]
  },
  {
   "cell_type": "code",
   "execution_count": 3,
   "id": "71c8d722-50c1-4a56-a822-940f05e86d9d",
   "metadata": {},
   "outputs": [],
   "source": [
    "# Removing non-omission trials, and incomplete recordings of omis trials\n",
    "remove_subjects = set(['20230612_101430_standard_comp_to_training_D1_subj_1-3_t3b3L_box2_merged.rec', \n",
    "                         '20230619_115321_standard_comp_to_omission_D3_subj_1-4_t3b3L_box2_merged.rec', \n",
    "                         '20230622_110832_standard_comp_to_both_rewarded_D1_subj_1-1_t1b3L_box1_merged.rec', \n",
    "                         '20230622_110832_standard_comp_to_both_rewarded_D1_subj_1-2_t3b3L_box1_merged.rec', \n",
    "                         '20230624_105855_standard_comp_to_both_rewarded_D3_subj_1-1_t1b2L_box1_merged.rec', \n",
    "                         '20230624_105855_standard_comp_to_both_rewarded_D3_subj_1-4_t3b3L_box1_merged.rec', \n",
    "                         '20230625_112913_standard_comp_to_both_rewarded_D4_subj_1-1_t1b2L_box1_merged.rec', \n",
    "                         '20230625_112913_standard_comp_to_both_rewarded_D4_subj_1-4_t3b3L_box1_merged.rec', \n",
    "                         '20230628_111202_standard_comp_to_novel_agent_D1_subj_1-1vs1-2and2-2_merged.rec', \n",
    "                         '20230628_111202_standard_comp_to_novel_agent_D1_subj_1-2vs1-1and2-1_merged.rec', \n",
    "                         '20230629_111937_standard_comp_to_novel_agent_D2_subj_1-1v1-4and2-1_merged.rec', \n",
    "                         '20230629_111937_standard_comp_to_novel_agent_D2_subj_1-4vs1-1and2-2_merged.rec', \n",
    "                         '20230630_115506_standard_comp_to_novel_agent_D3_subj_1-4vs1-2and2-1_merged_merged.rec'])\n",
    "\n",
    "for recording in remove_subjects:\n",
    "    omis_rcecollection.collection.pop(recording, None)"
   ]
  },
  {
   "cell_type": "code",
   "execution_count": 4,
   "id": "d95f3e39-5009-4678-8763-fd94f0ae8daa",
   "metadata": {},
   "outputs": [],
   "source": [
    "# event dictionary provided by Leo\n",
    "label_timestamps = pickle.load(open('recording_to_label_to_timestamps 1.pkl', 'rb'))"
   ]
  },
  {
   "cell_type": "markdown",
   "id": "ea67bb48-3356-443a-9104-cb3716c42739",
   "metadata": {},
   "source": [
    "## The script immediately below this assigns the event dictionary and subject to each recording"
   ]
  },
  {
   "cell_type": "code",
   "execution_count": 5,
   "id": "5b6394da-2803-4f52-99e7-14e91bd61b18",
   "metadata": {},
   "outputs": [],
   "source": [
    "for recording in omis_rcecollection.collection.keys():\n",
    "    # Check if the recording key (without the .rec suffix) is in label_timestamps\n",
    "    recording_key_without_suffix = recording[:-4]  # Remove '.rec' from the end\n",
    "    if recording_key_without_suffix in label_timestamps:\n",
    "        # Assign the corresponding label_timestamps dictionary to event_dict\n",
    "        omis_rcecollection.collection[recording].event_dict = label_timestamps[recording_key_without_suffix]\n",
    "        \n",
    "        # Extract the subject from the recording key\n",
    "        # Find the positions of 'subj_' and '_t' to extract the subject\n",
    "        start = recording.find('subj_') + 5  # Start index after 'subj_'\n",
    "        end = recording.find('_t', start)  # End index before '_t'\n",
    "        subject = recording[start:end].replace('-', '_')  # Replace '-' with '_'\n",
    "        \n",
    "        # Assign the extracted subject\n",
    "        omis_rcecollection.collection[recording].subject = subject"
   ]
  },
  {
   "cell_type": "code",
   "execution_count": 6,
   "id": "380cac57-b1cc-4bef-85e2-a0404141d4d7",
   "metadata": {},
   "outputs": [],
   "source": [
    "# spike.SpikeAnalysis_MultiRecording(omis_rcecollection) saved as pkl\n",
    "omis_spikeanal = pickle.load(open('omis_spikeanal.pkl', 'rb'))"
   ]
  },
  {
   "cell_type": "code",
   "execution_count": 7,
   "id": "bfa806c5-72c4-4d4e-a110-8e6f61124e3c",
   "metadata": {},
   "outputs": [
    {
     "name": "stderr",
     "output_type": "stream",
     "text": [
      "c:\\Users\\short\\anaconda3\\Lib\\site-packages\\scipy\\stats\\_morestats.py:4102: UserWarning: Sample size too small for normal approximation.\n",
      "  warnings.warn(\"Sample size too small for normal approximation.\")\n",
      "c:\\Users\\short\\anaconda3\\Lib\\site-packages\\scipy\\stats\\_morestats.py:4102: UserWarning: Sample size too small for normal approximation.\n",
      "  warnings.warn(\"Sample size too small for normal approximation.\")\n",
      "c:\\Users\\short\\anaconda3\\Lib\\site-packages\\scipy\\stats\\_morestats.py:4102: UserWarning: Sample size too small for normal approximation.\n",
      "  warnings.warn(\"Sample size too small for normal approximation.\")\n",
      "c:\\Users\\short\\anaconda3\\Lib\\site-packages\\scipy\\stats\\_morestats.py:4102: UserWarning: Sample size too small for normal approximation.\n",
      "  warnings.warn(\"Sample size too small for normal approximation.\")\n"
     ]
    },
    {
     "ename": "ValueError",
     "evalue": "Length mismatch: Expected axis has 0 elements, new values have 2 elements",
     "output_type": "error",
     "traceback": [
      "\u001b[1;31m---------------------------------------------------------------------------\u001b[0m",
      "\u001b[1;31mValueError\u001b[0m                                Traceback (most recent call last)",
      "Cell \u001b[1;32mIn[7], line 1\u001b[0m\n\u001b[1;32m----> 1\u001b[0m omis_spikeanal\u001b[38;5;241m.\u001b[39mwilcox_baseline_v_event_collection(\u001b[38;5;124m'\u001b[39m\u001b[38;5;124mwin\u001b[39m\u001b[38;5;124m'\u001b[39m, \u001b[38;5;241m10\u001b[39m, \u001b[38;5;241m10\u001b[39m)\n",
      "File \u001b[1;32mc:\\Users\\short\\Documents\\GitHub\\npc_playground\\multirecording_spikeanalysis.py:1017\u001b[0m, in \u001b[0;36mSpikeAnalysis_MultiRecording.wilcox_baseline_v_event_collection\u001b[1;34m(self, event, equalize, baseline_window, offset, exclude_offset, plot, save)\u001b[0m\n\u001b[0;32m   1012\u001b[0m is_first \u001b[38;5;241m=\u001b[39m \u001b[38;5;28;01mTrue\u001b[39;00m\n\u001b[0;32m   1013\u001b[0m \u001b[38;5;28;01mfor\u001b[39;00m (\n\u001b[0;32m   1014\u001b[0m     recording_name,\n\u001b[0;32m   1015\u001b[0m     recording,\n\u001b[0;32m   1016\u001b[0m ) \u001b[38;5;129;01min\u001b[39;00m \u001b[38;5;28mself\u001b[39m\u001b[38;5;241m.\u001b[39mephyscollection\u001b[38;5;241m.\u001b[39mcollection\u001b[38;5;241m.\u001b[39mitems():\n\u001b[1;32m-> 1017\u001b[0m     recording_df \u001b[38;5;241m=\u001b[39m \u001b[38;5;28mself\u001b[39m\u001b[38;5;241m.\u001b[39m__wilcox_baseline_v_event_stats__(\n\u001b[0;32m   1018\u001b[0m         recording, event, equalize, baseline_window, offset, \n\u001b[0;32m   1019\u001b[0m         exclude_offset, save\n\u001b[0;32m   1020\u001b[0m     )\n\u001b[0;32m   1021\u001b[0m     recording_df \u001b[38;5;241m=\u001b[39m recording_df\u001b[38;5;241m.\u001b[39mreset_index()\u001b[38;5;241m.\u001b[39mrename(\n\u001b[0;32m   1022\u001b[0m         columns\u001b[38;5;241m=\u001b[39m{\u001b[38;5;124m\"\u001b[39m\u001b[38;5;124mindex\u001b[39m\u001b[38;5;124m\"\u001b[39m: \u001b[38;5;124m\"\u001b[39m\u001b[38;5;124moriginal unit id\u001b[39m\u001b[38;5;124m\"\u001b[39m}\n\u001b[0;32m   1023\u001b[0m     )\n\u001b[0;32m   1024\u001b[0m     recording_df[\u001b[38;5;124m\"\u001b[39m\u001b[38;5;124mRecording\u001b[39m\u001b[38;5;124m\"\u001b[39m] \u001b[38;5;241m=\u001b[39m recording_name\n",
      "File \u001b[1;32mc:\\Users\\short\\Documents\\GitHub\\npc_playground\\multirecording_spikeanalysis.py:963\u001b[0m, in \u001b[0;36mSpikeAnalysis_MultiRecording.__wilcox_baseline_v_event_stats__\u001b[1;34m(self, recording, event, equalize, baseline_window, offset, exclude_offset, save)\u001b[0m\n\u001b[0;32m    961\u001b[0m     wilcoxon_stats[unit] \u001b[38;5;241m=\u001b[39m wilcoxon(unit_averages[unit][\u001b[38;5;241m0\u001b[39m], unit_averages[unit][\u001b[38;5;241m1\u001b[39m], method \u001b[38;5;241m=\u001b[39m \u001b[38;5;124m'\u001b[39m\u001b[38;5;124mapprox\u001b[39m\u001b[38;5;124m'\u001b[39m)\n\u001b[0;32m    962\u001b[0m wilcoxon_df \u001b[38;5;241m=\u001b[39m pd\u001b[38;5;241m.\u001b[39mDataFrame\u001b[38;5;241m.\u001b[39mfrom_dict(wilcoxon_stats, orient\u001b[38;5;241m=\u001b[39m\u001b[38;5;124m'\u001b[39m\u001b[38;5;124mindex\u001b[39m\u001b[38;5;124m'\u001b[39m)\n\u001b[1;32m--> 963\u001b[0m wilcoxon_df\u001b[38;5;241m.\u001b[39mcolumns \u001b[38;5;241m=\u001b[39m [\u001b[38;5;124m'\u001b[39m\u001b[38;5;124mWilcoxon Stat\u001b[39m\u001b[38;5;124m'\u001b[39m, \u001b[38;5;124m'\u001b[39m\u001b[38;5;124mp value\u001b[39m\u001b[38;5;124m'\u001b[39m]\n\u001b[0;32m    964\u001b[0m wilcoxon_df[\u001b[38;5;124m'\u001b[39m\u001b[38;5;124mevent1 vs event2\u001b[39m\u001b[38;5;124m'\u001b[39m] \u001b[38;5;241m=\u001b[39m wilcoxon_df\u001b[38;5;241m.\u001b[39mapply(\n\u001b[0;32m    965\u001b[0m     \u001b[38;5;28;01mlambda\u001b[39;00m row: w_assessment(row[\u001b[38;5;124m'\u001b[39m\u001b[38;5;124mp value\u001b[39m\u001b[38;5;124m'\u001b[39m], row[\u001b[38;5;124m'\u001b[39m\u001b[38;5;124mWilcoxon Stat\u001b[39m\u001b[38;5;124m'\u001b[39m]),\n\u001b[0;32m    966\u001b[0m     axis\u001b[38;5;241m=\u001b[39m\u001b[38;5;241m1\u001b[39m)\n\u001b[0;32m    967\u001b[0m wilcox_key \u001b[38;5;241m=\u001b[39m \u001b[38;5;124mf\u001b[39m\u001b[38;5;124m'\u001b[39m\u001b[38;5;132;01m{\u001b[39;00mequalize\u001b[38;5;132;01m}\u001b[39;00m\u001b[38;5;124ms \u001b[39m\u001b[38;5;132;01m{\u001b[39;00mevent\u001b[38;5;132;01m}\u001b[39;00m\u001b[38;5;124m vs \u001b[39m\u001b[38;5;132;01m{\u001b[39;00mbaseline_window\u001b[38;5;132;01m}\u001b[39;00m\u001b[38;5;124ms baseline\u001b[39m\u001b[38;5;124m'\u001b[39m\n",
      "File \u001b[1;32mc:\\Users\\short\\anaconda3\\Lib\\site-packages\\pandas\\core\\generic.py:6218\u001b[0m, in \u001b[0;36mNDFrame.__setattr__\u001b[1;34m(self, name, value)\u001b[0m\n\u001b[0;32m   6216\u001b[0m \u001b[38;5;28;01mtry\u001b[39;00m:\n\u001b[0;32m   6217\u001b[0m     \u001b[38;5;28mobject\u001b[39m\u001b[38;5;241m.\u001b[39m\u001b[38;5;21m__getattribute__\u001b[39m(\u001b[38;5;28mself\u001b[39m, name)\n\u001b[1;32m-> 6218\u001b[0m     \u001b[38;5;28;01mreturn\u001b[39;00m \u001b[38;5;28mobject\u001b[39m\u001b[38;5;241m.\u001b[39m\u001b[38;5;21m__setattr__\u001b[39m(\u001b[38;5;28mself\u001b[39m, name, value)\n\u001b[0;32m   6219\u001b[0m \u001b[38;5;28;01mexcept\u001b[39;00m \u001b[38;5;167;01mAttributeError\u001b[39;00m:\n\u001b[0;32m   6220\u001b[0m     \u001b[38;5;28;01mpass\u001b[39;00m\n",
      "File \u001b[1;32mproperties.pyx:69\u001b[0m, in \u001b[0;36mpandas._libs.properties.AxisProperty.__set__\u001b[1;34m()\u001b[0m\n",
      "File \u001b[1;32mc:\\Users\\short\\anaconda3\\Lib\\site-packages\\pandas\\core\\generic.py:767\u001b[0m, in \u001b[0;36mNDFrame._set_axis\u001b[1;34m(self, axis, labels)\u001b[0m\n\u001b[0;32m    762\u001b[0m \u001b[38;5;250m\u001b[39m\u001b[38;5;124;03m\"\"\"\u001b[39;00m\n\u001b[0;32m    763\u001b[0m \u001b[38;5;124;03mThis is called from the cython code when we set the `index` attribute\u001b[39;00m\n\u001b[0;32m    764\u001b[0m \u001b[38;5;124;03mdirectly, e.g. `series.index = [1, 2, 3]`.\u001b[39;00m\n\u001b[0;32m    765\u001b[0m \u001b[38;5;124;03m\"\"\"\u001b[39;00m\n\u001b[0;32m    766\u001b[0m labels \u001b[38;5;241m=\u001b[39m ensure_index(labels)\n\u001b[1;32m--> 767\u001b[0m \u001b[38;5;28mself\u001b[39m\u001b[38;5;241m.\u001b[39m_mgr\u001b[38;5;241m.\u001b[39mset_axis(axis, labels)\n\u001b[0;32m    768\u001b[0m \u001b[38;5;28mself\u001b[39m\u001b[38;5;241m.\u001b[39m_clear_item_cache()\n",
      "File \u001b[1;32mc:\\Users\\short\\anaconda3\\Lib\\site-packages\\pandas\\core\\internals\\managers.py:227\u001b[0m, in \u001b[0;36mBaseBlockManager.set_axis\u001b[1;34m(self, axis, new_labels)\u001b[0m\n\u001b[0;32m    225\u001b[0m \u001b[38;5;28;01mdef\u001b[39;00m \u001b[38;5;21mset_axis\u001b[39m(\u001b[38;5;28mself\u001b[39m, axis: AxisInt, new_labels: Index) \u001b[38;5;241m-\u001b[39m\u001b[38;5;241m>\u001b[39m \u001b[38;5;28;01mNone\u001b[39;00m:\n\u001b[0;32m    226\u001b[0m     \u001b[38;5;66;03m# Caller is responsible for ensuring we have an Index object.\u001b[39;00m\n\u001b[1;32m--> 227\u001b[0m     \u001b[38;5;28mself\u001b[39m\u001b[38;5;241m.\u001b[39m_validate_set_axis(axis, new_labels)\n\u001b[0;32m    228\u001b[0m     \u001b[38;5;28mself\u001b[39m\u001b[38;5;241m.\u001b[39maxes[axis] \u001b[38;5;241m=\u001b[39m new_labels\n",
      "File \u001b[1;32mc:\\Users\\short\\anaconda3\\Lib\\site-packages\\pandas\\core\\internals\\base.py:85\u001b[0m, in \u001b[0;36mDataManager._validate_set_axis\u001b[1;34m(self, axis, new_labels)\u001b[0m\n\u001b[0;32m     82\u001b[0m     \u001b[38;5;28;01mpass\u001b[39;00m\n\u001b[0;32m     84\u001b[0m \u001b[38;5;28;01melif\u001b[39;00m new_len \u001b[38;5;241m!=\u001b[39m old_len:\n\u001b[1;32m---> 85\u001b[0m     \u001b[38;5;28;01mraise\u001b[39;00m \u001b[38;5;167;01mValueError\u001b[39;00m(\n\u001b[0;32m     86\u001b[0m         \u001b[38;5;124mf\u001b[39m\u001b[38;5;124m\"\u001b[39m\u001b[38;5;124mLength mismatch: Expected axis has \u001b[39m\u001b[38;5;132;01m{\u001b[39;00mold_len\u001b[38;5;132;01m}\u001b[39;00m\u001b[38;5;124m elements, new \u001b[39m\u001b[38;5;124m\"\u001b[39m\n\u001b[0;32m     87\u001b[0m         \u001b[38;5;124mf\u001b[39m\u001b[38;5;124m\"\u001b[39m\u001b[38;5;124mvalues have \u001b[39m\u001b[38;5;132;01m{\u001b[39;00mnew_len\u001b[38;5;132;01m}\u001b[39;00m\u001b[38;5;124m elements\u001b[39m\u001b[38;5;124m\"\u001b[39m\n\u001b[0;32m     88\u001b[0m     )\n",
      "\u001b[1;31mValueError\u001b[0m: Length mismatch: Expected axis has 0 elements, new values have 2 elements"
     ]
    }
   ],
   "source": [
    "omis_spikeanal.wilcox_baseline_v_event_collection('win', 10, 10)"
   ]
  },
  {
   "cell_type": "code",
   "execution_count": 14,
   "id": "3bfafd1d-18f7-4b22-8244-3698d33c2b02",
   "metadata": {},
   "outputs": [
    {
     "ename": "NameError",
     "evalue": "name 'wilcoxon_df' is not defined",
     "output_type": "error",
     "traceback": [
      "\u001b[1;31m---------------------------------------------------------------------------\u001b[0m",
      "\u001b[1;31mNameError\u001b[0m                                 Traceback (most recent call last)",
      "Cell \u001b[1;32mIn[14], line 1\u001b[0m\n\u001b[1;32m----> 1\u001b[0m \u001b[38;5;28;01mif\u001b[39;00m \u001b[38;5;129;01mnot\u001b[39;00m wilcoxon_df\u001b[38;5;241m.\u001b[39mempty:\n\u001b[0;32m      2\u001b[0m     wilcoxon_df\u001b[38;5;241m.\u001b[39mcolumns \u001b[38;5;241m=\u001b[39m [\u001b[38;5;124m'\u001b[39m\u001b[38;5;124mWilcoxon Stat\u001b[39m\u001b[38;5;124m'\u001b[39m, \u001b[38;5;124m'\u001b[39m\u001b[38;5;124mp value\u001b[39m\u001b[38;5;124m'\u001b[39m]\n\u001b[0;32m      3\u001b[0m     \u001b[38;5;66;03m# Further processing\u001b[39;00m\n\u001b[0;32m      4\u001b[0m \u001b[38;5;28;01melse\u001b[39;00m:\n",
      "\u001b[1;31mNameError\u001b[0m: name 'wilcoxon_df' is not defined"
     ]
    }
   ],
   "source": [
    "if not wilcoxon_df.empty:\n",
    "    wilcoxon_df.columns = ['Wilcoxon Stat', 'p value']\n",
    "    # Further processing\n",
    "else:\n",
    "    print(\"No data available for Wilcoxon test.\")\n"
   ]
  },
  {
   "cell_type": "code",
   "execution_count": 15,
   "id": "ecc17283-3ff0-4460-a70b-62f28392a411",
   "metadata": {},
   "outputs": [
    {
     "name": "stdout",
     "output_type": "stream",
     "text": [
      "No data available for Wilcoxon test.\n"
     ]
    }
   ],
   "source": [
    "import pandas as pd\n",
    "\n",
    "# Initialize wilcoxon_df as an empty DataFrame\n",
    "wilcoxon_df = pd.DataFrame()\n",
    "\n",
    "# Your code that might define wilcoxon_df goes here\n",
    "# For example, this might be inside a function or conditional block:\n",
    "# wilcoxon_df = some_function_that_returns_a_dataframe()\n",
    "\n",
    "# Now you can safely check if wilcoxon_df is empty\n",
    "if not wilcoxon_df.empty:\n",
    "    wilcoxon_df.columns = ['Wilcoxon Stat', 'p value']\n",
    "    # Further processing\n",
    "else:\n",
    "    print(\"No data available for Wilcoxon test.\")\n"
   ]
  },
  {
   "cell_type": "code",
   "execution_count": 32,
   "id": "cd4a8293-6200-4bec-b050-43877163809e",
   "metadata": {},
   "outputs": [],
   "source": [
    "tests = 'string'"
   ]
  },
  {
   "cell_type": "code",
   "execution_count": 33,
   "id": "8e16c45c-17e6-4480-a7c9-6c5d349842a3",
   "metadata": {},
   "outputs": [],
   "source": [
    "testl = ['l','i','s','t,']"
   ]
  },
  {
   "cell_type": "code",
   "execution_count": 35,
   "id": "35602692-dcde-4169-9915-b4822caa524f",
   "metadata": {},
   "outputs": [],
   "source": [
    "testt = tests, testl"
   ]
  },
  {
   "cell_type": "code",
   "execution_count": 36,
   "id": "3960713b-b676-45c7-8463-3bdaa4abc90f",
   "metadata": {},
   "outputs": [
    {
     "data": {
      "text/plain": [
       "tuple"
      ]
     },
     "execution_count": 36,
     "metadata": {},
     "output_type": "execute_result"
    }
   ],
   "source": [
    "type(testt)"
   ]
  },
  {
   "cell_type": "code",
   "execution_count": 39,
   "id": "76724b4e-1413-4ba5-aedc-d03f162b6c88",
   "metadata": {},
   "outputs": [],
   "source": [
    "testt[1][1] = 'p'"
   ]
  },
  {
   "cell_type": "code",
   "execution_count": 40,
   "id": "10f6745f-44c6-4382-9f35-c896622954ef",
   "metadata": {},
   "outputs": [
    {
     "data": {
      "text/plain": [
       "['l', 'p', 's', 't,']"
      ]
     },
     "execution_count": 40,
     "metadata": {},
     "output_type": "execute_result"
    }
   ],
   "source": [
    "testl"
   ]
  },
  {
   "cell_type": "code",
   "execution_count": 41,
   "id": "481f33af-8985-4e0d-a3b1-d4b4465d608f",
   "metadata": {},
   "outputs": [],
   "source": [
    "test2 = ['a','b','c']"
   ]
  },
  {
   "cell_type": "code",
   "execution_count": 42,
   "id": "4cc35cba-6e9e-4de6-a052-da378db0e78e",
   "metadata": {},
   "outputs": [],
   "source": [
    "test3 = [test2, 'd','e']"
   ]
  },
  {
   "cell_type": "code",
   "execution_count": 43,
   "id": "330403ca-9595-40b7-8e7a-0c1a0bcb5950",
   "metadata": {},
   "outputs": [
    {
     "data": {
      "text/plain": [
       "[['a', 'b', 'c'], 'd', 'e']"
      ]
     },
     "execution_count": 43,
     "metadata": {},
     "output_type": "execute_result"
    }
   ],
   "source": [
    "test3"
   ]
  },
  {
   "cell_type": "code",
   "execution_count": 44,
   "id": "56c1a300-dc17-4a47-ae71-6826f2de0d4e",
   "metadata": {},
   "outputs": [],
   "source": [
    "test3[1] = 'p'"
   ]
  },
  {
   "cell_type": "code",
   "execution_count": 45,
   "id": "a42d3147-9a65-4482-94c3-7c92c108b0b8",
   "metadata": {},
   "outputs": [
    {
     "data": {
      "text/plain": [
       "[['a', 'b', 'c'], 'p', 'e']"
      ]
     },
     "execution_count": 45,
     "metadata": {},
     "output_type": "execute_result"
    }
   ],
   "source": [
    "test3"
   ]
  },
  {
   "cell_type": "code",
   "execution_count": 46,
   "id": "684d7aaa-307b-4047-85f0-0820bc0ead4e",
   "metadata": {},
   "outputs": [],
   "source": [
    "test3[0][0] = 'p'"
   ]
  },
  {
   "cell_type": "code",
   "execution_count": 47,
   "id": "9293c0d0-1733-4d02-932b-e33d093be2ed",
   "metadata": {},
   "outputs": [
    {
     "data": {
      "text/plain": [
       "['p', 'b', 'c']"
      ]
     },
     "execution_count": 47,
     "metadata": {},
     "output_type": "execute_result"
    }
   ],
   "source": [
    "test2"
   ]
  },
  {
   "cell_type": "code",
   "execution_count": null,
   "id": "956670d4-57ad-478e-a3f0-c5ba14961ba6",
   "metadata": {},
   "outputs": [],
   "source": []
  }
 ],
 "metadata": {
  "kernelspec": {
   "display_name": "Python 3 (ipykernel)",
   "language": "python",
   "name": "python3"
  },
  "language_info": {
   "codemirror_mode": {
    "name": "ipython",
    "version": 3
   },
   "file_extension": ".py",
   "mimetype": "text/x-python",
   "name": "python",
   "nbconvert_exporter": "python",
   "pygments_lexer": "ipython3",
   "version": "3.10.12"
  }
 },
 "nbformat": 4,
 "nbformat_minor": 5
}
