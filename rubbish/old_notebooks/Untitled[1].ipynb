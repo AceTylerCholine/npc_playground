{
 "cells": [
  {
   "cell_type": "code",
   "execution_count": 1,
   "id": "6a32110e-30c5-4c54-9d38-6f001dc1b6de",
   "metadata": {},
   "outputs": [],
   "source": [
    "import pickle\n",
    "import multirecording_spikeanalysis as spike\n",
    "import pandas as pd\n",
    "import numpy as np"
   ]
  },
  {
   "cell_type": "code",
   "execution_count": 2,
   "id": "5de94043-0624-432c-8aa4-1e8fe9f3bd8f",
   "metadata": {},
   "outputs": [],
   "source": [
    "rcecollection = pickle.load(open('rcecollection.pkl', 'rb'))"
   ]
  },
  {
   "cell_type": "code",
   "execution_count": 3,
   "id": "1b7fda92-8cdf-4b6a-9dd8-ec2051378fa3",
   "metadata": {},
   "outputs": [],
   "source": [
    "label_timestamps = pickle.load(open('recording_to_label_to_timestamps 1.pkl', 'rb'))"
   ]
  },
  {
   "cell_type": "code",
   "execution_count": 4,
   "id": "466e4748-5946-453c-ac2c-acce9d2e154a",
   "metadata": {},
   "outputs": [
    {
     "name": "stdout",
     "output_type": "stream",
     "text": [
      "20230612_101430_standard_comp_to_training_D1_subj_1-3_t3b3L_box2_merged.rec\n",
      "20230618_100636_standard_comp_to_omission_D2_subj_1_1_t1b2L_box2_merged.rec\n",
      "20230618_100636_standard_comp_to_omission_D2_subj_1_4_t4b3L_box1_merged.rec\n",
      "20230619_115321_standard_comp_to_omission_D3_subj_1-4_t3b3L_box2_merged.rec\n",
      "20230620_114347_standard_comp_to_omission_D4_subj_1-1_t1b2L_box_2_merged.rec\n",
      "20230620_114347_standard_comp_to_omission_D4_subj_1-2_t3b3L_box_1_merged.rec\n",
      "20230621_111240_standard_comp_to_omission_D5_subj_1-4_t3b3L_box1_merged.rec\n",
      "20230622_110832_standard_comp_to_both_rewarded_D1_subj_1-1_t1b3L_box1_merged.rec\n",
      "20230622_110832_standard_comp_to_both_rewarded_D1_subj_1-2_t3b3L_box1_merged.rec\n",
      "20230624_105855_standard_comp_to_both_rewarded_D3_subj_1-1_t1b2L_box1_merged.rec\n",
      "20230624_105855_standard_comp_to_both_rewarded_D3_subj_1-4_t3b3L_box1_merged.rec\n",
      "20230625_112913_standard_comp_to_both_rewarded_D4_subj_1-1_t1b2L_box1_merged.rec\n",
      "20230625_112913_standard_comp_to_both_rewarded_D4_subj_1-4_t3b3L_box1_merged.rec\n",
      "20230628_111202_standard_comp_to_novel_agent_D1_subj_1-1vs1-2and2-2_merged.rec\n",
      "20230628_111202_standard_comp_to_novel_agent_D1_subj_1-2vs1-1and2-1_merged.rec\n",
      "20230629_111937_standard_comp_to_novel_agent_D2_subj_1-1v1-4and2-1_merged.rec\n",
      "20230629_111937_standard_comp_to_novel_agent_D2_subj_1-4vs1-1and2-2_merged.rec\n",
      "20230630_115506_standard_comp_to_novel_agent_D3_subj_1-4vs1-2and2-1_merged_merged.rec\n"
     ]
    }
   ],
   "source": [
    "for recording in rcecollection.collection.keys():\n",
    "    print(recording)"
   ]
  },
  {
   "cell_type": "code",
   "execution_count": 5,
   "id": "d3bd4e3b-00fd-44f7-8e2e-dec6480c22b1",
   "metadata": {},
   "outputs": [],
   "source": [
    "label_timestamps = pickle.load(open('recording_to_label_to_timestamps 1.pkl', 'rb'))"
   ]
  },
  {
   "cell_type": "code",
   "execution_count": 6,
   "id": "b67b4d76-1aea-4700-926b-c3954eac5c38",
   "metadata": {},
   "outputs": [
    {
     "data": {
      "text/plain": [
       "['20230612_112630_standard_comp_to_training_D1_subj_1-1_t1b3L_box2_merged',\n",
       " '20230612_112630_standard_comp_to_training_D1_subj_1-2_t2b2L_box1_merged',\n",
       " '20230613_105657_standard_comp_to_training_D2_subj_1-1_t1b2L_box1_merged',\n",
       " '20230613_105657_standard_comp_to_training_D2_subj_1-4_t4b3L_box2_merged',\n",
       " '20230614_114041_standard_comp_to_training_D3_subj_1-1_t1b3L_box1_merged',\n",
       " '20230614_114041_standard_comp_to_training_D3_subj_1-2_t2b2L_box2_merged',\n",
       " '20230616_111904_standard_comp_to_training_D4_subj_1-2_t2b2L_box2_merged',\n",
       " '20230616_111904_standard_comp_to_training_D4_subj_1-4_t4b3L_box1_merged',\n",
       " '20230617_115521_standard_comp_to_omission_D1_subj_1-1_t1b3L_box1_merged',\n",
       " '20230617_115521_standard_comp_to_omission_D1_subj_1-2_t2b2L_box2_merged',\n",
       " '20230618_100636_standard_comp_to_omission_D2_subj_1_1_t1b2L_box2_merged',\n",
       " '20230618_100636_standard_comp_to_omission_D2_subj_1_4_t4b3L_box1_merged',\n",
       " '20230620_114347_standard_comp_to_omission_D4_subj_1-1_t1b2L_box_2_merged',\n",
       " '20230620_114347_standard_comp_to_omission_D4_subj_1-2_t3b3L_box_1_merged',\n",
       " '20230621_111240_standard_comp_to_omission_D5_subj_1-4_t3b3L_box1_merged',\n",
       " '20230622_110832_standard_comp_to_both_rewarded_D1_subj_1-1_t1b3L_box1_merged',\n",
       " '20230622_110832_standard_comp_to_both_rewarded_D1_subj_1-2_t3b3L_box1_merged',\n",
       " '20230624_105855_standard_comp_to_both_rewarded_D3_subj_1-4_t3b3L_box1_merged',\n",
       " '20230625_112913_standard_comp_to_both_rewarded_D4_subj_1-1_t1b2L_box1_merged',\n",
       " '20230625_112913_standard_comp_to_both_rewarded_D4_subj_1-4_t3b3L_box1_merged']"
      ]
     },
     "execution_count": 6,
     "metadata": {},
     "output_type": "execute_result"
    }
   ],
   "source": [
    "list(label_timestamps.keys())"
   ]
  },
  {
   "cell_type": "code",
   "execution_count": 7,
   "id": "e50ef9ec-bc3d-45db-b89d-e116c88fe0aa",
   "metadata": {},
   "outputs": [],
   "source": [
    "for recording in rcecollection.collection.keys():\n",
    "    # Check if the recording key (without the .rec suffix) is in label_timestamps\n",
    "    recording_key_without_suffix = recording[:-4]  # Remove '.rec' from the end\n",
    "    if recording_key_without_suffix in label_timestamps:\n",
    "        # Assign the corresponding label_timestamps dictionary to event_dict\n",
    "        rcecollection.collection[recording].event_dict = label_timestamps[recording_key_without_suffix]\n",
    "        \n",
    "        # Extract the subject from the recording key\n",
    "        # Find the positions of 'subj_' and '_t' to extract the subject\n",
    "        start = recording.find('subj_') + 5  # Start index after 'subj_'\n",
    "        end = recording.find('_t', start)  # End index before '_t'\n",
    "        subject = recording[start:end].replace('-', '_')  # Replace '-' with '_'\n",
    "        \n",
    "        # Assign the extracted subject\n",
    "        rcecollection.collection[recording].subject = subject"
   ]
  },
  {
   "cell_type": "code",
   "execution_count": 8,
   "id": "9e1bd5d5-78c2-493b-a5f3-d90ab14ced51",
   "metadata": {},
   "outputs": [
    {
     "data": {
      "text/plain": [
       "{'lose': array([[  54962,   64962],\n",
       "        [ 379962,  389962],\n",
       "        [ 484962,  494962],\n",
       "        [ 579962,  589962],\n",
       "        [ 654962,  664962],\n",
       "        [1554961, 1564961]], dtype=int64),\n",
       " 'omission': array([[2294961, 2304961],\n",
       "        [2909961, 2919961],\n",
       "        [3209961, 3219961]], dtype=int64),\n",
       " 'rewarded': array([[1854961, 1864961],\n",
       "        [1914961, 1924961],\n",
       "        [1969961, 1979961],\n",
       "        [2034961, 2044961],\n",
       "        [2089961, 2099961],\n",
       "        [2139961, 2149961],\n",
       "        [2189961, 2199961],\n",
       "        [2414961, 2424961],\n",
       "        [2534961, 2544961],\n",
       "        [2644961, 2654961],\n",
       "        [2729961, 2739961],\n",
       "        [2849961, 2859961],\n",
       "        [2974961, 2984961],\n",
       "        [3034961, 3044961],\n",
       "        [3109961, 3119961]], dtype=int64),\n",
       " 'win': array([[ 174962,  184962],\n",
       "        [ 289962,  299962],\n",
       "        [ 434962,  444962],\n",
       "        [ 759962,  769962],\n",
       "        [ 809962,  819962],\n",
       "        [ 889962,  899962],\n",
       "        [ 954962,  964962],\n",
       "        [1019962, 1029962],\n",
       "        [1069962, 1079962],\n",
       "        [1139962, 1149962],\n",
       "        [1234962, 1244962],\n",
       "        [1314962, 1324962],\n",
       "        [1384962, 1394961],\n",
       "        [1494962, 1504961]], dtype=int64)}"
      ]
     },
     "execution_count": 8,
     "metadata": {},
     "output_type": "execute_result"
    }
   ],
   "source": [
    "# Check a random recording to make sure it actually assigned a dictionary\n",
    "bd4s11 = rcecollection.collection['20230618_100636_standard_comp_to_omission_D2_subj_1_1_t1b2L_box2_merged.rec']\n",
    "bd4s11.event_dict"
   ]
  },
  {
   "cell_type": "code",
   "execution_count": 9,
   "id": "da061754-7f81-4232-a352-7802dcd78f4f",
   "metadata": {},
   "outputs": [
    {
     "data": {
      "text/plain": [
       "'1_1'"
      ]
     },
     "execution_count": 9,
     "metadata": {},
     "output_type": "execute_result"
    }
   ],
   "source": [
    "# Check to make sure subject was correctly assigned\n",
    "bd4s11.subject"
   ]
  },
  {
   "cell_type": "code",
   "execution_count": 10,
   "id": "99cc1e81-9460-4553-bc7d-87efbfc50876",
   "metadata": {},
   "outputs": [
    {
     "name": "stdout",
     "output_type": "stream",
     "text": [
      "These recordings are missing event dictionaries:\n",
      "['20230612_101430_standard_comp_to_training_D1_subj_1-3_t3b3L_box2_merged.rec', '20230619_115321_standard_comp_to_omission_D3_subj_1-4_t3b3L_box2_merged.rec', '20230624_105855_standard_comp_to_both_rewarded_D3_subj_1-1_t1b2L_box1_merged.rec', '20230628_111202_standard_comp_to_novel_agent_D1_subj_1-1vs1-2and2-2_merged.rec', '20230628_111202_standard_comp_to_novel_agent_D1_subj_1-2vs1-1and2-1_merged.rec', '20230629_111937_standard_comp_to_novel_agent_D2_subj_1-1v1-4and2-1_merged.rec', '20230629_111937_standard_comp_to_novel_agent_D2_subj_1-4vs1-1and2-2_merged.rec', '20230630_115506_standard_comp_to_novel_agent_D3_subj_1-4vs1-2and2-1_merged_merged.rec']\n",
      "These recordings are missing subjects: ['20230612_101430_standard_comp_to_training_D1_subj_1-3_t3b3L_box2_merged.rec', '20230619_115321_standard_comp_to_omission_D3_subj_1-4_t3b3L_box2_merged.rec', '20230624_105855_standard_comp_to_both_rewarded_D3_subj_1-1_t1b2L_box1_merged.rec', '20230628_111202_standard_comp_to_novel_agent_D1_subj_1-1vs1-2and2-2_merged.rec', '20230628_111202_standard_comp_to_novel_agent_D1_subj_1-2vs1-1and2-1_merged.rec', '20230629_111937_standard_comp_to_novel_agent_D2_subj_1-1v1-4and2-1_merged.rec', '20230629_111937_standard_comp_to_novel_agent_D2_subj_1-4vs1-1and2-2_merged.rec', '20230630_115506_standard_comp_to_novel_agent_D3_subj_1-4vs1-2and2-1_merged_merged.rec']\n"
     ]
    }
   ],
   "source": [
    "spikeanal = spike.SpikeAnalysis_MultiRecording(rcecollection)"
   ]
  },
  {
   "cell_type": "code",
   "execution_count": 11,
   "id": "4f449e4d-c3f3-425a-806c-318c277eb918",
   "metadata": {},
   "outputs": [],
   "source": [
    "missing_event_dicts = set([\n",
    "    '20230612_101430_standard_comp_to_training_D1_subj_1-3_t3b3L_box2_merged.rec',\n",
    "    '20230619_115321_standard_comp_to_omission_D3_subj_1-4_t3b3L_box2_merged.rec',\n",
    "    '20230624_105855_standard_comp_to_both_rewarded_D3_subj_1-1_t1b2L_box1_merged.rec',\n",
    "    '20230628_111202_standard_comp_to_novel_agent_D1_subj_1-1vs1-2and2-2_merged.rec',\n",
    "    '20230628_111202_standard_comp_to_novel_agent_D1_subj_1-2vs1-1and2-1_merged.rec',\n",
    "    '20230629_111937_standard_comp_to_novel_agent_D2_subj_1-1v1-4and2-1_merged.rec',\n",
    "    '20230629_111937_standard_comp_to_novel_agent_D2_subj_1-4vs1-1and2-2_merged.rec',\n",
    "    '20230630_115506_standard_comp_to_novel_agent_D3_subj_1-4vs1-2and2-1_merged_merged.rec'\n",
    "])\n",
    "\n",
    "missing_subjects = set([\n",
    "    '20230612_101430_standard_comp_to_training_D1_subj_1-3_t3b3L_box2_merged.rec',\n",
    "    '20230619_115321_standard_comp_to_omission_D3_subj_1-4_t3b3L_box2_merged.rec',\n",
    "    '20230624_105855_standard_comp_to_both_rewarded_D3_subj_1-1_t1b2L_box1_merged.rec',\n",
    "    '20230628_111202_standard_comp_to_novel_agent_D1_subj_1-1vs1-2and2-2_merged.rec',\n",
    "    '20230628_111202_standard_comp_to_novel_agent_D1_subj_1-2vs1-1and2-1_merged.rec',\n",
    "    '20230629_111937_standard_comp_to_novel_agent_D2_subj_1-1v1-4and2-1_merged.rec',\n",
    "    '20230629_111937_standard_comp_to_novel_agent_D2_subj_1-4vs1-1and2-2_merged.rec',\n",
    "    '20230630_115506_standard_comp_to_novel_agent_D3_subj_1-4vs1-2and2-1_merged_merged.rec'\n",
    "])\n",
    "\n",
    "# Combine the sets to get a unique list of all recordings to be removed\n",
    "recordings_to_remove = missing_event_dicts.union(missing_subjects)\n",
    "\n",
    "# Remove the recordings from rcecollection.collection\n",
    "for recording in recordings_to_remove:\n",
    "    rcecollection.collection.pop(recording, None)  # Use pop with None to avoid KeyError if the recording doesn't exist\n"
   ]
  },
  {
   "cell_type": "code",
   "execution_count": 12,
   "id": "f7dfe30b-bad5-4ae3-9df2-9422a04eb09e",
   "metadata": {},
   "outputs": [
    {
     "name": "stdout",
     "output_type": "stream",
     "text": [
      "Your event dictionary keys are different across recordings.\n",
      "Please double check them:\n",
      "20230618_100636_standard_comp_to_omission_D2_subj_1_1_t1b2L_box2_merged.rec keys: dict_keys(['lose', 'omission', 'rewarded', 'win'])\n",
      "20230618_100636_standard_comp_to_omission_D2_subj_1_4_t4b3L_box1_merged.rec keys: dict_keys(['lose', 'omission', 'rewarded', 'win'])\n",
      "20230620_114347_standard_comp_to_omission_D4_subj_1-1_t1b2L_box_2_merged.rec keys: dict_keys(['lose', 'omission', 'rewarded', 'win'])\n",
      "20230620_114347_standard_comp_to_omission_D4_subj_1-2_t3b3L_box_1_merged.rec keys: dict_keys(['lose', 'omission', 'rewarded', 'win'])\n",
      "20230621_111240_standard_comp_to_omission_D5_subj_1-4_t3b3L_box1_merged.rec keys: dict_keys(['lose', 'omission', 'rewarded', 'win'])\n",
      "20230622_110832_standard_comp_to_both_rewarded_D1_subj_1-1_t1b3L_box1_merged.rec keys: dict_keys(['both_rewarded', 'lose'])\n",
      "20230622_110832_standard_comp_to_both_rewarded_D1_subj_1-2_t3b3L_box1_merged.rec keys: dict_keys(['both_rewarded', 'win'])\n",
      "20230624_105855_standard_comp_to_both_rewarded_D3_subj_1-4_t3b3L_box1_merged.rec keys: dict_keys(['both_rewarded', 'lose'])\n",
      "20230625_112913_standard_comp_to_both_rewarded_D4_subj_1-1_t1b2L_box1_merged.rec keys: dict_keys(['both_rewarded', 'lose', 'win'])\n",
      "20230625_112913_standard_comp_to_both_rewarded_D4_subj_1-4_t3b3L_box1_merged.rec keys: dict_keys(['both_rewarded', 'lose', 'win'])\n",
      "All set to analyze\n"
     ]
    }
   ],
   "source": [
    "spikeanal = spike.SpikeAnalysis_MultiRecording(rcecollection)"
   ]
  },
  {
   "cell_type": "code",
   "execution_count": 14,
   "id": "92dcbc4d-1df4-4ca5-83d1-aa95d61020df",
   "metadata": {},
   "outputs": [
    {
     "name": "stderr",
     "output_type": "stream",
     "text": [
      "C:\\Users\\short\\anaconda3\\Lib\\site-packages\\scipy\\stats\\_morestats.py:4102: UserWarning: Sample size too small for normal approximation.\n",
      "  warnings.warn(\"Sample size too small for normal approximation.\")\n",
      "C:\\Users\\short\\anaconda3\\Lib\\site-packages\\scipy\\stats\\_morestats.py:4102: UserWarning: Sample size too small for normal approximation.\n",
      "  warnings.warn(\"Sample size too small for normal approximation.\")\n",
      "C:\\Users\\short\\anaconda3\\Lib\\site-packages\\scipy\\stats\\_morestats.py:4102: UserWarning: Sample size too small for normal approximation.\n",
      "  warnings.warn(\"Sample size too small for normal approximation.\")\n",
      "C:\\Users\\short\\anaconda3\\Lib\\site-packages\\scipy\\stats\\_morestats.py:4102: UserWarning: Sample size too small for normal approximation.\n",
      "  warnings.warn(\"Sample size too small for normal approximation.\")\n"
     ]
    },
    {
     "ename": "ValueError",
     "evalue": "zero_method 'wilcox' and 'pratt' do not work if x - y is zero for all elements.",
     "output_type": "error",
     "traceback": [
      "\u001b[1;31m---------------------------------------------------------------------------\u001b[0m",
      "\u001b[1;31mValueError\u001b[0m                                Traceback (most recent call last)",
      "Cell \u001b[1;32mIn[14], line 1\u001b[0m\n\u001b[1;32m----> 1\u001b[0m spikeanal\u001b[38;5;241m.\u001b[39mwilcox_baseline_v_event_collection(\u001b[38;5;124m'\u001b[39m\u001b[38;5;124mwin\u001b[39m\u001b[38;5;124m'\u001b[39m, \u001b[38;5;241m1\u001b[39m, \u001b[38;5;241m1\u001b[39m)\n",
      "File \u001b[1;32m~\\Documents\\GitHub\\npc_playground\\multirecording_spikeanalysis.py:1017\u001b[0m, in \u001b[0;36mSpikeAnalysis_MultiRecording.wilcox_baseline_v_event_collection\u001b[1;34m(self, event, equalize, baseline_window, offset, exclude_offset, plot, save)\u001b[0m\n\u001b[0;32m   1012\u001b[0m is_first \u001b[38;5;241m=\u001b[39m \u001b[38;5;28;01mTrue\u001b[39;00m\n\u001b[0;32m   1013\u001b[0m \u001b[38;5;28;01mfor\u001b[39;00m (\n\u001b[0;32m   1014\u001b[0m     recording_name,\n\u001b[0;32m   1015\u001b[0m     recording,\n\u001b[0;32m   1016\u001b[0m ) \u001b[38;5;129;01min\u001b[39;00m \u001b[38;5;28mself\u001b[39m\u001b[38;5;241m.\u001b[39mephyscollection\u001b[38;5;241m.\u001b[39mcollection\u001b[38;5;241m.\u001b[39mitems():\n\u001b[1;32m-> 1017\u001b[0m     recording_df \u001b[38;5;241m=\u001b[39m \u001b[38;5;28mself\u001b[39m\u001b[38;5;241m.\u001b[39m__wilcox_baseline_v_event_stats__(\n\u001b[0;32m   1018\u001b[0m         recording, event, equalize, baseline_window, offset, \n\u001b[0;32m   1019\u001b[0m         exclude_offset, save\n\u001b[0;32m   1020\u001b[0m     )\n\u001b[0;32m   1021\u001b[0m     recording_df \u001b[38;5;241m=\u001b[39m recording_df\u001b[38;5;241m.\u001b[39mreset_index()\u001b[38;5;241m.\u001b[39mrename(\n\u001b[0;32m   1022\u001b[0m         columns\u001b[38;5;241m=\u001b[39m{\u001b[38;5;124m\"\u001b[39m\u001b[38;5;124mindex\u001b[39m\u001b[38;5;124m\"\u001b[39m: \u001b[38;5;124m\"\u001b[39m\u001b[38;5;124moriginal unit id\u001b[39m\u001b[38;5;124m\"\u001b[39m}\n\u001b[0;32m   1023\u001b[0m     )\n\u001b[0;32m   1024\u001b[0m     recording_df[\u001b[38;5;124m\"\u001b[39m\u001b[38;5;124mRecording\u001b[39m\u001b[38;5;124m\"\u001b[39m] \u001b[38;5;241m=\u001b[39m recording_name\n",
      "File \u001b[1;32m~\\Documents\\GitHub\\npc_playground\\multirecording_spikeanalysis.py:961\u001b[0m, in \u001b[0;36mSpikeAnalysis_MultiRecording.__wilcox_baseline_v_event_stats__\u001b[1;34m(self, recording, event, equalize, baseline_window, offset, exclude_offset, save)\u001b[0m\n\u001b[0;32m    959\u001b[0m wilcoxon_stats \u001b[38;5;241m=\u001b[39m {}\n\u001b[0;32m    960\u001b[0m \u001b[38;5;28;01mfor\u001b[39;00m unit \u001b[38;5;129;01min\u001b[39;00m unit_averages\u001b[38;5;241m.\u001b[39mkeys(): \n\u001b[1;32m--> 961\u001b[0m     wilcoxon_stats[unit] \u001b[38;5;241m=\u001b[39m wilcoxon(unit_averages[unit][\u001b[38;5;241m0\u001b[39m], unit_averages[unit][\u001b[38;5;241m1\u001b[39m], method \u001b[38;5;241m=\u001b[39m \u001b[38;5;124m'\u001b[39m\u001b[38;5;124mapprox\u001b[39m\u001b[38;5;124m'\u001b[39m)\n\u001b[0;32m    962\u001b[0m wilcoxon_df \u001b[38;5;241m=\u001b[39m pd\u001b[38;5;241m.\u001b[39mDataFrame\u001b[38;5;241m.\u001b[39mfrom_dict(wilcoxon_stats, orient\u001b[38;5;241m=\u001b[39m\u001b[38;5;124m'\u001b[39m\u001b[38;5;124mindex\u001b[39m\u001b[38;5;124m'\u001b[39m)\n\u001b[0;32m    963\u001b[0m wilcoxon_df\u001b[38;5;241m.\u001b[39mcolumns \u001b[38;5;241m=\u001b[39m [\u001b[38;5;124m'\u001b[39m\u001b[38;5;124mWilcoxon Stat\u001b[39m\u001b[38;5;124m'\u001b[39m, \u001b[38;5;124m'\u001b[39m\u001b[38;5;124mp value\u001b[39m\u001b[38;5;124m'\u001b[39m]\n",
      "File \u001b[1;32m~\\anaconda3\\Lib\\site-packages\\scipy\\_lib\\_util.py:713\u001b[0m, in \u001b[0;36m_rename_parameter.<locals>.decorator.<locals>.wrapper\u001b[1;34m(*args, **kwargs)\u001b[0m\n\u001b[0;32m    711\u001b[0m         \u001b[38;5;28;01mraise\u001b[39;00m \u001b[38;5;167;01mTypeError\u001b[39;00m(message)\n\u001b[0;32m    712\u001b[0m     kwargs[new_name] \u001b[38;5;241m=\u001b[39m kwargs\u001b[38;5;241m.\u001b[39mpop(old_name)\n\u001b[1;32m--> 713\u001b[0m \u001b[38;5;28;01mreturn\u001b[39;00m fun(\u001b[38;5;241m*\u001b[39margs, \u001b[38;5;241m*\u001b[39m\u001b[38;5;241m*\u001b[39mkwargs)\n",
      "File \u001b[1;32m~\\anaconda3\\Lib\\site-packages\\scipy\\stats\\_axis_nan_policy.py:523\u001b[0m, in \u001b[0;36m_axis_nan_policy_factory.<locals>.axis_nan_policy_decorator.<locals>.axis_nan_policy_wrapper\u001b[1;34m(***failed resolving arguments***)\u001b[0m\n\u001b[0;32m    521\u001b[0m \u001b[38;5;28;01mif\u001b[39;00m sentinel:\n\u001b[0;32m    522\u001b[0m     samples \u001b[38;5;241m=\u001b[39m _remove_sentinel(samples, paired, sentinel)\n\u001b[1;32m--> 523\u001b[0m res \u001b[38;5;241m=\u001b[39m hypotest_fun_out(\u001b[38;5;241m*\u001b[39msamples, \u001b[38;5;241m*\u001b[39m\u001b[38;5;241m*\u001b[39mkwds)\n\u001b[0;32m    524\u001b[0m res \u001b[38;5;241m=\u001b[39m result_to_tuple(res)\n\u001b[0;32m    525\u001b[0m res \u001b[38;5;241m=\u001b[39m _add_reduced_axes(res, reduced_axes, keepdims)\n",
      "File \u001b[1;32m~\\anaconda3\\Lib\\site-packages\\scipy\\stats\\_morestats.py:4094\u001b[0m, in \u001b[0;36mwilcoxon\u001b[1;34m(x, y, zero_method, correction, alternative, method)\u001b[0m\n\u001b[0;32m   4092\u001b[0m \u001b[38;5;28;01mif\u001b[39;00m zero_method \u001b[38;5;129;01min\u001b[39;00m [\u001b[38;5;124m\"\u001b[39m\u001b[38;5;124mwilcox\u001b[39m\u001b[38;5;124m\"\u001b[39m, \u001b[38;5;124m\"\u001b[39m\u001b[38;5;124mpratt\u001b[39m\u001b[38;5;124m\"\u001b[39m]:\n\u001b[0;32m   4093\u001b[0m     \u001b[38;5;28;01mif\u001b[39;00m n_zero \u001b[38;5;241m==\u001b[39m \u001b[38;5;28mlen\u001b[39m(d):\n\u001b[1;32m-> 4094\u001b[0m         \u001b[38;5;28;01mraise\u001b[39;00m \u001b[38;5;167;01mValueError\u001b[39;00m(\u001b[38;5;124m\"\u001b[39m\u001b[38;5;124mzero_method \u001b[39m\u001b[38;5;124m'\u001b[39m\u001b[38;5;124mwilcox\u001b[39m\u001b[38;5;124m'\u001b[39m\u001b[38;5;124m and \u001b[39m\u001b[38;5;124m'\u001b[39m\u001b[38;5;124mpratt\u001b[39m\u001b[38;5;124m'\u001b[39m\u001b[38;5;124m do not \u001b[39m\u001b[38;5;124m\"\u001b[39m\n\u001b[0;32m   4095\u001b[0m                          \u001b[38;5;124m\"\u001b[39m\u001b[38;5;124mwork if x - y is zero for all elements.\u001b[39m\u001b[38;5;124m\"\u001b[39m)\n\u001b[0;32m   4096\u001b[0m \u001b[38;5;28;01mif\u001b[39;00m zero_method \u001b[38;5;241m==\u001b[39m \u001b[38;5;124m\"\u001b[39m\u001b[38;5;124mwilcox\u001b[39m\u001b[38;5;124m\"\u001b[39m:\n\u001b[0;32m   4097\u001b[0m     \u001b[38;5;66;03m# Keep all non-zero differences\u001b[39;00m\n\u001b[0;32m   4098\u001b[0m     d \u001b[38;5;241m=\u001b[39m compress(np\u001b[38;5;241m.\u001b[39mnot_equal(d, \u001b[38;5;241m0\u001b[39m), d)\n",
      "\u001b[1;31mValueError\u001b[0m: zero_method 'wilcox' and 'pratt' do not work if x - y is zero for all elements."
     ]
    }
   ],
   "source": [
    "spikeanal.wilcox_baseline_v_event_collection('win', 1, 1)"
   ]
  },
  {
   "cell_type": "code",
   "execution_count": 15,
   "id": "a03b3be6-a99b-4c77-94e8-514795797f28",
   "metadata": {},
   "outputs": [
    {
     "ename": "SyntaxError",
     "evalue": "invalid syntax (705191160.py, line 7)",
     "output_type": "error",
     "traceback": [
      "\u001b[1;36m  Cell \u001b[1;32mIn[15], line 7\u001b[1;36m\u001b[0m\n\u001b[1;33m    both_reward_rcecollection =\u001b[0m\n\u001b[1;37m                                ^\u001b[0m\n\u001b[1;31mSyntaxError\u001b[0m\u001b[1;31m:\u001b[0m invalid syntax\n"
     ]
    }
   ],
   "source": [
    "both_rewarded_list = ['20230622_110832_standard_comp_to_both_rewarded_D1_subj_1-1_t1b3L_box1_merged.rec', \n",
    "                      '20230622_110832_standard_comp_to_both_rewarded_D1_subj_1-2_t3b3L_box1_merged.rec', \n",
    "                      '20230624_105855_standard_comp_to_both_rewarded_D3_subj_1-4_t3b3L_box1_merged.rec', \n",
    "                      '20230625_112913_standard_comp_to_both_rewarded_D4_subj_1-1_t1b2L_box1_merged.rec', \n",
    "                      '20230625_112913_standard_comp_to_both_rewarded_D4_subj_1-4_t3b3L_box1_merged.rec']\n",
    "# Remove the recordings from rcecollection.collection\n",
    "both_reward_rcecollection = \n",
    "    for recording not in recordings_to_remove:\n",
    "        rcecollection.collection.pop(recording, None)  # Use pop with None to avoid KeyError if the recording doesn't exist\n",
    "omission_rcecollection = \n",
    "    for recording in recordings_to_remove:\n",
    "        rcecollection.collection.pop(recording, None)"
   ]
  },
  {
   "cell_type": "code",
   "execution_count": 16,
   "id": "4ffce12d-71ff-41e0-8434-aaf1d06614c3",
   "metadata": {},
   "outputs": [
    {
     "ename": "AttributeError",
     "evalue": "'EphysRecordingCollection' object has no attribute 'pop'",
     "output_type": "error",
     "traceback": [
      "\u001b[1;31m---------------------------------------------------------------------------\u001b[0m",
      "\u001b[1;31mAttributeError\u001b[0m                            Traceback (most recent call last)",
      "Cell \u001b[1;32mIn[16], line 30\u001b[0m\n\u001b[0;32m     21\u001b[0m both_rewarded_list \u001b[38;5;241m=\u001b[39m [\n\u001b[0;32m     22\u001b[0m     \u001b[38;5;124m'\u001b[39m\u001b[38;5;124m20230622_110832_standard_comp_to_both_rewarded_D1_subj_1-1_t1b3L_box1_merged.rec\u001b[39m\u001b[38;5;124m'\u001b[39m,\n\u001b[0;32m     23\u001b[0m     \u001b[38;5;124m'\u001b[39m\u001b[38;5;124m20230622_110832_standard_comp_to_both_rewarded_D1_subj_1-2_t3b3L_box1_merged.rec\u001b[39m\u001b[38;5;124m'\u001b[39m,\n\u001b[1;32m   (...)\u001b[0m\n\u001b[0;32m     26\u001b[0m     \u001b[38;5;124m'\u001b[39m\u001b[38;5;124m20230625_112913_standard_comp_to_both_rewarded_D4_subj_1-4_t3b3L_box1_merged.rec\u001b[39m\u001b[38;5;124m'\u001b[39m\n\u001b[0;32m     27\u001b[0m ]\n\u001b[0;32m     29\u001b[0m \u001b[38;5;66;03m# Remove the specified recordings from the collection and capture the removed recordings\u001b[39;00m\n\u001b[1;32m---> 30\u001b[0m omission_rcecollection \u001b[38;5;241m=\u001b[39m remove_recordings_from_collection(rcecollection, both_rewarded_list)\n",
      "Cell \u001b[1;32mIn[16], line 15\u001b[0m, in \u001b[0;36mremove_recordings_from_collection\u001b[1;34m(collection, recordings_to_remove)\u001b[0m\n\u001b[0;32m     12\u001b[0m removed_recordings \u001b[38;5;241m=\u001b[39m {}\n\u001b[0;32m     13\u001b[0m \u001b[38;5;28;01mfor\u001b[39;00m recording \u001b[38;5;129;01min\u001b[39;00m recordings_to_remove:\n\u001b[0;32m     14\u001b[0m     \u001b[38;5;66;03m# Attempt to remove the recording and save it if it was in the collection\u001b[39;00m\n\u001b[1;32m---> 15\u001b[0m     removed \u001b[38;5;241m=\u001b[39m collection\u001b[38;5;241m.\u001b[39mpop(recording, \u001b[38;5;28;01mNone\u001b[39;00m)\n\u001b[0;32m     16\u001b[0m     \u001b[38;5;28;01mif\u001b[39;00m removed \u001b[38;5;129;01mis\u001b[39;00m \u001b[38;5;129;01mnot\u001b[39;00m \u001b[38;5;28;01mNone\u001b[39;00m:\n\u001b[0;32m     17\u001b[0m         removed_recordings[recording] \u001b[38;5;241m=\u001b[39m removed\n",
      "\u001b[1;31mAttributeError\u001b[0m: 'EphysRecordingCollection' object has no attribute 'pop'"
     ]
    }
   ],
   "source": [
    "def remove_recordings_from_collection(collection, recordings_to_remove):\n",
    "    \"\"\"\n",
    "    Remove specified recordings from a collection.\n",
    "\n",
    "    Parameters:\n",
    "    - collection (dict): The collection from which recordings will be removed.\n",
    "    - recordings_to_remove (list): A list of keys representing recordings to remove.\n",
    "\n",
    "    Returns:\n",
    "    - dict: A dictionary of removed recordings.\n",
    "    \"\"\"\n",
    "    removed_recordings = {}\n",
    "    for recording in recordings_to_remove:\n",
    "        # Attempt to remove the recording and save it if it was in the collection\n",
    "        removed = collection.pop(recording, None)\n",
    "        if removed is not None:\n",
    "            removed_recordings[recording] = removed\n",
    "    return removed_recordings\n",
    "\n",
    "# List of recordings to remove\n",
    "both_rewarded_list = [\n",
    "    '20230622_110832_standard_comp_to_both_rewarded_D1_subj_1-1_t1b3L_box1_merged.rec',\n",
    "    '20230622_110832_standard_comp_to_both_rewarded_D1_subj_1-2_t3b3L_box1_merged.rec',\n",
    "    '20230624_105855_standard_comp_to_both_rewarded_D3_subj_1-4_t3b3L_box1_merged.rec',\n",
    "    '20230625_112913_standard_comp_to_both_rewarded_D4_subj_1-1_t1b2L_box1_merged.rec',\n",
    "    '20230625_112913_standard_comp_to_both_rewarded_D4_subj_1-4_t3b3L_box1_merged.rec'\n",
    "]\n",
    "\n",
    "# Remove the specified recordings from the collection and capture the removed recordings\n",
    "omission_rcecollection = remove_recordings_from_collection(rcecollection, both_rewarded_list)\n",
    "\n",
    "# Now `rcecollection` no longer contains the items in `both_rewarded_list`,\n",
    "# and `removed_recordings` contains the removed items.\n"
   ]
  },
  {
   "cell_type": "code",
   "execution_count": null,
   "id": "e9518cf9-fcf3-44ad-b3eb-1778004dfb06",
   "metadata": {},
   "outputs": [],
   "source": [
    "omission_timestamps.keys() = label_timestamps - timestamps.keys(\n",
    "\n",
    "for recording in rcecollection.collection.keys():\n",
    "    # Check if the recording key (without the .rec suffix) is in label_timestamps\n",
    "    recording_key_without_suffix = recording[:-4]  # Remove '.rec' from the end\n",
    "    if recording_key_without_suffix in label_timestamps:\n",
    "        # Assign the corresponding label_timestamps dictionary to event_dict\n",
    "        rcecollection.collection[recording].event_dict = label_timestamps[recording_key_without_suffix]\n",
    "        \n",
    "        # Extract the subject from the recording key\n",
    "        # Find the positions of 'subj_' and '_t' to extract the subject\n",
    "        start = recording.find('subj_') + 5  # Start index after 'subj_'\n",
    "        end = recording.find('_t', start)  # End index before '_t'\n",
    "        subject = recording[start:end].replace('-', '_')  # Replace '-' with '_'\n",
    "        \n",
    "        # Assign the extracted subject\n",
    "        rcecollection.collection[recording].subject = subject"
   ]
  }
 ],
 "metadata": {
  "kernelspec": {
   "display_name": "Python 3 (ipykernel)",
   "language": "python",
   "name": "python3"
  },
  "language_info": {
   "codemirror_mode": {
    "name": "ipython",
    "version": 3
   },
   "file_extension": ".py",
   "mimetype": "text/x-python",
   "name": "python",
   "nbconvert_exporter": "python",
   "pygments_lexer": "ipython3",
   "version": "3.11.7"
  }
 },
 "nbformat": 4,
 "nbformat_minor": 5
}
