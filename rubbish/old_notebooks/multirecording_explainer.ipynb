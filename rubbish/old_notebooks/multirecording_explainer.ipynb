{
 "cells": [
  {
   "cell_type": "markdown",
   "id": "2c0d8fc4-f65c-4f5c-a094-dad3e0963aaf",
   "metadata": {},
   "source": [
    "# Example/tutorial of how Meghan's code/ephys analysis works\n",
    "## Each Phy folder contains 3 files: \n",
    "#### **cluster_group.tsv** which is just a list of each neuron from Phy and whether it was classified as good, mua, or noise\n",
    "#### **spike_times.npy** which is essentially one long array of spike times, regardless of which neuron fired\n",
    "#### **spike_clusters.npy** which is essentially one long array that aligns with the spike times, and says which neuron it was that fired\n",
    "##### The files made to create this notebook are not stored with the notebook, so **don't rerun any of this**, just read it."
   ]
  },
  {
   "cell_type": "code",
   "execution_count": 39,
   "id": "6dbc299e-32d8-46a0-8c4c-6fbfd20b924a",
   "metadata": {
    "tags": []
   },
   "outputs": [],
   "source": [
    "import os\n",
    "import csv\n",
    "import math\n",
    "\n",
    "import numpy as np\n",
    "import pandas as pd\n",
    "import matplotlib.pyplot as plt\n",
    "\n",
    "from scipy.stats import sem, ranksums, fisher_exact, wilcoxon\n",
    "from statistics import mean, StatisticsError\n",
    "from sklearn.decomposition import PCA\n",
    "from mpl_toolkits.mplot3d import Axes3D\n",
    "from scipy.spatial.distance import euclidean\n",
    "from itertools import combinations\n",
    "from sklearn.metrics import roc_auc_score\n",
    "from sklearn.ensemble import BaggingClassifier\n",
    "from sklearn.tree import DecisionTreeClassifier\n",
    "from sklearn.linear_model import LogisticRegression\n",
    "from sklearn.svm import LinearSVC\n",
    "\n",
    "spike_clusters = np.load('spike_clusters.npy')\n",
    "\n",
    "spike_times = np.load('spike_times.npy')"
   ]
  },
  {
   "cell_type": "code",
   "execution_count": 3,
   "id": "08b85638-bc7c-4880-aa2a-c1227f1a103c",
   "metadata": {
    "tags": []
   },
   "outputs": [
    {
     "data": {
      "text/plain": [
       "array([85, 41, 55, ..., 14, 26, 87], dtype=int32)"
      ]
     },
     "execution_count": 3,
     "metadata": {},
     "output_type": "execute_result"
    }
   ],
   "source": [
    "spike_clusters"
   ]
  },
  {
   "cell_type": "code",
   "execution_count": 4,
   "id": "d28b14c3-075a-4969-b0e0-0299e7f51a88",
   "metadata": {
    "tags": []
   },
   "outputs": [
    {
     "data": {
      "text/plain": [
       "483418"
      ]
     },
     "execution_count": 4,
     "metadata": {},
     "output_type": "execute_result"
    }
   ],
   "source": [
    "len(spike_clusters)"
   ]
  },
  {
   "cell_type": "code",
   "execution_count": 5,
   "id": "bbee3408-01af-40f6-b9cd-42deff3146d0",
   "metadata": {
    "tags": []
   },
   "outputs": [
    {
     "data": {
      "text/plain": [
       "array([[     689],\n",
       "       [    1754],\n",
       "       [    1829],\n",
       "       ...,\n",
       "       [68293021],\n",
       "       [68293168],\n",
       "       [68293331]])"
      ]
     },
     "execution_count": 5,
     "metadata": {},
     "output_type": "execute_result"
    }
   ],
   "source": [
    "spike_times"
   ]
  },
  {
   "cell_type": "code",
   "execution_count": 6,
   "id": "ec625267-819e-44b7-a20f-1d9baea976cc",
   "metadata": {
    "tags": []
   },
   "outputs": [
    {
     "data": {
      "text/plain": [
       "483418"
      ]
     },
     "execution_count": 6,
     "metadata": {},
     "output_type": "execute_result"
    }
   ],
   "source": [
    "len(spike_times)"
   ]
  },
  {
   "cell_type": "code",
   "execution_count": 8,
   "id": "9ef513f4-ba5d-42f8-8518-e34f21753c5d",
   "metadata": {
    "tags": []
   },
   "outputs": [
    {
     "data": {
      "text/plain": [
       "85"
      ]
     },
     "execution_count": 8,
     "metadata": {},
     "output_type": "execute_result"
    }
   ],
   "source": [
    "spike_clusters[0]"
   ]
  },
  {
   "cell_type": "code",
   "execution_count": 9,
   "id": "f5fc14b6-6c00-44ca-832b-900e5f9dbb3b",
   "metadata": {
    "tags": []
   },
   "outputs": [
    {
     "data": {
      "text/plain": [
       "array([689])"
      ]
     },
     "execution_count": 9,
     "metadata": {},
     "output_type": "execute_result"
    }
   ],
   "source": [
    "spike_times[0]"
   ]
  },
  {
   "cell_type": "code",
   "execution_count": 11,
   "id": "27a8b88a-2a6e-40bf-9aff-92187ce8aa01",
   "metadata": {
    "tags": []
   },
   "outputs": [
    {
     "data": {
      "text/plain": [
       "(483418, 1)"
      ]
     },
     "execution_count": 11,
     "metadata": {},
     "output_type": "execute_result"
    }
   ],
   "source": [
    "spike_times.shape"
   ]
  },
  {
   "cell_type": "code",
   "execution_count": 12,
   "id": "0646e7c8-192e-4679-90ad-3d003814373d",
   "metadata": {
    "tags": []
   },
   "outputs": [
    {
     "data": {
      "text/plain": [
       "(483418,)"
      ]
     },
     "execution_count": 12,
     "metadata": {},
     "output_type": "execute_result"
    }
   ],
   "source": [
    "spike_clusters.shape"
   ]
  },
  {
   "cell_type": "code",
   "execution_count": 16,
   "id": "b19d68ca-30d1-4b25-9b2f-20536413883a",
   "metadata": {
    "tags": []
   },
   "outputs": [],
   "source": [
    "spike_times2 = spike_times.flatten()\n",
    "neuron_spike_dict = {}\n",
    "\n",
    "# Iterate over each spike time and cluster ID\n",
    "for cluster_id, spike_time in zip(spike_clusters, spike_times2):\n",
    "    # If the cluster_id is not yet a key in the dictionary, add it with an empty list\n",
    "    if cluster_id not in neuron_spike_dict:\n",
    "        neuron_spike_dict[cluster_id] = []\n",
    "    # Append the spike time to the list of spike times for this cluster_id\n",
    "    neuron_spike_dict[cluster_id].append(spike_time)"
   ]
  },
  {
   "cell_type": "code",
   "execution_count": 22,
   "id": "28fb1188-4d19-4777-adf2-3139b3dc54a3",
   "metadata": {
    "tags": []
   },
   "outputs": [],
   "source": [
    "def get_spiketrain(\n",
    "    timestamp_array, last_timestamp, timebin=1, sampling_rate=20000\n",
    "):\n",
    "    \"\"\"\n",
    "    creates a spiketrain of ms time bins\n",
    "    each array element is the number of spikes recorded per ms\n",
    "\n",
    "    Args (3 total):\n",
    "        timestamp_array: numpy array, spike timestamp array\n",
    "        timebin: int, default=1, timebin (ms) of resulting spiketrain\n",
    "        sampling_rate: int, default=20000, sampling rate\n",
    "        in Hz of the ephys recording\n",
    "\n",
    "    Returns (1):\n",
    "        spiketrain: numpy array, array elements are number\n",
    "        of spikes per timebin\n",
    "    \"\"\"\n",
    "    hz_to_timebin = int(sampling_rate * 0.001 * timebin)\n",
    "    spiketrain = np.histogram(\n",
    "        timestamp_array, bins=np.arange(0, last_timestamp, hz_to_timebin)\n",
    "    )[0]\n",
    "    return spiketrain"
   ]
  },
  {
   "cell_type": "code",
   "execution_count": 23,
   "id": "b33eec23-8c6e-4040-9fbb-702c7f12e214",
   "metadata": {
    "tags": []
   },
   "outputs": [],
   "source": [
    "last_timestamp = max([max(times) for times in neuron_spike_dict.values() if times])  # Ensure the list is not empty\n",
    "\n",
    "neuron_spiketrains = {}\n",
    "\n",
    "for neuron_id, spike_times in neuron_spike_dict.items():\n",
    "    # Convert list of spike times to a numpy array\n",
    "    spike_times_array = np.array(spike_times)\n",
    "    \n",
    "    # Generate the spiketrain for this neuron\n",
    "    spiketrain = get_spiketrain(spike_times_array, last_timestamp, timebin=1, sampling_rate=20000)\n",
    "    \n",
    "    # Store the spiketrain in the new dictionary\n",
    "    neuron_spiketrains[neuron_id] = spiketrain"
   ]
  },
  {
   "cell_type": "code",
   "execution_count": 28,
   "id": "4fb202ec-e5e2-44eb-82ed-e57c8cecb97a",
   "metadata": {
    "tags": []
   },
   "outputs": [
    {
     "data": {
      "text/plain": [
       "{85: array([0, 0, 0, ..., 0, 0, 0]),\n",
       " 41: array([0, 0, 0, ..., 0, 0, 0]),\n",
       " 55: array([0, 0, 0, ..., 0, 0, 0]),\n",
       " 3: array([0, 0, 0, ..., 0, 0, 0]),\n",
       " 58: array([0, 0, 0, ..., 0, 0, 0]),\n",
       " 17: array([0, 0, 0, ..., 0, 0, 0]),\n",
       " 1: array([0, 0, 0, ..., 0, 0, 0]),\n",
       " 46: array([0, 0, 0, ..., 0, 0, 0]),\n",
       " 24: array([0, 0, 0, ..., 0, 0, 0]),\n",
       " 68: array([0, 0, 0, ..., 0, 0, 0]),\n",
       " 65: array([0, 0, 0, ..., 0, 0, 0]),\n",
       " 47: array([0, 0, 0, ..., 0, 0, 0]),\n",
       " 22: array([0, 0, 0, ..., 0, 0, 0]),\n",
       " 9: array([0, 0, 0, ..., 0, 0, 0]),\n",
       " 34: array([0, 0, 0, ..., 0, 0, 0]),\n",
       " 98: array([0, 0, 0, ..., 0, 0, 0]),\n",
       " 94: array([0, 0, 0, ..., 0, 0, 0]),\n",
       " 38: array([0, 0, 0, ..., 0, 0, 0]),\n",
       " 66: array([0, 0, 0, ..., 0, 0, 0]),\n",
       " 67: array([0, 0, 0, ..., 0, 0, 0]),\n",
       " 2: array([0, 0, 0, ..., 0, 0, 0]),\n",
       " 14: array([0, 0, 0, ..., 0, 0, 0]),\n",
       " 33: array([0, 0, 0, ..., 0, 0, 0]),\n",
       " 35: array([0, 0, 0, ..., 0, 0, 0]),\n",
       " 37: array([0, 0, 0, ..., 0, 0, 0]),\n",
       " 23: array([0, 0, 0, ..., 0, 0, 0]),\n",
       " 13: array([0, 0, 0, ..., 0, 0, 0]),\n",
       " 82: array([0, 0, 0, ..., 0, 0, 0]),\n",
       " 30: array([0, 0, 0, ..., 0, 0, 0]),\n",
       " 44: array([0, 0, 0, ..., 0, 0, 0]),\n",
       " 39: array([0, 0, 0, ..., 0, 0, 0]),\n",
       " 18: array([0, 0, 0, ..., 0, 0, 0]),\n",
       " 56: array([0, 0, 0, ..., 0, 0, 0]),\n",
       " 59: array([0, 0, 0, ..., 0, 0, 0]),\n",
       " 87: array([0, 0, 0, ..., 0, 0, 0]),\n",
       " 81: array([0, 0, 0, ..., 0, 0, 0]),\n",
       " 53: array([0, 0, 0, ..., 0, 0, 0]),\n",
       " 11: array([0, 0, 0, ..., 0, 0, 0]),\n",
       " 19: array([0, 0, 0, ..., 0, 0, 0]),\n",
       " 88: array([0, 0, 0, ..., 0, 0, 0]),\n",
       " 26: array([0, 0, 0, ..., 0, 0, 0]),\n",
       " 29: array([0, 0, 0, ..., 0, 0, 0]),\n",
       " 40: array([0, 0, 0, ..., 0, 0, 0]),\n",
       " 5: array([0, 0, 0, ..., 0, 0, 0]),\n",
       " 42: array([0, 0, 0, ..., 0, 0, 0]),\n",
       " 36: array([0, 0, 0, ..., 0, 0, 0]),\n",
       " 12: array([0, 0, 0, ..., 0, 0, 0]),\n",
       " 95: array([0, 0, 0, ..., 0, 0, 0]),\n",
       " 31: array([0, 0, 0, ..., 0, 0, 0]),\n",
       " 99: array([0, 0, 0, ..., 0, 0, 0]),\n",
       " 32: array([0, 0, 0, ..., 0, 0, 0]),\n",
       " 48: array([0, 0, 0, ..., 0, 0, 0]),\n",
       " 20: array([0, 0, 0, ..., 0, 0, 0]),\n",
       " 54: array([0, 0, 0, ..., 0, 0, 0]),\n",
       " 45: array([0, 0, 0, ..., 0, 0, 0]),\n",
       " 57: array([0, 0, 0, ..., 0, 0, 0])}"
      ]
     },
     "execution_count": 28,
     "metadata": {},
     "output_type": "execute_result"
    }
   ],
   "source": [
    "neuron_spiketrains"
   ]
  },
  {
   "cell_type": "code",
   "execution_count": 30,
   "id": "64e4804f-ce40-420d-b29f-ee4157b6300a",
   "metadata": {
    "tags": []
   },
   "outputs": [
    {
     "data": {
      "text/plain": [
       "3414666"
      ]
     },
     "execution_count": 30,
     "metadata": {},
     "output_type": "execute_result"
    }
   ],
   "source": [
    "len(neuron_spiketrains[85])"
   ]
  },
  {
   "cell_type": "code",
   "execution_count": 31,
   "id": "d2a3750c-afa7-438f-8794-64a16f091d93",
   "metadata": {
    "tags": []
   },
   "outputs": [
    {
     "data": {
      "text/plain": [
       "3414666"
      ]
     },
     "execution_count": 31,
     "metadata": {},
     "output_type": "execute_result"
    }
   ],
   "source": [
    "len(neuron_spiketrains[41])"
   ]
  },
  {
   "cell_type": "code",
   "execution_count": 35,
   "id": "9c659316-f10d-4c24-a988-dd8c1d4fc894",
   "metadata": {
    "tags": []
   },
   "outputs": [],
   "source": [
    "def get_firing_rate(spiketrain, smoothing_window, timebin):\n",
    "    \"\"\"\n",
    "    calculates firing rate (spikes/second)\n",
    "\n",
    "    Args (3 total, 1 required):\n",
    "        spiketrain: numpy array, in timebin (ms) bins\n",
    "        smoothing_window: int, default=250, smoothing average window (ms)\n",
    "            min smoothing_window = 1\n",
    "        timebin: int, default = 1, timebin (ms) of spiketrain\n",
    "\n",
    "    Return (1):\n",
    "        firing_rate: numpy array of firing rates in timebin sized windows\n",
    "\n",
    "    \"\"\"\n",
    "    weights = np.ones(smoothing_window) / smoothing_window * 1000 / timebin\n",
    "    firing_rate = np.convolve(spiketrain, weights, mode=\"same\")\n",
    "\n",
    "    return firing_rate\n",
    "\n",
    "# Dictionary to store firing rates for each neuron\n",
    "firing_rates = {}\n",
    "\n",
    "# Iterate over each neuron in the neuron_spiketrains dictionary\n",
    "for neuron_id, spiketrain in neuron_spiketrains.items():\n",
    "    # Calculate the firing rate for each neuron\n",
    "    firing_rate = get_firing_rate(spiketrain, 250, 1)\n",
    "    # Store the result in the firing_rates dictionary\n",
    "    firing_rates[neuron_id] = firing_rate\n"
   ]
  },
  {
   "cell_type": "code",
   "execution_count": 36,
   "id": "0b6dea8b-8e07-4cf9-b453-52700c14fdac",
   "metadata": {
    "tags": []
   },
   "outputs": [
    {
     "data": {
      "text/plain": [
       "{85: array([4., 4., 4., ..., 0., 0., 0.]),\n",
       " 41: array([4., 4., 4., ..., 0., 0., 0.]),\n",
       " 55: array([4., 4., 4., ..., 4., 4., 4.]),\n",
       " 3: array([0., 0., 0., ..., 4., 4., 4.]),\n",
       " 58: array([0., 0., 0., ..., 0., 0., 0.]),\n",
       " 17: array([0., 0., 0., ..., 0., 0., 0.]),\n",
       " 1: array([0., 0., 0., ..., 0., 0., 0.]),\n",
       " 46: array([0., 0., 0., ..., 0., 0., 0.]),\n",
       " 24: array([0., 0., 0., ..., 0., 0., 0.]),\n",
       " 68: array([0., 0., 0., ..., 0., 0., 0.]),\n",
       " 65: array([0., 0., 0., ..., 0., 0., 0.]),\n",
       " 47: array([0., 0., 0., ..., 0., 0., 0.]),\n",
       " 22: array([0., 0., 0., ..., 8., 8., 8.]),\n",
       " 9: array([0., 0., 0., ..., 4., 4., 4.]),\n",
       " 34: array([0., 0., 0., ..., 0., 0., 0.]),\n",
       " 98: array([0., 0., 0., ..., 4., 4., 4.]),\n",
       " 94: array([0., 0., 0., ..., 0., 0., 0.]),\n",
       " 38: array([0., 0., 0., ..., 0., 0., 0.]),\n",
       " 66: array([0., 0., 0., ..., 0., 0., 0.]),\n",
       " 67: array([0., 0., 0., ..., 0., 0., 0.]),\n",
       " 2: array([0., 0., 0., ..., 0., 0., 0.]),\n",
       " 14: array([ 0.,  0.,  0., ..., 12., 12., 12.]),\n",
       " 33: array([0., 0., 0., ..., 4., 4., 4.]),\n",
       " 35: array([0., 0., 0., ..., 8., 8., 8.]),\n",
       " 37: array([0., 0., 0., ..., 0., 0., 0.]),\n",
       " 23: array([0., 0., 0., ..., 0., 0., 0.]),\n",
       " 13: array([0., 0., 0., ..., 0., 0., 0.]),\n",
       " 82: array([0., 0., 0., ..., 0., 0., 0.]),\n",
       " 30: array([0., 0., 0., ..., 0., 0., 0.]),\n",
       " 44: array([0., 0., 0., ..., 4., 4., 4.]),\n",
       " 39: array([0., 0., 0., ..., 0., 0., 0.]),\n",
       " 18: array([0., 0., 0., ..., 0., 0., 0.]),\n",
       " 56: array([0., 0., 0., ..., 4., 4., 4.]),\n",
       " 59: array([0., 0., 0., ..., 4., 4., 4.]),\n",
       " 87: array([0., 0., 0., ..., 0., 0., 0.]),\n",
       " 81: array([0., 0., 0., ..., 0., 0., 0.]),\n",
       " 53: array([0., 0., 0., ..., 0., 0., 0.]),\n",
       " 11: array([0., 0., 0., ..., 0., 0., 0.]),\n",
       " 19: array([0., 0., 0., ..., 4., 4., 4.]),\n",
       " 88: array([0., 0., 0., ..., 0., 0., 0.]),\n",
       " 26: array([0., 0., 0., ..., 4., 4., 4.]),\n",
       " 29: array([0., 0., 0., ..., 8., 8., 8.]),\n",
       " 40: array([0., 0., 0., ..., 0., 0., 0.]),\n",
       " 5: array([0., 0., 0., ..., 0., 0., 0.]),\n",
       " 42: array([0., 0., 0., ..., 0., 0., 0.]),\n",
       " 36: array([0., 0., 0., ..., 8., 8., 8.]),\n",
       " 12: array([0., 0., 0., ..., 0., 0., 0.]),\n",
       " 95: array([0., 0., 0., ..., 0., 0., 0.]),\n",
       " 31: array([0., 0., 0., ..., 4., 4., 4.]),\n",
       " 99: array([0., 0., 0., ..., 0., 0., 0.]),\n",
       " 32: array([0., 0., 0., ..., 0., 0., 0.]),\n",
       " 48: array([0., 0., 0., ..., 0., 0., 0.]),\n",
       " 20: array([0., 0., 0., ..., 0., 0., 0.]),\n",
       " 54: array([0., 0., 0., ..., 0., 0., 0.]),\n",
       " 45: array([0., 0., 0., ..., 0., 0., 0.]),\n",
       " 57: array([0., 0., 0., ..., 0., 0., 0.])}"
      ]
     },
     "execution_count": 36,
     "metadata": {},
     "output_type": "execute_result"
    }
   ],
   "source": [
    "firing_rates"
   ]
  },
  {
   "cell_type": "code",
   "execution_count": 37,
   "id": "123a5a18-aa6d-4a7a-88db-e7e2eecdf6b5",
   "metadata": {
    "tags": []
   },
   "outputs": [],
   "source": [
    "class EphysRecording:\n",
    "    \"\"\"\n",
    "    A class for an ephys recording after being spike sorted and manually\n",
    "    curated using phy. Ephys recording must have a phy folder.\n",
    "\n",
    "    Attributes:\n",
    "        path: str, relative path to the phy folder\n",
    "            formatted as: './folder/folder/phy'\n",
    "        subject: str, subject id who was being recorded\n",
    "        sampling_rate: int, sampling rate of the ephys device\n",
    "            in Hz, standard in the PC lab is 20,000Hz\n",
    "        timestamps_var: numpy array, all spike timestamps\n",
    "            of good and mua units (no noise unit-generated spikes)\n",
    "        unit_array: numpy array, unit ids associated with each\n",
    "            spike in the timestamps_var\n",
    "        labels_dict: dict, keys are unit ids (str) and\n",
    "            values are labels (str)\n",
    "        unit_timestamps: dict, keys are unit ids (int), and\n",
    "            values are numpy arrays of timestamps for all spikes\n",
    "            from \"good\" units only\n",
    "        spiketrain: np.array, spiketrain of number of spikes\n",
    "            in a specified timebin\n",
    "        unit_spiketrains: dict, spiketrains for each unit\n",
    "            keys: str, unit ids\n",
    "            values: np.array, number of spikes per specified timebin\n",
    "        unit_firing_rates: dict, firing rates per unit\n",
    "            keys: str, unit ids\n",
    "            values: np.arrays, firing rate of unit in a specified timebin\n",
    "                    calculated with a specified smoothing window\n",
    "\n",
    "    Methods: (all called in __init__)\n",
    "        get_unit_labels: creates labels_dict\n",
    "        get_spike_specs: creates timestamps_var and unit_array\n",
    "        get_unit_timestamps: creates unit_timestamps dictionary\n",
    "    \"\"\"\n",
    "\n",
    "    def __init__(self, path, sampling_rate=20000):\n",
    "        \"\"\"\n",
    "        constructs all necessary attributes for the EphysRecording object\n",
    "        including creating labels_dict, timestamps_var, and a unit_timstamps\n",
    "        dictionary\n",
    "\n",
    "        Arguments (2 total):\n",
    "            path: str, relative path to the phy folder\n",
    "                formatted as: './folder/folder/phy'\n",
    "            sampling_rate: int, default=20000; sampling rate of\n",
    "                the ephys device in Hz\n",
    "        Returns:\n",
    "            None\n",
    "        \"\"\"\n",
    "        self.path = path\n",
    "        self.sampling_rate = sampling_rate\n",
    "        self.zscored_events = {}\n",
    "        self.wilcox_dfs = {}\n",
    "        self.get_unit_labels()\n",
    "        self.get_spike_specs()\n",
    "        self.get_unit_timestamps()\n",
    "\n",
    "    def get_unit_labels(self):\n",
    "        \"\"\"\n",
    "        assigns self.labels_dicts as a dictionary\n",
    "        with unit id (str) as key and label as values (str)\n",
    "        labels: 'good', 'mua', 'noise'\n",
    "\n",
    "        Arguments:\n",
    "            None\n",
    "\n",
    "        Returns:\n",
    "            None\n",
    "        \"\"\"\n",
    "        labels = \"cluster_group.tsv\"\n",
    "        with open(os.path.join(self.path, labels), \"r\") as f:\n",
    "            reader = csv.DictReader(f, delimiter=\"\\t\")\n",
    "            self.labels_dict = {\n",
    "                row[\"cluster_id\"]: row[\"group\"] for row in reader\n",
    "            }\n",
    "\n",
    "    def get_spike_specs(self):\n",
    "        \"\"\"\n",
    "        imports spike_time and spike_unit from phy folder\n",
    "        deletes spikes from units labeled noise in unit and timestamp array\n",
    "        and assigns self.timstamps_var (numpy array)\n",
    "        as the remaining timestamps and assigns self.unit_array\n",
    "        (numpy array) as the unit ids associated with each spike\n",
    "\n",
    "        Args:\n",
    "            None\n",
    "\n",
    "        Returns:\n",
    "            None\n",
    "        \"\"\"\n",
    "        timestamps = \"spike_times.npy\"\n",
    "        unit = \"spike_clusters.npy\"\n",
    "        timestamps_var = np.load(os.path.join(self.path, timestamps))\n",
    "      \n",
    "        print(type(timestamps_var))\n",
    "        unit_array = np.load(os.path.join(self.path, unit))\n",
    "        print(type(unit_array))\n",
    "        spikes_to_delete = []\n",
    "        unsorted_clusters = {}\n",
    "        for spike in range(len(timestamps_var)):\n",
    "            try:\n",
    "                if self.labels_dict[unit_array[spike].astype(str)] == \"noise\":\n",
    "                    spikes_to_delete.append(spike)\n",
    "            except KeyError:\n",
    "                spikes_to_delete.append(spike)\n",
    "                if unit_array[spike] in unsorted_clusters.keys():\n",
    "                    total_spikes = unsorted_clusters[unit_array[spike]]\n",
    "                    total_spikes = total_spikes + 1\n",
    "                    unsorted_clusters[unit_array[spike]] = total_spikes\n",
    "                else:\n",
    "                    unsorted_clusters[unit_array[spike]] = 1\n",
    "        for unit, no_spike in unsorted_clusters.items():\n",
    "            print(\n",
    "                f\"Unit {unit} is unsorted & has {no_spike} spikes\"\n",
    "            )\n",
    "            print(\n",
    "                f\"Unit {unit} will be deleted\"\n",
    "            )\n",
    "        self.timestamps_var = np.delete(timestamps_var, spikes_to_delete)\n",
    "        self.unit_array = np.delete(unit_array, spikes_to_delete)\n",
    "\n",
    "    def get_unit_timestamps(self):\n",
    "        \"\"\"\n",
    "        creates a dictionary of units to spike timestamps\n",
    "        keys are unit ids (int) and values are spike timestamps for\n",
    "        that unit (numpy arrays)and assigns dictionary to self.unit_timestamps\n",
    "\n",
    "        Args:\n",
    "            None\n",
    "\n",
    "        Return:\n",
    "            None\n",
    "        \"\"\"\n",
    "\n",
    "        unit_timestamps = {}\n",
    "        for spike in range(len(self.timestamps_var)):\n",
    "            if self.unit_array[spike] in unit_timestamps.keys():\n",
    "                timestamp_list = unit_timestamps[self.unit_array[spike]]\n",
    "                timestamp_list = np.append(\n",
    "                    timestamp_list, self.timestamps_var[spike]\n",
    "                )\n",
    "                unit_timestamps[self.unit_array[spike]] = timestamp_list\n",
    "            else:\n",
    "                unit_timestamps[self.unit_array[spike]] = self.timestamps_var[\n",
    "                    spike\n",
    "                ]\n",
    "\n",
    "        self.unit_timestamps = unit_timestamps"
   ]
  },
  {
   "cell_type": "code",
   "execution_count": 42,
   "id": "a1473d72-13c1-4313-951b-b1003fed29e9",
   "metadata": {
    "tags": []
   },
   "outputs": [
    {
     "name": "stdout",
     "output_type": "stream",
     "text": [
      "<class 'numpy.ndarray'>\n",
      "<class 'numpy.ndarray'>\n"
     ]
    }
   ],
   "source": [
    "yourObject = EphysRecording('./')"
   ]
  },
  {
   "cell_type": "code",
   "execution_count": 43,
   "id": "5528dee7-a479-4a99-a6f8-b72b1c7a74e8",
   "metadata": {
    "tags": []
   },
   "outputs": [
    {
     "name": "stdout",
     "output_type": "stream",
     "text": [
      "{'1': 'noise', '2': 'good', '3': 'noise', '5': 'good', '9': 'unsorted', '11': 'noise', '12': 'noise', '13': 'good', '14': 'noise', '17': 'good', '18': 'good', '19': 'good', '20': 'noise', '22': 'mua', '23': 'good', '24': 'good', '26': 'good', '29': 'mua', '30': 'mua', '31': 'mua', '32': 'noise', '33': 'good', '34': 'mua', '35': 'mua', '36': 'good', '37': 'noise', '38': 'mua', '39': 'good', '40': 'noise', '41': 'noise', '42': 'noise', '44': 'mua', '45': 'noise', '46': 'noise', '47': 'noise', '48': 'noise', '53': 'mua', '54': 'noise', '55': 'good', '56': 'mua', '57': 'good', '58': 'mua', '59': 'good', '65': 'good', '66': 'noise', '67': 'noise', '68': 'good', '81': 'good', '82': 'mua', '85': 'good', '87': 'noise', '88': 'good', '94': 'good', '95': 'noise', '98': 'good', '99': 'noise'}\n"
     ]
    }
   ],
   "source": [
    "unit_labels = yourObject.labels_dict\n",
    "print(unit_labels)"
   ]
  },
  {
   "cell_type": "code",
   "execution_count": 44,
   "id": "d2712f09-f589-46fb-9436-e5ebadda30a8",
   "metadata": {
    "tags": []
   },
   "outputs": [],
   "source": [
    "spike_timestamps = yourObject.timestamps_var\n",
    "unit_ids = yourObject.unit_array\n"
   ]
  },
  {
   "cell_type": "code",
   "execution_count": 45,
   "id": "a44040a5-49d4-4e2b-a7a8-9c47a210137c",
   "metadata": {
    "tags": []
   },
   "outputs": [
    {
     "data": {
      "text/plain": [
       "array([     689,     1829,     2935, ..., 68292947, 68292976, 68293168])"
      ]
     },
     "execution_count": 45,
     "metadata": {},
     "output_type": "execute_result"
    }
   ],
   "source": [
    "spike_timestamps"
   ]
  },
  {
   "cell_type": "code",
   "execution_count": 46,
   "id": "aec85382-5142-4611-a5e0-4a94067e6059",
   "metadata": {
    "tags": []
   },
   "outputs": [
    {
     "data": {
      "text/plain": [
       "array([85, 55, 58, ..., 19, 35, 26], dtype=int32)"
      ]
     },
     "execution_count": 46,
     "metadata": {},
     "output_type": "execute_result"
    }
   ],
   "source": [
    "unit_ids"
   ]
  },
  {
   "cell_type": "code",
   "execution_count": 47,
   "id": "be6a5ae2-3784-467e-b3cb-ba2a13db3593",
   "metadata": {
    "tags": []
   },
   "outputs": [],
   "source": [
    "unit_specific_timestamps = yourObject.unit_timestamps"
   ]
  },
  {
   "cell_type": "code",
   "execution_count": 48,
   "id": "3c332727-3540-4ec2-ab03-15903f35129d",
   "metadata": {
    "tags": []
   },
   "outputs": [
    {
     "data": {
      "text/plain": [
       "{85: array([     689,     3542,     6757, ..., 67999904, 68154946, 68261070]),\n",
       " 55: array([    1829,     5260,     6148, ..., 68286888, 68289021, 68291330]),\n",
       " 58: array([    2935,     3071,    13522, ..., 68275795, 68286245, 68288966]),\n",
       " 17: array([    3496,     4288,     5675, ..., 68276326, 68276771, 68286188]),\n",
       " 24: array([    3820,     4215,    24136, ..., 68255449, 68255762, 68255898]),\n",
       " 68: array([    4036,    68706,    74700, ..., 68159155, 68177080, 68183699]),\n",
       " 65: array([    4328,     6304,    23963, ..., 68244852, 68245601, 68255391]),\n",
       " 22: array([    4451,    13081,    20294, ..., 68290504, 68291540, 68292754]),\n",
       " 9: array([    4767,    89292,   116038, ..., 68254564, 68284836, 68291234]),\n",
       " 34: array([    4988,     5489,     6344, ..., 68279667, 68283153, 68285848]),\n",
       " 98: array([    5337,    29951,    80915, ..., 68187930, 68196317, 68292174]),\n",
       " 94: array([    5368,    13507,    25909, ..., 68217509, 68279774, 68282156]),\n",
       " 38: array([    5418,     5648,    23411, ..., 68260160, 68268936, 68289436]),\n",
       " 2: array([    6952,     8664,     9476, ..., 68269197, 68273632, 68276342]),\n",
       " 33: array([    9874,    17122,    23756, ..., 68279842, 68285993, 68291301]),\n",
       " 35: array([   13536,    13822,    15043, ..., 68289842, 68292225, 68292976]),\n",
       " 23: array([   14709,    30697,    34785, ..., 68235106, 68254208, 68281973]),\n",
       " 13: array([   15913,    19643,    27535, ..., 68277753, 68286914, 68288471]),\n",
       " 82: array([   18026,    25272,    25402, ..., 68282329, 68286724, 68289349]),\n",
       " 30: array([   18231,    41799,    45522, ..., 68278987, 68284765, 68284993]),\n",
       " 44: array([   19288,    28146,    30413, ..., 68283276, 68284372, 68292571]),\n",
       " 39: array([   19469,    20201,    27508, ..., 67936976, 67969941, 68284484]),\n",
       " 18: array([   21258,    84648,   101717, ..., 66301197, 66814045, 67200220]),\n",
       " 56: array([   21690,    23837,    43282, ..., 68281938, 68284858, 68291139]),\n",
       " 59: array([   22215,    96747,   117654, ..., 68272840, 68284707, 68291919]),\n",
       " 81: array([   24603,    34405,   107232, ..., 68272649, 68280566, 68289620]),\n",
       " 53: array([   24740,    27984,    29411, ..., 68283551, 68286020, 68287414]),\n",
       " 19: array([   28043,    91124,    99440, ..., 68286226, 68289192, 68292947]),\n",
       " 88: array([   31739,   113162,   116896, ..., 68198784, 68251538, 68251574]),\n",
       " 26: array([   34491,    64656,    78039, ..., 68287337, 68288130, 68293168]),\n",
       " 29: array([   67899,   123060,   206673, ..., 68290021, 68291524, 68291560]),\n",
       " 5: array([   80902,   115782,   138129, ..., 68183333, 68185689, 68186607]),\n",
       " 36: array([   94493,   224852,   496289, ..., 68290654, 68291988, 68292654]),\n",
       " 31: array([  118241,   120700,   126804, ..., 68288024, 68288910, 68292403]),\n",
       " 57: array([  832016,  1487762,  1635353, ..., 68172954, 68173054, 68280186])}"
      ]
     },
     "execution_count": 48,
     "metadata": {},
     "output_type": "execute_result"
    }
   ],
   "source": [
    "unit_specific_timestamps"
   ]
  },
  {
   "cell_type": "code",
   "execution_count": 49,
   "id": "58c8b92b-d18e-47d2-80ae-2414cc76ab9d",
   "metadata": {
    "tags": []
   },
   "outputs": [
    {
     "data": {
      "text/plain": [
       "'./'"
      ]
     },
     "execution_count": 49,
     "metadata": {},
     "output_type": "execute_result"
    }
   ],
   "source": [
    "yourObject.path"
   ]
  },
  {
   "cell_type": "code",
   "execution_count": null,
   "id": "91695b0c-df00-496c-8e89-f62978c4de25",
   "metadata": {},
   "outputs": [],
   "source": []
  }
 ],
 "metadata": {
  "kernelspec": {
   "display_name": "UFRC Python-3.10",
   "language": "python",
   "name": "python3-3.10-ufrc"
  },
  "language_info": {
   "codemirror_mode": {
    "name": "ipython",
    "version": 3
   },
   "file_extension": ".py",
   "mimetype": "text/x-python",
   "name": "python",
   "nbconvert_exporter": "python",
   "pygments_lexer": "ipython3",
   "version": "3.10.8"
  }
 },
 "nbformat": 4,
 "nbformat_minor": 5
}
