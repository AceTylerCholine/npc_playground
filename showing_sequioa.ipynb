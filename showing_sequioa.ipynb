{
 "cells": [
  {
   "cell_type": "code",
   "execution_count": 1,
   "id": "11e0c283-823d-4163-850f-fb92c22c472f",
   "metadata": {
    "execution": {
     "iopub.execute_input": "2024-05-02T17:20:05.843737Z",
     "iopub.status.busy": "2024-05-02T17:20:05.843737Z",
     "iopub.status.idle": "2024-05-02T17:20:10.021026Z",
     "shell.execute_reply": "2024-05-02T17:20:10.021026Z",
     "shell.execute_reply.started": "2024-05-02T17:20:05.843737Z"
    }
   },
   "outputs": [],
   "source": [
    "import pandas as pd\n",
    "import numpy as np\n",
    "import ast\n",
    "import pickle\n",
    "from pathlib import Path\n",
    "import multirecording_spikeanalysis as spike"
   ]
  },
  {
   "cell_type": "code",
   "execution_count": 2,
   "id": "bacb9366-6330-4ca3-8688-956bb6bf9668",
   "metadata": {
    "execution": {
     "iopub.execute_input": "2024-05-02T17:20:16.942198Z",
     "iopub.status.busy": "2024-05-02T17:20:16.942198Z",
     "iopub.status.idle": "2024-05-02T17:20:18.188225Z",
     "shell.execute_reply": "2024-05-02T17:20:18.188225Z",
     "shell.execute_reply.started": "2024-05-02T17:20:16.942198Z"
    }
   },
   "outputs": [],
   "source": [
    "cols = ['condition ', 'session_dir', 'all_subjects', 'tone_start_timestamp', 'tone_stop_timestamp']\n",
    "\n",
    "# Load the data\n",
    "df = pd.read_excel('rce_pilot_2_per_video_trial_labels.xlsx', usecols=cols, engine='openpyxl')"
   ]
  },
  {
   "cell_type": "code",
   "execution_count": 3,
   "id": "198417dd-b5ae-45de-88a1-c529be4ddba2",
   "metadata": {
    "execution": {
     "iopub.execute_input": "2024-05-02T17:22:59.046859Z",
     "iopub.status.busy": "2024-05-02T17:22:59.046859Z",
     "iopub.status.idle": "2024-05-02T17:22:59.097474Z",
     "shell.execute_reply": "2024-05-02T17:22:59.097474Z",
     "shell.execute_reply.started": "2024-05-02T17:22:59.046859Z"
    }
   },
   "outputs": [
    {
     "data": {
      "text/html": [
       "<div>\n",
       "<style scoped>\n",
       "    .dataframe tbody tr th:only-of-type {\n",
       "        vertical-align: middle;\n",
       "    }\n",
       "\n",
       "    .dataframe tbody tr th {\n",
       "        vertical-align: top;\n",
       "    }\n",
       "\n",
       "    .dataframe thead th {\n",
       "        text-align: right;\n",
       "    }\n",
       "</style>\n",
       "<table border=\"1\" class=\"dataframe\">\n",
       "  <thead>\n",
       "    <tr style=\"text-align: right;\">\n",
       "      <th></th>\n",
       "      <th>condition</th>\n",
       "      <th>session_dir</th>\n",
       "      <th>all_subjects</th>\n",
       "      <th>tone_start_timestamp</th>\n",
       "      <th>tone_stop_timestamp</th>\n",
       "    </tr>\n",
       "  </thead>\n",
       "  <tbody>\n",
       "    <tr>\n",
       "      <th>0</th>\n",
       "      <td>NaN</td>\n",
       "      <td>NaN</td>\n",
       "      <td>NaN</td>\n",
       "      <td>NaN</td>\n",
       "      <td>NaN</td>\n",
       "    </tr>\n",
       "    <tr>\n",
       "      <th>1</th>\n",
       "      <td>1.4</td>\n",
       "      <td>20230612_101430_standard_comp_to_training_D1_s...</td>\n",
       "      <td>['1.3', '1.4']</td>\n",
       "      <td>982229.0</td>\n",
       "      <td>1182226.0</td>\n",
       "    </tr>\n",
       "    <tr>\n",
       "      <th>2</th>\n",
       "      <td>1.3</td>\n",
       "      <td>20230612_101430_standard_comp_to_training_D1_s...</td>\n",
       "      <td>['1.3', '1.4']</td>\n",
       "      <td>3382227.0</td>\n",
       "      <td>3582224.0</td>\n",
       "    </tr>\n",
       "    <tr>\n",
       "      <th>3</th>\n",
       "      <td>1.4</td>\n",
       "      <td>20230612_101430_standard_comp_to_training_D1_s...</td>\n",
       "      <td>['1.3', '1.4']</td>\n",
       "      <td>5682225.0</td>\n",
       "      <td>5882222.0</td>\n",
       "    </tr>\n",
       "    <tr>\n",
       "      <th>4</th>\n",
       "      <td>1.4</td>\n",
       "      <td>20230612_101430_standard_comp_to_training_D1_s...</td>\n",
       "      <td>['1.3', '1.4']</td>\n",
       "      <td>7482224.0</td>\n",
       "      <td>7682221.0</td>\n",
       "    </tr>\n",
       "    <tr>\n",
       "      <th>...</th>\n",
       "      <td>...</td>\n",
       "      <td>...</td>\n",
       "      <td>...</td>\n",
       "      <td>...</td>\n",
       "      <td>...</td>\n",
       "    </tr>\n",
       "    <tr>\n",
       "      <th>1219</th>\n",
       "      <td>2.2</td>\n",
       "      <td>20230630_115506_standard_comp_to_novel_agent_D...</td>\n",
       "      <td>['1.2', '1.4', '2.1', '2.2']</td>\n",
       "      <td>60673457.0</td>\n",
       "      <td>60873459.0</td>\n",
       "    </tr>\n",
       "    <tr>\n",
       "      <th>1220</th>\n",
       "      <td>2.2</td>\n",
       "      <td>20230630_115506_standard_comp_to_novel_agent_D...</td>\n",
       "      <td>['1.2', '1.4', '2.1', '2.2']</td>\n",
       "      <td>62173475.0</td>\n",
       "      <td>62373477.0</td>\n",
       "    </tr>\n",
       "    <tr>\n",
       "      <th>1221</th>\n",
       "      <td>2.2</td>\n",
       "      <td>20230630_115506_standard_comp_to_novel_agent_D...</td>\n",
       "      <td>['1.2', '1.4', '2.1', '2.2']</td>\n",
       "      <td>64173502.0</td>\n",
       "      <td>64373501.0</td>\n",
       "    </tr>\n",
       "    <tr>\n",
       "      <th>1222</th>\n",
       "      <td>2.2</td>\n",
       "      <td>20230630_115506_standard_comp_to_novel_agent_D...</td>\n",
       "      <td>['1.2', '1.4', '2.1', '2.2']</td>\n",
       "      <td>66073522.0</td>\n",
       "      <td>66273524.0</td>\n",
       "    </tr>\n",
       "    <tr>\n",
       "      <th>1223</th>\n",
       "      <td>2.2</td>\n",
       "      <td>20230630_115506_standard_comp_to_novel_agent_D...</td>\n",
       "      <td>['1.2', '1.4', '2.1', '2.2']</td>\n",
       "      <td>67073535.0</td>\n",
       "      <td>67273537.0</td>\n",
       "    </tr>\n",
       "  </tbody>\n",
       "</table>\n",
       "<p>1224 rows × 5 columns</p>\n",
       "</div>"
      ],
      "text/plain": [
       "     condition                                         session_dir  \\\n",
       "0           NaN                                                NaN   \n",
       "1           1.4  20230612_101430_standard_comp_to_training_D1_s...   \n",
       "2           1.3  20230612_101430_standard_comp_to_training_D1_s...   \n",
       "3           1.4  20230612_101430_standard_comp_to_training_D1_s...   \n",
       "4           1.4  20230612_101430_standard_comp_to_training_D1_s...   \n",
       "...         ...                                                ...   \n",
       "1219        2.2  20230630_115506_standard_comp_to_novel_agent_D...   \n",
       "1220        2.2  20230630_115506_standard_comp_to_novel_agent_D...   \n",
       "1221        2.2  20230630_115506_standard_comp_to_novel_agent_D...   \n",
       "1222        2.2  20230630_115506_standard_comp_to_novel_agent_D...   \n",
       "1223        2.2  20230630_115506_standard_comp_to_novel_agent_D...   \n",
       "\n",
       "                      all_subjects  tone_start_timestamp  tone_stop_timestamp  \n",
       "0                              NaN                   NaN                  NaN  \n",
       "1                   ['1.3', '1.4']              982229.0            1182226.0  \n",
       "2                   ['1.3', '1.4']             3382227.0            3582224.0  \n",
       "3                   ['1.3', '1.4']             5682225.0            5882222.0  \n",
       "4                   ['1.3', '1.4']             7482224.0            7682221.0  \n",
       "...                            ...                   ...                  ...  \n",
       "1219  ['1.2', '1.4', '2.1', '2.2']            60673457.0           60873459.0  \n",
       "1220  ['1.2', '1.4', '2.1', '2.2']            62173475.0           62373477.0  \n",
       "1221  ['1.2', '1.4', '2.1', '2.2']            64173502.0           64373501.0  \n",
       "1222  ['1.2', '1.4', '2.1', '2.2']            66073522.0           66273524.0  \n",
       "1223  ['1.2', '1.4', '2.1', '2.2']            67073535.0           67273537.0  \n",
       "\n",
       "[1224 rows x 5 columns]"
      ]
     },
     "execution_count": 3,
     "metadata": {},
     "output_type": "execute_result"
    }
   ],
   "source": [
    "df"
   ]
  },
  {
   "cell_type": "code",
   "execution_count": 4,
   "id": "b8e48b10-bfa6-48c3-afdd-8eddfbec952d",
   "metadata": {
    "execution": {
     "iopub.execute_input": "2024-05-02T17:23:54.475925Z",
     "iopub.status.busy": "2024-05-02T17:23:54.475925Z",
     "iopub.status.idle": "2024-05-02T17:23:54.496196Z",
     "shell.execute_reply": "2024-05-02T17:23:54.496196Z",
     "shell.execute_reply.started": "2024-05-02T17:23:54.475925Z"
    }
   },
   "outputs": [],
   "source": [
    "df2 = df.dropna() # Drop the rows missing data"
   ]
  },
  {
   "cell_type": "code",
   "execution_count": 6,
   "id": "caae35c8-11d2-4280-859a-d695a6915f54",
   "metadata": {
    "execution": {
     "iopub.execute_input": "2024-05-02T17:24:01.709065Z",
     "iopub.status.busy": "2024-05-02T17:24:01.709065Z",
     "iopub.status.idle": "2024-05-02T17:24:01.738050Z",
     "shell.execute_reply": "2024-05-02T17:24:01.738050Z",
     "shell.execute_reply.started": "2024-05-02T17:24:01.709065Z"
    }
   },
   "outputs": [
    {
     "data": {
      "text/html": [
       "<div>\n",
       "<style scoped>\n",
       "    .dataframe tbody tr th:only-of-type {\n",
       "        vertical-align: middle;\n",
       "    }\n",
       "\n",
       "    .dataframe tbody tr th {\n",
       "        vertical-align: top;\n",
       "    }\n",
       "\n",
       "    .dataframe thead th {\n",
       "        text-align: right;\n",
       "    }\n",
       "</style>\n",
       "<table border=\"1\" class=\"dataframe\">\n",
       "  <thead>\n",
       "    <tr style=\"text-align: right;\">\n",
       "      <th></th>\n",
       "      <th>condition</th>\n",
       "      <th>session_dir</th>\n",
       "      <th>all_subjects</th>\n",
       "      <th>tone_start_timestamp</th>\n",
       "      <th>tone_stop_timestamp</th>\n",
       "    </tr>\n",
       "  </thead>\n",
       "  <tbody>\n",
       "    <tr>\n",
       "      <th>1</th>\n",
       "      <td>1.4</td>\n",
       "      <td>20230612_101430_standard_comp_to_training_D1_s...</td>\n",
       "      <td>['1.3', '1.4']</td>\n",
       "      <td>982229.0</td>\n",
       "      <td>1182226.0</td>\n",
       "    </tr>\n",
       "    <tr>\n",
       "      <th>2</th>\n",
       "      <td>1.3</td>\n",
       "      <td>20230612_101430_standard_comp_to_training_D1_s...</td>\n",
       "      <td>['1.3', '1.4']</td>\n",
       "      <td>3382227.0</td>\n",
       "      <td>3582224.0</td>\n",
       "    </tr>\n",
       "    <tr>\n",
       "      <th>3</th>\n",
       "      <td>1.4</td>\n",
       "      <td>20230612_101430_standard_comp_to_training_D1_s...</td>\n",
       "      <td>['1.3', '1.4']</td>\n",
       "      <td>5682225.0</td>\n",
       "      <td>5882222.0</td>\n",
       "    </tr>\n",
       "    <tr>\n",
       "      <th>4</th>\n",
       "      <td>1.4</td>\n",
       "      <td>20230612_101430_standard_comp_to_training_D1_s...</td>\n",
       "      <td>['1.3', '1.4']</td>\n",
       "      <td>7482224.0</td>\n",
       "      <td>7682221.0</td>\n",
       "    </tr>\n",
       "    <tr>\n",
       "      <th>5</th>\n",
       "      <td>1.4</td>\n",
       "      <td>20230612_101430_standard_comp_to_training_D1_s...</td>\n",
       "      <td>['1.3', '1.4']</td>\n",
       "      <td>8582220.0</td>\n",
       "      <td>8782223.0</td>\n",
       "    </tr>\n",
       "    <tr>\n",
       "      <th>...</th>\n",
       "      <td>...</td>\n",
       "      <td>...</td>\n",
       "      <td>...</td>\n",
       "      <td>...</td>\n",
       "      <td>...</td>\n",
       "    </tr>\n",
       "    <tr>\n",
       "      <th>1219</th>\n",
       "      <td>2.2</td>\n",
       "      <td>20230630_115506_standard_comp_to_novel_agent_D...</td>\n",
       "      <td>['1.2', '1.4', '2.1', '2.2']</td>\n",
       "      <td>60673457.0</td>\n",
       "      <td>60873459.0</td>\n",
       "    </tr>\n",
       "    <tr>\n",
       "      <th>1220</th>\n",
       "      <td>2.2</td>\n",
       "      <td>20230630_115506_standard_comp_to_novel_agent_D...</td>\n",
       "      <td>['1.2', '1.4', '2.1', '2.2']</td>\n",
       "      <td>62173475.0</td>\n",
       "      <td>62373477.0</td>\n",
       "    </tr>\n",
       "    <tr>\n",
       "      <th>1221</th>\n",
       "      <td>2.2</td>\n",
       "      <td>20230630_115506_standard_comp_to_novel_agent_D...</td>\n",
       "      <td>['1.2', '1.4', '2.1', '2.2']</td>\n",
       "      <td>64173502.0</td>\n",
       "      <td>64373501.0</td>\n",
       "    </tr>\n",
       "    <tr>\n",
       "      <th>1222</th>\n",
       "      <td>2.2</td>\n",
       "      <td>20230630_115506_standard_comp_to_novel_agent_D...</td>\n",
       "      <td>['1.2', '1.4', '2.1', '2.2']</td>\n",
       "      <td>66073522.0</td>\n",
       "      <td>66273524.0</td>\n",
       "    </tr>\n",
       "    <tr>\n",
       "      <th>1223</th>\n",
       "      <td>2.2</td>\n",
       "      <td>20230630_115506_standard_comp_to_novel_agent_D...</td>\n",
       "      <td>['1.2', '1.4', '2.1', '2.2']</td>\n",
       "      <td>67073535.0</td>\n",
       "      <td>67273537.0</td>\n",
       "    </tr>\n",
       "  </tbody>\n",
       "</table>\n",
       "<p>873 rows × 5 columns</p>\n",
       "</div>"
      ],
      "text/plain": [
       "     condition                                         session_dir  \\\n",
       "1           1.4  20230612_101430_standard_comp_to_training_D1_s...   \n",
       "2           1.3  20230612_101430_standard_comp_to_training_D1_s...   \n",
       "3           1.4  20230612_101430_standard_comp_to_training_D1_s...   \n",
       "4           1.4  20230612_101430_standard_comp_to_training_D1_s...   \n",
       "5           1.4  20230612_101430_standard_comp_to_training_D1_s...   \n",
       "...         ...                                                ...   \n",
       "1219        2.2  20230630_115506_standard_comp_to_novel_agent_D...   \n",
       "1220        2.2  20230630_115506_standard_comp_to_novel_agent_D...   \n",
       "1221        2.2  20230630_115506_standard_comp_to_novel_agent_D...   \n",
       "1222        2.2  20230630_115506_standard_comp_to_novel_agent_D...   \n",
       "1223        2.2  20230630_115506_standard_comp_to_novel_agent_D...   \n",
       "\n",
       "                      all_subjects  tone_start_timestamp  tone_stop_timestamp  \n",
       "1                   ['1.3', '1.4']              982229.0            1182226.0  \n",
       "2                   ['1.3', '1.4']             3382227.0            3582224.0  \n",
       "3                   ['1.3', '1.4']             5682225.0            5882222.0  \n",
       "4                   ['1.3', '1.4']             7482224.0            7682221.0  \n",
       "5                   ['1.3', '1.4']             8582220.0            8782223.0  \n",
       "...                            ...                   ...                  ...  \n",
       "1219  ['1.2', '1.4', '2.1', '2.2']            60673457.0           60873459.0  \n",
       "1220  ['1.2', '1.4', '2.1', '2.2']            62173475.0           62373477.0  \n",
       "1221  ['1.2', '1.4', '2.1', '2.2']            64173502.0           64373501.0  \n",
       "1222  ['1.2', '1.4', '2.1', '2.2']            66073522.0           66273524.0  \n",
       "1223  ['1.2', '1.4', '2.1', '2.2']            67073535.0           67273537.0  \n",
       "\n",
       "[873 rows x 5 columns]"
      ]
     },
     "execution_count": 6,
     "metadata": {},
     "output_type": "execute_result"
    }
   ],
   "source": [
    "df2"
   ]
  },
  {
   "cell_type": "code",
   "execution_count": 7,
   "id": "b58877e3-0585-450b-97bd-35d09227d252",
   "metadata": {
    "execution": {
     "iopub.execute_input": "2024-05-02T17:27:06.006574Z",
     "iopub.status.busy": "2024-05-02T17:27:06.006574Z",
     "iopub.status.idle": "2024-05-02T17:27:06.038169Z",
     "shell.execute_reply": "2024-05-02T17:27:06.038169Z",
     "shell.execute_reply.started": "2024-05-02T17:27:06.006574Z"
    }
   },
   "outputs": [],
   "source": [
    "df3 = df2.copy()\n",
    "df3['all_subjects'] = df3['all_subjects'].apply(lambda x: ast.literal_eval(x) if isinstance(x, str) else x) # Make the 'all_subjects' column readable as a list"
   ]
  },
  {
   "cell_type": "code",
   "execution_count": 8,
   "id": "11d1c817-152e-4b20-940f-2bf7eba1a55f",
   "metadata": {
    "execution": {
     "iopub.execute_input": "2024-05-02T17:27:23.515301Z",
     "iopub.status.busy": "2024-05-02T17:27:23.515301Z",
     "iopub.status.idle": "2024-05-02T17:27:23.552911Z",
     "shell.execute_reply": "2024-05-02T17:27:23.552911Z",
     "shell.execute_reply.started": "2024-05-02T17:27:23.515301Z"
    }
   },
   "outputs": [
    {
     "data": {
      "text/html": [
       "<div>\n",
       "<style scoped>\n",
       "    .dataframe tbody tr th:only-of-type {\n",
       "        vertical-align: middle;\n",
       "    }\n",
       "\n",
       "    .dataframe tbody tr th {\n",
       "        vertical-align: top;\n",
       "    }\n",
       "\n",
       "    .dataframe thead th {\n",
       "        text-align: right;\n",
       "    }\n",
       "</style>\n",
       "<table border=\"1\" class=\"dataframe\">\n",
       "  <thead>\n",
       "    <tr style=\"text-align: right;\">\n",
       "      <th></th>\n",
       "      <th>condition</th>\n",
       "      <th>session_dir</th>\n",
       "      <th>all_subjects</th>\n",
       "      <th>tone_start_timestamp</th>\n",
       "      <th>tone_stop_timestamp</th>\n",
       "    </tr>\n",
       "  </thead>\n",
       "  <tbody>\n",
       "    <tr>\n",
       "      <th>1</th>\n",
       "      <td>1.4</td>\n",
       "      <td>20230612_101430_standard_comp_to_training_D1_s...</td>\n",
       "      <td>[1.3, 1.4]</td>\n",
       "      <td>982229.0</td>\n",
       "      <td>1182226.0</td>\n",
       "    </tr>\n",
       "    <tr>\n",
       "      <th>2</th>\n",
       "      <td>1.3</td>\n",
       "      <td>20230612_101430_standard_comp_to_training_D1_s...</td>\n",
       "      <td>[1.3, 1.4]</td>\n",
       "      <td>3382227.0</td>\n",
       "      <td>3582224.0</td>\n",
       "    </tr>\n",
       "    <tr>\n",
       "      <th>3</th>\n",
       "      <td>1.4</td>\n",
       "      <td>20230612_101430_standard_comp_to_training_D1_s...</td>\n",
       "      <td>[1.3, 1.4]</td>\n",
       "      <td>5682225.0</td>\n",
       "      <td>5882222.0</td>\n",
       "    </tr>\n",
       "    <tr>\n",
       "      <th>4</th>\n",
       "      <td>1.4</td>\n",
       "      <td>20230612_101430_standard_comp_to_training_D1_s...</td>\n",
       "      <td>[1.3, 1.4]</td>\n",
       "      <td>7482224.0</td>\n",
       "      <td>7682221.0</td>\n",
       "    </tr>\n",
       "    <tr>\n",
       "      <th>5</th>\n",
       "      <td>1.4</td>\n",
       "      <td>20230612_101430_standard_comp_to_training_D1_s...</td>\n",
       "      <td>[1.3, 1.4]</td>\n",
       "      <td>8582220.0</td>\n",
       "      <td>8782223.0</td>\n",
       "    </tr>\n",
       "    <tr>\n",
       "      <th>...</th>\n",
       "      <td>...</td>\n",
       "      <td>...</td>\n",
       "      <td>...</td>\n",
       "      <td>...</td>\n",
       "      <td>...</td>\n",
       "    </tr>\n",
       "    <tr>\n",
       "      <th>1219</th>\n",
       "      <td>2.2</td>\n",
       "      <td>20230630_115506_standard_comp_to_novel_agent_D...</td>\n",
       "      <td>[1.2, 1.4, 2.1, 2.2]</td>\n",
       "      <td>60673457.0</td>\n",
       "      <td>60873459.0</td>\n",
       "    </tr>\n",
       "    <tr>\n",
       "      <th>1220</th>\n",
       "      <td>2.2</td>\n",
       "      <td>20230630_115506_standard_comp_to_novel_agent_D...</td>\n",
       "      <td>[1.2, 1.4, 2.1, 2.2]</td>\n",
       "      <td>62173475.0</td>\n",
       "      <td>62373477.0</td>\n",
       "    </tr>\n",
       "    <tr>\n",
       "      <th>1221</th>\n",
       "      <td>2.2</td>\n",
       "      <td>20230630_115506_standard_comp_to_novel_agent_D...</td>\n",
       "      <td>[1.2, 1.4, 2.1, 2.2]</td>\n",
       "      <td>64173502.0</td>\n",
       "      <td>64373501.0</td>\n",
       "    </tr>\n",
       "    <tr>\n",
       "      <th>1222</th>\n",
       "      <td>2.2</td>\n",
       "      <td>20230630_115506_standard_comp_to_novel_agent_D...</td>\n",
       "      <td>[1.2, 1.4, 2.1, 2.2]</td>\n",
       "      <td>66073522.0</td>\n",
       "      <td>66273524.0</td>\n",
       "    </tr>\n",
       "    <tr>\n",
       "      <th>1223</th>\n",
       "      <td>2.2</td>\n",
       "      <td>20230630_115506_standard_comp_to_novel_agent_D...</td>\n",
       "      <td>[1.2, 1.4, 2.1, 2.2]</td>\n",
       "      <td>67073535.0</td>\n",
       "      <td>67273537.0</td>\n",
       "    </tr>\n",
       "  </tbody>\n",
       "</table>\n",
       "<p>873 rows × 5 columns</p>\n",
       "</div>"
      ],
      "text/plain": [
       "     condition                                         session_dir  \\\n",
       "1           1.4  20230612_101430_standard_comp_to_training_D1_s...   \n",
       "2           1.3  20230612_101430_standard_comp_to_training_D1_s...   \n",
       "3           1.4  20230612_101430_standard_comp_to_training_D1_s...   \n",
       "4           1.4  20230612_101430_standard_comp_to_training_D1_s...   \n",
       "5           1.4  20230612_101430_standard_comp_to_training_D1_s...   \n",
       "...         ...                                                ...   \n",
       "1219        2.2  20230630_115506_standard_comp_to_novel_agent_D...   \n",
       "1220        2.2  20230630_115506_standard_comp_to_novel_agent_D...   \n",
       "1221        2.2  20230630_115506_standard_comp_to_novel_agent_D...   \n",
       "1222        2.2  20230630_115506_standard_comp_to_novel_agent_D...   \n",
       "1223        2.2  20230630_115506_standard_comp_to_novel_agent_D...   \n",
       "\n",
       "              all_subjects  tone_start_timestamp  tone_stop_timestamp  \n",
       "1               [1.3, 1.4]              982229.0            1182226.0  \n",
       "2               [1.3, 1.4]             3382227.0            3582224.0  \n",
       "3               [1.3, 1.4]             5682225.0            5882222.0  \n",
       "4               [1.3, 1.4]             7482224.0            7682221.0  \n",
       "5               [1.3, 1.4]             8582220.0            8782223.0  \n",
       "...                    ...                   ...                  ...  \n",
       "1219  [1.2, 1.4, 2.1, 2.2]            60673457.0           60873459.0  \n",
       "1220  [1.2, 1.4, 2.1, 2.2]            62173475.0           62373477.0  \n",
       "1221  [1.2, 1.4, 2.1, 2.2]            64173502.0           64373501.0  \n",
       "1222  [1.2, 1.4, 2.1, 2.2]            66073522.0           66273524.0  \n",
       "1223  [1.2, 1.4, 2.1, 2.2]            67073535.0           67273537.0  \n",
       "\n",
       "[873 rows x 5 columns]"
      ]
     },
     "execution_count": 8,
     "metadata": {},
     "output_type": "execute_result"
    }
   ],
   "source": [
    "df3"
   ]
  },
  {
   "cell_type": "code",
   "execution_count": 9,
   "id": "289a3e7e-ac51-4ac4-875c-0a0dc160aa77",
   "metadata": {
    "execution": {
     "iopub.execute_input": "2024-05-02T17:30:28.213058Z",
     "iopub.status.busy": "2024-05-02T17:30:28.213058Z",
     "iopub.status.idle": "2024-05-02T17:30:28.237979Z",
     "shell.execute_reply": "2024-05-02T17:30:28.237979Z",
     "shell.execute_reply.started": "2024-05-02T17:30:28.213058Z"
    }
   },
   "outputs": [],
   "source": [
    "test1 = df2.loc[1, 'all_subjects']"
   ]
  },
  {
   "cell_type": "code",
   "execution_count": 10,
   "id": "c5eca5f2-05eb-426e-852d-a5751b9e8f89",
   "metadata": {
    "execution": {
     "iopub.execute_input": "2024-05-02T17:30:30.175387Z",
     "iopub.status.busy": "2024-05-02T17:30:30.175387Z",
     "iopub.status.idle": "2024-05-02T17:30:30.199042Z",
     "shell.execute_reply": "2024-05-02T17:30:30.199042Z",
     "shell.execute_reply.started": "2024-05-02T17:30:30.175387Z"
    }
   },
   "outputs": [
    {
     "data": {
      "text/plain": [
       "\"['1.3', '1.4']\""
      ]
     },
     "execution_count": 10,
     "metadata": {},
     "output_type": "execute_result"
    }
   ],
   "source": [
    "test1"
   ]
  },
  {
   "cell_type": "code",
   "execution_count": 11,
   "id": "c81f9b33-adb0-46ed-b768-6048e9e2aa80",
   "metadata": {
    "execution": {
     "iopub.execute_input": "2024-05-02T17:30:37.169604Z",
     "iopub.status.busy": "2024-05-02T17:30:37.169604Z",
     "iopub.status.idle": "2024-05-02T17:30:37.179876Z",
     "shell.execute_reply": "2024-05-02T17:30:37.179876Z",
     "shell.execute_reply.started": "2024-05-02T17:30:37.169604Z"
    }
   },
   "outputs": [
    {
     "data": {
      "text/plain": [
       "str"
      ]
     },
     "execution_count": 11,
     "metadata": {},
     "output_type": "execute_result"
    }
   ],
   "source": [
    "type(test1)"
   ]
  },
  {
   "cell_type": "code",
   "execution_count": 12,
   "id": "9403af70-52b4-4426-b7fa-63c517363e46",
   "metadata": {
    "execution": {
     "iopub.execute_input": "2024-05-02T17:30:49.510034Z",
     "iopub.status.busy": "2024-05-02T17:30:49.510034Z",
     "iopub.status.idle": "2024-05-02T17:30:49.516451Z",
     "shell.execute_reply": "2024-05-02T17:30:49.516451Z",
     "shell.execute_reply.started": "2024-05-02T17:30:49.510034Z"
    }
   },
   "outputs": [],
   "source": [
    "test2 = df3.loc[1, 'all_subjects']"
   ]
  },
  {
   "cell_type": "code",
   "execution_count": 13,
   "id": "d6ae78ed-ab2f-4ff3-86ea-4c6cd83e7595",
   "metadata": {
    "execution": {
     "iopub.execute_input": "2024-05-02T17:30:52.152586Z",
     "iopub.status.busy": "2024-05-02T17:30:52.152586Z",
     "iopub.status.idle": "2024-05-02T17:30:52.168500Z",
     "shell.execute_reply": "2024-05-02T17:30:52.166479Z",
     "shell.execute_reply.started": "2024-05-02T17:30:52.152586Z"
    }
   },
   "outputs": [
    {
     "data": {
      "text/plain": [
       "['1.3', '1.4']"
      ]
     },
     "execution_count": 13,
     "metadata": {},
     "output_type": "execute_result"
    }
   ],
   "source": [
    "test2"
   ]
  },
  {
   "cell_type": "code",
   "execution_count": 14,
   "id": "0fa35521-6efa-4980-abb0-60715ddd30a1",
   "metadata": {
    "execution": {
     "iopub.execute_input": "2024-05-02T17:30:57.924419Z",
     "iopub.status.busy": "2024-05-02T17:30:57.924419Z",
     "iopub.status.idle": "2024-05-02T17:30:57.934832Z",
     "shell.execute_reply": "2024-05-02T17:30:57.934832Z",
     "shell.execute_reply.started": "2024-05-02T17:30:57.924419Z"
    }
   },
   "outputs": [
    {
     "data": {
      "text/plain": [
       "list"
      ]
     },
     "execution_count": 14,
     "metadata": {},
     "output_type": "execute_result"
    }
   ],
   "source": [
    "type(test2)"
   ]
  },
  {
   "cell_type": "code",
   "execution_count": 15,
   "id": "ea7fe33b-eb7b-452b-b0fb-4c3630ae23df",
   "metadata": {
    "execution": {
     "iopub.execute_input": "2024-05-02T17:31:58.209910Z",
     "iopub.status.busy": "2024-05-02T17:31:58.209910Z",
     "iopub.status.idle": "2024-05-02T17:31:58.231902Z",
     "shell.execute_reply": "2024-05-02T17:31:58.231902Z",
     "shell.execute_reply.started": "2024-05-02T17:31:58.209910Z"
    }
   },
   "outputs": [],
   "source": [
    "df4 = df3[df3['all_subjects'].apply(lambda x: len(x) < 3)] # Ignore novel sessions for now"
   ]
  },
  {
   "cell_type": "code",
   "execution_count": 16,
   "id": "b12f770d-1473-49bd-9824-3670e59af330",
   "metadata": {
    "execution": {
     "iopub.execute_input": "2024-05-02T17:32:38.789978Z",
     "iopub.status.busy": "2024-05-02T17:32:38.789978Z",
     "iopub.status.idle": "2024-05-02T17:32:38.827080Z",
     "shell.execute_reply": "2024-05-02T17:32:38.827080Z",
     "shell.execute_reply.started": "2024-05-02T17:32:38.789978Z"
    }
   },
   "outputs": [
    {
     "data": {
      "text/html": [
       "<div>\n",
       "<style scoped>\n",
       "    .dataframe tbody tr th:only-of-type {\n",
       "        vertical-align: middle;\n",
       "    }\n",
       "\n",
       "    .dataframe tbody tr th {\n",
       "        vertical-align: top;\n",
       "    }\n",
       "\n",
       "    .dataframe thead th {\n",
       "        text-align: right;\n",
       "    }\n",
       "</style>\n",
       "<table border=\"1\" class=\"dataframe\">\n",
       "  <thead>\n",
       "    <tr style=\"text-align: right;\">\n",
       "      <th></th>\n",
       "      <th>condition</th>\n",
       "      <th>session_dir</th>\n",
       "      <th>all_subjects</th>\n",
       "      <th>tone_start_timestamp</th>\n",
       "      <th>tone_stop_timestamp</th>\n",
       "    </tr>\n",
       "  </thead>\n",
       "  <tbody>\n",
       "    <tr>\n",
       "      <th>1</th>\n",
       "      <td>1.4</td>\n",
       "      <td>20230612_101430_standard_comp_to_training_D1_s...</td>\n",
       "      <td>[1.3, 1.4]</td>\n",
       "      <td>982229.0</td>\n",
       "      <td>1182226.0</td>\n",
       "    </tr>\n",
       "    <tr>\n",
       "      <th>2</th>\n",
       "      <td>1.3</td>\n",
       "      <td>20230612_101430_standard_comp_to_training_D1_s...</td>\n",
       "      <td>[1.3, 1.4]</td>\n",
       "      <td>3382227.0</td>\n",
       "      <td>3582224.0</td>\n",
       "    </tr>\n",
       "    <tr>\n",
       "      <th>3</th>\n",
       "      <td>1.4</td>\n",
       "      <td>20230612_101430_standard_comp_to_training_D1_s...</td>\n",
       "      <td>[1.3, 1.4]</td>\n",
       "      <td>5682225.0</td>\n",
       "      <td>5882222.0</td>\n",
       "    </tr>\n",
       "    <tr>\n",
       "      <th>4</th>\n",
       "      <td>1.4</td>\n",
       "      <td>20230612_101430_standard_comp_to_training_D1_s...</td>\n",
       "      <td>[1.3, 1.4]</td>\n",
       "      <td>7482224.0</td>\n",
       "      <td>7682221.0</td>\n",
       "    </tr>\n",
       "    <tr>\n",
       "      <th>5</th>\n",
       "      <td>1.4</td>\n",
       "      <td>20230612_101430_standard_comp_to_training_D1_s...</td>\n",
       "      <td>[1.3, 1.4]</td>\n",
       "      <td>8582220.0</td>\n",
       "      <td>8782223.0</td>\n",
       "    </tr>\n",
       "    <tr>\n",
       "      <th>...</th>\n",
       "      <td>...</td>\n",
       "      <td>...</td>\n",
       "      <td>...</td>\n",
       "      <td>...</td>\n",
       "      <td>...</td>\n",
       "    </tr>\n",
       "    <tr>\n",
       "      <th>942</th>\n",
       "      <td>both_rewarded</td>\n",
       "      <td>20230625_112913_standard_comp_to_both_rewarded...</td>\n",
       "      <td>[1.1, 1.4]</td>\n",
       "      <td>64304011.0</td>\n",
       "      <td>64504015.0</td>\n",
       "    </tr>\n",
       "    <tr>\n",
       "      <th>943</th>\n",
       "      <td>both_rewarded</td>\n",
       "      <td>20230625_112913_standard_comp_to_both_rewarded...</td>\n",
       "      <td>[1.1, 1.4]</td>\n",
       "      <td>65804029.0</td>\n",
       "      <td>66004033.0</td>\n",
       "    </tr>\n",
       "    <tr>\n",
       "      <th>944</th>\n",
       "      <td>both_rewarded</td>\n",
       "      <td>20230625_112913_standard_comp_to_both_rewarded...</td>\n",
       "      <td>[1.1, 1.4]</td>\n",
       "      <td>67804057.0</td>\n",
       "      <td>68004058.0</td>\n",
       "    </tr>\n",
       "    <tr>\n",
       "      <th>945</th>\n",
       "      <td>both_rewarded</td>\n",
       "      <td>20230625_112913_standard_comp_to_both_rewarded...</td>\n",
       "      <td>[1.1, 1.4]</td>\n",
       "      <td>69704075.0</td>\n",
       "      <td>69904080.0</td>\n",
       "    </tr>\n",
       "    <tr>\n",
       "      <th>946</th>\n",
       "      <td>both_rewarded</td>\n",
       "      <td>20230625_112913_standard_comp_to_both_rewarded...</td>\n",
       "      <td>[1.1, 1.4]</td>\n",
       "      <td>70704093.0</td>\n",
       "      <td>70904092.0</td>\n",
       "    </tr>\n",
       "  </tbody>\n",
       "</table>\n",
       "<p>636 rows × 5 columns</p>\n",
       "</div>"
      ],
      "text/plain": [
       "        condition                                         session_dir  \\\n",
       "1              1.4  20230612_101430_standard_comp_to_training_D1_s...   \n",
       "2              1.3  20230612_101430_standard_comp_to_training_D1_s...   \n",
       "3              1.4  20230612_101430_standard_comp_to_training_D1_s...   \n",
       "4              1.4  20230612_101430_standard_comp_to_training_D1_s...   \n",
       "5              1.4  20230612_101430_standard_comp_to_training_D1_s...   \n",
       "..             ...                                                ...   \n",
       "942  both_rewarded  20230625_112913_standard_comp_to_both_rewarded...   \n",
       "943  both_rewarded  20230625_112913_standard_comp_to_both_rewarded...   \n",
       "944  both_rewarded  20230625_112913_standard_comp_to_both_rewarded...   \n",
       "945  both_rewarded  20230625_112913_standard_comp_to_both_rewarded...   \n",
       "946  both_rewarded  20230625_112913_standard_comp_to_both_rewarded...   \n",
       "\n",
       "    all_subjects  tone_start_timestamp  tone_stop_timestamp  \n",
       "1     [1.3, 1.4]              982229.0            1182226.0  \n",
       "2     [1.3, 1.4]             3382227.0            3582224.0  \n",
       "3     [1.3, 1.4]             5682225.0            5882222.0  \n",
       "4     [1.3, 1.4]             7482224.0            7682221.0  \n",
       "5     [1.3, 1.4]             8582220.0            8782223.0  \n",
       "..           ...                   ...                  ...  \n",
       "942   [1.1, 1.4]            64304011.0           64504015.0  \n",
       "943   [1.1, 1.4]            65804029.0           66004033.0  \n",
       "944   [1.1, 1.4]            67804057.0           68004058.0  \n",
       "945   [1.1, 1.4]            69704075.0           69904080.0  \n",
       "946   [1.1, 1.4]            70704093.0           70904092.0  \n",
       "\n",
       "[636 rows x 5 columns]"
      ]
     },
     "execution_count": 16,
     "metadata": {},
     "output_type": "execute_result"
    }
   ],
   "source": [
    "df4"
   ]
  },
  {
   "cell_type": "code",
   "execution_count": 17,
   "id": "e83dc22d-3995-4169-a9ed-01ce63408890",
   "metadata": {
    "execution": {
     "iopub.execute_input": "2024-05-02T17:34:12.368197Z",
     "iopub.status.busy": "2024-05-02T17:34:12.352564Z",
     "iopub.status.idle": "2024-05-02T17:34:12.375472Z",
     "shell.execute_reply": "2024-05-02T17:34:12.375472Z",
     "shell.execute_reply.started": "2024-05-02T17:34:12.368197Z"
    }
   },
   "outputs": [],
   "source": [
    "test3 = df3.loc[1, 'session_dir']"
   ]
  },
  {
   "cell_type": "code",
   "execution_count": 18,
   "id": "2a0f405a-1ea2-4f70-bcb7-46771bde529f",
   "metadata": {
    "execution": {
     "iopub.execute_input": "2024-05-02T17:34:16.782129Z",
     "iopub.status.busy": "2024-05-02T17:34:16.782129Z",
     "iopub.status.idle": "2024-05-02T17:34:16.805627Z",
     "shell.execute_reply": "2024-05-02T17:34:16.805627Z",
     "shell.execute_reply.started": "2024-05-02T17:34:16.782129Z"
    }
   },
   "outputs": [
    {
     "data": {
      "text/plain": [
       "'20230612_101430_standard_comp_to_training_D1_subj_1-4_and_1-3'"
      ]
     },
     "execution_count": 18,
     "metadata": {},
     "output_type": "execute_result"
    }
   ],
   "source": [
    "test3"
   ]
  },
  {
   "cell_type": "code",
   "execution_count": 19,
   "id": "efdf046b-8c1e-471a-aa70-ff8603258b50",
   "metadata": {
    "execution": {
     "iopub.execute_input": "2024-05-02T17:38:13.767918Z",
     "iopub.status.busy": "2024-05-02T17:38:13.767918Z",
     "iopub.status.idle": "2024-05-02T17:38:13.919915Z",
     "shell.execute_reply": "2024-05-02T17:38:13.919915Z",
     "shell.execute_reply.started": "2024-05-02T17:38:13.767918Z"
    }
   },
   "outputs": [],
   "source": [
    "new_df_data = []\n",
    "\n",
    "for _, row in df4.iterrows():\n",
    "    session_dir = row['session_dir']\n",
    "    subjects = row['all_subjects']\n",
    "    condition = row['condition ']\n",
    "\n",
    "    # Split session_dir on '_subj_' and take the first part only\n",
    "    # This ensures everything after '_subj_' is ignored\n",
    "    base_session_dir = session_dir.split('_subj_')[0]\n",
    "\n",
    "    for subject in subjects:\n",
    "        subject_formatted = subject.replace('.', '-')\n",
    "        # Append formatted subject to the base session_dir correctly\n",
    "        subj_recording = f\"{base_session_dir}_subj_{subject_formatted}\"\n",
    "        new_df_data.append({\n",
    "            'session_dir': session_dir,\n",
    "            'subject': subject,\n",
    "            'subj_recording': subj_recording,\n",
    "            'condition': condition if condition in ['rewarded', 'omission', 'both_rewarded', 'tie'] else ('win' if str(condition) == str(subject) else 'lose'),\n",
    "            'tone_start_timestamp': row['tone_start_timestamp'],\n",
    "            'tone_stop_timestamp': row['tone_stop_timestamp']\n",
    "        })\n",
    "\n",
    "# Convert list to DataFrame\n",
    "new_df = pd.DataFrame(new_df_data)\n",
    "new_df = new_df.drop_duplicates()"
   ]
  },
  {
   "cell_type": "code",
   "execution_count": 20,
   "id": "1bfa9853-5dd2-4291-8b14-b0a6d5690017",
   "metadata": {
    "execution": {
     "iopub.execute_input": "2024-05-02T17:38:21.876070Z",
     "iopub.status.busy": "2024-05-02T17:38:21.876070Z",
     "iopub.status.idle": "2024-05-02T17:38:21.911325Z",
     "shell.execute_reply": "2024-05-02T17:38:21.911325Z",
     "shell.execute_reply.started": "2024-05-02T17:38:21.876070Z"
    }
   },
   "outputs": [
    {
     "data": {
      "text/html": [
       "<div>\n",
       "<style scoped>\n",
       "    .dataframe tbody tr th:only-of-type {\n",
       "        vertical-align: middle;\n",
       "    }\n",
       "\n",
       "    .dataframe tbody tr th {\n",
       "        vertical-align: top;\n",
       "    }\n",
       "\n",
       "    .dataframe thead th {\n",
       "        text-align: right;\n",
       "    }\n",
       "</style>\n",
       "<table border=\"1\" class=\"dataframe\">\n",
       "  <thead>\n",
       "    <tr style=\"text-align: right;\">\n",
       "      <th></th>\n",
       "      <th>session_dir</th>\n",
       "      <th>subject</th>\n",
       "      <th>subj_recording</th>\n",
       "      <th>condition</th>\n",
       "      <th>tone_start_timestamp</th>\n",
       "      <th>tone_stop_timestamp</th>\n",
       "    </tr>\n",
       "  </thead>\n",
       "  <tbody>\n",
       "    <tr>\n",
       "      <th>0</th>\n",
       "      <td>20230612_101430_standard_comp_to_training_D1_s...</td>\n",
       "      <td>1.3</td>\n",
       "      <td>20230612_101430_standard_comp_to_training_D1_s...</td>\n",
       "      <td>lose</td>\n",
       "      <td>982229.0</td>\n",
       "      <td>1182226.0</td>\n",
       "    </tr>\n",
       "    <tr>\n",
       "      <th>1</th>\n",
       "      <td>20230612_101430_standard_comp_to_training_D1_s...</td>\n",
       "      <td>1.4</td>\n",
       "      <td>20230612_101430_standard_comp_to_training_D1_s...</td>\n",
       "      <td>win</td>\n",
       "      <td>982229.0</td>\n",
       "      <td>1182226.0</td>\n",
       "    </tr>\n",
       "    <tr>\n",
       "      <th>2</th>\n",
       "      <td>20230612_101430_standard_comp_to_training_D1_s...</td>\n",
       "      <td>1.3</td>\n",
       "      <td>20230612_101430_standard_comp_to_training_D1_s...</td>\n",
       "      <td>win</td>\n",
       "      <td>3382227.0</td>\n",
       "      <td>3582224.0</td>\n",
       "    </tr>\n",
       "    <tr>\n",
       "      <th>3</th>\n",
       "      <td>20230612_101430_standard_comp_to_training_D1_s...</td>\n",
       "      <td>1.4</td>\n",
       "      <td>20230612_101430_standard_comp_to_training_D1_s...</td>\n",
       "      <td>lose</td>\n",
       "      <td>3382227.0</td>\n",
       "      <td>3582224.0</td>\n",
       "    </tr>\n",
       "    <tr>\n",
       "      <th>4</th>\n",
       "      <td>20230612_101430_standard_comp_to_training_D1_s...</td>\n",
       "      <td>1.3</td>\n",
       "      <td>20230612_101430_standard_comp_to_training_D1_s...</td>\n",
       "      <td>lose</td>\n",
       "      <td>5682225.0</td>\n",
       "      <td>5882222.0</td>\n",
       "    </tr>\n",
       "    <tr>\n",
       "      <th>...</th>\n",
       "      <td>...</td>\n",
       "      <td>...</td>\n",
       "      <td>...</td>\n",
       "      <td>...</td>\n",
       "      <td>...</td>\n",
       "      <td>...</td>\n",
       "    </tr>\n",
       "    <tr>\n",
       "      <th>1267</th>\n",
       "      <td>20230625_112913_standard_comp_to_both_rewarded...</td>\n",
       "      <td>1.4</td>\n",
       "      <td>20230625_112913_standard_comp_to_both_rewarded...</td>\n",
       "      <td>both_rewarded</td>\n",
       "      <td>67804057.0</td>\n",
       "      <td>68004058.0</td>\n",
       "    </tr>\n",
       "    <tr>\n",
       "      <th>1268</th>\n",
       "      <td>20230625_112913_standard_comp_to_both_rewarded...</td>\n",
       "      <td>1.1</td>\n",
       "      <td>20230625_112913_standard_comp_to_both_rewarded...</td>\n",
       "      <td>both_rewarded</td>\n",
       "      <td>69704075.0</td>\n",
       "      <td>69904080.0</td>\n",
       "    </tr>\n",
       "    <tr>\n",
       "      <th>1269</th>\n",
       "      <td>20230625_112913_standard_comp_to_both_rewarded...</td>\n",
       "      <td>1.4</td>\n",
       "      <td>20230625_112913_standard_comp_to_both_rewarded...</td>\n",
       "      <td>both_rewarded</td>\n",
       "      <td>69704075.0</td>\n",
       "      <td>69904080.0</td>\n",
       "    </tr>\n",
       "    <tr>\n",
       "      <th>1270</th>\n",
       "      <td>20230625_112913_standard_comp_to_both_rewarded...</td>\n",
       "      <td>1.1</td>\n",
       "      <td>20230625_112913_standard_comp_to_both_rewarded...</td>\n",
       "      <td>both_rewarded</td>\n",
       "      <td>70704093.0</td>\n",
       "      <td>70904092.0</td>\n",
       "    </tr>\n",
       "    <tr>\n",
       "      <th>1271</th>\n",
       "      <td>20230625_112913_standard_comp_to_both_rewarded...</td>\n",
       "      <td>1.4</td>\n",
       "      <td>20230625_112913_standard_comp_to_both_rewarded...</td>\n",
       "      <td>both_rewarded</td>\n",
       "      <td>70704093.0</td>\n",
       "      <td>70904092.0</td>\n",
       "    </tr>\n",
       "  </tbody>\n",
       "</table>\n",
       "<p>960 rows × 6 columns</p>\n",
       "</div>"
      ],
      "text/plain": [
       "                                            session_dir subject  \\\n",
       "0     20230612_101430_standard_comp_to_training_D1_s...     1.3   \n",
       "1     20230612_101430_standard_comp_to_training_D1_s...     1.4   \n",
       "2     20230612_101430_standard_comp_to_training_D1_s...     1.3   \n",
       "3     20230612_101430_standard_comp_to_training_D1_s...     1.4   \n",
       "4     20230612_101430_standard_comp_to_training_D1_s...     1.3   \n",
       "...                                                 ...     ...   \n",
       "1267  20230625_112913_standard_comp_to_both_rewarded...     1.4   \n",
       "1268  20230625_112913_standard_comp_to_both_rewarded...     1.1   \n",
       "1269  20230625_112913_standard_comp_to_both_rewarded...     1.4   \n",
       "1270  20230625_112913_standard_comp_to_both_rewarded...     1.1   \n",
       "1271  20230625_112913_standard_comp_to_both_rewarded...     1.4   \n",
       "\n",
       "                                         subj_recording      condition  \\\n",
       "0     20230612_101430_standard_comp_to_training_D1_s...           lose   \n",
       "1     20230612_101430_standard_comp_to_training_D1_s...            win   \n",
       "2     20230612_101430_standard_comp_to_training_D1_s...            win   \n",
       "3     20230612_101430_standard_comp_to_training_D1_s...           lose   \n",
       "4     20230612_101430_standard_comp_to_training_D1_s...           lose   \n",
       "...                                                 ...            ...   \n",
       "1267  20230625_112913_standard_comp_to_both_rewarded...  both_rewarded   \n",
       "1268  20230625_112913_standard_comp_to_both_rewarded...  both_rewarded   \n",
       "1269  20230625_112913_standard_comp_to_both_rewarded...  both_rewarded   \n",
       "1270  20230625_112913_standard_comp_to_both_rewarded...  both_rewarded   \n",
       "1271  20230625_112913_standard_comp_to_both_rewarded...  both_rewarded   \n",
       "\n",
       "      tone_start_timestamp  tone_stop_timestamp  \n",
       "0                 982229.0            1182226.0  \n",
       "1                 982229.0            1182226.0  \n",
       "2                3382227.0            3582224.0  \n",
       "3                3382227.0            3582224.0  \n",
       "4                5682225.0            5882222.0  \n",
       "...                    ...                  ...  \n",
       "1267            67804057.0           68004058.0  \n",
       "1268            69704075.0           69904080.0  \n",
       "1269            69704075.0           69904080.0  \n",
       "1270            70704093.0           70904092.0  \n",
       "1271            70704093.0           70904092.0  \n",
       "\n",
       "[960 rows x 6 columns]"
      ]
     },
     "execution_count": 20,
     "metadata": {},
     "output_type": "execute_result"
    }
   ],
   "source": [
    "new_df"
   ]
  },
  {
   "cell_type": "code",
   "execution_count": 22,
   "id": "761c981b-9d36-439d-b886-2058123a5316",
   "metadata": {
    "execution": {
     "iopub.execute_input": "2024-05-02T17:43:03.909897Z",
     "iopub.status.busy": "2024-05-02T17:43:03.894274Z",
     "iopub.status.idle": "2024-05-02T17:43:04.004664Z",
     "shell.execute_reply": "2024-05-02T17:43:04.004664Z",
     "shell.execute_reply.started": "2024-05-02T17:43:03.909897Z"
    }
   },
   "outputs": [],
   "source": [
    "# Prepare timestamp_dicts from new_df\n",
    "timestamp_dicts = {}\n",
    "for _, row in new_df.iterrows():\n",
    "    key = row['subj_recording']\n",
    "    condition = row['condition']\n",
    "    timestamp_start = int(row['tone_start_timestamp']) // 20\n",
    "    timestamp_end = int(row['tone_stop_timestamp']) // 20\n",
    "    tuple_val = (timestamp_start, timestamp_end)\n",
    "\n",
    "    if key not in timestamp_dicts:\n",
    "        timestamp_dicts[key] = {cond: [] for cond in ['rewarded', 'win', 'lose', 'omission', 'both_rewarded', 'tie']}\n",
    "    timestamp_dicts[key][condition].append(tuple_val)\n",
    "\n",
    "# Convert lists in timestamp_dicts to numpy arrays\n",
    "for subj_recording in timestamp_dicts:\n",
    "    for condition in timestamp_dicts[subj_recording]:\n",
    "        timestamp_dicts[subj_recording][condition] = np.array(timestamp_dicts[subj_recording][condition], dtype=np.int64)"
   ]
  },
  {
   "cell_type": "code",
   "execution_count": 23,
   "id": "be8e6a45-5ecf-475c-8fb7-a408991819f4",
   "metadata": {
    "execution": {
     "iopub.execute_input": "2024-05-02T17:43:23.014224Z",
     "iopub.status.busy": "2024-05-02T17:43:23.014224Z",
     "iopub.status.idle": "2024-05-02T17:44:33.703075Z",
     "shell.execute_reply": "2024-05-02T17:44:33.703075Z",
     "shell.execute_reply.started": "2024-05-02T17:43:23.014224Z"
    }
   },
   "outputs": [
    {
     "name": "stdout",
     "output_type": "stream",
     "text": [
      "<class 'numpy.ndarray'>\n",
      "<class 'numpy.ndarray'>\n",
      "20230612_101430_standard_comp_to_training_D1_subj_1-3_t3b3L_box2_merged.rec\n",
      "<class 'numpy.ndarray'>\n",
      "<class 'numpy.ndarray'>\n",
      "20230617_115521_standard_comp_to_omission_D1_subj_1-1_t1b3L_box1_merged.rec\n",
      "<class 'numpy.ndarray'>\n",
      "<class 'numpy.ndarray'>\n",
      "20230617_115521_standard_comp_to_omission_D1_subj_1-2_t2b2L_box2_merged.rec\n",
      "<class 'numpy.ndarray'>\n",
      "<class 'numpy.ndarray'>\n",
      "20230618_100636_standard_comp_to_omission_D2_subj_1-1_t1b2L_box2_merged.rec\n",
      "<class 'numpy.ndarray'>\n",
      "<class 'numpy.ndarray'>\n",
      "20230618_100636_standard_comp_to_omission_D2_subj_1-4_t4b3L_box1_merged.rec\n",
      "<class 'numpy.ndarray'>\n",
      "<class 'numpy.ndarray'>\n",
      "20230619_115321_standard_comp_to_omission_D3_subj_1-4_t3b3L_box2_merged.rec\n",
      "<class 'numpy.ndarray'>\n",
      "<class 'numpy.ndarray'>\n",
      "20230620_114347_standard_comp_to_omission_D4_subj_1-1_t1b2L_box_2_merged.rec\n",
      "<class 'numpy.ndarray'>\n",
      "<class 'numpy.ndarray'>\n",
      "20230620_114347_standard_comp_to_omission_D4_subj_1-2_t3b3L_box_1_merged.rec\n",
      "<class 'numpy.ndarray'>\n",
      "<class 'numpy.ndarray'>\n",
      "20230621_111240_standard_comp_to_omission_D5_subj_1-4_t3b3L_box1_merged.rec\n",
      "<class 'numpy.ndarray'>\n",
      "<class 'numpy.ndarray'>\n",
      "Unit 92 is unsorted & has 2494 spikes\n",
      "Unit 92 will be deleted\n",
      "20230622_110832_standard_comp_to_both_rewarded_D1_subj_1-1_t1b3L_box1_merged.rec\n",
      "<class 'numpy.ndarray'>\n",
      "<class 'numpy.ndarray'>\n",
      "Unit 103 is unsorted & has 512 spikes\n",
      "Unit 103 will be deleted\n",
      "20230622_110832_standard_comp_to_both_rewarded_D1_subj_1-2_t3b3L_box1_merged.rec\n",
      "<class 'numpy.ndarray'>\n",
      "<class 'numpy.ndarray'>\n",
      "20230624_105855_standard_comp_to_both_rewarded_D3_subj_1-2_t1b2L_box1_merged.rec\n",
      "<class 'numpy.ndarray'>\n",
      "<class 'numpy.ndarray'>\n",
      "20230624_105855_standard_comp_to_both_rewarded_D3_subj_1-4_t3b3L_box1_merged.rec\n",
      "<class 'numpy.ndarray'>\n",
      "<class 'numpy.ndarray'>\n",
      "20230625_112913_standard_comp_to_both_rewarded_D4_subj_1-1_t1b2L_box1_merged.rec\n",
      "<class 'numpy.ndarray'>\n",
      "<class 'numpy.ndarray'>\n",
      "Unit 96 is unsorted & has 5811 spikes\n",
      "Unit 96 will be deleted\n",
      "Unit 95 is unsorted & has 6458 spikes\n",
      "Unit 95 will be deleted\n",
      "20230625_112913_standard_comp_to_both_rewarded_D4_subj_1-4_t3b3L_box1_merged.rec\n",
      "Please assign event dictionaries to each recording\n",
      "as recording.event_dict\n",
      "event_dict = {event name(str): np.array[[start(ms), stop(ms)]...]\n",
      "Please assign subjects to each recording as recording.subject\n"
     ]
    }
   ],
   "source": [
    "# Construct the path in a platform-independent way (HiPerGator or Windows)\n",
    "ephys_path = Path('.') / 'export' / 'updated_phys' / 'non-novel' / 'all_non_novel'\n",
    "\n",
    "ephys_data = spike.EphysRecordingCollection(str(ephys_path))"
   ]
  },
  {
   "cell_type": "code",
   "execution_count": 26,
   "id": "f65f421d-2178-4281-8cdb-8d79bde99e8b",
   "metadata": {
    "execution": {
     "iopub.execute_input": "2024-05-02T17:45:45.111994Z",
     "iopub.status.busy": "2024-05-02T17:45:45.111994Z",
     "iopub.status.idle": "2024-05-02T17:45:45.520482Z",
     "shell.execute_reply": "2024-05-02T17:45:45.519440Z",
     "shell.execute_reply.started": "2024-05-02T17:45:45.111994Z"
    }
   },
   "outputs": [],
   "source": [
    "tsvdf = pd.read_csv(r\"C:\\Users\\short\\Documents\\GitHub\\npc_playground\\export\\updated_phys\\non-novel\\all_non_novel\\20230612_101430_standard_comp_to_training_D1_subj_1-3_t3b3L_box2_merged.rec\\phy\\cluster_group.tsv\", delimiter='\\t')"
   ]
  },
  {
   "cell_type": "code",
   "execution_count": 27,
   "id": "b066b6cc-2fa6-43a4-b410-a4c29f9dbb3e",
   "metadata": {
    "execution": {
     "iopub.execute_input": "2024-05-02T17:45:51.699000Z",
     "iopub.status.busy": "2024-05-02T17:45:51.699000Z",
     "iopub.status.idle": "2024-05-02T17:45:51.718775Z",
     "shell.execute_reply": "2024-05-02T17:45:51.718775Z",
     "shell.execute_reply.started": "2024-05-02T17:45:51.699000Z"
    }
   },
   "outputs": [
    {
     "data": {
      "text/html": [
       "<div>\n",
       "<style scoped>\n",
       "    .dataframe tbody tr th:only-of-type {\n",
       "        vertical-align: middle;\n",
       "    }\n",
       "\n",
       "    .dataframe tbody tr th {\n",
       "        vertical-align: top;\n",
       "    }\n",
       "\n",
       "    .dataframe thead th {\n",
       "        text-align: right;\n",
       "    }\n",
       "</style>\n",
       "<table border=\"1\" class=\"dataframe\">\n",
       "  <thead>\n",
       "    <tr style=\"text-align: right;\">\n",
       "      <th></th>\n",
       "      <th>cluster_id</th>\n",
       "      <th>group</th>\n",
       "    </tr>\n",
       "  </thead>\n",
       "  <tbody>\n",
       "    <tr>\n",
       "      <th>0</th>\n",
       "      <td>1</td>\n",
       "      <td>noise</td>\n",
       "    </tr>\n",
       "    <tr>\n",
       "      <th>1</th>\n",
       "      <td>2</td>\n",
       "      <td>good</td>\n",
       "    </tr>\n",
       "    <tr>\n",
       "      <th>2</th>\n",
       "      <td>3</td>\n",
       "      <td>noise</td>\n",
       "    </tr>\n",
       "    <tr>\n",
       "      <th>3</th>\n",
       "      <td>5</td>\n",
       "      <td>good</td>\n",
       "    </tr>\n",
       "    <tr>\n",
       "      <th>4</th>\n",
       "      <td>9</td>\n",
       "      <td>unsorted</td>\n",
       "    </tr>\n",
       "    <tr>\n",
       "      <th>5</th>\n",
       "      <td>11</td>\n",
       "      <td>noise</td>\n",
       "    </tr>\n",
       "    <tr>\n",
       "      <th>6</th>\n",
       "      <td>12</td>\n",
       "      <td>noise</td>\n",
       "    </tr>\n",
       "    <tr>\n",
       "      <th>7</th>\n",
       "      <td>13</td>\n",
       "      <td>good</td>\n",
       "    </tr>\n",
       "    <tr>\n",
       "      <th>8</th>\n",
       "      <td>14</td>\n",
       "      <td>noise</td>\n",
       "    </tr>\n",
       "    <tr>\n",
       "      <th>9</th>\n",
       "      <td>17</td>\n",
       "      <td>good</td>\n",
       "    </tr>\n",
       "    <tr>\n",
       "      <th>10</th>\n",
       "      <td>18</td>\n",
       "      <td>good</td>\n",
       "    </tr>\n",
       "    <tr>\n",
       "      <th>11</th>\n",
       "      <td>19</td>\n",
       "      <td>good</td>\n",
       "    </tr>\n",
       "    <tr>\n",
       "      <th>12</th>\n",
       "      <td>20</td>\n",
       "      <td>noise</td>\n",
       "    </tr>\n",
       "    <tr>\n",
       "      <th>13</th>\n",
       "      <td>22</td>\n",
       "      <td>mua</td>\n",
       "    </tr>\n",
       "    <tr>\n",
       "      <th>14</th>\n",
       "      <td>23</td>\n",
       "      <td>good</td>\n",
       "    </tr>\n",
       "    <tr>\n",
       "      <th>15</th>\n",
       "      <td>24</td>\n",
       "      <td>good</td>\n",
       "    </tr>\n",
       "    <tr>\n",
       "      <th>16</th>\n",
       "      <td>26</td>\n",
       "      <td>good</td>\n",
       "    </tr>\n",
       "    <tr>\n",
       "      <th>17</th>\n",
       "      <td>29</td>\n",
       "      <td>mua</td>\n",
       "    </tr>\n",
       "    <tr>\n",
       "      <th>18</th>\n",
       "      <td>30</td>\n",
       "      <td>mua</td>\n",
       "    </tr>\n",
       "    <tr>\n",
       "      <th>19</th>\n",
       "      <td>31</td>\n",
       "      <td>mua</td>\n",
       "    </tr>\n",
       "    <tr>\n",
       "      <th>20</th>\n",
       "      <td>32</td>\n",
       "      <td>noise</td>\n",
       "    </tr>\n",
       "    <tr>\n",
       "      <th>21</th>\n",
       "      <td>33</td>\n",
       "      <td>good</td>\n",
       "    </tr>\n",
       "    <tr>\n",
       "      <th>22</th>\n",
       "      <td>34</td>\n",
       "      <td>mua</td>\n",
       "    </tr>\n",
       "    <tr>\n",
       "      <th>23</th>\n",
       "      <td>35</td>\n",
       "      <td>mua</td>\n",
       "    </tr>\n",
       "    <tr>\n",
       "      <th>24</th>\n",
       "      <td>36</td>\n",
       "      <td>good</td>\n",
       "    </tr>\n",
       "    <tr>\n",
       "      <th>25</th>\n",
       "      <td>37</td>\n",
       "      <td>noise</td>\n",
       "    </tr>\n",
       "    <tr>\n",
       "      <th>26</th>\n",
       "      <td>38</td>\n",
       "      <td>mua</td>\n",
       "    </tr>\n",
       "    <tr>\n",
       "      <th>27</th>\n",
       "      <td>39</td>\n",
       "      <td>good</td>\n",
       "    </tr>\n",
       "    <tr>\n",
       "      <th>28</th>\n",
       "      <td>40</td>\n",
       "      <td>noise</td>\n",
       "    </tr>\n",
       "    <tr>\n",
       "      <th>29</th>\n",
       "      <td>41</td>\n",
       "      <td>noise</td>\n",
       "    </tr>\n",
       "    <tr>\n",
       "      <th>30</th>\n",
       "      <td>42</td>\n",
       "      <td>noise</td>\n",
       "    </tr>\n",
       "    <tr>\n",
       "      <th>31</th>\n",
       "      <td>44</td>\n",
       "      <td>mua</td>\n",
       "    </tr>\n",
       "    <tr>\n",
       "      <th>32</th>\n",
       "      <td>45</td>\n",
       "      <td>noise</td>\n",
       "    </tr>\n",
       "    <tr>\n",
       "      <th>33</th>\n",
       "      <td>46</td>\n",
       "      <td>noise</td>\n",
       "    </tr>\n",
       "    <tr>\n",
       "      <th>34</th>\n",
       "      <td>47</td>\n",
       "      <td>noise</td>\n",
       "    </tr>\n",
       "    <tr>\n",
       "      <th>35</th>\n",
       "      <td>48</td>\n",
       "      <td>noise</td>\n",
       "    </tr>\n",
       "    <tr>\n",
       "      <th>36</th>\n",
       "      <td>53</td>\n",
       "      <td>mua</td>\n",
       "    </tr>\n",
       "    <tr>\n",
       "      <th>37</th>\n",
       "      <td>54</td>\n",
       "      <td>noise</td>\n",
       "    </tr>\n",
       "    <tr>\n",
       "      <th>38</th>\n",
       "      <td>55</td>\n",
       "      <td>good</td>\n",
       "    </tr>\n",
       "    <tr>\n",
       "      <th>39</th>\n",
       "      <td>56</td>\n",
       "      <td>mua</td>\n",
       "    </tr>\n",
       "    <tr>\n",
       "      <th>40</th>\n",
       "      <td>57</td>\n",
       "      <td>good</td>\n",
       "    </tr>\n",
       "    <tr>\n",
       "      <th>41</th>\n",
       "      <td>58</td>\n",
       "      <td>mua</td>\n",
       "    </tr>\n",
       "    <tr>\n",
       "      <th>42</th>\n",
       "      <td>59</td>\n",
       "      <td>good</td>\n",
       "    </tr>\n",
       "    <tr>\n",
       "      <th>43</th>\n",
       "      <td>65</td>\n",
       "      <td>good</td>\n",
       "    </tr>\n",
       "    <tr>\n",
       "      <th>44</th>\n",
       "      <td>66</td>\n",
       "      <td>noise</td>\n",
       "    </tr>\n",
       "    <tr>\n",
       "      <th>45</th>\n",
       "      <td>67</td>\n",
       "      <td>noise</td>\n",
       "    </tr>\n",
       "    <tr>\n",
       "      <th>46</th>\n",
       "      <td>68</td>\n",
       "      <td>good</td>\n",
       "    </tr>\n",
       "    <tr>\n",
       "      <th>47</th>\n",
       "      <td>81</td>\n",
       "      <td>good</td>\n",
       "    </tr>\n",
       "    <tr>\n",
       "      <th>48</th>\n",
       "      <td>82</td>\n",
       "      <td>mua</td>\n",
       "    </tr>\n",
       "    <tr>\n",
       "      <th>49</th>\n",
       "      <td>85</td>\n",
       "      <td>good</td>\n",
       "    </tr>\n",
       "    <tr>\n",
       "      <th>50</th>\n",
       "      <td>87</td>\n",
       "      <td>noise</td>\n",
       "    </tr>\n",
       "    <tr>\n",
       "      <th>51</th>\n",
       "      <td>88</td>\n",
       "      <td>good</td>\n",
       "    </tr>\n",
       "    <tr>\n",
       "      <th>52</th>\n",
       "      <td>94</td>\n",
       "      <td>good</td>\n",
       "    </tr>\n",
       "    <tr>\n",
       "      <th>53</th>\n",
       "      <td>95</td>\n",
       "      <td>noise</td>\n",
       "    </tr>\n",
       "    <tr>\n",
       "      <th>54</th>\n",
       "      <td>98</td>\n",
       "      <td>good</td>\n",
       "    </tr>\n",
       "    <tr>\n",
       "      <th>55</th>\n",
       "      <td>99</td>\n",
       "      <td>noise</td>\n",
       "    </tr>\n",
       "  </tbody>\n",
       "</table>\n",
       "</div>"
      ],
      "text/plain": [
       "    cluster_id     group\n",
       "0            1     noise\n",
       "1            2      good\n",
       "2            3     noise\n",
       "3            5      good\n",
       "4            9  unsorted\n",
       "5           11     noise\n",
       "6           12     noise\n",
       "7           13      good\n",
       "8           14     noise\n",
       "9           17      good\n",
       "10          18      good\n",
       "11          19      good\n",
       "12          20     noise\n",
       "13          22       mua\n",
       "14          23      good\n",
       "15          24      good\n",
       "16          26      good\n",
       "17          29       mua\n",
       "18          30       mua\n",
       "19          31       mua\n",
       "20          32     noise\n",
       "21          33      good\n",
       "22          34       mua\n",
       "23          35       mua\n",
       "24          36      good\n",
       "25          37     noise\n",
       "26          38       mua\n",
       "27          39      good\n",
       "28          40     noise\n",
       "29          41     noise\n",
       "30          42     noise\n",
       "31          44       mua\n",
       "32          45     noise\n",
       "33          46     noise\n",
       "34          47     noise\n",
       "35          48     noise\n",
       "36          53       mua\n",
       "37          54     noise\n",
       "38          55      good\n",
       "39          56       mua\n",
       "40          57      good\n",
       "41          58       mua\n",
       "42          59      good\n",
       "43          65      good\n",
       "44          66     noise\n",
       "45          67     noise\n",
       "46          68      good\n",
       "47          81      good\n",
       "48          82       mua\n",
       "49          85      good\n",
       "50          87     noise\n",
       "51          88      good\n",
       "52          94      good\n",
       "53          95     noise\n",
       "54          98      good\n",
       "55          99     noise"
      ]
     },
     "execution_count": 27,
     "metadata": {},
     "output_type": "execute_result"
    }
   ],
   "source": [
    "tsvdf"
   ]
  },
  {
   "cell_type": "code",
   "execution_count": 38,
   "id": "d2f0e7eb-f555-497a-9fa7-09ee055a746a",
   "metadata": {
    "execution": {
     "iopub.execute_input": "2024-05-02T17:50:31.952042Z",
     "iopub.status.busy": "2024-05-02T17:50:31.952042Z",
     "iopub.status.idle": "2024-05-02T17:50:31.962211Z",
     "shell.execute_reply": "2024-05-02T17:50:31.962211Z",
     "shell.execute_reply.started": "2024-05-02T17:50:31.952042Z"
    }
   },
   "outputs": [],
   "source": [
    "spike_clusters = np.load(r'C:\\Users\\short\\Documents\\GitHub\\npc_playground\\export\\updated_phys\\non-novel\\all_non_novel\\20230612_101430_standard_comp_to_training_D1_subj_1-3_t3b3L_box2_merged.rec\\phy\\spike_clusters.npy')"
   ]
  },
  {
   "cell_type": "code",
   "execution_count": 30,
   "id": "589c2c5f-f8d4-4ac2-bcd6-c004e31c37c7",
   "metadata": {
    "execution": {
     "iopub.execute_input": "2024-05-02T17:48:47.595838Z",
     "iopub.status.busy": "2024-05-02T17:48:47.595838Z",
     "iopub.status.idle": "2024-05-02T17:48:47.606121Z",
     "shell.execute_reply": "2024-05-02T17:48:47.606121Z",
     "shell.execute_reply.started": "2024-05-02T17:48:47.595838Z"
    }
   },
   "outputs": [
    {
     "data": {
      "text/plain": [
       "array([85, 41, 55, ..., 14, 26, 87])"
      ]
     },
     "execution_count": 30,
     "metadata": {},
     "output_type": "execute_result"
    }
   ],
   "source": [
    "spike_clusters"
   ]
  },
  {
   "cell_type": "code",
   "execution_count": 34,
   "id": "6a7d01cb-3cde-4332-a2a2-42b033745c6f",
   "metadata": {
    "execution": {
     "iopub.execute_input": "2024-05-02T17:49:52.509529Z",
     "iopub.status.busy": "2024-05-02T17:49:52.509529Z",
     "iopub.status.idle": "2024-05-02T17:49:52.529648Z",
     "shell.execute_reply": "2024-05-02T17:49:52.529648Z",
     "shell.execute_reply.started": "2024-05-02T17:49:52.509529Z"
    }
   },
   "outputs": [
    {
     "data": {
      "text/plain": [
       "(483418,)"
      ]
     },
     "execution_count": 34,
     "metadata": {},
     "output_type": "execute_result"
    }
   ],
   "source": [
    "spike_clusters.shape"
   ]
  },
  {
   "cell_type": "code",
   "execution_count": 35,
   "id": "7e0bf961-361c-40d2-966a-fc160c58da2b",
   "metadata": {
    "execution": {
     "iopub.execute_input": "2024-05-02T17:50:01.896723Z",
     "iopub.status.busy": "2024-05-02T17:50:01.896723Z",
     "iopub.status.idle": "2024-05-02T17:50:01.917604Z",
     "shell.execute_reply": "2024-05-02T17:50:01.917604Z",
     "shell.execute_reply.started": "2024-05-02T17:50:01.896723Z"
    }
   },
   "outputs": [
    {
     "data": {
      "text/plain": [
       "numpy.ndarray"
      ]
     },
     "execution_count": 35,
     "metadata": {},
     "output_type": "execute_result"
    }
   ],
   "source": [
    "type(spike_clusters)"
   ]
  },
  {
   "cell_type": "code",
   "execution_count": 37,
   "id": "3ebcb07d-0549-49b8-a0eb-a8f858c5f904",
   "metadata": {
    "execution": {
     "iopub.execute_input": "2024-05-02T17:50:29.423683Z",
     "iopub.status.busy": "2024-05-02T17:50:29.423683Z",
     "iopub.status.idle": "2024-05-02T17:50:29.441831Z",
     "shell.execute_reply": "2024-05-02T17:50:29.441831Z",
     "shell.execute_reply.started": "2024-05-02T17:50:29.423683Z"
    }
   },
   "outputs": [],
   "source": [
    "spike_times = np.load(r'C:\\Users\\short\\Documents\\GitHub\\npc_playground\\export\\updated_phys\\non-novel\\all_non_novel\\20230612_101430_standard_comp_to_training_D1_subj_1-3_t3b3L_box2_merged.rec\\phy\\spike_times.npy')"
   ]
  },
  {
   "cell_type": "code",
   "execution_count": 39,
   "id": "aa94f375-8680-421b-81b5-7e679edbcc2d",
   "metadata": {
    "execution": {
     "iopub.execute_input": "2024-05-02T17:50:39.148935Z",
     "iopub.status.busy": "2024-05-02T17:50:39.148935Z",
     "iopub.status.idle": "2024-05-02T17:50:39.161201Z",
     "shell.execute_reply": "2024-05-02T17:50:39.161201Z",
     "shell.execute_reply.started": "2024-05-02T17:50:39.148935Z"
    }
   },
   "outputs": [
    {
     "data": {
      "text/plain": [
       "array([[     689],\n",
       "       [    1754],\n",
       "       [    1829],\n",
       "       ...,\n",
       "       [68293021],\n",
       "       [68293168],\n",
       "       [68293331]], dtype=int64)"
      ]
     },
     "execution_count": 39,
     "metadata": {},
     "output_type": "execute_result"
    }
   ],
   "source": [
    "spike_times"
   ]
  },
  {
   "cell_type": "code",
   "execution_count": 40,
   "id": "ba857314-738e-4a4e-aee7-f5526273156d",
   "metadata": {
    "execution": {
     "iopub.execute_input": "2024-05-02T17:50:44.815555Z",
     "iopub.status.busy": "2024-05-02T17:50:44.815555Z",
     "iopub.status.idle": "2024-05-02T17:50:44.826407Z",
     "shell.execute_reply": "2024-05-02T17:50:44.826407Z",
     "shell.execute_reply.started": "2024-05-02T17:50:44.815555Z"
    }
   },
   "outputs": [
    {
     "data": {
      "text/plain": [
       "(483418, 1)"
      ]
     },
     "execution_count": 40,
     "metadata": {},
     "output_type": "execute_result"
    }
   ],
   "source": [
    "spike_times.shape"
   ]
  },
  {
   "cell_type": "code",
   "execution_count": 41,
   "id": "cb84a19b-9ea0-476a-9839-e208d8cba132",
   "metadata": {
    "execution": {
     "iopub.execute_input": "2024-05-02T17:50:57.022663Z",
     "iopub.status.busy": "2024-05-02T17:50:57.022663Z",
     "iopub.status.idle": "2024-05-02T17:50:57.034195Z",
     "shell.execute_reply": "2024-05-02T17:50:57.034195Z",
     "shell.execute_reply.started": "2024-05-02T17:50:57.022663Z"
    }
   },
   "outputs": [
    {
     "data": {
      "text/plain": [
       "numpy.ndarray"
      ]
     },
     "execution_count": 41,
     "metadata": {},
     "output_type": "execute_result"
    }
   ],
   "source": [
    "type(spike_times)"
   ]
  },
  {
   "cell_type": "code",
   "execution_count": null,
   "id": "1e0e537d-6a9b-4de7-90f0-5cf2e25f730c",
   "metadata": {},
   "outputs": [],
   "source": []
  }
 ],
 "metadata": {
  "kernelspec": {
   "display_name": "Python 3 (ipykernel)",
   "language": "python",
   "name": "python3"
  },
  "language_info": {
   "codemirror_mode": {
    "name": "ipython",
    "version": 3
   },
   "file_extension": ".py",
   "mimetype": "text/x-python",
   "name": "python",
   "nbconvert_exporter": "python",
   "pygments_lexer": "ipython3",
   "version": "3.11.7"
  }
 },
 "nbformat": 4,
 "nbformat_minor": 5
}
