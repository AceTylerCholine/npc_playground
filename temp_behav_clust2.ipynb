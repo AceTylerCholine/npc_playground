{
 "cells": [
  {
   "cell_type": "code",
   "execution_count": 1,
   "id": "7645430d-8b4c-4750-82e7-66551de50ec2",
   "metadata": {
    "execution": {
     "iopub.execute_input": "2024-07-31T19:03:18.070681Z",
     "iopub.status.busy": "2024-07-31T19:03:18.070681Z",
     "iopub.status.idle": "2024-07-31T19:03:19.431078Z",
     "shell.execute_reply": "2024-07-31T19:03:19.429708Z",
     "shell.execute_reply.started": "2024-07-31T19:03:18.070681Z"
    }
   },
   "outputs": [],
   "source": [
    "import pandas as pd\n",
    "import numpy as np"
   ]
  },
  {
   "cell_type": "code",
   "execution_count": 2,
   "id": "b838f244-0752-4034-a54f-f23999c5a0d9",
   "metadata": {
    "execution": {
     "iopub.execute_input": "2024-07-31T19:03:45.580488Z",
     "iopub.status.busy": "2024-07-31T19:03:45.579486Z",
     "iopub.status.idle": "2024-07-31T19:03:45.650501Z",
     "shell.execute_reply": "2024-07-31T19:03:45.648509Z",
     "shell.execute_reply.started": "2024-07-31T19:03:45.580488Z"
    }
   },
   "outputs": [],
   "source": [
    "# Load the DataFrame using pandas\n",
    "rce3_alone_clusters = pd.read_pickle(\"Behavioral_clustering/rce_pilot_3_alone_comp_cluster_ranges.pkl\")\n",
    "\n",
    "# Initialize the dictionary\n",
    "timestamp_dicts = {}\n",
    "\n",
    "# Loop through each row of the DataFrame to populate the dictionary\n",
    "for index, row in rce3_alone_clusters.iterrows():\n",
    "    # Define the key as a combination of session_dir and current_subject\n",
    "    key = f\"{row['session_dir']}\"\n",
    "\n",
    "    start_pos = key.find('subj_')\n",
    "    # Add the length of 'subj_' and 3 additional characters to include after 'subj_'\n",
    "    end_pos = start_pos + len('subj_') + 3\n",
    "    # Slice the recording key to get everything up to and including the subject identifier plus three characters\n",
    "    key_without_suffix = key[:end_pos]\n",
    "    \n",
    "    # Initialize nested dictionary for this key if not already present\n",
    "    if key not in timestamp_dicts:\n",
    "        timestamp_dicts[key_without_suffix] = {}\n",
    "\n",
    "    # Loop through the cluster_timestamps_ranges_dict to populate conditions\n",
    "    for condition, ranges in row['cluster_timestamps_ranges_dict'].items():\n",
    "        # Check if the condition key already exists, if not initialize a list\n",
    "        if condition not in timestamp_dicts[key_without_suffix]:\n",
    "            timestamp_dicts[key_without_suffix][str(condition)] = []\n",
    "\n",
    "        # Extend the existing list with new ranges\n",
    "        modified_ranges = [(start // 20, end // 20) for start, end in ranges]\n",
    "        timestamp_dicts[key_without_suffix][str(condition)].extend(modified_ranges)\n",
    "\n",
    "# Optionally, convert the lists to numpy arrays as in your previous code\n",
    "for subj_recording in timestamp_dicts:\n",
    "    for condition in timestamp_dicts[subj_recording]:\n",
    "        timestamp_dicts[subj_recording][condition] = np.array(timestamp_dicts[subj_recording][condition], dtype=np.int64)"
   ]
  },
  {
   "cell_type": "code",
   "execution_count": 3,
   "id": "f53f6baf-bef8-4867-a346-34088916a110",
   "metadata": {
    "execution": {
     "iopub.execute_input": "2024-07-31T19:04:06.468339Z",
     "iopub.status.busy": "2024-07-31T19:04:06.467321Z",
     "iopub.status.idle": "2024-07-31T19:04:06.508643Z",
     "shell.execute_reply": "2024-07-31T19:04:06.506640Z",
     "shell.execute_reply.started": "2024-07-31T19:04:06.468339Z"
    }
   },
   "outputs": [],
   "source": [
    "def combine_intervals(ranges):\n",
    "    \"\"\"Combine intervals that are within 250 milliseconds of each other.\"\"\"\n",
    "    if ranges.size == 0:\n",
    "        return ranges\n",
    "    # Sort ranges based on the start times\n",
    "    sorted_ranges = np.array(sorted(ranges, key=lambda x: x[0]))\n",
    "    combined = [sorted_ranges[0]]\n",
    "\n",
    "    for current in sorted_ranges[1:]:\n",
    "        last = combined[-1]\n",
    "        # If the current start is within 250 ms of the last end, combine them\n",
    "        if current[0] - last[1] <= 250:\n",
    "            combined[-1] = [last[0], max(last[1], current[1])]\n",
    "        else:\n",
    "            combined.append(current)\n",
    "\n",
    "    return np.array(combined)\n",
    "\n",
    "def remove_short_intervals(ranges):\n",
    "    \"\"\"Remove intervals that are less than 250 milliseconds long.\"\"\"\n",
    "    return np.array([interval for interval in ranges if interval[1] - interval[0] >= 250])\n",
    "\n",
    "def process_timestamps_nested(timestamp_dicts):\n",
    "    timestamp_dicts_cut = {}\n",
    "    for date_key, clusters in timestamp_dicts.items():\n",
    "        timestamp_dicts_cut[date_key] = {}\n",
    "        for cluster_key, intervals in clusters.items():\n",
    "            intervals = np.array(intervals)  # Ensure intervals is a numpy array\n",
    "            if intervals.size > 0 and intervals.ndim == 2:  # Check if there are any intervals and it's 2-dimensional\n",
    "                combined = combine_intervals(intervals)\n",
    "                cleaned = remove_short_intervals(combined)\n",
    "                timestamp_dicts_cut[date_key][cluster_key] = cleaned\n",
    "            else:\n",
    "                timestamp_dicts_cut[date_key][cluster_key] = np.array([])  # Handle empty or malformed input case\n",
    "    return timestamp_dicts_cut\n",
    "\n",
    "# Assuming timestamp_dicts is defined and filled with your data\n",
    "timestamp_dicts_cut = process_timestamps_nested(timestamp_dicts)"
   ]
  },
  {
   "cell_type": "code",
   "execution_count": 4,
   "id": "f7f2f01e-e220-4e06-82c3-3389baff1d74",
   "metadata": {
    "execution": {
     "iopub.execute_input": "2024-07-31T19:04:27.866001Z",
     "iopub.status.busy": "2024-07-31T19:04:27.866001Z",
     "iopub.status.idle": "2024-07-31T19:04:27.893010Z",
     "shell.execute_reply": "2024-07-31T19:04:27.891014Z",
     "shell.execute_reply.started": "2024-07-31T19:04:27.866001Z"
    }
   },
   "outputs": [],
   "source": [
    "def find_next_window(start_time, all_timestamps, all_ranges, gap):\n",
    "    # Find the next start time that is greater than the given start_time\n",
    "    next_start = min([t for t in all_timestamps if t > start_time], default=None)\n",
    "    if next_start is None:\n",
    "        return None, None\n",
    "\n",
    "    # Determine the maximum end time that doesn't exceed next_start + gap\n",
    "    potential_ends = [end for start, end in all_ranges if start >= next_start and end <= next_start + gap]\n",
    "    if not potential_ends:\n",
    "        return next_start, next_start + gap  # Extend to the full window length if no end within range\n",
    "    next_end = max(potential_ends)\n",
    "    return next_start, next_end\n",
    "\n",
    "# Process each recording in timestamp_dicts_cut\n",
    "windowed_events = {}\n",
    "\n",
    "for recording_key, clusters in timestamp_dicts_cut.items():\n",
    "    # Prepare data arrays\n",
    "    all_ranges = []\n",
    "    all_cluster_ids = []\n",
    "    for cluster_id, times in clusters.items():\n",
    "        for start_end in times:\n",
    "            all_ranges.append(start_end)\n",
    "            all_cluster_ids.append(cluster_id)\n",
    "\n",
    "    all_starts = np.array([r[0] for r in all_ranges])\n",
    "    all_ends = np.array([r[1] for r in all_ranges])\n",
    "\n",
    "    # Sort ranges by start times for processing order\n",
    "    sorted_indices = np.argsort(all_starts)\n",
    "    all_starts = all_starts[sorted_indices]\n",
    "    all_ends = all_ends[sorted_indices]\n",
    "    all_cluster_ids = [all_cluster_ids[i] for i in sorted_indices]\n",
    "\n",
    "    # Initialize windows\n",
    "    min_timestamp = all_starts.min()\n",
    "    dynamic_windows = [(min_timestamp, min(min_timestamp + 30000, all_ends.max()))]\n",
    "\n",
    "    # Find the first window and break\n",
    "    current_end = dynamic_windows[-1][1]\n",
    "    next_start, next_end = find_next_window(current_end, all_starts, list(zip(all_starts, all_ends)), 30100)\n",
    "    if next_start is not None:\n",
    "        dynamic_windows.append((next_start, next_end))\n",
    "        current_end = next_end\n",
    "\n",
    "    # Map clusters to the first window\n",
    "    windows_dict = {}\n",
    "    window_start, window_end = dynamic_windows[0]\n",
    "    clusters_in_window = []\n",
    "    for idx, (start, end) in enumerate(zip(all_starts, all_ends)):\n",
    "        if start >= window_start and end <= window_end and all_cluster_ids[idx] != '4':\n",
    "            clusters_in_window.append(all_cluster_ids[idx])\n",
    "\n",
    "    if clusters_in_window:  # Only store windows with data\n",
    "        windows_dict[\"Window 1\"] = clusters_in_window\n",
    "\n",
    "    windowed_events[recording_key] = windows_dict\n",
    "    break  # Stop after processing the first recording"
   ]
  },
  {
   "cell_type": "code",
   "execution_count": 5,
   "id": "9d21f9da-40b7-4dce-9f53-6f5dd756d86d",
   "metadata": {
    "execution": {
     "iopub.execute_input": "2024-07-31T19:05:13.900203Z",
     "iopub.status.busy": "2024-07-31T19:05:13.899201Z",
     "iopub.status.idle": "2024-07-31T19:05:13.924199Z",
     "shell.execute_reply": "2024-07-31T19:05:13.922195Z",
     "shell.execute_reply.started": "2024-07-31T19:05:13.900203Z"
    }
   },
   "outputs": [
    {
     "name": "stdout",
     "output_type": "stream",
     "text": [
      "[[1703995 1704688]\n",
      " [1704965 1706906]\n",
      " [1707114 1709123]\n",
      " ...\n",
      " [3074205 3080441]\n",
      " [3080510 3081480]\n",
      " [3081480 3083074]]\n"
     ]
    }
   ],
   "source": [
    "# Assume timestamp_dicts_cut is already defined and loaded with data\n",
    "timestamps = timestamp_dicts_cut['20240320_171038_alone_comp_subj_4-2']\n",
    "\n",
    "# Initialize an empty list to collect all timestamp pairs\n",
    "all_timestamps = []\n",
    "\n",
    "# Iterate over each key in the dictionary and extend the list with the arrays\n",
    "for key in timestamps.keys():\n",
    "    all_timestamps.extend(timestamps[key])\n",
    "\n",
    "# Sort all timestamp pairs based on the first element of each pair\n",
    "all_timestamps_sorted = sorted(all_timestamps, key=lambda x: x[0])\n",
    "\n",
    "# Convert the sorted list of pairs into a numpy array\n",
    "combined_sorted_array = np.array(all_timestamps_sorted)\n",
    "\n",
    "# Now combined_sorted_array is a single long array of all sorted timestamps\n",
    "print(combined_sorted_array)"
   ]
  },
  {
   "cell_type": "code",
   "execution_count": 6,
   "id": "95300589-286e-4919-9786-03886668b3f4",
   "metadata": {
    "execution": {
     "iopub.execute_input": "2024-07-31T19:05:20.547641Z",
     "iopub.status.busy": "2024-07-31T19:05:20.546120Z",
     "iopub.status.idle": "2024-07-31T19:05:20.570652Z",
     "shell.execute_reply": "2024-07-31T19:05:20.568652Z",
     "shell.execute_reply.started": "2024-07-31T19:05:20.547641Z"
    }
   },
   "outputs": [
    {
     "data": {
      "text/plain": [
       "array([[1703995, 1704688],\n",
       "       [1704965, 1706906],\n",
       "       [1707114, 1709123],\n",
       "       ...,\n",
       "       [3074205, 3080441],\n",
       "       [3080510, 3081480],\n",
       "       [3081480, 3083074]])"
      ]
     },
     "execution_count": 6,
     "metadata": {},
     "output_type": "execute_result"
    }
   ],
   "source": [
    "combined_sorted_array"
   ]
  },
  {
   "cell_type": "code",
   "execution_count": 7,
   "id": "e09e219a-cf9a-4d7a-ac55-d187ced2818b",
   "metadata": {
    "execution": {
     "iopub.execute_input": "2024-07-31T19:05:32.825185Z",
     "iopub.status.busy": "2024-07-31T19:05:32.825185Z",
     "iopub.status.idle": "2024-07-31T19:05:32.857447Z",
     "shell.execute_reply": "2024-07-31T19:05:32.856427Z",
     "shell.execute_reply.started": "2024-07-31T19:05:32.825185Z"
    }
   },
   "outputs": [
    {
     "data": {
      "text/plain": [
       "(2,)"
      ]
     },
     "execution_count": 7,
     "metadata": {},
     "output_type": "execute_result"
    }
   ],
   "source": [
    "combined_sorted_array[0].shape"
   ]
  },
  {
   "cell_type": "code",
   "execution_count": 9,
   "id": "e611eabe-8b6f-42d8-a573-05a5772229b6",
   "metadata": {
    "execution": {
     "iopub.execute_input": "2024-07-31T19:06:35.819602Z",
     "iopub.status.busy": "2024-07-31T19:06:35.819602Z",
     "iopub.status.idle": "2024-07-31T19:06:35.850873Z",
     "shell.execute_reply": "2024-07-31T19:06:35.850873Z",
     "shell.execute_reply.started": "2024-07-31T19:06:35.819602Z"
    }
   },
   "outputs": [],
   "source": [
    "# Process each recording in timestamp_dicts_cut\n",
    "windowed_events = {}\n",
    "\n",
    "for recording_key, clusters in timestamp_dicts_cut.items():\n",
    "    # Prepare data arrays\n",
    "    all_ranges = []\n",
    "    all_cluster_ids = []\n",
    "    for cluster_id, times in clusters.items():\n",
    "        for start_end in times:\n",
    "            all_ranges.append(start_end)\n",
    "            all_cluster_ids.append(cluster_id)\n",
    "    \n",
    "    all_starts = np.array([r[0] for r in all_ranges])\n",
    "    all_ends = np.array([r[1] for r in all_ranges])\n",
    "    \n",
    "    # Sort ranges by start times for processing order\n",
    "    sorted_indices = np.argsort(all_starts)\n",
    "    all_starts = all_starts[sorted_indices]\n",
    "    all_ends = all_ends[sorted_indices]\n",
    "    all_cluster_ids = [all_cluster_ids[i] for i in sorted_indices]\n",
    "    \n",
    "    # Initialize windows\n",
    "    min_timestamp = all_starts.min()\n",
    "    dynamic_windows = [(min_timestamp, min(min_timestamp + 30000, all_ends.max()))]\n",
    "    \n",
    "    # Find the first window and break\n",
    "    current_end = dynamic_windows[-1][1]\n",
    "    next_start, next_end = find_next_window(current_end, all_starts, list(zip(all_starts, all_ends)), 30100)\n",
    "    if next_start is not None:\n",
    "        dynamic_windows.append((next_start, next_end))\n",
    "        current_end = next_end\n",
    "\n",
    "    # Map clusters to the first window\n",
    "    windows_dict = {}\n",
    "    window_start, window_end = dynamic_windows[0]\n",
    "    clusters_in_window = []\n",
    "    for idx, (start, end) in enumerate(zip(all_starts, all_ends)):\n",
    "        if start >= window_start and end <= window_end and all_cluster_ids[idx] != '4':\n",
    "            clusters_in_window.append(all_cluster_ids[idx])\n",
    "\n",
    "    if clusters_in_window:  # Only store windows with data\n",
    "        windows_dict[\"Window 1\"] = clusters_in_window\n",
    "\n",
    "    windowed_events[recording_key] = windows_dict\n",
    "    break  # Stop after processing the first recording"
   ]
  },
  {
   "cell_type": "code",
   "execution_count": 10,
   "id": "57268a18-1bd5-4926-aab0-d7594576baca",
   "metadata": {
    "execution": {
     "iopub.execute_input": "2024-07-31T19:07:19.882929Z",
     "iopub.status.busy": "2024-07-31T19:07:19.882929Z",
     "iopub.status.idle": "2024-07-31T19:07:19.914176Z",
     "shell.execute_reply": "2024-07-31T19:07:19.914176Z",
     "shell.execute_reply.started": "2024-07-31T19:07:19.882929Z"
    }
   },
   "outputs": [
    {
     "data": {
      "text/plain": [
       "array([  277,   208,   208,     0,    70,    69,   278,    69,   346,\n",
       "          70,    70,    69,    70,    36,     0,    70,    69,   347,\n",
       "           0,    69, 20996,    69,    69,    69,     0,    53,    70,\n",
       "          69,     0,    69,     9,     0,    70,     0,    69,    70,\n",
       "          70,     0,     0,   347,    69,    41,    69,    70, 25985,\n",
       "         277,    69,    69,   278,    69,    69,   277,    44,     0,\n",
       "          69,    70,     0,   208,    69,    70,    70,    70,   555,\n",
       "         347,    31,    70,     5,    69,    69,     0,     0,    69,\n",
       "         277,   208,    69,    70,    69, 21204,    70,    69,    51,\n",
       "          69,    69,   346,    69,     0,    69,     0,    70,    12,\n",
       "          69,   347,    69,     0,     0,   139,    69,    69,   555,\n",
       "          70,     0,    69,    69,    69, 49407,    69,    69,    69,\n",
       "          69,    70,    69,     0,   555,    69,     0,    69,    70,\n",
       "          70,     0,     0,    69,     2,     0,    70,    69,    69,\n",
       "           0, 55434,    70,    34,     0,    70,    70,     0,    70,\n",
       "          69,    69,    70,    70,    69,    69,    70,     0,    70,\n",
       "          69,    69,    44,   139,   208, 85369,     0,   139,   208,\n",
       "          69,    69,    49,    69,   138,    52,    69,     0,    69,\n",
       "          69,    69,    69,   508,   346,    69,    69,    68,    70,\n",
       "         277,   278,   347,     0,   138, 20511,    69,    69,    70,\n",
       "          69,    70,    70,    69,    69,    70,    70,   693,    70,\n",
       "         278,     0,    92,     0,   346,   762,    69, 20649,   208,\n",
       "          70,    69,   347,    69,    69,    69,     0,    70,   277,\n",
       "          59,     0,     0,    17,    69,    70,    69,    20,    69,\n",
       "          69,   278, 35270,   277,     0,    69,    69,    70,   277,\n",
       "          69,   347,    69,    69,    70,    69,    69,    69,   268,\n",
       "           0,    69,   277,    70,    69,    69,    69,   277,     0,\n",
       "       30489,   485,    69,     0,     0,    69,    69,    69,    69,\n",
       "          69,    69,    69,   554,    32,    70,     0,   554,     0,\n",
       "           0,    69,     0,    69,     0,    69,    69,    69,    69,\n",
       "         208,   278,   138, 80935,    69,   347,   277,    70,    69,\n",
       "         277,     0,     0,    13,    32,    69,    70,    42,     0,\n",
       "          69,     0,    69,    69,    70,   208,     0,    70,    69,\n",
       "          69,    69,    70,     0, 38250,   208,   346,    69,   277,\n",
       "           0,     0,   138,   208,    70,     0,     0,    18,    69,\n",
       "           0,     0,   347,    69,    69,    69,    69, 26193,     0,\n",
       "           0,     0,     7,   208,    69,    69,   240,    69,   347,\n",
       "         278,   139,   138,     0,    69,    69,     0,    69,    70,\n",
       "          69,    69, 47604,    69,   415,   277,   138,    69,    69,\n",
       "         346,    69,     0,     0,   277,   208,    70,    69,    69,\n",
       "           0,    69,     0,     0,    69,    64,     0,    70,   139,\n",
       "          69, 20164,    69,   277,    69,    70,     0,    69,    70,\n",
       "          69,    69,    69,   623,    70,    69,   485,   347,    69,\n",
       "           0,    70,    69,    69,    69, 26401,     0,    10,   346,\n",
       "           0,    69,    69,    69,    69,    69,    35,     0,   278,\n",
       "          69,    70,    69,   346,    19,    69,     0,   347,   347,\n",
       "          69,     0,    69,     0,    69,     0,    69,    69, 21620,\n",
       "         277,     0,    69,   208,    43,   277,   277,    16,    70,\n",
       "           0,   277,   139,    69,    70,   346,     0,    69,   624,\n",
       "           0,     0,    70,    70,    69, 45526,   277,   346,     0,\n",
       "          69,   173,     0,    69,    70,    70,     4,     0,   139,\n",
       "          69,   160,    69,    69,    69,   208,     0,    69,   208,\n",
       "          70,    69,     0,    69,   207,   208,    70,    69, 80426,\n",
       "          70,    69,    70,   138,    69,    70,    69,    34,    69,\n",
       "           0,    69,   277,   277,    69,     0,    69,   277,    69,\n",
       "          69,     0,     0,    70, 25500,    76,   138,    69,   139,\n",
       "          69,     0,     0,    69,    69,    70,    70,    70,    70,\n",
       "           0,    70,    69,     0])"
      ]
     },
     "execution_count": 10,
     "metadata": {},
     "output_type": "execute_result"
    }
   ],
   "source": [
    "# Initialize an empty list to collect the differences\n",
    "differences = []\n",
    "\n",
    "# Iterate through the array of pairs to calculate the differences\n",
    "for i in range(len(combined_sorted_array) - 1):\n",
    "    current_end = combined_sorted_array[i][1]\n",
    "    next_start = combined_sorted_array[i + 1][0]\n",
    "    difference = next_start - current_end\n",
    "\n",
    "    differences.append(difference)\n",
    "\n",
    "# Convert the list of valid differences into a numpy array\n",
    "valid_differences_array = np.array(differences)\n",
    "\n",
    "# Now valid_differences_array contains the required differences\n",
    "valid_differences_array"
   ]
  },
  {
   "cell_type": "code",
   "execution_count": 11,
   "id": "9a41c187-7b71-4da7-aeeb-b676fc6ba882",
   "metadata": {
    "execution": {
     "iopub.execute_input": "2024-07-31T19:07:39.744514Z",
     "iopub.status.busy": "2024-07-31T19:07:39.744514Z",
     "iopub.status.idle": "2024-07-31T19:07:39.769534Z",
     "shell.execute_reply": "2024-07-31T19:07:39.767539Z",
     "shell.execute_reply.started": "2024-07-31T19:07:39.744514Z"
    }
   },
   "outputs": [
    {
     "name": "stdout",
     "output_type": "stream",
     "text": [
      "[np.int64(30000), np.int64(28964)]\n"
     ]
    }
   ],
   "source": [
    "# Initialize an empty list to collect the window lengths\n",
    "window_lengths = []\n",
    "\n",
    "# Iterate through the dynamic_windows list to calculate lengths\n",
    "for start_time, end_time in dynamic_windows:\n",
    "    window_length = end_time - start_time\n",
    "    window_lengths.append(window_length)\n",
    "\n",
    "# Print the window lengths\n",
    "print(window_lengths)"
   ]
  },
  {
   "cell_type": "code",
   "execution_count": 12,
   "id": "a3c5eff6-2ec7-4de3-9f50-f0dcfb7933e0",
   "metadata": {
    "execution": {
     "iopub.execute_input": "2024-07-31T19:07:51.730158Z",
     "iopub.status.busy": "2024-07-31T19:07:51.729165Z",
     "iopub.status.idle": "2024-07-31T19:07:51.752159Z",
     "shell.execute_reply": "2024-07-31T19:07:51.749161Z",
     "shell.execute_reply.started": "2024-07-31T19:07:51.730158Z"
    }
   },
   "outputs": [
    {
     "name": "stdout",
     "output_type": "stream",
     "text": [
      "[30000 28964]\n"
     ]
    }
   ],
   "source": [
    "# Convert the list of lengths into a numpy array if needed for further analysis\n",
    "window_lengths_array = np.array(window_lengths)\n",
    "print(window_lengths_array)"
   ]
  },
  {
   "cell_type": "code",
   "execution_count": 13,
   "id": "e8caa642-22cf-40c3-97dd-2510a243537e",
   "metadata": {
    "execution": {
     "iopub.execute_input": "2024-07-31T19:08:02.634114Z",
     "iopub.status.busy": "2024-07-31T19:08:02.633112Z",
     "iopub.status.idle": "2024-07-31T19:08:02.664108Z",
     "shell.execute_reply": "2024-07-31T19:08:02.659110Z",
     "shell.execute_reply.started": "2024-07-31T19:08:02.634114Z"
    }
   },
   "outputs": [
    {
     "data": {
      "text/plain": [
       "[(np.int64(1703995), np.int64(1733995)),\n",
       " (np.int64(1754095), np.int64(1783059))]"
      ]
     },
     "execution_count": 13,
     "metadata": {},
     "output_type": "execute_result"
    }
   ],
   "source": [
    "dynamic_windows"
   ]
  }
 ],
 "metadata": {
  "kernelspec": {
   "display_name": "Python 3 (ipykernel)",
   "language": "python",
   "name": "python3"
  },
  "language_info": {
   "codemirror_mode": {
    "name": "ipython",
    "version": 3
   },
   "file_extension": ".py",
   "mimetype": "text/x-python",
   "name": "python",
   "nbconvert_exporter": "python",
   "pygments_lexer": "ipython3",
   "version": "3.10.14"
  }
 },
 "nbformat": 4,
 "nbformat_minor": 5
}
