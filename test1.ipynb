{
 "cells": [
  {
   "cell_type": "code",
   "execution_count": 1,
   "id": "6fb0cd70-5977-49d6-9538-497276e70500",
   "metadata": {
    "execution": {
     "iopub.execute_input": "2024-07-01T21:17:41.168532Z",
     "iopub.status.busy": "2024-07-01T21:17:41.167538Z",
     "iopub.status.idle": "2024-07-01T21:17:41.603745Z",
     "shell.execute_reply": "2024-07-01T21:17:41.601746Z",
     "shell.execute_reply.started": "2024-07-01T21:17:41.168532Z"
    }
   },
   "outputs": [
    {
     "name": "stdout",
     "output_type": "stream",
     "text": [
      "Template shape: (40,)\n",
      "Template waveform: [-0.17643401  0.00766531  0.11123657 -0.11966428 -0.01377669  0.03715604\n",
      "  0.07289668  0.14733964 -0.24484675  0.09265582 -0.07813317 -0.01661102\n",
      " -0.2080321   0.07522892  0.04825524  0.05550409 -0.02006761  0.00822814\n",
      "  0.11832004  0.03950582  0.10741219 -0.13507045 -0.05803775  0.05659509\n",
      " -0.2347817  -0.06293044  0.04987411 -0.01813831  0.03345206 -0.022072\n",
      " -0.2807419  -0.00316021 -0.18363251  0.14130337 -0.01181922 -0.14752378\n",
      " -0.05497186  0.10234828 -0.01570428 -0.02745058]\n"
     ]
    }
   ],
   "source": [
    "import numpy as np\n",
    "\n",
    "# Simulate raw data\n",
    "raw_data = np.random.randn(100000)  # 100 seconds of data at 1 kHz\n",
    "\n",
    "# Simulate spike detection\n",
    "spike_times = np.random.choice(np.arange(1000, 99000), size=100, replace=False)\n",
    "\n",
    "# Window size (20 samples before and after the spike)\n",
    "window_size = 40\n",
    "\n",
    "# Extract windows around detected spikes\n",
    "spike_windows = []\n",
    "for spike_time in spike_times:\n",
    "    window = raw_data[spike_time - window_size//2 : spike_time + window_size//2]\n",
    "    spike_windows.append(window)\n",
    "\n",
    "# Convert to numpy array\n",
    "spike_windows = np.array(spike_windows)\n",
    "\n",
    "# Create template by averaging windows\n",
    "template = np.mean(spike_windows, axis=0)\n",
    "\n",
    "print(f\"Template shape: {template.shape}\")\n",
    "print(f\"Template waveform: {template}\")"
   ]
  },
  {
   "cell_type": "code",
   "execution_count": 2,
   "id": "7af1fe52-e348-4d29-afc1-560f780aa07c",
   "metadata": {
    "execution": {
     "iopub.execute_input": "2024-07-01T21:17:52.905345Z",
     "iopub.status.busy": "2024-07-01T21:17:52.905345Z",
     "iopub.status.idle": "2024-07-01T21:17:52.936603Z",
     "shell.execute_reply": "2024-07-01T21:17:52.936603Z",
     "shell.execute_reply.started": "2024-07-01T21:17:52.905345Z"
    }
   },
   "outputs": [
    {
     "data": {
      "text/plain": [
       "array([ 2.36135447, -2.23413071,  0.05608148, ...,  1.52635585,\n",
       "       -0.71035241, -0.9142588 ])"
      ]
     },
     "execution_count": 2,
     "metadata": {},
     "output_type": "execute_result"
    }
   ],
   "source": [
    "raw_data"
   ]
  },
  {
   "cell_type": "code",
   "execution_count": 3,
   "id": "a4b4e0ca-9eec-4083-a1e3-4f17a76759d8",
   "metadata": {
    "execution": {
     "iopub.execute_input": "2024-07-01T21:18:00.551592Z",
     "iopub.status.busy": "2024-07-01T21:18:00.550591Z",
     "iopub.status.idle": "2024-07-01T21:18:00.569621Z",
     "shell.execute_reply": "2024-07-01T21:18:00.567622Z",
     "shell.execute_reply.started": "2024-07-01T21:18:00.551592Z"
    }
   },
   "outputs": [
    {
     "data": {
      "text/plain": [
       "array([80641, 31894, 73395, 54665,  9863, 30319, 85814,  5369, 35425,\n",
       "        4937, 56158, 43665, 32380, 17884, 49904, 63207, 29358, 92652,\n",
       "       22837, 24079, 76248, 56847, 62942, 83547,  8329,  4861, 95643,\n",
       "       30387, 78329, 19216,  6693,  1973,  4150, 83872, 72714, 56259,\n",
       "       38886, 60638, 18850, 60288, 36549, 97910, 75904, 79351, 86505,\n",
       "       29018, 88158, 74403, 48355, 84255, 40436,  3861,  6972, 38020,\n",
       "       69394, 85528, 35944,  2474,  4260,  8032,  9420, 33696, 85405,\n",
       "       64375, 23605, 15039, 97137, 19012,  5577, 14526, 32494, 72600,\n",
       "        4266, 73183, 44883, 47576, 78762, 59796, 66362, 89349, 56309,\n",
       "       21018, 76875, 55937, 38998, 76141, 87693, 52818, 50100, 93891,\n",
       "       89166, 52584, 39120, 31739, 11260, 47664, 47984, 60964, 51725,\n",
       "       19773])"
      ]
     },
     "execution_count": 3,
     "metadata": {},
     "output_type": "execute_result"
    }
   ],
   "source": [
    "spike_times"
   ]
  },
  {
   "cell_type": "code",
   "execution_count": null,
   "id": "ae4972c2-6bce-42b8-8059-a85a02480b2f",
   "metadata": {},
   "outputs": [],
   "source": []
  }
 ],
 "metadata": {
  "kernelspec": {
   "display_name": "Python 3 (ipykernel)",
   "language": "python",
   "name": "python3"
  },
  "language_info": {
   "codemirror_mode": {
    "name": "ipython",
    "version": 3
   },
   "file_extension": ".py",
   "mimetype": "text/x-python",
   "name": "python",
   "nbconvert_exporter": "python",
   "pygments_lexer": "ipython3",
   "version": "3.10.14"
  }
 },
 "nbformat": 4,
 "nbformat_minor": 5
}
