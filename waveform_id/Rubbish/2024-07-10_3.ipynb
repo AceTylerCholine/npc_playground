{
 "cells": [
  {
   "cell_type": "code",
   "execution_count": 1,
   "id": "c2f678d7-abf7-4798-a75c-7c1f268e85e4",
   "metadata": {
    "execution": {
     "iopub.execute_input": "2024-07-09T14:52:32.780014Z",
     "iopub.status.busy": "2024-07-09T14:52:32.780014Z",
     "iopub.status.idle": "2024-07-09T14:52:55.942343Z",
     "shell.execute_reply": "2024-07-09T14:52:55.936342Z",
     "shell.execute_reply.started": "2024-07-09T14:52:32.780014Z"
    }
   },
   "outputs": [
    {
     "name": "stderr",
     "output_type": "stream",
     "text": [
      "C:\\Users\\short\\miniforge3\\envs\\WaveMAP\\lib\\site-packages\\tqdm\\auto.py:22: TqdmWarning: IProgress not found. Please update jupyter and ipywidgets. See https://ipywidgets.readthedocs.io/en/stable/user_install.html\n",
      "  from .autonotebook import tqdm as notebook_tqdm\n"
     ]
    },
    {
     "ename": "BrokenProcessPool",
     "evalue": "A process in the process pool was terminated abruptly while the future was running or pending.",
     "output_type": "error",
     "traceback": [
      "\u001b[1;31m---------------------------------------------------------------------------\u001b[0m",
      "\u001b[1;31mBrokenProcessPool\u001b[0m                         Traceback (most recent call last)",
      "Cell \u001b[1;32mIn[1], line 72\u001b[0m\n\u001b[0;32m     69\u001b[0m     plt\u001b[38;5;241m.\u001b[39mshow()\n\u001b[0;32m     71\u001b[0m \u001b[38;5;28;01mif\u001b[39;00m \u001b[38;5;18m__name__\u001b[39m \u001b[38;5;241m==\u001b[39m \u001b[38;5;124m\"\u001b[39m\u001b[38;5;124m__main__\u001b[39m\u001b[38;5;124m\"\u001b[39m:\n\u001b[1;32m---> 72\u001b[0m     \u001b[43mmain\u001b[49m\u001b[43m(\u001b[49m\u001b[43m)\u001b[49m\n",
      "Cell \u001b[1;32mIn[1], line 48\u001b[0m, in \u001b[0;36mmain\u001b[1;34m()\u001b[0m\n\u001b[0;32m     46\u001b[0m \u001b[38;5;66;03m# Process each folder concurrently\u001b[39;00m\n\u001b[0;32m     47\u001b[0m \u001b[38;5;28;01mwith\u001b[39;00m concurrent\u001b[38;5;241m.\u001b[39mfutures\u001b[38;5;241m.\u001b[39mProcessPoolExecutor() \u001b[38;5;28;01mas\u001b[39;00m executor:\n\u001b[1;32m---> 48\u001b[0m     results \u001b[38;5;241m=\u001b[39m \u001b[38;5;28;43mlist\u001b[39;49m\u001b[43m(\u001b[49m\u001b[43mexecutor\u001b[49m\u001b[38;5;241;43m.\u001b[39;49m\u001b[43mmap\u001b[49m\u001b[43m(\u001b[49m\u001b[43mprocess_folder\u001b[49m\u001b[43m,\u001b[49m\u001b[43m \u001b[49m\u001b[43mfolders\u001b[49m\u001b[43m)\u001b[49m\u001b[43m)\u001b[49m\n\u001b[0;32m     50\u001b[0m \u001b[38;5;66;03m# Combine all waveforms into a single array\u001b[39;00m\n\u001b[0;32m     51\u001b[0m all_waveforms \u001b[38;5;241m=\u001b[39m [wf \u001b[38;5;28;01mfor\u001b[39;00m result \u001b[38;5;129;01min\u001b[39;00m results \u001b[38;5;28;01mif\u001b[39;00m result \u001b[38;5;28;01mfor\u001b[39;00m wf \u001b[38;5;129;01min\u001b[39;00m result]\n",
      "File \u001b[1;32m~\\miniforge3\\envs\\WaveMAP\\lib\\concurrent\\futures\\process.py:484\u001b[0m, in \u001b[0;36m_chain_from_iterable_of_lists\u001b[1;34m(iterable)\u001b[0m\n\u001b[0;32m    478\u001b[0m \u001b[38;5;28;01mdef\u001b[39;00m \u001b[38;5;21m_chain_from_iterable_of_lists\u001b[39m(iterable):\n\u001b[0;32m    479\u001b[0m \u001b[38;5;250m    \u001b[39m\u001b[38;5;124;03m\"\"\"\u001b[39;00m\n\u001b[0;32m    480\u001b[0m \u001b[38;5;124;03m    Specialized implementation of itertools.chain.from_iterable.\u001b[39;00m\n\u001b[0;32m    481\u001b[0m \u001b[38;5;124;03m    Each item in *iterable* should be a list.  This function is\u001b[39;00m\n\u001b[0;32m    482\u001b[0m \u001b[38;5;124;03m    careful not to keep references to yielded objects.\u001b[39;00m\n\u001b[0;32m    483\u001b[0m \u001b[38;5;124;03m    \"\"\"\u001b[39;00m\n\u001b[1;32m--> 484\u001b[0m     \u001b[38;5;28;01mfor\u001b[39;00m element \u001b[38;5;129;01min\u001b[39;00m iterable:\n\u001b[0;32m    485\u001b[0m         element\u001b[38;5;241m.\u001b[39mreverse()\n\u001b[0;32m    486\u001b[0m         \u001b[38;5;28;01mwhile\u001b[39;00m element:\n",
      "File \u001b[1;32m~\\miniforge3\\envs\\WaveMAP\\lib\\concurrent\\futures\\_base.py:619\u001b[0m, in \u001b[0;36mExecutor.map.<locals>.result_iterator\u001b[1;34m()\u001b[0m\n\u001b[0;32m    616\u001b[0m \u001b[38;5;28;01mwhile\u001b[39;00m fs:\n\u001b[0;32m    617\u001b[0m     \u001b[38;5;66;03m# Careful not to keep a reference to the popped future\u001b[39;00m\n\u001b[0;32m    618\u001b[0m     \u001b[38;5;28;01mif\u001b[39;00m timeout \u001b[38;5;129;01mis\u001b[39;00m \u001b[38;5;28;01mNone\u001b[39;00m:\n\u001b[1;32m--> 619\u001b[0m         \u001b[38;5;28;01myield\u001b[39;00m \u001b[43mfs\u001b[49m\u001b[38;5;241;43m.\u001b[39;49m\u001b[43mpop\u001b[49m\u001b[43m(\u001b[49m\u001b[43m)\u001b[49m\u001b[38;5;241;43m.\u001b[39;49m\u001b[43mresult\u001b[49m\u001b[43m(\u001b[49m\u001b[43m)\u001b[49m\n\u001b[0;32m    620\u001b[0m     \u001b[38;5;28;01melse\u001b[39;00m:\n\u001b[0;32m    621\u001b[0m         \u001b[38;5;28;01myield\u001b[39;00m fs\u001b[38;5;241m.\u001b[39mpop()\u001b[38;5;241m.\u001b[39mresult(end_time \u001b[38;5;241m-\u001b[39m time\u001b[38;5;241m.\u001b[39mmonotonic())\n",
      "File \u001b[1;32m~\\miniforge3\\envs\\WaveMAP\\lib\\concurrent\\futures\\_base.py:444\u001b[0m, in \u001b[0;36mFuture.result\u001b[1;34m(self, timeout)\u001b[0m\n\u001b[0;32m    442\u001b[0m     \u001b[38;5;28;01mraise\u001b[39;00m CancelledError()\n\u001b[0;32m    443\u001b[0m \u001b[38;5;28;01melif\u001b[39;00m \u001b[38;5;28mself\u001b[39m\u001b[38;5;241m.\u001b[39m_state \u001b[38;5;241m==\u001b[39m FINISHED:\n\u001b[1;32m--> 444\u001b[0m     \u001b[38;5;28;01mreturn\u001b[39;00m \u001b[38;5;28;43mself\u001b[39;49m\u001b[38;5;241;43m.\u001b[39;49m\u001b[43m__get_result\u001b[49m\u001b[43m(\u001b[49m\u001b[43m)\u001b[49m\n\u001b[0;32m    445\u001b[0m \u001b[38;5;28;01melse\u001b[39;00m:\n\u001b[0;32m    446\u001b[0m     \u001b[38;5;28;01mraise\u001b[39;00m \u001b[38;5;167;01mTimeoutError\u001b[39;00m()\n",
      "File \u001b[1;32m~\\miniforge3\\envs\\WaveMAP\\lib\\concurrent\\futures\\_base.py:389\u001b[0m, in \u001b[0;36mFuture.__get_result\u001b[1;34m(self)\u001b[0m\n\u001b[0;32m    387\u001b[0m \u001b[38;5;28;01mif\u001b[39;00m \u001b[38;5;28mself\u001b[39m\u001b[38;5;241m.\u001b[39m_exception:\n\u001b[0;32m    388\u001b[0m     \u001b[38;5;28;01mtry\u001b[39;00m:\n\u001b[1;32m--> 389\u001b[0m         \u001b[38;5;28;01mraise\u001b[39;00m \u001b[38;5;28mself\u001b[39m\u001b[38;5;241m.\u001b[39m_exception\n\u001b[0;32m    390\u001b[0m     \u001b[38;5;28;01mfinally\u001b[39;00m:\n\u001b[0;32m    391\u001b[0m         \u001b[38;5;66;03m# Break a reference cycle with the exception in self._exception\u001b[39;00m\n\u001b[0;32m    392\u001b[0m         \u001b[38;5;28mself\u001b[39m \u001b[38;5;241m=\u001b[39m \u001b[38;5;28;01mNone\u001b[39;00m\n",
      "\u001b[1;31mBrokenProcessPool\u001b[0m: A process in the process pool was terminated abruptly while the future was running or pending."
     ]
    }
   ],
   "source": [
    "import os\n",
    "import pandas as pd\n",
    "import numpy as np\n",
    "import concurrent.futures\n",
    "from phylib.io.model import load_model\n",
    "from umap import UMAP\n",
    "from sklearn.preprocessing import normalize\n",
    "from matplotlib import pyplot as plt\n",
    "\n",
    "# Constants\n",
    "BASE_DIR = r'.\\test2'\n",
    "RAND_STATE = 42\n",
    "\n",
    "def process_folder(folder):\n",
    "    cluster_info_path = os.path.join(folder, 'phy', 'cluster_info.tsv')\n",
    "    params_path = os.path.join(folder, 'phy', 'params.py')\n",
    "    \n",
    "    # Read the TSV file\n",
    "    try:\n",
    "        cluster_info = pd.read_csv(cluster_info_path, sep='\\t')\n",
    "    except FileNotFoundError:\n",
    "        return None\n",
    "    \n",
    "    good_clusters = np.intersect1d(\n",
    "        cluster_info['cluster_id'][cluster_info['group'] == 'good'],\n",
    "        cluster_info['cluster_id'][cluster_info['fr'] > 0.5]\n",
    "    )\n",
    "    \n",
    "    # Load the TemplateModel\n",
    "    model = load_model(params_path)\n",
    "    \n",
    "    def process_cluster(cluster_id):\n",
    "        waveforms = model.get_cluster_spike_waveforms(cluster_id)[:, :, 0]\n",
    "        return waveforms\n",
    "\n",
    "    # Use ThreadPoolExecutor to handle clusters in parallel\n",
    "    with concurrent.futures.ThreadPoolExecutor() as executor:\n",
    "        waveforms = list(executor.map(process_cluster, good_clusters))\n",
    "    \n",
    "    return waveforms\n",
    "\n",
    "def main():\n",
    "    # Retrieve all recording folders\n",
    "    folders = [os.path.join(BASE_DIR, f) for f in os.listdir(BASE_DIR) if os.path.isdir(os.path.join(BASE_DIR, f))]\n",
    "    \n",
    "    # Process each folder concurrently\n",
    "    with concurrent.futures.ProcessPoolExecutor() as executor:\n",
    "        results = list(executor.map(process_folder, folders))\n",
    "    \n",
    "    # Combine all waveforms into a single array\n",
    "    all_waveforms = [wf for result in results if result for wf in result]\n",
    "    \n",
    "    if not all_waveforms:\n",
    "        print(\"No waveforms found.\")\n",
    "        return\n",
    "\n",
    "    # Normalize waveforms\n",
    "    normWFs_array = np.array([normalize(wf.mean(axis=0).reshape(1, -1), norm='max').squeeze() for wf in all_waveforms])\n",
    "    \n",
    "    # Perform UMAP\n",
    "    reducer = UMAP(random_state=RAND_STATE, n_neighbors=15)\n",
    "    embedding = reducer.fit_transform(normWFs_array)\n",
    "\n",
    "    # Plotting\n",
    "    plt.scatter(embedding[:, 0], embedding[:, 1], alpha=0.5)\n",
    "    plt.title('UMAP Projection of Waveforms')\n",
    "    plt.xlabel('UMAP1')\n",
    "    plt.ylabel('UMAP2')\n",
    "    plt.show()\n",
    "\n",
    "if __name__ == \"__main__\":\n",
    "    main()"
   ]
  },
  {
   "cell_type": "code",
   "execution_count": 2,
   "id": "49d6249c-77f6-452f-bccc-ef4fc3d888bb",
   "metadata": {
    "execution": {
     "iopub.execute_input": "2024-07-09T14:52:59.689764Z",
     "iopub.status.busy": "2024-07-09T14:52:59.689764Z",
     "iopub.status.idle": "2024-07-09T14:59:54.782996Z",
     "shell.execute_reply": "2024-07-09T14:59:54.779831Z",
     "shell.execute_reply.started": "2024-07-09T14:52:59.689764Z"
    }
   },
   "outputs": [
    {
     "data": {
      "image/png": "[encoded data removed]",
      "text/plain": [
       "<Figure size 640x480 with 1 Axes>"
      ]
     },
     "metadata": {},
     "output_type": "display_data"
    }
   ],
   "source": [
    "import os\n",
    "import pandas as pd\n",
    "import numpy as np\n",
    "import concurrent.futures\n",
    "from phylib.io.model import load_model\n",
    "from umap import UMAP\n",
    "from sklearn.preprocessing import normalize\n",
    "from matplotlib import pyplot as plt\n",
    "\n",
    "# Constants\n",
    "BASE_DIR = r'.\\test2'\n",
    "RAND_STATE = 42\n",
    "\n",
    "def process_folder(folder):\n",
    "    cluster_info_path = os.path.join(folder, 'phy', 'cluster_info.tsv')\n",
    "    params_path = os.path.join(folder, 'phy', 'params.py')\n",
    "    \n",
    "    # Read the TSV file\n",
    "    try:\n",
    "        cluster_info = pd.read_csv(cluster_info_path, sep='\\t')\n",
    "    except Exception as e:\n",
    "        print(f\"Error reading {cluster_info_path}: {e}\")\n",
    "        return None\n",
    "    \n",
    "    try:\n",
    "        good_clusters = np.intersect1d(\n",
    "            cluster_info['cluster_id'][cluster_info['group'] == 'good'],\n",
    "            cluster_info['cluster_id'][cluster_info['fr'] > 0.5]\n",
    "        )\n",
    "        \n",
    "        # Load the TemplateModel\n",
    "        model = load_model(params_path)\n",
    "        \n",
    "        waveforms = [model.get_cluster_spike_waveforms(cluster_id)[:, :, 0] for cluster_id in good_clusters]\n",
    "        return waveforms\n",
    "    except Exception as e:\n",
    "        print(f\"Error processing data in {folder}: {e}\")\n",
    "        return None\n",
    "\n",
    "def main():\n",
    "    # Retrieve all recording folders\n",
    "    folders = [os.path.join(BASE_DIR, f) for f in os.listdir(BASE_DIR) if os.path.isdir(os.path.join(BASE_DIR, f))]\n",
    "    \n",
    "    # Process each folder\n",
    "    results = []\n",
    "    with concurrent.futures.ThreadPoolExecutor(max_workers=4) as executor:\n",
    "        for result in executor.map(process_folder, folders):\n",
    "            if result:\n",
    "                results.extend(result)\n",
    "\n",
    "    # Combine all waveforms into a single array\n",
    "    all_waveforms = [wf for wf in results if wf is not None]\n",
    "    \n",
    "    if not all_waveforms:\n",
    "        print(\"No waveforms found.\")\n",
    "        return\n",
    "\n",
    "    # Normalize waveforms\n",
    "    normWFs_array = np.array([normalize(wf.mean(axis=0).reshape(1, -1), norm='max').squeeze() for wf in all_waveforms])\n",
    "    \n",
    "    # Perform UMAP\n",
    "    reducer = UMAP(random_state=RAND_STATE, n_neighbors=15)\n",
    "    embedding = reducer.fit_transform(normWFs_array)\n",
    "\n",
    "    # Plotting\n",
    "    plt.scatter(embedding[:, 0], embedding[:, 1], alpha=0.5)\n",
    "    plt.title('UMAP Projection of Waveforms')\n",
    "    plt.xlabel('UMAP1')\n",
    "    plt.ylabel('UMAP2')\n",
    "    plt.show()\n",
    "\n",
    "if __name__ == \"__main__\":\n",
    "    main()\n"
   ]
  },
  {
   "cell_type": "code",
   "execution_count": null,
   "id": "94453a98-5088-4f47-bf87-72d54e776a82",
   "metadata": {},
   "outputs": [],
   "source": []
  }
 ],
 "metadata": {
  "kernelspec": {
   "display_name": "WaveMAP",
   "language": "python",
   "name": "wavemap"
  },
  "language_info": {
   "codemirror_mode": {
    "name": "ipython",
    "version": 3
   },
   "file_extension": ".py",
   "mimetype": "text/x-python",
   "name": "python",
   "nbconvert_exporter": "python",
   "pygments_lexer": "ipython3",
   "version": "3.8.19"
  }
 },
 "nbformat": 4,
 "nbformat_minor": 5
}
