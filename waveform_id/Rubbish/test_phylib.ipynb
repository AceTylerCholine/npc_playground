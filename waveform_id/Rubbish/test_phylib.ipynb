{
 "cells": [
  {
   "cell_type": "markdown",
   "id": "60c3b54b-c60c-4367-908c-e9be93b76988",
   "metadata": {},
   "source": [
    "# Test Phylib\n",
    "### This is just a playground to test out different functions and features of the `phylib` library, to better understand it\n",
    "### It seems to be able to do similar things to `multirecording_spikeanalysis.py`, but not as directly and requires the entire phy folder, including the recording.dat"
   ]
  },
  {
   "cell_type": "code",
   "execution_count": 1,
   "id": "bb4145d3-aae9-4936-8b32-06b9d2dcdd17",
   "metadata": {
    "execution": {
     "iopub.execute_input": "2024-07-11T19:16:41.388839Z",
     "iopub.status.busy": "2024-07-11T19:16:41.388839Z",
     "iopub.status.idle": "2024-07-11T19:16:44.732604Z",
     "shell.execute_reply": "2024-07-11T19:16:44.729585Z",
     "shell.execute_reply.started": "2024-07-11T19:16:41.388839Z"
    },
    "tags": []
   },
   "outputs": [],
   "source": [
    "import pandas as pd\n",
    "import numpy as np\n",
    "\n",
    "import sys\n",
    "import matplotlib.pyplot as plt\n",
    "from phylib.io.model import load_model\n",
    "from phylib.utils.color import selected_cluster_color"
   ]
  },
  {
   "cell_type": "markdown",
   "id": "3a37a157-6678-448d-bade-ddcb5a85b65c",
   "metadata": {},
   "source": [
    "`phylib` is a library used by Phy"
   ]
  },
  {
   "cell_type": "code",
   "execution_count": 2,
   "id": "bb9991d5-993e-4cd4-b849-be2213fda7ae",
   "metadata": {
    "execution": {
     "iopub.execute_input": "2024-07-11T19:16:44.732604Z",
     "iopub.status.busy": "2024-07-11T19:16:44.732604Z",
     "iopub.status.idle": "2024-07-11T19:16:44.792516Z",
     "shell.execute_reply": "2024-07-11T19:16:44.792516Z",
     "shell.execute_reply.started": "2024-07-11T19:16:44.732604Z"
    },
    "tags": []
   },
   "outputs": [],
   "source": [
    "# Read the TSV file\n",
    "cluster_info = pd.read_csv(r'.\\test1\\20240320_142408_alone_comp_subj_3-1_t6b6_merged.rec\\phy\\cluster_info.tsv', sep='\\t')\n",
    "\n",
    "good_clusters = np.intersect1d(\n",
    "    cluster_info['cluster_id'][cluster_info['group'] == 'good'],\n",
    "    cluster_info['cluster_id'][cluster_info['fr'] > 0.5]\n",
    ")"
   ]
  },
  {
   "cell_type": "markdown",
   "id": "b8b647e6-2136-4faf-b43e-32898f71fd58",
   "metadata": {},
   "source": [
    "`cluster_info.tsv` is essentially just a csv of the table you see when you open Phy"
   ]
  },
  {
   "cell_type": "code",
   "execution_count": 3,
   "id": "4a8ba02b-73b4-4a27-a86e-4effd50d9a18",
   "metadata": {
    "execution": {
     "iopub.execute_input": "2024-07-11T19:16:44.792516Z",
     "iopub.status.busy": "2024-07-11T19:16:44.792516Z",
     "iopub.status.idle": "2024-07-11T19:16:45.184923Z",
     "shell.execute_reply": "2024-07-11T19:16:45.184923Z",
     "shell.execute_reply.started": "2024-07-11T19:16:44.792516Z"
    },
    "tags": []
   },
   "outputs": [],
   "source": [
    "# Directly specify the path to params.py\n",
    "params_path = r'.\\test1\\20240320_142408_alone_comp_subj_3-1_t6b6_merged.rec\\phy\\params.py'\n",
    "\n",
    "# Load the TemplateModel\n",
    "model = load_model(params_path)"
   ]
  },
  {
   "cell_type": "markdown",
   "id": "747eca79-b32f-425d-945b-22f981710477",
   "metadata": {},
   "source": [
    "`params.py` just points to `recording.dat`, and defines the number of channels (32) and sample rate (20 kHz), but is what phylib uses to be able to load a recording with `load_model()`"
   ]
  },
  {
   "cell_type": "code",
   "execution_count": 4,
   "id": "fc35cf69-7f93-415e-a395-b62efbbbe540",
   "metadata": {
    "execution": {
     "iopub.execute_input": "2024-07-11T19:16:45.184923Z",
     "iopub.status.busy": "2024-07-11T19:16:45.184923Z",
     "iopub.status.idle": "2024-07-11T19:18:48.047272Z",
     "shell.execute_reply": "2024-07-11T19:18:48.016021Z",
     "shell.execute_reply.started": "2024-07-11T19:16:45.184923Z"
    },
    "tags": []
   },
   "outputs": [],
   "source": [
    "cluster_waveforms = {}\n",
    "\n",
    "for cluster_id in good_clusters:\n",
    "    # Get the waveforms for the cluster\n",
    "    waveforms = model.get_cluster_spike_waveforms(cluster_id)\n",
    "    \n",
    "    # Get the channel IDs and find the best channel (assuming it's the first one returned by get_cluster_channels)\n",
    "    channel_ids = model.get_cluster_channels(cluster_id)\n",
    "    best_channel = channel_ids[0]\n",
    "    \n",
    "    # Get the waveform for just the best channel. Since the data is already in 40 time points, no subsampling is needed\n",
    "    best_channel_waveforms = waveforms[:, :, 0]  # Since channel_ids[0] is the best channel\n",
    "    # Store the waveforms in the dictionary. \n",
    "    cluster_waveforms[cluster_id] = best_channel_waveforms "
   ]
  },
  {
   "cell_type": "markdown",
   "id": "47fb5ced-2db8-4ab9-98e3-156fbb9ba230",
   "metadata": {},
   "source": [
    "This gets the waveforms for only the channels marked \"good\" on Phy, and `get_cluster_spike_waveforms()` returns a 3-dimensional array that includes all 40 timepoint waveform for every spike for every channel, but channel[0] is always the best channel"
   ]
  },
  {
   "cell_type": "code",
   "execution_count": 5,
   "id": "a7914f62-5115-40a7-954b-d762d55f95fa",
   "metadata": {
    "execution": {
     "iopub.execute_input": "2024-07-11T19:18:48.094568Z",
     "iopub.status.busy": "2024-07-11T19:18:48.078920Z",
     "iopub.status.idle": "2024-07-11T19:18:48.298589Z",
     "shell.execute_reply": "2024-07-11T19:18:48.296584Z",
     "shell.execute_reply.started": "2024-07-11T19:18:48.094568Z"
    },
    "tags": []
   },
   "outputs": [
    {
     "data": {
      "text/plain": [
       "{9: array([[ 0.40537423,  0.9204547 ,  1.3042495 , ...,  2.269646  ,\n",
       "          0.89965886,  0.1729701 ],\n",
       "        [ 1.4716856 , -0.18663864, -1.8644416 , ...,  1.7085094 ,\n",
       "          1.6655885 ,  1.0949929 ],\n",
       "        [ 1.2226917 ,  0.27370277,  0.15729961, ..., -0.11720731,\n",
       "          0.83251476,  1.9278888 ],\n",
       "        ...,\n",
       "        [-0.6192026 , -1.5477538 , -0.3860595 , ...,  2.0028834 ,\n",
       "          3.7053027 ,  0.17694335],\n",
       "        [-1.674623  , -0.97858775, -0.06450201, ...,  1.6264546 ,\n",
       "          0.7814573 ,  0.6139724 ],\n",
       "        [-0.1571035 , -0.70310694, -0.836848  , ...,  2.4313078 ,\n",
       "          1.1730937 ,  1.1040318 ]], dtype=float32),\n",
       " 13: array([[0.74050546, 1.1471487 , 1.1523566 , ..., 2.8801389 , 2.9853294 ,\n",
       "         3.0963612 ],\n",
       "        [0.33376965, 0.1129124 , 0.25598168, ..., 1.8844459 , 2.5375013 ,\n",
       "         3.7338994 ],\n",
       "        [3.7924511 , 3.189696  , 2.8261626 , ..., 5.365091  , 5.273031  ,\n",
       "         4.5386353 ],\n",
       "        ...,\n",
       "        [1.6787068 , 2.0034997 , 2.0164783 , ..., 2.540442  , 2.361846  ,\n",
       "         2.5961041 ],\n",
       "        [2.719232  , 3.0306926 , 2.3892043 , ..., 3.8319478 , 3.7461836 ,\n",
       "         3.3095787 ],\n",
       "        [1.6769528 , 2.0283432 , 2.747551  , ..., 2.2611334 , 2.9865813 ,\n",
       "         3.6893952 ]], dtype=float32),\n",
       " 18: array([[ 1.3493047 ,  0.619357  ,  0.16172056, ..., -1.1463724 ,\n",
       "          0.17650308,  1.0710458 ],\n",
       "        [-1.0457903 , -2.1319501 , -1.8750024 , ...,  2.1727092 ,\n",
       "          0.99982935, -0.33021143],\n",
       "        [ 0.32599217,  0.16503921,  0.27732855, ..., -0.32217443,\n",
       "          0.17236593, -0.05150402],\n",
       "        ...,\n",
       "        [-0.8854631 ,  0.32515067,  0.34736264, ...,  0.65139574,\n",
       "          0.61848736, -0.7566372 ],\n",
       "        [ 1.4612421 ,  1.3895288 ,  0.8098548 , ..., -0.02361186,\n",
       "         -0.3044081 ,  0.2052774 ],\n",
       "        [ 0.39748198,  0.8318121 ,  1.0252188 , ..., -0.1988105 ,\n",
       "         -0.12839423, -0.97113127]], dtype=float32),\n",
       " 20: array([[1.3671987 , 2.082383  , 2.279984  , ..., 2.01403   , 2.8565178 ,\n",
       "         2.8321984 ],\n",
       "        [2.1851344 , 0.8611344 , 0.48307177, ..., 3.4429138 , 3.8160903 ,\n",
       "         3.5087311 ],\n",
       "        [0.7703249 , 1.3822025 , 1.4295958 , ..., 2.7536454 , 2.4123378 ,\n",
       "         2.142502  ],\n",
       "        ...,\n",
       "        [2.0823917 , 1.5850147 , 1.1422516 , ..., 3.053158  , 3.027018  ,\n",
       "         2.632094  ],\n",
       "        [1.1033891 , 1.3484769 , 0.5643724 , ..., 1.630746  , 0.35185224,\n",
       "         0.3892937 ],\n",
       "        [0.9196808 , 1.0014821 , 1.6788155 , ..., 3.6782575 , 3.4006321 ,\n",
       "         3.0454261 ]], dtype=float32),\n",
       " 115: array([[-1.4444315 , -1.8545597 , -0.09212058, ..., -1.3405765 ,\n",
       "         -0.06248673,  0.40132537],\n",
       "        [ 1.0003941 , -0.36613247, -1.5997725 , ...,  0.83614635,\n",
       "         -0.4864529 , -0.65551907],\n",
       "        [ 1.4110906 ,  1.1981518 ,  0.294652  , ...,  1.8336692 ,\n",
       "          1.5985953 ,  0.31652   ],\n",
       "        ...,\n",
       "        [ 0.39812076, -0.14235383, -0.03398512, ...,  1.1683561 ,\n",
       "          1.7905493 ,  1.64884   ],\n",
       "        [ 0.6166638 ,  0.4911649 ,  0.03128317, ..., -0.5051777 ,\n",
       "         -0.07413642,  0.20972052],\n",
       "        [-2.9822803 , -2.7491775 , -1.5092561 , ...,  0.31147656,\n",
       "          0.85704243,  1.6544567 ]], dtype=float32),\n",
       " 117: array([[ 3.0652988e-03,  7.6683294e-03,  2.0962958e-01, ...,\n",
       "          3.4154861e+00,  2.4242194e+00,  2.3850234e+00],\n",
       "        [ 8.5359031e-01,  7.1648288e-01,  1.0315886e+00, ...,\n",
       "          1.2333052e+00,  1.5011677e+00,  7.0454276e-01],\n",
       "        [-7.1695483e-01, -4.2525470e-01, -8.0104136e-01, ...,\n",
       "          1.6927334e+00,  2.1589284e+00,  2.2851896e+00],\n",
       "        ...,\n",
       "        [-1.9302584e+00, -7.6183051e-01,  1.4385498e+00, ...,\n",
       "          2.2544894e+00,  1.2180524e+00,  7.4693960e-01],\n",
       "        [ 3.5493067e-01,  5.8153677e-01,  6.3269429e-02, ...,\n",
       "          2.1838758e+00,  2.3007801e+00,  1.8068649e+00],\n",
       "        [ 1.4697404e+00,  9.6029615e-01,  2.2761877e+00, ...,\n",
       "          1.1059222e+00, -2.0028825e-01, -1.4888754e+00]], dtype=float32),\n",
       " 123: array([[ 1.0744777 ,  0.7188    ,  0.64389545, ...,  2.5328283 ,\n",
       "          3.8838315 ,  3.5077317 ],\n",
       "        [ 1.1351234 ,  1.3261033 ,  0.86495453, ...,  2.5826457 ,\n",
       "          0.31013638, -1.2630208 ],\n",
       "        [ 1.1446444 ,  0.91434515, -0.25099754, ...,  2.8546808 ,\n",
       "          2.0314016 ,  1.3037884 ],\n",
       "        ...,\n",
       "        [-0.28052908,  0.5328332 ,  1.3396878 , ...,  3.1357238 ,\n",
       "          3.9290297 ,  2.8191457 ],\n",
       "        [-0.748173  ,  0.00748   ,  1.3200591 , ...,  0.5118059 ,\n",
       "          0.3104491 ,  1.413636  ],\n",
       "        [ 0.9893955 ,  0.7199041 ,  0.1816968 , ...,  2.0997176 ,\n",
       "          1.7835532 ,  0.7913588 ]], dtype=float32),\n",
       " 150: array([[-0.02409553,  0.6165436 , -0.15685084, ...,  1.3945104 ,\n",
       "          1.4983191 ,  0.4345853 ],\n",
       "        [ 1.0869029 ,  0.2129372 , -0.3564966 , ...,  1.4394896 ,\n",
       "          1.5674856 ,  0.8589264 ],\n",
       "        [ 1.728833  ,  1.2641896 ,  0.5277945 , ...,  0.49169838,\n",
       "          0.740534  ,  0.7883151 ],\n",
       "        ...,\n",
       "        [ 0.938286  ,  0.49765232,  0.82971376, ..., -0.39872736,\n",
       "          1.0802045 ,  1.7850709 ],\n",
       "        [-0.50625694,  0.92818046,  1.5258281 , ...,  0.72846854,\n",
       "          0.834615  ,  0.9635159 ],\n",
       "        [ 2.125998  ,  1.7642605 ,  1.0133661 , ...,  1.7451942 ,\n",
       "          2.5066729 ,  1.793781  ]], dtype=float32),\n",
       " 154: array([[-0.21620075, -1.0463643 , -1.0222704 , ...,  0.7587049 ,\n",
       "          1.358793  ,  0.92648894],\n",
       "        [-1.694932  , -0.6632204 ,  0.57062674, ...,  1.8329808 ,\n",
       "          1.5224836 ,  1.4949642 ],\n",
       "        [ 0.19663939,  0.4132909 ,  0.5936487 , ...,  0.21853998,\n",
       "          0.30196667,  0.73331684],\n",
       "        ...,\n",
       "        [ 0.51378196,  0.05862967, -0.31413653, ...,  0.6675739 ,\n",
       "          0.91107064,  1.9022685 ],\n",
       "        [ 1.6243165 ,  1.0635947 ,  0.22128713, ...,  1.9547985 ,\n",
       "          1.0765884 ,  0.6828854 ],\n",
       "        [-1.0986818 ,  0.36730167,  0.8164876 , ...,  0.89536124,\n",
       "          0.05552766,  0.19552782]], dtype=float32),\n",
       " 190: array([[-0.3583337 , -1.0804446 , -0.22278394, ...,  3.1371636 ,\n",
       "          3.3423917 ,  2.3632755 ],\n",
       "        [ 1.2022593 ,  1.7476974 ,  1.4472492 , ...,  2.7672553 ,\n",
       "          0.4109821 , -0.5041535 ],\n",
       "        [ 2.1082544 ,  2.5640907 ,  2.5658457 , ...,  4.6903186 ,\n",
       "          2.2674372 ,  1.9845983 ],\n",
       "        ...,\n",
       "        [-1.0335972 , -0.75413287,  0.30246025, ...,  2.0324275 ,\n",
       "          1.1653258 ,  0.5028006 ],\n",
       "        [ 0.42619714,  0.4164606 ,  0.72125775, ...,  3.2502782 ,\n",
       "          1.9266436 ,  0.9587769 ],\n",
       "        [ 0.19314732,  1.0925943 ,  1.9621822 , ...,  2.273356  ,\n",
       "          1.926786  ,  1.2775131 ]], dtype=float32)}"
      ]
     },
     "execution_count": 5,
     "metadata": {},
     "output_type": "execute_result"
    }
   ],
   "source": [
    "cluster_waveforms"
   ]
  },
  {
   "cell_type": "code",
   "execution_count": 6,
   "id": "f5dedc9a-1400-4f2e-a251-708523285d5a",
   "metadata": {
    "execution": {
     "iopub.execute_input": "2024-07-11T19:18:48.321842Z",
     "iopub.status.busy": "2024-07-11T19:18:48.320840Z",
     "iopub.status.idle": "2024-07-11T19:18:48.362203Z",
     "shell.execute_reply": "2024-07-11T19:18:48.359213Z",
     "shell.execute_reply.started": "2024-07-11T19:18:48.321842Z"
    },
    "tags": []
   },
   "outputs": [
    {
     "name": "stdout",
     "output_type": "stream",
     "text": [
      "Skipping unit 9 due to unexpected shape: (13768, 40)\n",
      "Skipping unit 13 due to unexpected shape: (6260, 40)\n",
      "Skipping unit 18 due to unexpected shape: (78443, 40)\n",
      "Skipping unit 20 due to unexpected shape: (77825, 40)\n",
      "Skipping unit 115 due to unexpected shape: (13468, 40)\n",
      "Skipping unit 117 due to unexpected shape: (1691, 40)\n",
      "Skipping unit 123 due to unexpected shape: (33886, 40)\n",
      "Skipping unit 150 due to unexpected shape: (5366, 40)\n",
      "Skipping unit 154 due to unexpected shape: (29374, 40)\n",
      "Skipping unit 190 due to unexpected shape: (2437, 40)\n",
      "No valid waveforms to process.\n"
     ]
    }
   ],
   "source": [
    "# Assuming your dictionary is named `cluster_waveforms`\n",
    "# Initialize an empty list to collect waveforms\n",
    "all_waveforms = []\n",
    "\n",
    "# Iterate through each unit/spike_cluster in the dictionary\n",
    "for unit, spikes_3d in cluster_waveforms.items():\n",
    "    # Check the shape of the current array\n",
    "    if spikes_3d.ndim == 3:\n",
    "        # Extract the waveforms from the first channel (index 0)\n",
    "        waveforms_first_channel = spikes_3d[:, :, 0]  # Shape: (number_of_spikes, timepoints)\n",
    "        \n",
    "        # Append these waveforms to the list\n",
    "        all_waveforms.append(waveforms_first_channel)\n",
    "    else:\n",
    "        print(f\"Skipping unit {unit} due to unexpected shape: {spikes_3d.shape}\")\n",
    "\n",
    "# Combine all collected waveforms into a single 2D Numpy array\n",
    "if all_waveforms:\n",
    "    W = np.vstack(all_waveforms)  # Shape: (total_number_of_spikes, timepoints)\n",
    "    print(f\"Combined waveform shape: {W.shape}\")\n",
    "else:\n",
    "    print(\"No valid waveforms to process.\")\n",
    "\n",
    "# Now W is ready to be used for further processing, such as calculating SNR"
   ]
  },
  {
   "cell_type": "code",
   "execution_count": 7,
   "id": "d4b9706c-a032-4190-bc58-50dde299bdfd",
   "metadata": {
    "execution": {
     "iopub.execute_input": "2024-07-11T19:18:48.368744Z",
     "iopub.status.busy": "2024-07-11T19:18:48.366210Z",
     "iopub.status.idle": "2024-07-11T19:18:54.052222Z",
     "shell.execute_reply": "2024-07-11T19:18:54.052222Z",
     "shell.execute_reply.started": "2024-07-11T19:18:48.368744Z"
    },
    "tags": []
   },
   "outputs": [
    {
     "name": "stdout",
     "output_type": "stream",
     "text": [
      "Combined waveform shape: (262518, 40)\n"
     ]
    }
   ],
   "source": [
    "# Assuming your dictionary is named `cluster_waveforms`\n",
    "# Initialize an empty list to collect waveforms\n",
    "all_waveforms = []\n",
    "\n",
    "# Iterate through each unit/spike_cluster in the dictionary\n",
    "for unit, spikes in cluster_waveforms.items():\n",
    "    if spikes.ndim == 2:\n",
    "        # If the array is 2D, use it directly\n",
    "        all_waveforms.append(spikes)\n",
    "    else:\n",
    "        print(f\"Skipping unit {unit} due to unexpected shape: {spikes.shape}\")\n",
    "\n",
    "# Combine all collected waveforms into a single 2D Numpy array\n",
    "if all_waveforms:\n",
    "    W = np.vstack(all_waveforms)  # Shape: (total_number_of_spikes, timepoints)\n",
    "    print(f\"Combined waveform shape: {W.shape}\")\n",
    "else:\n",
    "    print(\"No valid waveforms to process.\")\n",
    "\n",
    "# Now W is ready to be used for further processing, such as calculating SNR"
   ]
  },
  {
   "cell_type": "code",
   "execution_count": 8,
   "id": "a1f12215-c10a-4c42-95a7-ea4720645e5a",
   "metadata": {
    "execution": {
     "iopub.execute_input": "2024-07-11T19:18:54.052222Z",
     "iopub.status.busy": "2024-07-11T19:18:54.052222Z",
     "iopub.status.idle": "2024-07-11T19:18:54.083898Z",
     "shell.execute_reply": "2024-07-11T19:18:54.083898Z",
     "shell.execute_reply.started": "2024-07-11T19:18:54.052222Z"
    },
    "tags": []
   },
   "outputs": [
    {
     "data": {
      "text/plain": [
       "10"
      ]
     },
     "execution_count": 8,
     "metadata": {},
     "output_type": "execute_result"
    }
   ],
   "source": [
    "len(all_waveforms)"
   ]
  },
  {
   "cell_type": "code",
   "execution_count": 9,
   "id": "48bba81c-0d19-408b-ba51-cf5ac18fdae9",
   "metadata": {
    "execution": {
     "iopub.execute_input": "2024-07-11T19:18:54.099548Z",
     "iopub.status.busy": "2024-07-11T19:18:54.083898Z",
     "iopub.status.idle": "2024-07-11T19:18:54.115176Z",
     "shell.execute_reply": "2024-07-11T19:18:54.115176Z",
     "shell.execute_reply.started": "2024-07-11T19:18:54.099548Z"
    },
    "tags": []
   },
   "outputs": [
    {
     "data": {
      "text/plain": [
       "13768"
      ]
     },
     "execution_count": 9,
     "metadata": {},
     "output_type": "execute_result"
    }
   ],
   "source": [
    "len(all_waveforms[0])"
   ]
  },
  {
   "cell_type": "code",
   "execution_count": 10,
   "id": "6e6902e1-5e12-4f1d-9ce7-933420337b4a",
   "metadata": {
    "execution": {
     "iopub.execute_input": "2024-07-11T19:18:54.115176Z",
     "iopub.status.busy": "2024-07-11T19:18:54.115176Z",
     "iopub.status.idle": "2024-07-11T19:18:54.146416Z",
     "shell.execute_reply": "2024-07-11T19:18:54.146416Z",
     "shell.execute_reply.started": "2024-07-11T19:18:54.115176Z"
    },
    "tags": []
   },
   "outputs": [
    {
     "data": {
      "text/plain": [
       "13768"
      ]
     },
     "execution_count": 10,
     "metadata": {},
     "output_type": "execute_result"
    }
   ],
   "source": [
    "len(cluster_waveforms[9])"
   ]
  },
  {
   "cell_type": "code",
   "execution_count": 11,
   "id": "7f15768b-e1c8-43f3-ab02-bbe126ea06f3",
   "metadata": {
    "execution": {
     "iopub.execute_input": "2024-07-11T19:18:54.146416Z",
     "iopub.status.busy": "2024-07-11T19:18:54.146416Z",
     "iopub.status.idle": "2024-07-11T19:18:54.227924Z",
     "shell.execute_reply": "2024-07-11T19:18:54.227924Z",
     "shell.execute_reply.started": "2024-07-11T19:18:54.146416Z"
    },
    "tags": []
   },
   "outputs": [
    {
     "data": {
      "text/plain": [
       "[array([[ 0.40537423,  0.9204547 ,  1.3042495 , ...,  2.269646  ,\n",
       "          0.89965886,  0.1729701 ],\n",
       "        [ 1.4716856 , -0.18663864, -1.8644416 , ...,  1.7085094 ,\n",
       "          1.6655885 ,  1.0949929 ],\n",
       "        [ 1.2226917 ,  0.27370277,  0.15729961, ..., -0.11720731,\n",
       "          0.83251476,  1.9278888 ],\n",
       "        ...,\n",
       "        [-0.6192026 , -1.5477538 , -0.3860595 , ...,  2.0028834 ,\n",
       "          3.7053027 ,  0.17694335],\n",
       "        [-1.674623  , -0.97858775, -0.06450201, ...,  1.6264546 ,\n",
       "          0.7814573 ,  0.6139724 ],\n",
       "        [-0.1571035 , -0.70310694, -0.836848  , ...,  2.4313078 ,\n",
       "          1.1730937 ,  1.1040318 ]], dtype=float32),\n",
       " array([[0.74050546, 1.1471487 , 1.1523566 , ..., 2.8801389 , 2.9853294 ,\n",
       "         3.0963612 ],\n",
       "        [0.33376965, 0.1129124 , 0.25598168, ..., 1.8844459 , 2.5375013 ,\n",
       "         3.7338994 ],\n",
       "        [3.7924511 , 3.189696  , 2.8261626 , ..., 5.365091  , 5.273031  ,\n",
       "         4.5386353 ],\n",
       "        ...,\n",
       "        [1.6787068 , 2.0034997 , 2.0164783 , ..., 2.540442  , 2.361846  ,\n",
       "         2.5961041 ],\n",
       "        [2.719232  , 3.0306926 , 2.3892043 , ..., 3.8319478 , 3.7461836 ,\n",
       "         3.3095787 ],\n",
       "        [1.6769528 , 2.0283432 , 2.747551  , ..., 2.2611334 , 2.9865813 ,\n",
       "         3.6893952 ]], dtype=float32),\n",
       " array([[ 1.3493047 ,  0.619357  ,  0.16172056, ..., -1.1463724 ,\n",
       "          0.17650308,  1.0710458 ],\n",
       "        [-1.0457903 , -2.1319501 , -1.8750024 , ...,  2.1727092 ,\n",
       "          0.99982935, -0.33021143],\n",
       "        [ 0.32599217,  0.16503921,  0.27732855, ..., -0.32217443,\n",
       "          0.17236593, -0.05150402],\n",
       "        ...,\n",
       "        [-0.8854631 ,  0.32515067,  0.34736264, ...,  0.65139574,\n",
       "          0.61848736, -0.7566372 ],\n",
       "        [ 1.4612421 ,  1.3895288 ,  0.8098548 , ..., -0.02361186,\n",
       "         -0.3044081 ,  0.2052774 ],\n",
       "        [ 0.39748198,  0.8318121 ,  1.0252188 , ..., -0.1988105 ,\n",
       "         -0.12839423, -0.97113127]], dtype=float32),\n",
       " array([[1.3671987 , 2.082383  , 2.279984  , ..., 2.01403   , 2.8565178 ,\n",
       "         2.8321984 ],\n",
       "        [2.1851344 , 0.8611344 , 0.48307177, ..., 3.4429138 , 3.8160903 ,\n",
       "         3.5087311 ],\n",
       "        [0.7703249 , 1.3822025 , 1.4295958 , ..., 2.7536454 , 2.4123378 ,\n",
       "         2.142502  ],\n",
       "        ...,\n",
       "        [2.0823917 , 1.5850147 , 1.1422516 , ..., 3.053158  , 3.027018  ,\n",
       "         2.632094  ],\n",
       "        [1.1033891 , 1.3484769 , 0.5643724 , ..., 1.630746  , 0.35185224,\n",
       "         0.3892937 ],\n",
       "        [0.9196808 , 1.0014821 , 1.6788155 , ..., 3.6782575 , 3.4006321 ,\n",
       "         3.0454261 ]], dtype=float32),\n",
       " array([[-1.4444315 , -1.8545597 , -0.09212058, ..., -1.3405765 ,\n",
       "         -0.06248673,  0.40132537],\n",
       "        [ 1.0003941 , -0.36613247, -1.5997725 , ...,  0.83614635,\n",
       "         -0.4864529 , -0.65551907],\n",
       "        [ 1.4110906 ,  1.1981518 ,  0.294652  , ...,  1.8336692 ,\n",
       "          1.5985953 ,  0.31652   ],\n",
       "        ...,\n",
       "        [ 0.39812076, -0.14235383, -0.03398512, ...,  1.1683561 ,\n",
       "          1.7905493 ,  1.64884   ],\n",
       "        [ 0.6166638 ,  0.4911649 ,  0.03128317, ..., -0.5051777 ,\n",
       "         -0.07413642,  0.20972052],\n",
       "        [-2.9822803 , -2.7491775 , -1.5092561 , ...,  0.31147656,\n",
       "          0.85704243,  1.6544567 ]], dtype=float32),\n",
       " array([[ 3.0652988e-03,  7.6683294e-03,  2.0962958e-01, ...,\n",
       "          3.4154861e+00,  2.4242194e+00,  2.3850234e+00],\n",
       "        [ 8.5359031e-01,  7.1648288e-01,  1.0315886e+00, ...,\n",
       "          1.2333052e+00,  1.5011677e+00,  7.0454276e-01],\n",
       "        [-7.1695483e-01, -4.2525470e-01, -8.0104136e-01, ...,\n",
       "          1.6927334e+00,  2.1589284e+00,  2.2851896e+00],\n",
       "        ...,\n",
       "        [-1.9302584e+00, -7.6183051e-01,  1.4385498e+00, ...,\n",
       "          2.2544894e+00,  1.2180524e+00,  7.4693960e-01],\n",
       "        [ 3.5493067e-01,  5.8153677e-01,  6.3269429e-02, ...,\n",
       "          2.1838758e+00,  2.3007801e+00,  1.8068649e+00],\n",
       "        [ 1.4697404e+00,  9.6029615e-01,  2.2761877e+00, ...,\n",
       "          1.1059222e+00, -2.0028825e-01, -1.4888754e+00]], dtype=float32),\n",
       " array([[ 1.0744777 ,  0.7188    ,  0.64389545, ...,  2.5328283 ,\n",
       "          3.8838315 ,  3.5077317 ],\n",
       "        [ 1.1351234 ,  1.3261033 ,  0.86495453, ...,  2.5826457 ,\n",
       "          0.31013638, -1.2630208 ],\n",
       "        [ 1.1446444 ,  0.91434515, -0.25099754, ...,  2.8546808 ,\n",
       "          2.0314016 ,  1.3037884 ],\n",
       "        ...,\n",
       "        [-0.28052908,  0.5328332 ,  1.3396878 , ...,  3.1357238 ,\n",
       "          3.9290297 ,  2.8191457 ],\n",
       "        [-0.748173  ,  0.00748   ,  1.3200591 , ...,  0.5118059 ,\n",
       "          0.3104491 ,  1.413636  ],\n",
       "        [ 0.9893955 ,  0.7199041 ,  0.1816968 , ...,  2.0997176 ,\n",
       "          1.7835532 ,  0.7913588 ]], dtype=float32),\n",
       " array([[-0.02409553,  0.6165436 , -0.15685084, ...,  1.3945104 ,\n",
       "          1.4983191 ,  0.4345853 ],\n",
       "        [ 1.0869029 ,  0.2129372 , -0.3564966 , ...,  1.4394896 ,\n",
       "          1.5674856 ,  0.8589264 ],\n",
       "        [ 1.728833  ,  1.2641896 ,  0.5277945 , ...,  0.49169838,\n",
       "          0.740534  ,  0.7883151 ],\n",
       "        ...,\n",
       "        [ 0.938286  ,  0.49765232,  0.82971376, ..., -0.39872736,\n",
       "          1.0802045 ,  1.7850709 ],\n",
       "        [-0.50625694,  0.92818046,  1.5258281 , ...,  0.72846854,\n",
       "          0.834615  ,  0.9635159 ],\n",
       "        [ 2.125998  ,  1.7642605 ,  1.0133661 , ...,  1.7451942 ,\n",
       "          2.5066729 ,  1.793781  ]], dtype=float32),\n",
       " array([[-0.21620075, -1.0463643 , -1.0222704 , ...,  0.7587049 ,\n",
       "          1.358793  ,  0.92648894],\n",
       "        [-1.694932  , -0.6632204 ,  0.57062674, ...,  1.8329808 ,\n",
       "          1.5224836 ,  1.4949642 ],\n",
       "        [ 0.19663939,  0.4132909 ,  0.5936487 , ...,  0.21853998,\n",
       "          0.30196667,  0.73331684],\n",
       "        ...,\n",
       "        [ 0.51378196,  0.05862967, -0.31413653, ...,  0.6675739 ,\n",
       "          0.91107064,  1.9022685 ],\n",
       "        [ 1.6243165 ,  1.0635947 ,  0.22128713, ...,  1.9547985 ,\n",
       "          1.0765884 ,  0.6828854 ],\n",
       "        [-1.0986818 ,  0.36730167,  0.8164876 , ...,  0.89536124,\n",
       "          0.05552766,  0.19552782]], dtype=float32),\n",
       " array([[-0.3583337 , -1.0804446 , -0.22278394, ...,  3.1371636 ,\n",
       "          3.3423917 ,  2.3632755 ],\n",
       "        [ 1.2022593 ,  1.7476974 ,  1.4472492 , ...,  2.7672553 ,\n",
       "          0.4109821 , -0.5041535 ],\n",
       "        [ 2.1082544 ,  2.5640907 ,  2.5658457 , ...,  4.6903186 ,\n",
       "          2.2674372 ,  1.9845983 ],\n",
       "        ...,\n",
       "        [-1.0335972 , -0.75413287,  0.30246025, ...,  2.0324275 ,\n",
       "          1.1653258 ,  0.5028006 ],\n",
       "        [ 0.42619714,  0.4164606 ,  0.72125775, ...,  3.2502782 ,\n",
       "          1.9266436 ,  0.9587769 ],\n",
       "        [ 0.19314732,  1.0925943 ,  1.9621822 , ...,  2.273356  ,\n",
       "          1.926786  ,  1.2775131 ]], dtype=float32)]"
      ]
     },
     "execution_count": 11,
     "metadata": {},
     "output_type": "execute_result"
    }
   ],
   "source": [
    "all_waveforms"
   ]
  },
  {
   "cell_type": "code",
   "execution_count": 12,
   "id": "4630f290-55dd-435b-a78e-3b2699bfd167",
   "metadata": {
    "execution": {
     "iopub.execute_input": "2024-07-11T19:18:54.227924Z",
     "iopub.status.busy": "2024-07-11T19:18:54.227924Z",
     "iopub.status.idle": "2024-07-11T19:18:54.275315Z",
     "shell.execute_reply": "2024-07-11T19:18:54.274797Z",
     "shell.execute_reply.started": "2024-07-11T19:18:54.227924Z"
    },
    "tags": []
   },
   "outputs": [
    {
     "data": {
      "text/plain": [
       "array([[ 0.40537423,  0.9204547 ,  1.3042495 , ...,  2.269646  ,\n",
       "         0.89965886,  0.1729701 ],\n",
       "       [ 1.4716856 , -0.18663864, -1.8644416 , ...,  1.7085094 ,\n",
       "         1.6655885 ,  1.0949929 ],\n",
       "       [ 1.2226917 ,  0.27370277,  0.15729961, ..., -0.11720731,\n",
       "         0.83251476,  1.9278888 ],\n",
       "       ...,\n",
       "       [-0.6192026 , -1.5477538 , -0.3860595 , ...,  2.0028834 ,\n",
       "         3.7053027 ,  0.17694335],\n",
       "       [-1.674623  , -0.97858775, -0.06450201, ...,  1.6264546 ,\n",
       "         0.7814573 ,  0.6139724 ],\n",
       "       [-0.1571035 , -0.70310694, -0.836848  , ...,  2.4313078 ,\n",
       "         1.1730937 ,  1.1040318 ]], dtype=float32)"
      ]
     },
     "execution_count": 12,
     "metadata": {},
     "output_type": "execute_result"
    }
   ],
   "source": [
    "all_waveforms[0]"
   ]
  },
  {
   "cell_type": "code",
   "execution_count": 13,
   "id": "fb4ed883-3072-4442-a9fd-f6135d77ac1a",
   "metadata": {
    "execution": {
     "iopub.execute_input": "2024-07-11T19:18:54.275315Z",
     "iopub.status.busy": "2024-07-11T19:18:54.275315Z",
     "iopub.status.idle": "2024-07-11T19:18:54.306489Z",
     "shell.execute_reply": "2024-07-11T19:18:54.306489Z",
     "shell.execute_reply.started": "2024-07-11T19:18:54.275315Z"
    },
    "tags": []
   },
   "outputs": [
    {
     "data": {
      "text/plain": [
       "array([  0.40537423,   0.9204547 ,   1.3042495 ,   0.66315186,\n",
       "        -0.83373624,  -1.3520111 ,  -0.45797062,  -0.0220464 ,\n",
       "        -0.36910826,   0.3050875 ,   1.4935703 ,   0.8006043 ,\n",
       "        -0.44051605,   1.1329583 ,   4.469434  ,   7.3652925 ,\n",
       "        10.524259  ,  10.669554  ,   2.2784607 ,  -9.069311  ,\n",
       "       -12.297354  ,  -8.102026  ,  -4.433738  ,  -3.3412938 ,\n",
       "        -3.1506605 ,  -3.1593354 ,  -2.5206325 ,  -1.4534206 ,\n",
       "        -1.2984093 ,  -1.4807814 ,  -0.7342157 ,   0.31443456,\n",
       "         0.7896247 ,   0.92220134,   1.1487566 ,   1.8166375 ,\n",
       "         2.5917692 ,   2.269646  ,   0.89965886,   0.1729701 ],\n",
       "      dtype=float32)"
      ]
     },
     "execution_count": 13,
     "metadata": {},
     "output_type": "execute_result"
    }
   ],
   "source": [
    "all_waveforms[0][0]"
   ]
  },
  {
   "cell_type": "code",
   "execution_count": 14,
   "id": "b53a3dd5-7a65-4db4-8b67-f2a615aafe2e",
   "metadata": {
    "execution": {
     "iopub.execute_input": "2024-07-11T19:18:54.306489Z",
     "iopub.status.busy": "2024-07-11T19:18:54.306489Z",
     "iopub.status.idle": "2024-07-11T19:18:54.337735Z",
     "shell.execute_reply": "2024-07-11T19:18:54.337735Z",
     "shell.execute_reply.started": "2024-07-11T19:18:54.306489Z"
    },
    "tags": []
   },
   "outputs": [
    {
     "data": {
      "text/plain": [
       "40"
      ]
     },
     "execution_count": 14,
     "metadata": {},
     "output_type": "execute_result"
    }
   ],
   "source": [
    "len(all_waveforms[0][0])"
   ]
  },
  {
   "cell_type": "code",
   "execution_count": 15,
   "id": "e1914429-9cac-4ad6-a7db-e9a6cae3706b",
   "metadata": {
    "execution": {
     "iopub.execute_input": "2024-07-11T19:18:54.337735Z",
     "iopub.status.busy": "2024-07-11T19:18:54.337735Z",
     "iopub.status.idle": "2024-07-11T19:18:54.368995Z",
     "shell.execute_reply": "2024-07-11T19:18:54.368995Z",
     "shell.execute_reply.started": "2024-07-11T19:18:54.337735Z"
    },
    "tags": []
   },
   "outputs": [
    {
     "data": {
      "text/plain": [
       "array([[ 0.40537423,  0.9204547 ,  1.3042495 , ...,  2.269646  ,\n",
       "         0.89965886,  0.1729701 ],\n",
       "       [ 1.4716856 , -0.18663864, -1.8644416 , ...,  1.7085094 ,\n",
       "         1.6655885 ,  1.0949929 ],\n",
       "       [ 1.2226917 ,  0.27370277,  0.15729961, ..., -0.11720731,\n",
       "         0.83251476,  1.9278888 ],\n",
       "       ...,\n",
       "       [-0.6192026 , -1.5477538 , -0.3860595 , ...,  2.0028834 ,\n",
       "         3.7053027 ,  0.17694335],\n",
       "       [-1.674623  , -0.97858775, -0.06450201, ...,  1.6264546 ,\n",
       "         0.7814573 ,  0.6139724 ],\n",
       "       [-0.1571035 , -0.70310694, -0.836848  , ...,  2.4313078 ,\n",
       "         1.1730937 ,  1.1040318 ]], dtype=float32)"
      ]
     },
     "execution_count": 15,
     "metadata": {},
     "output_type": "execute_result"
    }
   ],
   "source": [
    "cluster_waveforms[9]"
   ]
  },
  {
   "cell_type": "code",
   "execution_count": 16,
   "id": "bbb001a8-4b12-4abd-a402-bddc5b135737",
   "metadata": {
    "execution": {
     "iopub.execute_input": "2024-07-11T19:18:54.375521Z",
     "iopub.status.busy": "2024-07-11T19:18:54.375521Z",
     "iopub.status.idle": "2024-07-11T19:18:54.416305Z",
     "shell.execute_reply": "2024-07-11T19:18:54.416305Z",
     "shell.execute_reply.started": "2024-07-11T19:18:54.375521Z"
    },
    "tags": []
   },
   "outputs": [
    {
     "data": {
      "text/plain": [
       "13768"
      ]
     },
     "execution_count": 16,
     "metadata": {},
     "output_type": "execute_result"
    }
   ],
   "source": [
    "len(cluster_waveforms[9])"
   ]
  },
  {
   "cell_type": "code",
   "execution_count": 17,
   "id": "27f25e61-2103-4cb4-95ed-ef556e67ca3e",
   "metadata": {
    "execution": {
     "iopub.execute_input": "2024-07-11T19:18:54.416305Z",
     "iopub.status.busy": "2024-07-11T19:18:54.416305Z",
     "iopub.status.idle": "2024-07-11T19:18:54.447557Z",
     "shell.execute_reply": "2024-07-11T19:18:54.447557Z",
     "shell.execute_reply.started": "2024-07-11T19:18:54.416305Z"
    },
    "tags": []
   },
   "outputs": [
    {
     "data": {
      "text/plain": [
       "array([  0.40537423,   0.9204547 ,   1.3042495 ,   0.66315186,\n",
       "        -0.83373624,  -1.3520111 ,  -0.45797062,  -0.0220464 ,\n",
       "        -0.36910826,   0.3050875 ,   1.4935703 ,   0.8006043 ,\n",
       "        -0.44051605,   1.1329583 ,   4.469434  ,   7.3652925 ,\n",
       "        10.524259  ,  10.669554  ,   2.2784607 ,  -9.069311  ,\n",
       "       -12.297354  ,  -8.102026  ,  -4.433738  ,  -3.3412938 ,\n",
       "        -3.1506605 ,  -3.1593354 ,  -2.5206325 ,  -1.4534206 ,\n",
       "        -1.2984093 ,  -1.4807814 ,  -0.7342157 ,   0.31443456,\n",
       "         0.7896247 ,   0.92220134,   1.1487566 ,   1.8166375 ,\n",
       "         2.5917692 ,   2.269646  ,   0.89965886,   0.1729701 ],\n",
       "      dtype=float32)"
      ]
     },
     "execution_count": 17,
     "metadata": {},
     "output_type": "execute_result"
    }
   ],
   "source": [
    "cluster_waveforms[9][0]"
   ]
  },
  {
   "cell_type": "code",
   "execution_count": 18,
   "id": "b5bf5b63-27ee-408d-bd45-eca958cabf0c",
   "metadata": {
    "execution": {
     "iopub.execute_input": "2024-07-11T19:18:54.447557Z",
     "iopub.status.busy": "2024-07-11T19:18:54.447557Z",
     "iopub.status.idle": "2024-07-11T19:18:54.479225Z",
     "shell.execute_reply": "2024-07-11T19:18:54.479225Z",
     "shell.execute_reply.started": "2024-07-11T19:18:54.447557Z"
    },
    "tags": []
   },
   "outputs": [
    {
     "data": {
      "text/plain": [
       "40"
      ]
     },
     "execution_count": 18,
     "metadata": {},
     "output_type": "execute_result"
    }
   ],
   "source": [
    "len(cluster_waveforms[9][0])"
   ]
  },
  {
   "cell_type": "code",
   "execution_count": 19,
   "id": "00878c6e-935d-4cd3-b055-02eccf4057df",
   "metadata": {
    "execution": {
     "iopub.execute_input": "2024-07-11T19:18:54.479225Z",
     "iopub.status.busy": "2024-07-11T19:18:54.479225Z",
     "iopub.status.idle": "2024-07-11T19:18:54.510493Z",
     "shell.execute_reply": "2024-07-11T19:18:54.510493Z",
     "shell.execute_reply.started": "2024-07-11T19:18:54.479225Z"
    },
    "tags": []
   },
   "outputs": [
    {
     "data": {
      "text/plain": [
       "5366"
      ]
     },
     "execution_count": 19,
     "metadata": {},
     "output_type": "execute_result"
    }
   ],
   "source": [
    "len(cluster_waveforms[150])"
   ]
  },
  {
   "cell_type": "code",
   "execution_count": 20,
   "id": "2259da64-b91f-4acd-bd57-39c6e7f29ab5",
   "metadata": {
    "execution": {
     "iopub.execute_input": "2024-07-11T19:18:54.510493Z",
     "iopub.status.busy": "2024-07-11T19:18:54.510493Z",
     "iopub.status.idle": "2024-07-11T19:18:54.541745Z",
     "shell.execute_reply": "2024-07-11T19:18:54.541745Z",
     "shell.execute_reply.started": "2024-07-11T19:18:54.510493Z"
    },
    "tags": []
   },
   "outputs": [
    {
     "data": {
      "text/plain": [
       "6260"
      ]
     },
     "execution_count": 20,
     "metadata": {},
     "output_type": "execute_result"
    }
   ],
   "source": [
    "len(all_waveforms[1])"
   ]
  },
  {
   "cell_type": "code",
   "execution_count": 21,
   "id": "073e6d5c-5d92-42b7-862c-7debc2af57e3",
   "metadata": {
    "execution": {
     "iopub.execute_input": "2024-07-11T19:18:54.557373Z",
     "iopub.status.busy": "2024-07-11T19:18:54.557373Z",
     "iopub.status.idle": "2024-07-11T19:18:54.589027Z",
     "shell.execute_reply": "2024-07-11T19:18:54.589027Z",
     "shell.execute_reply.started": "2024-07-11T19:18:54.557373Z"
    },
    "tags": []
   },
   "outputs": [
    {
     "data": {
      "text/plain": [
       "78443"
      ]
     },
     "execution_count": 21,
     "metadata": {},
     "output_type": "execute_result"
    }
   ],
   "source": [
    "len(all_waveforms[2])"
   ]
  },
  {
   "cell_type": "code",
   "execution_count": 22,
   "id": "3114c6a0-82dc-4a2f-84ce-99f87dff6589",
   "metadata": {
    "execution": {
     "iopub.execute_input": "2024-07-11T19:18:54.589027Z",
     "iopub.status.busy": "2024-07-11T19:18:54.589027Z",
     "iopub.status.idle": "2024-07-11T19:18:55.028377Z",
     "shell.execute_reply": "2024-07-11T19:18:55.028377Z",
     "shell.execute_reply.started": "2024-07-11T19:18:54.589027Z"
    },
    "tags": []
   },
   "outputs": [
    {
     "name": "stdout",
     "output_type": "stream",
     "text": [
      "Combined waveform shape: (262518, 40)\n",
      "Signal-to-Noise Ratio (SNR): 3.0603712211149254\n"
     ]
    }
   ],
   "source": [
    "# Function to pad arrays to the same number of columns with NaNs\n",
    "def pad_array(arr, max_length):\n",
    "    pad_width = max_length - arr.shape[1]\n",
    "    if pad_width > 0:\n",
    "        return np.pad(arr, ((0, 0), (0, pad_width)), mode='constant', constant_values=np.nan)\n",
    "    return arr\n",
    "\n",
    "# Assuming your dictionary is named `cluster_waveforms`\n",
    "# Initialize an empty list to collect waveforms\n",
    "all_waveforms = []\n",
    "\n",
    "# Determine the maximum number of timepoints across all clusters\n",
    "max_timepoints = max(spikes.shape[1] for spikes in cluster_waveforms.values() if spikes.ndim == 2)\n",
    "\n",
    "# Iterate through each unit/spike_cluster in the dictionary\n",
    "for unit, spikes in cluster_waveforms.items():\n",
    "    if spikes.ndim == 2:\n",
    "        # Pad the array to the maximum number of timepoints\n",
    "        padded_spikes = pad_array(spikes, max_timepoints)\n",
    "        all_waveforms.append(padded_spikes)\n",
    "    else:\n",
    "        print(f\"Skipping unit {unit} due to unexpected shape: {spikes.shape}\")\n",
    "\n",
    "# Combine all collected waveforms into a single 2D Numpy array\n",
    "if all_waveforms:\n",
    "    W = np.vstack(all_waveforms)  # Shape: (total_number_of_spikes, max_timepoints)\n",
    "    print(f\"Combined waveform shape: {W.shape}\")\n",
    "\n",
    "    # Calculate the mean waveform across all spikes, ignoring NaNs\n",
    "    W_bar = np.nanmean(W, axis=0)\n",
    "\n",
    "    # Calculate the signal amplitude (max - min of the mean waveform), ignoring NaNs\n",
    "    sig_amp = np.nanmax(W_bar) - np.nanmin(W_bar)\n",
    "\n",
    "    # Subtract the mean waveform from each spike to get the noise\n",
    "    noise = W - np.tile(W_bar, (np.shape(W)[0], 1))\n",
    "\n",
    "    # Calculate the signal-to-noise ratio, ignoring NaNs\n",
    "    snr = sig_amp / (2 * np.nanstd(noise.flatten()))\n",
    "    \n",
    "    print(f\"Signal-to-Noise Ratio (SNR): {snr}\")\n",
    "else:\n",
    "    print(\"No valid waveforms to process.\")"
   ]
  },
  {
   "cell_type": "code",
   "execution_count": 23,
   "id": "701a2919-321f-428b-8577-de3e70916ef1",
   "metadata": {
    "execution": {
     "iopub.execute_input": "2024-07-11T19:18:55.028377Z",
     "iopub.status.busy": "2024-07-11T19:18:55.028377Z",
     "iopub.status.idle": "2024-07-11T19:18:55.624832Z",
     "shell.execute_reply": "2024-07-11T19:18:55.624832Z",
     "shell.execute_reply.started": "2024-07-11T19:18:55.028377Z"
    },
    "tags": []
   },
   "outputs": [
    {
     "name": "stdout",
     "output_type": "stream",
     "text": [
      "Filtered waveform shape: (257152, 40)\n",
      "Waveform 0 SNR: 6.2093730912001135\n",
      "Waveform 1 SNR: 7.192345780132867\n",
      "Waveform 2 SNR: 5.006380243680825\n",
      "Waveform 3 SNR: 6.128031714773328\n",
      "Waveform 4 SNR: 3.4471185002757503\n",
      "Waveform 5 SNR: 4.568458520622393\n",
      "Waveform 6 SNR: 5.476385349031534\n",
      "Waveform 7 SNR: 2.5879878802736367\n",
      "Waveform 8 SNR: 4.649149235301674\n",
      "Waveform 9 SNR: 7.711252008938313\n"
     ]
    }
   ],
   "source": [
    "# Assuming you already have all_waveforms as a list of 2D arrays\n",
    "# Initialize an empty list to collect waveforms with SNR >= 3\n",
    "no_noise_waveforms = []\n",
    "\n",
    "# Function to calculate SNR for a given 2D array\n",
    "def calculate_snr(waveforms):\n",
    "    W_bar = np.nanmean(waveforms, axis=0)\n",
    "    sig_amp = np.nanmax(W_bar) - np.nanmin(W_bar)\n",
    "    noise = waveforms - np.tile(W_bar, (waveforms.shape[0], 1))\n",
    "    snr = sig_amp / (2 * np.nanstd(noise.flatten()))\n",
    "    return snr\n",
    "\n",
    "# Determine the maximum number of timepoints across all waveforms\n",
    "max_timepoints = max(waveforms.shape[1] for waveforms in all_waveforms)\n",
    "\n",
    "# Pad arrays to the maximum number of timepoints with NaNs\n",
    "padded_waveforms = [np.pad(waveforms, ((0, 0), (0, max_timepoints - waveforms.shape[1])), mode='constant', constant_values=np.nan)\n",
    "                    for waveforms in all_waveforms]\n",
    "\n",
    "# Filter waveforms with SNR >= 3\n",
    "for waveforms in padded_waveforms:\n",
    "    snr = calculate_snr(waveforms)\n",
    "    if snr >= 3:\n",
    "        no_noise_waveforms.append(waveforms)\n",
    "\n",
    "# Combine the filtered waveforms into a single 2D Numpy array if any are found\n",
    "if no_noise_waveforms:\n",
    "    filtered_W = np.vstack(no_noise_waveforms)\n",
    "    print(f\"Filtered waveform shape: {filtered_W.shape}\")\n",
    "else:\n",
    "    print(\"No waveforms with SNR >= 3 were found.\")\n",
    "\n",
    "# For debugging and display purposes, you can also print the SNR values of all waveforms\n",
    "for i, waveforms in enumerate(padded_waveforms):\n",
    "    snr = calculate_snr(waveforms)\n",
    "    print(f\"Waveform {i} SNR: {snr}\")"
   ]
  },
  {
   "cell_type": "code",
   "execution_count": 24,
   "id": "2cddd2e9-c231-475d-97e8-780b06009aa8",
   "metadata": {
    "execution": {
     "iopub.execute_input": "2024-07-11T19:18:55.624832Z",
     "iopub.status.busy": "2024-07-11T19:18:55.624832Z",
     "iopub.status.idle": "2024-07-11T19:18:55.656082Z",
     "shell.execute_reply": "2024-07-11T19:18:55.656082Z",
     "shell.execute_reply.started": "2024-07-11T19:18:55.624832Z"
    },
    "tags": []
   },
   "outputs": [
    {
     "data": {
      "text/plain": [
       "9"
      ]
     },
     "execution_count": 24,
     "metadata": {},
     "output_type": "execute_result"
    }
   ],
   "source": [
    "len(no_noise_waveforms)"
   ]
  },
  {
   "cell_type": "code",
   "execution_count": 25,
   "id": "f789dd30-507c-44cd-8382-f5bf2b7e0197",
   "metadata": {
    "execution": {
     "iopub.execute_input": "2024-07-11T19:18:55.656082Z",
     "iopub.status.busy": "2024-07-11T19:18:55.656082Z",
     "iopub.status.idle": "2024-07-11T19:18:55.687740Z",
     "shell.execute_reply": "2024-07-11T19:18:55.687740Z",
     "shell.execute_reply.started": "2024-07-11T19:18:55.656082Z"
    },
    "tags": []
   },
   "outputs": [
    {
     "data": {
      "text/plain": [
       "10"
      ]
     },
     "execution_count": 25,
     "metadata": {},
     "output_type": "execute_result"
    }
   ],
   "source": [
    "len(all_waveforms)"
   ]
  },
  {
   "cell_type": "code",
   "execution_count": 26,
   "id": "852e5140-25ae-43f3-8137-248a3310eb4d",
   "metadata": {
    "execution": {
     "iopub.execute_input": "2024-07-11T19:18:55.687740Z",
     "iopub.status.busy": "2024-07-11T19:18:55.687740Z",
     "iopub.status.idle": "2024-07-11T19:18:55.719010Z",
     "shell.execute_reply": "2024-07-11T19:18:55.719010Z",
     "shell.execute_reply.started": "2024-07-11T19:18:55.687740Z"
    }
   },
   "outputs": [
    {
     "data": {
      "text/plain": [
       "{9: array([[ 0.40537423,  0.9204547 ,  1.3042495 , ...,  2.269646  ,\n",
       "          0.89965886,  0.1729701 ],\n",
       "        [ 1.4716856 , -0.18663864, -1.8644416 , ...,  1.7085094 ,\n",
       "          1.6655885 ,  1.0949929 ],\n",
       "        [ 1.2226917 ,  0.27370277,  0.15729961, ..., -0.11720731,\n",
       "          0.83251476,  1.9278888 ],\n",
       "        ...,\n",
       "        [-0.6192026 , -1.5477538 , -0.3860595 , ...,  2.0028834 ,\n",
       "          3.7053027 ,  0.17694335],\n",
       "        [-1.674623  , -0.97858775, -0.06450201, ...,  1.6264546 ,\n",
       "          0.7814573 ,  0.6139724 ],\n",
       "        [-0.1571035 , -0.70310694, -0.836848  , ...,  2.4313078 ,\n",
       "          1.1730937 ,  1.1040318 ]], dtype=float32),\n",
       " 13: array([[0.74050546, 1.1471487 , 1.1523566 , ..., 2.8801389 , 2.9853294 ,\n",
       "         3.0963612 ],\n",
       "        [0.33376965, 0.1129124 , 0.25598168, ..., 1.8844459 , 2.5375013 ,\n",
       "         3.7338994 ],\n",
       "        [3.7924511 , 3.189696  , 2.8261626 , ..., 5.365091  , 5.273031  ,\n",
       "         4.5386353 ],\n",
       "        ...,\n",
       "        [1.6787068 , 2.0034997 , 2.0164783 , ..., 2.540442  , 2.361846  ,\n",
       "         2.5961041 ],\n",
       "        [2.719232  , 3.0306926 , 2.3892043 , ..., 3.8319478 , 3.7461836 ,\n",
       "         3.3095787 ],\n",
       "        [1.6769528 , 2.0283432 , 2.747551  , ..., 2.2611334 , 2.9865813 ,\n",
       "         3.6893952 ]], dtype=float32),\n",
       " 18: array([[ 1.3493047 ,  0.619357  ,  0.16172056, ..., -1.1463724 ,\n",
       "          0.17650308,  1.0710458 ],\n",
       "        [-1.0457903 , -2.1319501 , -1.8750024 , ...,  2.1727092 ,\n",
       "          0.99982935, -0.33021143],\n",
       "        [ 0.32599217,  0.16503921,  0.27732855, ..., -0.32217443,\n",
       "          0.17236593, -0.05150402],\n",
       "        ...,\n",
       "        [-0.8854631 ,  0.32515067,  0.34736264, ...,  0.65139574,\n",
       "          0.61848736, -0.7566372 ],\n",
       "        [ 1.4612421 ,  1.3895288 ,  0.8098548 , ..., -0.02361186,\n",
       "         -0.3044081 ,  0.2052774 ],\n",
       "        [ 0.39748198,  0.8318121 ,  1.0252188 , ..., -0.1988105 ,\n",
       "         -0.12839423, -0.97113127]], dtype=float32),\n",
       " 20: array([[1.3671987 , 2.082383  , 2.279984  , ..., 2.01403   , 2.8565178 ,\n",
       "         2.8321984 ],\n",
       "        [2.1851344 , 0.8611344 , 0.48307177, ..., 3.4429138 , 3.8160903 ,\n",
       "         3.5087311 ],\n",
       "        [0.7703249 , 1.3822025 , 1.4295958 , ..., 2.7536454 , 2.4123378 ,\n",
       "         2.142502  ],\n",
       "        ...,\n",
       "        [2.0823917 , 1.5850147 , 1.1422516 , ..., 3.053158  , 3.027018  ,\n",
       "         2.632094  ],\n",
       "        [1.1033891 , 1.3484769 , 0.5643724 , ..., 1.630746  , 0.35185224,\n",
       "         0.3892937 ],\n",
       "        [0.9196808 , 1.0014821 , 1.6788155 , ..., 3.6782575 , 3.4006321 ,\n",
       "         3.0454261 ]], dtype=float32),\n",
       " 115: array([[-1.4444315 , -1.8545597 , -0.09212058, ..., -1.3405765 ,\n",
       "         -0.06248673,  0.40132537],\n",
       "        [ 1.0003941 , -0.36613247, -1.5997725 , ...,  0.83614635,\n",
       "         -0.4864529 , -0.65551907],\n",
       "        [ 1.4110906 ,  1.1981518 ,  0.294652  , ...,  1.8336692 ,\n",
       "          1.5985953 ,  0.31652   ],\n",
       "        ...,\n",
       "        [ 0.39812076, -0.14235383, -0.03398512, ...,  1.1683561 ,\n",
       "          1.7905493 ,  1.64884   ],\n",
       "        [ 0.6166638 ,  0.4911649 ,  0.03128317, ..., -0.5051777 ,\n",
       "         -0.07413642,  0.20972052],\n",
       "        [-2.9822803 , -2.7491775 , -1.5092561 , ...,  0.31147656,\n",
       "          0.85704243,  1.6544567 ]], dtype=float32),\n",
       " 117: array([[ 3.0652988e-03,  7.6683294e-03,  2.0962958e-01, ...,\n",
       "          3.4154861e+00,  2.4242194e+00,  2.3850234e+00],\n",
       "        [ 8.5359031e-01,  7.1648288e-01,  1.0315886e+00, ...,\n",
       "          1.2333052e+00,  1.5011677e+00,  7.0454276e-01],\n",
       "        [-7.1695483e-01, -4.2525470e-01, -8.0104136e-01, ...,\n",
       "          1.6927334e+00,  2.1589284e+00,  2.2851896e+00],\n",
       "        ...,\n",
       "        [-1.9302584e+00, -7.6183051e-01,  1.4385498e+00, ...,\n",
       "          2.2544894e+00,  1.2180524e+00,  7.4693960e-01],\n",
       "        [ 3.5493067e-01,  5.8153677e-01,  6.3269429e-02, ...,\n",
       "          2.1838758e+00,  2.3007801e+00,  1.8068649e+00],\n",
       "        [ 1.4697404e+00,  9.6029615e-01,  2.2761877e+00, ...,\n",
       "          1.1059222e+00, -2.0028825e-01, -1.4888754e+00]], dtype=float32),\n",
       " 123: array([[ 1.0744777 ,  0.7188    ,  0.64389545, ...,  2.5328283 ,\n",
       "          3.8838315 ,  3.5077317 ],\n",
       "        [ 1.1351234 ,  1.3261033 ,  0.86495453, ...,  2.5826457 ,\n",
       "          0.31013638, -1.2630208 ],\n",
       "        [ 1.1446444 ,  0.91434515, -0.25099754, ...,  2.8546808 ,\n",
       "          2.0314016 ,  1.3037884 ],\n",
       "        ...,\n",
       "        [-0.28052908,  0.5328332 ,  1.3396878 , ...,  3.1357238 ,\n",
       "          3.9290297 ,  2.8191457 ],\n",
       "        [-0.748173  ,  0.00748   ,  1.3200591 , ...,  0.5118059 ,\n",
       "          0.3104491 ,  1.413636  ],\n",
       "        [ 0.9893955 ,  0.7199041 ,  0.1816968 , ...,  2.0997176 ,\n",
       "          1.7835532 ,  0.7913588 ]], dtype=float32),\n",
       " 150: array([[-0.02409553,  0.6165436 , -0.15685084, ...,  1.3945104 ,\n",
       "          1.4983191 ,  0.4345853 ],\n",
       "        [ 1.0869029 ,  0.2129372 , -0.3564966 , ...,  1.4394896 ,\n",
       "          1.5674856 ,  0.8589264 ],\n",
       "        [ 1.728833  ,  1.2641896 ,  0.5277945 , ...,  0.49169838,\n",
       "          0.740534  ,  0.7883151 ],\n",
       "        ...,\n",
       "        [ 0.938286  ,  0.49765232,  0.82971376, ..., -0.39872736,\n",
       "          1.0802045 ,  1.7850709 ],\n",
       "        [-0.50625694,  0.92818046,  1.5258281 , ...,  0.72846854,\n",
       "          0.834615  ,  0.9635159 ],\n",
       "        [ 2.125998  ,  1.7642605 ,  1.0133661 , ...,  1.7451942 ,\n",
       "          2.5066729 ,  1.793781  ]], dtype=float32),\n",
       " 154: array([[-0.21620075, -1.0463643 , -1.0222704 , ...,  0.7587049 ,\n",
       "          1.358793  ,  0.92648894],\n",
       "        [-1.694932  , -0.6632204 ,  0.57062674, ...,  1.8329808 ,\n",
       "          1.5224836 ,  1.4949642 ],\n",
       "        [ 0.19663939,  0.4132909 ,  0.5936487 , ...,  0.21853998,\n",
       "          0.30196667,  0.73331684],\n",
       "        ...,\n",
       "        [ 0.51378196,  0.05862967, -0.31413653, ...,  0.6675739 ,\n",
       "          0.91107064,  1.9022685 ],\n",
       "        [ 1.6243165 ,  1.0635947 ,  0.22128713, ...,  1.9547985 ,\n",
       "          1.0765884 ,  0.6828854 ],\n",
       "        [-1.0986818 ,  0.36730167,  0.8164876 , ...,  0.89536124,\n",
       "          0.05552766,  0.19552782]], dtype=float32),\n",
       " 190: array([[-0.3583337 , -1.0804446 , -0.22278394, ...,  3.1371636 ,\n",
       "          3.3423917 ,  2.3632755 ],\n",
       "        [ 1.2022593 ,  1.7476974 ,  1.4472492 , ...,  2.7672553 ,\n",
       "          0.4109821 , -0.5041535 ],\n",
       "        [ 2.1082544 ,  2.5640907 ,  2.5658457 , ...,  4.6903186 ,\n",
       "          2.2674372 ,  1.9845983 ],\n",
       "        ...,\n",
       "        [-1.0335972 , -0.75413287,  0.30246025, ...,  2.0324275 ,\n",
       "          1.1653258 ,  0.5028006 ],\n",
       "        [ 0.42619714,  0.4164606 ,  0.72125775, ...,  3.2502782 ,\n",
       "          1.9266436 ,  0.9587769 ],\n",
       "        [ 0.19314732,  1.0925943 ,  1.9621822 , ...,  2.273356  ,\n",
       "          1.926786  ,  1.2775131 ]], dtype=float32)}"
      ]
     },
     "execution_count": 26,
     "metadata": {},
     "output_type": "execute_result"
    }
   ],
   "source": [
    "cluster_waveforms"
   ]
  },
  {
   "cell_type": "code",
   "execution_count": 27,
   "id": "340088d8-689a-48c7-b580-3b5d4df02a72",
   "metadata": {
    "execution": {
     "iopub.execute_input": "2024-07-11T19:18:55.719010Z",
     "iopub.status.busy": "2024-07-11T19:18:55.719010Z",
     "iopub.status.idle": "2024-07-11T19:18:55.750255Z",
     "shell.execute_reply": "2024-07-11T19:18:55.750255Z",
     "shell.execute_reply.started": "2024-07-11T19:18:55.719010Z"
    }
   },
   "outputs": [
    {
     "data": {
      "text/plain": [
       "array([[ 0.40537423,  0.9204547 ,  1.3042495 , ...,  2.269646  ,\n",
       "         0.89965886,  0.1729701 ],\n",
       "       [ 1.4716856 , -0.18663864, -1.8644416 , ...,  1.7085094 ,\n",
       "         1.6655885 ,  1.0949929 ],\n",
       "       [ 1.2226917 ,  0.27370277,  0.15729961, ..., -0.11720731,\n",
       "         0.83251476,  1.9278888 ],\n",
       "       ...,\n",
       "       [-0.6192026 , -1.5477538 , -0.3860595 , ...,  2.0028834 ,\n",
       "         3.7053027 ,  0.17694335],\n",
       "       [-1.674623  , -0.97858775, -0.06450201, ...,  1.6264546 ,\n",
       "         0.7814573 ,  0.6139724 ],\n",
       "       [-0.1571035 , -0.70310694, -0.836848  , ...,  2.4313078 ,\n",
       "         1.1730937 ,  1.1040318 ]], dtype=float32)"
      ]
     },
     "execution_count": 27,
     "metadata": {},
     "output_type": "execute_result"
    }
   ],
   "source": [
    "cluster_waveforms[9]"
   ]
  },
  {
   "cell_type": "code",
   "execution_count": 28,
   "id": "780772aa-2c19-4f0e-a5ed-c439b407b6d0",
   "metadata": {
    "execution": {
     "iopub.execute_input": "2024-07-11T19:18:55.750255Z",
     "iopub.status.busy": "2024-07-11T19:18:55.750255Z",
     "iopub.status.idle": "2024-07-11T19:18:55.781925Z",
     "shell.execute_reply": "2024-07-11T19:18:55.781925Z",
     "shell.execute_reply.started": "2024-07-11T19:18:55.750255Z"
    }
   },
   "outputs": [
    {
     "data": {
      "text/plain": [
       "10"
      ]
     },
     "execution_count": 28,
     "metadata": {},
     "output_type": "execute_result"
    }
   ],
   "source": [
    "len(cluster_waveforms)"
   ]
  },
  {
   "cell_type": "code",
   "execution_count": 29,
   "id": "9112b7bc-45ae-445b-9021-f666c4058409",
   "metadata": {
    "execution": {
     "iopub.execute_input": "2024-07-11T19:18:55.781925Z",
     "iopub.status.busy": "2024-07-11T19:18:55.781925Z",
     "iopub.status.idle": "2024-07-11T19:18:55.813198Z",
     "shell.execute_reply": "2024-07-11T19:18:55.813198Z",
     "shell.execute_reply.started": "2024-07-11T19:18:55.781925Z"
    }
   },
   "outputs": [
    {
     "data": {
      "text/plain": [
       "13768"
      ]
     },
     "execution_count": 29,
     "metadata": {},
     "output_type": "execute_result"
    }
   ],
   "source": [
    "len(cluster_waveforms[9])"
   ]
  },
  {
   "cell_type": "code",
   "execution_count": 30,
   "id": "4ea67523-e312-4f5d-aeb4-79ed7e10215e",
   "metadata": {
    "execution": {
     "iopub.execute_input": "2024-07-11T19:18:55.813198Z",
     "iopub.status.busy": "2024-07-11T19:18:55.813198Z",
     "iopub.status.idle": "2024-07-11T19:18:55.844446Z",
     "shell.execute_reply": "2024-07-11T19:18:55.844446Z",
     "shell.execute_reply.started": "2024-07-11T19:18:55.813198Z"
    }
   },
   "outputs": [
    {
     "data": {
      "text/plain": [
       "40"
      ]
     },
     "execution_count": 30,
     "metadata": {},
     "output_type": "execute_result"
    }
   ],
   "source": [
    "len(cluster_waveforms[9][0])"
   ]
  },
  {
   "cell_type": "code",
   "execution_count": 31,
   "id": "a2a5dcc9-b73e-43a0-ab18-129a12ece2d3",
   "metadata": {
    "execution": {
     "iopub.execute_input": "2024-07-11T19:18:55.844446Z",
     "iopub.status.busy": "2024-07-11T19:18:55.844446Z",
     "iopub.status.idle": "2024-07-11T19:18:56.397615Z",
     "shell.execute_reply": "2024-07-11T19:18:56.395616Z",
     "shell.execute_reply.started": "2024-07-11T19:18:55.844446Z"
    }
   },
   "outputs": [
    {
     "name": "stdout",
     "output_type": "stream",
     "text": [
      "Number of excluded units due to low SNR: 1\n"
     ]
    }
   ],
   "source": [
    "def calculate_snr(waveforms):\n",
    "    # Calculate the mean waveform across all spikes in a single cluster, ignoring NaNs\n",
    "    W_bar = np.nanmean(waveforms, axis=0)\n",
    "    # Calculate the signal amplitude (max - min of the mean waveform), ignoring NaNs\n",
    "    sig_amp = np.nanmax(W_bar) - np.nanmin(W_bar)\n",
    "    # Subtract the mean waveform from each spike to get the noise\n",
    "    noise = waveforms - np.tile(W_bar, (waveforms.shape[0], 1))\n",
    "    # Calculate the signal-to-noise ratio, ignoring NaNs\n",
    "    snr = sig_amp / (2 * np.nanstd(noise.flatten()))\n",
    "    return snr\n",
    "\n",
    "# Initialize a dictionary to hold the SNR values for each cluster\n",
    "snr_dict = {}\n",
    "\n",
    "# Iterate through each unit/spike_cluster in the cluster_waveforms dictionary\n",
    "for unit, spikes in cluster_waveforms.items():\n",
    "    if spikes.ndim == 2:\n",
    "        # Calculate SNR for each cluster's waveforms\n",
    "        snr = calculate_snr(spikes)\n",
    "        # Store the SNR value in the dictionary with its corresponding unit\n",
    "        snr_dict[unit] = snr\n",
    "    else:\n",
    "        print(f\"Skipping unit {unit} due to unexpected shape: {spikes.shape}\")\n",
    "\n",
    "# Filter and retain only waveforms with SNR >= 3\n",
    "high_snr_waveforms = {unit: spikes for unit, spikes in cluster_waveforms.items() if snr_dict[unit] >= 3}\n",
    "\n",
    "# Determine the number of units excluded due to low SNR\n",
    "excluded_units = len(snr_dict) - len(high_snr_waveforms)\n",
    "\n",
    "# Print the result\n",
    "print(f\"Number of excluded units due to low SNR: {excluded_units}\")"
   ]
  },
  {
   "cell_type": "code",
   "execution_count": 32,
   "id": "d1b619f3-06ea-43b5-9f23-ccd0b8ed24af",
   "metadata": {
    "execution": {
     "iopub.execute_input": "2024-07-11T19:18:56.401612Z",
     "iopub.status.busy": "2024-07-11T19:18:56.400619Z",
     "iopub.status.idle": "2024-07-11T19:18:56.429606Z",
     "shell.execute_reply": "2024-07-11T19:18:56.427606Z",
     "shell.execute_reply.started": "2024-07-11T19:18:56.401612Z"
    }
   },
   "outputs": [
    {
     "data": {
      "text/plain": [
       "array([  0.40537423,   0.9204547 ,   1.3042495 ,   0.66315186,\n",
       "        -0.83373624,  -1.3520111 ,  -0.45797062,  -0.0220464 ,\n",
       "        -0.36910826,   0.3050875 ,   1.4935703 ,   0.8006043 ,\n",
       "        -0.44051605,   1.1329583 ,   4.469434  ,   7.3652925 ,\n",
       "        10.524259  ,  10.669554  ,   2.2784607 ,  -9.069311  ,\n",
       "       -12.297354  ,  -8.102026  ,  -4.433738  ,  -3.3412938 ,\n",
       "        -3.1506605 ,  -3.1593354 ,  -2.5206325 ,  -1.4534206 ,\n",
       "        -1.2984093 ,  -1.4807814 ,  -0.7342157 ,   0.31443456,\n",
       "         0.7896247 ,   0.92220134,   1.1487566 ,   1.8166375 ,\n",
       "         2.5917692 ,   2.269646  ,   0.89965886,   0.1729701 ],\n",
       "      dtype=float32)"
      ]
     },
     "execution_count": 32,
     "metadata": {},
     "output_type": "execute_result"
    }
   ],
   "source": [
    "high_snr_waveforms[9][0]"
   ]
  },
  {
   "cell_type": "code",
   "execution_count": 33,
   "id": "d2ca7b9d-986b-4579-b8d9-87bd578eb884",
   "metadata": {
    "execution": {
     "iopub.execute_input": "2024-07-11T19:18:56.432611Z",
     "iopub.status.busy": "2024-07-11T19:18:56.431618Z",
     "iopub.status.idle": "2024-07-11T19:18:56.459890Z",
     "shell.execute_reply": "2024-07-11T19:18:56.457893Z",
     "shell.execute_reply.started": "2024-07-11T19:18:56.432611Z"
    }
   },
   "outputs": [
    {
     "data": {
      "text/plain": [
       "<phylib.io.model.TemplateModel at 0x216f2d3d2b0>"
      ]
     },
     "execution_count": 33,
     "metadata": {},
     "output_type": "execute_result"
    }
   ],
   "source": [
    "model"
   ]
  },
  {
   "cell_type": "code",
   "execution_count": 34,
   "id": "d8d4be6f-529d-4df2-8e33-41fc06e1f869",
   "metadata": {
    "execution": {
     "iopub.execute_input": "2024-07-11T19:18:56.464902Z",
     "iopub.status.busy": "2024-07-11T19:18:56.463889Z",
     "iopub.status.idle": "2024-07-11T19:18:56.491423Z",
     "shell.execute_reply": "2024-07-11T19:18:56.489394Z",
     "shell.execute_reply.started": "2024-07-11T19:18:56.464902Z"
    }
   },
   "outputs": [
    {
     "data": {
      "text/plain": [
       "phylib.io.model.TemplateModel"
      ]
     },
     "execution_count": 34,
     "metadata": {},
     "output_type": "execute_result"
    }
   ],
   "source": [
    "type(model)"
   ]
  },
  {
   "cell_type": "code",
   "execution_count": 35,
   "id": "e1ac633b-5b75-4469-a4f9-7438432ea1a4",
   "metadata": {
    "execution": {
     "iopub.execute_input": "2024-07-11T19:18:56.495417Z",
     "iopub.status.busy": "2024-07-11T19:18:56.494422Z",
     "iopub.status.idle": "2024-07-11T19:18:56.523181Z",
     "shell.execute_reply": "2024-07-11T19:18:56.521185Z",
     "shell.execute_reply.started": "2024-07-11T19:18:56.495417Z"
    }
   },
   "outputs": [
    {
     "name": "stdout",
     "output_type": "stream",
     "text": [
      "['__class__', '__delattr__', '__dict__', '__dir__', '__doc__', '__eq__', '__format__', '__ge__', '__getattribute__', '__gt__', '__hash__', '__init__', '__init_subclass__', '__le__', '__lt__', '__module__', '__ne__', '__new__', '__reduce__', '__reduce_ex__', '__repr__', '__setattr__', '__sizeof__', '__str__', '__subclasshook__', '__weakref__', '_amplitudes', '_channels', '_compute_wmi', '_find_best_channels', '_find_path', '_get_template_dense', '_get_template_from_spikes', '_get_template_sparse', '_load_amplitudes', '_load_channel_map', '_load_channel_positions', '_load_channel_probes', '_load_channel_shanks', '_load_data', '_load_features', '_load_metadata', '_load_similar_templates', '_load_spike_attributes', '_load_spike_clusters', '_load_spike_reorder', '_load_spike_samples', '_load_spike_templates', '_load_spike_waveforms', '_load_template_features', '_load_templates', '_load_traces', '_load_wm', '_load_wmi', '_read_array', '_template_n_channels', '_unwhiten', '_waveform_durations', '_write_array', 'amplitude_threshold', 'amplitudes', 'channel_mapping', 'channel_positions', 'channel_probes', 'channel_shanks', 'close', 'cluster_ids', 'cluster_waveforms', 'clusters_amplitudes', 'clusters_channels', 'clusters_waveforms_durations', 'dat_path', 'describe', 'dir_path', 'dtype', 'duration', 'features', 'get_amplitudes_true', 'get_cluster_channels', 'get_cluster_mean_waveforms', 'get_cluster_spike_waveforms', 'get_cluster_spikes', 'get_depths', 'get_features', 'get_merge_map', 'get_template', 'get_template_channels', 'get_template_counts', 'get_template_features', 'get_template_spike_waveforms', 'get_template_spikes', 'get_template_waveforms', 'get_waveforms', 'hp_filtered', 'merge_map', 'metadata', 'n_channels', 'n_channels_dat', 'n_channels_loc', 'n_closest_channels', 'n_clusters', 'n_features_per_channel', 'n_probes', 'n_samples_waveforms', 'n_spikes', 'n_templates', 'nan_idx', 'offset', 'probes', 'sample_rate', 'save_metadata', 'save_spike_clusters', 'save_spikes_subset_waveforms', 'similar_templates', 'sparse_clusters', 'sparse_features', 'sparse_template_features', 'sparse_templates', 'spike_attributes', 'spike_clusters', 'spike_samples', 'spike_templates', 'spike_times', 'spike_times_reordered', 'spike_waveforms', 'template_features', 'template_ids', 'templates_amplitudes', 'templates_channels', 'templates_probes', 'templates_waveforms_durations', 'traces', 'wm', 'wmi']\n"
     ]
    }
   ],
   "source": [
    "print(dir(model))"
   ]
  },
  {
   "cell_type": "code",
   "execution_count": 36,
   "id": "5005236b-6e71-4beb-9da4-b4cebfb3fd92",
   "metadata": {
    "execution": {
     "iopub.execute_input": "2024-07-11T19:18:56.528180Z",
     "iopub.status.busy": "2024-07-11T19:18:56.526184Z",
     "iopub.status.idle": "2024-07-11T19:18:56.555179Z",
     "shell.execute_reply": "2024-07-11T19:18:56.553177Z",
     "shell.execute_reply.started": "2024-07-11T19:18:56.528180Z"
    }
   },
   "outputs": [
    {
     "data": {
      "text/plain": [
       "array([1.9500000e-03, 3.1000000e-03, 7.3500000e-03, ..., 3.1796972e+03,\n",
       "       3.1797020e+03, 3.1797067e+03])"
      ]
     },
     "execution_count": 36,
     "metadata": {},
     "output_type": "execute_result"
    }
   ],
   "source": [
    "model.spike_times"
   ]
  },
  {
   "cell_type": "code",
   "execution_count": 37,
   "id": "719aca4c-bf49-4040-a128-aee54d8bbd67",
   "metadata": {
    "execution": {
     "iopub.execute_input": "2024-07-11T19:18:56.560181Z",
     "iopub.status.busy": "2024-07-11T19:18:56.558189Z",
     "iopub.status.idle": "2024-07-11T19:18:56.585458Z",
     "shell.execute_reply": "2024-07-11T19:18:56.584450Z",
     "shell.execute_reply.started": "2024-07-11T19:18:56.560181Z"
    }
   },
   "outputs": [
    {
     "data": {
      "text/plain": [
       "719400"
      ]
     },
     "execution_count": 37,
     "metadata": {},
     "output_type": "execute_result"
    }
   ],
   "source": [
    "len(model.spike_times)"
   ]
  },
  {
   "cell_type": "code",
   "execution_count": 38,
   "id": "e71e32a2-ebf8-4d06-bcf0-fd7091052818",
   "metadata": {
    "execution": {
     "iopub.execute_input": "2024-07-11T19:18:56.588468Z",
     "iopub.status.busy": "2024-07-11T19:18:56.587452Z",
     "iopub.status.idle": "2024-07-11T19:18:56.616602Z",
     "shell.execute_reply": "2024-07-11T19:18:56.615192Z",
     "shell.execute_reply.started": "2024-07-11T19:18:56.588468Z"
    }
   },
   "outputs": [
    {
     "data": {
      "text/plain": [
       "719400"
      ]
     },
     "execution_count": 38,
     "metadata": {},
     "output_type": "execute_result"
    }
   ],
   "source": [
    "len(model.spike_clusters)"
   ]
  },
  {
   "cell_type": "code",
   "execution_count": 39,
   "id": "67ecf68c-e72d-4e0e-a0d0-356206ae6273",
   "metadata": {
    "execution": {
     "iopub.execute_input": "2024-07-11T19:18:56.619622Z",
     "iopub.status.busy": "2024-07-11T19:18:56.619622Z",
     "iopub.status.idle": "2024-07-11T19:18:56.648026Z",
     "shell.execute_reply": "2024-07-11T19:18:56.646020Z",
     "shell.execute_reply.started": "2024-07-11T19:18:56.619622Z"
    }
   },
   "outputs": [
    {
     "data": {
      "text/plain": [
       "array([18,  9,  7, ...,  8,  8,  3])"
      ]
     },
     "execution_count": 39,
     "metadata": {},
     "output_type": "execute_result"
    }
   ],
   "source": [
    "model.spike_clusters"
   ]
  },
  {
   "cell_type": "code",
   "execution_count": 40,
   "id": "f4a06866-13ce-4aa9-a68f-66f76021a51f",
   "metadata": {
    "execution": {
     "iopub.execute_input": "2024-07-11T19:18:56.653025Z",
     "iopub.status.busy": "2024-07-11T19:18:56.651030Z",
     "iopub.status.idle": "2024-07-11T19:18:56.679885Z",
     "shell.execute_reply": "2024-07-11T19:18:56.677885Z",
     "shell.execute_reply.started": "2024-07-11T19:18:56.653025Z"
    }
   },
   "outputs": [
    {
     "data": {
      "text/plain": [
       "0.00195"
      ]
     },
     "execution_count": 40,
     "metadata": {},
     "output_type": "execute_result"
    }
   ],
   "source": [
    "model.spike_times[0]"
   ]
  },
  {
   "cell_type": "code",
   "execution_count": 41,
   "id": "6762412e-10d3-4b6d-b5e2-5ad94b65cf06",
   "metadata": {
    "execution": {
     "iopub.execute_input": "2024-07-11T19:18:56.683175Z",
     "iopub.status.busy": "2024-07-11T19:18:56.682183Z",
     "iopub.status.idle": "2024-07-11T19:18:56.711204Z",
     "shell.execute_reply": "2024-07-11T19:18:56.708199Z",
     "shell.execute_reply.started": "2024-07-11T19:18:56.683175Z"
    }
   },
   "outputs": [
    {
     "data": {
      "text/plain": [
       "0.0031"
      ]
     },
     "execution_count": 41,
     "metadata": {},
     "output_type": "execute_result"
    }
   ],
   "source": [
    "model.spike_times[1]"
   ]
  },
  {
   "cell_type": "code",
   "execution_count": 42,
   "id": "194cdae7-7ea7-4db3-9ac5-568763f5169e",
   "metadata": {
    "execution": {
     "iopub.execute_input": "2024-07-11T19:18:56.715206Z",
     "iopub.status.busy": "2024-07-11T19:18:56.714202Z",
     "iopub.status.idle": "2024-07-11T19:18:56.773092Z",
     "shell.execute_reply": "2024-07-11T19:18:56.771077Z",
     "shell.execute_reply.started": "2024-07-11T19:18:56.715206Z"
    }
   },
   "outputs": [],
   "source": [
    "spike_times = np.load(r'.\\test1\\20240320_142408_alone_comp_subj_3-1_t6b6_merged.rec\\phy\\spike_times.npy')"
   ]
  },
  {
   "cell_type": "code",
   "execution_count": 43,
   "id": "2009a7be-5683-478f-afe5-ffaa2dc946b0",
   "metadata": {
    "execution": {
     "iopub.execute_input": "2024-07-11T19:18:56.779093Z",
     "iopub.status.busy": "2024-07-11T19:18:56.777107Z",
     "iopub.status.idle": "2024-07-11T19:18:56.804611Z",
     "shell.execute_reply": "2024-07-11T19:18:56.802618Z",
     "shell.execute_reply.started": "2024-07-11T19:18:56.779093Z"
    }
   },
   "outputs": [
    {
     "data": {
      "text/plain": [
       "array([39], dtype=int64)"
      ]
     },
     "execution_count": 43,
     "metadata": {},
     "output_type": "execute_result"
    }
   ],
   "source": [
    "spike_times[0]"
   ]
  },
  {
   "cell_type": "code",
   "execution_count": 44,
   "id": "d8ec8dac-41ca-4d64-885b-d60d895e3ef3",
   "metadata": {
    "execution": {
     "iopub.execute_input": "2024-07-11T19:18:56.810629Z",
     "iopub.status.busy": "2024-07-11T19:18:56.807637Z",
     "iopub.status.idle": "2024-07-11T19:18:56.835460Z",
     "shell.execute_reply": "2024-07-11T19:18:56.834430Z",
     "shell.execute_reply.started": "2024-07-11T19:18:56.810629Z"
    }
   },
   "outputs": [
    {
     "data": {
      "text/plain": [
       "array([62], dtype=int64)"
      ]
     },
     "execution_count": 44,
     "metadata": {},
     "output_type": "execute_result"
    }
   ],
   "source": [
    "spike_times[1]"
   ]
  },
  {
   "cell_type": "code",
   "execution_count": 45,
   "id": "029b4963-16df-4089-a103-90b29549fe1b",
   "metadata": {
    "execution": {
     "iopub.execute_input": "2024-07-11T19:18:56.838458Z",
     "iopub.status.busy": "2024-07-11T19:18:56.837456Z",
     "iopub.status.idle": "2024-07-11T19:18:56.868231Z",
     "shell.execute_reply": "2024-07-11T19:18:56.866227Z",
     "shell.execute_reply.started": "2024-07-11T19:18:56.838458Z"
    }
   },
   "outputs": [
    {
     "data": {
      "text/plain": [
       "array([ -8.934715 , -12.297354 ,  -6.8265376, ...,  -6.7597466,\n",
       "        -6.7344522,  -7.820067 ], dtype=float32)"
      ]
     },
     "execution_count": 45,
     "metadata": {},
     "output_type": "execute_result"
    }
   ],
   "source": [
    "model.amplitudes"
   ]
  },
  {
   "cell_type": "code",
   "execution_count": 46,
   "id": "1493154b-e4b3-4a5d-aaec-78659560b03a",
   "metadata": {
    "execution": {
     "iopub.execute_input": "2024-07-11T19:18:56.871233Z",
     "iopub.status.busy": "2024-07-11T19:18:56.870230Z",
     "iopub.status.idle": "2024-07-11T19:18:56.899561Z",
     "shell.execute_reply": "2024-07-11T19:18:56.897555Z",
     "shell.execute_reply.started": "2024-07-11T19:18:56.871233Z"
    }
   },
   "outputs": [
    {
     "data": {
      "text/plain": [
       "719400"
      ]
     },
     "execution_count": 46,
     "metadata": {},
     "output_type": "execute_result"
    }
   ],
   "source": [
    "len(model.amplitudes)"
   ]
  },
  {
   "cell_type": "code",
   "execution_count": 47,
   "id": "98955021-87d0-464f-93e1-33be72913db3",
   "metadata": {
    "execution": {
     "iopub.execute_input": "2024-07-11T19:18:56.903554Z",
     "iopub.status.busy": "2024-07-11T19:18:56.902555Z",
     "iopub.status.idle": "2024-07-11T19:18:56.931875Z",
     "shell.execute_reply": "2024-07-11T19:18:56.928879Z",
     "shell.execute_reply.started": "2024-07-11T19:18:56.903554Z"
    }
   },
   "outputs": [
    {
     "data": {
      "text/plain": [
       "array([  1,   2,   3,   4,   7,   8,   9,  12,  13,  18,  19,  20,  21,\n",
       "        93, 104, 115, 117, 123, 127, 143, 144, 147, 148, 149, 150, 154,\n",
       "       171, 189, 190, 193, 194, 195])"
      ]
     },
     "execution_count": 47,
     "metadata": {},
     "output_type": "execute_result"
    }
   ],
   "source": [
    "model.cluster_ids"
   ]
  },
  {
   "cell_type": "code",
   "execution_count": 48,
   "id": "89b61400-615e-4cb7-993d-539ca45c214c",
   "metadata": {
    "execution": {
     "iopub.execute_input": "2024-07-11T19:18:56.934888Z",
     "iopub.status.busy": "2024-07-11T19:18:56.933886Z",
     "iopub.status.idle": "2024-07-11T19:18:56.962877Z",
     "shell.execute_reply": "2024-07-11T19:18:56.960881Z",
     "shell.execute_reply.started": "2024-07-11T19:18:56.934888Z"
    }
   },
   "outputs": [
    {
     "data": {
      "text/plain": [
       "array([16, 18,  6, 17, 11,  7,  9, 25, 14, 29,  8, 15, 21, 22, 26, 20, 12,\n",
       "       23, 27,  3, 24, 30, 13, 19,  2, 31,  4,  1,  0, 28, 10,  5],\n",
       "      dtype=uint32)"
      ]
     },
     "execution_count": 48,
     "metadata": {},
     "output_type": "execute_result"
    }
   ],
   "source": [
    "model.get_cluster_channels(9)"
   ]
  },
  {
   "cell_type": "code",
   "execution_count": 49,
   "id": "810fed20-14dd-4b06-819a-ba809c03fedd",
   "metadata": {
    "execution": {
     "iopub.execute_input": "2024-07-11T19:18:56.966892Z",
     "iopub.status.busy": "2024-07-11T19:18:56.965897Z",
     "iopub.status.idle": "2024-07-11T19:18:56.994557Z",
     "shell.execute_reply": "2024-07-11T19:18:56.992556Z",
     "shell.execute_reply.started": "2024-07-11T19:18:56.966892Z"
    }
   },
   "outputs": [
    {
     "data": {
      "text/plain": [
       "array([ 6, 18, 16, 17, 11,  7,  9, 14, 13, 25, 22,  8, 26, 15,  2, 29, 12,\n",
       "       30, 20, 23, 24, 27, 21,  3, 19, 28,  0, 31,  4,  5,  1, 10],\n",
       "      dtype=uint32)"
      ]
     },
     "execution_count": 49,
     "metadata": {},
     "output_type": "execute_result"
    }
   ],
   "source": [
    "model.get_cluster_channels(190)"
   ]
  },
  {
   "cell_type": "code",
   "execution_count": 50,
   "id": "26b2894d-62c2-4451-8d9c-657b8d9e37ca",
   "metadata": {
    "execution": {
     "iopub.execute_input": "2024-07-11T19:18:56.997560Z",
     "iopub.status.busy": "2024-07-11T19:18:56.997560Z",
     "iopub.status.idle": "2024-07-11T19:18:57.027027Z",
     "shell.execute_reply": "2024-07-11T19:18:57.024001Z",
     "shell.execute_reply.started": "2024-07-11T19:18:56.997560Z"
    }
   },
   "outputs": [
    {
     "data": {
      "text/plain": [
       "array([ 0.6 ,  0.7 ,  0.15,  0.7 , -0.15,  0.6 , -0.15,  0.65,  0.2 ,\n",
       "       -0.15,  0.6 , -0.15,  0.75,  0.7 , -0.15,  0.7 , -0.15,  0.7 ,\n",
       "        0.25,  0.8 ,  0.8 , -0.15])"
      ]
     },
     "execution_count": 50,
     "metadata": {},
     "output_type": "execute_result"
    }
   ],
   "source": [
    "model.clusters_waveforms_durations"
   ]
  },
  {
   "cell_type": "code",
   "execution_count": 51,
   "id": "c166e919-506e-4221-bdae-29c4cefc4870",
   "metadata": {
    "execution": {
     "iopub.execute_input": "2024-07-11T19:18:57.032017Z",
     "iopub.status.busy": "2024-07-11T19:18:57.031018Z",
     "iopub.status.idle": "2024-07-11T19:18:57.058749Z",
     "shell.execute_reply": "2024-07-11T19:18:57.055716Z",
     "shell.execute_reply.started": "2024-07-11T19:18:57.032017Z"
    }
   },
   "outputs": [
    {
     "data": {
      "text/plain": [
       "array([[1., 0., 0., ..., 0., 0., 0.],\n",
       "       [0., 1., 0., ..., 0., 0., 0.],\n",
       "       [0., 0., 1., ..., 0., 0., 0.],\n",
       "       ...,\n",
       "       [0., 0., 0., ..., 1., 0., 0.],\n",
       "       [0., 0., 0., ..., 0., 1., 0.],\n",
       "       [0., 0., 0., ..., 0., 0., 1.]])"
      ]
     },
     "execution_count": 51,
     "metadata": {},
     "output_type": "execute_result"
    }
   ],
   "source": [
    "model.wm"
   ]
  },
  {
   "cell_type": "code",
   "execution_count": 52,
   "id": "127ae337-f401-41ed-bbf1-ff43c572eb06",
   "metadata": {
    "execution": {
     "iopub.execute_input": "2024-07-11T19:18:57.062750Z",
     "iopub.status.busy": "2024-07-11T19:18:57.060750Z",
     "iopub.status.idle": "2024-07-11T19:18:57.089335Z",
     "shell.execute_reply": "2024-07-11T19:18:57.087335Z",
     "shell.execute_reply.started": "2024-07-11T19:18:57.062750Z"
    }
   },
   "outputs": [
    {
     "data": {
      "text/plain": [
       "32"
      ]
     },
     "execution_count": 52,
     "metadata": {},
     "output_type": "execute_result"
    }
   ],
   "source": [
    "len(model.wm)"
   ]
  },
  {
   "cell_type": "code",
   "execution_count": 53,
   "id": "577a2a1e-849f-4853-b28c-e72e9cec306b",
   "metadata": {
    "execution": {
     "iopub.execute_input": "2024-07-11T19:18:57.093342Z",
     "iopub.status.busy": "2024-07-11T19:18:57.092342Z",
     "iopub.status.idle": "2024-07-11T19:18:57.119868Z",
     "shell.execute_reply": "2024-07-11T19:18:57.117831Z",
     "shell.execute_reply.started": "2024-07-11T19:18:57.093342Z"
    }
   },
   "outputs": [
    {
     "data": {
      "text/plain": [
       "32"
      ]
     },
     "execution_count": 53,
     "metadata": {},
     "output_type": "execute_result"
    }
   ],
   "source": [
    "len(model.wm[0])"
   ]
  },
  {
   "cell_type": "code",
   "execution_count": 54,
   "id": "30d078e3-e411-4683-979b-febb9e7b0efe",
   "metadata": {
    "execution": {
     "iopub.execute_input": "2024-07-11T19:18:57.121875Z",
     "iopub.status.busy": "2024-07-11T19:18:57.120873Z",
     "iopub.status.idle": "2024-07-11T19:18:57.150624Z",
     "shell.execute_reply": "2024-07-11T19:18:57.149592Z",
     "shell.execute_reply.started": "2024-07-11T19:18:57.121875Z"
    }
   },
   "outputs": [
    {
     "data": {
      "text/plain": [
       "array([[1., 0., 0., ..., 0., 0., 0.],\n",
       "       [0., 1., 0., ..., 0., 0., 0.],\n",
       "       [0., 0., 1., ..., 0., 0., 0.],\n",
       "       ...,\n",
       "       [0., 0., 0., ..., 1., 0., 0.],\n",
       "       [0., 0., 0., ..., 0., 1., 0.],\n",
       "       [0., 0., 0., ..., 0., 0., 1.]])"
      ]
     },
     "execution_count": 54,
     "metadata": {},
     "output_type": "execute_result"
    }
   ],
   "source": [
    "model.wmi"
   ]
  },
  {
   "cell_type": "markdown",
   "id": "b211d65b-82fa-49c2-915b-12beef528a60",
   "metadata": {
    "execution": {
     "iopub.execute_input": "2024-07-08T15:33:01.568870Z",
     "iopub.status.busy": "2024-07-08T15:33:01.568870Z",
     "iopub.status.idle": "2024-07-08T15:33:01.618771Z",
     "shell.execute_reply": "2024-07-08T15:33:01.615755Z",
     "shell.execute_reply.started": "2024-07-08T15:33:01.568870Z"
    }
   },
   "source": [
    "need:\\\n",
    "    the previous step needs to clusters/waveforms identifiable by original #\\\n",
    "    `spike_train` for each unit\\\n",
    "    `duration` is the max - min spiketrain, but needs to be in seconds I think?"
   ]
  },
  {
   "cell_type": "code",
   "execution_count": 59,
   "id": "e7f12779-9205-4bf7-86f7-4d2036aa3e96",
   "metadata": {
    "execution": {
     "iopub.execute_input": "2024-07-11T19:20:45.859482Z",
     "iopub.status.busy": "2024-07-11T19:20:45.859482Z",
     "iopub.status.idle": "2024-07-11T19:20:45.890737Z",
     "shell.execute_reply": "2024-07-11T19:20:45.890737Z",
     "shell.execute_reply.started": "2024-07-11T19:20:45.859482Z"
    }
   },
   "outputs": [
    {
     "data": {
      "text/plain": [
       "array([1.9500000e-03, 3.1000000e-03, 7.3500000e-03, ..., 3.1796972e+03,\n",
       "       3.1797020e+03, 3.1797067e+03])"
      ]
     },
     "execution_count": 59,
     "metadata": {},
     "output_type": "execute_result"
    }
   ],
   "source": [
    "model.spike_times"
   ]
  },
  {
   "cell_type": "code",
   "execution_count": 60,
   "id": "835b1d94-9b0d-4f2f-982a-e315d3770f1c",
   "metadata": {
    "execution": {
     "iopub.execute_input": "2024-07-11T19:20:46.675899Z",
     "iopub.status.busy": "2024-07-11T19:20:46.674897Z",
     "iopub.status.idle": "2024-07-11T19:20:46.703454Z",
     "shell.execute_reply": "2024-07-11T19:20:46.701442Z",
     "shell.execute_reply.started": "2024-07-11T19:20:46.675899Z"
    }
   },
   "outputs": [
    {
     "data": {
      "text/plain": [
       "array([18,  9,  7, ...,  8,  8,  3])"
      ]
     },
     "execution_count": 60,
     "metadata": {},
     "output_type": "execute_result"
    }
   ],
   "source": [
    "model.spike_clusters"
   ]
  },
  {
   "cell_type": "code",
   "execution_count": 61,
   "id": "14563056-62f0-4dfe-acce-3d2256976fd1",
   "metadata": {
    "execution": {
     "iopub.execute_input": "2024-07-11T19:20:47.389886Z",
     "iopub.status.busy": "2024-07-11T19:20:47.388886Z",
     "iopub.status.idle": "2024-07-11T19:20:47.419419Z",
     "shell.execute_reply": "2024-07-11T19:20:47.416424Z",
     "shell.execute_reply.started": "2024-07-11T19:20:47.389886Z"
    }
   },
   "outputs": [
    {
     "data": {
      "text/plain": [
       "0.00195"
      ]
     },
     "execution_count": 61,
     "metadata": {},
     "output_type": "execute_result"
    }
   ],
   "source": [
    "model.spike_times[0]"
   ]
  },
  {
   "cell_type": "raw",
   "id": "fddfa034-8c17-4b95-ae2b-14252b66ff05",
   "metadata": {
    "execution": {
     "iopub.execute_input": "2024-07-11T19:20:34.390178Z",
     "iopub.status.busy": "2024-07-11T19:20:34.389178Z",
     "iopub.status.idle": "2024-07-11T19:20:34.979498Z",
     "shell.execute_reply": "2024-07-11T19:20:34.977500Z",
     "shell.execute_reply.started": "2024-07-11T19:20:34.389178Z"
    }
   },
   "source": [
    "## This code doesn't work:\n",
    "\n",
    "isi_threshold = 0.0015 #The minimum duration of a spike, in seconds\n",
    "\n",
    "duration = np.max(spike_train) - np.min(spike_train)\n",
    "\n",
    "firing_rate = spike_train.size / duration\n",
    "\n",
    "isis = np.diff(spike_train)\n",
    "\n",
    "num_spikes = size(spike_train)\n",
    "\n",
    "num_violations = np.sum(isis < isi_threshold)\n",
    "\n",
    "violation_time = 2*num_spikes*isi_threshold\n",
    "\n",
    "violation_rate = num_violations/violation_time\n",
    "\n",
    "isi_violation_percentage = violation_rate/firing_rate*100"
   ]
  },
  {
   "cell_type": "code",
   "execution_count": 62,
   "id": "21eca640-d904-4f03-a8b0-3a662a73423a",
   "metadata": {
    "execution": {
     "iopub.execute_input": "2024-07-11T19:21:56.347884Z",
     "iopub.status.busy": "2024-07-11T19:21:56.346881Z",
     "iopub.status.idle": "2024-07-11T19:21:56.369329Z",
     "shell.execute_reply": "2024-07-11T19:21:56.367323Z",
     "shell.execute_reply.started": "2024-07-11T19:21:56.347884Z"
    }
   },
   "outputs": [
    {
     "data": {
      "text/plain": [
       "array([[      39],\n",
       "       [      62],\n",
       "       [     147],\n",
       "       ...,\n",
       "       [63593944],\n",
       "       [63594040],\n",
       "       [63594134]], dtype=int64)"
      ]
     },
     "execution_count": 62,
     "metadata": {},
     "output_type": "execute_result"
    }
   ],
   "source": [
    "spike_times"
   ]
  },
  {
   "cell_type": "code",
   "execution_count": 63,
   "id": "154c21c4-72c1-42e5-9f5a-275ff533a4ef",
   "metadata": {
    "execution": {
     "iopub.execute_input": "2024-07-11T19:22:51.650850Z",
     "iopub.status.busy": "2024-07-11T19:22:51.649858Z",
     "iopub.status.idle": "2024-07-11T19:22:51.677852Z",
     "shell.execute_reply": "2024-07-11T19:22:51.676843Z",
     "shell.execute_reply.started": "2024-07-11T19:22:51.650850Z"
    }
   },
   "outputs": [],
   "source": [
    "spike_clusters = np.load(r'.\\test1\\20240320_142408_alone_comp_subj_3-1_t6b6_merged.rec\\phy\\spike_clusters.npy')"
   ]
  },
  {
   "cell_type": "code",
   "execution_count": 64,
   "id": "a231c18d-246c-4884-8a5f-5887e6ec7751",
   "metadata": {
    "execution": {
     "iopub.execute_input": "2024-07-11T19:23:00.143088Z",
     "iopub.status.busy": "2024-07-11T19:23:00.143088Z",
     "iopub.status.idle": "2024-07-11T19:23:00.174343Z",
     "shell.execute_reply": "2024-07-11T19:23:00.174343Z",
     "shell.execute_reply.started": "2024-07-11T19:23:00.143088Z"
    }
   },
   "outputs": [
    {
     "data": {
      "text/plain": [
       "array([18,  9,  7, ...,  8,  8,  3])"
      ]
     },
     "execution_count": 64,
     "metadata": {},
     "output_type": "execute_result"
    }
   ],
   "source": [
    "spike_clusters"
   ]
  },
  {
   "cell_type": "code",
   "execution_count": 65,
   "id": "ec29724c-e93c-4f50-9056-9779d63d1584",
   "metadata": {
    "execution": {
     "iopub.execute_input": "2024-07-11T19:23:06.204213Z",
     "iopub.status.busy": "2024-07-11T19:23:06.204213Z",
     "iopub.status.idle": "2024-07-11T19:23:06.237670Z",
     "shell.execute_reply": "2024-07-11T19:23:06.235671Z",
     "shell.execute_reply.started": "2024-07-11T19:23:06.204213Z"
    }
   },
   "outputs": [
    {
     "data": {
      "text/plain": [
       "719400"
      ]
     },
     "execution_count": 65,
     "metadata": {},
     "output_type": "execute_result"
    }
   ],
   "source": [
    "len(spike_times)"
   ]
  },
  {
   "cell_type": "code",
   "execution_count": 66,
   "id": "6e6a5536-d50a-48ea-835f-e6c64fb8cc91",
   "metadata": {
    "execution": {
     "iopub.execute_input": "2024-07-11T19:23:11.739195Z",
     "iopub.status.busy": "2024-07-11T19:23:11.739195Z",
     "iopub.status.idle": "2024-07-11T19:23:11.760191Z",
     "shell.execute_reply": "2024-07-11T19:23:11.758191Z",
     "shell.execute_reply.started": "2024-07-11T19:23:11.739195Z"
    }
   },
   "outputs": [
    {
     "data": {
      "text/plain": [
       "719400"
      ]
     },
     "execution_count": 66,
     "metadata": {},
     "output_type": "execute_result"
    }
   ],
   "source": [
    "len(spike_clusters)"
   ]
  },
  {
   "cell_type": "code",
   "execution_count": 69,
   "id": "97d19e3e-f71b-47a8-8564-7cfa73da90e4",
   "metadata": {
    "execution": {
     "iopub.execute_input": "2024-07-11T19:24:28.789013Z",
     "iopub.status.busy": "2024-07-11T19:24:28.788012Z",
     "iopub.status.idle": "2024-07-11T19:24:28.811550Z",
     "shell.execute_reply": "2024-07-11T19:24:28.809552Z",
     "shell.execute_reply.started": "2024-07-11T19:24:28.789013Z"
    }
   },
   "outputs": [],
   "source": [
    "end_time = int(spike_times[-1])"
   ]
  },
  {
   "cell_type": "code",
   "execution_count": 70,
   "id": "a6aebe42-8e55-4735-840e-3e8693d876cc",
   "metadata": {
    "execution": {
     "iopub.execute_input": "2024-07-11T19:24:30.174038Z",
     "iopub.status.busy": "2024-07-11T19:24:30.174038Z",
     "iopub.status.idle": "2024-07-11T19:24:30.201046Z",
     "shell.execute_reply": "2024-07-11T19:24:30.199052Z",
     "shell.execute_reply.started": "2024-07-11T19:24:30.174038Z"
    }
   },
   "outputs": [
    {
     "data": {
      "text/plain": [
       "63594134"
      ]
     },
     "execution_count": 70,
     "metadata": {},
     "output_type": "execute_result"
    }
   ],
   "source": [
    "end_time"
   ]
  },
  {
   "cell_type": "code",
   "execution_count": 71,
   "id": "1fb4427b-632b-42c9-8b7c-2d19bbf58f33",
   "metadata": {
    "execution": {
     "iopub.execute_input": "2024-07-11T19:28:48.998431Z",
     "iopub.status.busy": "2024-07-11T19:28:48.997442Z",
     "iopub.status.idle": "2024-07-11T19:28:49.113215Z",
     "shell.execute_reply": "2024-07-11T19:28:49.111193Z",
     "shell.execute_reply.started": "2024-07-11T19:28:48.998431Z"
    }
   },
   "outputs": [],
   "source": [
    "# Initialize an empty dictionary to hold the spike times for each cluster\n",
    "cluster_spike_times = {}\n",
    "\n",
    "# Iterate through each unique cluster ID\n",
    "for cluster_id in np.unique(spike_clusters):\n",
    "    # Get the indices of the spikes that belong to the current cluster\n",
    "    cluster_indices = np.where(spike_clusters == cluster_id)[0]\n",
    "    # Get the spike times for these indices\n",
    "    cluster_spike_times[cluster_id] = spike_times[cluster_indices]"
   ]
  },
  {
   "cell_type": "code",
   "execution_count": null,
   "id": "824418f1-76b9-4a42-b350-4eef1a6f2e63",
   "metadata": {},
   "outputs": [],
   "source": []
  }
 ],
 "metadata": {
  "kernelspec": {
   "display_name": "WaveMAP",
   "language": "python",
   "name": "wavemap"
  },
  "language_info": {
   "codemirror_mode": {
    "name": "ipython",
    "version": 3
   },
   "file_extension": ".py",
   "mimetype": "text/x-python",
   "name": "python",
   "nbconvert_exporter": "python",
   "pygments_lexer": "ipython3",
   "version": "3.8.18"
  }
 },
 "nbformat": 4,
 "nbformat_minor": 5
}
